{
  "cells": [
    {
      "cell_type": "code",
      "source": [
        "!pip install transformers datasets"
      ],
      "metadata": {
        "id": "4uo9oguBoSMP",
        "outputId": "2998effb-56b7-498d-9032-8c5f4e9281d9",
        "colab": {
          "base_uri": "https://localhost:8080/"
        }
      },
      "id": "4uo9oguBoSMP",
      "execution_count": 2,
      "outputs": [
        {
          "output_type": "stream",
          "name": "stdout",
          "text": [
            "Looking in indexes: https://pypi.org/simple, https://us-python.pkg.dev/colab-wheels/public/simple/\n",
            "Requirement already satisfied: transformers in /usr/local/lib/python3.7/dist-packages (4.21.1)\n",
            "Requirement already satisfied: datasets in /usr/local/lib/python3.7/dist-packages (2.4.0)\n",
            "Requirement already satisfied: filelock in /usr/local/lib/python3.7/dist-packages (from transformers) (3.7.1)\n",
            "Requirement already satisfied: packaging>=20.0 in /usr/local/lib/python3.7/dist-packages (from transformers) (21.3)\n",
            "Requirement already satisfied: regex!=2019.12.17 in /usr/local/lib/python3.7/dist-packages (from transformers) (2022.6.2)\n",
            "Requirement already satisfied: importlib-metadata in /usr/local/lib/python3.7/dist-packages (from transformers) (4.12.0)\n",
            "Requirement already satisfied: numpy>=1.17 in /usr/local/lib/python3.7/dist-packages (from transformers) (1.21.6)\n",
            "Requirement already satisfied: requests in /usr/local/lib/python3.7/dist-packages (from transformers) (2.23.0)\n",
            "Requirement already satisfied: tokenizers!=0.11.3,<0.13,>=0.11.1 in /usr/local/lib/python3.7/dist-packages (from transformers) (0.12.1)\n",
            "Requirement already satisfied: tqdm>=4.27 in /usr/local/lib/python3.7/dist-packages (from transformers) (4.64.0)\n",
            "Requirement already satisfied: pyyaml>=5.1 in /usr/local/lib/python3.7/dist-packages (from transformers) (6.0)\n",
            "Requirement already satisfied: huggingface-hub<1.0,>=0.1.0 in /usr/local/lib/python3.7/dist-packages (from transformers) (0.8.1)\n",
            "Requirement already satisfied: typing-extensions>=3.7.4.3 in /usr/local/lib/python3.7/dist-packages (from huggingface-hub<1.0,>=0.1.0->transformers) (4.1.1)\n",
            "Requirement already satisfied: pyparsing!=3.0.5,>=2.0.2 in /usr/local/lib/python3.7/dist-packages (from packaging>=20.0->transformers) (3.0.9)\n",
            "Requirement already satisfied: pyarrow>=6.0.0 in /usr/local/lib/python3.7/dist-packages (from datasets) (6.0.1)\n",
            "Requirement already satisfied: xxhash in /usr/local/lib/python3.7/dist-packages (from datasets) (3.0.0)\n",
            "Requirement already satisfied: fsspec[http]>=2021.11.1 in /usr/local/lib/python3.7/dist-packages (from datasets) (2022.7.1)\n",
            "Requirement already satisfied: responses<0.19 in /usr/local/lib/python3.7/dist-packages (from datasets) (0.18.0)\n",
            "Requirement already satisfied: pandas in /usr/local/lib/python3.7/dist-packages (from datasets) (1.3.5)\n",
            "Requirement already satisfied: dill<0.3.6 in /usr/local/lib/python3.7/dist-packages (from datasets) (0.3.5.1)\n",
            "Requirement already satisfied: aiohttp in /usr/local/lib/python3.7/dist-packages (from datasets) (3.8.1)\n",
            "Requirement already satisfied: multiprocess in /usr/local/lib/python3.7/dist-packages (from datasets) (0.70.13)\n",
            "Requirement already satisfied: certifi>=2017.4.17 in /usr/local/lib/python3.7/dist-packages (from requests->transformers) (2022.6.15)\n",
            "Requirement already satisfied: urllib3!=1.25.0,!=1.25.1,<1.26,>=1.21.1 in /usr/local/lib/python3.7/dist-packages (from requests->transformers) (1.25.11)\n",
            "Requirement already satisfied: idna<3,>=2.5 in /usr/local/lib/python3.7/dist-packages (from requests->transformers) (2.10)\n",
            "Requirement already satisfied: chardet<4,>=3.0.2 in /usr/local/lib/python3.7/dist-packages (from requests->transformers) (3.0.4)\n",
            "Requirement already satisfied: charset-normalizer<3.0,>=2.0 in /usr/local/lib/python3.7/dist-packages (from aiohttp->datasets) (2.1.0)\n",
            "Requirement already satisfied: yarl<2.0,>=1.0 in /usr/local/lib/python3.7/dist-packages (from aiohttp->datasets) (1.8.1)\n",
            "Requirement already satisfied: aiosignal>=1.1.2 in /usr/local/lib/python3.7/dist-packages (from aiohttp->datasets) (1.2.0)\n",
            "Requirement already satisfied: async-timeout<5.0,>=4.0.0a3 in /usr/local/lib/python3.7/dist-packages (from aiohttp->datasets) (4.0.2)\n",
            "Requirement already satisfied: multidict<7.0,>=4.5 in /usr/local/lib/python3.7/dist-packages (from aiohttp->datasets) (6.0.2)\n",
            "Requirement already satisfied: asynctest==0.13.0 in /usr/local/lib/python3.7/dist-packages (from aiohttp->datasets) (0.13.0)\n",
            "Requirement already satisfied: frozenlist>=1.1.1 in /usr/local/lib/python3.7/dist-packages (from aiohttp->datasets) (1.3.0)\n",
            "Requirement already satisfied: attrs>=17.3.0 in /usr/local/lib/python3.7/dist-packages (from aiohttp->datasets) (22.1.0)\n",
            "Requirement already satisfied: zipp>=0.5 in /usr/local/lib/python3.7/dist-packages (from importlib-metadata->transformers) (3.8.1)\n",
            "Requirement already satisfied: pytz>=2017.3 in /usr/local/lib/python3.7/dist-packages (from pandas->datasets) (2022.1)\n",
            "Requirement already satisfied: python-dateutil>=2.7.3 in /usr/local/lib/python3.7/dist-packages (from pandas->datasets) (2.8.2)\n",
            "Requirement already satisfied: six>=1.5 in /usr/local/lib/python3.7/dist-packages (from python-dateutil>=2.7.3->pandas->datasets) (1.15.0)\n"
          ]
        }
      ]
    },
    {
      "cell_type": "code",
      "source": [
        "from google.colab import drive\n",
        "drive.mount('/content/drive')"
      ],
      "metadata": {
        "id": "EIrJ6lw6oB5-",
        "outputId": "77c77960-f90b-44e9-c357-7cd2dd54bb37",
        "colab": {
          "base_uri": "https://localhost:8080/"
        }
      },
      "id": "EIrJ6lw6oB5-",
      "execution_count": 3,
      "outputs": [
        {
          "output_type": "stream",
          "name": "stdout",
          "text": [
            "Drive already mounted at /content/drive; to attempt to forcibly remount, call drive.mount(\"/content/drive\", force_remount=True).\n"
          ]
        }
      ]
    },
    {
      "cell_type": "code",
      "source": [
        "import os\n",
        "os.chdir(\"/content/drive/MyDrive/Openclassrooms/AI_P7\")\n",
        "os.getcwd()"
      ],
      "metadata": {
        "id": "9k3kzYtYofhl",
        "outputId": "6d3cc92d-c51d-4e98-f3c3-7c4fe1a19133",
        "colab": {
          "base_uri": "https://localhost:8080/",
          "height": 35
        }
      },
      "id": "9k3kzYtYofhl",
      "execution_count": 4,
      "outputs": [
        {
          "output_type": "execute_result",
          "data": {
            "text/plain": [
              "'/content/drive/MyDrive/Openclassrooms/AI_P7'"
            ],
            "application/vnd.google.colaboratory.intrinsic+json": {
              "type": "string"
            }
          },
          "metadata": {},
          "execution_count": 4
        }
      ]
    },
    {
      "cell_type": "code",
      "execution_count": 5,
      "id": "075244a7-1459-4c89-8d3a-ef6b76941c19",
      "metadata": {
        "id": "075244a7-1459-4c89-8d3a-ef6b76941c19"
      },
      "outputs": [],
      "source": [
        "import time\n",
        "import pathlib \n",
        "\n",
        "import pandas as pd\n",
        "\n",
        "from sklearn.model_selection import train_test_split\n",
        "\n",
        "from transformers import TFAutoModelForSequenceClassification, AutoTokenizer, pipeline\n",
        "from datasets import Dataset, load_dataset\n",
        "\n",
        "import tensorflow as tf\n",
        "\n",
        "random_seed = 0"
      ]
    },
    {
      "cell_type": "code",
      "source": [
        "print(\"Num GPUs Available: \", len(tf.config.list_physical_devices('GPU')))"
      ],
      "metadata": {
        "id": "BbqH05wWonLK",
        "outputId": "0cb3de6b-a6b1-4624-b22d-1f0286e4b3b5",
        "colab": {
          "base_uri": "https://localhost:8080/"
        }
      },
      "id": "BbqH05wWonLK",
      "execution_count": 6,
      "outputs": [
        {
          "output_type": "stream",
          "name": "stdout",
          "text": [
            "Num GPUs Available:  1\n"
          ]
        }
      ]
    },
    {
      "cell_type": "code",
      "execution_count": 7,
      "id": "3f485fde-99b5-4060-a080-b690d4b65c61",
      "metadata": {
        "id": "3f485fde-99b5-4060-a080-b690d4b65c61"
      },
      "outputs": [],
      "source": [
        "model_name = \"nlptown/bert-base-multilingual-uncased-sentiment\" # 5 labels\n",
        "model_name = \"cardiffnlp/twitter-roberta-base-sentiment-latest\" # 3 labels mais fait pour\n",
        "model_name = \"distilbert-base-uncased-finetuned-sst-2-english\" # 2 labels\n",
        "# finiteautomata/bertweet-base-sentiment-analysis ??\n",
        "# \"distilbert-base-uncased\" --> fine-tuning"
      ]
    },
    {
      "cell_type": "markdown",
      "id": "89194639-29e0-4e24-a1c3-f1521e1f4a9d",
      "metadata": {
        "id": "89194639-29e0-4e24-a1c3-f1521e1f4a9d"
      },
      "source": [
        "Un **transformer** est un modèle qui utilise l'attention pour augmenter la vitesse à laquelle il peut être entrainé."
      ]
    },
    {
      "cell_type": "markdown",
      "id": "aab3d3e0-3a6a-40ba-9386-c469e935a6a7",
      "metadata": {
        "id": "aab3d3e0-3a6a-40ba-9386-c469e935a6a7"
      },
      "source": [
        "# 1 - pipeline"
      ]
    },
    {
      "cell_type": "code",
      "execution_count": 8,
      "id": "fa086465-b1a8-496b-8f41-9fb79110b205",
      "metadata": {
        "id": "fa086465-b1a8-496b-8f41-9fb79110b205"
      },
      "outputs": [],
      "source": [
        "sentiment_pipeline = pipeline(\"sentiment-analysis\", top_k=10, model=model_name)"
      ]
    },
    {
      "cell_type": "code",
      "execution_count": 9,
      "id": "a7e2c616-b870-41bd-b31f-d41732e16254",
      "metadata": {
        "id": "a7e2c616-b870-41bd-b31f-d41732e16254"
      },
      "outputs": [],
      "source": [
        "data = [\"I really love it\", \"I really hate it\"]"
      ]
    },
    {
      "cell_type": "code",
      "execution_count": 10,
      "id": "ec7939c0-78e0-4375-9064-fec394edafeb",
      "metadata": {
        "id": "ec7939c0-78e0-4375-9064-fec394edafeb",
        "outputId": "6bec67a5-cf5c-4977-a5fb-f109b9e84e23",
        "colab": {
          "base_uri": "https://localhost:8080/"
        }
      },
      "outputs": [
        {
          "output_type": "execute_result",
          "data": {
            "text/plain": [
              "[[{'label': 'POSITIVE', 'score': 0.9998788833618164},\n",
              "  {'label': 'NEGATIVE', 'score': 0.00012104465713491663}],\n",
              " [{'label': 'NEGATIVE', 'score': 0.9996116757392883},\n",
              "  {'label': 'POSITIVE', 'score': 0.0003883192257490009}]]"
            ]
          },
          "metadata": {},
          "execution_count": 10
        }
      ],
      "source": [
        "sentiment_pipeline(data)"
      ]
    },
    {
      "cell_type": "code",
      "execution_count": 10,
      "id": "6f516005-eb3a-4d84-8b22-2b92c8dd387a",
      "metadata": {
        "id": "6f516005-eb3a-4d84-8b22-2b92c8dd387a"
      },
      "outputs": [],
      "source": [
        ""
      ]
    },
    {
      "cell_type": "markdown",
      "id": "fe02358f-4686-461e-bba1-a0520962dd6c",
      "metadata": {
        "id": "fe02358f-4686-461e-bba1-a0520962dd6c"
      },
      "source": [
        "# 2 - AutoModel & AutoTokenizer"
      ]
    },
    {
      "cell_type": "code",
      "execution_count": 11,
      "id": "a4a129da-bc64-4c88-b4c3-e1e99edd2ae9",
      "metadata": {
        "id": "a4a129da-bc64-4c88-b4c3-e1e99edd2ae9",
        "outputId": "4ef33c3e-2bdb-4d7f-c7d7-d368cdb078a5",
        "colab": {
          "base_uri": "https://localhost:8080/"
        }
      },
      "outputs": [
        {
          "output_type": "stream",
          "name": "stderr",
          "text": [
            "All model checkpoint layers were used when initializing TFDistilBertForSequenceClassification.\n",
            "\n",
            "All the layers of TFDistilBertForSequenceClassification were initialized from the model checkpoint at distilbert-base-uncased-finetuned-sst-2-english.\n",
            "If your task is similar to the task the model of the checkpoint was trained on, you can already use TFDistilBertForSequenceClassification for predictions without further training.\n"
          ]
        }
      ],
      "source": [
        "tf_model = TFAutoModelForSequenceClassification.from_pretrained(model_name)\n",
        "tokenizer = AutoTokenizer.from_pretrained(model_name)"
      ]
    },
    {
      "cell_type": "code",
      "execution_count": 12,
      "id": "02a37e38-bf56-4a76-82d2-58a0ca33b76a",
      "metadata": {
        "id": "02a37e38-bf56-4a76-82d2-58a0ca33b76a"
      },
      "outputs": [],
      "source": [
        "data = tokenizer([\"I really hate it\", \"I really love it\"], \n",
        "          truncation=True, padding=True, return_tensors=\"tf\")"
      ]
    },
    {
      "cell_type": "code",
      "execution_count": 13,
      "id": "497a017a-1e5c-4675-a599-4cc6e3f48221",
      "metadata": {
        "id": "497a017a-1e5c-4675-a599-4cc6e3f48221",
        "outputId": "8ac0c662-ebfb-43d9-9b7a-a346afe788cb",
        "colab": {
          "base_uri": "https://localhost:8080/"
        }
      },
      "outputs": [
        {
          "output_type": "execute_result",
          "data": {
            "text/plain": [
              "{'input_ids': <tf.Tensor: shape=(2, 6), dtype=int32, numpy=\n",
              "array([[ 101, 1045, 2428, 5223, 2009,  102],\n",
              "       [ 101, 1045, 2428, 2293, 2009,  102]], dtype=int32)>, 'attention_mask': <tf.Tensor: shape=(2, 6), dtype=int32, numpy=\n",
              "array([[1, 1, 1, 1, 1, 1],\n",
              "       [1, 1, 1, 1, 1, 1]], dtype=int32)>}"
            ]
          },
          "metadata": {},
          "execution_count": 13
        }
      ],
      "source": [
        "data"
      ]
    },
    {
      "cell_type": "code",
      "execution_count": 14,
      "id": "50ebaa8b-e8fe-4f3d-9d03-9c03d1c3128c",
      "metadata": {
        "id": "50ebaa8b-e8fe-4f3d-9d03-9c03d1c3128c",
        "outputId": "b0c00448-7643-4d22-9abe-bb017a6f9474",
        "colab": {
          "base_uri": "https://localhost:8080/"
        }
      },
      "outputs": [
        {
          "output_type": "execute_result",
          "data": {
            "text/plain": [
              "TFSequenceClassifierOutput([('logits',\n",
              "                             <tf.Tensor: shape=(2, 2), dtype=float32, numpy=\n",
              "                             array([[ 4.3365097, -3.5167837],\n",
              "                                    [-4.3277135,  4.6915174]], dtype=float32)>)])"
            ]
          },
          "metadata": {},
          "execution_count": 14
        }
      ],
      "source": [
        "tf_outputs = tf_model(data)\n",
        "tf_outputs"
      ]
    },
    {
      "cell_type": "code",
      "execution_count": 15,
      "id": "4199af95-c8ec-4062-9c64-dc86d5cbdf3b",
      "metadata": {
        "id": "4199af95-c8ec-4062-9c64-dc86d5cbdf3b",
        "outputId": "74630287-9793-4989-9e13-64abd59cb715",
        "colab": {
          "base_uri": "https://localhost:8080/"
        }
      },
      "outputs": [
        {
          "output_type": "execute_result",
          "data": {
            "text/plain": [
              "<tf.Tensor: shape=(2, 2), dtype=float32, numpy=\n",
              "array([[9.9961168e-01, 3.8831957e-04],\n",
              "       [1.2104454e-04, 9.9987888e-01]], dtype=float32)>"
            ]
          },
          "metadata": {},
          "execution_count": 15
        }
      ],
      "source": [
        "tf_predictions = tf.nn.softmax(tf_outputs.logits, axis=-1)\n",
        "tf_predictions"
      ]
    },
    {
      "cell_type": "code",
      "execution_count": 15,
      "id": "2655871e-3107-405e-b2b6-cc4d3349713a",
      "metadata": {
        "id": "2655871e-3107-405e-b2b6-cc4d3349713a"
      },
      "outputs": [],
      "source": [
        ""
      ]
    },
    {
      "cell_type": "markdown",
      "id": "1ce31420-d3cc-4c48-a661-9919e160035d",
      "metadata": {
        "id": "1ce31420-d3cc-4c48-a661-9919e160035d"
      },
      "source": [
        "# 3 - Dataset"
      ]
    },
    {
      "cell_type": "markdown",
      "id": "ecd26e73-8916-42a9-9e09-8ff7396aa6cc",
      "metadata": {
        "id": "ecd26e73-8916-42a9-9e09-8ff7396aa6cc"
      },
      "source": [
        "### From CSV 1"
      ]
    },
    {
      "cell_type": "code",
      "execution_count": 16,
      "id": "2052c218-598e-41f1-9bc2-905c83354251",
      "metadata": {
        "id": "2052c218-598e-41f1-9bc2-905c83354251",
        "outputId": "f81855d8-77e6-41e6-cb33-125f6509e84a",
        "colab": {
          "base_uri": "https://localhost:8080/"
        }
      },
      "outputs": [
        {
          "output_type": "stream",
          "name": "stderr",
          "text": [
            "Using custom data configuration data-4c73a3af64a95650\n",
            "Reusing dataset csv (/root/.cache/huggingface/datasets/csv/data-4c73a3af64a95650/0.0.0/652c3096f041ee27b04d2232d41f10547a8fecda3e284a79a0ec4053c916ef7a)\n"
          ]
        }
      ],
      "source": [
        "dataset1 = load_dataset(\n",
        "    'data',\n",
        "    'csv',\n",
        "    split='train',\n",
        "    data_files={'data_nlp_1563108.csv'},\n",
        "    column_names=['text', 'target'],\n",
        ")"
      ]
    },
    {
      "cell_type": "code",
      "execution_count": 17,
      "id": "fa412718-7e40-471f-aa36-07dbb2f3d2d9",
      "metadata": {
        "id": "fa412718-7e40-471f-aa36-07dbb2f3d2d9",
        "outputId": "ed6bdaa0-f374-43bb-e867-8b87816f61d8",
        "colab": {
          "base_uri": "https://localhost:8080/"
        }
      },
      "outputs": [
        {
          "output_type": "execute_result",
          "data": {
            "text/plain": [
              "Dataset({\n",
              "    features: ['text', 'target', '__index_level_0__', '__index_level_1__', '__index_level_2__', '__index_level_3__', '__index_level_4__', '__index_level_5__', '__index_level_6__'],\n",
              "    num_rows: 1452792\n",
              "})"
            ]
          },
          "metadata": {},
          "execution_count": 17
        }
      ],
      "source": [
        "dataset1"
      ]
    },
    {
      "cell_type": "code",
      "execution_count": 18,
      "id": "03f1df94-eb17-446d-ac82-67be3046a7c9",
      "metadata": {
        "id": "03f1df94-eb17-446d-ac82-67be3046a7c9",
        "outputId": "0a5a4c55-dc1e-4a61-dcf0-f21f6b15fd34",
        "colab": {
          "base_uri": "https://localhost:8080/"
        }
      },
      "outputs": [
        {
          "output_type": "execute_result",
          "data": {
            "text/plain": [
              "DatasetDict({\n",
              "    train: Dataset({\n",
              "        features: ['text', 'target', '__index_level_0__', '__index_level_1__', '__index_level_2__', '__index_level_3__', '__index_level_4__', '__index_level_5__', '__index_level_6__'],\n",
              "        num_rows: 1307512\n",
              "    })\n",
              "    test: Dataset({\n",
              "        features: ['text', 'target', '__index_level_0__', '__index_level_1__', '__index_level_2__', '__index_level_3__', '__index_level_4__', '__index_level_5__', '__index_level_6__'],\n",
              "        num_rows: 145280\n",
              "    })\n",
              "})"
            ]
          },
          "metadata": {},
          "execution_count": 18
        }
      ],
      "source": [
        "dsplit1 = dataset1.train_test_split(test_size=0.1)\n",
        "dsplit1"
      ]
    },
    {
      "cell_type": "code",
      "execution_count": 19,
      "id": "5507197f-c130-456f-86d8-7e5b9e43048a",
      "metadata": {
        "id": "5507197f-c130-456f-86d8-7e5b9e43048a",
        "outputId": "5ad59742-1f02-4cda-a3d4-8a8346571fca",
        "colab": {
          "base_uri": "https://localhost:8080/"
        }
      },
      "outputs": [
        {
          "output_type": "execute_result",
          "data": {
            "text/plain": [
              "{'__index_level_0__': '0',\n",
              " '__index_level_1__': \"@switchfoot http://twitpic.com/2y1zl - Awww, that's a bummer.  You shoulda got David Carr of Third Day to do it. ;D\",\n",
              " '__index_level_2__': \"$URL$ - Awww, that's a bummer. You shoulda got David Carr of Third Day to do it. ;D\",\n",
              " '__index_level_3__': \"$ url$ - awww , that 's a bummer . you shoulda got david carr of third day to do it . ; d\",\n",
              " '__index_level_4__': 'bummer shoulda got day d',\n",
              " '__index_level_5__': 'bummer shoulda got day d',\n",
              " '__index_level_6__': 'bummer shoulda get day d',\n",
              " 'target': '$ url$ - awww , that be a bummer . you shoulda get david carr of third day to do it . ; d',\n",
              " 'text': 'bummer shoulda get day d'}"
            ]
          },
          "metadata": {},
          "execution_count": 19
        }
      ],
      "source": [
        "dataset1[1]"
      ]
    },
    {
      "cell_type": "code",
      "execution_count": 20,
      "id": "315a1b98-ee4e-434a-a951-055f968141be",
      "metadata": {
        "id": "315a1b98-ee4e-434a-a951-055f968141be",
        "outputId": "9ec3aa93-73e4-4e5c-eeb8-40cb027e8af4",
        "colab": {
          "base_uri": "https://localhost:8080/"
        }
      },
      "outputs": [
        {
          "output_type": "execute_result",
          "data": {
            "text/plain": [
              "{'__index_level_0__': '1',\n",
              " '__index_level_1__': 'BBQ in the garden tonite ',\n",
              " '__index_level_2__': 'BBQ in the garden tonite',\n",
              " '__index_level_3__': 'bbq in the garden tonite',\n",
              " '__index_level_4__': 'garden tonite',\n",
              " '__index_level_5__': 'garden tonite',\n",
              " '__index_level_6__': 'garden tonite',\n",
              " 'target': 'bbq in the garden tonite',\n",
              " 'text': 'garden tonite'}"
            ]
          },
          "metadata": {},
          "execution_count": 20
        }
      ],
      "source": [
        "dsplit1['test'][0]"
      ]
    },
    {
      "cell_type": "code",
      "execution_count": 20,
      "id": "ca79dc7d-345d-4d4b-9b44-0f4ec675cd75",
      "metadata": {
        "id": "ca79dc7d-345d-4d4b-9b44-0f4ec675cd75"
      },
      "outputs": [],
      "source": [
        ""
      ]
    },
    {
      "cell_type": "markdown",
      "id": "88974e0c-69ba-41b2-b990-2ba5a45590ee",
      "metadata": {
        "id": "88974e0c-69ba-41b2-b990-2ba5a45590ee"
      },
      "source": [
        "### From CSV 2"
      ]
    },
    {
      "cell_type": "code",
      "execution_count": 21,
      "id": "1d5230b1-70b9-4477-a1b1-fd3c1a2b4ee6",
      "metadata": {
        "id": "1d5230b1-70b9-4477-a1b1-fd3c1a2b4ee6",
        "outputId": "016f2be5-b055-4e40-d1a3-0c33e02f65cf",
        "colab": {
          "base_uri": "https://localhost:8080/"
        }
      },
      "outputs": [
        {
          "output_type": "stream",
          "name": "stderr",
          "text": [
            "Using custom data configuration default-5dedf3ad74896a58\n",
            "Reusing dataset csv (/root/.cache/huggingface/datasets/csv/default-5dedf3ad74896a58/0.0.0)\n"
          ]
        }
      ],
      "source": [
        "dataset2 = Dataset.from_csv('data/data_nlp_1563108.csv')"
      ]
    },
    {
      "cell_type": "code",
      "execution_count": 22,
      "id": "0bfb9689-ce29-4ac0-88c1-250093715e44",
      "metadata": {
        "id": "0bfb9689-ce29-4ac0-88c1-250093715e44",
        "outputId": "07b17e9d-2fef-40f2-ca8d-a111f8ed0a28",
        "colab": {
          "base_uri": "https://localhost:8080/"
        }
      },
      "outputs": [
        {
          "output_type": "execute_result",
          "data": {
            "text/plain": [
              "Dataset({\n",
              "    features: ['target', 'text', 'text_clean', 'tokens', 'tokens_filtered_advanced', 'tokens_filtered_simple', 'lemmas_filtered_advanced', 'lemmas_filtered_simple', 'lemmas_not_filtered'],\n",
              "    num_rows: 1452791\n",
              "})"
            ]
          },
          "metadata": {},
          "execution_count": 22
        }
      ],
      "source": [
        "dataset2"
      ]
    },
    {
      "cell_type": "code",
      "execution_count": 23,
      "id": "4aa1f925-7525-41fd-abd0-95cf2a4679f6",
      "metadata": {
        "id": "4aa1f925-7525-41fd-abd0-95cf2a4679f6",
        "outputId": "ed652d67-e786-4364-a30c-4650fc929d08",
        "colab": {
          "base_uri": "https://localhost:8080/"
        }
      },
      "outputs": [
        {
          "output_type": "execute_result",
          "data": {
            "text/plain": [
              "DatasetDict({\n",
              "    train: Dataset({\n",
              "        features: ['target', 'text', 'text_clean', 'tokens', 'tokens_filtered_advanced', 'tokens_filtered_simple', 'lemmas_filtered_advanced', 'lemmas_filtered_simple', 'lemmas_not_filtered'],\n",
              "        num_rows: 1307511\n",
              "    })\n",
              "    test: Dataset({\n",
              "        features: ['target', 'text', 'text_clean', 'tokens', 'tokens_filtered_advanced', 'tokens_filtered_simple', 'lemmas_filtered_advanced', 'lemmas_filtered_simple', 'lemmas_not_filtered'],\n",
              "        num_rows: 145280\n",
              "    })\n",
              "})"
            ]
          },
          "metadata": {},
          "execution_count": 23
        }
      ],
      "source": [
        "dsplit2 = dataset2.train_test_split(test_size=0.1)\n",
        "dsplit2"
      ]
    },
    {
      "cell_type": "code",
      "execution_count": 24,
      "id": "b4b93215-857c-4591-8f49-54044ce4c72c",
      "metadata": {
        "id": "b4b93215-857c-4591-8f49-54044ce4c72c",
        "outputId": "339bc9a7-5595-4e1a-e26e-67ed16d3cc8e",
        "colab": {
          "base_uri": "https://localhost:8080/"
        }
      },
      "outputs": [
        {
          "output_type": "execute_result",
          "data": {
            "text/plain": [
              "{'lemmas_filtered_advanced': 'upset update facebook texte cry result school today',\n",
              " 'lemmas_filtered_simple': 'upset update facebook texte cry result school today',\n",
              " 'lemmas_not_filtered': 'be upset that he can not update his facebook by texte it ... and might cry as a result school today also . blah !',\n",
              " 'target': 0,\n",
              " 'text': \"is upset that he can't update his Facebook by texting it... and might cry as a result  School today also. Blah!\",\n",
              " 'text_clean': \"is upset that he can't update his Facebook by texting it... and might cry as a result School today also. Blah!\",\n",
              " 'tokens': \"is upset that he ca n't update his facebook by texting it ... and might cry as a result school today also . blah !\",\n",
              " 'tokens_filtered_advanced': 'upset update facebook texting cry result school today',\n",
              " 'tokens_filtered_simple': 'upset update facebook texting cry result school today'}"
            ]
          },
          "metadata": {},
          "execution_count": 24
        }
      ],
      "source": [
        "dataset2[1]"
      ]
    },
    {
      "cell_type": "code",
      "execution_count": 25,
      "id": "96c3d7b6-ebd7-4650-abd8-a3da2b84cd20",
      "metadata": {
        "id": "96c3d7b6-ebd7-4650-abd8-a3da2b84cd20",
        "outputId": "5eb5206e-038b-4034-f1b4-3f4001848434",
        "colab": {
          "base_uri": "https://localhost:8080/"
        }
      },
      "outputs": [
        {
          "output_type": "execute_result",
          "data": {
            "text/plain": [
              "{'lemmas_filtered_advanced': 'wake clock say 13:37',\n",
              " 'lemmas_filtered_simple': 'wake clock say 13:37',\n",
              " 'lemmas_not_filtered': 'wake up and the clock say 13:37 .',\n",
              " 'target': 1,\n",
              " 'text': 'Woke up and the clock said 13:37. ',\n",
              " 'text_clean': 'Woke up and the clock said 13:37.',\n",
              " 'tokens': 'woke up and the clock said 13:37 .',\n",
              " 'tokens_filtered_advanced': 'woke clock said 13:37',\n",
              " 'tokens_filtered_simple': 'woke clock said 13:37'}"
            ]
          },
          "metadata": {},
          "execution_count": 25
        }
      ],
      "source": [
        "dsplit2['test'][0]"
      ]
    },
    {
      "cell_type": "code",
      "execution_count": 25,
      "id": "59767493-25f1-4c1b-bd11-b513417fbd23",
      "metadata": {
        "id": "59767493-25f1-4c1b-bd11-b513417fbd23"
      },
      "outputs": [],
      "source": [
        ""
      ]
    },
    {
      "cell_type": "markdown",
      "id": "31a96e86-5554-4913-a2a2-0bf790297cbb",
      "metadata": {
        "id": "31a96e86-5554-4913-a2a2-0bf790297cbb"
      },
      "source": [
        "### From Pandas dataframe"
      ]
    },
    {
      "cell_type": "code",
      "execution_count": 26,
      "id": "d61ffce1-e507-4c70-95d1-3063810ade98",
      "metadata": {
        "colab": {
          "base_uri": "https://localhost:8080/",
          "height": 273
        },
        "id": "d61ffce1-e507-4c70-95d1-3063810ade98",
        "outputId": "9546c118-785b-4cf7-f304-964bf346a9b0",
        "tags": []
      },
      "outputs": [
        {
          "output_type": "display_data",
          "data": {
            "text/plain": [
              "   label                                               text\n",
              "0      0  @switchfoot http://twitpic.com/2y1zl - Awww, t...\n",
              "1      0  is upset that he can't update his Facebook by ..."
            ],
            "text/html": [
              "\n",
              "  <div id=\"df-428c9e92-ec4b-45df-ac4b-17ca6539ad05\">\n",
              "    <div class=\"colab-df-container\">\n",
              "      <div>\n",
              "<style scoped>\n",
              "    .dataframe tbody tr th:only-of-type {\n",
              "        vertical-align: middle;\n",
              "    }\n",
              "\n",
              "    .dataframe tbody tr th {\n",
              "        vertical-align: top;\n",
              "    }\n",
              "\n",
              "    .dataframe thead th {\n",
              "        text-align: right;\n",
              "    }\n",
              "</style>\n",
              "<table border=\"1\" class=\"dataframe\">\n",
              "  <thead>\n",
              "    <tr style=\"text-align: right;\">\n",
              "      <th></th>\n",
              "      <th>label</th>\n",
              "      <th>text</th>\n",
              "    </tr>\n",
              "  </thead>\n",
              "  <tbody>\n",
              "    <tr>\n",
              "      <th>0</th>\n",
              "      <td>0</td>\n",
              "      <td>@switchfoot http://twitpic.com/2y1zl - Awww, t...</td>\n",
              "    </tr>\n",
              "    <tr>\n",
              "      <th>1</th>\n",
              "      <td>0</td>\n",
              "      <td>is upset that he can't update his Facebook by ...</td>\n",
              "    </tr>\n",
              "  </tbody>\n",
              "</table>\n",
              "</div>\n",
              "      <button class=\"colab-df-convert\" onclick=\"convertToInteractive('df-428c9e92-ec4b-45df-ac4b-17ca6539ad05')\"\n",
              "              title=\"Convert this dataframe to an interactive table.\"\n",
              "              style=\"display:none;\">\n",
              "        \n",
              "  <svg xmlns=\"http://www.w3.org/2000/svg\" height=\"24px\"viewBox=\"0 0 24 24\"\n",
              "       width=\"24px\">\n",
              "    <path d=\"M0 0h24v24H0V0z\" fill=\"none\"/>\n",
              "    <path d=\"M18.56 5.44l.94 2.06.94-2.06 2.06-.94-2.06-.94-.94-2.06-.94 2.06-2.06.94zm-11 1L8.5 8.5l.94-2.06 2.06-.94-2.06-.94L8.5 2.5l-.94 2.06-2.06.94zm10 10l.94 2.06.94-2.06 2.06-.94-2.06-.94-.94-2.06-.94 2.06-2.06.94z\"/><path d=\"M17.41 7.96l-1.37-1.37c-.4-.4-.92-.59-1.43-.59-.52 0-1.04.2-1.43.59L10.3 9.45l-7.72 7.72c-.78.78-.78 2.05 0 2.83L4 21.41c.39.39.9.59 1.41.59.51 0 1.02-.2 1.41-.59l7.78-7.78 2.81-2.81c.8-.78.8-2.07 0-2.86zM5.41 20L4 18.59l7.72-7.72 1.47 1.35L5.41 20z\"/>\n",
              "  </svg>\n",
              "      </button>\n",
              "      \n",
              "  <style>\n",
              "    .colab-df-container {\n",
              "      display:flex;\n",
              "      flex-wrap:wrap;\n",
              "      gap: 12px;\n",
              "    }\n",
              "\n",
              "    .colab-df-convert {\n",
              "      background-color: #E8F0FE;\n",
              "      border: none;\n",
              "      border-radius: 50%;\n",
              "      cursor: pointer;\n",
              "      display: none;\n",
              "      fill: #1967D2;\n",
              "      height: 32px;\n",
              "      padding: 0 0 0 0;\n",
              "      width: 32px;\n",
              "    }\n",
              "\n",
              "    .colab-df-convert:hover {\n",
              "      background-color: #E2EBFA;\n",
              "      box-shadow: 0px 1px 2px rgba(60, 64, 67, 0.3), 0px 1px 3px 1px rgba(60, 64, 67, 0.15);\n",
              "      fill: #174EA6;\n",
              "    }\n",
              "\n",
              "    [theme=dark] .colab-df-convert {\n",
              "      background-color: #3B4455;\n",
              "      fill: #D2E3FC;\n",
              "    }\n",
              "\n",
              "    [theme=dark] .colab-df-convert:hover {\n",
              "      background-color: #434B5C;\n",
              "      box-shadow: 0px 1px 3px 1px rgba(0, 0, 0, 0.15);\n",
              "      filter: drop-shadow(0px 1px 2px rgba(0, 0, 0, 0.3));\n",
              "      fill: #FFFFFF;\n",
              "    }\n",
              "  </style>\n",
              "\n",
              "      <script>\n",
              "        const buttonEl =\n",
              "          document.querySelector('#df-428c9e92-ec4b-45df-ac4b-17ca6539ad05 button.colab-df-convert');\n",
              "        buttonEl.style.display =\n",
              "          google.colab.kernel.accessAllowed ? 'block' : 'none';\n",
              "\n",
              "        async function convertToInteractive(key) {\n",
              "          const element = document.querySelector('#df-428c9e92-ec4b-45df-ac4b-17ca6539ad05');\n",
              "          const dataTable =\n",
              "            await google.colab.kernel.invokeFunction('convertToInteractive',\n",
              "                                                     [key], {});\n",
              "          if (!dataTable) return;\n",
              "\n",
              "          const docLinkHtml = 'Like what you see? Visit the ' +\n",
              "            '<a target=\"_blank\" href=https://colab.research.google.com/notebooks/data_table.ipynb>data table notebook</a>'\n",
              "            + ' to learn more about interactive tables.';\n",
              "          element.innerHTML = '';\n",
              "          dataTable['output_type'] = 'display_data';\n",
              "          await google.colab.output.renderOutput(dataTable, element);\n",
              "          const docLink = document.createElement('div');\n",
              "          docLink.innerHTML = docLinkHtml;\n",
              "          element.appendChild(docLink);\n",
              "        }\n",
              "      </script>\n",
              "    </div>\n",
              "  </div>\n",
              "  "
            ]
          },
          "metadata": {}
        },
        {
          "output_type": "display_data",
          "data": {
            "text/plain": [
              "(1452791, 2)"
            ]
          },
          "metadata": {}
        },
        {
          "output_type": "display_data",
          "data": {
            "text/plain": [
              "                                                    text\n",
              "label                                                   \n",
              "0      I dont have a background for my twitter stream...\n",
              "0                 I did many things but missed tweeting "
            ],
            "text/html": [
              "\n",
              "  <div id=\"df-492ee166-0571-463b-9a3b-63f96ba70d0e\">\n",
              "    <div class=\"colab-df-container\">\n",
              "      <div>\n",
              "<style scoped>\n",
              "    .dataframe tbody tr th:only-of-type {\n",
              "        vertical-align: middle;\n",
              "    }\n",
              "\n",
              "    .dataframe tbody tr th {\n",
              "        vertical-align: top;\n",
              "    }\n",
              "\n",
              "    .dataframe thead th {\n",
              "        text-align: right;\n",
              "    }\n",
              "</style>\n",
              "<table border=\"1\" class=\"dataframe\">\n",
              "  <thead>\n",
              "    <tr style=\"text-align: right;\">\n",
              "      <th></th>\n",
              "      <th>text</th>\n",
              "    </tr>\n",
              "    <tr>\n",
              "      <th>label</th>\n",
              "      <th></th>\n",
              "    </tr>\n",
              "  </thead>\n",
              "  <tbody>\n",
              "    <tr>\n",
              "      <th>0</th>\n",
              "      <td>I dont have a background for my twitter stream...</td>\n",
              "    </tr>\n",
              "    <tr>\n",
              "      <th>0</th>\n",
              "      <td>I did many things but missed tweeting</td>\n",
              "    </tr>\n",
              "  </tbody>\n",
              "</table>\n",
              "</div>\n",
              "      <button class=\"colab-df-convert\" onclick=\"convertToInteractive('df-492ee166-0571-463b-9a3b-63f96ba70d0e')\"\n",
              "              title=\"Convert this dataframe to an interactive table.\"\n",
              "              style=\"display:none;\">\n",
              "        \n",
              "  <svg xmlns=\"http://www.w3.org/2000/svg\" height=\"24px\"viewBox=\"0 0 24 24\"\n",
              "       width=\"24px\">\n",
              "    <path d=\"M0 0h24v24H0V0z\" fill=\"none\"/>\n",
              "    <path d=\"M18.56 5.44l.94 2.06.94-2.06 2.06-.94-2.06-.94-.94-2.06-.94 2.06-2.06.94zm-11 1L8.5 8.5l.94-2.06 2.06-.94-2.06-.94L8.5 2.5l-.94 2.06-2.06.94zm10 10l.94 2.06.94-2.06 2.06-.94-2.06-.94-.94-2.06-.94 2.06-2.06.94z\"/><path d=\"M17.41 7.96l-1.37-1.37c-.4-.4-.92-.59-1.43-.59-.52 0-1.04.2-1.43.59L10.3 9.45l-7.72 7.72c-.78.78-.78 2.05 0 2.83L4 21.41c.39.39.9.59 1.41.59.51 0 1.02-.2 1.41-.59l7.78-7.78 2.81-2.81c.8-.78.8-2.07 0-2.86zM5.41 20L4 18.59l7.72-7.72 1.47 1.35L5.41 20z\"/>\n",
              "  </svg>\n",
              "      </button>\n",
              "      \n",
              "  <style>\n",
              "    .colab-df-container {\n",
              "      display:flex;\n",
              "      flex-wrap:wrap;\n",
              "      gap: 12px;\n",
              "    }\n",
              "\n",
              "    .colab-df-convert {\n",
              "      background-color: #E8F0FE;\n",
              "      border: none;\n",
              "      border-radius: 50%;\n",
              "      cursor: pointer;\n",
              "      display: none;\n",
              "      fill: #1967D2;\n",
              "      height: 32px;\n",
              "      padding: 0 0 0 0;\n",
              "      width: 32px;\n",
              "    }\n",
              "\n",
              "    .colab-df-convert:hover {\n",
              "      background-color: #E2EBFA;\n",
              "      box-shadow: 0px 1px 2px rgba(60, 64, 67, 0.3), 0px 1px 3px 1px rgba(60, 64, 67, 0.15);\n",
              "      fill: #174EA6;\n",
              "    }\n",
              "\n",
              "    [theme=dark] .colab-df-convert {\n",
              "      background-color: #3B4455;\n",
              "      fill: #D2E3FC;\n",
              "    }\n",
              "\n",
              "    [theme=dark] .colab-df-convert:hover {\n",
              "      background-color: #434B5C;\n",
              "      box-shadow: 0px 1px 3px 1px rgba(0, 0, 0, 0.15);\n",
              "      filter: drop-shadow(0px 1px 2px rgba(0, 0, 0, 0.3));\n",
              "      fill: #FFFFFF;\n",
              "    }\n",
              "  </style>\n",
              "\n",
              "      <script>\n",
              "        const buttonEl =\n",
              "          document.querySelector('#df-492ee166-0571-463b-9a3b-63f96ba70d0e button.colab-df-convert');\n",
              "        buttonEl.style.display =\n",
              "          google.colab.kernel.accessAllowed ? 'block' : 'none';\n",
              "\n",
              "        async function convertToInteractive(key) {\n",
              "          const element = document.querySelector('#df-492ee166-0571-463b-9a3b-63f96ba70d0e');\n",
              "          const dataTable =\n",
              "            await google.colab.kernel.invokeFunction('convertToInteractive',\n",
              "                                                     [key], {});\n",
              "          if (!dataTable) return;\n",
              "\n",
              "          const docLinkHtml = 'Like what you see? Visit the ' +\n",
              "            '<a target=\"_blank\" href=https://colab.research.google.com/notebooks/data_table.ipynb>data table notebook</a>'\n",
              "            + ' to learn more about interactive tables.';\n",
              "          element.innerHTML = '';\n",
              "          dataTable['output_type'] = 'display_data';\n",
              "          await google.colab.output.renderOutput(dataTable, element);\n",
              "          const docLink = document.createElement('div');\n",
              "          docLink.innerHTML = docLinkHtml;\n",
              "          element.appendChild(docLink);\n",
              "        }\n",
              "      </script>\n",
              "    </div>\n",
              "  </div>\n",
              "  "
            ]
          },
          "metadata": {}
        },
        {
          "output_type": "display_data",
          "data": {
            "text/plain": [
              "(100000, 1)"
            ]
          },
          "metadata": {}
        }
      ],
      "source": [
        "data_work = pd.read_csv(\n",
        "    pathlib.Path(pathlib.Path().absolute(), 'data', 'data_nlp_1563108.csv'), \n",
        "    usecols=['target', 'text'],\n",
        "    encoding='ISO-8859-1',\n",
        "    #nrows=100000,\n",
        ")\n",
        "data_work.rename(columns={'text':'text', 'target':'label'}, inplace=True)\n",
        "display(data_work.head(2), data_work.shape)\n",
        "\n",
        "# Select samples\n",
        "sample_size = 100000\n",
        "data_work = data_work.groupby('label', group_keys=False).apply(lambda x: x.sample(sample_size//2, random_state=random_seed))\n",
        "data_work.set_index('label', inplace=True, drop=True)\n",
        "display(data_work.head(2), data_work.shape)"
      ]
    },
    {
      "cell_type": "code",
      "execution_count": 26,
      "id": "774f4ec3-b3ad-4f67-95e0-76e773a07695",
      "metadata": {
        "id": "774f4ec3-b3ad-4f67-95e0-76e773a07695"
      },
      "outputs": [],
      "source": [
        ""
      ]
    },
    {
      "cell_type": "code",
      "execution_count": 27,
      "id": "23c5a5d9-6c87-4dd8-9065-495e094391bc",
      "metadata": {
        "id": "23c5a5d9-6c87-4dd8-9065-495e094391bc"
      },
      "outputs": [],
      "source": [
        "dataset3 = Dataset.from_pandas(data_work)"
      ]
    },
    {
      "cell_type": "code",
      "execution_count": 28,
      "id": "c90bf4db-b6ab-4dd7-92a7-a71d6d24c6f6",
      "metadata": {
        "id": "c90bf4db-b6ab-4dd7-92a7-a71d6d24c6f6",
        "outputId": "423e0381-0bcb-46b7-dabc-f039f495b307",
        "colab": {
          "base_uri": "https://localhost:8080/"
        }
      },
      "outputs": [
        {
          "output_type": "execute_result",
          "data": {
            "text/plain": [
              "Dataset({\n",
              "    features: ['text', 'label'],\n",
              "    num_rows: 100000\n",
              "})"
            ]
          },
          "metadata": {},
          "execution_count": 28
        }
      ],
      "source": [
        "dataset3"
      ]
    },
    {
      "cell_type": "code",
      "execution_count": 29,
      "id": "37a06b98-badd-47da-8abb-cf01809227cb",
      "metadata": {
        "id": "37a06b98-badd-47da-8abb-cf01809227cb",
        "outputId": "c0d3452c-72ac-4bed-bc18-2ccba8c82ff7",
        "colab": {
          "base_uri": "https://localhost:8080/"
        }
      },
      "outputs": [
        {
          "output_type": "execute_result",
          "data": {
            "text/plain": [
              "DatasetDict({\n",
              "    train: Dataset({\n",
              "        features: ['text', 'label'],\n",
              "        num_rows: 90000\n",
              "    })\n",
              "    test: Dataset({\n",
              "        features: ['text', 'label'],\n",
              "        num_rows: 10000\n",
              "    })\n",
              "})"
            ]
          },
          "metadata": {},
          "execution_count": 29
        }
      ],
      "source": [
        "dsplit3 = dataset3.train_test_split(test_size=0.1)\n",
        "dsplit3"
      ]
    },
    {
      "cell_type": "code",
      "execution_count": 30,
      "id": "1566cdc1-5399-4c58-94e5-5b8d444f7037",
      "metadata": {
        "id": "1566cdc1-5399-4c58-94e5-5b8d444f7037",
        "outputId": "1b35fdd1-5590-4cee-d90c-851e5088b0b9",
        "colab": {
          "base_uri": "https://localhost:8080/"
        }
      },
      "outputs": [
        {
          "output_type": "execute_result",
          "data": {
            "text/plain": [
              "{'label': 0, 'text': 'I did many things but missed tweeting '}"
            ]
          },
          "metadata": {},
          "execution_count": 30
        }
      ],
      "source": [
        "dataset3[1]"
      ]
    },
    {
      "cell_type": "code",
      "execution_count": 31,
      "id": "96a82cb9-5237-4d76-a56c-08bdbbbcb3e5",
      "metadata": {
        "id": "96a82cb9-5237-4d76-a56c-08bdbbbcb3e5",
        "outputId": "ab7fd20c-d2ce-46ca-a82e-7ab438189df3",
        "colab": {
          "base_uri": "https://localhost:8080/"
        }
      },
      "outputs": [
        {
          "output_type": "execute_result",
          "data": {
            "text/plain": [
              "{'label': 0,\n",
              " 'text': '@chantalclaret it doesnt make me laugh either,my friend hacked my twitter im sorry '}"
            ]
          },
          "metadata": {},
          "execution_count": 31
        }
      ],
      "source": [
        "dsplit3['test'][0]"
      ]
    },
    {
      "cell_type": "markdown",
      "id": "a75f4aba-2516-45b7-8460-e90d7c30aba3",
      "metadata": {
        "id": "a75f4aba-2516-45b7-8460-e90d7c30aba3"
      },
      "source": [
        "---\n",
        "---"
      ]
    },
    {
      "cell_type": "code",
      "execution_count": 31,
      "id": "fd007bbb-e42d-458b-81c2-181c30f57de6",
      "metadata": {
        "id": "fd007bbb-e42d-458b-81c2-181c30f57de6"
      },
      "outputs": [],
      "source": [
        ""
      ]
    },
    {
      "cell_type": "code",
      "execution_count": 31,
      "id": "f6894376-b956-4651-a5de-122ab37db869",
      "metadata": {
        "id": "f6894376-b956-4651-a5de-122ab37db869"
      },
      "outputs": [],
      "source": [
        ""
      ]
    },
    {
      "cell_type": "code",
      "execution_count": 31,
      "id": "cc3d4fcc-0a37-4e37-8347-cb1931e3a2e0",
      "metadata": {
        "id": "cc3d4fcc-0a37-4e37-8347-cb1931e3a2e0"
      },
      "outputs": [],
      "source": [
        ""
      ]
    },
    {
      "cell_type": "code",
      "execution_count": 31,
      "id": "0432da3e-05a3-4922-b807-b817ceed864f",
      "metadata": {
        "id": "0432da3e-05a3-4922-b807-b817ceed864f"
      },
      "outputs": [],
      "source": [
        ""
      ]
    },
    {
      "cell_type": "code",
      "execution_count": 32,
      "id": "d54fab13-0243-4896-9bf9-f7003bd31904",
      "metadata": {
        "id": "d54fab13-0243-4896-9bf9-f7003bd31904",
        "outputId": "fa4a9faf-a913-409e-bb73-e6766c39f470",
        "colab": {
          "base_uri": "https://localhost:8080/"
        }
      },
      "outputs": [
        {
          "output_type": "execute_result",
          "data": {
            "text/plain": [
              "{'label': 0,\n",
              " 'text': 'I dont have a background for my twitter stream...does anyone ever check those things?? and if they do...what should mine be? help '}"
            ]
          },
          "metadata": {},
          "execution_count": 32
        }
      ],
      "source": [
        "dataset3[0]"
      ]
    },
    {
      "cell_type": "code",
      "execution_count": 33,
      "id": "d4c72e42-6159-4768-8ec4-50b6e74951a5",
      "metadata": {
        "id": "d4c72e42-6159-4768-8ec4-50b6e74951a5",
        "outputId": "570cca84-c006-4037-d017-8c842187ae84",
        "colab": {
          "base_uri": "https://localhost:8080/"
        }
      },
      "outputs": [
        {
          "output_type": "execute_result",
          "data": {
            "text/plain": [
              "{'label': 0,\n",
              " 'text': '@chantalclaret it doesnt make me laugh either,my friend hacked my twitter im sorry '}"
            ]
          },
          "metadata": {},
          "execution_count": 33
        }
      ],
      "source": [
        "dsplit3['test'][0]"
      ]
    },
    {
      "cell_type": "code",
      "execution_count": 34,
      "id": "055da62f-9186-4008-8196-cd2450b3115c",
      "metadata": {
        "id": "055da62f-9186-4008-8196-cd2450b3115c",
        "outputId": "53fa3db0-56be-4077-b883-b4fd761fe30e",
        "colab": {
          "base_uri": "https://localhost:8080/",
          "height": 35
        }
      },
      "outputs": [
        {
          "output_type": "execute_result",
          "data": {
            "text/plain": [
              "'@chantalclaret it doesnt make me laugh either,my friend hacked my twitter im sorry '"
            ],
            "application/vnd.google.colaboratory.intrinsic+json": {
              "type": "string"
            }
          },
          "metadata": {},
          "execution_count": 34
        }
      ],
      "source": [
        "dsplit3['test'][0]['text']"
      ]
    },
    {
      "cell_type": "code",
      "execution_count": 34,
      "id": "dda21490-551c-44a3-b695-5399a4ae4aed",
      "metadata": {
        "id": "dda21490-551c-44a3-b695-5399a4ae4aed"
      },
      "outputs": [],
      "source": [
        ""
      ]
    },
    {
      "cell_type": "markdown",
      "id": "097e4dfe-b69f-453a-b8de-7ffbf06f60db",
      "metadata": {
        "id": "097e4dfe-b69f-453a-b8de-7ffbf06f60db"
      },
      "source": [
        "### Un test avec **quelques textes** "
      ]
    },
    {
      "cell_type": "markdown",
      "id": "2bafc004-25a4-41b6-bf8a-800e2d71f00a",
      "metadata": {
        "id": "2bafc004-25a4-41b6-bf8a-800e2d71f00a"
      },
      "source": [
        "#### avec le pipeline"
      ]
    },
    {
      "cell_type": "code",
      "execution_count": 35,
      "id": "d65283ac-f1de-4062-a993-a076b952b73f",
      "metadata": {
        "id": "d65283ac-f1de-4062-a993-a076b952b73f"
      },
      "outputs": [],
      "source": [
        "test_txt = [\"I hate this stuff\", \"I really love it\"]"
      ]
    },
    {
      "cell_type": "code",
      "execution_count": 36,
      "id": "174695bd-fc8d-4d62-80dc-50f9fe6b8802",
      "metadata": {
        "id": "174695bd-fc8d-4d62-80dc-50f9fe6b8802",
        "outputId": "8109bcac-f6a6-43b5-eeea-9caf48d22ef2",
        "colab": {
          "base_uri": "https://localhost:8080/"
        }
      },
      "outputs": [
        {
          "output_type": "execute_result",
          "data": {
            "text/plain": [
              "[[{'label': 'NEGATIVE', 'score': 0.999596893787384},\n",
              "  {'label': 'POSITIVE', 'score': 0.00040317379171028733}],\n",
              " [{'label': 'POSITIVE', 'score': 0.9998788833618164},\n",
              "  {'label': 'NEGATIVE', 'score': 0.00012104465713491663}]]"
            ]
          },
          "metadata": {},
          "execution_count": 36
        }
      ],
      "source": [
        "pp_outputs = sentiment_pipeline(test_txt)\n",
        "pp_outputs"
      ]
    },
    {
      "cell_type": "code",
      "execution_count": 37,
      "id": "527935e8-cd7b-453c-93fd-4541318492da",
      "metadata": {
        "id": "527935e8-cd7b-453c-93fd-4541318492da",
        "outputId": "d6d6ce8b-df54-4a50-a6b7-a32576344418",
        "colab": {
          "base_uri": "https://localhost:8080/"
        }
      },
      "outputs": [
        {
          "output_type": "execute_result",
          "data": {
            "text/plain": [
              "[0.00040317379171028733, 0.9998788833618164]"
            ]
          },
          "metadata": {},
          "execution_count": 37
        }
      ],
      "source": [
        "y_preds_proba = [[y['score'] for y in x if y['label'] == \"POSITIVE\"][0] for x in pp_outputs]\n",
        "y_preds_proba"
      ]
    },
    {
      "cell_type": "markdown",
      "id": "1f742925-b14d-400d-9a05-a2c802c569cd",
      "metadata": {
        "id": "1f742925-b14d-400d-9a05-a2c802c569cd"
      },
      "source": [
        "#### avec les Auto"
      ]
    },
    {
      "cell_type": "code",
      "execution_count": 38,
      "id": "2f418d75-f8fe-441d-9bb2-708bb423b895",
      "metadata": {
        "id": "2f418d75-f8fe-441d-9bb2-708bb423b895"
      },
      "outputs": [],
      "source": [
        "test_txt = [\"I hate this stuff\", \"I really love it\"]\n",
        "test_tokens = tokenizer(test_txt, truncation=True, padding=\"max_length\", max_length=65, return_tensors=\"tf\")"
      ]
    },
    {
      "cell_type": "code",
      "execution_count": 39,
      "id": "504c0548-c255-449c-88b8-4c08623a06b4",
      "metadata": {
        "id": "504c0548-c255-449c-88b8-4c08623a06b4",
        "outputId": "8222960c-1de9-4d9a-a7a1-27ae4160b60f",
        "colab": {
          "base_uri": "https://localhost:8080/"
        }
      },
      "outputs": [
        {
          "output_type": "execute_result",
          "data": {
            "text/plain": [
              "TFSequenceClassifierOutput([('logits',\n",
              "                             <tf.Tensor: shape=(2, 2), dtype=float32, numpy=\n",
              "                             array([[ 4.3156366, -3.500103 ],\n",
              "                                    [-4.3277135,  4.691517 ]], dtype=float32)>)])"
            ]
          },
          "metadata": {},
          "execution_count": 39
        }
      ],
      "source": [
        "tf_outputs = tf_model(test_tokens)\n",
        "tf_outputs"
      ]
    },
    {
      "cell_type": "code",
      "execution_count": 40,
      "id": "7798d167-3224-4446-b158-50d11079e587",
      "metadata": {
        "id": "7798d167-3224-4446-b158-50d11079e587",
        "outputId": "81bc59f6-82a9-48e7-f284-9641f9a4c94c",
        "colab": {
          "base_uri": "https://localhost:8080/"
        }
      },
      "outputs": [
        {
          "output_type": "execute_result",
          "data": {
            "text/plain": [
              "<tf.Tensor: shape=(2, 2), dtype=float32, numpy=\n",
              "array([[9.9959689e-01, 4.0317379e-04],\n",
              "       [1.2104466e-04, 9.9987888e-01]], dtype=float32)>"
            ]
          },
          "metadata": {},
          "execution_count": 40
        }
      ],
      "source": [
        "tf_predictions = tf.nn.softmax(tf_outputs.logits, axis=-1)\n",
        "tf_predictions"
      ]
    },
    {
      "cell_type": "code",
      "execution_count": 41,
      "id": "cfac425f-a3c4-44d9-beb4-5a63402a1d95",
      "metadata": {
        "id": "cfac425f-a3c4-44d9-beb4-5a63402a1d95",
        "outputId": "61b5495d-4453-4015-ed77-981746c2c3ac",
        "colab": {
          "base_uri": "https://localhost:8080/"
        }
      },
      "outputs": [
        {
          "output_type": "execute_result",
          "data": {
            "text/plain": [
              "[0.0004031738, 0.9998789]"
            ]
          },
          "metadata": {},
          "execution_count": 41
        }
      ],
      "source": [
        "y_preds_proba = tf_predictions.numpy()\n",
        "y_preds_proba = [x[1] for x in y_preds_proba]\n",
        "y_preds_proba"
      ]
    },
    {
      "cell_type": "markdown",
      "id": "e1cc0e07-e9a3-4230-9901-9fedeedb2a96",
      "metadata": {
        "id": "e1cc0e07-e9a3-4230-9901-9fedeedb2a96"
      },
      "source": [
        "### Un test avec **de nombreux textes**"
      ]
    },
    {
      "cell_type": "markdown",
      "id": "d7ad89b1-392a-4eb9-a044-81d8334a444d",
      "metadata": {
        "id": "d7ad89b1-392a-4eb9-a044-81d8334a444d"
      },
      "source": [
        "#### avec le pipeline"
      ]
    },
    {
      "cell_type": "raw",
      "id": "07549537-36b2-40e9-a74f-84732db2bff8",
      "metadata": {
        "id": "07549537-36b2-40e9-a74f-84732db2bff8"
      },
      "source": [
        "test_txt = [\"I hate this stuff\", \"I really love it\"]"
      ]
    },
    {
      "cell_type": "code",
      "execution_count": 42,
      "id": "a7fa7f3c-e6ec-4747-b9a9-74ba230d4b3c",
      "metadata": {
        "id": "a7fa7f3c-e6ec-4747-b9a9-74ba230d4b3c",
        "outputId": "e75f3be8-7ad6-4e3e-ec84-da82752b391f",
        "colab": {
          "base_uri": "https://localhost:8080/"
        }
      },
      "outputs": [
        {
          "output_type": "execute_result",
          "data": {
            "text/plain": [
              "['I dont have a background for my twitter stream...does anyone ever check those things?? and if they do...what should mine be? help ',\n",
              " 'I did many things but missed tweeting ',\n",
              " '@JoAnneJoyM most probably - eww all that pasty white skin on show. ',\n",
              " 'Ohh, how bad I sleep ',\n",
              " '@LornA_AlicE hell yeah u were texting me i remember, i was at my nans n u told me tragic news! boo hoo! n u went to amsterdam without me! ']"
            ]
          },
          "metadata": {},
          "execution_count": 42
        }
      ],
      "source": [
        "test_txt = data_work.text[:100].to_list()\n",
        "test_txt[:5]"
      ]
    },
    {
      "cell_type": "code",
      "execution_count": 43,
      "id": "4038fd85-6f48-40ed-83f3-da6a963fdf9b",
      "metadata": {
        "id": "4038fd85-6f48-40ed-83f3-da6a963fdf9b",
        "outputId": "eb49fed0-8bc4-4fdc-f721-7aae2b9b6c86",
        "colab": {
          "base_uri": "https://localhost:8080/"
        }
      },
      "outputs": [
        {
          "output_type": "execute_result",
          "data": {
            "text/plain": [
              "[[{'label': 'NEGATIVE', 'score': 0.9994959831237793},\n",
              "  {'label': 'POSITIVE', 'score': 0.0005040322430431843}],\n",
              " [{'label': 'NEGATIVE', 'score': 0.9947372078895569},\n",
              "  {'label': 'POSITIVE', 'score': 0.0052627259865403175}],\n",
              " [{'label': 'NEGATIVE', 'score': 0.9963040351867676},\n",
              "  {'label': 'POSITIVE', 'score': 0.0036959876306355}],\n",
              " [{'label': 'NEGATIVE', 'score': 0.9995403289794922},\n",
              "  {'label': 'POSITIVE', 'score': 0.00045966787729412317}],\n",
              " [{'label': 'NEGATIVE', 'score': 0.9946225881576538},\n",
              "  {'label': 'POSITIVE', 'score': 0.0053774346597492695}]]"
            ]
          },
          "metadata": {},
          "execution_count": 43
        }
      ],
      "source": [
        "pp_outputs = sentiment_pipeline(test_txt)\n",
        "pp_outputs[:5]"
      ]
    },
    {
      "cell_type": "code",
      "execution_count": 44,
      "id": "436051b5-7e44-4ede-b979-9a84f613d3c5",
      "metadata": {
        "id": "436051b5-7e44-4ede-b979-9a84f613d3c5",
        "outputId": "2dad071c-94ad-4245-c91f-d37cf9b24597",
        "colab": {
          "base_uri": "https://localhost:8080/"
        }
      },
      "outputs": [
        {
          "output_type": "execute_result",
          "data": {
            "text/plain": [
              "[0.0005040322430431843,\n",
              " 0.0052627259865403175,\n",
              " 0.0036959876306355,\n",
              " 0.00045966787729412317,\n",
              " 0.0053774346597492695]"
            ]
          },
          "metadata": {},
          "execution_count": 44
        }
      ],
      "source": [
        "y_preds_proba = [[y['score'] for y in x if y['label'] == \"POSITIVE\"][0] for x in pp_outputs]\n",
        "y_preds_proba[:5]"
      ]
    },
    {
      "cell_type": "markdown",
      "id": "be3906a8-82da-4426-b6a8-66b977361281",
      "metadata": {
        "id": "be3906a8-82da-4426-b6a8-66b977361281"
      },
      "source": [
        "#### avec les Auto"
      ]
    },
    {
      "cell_type": "raw",
      "id": "e4e1c55d-502f-40fc-b8d0-2083180ea566",
      "metadata": {
        "id": "e4e1c55d-502f-40fc-b8d0-2083180ea566"
      },
      "source": [
        "test_tokens = tokenizer(test_txt, truncation=True, padding=\"max_length\", return_tensors=\"tf\")"
      ]
    },
    {
      "cell_type": "code",
      "execution_count": 45,
      "id": "b5f06d83-7d62-4522-b723-1c9f0c674d6b",
      "metadata": {
        "id": "b5f06d83-7d62-4522-b723-1c9f0c674d6b",
        "outputId": "637a8d6c-832c-4e2d-ec60-70551c4a5060",
        "colab": {
          "base_uri": "https://localhost:8080/"
        }
      },
      "outputs": [
        {
          "output_type": "execute_result",
          "data": {
            "text/plain": [
              "[Encoding(num_tokens=65, attributes=[ids, type_ids, tokens, offsets, attention_mask, special_tokens_mask, overflowing])]"
            ]
          },
          "metadata": {},
          "execution_count": 45
        }
      ],
      "source": [
        "# OK\n",
        "test_txt = data_work.text[:100].to_list()\n",
        "test_tokens = tokenizer(test_txt, truncation=True, padding=\"max_length\", max_length=65, return_tensors=\"tf\")\n",
        "test_tokens[:1]"
      ]
    },
    {
      "cell_type": "code",
      "execution_count": 46,
      "id": "318ed094-c1bf-49ae-ac0d-54bb7dd6d365",
      "metadata": {
        "id": "318ed094-c1bf-49ae-ac0d-54bb7dd6d365",
        "outputId": "3c4425d5-7812-4d56-b49c-567a0925060a",
        "colab": {
          "base_uri": "https://localhost:8080/"
        }
      },
      "outputs": [
        {
          "output_type": "execute_result",
          "data": {
            "text/plain": [
              "{'input_ids': <tf.Tensor: shape=(100, 65), dtype=int32, numpy=\n",
              "array([[  101,  1045,  2123, ...,     0,     0,     0],\n",
              "       [  101,  1045,  2106, ...,     0,     0,     0],\n",
              "       [  101,  1030, 23459, ...,     0,     0,     0],\n",
              "       ...,\n",
              "       [  101,  1045,  8415, ...,     0,     0,     0],\n",
              "       [  101,  6295,  2035, ...,     0,     0,     0],\n",
              "       [  101, 19752,  2664, ...,     0,     0,     0]], dtype=int32)>, 'attention_mask': <tf.Tensor: shape=(100, 65), dtype=int32, numpy=\n",
              "array([[1, 1, 1, ..., 0, 0, 0],\n",
              "       [1, 1, 1, ..., 0, 0, 0],\n",
              "       [1, 1, 1, ..., 0, 0, 0],\n",
              "       ...,\n",
              "       [1, 1, 1, ..., 0, 0, 0],\n",
              "       [1, 1, 1, ..., 0, 0, 0],\n",
              "       [1, 1, 1, ..., 0, 0, 0]], dtype=int32)>}"
            ]
          },
          "metadata": {},
          "execution_count": 46
        }
      ],
      "source": [
        "test_tokens"
      ]
    },
    {
      "cell_type": "code",
      "execution_count": 47,
      "id": "e5ee826e-e5e0-45b1-a992-6f0453f0dead",
      "metadata": {
        "id": "e5ee826e-e5e0-45b1-a992-6f0453f0dead",
        "outputId": "8f2f4a8f-0e31-4251-8f54-780690a2f314",
        "colab": {
          "base_uri": "https://localhost:8080/"
        }
      },
      "outputs": [
        {
          "output_type": "execute_result",
          "data": {
            "text/plain": [
              "{'input_ids': <tf.Tensor: shape=(10000, 65), dtype=int32, numpy=\n",
              "array([[  101,  1030, 16883, ...,     0,     0,     0],\n",
              "       [  101, 12802,  1997, ...,     0,     0,     0],\n",
              "       [  101,  2012,  2277, ...,     0,     0,     0],\n",
              "       ...,\n",
              "       [  101,  1008,  8038, ...,     0,     0,     0],\n",
              "       [  101,  1030,  4678, ...,     0,     0,     0],\n",
              "       [  101,  2003,  1030, ...,     0,     0,     0]], dtype=int32)>, 'attention_mask': <tf.Tensor: shape=(10000, 65), dtype=int32, numpy=\n",
              "array([[1, 1, 1, ..., 0, 0, 0],\n",
              "       [1, 1, 1, ..., 0, 0, 0],\n",
              "       [1, 1, 1, ..., 0, 0, 0],\n",
              "       ...,\n",
              "       [1, 1, 1, ..., 0, 0, 0],\n",
              "       [1, 1, 1, ..., 0, 0, 0],\n",
              "       [1, 1, 1, ..., 0, 0, 0]], dtype=int32)>}"
            ]
          },
          "metadata": {},
          "execution_count": 47
        }
      ],
      "source": [
        "# OK\n",
        "sample_size = 10000\n",
        "def preprocess_function(x):\n",
        "    return tokenizer(x['text'], truncation=True, padding=\"max_length\", max_length=65, return_tensors=\"tf\")\n",
        "test_tokens = preprocess_function(dsplit3['test'][:sample_size])\n",
        "test_tokens"
      ]
    },
    {
      "cell_type": "raw",
      "id": "d099eb3c-af32-4be9-a10a-f976e948e860",
      "metadata": {
        "id": "d099eb3c-af32-4be9-a10a-f976e948e860"
      },
      "source": [
        "# ERROR\n",
        "def preprocess_function(examples):\n",
        "    return tokenizer(examples[\"text\"], truncation=True)\n",
        "\n",
        "pre_tokenizer_columns = set(dsplit3['train'].features)\n",
        "test_tokens = dsplit3.map(preprocess_function, batched=True)\n",
        "tokenizer_columns = list(set(test_tokens[\"train\"].features) - pre_tokenizer_columns)\n",
        "print(\"Columns added by tokenizer:\", tokenizer_columns)"
      ]
    },
    {
      "cell_type": "raw",
      "id": "0764c87b-2587-41b9-9ee5-415e863aa7c8",
      "metadata": {
        "id": "0764c87b-2587-41b9-9ee5-415e863aa7c8"
      },
      "source": [
        "# ERROR\n",
        "def preprocess_function(x):\n",
        "    return tokenizer(x['text'], truncation=True, padding=\"max_length\", max_length=65, return_tensors=\"tf\")\n",
        "test_tokens = dsplit3['test'].map(preprocess_function, batched=True)\n",
        "test_tokens[:1]"
      ]
    },
    {
      "cell_type": "raw",
      "id": "cce14dad-5d54-4c4a-a128-926e374fab59",
      "metadata": {
        "id": "cce14dad-5d54-4c4a-a128-926e374fab59"
      },
      "source": [
        "# ERROR\n",
        "def preprocess_function(x):\n",
        "    return {\"input_ids\": tokenizer.encode(x['text'], truncation=True, padding=\"max_length\", max_length=65, return_tensors=\"tf\")}\n",
        "test_tokens = dsplit3['test'].map(preprocess_function, batched=True)\n",
        "test_tokens[:1]"
      ]
    },
    {
      "cell_type": "raw",
      "id": "543fc81d-293b-43cb-9c45-ef4ae5f4a5f3",
      "metadata": {
        "id": "543fc81d-293b-43cb-9c45-ef4ae5f4a5f3"
      },
      "source": [
        "# ERROR\n",
        "def preprocess_function(x):\n",
        "    return tokenizer(x['text'], truncation=True, padding=\"max_length\", max_length=65, return_tensors=\"tf\")\n",
        "test_tokens = dsplit3['test'].map(preprocess_function)#, batched=True)\n",
        "test_tokens"
      ]
    },
    {
      "cell_type": "raw",
      "id": "6047f2cc-2134-4146-b674-8bb858b69a0f",
      "metadata": {
        "id": "6047f2cc-2134-4146-b674-8bb858b69a0f"
      },
      "source": [
        "test_tokens = dsplit3['test'].map(\n",
        "    lambda x: {\"input_ids\": tokenizer.encode(\n",
        "        x['text'], padding=\"max_length\", truncation=True, max_length=512\n",
        "    )},\n",
        "    batched=True\n",
        ")\n",
        "test_tokens[:1]"
      ]
    },
    {
      "cell_type": "raw",
      "id": "3913eda4-c578-4687-8356-241f34a610d3",
      "metadata": {
        "id": "3913eda4-c578-4687-8356-241f34a610d3"
      },
      "source": [
        "tokenized_dataset = dataset.map(\n",
        "    lambda x: flaubert_tokenizer.encode(\n",
        "        x['verbatim'], padding=max_length, truncation=True, max_length=512\n",
        "    ), batched=True) # this line raise the error \n",
        "\n",
        "tokenized_dataset = dataset.map(\n",
        "    lambda x: {\"input_ids\": flaubert_tokenizer.encode(\n",
        "        x['verbatim'], padding=max_length, truncation=True, max_length=512\n",
        "    )},\n",
        "    batched=True\n",
        ")"
      ]
    },
    {
      "cell_type": "raw",
      "id": "6c87eee7-fe07-4f9a-a79c-007be9bd71f8",
      "metadata": {
        "id": "6c87eee7-fe07-4f9a-a79c-007be9bd71f8"
      },
      "source": [
        "# ERROR (+ lent que la version au dessus)\n",
        "def tokenize_function(x):\n",
        "    return tokenizer(x[\"text\"], truncation=True, padding=\"max_length\", max_length=65, return_tensors=\"tf\")\n",
        "\n",
        "test_tokens = dsplit3['test'].map(tokenize_function)#, batched=True)\n",
        "test_tokens[:1]"
      ]
    },
    {
      "cell_type": "code",
      "source": [
        "def preprocess_function(x):\n",
        "    return tokenizer(x['text'], truncation=True, padding=\"max_length\", max_length=65, return_tensors=\"tf\")\n",
        "\n",
        "def batch_inference(data, model, tokenizer_func, sample_size=None, step_size=1000, verbose=1):\n",
        "\n",
        "  #out = {'logits':tf.zeros([0, data.shape[1]])}\n",
        "  predictions_batches = []\n",
        "  \n",
        "  max_index = data.shape[0] if sample_size is None else min(sample_size, data.shape[0])\n",
        "  print(\"max_index\", max_index)\n",
        "  for i in range(0, max_index, step_size):\n",
        "    max_step = min(max_index - i, step_size)\n",
        "\n",
        "    tokens = tokenizer_func(data[i:i+max_step])\n",
        "    preds = model(tokens)\n",
        "    predictions_batches.append(preds['logits'])\n",
        "\n",
        "    #out['logits'] = tf.concat(axis=0, values = [tf.cast(out['logits'], tf.float32), preds['logits']])\n",
        "    if verbose:\n",
        "      print(i, i+max_step)\n",
        "\n",
        "  # out2 = tf.concat(predictions_batches, axis=1)\n",
        "  out2 = \"Blop\"\n",
        "  return {'logits':out2}"
      ],
      "metadata": {
        "id": "i6JUcZ2Iqkzt"
      },
      "id": "i6JUcZ2Iqkzt",
      "execution_count": 120,
      "outputs": []
    },
    {
      "cell_type": "code",
      "source": [
        "# 10000\n",
        "t0 = time.perf_counter()\n",
        "tf_outputs = batch_inference(dsplit3[\"test\"], tf_model, preprocess_function, sample_size=20000, step_size=2000, verbose=1)\n",
        "#tf_outputs\n",
        "print(f\"Inference time: {(time.perf_counter() - t0):.2f}s\")"
      ],
      "metadata": {
        "colab": {
          "base_uri": "https://localhost:8080/"
        },
        "id": "xM1IUK7y4_QC",
        "outputId": "300c91f3-2e0a-41d8-af24-0b4daa0a20a1"
      },
      "id": "xM1IUK7y4_QC",
      "execution_count": 121,
      "outputs": [
        {
          "output_type": "stream",
          "name": "stdout",
          "text": [
            "max_index 10000\n",
            "0 2000\n",
            "2000 4000\n",
            "4000 6000\n",
            "6000 8000\n",
            "8000 10000\n",
            "Inference time: 18.66s\n"
          ]
        }
      ]
    },
    {
      "cell_type": "code",
      "source": [
        "tf_outputs"
      ],
      "metadata": {
        "id": "SFvF2ufv_se7",
        "outputId": "f55dcf02-7815-4cbd-bbea-57252671d5d0",
        "colab": {
          "base_uri": "https://localhost:8080/"
        }
      },
      "id": "SFvF2ufv_se7",
      "execution_count": 72,
      "outputs": [
        {
          "output_type": "execute_result",
          "data": {
            "text/plain": [
              "{'logits': <tf.Tensor: shape=(2000, 2), dtype=float32, numpy=\n",
              " array([[ 4.04228   , -3.3074424 ],\n",
              "        [-1.752534  ,  1.9127328 ],\n",
              "        [ 1.6398104 , -1.4212432 ],\n",
              "        ...,\n",
              "        [ 1.8359622 , -1.5229459 ],\n",
              "        [-0.86904997,  1.0118532 ],\n",
              "        [-0.34156895,  0.5226345 ]], dtype=float32)>}"
            ]
          },
          "metadata": {},
          "execution_count": 72
        }
      ]
    },
    {
      "cell_type": "code",
      "source": [
        "xxx"
      ],
      "metadata": {
        "id": "VJ4c9-aS_vUz",
        "outputId": "0cbe81e3-0948-45fd-ac90-afbc4cc7e1d5",
        "colab": {
          "base_uri": "https://localhost:8080/"
        }
      },
      "id": "VJ4c9-aS_vUz",
      "execution_count": 73,
      "outputs": [
        {
          "output_type": "execute_result",
          "data": {
            "text/plain": [
              "{'logits': <tf.Tensor: shape=(2000, 2), dtype=float32, numpy=\n",
              " array([[ 4.04228   , -3.3074424 ],\n",
              "        [-1.752534  ,  1.9127328 ],\n",
              "        [ 1.6398104 , -1.4212432 ],\n",
              "        ...,\n",
              "        [ 1.8359622 , -1.5229459 ],\n",
              "        [-0.86904997,  1.0118532 ],\n",
              "        [-0.34156895,  0.5226345 ]], dtype=float32)>}"
            ]
          },
          "metadata": {},
          "execution_count": 73
        }
      ]
    },
    {
      "cell_type": "code",
      "source": [
        "# 1000\n",
        "t0 = time.perf_counter()\n",
        "tf_outputs = batch_inference(dsplit3[\"test\"], tf_model, preprocess_function, sample_size=1000, step_size=1000, verbose=1)\n",
        "#tf_outputs\n",
        "print(f\"Inference time: {(time.perf_counter() - t0):.2f}s\")"
      ],
      "metadata": {
        "outputId": "c5725c5f-adcf-4339-90fc-48aedf6041c6",
        "colab": {
          "base_uri": "https://localhost:8080/"
        },
        "id": "z33FFHRI5r44"
      },
      "execution_count": 55,
      "outputs": [
        {
          "output_type": "stream",
          "name": "stdout",
          "text": [
            "max_index 1000\n",
            "0 1000\n",
            "Inference time: 0.17s\n"
          ]
        }
      ],
      "id": "z33FFHRI5r44"
    },
    {
      "cell_type": "code",
      "execution_count": 95,
      "id": "cdda308b-c535-49b7-b328-7059a375fb93",
      "metadata": {
        "colab": {
          "base_uri": "https://localhost:8080/"
        },
        "id": "cdda308b-c535-49b7-b328-7059a375fb93",
        "outputId": "3b764b35-3846-4fed-8488-78adc214674c"
      },
      "outputs": [
        {
          "output_type": "stream",
          "name": "stdout",
          "text": [
            "Inference time: 0.09s\n"
          ]
        }
      ],
      "source": [
        "# 100\n",
        "t0 = time.perf_counter()\n",
        "tf_outputs = tf_model(test_tokens)\n",
        "#tf_outputs\n",
        "print(f\"Inference time: {(time.perf_counter() - t0):.2f}s\")"
      ]
    },
    {
      "cell_type": "code",
      "execution_count": 79,
      "id": "38cdd09f-eb20-445c-8f22-ba52a4674a01",
      "metadata": {
        "id": "38cdd09f-eb20-445c-8f22-ba52a4674a01",
        "outputId": "84d9a42c-23c0-4f4b-8de8-f71a379bb43d",
        "colab": {
          "base_uri": "https://localhost:8080/"
        }
      },
      "outputs": [
        {
          "output_type": "execute_result",
          "data": {
            "text/plain": [
              "<tf.Tensor: shape=(5, 2), dtype=float32, numpy=\n",
              "array([[9.9935764e-01, 6.4235757e-04],\n",
              "       [2.4958465e-02, 9.7504151e-01],\n",
              "       [9.5525736e-01, 4.4742644e-02],\n",
              "       [7.0228521e-04, 9.9929774e-01],\n",
              "       [8.1635207e-02, 9.1836482e-01]], dtype=float32)>"
            ]
          },
          "metadata": {},
          "execution_count": 79
        }
      ],
      "source": [
        "tf_predictions = tf.nn.softmax(tf_outputs['logits'], axis=-1)\n",
        "tf_predictions[:5]"
      ]
    },
    {
      "cell_type": "code",
      "execution_count": 80,
      "id": "4d1962b1-e0c4-40bf-978c-0d2a5cd50ffa",
      "metadata": {
        "id": "4d1962b1-e0c4-40bf-978c-0d2a5cd50ffa",
        "outputId": "cf283c9d-2bab-46d4-8766-7689116b2965",
        "colab": {
          "base_uri": "https://localhost:8080/"
        }
      },
      "outputs": [
        {
          "output_type": "stream",
          "name": "stdout",
          "text": [
            "[0.00064235757, 0.9750415, 0.044742644, 0.99929774, 0.9183648]\n",
            "2000\n"
          ]
        }
      ],
      "source": [
        "y_preds_proba = tf_predictions.numpy()\n",
        "y_preds_proba = [x[1] for x in y_preds_proba]\n",
        "print(y_preds_proba[:5])\n",
        "print(len(y_preds_proba))\n"
      ]
    },
    {
      "cell_type": "code",
      "execution_count": null,
      "id": "cd06f1a4-fb4c-40de-8da3-620771ef5b62",
      "metadata": {
        "id": "cd06f1a4-fb4c-40de-8da3-620771ef5b62"
      },
      "outputs": [],
      "source": [
        ""
      ]
    },
    {
      "cell_type": "code",
      "execution_count": null,
      "id": "8ae41d97-40b5-4416-9bf7-670a68dc8e15",
      "metadata": {
        "id": "8ae41d97-40b5-4416-9bf7-670a68dc8e15"
      },
      "outputs": [],
      "source": [
        ""
      ]
    },
    {
      "cell_type": "markdown",
      "id": "92356d1c-bdcd-4945-b5fe-b8c59c9c40ba",
      "metadata": {
        "id": "92356d1c-bdcd-4945-b5fe-b8c59c9c40ba"
      },
      "source": [
        "---\n",
        "---"
      ]
    },
    {
      "cell_type": "code",
      "execution_count": null,
      "id": "0716481a-61e2-4fd8-8228-fbc5c6508f66",
      "metadata": {
        "id": "0716481a-61e2-4fd8-8228-fbc5c6508f66"
      },
      "outputs": [],
      "source": [
        ""
      ]
    },
    {
      "cell_type": "code",
      "execution_count": null,
      "id": "38788b2a-9240-4364-988d-fd3be1a3ec75",
      "metadata": {
        "id": "38788b2a-9240-4364-988d-fd3be1a3ec75"
      },
      "outputs": [],
      "source": [
        ""
      ]
    },
    {
      "cell_type": "code",
      "execution_count": null,
      "id": "7ad4d4f2-cee0-4d65-9e9b-cf4cac33a965",
      "metadata": {
        "id": "7ad4d4f2-cee0-4d65-9e9b-cf4cac33a965"
      },
      "outputs": [],
      "source": [
        "def preprocess_function(examples):\n",
        "    return tokenizer(examples[\"text\"], truncation=True)\n",
        " \n",
        "tokenized_test = dataset_df_split['train'].map(preprocess_function, batched=True)\n",
        "tokenized_test"
      ]
    },
    {
      "cell_type": "code",
      "execution_count": null,
      "id": "a5b0294c-4044-4fdf-8a43-93a51c839c00",
      "metadata": {
        "id": "a5b0294c-4044-4fdf-8a43-93a51c839c00"
      },
      "outputs": [],
      "source": [
        "tokenized_test[0]"
      ]
    },
    {
      "cell_type": "code",
      "execution_count": null,
      "id": "476ea58c-f305-44d1-bf24-1b66abd1ba3b",
      "metadata": {
        "id": "476ea58c-f305-44d1-bf24-1b66abd1ba3b"
      },
      "outputs": [],
      "source": [
        "tf_outputs = tf_model(tokenized_test)\n",
        "tf_outputs"
      ]
    },
    {
      "cell_type": "code",
      "execution_count": null,
      "id": "1915e94c-2b07-495a-9a20-c4cc80928729",
      "metadata": {
        "id": "1915e94c-2b07-495a-9a20-c4cc80928729"
      },
      "outputs": [],
      "source": [
        ""
      ]
    },
    {
      "cell_type": "code",
      "execution_count": null,
      "id": "78ae50be-77bf-43bd-abd1-e67f6f4ec013",
      "metadata": {
        "id": "78ae50be-77bf-43bd-abd1-e67f6f4ec013"
      },
      "outputs": [],
      "source": [
        "def encode(x):\n",
        "    #return tokenizer(str(x), truncation=True, padding=\"max_length\", return_tensors=\"tf\")\n",
        "    return tokenizer(str(x), truncation=True, padding=True, return_tensors=\"tf\")"
      ]
    },
    {
      "cell_type": "raw",
      "id": "bc3f1140-610c-4b2b-a9a6-4b44272b57a2",
      "metadata": {
        "id": "bc3f1140-610c-4b2b-a9a6-4b44272b57a2"
      },
      "source": [
        "dataset_df_tokens_train = dataset_df_split['train'].map(encode, batched=True)"
      ]
    },
    {
      "cell_type": "code",
      "execution_count": null,
      "id": "b667e118-f6c8-4358-80f4-22593fc46581",
      "metadata": {
        "id": "b667e118-f6c8-4358-80f4-22593fc46581"
      },
      "outputs": [],
      "source": [
        "data_test = dataset_df_split['test'].map(encode , batched=True)\n",
        "data_test"
      ]
    },
    {
      "cell_type": "code",
      "execution_count": null,
      "id": "514eab45-c8b2-420d-9770-0ed1776e7150",
      "metadata": {
        "id": "514eab45-c8b2-420d-9770-0ed1776e7150"
      },
      "outputs": [],
      "source": [
        ""
      ]
    },
    {
      "cell_type": "code",
      "execution_count": null,
      "id": "3f50d56e-7219-4586-942e-6bf9fc85aabc",
      "metadata": {
        "id": "3f50d56e-7219-4586-942e-6bf9fc85aabc"
      },
      "outputs": [],
      "source": [
        "# Create new index\n",
        "train_idx = [i for i in range(len(X_train.index))]\n",
        "test_idx = [i for i in range(len(X_test.index))]\n",
        "val_idx = [i for i in range(len(X_valid.index))]\n",
        "\n",
        "# Convert to numpy\n",
        "x_train = X_train.values[train_idx]\n",
        "x_test = X_test.values[test_idx]\n",
        "x_val = X_valid.values[val_idx]\n",
        "\n",
        "#y_train = y_train.values[train_idx]\n",
        "#y_test = y_test.values[test_idx]\n",
        "#y_val = y_valid.values[val_idx]"
      ]
    },
    {
      "cell_type": "code",
      "execution_count": null,
      "id": "fd28dac8-bd9e-4888-8482-71a5dcb7ea89",
      "metadata": {
        "id": "fd28dac8-bd9e-4888-8482-71a5dcb7ea89"
      },
      "outputs": [],
      "source": [
        "# Tokenize datasets\n",
        "tr_tok = tokenizer(list(x_train), return_tensors='tf', truncation=True, padding=True, max_length=128)\n",
        "val_tok = tokenizer(list(x_val), return_tensors='tf', truncation=True, padding=True, max_length=128)\n",
        "test_tok = tokenizer(list(x_test), return_tensors='tf', truncation=True, padding=True, max_length=128)"
      ]
    },
    {
      "cell_type": "code",
      "execution_count": null,
      "id": "435be76e-23e0-438d-b931-2fba988e94e0",
      "metadata": {
        "id": "435be76e-23e0-438d-b931-2fba988e94e0"
      },
      "outputs": [],
      "source": [
        "y_preds_raw = model(test_tok)"
      ]
    }
  ],
  "metadata": {
    "kernelspec": {
      "display_name": "venvP7",
      "language": "python",
      "name": "venvp7"
    },
    "language_info": {
      "codemirror_mode": {
        "name": "ipython",
        "version": 3
      },
      "file_extension": ".py",
      "mimetype": "text/x-python",
      "name": "python",
      "nbconvert_exporter": "python",
      "pygments_lexer": "ipython3",
      "version": "3.8.10"
    },
    "colab": {
      "name": "07_Classification_Transformers.ipynb",
      "provenance": []
    },
    "accelerator": "GPU",
    "gpuClass": "standard"
  },
  "nbformat": 4,
  "nbformat_minor": 5
}