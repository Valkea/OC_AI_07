{
 "cells": [
  {
   "cell_type": "markdown",
   "id": "725f1320-b353-4298-aa86-9c78836ee016",
   "metadata": {
    "id": "9bf11529-83a5-4504-a034-832ba1c996ce"
   },
   "source": [
    "# Menu <a class=\"anchor\" id=\"menu\"></a>\n",
    "   \n",
    "* [1. Préparatifs](#init)\n",
    "* [2. Quelques essais de `Transformers` **SANS fine-tuning**](#TRANS)\n",
    "    * [2.1 `distilbert-base-uncased-finetuned-sst-2-english` SANS fine-tunin](#TRANS_REF1)\n",
    "    * [2.2 `cardiffnlp/twitter-roberta-base-sentiment` SANS fine-tuning](#TRANS_REF2)"
   ]
  },
  {
   "cell_type": "markdown",
   "id": "f33e1e22-9357-4081-b4a7-a1851917dea1",
   "metadata": {
    "id": "221e6c06-6579-43fe-82f6-b313891f65dc"
   },
   "source": [
    "---\n",
    "---\n",
    "# 1. Préparatifs pour de la classification avec des Transformers <a class=\"anchor\" id=\"init\"></a> [⇪](#menu)"
   ]
  },
  {
   "cell_type": "code",
   "execution_count": 1,
   "id": "4uo9oguBoSMP",
   "metadata": {
    "colab": {
     "base_uri": "https://localhost:8080/"
    },
    "id": "4uo9oguBoSMP",
    "outputId": "2998effb-56b7-498d-9032-8c5f4e9281d9",
    "tags": []
   },
   "outputs": [
    {
     "name": "stdout",
     "output_type": "stream",
     "text": [
      "Looking in indexes: https://pypi.org/simple, https://us-python.pkg.dev/colab-wheels/public/simple/\n",
      "Requirement already satisfied: transformers in /usr/local/lib/python3.7/dist-packages (4.21.1)\n",
      "Requirement already satisfied: datasets in /usr/local/lib/python3.7/dist-packages (2.4.0)\n",
      "Requirement already satisfied: pyyaml>=5.1 in /usr/local/lib/python3.7/dist-packages (from transformers) (6.0)\n",
      "Requirement already satisfied: huggingface-hub<1.0,>=0.1.0 in /usr/local/lib/python3.7/dist-packages (from transformers) (0.8.1)\n",
      "Requirement already satisfied: filelock in /usr/local/lib/python3.7/dist-packages (from transformers) (3.7.1)\n",
      "Requirement already satisfied: tokenizers!=0.11.3,<0.13,>=0.11.1 in /usr/local/lib/python3.7/dist-packages (from transformers) (0.12.1)\n",
      "Requirement already satisfied: numpy>=1.17 in /usr/local/lib/python3.7/dist-packages (from transformers) (1.21.6)\n",
      "Requirement already satisfied: regex!=2019.12.17 in /usr/local/lib/python3.7/dist-packages (from transformers) (2022.6.2)\n",
      "Requirement already satisfied: importlib-metadata in /usr/local/lib/python3.7/dist-packages (from transformers) (4.12.0)\n",
      "Requirement already satisfied: requests in /usr/local/lib/python3.7/dist-packages (from transformers) (2.23.0)\n",
      "Requirement already satisfied: tqdm>=4.27 in /usr/local/lib/python3.7/dist-packages (from transformers) (4.64.0)\n",
      "Requirement already satisfied: packaging>=20.0 in /usr/local/lib/python3.7/dist-packages (from transformers) (21.3)\n",
      "Requirement already satisfied: typing-extensions>=3.7.4.3 in /usr/local/lib/python3.7/dist-packages (from huggingface-hub<1.0,>=0.1.0->transformers) (4.1.1)\n",
      "Requirement already satisfied: pyparsing!=3.0.5,>=2.0.2 in /usr/local/lib/python3.7/dist-packages (from packaging>=20.0->transformers) (3.0.9)\n",
      "Requirement already satisfied: fsspec[http]>=2021.11.1 in /usr/local/lib/python3.7/dist-packages (from datasets) (2022.7.1)\n",
      "Requirement already satisfied: responses<0.19 in /usr/local/lib/python3.7/dist-packages (from datasets) (0.18.0)\n",
      "Requirement already satisfied: pyarrow>=6.0.0 in /usr/local/lib/python3.7/dist-packages (from datasets) (6.0.1)\n",
      "Requirement already satisfied: dill<0.3.6 in /usr/local/lib/python3.7/dist-packages (from datasets) (0.3.5.1)\n",
      "Requirement already satisfied: xxhash in /usr/local/lib/python3.7/dist-packages (from datasets) (3.0.0)\n",
      "Requirement already satisfied: pandas in /usr/local/lib/python3.7/dist-packages (from datasets) (1.3.5)\n",
      "Requirement already satisfied: aiohttp in /usr/local/lib/python3.7/dist-packages (from datasets) (3.8.1)\n",
      "Requirement already satisfied: multiprocess in /usr/local/lib/python3.7/dist-packages (from datasets) (0.70.13)\n",
      "Requirement already satisfied: chardet<4,>=3.0.2 in /usr/local/lib/python3.7/dist-packages (from requests->transformers) (3.0.4)\n",
      "Requirement already satisfied: certifi>=2017.4.17 in /usr/local/lib/python3.7/dist-packages (from requests->transformers) (2022.6.15)\n",
      "Requirement already satisfied: idna<3,>=2.5 in /usr/local/lib/python3.7/dist-packages (from requests->transformers) (2.10)\n",
      "Requirement already satisfied: urllib3!=1.25.0,!=1.25.1,<1.26,>=1.21.1 in /usr/local/lib/python3.7/dist-packages (from requests->transformers) (1.25.11)\n",
      "Requirement already satisfied: yarl<2.0,>=1.0 in /usr/local/lib/python3.7/dist-packages (from aiohttp->datasets) (1.8.1)\n",
      "Requirement already satisfied: async-timeout<5.0,>=4.0.0a3 in /usr/local/lib/python3.7/dist-packages (from aiohttp->datasets) (4.0.2)\n",
      "Requirement already satisfied: attrs>=17.3.0 in /usr/local/lib/python3.7/dist-packages (from aiohttp->datasets) (22.1.0)\n",
      "Requirement already satisfied: frozenlist>=1.1.1 in /usr/local/lib/python3.7/dist-packages (from aiohttp->datasets) (1.3.0)\n",
      "Requirement already satisfied: aiosignal>=1.1.2 in /usr/local/lib/python3.7/dist-packages (from aiohttp->datasets) (1.2.0)\n",
      "Requirement already satisfied: asynctest==0.13.0 in /usr/local/lib/python3.7/dist-packages (from aiohttp->datasets) (0.13.0)\n",
      "Requirement already satisfied: multidict<7.0,>=4.5 in /usr/local/lib/python3.7/dist-packages (from aiohttp->datasets) (6.0.2)\n",
      "Requirement already satisfied: charset-normalizer<3.0,>=2.0 in /usr/local/lib/python3.7/dist-packages (from aiohttp->datasets) (2.1.0)\n",
      "Requirement already satisfied: zipp>=0.5 in /usr/local/lib/python3.7/dist-packages (from importlib-metadata->transformers) (3.8.1)\n",
      "Requirement already satisfied: pytz>=2017.3 in /usr/local/lib/python3.7/dist-packages (from pandas->datasets) (2022.1)\n",
      "Requirement already satisfied: python-dateutil>=2.7.3 in /usr/local/lib/python3.7/dist-packages (from pandas->datasets) (2.8.2)\n",
      "Requirement already satisfied: six>=1.5 in /usr/local/lib/python3.7/dist-packages (from python-dateutil>=2.7.3->pandas->datasets) (1.15.0)\n",
      "Looking in indexes: https://pypi.org/simple, https://us-python.pkg.dev/colab-wheels/public/simple/\n",
      "Requirement already satisfied: dagshub in /usr/local/lib/python3.7/dist-packages (0.1.8)\n",
      "Requirement already satisfied: PyYAML>=5 in /usr/local/lib/python3.7/dist-packages (from dagshub) (6.0)\n"
     ]
    }
   ],
   "source": [
    "!pip install transformers datasets\n",
    "!pip install dagshub"
   ]
  },
  {
   "cell_type": "raw",
   "id": "2dcc6085-5be3-4d5c-b252-615a92d591bd",
   "metadata": {
    "colab": {
     "base_uri": "https://localhost:8080/"
    },
    "id": "EIrJ6lw6oB5-",
    "outputId": "77c77960-f90b-44e9-c357-7cd2dd54bb37"
   },
   "source": [
    "from google.colab import drive\n",
    "drive.mount('/content/drive')"
   ]
  },
  {
   "cell_type": "code",
   "execution_count": 2,
   "id": "9k3kzYtYofhl",
   "metadata": {
    "colab": {
     "base_uri": "https://localhost:8080/",
     "height": 35
    },
    "id": "9k3kzYtYofhl",
    "outputId": "6d3cc92d-c51d-4e98-f3c3-7c4fe1a19133"
   },
   "outputs": [
    {
     "data": {
      "application/vnd.google.colaboratory.intrinsic+json": {
       "type": "string"
      },
      "text/plain": [
       "'/content/drive/MyDrive/Openclassrooms/OC_AI_07'"
      ]
     },
     "execution_count": 2,
     "metadata": {},
     "output_type": "execute_result"
    }
   ],
   "source": [
    "import os\n",
    "#os.chdir(\"/content/drive/MyDrive/Openclassrooms/OC_AI_O7\")\n",
    "os.getcwd()"
   ]
  },
  {
   "cell_type": "code",
   "execution_count": 3,
   "id": "075244a7-1459-4c89-8d3a-ef6b76941c19",
   "metadata": {
    "id": "075244a7-1459-4c89-8d3a-ef6b76941c19"
   },
   "outputs": [],
   "source": [
    "import time\n",
    "import pathlib \n",
    "\n",
    "import pandas as pd\n",
    "import numpy as np\n",
    "\n",
    "from sklearn.model_selection import train_test_split\n",
    "\n",
    "from dagshub import dagshub_logger, DAGsHubLogger\n",
    "from transformers import TFAutoModelForSequenceClassification, AutoTokenizer, pipeline\n",
    "from datasets import Dataset, load_dataset\n",
    "\n",
    "import tensorflow as tf\n",
    "\n",
    "random_seed = 0"
   ]
  },
  {
   "cell_type": "code",
   "execution_count": 4,
   "id": "BbqH05wWonLK",
   "metadata": {
    "colab": {
     "base_uri": "https://localhost:8080/"
    },
    "id": "BbqH05wWonLK",
    "outputId": "0cb3de6b-a6b1-4624-b22d-1f0286e4b3b5"
   },
   "outputs": [
    {
     "name": "stdout",
     "output_type": "stream",
     "text": [
      "Num GPUs Available:  1\n"
     ]
    }
   ],
   "source": [
    "print(\"Num GPUs Available: \", len(tf.config.list_physical_devices('GPU')))"
   ]
  },
  {
   "cell_type": "code",
   "execution_count": 5,
   "id": "945fd2e5-ea32-4965-b5d2-0279902c3b5e",
   "metadata": {},
   "outputs": [
    {
     "name": "stdout",
     "output_type": "stream",
     "text": [
      "GPU 0: Tesla T4 (UUID: GPU-870c2a75-6465-a88a-7c6d-85289da2705b)\n"
     ]
    }
   ],
   "source": [
    "!nvidia-smi -L"
   ]
  },
  {
   "cell_type": "markdown",
   "id": "218502a8-992b-47ec-a9b5-362416320dce",
   "metadata": {
    "id": "dad68b70-d9c4-40f2-a860-702be77c95ec"
   },
   "source": [
    "### Chargeons quelques fonctions *maison* pour entrainer et évaluer les modèles, et initialisons un fichier pour enregistrer les scores\n",
    "Ces fonctions ont été déportées dans le fichier classification_utils.py pour allèger le notebook"
   ]
  },
  {
   "cell_type": "code",
   "execution_count": 6,
   "id": "5550f35c-ddbc-453d-b767-9309432d19b7",
   "metadata": {
    "executionInfo": {
     "elapsed": 3108,
     "status": "ok",
     "timestamp": 1659976331477,
     "user": {
      "displayName": "Valkea",
      "userId": "01476199649418572392"
     },
     "user_tz": -120
    },
    "id": "0bc686b4-d5ec-40af-9d6d-3fdd0b518ed9"
   },
   "outputs": [],
   "source": [
    "# Load classification helpers' functions & initialize a file to log the models' scores\n",
    "from classification_utils import fit_model, get_scores, init_scores, find_best_threshold\n",
    "init_scores(\"data/scores_NN_SelectTransformers.csv\")"
   ]
  },
  {
   "cell_type": "markdown",
   "id": "87afefc7-f525-41a2-a684-6c3f921c813f",
   "metadata": {
    "id": "fe476b92-501a-4c20-bc6b-cd8e16e1a54a"
   },
   "source": [
    "### Définissons les `fonctions et paramètres commun` à l'entrainement des différents modèles que l'on veut tester"
   ]
  },
  {
   "cell_type": "code",
   "execution_count": 7,
   "id": "22d41aa6-9dbe-4ae6-8702-7e6f4254506f",
   "metadata": {
    "executionInfo": {
     "elapsed": 4,
     "status": "ok",
     "timestamp": 1659976379895,
     "user": {
      "displayName": "Valkea",
      "userId": "01476199649418572392"
     },
     "user_tz": -120
    },
    "id": "49e6994b-1eb7-46e5-a373-98403ef4b1ac"
   },
   "outputs": [],
   "source": [
    "# DagsHub \n",
    "\n",
    "def save_hyperparameters_to_dagshub(dlogger, model_name, archi_desc, layers, batch_size, sample_size):    \n",
    "    dlogger.log_hyperparams(model_name=model_name)\n",
    "    dlogger.log_hyperparams(archi_desc=archi_desc)\n",
    "    dlogger.log_hyperparams(layers=layers)\n",
    "    dlogger.log_hyperparams(batch_size=batch_size)\n",
    "    dlogger.log_hyperparams(sample_size=sample_size)\n",
    "    \n",
    "def save_metrics_to_dagshub(dlogger, scores, best_threshold, history=None, step_num=1000, close=True):\n",
    "    dlogger.log_metrics(scores, step_num=step_num)\n",
    "    dlogger.log_metrics(best_threshold=best_threshold, step_num=step_num)\n",
    "    if history:\n",
    "        add_scores_to_dagshub(dlogger, history)\n",
    "\n",
    "def get_layers_for_dagshub(model):\n",
    "    \n",
    "    layers_infos = []\n",
    "    \n",
    "    def search(layer):\n",
    "        layer = dict(layer)\n",
    "        \n",
    "        nonlocal layers_infos\n",
    "        \n",
    "        if 'config' in layer:\n",
    "    \n",
    "            #if 'name' in layer['config']:\n",
    "            #    print(\" name:\", layer['config']['name'])\n",
    "            conf = {}\n",
    "            if 'units' in layer['config']:\n",
    "                conf[\"units\"] = layer['config']['units']\n",
    "            if 'output_dim' in layer['config']:\n",
    "                conf['output_dim'] = layer['config']['output_dim']\n",
    "            if 'rate' in layer['config']:\n",
    "                conf['rate'] = layer['config']['rate']\n",
    "            \n",
    "            layers_infos.append((layer['class_name'], conf))\n",
    "            \n",
    "            if 'layer' in layer['config']:\n",
    "                search(layer['config']['layer'])\n",
    "        \n",
    "    for layer in model.get_config()['layers']:\n",
    "        search(layer)\n",
    "        \n",
    "    return layers_infos\n",
    "\n",
    "\n",
    "def add_scores_to_dagshub(dlogger, history):\n",
    "    for epoch, loss, accuracy, val_loss, val_accuracy in zip(\n",
    "        history.epoch, \n",
    "        history.history['loss'], \n",
    "        history.history['accuracy'], \n",
    "        history.history['val_loss'], \n",
    "        history.history['val_accuracy']):\n",
    "        scores = {\n",
    "            'loss':loss, \n",
    "            'accuracy':accuracy, \n",
    "            'val_loss':val_loss, \n",
    "            'val_accuracy':val_accuracy\n",
    "        }\n",
    "        dlogger.log_metrics(scores, step_num=epoch) "
   ]
  },
  {
   "cell_type": "markdown",
   "id": "a1950395-2f53-408c-a753-90be67b81f91",
   "metadata": {
    "id": "9a83e16a-e22c-4494-972e-20884fa549e3"
   },
   "source": [
    "### Chargeons le jeu de données et préparons un `échantillon de travail` représentatif"
   ]
  },
  {
   "cell_type": "code",
   "execution_count": 8,
   "id": "d61ffce1-e507-4c70-95d1-3063810ade98",
   "metadata": {
    "colab": {
     "base_uri": "https://localhost:8080/",
     "height": 273
    },
    "id": "d61ffce1-e507-4c70-95d1-3063810ade98",
    "outputId": "9546c118-785b-4cf7-f304-964bf346a9b0",
    "tags": []
   },
   "outputs": [
    {
     "data": {
      "text/html": [
       "\n",
       "  <div id=\"df-7050dbbf-d3b5-47a5-a283-45fba7c05f62\">\n",
       "    <div class=\"colab-df-container\">\n",
       "      <div>\n",
       "<style scoped>\n",
       "    .dataframe tbody tr th:only-of-type {\n",
       "        vertical-align: middle;\n",
       "    }\n",
       "\n",
       "    .dataframe tbody tr th {\n",
       "        vertical-align: top;\n",
       "    }\n",
       "\n",
       "    .dataframe thead th {\n",
       "        text-align: right;\n",
       "    }\n",
       "</style>\n",
       "<table border=\"1\" class=\"dataframe\">\n",
       "  <thead>\n",
       "    <tr style=\"text-align: right;\">\n",
       "      <th></th>\n",
       "      <th>label</th>\n",
       "      <th>text</th>\n",
       "    </tr>\n",
       "  </thead>\n",
       "  <tbody>\n",
       "    <tr>\n",
       "      <th>0</th>\n",
       "      <td>0</td>\n",
       "      <td>@switchfoot http://twitpic.com/2y1zl - Awww, t...</td>\n",
       "    </tr>\n",
       "    <tr>\n",
       "      <th>1</th>\n",
       "      <td>0</td>\n",
       "      <td>is upset that he can't update his Facebook by ...</td>\n",
       "    </tr>\n",
       "  </tbody>\n",
       "</table>\n",
       "</div>\n",
       "      <button class=\"colab-df-convert\" onclick=\"convertToInteractive('df-7050dbbf-d3b5-47a5-a283-45fba7c05f62')\"\n",
       "              title=\"Convert this dataframe to an interactive table.\"\n",
       "              style=\"display:none;\">\n",
       "        \n",
       "  <svg xmlns=\"http://www.w3.org/2000/svg\" height=\"24px\"viewBox=\"0 0 24 24\"\n",
       "       width=\"24px\">\n",
       "    <path d=\"M0 0h24v24H0V0z\" fill=\"none\"/>\n",
       "    <path d=\"M18.56 5.44l.94 2.06.94-2.06 2.06-.94-2.06-.94-.94-2.06-.94 2.06-2.06.94zm-11 1L8.5 8.5l.94-2.06 2.06-.94-2.06-.94L8.5 2.5l-.94 2.06-2.06.94zm10 10l.94 2.06.94-2.06 2.06-.94-2.06-.94-.94-2.06-.94 2.06-2.06.94z\"/><path d=\"M17.41 7.96l-1.37-1.37c-.4-.4-.92-.59-1.43-.59-.52 0-1.04.2-1.43.59L10.3 9.45l-7.72 7.72c-.78.78-.78 2.05 0 2.83L4 21.41c.39.39.9.59 1.41.59.51 0 1.02-.2 1.41-.59l7.78-7.78 2.81-2.81c.8-.78.8-2.07 0-2.86zM5.41 20L4 18.59l7.72-7.72 1.47 1.35L5.41 20z\"/>\n",
       "  </svg>\n",
       "      </button>\n",
       "      \n",
       "  <style>\n",
       "    .colab-df-container {\n",
       "      display:flex;\n",
       "      flex-wrap:wrap;\n",
       "      gap: 12px;\n",
       "    }\n",
       "\n",
       "    .colab-df-convert {\n",
       "      background-color: #E8F0FE;\n",
       "      border: none;\n",
       "      border-radius: 50%;\n",
       "      cursor: pointer;\n",
       "      display: none;\n",
       "      fill: #1967D2;\n",
       "      height: 32px;\n",
       "      padding: 0 0 0 0;\n",
       "      width: 32px;\n",
       "    }\n",
       "\n",
       "    .colab-df-convert:hover {\n",
       "      background-color: #E2EBFA;\n",
       "      box-shadow: 0px 1px 2px rgba(60, 64, 67, 0.3), 0px 1px 3px 1px rgba(60, 64, 67, 0.15);\n",
       "      fill: #174EA6;\n",
       "    }\n",
       "\n",
       "    [theme=dark] .colab-df-convert {\n",
       "      background-color: #3B4455;\n",
       "      fill: #D2E3FC;\n",
       "    }\n",
       "\n",
       "    [theme=dark] .colab-df-convert:hover {\n",
       "      background-color: #434B5C;\n",
       "      box-shadow: 0px 1px 3px 1px rgba(0, 0, 0, 0.15);\n",
       "      filter: drop-shadow(0px 1px 2px rgba(0, 0, 0, 0.3));\n",
       "      fill: #FFFFFF;\n",
       "    }\n",
       "  </style>\n",
       "\n",
       "      <script>\n",
       "        const buttonEl =\n",
       "          document.querySelector('#df-7050dbbf-d3b5-47a5-a283-45fba7c05f62 button.colab-df-convert');\n",
       "        buttonEl.style.display =\n",
       "          google.colab.kernel.accessAllowed ? 'block' : 'none';\n",
       "\n",
       "        async function convertToInteractive(key) {\n",
       "          const element = document.querySelector('#df-7050dbbf-d3b5-47a5-a283-45fba7c05f62');\n",
       "          const dataTable =\n",
       "            await google.colab.kernel.invokeFunction('convertToInteractive',\n",
       "                                                     [key], {});\n",
       "          if (!dataTable) return;\n",
       "\n",
       "          const docLinkHtml = 'Like what you see? Visit the ' +\n",
       "            '<a target=\"_blank\" href=https://colab.research.google.com/notebooks/data_table.ipynb>data table notebook</a>'\n",
       "            + ' to learn more about interactive tables.';\n",
       "          element.innerHTML = '';\n",
       "          dataTable['output_type'] = 'display_data';\n",
       "          await google.colab.output.renderOutput(dataTable, element);\n",
       "          const docLink = document.createElement('div');\n",
       "          docLink.innerHTML = docLinkHtml;\n",
       "          element.appendChild(docLink);\n",
       "        }\n",
       "      </script>\n",
       "    </div>\n",
       "  </div>\n",
       "  "
      ],
      "text/plain": [
       "   label                                               text\n",
       "0      0  @switchfoot http://twitpic.com/2y1zl - Awww, t...\n",
       "1      0  is upset that he can't update his Facebook by ..."
      ]
     },
     "metadata": {},
     "output_type": "display_data"
    },
    {
     "data": {
      "text/plain": [
       "(1452791, 2)"
      ]
     },
     "metadata": {},
     "output_type": "display_data"
    },
    {
     "data": {
      "text/html": [
       "\n",
       "  <div id=\"df-12a9c5c7-e160-49a7-819b-4169650aff40\">\n",
       "    <div class=\"colab-df-container\">\n",
       "      <div>\n",
       "<style scoped>\n",
       "    .dataframe tbody tr th:only-of-type {\n",
       "        vertical-align: middle;\n",
       "    }\n",
       "\n",
       "    .dataframe tbody tr th {\n",
       "        vertical-align: top;\n",
       "    }\n",
       "\n",
       "    .dataframe thead th {\n",
       "        text-align: right;\n",
       "    }\n",
       "</style>\n",
       "<table border=\"1\" class=\"dataframe\">\n",
       "  <thead>\n",
       "    <tr style=\"text-align: right;\">\n",
       "      <th></th>\n",
       "      <th>text</th>\n",
       "    </tr>\n",
       "    <tr>\n",
       "      <th>label</th>\n",
       "      <th></th>\n",
       "    </tr>\n",
       "  </thead>\n",
       "  <tbody>\n",
       "    <tr>\n",
       "      <th>0</th>\n",
       "      <td>I dont have a background for my twitter stream...</td>\n",
       "    </tr>\n",
       "    <tr>\n",
       "      <th>0</th>\n",
       "      <td>I did many things but missed tweeting</td>\n",
       "    </tr>\n",
       "  </tbody>\n",
       "</table>\n",
       "</div>\n",
       "      <button class=\"colab-df-convert\" onclick=\"convertToInteractive('df-12a9c5c7-e160-49a7-819b-4169650aff40')\"\n",
       "              title=\"Convert this dataframe to an interactive table.\"\n",
       "              style=\"display:none;\">\n",
       "        \n",
       "  <svg xmlns=\"http://www.w3.org/2000/svg\" height=\"24px\"viewBox=\"0 0 24 24\"\n",
       "       width=\"24px\">\n",
       "    <path d=\"M0 0h24v24H0V0z\" fill=\"none\"/>\n",
       "    <path d=\"M18.56 5.44l.94 2.06.94-2.06 2.06-.94-2.06-.94-.94-2.06-.94 2.06-2.06.94zm-11 1L8.5 8.5l.94-2.06 2.06-.94-2.06-.94L8.5 2.5l-.94 2.06-2.06.94zm10 10l.94 2.06.94-2.06 2.06-.94-2.06-.94-.94-2.06-.94 2.06-2.06.94z\"/><path d=\"M17.41 7.96l-1.37-1.37c-.4-.4-.92-.59-1.43-.59-.52 0-1.04.2-1.43.59L10.3 9.45l-7.72 7.72c-.78.78-.78 2.05 0 2.83L4 21.41c.39.39.9.59 1.41.59.51 0 1.02-.2 1.41-.59l7.78-7.78 2.81-2.81c.8-.78.8-2.07 0-2.86zM5.41 20L4 18.59l7.72-7.72 1.47 1.35L5.41 20z\"/>\n",
       "  </svg>\n",
       "      </button>\n",
       "      \n",
       "  <style>\n",
       "    .colab-df-container {\n",
       "      display:flex;\n",
       "      flex-wrap:wrap;\n",
       "      gap: 12px;\n",
       "    }\n",
       "\n",
       "    .colab-df-convert {\n",
       "      background-color: #E8F0FE;\n",
       "      border: none;\n",
       "      border-radius: 50%;\n",
       "      cursor: pointer;\n",
       "      display: none;\n",
       "      fill: #1967D2;\n",
       "      height: 32px;\n",
       "      padding: 0 0 0 0;\n",
       "      width: 32px;\n",
       "    }\n",
       "\n",
       "    .colab-df-convert:hover {\n",
       "      background-color: #E2EBFA;\n",
       "      box-shadow: 0px 1px 2px rgba(60, 64, 67, 0.3), 0px 1px 3px 1px rgba(60, 64, 67, 0.15);\n",
       "      fill: #174EA6;\n",
       "    }\n",
       "\n",
       "    [theme=dark] .colab-df-convert {\n",
       "      background-color: #3B4455;\n",
       "      fill: #D2E3FC;\n",
       "    }\n",
       "\n",
       "    [theme=dark] .colab-df-convert:hover {\n",
       "      background-color: #434B5C;\n",
       "      box-shadow: 0px 1px 3px 1px rgba(0, 0, 0, 0.15);\n",
       "      filter: drop-shadow(0px 1px 2px rgba(0, 0, 0, 0.3));\n",
       "      fill: #FFFFFF;\n",
       "    }\n",
       "  </style>\n",
       "\n",
       "      <script>\n",
       "        const buttonEl =\n",
       "          document.querySelector('#df-12a9c5c7-e160-49a7-819b-4169650aff40 button.colab-df-convert');\n",
       "        buttonEl.style.display =\n",
       "          google.colab.kernel.accessAllowed ? 'block' : 'none';\n",
       "\n",
       "        async function convertToInteractive(key) {\n",
       "          const element = document.querySelector('#df-12a9c5c7-e160-49a7-819b-4169650aff40');\n",
       "          const dataTable =\n",
       "            await google.colab.kernel.invokeFunction('convertToInteractive',\n",
       "                                                     [key], {});\n",
       "          if (!dataTable) return;\n",
       "\n",
       "          const docLinkHtml = 'Like what you see? Visit the ' +\n",
       "            '<a target=\"_blank\" href=https://colab.research.google.com/notebooks/data_table.ipynb>data table notebook</a>'\n",
       "            + ' to learn more about interactive tables.';\n",
       "          element.innerHTML = '';\n",
       "          dataTable['output_type'] = 'display_data';\n",
       "          await google.colab.output.renderOutput(dataTable, element);\n",
       "          const docLink = document.createElement('div');\n",
       "          docLink.innerHTML = docLinkHtml;\n",
       "          element.appendChild(docLink);\n",
       "        }\n",
       "      </script>\n",
       "    </div>\n",
       "  </div>\n",
       "  "
      ],
      "text/plain": [
       "                                                    text\n",
       "label                                                   \n",
       "0      I dont have a background for my twitter stream...\n",
       "0                 I did many things but missed tweeting "
      ]
     },
     "metadata": {},
     "output_type": "display_data"
    },
    {
     "data": {
      "text/plain": [
       "(100000, 1)"
      ]
     },
     "metadata": {},
     "output_type": "display_data"
    }
   ],
   "source": [
    "data_work = pd.read_csv(\n",
    "    pathlib.Path(pathlib.Path().absolute(), 'data', 'data_nlp_1563108.csv'), \n",
    "    usecols=['target', 'text'],\n",
    "    encoding='ISO-8859-1',\n",
    "    #nrows=100000,\n",
    ")\n",
    "data_work.rename(columns={'text':'text', 'target':'label'}, inplace=True)\n",
    "display(data_work.head(2), data_work.shape)\n",
    "\n",
    "# Select samples\n",
    "sample_size = 100000\n",
    "data_work = data_work.groupby('label', group_keys=False).apply(lambda x: x.sample(sample_size//2, random_state=random_seed))\n",
    "data_work.set_index('label', inplace=True, drop=True)\n",
    "display(data_work.head(2), data_work.shape)"
   ]
  },
  {
   "cell_type": "code",
   "execution_count": 9,
   "id": "23c5a5d9-6c87-4dd8-9065-495e094391bc",
   "metadata": {
    "id": "23c5a5d9-6c87-4dd8-9065-495e094391bc"
   },
   "outputs": [],
   "source": [
    "dataset = Dataset.from_pandas(data_work)"
   ]
  },
  {
   "cell_type": "code",
   "execution_count": 10,
   "id": "c90bf4db-b6ab-4dd7-92a7-a71d6d24c6f6",
   "metadata": {
    "colab": {
     "base_uri": "https://localhost:8080/"
    },
    "id": "c90bf4db-b6ab-4dd7-92a7-a71d6d24c6f6",
    "outputId": "423e0381-0bcb-46b7-dabc-f039f495b307"
   },
   "outputs": [
    {
     "data": {
      "text/plain": [
       "Dataset({\n",
       "    features: ['text', 'label'],\n",
       "    num_rows: 100000\n",
       "})"
      ]
     },
     "execution_count": 10,
     "metadata": {},
     "output_type": "execute_result"
    }
   ],
   "source": [
    "dataset"
   ]
  },
  {
   "cell_type": "markdown",
   "id": "4fd796e5-57ba-428c-9e6e-233d69d41291",
   "metadata": {
    "id": "f0781d8d-18b6-48d6-b8e1-78b477a6a950"
   },
   "source": [
    "### Divisons le jeu de données en `Train`, `Valid` et `Test` sets"
   ]
  },
  {
   "cell_type": "code",
   "execution_count": 11,
   "id": "37a06b98-badd-47da-8abb-cf01809227cb",
   "metadata": {
    "colab": {
     "base_uri": "https://localhost:8080/"
    },
    "id": "37a06b98-badd-47da-8abb-cf01809227cb",
    "outputId": "c0d3452c-72ac-4bed-bc18-2ccba8c82ff7"
   },
   "outputs": [
    {
     "name": "stdout",
     "output_type": "stream",
     "text": [
      "train_full: (80000, 2), test: (20000, 2)\n"
     ]
    }
   ],
   "source": [
    "dsplit = dataset.train_test_split(test_size=0.2, seed=random_seed)\n",
    "train_full_df = dsplit['train']\n",
    "test_df = dsplit['test']\n",
    "\n",
    "#dsplit = train_full_df.train_test_split(test_size=test_df.shape[0], seed=random_seed)\n",
    "#train_df = dsplit['train']\n",
    "#valid_df = dsplit['test']\n",
    "\n",
    "print(f\"train_full: {train_full_df.shape}, test: {test_df.shape}\")"
   ]
  },
  {
   "cell_type": "markdown",
   "id": "fe02358f-4686-461e-bba1-a0520962dd6c",
   "metadata": {
    "id": "fe02358f-4686-461e-bba1-a0520962dd6c"
   },
   "source": [
    "---\n",
    "---\n",
    "# 2 - AutoModel & AutoTokenizer <a class=\"anchor\" id=\"TRANS\"></a> [⇪](#menu)"
   ]
  },
  {
   "cell_type": "markdown",
   "id": "27e3eb7e-07c3-41b8-a5d0-de37abba8751",
   "metadata": {
    "tags": []
   },
   "source": [
    "---\n",
    "## 2.1 `distilbert-base-uncased-finetuned-sst-2-english` <a class=\"anchor\" id=\"TRANS_REF1\"></a> [⇪](#menu)"
   ]
  },
  {
   "cell_type": "code",
   "execution_count": 12,
   "id": "3f485fde-99b5-4060-a080-b690d4b65c61",
   "metadata": {
    "id": "3f485fde-99b5-4060-a080-b690d4b65c61"
   },
   "outputs": [],
   "source": [
    "hug_model_name = \"nlptown/bert-base-multilingual-uncased-sentiment\" # 5 labels\n",
    "hug_model_name = \"cardiffnlp/twitter-roberta-base-sentiment-latest\" # 3 labels mais fait pour\n",
    "hug_model_name = \"distilbert-base-uncased-finetuned-sst-2-english\" # 2 labels\n",
    "# finiteautomata/bertweet-base-sentiment-analysis ??\n",
    "# \"distilbert-base-uncased\" --> fine-tuning"
   ]
  },
  {
   "cell_type": "code",
   "execution_count": 13,
   "id": "a4a129da-bc64-4c88-b4c3-e1e99edd2ae9",
   "metadata": {
    "colab": {
     "base_uri": "https://localhost:8080/"
    },
    "id": "a4a129da-bc64-4c88-b4c3-e1e99edd2ae9",
    "outputId": "4ef33c3e-2bdb-4d7f-c7d7-d368cdb078a5"
   },
   "outputs": [
    {
     "name": "stderr",
     "output_type": "stream",
     "text": [
      "All model checkpoint layers were used when initializing TFDistilBertForSequenceClassification.\n",
      "\n",
      "All the layers of TFDistilBertForSequenceClassification were initialized from the model checkpoint at distilbert-base-uncased-finetuned-sst-2-english.\n",
      "If your task is similar to the task the model of the checkpoint was trained on, you can already use TFDistilBertForSequenceClassification for predictions without further training.\n"
     ]
    }
   ],
   "source": [
    "tf_model = TFAutoModelForSequenceClassification.from_pretrained(hug_model_name)\n",
    "tokenizer = AutoTokenizer.from_pretrained(hug_model_name)"
   ]
  },
  {
   "cell_type": "code",
   "execution_count": 14,
   "id": "i6JUcZ2Iqkzt",
   "metadata": {
    "id": "i6JUcZ2Iqkzt"
   },
   "outputs": [],
   "source": [
    "def preprocess_function(x):\n",
    "    return tokenizer(x['text'], truncation=True, padding=\"max_length\", max_length=65, return_tensors=\"tf\")\n",
    "\n",
    "def batch_inference(data, model, tokenizer_func, sample_size=None, step_size=1000, verbose=1):\n",
    "\n",
    "    out = {'logits':tf.zeros([0, data.shape[1]])}\n",
    "    # predictions_batches = []\n",
    "\n",
    "    max_index = data.shape[0] if sample_size is None else min(sample_size, data.shape[0])\n",
    "    print(\"max_index\", max_index)\n",
    "    for i in range(0, max_index, step_size):\n",
    "        max_step = min(max_index - i, step_size)\n",
    "\n",
    "        tokens = tokenizer_func(data[i:i+max_step])\n",
    "        preds = model(tokens)\n",
    "        # predictions_batches.append(preds['logits'])\n",
    "\n",
    "        out['logits'] = tf.concat(axis=0, values = [tf.cast(out['logits'], tf.float32), preds['logits']])\n",
    "        \n",
    "        if verbose:\n",
    "            print(i, i+max_step)\n",
    "\n",
    "    #out2 = tf.concat(predictions_batches, axis=1)\n",
    "    return out #{'logits':out2}"
   ]
  },
  {
   "cell_type": "markdown",
   "id": "16b0e538-3033-46bd-abbd-ca02f2114eda",
   "metadata": {},
   "source": [
    "#### Quelques tests simples"
   ]
  },
  {
   "cell_type": "code",
   "execution_count": 15,
   "id": "2f418d75-f8fe-441d-9bb2-708bb423b895",
   "metadata": {
    "id": "2f418d75-f8fe-441d-9bb2-708bb423b895"
   },
   "outputs": [],
   "source": [
    "test_txt = [\"I hate this stuff\", \"I really love it\"]\n",
    "test_tokens = tokenizer(test_txt, truncation=True, padding=\"max_length\", max_length=65, return_tensors=\"tf\")"
   ]
  },
  {
   "cell_type": "code",
   "execution_count": 16,
   "id": "504c0548-c255-449c-88b8-4c08623a06b4",
   "metadata": {
    "colab": {
     "base_uri": "https://localhost:8080/"
    },
    "id": "504c0548-c255-449c-88b8-4c08623a06b4",
    "outputId": "8222960c-1de9-4d9a-a7a1-27ae4160b60f"
   },
   "outputs": [
    {
     "data": {
      "text/plain": [
       "TFSequenceClassifierOutput([('logits',\n",
       "                             <tf.Tensor: shape=(2, 2), dtype=float32, numpy=\n",
       "                             array([[ 4.3156366, -3.500103 ],\n",
       "                                    [-4.3277135,  4.691517 ]], dtype=float32)>)])"
      ]
     },
     "execution_count": 16,
     "metadata": {},
     "output_type": "execute_result"
    }
   ],
   "source": [
    "tf_outputs = tf_model(test_tokens)\n",
    "tf_outputs"
   ]
  },
  {
   "cell_type": "code",
   "execution_count": 17,
   "id": "7798d167-3224-4446-b158-50d11079e587",
   "metadata": {
    "colab": {
     "base_uri": "https://localhost:8080/"
    },
    "id": "7798d167-3224-4446-b158-50d11079e587",
    "outputId": "81bc59f6-82a9-48e7-f284-9641f9a4c94c"
   },
   "outputs": [
    {
     "data": {
      "text/plain": [
       "<tf.Tensor: shape=(2, 2), dtype=float32, numpy=\n",
       "array([[9.9959689e-01, 4.0317379e-04],\n",
       "       [1.2104466e-04, 9.9987888e-01]], dtype=float32)>"
      ]
     },
     "execution_count": 17,
     "metadata": {},
     "output_type": "execute_result"
    }
   ],
   "source": [
    "tf_predictions = tf.nn.softmax(tf_outputs.logits, axis=-1)\n",
    "tf_predictions"
   ]
  },
  {
   "cell_type": "code",
   "execution_count": 18,
   "id": "cfac425f-a3c4-44d9-beb4-5a63402a1d95",
   "metadata": {
    "colab": {
     "base_uri": "https://localhost:8080/"
    },
    "id": "cfac425f-a3c4-44d9-beb4-5a63402a1d95",
    "outputId": "61b5495d-4453-4015-ed77-981746c2c3ac"
   },
   "outputs": [
    {
     "data": {
      "text/plain": [
       "[0.0004031738, 0.9998789]"
      ]
     },
     "execution_count": 18,
     "metadata": {},
     "output_type": "execute_result"
    }
   ],
   "source": [
    "y_preds_proba = tf_predictions.numpy()\n",
    "y_preds_proba = [x[1] for x in y_preds_proba]\n",
    "y_preds_proba"
   ]
  },
  {
   "cell_type": "markdown",
   "id": "5ea2937c-1393-4138-b550-2dc4269640c7",
   "metadata": {
    "id": "33faf204-03e0-48d8-99b9-9aee3bc00ba3"
   },
   "source": [
    "#### Définissons un logger DagsHub pour enregistrer notre essai"
   ]
  },
  {
   "cell_type": "code",
   "execution_count": 19,
   "id": "c6163c41-9e76-46a3-9531-b32535ab8718",
   "metadata": {},
   "outputs": [],
   "source": [
    "model_name = \"Transformers_REF1\"\n",
    "archi_desc = f\"Auto* RAW \\\"{hug_model_name}\\\"\"\n",
    "X_test_ready = test_df['text']\n",
    "y_test = test_df['label']"
   ]
  },
  {
   "cell_type": "code",
   "execution_count": 20,
   "id": "ffe9ab1a-193e-4b9d-b925-e9ce78de778d",
   "metadata": {
    "executionInfo": {
     "elapsed": 24,
     "status": "ok",
     "timestamp": 1659980380940,
     "user": {
      "displayName": "Valkea",
      "userId": "01476199649418572392"
     },
     "user_tz": -120
    },
    "id": "8f5c52a9-ab2a-4443-b5e6-ba2675ee413f"
   },
   "outputs": [],
   "source": [
    "dagslogger = DAGsHubLogger()"
   ]
  },
  {
   "cell_type": "code",
   "execution_count": 21,
   "id": "4955c085-70e1-40db-905a-cad0a3133606",
   "metadata": {
    "executionInfo": {
     "elapsed": 24,
     "status": "ok",
     "timestamp": 1659980380942,
     "user": {
      "displayName": "Valkea",
      "userId": "01476199649418572392"
     },
     "user_tz": -120
    },
    "id": "89096d1d-f1da-42a7-9b1f-6322f59228b6"
   },
   "outputs": [],
   "source": [
    "save_hyperparameters_to_dagshub(dagslogger, model_name, archi_desc, hug_model_name, None, dataset.shape[0])"
   ]
  },
  {
   "cell_type": "markdown",
   "id": "1551961d-80f4-48b9-be1e-78138df07b1d",
   "metadata": {
    "id": "f19558ac-e43c-406f-8703-2614fe1c2b60"
   },
   "source": [
    "### Inference"
   ]
  },
  {
   "cell_type": "raw",
   "id": "d295d7c2-36c9-4fe5-8ddc-f86d4b9cdc3a",
   "metadata": {
    "id": "e4e1c55d-502f-40fc-b8d0-2083180ea566"
   },
   "source": [
    "# OK\n",
    "test_tokens = tokenizer(test_txt, truncation=True, padding=\"max_length\", return_tensors=\"tf\")"
   ]
  },
  {
   "cell_type": "raw",
   "id": "f548c73f-2a2f-4c52-9b5f-b298090bba08",
   "metadata": {
    "colab": {
     "base_uri": "https://localhost:8080/"
    },
    "id": "b5f06d83-7d62-4522-b723-1c9f0c674d6b",
    "outputId": "637a8d6c-832c-4e2d-ec60-70551c4a5060"
   },
   "source": [
    "# OK\n",
    "test_txt = data_work.text[:100].to_list()\n",
    "test_tokens = tokenizer(test_txt, truncation=True, padding=\"max_length\", max_length=65, return_tensors=\"tf\")\n",
    "test_tokens[:1]"
   ]
  },
  {
   "cell_type": "markdown",
   "id": "e0a2b080-5173-4f67-be1f-537e16cf4c45",
   "metadata": {},
   "source": [
    "#### Utilisons une fonction pour faire des inférences en batch (sinon ça ne passe pas en mémoire)"
   ]
  },
  {
   "cell_type": "code",
   "execution_count": 22,
   "id": "xM1IUK7y4_QC",
   "metadata": {
    "colab": {
     "base_uri": "https://localhost:8080/"
    },
    "id": "xM1IUK7y4_QC",
    "outputId": "300c91f3-2e0a-41d8-af24-0b4daa0a20a1"
   },
   "outputs": [
    {
     "name": "stdout",
     "output_type": "stream",
     "text": [
      "max_index 20000\n",
      "0 1000\n",
      "1000 2000\n",
      "2000 3000\n",
      "3000 4000\n",
      "4000 5000\n",
      "5000 6000\n",
      "6000 7000\n",
      "7000 8000\n",
      "8000 9000\n",
      "9000 10000\n",
      "10000 11000\n",
      "11000 12000\n",
      "12000 13000\n",
      "13000 14000\n",
      "14000 15000\n",
      "15000 16000\n",
      "16000 17000\n",
      "17000 18000\n",
      "18000 19000\n",
      "19000 20000\n",
      "Inference time: 41.46s\n"
     ]
    }
   ],
   "source": [
    "t0 = time.perf_counter()\n",
    "tf_outputs = batch_inference(test_df, tf_model, preprocess_function, sample_size=20000, step_size=1000, verbose=1)\n",
    "#tf_outputs\n",
    "inf_time = time.perf_counter() - t0\n",
    "print(f\"Inference time: {inf_time:.2f}s\")"
   ]
  },
  {
   "cell_type": "markdown",
   "id": "ee269422-a9a0-4d6e-a8c9-9a84c303bf7a",
   "metadata": {},
   "source": [
    "#### Convertissons les scores en probabilité"
   ]
  },
  {
   "cell_type": "code",
   "execution_count": 23,
   "id": "4d1962b1-e0c4-40bf-978c-0d2a5cd50ffa",
   "metadata": {
    "colab": {
     "base_uri": "https://localhost:8080/"
    },
    "id": "4d1962b1-e0c4-40bf-978c-0d2a5cd50ffa",
    "outputId": "cf283c9d-2bab-46d4-8766-7689116b2965"
   },
   "outputs": [
    {
     "name": "stdout",
     "output_type": "stream",
     "text": [
      "[1.1235430e-03 2.8306460e-03 9.9813831e-01 ... 3.3877930e-04 2.2621293e-02\n",
      " 9.8465192e-01]\n",
      "20000\n"
     ]
    }
   ],
   "source": [
    "tf_predictions = tf.nn.softmax(tf_outputs['logits'], axis=-1)\n",
    "\n",
    "y_preds_proba = tf_predictions.numpy()\n",
    "y_preds_proba = np.array([x[1] for x in y_preds_proba])\n",
    "print(y_preds_proba)\n",
    "print(len(y_preds_proba))"
   ]
  },
  {
   "cell_type": "markdown",
   "id": "9fbb0655-c137-4d84-8c7c-9ed366fdb88f",
   "metadata": {},
   "source": [
    "#### Convertissons les probabilité en label (avec un threshold par défaut de 0.5)"
   ]
  },
  {
   "cell_type": "code",
   "execution_count": 24,
   "id": "cd06f1a4-fb4c-40de-8da3-620771ef5b62",
   "metadata": {
    "id": "cd06f1a4-fb4c-40de-8da3-620771ef5b62"
   },
   "outputs": [
    {
     "data": {
      "text/plain": [
       "array([0, 0, 1, ..., 0, 0, 1])"
      ]
     },
     "execution_count": 24,
     "metadata": {},
     "output_type": "execute_result"
    }
   ],
   "source": [
    "y_preds = (y_preds_proba >= 0.5).astype(\"int\")\n",
    "y_preds"
   ]
  },
  {
   "cell_type": "markdown",
   "id": "7aaf33cd-208e-4cdd-ad09-c013ba1862e8",
   "metadata": {
    "id": "f19558ac-e43c-406f-8703-2614fe1c2b60"
   },
   "source": [
    "### Evaluate"
   ]
  },
  {
   "cell_type": "code",
   "execution_count": 25,
   "id": "2e477e47-215a-4dde-96e1-f204bfd9219d",
   "metadata": {},
   "outputs": [
    {
     "name": "stdout",
     "output_type": "stream",
     "text": [
      "----------------------------------------------------------------------------------------------------\n",
      "          These information are based on the best estimator of the above cross-validation           \n",
      "----------------------------------------------------------------------------------------------------\n",
      "\n",
      "--- Transformers_REF1 ------------------------------------------------------------------------------\n",
      "\n",
      "             ROC_AUC : 0.7957\n",
      "                  F1 : 0.6864\n",
      "            ACCURACY : 0.7158\n",
      "           PRECISION : 0.7696\n",
      "              RECALL : 0.6194\n",
      "   AVERAGE_PRECISION : 0.7958\n",
      "\n",
      "       TRAINING-TIME : 0.0000\n",
      "      INFERENCE-TIME : 41.4613\n",
      "\n",
      "--- Classification Report -------------------------------------------------------------------------- \n",
      "\n",
      "                 precision    recall  f1-score   support\n",
      "\n",
      "Prediction = 0       0.68      0.81      0.74      9961\n",
      "Prediction = 1       0.77      0.62      0.69     10039\n",
      "\n",
      "      accuracy                           0.72     20000\n",
      "     macro avg       0.72      0.72      0.71     20000\n",
      "  weighted avg       0.72      0.72      0.71     20000\n",
      "\n",
      "--- Confusion Matrix ------------------------------------------------------------------------------- \n",
      "\n"
     ]
    },
    {
     "data": {
      "image/png": "[encoded data removed]",
      "text/plain": [
       "<Figure size 432x432 with 2 Axes>"
      ]
     },
     "metadata": {
      "needs_background": "light"
     },
     "output_type": "display_data"
    },
    {
     "name": "stdout",
     "output_type": "stream",
     "text": [
      "--- ROC AUC ---------------------------------------------------------------------------------------- \n",
      "\n"
     ]
    },
    {
     "data": {
      "image/png": "[encoded data removed]",
      "text/plain": [
       "<Figure size 360x360 with 1 Axes>"
      ]
     },
     "metadata": {
      "needs_background": "light"
     },
     "output_type": "display_data"
    },
    {
     "name": "stdout",
     "output_type": "stream",
     "text": [
      "--- PRECISION RECALL AUC --------------------------------------------------------------------------- \n",
      "\n"
     ]
    },
    {
     "data": {
      "image/png": "[encoded data removed]",
      "text/plain": [
       "<Figure size 360x360 with 1 Axes>"
      ]
     },
     "metadata": {
      "needs_background": "light"
     },
     "output_type": "display_data"
    }
   ],
   "source": [
    "scores = get_scores(\n",
    "    model_name,\n",
    "    y_ref=y_test,\n",
    "    y_pred=y_preds,\n",
    "    y_pred_proba=y_preds_proba,\n",
    "    threshold=0.5,\n",
    "    training_time=0,\n",
    "    inference_time=inf_time,\n",
    "    show_roccurves=True,\n",
    "    register=True,\n",
    ")"
   ]
  },
  {
   "cell_type": "markdown",
   "id": "8743749f-dea2-40f8-8ed1-18bd00b225eb",
   "metadata": {
    "id": "a7fef833-f925-4682-8c58-431ee2deb96e"
   },
   "source": [
    "#### Enregistrons les scores pour DagsHub"
   ]
  },
  {
   "cell_type": "code",
   "execution_count": 26,
   "id": "0d6e1761-d074-4c6b-9070-791739cd2473",
   "metadata": {
    "executionInfo": {
     "elapsed": 33,
     "status": "ok",
     "timestamp": 1659981026047,
     "user": {
      "displayName": "Valkea",
      "userId": "01476199649418572392"
     },
     "user_tz": -120
    },
    "id": "83cf1c0c-1e0b-4aaa-ad7c-3312d024858d"
   },
   "outputs": [],
   "source": [
    "save_metrics_to_dagshub(dagslogger, scores, 0.5, None)\n",
    "dagslogger.save() \n",
    "dagslogger.close()"
   ]
  },
  {
   "cell_type": "markdown",
   "id": "7de3b77f-3b0d-44b7-9730-1b1867e29def",
   "metadata": {
    "tags": []
   },
   "source": [
    "---\n",
    "## 2.2 `cardiffnlp/twitter-roberta-base-sentiment` <a class=\"anchor\" id=\"TRANS_REF2\"></a> [⇪](#menu)"
   ]
  },
  {
   "cell_type": "code",
   "execution_count": null,
   "id": "06c39bdc-7bc3-443d-a863-4829c367113c",
   "metadata": {
    "id": "3f485fde-99b5-4060-a080-b690d4b65c61"
   },
   "outputs": [],
   "source": [
    "hug_model_name = \"cardiffnlp/twitter-roberta-base-sentiment\""
   ]
  },
  {
   "cell_type": "code",
   "execution_count": null,
   "id": "944e686b-224f-4605-aa2f-40f0d83e260e",
   "metadata": {
    "colab": {
     "base_uri": "https://localhost:8080/"
    },
    "id": "a4a129da-bc64-4c88-b4c3-e1e99edd2ae9",
    "outputId": "4ef33c3e-2bdb-4d7f-c7d7-d368cdb078a5"
   },
   "outputs": [],
   "source": [
    "tf_model = TFAutoModelForSequenceClassification.from_pretrained(hug_model_name)\n",
    "tokenizer = AutoTokenizer.from_pretrained(hug_model_name)"
   ]
  },
  {
   "cell_type": "code",
   "execution_count": null,
   "id": "c02f7b62-622b-46f9-b18c-e972ac6c635a",
   "metadata": {
    "id": "i6JUcZ2Iqkzt"
   },
   "outputs": [],
   "source": [
    "def preprocess_function(x):\n",
    "    return tokenizer(x['text'], truncation=True, padding=\"max_length\", max_length=65, return_tensors=\"tf\")\n",
    "\n",
    "def batch_inference(data, model, tokenizer_func, sample_size=None, step_size=1000, verbose=1):\n",
    "\n",
    "    out = {'logits':tf.zeros([0, 3])}\n",
    "    # predictions_batches = []\n",
    "\n",
    "    max_index = data.shape[0] if sample_size is None else min(sample_size, data.shape[0])\n",
    "    print(\"max_index\", max_index)\n",
    "    for i in range(0, max_index, step_size):\n",
    "        max_step = min(max_index - i, step_size)\n",
    "\n",
    "        tokens = tokenizer_func(data[i:i+max_step])\n",
    "        preds = model(tokens)\n",
    "        # predictions_batches.append(preds['logits'])\n",
    "\n",
    "        out['logits'] = tf.concat(axis=0, values = [tf.cast(out['logits'], tf.float32), preds['logits']])\n",
    "        \n",
    "        if verbose:\n",
    "            print(i, i+max_step)\n",
    "\n",
    "    #out2 = tf.concat(predictions_batches, axis=1)\n",
    "    return out #{'logits':out2}"
   ]
  },
  {
   "cell_type": "markdown",
   "id": "4b55f022-51e3-4306-b282-db0ccd9c4d00",
   "metadata": {},
   "source": [
    "#### Quelques tests simples"
   ]
  },
  {
   "cell_type": "code",
   "execution_count": null,
   "id": "9f64bb4e-93b0-4e16-be45-c01c5a916e5c",
   "metadata": {
    "id": "2f418d75-f8fe-441d-9bb2-708bb423b895"
   },
   "outputs": [],
   "source": [
    "test_txt = [\"I hate this stuff\", \"I really love it\"]\n",
    "test_tokens = tokenizer(test_txt, truncation=True, padding=\"max_length\", max_length=65, return_tensors=\"tf\")"
   ]
  },
  {
   "cell_type": "code",
   "execution_count": null,
   "id": "bb9953da-e166-44d9-a93d-92191e8043b2",
   "metadata": {
    "colab": {
     "base_uri": "https://localhost:8080/"
    },
    "id": "504c0548-c255-449c-88b8-4c08623a06b4",
    "outputId": "8222960c-1de9-4d9a-a7a1-27ae4160b60f"
   },
   "outputs": [],
   "source": [
    "tf_outputs = tf_model(test_tokens)\n",
    "tf_outputs"
   ]
  },
  {
   "cell_type": "code",
   "execution_count": null,
   "id": "de2b9f30-27fd-4e08-bcc6-db306edb2f52",
   "metadata": {
    "colab": {
     "base_uri": "https://localhost:8080/"
    },
    "id": "7798d167-3224-4446-b158-50d11079e587",
    "outputId": "81bc59f6-82a9-48e7-f284-9641f9a4c94c"
   },
   "outputs": [],
   "source": [
    "tf_predictions = tf.nn.softmax(tf_outputs.logits, axis=-1)\n",
    "tf_predictions"
   ]
  },
  {
   "cell_type": "code",
   "execution_count": null,
   "id": "b3c96b9d-2681-4ed4-9d7f-9c0a21eef652",
   "metadata": {
    "colab": {
     "base_uri": "https://localhost:8080/"
    },
    "id": "cfac425f-a3c4-44d9-beb4-5a63402a1d95",
    "outputId": "61b5495d-4453-4015-ed77-981746c2c3ac"
   },
   "outputs": [],
   "source": [
    "y_preds_proba = tf_predictions.numpy()\n",
    "y_preds_proba = [x[1] for x in y_preds_proba]\n",
    "y_preds_proba"
   ]
  },
  {
   "cell_type": "markdown",
   "id": "0e02b71a-f8cc-4731-85f8-b4960dc191d1",
   "metadata": {
    "id": "33faf204-03e0-48d8-99b9-9aee3bc00ba3"
   },
   "source": [
    "#### Définissons un logger DagsHub pour enregistrer notre essai"
   ]
  },
  {
   "cell_type": "code",
   "execution_count": null,
   "id": "75893eb3-2d96-48e5-a4d7-69227591c8db",
   "metadata": {},
   "outputs": [],
   "source": [
    "model_name = \"Transformers_REF2\"\n",
    "archi_desc = f\"Auto* RAW \\\"{hug_model_name}\\\"\"\n",
    "X_test_ready = test_df['text']\n",
    "y_test = test_df['label']"
   ]
  },
  {
   "cell_type": "code",
   "execution_count": null,
   "id": "ed98ca74-2b5f-4b70-9037-0ad83620f624",
   "metadata": {
    "executionInfo": {
     "elapsed": 24,
     "status": "ok",
     "timestamp": 1659980380940,
     "user": {
      "displayName": "Valkea",
      "userId": "01476199649418572392"
     },
     "user_tz": -120
    },
    "id": "8f5c52a9-ab2a-4443-b5e6-ba2675ee413f"
   },
   "outputs": [],
   "source": [
    "dagslogger = DAGsHubLogger()"
   ]
  },
  {
   "cell_type": "code",
   "execution_count": null,
   "id": "47ca8ede-a6b9-414b-bce9-6062aa11cbbb",
   "metadata": {
    "executionInfo": {
     "elapsed": 24,
     "status": "ok",
     "timestamp": 1659980380942,
     "user": {
      "displayName": "Valkea",
      "userId": "01476199649418572392"
     },
     "user_tz": -120
    },
    "id": "89096d1d-f1da-42a7-9b1f-6322f59228b6"
   },
   "outputs": [],
   "source": [
    "save_hyperparameters_to_dagshub(dagslogger, model_name, archi_desc, hug_model_name, None, dataset.shape[0])"
   ]
  },
  {
   "cell_type": "markdown",
   "id": "9cb0582e-a36c-46cf-8281-4c729b3d32f3",
   "metadata": {
    "id": "f19558ac-e43c-406f-8703-2614fe1c2b60"
   },
   "source": [
    "### Inference"
   ]
  },
  {
   "cell_type": "code",
   "execution_count": null,
   "id": "2bd87cb7-68fc-4580-8c43-1e9eaa2784d1",
   "metadata": {
    "colab": {
     "base_uri": "https://localhost:8080/"
    },
    "id": "xM1IUK7y4_QC",
    "outputId": "300c91f3-2e0a-41d8-af24-0b4daa0a20a1"
   },
   "outputs": [],
   "source": [
    "t0 = time.perf_counter()\n",
    "tf_outputs = batch_inference(test_df, tf_model, preprocess_function, sample_size=20000, step_size=1000, verbose=1)\n",
    "#tf_outputs\n",
    "inf_time = time.perf_counter() - t0\n",
    "print(f\"Inference time: {inf_time:.2f}s\")"
   ]
  },
  {
   "cell_type": "markdown",
   "id": "dfd27f51-1d3a-4dd0-8663-fd091ff4c4f3",
   "metadata": {},
   "source": [
    "#### Convertissons les scores en probabilité"
   ]
  },
  {
   "cell_type": "code",
   "execution_count": null,
   "id": "376af0c1-5ce4-47ff-a0e6-75eca20d1e20",
   "metadata": {},
   "outputs": [],
   "source": [
    "tf_outputs['logits']"
   ]
  },
  {
   "cell_type": "code",
   "execution_count": null,
   "id": "5d2aeda7-d073-4680-9209-a030b94ea092",
   "metadata": {
    "colab": {
     "base_uri": "https://localhost:8080/"
    },
    "id": "4d1962b1-e0c4-40bf-978c-0d2a5cd50ffa",
    "outputId": "cf283c9d-2bab-46d4-8766-7689116b2965"
   },
   "outputs": [],
   "source": [
    "tf_predictions = tf.nn.softmax(tf_outputs['logits'], axis=-1)\n",
    "\n",
    "y_preds_proba = tf_predictions.numpy()\n",
    "y_preds_proba = np.array([x[2] for x in y_preds_proba])\n",
    "print(y_preds_proba)\n",
    "print(len(y_preds_proba))"
   ]
  },
  {
   "cell_type": "markdown",
   "id": "8b5d6302-8ec7-455a-ad92-c1001b50d077",
   "metadata": {},
   "source": [
    "#### Convertissons les probabilité en label (avec un threshold par défaut de 0.5)"
   ]
  },
  {
   "cell_type": "code",
   "execution_count": null,
   "id": "b7f85b07-eea3-43fb-b0c0-b9e8c71cf79c",
   "metadata": {
    "id": "cd06f1a4-fb4c-40de-8da3-620771ef5b62"
   },
   "outputs": [],
   "source": [
    "y_preds = (y_preds_proba >= 0.5).astype(\"int\")\n",
    "y_preds"
   ]
  },
  {
   "cell_type": "markdown",
   "id": "29a88486-5898-4bfc-8863-ed5e1e364c85",
   "metadata": {
    "id": "f19558ac-e43c-406f-8703-2614fe1c2b60"
   },
   "source": [
    "### Evaluate"
   ]
  },
  {
   "cell_type": "code",
   "execution_count": null,
   "id": "9434a64b-21ed-4ef5-8a7e-129a57e34ac0",
   "metadata": {},
   "outputs": [],
   "source": [
    "scores = get_scores(\n",
    "    model_name,\n",
    "    y_ref=y_test,\n",
    "    y_pred=y_preds,\n",
    "    y_pred_proba=y_preds_proba,\n",
    "    threshold=0.5,\n",
    "    training_time=0,\n",
    "    inference_time=inf_time,\n",
    "    show_roccurves=True,\n",
    "    register=True,\n",
    ")"
   ]
  },
  {
   "cell_type": "markdown",
   "id": "793c1152-0be9-4d4e-b58d-2a396a0ff49b",
   "metadata": {
    "id": "a7fef833-f925-4682-8c58-431ee2deb96e"
   },
   "source": [
    "#### Enregistrons les scores pour DagsHub"
   ]
  },
  {
   "cell_type": "code",
   "execution_count": null,
   "id": "f5b7d5ad-9091-4c06-bf33-717d97453ca5",
   "metadata": {
    "executionInfo": {
     "elapsed": 33,
     "status": "ok",
     "timestamp": 1659981026047,
     "user": {
      "displayName": "Valkea",
      "userId": "01476199649418572392"
     },
     "user_tz": -120
    },
    "id": "83cf1c0c-1e0b-4aaa-ad7c-3312d024858d"
   },
   "outputs": [],
   "source": [
    "save_metrics_to_dagshub(dagslogger, scores, 0.5, None)\n",
    "dagslogger.save() \n",
    "dagslogger.close()"
   ]
  },
  {
   "cell_type": "code",
   "execution_count": null,
   "id": "6daad10c-2681-4dea-910d-64582218bc74",
   "metadata": {},
   "outputs": [],
   "source": []
  }
 ],
 "metadata": {
  "accelerator": "GPU",
  "colab": {
   "name": "07_Classification_Transformers.ipynb",
   "provenance": []
  },
  "gpuClass": "standard",
  "kernelspec": {
   "display_name": "Python 3",
   "language": "python",
   "name": "python3"
  },
  "language_info": {
   "codemirror_mode": {
    "name": "ipython",
    "version": 3
   },
   "file_extension": ".py",
   "mimetype": "text/x-python",
   "name": "python",
   "nbconvert_exporter": "python",
   "pygments_lexer": "ipython3",
   "version": "3.7.13"
  }
 },
 "nbformat": 4,
 "nbformat_minor": 5
}
