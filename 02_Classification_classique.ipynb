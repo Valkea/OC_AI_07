{
 "cells": [
  {
   "cell_type": "markdown",
   "id": "85f62893-0675-4590-a1d6-7e07e0e2c919",
   "metadata": {},
   "source": [
    "# Menu <a class=\"anchor\" id=\"menu\"></a>\n",
    "   \n",
    "* [1. Préparation du jeu de données](#init)\n",
    "    * [1.1 Séparation du jeu de données en `train`, `valid` et `test` sets](#NLP_split)\n",
    "    * [1.2 Création du Corpus Bag-Of-Words](#NLP_corpus_bow)\n",
    "    * [1.3 Création du Corpus TF-IDF](#NLP_corpus_tfidf)\n",
    "* [2. Recherche d'un modèle de classification](#CLF)\n",
    "    * [2.1 DummyClassifier](#CLF_dummy)\n",
    "    * [2.2 LogisticRegression](#CLF_logreg)"
   ]
  },
  {
   "cell_type": "code",
   "execution_count": 1,
   "id": "3a1eb694-76ee-4986-a77e-5559cf2fc02f",
   "metadata": {
    "tags": []
   },
   "outputs": [],
   "source": [
    "import pathlib\n",
    "import pandas as pd\n",
    "import numpy as np\n",
    "import joblib\n",
    "\n",
    "random_seed = 0\n",
    "np.random.seed(random_seed)"
   ]
  },
  {
   "cell_type": "markdown",
   "id": "52c58649-c3c7-4a45-8f13-a082056f5ecf",
   "metadata": {},
   "source": [
    "---\n",
    "---\n",
    "# 1. Préparation du jeu de données <a class=\"anchor\" id=\"init\"></a> [⇪](#menu)"
   ]
  },
  {
   "cell_type": "raw",
   "id": "362dac0d-d9fd-4d14-a5d4-e2c44a03490b",
   "metadata": {},
   "source": [
    "data_nlp_path = pathlib.Path(pathlib.Path().absolute(), 'data', 'data_nlp.csv')\n",
    "data_nlp = pd.read_csv(data_nlp_path)"
   ]
  },
  {
   "cell_type": "code",
   "execution_count": 2,
   "id": "9a55218f-d1f0-450d-82a4-73bd9c87916c",
   "metadata": {},
   "outputs": [],
   "source": [
    "data_nlp_path = pathlib.Path(pathlib.Path().absolute(), 'data', 'data_nlp.bin')\n",
    "data_nlp = joblib.load(data_nlp_path)"
   ]
  },
  {
   "cell_type": "code",
   "execution_count": 3,
   "id": "c725f2c9-ddcc-4901-b238-8ab292d8d15b",
   "metadata": {},
   "outputs": [
    {
     "data": {
      "text/html": [
       "<div>\n",
       "<style scoped>\n",
       "    .dataframe tbody tr th:only-of-type {\n",
       "        vertical-align: middle;\n",
       "    }\n",
       "\n",
       "    .dataframe tbody tr th {\n",
       "        vertical-align: top;\n",
       "    }\n",
       "\n",
       "    .dataframe thead th {\n",
       "        text-align: right;\n",
       "    }\n",
       "</style>\n",
       "<table border=\"1\" class=\"dataframe\">\n",
       "  <thead>\n",
       "    <tr style=\"text-align: right;\">\n",
       "      <th></th>\n",
       "      <th>target</th>\n",
       "      <th>lemmas</th>\n",
       "    </tr>\n",
       "  </thead>\n",
       "  <tbody>\n",
       "    <tr>\n",
       "      <th>1180586</th>\n",
       "      <td>1</td>\n",
       "      <td>[omg, yes, yes, yes, watch]</td>\n",
       "    </tr>\n",
       "    <tr>\n",
       "      <th>1471360</th>\n",
       "      <td>1</td>\n",
       "      <td>[excuse, wii]</td>\n",
       "    </tr>\n",
       "  </tbody>\n",
       "</table>\n",
       "</div>"
      ],
      "text/plain": [
       "        target                       lemmas\n",
       "1180586      1  [omg, yes, yes, yes, watch]\n",
       "1471360      1                [excuse, wii]"
      ]
     },
     "metadata": {},
     "output_type": "display_data"
    },
    {
     "data": {
      "text/plain": [
       "(456560, 2)"
      ]
     },
     "metadata": {},
     "output_type": "display_data"
    }
   ],
   "source": [
    "display(data_nlp.head(2), data_nlp.shape)"
   ]
  },
  {
   "cell_type": "code",
   "execution_count": 4,
   "id": "a18a789c-e1ec-4707-8098-3d69e50fd8a7",
   "metadata": {},
   "outputs": [
    {
     "name": "stdout",
     "output_type": "stream",
     "text": [
      "<class 'pandas.core.frame.DataFrame'>\n",
      "Int64Index: 456560 entries, 1180586 to 646681\n",
      "Data columns (total 2 columns):\n",
      " #   Column  Non-Null Count   Dtype   \n",
      "---  ------  --------------   -----   \n",
      " 0   target  456560 non-null  category\n",
      " 1   lemmas  456560 non-null  object  \n",
      "dtypes: category(1), object(1)\n",
      "memory usage: 7.4+ MB\n"
     ]
    }
   ],
   "source": [
    "data_nlp.info()"
   ]
  },
  {
   "cell_type": "markdown",
   "id": "986aef24-0159-475f-b87d-4afd4a7a332f",
   "metadata": {},
   "source": [
    "---\n",
    "## 1.1 Séparation du jeu de données en `train`, `valid` et `test` sets <a class=\"anchor\" id=\"NLP_split\"></a> [⇪](#menu)"
   ]
  },
  {
   "cell_type": "raw",
   "id": "75dd7f80-de9b-49b9-80b1-6e8cad4aba4c",
   "metadata": {},
   "source": [
    "# Encodage de la target (plus nécessaire puisque je l'ai encodé durant l'EDA)\n",
    "from sklearn.preprocessing import LabelEncoder\n",
    "label_encoder = LabelEncoder()\n",
    "targets = label_encoder.fit_transform(data_nlp.target)"
   ]
  },
  {
   "cell_type": "code",
   "execution_count": 5,
   "id": "102c2782-91f9-4b90-83b5-05ceabc2b101",
   "metadata": {},
   "outputs": [],
   "source": [
    "from sklearn.model_selection import train_test_split"
   ]
  },
  {
   "cell_type": "code",
   "execution_count": 6,
   "id": "229ebf33-8543-4b74-bc56-10f134b0dd48",
   "metadata": {},
   "outputs": [],
   "source": [
    "df_train, df_test, y_train, y_test = train_test_split(data_nlp.lemmas, data_nlp.target, test_size=0.2)"
   ]
  },
  {
   "cell_type": "code",
   "execution_count": 7,
   "id": "9245c7ab-23f2-41d0-899c-8f147bb726cf",
   "metadata": {},
   "outputs": [
    {
     "data": {
      "text/plain": [
       "((365248,), (91312,), (365248,), (91312,))"
      ]
     },
     "execution_count": 7,
     "metadata": {},
     "output_type": "execute_result"
    }
   ],
   "source": [
    "df_train.shape, df_test.shape, y_train.shape, y_test.shape"
   ]
  },
  {
   "cell_type": "markdown",
   "id": "10ad69c4-3757-43d0-886e-b68e8096774d",
   "metadata": {},
   "source": [
    "---\n",
    "## 1.2 Création des Corpus Bag-Of-Words <a class=\"anchor\" id=\"NLP_corpus_bow\"></a> [⇪](#menu)\n",
    "\n",
    "Le `Corpus - Bag Of Word` contient une liste (un pour chaque document) de *term vectors* qui indiquent la fréquence de chaque mot du *vocabulaire*."
   ]
  },
  {
   "cell_type": "raw",
   "id": "175c7447-7908-4293-b38f-037ac410349e",
   "metadata": {},
   "source": [
    "corpus_bow = [dictionary.doc2bow(doc) for doc in data_nlp['lemmas']]"
   ]
  },
  {
   "cell_type": "code",
   "execution_count": 8,
   "id": "192dcc91-4f17-49be-93fc-a9ba58d18d7c",
   "metadata": {},
   "outputs": [
    {
     "data": {
      "text/plain": [
       "365248"
      ]
     },
     "execution_count": 8,
     "metadata": {},
     "output_type": "execute_result"
    }
   ],
   "source": [
    "corpus_train = [\" \".join(x) for x in df_train]\n",
    "len(corpus_train)"
   ]
  },
  {
   "cell_type": "code",
   "execution_count": 9,
   "id": "62e6267f-8045-455d-97c6-023256656bd8",
   "metadata": {},
   "outputs": [
    {
     "data": {
      "text/plain": [
       "91312"
      ]
     },
     "execution_count": 9,
     "metadata": {},
     "output_type": "execute_result"
    }
   ],
   "source": [
    "corpus_test = [\" \".join(x) for x in df_test]\n",
    "len(corpus_test)"
   ]
  },
  {
   "cell_type": "markdown",
   "id": "587b44a0-450a-4e63-94fe-46ab7fcdee85",
   "metadata": {},
   "source": [
    "---\n",
    "## 1.3 Création des Corpus TF-IDF <a class=\"anchor\" id=\"NLP_corpus_tfidf\"></a> [⇪](#menu)\n",
    "Le `Corpus - TF-IDF` est une version *normalisée* du Bag-Of-Words pour éviter que des mots sans importance mais fréquents prennent trop d'importance."
   ]
  },
  {
   "cell_type": "raw",
   "id": "57542942-1424-4ed0-941a-3c5ca8214628",
   "metadata": {},
   "source": [
    "from gensim.models import TfidfModel\n",
    "\n",
    "tfidf = TfidfModel(corpus_bow) # on a pas besoin de mettre les min_df et max_df ici car on a déjà appliqué un filter_extremes sur le Dictionnary\n",
    "corpus_tfidf = tfidf[corpus_bow]"
   ]
  },
  {
   "cell_type": "code",
   "execution_count": 10,
   "id": "ac361b2a-f7a4-417f-91e9-dbf7a5af365f",
   "metadata": {},
   "outputs": [
    {
     "data": {
      "text/plain": [
       "array(['aa', 'aaa', 'aaaa', ..., 'zzzzzzzzzz', 'ðº', 'ðºð'], dtype=object)"
      ]
     },
     "metadata": {},
     "output_type": "display_data"
    },
    {
     "data": {
      "text/plain": [
       "(365248, 14864)"
      ]
     },
     "metadata": {},
     "output_type": "display_data"
    }
   ],
   "source": [
    "from sklearn.feature_extraction.text import TfidfVectorizer\n",
    "\n",
    "tfidf_vectorizer_train = TfidfVectorizer(use_idf=True, min_df=5, max_df=0.5)\n",
    "X_train = tfidf_vectorizer_train.fit_transform(corpus_train)\n",
    "display(tfidf_vectorizer_train.get_feature_names_out(), X_train.shape)"
   ]
  },
  {
   "cell_type": "code",
   "execution_count": 11,
   "id": "cfb785e2-8b4b-4401-8dc4-27c05881e9dd",
   "metadata": {},
   "outputs": [
    {
     "name": "stdout",
     "output_type": "stream",
     "text": [
      "(91312, 14864)\n"
     ]
    }
   ],
   "source": [
    "X_test = tfidf_vectorizer_train.transform(corpus_test)\n",
    "print(X_test.shape)"
   ]
  },
  {
   "cell_type": "markdown",
   "id": "2397781c-7f7e-4210-b473-bbda76d25c25",
   "metadata": {},
   "source": [
    "---\n",
    "---\n",
    "# 2. Recherche d'un modèle de classification <a class=\"anchor\" id=\"CLF\"></a> [⇪](#menu)"
   ]
  },
  {
   "cell_type": "markdown",
   "id": "20d66db1-6ddc-46ac-9d47-631d0b6ca23d",
   "metadata": {},
   "source": [
    "#### Chargeons les fonctions de classification écrites sur les projets précédents"
   ]
  },
  {
   "cell_type": "code",
   "execution_count": 12,
   "id": "e83c4df3-3ab7-43c3-91e1-b12513e430ba",
   "metadata": {},
   "outputs": [],
   "source": [
    "from classification_utils import fit_model, get_scores, init_scores\n",
    "\n",
    "init_scores(\"data/scores_classique.csv\")"
   ]
  },
  {
   "cell_type": "markdown",
   "id": "377dce8e-5968-4567-bb2b-3f51c9f2907f",
   "metadata": {
    "id": "d5becdef-5d03-4ac6-ba08-94715061dc51"
   },
   "source": [
    "#### Définissons une méthode de `cross-validation`"
   ]
  },
  {
   "cell_type": "code",
   "execution_count": 13,
   "id": "bafe04e5-7202-43dc-981d-e6ea15c02e02",
   "metadata": {
    "id": "bd3e09fc-72fa-4be3-9b2f-a48051235a2f"
   },
   "outputs": [],
   "source": [
    "from sklearn.model_selection import StratifiedKFold\n",
    "\n",
    "skfold = StratifiedKFold(n_splits=5, shuffle=True, random_state=random_seed)"
   ]
  },
  {
   "cell_type": "markdown",
   "id": "f8b15b5f-fe72-41d7-9efc-8bf4bfba8e9d",
   "metadata": {
    "id": "99b75ac5-0b31-4686-aa69-ef77517b71e8"
   },
   "source": [
    "## 2.1 Établissons une base-line avec un algorithm naïf *(Dummy Classifier)* <a class=\"anchor\" id=\"CLF_dummy\"></a> [⇪](#menu)"
   ]
  },
  {
   "cell_type": "code",
   "execution_count": 14,
   "id": "4af1c0a1-65f0-4f70-862c-b5ae56309ed5",
   "metadata": {
    "id": "52ee9c57-880e-4635-a63e-4a242fe68af7"
   },
   "outputs": [],
   "source": [
    "from sklearn.dummy import DummyClassifier\n",
    "import time"
   ]
  },
  {
   "cell_type": "code",
   "execution_count": 15,
   "id": "0617eb97-6c42-4fff-a453-d7374fb55472",
   "metadata": {
    "id": "d318c7af-bc9d-4dfe-8fb4-5af3b6438347"
   },
   "outputs": [],
   "source": [
    "model_name = \"DummyClassifier\""
   ]
  },
  {
   "cell_type": "code",
   "execution_count": 16,
   "id": "33f1dc3e-967b-49bc-a204-7992d412d7cd",
   "metadata": {
    "colab": {
     "base_uri": "https://localhost:8080/"
    },
    "executionInfo": {
     "elapsed": 3315,
     "status": "ok",
     "timestamp": 1653231822882,
     "user": {
      "displayName": "Valkea",
      "userId": "01476199649418572392"
     },
     "user_tz": -120
    },
    "id": "2c9046b3-6e99-4d18-b0c5-f913afa97d6a",
    "outputId": "c919d246-8292-44e9-834c-3d9cd32656c0"
   },
   "outputs": [
    {
     "name": "stderr",
     "output_type": "stream",
     "text": [
      "/home/valkea/Dev/OpenClassrooms/Projets_AI/P7/venvP7/lib/python3.8/site-packages/sklearn/model_selection/_search.py:306: UserWarning: The total space of parameters 1 is smaller than n_iter=10. Running 1 iterations. For exhaustive searches, use GridSearchCV.\n",
      "  warnings.warn(\n"
     ]
    },
    {
     "name": "stdout",
     "output_type": "stream",
     "text": [
      "----------------------------------------------------------------------------------------------------\n",
      "FOLD-1   TEST scores | ROC_AUC: 0.5002\n",
      "----------------------------------------------------------------------------------------------------\n",
      "FOLD-2   TEST scores | ROC_AUC: 0.5006\n",
      "----------------------------------------------------------------------------------------------------\n",
      "FOLD-3   TEST scores | ROC_AUC: 0.4983\n",
      "----------------------------------------------------------------------------------------------------\n",
      "FOLD-4   TEST scores | ROC_AUC: 0.4992\n",
      "----------------------------------------------------------------------------------------------------\n",
      "FOLD-5   TEST scores | ROC_AUC: 0.4977\n",
      "\n",
      "------------------------------------ TEST-CV-SPLIT MEAN SCORES -------------------------------------\n",
      "\n",
      "- ROC_AUC: 0.4992 (std:0.0011)\n",
      "\n",
      "----------------------------------------------------------------------------------------------------\n"
     ]
    }
   ],
   "source": [
    "grd_dummy = fit_model( \n",
    "    DummyClassifier(),\n",
    "    param_grid={ 'random_state':[random_seed], 'strategy':['stratified'] }, \n",
    "    cv = skfold,\n",
    "    verbose=2,\n",
    "    X_ref = X_train,\n",
    "    y_ref = y_train,\n",
    ")"
   ]
  },
  {
   "cell_type": "code",
   "execution_count": 17,
   "id": "36069b51-b207-4287-8781-e52a9e9c2944",
   "metadata": {
    "colab": {
     "base_uri": "https://localhost:8080/",
     "height": 1000
    },
    "executionInfo": {
     "elapsed": 2497,
     "status": "ok",
     "timestamp": 1653231825366,
     "user": {
      "displayName": "Valkea",
      "userId": "01476199649418572392"
     },
     "user_tz": -120
    },
    "id": "17023ec7-6f7e-4c25-b1e6-ae5d083745cb",
    "outputId": "52248d39-5d93-4ee8-9557-a5b6ff945f69"
   },
   "outputs": [
    {
     "name": "stdout",
     "output_type": "stream",
     "text": [
      "----------------------------------------------------------------------------------------------------\n",
      "          These information are based on the best estimator of the above cross-validation           \n",
      "----------------------------------------------------------------------------------------------------\n",
      "\n",
      "--- DummyClassifier --------------------------------------------------------------------------------\n",
      "\n",
      "             ROC_AUC : 0.4995\n",
      "                  F1 : 0.4956\n",
      "            ACCURACY : 0.4995\n",
      "           PRECISION : 0.4952\n",
      "              RECALL : 0.4960\n",
      "   AVERAGE_PRECISION : 0.4955\n",
      "\n",
      "--- Classification Report -------------------------------------------------------------------------- \n",
      "\n",
      "                 precision    recall  f1-score   support\n",
      "\n",
      "Prediction = 0       0.50      0.50      0.50     46044\n",
      "Prediction = 1       0.50      0.50      0.50     45268\n",
      "\n",
      "      accuracy                           0.50     91312\n",
      "     macro avg       0.50      0.50      0.50     91312\n",
      "  weighted avg       0.50      0.50      0.50     91312\n",
      "\n",
      "--- Confusion Matrix ------------------------------------------------------------------------------- \n",
      "\n"
     ]
    },
    {
     "data": {
      "image/png": "[encoded data removed]",
      "text/plain": [
       "<Figure size 432x432 with 2 Axes>"
      ]
     },
     "metadata": {
      "needs_background": "light"
     },
     "output_type": "display_data"
    },
    {
     "name": "stdout",
     "output_type": "stream",
     "text": [
      "--- ROC AUC ---------------------------------------------------------------------------------------- \n",
      "\n"
     ]
    },
    {
     "data": {
      "image/png": "[encoded data removed]",
      "text/plain": [
       "<Figure size 360x360 with 1 Axes>"
      ]
     },
     "metadata": {
      "needs_background": "light"
     },
     "output_type": "display_data"
    },
    {
     "name": "stdout",
     "output_type": "stream",
     "text": [
      "--- PRECISION RECALL AUC --------------------------------------------------------------------------- \n",
      "\n"
     ]
    },
    {
     "data": {
      "image/png": "[encoded data removed]",
      "text/plain": [
       "<Figure size 360x360 with 1 Axes>"
      ]
     },
     "metadata": {
      "needs_background": "light"
     },
     "output_type": "display_data"
    }
   ],
   "source": [
    "get_scores(model_name, **grd_dummy, register=True, X_ref=X_test, y_ref=y_test)"
   ]
  },
  {
   "cell_type": "code",
   "execution_count": 18,
   "id": "153ea13d-fa1b-4bab-80ba-c8931409e1a7",
   "metadata": {
    "id": "7062fda1-bdda-46ea-b019-d2e9eae48f99"
   },
   "outputs": [],
   "source": [
    "del grd_dummy"
   ]
  },
  {
   "cell_type": "markdown",
   "id": "4e5f95aa-955a-4a89-856c-5874297da721",
   "metadata": {
    "id": "728fca76-6bb8-4402-8bb0-ff5bce8f39b1"
   },
   "source": [
    "## 2.2 Essayons un algorithme linéaire - Logistic Regression <a class=\"anchor\" id=\"CLF_logreg\"></a> [⇪](#menu)"
   ]
  },
  {
   "cell_type": "code",
   "execution_count": 19,
   "id": "3156e064-0f1d-43a9-a9d1-84fd9eaafaaf",
   "metadata": {
    "id": "f8114082-269f-437a-96e3-403be5eaa46a"
   },
   "outputs": [],
   "source": [
    "from sklearn.linear_model import LogisticRegression"
   ]
  },
  {
   "cell_type": "code",
   "execution_count": 20,
   "id": "b37a069c-c3d0-4b8a-9b41-01f602da64a8",
   "metadata": {
    "id": "698fda51-d051-4f74-92d7-27960d30f85b"
   },
   "outputs": [],
   "source": [
    "from scipy.stats import uniform, loguniform"
   ]
  },
  {
   "cell_type": "code",
   "execution_count": 21,
   "id": "6affe2e5-c1d1-4d92-80e5-260c1f1f0d4f",
   "metadata": {
    "id": "0b0a1c14-bb60-442e-97fc-1c6368704498"
   },
   "outputs": [],
   "source": [
    "max_lr_iter = 3000\n",
    "param_grid = [\n",
    "    {\n",
    "        'random_state':[random_seed],\n",
    "        'max_iter':[max_lr_iter],\n",
    "        'solver' : ['lbfgs'],\n",
    "        'penalty' : ['l2'], # none\n",
    "        'C' : loguniform(1e-5, 1e2),\n",
    "    },\n",
    "    {\n",
    "        'random_state':[random_seed],\n",
    "        'max_iter':[max_lr_iter],\n",
    "        'solver' : ['liblinear'],\n",
    "        'penalty' : ['l1', 'l2'], # none\n",
    "        'C' : loguniform(1e-5, 1e2),\n",
    "    },\n",
    "    {\n",
    "        'random_state':[random_seed],\n",
    "        'max_iter':[max_lr_iter],\n",
    "        'solver' : ['saga'],\n",
    "        'penalty' : ['elasticnet'], # none\n",
    "        'C' : loguniform(1e-5, 1e2),\n",
    "        'l1_ratio' : uniform(0,1)\n",
    "    },\n",
    "]"
   ]
  },
  {
   "cell_type": "code",
   "execution_count": 22,
   "id": "589d5d2e-2a5a-40aa-8278-177028358de9",
   "metadata": {
    "colab": {
     "base_uri": "https://localhost:8080/"
    },
    "executionInfo": {
     "elapsed": 30100,
     "status": "ok",
     "timestamp": 1653231855459,
     "user": {
      "displayName": "Valkea",
      "userId": "01476199649418572392"
     },
     "user_tz": -120
    },
    "id": "083fad02-c21d-404d-b4e5-269610c8d2b7",
    "outputId": "7e2a34c6-ed0b-4d4d-fea3-ed7ad25b69fa"
   },
   "outputs": [
    {
     "name": "stdout",
     "output_type": "stream",
     "text": [
      "----------------------------------------------------------------------------------------------------\n",
      "FOLD-1   TEST scores | ROC_AUC: 0.7684\n",
      "----------------------------------------------------------------------------------------------------\n",
      "FOLD-2   TEST scores | ROC_AUC: 0.7668\n",
      "----------------------------------------------------------------------------------------------------\n",
      "FOLD-3   TEST scores | ROC_AUC: 0.7682\n",
      "----------------------------------------------------------------------------------------------------\n",
      "FOLD-4   TEST scores | ROC_AUC: 0.7661\n",
      "----------------------------------------------------------------------------------------------------\n",
      "FOLD-5   TEST scores | ROC_AUC: 0.7686\n",
      "\n",
      "------------------------------------ TEST-CV-SPLIT MEAN SCORES -------------------------------------\n",
      "\n",
      "- ROC_AUC: 0.7676 (std:0.0011)\n",
      "\n",
      "----------------------------------------------------------------------------------------------------\n"
     ]
    }
   ],
   "source": [
    "model_name = \"Basic LogisticRegression\"\n",
    "max_lr_iter = 3000\n",
    "\n",
    "grd_log = fit_model(\n",
    "    LogisticRegression(), \n",
    "    param_grid=param_grid,  \n",
    "    cv = skfold,\n",
    "    X_ref = X_train,\n",
    "    y_ref = y_train,\n",
    ")"
   ]
  },
  {
   "cell_type": "code",
   "execution_count": 23,
   "id": "3f26ee27-d52d-46b2-a1f1-ec0d459b0354",
   "metadata": {
    "colab": {
     "base_uri": "https://localhost:8080/",
     "height": 1000
    },
    "executionInfo": {
     "elapsed": 746,
     "status": "ok",
     "timestamp": 1653231856185,
     "user": {
      "displayName": "Valkea",
      "userId": "01476199649418572392"
     },
     "user_tz": -120
    },
    "id": "81aba764-7f22-4ad1-b0ed-bc5b13f0b75e",
    "outputId": "e3c4ed78-a90b-46e0-baa0-c28f701f4414"
   },
   "outputs": [
    {
     "name": "stdout",
     "output_type": "stream",
     "text": [
      "----------------------------------------------------------------------------------------------------\n",
      "          These information are based on the best estimator of the above cross-validation           \n",
      "----------------------------------------------------------------------------------------------------\n",
      "\n",
      "--- Basic LogisticRegression -----------------------------------------------------------------------\n",
      "\n",
      "             ROC_AUC : 0.8291\n",
      "                  F1 : 0.7537\n",
      "            ACCURACY : 0.7502\n",
      "           PRECISION : 0.7372\n",
      "              RECALL : 0.7711\n",
      "   AVERAGE_PRECISION : 0.8206\n",
      "\n",
      "--- Classification Report -------------------------------------------------------------------------- \n",
      "\n",
      "                 precision    recall  f1-score   support\n",
      "\n",
      "Prediction = 0       0.76      0.73      0.75     46044\n",
      "Prediction = 1       0.74      0.77      0.75     45268\n",
      "\n",
      "      accuracy                           0.75     91312\n",
      "     macro avg       0.75      0.75      0.75     91312\n",
      "  weighted avg       0.75      0.75      0.75     91312\n",
      "\n",
      "--- Confusion Matrix ------------------------------------------------------------------------------- \n",
      "\n"
     ]
    },
    {
     "data": {
      "image/png": "[encoded data removed]",
      "text/plain": [
       "<Figure size 432x432 with 2 Axes>"
      ]
     },
     "metadata": {
      "needs_background": "light"
     },
     "output_type": "display_data"
    },
    {
     "name": "stdout",
     "output_type": "stream",
     "text": [
      "--- ROC AUC ---------------------------------------------------------------------------------------- \n",
      "\n"
     ]
    },
    {
     "data": {
      "image/png": "[encoded data removed]",
      "text/plain": [
       "<Figure size 360x360 with 1 Axes>"
      ]
     },
     "metadata": {
      "needs_background": "light"
     },
     "output_type": "display_data"
    },
    {
     "name": "stdout",
     "output_type": "stream",
     "text": [
      "--- PRECISION RECALL AUC --------------------------------------------------------------------------- \n",
      "\n"
     ]
    },
    {
     "data": {
      "image/png": "[encoded data removed]",
      "text/plain": [
       "<Figure size 360x360 with 1 Axes>"
      ]
     },
     "metadata": {
      "needs_background": "light"
     },
     "output_type": "display_data"
    }
   ],
   "source": [
    "get_scores(model_name, **grd_log, register=True, X_ref=X_test, y_ref=y_test)"
   ]
  },
  {
   "cell_type": "markdown",
   "id": "e4f3e87d-393d-4fe6-a4e3-c736ff9cd2b3",
   "metadata": {
    "id": "b9500f0b-f2ff-4968-926c-46282cfa6069"
   },
   "source": [
    "#### Trouvons le meilleur seuil de séparation pour les prédiction *(sur la base du F1 score)*"
   ]
  },
  {
   "cell_type": "raw",
   "id": "72d99b46-15b9-445e-870d-942c7598ea2f",
   "metadata": {
    "colab": {
     "base_uri": "https://localhost:8080/"
    },
    "executionInfo": {
     "elapsed": 9893,
     "status": "ok",
     "timestamp": 1653231866071,
     "user": {
      "displayName": "Valkea",
      "userId": "01476199649418572392"
     },
     "user_tz": -120
    },
    "id": "8b532d00-bd5a-448d-ad65-4fe86e8e4f2b",
    "outputId": "f96e2cce-e1e8-4898-f122-2a22c1da9b84"
   },
   "source": [
    "f1_value, best_threshold = find_best_threshold(grd_log['model'], X_train, y_train, f1_score)\n",
    "print(f\"The best F1 score ({f1_value}) for this model is reached with a threshold of {best_threshold}\")"
   ]
  },
  {
   "cell_type": "raw",
   "id": "e30cdc58-306b-4c69-a0ef-98184e5d5d29",
   "metadata": {
    "colab": {
     "base_uri": "https://localhost:8080/",
     "height": 811
    },
    "executionInfo": {
     "elapsed": 24,
     "status": "ok",
     "timestamp": 1653231866073,
     "user": {
      "displayName": "Valkea",
      "userId": "01476199649418572392"
     },
     "user_tz": -120
    },
    "id": "7436fa95-3251-44eb-89d3-1dd6258c0d83",
    "outputId": "975d1e8a-281c-4dd7-eae1-4caa45686409"
   },
   "source": [
    "get_scores(f\"{model_name} [w/thresholding]\", **grd_log, threshold=best_threshold, register=True, show_roccurves=False)"
   ]
  },
  {
   "cell_type": "code",
   "execution_count": 24,
   "id": "31b4825c-36eb-48f5-ac5b-9d4e7e2bebf0",
   "metadata": {
    "id": "12a8794d-0c42-43c6-9787-17a146335f72"
   },
   "outputs": [],
   "source": [
    "del grd_log"
   ]
  },
  {
   "cell_type": "code",
   "execution_count": null,
   "id": "88851063-5ad7-455c-8e0f-dfcc0dff634b",
   "metadata": {},
   "outputs": [],
   "source": []
  },
  {
   "cell_type": "code",
   "execution_count": null,
   "id": "9b56e2bf-4193-4fb5-bf6d-36c15c18b1cf",
   "metadata": {},
   "outputs": [],
   "source": [
    "import FreeMobileSMS as sms\n",
    "sms.send()"
   ]
  },
  {
   "cell_type": "code",
   "execution_count": null,
   "id": "16f98420-6bdb-4dd2-9376-391b692fbf7f",
   "metadata": {},
   "outputs": [],
   "source": []
  }
 ],
 "metadata": {
  "kernelspec": {
   "display_name": "venvP7",
   "language": "python",
   "name": "venvp7"
  },
  "language_info": {
   "codemirror_mode": {
    "name": "ipython",
    "version": 3
   },
   "file_extension": ".py",
   "mimetype": "text/x-python",
   "name": "python",
   "nbconvert_exporter": "python",
   "pygments_lexer": "ipython3",
   "version": "3.8.10"
  }
 },
 "nbformat": 4,
 "nbformat_minor": 5
}
