{
 "cells": [
  {
   "cell_type": "markdown",
   "id": "3587f654-0488-404c-b497-618025680f11",
   "metadata": {},
   "source": [
    "# Menu <a class=\"anchor\" id=\"menu\"></a>\n",
    "   \n",
    "* [1. Préparatifs](#init)\n",
    "* [2. Modèles `Bag of words` ou `Bag of N-gram`](#EMBEDDING_BOW)\n",
    "    * [2.1 `EMB-A0` NN | Ngram=2 | int](#EMBEDDING_BOW_A0)\n",
    "    * [2.2 `EMB-A1` NN | Ngram=1 | multi_hot](#EMBEDDING_BOW_A1)\n",
    "    * [2.3 `EMB-A2` NN | Ngram=2 | multi_hot](#EMBEDDING_BOW_A2)\n",
    "    * [2.4 `EMB-A3` NN | Ngram=2 | count](#EMBEDDING_BOW_A3)\n",
    "    * [2.5 `EMB-A4` NN | Ngram=2 | tf-idf](#EMBEDDING_BOW_A4)\n",
    "* [3. Modèles `Séquentiels`](#EMBEDDING_SEQ)\n",
    "    * [3.1 `EMB-B0` RNN | Ngram=2 | int | One-hot-embedding](#EMBEDDING_SEQ_B0)\n",
    "    * [3.2 `EMB-B1` RNN | Ngram=2 | int | Keras embedding](#EMBEDDING_SEQ_B1)\n",
    "    * [3.3 `EMB-B2` RNN | Ngram=2 | int | Keras embedding + MASK](#EMBEDDING_SEQ_B2)\n",
    "    * [3.4 `EMB-B3` RNN | Ngram=2 | int | Glove 100d + MASK + NOT trainable](#EMBEDDING_SEQ_B3)\n",
    "    * [3.5 `EMB-B4` RNN | Ngram=1 | int | Glove 100d + MASK + NOT trainable](#EMBEDDING_SEQ_B4)\n",
    "    * [3.6 `EMB-B5` RNN | Ngram=1 | int | GloveTwitter 25d + MASK + NOT trainable](#EMBEDDING_SEQ_B5)\n",
    "    * [3.7 `EMB-B6` RNN | Ngram=1 | int | GloveTwitter 100d + MASK + NOT trainable](#EMBEDDING_SEQ_B6)\n",
    "    * [3.8 `EMB-B7` RNN | Ngram=1 | int | GloveTwitter 200d + MASK + NOT trainable](#EMBEDDING_SEQ_B7)\n",
    "    * [3.9 `EMB-B8` RNN | Ngram=1 | int | FastText300 + MASK + NOT trainable](#EMBEDDING_SEQ_B8)\n",
    "    * [3.10 `EMB-B9` RNN | Ngram=1 | int | Word2Vec300_GoogleNews + MASK + NOT trainable](#EMBEDDING_SEQ_B9)\n",
    "* [4. Modèles `classiques` pour comparaison](#NO_EMBEDDING)\n",
    "    * [4.1 `EMB-C0` LogisticRegression | TfidVectorize](#NO_EMBEDDING_C0)\n",
    "* [5. Comparaison des scores](#EMBEDDING_scores)"
   ]
  },
  {
   "cell_type": "code",
   "execution_count": null,
   "id": "a7d7bb55-b510-41c9-9267-5a65ed99999e",
   "metadata": {
    "tags": []
   },
   "outputs": [],
   "source": [
    "import os\n",
    "import time\n",
    "import pathlib\n",
    "import gzip\n",
    "\n",
    "import matplotlib.pyplot as plt\n",
    "import pandas as pd\n",
    "import numpy as np\n",
    "import tensorflow as tf\n",
    "from tensorflow import keras\n",
    "from keras import layers\n",
    "from sklearn.model_selection import train_test_split\n",
    "from sklearn.metrics import accuracy_score\n",
    "from dagshub import dagshub_logger, DAGsHubLogger\n",
    "\n",
    "try:\n",
    "    from tensorflow.keras.layers import TextVectorization\n",
    "except ImportError:\n",
    "    from tensorflow.keras.layers.experimental.preprocessing import TextVectorization\n",
    "\n",
    "# set random seed for reproductibility\n",
    "random_seed = 0\n",
    "np.random.seed(random_seed)\n",
    "\n",
    "try:\n",
    "    keras.utils.set_random_seed(random_seed)\n",
    "except Exception:\n",
    "    tf.random.set_seed(random_seed)"
   ]
  },
  {
   "cell_type": "code",
   "execution_count": null,
   "id": "19543947-9df1-4a3a-b959-8fa5210a2dd3",
   "metadata": {
    "tags": []
   },
   "outputs": [],
   "source": [
    "print(\"Num GPUs Available: \", len(tf.config.list_physical_devices('GPU')))"
   ]
  },
  {
   "cell_type": "markdown",
   "id": "79e0ecc2-2f55-4f2a-af04-a7e55d77a19f",
   "metadata": {},
   "source": [
    "---\n",
    "---\n",
    "# 1. Préparatifs pour de la classification avec des réseaux de neurones <a class=\"anchor\" id=\"init\"></a> [⇪](#menu)"
   ]
  },
  {
   "cell_type": "markdown",
   "id": "a190401f-8e78-49a7-a994-3544fc9a611e",
   "metadata": {},
   "source": [
    "### Chargeons quelques fonctions *maison* pour entrainer et évaluer les modèles, et initialisons un fichier pour enregistrer les scores\n",
    "Ces fonctions ont été déportées dans le fichier classification_utils.py pour allèger le notebook"
   ]
  },
  {
   "cell_type": "code",
   "execution_count": null,
   "id": "68f12efd-6fe4-4482-af9d-4b6b641cde08",
   "metadata": {
    "tags": []
   },
   "outputs": [],
   "source": [
    "from classification_utils import fit_model, get_scores, init_scores, find_best_threshold\n",
    "init_scores(\"data/scores_NN_SelectEmbedding.csv\")"
   ]
  },
  {
   "cell_type": "markdown",
   "id": "966709f9-6661-49d4-ae62-b7da55040579",
   "metadata": {},
   "source": [
    "### Chargeons le jeu de données et préparons un `échantillon de travail` représentatif"
   ]
  },
  {
   "cell_type": "code",
   "execution_count": null,
   "id": "ddcbcb93-38d4-4eb1-a0ad-58ae67f6a4c8",
   "metadata": {
    "tags": []
   },
   "outputs": [],
   "source": [
    "data_work = pd.read_csv(\n",
    "    pathlib.Path(pathlib.Path().absolute(), 'data', 'data_nlp_1563108.csv'), \n",
    "    usecols=['target', 'lemmas_not_filtered'],\n",
    "    encoding='ISO-8859-1',\n",
    "    #nrows=100000,\n",
    ")\n",
    "data_work.rename(columns={'lemmas_not_filtered':'text'}, inplace=True)\n",
    "display(data_work.head(), data_work.shape)\n",
    "\n",
    "# Select samples\n",
    "sample_size = 100000\n",
    "data_work = data_work.groupby('target', group_keys=False).apply(lambda x: x.sample(sample_size//2, random_state=random_seed))\n",
    "display(data_work.head(), data_work.shape)"
   ]
  },
  {
   "cell_type": "code",
   "execution_count": null,
   "id": "a286ea0c-1cbd-454b-8a54-8962f03834f8",
   "metadata": {
    "tags": []
   },
   "outputs": [],
   "source": [
    "data_work.target.value_counts(dropna=False)"
   ]
  },
  {
   "cell_type": "markdown",
   "id": "096ad985-d0e6-4929-a790-a85968e7bcf2",
   "metadata": {},
   "source": [
    "### Définissons les différentes `architectures` dont nous allons avoir besoin"
   ]
  },
  {
   "cell_type": "code",
   "execution_count": null,
   "id": "79b59002-7db2-46c6-9858-8c8ffecac325",
   "metadata": {
    "tags": []
   },
   "outputs": [],
   "source": [
    "def architecture001(f_opti, f_loss, f_metrics, max_tokens=20000, hidden_dim=16):\n",
    "        \n",
    "    inputs = keras.Input(shape=(max_tokens,), dtype=\"int64\")\n",
    "    \n",
    "    x = layers.Dense(hidden_dim, activation='relu')(inputs)\n",
    "    x = layers.Dropout(0.5)(x)\n",
    "    \n",
    "    predictions = layers.Dense(1, activation='sigmoid', name='predictions')(x)\n",
    "    \n",
    "    model = keras.Model(inputs, predictions)\n",
    "    model.compile(loss=f_loss, optimizer=f_opti, metrics=f_metrics)\n",
    "    \n",
    "    return model, f\"Dense {hidden_dim} + Dropout 0.5\""
   ]
  },
  {
   "cell_type": "code",
   "execution_count": null,
   "id": "a9c38c80-20ff-4a7b-8f35-67e7d403cf20",
   "metadata": {
    "tags": []
   },
   "outputs": [],
   "source": [
    "def architecture002_oh(f_opti, f_loss, f_metrics, voc_size):\n",
    "        \n",
    "    inputs = keras.Input(shape=(None,), dtype=\"int64\")\n",
    "    \n",
    "    x = tf.one_hot(inputs, depth=voc_size)\n",
    "    x = layers.Bidirectional(layers.LSTM(32))(x) # 64\n",
    "    x = layers.Dropout(0.5)(x)\n",
    "    \n",
    "    predictions = layers.Dense(1, activation='sigmoid', name='predictions')(x)\n",
    "    \n",
    "    model = keras.Model(inputs, predictions)\n",
    "    model.compile(loss=f_loss, optimizer=f_opti, metrics=f_metrics)\n",
    "    \n",
    "    return model, \"one_hot + Bi-LSTM 32 + Dropout 0.5\""
   ]
  },
  {
   "cell_type": "code",
   "execution_count": null,
   "id": "13889788-14ef-4b49-9730-b8cf6db7e59f",
   "metadata": {
    "tags": []
   },
   "outputs": [],
   "source": [
    "def architecture002(f_opti, f_loss, f_metrics, embedding):\n",
    "        \n",
    "    inputs = keras.Input(shape=(None,), dtype=\"int64\")\n",
    "    \n",
    "    x = embedding(inputs)\n",
    "    x = layers.Bidirectional(layers.LSTM(32))(x) # 64\n",
    "    x = layers.Dropout(0.5)(x)\n",
    "    \n",
    "    predictions = layers.Dense(1, activation='sigmoid', name='predictions')(x)\n",
    "    \n",
    "    model = keras.Model(inputs, predictions)\n",
    "    model.compile(loss=f_loss, optimizer=f_opti, metrics=f_metrics)\n",
    "    \n",
    "    return model, \"Bi-LSTM 32 + Dropout 0.5\""
   ]
  },
  {
   "cell_type": "code",
   "execution_count": null,
   "id": "30b4cf8a-8cee-4efd-819c-2351f3b2b81b",
   "metadata": {
    "tags": []
   },
   "outputs": [],
   "source": [
    "def architecture003(f_opti, f_loss, f_metrics, embedding):\n",
    "        \n",
    "    inputs = keras.Input(shape=(None,), dtype=\"int64\")\n",
    "    \n",
    "    x = embedding(inputs)\n",
    "    x = layers.Bidirectional(layers.LSTM(64))(x)\n",
    "    x = layers.Dense(24, activation='relu')(x)\n",
    "    \n",
    "    predictions = layers.Dense(1, activation='sigmoid', name='predictions')(x)\n",
    "    \n",
    "    model = keras.Model(inputs, predictions)\n",
    "    model.compile(loss=f_loss, optimizer=f_opti, metrics=f_metrics)\n",
    "    \n",
    "    return model, \"Bi-LSTM 64 + Dense 24\""
   ]
  },
  {
   "cell_type": "markdown",
   "id": "a9fe9183-e12a-45da-a142-4b010998ada8",
   "metadata": {},
   "source": [
    "### Définissons les fonctions utiles à l'`embedding`"
   ]
  },
  {
   "cell_type": "code",
   "execution_count": null,
   "id": "70a999f7",
   "metadata": {
    "tags": []
   },
   "outputs": [],
   "source": [
    "from gensim.models import KeyedVectors\n",
    "import gensim.downloader as api\n",
    "\n",
    "def load_gensim_embedding(embedding_name, binary=False):\n",
    "    \n",
    "    embedding_path = pathlib.Path(pathlib.Path().absolute(), 'data', 'embedding_models', f'{embedding_name}.gz')\n",
    "    try:\n",
    "        if embedding_path.is_file():\n",
    "            print(f\"Loading from {embedding_path}\")\n",
    "            embedding_model = KeyedVectors.load_word2vec_format(embedding_path, binary=binary)\n",
    "        else:\n",
    "            print(\"Loading from the Git repos with API\")\n",
    "            embedding_model = api.load(embedding_name)\n",
    "            \n",
    "        return embedding_model\n",
    "    except Exception as e:\n",
    "        print(f\"The provided embedding model couldn't be loaded correctly: {e}\")\n",
    "        \n",
    "def load_trained_glove(embedding_name):\n",
    "    \n",
    "    def parse_file(file):\n",
    "        embeddings_index = {}\n",
    "        for line in file:\n",
    "            word, coefs = line.split(maxsplit=1)\n",
    "            coefs = np.fromstring(coefs, \"f\", sep=\" \")\n",
    "            embeddings_index[word] = coefs\n",
    "        return embeddings_index\n",
    "\n",
    "    try:\n",
    "        embedding_path = pathlib.Path(pathlib.Path().absolute(), 'data', 'embedding_models', f'{embedding_name}.gz')\n",
    "        if embedding_path.is_file():\n",
    "            print(f\"Loading from gZip: {embedding_path}\")\n",
    "            with gzip.open(embedding_path, mode='rt') as f:\n",
    "                return parse_file(f)\n",
    "        \n",
    "        embedding_path = pathlib.Path(pathlib.Path().absolute(), 'data', 'embedding_models', f'{embedding_name}.txt')\n",
    "        if embedding_path.is_file():\n",
    "            print(f\"Loading from TXT: {embedding_path}\")\n",
    "            with open(embedding_path) as f:\n",
    "                return parse_file(f)\n",
    "        else:\n",
    "            raise FileNotFoundError(f\"No such model found (it must be {embedding_name}.txt or {embedding_name}.gz)\")\n",
    "            \n",
    "    except Exception as e:\n",
    "        print(f\"The provided embedding model couldn't be loaded correctly: {e}\")"
   ]
  },
  {
   "cell_type": "code",
   "execution_count": null,
   "id": "cafd5770-b52f-4373-982c-dbd93477b7a2",
   "metadata": {
    "tags": []
   },
   "outputs": [],
   "source": [
    "def convert_embedding_matrix(vocabulary, embeddings_index, max_tokens, embedding_dim=100):\n",
    "    \n",
    "    hits = 0\n",
    "    misses = 0\n",
    "    misses_list = []\n",
    "    \n",
    "    word_index = dict(zip(vocabulary, range(len(vocabulary))))\n",
    "    \n",
    "    embedding_matrix = np.zeros((max_tokens, embedding_dim))\n",
    "    \n",
    "    for word, i in word_index.items():\n",
    "        if i < max_tokens:\n",
    "            try:\n",
    "                embedding_vector = embeddings_index.get_vector(word)\n",
    "            except AttributeError:\n",
    "                embedding_vector = embeddings_index.get(word)\n",
    "            except KeyError:\n",
    "                embedding_vector = None\n",
    "        if embedding_vector is not None:\n",
    "            hits += 1\n",
    "            embedding_matrix[i] = embedding_vector\n",
    "        else:\n",
    "            misses += 1\n",
    "            misses_list.append(word)\n",
    "            \n",
    "    print(f\"Converted {hits} words, and couldn't find {misses} words\")\n",
    "    print(f\"Missing words: {misses_list}\")\n",
    "            \n",
    "    return embedding_matrix"
   ]
  },
  {
   "cell_type": "markdown",
   "id": "d537747c-52d5-4a48-9591-79a4041d57c5",
   "metadata": {},
   "source": [
    "### Définissons les `fonctions et paramètres commun` à l'entrainement des différents modèles que l'on veut tester"
   ]
  },
  {
   "cell_type": "code",
   "execution_count": null,
   "id": "79d6b97a-279f-434d-9c56-e32e9c7421a9",
   "metadata": {},
   "outputs": [],
   "source": [
    "# DagsHub \n",
    "\n",
    "def save_hyperparameters_to_dagshub(dlogger, model_name, archi_desc, layers, batch_size, sample_size):    \n",
    "    dlogger.log_hyperparams(model_name=model_name)\n",
    "    dlogger.log_hyperparams(archi_desc=archi_desc)\n",
    "    dlogger.log_hyperparams(layers=layers)\n",
    "    dlogger.log_hyperparams(batch_size=batch_size)\n",
    "    dlogger.log_hyperparams(sample_size=sample_size)\n",
    "    \n",
    "def save_metrics_to_dagshub(dlogger, scores, best_threshold, history, step_num=1000, close=True):\n",
    "    dlogger.log_metrics(scores, step_num=step_num)\n",
    "    dlogger.log_metrics(best_threshold=best_threshold, step_num=step_num)\n",
    "    add_scores_to_dagshub(dlogger, history)\n",
    "\n",
    "def get_layers_for_dagshub(model):\n",
    "    \n",
    "    layers_infos = []\n",
    "    \n",
    "    def search(layer):\n",
    "        layer = dict(layer)\n",
    "        \n",
    "        nonlocal layers_infos\n",
    "        \n",
    "        if 'config' in layer:\n",
    "    \n",
    "            #if 'name' in layer['config']:\n",
    "            #    print(\" name:\", layer['config']['name'])\n",
    "            conf = {}\n",
    "            if 'units' in layer['config']:\n",
    "                conf[\"units\"] = layer['config']['units']\n",
    "            if 'output_dim' in layer['config']:\n",
    "                conf['output_dim'] = layer['config']['output_dim']\n",
    "            if 'rate' in layer['config']:\n",
    "                conf['rate'] = layer['config']['rate']\n",
    "            \n",
    "            layers_infos.append((layer['class_name'], conf))\n",
    "            \n",
    "            if 'layer' in layer['config']:\n",
    "                search(layer['config']['layer'])\n",
    "        \n",
    "    for layer in model.get_config()['layers']:\n",
    "        search(layer)\n",
    "        \n",
    "    return layers_infos\n",
    "\n",
    "\n",
    "def add_scores_to_dagshub(dlogger, history):\n",
    "    for epoch, loss, accuracy, val_loss, val_accuracy in zip(\n",
    "        history.epoch, \n",
    "        history.history['loss'], \n",
    "        history.history['accuracy'], \n",
    "        history.history['val_loss'], \n",
    "        history.history['val_accuracy']):\n",
    "        scores = {\n",
    "            'loss':loss, \n",
    "            'accuracy':accuracy, \n",
    "            'val_loss':val_loss, \n",
    "            'val_accuracy':val_accuracy\n",
    "        }\n",
    "        dlogger.log_metrics(scores, step_num=epoch) "
   ]
  },
  {
   "cell_type": "code",
   "execution_count": null,
   "id": "8f2d2891-4752-48cb-816f-2f5b78ab7158",
   "metadata": {
    "tags": []
   },
   "outputs": [],
   "source": [
    "def summarize_diagnostics(history):\n",
    "    \n",
    "    figure = plt.figure(figsize=(8,8))\n",
    "            \n",
    "    # plot loss\n",
    "    plt.subplot(211)\n",
    "    plt.title('Cross Entropy Loss')\n",
    "    plt.plot(history.history['loss'], color='blue', label='train')\n",
    "    plt.plot(history.history['val_loss'], color='orange', label='val')\n",
    "    plt.legend()\n",
    "    \n",
    "    # plot accuracy\n",
    "    plt.subplot(212)\n",
    "    plt.title('Classification Accuracy')\n",
    "    plt.plot(history.history['accuracy'], color='blue', label='train')\n",
    "    plt.plot(history.history['val_accuracy'], color='orange', label='val')\n",
    "    plt.legend()\n",
    "    \n",
    "    # save plot to file\n",
    "    #filename = sys.argv[0].split('/')[-1]\n",
    "    #plt.savefig(filename + '_plot.png')\n",
    "    #plt.close()\n",
    "    \n",
    "    plt.tight_layout(pad=1.0)"
   ]
  },
  {
   "cell_type": "code",
   "execution_count": null,
   "id": "99c500ae-5174-444c-a86f-c304bed11c80",
   "metadata": {
    "tags": []
   },
   "outputs": [],
   "source": [
    "from keras import layers\n",
    "from keras.callbacks import EarlyStopping, ModelCheckpoint, Callback, ReduceLROnPlateau\n",
    "\n",
    "def init_callbacks(model_name):\n",
    "\n",
    "    # Define savepoints\n",
    "    filepath = pathlib.Path(\"models\", f\"{model_name}.keras\")\n",
    "\n",
    "    checkpoint = ModelCheckpoint(\n",
    "        monitor=\"val_accuracy\",\n",
    "        mode=\"max\",\n",
    "        filepath=filepath,\n",
    "        save_best_only=True,\n",
    "        verbose=1,\n",
    "    )\n",
    "\n",
    "    # Define EarlyStopping conditions\n",
    "    es = EarlyStopping(\n",
    "        monitor='val_loss', # 'binary_accuracy'\n",
    "        mode='min', # 'max'\n",
    "        patience=5,\n",
    "        min_delta=0.01, \n",
    "        restore_best_weights=True, \n",
    "        verbose=1,\n",
    "    )\n",
    "    \n",
    "    return [checkpoint, es]"
   ]
  },
  {
   "cell_type": "code",
   "execution_count": null,
   "id": "01bab464-216b-401b-b027-598348f893cc",
   "metadata": {
    "tags": []
   },
   "outputs": [],
   "source": [
    "batch_size=1024"
   ]
  },
  {
   "cell_type": "markdown",
   "id": "4a11b2df-2daa-499a-aba6-079a88e72a22",
   "metadata": {},
   "source": [
    "### Divisons le jeu de données en `Train`, `Valid` et `Test` sets"
   ]
  },
  {
   "cell_type": "code",
   "execution_count": null,
   "id": "8b459507-ebb3-401b-bc9f-9c4cd7787ac7",
   "metadata": {
    "tags": []
   },
   "outputs": [],
   "source": [
    "X_train_full, X_test, y_train_full, y_test = train_test_split(data_work['text'], data_work['target'], test_size=0.2, random_state=random_seed, stratify=data_work['target'])\n",
    "X_train, X_valid, y_train, y_valid = train_test_split(X_train_full, y_train_full, test_size=X_test.shape[0], random_state=random_seed, stratify=y_train_full)\n",
    "\n",
    "assert X_train.shape[0] + X_valid.shape[0] + X_test.shape[0] == data_work.shape[0]\n",
    "assert y_train.shape[0] + y_valid.shape[0] + y_test.shape[0] == data_work.shape[0]\n",
    "\n",
    "print(f\"X_train: {X_train.shape} + X_valid: {X_valid.shape} + X_test: {X_test.shape}\")\n",
    "print(f\"y_train: {X_train.shape} + y_valid: {X_valid.shape} + y_test: {X_test.shape}\")"
   ]
  },
  {
   "cell_type": "markdown",
   "id": "b8de991b-fc01-42c4-b45a-ee91acea540a",
   "metadata": {},
   "source": [
    "### Préparons les différentes version du text_vectorizer que l'on veut tester"
   ]
  },
  {
   "cell_type": "code",
   "execution_count": null,
   "id": "2e1ad08d-f920-47d9-8467-41aaa5427772",
   "metadata": {},
   "outputs": [],
   "source": [
    "text_dataset = tf.data.Dataset.from_tensor_slices(list(data_work.text)) "
   ]
  },
  {
   "cell_type": "code",
   "execution_count": null,
   "id": "d94f0688-99b7-44ad-986c-2708fefe7429",
   "metadata": {
    "tags": []
   },
   "outputs": [],
   "source": [
    "text_vectorization0 = TextVectorization(\n",
    "    output_mode='int', # int, multi_hot, count, tf_idf\n",
    "    max_tokens=20000,\n",
    "    ngrams=2,\n",
    "    output_sequence_length=79 # search the max size by default\n",
    ")"
   ]
  },
  {
   "cell_type": "code",
   "execution_count": null,
   "id": "1783c55f-be61-4518-8dc0-ed48485d4bb9",
   "metadata": {
    "tags": []
   },
   "outputs": [],
   "source": [
    "text_vectorization0.adapt(text_dataset.batch(batch_size), True)"
   ]
  },
  {
   "cell_type": "code",
   "execution_count": null,
   "id": "2b190c52-a04d-4fbd-a5b0-c2720663db90",
   "metadata": {
    "tags": []
   },
   "outputs": [],
   "source": [
    "text_vectorization1 = TextVectorization(\n",
    "    output_mode='multi_hot', # int, multi_hot, count, tf_idf\n",
    "    max_tokens=20000,\n",
    "    ngrams=1,\n",
    "    # output_sequence_length=60 # search the max size by default\n",
    ")"
   ]
  },
  {
   "cell_type": "code",
   "execution_count": null,
   "id": "5cbc6553-2739-4dc7-a49e-7562df1c05c9",
   "metadata": {
    "tags": []
   },
   "outputs": [],
   "source": [
    "text_vectorization1.adapt(text_dataset.batch(batch_size), True)"
   ]
  },
  {
   "cell_type": "code",
   "execution_count": null,
   "id": "ef3ec282-de84-4f2e-8fc9-a2dc18eaff8a",
   "metadata": {
    "tags": []
   },
   "outputs": [],
   "source": [
    "text_vectorization2 = TextVectorization(\n",
    "    output_mode='multi_hot', # int, multi_hot, count, tf_idf\n",
    "    max_tokens=20000,\n",
    "    ngrams=2,\n",
    "    # output_sequence_length=60 # search the max size by default\n",
    ")"
   ]
  },
  {
   "cell_type": "code",
   "execution_count": null,
   "id": "1d02a71c-5c2b-4d9b-8e26-8cb01f458d56",
   "metadata": {
    "tags": []
   },
   "outputs": [],
   "source": [
    "text_vectorization2.adapt(text_dataset.batch(batch_size), True)"
   ]
  },
  {
   "cell_type": "code",
   "execution_count": null,
   "id": "ecb152b5-2a68-4970-b30e-dace3e6ad1eb",
   "metadata": {
    "tags": []
   },
   "outputs": [],
   "source": [
    "text_vectorization3 = TextVectorization(\n",
    "    output_mode='count', # int, multi_hot, count, tf_idf\n",
    "    max_tokens=20000,\n",
    "    ngrams=2,\n",
    "    # output_sequence_length=60 # search the max size by default\n",
    ")"
   ]
  },
  {
   "cell_type": "code",
   "execution_count": null,
   "id": "e794cfc7-6483-4b8a-bc93-6fdeb1e683f9",
   "metadata": {
    "tags": []
   },
   "outputs": [],
   "source": [
    "text_vectorization3.adapt(text_dataset.batch(batch_size), True)"
   ]
  },
  {
   "cell_type": "code",
   "execution_count": null,
   "id": "424ce16f-1693-41d7-bef4-6ce8ca5c2395",
   "metadata": {
    "tags": []
   },
   "outputs": [],
   "source": [
    "text_vectorization4 = TextVectorization(\n",
    "    output_mode='tf_idf', # int, multi_hot, count, tf_idf\n",
    "    max_tokens=20000,\n",
    "    ngrams=2,\n",
    "    # output_sequence_length=60 # search the max size by default\n",
    ")"
   ]
  },
  {
   "cell_type": "code",
   "execution_count": null,
   "id": "4055a083-99d1-43b1-814b-3c6b832738ff",
   "metadata": {},
   "outputs": [],
   "source": [
    "text_vectorization4.adapt(text_dataset.batch(batch_size), True)"
   ]
  },
  {
   "cell_type": "code",
   "execution_count": null,
   "id": "308a72b9-3422-4bf4-9030-9a89b04ddc11",
   "metadata": {
    "tags": []
   },
   "outputs": [],
   "source": [
    "max_length = 60\n",
    "max_tokens = 20000\n",
    "\n",
    "text_vectorizationBng2= TextVectorization(\n",
    "    output_mode='int', # int, multi_hot, count, tf_idf\n",
    "    max_tokens=max_tokens,\n",
    "    ngrams=2,\n",
    "    output_sequence_length=max_length # search the max size by default\n",
    ")"
   ]
  },
  {
   "cell_type": "code",
   "execution_count": null,
   "id": "3a330270-0b70-4235-bb8e-1ca24932f6f7",
   "metadata": {
    "tags": []
   },
   "outputs": [],
   "source": [
    "text_vectorizationBng2.adapt(text_dataset.batch(batch_size), True)"
   ]
  },
  {
   "cell_type": "code",
   "execution_count": null,
   "id": "bad5775e-c4cf-4439-9de8-512d6399a4de",
   "metadata": {
    "tags": []
   },
   "outputs": [],
   "source": [
    "max_length = 60\n",
    "max_tokens = 20000\n",
    "\n",
    "text_vectorizationBng1= TextVectorization(\n",
    "    output_mode='int', # int, multi_hot, count, tf_idf\n",
    "    max_tokens=max_tokens,\n",
    "    ngrams=1,\n",
    "    output_sequence_length=max_length # search the max size by default\n",
    ")"
   ]
  },
  {
   "cell_type": "code",
   "execution_count": null,
   "id": "e41bb822-adf9-44e3-9831-665c5c3f7d9e",
   "metadata": {
    "tags": []
   },
   "outputs": [],
   "source": [
    "\n",
    "text_vectorizationBng1.adapt(text_dataset.batch(batch_size), True)"
   ]
  },
  {
   "cell_type": "markdown",
   "id": "88ac9da9-351c-4d62-8451-93ba7a9260b5",
   "metadata": {},
   "source": [
    "---\n",
    "---\n",
    "# 2. Recherche de l'`embedding` le plus adapté avec des modèles `Bag of words` ou `Bag of N-gram` <a class=\"anchor\" id=\"EMBEDDING_BOW\"></a> [⇪](#menu)"
   ]
  },
  {
   "cell_type": "markdown",
   "id": "d132304f-03ae-4917-8a9e-9b638735c015",
   "metadata": {
    "tags": []
   },
   "source": [
    "---\n",
    "## 2.1 `EMB-A0` NN | Ngram=2 | int <a class=\"anchor\" id=\"EMBEDDING_BOW_A0\"></a> [⇪](#menu)"
   ]
  },
  {
   "cell_type": "markdown",
   "id": "4134f2fe-96d6-4ddf-b695-12f13521c994",
   "metadata": {},
   "source": [
    "### Standardize & Tokenize"
   ]
  },
  {
   "cell_type": "code",
   "execution_count": null,
   "id": "b18c6f2d-782a-496b-8515-5dc0f7c377d5",
   "metadata": {
    "tags": []
   },
   "outputs": [],
   "source": [
    "# Done before\n",
    "print(text_vectorization0.get_vocabulary()[:20], \"...\")"
   ]
  },
  {
   "cell_type": "markdown",
   "id": "3b7c9503-6704-4d12-85f3-bd46b968ce03",
   "metadata": {},
   "source": [
    "### Prepare dataset"
   ]
  },
  {
   "cell_type": "code",
   "execution_count": null,
   "id": "1ef8a7b6-d6f5-4b66-bc40-a8697e130cad",
   "metadata": {
    "tags": []
   },
   "outputs": [],
   "source": [
    "X_train_ready = text_vectorization0(X_train)\n",
    "X_valid_ready = text_vectorization0(X_valid)\n",
    "X_test_ready = text_vectorization0(X_test)"
   ]
  },
  {
   "cell_type": "code",
   "execution_count": null,
   "id": "13c4a8a6-b479-4f62-be80-d284e697c8aa",
   "metadata": {
    "tags": []
   },
   "outputs": [],
   "source": [
    "X_train[:2]"
   ]
  },
  {
   "cell_type": "code",
   "execution_count": null,
   "id": "526464fe-7f50-414c-807f-0c9d4b43f213",
   "metadata": {
    "tags": []
   },
   "outputs": [],
   "source": [
    "X_train_ready[:2]"
   ]
  },
  {
   "cell_type": "markdown",
   "id": "f9ed7cfb-b0b6-4d68-80ae-dd9664b5bf23",
   "metadata": {},
   "source": [
    "### Define model"
   ]
  },
  {
   "cell_type": "code",
   "execution_count": null,
   "id": "d56858ca-0496-4880-b2a8-fc2d1e81c079",
   "metadata": {
    "tags": []
   },
   "outputs": [],
   "source": [
    "model_name = \"EmbedA0\"\n",
    "model, archi_desc = architecture001(\"adam\", \"binary_crossentropy\", ['accuracy'], X_train_ready[:0].shape[1])\n",
    "archi_desc = \"No Embedding + Bigrams | \" + archi_desc"
   ]
  },
  {
   "cell_type": "code",
   "execution_count": null,
   "id": "34b9e509-a0e4-4081-ab5f-f96827824d62",
   "metadata": {
    "tags": []
   },
   "outputs": [],
   "source": [
    "model.summary()"
   ]
  },
  {
   "cell_type": "markdown",
   "id": "70209976-c263-47a5-a26a-1f0ae7e7b3a9",
   "metadata": {},
   "source": [
    "#### Définissons un logger DagsHub pour enregistrer notre essai"
   ]
  },
  {
   "cell_type": "code",
   "execution_count": null,
   "id": "5061cc8e-3fcf-4f1e-96a7-1043089d51cc",
   "metadata": {},
   "outputs": [],
   "source": [
    "dagslogger = DAGsHubLogger()"
   ]
  },
  {
   "cell_type": "code",
   "execution_count": null,
   "id": "7885e2b4-992a-440e-b380-0f5e327788cb",
   "metadata": {},
   "outputs": [],
   "source": [
    "save_hyperparameters_to_dagshub(dagslogger, model_name, archi_desc, get_layers_for_dagshub(model), batch_size, data_work.shape[0])"
   ]
  },
  {
   "cell_type": "markdown",
   "id": "46b6fa98-54c7-44e1-ae5e-8b8d0ecf5e74",
   "metadata": {},
   "source": [
    "### Train model"
   ]
  },
  {
   "cell_type": "code",
   "execution_count": null,
   "id": "63ef1ccf-56d8-42b3-bf57-e3420c9883b3",
   "metadata": {
    "tags": []
   },
   "outputs": [],
   "source": [
    "t0 = time.perf_counter()\n",
    "history = model.fit(\n",
    "        x=X_train_ready, y=y_train, \n",
    "        validation_data=(X_test_ready, y_test), \n",
    "        epochs=50, \n",
    "        batch_size=batch_size, \n",
    "        callbacks=init_callbacks(f\"{model_name}\"),\n",
    "        verbose=1,\n",
    ")\n",
    "train_time = time.perf_counter() - t0"
   ]
  },
  {
   "cell_type": "markdown",
   "id": "aa004e2a-f21a-4b11-94a8-633eac085cbf",
   "metadata": {},
   "source": [
    "### Evaluate"
   ]
  },
  {
   "cell_type": "code",
   "execution_count": null,
   "id": "88b4a7cc-2105-4ae7-a825-525d90563ae8",
   "metadata": {
    "tags": []
   },
   "outputs": [],
   "source": [
    "model = keras.models.load_model(f\"models/{model_name}.keras\")"
   ]
  },
  {
   "cell_type": "code",
   "execution_count": null,
   "id": "5eb0c2a7-0d2b-48f8-b50f-a33863a52eb9",
   "metadata": {
    "tags": []
   },
   "outputs": [],
   "source": [
    "model.evaluate(X_test_ready, y_test)"
   ]
  },
  {
   "cell_type": "code",
   "execution_count": null,
   "id": "7ac78581-1bfe-416f-9371-89b6947c9728",
   "metadata": {
    "tags": []
   },
   "outputs": [],
   "source": [
    "raw_txt = tf.convert_to_tensor([\"I hate it\", \"I love it\"])\n",
    "raw_txt = text_vectorization0(raw_txt)\n",
    "model.predict(raw_txt)"
   ]
  },
  {
   "cell_type": "code",
   "execution_count": null,
   "id": "64df4d36-766a-432e-9dee-c4ada3dc1322",
   "metadata": {
    "colab": {
     "base_uri": "https://localhost:8080/",
     "height": 1000
    },
    "executionInfo": {
     "elapsed": 746,
     "status": "ok",
     "timestamp": 1653231856185,
     "user": {
      "displayName": "Valkea",
      "userId": "01476199649418572392"
     },
     "user_tz": -120
    },
    "id": "81aba764-7f22-4ad1-b0ed-bc5b13f0b75e",
    "outputId": "e3c4ed78-a90b-46e0-baa0-c28f701f4414",
    "tags": []
   },
   "outputs": [],
   "source": [
    "_ = get_scores(\n",
    "    model_name,\n",
    "    model=model,\n",
    "    X_ref=X_test_ready,\n",
    "    y_ref=y_test, \n",
    "    threshold=0.5,\n",
    "    # y_pred=y_preds, \n",
    "    # y_pred_proba=y_preds_proba, \n",
    "    training_time=train_time, \n",
    "    # inference_time=inf_time, \n",
    "    dagslogger=dagslogger,\n",
    "    register=True,\n",
    ")"
   ]
  },
  {
   "cell_type": "markdown",
   "id": "04d633c8-913d-4290-bcff-9494ee38177f",
   "metadata": {},
   "source": [
    "#### Trouvons le meilleur seuil de séparation pour les prédiction (sur la base du F1 score)"
   ]
  },
  {
   "cell_type": "code",
   "execution_count": null,
   "id": "4cc2dc18-0b45-4d65-bbbf-967a1a45c5f8",
   "metadata": {},
   "outputs": [],
   "source": [
    "acc_value, best_threshold = find_best_threshold(model, X_valid_ready, y_valid, accuracy_score)\n",
    "print(f\"The best Accuracy score ({acc_value}) for this model is reached with a threshold of {best_threshold}\")"
   ]
  },
  {
   "cell_type": "code",
   "execution_count": null,
   "id": "7ad42564-32d5-4950-b119-c866ae9762e3",
   "metadata": {
    "colab": {
     "base_uri": "https://localhost:8080/",
     "height": 1000
    },
    "executionInfo": {
     "elapsed": 746,
     "status": "ok",
     "timestamp": 1653231856185,
     "user": {
      "displayName": "Valkea",
      "userId": "01476199649418572392"
     },
     "user_tz": -120
    },
    "id": "81aba764-7f22-4ad1-b0ed-bc5b13f0b75e",
    "outputId": "e3c4ed78-a90b-46e0-baa0-c28f701f4414",
    "tags": []
   },
   "outputs": [],
   "source": [
    "scores = get_scores(\n",
    "    f\"{model_name} [w. threshold]\",\n",
    "    model=model,\n",
    "    X_ref=X_test_ready,\n",
    "    y_ref=y_test, \n",
    "    threshold=best_threshold,\n",
    "    # y_pred=y_preds, \n",
    "    # y_pred_proba=y_preds_proba, \n",
    "    training_time=train_time, \n",
    "    # inference_time=inf_time, \n",
    "    dagslogger=dagslogger,\n",
    "    register=True,\n",
    "    show_roccurves=False,\n",
    ")"
   ]
  },
  {
   "cell_type": "markdown",
   "id": "3d63d585-70ce-40b4-96eb-861f3d69a530",
   "metadata": {},
   "source": [
    "#### Enregistrons les scores pour DagsHub"
   ]
  },
  {
   "cell_type": "code",
   "execution_count": null,
   "id": "c4019ea6-c224-430b-a2f1-31e8b5738186",
   "metadata": {},
   "outputs": [],
   "source": [
    "save_metrics_to_dagshub(dagslogger, scores, best_threshold, history)\n",
    "dagslogger.save() \n",
    "dagslogger.close()"
   ]
  },
  {
   "cell_type": "markdown",
   "id": "8c459ae4-30a7-40b0-8116-999d0d755e9f",
   "metadata": {},
   "source": [
    "### Compare"
   ]
  },
  {
   "cell_type": "code",
   "execution_count": null,
   "id": "93b8ed8b-3576-4748-823b-a1f4160a7f02",
   "metadata": {
    "tags": []
   },
   "outputs": [],
   "source": [
    "from classification_utils import scores_df\n",
    "scores_df"
   ]
  },
  {
   "cell_type": "markdown",
   "id": "7482adaf-ecea-483e-b3f7-f62f526ed9a7",
   "metadata": {
    "tags": []
   },
   "source": [
    "---\n",
    "## 2.2 `EMB-A1` NN | Ngram=1 | multi_hot <a class=\"anchor\" id=\"EMBEDDING_BOW_A1\"></a> [⇪](#menu)"
   ]
  },
  {
   "cell_type": "markdown",
   "id": "edffa8f4-1800-49cc-bcba-9177d9c9dd0d",
   "metadata": {},
   "source": [
    "### Standardize & Tokenize"
   ]
  },
  {
   "cell_type": "code",
   "execution_count": null,
   "id": "29407ff4-07b1-4bf9-b276-7609d7d28147",
   "metadata": {
    "tags": []
   },
   "outputs": [],
   "source": [
    "# Done before\n",
    "print(text_vectorization1.get_vocabulary()[:20], \"...\")"
   ]
  },
  {
   "cell_type": "markdown",
   "id": "7d676972-7e86-4e9b-a8ee-b7f8e77f832c",
   "metadata": {},
   "source": [
    "### Prepare dataset"
   ]
  },
  {
   "cell_type": "code",
   "execution_count": null,
   "id": "ca9ef6cb-2313-4452-be7f-b1fbdb1b3580",
   "metadata": {
    "tags": []
   },
   "outputs": [],
   "source": [
    "X_train_ready = text_vectorization1(X_train)\n",
    "X_valid_ready = text_vectorization0(X_valid)\n",
    "X_test_ready = text_vectorization1(X_test)"
   ]
  },
  {
   "cell_type": "code",
   "execution_count": null,
   "id": "b7429879-7176-4429-bd22-b5b4cb6c2855",
   "metadata": {
    "tags": []
   },
   "outputs": [],
   "source": [
    "X_train[:2]"
   ]
  },
  {
   "cell_type": "code",
   "execution_count": null,
   "id": "751d2b80-4d89-4b8c-8776-523fde8d6074",
   "metadata": {
    "tags": []
   },
   "outputs": [],
   "source": [
    "X_train_ready[:2]"
   ]
  },
  {
   "cell_type": "markdown",
   "id": "9c3f8365-0b2b-407a-aee2-230b38da5f95",
   "metadata": {},
   "source": [
    "### Define model"
   ]
  },
  {
   "cell_type": "code",
   "execution_count": null,
   "id": "75f59d9a-4513-4b5e-bcea-e6a1e4b36155",
   "metadata": {
    "tags": []
   },
   "outputs": [],
   "source": [
    "model_name = \"EmbedA1\"\n",
    "model, archi_desc = architecture001(\"adam\", \"binary_crossentropy\", ['accuracy'], X_train_ready[:0].shape[1])\n",
    "archi_desc = \"No Embedding + Unigrams | \" + archi_desc"
   ]
  },
  {
   "cell_type": "code",
   "execution_count": null,
   "id": "25e5fc73-c871-4d9f-a0b2-7e4cbaccbf1d",
   "metadata": {
    "tags": []
   },
   "outputs": [],
   "source": [
    "model.summary()"
   ]
  },
  {
   "cell_type": "markdown",
   "id": "f0b12844-b0f5-41f5-b3ac-fccff85d2e16",
   "metadata": {},
   "source": [
    "#### Définissons un logger DagsHub pour enregistrer notre essai"
   ]
  },
  {
   "cell_type": "code",
   "execution_count": null,
   "id": "49d595ca-bb75-4f9a-9b92-3419f61f2dea",
   "metadata": {},
   "outputs": [],
   "source": [
    "dagslogger = DAGsHubLogger()"
   ]
  },
  {
   "cell_type": "code",
   "execution_count": null,
   "id": "44439ac5-b8f0-4c03-940c-b57e0a516643",
   "metadata": {},
   "outputs": [],
   "source": [
    "save_hyperparameters_to_dagshub(dagslogger, model_name, archi_desc, get_layers_for_dagshub(model), batch_size, data_work.shape[0])"
   ]
  },
  {
   "cell_type": "markdown",
   "id": "16bdbb2b-1fe4-4429-9182-345fc768e6ae",
   "metadata": {},
   "source": [
    "### Train model"
   ]
  },
  {
   "cell_type": "code",
   "execution_count": null,
   "id": "9a9215bd-cae7-4aa1-846c-1d63d36920d6",
   "metadata": {
    "tags": []
   },
   "outputs": [],
   "source": [
    "t0 = time.perf_counter()\n",
    "history = model.fit(\n",
    "        x=X_train_ready, y=y_train, \n",
    "        validation_data=(X_test_ready, y_test), \n",
    "        epochs=50, \n",
    "        batch_size=batch_size, \n",
    "        callbacks=init_callbacks(f\"{model_name}\"),\n",
    "        verbose=1,\n",
    ")\n",
    "train_time = time.perf_counter() - t0"
   ]
  },
  {
   "cell_type": "markdown",
   "id": "0e81e4cd-c6c3-41e6-bf09-42c51adbbe4d",
   "metadata": {},
   "source": [
    "### Evaluate"
   ]
  },
  {
   "cell_type": "code",
   "execution_count": null,
   "id": "466ba659-3743-45f4-a600-e8350a8594b0",
   "metadata": {},
   "outputs": [],
   "source": [
    "model = keras.models.load_model(f\"models/{model_name}.keras\")"
   ]
  },
  {
   "cell_type": "code",
   "execution_count": null,
   "id": "b58a6df2-a121-4dc8-b5c5-fbe72123ae3f",
   "metadata": {},
   "outputs": [],
   "source": [
    "model.evaluate(X_test_ready, y_test)"
   ]
  },
  {
   "cell_type": "code",
   "execution_count": null,
   "id": "63b761b7-bb21-4ef7-97a9-e3f38b0d69e1",
   "metadata": {},
   "outputs": [],
   "source": [
    "raw_txt = tf.convert_to_tensor([\"I hate it\", \"I love it\"])\n",
    "raw_txt = text_vectorization1(raw_txt)\n",
    "model.predict(raw_txt)"
   ]
  },
  {
   "cell_type": "code",
   "execution_count": null,
   "id": "2739fde4-ed38-44c6-b04b-86ef2ab2f961",
   "metadata": {
    "colab": {
     "base_uri": "https://localhost:8080/",
     "height": 1000
    },
    "executionInfo": {
     "elapsed": 746,
     "status": "ok",
     "timestamp": 1653231856185,
     "user": {
      "displayName": "Valkea",
      "userId": "01476199649418572392"
     },
     "user_tz": -120
    },
    "id": "81aba764-7f22-4ad1-b0ed-bc5b13f0b75e",
    "outputId": "e3c4ed78-a90b-46e0-baa0-c28f701f4414",
    "tags": []
   },
   "outputs": [],
   "source": [
    "_ = get_scores(\n",
    "    model_name,\n",
    "    model=model,\n",
    "    X_ref=X_test_ready,\n",
    "    y_ref=y_test, \n",
    "    threshold=0.5,\n",
    "    # y_pred=y_preds, \n",
    "    # y_pred_proba=y_preds_proba, \n",
    "    training_time=train_time, \n",
    "    # inference_time=inf_time, \n",
    "    dagslogger=dagslogger,\n",
    "    register=True,\n",
    ")"
   ]
  },
  {
   "cell_type": "markdown",
   "id": "3a99ca6c-a23d-4440-8787-85f1eecddff6",
   "metadata": {},
   "source": [
    "#### Trouvons le meilleur seuil de séparation pour les prédiction (sur la base du F1 score)"
   ]
  },
  {
   "cell_type": "code",
   "execution_count": null,
   "id": "260ab239-85ad-47da-8832-8a76dcd63547",
   "metadata": {},
   "outputs": [],
   "source": [
    "acc_value, best_threshold = find_best_threshold(model, X_valid_ready, y_valid, accuracy_score)\n",
    "print(f\"The best Accuracy score ({acc_value}) for this model is reached with a threshold of {best_threshold}\")"
   ]
  },
  {
   "cell_type": "code",
   "execution_count": null,
   "id": "cd88456e-2464-4489-9e8a-88597e17fbd7",
   "metadata": {
    "colab": {
     "base_uri": "https://localhost:8080/",
     "height": 1000
    },
    "executionInfo": {
     "elapsed": 746,
     "status": "ok",
     "timestamp": 1653231856185,
     "user": {
      "displayName": "Valkea",
      "userId": "01476199649418572392"
     },
     "user_tz": -120
    },
    "id": "81aba764-7f22-4ad1-b0ed-bc5b13f0b75e",
    "outputId": "e3c4ed78-a90b-46e0-baa0-c28f701f4414",
    "tags": []
   },
   "outputs": [],
   "source": [
    "scores = get_scores(\n",
    "    f\"{model_name} [w. threshold]\",\n",
    "    model=model,\n",
    "    X_ref=X_test_ready,\n",
    "    y_ref=y_test, \n",
    "    threshold=best_threshold,\n",
    "    # y_pred=y_preds, \n",
    "    # y_pred_proba=y_preds_proba, \n",
    "    training_time=train_time, \n",
    "    # inference_time=inf_time, \n",
    "    dagslogger=dagslogger,\n",
    "    register=True,\n",
    "    show_roccurves=False,\n",
    ")"
   ]
  },
  {
   "cell_type": "markdown",
   "id": "fb9d639b-b0aa-4682-aeeb-9f72eff5ae64",
   "metadata": {},
   "source": [
    "#### Enregistrons les scores pour DagsHub"
   ]
  },
  {
   "cell_type": "code",
   "execution_count": null,
   "id": "a571c94b-8e22-4c3d-ab76-fd7e042f8d00",
   "metadata": {},
   "outputs": [],
   "source": [
    "save_metrics_to_dagshub(dagslogger, scores, best_threshold, history)\n",
    "dagslogger.save() \n",
    "dagslogger.close()"
   ]
  },
  {
   "cell_type": "markdown",
   "id": "786e4f5d-a8b6-410d-90ab-43f48ab16694",
   "metadata": {},
   "source": [
    "### Compare"
   ]
  },
  {
   "cell_type": "code",
   "execution_count": null,
   "id": "be7519b8-950a-42d9-ab28-b6fcc3c3554a",
   "metadata": {
    "tags": []
   },
   "outputs": [],
   "source": [
    "from classification_utils import scores_df\n",
    "scores_df"
   ]
  },
  {
   "cell_type": "markdown",
   "id": "aaa79cd3-4ba7-4953-aa4b-49cb33b20146",
   "metadata": {
    "tags": []
   },
   "source": [
    "---\n",
    "## 2.3 `EMB-A2` NN | Ngram=2 | multi_hot <a class=\"anchor\" id=\"EMBEDDING_BOW_A2\"></a> [⇪](#menu)"
   ]
  },
  {
   "cell_type": "markdown",
   "id": "f16d3bd6-f98d-4c21-bc45-718bae3f4e28",
   "metadata": {
    "tags": []
   },
   "source": [
    "### Standardize & Tokenize"
   ]
  },
  {
   "cell_type": "code",
   "execution_count": null,
   "id": "508bf02d-b53b-4f2e-bfcf-4bd869624d76",
   "metadata": {
    "tags": []
   },
   "outputs": [],
   "source": [
    "# Done before\n",
    "print(text_vectorization2.get_vocabulary()[:20], \"...\")"
   ]
  },
  {
   "cell_type": "markdown",
   "id": "14212264-6aff-4590-b786-b9c6775b3d27",
   "metadata": {},
   "source": [
    "### Prepare dataset"
   ]
  },
  {
   "cell_type": "code",
   "execution_count": null,
   "id": "0e43c0b8-345d-4859-a347-67f0f37dfd1a",
   "metadata": {
    "tags": []
   },
   "outputs": [],
   "source": [
    "X_train_ready = text_vectorization2(X_train)\n",
    "X_valid_ready = text_vectorization0(X_valid)\n",
    "X_test_ready = text_vectorization2(X_test)"
   ]
  },
  {
   "cell_type": "code",
   "execution_count": null,
   "id": "e0e90600-646d-40db-be0b-b2aca326f5a7",
   "metadata": {},
   "outputs": [],
   "source": [
    "X_train[:2]"
   ]
  },
  {
   "cell_type": "code",
   "execution_count": null,
   "id": "384846d5-bd80-4abf-a6f8-5d80d792af36",
   "metadata": {},
   "outputs": [],
   "source": [
    "X_train_ready[:2]"
   ]
  },
  {
   "cell_type": "markdown",
   "id": "c03ca289-be30-4809-ae2d-f2c185fb1cbe",
   "metadata": {},
   "source": [
    "### Define model"
   ]
  },
  {
   "cell_type": "code",
   "execution_count": null,
   "id": "9d80de70-5921-4b8e-9773-70df355b13ba",
   "metadata": {
    "tags": []
   },
   "outputs": [],
   "source": [
    "model_name = \"EmbedA2\"\n",
    "model, archi_desc = architecture001(\"adam\", \"binary_crossentropy\", ['accuracy'], X_train_ready[:0].shape[1])\n",
    "archi_desc = \"No Embedding + Bigrams | \" + archi_desc"
   ]
  },
  {
   "cell_type": "code",
   "execution_count": null,
   "id": "4136a9a6-1086-4b19-9bac-3dcfdeb751b7",
   "metadata": {
    "tags": []
   },
   "outputs": [],
   "source": [
    "model.summary()"
   ]
  },
  {
   "cell_type": "markdown",
   "id": "8b74b58d-a258-4856-98ab-18ac5e802756",
   "metadata": {},
   "source": [
    "#### Définissons un logger DagsHub pour enregistrer notre essai"
   ]
  },
  {
   "cell_type": "code",
   "execution_count": null,
   "id": "6b81a604-58f5-44bb-88e4-d2464714deca",
   "metadata": {},
   "outputs": [],
   "source": [
    "dagslogger = DAGsHubLogger()"
   ]
  },
  {
   "cell_type": "code",
   "execution_count": null,
   "id": "9ace310d-e5e7-4317-92e4-0dccbfe296cc",
   "metadata": {},
   "outputs": [],
   "source": [
    "save_hyperparameters_to_dagshub(dagslogger, model_name, archi_desc, get_layers_for_dagshub(model), batch_size, data_work.shape[0])"
   ]
  },
  {
   "cell_type": "markdown",
   "id": "7f5ba9d7-89f4-4fb3-af76-c216683fc051",
   "metadata": {},
   "source": [
    "### Train model"
   ]
  },
  {
   "cell_type": "code",
   "execution_count": null,
   "id": "7e37cba3-5bd1-42fd-8a3b-32bb2aac7f8b",
   "metadata": {
    "tags": []
   },
   "outputs": [],
   "source": [
    "t0 = time.perf_counter()\n",
    "history = model.fit(\n",
    "        x=X_train_ready, y=y_train, \n",
    "        validation_data=(X_test_ready, y_test), \n",
    "        epochs=50, \n",
    "        batch_size=batch_size, \n",
    "        callbacks=init_callbacks(f\"{model_name}\"),\n",
    "        verbose=1,\n",
    ")\n",
    "train_time = time.perf_counter() - t0"
   ]
  },
  {
   "cell_type": "markdown",
   "id": "03f59186-c3e5-4752-91f9-5e37f9ae7e62",
   "metadata": {},
   "source": [
    "### Evaluate"
   ]
  },
  {
   "cell_type": "code",
   "execution_count": null,
   "id": "03c4ce9e-3489-4584-8d57-fcb188a2fae4",
   "metadata": {
    "tags": []
   },
   "outputs": [],
   "source": [
    "model = keras.models.load_model(f\"models/{model_name}.keras\")"
   ]
  },
  {
   "cell_type": "code",
   "execution_count": null,
   "id": "37c0c4a9-2b81-4a66-bace-e6ddee7563ab",
   "metadata": {},
   "outputs": [],
   "source": [
    "model.evaluate(X_test_ready, y_test)"
   ]
  },
  {
   "cell_type": "code",
   "execution_count": null,
   "id": "01999973-5c06-4db5-bc8f-4641042be811",
   "metadata": {},
   "outputs": [],
   "source": [
    "raw_txt = tf.convert_to_tensor([\"I hate it\", \"I love it\"])\n",
    "raw_txt = text_vectorization2(raw_txt)\n",
    "model.predict(raw_txt)"
   ]
  },
  {
   "cell_type": "code",
   "execution_count": null,
   "id": "ed83bc83-7788-40e3-b1ae-fa58d6a8ec30",
   "metadata": {
    "colab": {
     "base_uri": "https://localhost:8080/",
     "height": 1000
    },
    "executionInfo": {
     "elapsed": 746,
     "status": "ok",
     "timestamp": 1653231856185,
     "user": {
      "displayName": "Valkea",
      "userId": "01476199649418572392"
     },
     "user_tz": -120
    },
    "id": "81aba764-7f22-4ad1-b0ed-bc5b13f0b75e",
    "outputId": "e3c4ed78-a90b-46e0-baa0-c28f701f4414",
    "tags": []
   },
   "outputs": [],
   "source": [
    "_ = get_scores(\n",
    "    model_name,\n",
    "    model=model,\n",
    "    X_ref=X_test_ready,\n",
    "    y_ref=y_test, \n",
    "    threshold=0.5,\n",
    "    # y_pred=y_preds, \n",
    "    # y_pred_proba=y_preds_proba, \n",
    "    training_time=train_time, \n",
    "    # inference_time=inf_time, \n",
    "    dagslogger=dagslogger,\n",
    "    register=True,\n",
    ")"
   ]
  },
  {
   "cell_type": "markdown",
   "id": "540bdaf2-f3cf-4783-8ef0-d5aaf300cf14",
   "metadata": {},
   "source": [
    "#### Trouvons le meilleur seuil de séparation pour les prédiction (sur la base du F1 score)"
   ]
  },
  {
   "cell_type": "code",
   "execution_count": null,
   "id": "6d9f9bef-3316-4656-aa91-4c551e5410ee",
   "metadata": {},
   "outputs": [],
   "source": [
    "acc_value, best_threshold = find_best_threshold(model, X_valid_ready, y_valid, accuracy_score)\n",
    "print(f\"The best Accuracy score ({acc_value}) for this model is reached with a threshold of {best_threshold}\")"
   ]
  },
  {
   "cell_type": "code",
   "execution_count": null,
   "id": "30fc38f5-a74a-4dfb-8503-e4f547f8ee6e",
   "metadata": {
    "colab": {
     "base_uri": "https://localhost:8080/",
     "height": 1000
    },
    "executionInfo": {
     "elapsed": 746,
     "status": "ok",
     "timestamp": 1653231856185,
     "user": {
      "displayName": "Valkea",
      "userId": "01476199649418572392"
     },
     "user_tz": -120
    },
    "id": "81aba764-7f22-4ad1-b0ed-bc5b13f0b75e",
    "outputId": "e3c4ed78-a90b-46e0-baa0-c28f701f4414",
    "tags": []
   },
   "outputs": [],
   "source": [
    "scores = get_scores(\n",
    "    f\"{model_name} [w. threshold]\",\n",
    "    model=model,\n",
    "    X_ref=X_test_ready,\n",
    "    y_ref=y_test, \n",
    "    threshold=best_threshold,\n",
    "    # y_pred=y_preds, \n",
    "    # y_pred_proba=y_preds_proba, \n",
    "    training_time=train_time, \n",
    "    # inference_time=inf_time, \n",
    "    dagslogger=dagslogger,\n",
    "    register=True,\n",
    "    show_roccurves=False,\n",
    ")"
   ]
  },
  {
   "cell_type": "markdown",
   "id": "9f5455c9-6692-487b-a714-37bfe3802d88",
   "metadata": {},
   "source": [
    "#### Enregistrons les scores pour DagsHub"
   ]
  },
  {
   "cell_type": "code",
   "execution_count": null,
   "id": "97684106-f223-4166-afda-1f32feafceaf",
   "metadata": {},
   "outputs": [],
   "source": [
    "save_metrics_to_dagshub(dagslogger, scores, best_threshold, history)\n",
    "dagslogger.save() \n",
    "dagslogger.close()"
   ]
  },
  {
   "cell_type": "markdown",
   "id": "d2e79dbf-0d15-461a-b358-6110ea9095de",
   "metadata": {},
   "source": [
    "### Compare"
   ]
  },
  {
   "cell_type": "code",
   "execution_count": null,
   "id": "1e3ee501-aea5-4c4d-8ec4-0bf6411906cb",
   "metadata": {
    "tags": []
   },
   "outputs": [],
   "source": [
    "from classification_utils import scores_df\n",
    "scores_df"
   ]
  },
  {
   "cell_type": "markdown",
   "id": "3c65faea-b0f8-449e-9481-08909e3e0ba7",
   "metadata": {
    "tags": []
   },
   "source": [
    "---\n",
    "## 2.4 `EMB-A3` NN | Ngram=2 | count <a class=\"anchor\" id=\"EMBEDDING_BOW_A3\"></a> [⇪](#menu)"
   ]
  },
  {
   "cell_type": "markdown",
   "id": "be78b0ae-a5c4-4055-b367-b34247fb76be",
   "metadata": {},
   "source": [
    "### Standardize & Tokenize"
   ]
  },
  {
   "cell_type": "code",
   "execution_count": null,
   "id": "6c1cd28f-ee6c-49d1-919e-3793010de9d0",
   "metadata": {
    "tags": []
   },
   "outputs": [],
   "source": [
    "# Done before\n",
    "print(text_vectorization3.get_vocabulary()[:20], \"...\")"
   ]
  },
  {
   "cell_type": "markdown",
   "id": "81a1e959-ecd1-44a5-b35b-d7d9f58879f5",
   "metadata": {},
   "source": [
    "### Prepare dataset"
   ]
  },
  {
   "cell_type": "code",
   "execution_count": null,
   "id": "3ce278ef-8852-439f-9c4f-dd678ecc772f",
   "metadata": {
    "tags": []
   },
   "outputs": [],
   "source": [
    "X_train_ready = text_vectorization3(X_train)\n",
    "X_valid_ready = text_vectorization0(X_valid)\n",
    "X_test_ready = text_vectorization3(X_test)"
   ]
  },
  {
   "cell_type": "code",
   "execution_count": null,
   "id": "0564339e-5263-4f8a-8741-66dd7bcb55c1",
   "metadata": {
    "tags": []
   },
   "outputs": [],
   "source": [
    "X_train[:2]"
   ]
  },
  {
   "cell_type": "code",
   "execution_count": null,
   "id": "ddc9a120-9213-4af8-9bb3-213b62eabc78",
   "metadata": {
    "tags": []
   },
   "outputs": [],
   "source": [
    "X_train_ready[:2]"
   ]
  },
  {
   "cell_type": "markdown",
   "id": "13d04048-a632-4d2a-93e7-082148c31d3a",
   "metadata": {},
   "source": [
    "### Define model"
   ]
  },
  {
   "cell_type": "code",
   "execution_count": null,
   "id": "4c720c4a-3346-47c3-9bcf-b783ffef6845",
   "metadata": {
    "tags": []
   },
   "outputs": [],
   "source": [
    "model_name = \"EmbedA3\"\n",
    "model, archi_desc = architecture001(\"adam\", \"binary_crossentropy\", ['accuracy'], X_train_ready[:0].shape[1])\n",
    "archi_desc = \"No Embedding + Bigrams | \" + archi_desc"
   ]
  },
  {
   "cell_type": "code",
   "execution_count": null,
   "id": "18bc15d7-45f1-429a-966d-87ef338ac902",
   "metadata": {
    "tags": []
   },
   "outputs": [],
   "source": [
    "model.summary()"
   ]
  },
  {
   "cell_type": "markdown",
   "id": "dc056004-93dd-4cf0-9642-d2a89dc43787",
   "metadata": {},
   "source": [
    "#### Définissons un logger DagsHub pour enregistrer notre essai"
   ]
  },
  {
   "cell_type": "code",
   "execution_count": null,
   "id": "fff5fb50-fc23-4b21-964b-bada431e069b",
   "metadata": {},
   "outputs": [],
   "source": [
    "dagslogger = DAGsHubLogger()"
   ]
  },
  {
   "cell_type": "code",
   "execution_count": null,
   "id": "d0db2d55-b36d-461b-a126-61bd028866a9",
   "metadata": {},
   "outputs": [],
   "source": [
    "save_hyperparameters_to_dagshub(dagslogger, model_name, archi_desc, get_layers_for_dagshub(model), batch_size, data_work.shape[0])"
   ]
  },
  {
   "cell_type": "markdown",
   "id": "7a316368-8c44-413b-9fb2-f6b480af76db",
   "metadata": {},
   "source": [
    "### Train model"
   ]
  },
  {
   "cell_type": "code",
   "execution_count": null,
   "id": "ba2b3f56-e8c1-44ef-b1b1-1e852f41334f",
   "metadata": {
    "tags": []
   },
   "outputs": [],
   "source": [
    "t0 = time.perf_counter()\n",
    "history = model.fit(\n",
    "        x=X_train_ready, y=y_train, \n",
    "        validation_data=(X_test_ready, y_test), \n",
    "        epochs=50, \n",
    "        batch_size=batch_size, \n",
    "        callbacks=init_callbacks(f\"{model_name}\"),\n",
    "        verbose=1,\n",
    ")\n",
    "train_time = time.perf_counter() - t0"
   ]
  },
  {
   "cell_type": "markdown",
   "id": "79e5ca99-2752-458c-a91d-03e7b16dfd68",
   "metadata": {},
   "source": [
    "### Evaluate"
   ]
  },
  {
   "cell_type": "code",
   "execution_count": null,
   "id": "20ce6f32-0044-4bab-8206-9243a40ede9d",
   "metadata": {
    "tags": []
   },
   "outputs": [],
   "source": [
    "model = keras.models.load_model(f\"models/{model_name}.keras\")"
   ]
  },
  {
   "cell_type": "code",
   "execution_count": null,
   "id": "8c72d912-0a25-4c97-93e5-806ceee4b8dd",
   "metadata": {
    "tags": []
   },
   "outputs": [],
   "source": [
    "model.evaluate(X_test_ready, y_test)"
   ]
  },
  {
   "cell_type": "code",
   "execution_count": null,
   "id": "b34dc513-e27d-4ac8-96d5-96b6ed96fdb6",
   "metadata": {
    "tags": []
   },
   "outputs": [],
   "source": [
    "raw_txt = tf.convert_to_tensor([\"I hate it\", \"I love it\"])\n",
    "raw_txt = text_vectorization3(raw_txt)\n",
    "model.predict(raw_txt)"
   ]
  },
  {
   "cell_type": "code",
   "execution_count": null,
   "id": "6e31d809-b490-4d95-a39f-55ade5dceae7",
   "metadata": {
    "colab": {
     "base_uri": "https://localhost:8080/",
     "height": 1000
    },
    "executionInfo": {
     "elapsed": 746,
     "status": "ok",
     "timestamp": 1653231856185,
     "user": {
      "displayName": "Valkea",
      "userId": "01476199649418572392"
     },
     "user_tz": -120
    },
    "id": "81aba764-7f22-4ad1-b0ed-bc5b13f0b75e",
    "outputId": "e3c4ed78-a90b-46e0-baa0-c28f701f4414",
    "tags": []
   },
   "outputs": [],
   "source": [
    "_ = get_scores(\n",
    "    model_name,\n",
    "    model=model,\n",
    "    X_ref=X_test_ready,\n",
    "    y_ref=y_test, \n",
    "    threshold=0.5,\n",
    "    # y_pred=y_preds, \n",
    "    # y_pred_proba=y_preds_proba, \n",
    "    training_time=train_time, \n",
    "    # inference_time=inf_time, \n",
    "    dagslogger=dagslogger,\n",
    "    register=True,\n",
    ")"
   ]
  },
  {
   "cell_type": "markdown",
   "id": "e3000f84-c652-43c7-9bb9-234f92cec9de",
   "metadata": {},
   "source": [
    "#### Trouvons le meilleur seuil de séparation pour les prédiction (sur la base du F1 score)"
   ]
  },
  {
   "cell_type": "code",
   "execution_count": null,
   "id": "cff7e8ce-e5db-487e-a9f9-ae98064ba253",
   "metadata": {},
   "outputs": [],
   "source": [
    "acc_value, best_threshold = find_best_threshold(model, X_valid_ready, y_valid, accuracy_score)\n",
    "print(f\"The best Accuracy score ({acc_value}) for this model is reached with a threshold of {best_threshold}\")"
   ]
  },
  {
   "cell_type": "code",
   "execution_count": null,
   "id": "23a49be1-bf2b-44b8-b23e-77f0649f8646",
   "metadata": {
    "colab": {
     "base_uri": "https://localhost:8080/",
     "height": 1000
    },
    "executionInfo": {
     "elapsed": 746,
     "status": "ok",
     "timestamp": 1653231856185,
     "user": {
      "displayName": "Valkea",
      "userId": "01476199649418572392"
     },
     "user_tz": -120
    },
    "id": "81aba764-7f22-4ad1-b0ed-bc5b13f0b75e",
    "outputId": "e3c4ed78-a90b-46e0-baa0-c28f701f4414",
    "tags": []
   },
   "outputs": [],
   "source": [
    "scores = get_scores(\n",
    "    f\"{model_name} [w. threshold]\",\n",
    "    model=model,\n",
    "    X_ref=X_test_ready,\n",
    "    y_ref=y_test, \n",
    "    threshold=best_threshold,\n",
    "    # y_pred=y_preds, \n",
    "    # y_pred_proba=y_preds_proba, \n",
    "    training_time=train_time, \n",
    "    # inference_time=inf_time, \n",
    "    dagslogger=dagslogger,\n",
    "    register=True,\n",
    "    show_roccurves=False,\n",
    ")"
   ]
  },
  {
   "cell_type": "markdown",
   "id": "53885b7d-41b8-4301-98e5-f57b5037d22f",
   "metadata": {},
   "source": [
    "#### Enregistrons les scores pour DagsHub"
   ]
  },
  {
   "cell_type": "code",
   "execution_count": null,
   "id": "5e6ff44c-d664-461f-9d5f-b5889479415c",
   "metadata": {},
   "outputs": [],
   "source": [
    "save_metrics_to_dagshub(dagslogger, scores, best_threshold, history)\n",
    "dagslogger.save() \n",
    "dagslogger.close()"
   ]
  },
  {
   "cell_type": "markdown",
   "id": "a03bd729-bc30-45fe-8a6f-db9c492bcb7d",
   "metadata": {},
   "source": [
    "### Compare"
   ]
  },
  {
   "cell_type": "code",
   "execution_count": null,
   "id": "90f7a432-4f3f-47f1-9549-42751213a9c5",
   "metadata": {
    "tags": []
   },
   "outputs": [],
   "source": [
    "from classification_utils import scores_df\n",
    "scores_df"
   ]
  },
  {
   "cell_type": "markdown",
   "id": "5f84544b-15b3-4b7f-93e1-f6b7f759668d",
   "metadata": {
    "tags": []
   },
   "source": [
    "---\n",
    "## 2.5 `EMB-A4` NN | Ngram=2 | tf-idf <a class=\"anchor\" id=\"EMBEDDING_BOW_A4\"></a> [⇪](#menu)"
   ]
  },
  {
   "cell_type": "markdown",
   "id": "13f82098-89a5-4498-9c11-60742203763a",
   "metadata": {},
   "source": [
    "### Standardize & Tokenize"
   ]
  },
  {
   "cell_type": "code",
   "execution_count": null,
   "id": "b222ec17-cc6d-43be-9a37-bf52d7e14aa2",
   "metadata": {},
   "outputs": [],
   "source": [
    "# Done before\n",
    "print(text_vectorization4.get_vocabulary()[:20], \"...\")"
   ]
  },
  {
   "cell_type": "markdown",
   "id": "40d4dbe1-e677-4693-8f43-6d6322df0108",
   "metadata": {},
   "source": [
    "### Prepare dataset"
   ]
  },
  {
   "cell_type": "code",
   "execution_count": null,
   "id": "eebab130-5d59-4a14-a55f-b891be049a82",
   "metadata": {},
   "outputs": [],
   "source": [
    "X_train_ready = text_vectorization4(X_train)\n",
    "X_valid_ready = text_vectorization0(X_valid)\n",
    "X_test_ready = text_vectorization4(X_test)"
   ]
  },
  {
   "cell_type": "code",
   "execution_count": null,
   "id": "8d7f6a66-2584-4f0a-b518-d09a921c97cb",
   "metadata": {},
   "outputs": [],
   "source": [
    "X_train[:2]"
   ]
  },
  {
   "cell_type": "code",
   "execution_count": null,
   "id": "766105f1-c933-49a5-85eb-a38c0d245f52",
   "metadata": {},
   "outputs": [],
   "source": [
    "X_train_ready[:2]"
   ]
  },
  {
   "cell_type": "markdown",
   "id": "17971925-c2e8-48eb-b8d8-cff35506b216",
   "metadata": {},
   "source": [
    "### Define model"
   ]
  },
  {
   "cell_type": "code",
   "execution_count": null,
   "id": "f2a267ee-03d3-4e81-be53-f52ecb5c82fe",
   "metadata": {
    "tags": []
   },
   "outputs": [],
   "source": [
    "model_name = \"EmbedA4\"\n",
    "model, archi_desc = architecture001(\"adam\", \"binary_crossentropy\", ['accuracy'], X_train_ready[:0].shape[1])\n",
    "archi_desc = \"No Embedding + Bigrams | \" + archi_desc"
   ]
  },
  {
   "cell_type": "code",
   "execution_count": null,
   "id": "277351ce-2bb9-4644-a8d0-e894dd14155d",
   "metadata": {
    "tags": []
   },
   "outputs": [],
   "source": [
    "model.summary()"
   ]
  },
  {
   "cell_type": "markdown",
   "id": "0885f4aa-e3ea-4034-943f-24b023acec40",
   "metadata": {},
   "source": [
    "#### Définissons un logger DagsHub pour enregistrer notre essai"
   ]
  },
  {
   "cell_type": "code",
   "execution_count": null,
   "id": "9ea502ab-0ded-4790-85ea-f6683386a9a4",
   "metadata": {},
   "outputs": [],
   "source": [
    "dagslogger = DAGsHubLogger()"
   ]
  },
  {
   "cell_type": "code",
   "execution_count": null,
   "id": "38616f38-05b5-42ef-9eda-9ef37f605aed",
   "metadata": {},
   "outputs": [],
   "source": [
    "save_hyperparameters_to_dagshub(dagslogger, model_name, archi_desc, get_layers_for_dagshub(model), batch_size, data_work.shape[0])"
   ]
  },
  {
   "cell_type": "markdown",
   "id": "2190230c-cbdb-4ab0-8de3-c911e7d12f1c",
   "metadata": {},
   "source": [
    "### Train model"
   ]
  },
  {
   "cell_type": "code",
   "execution_count": null,
   "id": "84d0af0f-be9e-44ef-914d-52da1c5672bf",
   "metadata": {
    "tags": []
   },
   "outputs": [],
   "source": [
    "t0 = time.perf_counter()\n",
    "history = model.fit(\n",
    "        x=X_train_ready, y=y_train, \n",
    "        validation_data=(X_test_ready, y_test), \n",
    "        epochs=50, \n",
    "        batch_size=batch_size, \n",
    "        callbacks=init_callbacks(f\"{model_name}\"),\n",
    "        verbose=1,\n",
    ")\n",
    "train_time = time.perf_counter() - t0"
   ]
  },
  {
   "cell_type": "markdown",
   "id": "efec6f0f-3de5-4fdc-b67c-dea1322eae8f",
   "metadata": {},
   "source": [
    "### Evaluate"
   ]
  },
  {
   "cell_type": "code",
   "execution_count": null,
   "id": "cb2fa217-9d75-4e0b-87fc-cc72eb434245",
   "metadata": {
    "tags": []
   },
   "outputs": [],
   "source": [
    "model = keras.models.load_model(f\"models/{model_name}.keras\")"
   ]
  },
  {
   "cell_type": "code",
   "execution_count": null,
   "id": "d4207499-b2b7-427f-bd39-3f2592ecba65",
   "metadata": {},
   "outputs": [],
   "source": [
    "model.evaluate(X_test_ready, y_test)"
   ]
  },
  {
   "cell_type": "code",
   "execution_count": null,
   "id": "006de38d-02b0-4cb4-ab94-e1bc7edf51bb",
   "metadata": {},
   "outputs": [],
   "source": [
    "raw_txt = tf.convert_to_tensor([\"I hate it\", \"I love it\"])\n",
    "raw_txt = text_vectorization4(raw_txt)\n",
    "model.predict(raw_txt)"
   ]
  },
  {
   "cell_type": "code",
   "execution_count": null,
   "id": "a344e4ab-cfa7-4f2c-a293-88c8332b62ce",
   "metadata": {
    "colab": {
     "base_uri": "https://localhost:8080/",
     "height": 1000
    },
    "executionInfo": {
     "elapsed": 746,
     "status": "ok",
     "timestamp": 1653231856185,
     "user": {
      "displayName": "Valkea",
      "userId": "01476199649418572392"
     },
     "user_tz": -120
    },
    "id": "81aba764-7f22-4ad1-b0ed-bc5b13f0b75e",
    "outputId": "e3c4ed78-a90b-46e0-baa0-c28f701f4414",
    "tags": []
   },
   "outputs": [],
   "source": [
    "_ = get_scores(\n",
    "    model_name,\n",
    "    model=model,\n",
    "    X_ref=X_test_ready,\n",
    "    y_ref=y_test, \n",
    "    threshold=0.5,\n",
    "    # y_pred=y_preds, \n",
    "    # y_pred_proba=y_preds_proba, \n",
    "    training_time=train_time, \n",
    "    # inference_time=inf_time, \n",
    "    dagslogger=dagslogger,\n",
    "    register=True,\n",
    ")"
   ]
  },
  {
   "cell_type": "markdown",
   "id": "6f241eb0-bd5a-48b5-abdf-fa9e697e8f27",
   "metadata": {},
   "source": [
    "#### Trouvons le meilleur seuil de séparation pour les prédiction (sur la base du F1 score)"
   ]
  },
  {
   "cell_type": "code",
   "execution_count": null,
   "id": "e54bae1d-7a3b-4603-ba37-0e702557c21a",
   "metadata": {},
   "outputs": [],
   "source": [
    "acc_value, best_threshold = find_best_threshold(model, X_valid_ready, y_valid, accuracy_score)\n",
    "print(f\"The best Accuracy score ({acc_value}) for this model is reached with a threshold of {best_threshold}\")"
   ]
  },
  {
   "cell_type": "code",
   "execution_count": null,
   "id": "4fdb62fa-973a-4936-a780-2a72d19c82cb",
   "metadata": {
    "colab": {
     "base_uri": "https://localhost:8080/",
     "height": 1000
    },
    "executionInfo": {
     "elapsed": 746,
     "status": "ok",
     "timestamp": 1653231856185,
     "user": {
      "displayName": "Valkea",
      "userId": "01476199649418572392"
     },
     "user_tz": -120
    },
    "id": "81aba764-7f22-4ad1-b0ed-bc5b13f0b75e",
    "outputId": "e3c4ed78-a90b-46e0-baa0-c28f701f4414",
    "tags": []
   },
   "outputs": [],
   "source": [
    "scores = get_scores(\n",
    "    f\"{model_name} [w. threshold]\",\n",
    "    model=model,\n",
    "    X_ref=X_test_ready,\n",
    "    y_ref=y_test, \n",
    "    threshold=best_threshold,\n",
    "    # y_pred=y_preds, \n",
    "    # y_pred_proba=y_preds_proba, \n",
    "    training_time=train_time, \n",
    "    # inference_time=inf_time, \n",
    "    dagslogger=dagslogger,\n",
    "    register=True,\n",
    "    show_roccurves=False,\n",
    ")"
   ]
  },
  {
   "cell_type": "markdown",
   "id": "1b171138-6d54-47c2-a21a-50e363b030a0",
   "metadata": {},
   "source": [
    "#### Enregistrons les scores pour DagsHub"
   ]
  },
  {
   "cell_type": "code",
   "execution_count": null,
   "id": "439deb0f-9c14-48c8-8c76-94ba72d554fd",
   "metadata": {},
   "outputs": [],
   "source": [
    "save_metrics_to_dagshub(dagslogger, scores, best_threshold, history)\n",
    "dagslogger.save() \n",
    "dagslogger.close()"
   ]
  },
  {
   "cell_type": "markdown",
   "id": "78b9e4f7-8f08-4690-8edc-1b358fffd726",
   "metadata": {},
   "source": [
    "### Compare"
   ]
  },
  {
   "cell_type": "code",
   "execution_count": null,
   "id": "68b36bb6-8bfc-4abf-b6d3-8842fdf609d7",
   "metadata": {
    "tags": []
   },
   "outputs": [],
   "source": [
    "from classification_utils import scores_df\n",
    "scores_df"
   ]
  },
  {
   "cell_type": "markdown",
   "id": "fb13009e-adf9-4d1c-b0e6-313242c7430f",
   "metadata": {},
   "source": [
    "---\n",
    "---\n",
    "# 3. Recherche de l'`embedding` le plus adapté avec des modèles `Séquentiels` <a class=\"anchor\" id=\"EMBEDDING_SEQ\"></a> [⇪](#menu)"
   ]
  },
  {
   "cell_type": "markdown",
   "id": "9bd6bc39-02ea-4c65-876e-62f4e2691313",
   "metadata": {
    "tags": []
   },
   "source": [
    "---\n",
    "## 3.1 `EMB-B0` RNN | Ngram=2 | int | One-hot-embedding <a class=\"anchor\" id=\"EMBEDDING_SEQ_B0\"></a> [⇪](#menu)"
   ]
  },
  {
   "cell_type": "markdown",
   "id": "06259420-9273-4ef0-bfea-6fa1486eabe3",
   "metadata": {},
   "source": [
    "### Standardize & Tokenize"
   ]
  },
  {
   "cell_type": "code",
   "execution_count": null,
   "id": "f4363fbd-c586-4422-b49a-abb3e388375c",
   "metadata": {
    "tags": []
   },
   "outputs": [],
   "source": [
    "# Done before\n",
    "print(text_vectorizationBng2.get_vocabulary()[:20], \"...\")"
   ]
  },
  {
   "cell_type": "markdown",
   "id": "7e2c3eca-3f0e-4a25-9d5e-64711efc11c8",
   "metadata": {},
   "source": [
    "### Prepare dataset"
   ]
  },
  {
   "cell_type": "code",
   "execution_count": null,
   "id": "f0ab3dbc-a596-42cf-8e56-8b30ec73e555",
   "metadata": {
    "tags": []
   },
   "outputs": [],
   "source": [
    "X_train_ready = text_vectorizationBng2(X_train)\n",
    "X_valid_ready = text_vectorization0(X_valid)\n",
    "X_test_ready = text_vectorizationBng2(X_test)"
   ]
  },
  {
   "cell_type": "code",
   "execution_count": null,
   "id": "fa14851c-c9f6-45a3-9cb1-7640ab0f1dec",
   "metadata": {
    "tags": []
   },
   "outputs": [],
   "source": [
    "X_train[:2]"
   ]
  },
  {
   "cell_type": "code",
   "execution_count": null,
   "id": "1b8f4902-89b9-4982-98d8-1a08b265a066",
   "metadata": {
    "tags": []
   },
   "outputs": [],
   "source": [
    "X_train_ready[:2]"
   ]
  },
  {
   "cell_type": "markdown",
   "id": "d106fc59-bbdf-41c4-906b-47278e46a67f",
   "metadata": {},
   "source": [
    "### Define model"
   ]
  },
  {
   "cell_type": "code",
   "execution_count": null,
   "id": "6888675d-57fd-426c-9052-57d9ce53b5a5",
   "metadata": {
    "tags": []
   },
   "outputs": [],
   "source": [
    "model_name = \"EmbedB0\"\n",
    "model, archi_desc = architecture002_oh(\"adam\", \"binary_crossentropy\", ['accuracy'], max_tokens)\n",
    "archi_desc = \"One-Hot Embedding layer + Bigrams | \" + archi_desc"
   ]
  },
  {
   "cell_type": "code",
   "execution_count": null,
   "id": "b438c34d-6c9b-4666-b7fb-ead0133009d4",
   "metadata": {
    "tags": []
   },
   "outputs": [],
   "source": [
    "model.summary()"
   ]
  },
  {
   "cell_type": "markdown",
   "id": "02e7214e-cbc6-4241-9da0-e9852cc4c673",
   "metadata": {},
   "source": [
    "#### Définissons un logger DagsHub pour enregistrer notre essai"
   ]
  },
  {
   "cell_type": "code",
   "execution_count": null,
   "id": "4b433027-1d53-47d7-8b74-1d2099c9bbd5",
   "metadata": {},
   "outputs": [],
   "source": [
    "dagslogger = DAGsHubLogger()"
   ]
  },
  {
   "cell_type": "code",
   "execution_count": null,
   "id": "452d505c-ffab-4986-8826-f401e5176501",
   "metadata": {},
   "outputs": [],
   "source": [
    "save_hyperparameters_to_dagshub(dagslogger, model_name, archi_desc, get_layers_for_dagshub(model), batch_size, data_work.shape[0])"
   ]
  },
  {
   "cell_type": "markdown",
   "id": "3b09683a-82dc-4aba-81f7-97022be6f2a4",
   "metadata": {},
   "source": [
    "### Train model"
   ]
  },
  {
   "cell_type": "code",
   "execution_count": null,
   "id": "855e3b9f-55fe-46c5-ba1d-95b690cf0516",
   "metadata": {
    "tags": []
   },
   "outputs": [],
   "source": [
    "t0 = time.perf_counter()\n",
    "history = model.fit(\n",
    "        x=X_train_ready, y=y_train, \n",
    "        validation_data=(X_test_ready, y_test), \n",
    "        epochs=50, \n",
    "        batch_size=batch_size, \n",
    "        callbacks=init_callbacks(f\"{model_name}\"),\n",
    "        verbose=1,\n",
    ")\n",
    "train_time = time.perf_counter() - t0"
   ]
  },
  {
   "cell_type": "markdown",
   "id": "c35128f9-4e87-48f1-8dbd-51c8bf74c641",
   "metadata": {},
   "source": [
    "### Evaluate"
   ]
  },
  {
   "cell_type": "code",
   "execution_count": null,
   "id": "6ab5c66e-85e3-4d8d-ad16-39afdbd532e7",
   "metadata": {
    "tags": []
   },
   "outputs": [],
   "source": [
    "model = keras.models.load_model(f\"models/{model_name}.keras\")"
   ]
  },
  {
   "cell_type": "code",
   "execution_count": null,
   "id": "ef244dfb-530d-4962-a84f-7ddd17b25998",
   "metadata": {
    "tags": []
   },
   "outputs": [],
   "source": [
    "model.evaluate(X_test_ready, y_test)"
   ]
  },
  {
   "cell_type": "code",
   "execution_count": null,
   "id": "4595341c-dd73-4b66-b9cb-141ef1c378b7",
   "metadata": {
    "tags": []
   },
   "outputs": [],
   "source": [
    "raw_txt = tf.convert_to_tensor([\"I hate it\", \"I love it\"])\n",
    "raw_txt = text_vectorizationBng2(raw_txt)\n",
    "model.predict(raw_txt)"
   ]
  },
  {
   "cell_type": "code",
   "execution_count": null,
   "id": "6a068eaa-a176-4981-bb16-d17388523be4",
   "metadata": {
    "colab": {
     "base_uri": "https://localhost:8080/",
     "height": 1000
    },
    "executionInfo": {
     "elapsed": 746,
     "status": "ok",
     "timestamp": 1653231856185,
     "user": {
      "displayName": "Valkea",
      "userId": "01476199649418572392"
     },
     "user_tz": -120
    },
    "id": "81aba764-7f22-4ad1-b0ed-bc5b13f0b75e",
    "outputId": "e3c4ed78-a90b-46e0-baa0-c28f701f4414",
    "tags": []
   },
   "outputs": [],
   "source": [
    "_ = get_scores(\n",
    "    model_name,\n",
    "    model=model,\n",
    "    X_ref=X_test_ready,\n",
    "    y_ref=y_test, \n",
    "    threshold=0.5,\n",
    "    # y_pred=y_preds, \n",
    "    # y_pred_proba=y_preds_proba, \n",
    "    training_time=train_time, \n",
    "    # inference_time=inf_time, \n",
    "    dagslogger=dagslogger,\n",
    "    register=True,\n",
    ")"
   ]
  },
  {
   "cell_type": "markdown",
   "id": "c70c4f7d-38cf-4e56-9ba4-a9c2ab215bda",
   "metadata": {},
   "source": [
    "#### Trouvons le meilleur seuil de séparation pour les prédiction (sur la base du F1 score)"
   ]
  },
  {
   "cell_type": "code",
   "execution_count": null,
   "id": "e464a284-fa3d-4255-80ce-97c0b839e7e6",
   "metadata": {},
   "outputs": [],
   "source": [
    "acc_value, best_threshold = find_best_threshold(model, X_valid_ready, y_valid, accuracy_score)\n",
    "print(f\"The best Accuracy score ({acc_value}) for this model is reached with a threshold of {best_threshold}\")"
   ]
  },
  {
   "cell_type": "code",
   "execution_count": null,
   "id": "5762bee0-88af-4ef9-93d1-d24bee67a5fe",
   "metadata": {
    "colab": {
     "base_uri": "https://localhost:8080/",
     "height": 1000
    },
    "executionInfo": {
     "elapsed": 746,
     "status": "ok",
     "timestamp": 1653231856185,
     "user": {
      "displayName": "Valkea",
      "userId": "01476199649418572392"
     },
     "user_tz": -120
    },
    "id": "81aba764-7f22-4ad1-b0ed-bc5b13f0b75e",
    "outputId": "e3c4ed78-a90b-46e0-baa0-c28f701f4414",
    "tags": []
   },
   "outputs": [],
   "source": [
    "scores = get_scores(\n",
    "    f\"{model_name} [w. threshold]\",\n",
    "    model=model,\n",
    "    X_ref=X_test_ready,\n",
    "    y_ref=y_test, \n",
    "    threshold=best_threshold,\n",
    "    # y_pred=y_preds, \n",
    "    # y_pred_proba=y_preds_proba, \n",
    "    training_time=train_time, \n",
    "    # inference_time=inf_time, \n",
    "    dagslogger=dagslogger,\n",
    "    register=True,\n",
    "    show_roccurves=False,\n",
    ")"
   ]
  },
  {
   "cell_type": "markdown",
   "id": "abcda03a-5bdf-47be-9b01-3c8d01207a01",
   "metadata": {},
   "source": [
    "#### Enregistrons les scores pour DagsHub"
   ]
  },
  {
   "cell_type": "code",
   "execution_count": null,
   "id": "6a554874-2009-413a-a354-0af2e1d7bcb9",
   "metadata": {},
   "outputs": [],
   "source": [
    "save_metrics_to_dagshub(dagslogger, scores, best_threshold, history)\n",
    "dagslogger.save() \n",
    "dagslogger.close()"
   ]
  },
  {
   "cell_type": "markdown",
   "id": "98ceb416-a7ab-460f-9a77-0c23f3fec328",
   "metadata": {},
   "source": [
    "### Compare"
   ]
  },
  {
   "cell_type": "code",
   "execution_count": null,
   "id": "31824698-69e2-4693-8c6a-8515dce5e8f5",
   "metadata": {
    "tags": []
   },
   "outputs": [],
   "source": [
    "from classification_utils import scores_df\n",
    "scores_df"
   ]
  },
  {
   "cell_type": "markdown",
   "id": "83c482f1-6d7b-4620-a605-d4106ed7238b",
   "metadata": {
    "tags": []
   },
   "source": [
    "---\n",
    "## 3.2 `EMB-B1` RNN | Ngram=2 | int | Keras embedding <a class=\"anchor\" id=\"EMBEDDING_SEQ_B1\"></a> [⇪](#menu)"
   ]
  },
  {
   "cell_type": "markdown",
   "id": "4feb4fbe-4582-468c-a70d-fcdaa1c0b916",
   "metadata": {},
   "source": [
    "### Standardize & Tokenize"
   ]
  },
  {
   "cell_type": "code",
   "execution_count": null,
   "id": "f433e8dd-9eef-4c47-9d24-e552495aac8c",
   "metadata": {
    "tags": []
   },
   "outputs": [],
   "source": [
    "# Done before\n",
    "print(text_vectorizationBng2.get_vocabulary()[:20], \"...\")"
   ]
  },
  {
   "cell_type": "markdown",
   "id": "d5eb6b61-0858-49eb-9bda-1d6f61e5561f",
   "metadata": {},
   "source": [
    "### Prepare dataset"
   ]
  },
  {
   "cell_type": "code",
   "execution_count": null,
   "id": "d568192a-f2b0-4237-93b0-842df5701908",
   "metadata": {
    "tags": []
   },
   "outputs": [],
   "source": [
    "X_train_ready = text_vectorizationBng2(X_train)\n",
    "X_valid_ready = text_vectorization0(X_valid)\n",
    "X_test_ready = text_vectorizationBng2(X_test)"
   ]
  },
  {
   "cell_type": "code",
   "execution_count": null,
   "id": "aa25e7f0-25cb-4fe7-8950-b7696311e2f9",
   "metadata": {
    "tags": []
   },
   "outputs": [],
   "source": [
    "X_train[:2]"
   ]
  },
  {
   "cell_type": "code",
   "execution_count": null,
   "id": "101df780-91ea-4960-9269-8016c4bab21c",
   "metadata": {
    "tags": []
   },
   "outputs": [],
   "source": [
    "X_train_ready[:2]"
   ]
  },
  {
   "cell_type": "markdown",
   "id": "0696df61-20ae-4978-a0d9-ca71141f58b2",
   "metadata": {},
   "source": [
    "### Embedding"
   ]
  },
  {
   "cell_type": "code",
   "execution_count": null,
   "id": "8a377614-d917-4e80-b0df-ae4b92cff5af",
   "metadata": {
    "tags": []
   },
   "outputs": [],
   "source": [
    "# Embedding simple\n",
    "embedding_layer = layers.Embedding(\n",
    "    input_dim=max_tokens,\n",
    "    output_dim=128, \n",
    "    input_length=X_train_ready.shape[1],\n",
    "    # mask_zero=True,\n",
    "    # trainable=True, # <== default is True\n",
    ")"
   ]
  },
  {
   "cell_type": "markdown",
   "id": "a492f8ec-acad-4350-9203-f45e17fd1352",
   "metadata": {},
   "source": [
    "### Define model"
   ]
  },
  {
   "cell_type": "code",
   "execution_count": null,
   "id": "738345b1-753e-4a8e-8049-c216df750a1b",
   "metadata": {
    "tags": []
   },
   "outputs": [],
   "source": [
    "model_name = \"EmbedB1\"\n",
    "model, archi_desc = architecture002(\"adam\", \"binary_crossentropy\", ['accuracy'], embedding_layer)\n",
    "archi_desc = \"Keras Embedding + Bigrams | \" + archi_desc"
   ]
  },
  {
   "cell_type": "code",
   "execution_count": null,
   "id": "cdefa902-ae9b-4835-8609-966ca532a19b",
   "metadata": {
    "tags": []
   },
   "outputs": [],
   "source": [
    "model.summary()"
   ]
  },
  {
   "cell_type": "markdown",
   "id": "c5e7efe2-e1b5-4240-b415-926a67e74b6c",
   "metadata": {},
   "source": [
    "#### Définissons un logger DagsHub pour enregistrer notre essai"
   ]
  },
  {
   "cell_type": "code",
   "execution_count": null,
   "id": "ad82311f-241e-429c-a060-c2eb35acb945",
   "metadata": {},
   "outputs": [],
   "source": [
    "dagslogger = DAGsHubLogger()"
   ]
  },
  {
   "cell_type": "code",
   "execution_count": null,
   "id": "0875d3aa-79ce-41f3-b4ec-20cfb91ae876",
   "metadata": {},
   "outputs": [],
   "source": [
    "save_hyperparameters_to_dagshub(dagslogger, model_name, archi_desc, get_layers_for_dagshub(model), batch_size, data_work.shape[0])"
   ]
  },
  {
   "cell_type": "markdown",
   "id": "80f49a67-84ec-49b4-bb6c-3070cc75f01e",
   "metadata": {},
   "source": [
    "### Train model"
   ]
  },
  {
   "cell_type": "code",
   "execution_count": null,
   "id": "36067df4-6a5f-40ee-8e4c-2c0a3a1f5074",
   "metadata": {
    "tags": []
   },
   "outputs": [],
   "source": [
    "t0 = time.perf_counter()\n",
    "history = model.fit(\n",
    "        x=X_train_ready, y=y_train, \n",
    "        validation_data=(X_test_ready, y_test), \n",
    "        epochs=50, \n",
    "        batch_size=batch_size, \n",
    "        callbacks=init_callbacks(f\"{model_name}\"),\n",
    "        verbose=1,\n",
    ")\n",
    "train_time = time.perf_counter() - t0"
   ]
  },
  {
   "cell_type": "markdown",
   "id": "e861795e-51cb-4a92-9af8-e30526827a0a",
   "metadata": {},
   "source": [
    "### Evaluate"
   ]
  },
  {
   "cell_type": "code",
   "execution_count": null,
   "id": "bdba7192-bcbd-4570-846b-3c0a712c2bfb",
   "metadata": {
    "tags": []
   },
   "outputs": [],
   "source": [
    "model = keras.models.load_model(f\"models/{model_name}.keras\")"
   ]
  },
  {
   "cell_type": "code",
   "execution_count": null,
   "id": "10d67773-de4a-44a5-95be-05ac2e4d99b4",
   "metadata": {
    "tags": []
   },
   "outputs": [],
   "source": [
    "model.evaluate(X_test_ready, y_test)"
   ]
  },
  {
   "cell_type": "code",
   "execution_count": null,
   "id": "1d3f41c9-099f-4ef7-86af-b9bfd954191d",
   "metadata": {
    "tags": []
   },
   "outputs": [],
   "source": [
    "raw_txt = tf.convert_to_tensor([\"I hate it\", \"I love it\"])\n",
    "raw_txt = text_vectorizationBng2(raw_txt)\n",
    "model.predict(raw_txt)"
   ]
  },
  {
   "cell_type": "code",
   "execution_count": null,
   "id": "3165e03e-b64b-42eb-bad4-2dd9855ab5c3",
   "metadata": {
    "colab": {
     "base_uri": "https://localhost:8080/",
     "height": 1000
    },
    "executionInfo": {
     "elapsed": 746,
     "status": "ok",
     "timestamp": 1653231856185,
     "user": {
      "displayName": "Valkea",
      "userId": "01476199649418572392"
     },
     "user_tz": -120
    },
    "id": "81aba764-7f22-4ad1-b0ed-bc5b13f0b75e",
    "outputId": "e3c4ed78-a90b-46e0-baa0-c28f701f4414",
    "tags": []
   },
   "outputs": [],
   "source": [
    "_ = get_scores(\n",
    "    model_name,\n",
    "    model=model,\n",
    "    X_ref=X_test_ready,\n",
    "    y_ref=y_test, \n",
    "    threshold=0.5,\n",
    "    # y_pred=y_preds, \n",
    "    # y_pred_proba=y_preds_proba, \n",
    "    training_time=train_time, \n",
    "    # inference_time=inf_time, \n",
    "    dagslogger=dagslogger,\n",
    "    register=True,\n",
    ")"
   ]
  },
  {
   "cell_type": "markdown",
   "id": "591fac76-e676-4206-b008-273562a3a56b",
   "metadata": {},
   "source": [
    "#### Trouvons le meilleur seuil de séparation pour les prédiction (sur la base du F1 score)"
   ]
  },
  {
   "cell_type": "code",
   "execution_count": null,
   "id": "37f6eb9e-cf28-46d9-bedd-cf6ed6b7b0f9",
   "metadata": {},
   "outputs": [],
   "source": [
    "acc_value, best_threshold = find_best_threshold(model, X_valid_ready, y_valid, accuracy_score)\n",
    "print(f\"The best Accuracy score ({acc_value}) for this model is reached with a threshold of {best_threshold}\")"
   ]
  },
  {
   "cell_type": "code",
   "execution_count": null,
   "id": "464d22f7-f7b9-46b3-8915-f730c376148c",
   "metadata": {
    "colab": {
     "base_uri": "https://localhost:8080/",
     "height": 1000
    },
    "executionInfo": {
     "elapsed": 746,
     "status": "ok",
     "timestamp": 1653231856185,
     "user": {
      "displayName": "Valkea",
      "userId": "01476199649418572392"
     },
     "user_tz": -120
    },
    "id": "81aba764-7f22-4ad1-b0ed-bc5b13f0b75e",
    "outputId": "e3c4ed78-a90b-46e0-baa0-c28f701f4414",
    "tags": []
   },
   "outputs": [],
   "source": [
    "scores = get_scores(\n",
    "    f\"{model_name} [w. threshold]\",\n",
    "    model=model,\n",
    "    X_ref=X_test_ready,\n",
    "    y_ref=y_test, \n",
    "    threshold=best_threshold,\n",
    "    # y_pred=y_preds, \n",
    "    # y_pred_proba=y_preds_proba, \n",
    "    training_time=train_time, \n",
    "    # inference_time=inf_time, \n",
    "    dagslogger=dagslogger,\n",
    "    register=True,\n",
    "    show_roccurves=False,\n",
    ")"
   ]
  },
  {
   "cell_type": "markdown",
   "id": "9e76c727-c447-4e85-9960-5eaf64ad38dc",
   "metadata": {},
   "source": [
    "#### Enregistrons les scores pour DagsHub"
   ]
  },
  {
   "cell_type": "code",
   "execution_count": null,
   "id": "bc295385-d09d-402e-8f9e-f490d8c90d0e",
   "metadata": {},
   "outputs": [],
   "source": [
    "save_metrics_to_dagshub(dagslogger, scores, best_threshold, history)\n",
    "dagslogger.save() \n",
    "dagslogger.close()"
   ]
  },
  {
   "cell_type": "markdown",
   "id": "66905a44-0b86-42c2-8ee7-eb5f0ca96a29",
   "metadata": {},
   "source": [
    "### Compare"
   ]
  },
  {
   "cell_type": "code",
   "execution_count": null,
   "id": "d22dc1d5-173f-4baa-a822-cba06625853c",
   "metadata": {
    "tags": []
   },
   "outputs": [],
   "source": [
    "from classification_utils import scores_df\n",
    "scores_df"
   ]
  },
  {
   "cell_type": "markdown",
   "id": "4d801fab-ad53-4872-81a0-402b3fb7f662",
   "metadata": {
    "tags": []
   },
   "source": [
    "---\n",
    "## 3.3 `EMB-B2` RNN | Ngram=2 | int | Keras embedding + MASK <a class=\"anchor\" id=\"EMBEDDING_SEQ_B2\"></a> [⇪](#menu)"
   ]
  },
  {
   "cell_type": "markdown",
   "id": "1753d5f5-8191-4672-a4f9-d32ccdf7a71f",
   "metadata": {},
   "source": [
    "### Standardize & Tokenize"
   ]
  },
  {
   "cell_type": "code",
   "execution_count": null,
   "id": "710b83d7-2722-41b3-a8d1-2efc7f93481d",
   "metadata": {
    "tags": []
   },
   "outputs": [],
   "source": [
    "# Done before\n",
    "print(text_vectorizationBng2.get_vocabulary()[:20], \"...\")"
   ]
  },
  {
   "cell_type": "markdown",
   "id": "6b07b15a-6515-4805-aa3a-b47363a686d8",
   "metadata": {},
   "source": [
    "### Prepare dataset"
   ]
  },
  {
   "cell_type": "code",
   "execution_count": null,
   "id": "54812907-9f63-4526-9648-5a89973b1e1f",
   "metadata": {
    "tags": []
   },
   "outputs": [],
   "source": [
    "X_train_ready = text_vectorizationBng2(X_train)\n",
    "X_valid_ready = text_vectorization0(X_valid)\n",
    "X_test_ready = text_vectorizationBng2(X_test)"
   ]
  },
  {
   "cell_type": "code",
   "execution_count": null,
   "id": "d335575c-6f39-48de-8935-7018b345156f",
   "metadata": {
    "tags": []
   },
   "outputs": [],
   "source": [
    "X_train[:2]"
   ]
  },
  {
   "cell_type": "code",
   "execution_count": null,
   "id": "bb9104c3-c294-4005-8a75-12339a97a445",
   "metadata": {
    "tags": []
   },
   "outputs": [],
   "source": [
    "X_train_ready[:2]"
   ]
  },
  {
   "cell_type": "markdown",
   "id": "6af1a45b-a88a-46dd-9291-35d589491eb1",
   "metadata": {},
   "source": [
    "### Embedding"
   ]
  },
  {
   "cell_type": "code",
   "execution_count": null,
   "id": "34b9e204-9ac6-452c-9500-3b39dd842e83",
   "metadata": {
    "tags": []
   },
   "outputs": [],
   "source": [
    "# Embedding avec masque\n",
    "embedding_layer = layers.Embedding(\n",
    "    input_dim=max_tokens,\n",
    "    output_dim=128, \n",
    "    input_length=X_train_ready.shape[1],\n",
    "    mask_zero=True,\n",
    "    # trainable=True, # <== default is True\n",
    ")"
   ]
  },
  {
   "cell_type": "markdown",
   "id": "50fc5907-8e0a-4acc-9248-ddaf7bf2b34d",
   "metadata": {},
   "source": [
    "### Define model"
   ]
  },
  {
   "cell_type": "code",
   "execution_count": null,
   "id": "ae779465-a79a-4bfe-b3dd-fb110dc30209",
   "metadata": {
    "tags": []
   },
   "outputs": [],
   "source": [
    "model_name = \"EmbedB2\"\n",
    "model, archi_desc = architecture002(\"adam\", \"binary_crossentropy\", ['accuracy'], embedding_layer)\n",
    "archi_desc = \"Keras Embedding + MASK + Bigrams | \" + archi_desc"
   ]
  },
  {
   "cell_type": "code",
   "execution_count": null,
   "id": "82844545-3f13-40bf-979d-c8e8cc67d77d",
   "metadata": {
    "tags": []
   },
   "outputs": [],
   "source": [
    "model.summary()"
   ]
  },
  {
   "cell_type": "markdown",
   "id": "5058f0ed-a387-4d09-9db8-96458289deba",
   "metadata": {},
   "source": [
    "#### Définissons un logger DagsHub pour enregistrer notre essai"
   ]
  },
  {
   "cell_type": "code",
   "execution_count": null,
   "id": "1c502e0f-b02f-4dad-970f-34c74bca4bbf",
   "metadata": {},
   "outputs": [],
   "source": [
    "dagslogger = DAGsHubLogger()"
   ]
  },
  {
   "cell_type": "code",
   "execution_count": null,
   "id": "854528ae-4dcd-475e-9d16-746f5b4ed9e6",
   "metadata": {},
   "outputs": [],
   "source": [
    "save_hyperparameters_to_dagshub(dagslogger, model_name, archi_desc, get_layers_for_dagshub(model), batch_size, data_work.shape[0])"
   ]
  },
  {
   "cell_type": "markdown",
   "id": "564472fb-b225-4a02-83ed-d2ace4c8d408",
   "metadata": {},
   "source": [
    "### Train model"
   ]
  },
  {
   "cell_type": "code",
   "execution_count": null,
   "id": "47aa56cf-262b-4e15-a8d3-62dc72ecd0ae",
   "metadata": {
    "tags": []
   },
   "outputs": [],
   "source": [
    "t0 = time.perf_counter()\n",
    "history = model.fit(\n",
    "        x=X_train_ready, y=y_train, \n",
    "        validation_data=(X_test_ready, y_test), \n",
    "        epochs=50, \n",
    "        batch_size=batch_size, \n",
    "        callbacks=init_callbacks(f\"{model_name}\"),\n",
    "        verbose=1,\n",
    ")\n",
    "train_time = time.perf_counter() - t0"
   ]
  },
  {
   "cell_type": "markdown",
   "id": "04a877d3-b8f9-4a89-ade6-a55833e31d2b",
   "metadata": {},
   "source": [
    "### Evaluate"
   ]
  },
  {
   "cell_type": "code",
   "execution_count": null,
   "id": "74e53298-cc77-4c46-ac39-8a342ca0edc8",
   "metadata": {
    "tags": []
   },
   "outputs": [],
   "source": [
    "model = keras.models.load_model(f\"models/{model_name}.keras\")"
   ]
  },
  {
   "cell_type": "code",
   "execution_count": null,
   "id": "e9a47977-695d-4c1a-8934-14ed6893778e",
   "metadata": {
    "tags": []
   },
   "outputs": [],
   "source": [
    "model.evaluate(X_test_ready, y_test)"
   ]
  },
  {
   "cell_type": "code",
   "execution_count": null,
   "id": "95d0d694-1194-4587-adbb-b775738e5a07",
   "metadata": {
    "tags": []
   },
   "outputs": [],
   "source": [
    "raw_txt = tf.convert_to_tensor([\"I hate it\", \"I love it\"])\n",
    "raw_txt = text_vectorizationBng2(raw_txt)\n",
    "model.predict(raw_txt)"
   ]
  },
  {
   "cell_type": "code",
   "execution_count": null,
   "id": "83b514ad-15fc-4c26-828a-215b9ef24319",
   "metadata": {
    "colab": {
     "base_uri": "https://localhost:8080/",
     "height": 1000
    },
    "executionInfo": {
     "elapsed": 746,
     "status": "ok",
     "timestamp": 1653231856185,
     "user": {
      "displayName": "Valkea",
      "userId": "01476199649418572392"
     },
     "user_tz": -120
    },
    "id": "81aba764-7f22-4ad1-b0ed-bc5b13f0b75e",
    "outputId": "e3c4ed78-a90b-46e0-baa0-c28f701f4414",
    "tags": []
   },
   "outputs": [],
   "source": [
    "_ = get_scores(\n",
    "    model_name,\n",
    "    model=model,\n",
    "    X_ref=X_test_ready,\n",
    "    y_ref=y_test, \n",
    "    threshold=0.5,\n",
    "    # y_pred=y_preds, \n",
    "    # y_pred_proba=y_preds_proba, \n",
    "    training_time=train_time, \n",
    "    # inference_time=inf_time, \n",
    "    dagslogger=dagslogger,\n",
    "    register=True,\n",
    ")"
   ]
  },
  {
   "cell_type": "markdown",
   "id": "56b9213d-4142-4890-a2b1-38949b618559",
   "metadata": {},
   "source": [
    "#### Trouvons le meilleur seuil de séparation pour les prédiction (sur la base du F1 score)"
   ]
  },
  {
   "cell_type": "code",
   "execution_count": null,
   "id": "4a28af14-7ac8-4556-8a01-08c76e937094",
   "metadata": {},
   "outputs": [],
   "source": [
    "acc_value, best_threshold = find_best_threshold(model, X_valid_ready, y_valid, accuracy_score)\n",
    "print(f\"The best Accuracy score ({acc_value}) for this model is reached with a threshold of {best_threshold}\")"
   ]
  },
  {
   "cell_type": "code",
   "execution_count": null,
   "id": "d5078f80-166b-4478-a77a-0a5a6186cd30",
   "metadata": {
    "colab": {
     "base_uri": "https://localhost:8080/",
     "height": 1000
    },
    "executionInfo": {
     "elapsed": 746,
     "status": "ok",
     "timestamp": 1653231856185,
     "user": {
      "displayName": "Valkea",
      "userId": "01476199649418572392"
     },
     "user_tz": -120
    },
    "id": "81aba764-7f22-4ad1-b0ed-bc5b13f0b75e",
    "outputId": "e3c4ed78-a90b-46e0-baa0-c28f701f4414",
    "tags": []
   },
   "outputs": [],
   "source": [
    "scores = get_scores(\n",
    "    f\"{model_name} [w. threshold]\",\n",
    "    model=model,\n",
    "    X_ref=X_test_ready,\n",
    "    y_ref=y_test, \n",
    "    threshold=best_threshold,\n",
    "    # y_pred=y_preds, \n",
    "    # y_pred_proba=y_preds_proba, \n",
    "    training_time=train_time, \n",
    "    # inference_time=inf_time, \n",
    "    dagslogger=dagslogger,\n",
    "    register=True,\n",
    "    show_roccurves=False,\n",
    ")"
   ]
  },
  {
   "cell_type": "markdown",
   "id": "d282d2e2-2f3a-43f6-b83c-a9ac57ff27ed",
   "metadata": {},
   "source": [
    "#### Enregistrons les scores pour DagsHub"
   ]
  },
  {
   "cell_type": "code",
   "execution_count": null,
   "id": "f5bf26e1-62ba-44a0-bb0f-db44bd230d00",
   "metadata": {},
   "outputs": [],
   "source": [
    "save_metrics_to_dagshub(dagslogger, scores, best_threshold, history)\n",
    "dagslogger.save() \n",
    "dagslogger.close()"
   ]
  },
  {
   "cell_type": "markdown",
   "id": "70d441df-f3d8-4842-a59e-fe91178f0be2",
   "metadata": {},
   "source": [
    "### Compare"
   ]
  },
  {
   "cell_type": "code",
   "execution_count": null,
   "id": "c2057104-2ec2-48d0-8cef-5680f0270597",
   "metadata": {
    "tags": []
   },
   "outputs": [],
   "source": [
    "from classification_utils import scores_df\n",
    "scores_df"
   ]
  },
  {
   "cell_type": "markdown",
   "id": "8a927a96-d1e6-4232-9e00-64fa548bc5dd",
   "metadata": {
    "tags": []
   },
   "source": [
    "---\n",
    "## 3.4 `EMB-B3` RNN | Ngram=2 | int | Glove 100d + MASK + NOT trainable <a class=\"anchor\" id=\"EMBEDDING_SEQ_B3\"></a> [⇪](#menu)"
   ]
  },
  {
   "cell_type": "markdown",
   "id": "573cefd0-59a8-45a6-a09f-f1cb9a0db3a8",
   "metadata": {},
   "source": [
    "### Standardize & Tokenize"
   ]
  },
  {
   "cell_type": "code",
   "execution_count": null,
   "id": "13bc2ea5-c7c1-4e74-b6a4-2bd6eb6d8198",
   "metadata": {
    "tags": []
   },
   "outputs": [],
   "source": [
    "# Done before\n",
    "print(text_vectorizationBng2.get_vocabulary()[:20], \"...\")"
   ]
  },
  {
   "cell_type": "markdown",
   "id": "3d849bcd-8ac6-42b1-a9fc-a8c3a792900f",
   "metadata": {},
   "source": [
    "### Prepare dataset"
   ]
  },
  {
   "cell_type": "code",
   "execution_count": null,
   "id": "bd0c7729-71bd-4186-a4a4-9c17aad36f91",
   "metadata": {
    "tags": []
   },
   "outputs": [],
   "source": [
    "X_train_ready = text_vectorizationBng2(X_train)\n",
    "X_valid_ready = text_vectorization0(X_valid)\n",
    "X_test_ready = text_vectorizationBng2(X_test)"
   ]
  },
  {
   "cell_type": "code",
   "execution_count": null,
   "id": "a1c4f043-a38b-481a-97b5-ddbf7a47c3cc",
   "metadata": {
    "tags": []
   },
   "outputs": [],
   "source": [
    "X_train[:2]"
   ]
  },
  {
   "cell_type": "code",
   "execution_count": null,
   "id": "5570c7a0-882c-4544-b2fc-47f6e719b9da",
   "metadata": {
    "tags": []
   },
   "outputs": [],
   "source": [
    "X_train_ready[:2]"
   ]
  },
  {
   "cell_type": "markdown",
   "id": "cdda851c-840d-4c07-8ab9-e85a65f4f875",
   "metadata": {},
   "source": [
    "### Embedding"
   ]
  },
  {
   "cell_type": "code",
   "execution_count": null,
   "id": "8e5975ab-15a1-404a-8a19-0ffbdc1689ca",
   "metadata": {
    "tags": []
   },
   "outputs": [],
   "source": [
    "embeddings_index = load_trained_glove(\"glove.6B.100d\")"
   ]
  },
  {
   "cell_type": "code",
   "execution_count": null,
   "id": "68ab924a-134f-4af1-844d-fcdd03eaaebc",
   "metadata": {
    "tags": []
   },
   "outputs": [],
   "source": [
    "embedding_dim = 100\n",
    "vocabulary = text_vectorizationBng2.get_vocabulary()\n",
    "embedding_matrix = convert_embedding_matrix(vocabulary, embeddings_index, max_tokens, embedding_dim)\n",
    "embedding_matrix"
   ]
  },
  {
   "cell_type": "code",
   "execution_count": null,
   "id": "f5344acb-06ae-4a65-8805-71880708034e",
   "metadata": {
    "tags": []
   },
   "outputs": [],
   "source": [
    "# Embedding avec masque\n",
    "embedding_layer = layers.Embedding(\n",
    "    input_dim=max_tokens,\n",
    "    output_dim=embedding_dim,\n",
    "    embeddings_initializer=keras.initializers.Constant(embedding_matrix),\n",
    "    # input_length=max_length,\n",
    "    mask_zero=True,\n",
    "    trainable=False, # <== default is True\n",
    ")"
   ]
  },
  {
   "cell_type": "markdown",
   "id": "8693fc4d-1261-4143-8465-e844af076ab7",
   "metadata": {},
   "source": [
    "### Define model"
   ]
  },
  {
   "cell_type": "code",
   "execution_count": null,
   "id": "891f188a-fcb4-4906-aed4-bc04ef17548a",
   "metadata": {
    "tags": []
   },
   "outputs": [],
   "source": [
    "model_name = \"EmbedB3\"\n",
    "model, archi_desc = architecture002(\"adam\", \"binary_crossentropy\", ['accuracy'], embedding_layer)\n",
    "archi_desc = \"GloVe 100d + MASK + NT + Bigrams| \" + archi_desc"
   ]
  },
  {
   "cell_type": "code",
   "execution_count": null,
   "id": "83ddf558-765a-4df9-8b70-9af064040940",
   "metadata": {
    "tags": []
   },
   "outputs": [],
   "source": [
    "model.summary()"
   ]
  },
  {
   "cell_type": "markdown",
   "id": "04b4f97e-4b0e-4a8d-bc22-3a88b40736e4",
   "metadata": {},
   "source": [
    "#### Définissons un logger DagsHub pour enregistrer notre essai"
   ]
  },
  {
   "cell_type": "code",
   "execution_count": null,
   "id": "2890ba6b-e98e-4d79-912b-387aa5b7ccc4",
   "metadata": {},
   "outputs": [],
   "source": [
    "dagslogger = DAGsHubLogger()"
   ]
  },
  {
   "cell_type": "code",
   "execution_count": null,
   "id": "1a5f8f72-feff-4039-a9c1-f2a18f58b5d2",
   "metadata": {},
   "outputs": [],
   "source": [
    "save_hyperparameters_to_dagshub(dagslogger, model_name, archi_desc, get_layers_for_dagshub(model), batch_size, data_work.shape[0])"
   ]
  },
  {
   "cell_type": "markdown",
   "id": "6311e41f-af1d-4fab-8eff-d0d6c94cf530",
   "metadata": {},
   "source": [
    "### Train model"
   ]
  },
  {
   "cell_type": "code",
   "execution_count": null,
   "id": "7414b9fa-9fdc-4cd1-8628-1076418a8362",
   "metadata": {
    "tags": []
   },
   "outputs": [],
   "source": [
    "t0 = time.perf_counter()\n",
    "history = model.fit(\n",
    "        x=X_train_ready, y=y_train, \n",
    "        validation_data=(X_test_ready, y_test), \n",
    "        epochs=50, \n",
    "        batch_size=batch_size, \n",
    "        callbacks=init_callbacks(f\"{model_name}\"),\n",
    "        verbose=1,\n",
    ")\n",
    "train_time = time.perf_counter() - t0"
   ]
  },
  {
   "cell_type": "markdown",
   "id": "f8c107f4-237c-4dbf-9c54-b9b6a9ef8a6d",
   "metadata": {},
   "source": [
    "### Evaluate"
   ]
  },
  {
   "cell_type": "code",
   "execution_count": null,
   "id": "9710b78b-7240-4001-b73c-f7141730ebe1",
   "metadata": {
    "tags": []
   },
   "outputs": [],
   "source": [
    "model = keras.models.load_model(f\"models/{model_name}.keras\")"
   ]
  },
  {
   "cell_type": "code",
   "execution_count": null,
   "id": "a5327a41-df91-4564-809c-4b26b3770f64",
   "metadata": {
    "tags": []
   },
   "outputs": [],
   "source": [
    "model.evaluate(X_test_ready, y_test)"
   ]
  },
  {
   "cell_type": "code",
   "execution_count": null,
   "id": "4409a929-c98b-485e-b351-5a031c11b057",
   "metadata": {
    "tags": []
   },
   "outputs": [],
   "source": [
    "raw_txt = tf.convert_to_tensor([\"I hate it\", \"I love it\"])\n",
    "raw_txt = text_vectorizationBng2(raw_txt)\n",
    "model.predict(raw_txt)"
   ]
  },
  {
   "cell_type": "code",
   "execution_count": null,
   "id": "ec298805-21e3-4286-8420-23f027bcdc89",
   "metadata": {
    "colab": {
     "base_uri": "https://localhost:8080/",
     "height": 1000
    },
    "executionInfo": {
     "elapsed": 746,
     "status": "ok",
     "timestamp": 1653231856185,
     "user": {
      "displayName": "Valkea",
      "userId": "01476199649418572392"
     },
     "user_tz": -120
    },
    "id": "81aba764-7f22-4ad1-b0ed-bc5b13f0b75e",
    "outputId": "e3c4ed78-a90b-46e0-baa0-c28f701f4414",
    "tags": []
   },
   "outputs": [],
   "source": [
    "_ = get_scores(\n",
    "    model_name,\n",
    "    model=model,\n",
    "    X_ref=X_test_ready,\n",
    "    y_ref=y_test, \n",
    "    threshold=0.5,\n",
    "    # y_pred=y_preds, \n",
    "    # y_pred_proba=y_preds_proba, \n",
    "    training_time=train_time, \n",
    "    # inference_time=inf_time, \n",
    "    dagslogger=dagslogger,\n",
    "    register=True,\n",
    ")"
   ]
  },
  {
   "cell_type": "markdown",
   "id": "a9d3f551-86f1-4c47-b4dd-c9e7228bd862",
   "metadata": {},
   "source": [
    "#### Trouvons le meilleur seuil de séparation pour les prédiction (sur la base du F1 score)"
   ]
  },
  {
   "cell_type": "code",
   "execution_count": null,
   "id": "e1509737-b00c-418d-98e5-85e058e8e56e",
   "metadata": {},
   "outputs": [],
   "source": [
    "acc_value, best_threshold = find_best_threshold(model, X_valid_ready, y_valid, accuracy_score)\n",
    "print(f\"The best Accuracy score ({acc_value}) for this model is reached with a threshold of {best_threshold}\")"
   ]
  },
  {
   "cell_type": "code",
   "execution_count": null,
   "id": "c091273a-66e1-4356-8efe-87ade169e41d",
   "metadata": {
    "colab": {
     "base_uri": "https://localhost:8080/",
     "height": 1000
    },
    "executionInfo": {
     "elapsed": 746,
     "status": "ok",
     "timestamp": 1653231856185,
     "user": {
      "displayName": "Valkea",
      "userId": "01476199649418572392"
     },
     "user_tz": -120
    },
    "id": "81aba764-7f22-4ad1-b0ed-bc5b13f0b75e",
    "outputId": "e3c4ed78-a90b-46e0-baa0-c28f701f4414",
    "tags": []
   },
   "outputs": [],
   "source": [
    "scores = get_scores(\n",
    "    f\"{model_name} [w. threshold]\",\n",
    "    model=model,\n",
    "    X_ref=X_test_ready,\n",
    "    y_ref=y_test, \n",
    "    threshold=best_threshold,\n",
    "    # y_pred=y_preds, \n",
    "    # y_pred_proba=y_preds_proba, \n",
    "    training_time=train_time, \n",
    "    # inference_time=inf_time, \n",
    "    dagslogger=dagslogger,\n",
    "    register=True,\n",
    "    show_roccurves=False,\n",
    ")"
   ]
  },
  {
   "cell_type": "markdown",
   "id": "220c6e84-5aa8-4ef9-946f-267347c48331",
   "metadata": {},
   "source": [
    "#### Enregistrons les scores pour DagsHub"
   ]
  },
  {
   "cell_type": "code",
   "execution_count": null,
   "id": "dbb3924f-6f4e-4491-a07d-05d2c5717e4c",
   "metadata": {},
   "outputs": [],
   "source": [
    "save_metrics_to_dagshub(dagslogger, scores, best_threshold, history)\n",
    "dagslogger.save() \n",
    "dagslogger.close()"
   ]
  },
  {
   "cell_type": "markdown",
   "id": "860faf95-bce5-4439-98b5-52580240f042",
   "metadata": {},
   "source": [
    "### Compare"
   ]
  },
  {
   "cell_type": "code",
   "execution_count": null,
   "id": "4c4eb2e2-0c8d-43cf-bcdd-1c9161480377",
   "metadata": {
    "tags": []
   },
   "outputs": [],
   "source": [
    "from classification_utils import scores_df\n",
    "scores_df"
   ]
  },
  {
   "cell_type": "markdown",
   "id": "83c78fb0-a3e4-4af3-b071-4f2313138a34",
   "metadata": {
    "tags": []
   },
   "source": [
    "---\n",
    "## 3.5 `EMB-B4` RNN | Ngram=1 | int | Glove 100d + MASK + NOT trainable <a class=\"anchor\" id=\"EMBEDDING_SEQ_B4\"></a> [⇪](#menu)"
   ]
  },
  {
   "cell_type": "markdown",
   "id": "a0fa5b6b-37a7-4917-9e7a-85bee618a7c1",
   "metadata": {},
   "source": [
    "### Standardize & Tokenize"
   ]
  },
  {
   "cell_type": "code",
   "execution_count": null,
   "id": "eca7eeaf-e406-4eb2-91e5-18fc0da16192",
   "metadata": {
    "tags": []
   },
   "outputs": [],
   "source": [
    "# Done before\n",
    "print(text_vectorizationBng1.get_vocabulary()[:20], \"...\")"
   ]
  },
  {
   "cell_type": "markdown",
   "id": "96b6c1c8-e0c8-4790-a8f0-07bcd3d381fc",
   "metadata": {},
   "source": [
    "### Prepare dataset"
   ]
  },
  {
   "cell_type": "code",
   "execution_count": null,
   "id": "0eda80a3-5700-4a75-81a6-fbf0ccb2c72e",
   "metadata": {
    "tags": []
   },
   "outputs": [],
   "source": [
    "X_train_ready = text_vectorizationBng1(X_train)\n",
    "X_valid_ready = text_vectorization0(X_valid)\n",
    "X_test_ready = text_vectorizationBng1(X_test)"
   ]
  },
  {
   "cell_type": "code",
   "execution_count": null,
   "id": "2ce54c1b-2219-4d01-9a4c-fa3f1f3dd3cd",
   "metadata": {
    "tags": []
   },
   "outputs": [],
   "source": [
    "X_train[:2]"
   ]
  },
  {
   "cell_type": "code",
   "execution_count": null,
   "id": "37fd7cc4-c190-4a5a-b78b-dd6e63137cbd",
   "metadata": {
    "tags": []
   },
   "outputs": [],
   "source": [
    "X_train_ready[:2]"
   ]
  },
  {
   "cell_type": "markdown",
   "id": "0957ad28-d73c-4300-8bc9-de0b3b7cea43",
   "metadata": {},
   "source": [
    "### Embedding"
   ]
  },
  {
   "cell_type": "code",
   "execution_count": null,
   "id": "a705400e-02fb-43fb-81fa-4144e9d940ad",
   "metadata": {
    "tags": []
   },
   "outputs": [],
   "source": [
    "embeddings_index = load_trained_glove(\"glove.6B.100d\")"
   ]
  },
  {
   "cell_type": "code",
   "execution_count": null,
   "id": "5368efd0-67e5-400d-aafa-7182efeddfd7",
   "metadata": {
    "tags": []
   },
   "outputs": [],
   "source": [
    "embedding_dim = 100\n",
    "vocabulary = text_vectorizationBng1.get_vocabulary()\n",
    "embedding_matrix = convert_embedding_matrix(vocabulary, embeddings_index, max_tokens, embedding_dim)\n",
    "embedding_matrix"
   ]
  },
  {
   "cell_type": "code",
   "execution_count": null,
   "id": "a9ac74b1-74df-4f92-b6d7-124d1bb55e31",
   "metadata": {
    "tags": []
   },
   "outputs": [],
   "source": [
    "# Embedding avec masque\n",
    "embedding_layer = layers.Embedding(\n",
    "    input_dim=max_tokens,\n",
    "    output_dim=embedding_dim,\n",
    "    embeddings_initializer=keras.initializers.Constant(embedding_matrix),\n",
    "    # input_length=max_length,\n",
    "    mask_zero=True,\n",
    "    trainable=False, # <== default is True\n",
    ")"
   ]
  },
  {
   "cell_type": "markdown",
   "id": "62e20e6f-f22b-4e4c-9b1e-7b90f73b6af6",
   "metadata": {},
   "source": [
    "### Define model"
   ]
  },
  {
   "cell_type": "code",
   "execution_count": null,
   "id": "73753d73-1159-40e4-b03f-252511468836",
   "metadata": {
    "tags": []
   },
   "outputs": [],
   "source": [
    "model_name = \"EmbedB4\"\n",
    "model, archi_desc = architecture002(\"adam\", \"binary_crossentropy\", ['accuracy'], embedding_layer)\n",
    "archi_desc = \"GloVe 100d + MASK + NT + Unigrams| \" + archi_desc"
   ]
  },
  {
   "cell_type": "code",
   "execution_count": null,
   "id": "32ad9950-f9db-489b-b31c-5d44976f56e3",
   "metadata": {
    "tags": []
   },
   "outputs": [],
   "source": [
    "model.summary()"
   ]
  },
  {
   "cell_type": "markdown",
   "id": "4dcca381-9095-413c-8d08-43940920e335",
   "metadata": {},
   "source": [
    "#### Définissons un logger DagsHub pour enregistrer notre essai"
   ]
  },
  {
   "cell_type": "code",
   "execution_count": null,
   "id": "289a0d8b-2f17-4f34-aa23-2c8fa15ee1ab",
   "metadata": {},
   "outputs": [],
   "source": [
    "dagslogger = DAGsHubLogger()"
   ]
  },
  {
   "cell_type": "code",
   "execution_count": null,
   "id": "9229270c-1c8c-447a-92fe-50cfd4aa7cd4",
   "metadata": {},
   "outputs": [],
   "source": [
    "save_hyperparameters_to_dagshub(dagslogger, model_name, archi_desc, get_layers_for_dagshub(model), batch_size, data_work.shape[0])"
   ]
  },
  {
   "cell_type": "markdown",
   "id": "552b2870-f7ff-4727-91b3-e7ae89910d13",
   "metadata": {},
   "source": [
    "### Train model"
   ]
  },
  {
   "cell_type": "code",
   "execution_count": null,
   "id": "664e5696-9965-4ced-b5d1-2f6f7c53ec7d",
   "metadata": {
    "tags": []
   },
   "outputs": [],
   "source": [
    "t0 = time.perf_counter()\n",
    "history = model.fit(\n",
    "        x=X_train_ready, y=y_train, \n",
    "        validation_data=(X_test_ready, y_test), \n",
    "        epochs=50, \n",
    "        batch_size=batch_size, \n",
    "        callbacks=init_callbacks(f\"{model_name}\"),\n",
    "        verbose=1,\n",
    ")\n",
    "train_time = time.perf_counter() - t0"
   ]
  },
  {
   "cell_type": "markdown",
   "id": "6533e7a0-5a91-4831-abaf-e3e628dce72f",
   "metadata": {},
   "source": [
    "### Evaluate"
   ]
  },
  {
   "cell_type": "code",
   "execution_count": null,
   "id": "002d5683-8d20-4c0b-8f20-007548155834",
   "metadata": {
    "tags": []
   },
   "outputs": [],
   "source": [
    "model = keras.models.load_model(f\"models/{model_name}.keras\")"
   ]
  },
  {
   "cell_type": "code",
   "execution_count": null,
   "id": "b0a9874c-b1ee-4110-b1c7-1ecd2170c85d",
   "metadata": {
    "tags": []
   },
   "outputs": [],
   "source": [
    "model.evaluate(X_test_ready, y_test)"
   ]
  },
  {
   "cell_type": "code",
   "execution_count": null,
   "id": "47f326a4-585b-45af-8c61-745cee8a0e32",
   "metadata": {
    "tags": []
   },
   "outputs": [],
   "source": [
    "raw_txt = tf.convert_to_tensor([\"I hate it\", \"I love it\"])\n",
    "raw_txt = text_vectorizationBng1(raw_txt)\n",
    "model.predict(raw_txt)"
   ]
  },
  {
   "cell_type": "code",
   "execution_count": null,
   "id": "f435a378-bec1-4213-8e1b-df20118218a3",
   "metadata": {
    "colab": {
     "base_uri": "https://localhost:8080/",
     "height": 1000
    },
    "executionInfo": {
     "elapsed": 746,
     "status": "ok",
     "timestamp": 1653231856185,
     "user": {
      "displayName": "Valkea",
      "userId": "01476199649418572392"
     },
     "user_tz": -120
    },
    "id": "81aba764-7f22-4ad1-b0ed-bc5b13f0b75e",
    "outputId": "e3c4ed78-a90b-46e0-baa0-c28f701f4414",
    "tags": []
   },
   "outputs": [],
   "source": [
    "_ = get_scores(\n",
    "    model_name,\n",
    "    model=model,\n",
    "    X_ref=X_test_ready,\n",
    "    y_ref=y_test, \n",
    "    threshold=0.5,\n",
    "    # y_pred=y_preds, \n",
    "    # y_pred_proba=y_preds_proba, \n",
    "    training_time=train_time, \n",
    "    # inference_time=inf_time, \n",
    "    dagslogger=dagslogger,\n",
    "    register=True,\n",
    ")"
   ]
  },
  {
   "cell_type": "markdown",
   "id": "dc925fa8-5479-4074-bfdb-cc2261020230",
   "metadata": {},
   "source": [
    "#### Trouvons le meilleur seuil de séparation pour les prédiction (sur la base du F1 score)"
   ]
  },
  {
   "cell_type": "code",
   "execution_count": null,
   "id": "32e083f4-7413-42f6-8e95-7a2db38c66b6",
   "metadata": {},
   "outputs": [],
   "source": [
    "acc_value, best_threshold = find_best_threshold(model, X_valid_ready, y_valid, accuracy_score)\n",
    "print(f\"The best Accuracy score ({acc_value}) for this model is reached with a threshold of {best_threshold}\")"
   ]
  },
  {
   "cell_type": "code",
   "execution_count": null,
   "id": "8f4928cd-6e86-4184-8a26-7fb662f84edc",
   "metadata": {
    "colab": {
     "base_uri": "https://localhost:8080/",
     "height": 1000
    },
    "executionInfo": {
     "elapsed": 746,
     "status": "ok",
     "timestamp": 1653231856185,
     "user": {
      "displayName": "Valkea",
      "userId": "01476199649418572392"
     },
     "user_tz": -120
    },
    "id": "81aba764-7f22-4ad1-b0ed-bc5b13f0b75e",
    "outputId": "e3c4ed78-a90b-46e0-baa0-c28f701f4414",
    "tags": []
   },
   "outputs": [],
   "source": [
    "scores = get_scores(\n",
    "    f\"{model_name} [w. threshold]\",\n",
    "    model=model,\n",
    "    X_ref=X_test_ready,\n",
    "    y_ref=y_test, \n",
    "    threshold=best_threshold,\n",
    "    # y_pred=y_preds, \n",
    "    # y_pred_proba=y_preds_proba, \n",
    "    training_time=train_time, \n",
    "    # inference_time=inf_time, \n",
    "    dagslogger=dagslogger,\n",
    "    register=True,\n",
    "    show_roccurves=False,\n",
    ")"
   ]
  },
  {
   "cell_type": "markdown",
   "id": "2224c94d-13af-4df7-bb04-cb51f8180346",
   "metadata": {},
   "source": [
    "#### Enregistrons les scores pour DagsHub"
   ]
  },
  {
   "cell_type": "code",
   "execution_count": null,
   "id": "539539e4-9af7-46e8-af6a-24d162e92b7e",
   "metadata": {},
   "outputs": [],
   "source": [
    "save_metrics_to_dagshub(dagslogger, scores, best_threshold, history)\n",
    "dagslogger.save() \n",
    "dagslogger.close()"
   ]
  },
  {
   "cell_type": "markdown",
   "id": "e70f40fa-f049-48a7-be8e-a01b05e4da50",
   "metadata": {},
   "source": [
    "### Compare"
   ]
  },
  {
   "cell_type": "code",
   "execution_count": null,
   "id": "9e3d3cac-1095-4f15-bf36-37ca2b2da122",
   "metadata": {
    "tags": []
   },
   "outputs": [],
   "source": [
    "from classification_utils import scores_df\n",
    "scores_df"
   ]
  },
  {
   "cell_type": "markdown",
   "id": "2ff5116e-2af7-4532-8494-2055f71ac0e0",
   "metadata": {
    "tags": []
   },
   "source": [
    "---\n",
    "## 3.6 `EMB-B5` RNN | Ngram=1 | int | GloveTwitter 25d + MASK + NOT trainable <a class=\"anchor\" id=\"EMBEDDING_SEQ_B5\"></a> [⇪](#menu)"
   ]
  },
  {
   "cell_type": "markdown",
   "id": "7b24e495-18f5-415d-9eb4-919d6e104f05",
   "metadata": {},
   "source": [
    "### Standardize & Tokenize"
   ]
  },
  {
   "cell_type": "code",
   "execution_count": null,
   "id": "c7031810-f5b5-49b3-b6bb-4fab81dccb09",
   "metadata": {
    "tags": []
   },
   "outputs": [],
   "source": [
    "# Done before\n",
    "print(text_vectorizationBng1.get_vocabulary()[:20], \"...\")"
   ]
  },
  {
   "cell_type": "markdown",
   "id": "6101ce7d-746b-4188-8a43-0737b356e378",
   "metadata": {},
   "source": [
    "### Prepare dataset"
   ]
  },
  {
   "cell_type": "code",
   "execution_count": null,
   "id": "5be1e201-5499-421f-8e59-5ddfa5fdd533",
   "metadata": {
    "tags": []
   },
   "outputs": [],
   "source": [
    "X_train_ready = text_vectorizationBng1(X_train)\n",
    "X_valid_ready = text_vectorization0(X_valid)\n",
    "X_test_ready = text_vectorizationBng1(X_test)"
   ]
  },
  {
   "cell_type": "code",
   "execution_count": null,
   "id": "06e3f3a1-d998-48bc-9d38-d7076b17bae4",
   "metadata": {
    "tags": []
   },
   "outputs": [],
   "source": [
    "X_train[:2]"
   ]
  },
  {
   "cell_type": "code",
   "execution_count": null,
   "id": "6e80e240-61d4-4d7a-a415-ee4e1407839f",
   "metadata": {
    "tags": []
   },
   "outputs": [],
   "source": [
    "X_train_ready[:2]"
   ]
  },
  {
   "cell_type": "markdown",
   "id": "1c3da4ec-7728-436d-a70a-023d38241ed0",
   "metadata": {},
   "source": [
    "### Embedding"
   ]
  },
  {
   "cell_type": "code",
   "execution_count": null,
   "id": "e17cda19-49e5-4d50-bfcf-757e867ed21a",
   "metadata": {
    "tags": []
   },
   "outputs": [],
   "source": [
    "embeddings_index = load_gensim_embedding(\"glove-twitter-25\")"
   ]
  },
  {
   "cell_type": "code",
   "execution_count": null,
   "id": "449cef1d-958b-459a-9c3a-0cbe891c149f",
   "metadata": {
    "tags": []
   },
   "outputs": [],
   "source": [
    "embedding_dim = 25\n",
    "vocabulary = text_vectorizationBng1.get_vocabulary()\n",
    "embedding_matrix = convert_embedding_matrix(vocabulary, embeddings_index, max_tokens, embedding_dim)\n",
    "embedding_matrix"
   ]
  },
  {
   "cell_type": "code",
   "execution_count": null,
   "id": "1dda54a1-d7c7-4f15-8f1c-5c766b84f94c",
   "metadata": {
    "tags": []
   },
   "outputs": [],
   "source": [
    "# Embedding avec masque\n",
    "embedding_layer = layers.Embedding(\n",
    "    input_dim=max_tokens,\n",
    "    output_dim=embedding_dim,\n",
    "    embeddings_initializer=keras.initializers.Constant(embedding_matrix),\n",
    "    # input_length=max_length,\n",
    "    mask_zero=True,\n",
    "    trainable=False, # <== default is True\n",
    ")"
   ]
  },
  {
   "cell_type": "markdown",
   "id": "5093effb-9b07-4c5a-9d2e-63cc985e8292",
   "metadata": {},
   "source": [
    "### Define model"
   ]
  },
  {
   "cell_type": "code",
   "execution_count": null,
   "id": "03869794-1a5c-469e-b3b3-7e20be2ba0a2",
   "metadata": {
    "tags": []
   },
   "outputs": [],
   "source": [
    "model_name = \"EmbedB5\"\n",
    "model, archi_desc = architecture002(\"adam\", \"binary_crossentropy\", ['accuracy'], embedding_layer)\n",
    "archi_desc = \"GloVeTwitter 25d + MASK + NT + Unigrams| \" + archi_desc"
   ]
  },
  {
   "cell_type": "code",
   "execution_count": null,
   "id": "0d9e2d20-9ddd-4edb-9e0a-2facb41d5f03",
   "metadata": {
    "tags": []
   },
   "outputs": [],
   "source": [
    "model.summary()"
   ]
  },
  {
   "cell_type": "markdown",
   "id": "6d2d657b-2d30-4f69-b0e5-2a92293e62e0",
   "metadata": {},
   "source": [
    "#### Définissons un logger DagsHub pour enregistrer notre essai"
   ]
  },
  {
   "cell_type": "code",
   "execution_count": null,
   "id": "bf92810a-3677-4ede-853e-e1018a0543ba",
   "metadata": {},
   "outputs": [],
   "source": [
    "dagslogger = DAGsHubLogger()"
   ]
  },
  {
   "cell_type": "code",
   "execution_count": null,
   "id": "2004bdd9-d0e3-44de-909a-58b4f54b8fb5",
   "metadata": {},
   "outputs": [],
   "source": [
    "save_hyperparameters_to_dagshub(dagslogger, model_name, archi_desc, get_layers_for_dagshub(model), batch_size, data_work.shape[0])"
   ]
  },
  {
   "cell_type": "markdown",
   "id": "1f815754-de45-4ba9-a41e-7404a9cfb336",
   "metadata": {},
   "source": [
    "### Train model"
   ]
  },
  {
   "cell_type": "code",
   "execution_count": null,
   "id": "b1adc572-124c-4b3c-9948-1aa494ff3e04",
   "metadata": {
    "tags": []
   },
   "outputs": [],
   "source": [
    "t0 = time.perf_counter()\n",
    "history = model.fit(\n",
    "        x=X_train_ready, y=y_train, \n",
    "        validation_data=(X_test_ready, y_test), \n",
    "        epochs=50, \n",
    "        batch_size=batch_size, \n",
    "        callbacks=init_callbacks(f\"{model_name}\"),\n",
    "        verbose=1,\n",
    ")\n",
    "train_time = time.perf_counter() - t0"
   ]
  },
  {
   "cell_type": "markdown",
   "id": "72741228-86f8-475d-9813-bde4ade9165b",
   "metadata": {},
   "source": [
    "### Evaluate"
   ]
  },
  {
   "cell_type": "code",
   "execution_count": null,
   "id": "1215c049-d25f-454b-b585-d4a567d766e3",
   "metadata": {
    "tags": []
   },
   "outputs": [],
   "source": [
    "model = keras.models.load_model(f\"models/{model_name}.keras\")"
   ]
  },
  {
   "cell_type": "code",
   "execution_count": null,
   "id": "0d3bca32-1283-4e73-b1ca-c28730b9e0b7",
   "metadata": {
    "tags": []
   },
   "outputs": [],
   "source": [
    "model.evaluate(X_test_ready, y_test)"
   ]
  },
  {
   "cell_type": "code",
   "execution_count": null,
   "id": "89de3a28-3823-4927-b08f-34e04f49f41b",
   "metadata": {
    "tags": []
   },
   "outputs": [],
   "source": [
    "raw_txt = tf.convert_to_tensor([\"I hate it\", \"I love it\"])\n",
    "raw_txt = text_vectorizationBng1(raw_txt)\n",
    "model.predict(raw_txt)"
   ]
  },
  {
   "cell_type": "code",
   "execution_count": null,
   "id": "9cdf574c-91ed-4771-a507-234160c382ab",
   "metadata": {
    "colab": {
     "base_uri": "https://localhost:8080/",
     "height": 1000
    },
    "executionInfo": {
     "elapsed": 746,
     "status": "ok",
     "timestamp": 1653231856185,
     "user": {
      "displayName": "Valkea",
      "userId": "01476199649418572392"
     },
     "user_tz": -120
    },
    "id": "81aba764-7f22-4ad1-b0ed-bc5b13f0b75e",
    "outputId": "e3c4ed78-a90b-46e0-baa0-c28f701f4414",
    "tags": []
   },
   "outputs": [],
   "source": [
    "_ = get_scores(\n",
    "    model_name,\n",
    "    model=model,\n",
    "    X_ref=X_test_ready,\n",
    "    y_ref=y_test, \n",
    "    threshold=0.5,\n",
    "    # y_pred=y_preds, \n",
    "    # y_pred_proba=y_preds_proba, \n",
    "    training_time=train_time, \n",
    "    # inference_time=inf_time, \n",
    "    dagslogger=dagslogger,\n",
    "    register=True,\n",
    ")"
   ]
  },
  {
   "cell_type": "markdown",
   "id": "02639b7b-ca75-4611-962d-9bacf842e71d",
   "metadata": {},
   "source": [
    "#### Trouvons le meilleur seuil de séparation pour les prédiction (sur la base du F1 score)"
   ]
  },
  {
   "cell_type": "code",
   "execution_count": null,
   "id": "4d763928-c81e-4473-9683-476c3fd6bd9b",
   "metadata": {},
   "outputs": [],
   "source": [
    "acc_value, best_threshold = find_best_threshold(model, X_valid_ready, y_valid, accuracy_score)\n",
    "print(f\"The best Accuracy score ({acc_value}) for this model is reached with a threshold of {best_threshold}\")"
   ]
  },
  {
   "cell_type": "code",
   "execution_count": null,
   "id": "2f72bf36-b677-4024-8812-363344fd3e88",
   "metadata": {
    "colab": {
     "base_uri": "https://localhost:8080/",
     "height": 1000
    },
    "executionInfo": {
     "elapsed": 746,
     "status": "ok",
     "timestamp": 1653231856185,
     "user": {
      "displayName": "Valkea",
      "userId": "01476199649418572392"
     },
     "user_tz": -120
    },
    "id": "81aba764-7f22-4ad1-b0ed-bc5b13f0b75e",
    "outputId": "e3c4ed78-a90b-46e0-baa0-c28f701f4414",
    "tags": []
   },
   "outputs": [],
   "source": [
    "scores = get_scores(\n",
    "    f\"{model_name} [w. threshold]\",\n",
    "    model=model,\n",
    "    X_ref=X_test_ready,\n",
    "    y_ref=y_test, \n",
    "    threshold=best_threshold,\n",
    "    # y_pred=y_preds, \n",
    "    # y_pred_proba=y_preds_proba, \n",
    "    training_time=train_time, \n",
    "    # inference_time=inf_time, \n",
    "    dagslogger=dagslogger,\n",
    "    register=True,\n",
    "    show_roccurves=False,\n",
    ")"
   ]
  },
  {
   "cell_type": "markdown",
   "id": "edd42b79-fc42-4756-b03e-dbf529c31365",
   "metadata": {},
   "source": [
    "#### Enregistrons les scores pour DagsHub"
   ]
  },
  {
   "cell_type": "code",
   "execution_count": null,
   "id": "0c739efc-e5f2-44b5-bc26-2917293e53b8",
   "metadata": {},
   "outputs": [],
   "source": [
    "save_metrics_to_dagshub(dagslogger, scores, best_threshold, history)\n",
    "dagslogger.save() \n",
    "dagslogger.close()"
   ]
  },
  {
   "cell_type": "markdown",
   "id": "9ea49c75-f613-4335-8106-542793ae6ed0",
   "metadata": {},
   "source": [
    "### Compare"
   ]
  },
  {
   "cell_type": "code",
   "execution_count": null,
   "id": "f49349ec-31e9-4b53-8660-7fe0e155630c",
   "metadata": {
    "tags": []
   },
   "outputs": [],
   "source": [
    "from classification_utils import scores_df\n",
    "scores_df"
   ]
  },
  {
   "cell_type": "markdown",
   "id": "6873925b-d7ae-4db6-a3f1-4add9a8a40dc",
   "metadata": {
    "tags": []
   },
   "source": [
    "---\n",
    "## 3.7 `EMB-B6` RNN | Ngram=1 | int | GloveTwitter 100d + MASK + NOT trainable <a class=\"anchor\" id=\"EMBEDDING_SEQ_B6\"></a> [⇪](#menu)"
   ]
  },
  {
   "cell_type": "markdown",
   "id": "9a276611-866e-4255-9761-52df70e7a69a",
   "metadata": {},
   "source": [
    "### Standardize & Tokenize"
   ]
  },
  {
   "cell_type": "code",
   "execution_count": null,
   "id": "a72cb28b-2745-4cff-ad1c-058a6fbc50ed",
   "metadata": {
    "tags": []
   },
   "outputs": [],
   "source": [
    "# Done before\n",
    "print(text_vectorizationBng1.get_vocabulary()[:20], \"...\")"
   ]
  },
  {
   "cell_type": "markdown",
   "id": "13c681a7-8efd-4f74-9f95-6c296df15f90",
   "metadata": {},
   "source": [
    "### Prepare dataset"
   ]
  },
  {
   "cell_type": "code",
   "execution_count": null,
   "id": "372e9916-dde8-4863-bfcf-5ec062311d26",
   "metadata": {
    "tags": []
   },
   "outputs": [],
   "source": [
    "X_train_ready = text_vectorizationBng1(X_train)\n",
    "X_valid_ready = text_vectorization0(X_valid)\n",
    "X_test_ready = text_vectorizationBng1(X_test)"
   ]
  },
  {
   "cell_type": "code",
   "execution_count": null,
   "id": "1fc70583-2a63-4927-b4ff-3c738416d53c",
   "metadata": {
    "tags": []
   },
   "outputs": [],
   "source": [
    "X_train[:2]"
   ]
  },
  {
   "cell_type": "code",
   "execution_count": null,
   "id": "e7f9ba4b-f8b9-4443-b4e1-e84342074eae",
   "metadata": {
    "tags": []
   },
   "outputs": [],
   "source": [
    "X_train_ready[:2]"
   ]
  },
  {
   "cell_type": "markdown",
   "id": "b177359d-be74-4f0d-8fbd-f06a7c2c543a",
   "metadata": {},
   "source": [
    "### Embedding"
   ]
  },
  {
   "cell_type": "code",
   "execution_count": null,
   "id": "bfd9daf8-490b-4628-8573-5cca68db1c7d",
   "metadata": {
    "tags": []
   },
   "outputs": [],
   "source": [
    "embeddings_index = load_gensim_embedding(\"glove-twitter-100\")"
   ]
  },
  {
   "cell_type": "code",
   "execution_count": null,
   "id": "2984d1ed-1f35-4a6c-98fc-3c0c399eae83",
   "metadata": {
    "tags": []
   },
   "outputs": [],
   "source": [
    "embedding_dim = 100\n",
    "vocabulary = text_vectorizationBng1.get_vocabulary()\n",
    "embedding_matrix = convert_embedding_matrix(vocabulary, embeddings_index, max_tokens, embedding_dim)\n",
    "embedding_matrix"
   ]
  },
  {
   "cell_type": "code",
   "execution_count": null,
   "id": "932e93d3-c185-41cb-ab62-7db896fddfc4",
   "metadata": {
    "tags": []
   },
   "outputs": [],
   "source": [
    "# Embedding avec masque\n",
    "embedding_layer = layers.Embedding(\n",
    "    input_dim=max_tokens,\n",
    "    output_dim=embedding_dim,\n",
    "    embeddings_initializer=keras.initializers.Constant(embedding_matrix),\n",
    "    # input_length=max_length,\n",
    "    mask_zero=True,\n",
    "    trainable=False, # <== default is True\n",
    ")"
   ]
  },
  {
   "cell_type": "markdown",
   "id": "bfb4c3b0-d237-4ca2-99f6-a9a768a59234",
   "metadata": {},
   "source": [
    "### Define model"
   ]
  },
  {
   "cell_type": "code",
   "execution_count": null,
   "id": "60aacd12-63af-4daa-be6e-f33e91eabf9c",
   "metadata": {
    "tags": []
   },
   "outputs": [],
   "source": [
    "model_name = \"EmbedB6\"\n",
    "model, archi_desc = architecture002(\"adam\", \"binary_crossentropy\", ['accuracy'], embedding_layer)\n",
    "archi_desc = \"GloVeTwitter 100d + MASK + NT + Unigrams| \" + archi_desc"
   ]
  },
  {
   "cell_type": "code",
   "execution_count": null,
   "id": "20090425-8c88-44a4-9386-eb36af4eb2f5",
   "metadata": {
    "tags": []
   },
   "outputs": [],
   "source": [
    "model.summary()"
   ]
  },
  {
   "cell_type": "markdown",
   "id": "dde014b2-70c7-4939-9ace-ca89d310cd64",
   "metadata": {},
   "source": [
    "#### Définissons un logger DagsHub pour enregistrer notre essai"
   ]
  },
  {
   "cell_type": "code",
   "execution_count": null,
   "id": "22939de8-bac6-41ab-be1c-541137e83cbc",
   "metadata": {},
   "outputs": [],
   "source": [
    "dagslogger = DAGsHubLogger()"
   ]
  },
  {
   "cell_type": "code",
   "execution_count": null,
   "id": "16644d86-6e4a-40ba-aa48-5ff9f67fc3d8",
   "metadata": {},
   "outputs": [],
   "source": [
    "save_hyperparameters_to_dagshub(dagslogger, model_name, archi_desc, get_layers_for_dagshub(model), batch_size, data_work.shape[0])"
   ]
  },
  {
   "cell_type": "markdown",
   "id": "c3cc0e3e-c29b-4c8d-9cc6-2b5fbe356848",
   "metadata": {},
   "source": [
    "### Train model"
   ]
  },
  {
   "cell_type": "code",
   "execution_count": null,
   "id": "9dd40f62-5d32-43b0-b406-4f035d50ac11",
   "metadata": {
    "tags": []
   },
   "outputs": [],
   "source": [
    "t0 = time.perf_counter()\n",
    "history = model.fit(\n",
    "        x=X_train_ready, y=y_train, \n",
    "        validation_data=(X_test_ready, y_test), \n",
    "        epochs=50, \n",
    "        batch_size=batch_size, \n",
    "        callbacks=init_callbacks(f\"{model_name}\"),\n",
    "        verbose=1,\n",
    ")\n",
    "train_time = time.perf_counter() - t0"
   ]
  },
  {
   "cell_type": "markdown",
   "id": "29184cf6-1419-43e4-be3f-5affbf81c451",
   "metadata": {},
   "source": [
    "### Evaluate"
   ]
  },
  {
   "cell_type": "code",
   "execution_count": null,
   "id": "e1537091-d468-4697-9a95-c27151fb9976",
   "metadata": {
    "tags": []
   },
   "outputs": [],
   "source": [
    "model = keras.models.load_model(f\"models/{model_name}.keras\")"
   ]
  },
  {
   "cell_type": "code",
   "execution_count": null,
   "id": "6ef24a48-7bad-4f6e-922e-ba41f8cf334f",
   "metadata": {
    "tags": []
   },
   "outputs": [],
   "source": [
    "model.evaluate(X_test_ready, y_test)"
   ]
  },
  {
   "cell_type": "code",
   "execution_count": null,
   "id": "1fedc064-3256-47c8-a1dc-fff440f3c38d",
   "metadata": {
    "tags": []
   },
   "outputs": [],
   "source": [
    "raw_txt = tf.convert_to_tensor([\"I hate it\", \"I love it\"])\n",
    "raw_txt = text_vectorizationBng1(raw_txt)\n",
    "model.predict(raw_txt)"
   ]
  },
  {
   "cell_type": "code",
   "execution_count": null,
   "id": "3448b69c-41f9-459b-82e3-6674c8671edf",
   "metadata": {
    "colab": {
     "base_uri": "https://localhost:8080/",
     "height": 1000
    },
    "executionInfo": {
     "elapsed": 746,
     "status": "ok",
     "timestamp": 1653231856185,
     "user": {
      "displayName": "Valkea",
      "userId": "01476199649418572392"
     },
     "user_tz": -120
    },
    "id": "81aba764-7f22-4ad1-b0ed-bc5b13f0b75e",
    "outputId": "e3c4ed78-a90b-46e0-baa0-c28f701f4414",
    "tags": []
   },
   "outputs": [],
   "source": [
    "_ = get_scores(\n",
    "    model_name,\n",
    "    model=model,\n",
    "    X_ref=X_test_ready,\n",
    "    y_ref=y_test, \n",
    "    threshold=0.5,\n",
    "    # y_pred=y_preds, \n",
    "    # y_pred_proba=y_preds_proba, \n",
    "    training_time=train_time, \n",
    "    # inference_time=inf_time, \n",
    "    dagslogger=dagslogger,\n",
    "    register=True,\n",
    ")"
   ]
  },
  {
   "cell_type": "markdown",
   "id": "16c96777-3b80-47bd-a3c9-995e6ebf82cc",
   "metadata": {},
   "source": [
    "#### Trouvons le meilleur seuil de séparation pour les prédiction (sur la base du F1 score)"
   ]
  },
  {
   "cell_type": "code",
   "execution_count": null,
   "id": "13aef16c-293b-4de4-bae5-3fe51de87de7",
   "metadata": {},
   "outputs": [],
   "source": [
    "acc_value, best_threshold = find_best_threshold(model, X_valid_ready, y_valid, accuracy_score)\n",
    "print(f\"The best Accuracy score ({acc_value}) for this model is reached with a threshold of {best_threshold}\")"
   ]
  },
  {
   "cell_type": "code",
   "execution_count": null,
   "id": "a0b442e1-743b-4884-acf9-264566feaba9",
   "metadata": {
    "colab": {
     "base_uri": "https://localhost:8080/",
     "height": 1000
    },
    "executionInfo": {
     "elapsed": 746,
     "status": "ok",
     "timestamp": 1653231856185,
     "user": {
      "displayName": "Valkea",
      "userId": "01476199649418572392"
     },
     "user_tz": -120
    },
    "id": "81aba764-7f22-4ad1-b0ed-bc5b13f0b75e",
    "outputId": "e3c4ed78-a90b-46e0-baa0-c28f701f4414",
    "tags": []
   },
   "outputs": [],
   "source": [
    "scores = get_scores(\n",
    "    f\"{model_name} [w. threshold]\",\n",
    "    model=model,\n",
    "    X_ref=X_test_ready,\n",
    "    y_ref=y_test, \n",
    "    threshold=best_threshold,\n",
    "    # y_pred=y_preds, \n",
    "    # y_pred_proba=y_preds_proba, \n",
    "    training_time=train_time, \n",
    "    # inference_time=inf_time, \n",
    "    dagslogger=dagslogger,\n",
    "    register=True,\n",
    "    show_roccurves=False,\n",
    ")"
   ]
  },
  {
   "cell_type": "markdown",
   "id": "e4976366-b7b9-4728-85d0-843ade5c2e8d",
   "metadata": {},
   "source": [
    "#### Enregistrons les scores pour DagsHub"
   ]
  },
  {
   "cell_type": "code",
   "execution_count": null,
   "id": "b3d625bd-5fb7-45b4-a8f7-4d37db30fe0c",
   "metadata": {},
   "outputs": [],
   "source": [
    "save_metrics_to_dagshub(dagslogger, scores, best_threshold, history)\n",
    "dagslogger.save() \n",
    "dagslogger.close()"
   ]
  },
  {
   "cell_type": "markdown",
   "id": "d1fbb6b1-e8f4-46ac-9071-255dca8f44c9",
   "metadata": {},
   "source": [
    "### Compare"
   ]
  },
  {
   "cell_type": "code",
   "execution_count": null,
   "id": "052085f2-ccdb-4237-a968-d39846107b5e",
   "metadata": {
    "tags": []
   },
   "outputs": [],
   "source": [
    "from classification_utils import scores_df\n",
    "scores_df"
   ]
  },
  {
   "cell_type": "markdown",
   "id": "92e9aec8-7779-4e96-93c9-11125016af8f",
   "metadata": {
    "tags": []
   },
   "source": [
    "---\n",
    "## 3.8 `EMB-B7` RNN | Ngram=1 | int | GloveTwitter 200d + MASK + NOT trainable <a class=\"anchor\" id=\"EMBEDDING_SEQ_B7\"></a> [⇪](#menu)"
   ]
  },
  {
   "cell_type": "markdown",
   "id": "6160768d-6285-47a6-8165-891debc34f27",
   "metadata": {},
   "source": [
    "### Standardize & Tokenize"
   ]
  },
  {
   "cell_type": "code",
   "execution_count": null,
   "id": "f742550c-5b66-4126-968f-ce5372c0440b",
   "metadata": {
    "tags": []
   },
   "outputs": [],
   "source": [
    "# Done before\n",
    "print(text_vectorizationBng1.get_vocabulary()[:20], \"...\")"
   ]
  },
  {
   "cell_type": "markdown",
   "id": "fbb4fc42-72e1-4ab6-8d54-da70872fcb37",
   "metadata": {},
   "source": [
    "### Prepare dataset"
   ]
  },
  {
   "cell_type": "code",
   "execution_count": null,
   "id": "3cb8b87e-0554-4394-b59c-12258250dd6a",
   "metadata": {
    "tags": []
   },
   "outputs": [],
   "source": [
    "X_train_ready = text_vectorizationBng1(X_train)\n",
    "X_valid_ready = text_vectorization0(X_valid)\n",
    "X_test_ready = text_vectorizationBng1(X_test)"
   ]
  },
  {
   "cell_type": "code",
   "execution_count": null,
   "id": "b34fb72a-016e-4794-a929-9810835d4922",
   "metadata": {
    "tags": []
   },
   "outputs": [],
   "source": [
    "X_train[:2]"
   ]
  },
  {
   "cell_type": "code",
   "execution_count": null,
   "id": "3a754c98-344a-4c0e-bb74-b696921d2c99",
   "metadata": {
    "tags": []
   },
   "outputs": [],
   "source": [
    "X_train_ready[:2]"
   ]
  },
  {
   "cell_type": "markdown",
   "id": "289f9996-4470-4588-a365-37c560060020",
   "metadata": {},
   "source": [
    "### Embedding"
   ]
  },
  {
   "cell_type": "code",
   "execution_count": null,
   "id": "924052e3-e129-4d07-a009-657fe0402c22",
   "metadata": {
    "tags": []
   },
   "outputs": [],
   "source": [
    "embeddings_index = load_gensim_embedding(\"glove-twitter-200\")"
   ]
  },
  {
   "cell_type": "code",
   "execution_count": null,
   "id": "4239ccd0-97af-4683-8924-e697121deeb9",
   "metadata": {
    "tags": []
   },
   "outputs": [],
   "source": [
    "embedding_dim = 200\n",
    "vocabulary = text_vectorizationBng1.get_vocabulary()\n",
    "embedding_matrix = convert_embedding_matrix(vocabulary, embeddings_index, max_tokens, embedding_dim)\n",
    "embedding_matrix"
   ]
  },
  {
   "cell_type": "code",
   "execution_count": null,
   "id": "2612e7a5-7bea-4d7b-97b0-612228447945",
   "metadata": {
    "tags": []
   },
   "outputs": [],
   "source": [
    "# Embedding avec masque\n",
    "embedding_layer = layers.Embedding(\n",
    "    input_dim=max_tokens,\n",
    "    output_dim=embedding_dim,\n",
    "    embeddings_initializer=keras.initializers.Constant(embedding_matrix),\n",
    "    # input_length=max_length,\n",
    "    mask_zero=True,\n",
    "    trainable=False, # <== default is True\n",
    ")"
   ]
  },
  {
   "cell_type": "markdown",
   "id": "b555fce1-254c-48e5-9deb-166c33a004b9",
   "metadata": {},
   "source": [
    "### Define model"
   ]
  },
  {
   "cell_type": "code",
   "execution_count": null,
   "id": "3dc18401-9684-4221-9352-ab79885d117f",
   "metadata": {
    "tags": []
   },
   "outputs": [],
   "source": [
    "model_name = \"EmbedB7\"\n",
    "model, archi_desc = architecture002(\"adam\", \"binary_crossentropy\", ['accuracy'], embedding_layer)\n",
    "archi_desc = \"GloVeTwitter 200d + MASK + NT + Unigrams| \" + archi_desc"
   ]
  },
  {
   "cell_type": "code",
   "execution_count": null,
   "id": "66b092ed-b424-4bc5-a21f-47f6dc4d792c",
   "metadata": {
    "tags": []
   },
   "outputs": [],
   "source": [
    "model.summary()"
   ]
  },
  {
   "cell_type": "markdown",
   "id": "fc232bda-e279-44e5-980f-7ed679def07b",
   "metadata": {},
   "source": [
    "#### Définissons un logger DagsHub pour enregistrer notre essai"
   ]
  },
  {
   "cell_type": "code",
   "execution_count": null,
   "id": "8d19c2ba-6911-4cf5-bcbb-d728127df0d5",
   "metadata": {},
   "outputs": [],
   "source": [
    "dagslogger = DAGsHubLogger()"
   ]
  },
  {
   "cell_type": "code",
   "execution_count": null,
   "id": "ef6cc098-3203-408f-9388-c5d9580023e1",
   "metadata": {},
   "outputs": [],
   "source": [
    "save_hyperparameters_to_dagshub(dagslogger, model_name, archi_desc, get_layers_for_dagshub(model), batch_size, data_work.shape[0])"
   ]
  },
  {
   "cell_type": "markdown",
   "id": "b137263f-5267-44f8-ad97-1e70415de52a",
   "metadata": {},
   "source": [
    "### Train model"
   ]
  },
  {
   "cell_type": "code",
   "execution_count": null,
   "id": "ad582862-456e-4164-8d16-6afe86afd84d",
   "metadata": {
    "tags": []
   },
   "outputs": [],
   "source": [
    "t0 = time.perf_counter()\n",
    "history = model.fit(\n",
    "        x=X_train_ready, y=y_train, \n",
    "        validation_data=(X_test_ready, y_test), \n",
    "        epochs=50, \n",
    "        batch_size=batch_size, \n",
    "        callbacks=init_callbacks(f\"{model_name}\"),\n",
    "        verbose=1,\n",
    ")\n",
    "train_time = time.perf_counter() - t0"
   ]
  },
  {
   "cell_type": "markdown",
   "id": "f615f4d7-dbd3-4372-b56c-98294cc47cb6",
   "metadata": {},
   "source": [
    "### Evaluate"
   ]
  },
  {
   "cell_type": "code",
   "execution_count": null,
   "id": "f548ec7f-ceac-4194-a006-242191e491fa",
   "metadata": {
    "tags": []
   },
   "outputs": [],
   "source": [
    "model = keras.models.load_model(f\"models/{model_name}.keras\")"
   ]
  },
  {
   "cell_type": "code",
   "execution_count": null,
   "id": "c6324b45-8d1c-4ad5-94a0-887f17fa68b3",
   "metadata": {
    "tags": []
   },
   "outputs": [],
   "source": [
    "model.evaluate(X_test_ready, y_test)"
   ]
  },
  {
   "cell_type": "code",
   "execution_count": null,
   "id": "d9f72260-378a-4ce2-ad74-69e678e93e51",
   "metadata": {
    "tags": []
   },
   "outputs": [],
   "source": [
    "raw_txt = tf.convert_to_tensor([\"I hate it\", \"I love it\"])\n",
    "raw_txt = text_vectorizationBng1(raw_txt)\n",
    "model.predict(raw_txt)"
   ]
  },
  {
   "cell_type": "code",
   "execution_count": null,
   "id": "dfd6d6f3-be86-4c3d-8d17-ff977ab9c059",
   "metadata": {
    "colab": {
     "base_uri": "https://localhost:8080/",
     "height": 1000
    },
    "executionInfo": {
     "elapsed": 746,
     "status": "ok",
     "timestamp": 1653231856185,
     "user": {
      "displayName": "Valkea",
      "userId": "01476199649418572392"
     },
     "user_tz": -120
    },
    "id": "81aba764-7f22-4ad1-b0ed-bc5b13f0b75e",
    "outputId": "e3c4ed78-a90b-46e0-baa0-c28f701f4414",
    "tags": []
   },
   "outputs": [],
   "source": [
    "_ = get_scores(\n",
    "    model_name,\n",
    "    model=model,\n",
    "    X_ref=X_test_ready,\n",
    "    y_ref=y_test, \n",
    "    threshold=0.5,\n",
    "    # y_pred=y_preds, \n",
    "    # y_pred_proba=y_preds_proba, \n",
    "    training_time=train_time, \n",
    "    # inference_time=inf_time, \n",
    "    dagslogger=dagslogger,\n",
    "    register=True,\n",
    ")"
   ]
  },
  {
   "cell_type": "markdown",
   "id": "0f453ebd-663f-49be-8604-3e40e739feb5",
   "metadata": {},
   "source": [
    "#### Trouvons le meilleur seuil de séparation pour les prédiction (sur la base du F1 score)"
   ]
  },
  {
   "cell_type": "code",
   "execution_count": null,
   "id": "fce227c1-eb17-4f5a-b1ea-7657d3dd5f64",
   "metadata": {},
   "outputs": [],
   "source": [
    "acc_value, best_threshold = find_best_threshold(model, X_valid_ready, y_valid, accuracy_score)\n",
    "print(f\"The best Accuracy score ({acc_value}) for this model is reached with a threshold of {best_threshold}\")"
   ]
  },
  {
   "cell_type": "code",
   "execution_count": null,
   "id": "209bc1a6-355f-48ad-ac01-f73ea4ecad60",
   "metadata": {
    "colab": {
     "base_uri": "https://localhost:8080/",
     "height": 1000
    },
    "executionInfo": {
     "elapsed": 746,
     "status": "ok",
     "timestamp": 1653231856185,
     "user": {
      "displayName": "Valkea",
      "userId": "01476199649418572392"
     },
     "user_tz": -120
    },
    "id": "81aba764-7f22-4ad1-b0ed-bc5b13f0b75e",
    "outputId": "e3c4ed78-a90b-46e0-baa0-c28f701f4414",
    "tags": []
   },
   "outputs": [],
   "source": [
    "scores = get_scores(\n",
    "    f\"{model_name} [w. threshold]\",\n",
    "    model=model,\n",
    "    X_ref=X_test_ready,\n",
    "    y_ref=y_test, \n",
    "    threshold=best_threshold,\n",
    "    # y_pred=y_preds, \n",
    "    # y_pred_proba=y_preds_proba, \n",
    "    training_time=train_time, \n",
    "    # inference_time=inf_time, \n",
    "    dagslogger=dagslogger,\n",
    "    register=True,\n",
    "    show_roccurves=False,\n",
    ")"
   ]
  },
  {
   "cell_type": "markdown",
   "id": "0c9cfb1b-7765-426f-8e80-ae8b14f3276f",
   "metadata": {},
   "source": [
    "#### Enregistrons les scores pour DagsHub"
   ]
  },
  {
   "cell_type": "code",
   "execution_count": null,
   "id": "d6014fce-f62e-4f11-a7a2-fc1d7cac884f",
   "metadata": {},
   "outputs": [],
   "source": [
    "save_metrics_to_dagshub(dagslogger, scores, best_threshold, history)\n",
    "dagslogger.save() \n",
    "dagslogger.close()"
   ]
  },
  {
   "cell_type": "markdown",
   "id": "a9ab7d87-eb2a-41b3-bfa2-88e245ca895b",
   "metadata": {},
   "source": [
    "### Compare"
   ]
  },
  {
   "cell_type": "code",
   "execution_count": null,
   "id": "0e02cb27-8434-44c0-a0d7-544d64dd22c7",
   "metadata": {
    "tags": []
   },
   "outputs": [],
   "source": [
    "from classification_utils import scores_df\n",
    "scores_df"
   ]
  },
  {
   "cell_type": "markdown",
   "id": "5684658f-f93e-495b-9d87-cf3848cb5100",
   "metadata": {
    "tags": []
   },
   "source": [
    "---\n",
    "## 3.9 `EMB-B8` RNN | Ngram=1 | int | FastText300 + MASK + NOT trainable <a class=\"anchor\" id=\"EMBEDDING_SEQ_B8\"></a> [⇪](#menu)"
   ]
  },
  {
   "cell_type": "markdown",
   "id": "62ab48d9-46ec-46de-85c1-46c84f2c8011",
   "metadata": {},
   "source": [
    "### Standardize & Tokenize"
   ]
  },
  {
   "cell_type": "code",
   "execution_count": null,
   "id": "7410d6ac-8ed8-495c-9753-5fd4b8267cc8",
   "metadata": {
    "tags": []
   },
   "outputs": [],
   "source": [
    "# Done before\n",
    "print(text_vectorizationBng1.get_vocabulary()[:20], \"...\")"
   ]
  },
  {
   "cell_type": "markdown",
   "id": "4abc187e-c873-4899-838a-1677cdeed3da",
   "metadata": {},
   "source": [
    "### Prepare dataset"
   ]
  },
  {
   "cell_type": "code",
   "execution_count": null,
   "id": "c24f6fdd-32f3-4bd7-8b0d-03df5d537d8f",
   "metadata": {
    "tags": []
   },
   "outputs": [],
   "source": [
    "X_train_ready = text_vectorizationBng1(X_train)\n",
    "X_valid_ready = text_vectorization0(X_valid)\n",
    "X_test_ready = text_vectorizationBng1(X_test)"
   ]
  },
  {
   "cell_type": "code",
   "execution_count": null,
   "id": "7e5cc634-2e0e-4c9f-9820-74bc5316a404",
   "metadata": {
    "tags": []
   },
   "outputs": [],
   "source": [
    "X_train[:2]"
   ]
  },
  {
   "cell_type": "code",
   "execution_count": null,
   "id": "064c75bd-a80a-4d26-b3c0-2a850b8d8051",
   "metadata": {
    "tags": []
   },
   "outputs": [],
   "source": [
    "X_train_ready[:2]"
   ]
  },
  {
   "cell_type": "markdown",
   "id": "532b4fa1-b3a2-40fb-a884-bc62c82c3eb8",
   "metadata": {},
   "source": [
    "### Embedding"
   ]
  },
  {
   "cell_type": "code",
   "execution_count": null,
   "id": "709dc8bf-68f1-4e06-8bee-71dabe895fa1",
   "metadata": {
    "tags": []
   },
   "outputs": [],
   "source": [
    "embeddings_index = load_gensim_embedding(\"fasttext-wiki-news-subwords-300\")"
   ]
  },
  {
   "cell_type": "code",
   "execution_count": null,
   "id": "94a19400-c6f5-4fad-8062-5bc0348a930f",
   "metadata": {
    "tags": []
   },
   "outputs": [],
   "source": [
    "embedding_dim = 300\n",
    "vocabulary = text_vectorizationBng1.get_vocabulary()\n",
    "embedding_matrix = convert_embedding_matrix(vocabulary, embeddings_index, max_tokens, embedding_dim)\n",
    "embedding_matrix"
   ]
  },
  {
   "cell_type": "code",
   "execution_count": null,
   "id": "d141d0ae-8cad-4fc3-b754-d5e7813d9c59",
   "metadata": {
    "tags": []
   },
   "outputs": [],
   "source": [
    "# Embedding avec masque\n",
    "embedding_layer = layers.Embedding(\n",
    "    input_dim=max_tokens,\n",
    "    output_dim=embedding_dim,\n",
    "    embeddings_initializer=keras.initializers.Constant(embedding_matrix),\n",
    "    # input_length=max_length,\n",
    "    mask_zero=True,\n",
    "    trainable=False, # <== default is True\n",
    ")"
   ]
  },
  {
   "cell_type": "markdown",
   "id": "5b47e96c-f122-4a27-9650-1be5abd4eeb3",
   "metadata": {},
   "source": [
    "### Define model"
   ]
  },
  {
   "cell_type": "code",
   "execution_count": null,
   "id": "97d2d5b6-9b8d-45ef-bfbe-e0c71e8e5c47",
   "metadata": {
    "tags": []
   },
   "outputs": [],
   "source": [
    "model_name = \"EmbedB8\"\n",
    "model, archi_desc = architecture002(\"adam\", \"binary_crossentropy\", ['accuracy'], embedding_layer)\n",
    "archi_desc = \"FastText 300d + MASK + NT + Unigrams| \" + archi_desc"
   ]
  },
  {
   "cell_type": "code",
   "execution_count": null,
   "id": "f899856e-7f02-4018-8a2a-511168f323f4",
   "metadata": {
    "tags": []
   },
   "outputs": [],
   "source": [
    "model.summary()"
   ]
  },
  {
   "cell_type": "markdown",
   "id": "2ca94d2c-2aa3-4ddd-90ff-43a54d3bbb85",
   "metadata": {},
   "source": [
    "#### Définissons un logger DagsHub pour enregistrer notre essai"
   ]
  },
  {
   "cell_type": "code",
   "execution_count": null,
   "id": "c5754d44-e213-4de5-8995-37510810d36e",
   "metadata": {},
   "outputs": [],
   "source": [
    "dagslogger = DAGsHubLogger()"
   ]
  },
  {
   "cell_type": "code",
   "execution_count": null,
   "id": "8b178dde-e82c-4e9f-aa48-d1dae44c1c46",
   "metadata": {},
   "outputs": [],
   "source": [
    "save_hyperparameters_to_dagshub(dagslogger, model_name, archi_desc, get_layers_for_dagshub(model), batch_size, data_work.shape[0])"
   ]
  },
  {
   "cell_type": "markdown",
   "id": "c428b787-91be-4aab-a1c0-f1888acb6d07",
   "metadata": {},
   "source": [
    "### Train model"
   ]
  },
  {
   "cell_type": "code",
   "execution_count": null,
   "id": "fce6a310-104f-491a-a946-fcd4860421a6",
   "metadata": {
    "tags": []
   },
   "outputs": [],
   "source": [
    "t0 = time.perf_counter()\n",
    "history = model.fit(\n",
    "        x=X_train_ready, y=y_train, \n",
    "        validation_data=(X_test_ready, y_test), \n",
    "        epochs=50, \n",
    "        batch_size=batch_size, \n",
    "        callbacks=init_callbacks(f\"{model_name}\"),\n",
    "        verbose=1,\n",
    ")\n",
    "train_time = time.perf_counter() - t0"
   ]
  },
  {
   "cell_type": "markdown",
   "id": "912fc827-a904-4346-953b-6f5470680f0b",
   "metadata": {},
   "source": [
    "### Evaluate"
   ]
  },
  {
   "cell_type": "code",
   "execution_count": null,
   "id": "bada1052-2dc2-47af-bc73-abb45b5cb2c5",
   "metadata": {
    "tags": []
   },
   "outputs": [],
   "source": [
    "model = keras.models.load_model(f\"models/{model_name}.keras\")"
   ]
  },
  {
   "cell_type": "code",
   "execution_count": null,
   "id": "a3d35b4b-425e-46cb-9c71-3ceacc22c491",
   "metadata": {
    "tags": []
   },
   "outputs": [],
   "source": [
    "model.evaluate(X_test_ready, y_test)"
   ]
  },
  {
   "cell_type": "code",
   "execution_count": null,
   "id": "2a009f54-7090-42fa-9c24-fae4eee1ddca",
   "metadata": {
    "tags": []
   },
   "outputs": [],
   "source": [
    "raw_txt = tf.convert_to_tensor([\"I hate it\", \"I love it\"])\n",
    "raw_txt = text_vectorizationBng1(raw_txt)\n",
    "model.predict(raw_txt)"
   ]
  },
  {
   "cell_type": "code",
   "execution_count": null,
   "id": "8ecffb24-3ff2-4d1a-b7fc-82b8b91fa56c",
   "metadata": {
    "colab": {
     "base_uri": "https://localhost:8080/",
     "height": 1000
    },
    "executionInfo": {
     "elapsed": 746,
     "status": "ok",
     "timestamp": 1653231856185,
     "user": {
      "displayName": "Valkea",
      "userId": "01476199649418572392"
     },
     "user_tz": -120
    },
    "id": "81aba764-7f22-4ad1-b0ed-bc5b13f0b75e",
    "outputId": "e3c4ed78-a90b-46e0-baa0-c28f701f4414",
    "tags": []
   },
   "outputs": [],
   "source": [
    "_ = get_scores(\n",
    "    model_name,\n",
    "    model=model,\n",
    "    X_ref=X_test_ready,\n",
    "    y_ref=y_test, \n",
    "    threshold=0.5,\n",
    "    # y_pred=y_preds, \n",
    "    # y_pred_proba=y_preds_proba, \n",
    "    training_time=train_time, \n",
    "    # inference_time=inf_time, \n",
    "    dagslogger=dagslogger,\n",
    "    register=True,\n",
    ")"
   ]
  },
  {
   "cell_type": "markdown",
   "id": "1e7c7424-e945-4d39-b50c-0fe82ab5d6f6",
   "metadata": {},
   "source": [
    "#### Trouvons le meilleur seuil de séparation pour les prédiction (sur la base du F1 score)"
   ]
  },
  {
   "cell_type": "code",
   "execution_count": null,
   "id": "8791f970-322d-41b6-a108-1273bf81ad65",
   "metadata": {},
   "outputs": [],
   "source": [
    "acc_value, best_threshold = find_best_threshold(model, X_valid_ready, y_valid, accuracy_score)\n",
    "print(f\"The best Accuracy score ({acc_value}) for this model is reached with a threshold of {best_threshold}\")"
   ]
  },
  {
   "cell_type": "code",
   "execution_count": null,
   "id": "12395395-169c-450a-9305-e6f3fcdf4fec",
   "metadata": {
    "colab": {
     "base_uri": "https://localhost:8080/",
     "height": 1000
    },
    "executionInfo": {
     "elapsed": 746,
     "status": "ok",
     "timestamp": 1653231856185,
     "user": {
      "displayName": "Valkea",
      "userId": "01476199649418572392"
     },
     "user_tz": -120
    },
    "id": "81aba764-7f22-4ad1-b0ed-bc5b13f0b75e",
    "outputId": "e3c4ed78-a90b-46e0-baa0-c28f701f4414",
    "tags": []
   },
   "outputs": [],
   "source": [
    "scores = get_scores(\n",
    "    f\"{model_name} [w. threshold]\",\n",
    "    model=model,\n",
    "    X_ref=X_test_ready,\n",
    "    y_ref=y_test, \n",
    "    threshold=best_threshold,\n",
    "    # y_pred=y_preds, \n",
    "    # y_pred_proba=y_preds_proba, \n",
    "    training_time=train_time, \n",
    "    # inference_time=inf_time, \n",
    "    dagslogger=dagslogger,\n",
    "    register=True,\n",
    "    show_roccurves=False,\n",
    ")"
   ]
  },
  {
   "cell_type": "markdown",
   "id": "e0692e64-c9b7-43b4-b175-5204916d9dc9",
   "metadata": {},
   "source": [
    "#### Enregistrons les scores pour DagsHub"
   ]
  },
  {
   "cell_type": "code",
   "execution_count": null,
   "id": "dcae80af-02e0-4aab-b0b3-450f60d621a8",
   "metadata": {},
   "outputs": [],
   "source": [
    "save_metrics_to_dagshub(dagslogger, scores, best_threshold, history)\n",
    "dagslogger.save() \n",
    "dagslogger.close()"
   ]
  },
  {
   "cell_type": "markdown",
   "id": "cec69e2d-0d8a-41ce-8874-4c906fd0fdb8",
   "metadata": {},
   "source": [
    "### Compare"
   ]
  },
  {
   "cell_type": "code",
   "execution_count": null,
   "id": "3a9e81e3-c71d-4c96-a732-45157e051b09",
   "metadata": {
    "tags": []
   },
   "outputs": [],
   "source": [
    "from classification_utils import scores_df\n",
    "scores_df"
   ]
  },
  {
   "cell_type": "markdown",
   "id": "f40af9ce-1979-4e91-a05a-b6018a3e339a",
   "metadata": {
    "tags": []
   },
   "source": [
    "---\n",
    "## 3.10 `EMB-B9` RNN | Ngram=1 | int | Word2Vec300_GoogleNews + MASK + NOT trainable <a class=\"anchor\" id=\"EMBEDDING_SEQ_B9\"></a> [⇪](#menu)"
   ]
  },
  {
   "cell_type": "markdown",
   "id": "094ad4da-b146-4116-a650-f867e734bbe8",
   "metadata": {},
   "source": [
    "### Standardize & Tokenize"
   ]
  },
  {
   "cell_type": "code",
   "execution_count": null,
   "id": "24c3b2aa-0d54-449c-bd59-db6e04780fb9",
   "metadata": {
    "tags": []
   },
   "outputs": [],
   "source": [
    "# Done before\n",
    "print(text_vectorizationBng1.get_vocabulary()[:20], \"...\")"
   ]
  },
  {
   "cell_type": "markdown",
   "id": "00f98b0b-1020-415f-bb8e-3de7e882cc6a",
   "metadata": {},
   "source": [
    "### Prepare dataset"
   ]
  },
  {
   "cell_type": "code",
   "execution_count": null,
   "id": "93bc0215-bba0-4d1a-ab17-0a04ddfea258",
   "metadata": {
    "tags": []
   },
   "outputs": [],
   "source": [
    "X_train_ready = text_vectorizationBng1(X_train)\n",
    "X_valid_ready = text_vectorization0(X_valid)\n",
    "X_test_ready = text_vectorizationBng1(X_test)"
   ]
  },
  {
   "cell_type": "code",
   "execution_count": null,
   "id": "be125126-5325-40a1-a1a0-35ffa485609a",
   "metadata": {
    "tags": []
   },
   "outputs": [],
   "source": [
    "X_train[:2]"
   ]
  },
  {
   "cell_type": "code",
   "execution_count": null,
   "id": "b756934d-c03b-4040-a08f-a4be11878bf7",
   "metadata": {
    "tags": []
   },
   "outputs": [],
   "source": [
    "X_train_ready[:2]"
   ]
  },
  {
   "cell_type": "markdown",
   "id": "c5fa06e1-1c94-4888-b24a-a93d5818a28f",
   "metadata": {},
   "source": [
    "### Embedding"
   ]
  },
  {
   "cell_type": "code",
   "execution_count": null,
   "id": "b8171535-4e3a-42ac-8c7a-4713aa1f64d3",
   "metadata": {
    "tags": []
   },
   "outputs": [],
   "source": [
    "embeddings_index = load_gensim_embedding(\"word2vec-google-news-300\", binary=True)"
   ]
  },
  {
   "cell_type": "code",
   "execution_count": null,
   "id": "36b3dd1f-bf1b-451b-b9d4-18a0189b6d1d",
   "metadata": {
    "tags": []
   },
   "outputs": [],
   "source": [
    "embedding_dim = 300\n",
    "vocabulary = text_vectorizationBng1.get_vocabulary()\n",
    "embedding_matrix = convert_embedding_matrix(vocabulary, embeddings_index, max_tokens, embedding_dim)\n",
    "embedding_matrix"
   ]
  },
  {
   "cell_type": "code",
   "execution_count": null,
   "id": "e4740718-a585-41c5-8559-11eeff68c212",
   "metadata": {
    "tags": []
   },
   "outputs": [],
   "source": [
    "# Embedding avec masque\n",
    "embedding_layer = layers.Embedding(\n",
    "    input_dim=max_tokens,\n",
    "    output_dim=embedding_dim,\n",
    "    embeddings_initializer=keras.initializers.Constant(embedding_matrix),\n",
    "    # input_length=max_length,\n",
    "    mask_zero=True,\n",
    "    trainable=False, # <== default is True\n",
    ")"
   ]
  },
  {
   "cell_type": "markdown",
   "id": "4a966f73-2ed2-4c8f-a826-284075accc92",
   "metadata": {},
   "source": [
    "### Define model"
   ]
  },
  {
   "cell_type": "code",
   "execution_count": null,
   "id": "ac6e08a7-fed2-4c8a-96f3-1836a5e9f0cd",
   "metadata": {
    "tags": []
   },
   "outputs": [],
   "source": [
    "model_name = \"EmbedB9\"\n",
    "model, archi_desc = architecture002(\"adam\", \"binary_crossentropy\", ['accuracy'], embedding_layer)\n",
    "archi_desc = \"Word2Vec 300d google + MASK + NT + Unigrams| \" + archi_desc"
   ]
  },
  {
   "cell_type": "code",
   "execution_count": null,
   "id": "a2e24b51-b594-4401-972b-bf1332740473",
   "metadata": {
    "tags": []
   },
   "outputs": [],
   "source": [
    "model.summary()"
   ]
  },
  {
   "cell_type": "markdown",
   "id": "140623a8-78a0-42b0-b6c9-15b5aa70a63e",
   "metadata": {},
   "source": [
    "#### Définissons un logger DagsHub pour enregistrer notre essai"
   ]
  },
  {
   "cell_type": "code",
   "execution_count": null,
   "id": "c42f7d6d-faa3-4d4a-b66c-9d70f424c03d",
   "metadata": {},
   "outputs": [],
   "source": [
    "dagslogger = DAGsHubLogger()"
   ]
  },
  {
   "cell_type": "code",
   "execution_count": null,
   "id": "e292630b-34d7-472e-909f-5289a36fb9a2",
   "metadata": {},
   "outputs": [],
   "source": [
    "save_hyperparameters_to_dagshub(dagslogger, model_name, archi_desc, get_layers_for_dagshub(model), batch_size, data_work.shape[0])"
   ]
  },
  {
   "cell_type": "markdown",
   "id": "bba5001d-b41f-4b4c-9426-e69b8d649a39",
   "metadata": {},
   "source": [
    "### Train model"
   ]
  },
  {
   "cell_type": "code",
   "execution_count": null,
   "id": "2fefbd7a-0bab-436e-93c4-9fdb0613cefd",
   "metadata": {
    "tags": []
   },
   "outputs": [],
   "source": [
    "t0 = time.perf_counter()\n",
    "history = model.fit(\n",
    "        x=X_train_ready, y=y_train, \n",
    "        validation_data=(X_test_ready, y_test), \n",
    "        epochs=50, \n",
    "        batch_size=batch_size, \n",
    "        callbacks=init_callbacks(f\"{model_name}\"),\n",
    "        verbose=1,\n",
    ")\n",
    "train_time = time.perf_counter() - t0"
   ]
  },
  {
   "cell_type": "markdown",
   "id": "41d64d5a-6ef3-4920-b239-b03dd096803c",
   "metadata": {},
   "source": [
    "### Evaluate"
   ]
  },
  {
   "cell_type": "code",
   "execution_count": null,
   "id": "f6e0ab24-320f-4332-93dc-8d5f11463df1",
   "metadata": {
    "tags": []
   },
   "outputs": [],
   "source": [
    "model = keras.models.load_model(f\"models/{model_name}.keras\")"
   ]
  },
  {
   "cell_type": "code",
   "execution_count": null,
   "id": "15ec124c-6fa6-49c7-a0d9-d51c6a15d98b",
   "metadata": {
    "tags": []
   },
   "outputs": [],
   "source": [
    "model.evaluate(X_test_ready, y_test)"
   ]
  },
  {
   "cell_type": "code",
   "execution_count": null,
   "id": "36832ebc-3bc9-4a9b-a414-b6494afdb01b",
   "metadata": {
    "tags": []
   },
   "outputs": [],
   "source": [
    "raw_txt = tf.convert_to_tensor([\"I hate it\", \"I love it\"])\n",
    "raw_txt = text_vectorizationBng1(raw_txt)\n",
    "model.predict(raw_txt)"
   ]
  },
  {
   "cell_type": "code",
   "execution_count": null,
   "id": "311bd92e-c9b5-47d7-9422-76f58662a420",
   "metadata": {
    "colab": {
     "base_uri": "https://localhost:8080/",
     "height": 1000
    },
    "executionInfo": {
     "elapsed": 746,
     "status": "ok",
     "timestamp": 1653231856185,
     "user": {
      "displayName": "Valkea",
      "userId": "01476199649418572392"
     },
     "user_tz": -120
    },
    "id": "81aba764-7f22-4ad1-b0ed-bc5b13f0b75e",
    "outputId": "e3c4ed78-a90b-46e0-baa0-c28f701f4414",
    "tags": []
   },
   "outputs": [],
   "source": [
    "_ = get_scores(\n",
    "    model_name,\n",
    "    model=model,\n",
    "    X_ref=X_test_ready,\n",
    "    y_ref=y_test, \n",
    "    threshold=0.5,\n",
    "    # y_pred=y_preds, \n",
    "    # y_pred_proba=y_preds_proba, \n",
    "    training_time=train_time, \n",
    "    # inference_time=inf_time, \n",
    "    dagslogger=dagslogger,\n",
    "    register=True,\n",
    ")"
   ]
  },
  {
   "cell_type": "markdown",
   "id": "f2353983-3abf-4eb2-acf0-97a7a591cb3f",
   "metadata": {},
   "source": [
    "#### Trouvons le meilleur seuil de séparation pour les prédiction (sur la base du F1 score)"
   ]
  },
  {
   "cell_type": "code",
   "execution_count": null,
   "id": "673215f7-2c2f-43c9-8d1f-41a7abd89046",
   "metadata": {},
   "outputs": [],
   "source": [
    "acc_value, best_threshold = find_best_threshold(model, X_valid_ready, y_valid, accuracy_score)\n",
    "print(f\"The best Accuracy score ({acc_value}) for this model is reached with a threshold of {best_threshold}\")"
   ]
  },
  {
   "cell_type": "code",
   "execution_count": null,
   "id": "32977409-5079-4e46-a390-0ed713c75139",
   "metadata": {
    "colab": {
     "base_uri": "https://localhost:8080/",
     "height": 1000
    },
    "executionInfo": {
     "elapsed": 746,
     "status": "ok",
     "timestamp": 1653231856185,
     "user": {
      "displayName": "Valkea",
      "userId": "01476199649418572392"
     },
     "user_tz": -120
    },
    "id": "81aba764-7f22-4ad1-b0ed-bc5b13f0b75e",
    "outputId": "e3c4ed78-a90b-46e0-baa0-c28f701f4414",
    "tags": []
   },
   "outputs": [],
   "source": [
    "scores = get_scores(\n",
    "    f\"{model_name} [w. threshold]\",\n",
    "    model=model,\n",
    "    X_ref=X_test_ready,\n",
    "    y_ref=y_test, \n",
    "    threshold=best_threshold,\n",
    "    # y_pred=y_preds, \n",
    "    # y_pred_proba=y_preds_proba, \n",
    "    training_time=train_time, \n",
    "    # inference_time=inf_time, \n",
    "    dagslogger=dagslogger,\n",
    "    register=True,\n",
    "    show_roccurves=False,\n",
    ")"
   ]
  },
  {
   "cell_type": "markdown",
   "id": "6b76ea22-01f3-4346-87d3-73805af27990",
   "metadata": {},
   "source": [
    "#### Enregistrons les scores pour DagsHub"
   ]
  },
  {
   "cell_type": "code",
   "execution_count": null,
   "id": "8ec3b0c1-d366-4357-b09f-26d535c7dfc3",
   "metadata": {},
   "outputs": [],
   "source": [
    "save_metrics_to_dagshub(dagslogger, scores, best_threshold, history)\n",
    "dagslogger.save() \n",
    "dagslogger.close()"
   ]
  },
  {
   "cell_type": "markdown",
   "id": "535ee814-1f59-4cd3-89cb-97b67a802025",
   "metadata": {},
   "source": [
    "### Compare"
   ]
  },
  {
   "cell_type": "code",
   "execution_count": null,
   "id": "8f9ad6c3-5a00-449d-9bbe-f4b7cce15491",
   "metadata": {
    "tags": []
   },
   "outputs": [],
   "source": [
    "from classification_utils import scores_df\n",
    "scores_df"
   ]
  },
  {
   "cell_type": "markdown",
   "id": "290a37c1-dd64-4c72-83e0-44d7175de462",
   "metadata": {},
   "source": [
    "---\n",
    "---\n",
    "# 4. Modèle `classiques` (pour comparaison) <a class=\"anchor\" id=\"NO_EMBEDDING\"></a> [⇪](#menu)"
   ]
  },
  {
   "cell_type": "markdown",
   "id": "5ed37737-2f00-4871-97ec-deecc88c1049",
   "metadata": {
    "tags": []
   },
   "source": [
    "---\n",
    "## 4.1 `EMB-C0` LogisticRegression | RAW_lemmas_not_filtered <a class=\"anchor\" id=\"NO_EMBEDDING_C0\"></a> [⇪](#menu)"
   ]
  },
  {
   "cell_type": "code",
   "execution_count": null,
   "id": "1c66b389-1c61-47ec-8770-2be74f60ef92",
   "metadata": {
    "id": "bd3e09fc-72fa-4be3-9b2f-a48051235a2f",
    "tags": []
   },
   "outputs": [],
   "source": [
    "from sklearn.model_selection import StratifiedKFold\n",
    "skfold = StratifiedKFold(n_splits=5, shuffle=True, random_state=random_seed)"
   ]
  },
  {
   "cell_type": "markdown",
   "id": "057168a9-8790-4665-ab3d-bede5ba76aff",
   "metadata": {},
   "source": [
    "### Préparons le jeu de données en `Train` et `Test` sets"
   ]
  },
  {
   "cell_type": "code",
   "execution_count": null,
   "id": "59d6f472-b07c-48ff-9ca8-ff38ea3d53f2",
   "metadata": {
    "tags": []
   },
   "outputs": [],
   "source": [
    "from sklearn.feature_extraction.text import TfidfVectorizer\n",
    "\n",
    "# Prepare TF-IDF \n",
    "tfidf_vectorizer_train = TfidfVectorizer(use_idf=True, min_df=5, max_df=0.5) #, max_features=2000)\n",
    "X_train_ready = tfidf_vectorizer_train.fit_transform(X_train)\n",
    "X_test_ready = tfidf_vectorizer_train.transform(X_test)"
   ]
  },
  {
   "cell_type": "code",
   "execution_count": null,
   "id": "0e9e66b7-5a1a-448e-a840-c0f2053e01a2",
   "metadata": {
    "tags": []
   },
   "outputs": [],
   "source": [
    "print(f\"TF-IDF features: {tfidf_vectorizer_train.get_feature_names_out()}\")\n",
    "print(f\"Sets shapes >> X_train_ready: {X_train_ready.shape}, X_test_ready: {X_test_ready.shape}\")"
   ]
  },
  {
   "cell_type": "markdown",
   "id": "8761419e-2ab6-49a7-851e-b28312939b12",
   "metadata": {
    "id": "728fca76-6bb8-4402-8bb0-ff5bce8f39b1"
   },
   "source": [
    "### Appliquons la Logistic Regression avec ce jeu de données"
   ]
  },
  {
   "cell_type": "code",
   "execution_count": null,
   "id": "296a536b-ecdc-40fa-ab20-3ae495f50196",
   "metadata": {
    "id": "f8114082-269f-437a-96e3-403be5eaa46a",
    "tags": []
   },
   "outputs": [],
   "source": [
    "from sklearn.linear_model import LogisticRegression\n",
    "from scipy.stats import uniform, loguniform"
   ]
  },
  {
   "cell_type": "code",
   "execution_count": null,
   "id": "a4d396cb-72b3-41b6-bf73-4a5628fb7ca8",
   "metadata": {
    "id": "0b0a1c14-bb60-442e-97fc-1c6368704498",
    "tags": []
   },
   "outputs": [],
   "source": [
    "max_lr_iter = 3000\n",
    "param_grid = [\n",
    "    {\n",
    "        'random_state':[random_seed],\n",
    "        'max_iter':[max_lr_iter],\n",
    "        'solver' : ['lbfgs'],\n",
    "        'penalty' : ['l2'], # none\n",
    "        'C' : loguniform(1e-5, 1e2),\n",
    "    },\n",
    "    {\n",
    "        'random_state':[random_seed],\n",
    "        'max_iter':[max_lr_iter],\n",
    "        'solver' : ['liblinear'],\n",
    "        'penalty' : ['l1', 'l2'], # none\n",
    "        'C' : loguniform(1e-5, 1e2),\n",
    "    },\n",
    "    {\n",
    "        'random_state':[random_seed],\n",
    "        'max_iter':[max_lr_iter],\n",
    "        'solver' : ['saga'],\n",
    "        'penalty' : ['elasticnet'], # none\n",
    "        'C' : loguniform(1e-5, 1e2),\n",
    "        'l1_ratio' : uniform(0,1)\n",
    "    },\n",
    "]"
   ]
  },
  {
   "cell_type": "code",
   "execution_count": null,
   "id": "468da0fc-0a42-4dca-b4f3-08fc43cdada4",
   "metadata": {
    "colab": {
     "base_uri": "https://localhost:8080/"
    },
    "executionInfo": {
     "elapsed": 30100,
     "status": "ok",
     "timestamp": 1653231855459,
     "user": {
      "displayName": "Valkea",
      "userId": "01476199649418572392"
     },
     "user_tz": -120
    },
    "id": "083fad02-c21d-404d-b4e5-269610c8d2b7",
    "outputId": "7e2a34c6-ed0b-4d4d-fea3-ed7ad25b69fa",
    "tags": []
   },
   "outputs": [],
   "source": [
    "model_name = \"Test C00\"\n",
    "max_lr_iter = 3000\n",
    "\n",
    "grd_log = fit_model(\n",
    "    LogisticRegression(), \n",
    "    param_grid=param_grid,  \n",
    "    cv = skfold,\n",
    "    X_ref = X_train_ready,\n",
    "    y_ref = y_train,\n",
    ")"
   ]
  },
  {
   "cell_type": "markdown",
   "id": "871a5305-5d0d-4171-a438-0e20e237fa8c",
   "metadata": {},
   "source": [
    "### Evaluate"
   ]
  },
  {
   "cell_type": "code",
   "execution_count": null,
   "id": "626e9d6d-3f08-472c-b222-20bc2d6fd13a",
   "metadata": {
    "colab": {
     "base_uri": "https://localhost:8080/",
     "height": 1000
    },
    "executionInfo": {
     "elapsed": 746,
     "status": "ok",
     "timestamp": 1653231856185,
     "user": {
      "displayName": "Valkea",
      "userId": "01476199649418572392"
     },
     "user_tz": -120
    },
    "id": "81aba764-7f22-4ad1-b0ed-bc5b13f0b75e",
    "outputId": "e3c4ed78-a90b-46e0-baa0-c28f701f4414",
    "tags": []
   },
   "outputs": [],
   "source": [
    "get_scores(model_name, **grd_log, register=True, X_ref=X_test_ready, y_ref=y_test)"
   ]
  },
  {
   "cell_type": "markdown",
   "id": "abfc1d72-51b9-499b-b1e4-04c721feffab",
   "metadata": {},
   "source": [
    "---\n",
    "---\n",
    "# 5. Comparaison des `scores` <a class=\"anchor\" id=\"EMBEDDING_scores\"></a> [⇪](#menu)"
   ]
  },
  {
   "cell_type": "code",
   "execution_count": null,
   "id": "4240eb3b-1af9-4199-8489-7f0698d935c9",
   "metadata": {
    "tags": []
   },
   "outputs": [],
   "source": [
    "from classification_utils import scores_df"
   ]
  },
  {
   "cell_type": "code",
   "execution_count": null,
   "id": "72d1ee17-1f38-4ccc-836f-46bf780b2186",
   "metadata": {
    "tags": []
   },
   "outputs": [],
   "source": [
    "scores_df"
   ]
  },
  {
   "cell_type": "code",
   "execution_count": null,
   "id": "00c83b8f-eeac-4a00-8067-14dbd2cfc399",
   "metadata": {
    "tags": []
   },
   "outputs": [],
   "source": [
    "scores_df.sort_values(['ROC AUC'], ascending=False)"
   ]
  }
 ],
 "metadata": {
  "kernelspec": {
   "display_name": "venvP7",
   "language": "python",
   "name": "venvp7"
  },
  "language_info": {
   "codemirror_mode": {
    "name": "ipython",
    "version": 3
   },
   "file_extension": ".py",
   "mimetype": "text/x-python",
   "name": "python",
   "nbconvert_exporter": "python",
   "pygments_lexer": "ipython3",
   "version": "3.8.10"
  },
  "toc-autonumbering": true,
  "toc-showcode": false,
  "toc-showmarkdowntxt": false,
  "toc-showtags": false
 },
 "nbformat": 4,
 "nbformat_minor": 5
}
