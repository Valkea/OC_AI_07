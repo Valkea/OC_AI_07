{
 "cells": [
  {
   "cell_type": "markdown",
   "id": "3587f654-0488-404c-b497-618025680f11",
   "metadata": {},
   "source": [
    "# Menu <a class=\"anchor\" id=\"menu\"></a>\n",
    "   \n",
    "* [1. Préparatifs](#init)\n",
    "* [2. Modèles `Bag of words` ou `Bag of N-gram`](#EMBEDDING_BOW)\n",
    "    * [2.1 `EMB-A0` NN | Ngram=2 | int](#EMBEDDING_BOW_A0)\n",
    "    * [2.2 `EMB-A1` NN | Ngram=1 | multi_hot](#EMBEDDING_BOW_A1)\n",
    "    * [2.3 `EMB-A2` NN | Ngram=2 | multi_hot](#EMBEDDING_BOW_A2)\n",
    "    * [2.4 `EMB-A3` NN | Ngram=2 | count](#EMBEDDING_BOW_A3)\n",
    "    * [2.5 `EMB-A4` NN | Ngram=2 | tf-idf](#EMBEDDING_BOW_A4)\n",
    "* [3. Modèles `Séquentiels`](#EMBEDDING_SEQ)\n",
    "    * [3.1 `EMB-B0` RNN | Ngram=2 | int | One-hot-embedding](#EMBEDDING_SEQ_B0)\n",
    "    * [3.2 `EMB-B1` RNN | Ngram=2 | int | Keras embedding](#EMBEDDING_SEQ_B1)\n",
    "    * [3.3 `EMB-B2` RNN | Ngram=2 | int | Keras embedding + MASK](#EMBEDDING_SEQ_B2)\n",
    "    * [3.4 `EMB-B3` RNN | Ngram=2 | int | Glove 100d + MASK + NOT trainable](#EMBEDDING_SEQ_B3)\n",
    "    * [3.5 `EMB-B4` RNN | Ngram=1 | int | Glove 100d + MASK + NOT trainable](#EMBEDDING_SEQ_B4)\n",
    "    * [3.6 `EMB-B5` RNN | Ngram=1 | int | GloveTwitter 25d + MASK + NOT trainable](#EMBEDDING_SEQ_B5)\n",
    "    * [3.7 `EMB-B6` RNN | Ngram=1 | int | GloveTwitter 100d + MASK + NOT trainable](#EMBEDDING_SEQ_B6)\n",
    "    * [3.8 `EMB-B7` RNN | Ngram=1 | int | GloveTwitter 200d + MASK + NOT trainable](#EMBEDDING_SEQ_B7)\n",
    "    * [3.9 `EMB-B8` RNN | Ngram=1 | int | FastText300 + MASK + NOT trainable](#EMBEDDING_SEQ_B8)\n",
    "    * [3.10 `EMB-B9` RNN | Ngram=1 | int | Word2Vec300_GoogleNews + MASK + NOT trainable](#EMBEDDING_SEQ_B9)\n",
    "* [4. Modèles `classiques` pour comparaison](#NO_EMBEDDING)\n",
    "    * [4.1 `EMB-C0` LogisticRegression | TfidVectorize](#NO_EMBEDDING_C0)\n",
    "* [5. Comparaison des scores](#EMBEDDING_scores)"
   ]
  },
  {
   "cell_type": "code",
   "execution_count": 1,
   "id": "a7d7bb55-b510-41c9-9267-5a65ed99999e",
   "metadata": {
    "tags": []
   },
   "outputs": [
    {
     "name": "stderr",
     "output_type": "stream",
     "text": [
      "2022-08-08 21:48:17.181984: W tensorflow/stream_executor/platform/default/dso_loader.cc:64] Could not load dynamic library 'libcudart.so.11.0'; dlerror: libcudart.so.11.0: cannot open shared object file: No such file or directory\n",
      "2022-08-08 21:48:17.182029: I tensorflow/stream_executor/cuda/cudart_stub.cc:29] Ignore above cudart dlerror if you do not have a GPU set up on your machine.\n"
     ]
    }
   ],
   "source": [
    "import os\n",
    "import time\n",
    "import pathlib\n",
    "import gzip\n",
    "\n",
    "import matplotlib.pyplot as plt\n",
    "import pandas as pd\n",
    "import numpy as np\n",
    "import tensorflow as tf\n",
    "from tensorflow import keras\n",
    "from keras import layers\n",
    "from sklearn.model_selection import train_test_split\n",
    "from sklearn.metrics import accuracy_score\n",
    "from dagshub import dagshub_logger, DAGsHubLogger\n",
    "\n",
    "try:\n",
    "    from tensorflow.keras.layers import TextVectorization\n",
    "except ImportError:\n",
    "    from tensorflow.keras.layers.experimental.preprocessing import TextVectorization\n",
    "\n",
    "# set random seed for reproductibility\n",
    "random_seed = 0\n",
    "np.random.seed(random_seed)\n",
    "\n",
    "try:\n",
    "    keras.utils.set_random_seed(random_seed)\n",
    "except Exception:\n",
    "    tf.random.set_seed(random_seed)"
   ]
  },
  {
   "cell_type": "code",
   "execution_count": 2,
   "id": "19543947-9df1-4a3a-b959-8fa5210a2dd3",
   "metadata": {
    "tags": []
   },
   "outputs": [
    {
     "name": "stdout",
     "output_type": "stream",
     "text": [
      "Num GPUs Available:  0\n"
     ]
    },
    {
     "name": "stderr",
     "output_type": "stream",
     "text": [
      "2022-08-08 21:48:20.837930: W tensorflow/stream_executor/platform/default/dso_loader.cc:64] Could not load dynamic library 'libcuda.so.1'; dlerror: libcuda.so.1: cannot open shared object file: No such file or directory\n",
      "2022-08-08 21:48:20.837980: W tensorflow/stream_executor/cuda/cuda_driver.cc:269] failed call to cuInit: UNKNOWN ERROR (303)\n",
      "2022-08-08 21:48:20.838014: I tensorflow/stream_executor/cuda/cuda_diagnostics.cc:156] kernel driver does not appear to be running on this host (valkea-XPS): /proc/driver/nvidia/version does not exist\n"
     ]
    }
   ],
   "source": [
    "print(\"Num GPUs Available: \", len(tf.config.list_physical_devices('GPU')))"
   ]
  },
  {
   "cell_type": "markdown",
   "id": "79e0ecc2-2f55-4f2a-af04-a7e55d77a19f",
   "metadata": {},
   "source": [
    "---\n",
    "---\n",
    "# 1. Préparatifs pour de la classification avec des réseaux de neurones <a class=\"anchor\" id=\"init\"></a> [⇪](#menu)"
   ]
  },
  {
   "cell_type": "markdown",
   "id": "a190401f-8e78-49a7-a994-3544fc9a611e",
   "metadata": {},
   "source": [
    "### Chargeons quelques fonctions *maison* pour entrainer et évaluer les modèles, et initialisons un fichier pour enregistrer les scores\n",
    "Ces fonctions ont été déportées dans le fichier classification_utils.py pour allèger le notebook"
   ]
  },
  {
   "cell_type": "code",
   "execution_count": 3,
   "id": "68f12efd-6fe4-4482-af9d-4b6b641cde08",
   "metadata": {
    "tags": []
   },
   "outputs": [],
   "source": [
    "from classification_utils import fit_model, get_scores, init_scores, find_best_threshold\n",
    "init_scores(\"data/scores_NN_SelectEmbedding.csv\")"
   ]
  },
  {
   "cell_type": "markdown",
   "id": "966709f9-6661-49d4-ae62-b7da55040579",
   "metadata": {},
   "source": [
    "### Chargeons le jeu de données et préparons un `échantillon de travail` représentatif"
   ]
  },
  {
   "cell_type": "code",
   "execution_count": 4,
   "id": "ddcbcb93-38d4-4eb1-a0ad-58ae67f6a4c8",
   "metadata": {
    "tags": []
   },
   "outputs": [
    {
     "data": {
      "text/html": [
       "<div>\n",
       "<style scoped>\n",
       "    .dataframe tbody tr th:only-of-type {\n",
       "        vertical-align: middle;\n",
       "    }\n",
       "\n",
       "    .dataframe tbody tr th {\n",
       "        vertical-align: top;\n",
       "    }\n",
       "\n",
       "    .dataframe thead th {\n",
       "        text-align: right;\n",
       "    }\n",
       "</style>\n",
       "<table border=\"1\" class=\"dataframe\">\n",
       "  <thead>\n",
       "    <tr style=\"text-align: right;\">\n",
       "      <th></th>\n",
       "      <th>target</th>\n",
       "      <th>text</th>\n",
       "    </tr>\n",
       "  </thead>\n",
       "  <tbody>\n",
       "    <tr>\n",
       "      <th>0</th>\n",
       "      <td>0</td>\n",
       "      <td>$ url$ - awww , that be a bummer . you shoulda...</td>\n",
       "    </tr>\n",
       "    <tr>\n",
       "      <th>1</th>\n",
       "      <td>0</td>\n",
       "      <td>be upset that he can not update his facebook b...</td>\n",
       "    </tr>\n",
       "    <tr>\n",
       "      <th>2</th>\n",
       "      <td>0</td>\n",
       "      <td>I dive many time for the ball . manage to save...</td>\n",
       "    </tr>\n",
       "    <tr>\n",
       "      <th>3</th>\n",
       "      <td>0</td>\n",
       "      <td>my whole body feel itchy and like its on fire</td>\n",
       "    </tr>\n",
       "    <tr>\n",
       "      <th>4</th>\n",
       "      <td>0</td>\n",
       "      <td>no , it be not behave at all . I be mad . why ...</td>\n",
       "    </tr>\n",
       "  </tbody>\n",
       "</table>\n",
       "</div>"
      ],
      "text/plain": [
       "   target                                               text\n",
       "0       0  $ url$ - awww , that be a bummer . you shoulda...\n",
       "1       0  be upset that he can not update his facebook b...\n",
       "2       0  I dive many time for the ball . manage to save...\n",
       "3       0      my whole body feel itchy and like its on fire\n",
       "4       0  no , it be not behave at all . I be mad . why ..."
      ]
     },
     "metadata": {},
     "output_type": "display_data"
    },
    {
     "data": {
      "text/plain": [
       "(1452791, 2)"
      ]
     },
     "metadata": {},
     "output_type": "display_data"
    },
    {
     "data": {
      "text/html": [
       "<div>\n",
       "<style scoped>\n",
       "    .dataframe tbody tr th:only-of-type {\n",
       "        vertical-align: middle;\n",
       "    }\n",
       "\n",
       "    .dataframe tbody tr th {\n",
       "        vertical-align: top;\n",
       "    }\n",
       "\n",
       "    .dataframe thead th {\n",
       "        text-align: right;\n",
       "    }\n",
       "</style>\n",
       "<table border=\"1\" class=\"dataframe\">\n",
       "  <thead>\n",
       "    <tr style=\"text-align: right;\">\n",
       "      <th></th>\n",
       "      <th>target</th>\n",
       "      <th>text</th>\n",
       "    </tr>\n",
       "  </thead>\n",
       "  <tbody>\n",
       "    <tr>\n",
       "      <th>469259</th>\n",
       "      <td>0</td>\n",
       "      <td>I do not have a background for my twitter stre...</td>\n",
       "    </tr>\n",
       "    <tr>\n",
       "      <th>152271</th>\n",
       "      <td>0</td>\n",
       "      <td>I do many thing but miss tweet</td>\n",
       "    </tr>\n",
       "    <tr>\n",
       "      <th>597612</th>\n",
       "      <td>0</td>\n",
       "      <td>most probably - eww all that pasty white skin ...</td>\n",
       "    </tr>\n",
       "    <tr>\n",
       "      <th>708306</th>\n",
       "      <td>0</td>\n",
       "      <td>ohh , how bad I sleep</td>\n",
       "    </tr>\n",
       "    <tr>\n",
       "      <th>59100</th>\n",
       "      <td>0</td>\n",
       "      <td>hell yeah u be texte I I remember , I be at my...</td>\n",
       "    </tr>\n",
       "  </tbody>\n",
       "</table>\n",
       "</div>"
      ],
      "text/plain": [
       "        target                                               text\n",
       "469259       0  I do not have a background for my twitter stre...\n",
       "152271       0                     I do many thing but miss tweet\n",
       "597612       0  most probably - eww all that pasty white skin ...\n",
       "708306       0                              ohh , how bad I sleep\n",
       "59100        0  hell yeah u be texte I I remember , I be at my..."
      ]
     },
     "metadata": {},
     "output_type": "display_data"
    },
    {
     "data": {
      "text/plain": [
       "(100000, 2)"
      ]
     },
     "metadata": {},
     "output_type": "display_data"
    }
   ],
   "source": [
    "data_work = pd.read_csv(\n",
    "    pathlib.Path(pathlib.Path().absolute(), 'data', 'data_nlp_1563108.csv'), \n",
    "    usecols=['target', 'lemmas_not_filtered'],\n",
    "    encoding='ISO-8859-1',\n",
    "    #nrows=100000,\n",
    ")\n",
    "data_work.rename(columns={'lemmas_not_filtered':'text'}, inplace=True)\n",
    "display(data_work.head(), data_work.shape)\n",
    "\n",
    "# Select samples\n",
    "sample_size = 100000\n",
    "data_work = data_work.groupby('target', group_keys=False).apply(lambda x: x.sample(sample_size//2, random_state=random_seed))\n",
    "display(data_work.head(), data_work.shape)"
   ]
  },
  {
   "cell_type": "code",
   "execution_count": 5,
   "id": "a286ea0c-1cbd-454b-8a54-8962f03834f8",
   "metadata": {
    "tags": []
   },
   "outputs": [
    {
     "data": {
      "text/plain": [
       "0    50000\n",
       "1    50000\n",
       "Name: target, dtype: int64"
      ]
     },
     "execution_count": 5,
     "metadata": {},
     "output_type": "execute_result"
    }
   ],
   "source": [
    "data_work.target.value_counts(dropna=False)"
   ]
  },
  {
   "cell_type": "markdown",
   "id": "096ad985-d0e6-4929-a790-a85968e7bcf2",
   "metadata": {},
   "source": [
    "### Définissons les différentes `architectures` dont nous allons avoir besoin"
   ]
  },
  {
   "cell_type": "code",
   "execution_count": 6,
   "id": "79b59002-7db2-46c6-9858-8c8ffecac325",
   "metadata": {
    "tags": []
   },
   "outputs": [],
   "source": [
    "def architecture001(f_opti, f_loss, f_metrics, max_tokens=20000, hidden_dim=16):\n",
    "        \n",
    "    inputs = keras.Input(shape=(max_tokens,), dtype=\"int64\")\n",
    "    \n",
    "    x = layers.Dense(hidden_dim, activation='relu')(inputs)\n",
    "    x = layers.Dropout(0.5)(x)\n",
    "    \n",
    "    predictions = layers.Dense(1, activation='sigmoid', name='predictions')(x)\n",
    "    \n",
    "    model = keras.Model(inputs, predictions)\n",
    "    model.compile(loss=f_loss, optimizer=f_opti, metrics=f_metrics)\n",
    "    \n",
    "    return model, f\"Dense {hidden_dim} + Dropout 0.5\""
   ]
  },
  {
   "cell_type": "code",
   "execution_count": 7,
   "id": "a9c38c80-20ff-4a7b-8f35-67e7d403cf20",
   "metadata": {
    "tags": []
   },
   "outputs": [],
   "source": [
    "def architecture002_oh(f_opti, f_loss, f_metrics, voc_size):\n",
    "        \n",
    "    inputs = keras.Input(shape=(None,), dtype=\"int64\")\n",
    "    \n",
    "    x = tf.one_hot(inputs, depth=voc_size)\n",
    "    x = layers.Bidirectional(layers.LSTM(32))(x) # 64\n",
    "    x = layers.Dropout(0.5)(x)\n",
    "    \n",
    "    predictions = layers.Dense(1, activation='sigmoid', name='predictions')(x)\n",
    "    \n",
    "    model = keras.Model(inputs, predictions)\n",
    "    model.compile(loss=f_loss, optimizer=f_opti, metrics=f_metrics)\n",
    "    \n",
    "    return model, \"one_hot + Bi-LSTM 32 + Dropout 0.5\""
   ]
  },
  {
   "cell_type": "code",
   "execution_count": 8,
   "id": "13889788-14ef-4b49-9730-b8cf6db7e59f",
   "metadata": {
    "tags": []
   },
   "outputs": [],
   "source": [
    "def architecture002(f_opti, f_loss, f_metrics, embedding):\n",
    "        \n",
    "    inputs = keras.Input(shape=(None,), dtype=\"int64\")\n",
    "    \n",
    "    x = embedding(inputs)\n",
    "    x = layers.Bidirectional(layers.LSTM(32))(x) # 64\n",
    "    x = layers.Dropout(0.5)(x)\n",
    "    \n",
    "    predictions = layers.Dense(1, activation='sigmoid', name='predictions')(x)\n",
    "    \n",
    "    model = keras.Model(inputs, predictions)\n",
    "    model.compile(loss=f_loss, optimizer=f_opti, metrics=f_metrics)\n",
    "    \n",
    "    return model, \"Bi-LSTM 32 + Dropout 0.5\""
   ]
  },
  {
   "cell_type": "code",
   "execution_count": 9,
   "id": "30b4cf8a-8cee-4efd-819c-2351f3b2b81b",
   "metadata": {
    "tags": []
   },
   "outputs": [],
   "source": [
    "def architecture003(f_opti, f_loss, f_metrics, embedding):\n",
    "        \n",
    "    inputs = keras.Input(shape=(None,), dtype=\"int64\")\n",
    "    \n",
    "    x = embedding(inputs)\n",
    "    x = layers.Bidirectional(layers.LSTM(64))(x)\n",
    "    x = layers.Dense(24, activation='relu')(x)\n",
    "    \n",
    "    predictions = layers.Dense(1, activation='sigmoid', name='predictions')(x)\n",
    "    \n",
    "    model = keras.Model(inputs, predictions)\n",
    "    model.compile(loss=f_loss, optimizer=f_opti, metrics=f_metrics)\n",
    "    \n",
    "    return model, \"Bi-LSTM 64 + Dense 24\""
   ]
  },
  {
   "cell_type": "markdown",
   "id": "a9fe9183-e12a-45da-a142-4b010998ada8",
   "metadata": {},
   "source": [
    "### Définissons les fonctions utiles à l'`embedding`"
   ]
  },
  {
   "cell_type": "code",
   "execution_count": 10,
   "id": "70a999f7",
   "metadata": {
    "tags": []
   },
   "outputs": [],
   "source": [
    "from gensim.models import KeyedVectors\n",
    "import gensim.downloader as api\n",
    "\n",
    "def load_gensim_embedding(embedding_name, binary=False):\n",
    "    \n",
    "    embedding_path = pathlib.Path(pathlib.Path().absolute(), 'data', 'embedding_models', f'{embedding_name}.gz')\n",
    "    try:\n",
    "        if embedding_path.is_file():\n",
    "            print(f\"Loading from {embedding_path}\")\n",
    "            embedding_model = KeyedVectors.load_word2vec_format(embedding_path, binary=binary)\n",
    "        else:\n",
    "            print(\"Loading from the Git repos with API\")\n",
    "            embedding_model = api.load(embedding_name)\n",
    "            \n",
    "        return embedding_model\n",
    "    except Exception as e:\n",
    "        print(f\"The provided embedding model couldn't be loaded correctly: {e}\")\n",
    "        \n",
    "def load_trained_glove(embedding_name):\n",
    "    \n",
    "    def parse_file(file):\n",
    "        embeddings_index = {}\n",
    "        for line in file:\n",
    "            word, coefs = line.split(maxsplit=1)\n",
    "            coefs = np.fromstring(coefs, \"f\", sep=\" \")\n",
    "            embeddings_index[word] = coefs\n",
    "        return embeddings_index\n",
    "\n",
    "    try:\n",
    "        embedding_path = pathlib.Path(pathlib.Path().absolute(), 'data', 'embedding_models', f'{embedding_name}.gz')\n",
    "        if embedding_path.is_file():\n",
    "            print(f\"Loading from gZip: {embedding_path}\")\n",
    "            with gzip.open(embedding_path, mode='rt') as f:\n",
    "                return parse_file(f)\n",
    "        \n",
    "        embedding_path = pathlib.Path(pathlib.Path().absolute(), 'data', 'embedding_models', f'{embedding_name}.txt')\n",
    "        if embedding_path.is_file():\n",
    "            print(f\"Loading from TXT: {embedding_path}\")\n",
    "            with open(embedding_path) as f:\n",
    "                return parse_file(f)\n",
    "        else:\n",
    "            raise FileNotFoundError(f\"No such model found (it must be {embedding_name}.txt or {embedding_name}.gz)\")\n",
    "            \n",
    "    except Exception as e:\n",
    "        print(f\"The provided embedding model couldn't be loaded correctly: {e}\")"
   ]
  },
  {
   "cell_type": "code",
   "execution_count": 11,
   "id": "cafd5770-b52f-4373-982c-dbd93477b7a2",
   "metadata": {
    "tags": []
   },
   "outputs": [],
   "source": [
    "def convert_embedding_matrix(vocabulary, embeddings_index, max_tokens, embedding_dim=100):\n",
    "    \n",
    "    hits = 0\n",
    "    misses = 0\n",
    "    misses_list = []\n",
    "    \n",
    "    word_index = dict(zip(vocabulary, range(len(vocabulary))))\n",
    "    \n",
    "    embedding_matrix = np.zeros((max_tokens, embedding_dim))\n",
    "    \n",
    "    for word, i in word_index.items():\n",
    "        if i < max_tokens:\n",
    "            try:\n",
    "                embedding_vector = embeddings_index.get_vector(word)\n",
    "            except AttributeError:\n",
    "                embedding_vector = embeddings_index.get(word)\n",
    "            except KeyError:\n",
    "                embedding_vector = None\n",
    "        if embedding_vector is not None:\n",
    "            hits += 1\n",
    "            embedding_matrix[i] = embedding_vector\n",
    "        else:\n",
    "            misses += 1\n",
    "            misses_list.append(word)\n",
    "            \n",
    "    print(f\"Converted {hits} words, and couldn't find {misses} words\")\n",
    "    print(f\"Missing words: {misses_list}\")\n",
    "            \n",
    "    return embedding_matrix"
   ]
  },
  {
   "cell_type": "markdown",
   "id": "d537747c-52d5-4a48-9591-79a4041d57c5",
   "metadata": {},
   "source": [
    "### Définissons les `fonctions et paramètres commun` à l'entrainement des différents modèles que l'on veut tester"
   ]
  },
  {
   "cell_type": "code",
   "execution_count": 12,
   "id": "79d6b97a-279f-434d-9c56-e32e9c7421a9",
   "metadata": {},
   "outputs": [],
   "source": [
    "# DagsHub \n",
    "\n",
    "def save_hyperparameters_to_dagshub(dlogger, model_name, archi_desc, layers, batch_size, sample_size):    \n",
    "    dlogger.log_hyperparams(model_name=model_name)\n",
    "    dlogger.log_hyperparams(archi_desc=archi_desc)\n",
    "    dlogger.log_hyperparams(layers=layers)\n",
    "    dlogger.log_hyperparams(batch_size=batch_size)\n",
    "    dlogger.log_hyperparams(sample_size=sample_size)\n",
    "    \n",
    "def save_metrics_to_dagshub(dlogger, scores, best_threshold, history, step_num=1000, close=True):\n",
    "    dlogger.log_metrics(scores, step_num=step_num)\n",
    "    dlogger.log_metrics(best_threshold=best_threshold, step_num=step_num)\n",
    "    add_scores_to_dagshub(dlogger, history)\n",
    "\n",
    "def get_layers_for_dagshub(model):\n",
    "    \n",
    "    layers_infos = []\n",
    "    \n",
    "    def search(layer):\n",
    "        layer = dict(layer)\n",
    "        \n",
    "        nonlocal layers_infos\n",
    "        \n",
    "        if 'config' in layer:\n",
    "    \n",
    "            #if 'name' in layer['config']:\n",
    "            #    print(\" name:\", layer['config']['name'])\n",
    "            conf = {}\n",
    "            if 'units' in layer['config']:\n",
    "                conf[\"units\"] = layer['config']['units']\n",
    "            if 'output_dim' in layer['config']:\n",
    "                conf['output_dim'] = layer['config']['output_dim']\n",
    "            if 'rate' in layer['config']:\n",
    "                conf['rate'] = layer['config']['rate']\n",
    "            \n",
    "            layers_infos.append((layer['class_name'], conf))\n",
    "            \n",
    "            if 'layer' in layer['config']:\n",
    "                search(layer['config']['layer'])\n",
    "        \n",
    "    for layer in model.get_config()['layers']:\n",
    "        search(layer)\n",
    "        \n",
    "    return layers_infos\n",
    "\n",
    "\n",
    "def add_scores_to_dagshub(dlogger, history):\n",
    "    for epoch, loss, accuracy, val_loss, val_accuracy in zip(\n",
    "        history.epoch, \n",
    "        history.history['loss'], \n",
    "        history.history['accuracy'], \n",
    "        history.history['val_loss'], \n",
    "        history.history['val_accuracy']):\n",
    "        scores = {\n",
    "            'loss':loss, \n",
    "            'accuracy':accuracy, \n",
    "            'val_loss':val_loss, \n",
    "            'val_accuracy':val_accuracy\n",
    "        }\n",
    "        dlogger.log_metrics(scores, step_num=epoch) "
   ]
  },
  {
   "cell_type": "code",
   "execution_count": 13,
   "id": "8f2d2891-4752-48cb-816f-2f5b78ab7158",
   "metadata": {
    "tags": []
   },
   "outputs": [],
   "source": [
    "def summarize_diagnostics(history):\n",
    "    \n",
    "    figure = plt.figure(figsize=(8,8))\n",
    "            \n",
    "    # plot loss\n",
    "    plt.subplot(211)\n",
    "    plt.title('Cross Entropy Loss')\n",
    "    plt.plot(history.history['loss'], color='blue', label='train')\n",
    "    plt.plot(history.history['val_loss'], color='orange', label='val')\n",
    "    plt.legend()\n",
    "    \n",
    "    # plot accuracy\n",
    "    plt.subplot(212)\n",
    "    plt.title('Classification Accuracy')\n",
    "    plt.plot(history.history['accuracy'], color='blue', label='train')\n",
    "    plt.plot(history.history['val_accuracy'], color='orange', label='val')\n",
    "    plt.legend()\n",
    "    \n",
    "    # save plot to file\n",
    "    #filename = sys.argv[0].split('/')[-1]\n",
    "    #plt.savefig(filename + '_plot.png')\n",
    "    #plt.close()\n",
    "    \n",
    "    plt.tight_layout(pad=1.0)"
   ]
  },
  {
   "cell_type": "code",
   "execution_count": 14,
   "id": "99c500ae-5174-444c-a86f-c304bed11c80",
   "metadata": {
    "tags": []
   },
   "outputs": [],
   "source": [
    "from keras import layers\n",
    "from keras.callbacks import EarlyStopping, ModelCheckpoint, Callback, ReduceLROnPlateau\n",
    "\n",
    "def init_callbacks(model_name):\n",
    "\n",
    "    # Define savepoints\n",
    "    filepath = pathlib.Path(\"models\", f\"{model_name}.keras\")\n",
    "\n",
    "    checkpoint = ModelCheckpoint(\n",
    "        monitor=\"val_accuracy\",\n",
    "        mode=\"max\",\n",
    "        filepath=filepath,\n",
    "        save_best_only=True,\n",
    "        verbose=1,\n",
    "    )\n",
    "\n",
    "    # Define EarlyStopping conditions\n",
    "    es = EarlyStopping(\n",
    "        monitor='val_loss', # 'binary_accuracy'\n",
    "        mode='min', # 'max'\n",
    "        patience=5,\n",
    "        min_delta=0.01, \n",
    "        restore_best_weights=True, \n",
    "        verbose=1,\n",
    "    )\n",
    "    \n",
    "    return [checkpoint, es]"
   ]
  },
  {
   "cell_type": "code",
   "execution_count": 15,
   "id": "01bab464-216b-401b-b027-598348f893cc",
   "metadata": {
    "tags": []
   },
   "outputs": [],
   "source": [
    "batch_size=1024"
   ]
  },
  {
   "cell_type": "markdown",
   "id": "4a11b2df-2daa-499a-aba6-079a88e72a22",
   "metadata": {},
   "source": [
    "### Divisons le jeu de données en `Train`, `Valid` et `Test` sets"
   ]
  },
  {
   "cell_type": "code",
   "execution_count": 16,
   "id": "8b459507-ebb3-401b-bc9f-9c4cd7787ac7",
   "metadata": {
    "tags": []
   },
   "outputs": [
    {
     "name": "stdout",
     "output_type": "stream",
     "text": [
      "X_train: (60000,) + X_valid: (20000,) + X_test: (20000,)\n",
      "y_train: (60000,) + y_valid: (20000,) + y_test: (20000,)\n"
     ]
    }
   ],
   "source": [
    "X_train_full, X_test, y_train_full, y_test = train_test_split(data_work['text'], data_work['target'], test_size=0.2, random_state=random_seed, stratify=data_work['target'])\n",
    "X_train, X_valid, y_train, y_valid = train_test_split(X_train_full, y_train_full, test_size=X_test.shape[0], random_state=random_seed, stratify=y_train_full)\n",
    "\n",
    "assert X_train.shape[0] + X_valid.shape[0] + X_test.shape[0] == data_work.shape[0]\n",
    "assert y_train.shape[0] + y_valid.shape[0] + y_test.shape[0] == data_work.shape[0]\n",
    "\n",
    "print(f\"X_train: {X_train.shape} + X_valid: {X_valid.shape} + X_test: {X_test.shape}\")\n",
    "print(f\"y_train: {X_train.shape} + y_valid: {X_valid.shape} + y_test: {X_test.shape}\")"
   ]
  },
  {
   "cell_type": "markdown",
   "id": "b8de991b-fc01-42c4-b45a-ee91acea540a",
   "metadata": {},
   "source": [
    "### Préparons les différentes version du text_vectorizer que l'on veut tester"
   ]
  },
  {
   "cell_type": "code",
   "execution_count": 17,
   "id": "2e1ad08d-f920-47d9-8467-41aaa5427772",
   "metadata": {},
   "outputs": [
    {
     "name": "stderr",
     "output_type": "stream",
     "text": [
      "2022-08-08 21:48:27.288742: I tensorflow/core/platform/cpu_feature_guard.cc:193] This TensorFlow binary is optimized with oneAPI Deep Neural Network Library (oneDNN) to use the following CPU instructions in performance-critical operations:  AVX2 FMA\n",
      "To enable them in other operations, rebuild TensorFlow with the appropriate compiler flags.\n"
     ]
    }
   ],
   "source": [
    "text_dataset = tf.data.Dataset.from_tensor_slices(list(data_work.text)) "
   ]
  },
  {
   "cell_type": "code",
   "execution_count": 18,
   "id": "d94f0688-99b7-44ad-986c-2708fefe7429",
   "metadata": {
    "tags": []
   },
   "outputs": [],
   "source": [
    "text_vectorization0 = TextVectorization(\n",
    "    output_mode='int', # int, multi_hot, count, tf_idf\n",
    "    max_tokens=20000,\n",
    "    ngrams=2,\n",
    "    output_sequence_length=79 # search the max size by default\n",
    ")"
   ]
  },
  {
   "cell_type": "code",
   "execution_count": 19,
   "id": "1783c55f-be61-4518-8dc0-ed48485d4bb9",
   "metadata": {
    "tags": []
   },
   "outputs": [],
   "source": [
    "text_vectorization0.adapt(text_dataset.batch(batch_size), True)"
   ]
  },
  {
   "cell_type": "code",
   "execution_count": 20,
   "id": "2b190c52-a04d-4fbd-a5b0-c2720663db90",
   "metadata": {
    "tags": []
   },
   "outputs": [],
   "source": [
    "text_vectorization1 = TextVectorization(\n",
    "    output_mode='multi_hot', # int, multi_hot, count, tf_idf\n",
    "    max_tokens=20000,\n",
    "    ngrams=1,\n",
    "    # output_sequence_length=60 # search the max size by default\n",
    ")"
   ]
  },
  {
   "cell_type": "code",
   "execution_count": 21,
   "id": "5cbc6553-2739-4dc7-a49e-7562df1c05c9",
   "metadata": {
    "tags": []
   },
   "outputs": [],
   "source": [
    "text_vectorization1.adapt(text_dataset.batch(batch_size), True)"
   ]
  },
  {
   "cell_type": "code",
   "execution_count": 22,
   "id": "ef3ec282-de84-4f2e-8fc9-a2dc18eaff8a",
   "metadata": {
    "tags": []
   },
   "outputs": [],
   "source": [
    "text_vectorization2 = TextVectorization(\n",
    "    output_mode='multi_hot', # int, multi_hot, count, tf_idf\n",
    "    max_tokens=20000,\n",
    "    ngrams=2,\n",
    "    # output_sequence_length=60 # search the max size by default\n",
    ")"
   ]
  },
  {
   "cell_type": "code",
   "execution_count": 23,
   "id": "1d02a71c-5c2b-4d9b-8e26-8cb01f458d56",
   "metadata": {
    "tags": []
   },
   "outputs": [],
   "source": [
    "text_vectorization2.adapt(text_dataset.batch(batch_size), True)"
   ]
  },
  {
   "cell_type": "code",
   "execution_count": 24,
   "id": "ecb152b5-2a68-4970-b30e-dace3e6ad1eb",
   "metadata": {
    "tags": []
   },
   "outputs": [],
   "source": [
    "text_vectorization3 = TextVectorization(\n",
    "    output_mode='count', # int, multi_hot, count, tf_idf\n",
    "    max_tokens=20000,\n",
    "    ngrams=2,\n",
    "    # output_sequence_length=60 # search the max size by default\n",
    ")"
   ]
  },
  {
   "cell_type": "code",
   "execution_count": 25,
   "id": "e794cfc7-6483-4b8a-bc93-6fdeb1e683f9",
   "metadata": {
    "tags": []
   },
   "outputs": [],
   "source": [
    "text_vectorization3.adapt(text_dataset.batch(batch_size), True)"
   ]
  },
  {
   "cell_type": "code",
   "execution_count": 26,
   "id": "424ce16f-1693-41d7-bef4-6ce8ca5c2395",
   "metadata": {
    "tags": []
   },
   "outputs": [],
   "source": [
    "text_vectorization4 = TextVectorization(\n",
    "    output_mode='tf_idf', # int, multi_hot, count, tf_idf\n",
    "    max_tokens=20000,\n",
    "    ngrams=2,\n",
    "    # output_sequence_length=60 # search the max size by default\n",
    ")"
   ]
  },
  {
   "cell_type": "code",
   "execution_count": 27,
   "id": "4055a083-99d1-43b1-814b-3c6b832738ff",
   "metadata": {},
   "outputs": [],
   "source": [
    "text_vectorization4.adapt(text_dataset.batch(batch_size), True)"
   ]
  },
  {
   "cell_type": "code",
   "execution_count": 28,
   "id": "308a72b9-3422-4bf4-9030-9a89b04ddc11",
   "metadata": {
    "tags": []
   },
   "outputs": [],
   "source": [
    "max_length = 60\n",
    "max_tokens = 20000\n",
    "\n",
    "text_vectorizationBng2= TextVectorization(\n",
    "    output_mode='int', # int, multi_hot, count, tf_idf\n",
    "    max_tokens=max_tokens,\n",
    "    ngrams=2,\n",
    "    output_sequence_length=max_length # search the max size by default\n",
    ")"
   ]
  },
  {
   "cell_type": "code",
   "execution_count": 29,
   "id": "3a330270-0b70-4235-bb8e-1ca24932f6f7",
   "metadata": {
    "tags": []
   },
   "outputs": [],
   "source": [
    "text_vectorizationBng2.adapt(text_dataset.batch(batch_size), True)"
   ]
  },
  {
   "cell_type": "code",
   "execution_count": 30,
   "id": "bad5775e-c4cf-4439-9de8-512d6399a4de",
   "metadata": {
    "tags": []
   },
   "outputs": [],
   "source": [
    "max_length = 60\n",
    "max_tokens = 20000\n",
    "\n",
    "text_vectorizationBng1= TextVectorization(\n",
    "    output_mode='int', # int, multi_hot, count, tf_idf\n",
    "    max_tokens=max_tokens,\n",
    "    ngrams=1,\n",
    "    output_sequence_length=max_length # search the max size by default\n",
    ")"
   ]
  },
  {
   "cell_type": "code",
   "execution_count": 31,
   "id": "e41bb822-adf9-44e3-9831-665c5c3f7d9e",
   "metadata": {
    "tags": []
   },
   "outputs": [],
   "source": [
    "\n",
    "text_vectorizationBng1.adapt(text_dataset.batch(batch_size), True)"
   ]
  },
  {
   "cell_type": "markdown",
   "id": "88ac9da9-351c-4d62-8451-93ba7a9260b5",
   "metadata": {},
   "source": [
    "---\n",
    "---\n",
    "# 2. Recherche de l'`embedding` le plus adapté avec des modèles `Bag of words` ou `Bag of N-gram` <a class=\"anchor\" id=\"EMBEDDING_BOW\"></a> [⇪](#menu)"
   ]
  },
  {
   "cell_type": "markdown",
   "id": "d132304f-03ae-4917-8a9e-9b638735c015",
   "metadata": {
    "tags": []
   },
   "source": [
    "---\n",
    "## 2.1 `EMB-A0` NN | Ngram=2 | int <a class=\"anchor\" id=\"EMBEDDING_BOW_A0\"></a> [⇪](#menu)"
   ]
  },
  {
   "cell_type": "markdown",
   "id": "4134f2fe-96d6-4ddf-b695-12f13521c994",
   "metadata": {},
   "source": [
    "### Standardize & Tokenize"
   ]
  },
  {
   "cell_type": "code",
   "execution_count": 32,
   "id": "b18c6f2d-782a-496b-8515-5dc0f7c377d5",
   "metadata": {
    "tags": []
   },
   "outputs": [
    {
     "name": "stdout",
     "output_type": "stream",
     "text": [
      "['', '[UNK]', 'i', 'be', 'to', 'the', 'a', 'not', 'my', 'and', 'it', 'you', 'have', 'do', 'for', 'in', 'i be', 'go', 'of', 'that'] ...\n"
     ]
    }
   ],
   "source": [
    "# Done before\n",
    "print(text_vectorization0.get_vocabulary()[:20], \"...\")"
   ]
  },
  {
   "cell_type": "markdown",
   "id": "3b7c9503-6704-4d12-85f3-bd46b968ce03",
   "metadata": {},
   "source": [
    "### Prepare dataset"
   ]
  },
  {
   "cell_type": "code",
   "execution_count": 33,
   "id": "1ef8a7b6-d6f5-4b66-bc40-a8697e130cad",
   "metadata": {
    "tags": []
   },
   "outputs": [],
   "source": [
    "X_train_ready = text_vectorization0(X_train)\n",
    "X_valid_ready = text_vectorization0(X_valid)\n",
    "X_test_ready = text_vectorization0(X_test)"
   ]
  },
  {
   "cell_type": "code",
   "execution_count": 34,
   "id": "13c4a8a6-b479-4f62-be80-d284e697c8aa",
   "metadata": {
    "tags": []
   },
   "outputs": [
    {
     "data": {
      "text/plain": [
       "888559               dh way too crazy ... I need a xanax ..\n",
       "500657    I too ... bur with engineering imma be here 5 ...\n",
       "Name: text, dtype: object"
      ]
     },
     "execution_count": 34,
     "metadata": {},
     "output_type": "execute_result"
    }
   ],
   "source": [
    "X_train[:2]"
   ]
  },
  {
   "cell_type": "code",
   "execution_count": 35,
   "id": "526464fe-7f50-414c-807f-0c9d4b43f213",
   "metadata": {
    "tags": []
   },
   "outputs": [
    {
     "data": {
      "text/plain": [
       "<tf.Tensor: shape=(2, 79), dtype=int64, numpy=\n",
       "array([[11160,   154,    54,   652,     2,    89,     6,     1,     1,\n",
       "         2155,     1,  8016,   210,   598,     1,     0,     0,     0,\n",
       "            0,     0,     0,     0,     0,     0,     0,     0,     0,\n",
       "            0,     0,     0,     0,     0,     0,     0,     0,     0,\n",
       "            0,     0,     0,     0,     0,     0,     0,     0,     0,\n",
       "            0,     0,     0,     0,     0,     0,     0,     0,     0,\n",
       "            0,     0,     0,     0,     0,     0,     0,     0,     0,\n",
       "            0,     0,     0,     0,     0,     0,     0,     0,     0,\n",
       "            0,     0,     0,     0,     0,     0,     0],\n",
       "       [    2,    54,     1,    26,     1,  2574,     3,   104,   382,\n",
       "         1806,   874,   886,     1,     1,     1,     1,     1,   762,\n",
       "            1,     1,     1,     0,     0,     0,     0,     0,     0,\n",
       "            0,     0,     0,     0,     0,     0,     0,     0,     0,\n",
       "            0,     0,     0,     0,     0,     0,     0,     0,     0,\n",
       "            0,     0,     0,     0,     0,     0,     0,     0,     0,\n",
       "            0,     0,     0,     0,     0,     0,     0,     0,     0,\n",
       "            0,     0,     0,     0,     0,     0,     0,     0,     0,\n",
       "            0,     0,     0,     0,     0,     0,     0]])>"
      ]
     },
     "execution_count": 35,
     "metadata": {},
     "output_type": "execute_result"
    }
   ],
   "source": [
    "X_train_ready[:2]"
   ]
  },
  {
   "cell_type": "markdown",
   "id": "f9ed7cfb-b0b6-4d68-80ae-dd9664b5bf23",
   "metadata": {},
   "source": [
    "### Define model"
   ]
  },
  {
   "cell_type": "code",
   "execution_count": 36,
   "id": "d56858ca-0496-4880-b2a8-fc2d1e81c079",
   "metadata": {
    "tags": []
   },
   "outputs": [],
   "source": [
    "model_name = \"EmbedA0\"\n",
    "model, archi_desc = architecture001(\"adam\", \"binary_crossentropy\", ['accuracy'], X_train_ready[:0].shape[1])\n",
    "archi_desc = \"No Embedding + Bigrams | \" + archi_desc"
   ]
  },
  {
   "cell_type": "code",
   "execution_count": 37,
   "id": "34b9e509-a0e4-4081-ab5f-f96827824d62",
   "metadata": {
    "tags": []
   },
   "outputs": [
    {
     "name": "stdout",
     "output_type": "stream",
     "text": [
      "Model: \"model\"\n",
      "_________________________________________________________________\n",
      " Layer (type)                Output Shape              Param #   \n",
      "=================================================================\n",
      " input_1 (InputLayer)        [(None, 79)]              0         \n",
      "                                                                 \n",
      " dense (Dense)               (None, 16)                1280      \n",
      "                                                                 \n",
      " dropout (Dropout)           (None, 16)                0         \n",
      "                                                                 \n",
      " predictions (Dense)         (None, 1)                 17        \n",
      "                                                                 \n",
      "=================================================================\n",
      "Total params: 1,297\n",
      "Trainable params: 1,297\n",
      "Non-trainable params: 0\n",
      "_________________________________________________________________\n"
     ]
    }
   ],
   "source": [
    "model.summary()"
   ]
  },
  {
   "cell_type": "markdown",
   "id": "70209976-c263-47a5-a26a-1f0ae7e7b3a9",
   "metadata": {},
   "source": [
    "#### Définissons un logger DagsHub pour enregistrer notre essai"
   ]
  },
  {
   "cell_type": "code",
   "execution_count": 38,
   "id": "5061cc8e-3fcf-4f1e-96a7-1043089d51cc",
   "metadata": {},
   "outputs": [],
   "source": [
    "dagslogger = DAGsHubLogger()"
   ]
  },
  {
   "cell_type": "code",
   "execution_count": 39,
   "id": "7885e2b4-992a-440e-b380-0f5e327788cb",
   "metadata": {},
   "outputs": [],
   "source": [
    "save_hyperparameters_to_dagshub(dagslogger, model_name, archi_desc, get_layers_for_dagshub(model), batch_size, data_work.shape[0])"
   ]
  },
  {
   "cell_type": "markdown",
   "id": "46b6fa98-54c7-44e1-ae5e-8b8d0ecf5e74",
   "metadata": {},
   "source": [
    "### Train model"
   ]
  },
  {
   "cell_type": "code",
   "execution_count": 40,
   "id": "63ef1ccf-56d8-42b3-bf57-e3420c9883b3",
   "metadata": {
    "tags": []
   },
   "outputs": [
    {
     "name": "stdout",
     "output_type": "stream",
     "text": [
      "Epoch 1/50\n",
      "51/59 [========================>.....] - ETA: 0s - loss: 1080.4668 - accuracy: 0.4981\n",
      "Epoch 1: val_accuracy improved from -inf to 0.49435, saving model to models/EmbedA0.keras\n",
      "59/59 [==============================] - 1s 7ms/step - loss: 1036.2001 - accuracy: 0.4967 - val_loss: 402.5112 - val_accuracy: 0.4943\n",
      "Epoch 2/50\n",
      "57/59 [===========================>..] - ETA: 0s - loss: 448.6161 - accuracy: 0.5021\n",
      "Epoch 2: val_accuracy improved from 0.49435 to 0.49870, saving model to models/EmbedA0.keras\n",
      "59/59 [==============================] - 0s 4ms/step - loss: 444.0706 - accuracy: 0.5020 - val_loss: 187.9163 - val_accuracy: 0.4987\n",
      "Epoch 3/50\n",
      "58/59 [============================>.] - ETA: 0s - loss: 184.3248 - accuracy: 0.5016\n",
      "Epoch 3: val_accuracy improved from 0.49870 to 0.49975, saving model to models/EmbedA0.keras\n",
      "59/59 [==============================] - 0s 4ms/step - loss: 183.4619 - accuracy: 0.5017 - val_loss: 83.9152 - val_accuracy: 0.4997\n",
      "Epoch 4/50\n",
      "59/59 [==============================] - ETA: 0s - loss: 71.9338 - accuracy: 0.5037\n",
      "Epoch 4: val_accuracy did not improve from 0.49975\n",
      "59/59 [==============================] - 0s 4ms/step - loss: 71.9338 - accuracy: 0.5037 - val_loss: 37.0995 - val_accuracy: 0.4956\n",
      "Epoch 5/50\n",
      "42/59 [====================>.........] - ETA: 0s - loss: 33.5876 - accuracy: 0.5033\n",
      "Epoch 5: val_accuracy improved from 0.49975 to 0.50550, saving model to models/EmbedA0.keras\n",
      "59/59 [==============================] - 0s 4ms/step - loss: 30.2753 - accuracy: 0.5042 - val_loss: 17.7024 - val_accuracy: 0.5055\n",
      "Epoch 6/50\n",
      "57/59 [===========================>..] - ETA: 0s - loss: 13.9500 - accuracy: 0.5052\n",
      "Epoch 6: val_accuracy improved from 0.50550 to 0.50595, saving model to models/EmbedA0.keras\n",
      "59/59 [==============================] - 0s 4ms/step - loss: 13.8404 - accuracy: 0.5054 - val_loss: 9.1372 - val_accuracy: 0.5059\n",
      "Epoch 7/50\n",
      "39/59 [==================>...........] - ETA: 0s - loss: 8.1849 - accuracy: 0.5063\n",
      "Epoch 7: val_accuracy did not improve from 0.50595\n",
      "59/59 [==============================] - 0s 3ms/step - loss: 7.3685 - accuracy: 0.5030 - val_loss: 5.4050 - val_accuracy: 0.5017\n",
      "Epoch 8/50\n",
      "58/59 [============================>.] - ETA: 0s - loss: 4.1418 - accuracy: 0.5032\n",
      "Epoch 8: val_accuracy did not improve from 0.50595\n",
      "59/59 [==============================] - 0s 4ms/step - loss: 4.1207 - accuracy: 0.5029 - val_loss: 3.5498 - val_accuracy: 0.5056\n",
      "Epoch 9/50\n",
      "59/59 [==============================] - ETA: 0s - loss: 2.9901 - accuracy: 0.5011\n",
      "Epoch 9: val_accuracy did not improve from 0.50595\n",
      "59/59 [==============================] - 0s 4ms/step - loss: 2.9901 - accuracy: 0.5011 - val_loss: 2.5546 - val_accuracy: 0.4988\n",
      "Epoch 10/50\n",
      "58/59 [============================>.] - ETA: 0s - loss: 2.1687 - accuracy: 0.5045\n",
      "Epoch 10: val_accuracy improved from 0.50595 to 0.51380, saving model to models/EmbedA0.keras\n",
      "59/59 [==============================] - 0s 4ms/step - loss: 2.1698 - accuracy: 0.5044 - val_loss: 2.0043 - val_accuracy: 0.5138\n",
      "Epoch 11/50\n",
      "57/59 [===========================>..] - ETA: 0s - loss: 1.8026 - accuracy: 0.5026\n",
      "Epoch 11: val_accuracy did not improve from 0.51380\n",
      "59/59 [==============================] - 0s 4ms/step - loss: 1.7998 - accuracy: 0.5026 - val_loss: 1.6446 - val_accuracy: 0.5027\n",
      "Epoch 12/50\n",
      "44/59 [=====================>........] - ETA: 0s - loss: 1.3422 - accuracy: 0.4986\n",
      "Epoch 12: val_accuracy did not improve from 0.51380\n",
      "59/59 [==============================] - 0s 5ms/step - loss: 1.3243 - accuracy: 0.4993 - val_loss: 1.4396 - val_accuracy: 0.5046\n",
      "Epoch 13/50\n",
      "55/59 [==========================>...] - ETA: 0s - loss: 1.3215 - accuracy: 0.5018\n",
      "Epoch 13: val_accuracy did not improve from 0.51380\n",
      "59/59 [==============================] - 0s 4ms/step - loss: 1.3163 - accuracy: 0.5008 - val_loss: 1.2732 - val_accuracy: 0.4965\n",
      "Epoch 14/50\n",
      "59/59 [==============================] - ETA: 0s - loss: 1.1128 - accuracy: 0.5017\n",
      "Epoch 14: val_accuracy did not improve from 0.51380\n",
      "59/59 [==============================] - 0s 4ms/step - loss: 1.1128 - accuracy: 0.5017 - val_loss: 1.1738 - val_accuracy: 0.4979\n",
      "Epoch 15/50\n",
      "40/59 [===================>..........] - ETA: 0s - loss: 1.0863 - accuracy: 0.5004\n",
      "Epoch 15: val_accuracy did not improve from 0.51380\n",
      "59/59 [==============================] - 0s 4ms/step - loss: 1.0840 - accuracy: 0.5025 - val_loss: 1.0860 - val_accuracy: 0.4987\n",
      "Epoch 16/50\n",
      "41/59 [===================>..........] - ETA: 0s - loss: 0.9728 - accuracy: 0.4999\n",
      "Epoch 16: val_accuracy did not improve from 0.51380\n",
      "59/59 [==============================] - 0s 4ms/step - loss: 0.9292 - accuracy: 0.5018 - val_loss: 1.0436 - val_accuracy: 0.5087\n",
      "Epoch 17/50\n",
      "40/59 [===================>..........] - ETA: 0s - loss: 0.9117 - accuracy: 0.5003\n",
      "Epoch 17: val_accuracy did not improve from 0.51380\n",
      "59/59 [==============================] - 0s 4ms/step - loss: 0.9271 - accuracy: 0.4998 - val_loss: 0.9817 - val_accuracy: 0.5107\n",
      "Epoch 18/50\n",
      "42/59 [====================>.........] - ETA: 0s - loss: 0.9067 - accuracy: 0.5001\n",
      "Epoch 18: val_accuracy did not improve from 0.51380\n",
      "59/59 [==============================] - 0s 3ms/step - loss: 0.8975 - accuracy: 0.5012 - val_loss: 0.9397 - val_accuracy: 0.4936\n",
      "Epoch 19/50\n",
      "41/59 [===================>..........] - ETA: 0s - loss: 0.8316 - accuracy: 0.4976\n",
      "Epoch 19: val_accuracy did not improve from 0.51380\n",
      "59/59 [==============================] - 0s 4ms/step - loss: 0.8297 - accuracy: 0.4986 - val_loss: 0.9283 - val_accuracy: 0.4988\n",
      "Epoch 20/50\n",
      "56/59 [===========================>..] - ETA: 0s - loss: 0.8471 - accuracy: 0.5026\n",
      "Epoch 20: val_accuracy did not improve from 0.51380\n",
      "59/59 [==============================] - 0s 4ms/step - loss: 0.8455 - accuracy: 0.5027 - val_loss: 0.8955 - val_accuracy: 0.4985\n",
      "Epoch 21/50\n",
      "41/59 [===================>..........] - ETA: 0s - loss: 0.7855 - accuracy: 0.4999\n",
      "Epoch 21: val_accuracy did not improve from 0.51380\n",
      "59/59 [==============================] - 0s 3ms/step - loss: 0.7991 - accuracy: 0.5021 - val_loss: 0.8911 - val_accuracy: 0.4919\n",
      "Epoch 22/50\n",
      "56/59 [===========================>..] - ETA: 0s - loss: 0.7887 - accuracy: 0.4975\n",
      "Epoch 22: val_accuracy did not improve from 0.51380\n",
      "59/59 [==============================] - 0s 4ms/step - loss: 0.7897 - accuracy: 0.4974 - val_loss: 0.8619 - val_accuracy: 0.5044\n",
      "Epoch 23/50\n",
      "41/59 [===================>..........] - ETA: 0s - loss: 0.7649 - accuracy: 0.4975\n",
      "Epoch 23: val_accuracy did not improve from 0.51380\n",
      "59/59 [==============================] - 0s 4ms/step - loss: 0.7601 - accuracy: 0.4986 - val_loss: 0.8514 - val_accuracy: 0.5041\n",
      "Epoch 24/50\n",
      "58/59 [============================>.] - ETA: 0s - loss: 0.7508 - accuracy: 0.4989\n",
      "Epoch 24: val_accuracy did not improve from 0.51380\n",
      "59/59 [==============================] - 0s 4ms/step - loss: 0.7503 - accuracy: 0.4988 - val_loss: 0.8538 - val_accuracy: 0.5033\n",
      "Epoch 25/50\n",
      "41/59 [===================>..........] - ETA: 0s - loss: 0.7746 - accuracy: 0.5002\n",
      "Epoch 25: val_accuracy did not improve from 0.51380\n",
      "59/59 [==============================] - 0s 3ms/step - loss: 0.7655 - accuracy: 0.4997 - val_loss: 0.8329 - val_accuracy: 0.4836\n",
      "Epoch 26/50\n",
      "55/59 [==========================>...] - ETA: 0s - loss: 0.7473 - accuracy: 0.4971\n",
      "Epoch 26: val_accuracy did not improve from 0.51380\n",
      "59/59 [==============================] - 0s 4ms/step - loss: 0.7450 - accuracy: 0.4977 - val_loss: 0.8286 - val_accuracy: 0.4936\n",
      "Epoch 27/50\n",
      "54/59 [==========================>...] - ETA: 0s - loss: 0.7511 - accuracy: 0.4999\n",
      "Epoch 27: val_accuracy did not improve from 0.51380\n",
      "59/59 [==============================] - 0s 4ms/step - loss: 0.7505 - accuracy: 0.5006 - val_loss: 0.8183 - val_accuracy: 0.5048\n",
      "Epoch 28/50\n",
      "44/59 [=====================>........] - ETA: 0s - loss: 0.7364 - accuracy: 0.5001\n",
      "Epoch 28: val_accuracy did not improve from 0.51380\n",
      "59/59 [==============================] - 0s 3ms/step - loss: 0.7274 - accuracy: 0.5001 - val_loss: 0.8078 - val_accuracy: 0.5048\n",
      "Epoch 29/50\n",
      "58/59 [============================>.] - ETA: 0s - loss: 0.7240 - accuracy: 0.5022\n",
      "Epoch 29: val_accuracy did not improve from 0.51380\n",
      "59/59 [==============================] - 0s 4ms/step - loss: 0.7237 - accuracy: 0.5020 - val_loss: 0.8029 - val_accuracy: 0.5004\n",
      "Epoch 30/50\n",
      "54/59 [==========================>...] - ETA: 0s - loss: 0.7243 - accuracy: 0.5007\n",
      "Epoch 30: val_accuracy did not improve from 0.51380\n",
      "59/59 [==============================] - 0s 4ms/step - loss: 0.7242 - accuracy: 0.5005 - val_loss: 0.7916 - val_accuracy: 0.5009\n",
      "Epoch 31/50\n",
      "50/59 [========================>.....] - ETA: 0s - loss: 0.7220 - accuracy: 0.5001\n",
      "Epoch 31: val_accuracy did not improve from 0.51380\n",
      "59/59 [==============================] - 0s 6ms/step - loss: 0.7251 - accuracy: 0.4983 - val_loss: 0.7921 - val_accuracy: 0.5004\n",
      "Epoch 32/50\n",
      "51/59 [========================>.....] - ETA: 0s - loss: 0.7275 - accuracy: 0.4996\n",
      "Epoch 32: val_accuracy did not improve from 0.51380\n",
      "59/59 [==============================] - 0s 4ms/step - loss: 0.7241 - accuracy: 0.5000 - val_loss: 0.7796 - val_accuracy: 0.4903\n",
      "Epoch 33/50\n",
      "51/59 [========================>.....] - ETA: 0s - loss: 0.7236 - accuracy: 0.4975\n",
      "Epoch 33: val_accuracy did not improve from 0.51380\n",
      "59/59 [==============================] - 0s 4ms/step - loss: 0.7269 - accuracy: 0.4979 - val_loss: 0.7875 - val_accuracy: 0.4949\n",
      "Epoch 34/50\n",
      "56/59 [===========================>..] - ETA: 0s - loss: 0.7171 - accuracy: 0.4995\n",
      "Epoch 34: val_accuracy did not improve from 0.51380\n",
      "59/59 [==============================] - 0s 4ms/step - loss: 0.7168 - accuracy: 0.4995 - val_loss: 0.7709 - val_accuracy: 0.5058\n",
      "Epoch 35/50\n",
      "52/59 [=========================>....] - ETA: 0s - loss: 0.7140 - accuracy: 0.4990\n",
      "Epoch 35: val_accuracy did not improve from 0.51380\n",
      "59/59 [==============================] - 0s 4ms/step - loss: 0.7152 - accuracy: 0.4990 - val_loss: 0.7747 - val_accuracy: 0.4870\n",
      "Epoch 36/50\n",
      "55/59 [==========================>...] - ETA: 0s - loss: 0.7122 - accuracy: 0.4996\n",
      "Epoch 36: val_accuracy did not improve from 0.51380\n",
      "59/59 [==============================] - 0s 4ms/step - loss: 0.7118 - accuracy: 0.5007 - val_loss: 0.7696 - val_accuracy: 0.5022\n",
      "Epoch 37/50\n",
      "58/59 [============================>.] - ETA: 0s - loss: 0.7169 - accuracy: 0.4974\n",
      "Epoch 37: val_accuracy did not improve from 0.51380\n",
      "59/59 [==============================] - 0s 4ms/step - loss: 0.7169 - accuracy: 0.4976 - val_loss: 0.7704 - val_accuracy: 0.5030\n",
      "Epoch 38/50\n",
      "58/59 [============================>.] - ETA: 0s - loss: 0.7086 - accuracy: 0.4973\n",
      "Epoch 38: val_accuracy did not improve from 0.51380\n",
      "59/59 [==============================] - 0s 4ms/step - loss: 0.7085 - accuracy: 0.4972 - val_loss: 0.7805 - val_accuracy: 0.4882\n",
      "Epoch 39/50\n",
      "50/59 [========================>.....] - ETA: 0s - loss: 0.7101 - accuracy: 0.4979\n",
      "Epoch 39: val_accuracy did not improve from 0.51380\n",
      "59/59 [==============================] - 0s 4ms/step - loss: 0.7087 - accuracy: 0.4983 - val_loss: 0.7567 - val_accuracy: 0.4925\n",
      "Epoch 40/50\n",
      "54/59 [==========================>...] - ETA: 0s - loss: 0.7037 - accuracy: 0.4982\n",
      "Epoch 40: val_accuracy did not improve from 0.51380\n",
      "59/59 [==============================] - 0s 4ms/step - loss: 0.7036 - accuracy: 0.4983 - val_loss: 0.7636 - val_accuracy: 0.5027\n",
      "Epoch 41/50\n",
      "54/59 [==========================>...] - ETA: 0s - loss: 0.7067 - accuracy: 0.4989\n",
      "Epoch 41: val_accuracy did not improve from 0.51380\n",
      "59/59 [==============================] - 0s 4ms/step - loss: 0.7067 - accuracy: 0.4991 - val_loss: 0.7592 - val_accuracy: 0.5008\n",
      "Epoch 42/50\n",
      "56/59 [===========================>..] - ETA: 0s - loss: 0.7045 - accuracy: 0.4993\n",
      "Epoch 42: val_accuracy did not improve from 0.51380\n",
      "59/59 [==============================] - 0s 4ms/step - loss: 0.7046 - accuracy: 0.4989 - val_loss: 0.7593 - val_accuracy: 0.4881\n",
      "Epoch 43/50\n",
      "52/59 [=========================>....] - ETA: 0s - loss: 0.7035 - accuracy: 0.5002\n",
      "Epoch 43: val_accuracy did not improve from 0.51380\n",
      "59/59 [==============================] - 0s 4ms/step - loss: 0.7032 - accuracy: 0.5008 - val_loss: 0.7560 - val_accuracy: 0.4981\n",
      "Epoch 44/50\n",
      "58/59 [============================>.] - ETA: 0s - loss: 0.7042 - accuracy: 0.5002\n",
      "Epoch 44: val_accuracy did not improve from 0.51380\n",
      "Restoring model weights from the end of the best epoch: 39.\n",
      "59/59 [==============================] - 0s 4ms/step - loss: 0.7044 - accuracy: 0.4999 - val_loss: 0.7576 - val_accuracy: 0.4931\n",
      "Epoch 44: early stopping\n"
     ]
    }
   ],
   "source": [
    "t0 = time.perf_counter()\n",
    "history = model.fit(\n",
    "        x=X_train_ready, y=y_train, \n",
    "        validation_data=(X_test_ready, y_test), \n",
    "        epochs=50, \n",
    "        batch_size=batch_size, \n",
    "        callbacks=init_callbacks(f\"{model_name}\"),\n",
    "        verbose=1,\n",
    ")\n",
    "train_time = time.perf_counter() - t0"
   ]
  },
  {
   "cell_type": "markdown",
   "id": "aa004e2a-f21a-4b11-94a8-633eac085cbf",
   "metadata": {},
   "source": [
    "### Evaluate"
   ]
  },
  {
   "cell_type": "code",
   "execution_count": 41,
   "id": "88b4a7cc-2105-4ae7-a825-525d90563ae8",
   "metadata": {
    "tags": []
   },
   "outputs": [],
   "source": [
    "model = keras.models.load_model(f\"models/{model_name}.keras\")"
   ]
  },
  {
   "cell_type": "code",
   "execution_count": 42,
   "id": "5eb0c2a7-0d2b-48f8-b50f-a33863a52eb9",
   "metadata": {
    "tags": []
   },
   "outputs": [
    {
     "name": "stdout",
     "output_type": "stream",
     "text": [
      "625/625 [==============================] - 1s 1ms/step - loss: 2.0043 - accuracy: 0.5138\n"
     ]
    },
    {
     "data": {
      "text/plain": [
       "[2.004340410232544, 0.5138000249862671]"
      ]
     },
     "execution_count": 42,
     "metadata": {},
     "output_type": "execute_result"
    }
   ],
   "source": [
    "model.evaluate(X_test_ready, y_test)"
   ]
  },
  {
   "cell_type": "code",
   "execution_count": 43,
   "id": "7ac78581-1bfe-416f-9371-89b6947c9728",
   "metadata": {
    "tags": []
   },
   "outputs": [
    {
     "name": "stdout",
     "output_type": "stream",
     "text": [
      "1/1 [==============================] - 0s 76ms/step\n"
     ]
    },
    {
     "data": {
      "text/plain": [
       "array([[0.49982384],\n",
       "       [0.48310518]], dtype=float32)"
      ]
     },
     "execution_count": 43,
     "metadata": {},
     "output_type": "execute_result"
    }
   ],
   "source": [
    "raw_txt = tf.convert_to_tensor([\"I hate it\", \"I love it\"])\n",
    "raw_txt = text_vectorization0(raw_txt)\n",
    "model.predict(raw_txt)"
   ]
  },
  {
   "cell_type": "code",
   "execution_count": 44,
   "id": "64df4d36-766a-432e-9dee-c4ada3dc1322",
   "metadata": {
    "colab": {
     "base_uri": "https://localhost:8080/",
     "height": 1000
    },
    "executionInfo": {
     "elapsed": 746,
     "status": "ok",
     "timestamp": 1653231856185,
     "user": {
      "displayName": "Valkea",
      "userId": "01476199649418572392"
     },
     "user_tz": -120
    },
    "id": "81aba764-7f22-4ad1-b0ed-bc5b13f0b75e",
    "outputId": "e3c4ed78-a90b-46e0-baa0-c28f701f4414",
    "tags": []
   },
   "outputs": [
    {
     "name": "stdout",
     "output_type": "stream",
     "text": [
      "625/625 [==============================] - 1s 1ms/step\n",
      "----------------------------------------------------------------------------------------------------\n",
      "          These information are based on the best estimator of the above cross-validation           \n",
      "----------------------------------------------------------------------------------------------------\n",
      "\n",
      "--- EmbedA0 ----------------------------------------------------------------------------------------\n",
      "\n",
      "             ROC_AUC : 0.5150\n",
      "                  F1 : 0.5391\n",
      "            ACCURACY : 0.5138\n",
      "           PRECISION : 0.5124\n",
      "              RECALL : 0.5688\n",
      "   AVERAGE_PRECISION : 0.5077\n",
      "\n",
      "       TRAINING-TIME : 10.9206\n",
      "      INFERENCE-TIME : 0.9651\n",
      "\n",
      "--- Classification Report -------------------------------------------------------------------------- \n",
      "\n",
      "                 precision    recall  f1-score   support\n",
      "\n",
      "Prediction = 0       0.52      0.46      0.49     10000\n",
      "Prediction = 1       0.51      0.57      0.54     10000\n",
      "\n",
      "      accuracy                           0.51     20000\n",
      "     macro avg       0.51      0.51      0.51     20000\n",
      "  weighted avg       0.51      0.51      0.51     20000\n",
      "\n",
      "--- Confusion Matrix ------------------------------------------------------------------------------- \n",
      "\n"
     ]
    },
    {
     "data": {
      "image/png": "[encoded data removed]",
      "text/plain": [
       "<Figure size 432x432 with 2 Axes>"
      ]
     },
     "metadata": {
      "needs_background": "light"
     },
     "output_type": "display_data"
    },
    {
     "name": "stdout",
     "output_type": "stream",
     "text": [
      "--- ROC AUC ---------------------------------------------------------------------------------------- \n",
      "\n"
     ]
    },
    {
     "data": {
      "image/png": "[encoded data removed]",
      "text/plain": [
       "<Figure size 360x360 with 1 Axes>"
      ]
     },
     "metadata": {
      "needs_background": "light"
     },
     "output_type": "display_data"
    },
    {
     "name": "stdout",
     "output_type": "stream",
     "text": [
      "--- PRECISION RECALL AUC --------------------------------------------------------------------------- \n",
      "\n"
     ]
    },
    {
     "data": {
      "image/png": "[encoded data removed]",
      "text/plain": [
       "<Figure size 360x360 with 1 Axes>"
      ]
     },
     "metadata": {
      "needs_background": "light"
     },
     "output_type": "display_data"
    }
   ],
   "source": [
    "_ = get_scores(\n",
    "    model_name,\n",
    "    model=model,\n",
    "    X_ref=X_test_ready,\n",
    "    y_ref=y_test, \n",
    "    threshold=0.5,\n",
    "    # y_pred=y_preds, \n",
    "    # y_pred_proba=y_preds_proba, \n",
    "    training_time=train_time, \n",
    "    # inference_time=inf_time, \n",
    "    dagslogger=dagslogger,\n",
    "    register=True,\n",
    ")"
   ]
  },
  {
   "cell_type": "markdown",
   "id": "04d633c8-913d-4290-bcff-9494ee38177f",
   "metadata": {},
   "source": [
    "#### Trouvons le meilleur seuil de séparation pour les prédiction (sur la base du F1 score)"
   ]
  },
  {
   "cell_type": "code",
   "execution_count": 45,
   "id": "4cc2dc18-0b45-4d65-bbbf-967a1a45c5f8",
   "metadata": {},
   "outputs": [
    {
     "name": "stdout",
     "output_type": "stream",
     "text": [
      "625/625 [==============================] - 1s 1ms/step\n",
      "The best Accuracy score (0.5102) for this model is reached with a threshold of 0.514\n"
     ]
    }
   ],
   "source": [
    "acc_value, best_threshold = find_best_threshold(model, X_valid_ready, y_valid, accuracy_score)\n",
    "print(f\"The best Accuracy score ({acc_value}) for this model is reached with a threshold of {best_threshold}\")"
   ]
  },
  {
   "cell_type": "code",
   "execution_count": 46,
   "id": "7ad42564-32d5-4950-b119-c866ae9762e3",
   "metadata": {
    "colab": {
     "base_uri": "https://localhost:8080/",
     "height": 1000
    },
    "executionInfo": {
     "elapsed": 746,
     "status": "ok",
     "timestamp": 1653231856185,
     "user": {
      "displayName": "Valkea",
      "userId": "01476199649418572392"
     },
     "user_tz": -120
    },
    "id": "81aba764-7f22-4ad1-b0ed-bc5b13f0b75e",
    "outputId": "e3c4ed78-a90b-46e0-baa0-c28f701f4414",
    "tags": []
   },
   "outputs": [
    {
     "name": "stdout",
     "output_type": "stream",
     "text": [
      "625/625 [==============================] - 1s 1ms/step\n",
      "----------------------------------------------------------------------------------------------------\n",
      "          These information are based on the best estimator of the above cross-validation           \n",
      "----------------------------------------------------------------------------------------------------\n",
      "\n",
      "--- EmbedA0 [w. threshold] -------------------------------------------------------------------------\n",
      "\n",
      "             ROC_AUC : 0.5150\n",
      "                  F1 : 0.5004\n",
      "            ACCURACY : 0.5115\n",
      "           PRECISION : 0.5121\n",
      "              RECALL : 0.4893\n",
      "   AVERAGE_PRECISION : 0.5077\n",
      "\n",
      "       TRAINING-TIME : 10.9206\n",
      "      INFERENCE-TIME : 0.9399\n",
      "\n",
      "--- Classification Report -------------------------------------------------------------------------- \n",
      "\n",
      "                 precision    recall  f1-score   support\n",
      "\n",
      "Prediction = 0       0.51      0.53      0.52     10000\n",
      "Prediction = 1       0.51      0.49      0.50     10000\n",
      "\n",
      "      accuracy                           0.51     20000\n",
      "     macro avg       0.51      0.51      0.51     20000\n",
      "  weighted avg       0.51      0.51      0.51     20000\n",
      "\n",
      "--- Confusion Matrix ------------------------------------------------------------------------------- \n",
      "\n"
     ]
    },
    {
     "data": {
      "image/png": "[encoded data removed]",
      "text/plain": [
       "<Figure size 432x432 with 2 Axes>"
      ]
     },
     "metadata": {
      "needs_background": "light"
     },
     "output_type": "display_data"
    }
   ],
   "source": [
    "scores = get_scores(\n",
    "    f\"{model_name} [w. threshold]\",\n",
    "    model=model,\n",
    "    X_ref=X_test_ready,\n",
    "    y_ref=y_test, \n",
    "    threshold=best_threshold,\n",
    "    # y_pred=y_preds, \n",
    "    # y_pred_proba=y_preds_proba, \n",
    "    training_time=train_time, \n",
    "    # inference_time=inf_time, \n",
    "    dagslogger=dagslogger,\n",
    "    register=True,\n",
    "    show_roccurves=False,\n",
    ")"
   ]
  },
  {
   "cell_type": "markdown",
   "id": "3d63d585-70ce-40b4-96eb-861f3d69a530",
   "metadata": {},
   "source": [
    "#### Enregistrons les scores pour DagsHub"
   ]
  },
  {
   "cell_type": "code",
   "execution_count": 47,
   "id": "c4019ea6-c224-430b-a2f1-31e8b5738186",
   "metadata": {},
   "outputs": [],
   "source": [
    "save_metrics_to_dagshub(dagslogger, scores, best_threshold, history)\n",
    "dagslogger.save() \n",
    "dagslogger.close()"
   ]
  },
  {
   "cell_type": "markdown",
   "id": "8c459ae4-30a7-40b0-8116-999d0d755e9f",
   "metadata": {},
   "source": [
    "### Compare"
   ]
  },
  {
   "cell_type": "code",
   "execution_count": 48,
   "id": "93b8ed8b-3576-4748-823b-a1f4160a7f02",
   "metadata": {
    "tags": []
   },
   "outputs": [
    {
     "data": {
      "text/html": [
       "<div>\n",
       "<style scoped>\n",
       "    .dataframe tbody tr th:only-of-type {\n",
       "        vertical-align: middle;\n",
       "    }\n",
       "\n",
       "    .dataframe tbody tr th {\n",
       "        vertical-align: top;\n",
       "    }\n",
       "\n",
       "    .dataframe thead th {\n",
       "        text-align: right;\n",
       "    }\n",
       "</style>\n",
       "<table border=\"1\" class=\"dataframe\">\n",
       "  <thead>\n",
       "    <tr style=\"text-align: right;\">\n",
       "      <th></th>\n",
       "      <th>Method</th>\n",
       "      <th>threshold</th>\n",
       "      <th>params</th>\n",
       "      <th>ROC AUC</th>\n",
       "      <th>PR AUC</th>\n",
       "      <th>F1 score</th>\n",
       "      <th>Accuracy</th>\n",
       "      <th>Precision</th>\n",
       "      <th>Recall</th>\n",
       "      <th>TP</th>\n",
       "      <th>TN</th>\n",
       "      <th>FP</th>\n",
       "      <th>FN</th>\n",
       "      <th>Training time</th>\n",
       "      <th>Inference time</th>\n",
       "    </tr>\n",
       "  </thead>\n",
       "  <tbody>\n",
       "    <tr>\n",
       "      <th>0</th>\n",
       "      <td>EmbedA0</td>\n",
       "      <td>0.500</td>\n",
       "      <td>None</td>\n",
       "      <td>0.514969</td>\n",
       "      <td>0.507741</td>\n",
       "      <td>0.539147</td>\n",
       "      <td>0.51380</td>\n",
       "      <td>0.512432</td>\n",
       "      <td>0.5688</td>\n",
       "      <td>5688</td>\n",
       "      <td>4588</td>\n",
       "      <td>5412</td>\n",
       "      <td>4312</td>\n",
       "      <td>10.920612</td>\n",
       "      <td>0.965077</td>\n",
       "    </tr>\n",
       "    <tr>\n",
       "      <th>1</th>\n",
       "      <td>EmbedA0 [w. threshold]</td>\n",
       "      <td>0.514</td>\n",
       "      <td>None</td>\n",
       "      <td>0.514969</td>\n",
       "      <td>0.507741</td>\n",
       "      <td>0.500435</td>\n",
       "      <td>0.51155</td>\n",
       "      <td>0.512088</td>\n",
       "      <td>0.4893</td>\n",
       "      <td>4893</td>\n",
       "      <td>5338</td>\n",
       "      <td>4662</td>\n",
       "      <td>5107</td>\n",
       "      <td>10.920612</td>\n",
       "      <td>0.939870</td>\n",
       "    </tr>\n",
       "  </tbody>\n",
       "</table>\n",
       "</div>"
      ],
      "text/plain": [
       "                   Method  threshold params   ROC AUC    PR AUC  F1 score  \\\n",
       "0                 EmbedA0      0.500   None  0.514969  0.507741  0.539147   \n",
       "1  EmbedA0 [w. threshold]      0.514   None  0.514969  0.507741  0.500435   \n",
       "\n",
       "   Accuracy  Precision  Recall    TP    TN    FP    FN  Training time  \\\n",
       "0   0.51380   0.512432  0.5688  5688  4588  5412  4312      10.920612   \n",
       "1   0.51155   0.512088  0.4893  4893  5338  4662  5107      10.920612   \n",
       "\n",
       "   Inference time  \n",
       "0        0.965077  \n",
       "1        0.939870  "
      ]
     },
     "execution_count": 48,
     "metadata": {},
     "output_type": "execute_result"
    }
   ],
   "source": [
    "from classification_utils import scores_df\n",
    "scores_df"
   ]
  },
  {
   "cell_type": "markdown",
   "id": "7482adaf-ecea-483e-b3f7-f62f526ed9a7",
   "metadata": {
    "tags": []
   },
   "source": [
    "---\n",
    "## 2.2 `EMB-A1` NN | Ngram=1 | multi_hot <a class=\"anchor\" id=\"EMBEDDING_BOW_A1\"></a> [⇪](#menu)"
   ]
  },
  {
   "cell_type": "markdown",
   "id": "edffa8f4-1800-49cc-bcba-9177d9c9dd0d",
   "metadata": {},
   "source": [
    "### Standardize & Tokenize"
   ]
  },
  {
   "cell_type": "code",
   "execution_count": 49,
   "id": "29407ff4-07b1-4bf9-b276-7609d7d28147",
   "metadata": {
    "tags": []
   },
   "outputs": [
    {
     "name": "stdout",
     "output_type": "stream",
     "text": [
      "['[UNK]', 'i', 'be', 'to', 'the', 'a', 'not', 'my', 'and', 'it', 'you', 'have', 'do', 'for', 'in', 'go', 'of', 'that', 'get', 'on'] ...\n"
     ]
    }
   ],
   "source": [
    "# Done before\n",
    "print(text_vectorization1.get_vocabulary()[:20], \"...\")"
   ]
  },
  {
   "cell_type": "markdown",
   "id": "7d676972-7e86-4e9b-a8ee-b7f8e77f832c",
   "metadata": {},
   "source": [
    "### Prepare dataset"
   ]
  },
  {
   "cell_type": "code",
   "execution_count": 63,
   "id": "ca9ef6cb-2313-4452-be7f-b1fbdb1b3580",
   "metadata": {
    "tags": []
   },
   "outputs": [
    {
     "name": "stderr",
     "output_type": "stream",
     "text": [
      "2022-08-08 21:42:32.732215: W tensorflow/core/framework/cpu_allocator_impl.cc:82] Allocation of 4800000000 exceeds 10% of free system memory.\n",
      "2022-08-08 21:43:22.731681: W tensorflow/core/framework/cpu_allocator_impl.cc:82] Allocation of 1600000000 exceeds 10% of free system memory.\n",
      "2022-08-08 21:43:43.410353: W tensorflow/core/framework/cpu_allocator_impl.cc:82] Allocation of 1600000000 exceeds 10% of free system memory.\n"
     ]
    }
   ],
   "source": [
    "X_train_ready = text_vectorization1(X_train)\n",
    "X_valid_ready = text_vectorization1(X_valid)\n",
    "X_test_ready = text_vectorization1(X_test)"
   ]
  },
  {
   "cell_type": "code",
   "execution_count": 51,
   "id": "b7429879-7176-4429-bd22-b5b4cb6c2855",
   "metadata": {
    "tags": []
   },
   "outputs": [
    {
     "data": {
      "text/plain": [
       "888559               dh way too crazy ... I need a xanax ..\n",
       "500657    I too ... bur with engineering imma be here 5 ...\n",
       "Name: text, dtype: object"
      ]
     },
     "execution_count": 51,
     "metadata": {},
     "output_type": "execute_result"
    }
   ],
   "source": [
    "X_train[:2]"
   ]
  },
  {
   "cell_type": "code",
   "execution_count": 52,
   "id": "751d2b80-4d89-4b8c-8776-523fde8d6074",
   "metadata": {
    "tags": []
   },
   "outputs": [
    {
     "data": {
      "text/plain": [
       "<tf.Tensor: shape=(2, 20000), dtype=float32, numpy=\n",
       "array([[0., 1., 0., ..., 0., 0., 0.],\n",
       "       [0., 1., 1., ..., 0., 0., 0.]], dtype=float32)>"
      ]
     },
     "execution_count": 52,
     "metadata": {},
     "output_type": "execute_result"
    }
   ],
   "source": [
    "X_train_ready[:2]"
   ]
  },
  {
   "cell_type": "markdown",
   "id": "9c3f8365-0b2b-407a-aee2-230b38da5f95",
   "metadata": {},
   "source": [
    "### Define model"
   ]
  },
  {
   "cell_type": "code",
   "execution_count": 53,
   "id": "75f59d9a-4513-4b5e-bcea-e6a1e4b36155",
   "metadata": {
    "tags": []
   },
   "outputs": [],
   "source": [
    "model_name = \"EmbedA1\"\n",
    "model, archi_desc = architecture001(\"adam\", \"binary_crossentropy\", ['accuracy'], X_train_ready[:0].shape[1])\n",
    "archi_desc = \"No Embedding + Unigrams | \" + archi_desc"
   ]
  },
  {
   "cell_type": "code",
   "execution_count": 54,
   "id": "25e5fc73-c871-4d9f-a0b2-7e4cbaccbf1d",
   "metadata": {
    "tags": []
   },
   "outputs": [
    {
     "name": "stdout",
     "output_type": "stream",
     "text": [
      "Model: \"model_1\"\n",
      "_________________________________________________________________\n",
      " Layer (type)                Output Shape              Param #   \n",
      "=================================================================\n",
      " input_2 (InputLayer)        [(None, 20000)]           0         \n",
      "                                                                 \n",
      " dense_1 (Dense)             (None, 16)                320016    \n",
      "                                                                 \n",
      " dropout_1 (Dropout)         (None, 16)                0         \n",
      "                                                                 \n",
      " predictions (Dense)         (None, 1)                 17        \n",
      "                                                                 \n",
      "=================================================================\n",
      "Total params: 320,033\n",
      "Trainable params: 320,033\n",
      "Non-trainable params: 0\n",
      "_________________________________________________________________\n"
     ]
    }
   ],
   "source": [
    "model.summary()"
   ]
  },
  {
   "cell_type": "markdown",
   "id": "f0b12844-b0f5-41f5-b3ac-fccff85d2e16",
   "metadata": {},
   "source": [
    "#### Définissons un logger DagsHub pour enregistrer notre essai"
   ]
  },
  {
   "cell_type": "code",
   "execution_count": 55,
   "id": "49d595ca-bb75-4f9a-9b92-3419f61f2dea",
   "metadata": {},
   "outputs": [],
   "source": [
    "dagslogger = DAGsHubLogger()"
   ]
  },
  {
   "cell_type": "code",
   "execution_count": 56,
   "id": "44439ac5-b8f0-4c03-940c-b57e0a516643",
   "metadata": {},
   "outputs": [],
   "source": [
    "save_hyperparameters_to_dagshub(dagslogger, model_name, archi_desc, get_layers_for_dagshub(model), batch_size, data_work.shape[0])"
   ]
  },
  {
   "cell_type": "markdown",
   "id": "16bdbb2b-1fe4-4429-9182-345fc768e6ae",
   "metadata": {},
   "source": [
    "### Train model"
   ]
  },
  {
   "cell_type": "code",
   "execution_count": 57,
   "id": "9a9215bd-cae7-4aa1-846c-1d63d36920d6",
   "metadata": {
    "tags": []
   },
   "outputs": [
    {
     "name": "stdout",
     "output_type": "stream",
     "text": [
      "Epoch 1/50\n",
      "59/59 [==============================] - ETA: 0s - loss: 0.6473 - accuracy: 0.6734\n",
      "Epoch 1: val_accuracy improved from -inf to 0.74870, saving model to models/EmbedA1.keras\n",
      "59/59 [==============================] - 17s 175ms/step - loss: 0.6473 - accuracy: 0.6734 - val_loss: 0.5891 - val_accuracy: 0.7487\n",
      "Epoch 2/50\n",
      "59/59 [==============================] - ETA: 0s - loss: 0.5617 - accuracy: 0.7488\n",
      "Epoch 2: val_accuracy improved from 0.74870 to 0.76740, saving model to models/EmbedA1.keras\n",
      "59/59 [==============================] - 9s 153ms/step - loss: 0.5617 - accuracy: 0.7488 - val_loss: 0.5323 - val_accuracy: 0.7674\n",
      "Epoch 3/50\n",
      "59/59 [==============================] - ETA: 0s - loss: 0.5165 - accuracy: 0.7712\n",
      "Epoch 3: val_accuracy improved from 0.76740 to 0.77570, saving model to models/EmbedA1.keras\n",
      "59/59 [==============================] - 9s 146ms/step - loss: 0.5165 - accuracy: 0.7712 - val_loss: 0.5050 - val_accuracy: 0.7757\n",
      "Epoch 4/50\n",
      "59/59 [==============================] - ETA: 0s - loss: 0.4871 - accuracy: 0.7880\n",
      "Epoch 4: val_accuracy improved from 0.77570 to 0.77770, saving model to models/EmbedA1.keras\n",
      "59/59 [==============================] - 8s 144ms/step - loss: 0.4871 - accuracy: 0.7880 - val_loss: 0.4904 - val_accuracy: 0.7777\n",
      "Epoch 5/50\n",
      "59/59 [==============================] - ETA: 0s - loss: 0.4672 - accuracy: 0.7989\n",
      "Epoch 5: val_accuracy improved from 0.77770 to 0.78080, saving model to models/EmbedA1.keras\n",
      "59/59 [==============================] - 12s 212ms/step - loss: 0.4672 - accuracy: 0.7989 - val_loss: 0.4821 - val_accuracy: 0.7808\n",
      "Epoch 6/50\n",
      "59/59 [==============================] - ETA: 0s - loss: 0.4500 - accuracy: 0.8076\n",
      "Epoch 6: val_accuracy improved from 0.78080 to 0.78085, saving model to models/EmbedA1.keras\n",
      "59/59 [==============================] - 9s 152ms/step - loss: 0.4500 - accuracy: 0.8076 - val_loss: 0.4768 - val_accuracy: 0.7808\n",
      "Epoch 7/50\n",
      "59/59 [==============================] - ETA: 0s - loss: 0.4377 - accuracy: 0.8131\n",
      "Epoch 7: val_accuracy did not improve from 0.78085\n",
      "59/59 [==============================] - 9s 159ms/step - loss: 0.4377 - accuracy: 0.8131 - val_loss: 0.4733 - val_accuracy: 0.7796\n",
      "Epoch 8/50\n",
      "59/59 [==============================] - ETA: 0s - loss: 0.4241 - accuracy: 0.8200\n",
      "Epoch 8: val_accuracy did not improve from 0.78085\n",
      "59/59 [==============================] - 11s 187ms/step - loss: 0.4241 - accuracy: 0.8200 - val_loss: 0.4716 - val_accuracy: 0.7800\n",
      "Epoch 9/50\n",
      "59/59 [==============================] - ETA: 0s - loss: 0.4130 - accuracy: 0.8258\n",
      "Epoch 9: val_accuracy did not improve from 0.78085\n",
      "59/59 [==============================] - 8s 140ms/step - loss: 0.4130 - accuracy: 0.8258 - val_loss: 0.4709 - val_accuracy: 0.7794\n",
      "Epoch 10/50\n",
      "59/59 [==============================] - ETA: 0s - loss: 0.4035 - accuracy: 0.8303\n",
      "Epoch 10: val_accuracy did not improve from 0.78085\n",
      "59/59 [==============================] - 9s 147ms/step - loss: 0.4035 - accuracy: 0.8303 - val_loss: 0.4716 - val_accuracy: 0.7781\n",
      "Epoch 11/50\n",
      "59/59 [==============================] - ETA: 0s - loss: 0.3942 - accuracy: 0.8354\n",
      "Epoch 11: val_accuracy did not improve from 0.78085\n",
      "Restoring model weights from the end of the best epoch: 6.\n",
      "59/59 [==============================] - 9s 149ms/step - loss: 0.3942 - accuracy: 0.8354 - val_loss: 0.4727 - val_accuracy: 0.7783\n",
      "Epoch 11: early stopping\n"
     ]
    }
   ],
   "source": [
    "t0 = time.perf_counter()\n",
    "history = model.fit(\n",
    "        x=X_train_ready, y=y_train, \n",
    "        validation_data=(X_test_ready, y_test), \n",
    "        epochs=50, \n",
    "        batch_size=batch_size, \n",
    "        callbacks=init_callbacks(f\"{model_name}\"),\n",
    "        verbose=1,\n",
    ")\n",
    "train_time = time.perf_counter() - t0"
   ]
  },
  {
   "cell_type": "markdown",
   "id": "0e81e4cd-c6c3-41e6-bf09-42c51adbbe4d",
   "metadata": {},
   "source": [
    "### Evaluate"
   ]
  },
  {
   "cell_type": "code",
   "execution_count": 58,
   "id": "466ba659-3743-45f4-a600-e8350a8594b0",
   "metadata": {},
   "outputs": [],
   "source": [
    "model = keras.models.load_model(f\"models/{model_name}.keras\")"
   ]
  },
  {
   "cell_type": "code",
   "execution_count": 59,
   "id": "b58a6df2-a121-4dc8-b5c5-fbe72123ae3f",
   "metadata": {},
   "outputs": [
    {
     "name": "stdout",
     "output_type": "stream",
     "text": [
      "625/625 [==============================] - 3s 4ms/step - loss: 0.4768 - accuracy: 0.7808\n"
     ]
    },
    {
     "data": {
      "text/plain": [
       "[0.4767610430717468, 0.7808499932289124]"
      ]
     },
     "execution_count": 59,
     "metadata": {},
     "output_type": "execute_result"
    }
   ],
   "source": [
    "model.evaluate(X_test_ready, y_test)"
   ]
  },
  {
   "cell_type": "code",
   "execution_count": 60,
   "id": "63b761b7-bb21-4ef7-97a9-e3f38b0d69e1",
   "metadata": {},
   "outputs": [
    {
     "name": "stdout",
     "output_type": "stream",
     "text": [
      "1/1 [==============================] - 0s 46ms/step\n"
     ]
    },
    {
     "data": {
      "text/plain": [
       "array([[0.19154021],\n",
       "       [0.7855259 ]], dtype=float32)"
      ]
     },
     "execution_count": 60,
     "metadata": {},
     "output_type": "execute_result"
    }
   ],
   "source": [
    "raw_txt = tf.convert_to_tensor([\"I hate it\", \"I love it\"])\n",
    "raw_txt = text_vectorization1(raw_txt)\n",
    "model.predict(raw_txt)"
   ]
  },
  {
   "cell_type": "code",
   "execution_count": 61,
   "id": "2739fde4-ed38-44c6-b04b-86ef2ab2f961",
   "metadata": {
    "colab": {
     "base_uri": "https://localhost:8080/",
     "height": 1000
    },
    "executionInfo": {
     "elapsed": 746,
     "status": "ok",
     "timestamp": 1653231856185,
     "user": {
      "displayName": "Valkea",
      "userId": "01476199649418572392"
     },
     "user_tz": -120
    },
    "id": "81aba764-7f22-4ad1-b0ed-bc5b13f0b75e",
    "outputId": "e3c4ed78-a90b-46e0-baa0-c28f701f4414",
    "tags": []
   },
   "outputs": [
    {
     "name": "stdout",
     "output_type": "stream",
     "text": [
      "625/625 [==============================] - 3s 4ms/step\n",
      "----------------------------------------------------------------------------------------------------\n",
      "          These information are based on the best estimator of the above cross-validation           \n",
      "----------------------------------------------------------------------------------------------------\n",
      "\n",
      "--- EmbedA1 ----------------------------------------------------------------------------------------\n",
      "\n",
      "             ROC_AUC : 0.8555\n",
      "                  F1 : 0.7810\n",
      "            ACCURACY : 0.7809\n",
      "           PRECISION : 0.7804\n",
      "              RECALL : 0.7816\n",
      "   AVERAGE_PRECISION : 0.8566\n",
      "\n",
      "       TRAINING-TIME : 110.7102\n",
      "      INFERENCE-TIME : 2.9882\n",
      "\n",
      "--- Classification Report -------------------------------------------------------------------------- \n",
      "\n",
      "                 precision    recall  f1-score   support\n",
      "\n",
      "Prediction = 0       0.78      0.78      0.78     10000\n",
      "Prediction = 1       0.78      0.78      0.78     10000\n",
      "\n",
      "      accuracy                           0.78     20000\n",
      "     macro avg       0.78      0.78      0.78     20000\n",
      "  weighted avg       0.78      0.78      0.78     20000\n",
      "\n",
      "--- Confusion Matrix ------------------------------------------------------------------------------- \n",
      "\n"
     ]
    },
    {
     "data": {
      "image/png": "[encoded data removed]",
      "text/plain": [
       "<Figure size 432x432 with 2 Axes>"
      ]
     },
     "metadata": {
      "needs_background": "light"
     },
     "output_type": "display_data"
    },
    {
     "name": "stdout",
     "output_type": "stream",
     "text": [
      "--- ROC AUC ---------------------------------------------------------------------------------------- \n",
      "\n"
     ]
    },
    {
     "data": {
      "image/png": "[encoded data removed]",
      "text/plain": [
       "<Figure size 360x360 with 1 Axes>"
      ]
     },
     "metadata": {
      "needs_background": "light"
     },
     "output_type": "display_data"
    },
    {
     "name": "stdout",
     "output_type": "stream",
     "text": [
      "--- PRECISION RECALL AUC --------------------------------------------------------------------------- \n",
      "\n"
     ]
    },
    {
     "data": {
      "image/png": "[encoded data removed]",
      "text/plain": [
       "<Figure size 360x360 with 1 Axes>"
      ]
     },
     "metadata": {
      "needs_background": "light"
     },
     "output_type": "display_data"
    }
   ],
   "source": [
    "_ = get_scores(\n",
    "    model_name,\n",
    "    model=model,\n",
    "    X_ref=X_test_ready,\n",
    "    y_ref=y_test, \n",
    "    threshold=0.5,\n",
    "    # y_pred=y_preds, \n",
    "    # y_pred_proba=y_preds_proba, \n",
    "    training_time=train_time, \n",
    "    # inference_time=inf_time, \n",
    "    dagslogger=dagslogger,\n",
    "    register=True,\n",
    ")"
   ]
  },
  {
   "cell_type": "markdown",
   "id": "3a99ca6c-a23d-4440-8787-85f1eecddff6",
   "metadata": {},
   "source": [
    "#### Trouvons le meilleur seuil de séparation pour les prédiction (sur la base du F1 score)"
   ]
  },
  {
   "cell_type": "code",
   "execution_count": 64,
   "id": "260ab239-85ad-47da-8832-8a76dcd63547",
   "metadata": {},
   "outputs": [
    {
     "name": "stdout",
     "output_type": "stream",
     "text": [
      "625/625 [==============================] - 6s 7ms/step\n",
      "The best Accuracy score (0.78075) for this model is reached with a threshold of 0.519\n"
     ]
    }
   ],
   "source": [
    "acc_value, best_threshold = find_best_threshold(model, X_valid_ready, y_valid, accuracy_score)\n",
    "print(f\"The best Accuracy score ({acc_value}) for this model is reached with a threshold of {best_threshold}\")"
   ]
  },
  {
   "cell_type": "code",
   "execution_count": 65,
   "id": "cd88456e-2464-4489-9e8a-88597e17fbd7",
   "metadata": {
    "colab": {
     "base_uri": "https://localhost:8080/",
     "height": 1000
    },
    "executionInfo": {
     "elapsed": 746,
     "status": "ok",
     "timestamp": 1653231856185,
     "user": {
      "displayName": "Valkea",
      "userId": "01476199649418572392"
     },
     "user_tz": -120
    },
    "id": "81aba764-7f22-4ad1-b0ed-bc5b13f0b75e",
    "outputId": "e3c4ed78-a90b-46e0-baa0-c28f701f4414",
    "tags": []
   },
   "outputs": [
    {
     "name": "stdout",
     "output_type": "stream",
     "text": [
      "625/625 [==============================] - 3s 5ms/step\n",
      "----------------------------------------------------------------------------------------------------\n",
      "          These information are based on the best estimator of the above cross-validation           \n",
      "----------------------------------------------------------------------------------------------------\n",
      "\n",
      "--- EmbedA1 [w. threshold] -------------------------------------------------------------------------\n",
      "\n",
      "             ROC_AUC : 0.8555\n",
      "                  F1 : 0.7767\n",
      "            ACCURACY : 0.7803\n",
      "           PRECISION : 0.7896\n",
      "              RECALL : 0.7642\n",
      "   AVERAGE_PRECISION : 0.8566\n",
      "\n",
      "       TRAINING-TIME : 110.7102\n",
      "      INFERENCE-TIME : 3.6845\n",
      "\n",
      "--- Classification Report -------------------------------------------------------------------------- \n",
      "\n",
      "                 precision    recall  f1-score   support\n",
      "\n",
      "Prediction = 0       0.77      0.80      0.78     10000\n",
      "Prediction = 1       0.79      0.76      0.78     10000\n",
      "\n",
      "      accuracy                           0.78     20000\n",
      "     macro avg       0.78      0.78      0.78     20000\n",
      "  weighted avg       0.78      0.78      0.78     20000\n",
      "\n",
      "--- Confusion Matrix ------------------------------------------------------------------------------- \n",
      "\n"
     ]
    },
    {
     "data": {
      "image/png": "[encoded data removed]",
      "text/plain": [
       "<Figure size 432x432 with 2 Axes>"
      ]
     },
     "metadata": {
      "needs_background": "light"
     },
     "output_type": "display_data"
    }
   ],
   "source": [
    "scores = get_scores(\n",
    "    f\"{model_name} [w. threshold]\",\n",
    "    model=model,\n",
    "    X_ref=X_test_ready,\n",
    "    y_ref=y_test, \n",
    "    threshold=best_threshold,\n",
    "    # y_pred=y_preds, \n",
    "    # y_pred_proba=y_preds_proba, \n",
    "    training_time=train_time, \n",
    "    # inference_time=inf_time, \n",
    "    dagslogger=dagslogger,\n",
    "    register=True,\n",
    "    show_roccurves=False,\n",
    ")"
   ]
  },
  {
   "cell_type": "markdown",
   "id": "fb9d639b-b0aa-4682-aeeb-9f72eff5ae64",
   "metadata": {},
   "source": [
    "#### Enregistrons les scores pour DagsHub"
   ]
  },
  {
   "cell_type": "code",
   "execution_count": 66,
   "id": "a571c94b-8e22-4c3d-ab76-fd7e042f8d00",
   "metadata": {},
   "outputs": [],
   "source": [
    "save_metrics_to_dagshub(dagslogger, scores, best_threshold, history)\n",
    "dagslogger.save() \n",
    "dagslogger.close()"
   ]
  },
  {
   "cell_type": "markdown",
   "id": "786e4f5d-a8b6-410d-90ab-43f48ab16694",
   "metadata": {},
   "source": [
    "### Compare"
   ]
  },
  {
   "cell_type": "code",
   "execution_count": 67,
   "id": "be7519b8-950a-42d9-ab28-b6fcc3c3554a",
   "metadata": {
    "tags": []
   },
   "outputs": [
    {
     "data": {
      "text/html": [
       "<div>\n",
       "<style scoped>\n",
       "    .dataframe tbody tr th:only-of-type {\n",
       "        vertical-align: middle;\n",
       "    }\n",
       "\n",
       "    .dataframe tbody tr th {\n",
       "        vertical-align: top;\n",
       "    }\n",
       "\n",
       "    .dataframe thead th {\n",
       "        text-align: right;\n",
       "    }\n",
       "</style>\n",
       "<table border=\"1\" class=\"dataframe\">\n",
       "  <thead>\n",
       "    <tr style=\"text-align: right;\">\n",
       "      <th></th>\n",
       "      <th>Method</th>\n",
       "      <th>threshold</th>\n",
       "      <th>params</th>\n",
       "      <th>ROC AUC</th>\n",
       "      <th>PR AUC</th>\n",
       "      <th>F1 score</th>\n",
       "      <th>Accuracy</th>\n",
       "      <th>Precision</th>\n",
       "      <th>Recall</th>\n",
       "      <th>TP</th>\n",
       "      <th>TN</th>\n",
       "      <th>FP</th>\n",
       "      <th>FN</th>\n",
       "      <th>Training time</th>\n",
       "      <th>Inference time</th>\n",
       "    </tr>\n",
       "  </thead>\n",
       "  <tbody>\n",
       "    <tr>\n",
       "      <th>0</th>\n",
       "      <td>EmbedA0</td>\n",
       "      <td>0.500</td>\n",
       "      <td>None</td>\n",
       "      <td>0.514969</td>\n",
       "      <td>0.507741</td>\n",
       "      <td>0.539147</td>\n",
       "      <td>0.51380</td>\n",
       "      <td>0.512432</td>\n",
       "      <td>0.5688</td>\n",
       "      <td>5688</td>\n",
       "      <td>4588</td>\n",
       "      <td>5412</td>\n",
       "      <td>4312</td>\n",
       "      <td>10.920612</td>\n",
       "      <td>0.965077</td>\n",
       "    </tr>\n",
       "    <tr>\n",
       "      <th>1</th>\n",
       "      <td>EmbedA0 [w. threshold]</td>\n",
       "      <td>0.514</td>\n",
       "      <td>None</td>\n",
       "      <td>0.514969</td>\n",
       "      <td>0.507741</td>\n",
       "      <td>0.500435</td>\n",
       "      <td>0.51155</td>\n",
       "      <td>0.512088</td>\n",
       "      <td>0.4893</td>\n",
       "      <td>4893</td>\n",
       "      <td>5338</td>\n",
       "      <td>4662</td>\n",
       "      <td>5107</td>\n",
       "      <td>10.920612</td>\n",
       "      <td>0.939870</td>\n",
       "    </tr>\n",
       "    <tr>\n",
       "      <th>2</th>\n",
       "      <td>EmbedA1</td>\n",
       "      <td>0.500</td>\n",
       "      <td>None</td>\n",
       "      <td>0.855491</td>\n",
       "      <td>0.856599</td>\n",
       "      <td>0.781014</td>\n",
       "      <td>0.78085</td>\n",
       "      <td>0.780429</td>\n",
       "      <td>0.7816</td>\n",
       "      <td>7816</td>\n",
       "      <td>7801</td>\n",
       "      <td>2199</td>\n",
       "      <td>2184</td>\n",
       "      <td>110.710172</td>\n",
       "      <td>2.988151</td>\n",
       "    </tr>\n",
       "    <tr>\n",
       "      <th>3</th>\n",
       "      <td>EmbedA1 [w. threshold]</td>\n",
       "      <td>0.519</td>\n",
       "      <td>None</td>\n",
       "      <td>0.855491</td>\n",
       "      <td>0.856599</td>\n",
       "      <td>0.776705</td>\n",
       "      <td>0.78030</td>\n",
       "      <td>0.789626</td>\n",
       "      <td>0.7642</td>\n",
       "      <td>7642</td>\n",
       "      <td>7964</td>\n",
       "      <td>2036</td>\n",
       "      <td>2358</td>\n",
       "      <td>110.710172</td>\n",
       "      <td>3.684542</td>\n",
       "    </tr>\n",
       "  </tbody>\n",
       "</table>\n",
       "</div>"
      ],
      "text/plain": [
       "                   Method  threshold params   ROC AUC    PR AUC  F1 score  \\\n",
       "0                 EmbedA0      0.500   None  0.514969  0.507741  0.539147   \n",
       "1  EmbedA0 [w. threshold]      0.514   None  0.514969  0.507741  0.500435   \n",
       "2                 EmbedA1      0.500   None  0.855491  0.856599  0.781014   \n",
       "3  EmbedA1 [w. threshold]      0.519   None  0.855491  0.856599  0.776705   \n",
       "\n",
       "   Accuracy  Precision  Recall    TP    TN    FP    FN  Training time  \\\n",
       "0   0.51380   0.512432  0.5688  5688  4588  5412  4312      10.920612   \n",
       "1   0.51155   0.512088  0.4893  4893  5338  4662  5107      10.920612   \n",
       "2   0.78085   0.780429  0.7816  7816  7801  2199  2184     110.710172   \n",
       "3   0.78030   0.789626  0.7642  7642  7964  2036  2358     110.710172   \n",
       "\n",
       "   Inference time  \n",
       "0        0.965077  \n",
       "1        0.939870  \n",
       "2        2.988151  \n",
       "3        3.684542  "
      ]
     },
     "execution_count": 67,
     "metadata": {},
     "output_type": "execute_result"
    }
   ],
   "source": [
    "from classification_utils import scores_df\n",
    "scores_df"
   ]
  },
  {
   "cell_type": "markdown",
   "id": "aaa79cd3-4ba7-4953-aa4b-49cb33b20146",
   "metadata": {
    "tags": []
   },
   "source": [
    "---\n",
    "## 2.3 `EMB-A2` NN | Ngram=2 | multi_hot <a class=\"anchor\" id=\"EMBEDDING_BOW_A2\"></a> [⇪](#menu)"
   ]
  },
  {
   "cell_type": "markdown",
   "id": "f16d3bd6-f98d-4c21-bc45-718bae3f4e28",
   "metadata": {
    "tags": []
   },
   "source": [
    "### Standardize & Tokenize"
   ]
  },
  {
   "cell_type": "code",
   "execution_count": 32,
   "id": "508bf02d-b53b-4f2e-bfcf-4bd869624d76",
   "metadata": {
    "tags": []
   },
   "outputs": [
    {
     "name": "stdout",
     "output_type": "stream",
     "text": [
      "['[UNK]', 'i', 'be', 'to', 'the', 'a', 'not', 'my', 'and', 'it', 'you', 'have', 'do', 'for', 'in', 'i be', 'go', 'of', 'that', 'get'] ...\n"
     ]
    }
   ],
   "source": [
    "# Done before\n",
    "print(text_vectorization2.get_vocabulary()[:20], \"...\")"
   ]
  },
  {
   "cell_type": "markdown",
   "id": "14212264-6aff-4590-b786-b9c6775b3d27",
   "metadata": {},
   "source": [
    "### Prepare dataset"
   ]
  },
  {
   "cell_type": "code",
   "execution_count": 33,
   "id": "0e43c0b8-345d-4859-a347-67f0f37dfd1a",
   "metadata": {
    "tags": []
   },
   "outputs": [
    {
     "name": "stderr",
     "output_type": "stream",
     "text": [
      "2022-08-08 21:49:03.310020: W tensorflow/core/framework/cpu_allocator_impl.cc:82] Allocation of 4800000000 exceeds 10% of free system memory.\n",
      "2022-08-08 21:49:03.972583: W tensorflow/core/framework/cpu_allocator_impl.cc:82] Allocation of 1600000000 exceeds 10% of free system memory.\n",
      "2022-08-08 21:49:04.272859: W tensorflow/core/framework/cpu_allocator_impl.cc:82] Allocation of 1600000000 exceeds 10% of free system memory.\n"
     ]
    }
   ],
   "source": [
    "X_train_ready = text_vectorization2(X_train)\n",
    "X_valid_ready = text_vectorization2(X_valid)\n",
    "X_test_ready = text_vectorization2(X_test)"
   ]
  },
  {
   "cell_type": "code",
   "execution_count": 34,
   "id": "e0e90600-646d-40db-be0b-b2aca326f5a7",
   "metadata": {},
   "outputs": [
    {
     "data": {
      "text/plain": [
       "888559               dh way too crazy ... I need a xanax ..\n",
       "500657    I too ... bur with engineering imma be here 5 ...\n",
       "Name: text, dtype: object"
      ]
     },
     "execution_count": 34,
     "metadata": {},
     "output_type": "execute_result"
    }
   ],
   "source": [
    "X_train[:2]"
   ]
  },
  {
   "cell_type": "code",
   "execution_count": 35,
   "id": "384846d5-bd80-4abf-a6f8-5d80d792af36",
   "metadata": {},
   "outputs": [
    {
     "data": {
      "text/plain": [
       "<tf.Tensor: shape=(2, 20000), dtype=float32, numpy=\n",
       "array([[1., 1., 0., ..., 0., 0., 0.],\n",
       "       [1., 1., 1., ..., 0., 0., 0.]], dtype=float32)>"
      ]
     },
     "execution_count": 35,
     "metadata": {},
     "output_type": "execute_result"
    }
   ],
   "source": [
    "X_train_ready[:2]"
   ]
  },
  {
   "cell_type": "markdown",
   "id": "c03ca289-be30-4809-ae2d-f2c185fb1cbe",
   "metadata": {},
   "source": [
    "### Define model"
   ]
  },
  {
   "cell_type": "code",
   "execution_count": 36,
   "id": "9d80de70-5921-4b8e-9773-70df355b13ba",
   "metadata": {
    "tags": []
   },
   "outputs": [],
   "source": [
    "model_name = \"EmbedA2\"\n",
    "model, archi_desc = architecture001(\"adam\", \"binary_crossentropy\", ['accuracy'], X_train_ready[:0].shape[1])\n",
    "archi_desc = \"No Embedding + Bigrams | \" + archi_desc"
   ]
  },
  {
   "cell_type": "code",
   "execution_count": 37,
   "id": "4136a9a6-1086-4b19-9bac-3dcfdeb751b7",
   "metadata": {
    "tags": []
   },
   "outputs": [
    {
     "name": "stdout",
     "output_type": "stream",
     "text": [
      "Model: \"model\"\n",
      "_________________________________________________________________\n",
      " Layer (type)                Output Shape              Param #   \n",
      "=================================================================\n",
      " input_1 (InputLayer)        [(None, 20000)]           0         \n",
      "                                                                 \n",
      " dense (Dense)               (None, 16)                320016    \n",
      "                                                                 \n",
      " dropout (Dropout)           (None, 16)                0         \n",
      "                                                                 \n",
      " predictions (Dense)         (None, 1)                 17        \n",
      "                                                                 \n",
      "=================================================================\n",
      "Total params: 320,033\n",
      "Trainable params: 320,033\n",
      "Non-trainable params: 0\n",
      "_________________________________________________________________\n"
     ]
    }
   ],
   "source": [
    "model.summary()"
   ]
  },
  {
   "cell_type": "markdown",
   "id": "8b74b58d-a258-4856-98ab-18ac5e802756",
   "metadata": {},
   "source": [
    "#### Définissons un logger DagsHub pour enregistrer notre essai"
   ]
  },
  {
   "cell_type": "code",
   "execution_count": 38,
   "id": "6b81a604-58f5-44bb-88e4-d2464714deca",
   "metadata": {},
   "outputs": [],
   "source": [
    "dagslogger = DAGsHubLogger()"
   ]
  },
  {
   "cell_type": "code",
   "execution_count": 39,
   "id": "9ace310d-e5e7-4317-92e4-0dccbfe296cc",
   "metadata": {},
   "outputs": [],
   "source": [
    "save_hyperparameters_to_dagshub(dagslogger, model_name, archi_desc, get_layers_for_dagshub(model), batch_size, data_work.shape[0])"
   ]
  },
  {
   "cell_type": "markdown",
   "id": "7f5ba9d7-89f4-4fb3-af76-c216683fc051",
   "metadata": {},
   "source": [
    "### Train model"
   ]
  },
  {
   "cell_type": "code",
   "execution_count": 40,
   "id": "7e37cba3-5bd1-42fd-8a3b-32bb2aac7f8b",
   "metadata": {
    "tags": []
   },
   "outputs": [
    {
     "name": "stdout",
     "output_type": "stream",
     "text": [
      "Epoch 1/50\n",
      "59/59 [==============================] - ETA: 0s - loss: 0.6285 - accuracy: 0.6848\n",
      "Epoch 1: val_accuracy improved from -inf to 0.76630, saving model to models/EmbedA2.keras\n",
      "59/59 [==============================] - 10s 148ms/step - loss: 0.6285 - accuracy: 0.6848 - val_loss: 0.5550 - val_accuracy: 0.7663\n",
      "Epoch 2/50\n",
      "59/59 [==============================] - ETA: 0s - loss: 0.5262 - accuracy: 0.7674\n",
      "Epoch 2: val_accuracy improved from 0.76630 to 0.78135, saving model to models/EmbedA2.keras\n",
      "59/59 [==============================] - 8s 135ms/step - loss: 0.5262 - accuracy: 0.7674 - val_loss: 0.5013 - val_accuracy: 0.7814\n",
      "Epoch 3/50\n",
      "59/59 [==============================] - ETA: 0s - loss: 0.4774 - accuracy: 0.7962\n",
      "Epoch 3: val_accuracy improved from 0.78135 to 0.79020, saving model to models/EmbedA2.keras\n",
      "59/59 [==============================] - 8s 131ms/step - loss: 0.4774 - accuracy: 0.7962 - val_loss: 0.4767 - val_accuracy: 0.7902\n",
      "Epoch 4/50\n",
      "59/59 [==============================] - ETA: 0s - loss: 0.4423 - accuracy: 0.8139\n",
      "Epoch 4: val_accuracy improved from 0.79020 to 0.79270, saving model to models/EmbedA2.keras\n",
      "59/59 [==============================] - 8s 131ms/step - loss: 0.4423 - accuracy: 0.8139 - val_loss: 0.4643 - val_accuracy: 0.7927\n",
      "Epoch 5/50\n",
      "59/59 [==============================] - ETA: 0s - loss: 0.4177 - accuracy: 0.8285\n",
      "Epoch 5: val_accuracy improved from 0.79270 to 0.79385, saving model to models/EmbedA2.keras\n",
      "59/59 [==============================] - 9s 150ms/step - loss: 0.4177 - accuracy: 0.8285 - val_loss: 0.4581 - val_accuracy: 0.7939\n",
      "Epoch 6/50\n",
      "59/59 [==============================] - ETA: 0s - loss: 0.3959 - accuracy: 0.8384\n",
      "Epoch 6: val_accuracy did not improve from 0.79385\n",
      "59/59 [==============================] - 8s 136ms/step - loss: 0.3959 - accuracy: 0.8384 - val_loss: 0.4555 - val_accuracy: 0.7926\n",
      "Epoch 7/50\n",
      "59/59 [==============================] - ETA: 0s - loss: 0.3788 - accuracy: 0.8480\n",
      "Epoch 7: val_accuracy did not improve from 0.79385\n",
      "59/59 [==============================] - 8s 142ms/step - loss: 0.3788 - accuracy: 0.8480 - val_loss: 0.4556 - val_accuracy: 0.7922\n",
      "Epoch 8/50\n",
      "59/59 [==============================] - ETA: 0s - loss: 0.3626 - accuracy: 0.8546\n",
      "Epoch 8: val_accuracy did not improve from 0.79385\n",
      "59/59 [==============================] - 8s 137ms/step - loss: 0.3626 - accuracy: 0.8546 - val_loss: 0.4573 - val_accuracy: 0.7917\n",
      "Epoch 9/50\n",
      "59/59 [==============================] - ETA: 0s - loss: 0.3485 - accuracy: 0.8633\n",
      "Epoch 9: val_accuracy did not improve from 0.79385\n",
      "Restoring model weights from the end of the best epoch: 4.\n",
      "59/59 [==============================] - 9s 154ms/step - loss: 0.3485 - accuracy: 0.8633 - val_loss: 0.4617 - val_accuracy: 0.7901\n",
      "Epoch 9: early stopping\n"
     ]
    }
   ],
   "source": [
    "t0 = time.perf_counter()\n",
    "history = model.fit(\n",
    "        x=X_train_ready, y=y_train, \n",
    "        validation_data=(X_test_ready, y_test), \n",
    "        epochs=50, \n",
    "        batch_size=batch_size, \n",
    "        callbacks=init_callbacks(f\"{model_name}\"),\n",
    "        verbose=1,\n",
    ")\n",
    "train_time = time.perf_counter() - t0"
   ]
  },
  {
   "cell_type": "markdown",
   "id": "03f59186-c3e5-4752-91f9-5e37f9ae7e62",
   "metadata": {},
   "source": [
    "### Evaluate"
   ]
  },
  {
   "cell_type": "code",
   "execution_count": 41,
   "id": "03c4ce9e-3489-4584-8d57-fcb188a2fae4",
   "metadata": {
    "tags": []
   },
   "outputs": [],
   "source": [
    "model = keras.models.load_model(f\"models/{model_name}.keras\")"
   ]
  },
  {
   "cell_type": "code",
   "execution_count": 42,
   "id": "37c0c4a9-2b81-4a66-bace-e6ddee7563ab",
   "metadata": {},
   "outputs": [
    {
     "name": "stdout",
     "output_type": "stream",
     "text": [
      "625/625 [==============================] - 3s 5ms/step - loss: 0.4581 - accuracy: 0.7939\n"
     ]
    },
    {
     "data": {
      "text/plain": [
       "[0.45810210704803467, 0.7938500046730042]"
      ]
     },
     "execution_count": 42,
     "metadata": {},
     "output_type": "execute_result"
    }
   ],
   "source": [
    "model.evaluate(X_test_ready, y_test)"
   ]
  },
  {
   "cell_type": "code",
   "execution_count": 43,
   "id": "01999973-5c06-4db5-bc8f-4641042be811",
   "metadata": {},
   "outputs": [
    {
     "name": "stdout",
     "output_type": "stream",
     "text": [
      "1/1 [==============================] - 0s 74ms/step\n"
     ]
    },
    {
     "data": {
      "text/plain": [
       "array([[0.17864196],\n",
       "       [0.8676124 ]], dtype=float32)"
      ]
     },
     "execution_count": 43,
     "metadata": {},
     "output_type": "execute_result"
    }
   ],
   "source": [
    "raw_txt = tf.convert_to_tensor([\"I hate it\", \"I love it\"])\n",
    "raw_txt = text_vectorization2(raw_txt)\n",
    "model.predict(raw_txt)"
   ]
  },
  {
   "cell_type": "code",
   "execution_count": 44,
   "id": "ed83bc83-7788-40e3-b1ae-fa58d6a8ec30",
   "metadata": {
    "colab": {
     "base_uri": "https://localhost:8080/",
     "height": 1000
    },
    "executionInfo": {
     "elapsed": 746,
     "status": "ok",
     "timestamp": 1653231856185,
     "user": {
      "displayName": "Valkea",
      "userId": "01476199649418572392"
     },
     "user_tz": -120
    },
    "id": "81aba764-7f22-4ad1-b0ed-bc5b13f0b75e",
    "outputId": "e3c4ed78-a90b-46e0-baa0-c28f701f4414",
    "tags": []
   },
   "outputs": [
    {
     "name": "stdout",
     "output_type": "stream",
     "text": [
      "625/625 [==============================] - 3s 4ms/step\n",
      "----------------------------------------------------------------------------------------------------\n",
      "          These information are based on the best estimator of the above cross-validation           \n",
      "----------------------------------------------------------------------------------------------------\n",
      "\n",
      "--- EmbedA2 ----------------------------------------------------------------------------------------\n",
      "\n",
      "             ROC_AUC : 0.8672\n",
      "                  F1 : 0.7934\n",
      "            ACCURACY : 0.7938\n",
      "           PRECISION : 0.7952\n",
      "              RECALL : 0.7916\n",
      "   AVERAGE_PRECISION : 0.8672\n",
      "\n",
      "       TRAINING-TIME : 75.3390\n",
      "      INFERENCE-TIME : 2.8510\n",
      "\n",
      "--- Classification Report -------------------------------------------------------------------------- \n",
      "\n",
      "                 precision    recall  f1-score   support\n",
      "\n",
      "Prediction = 0       0.79      0.80      0.79     10000\n",
      "Prediction = 1       0.80      0.79      0.79     10000\n",
      "\n",
      "      accuracy                           0.79     20000\n",
      "     macro avg       0.79      0.79      0.79     20000\n",
      "  weighted avg       0.79      0.79      0.79     20000\n",
      "\n",
      "--- Confusion Matrix ------------------------------------------------------------------------------- \n",
      "\n"
     ]
    },
    {
     "data": {
      "image/png": "[encoded data removed]",
      "text/plain": [
       "<Figure size 432x432 with 2 Axes>"
      ]
     },
     "metadata": {
      "needs_background": "light"
     },
     "output_type": "display_data"
    },
    {
     "name": "stdout",
     "output_type": "stream",
     "text": [
      "--- ROC AUC ---------------------------------------------------------------------------------------- \n",
      "\n"
     ]
    },
    {
     "data": {
      "image/png": "[encoded data removed]",
      "text/plain": [
       "<Figure size 360x360 with 1 Axes>"
      ]
     },
     "metadata": {
      "needs_background": "light"
     },
     "output_type": "display_data"
    },
    {
     "name": "stdout",
     "output_type": "stream",
     "text": [
      "--- PRECISION RECALL AUC --------------------------------------------------------------------------- \n",
      "\n"
     ]
    },
    {
     "data": {
      "image/png": "[encoded data removed]",
      "text/plain": [
       "<Figure size 360x360 with 1 Axes>"
      ]
     },
     "metadata": {
      "needs_background": "light"
     },
     "output_type": "display_data"
    }
   ],
   "source": [
    "_ = get_scores(\n",
    "    model_name,\n",
    "    model=model,\n",
    "    X_ref=X_test_ready,\n",
    "    y_ref=y_test, \n",
    "    threshold=0.5,\n",
    "    # y_pred=y_preds, \n",
    "    # y_pred_proba=y_preds_proba, \n",
    "    training_time=train_time, \n",
    "    # inference_time=inf_time, \n",
    "    dagslogger=dagslogger,\n",
    "    register=True,\n",
    ")"
   ]
  },
  {
   "cell_type": "markdown",
   "id": "540bdaf2-f3cf-4783-8ef0-d5aaf300cf14",
   "metadata": {},
   "source": [
    "#### Trouvons le meilleur seuil de séparation pour les prédiction (sur la base du F1 score)"
   ]
  },
  {
   "cell_type": "code",
   "execution_count": 45,
   "id": "6d9f9bef-3316-4656-aa91-4c551e5410ee",
   "metadata": {},
   "outputs": [
    {
     "name": "stdout",
     "output_type": "stream",
     "text": [
      "625/625 [==============================] - 3s 4ms/step\n",
      "The best Accuracy score (0.79125) for this model is reached with a threshold of 0.502\n"
     ]
    }
   ],
   "source": [
    "acc_value, best_threshold = find_best_threshold(model, X_valid_ready, y_valid, accuracy_score)\n",
    "print(f\"The best Accuracy score ({acc_value}) for this model is reached with a threshold of {best_threshold}\")"
   ]
  },
  {
   "cell_type": "code",
   "execution_count": 46,
   "id": "30fc38f5-a74a-4dfb-8503-e4f547f8ee6e",
   "metadata": {
    "colab": {
     "base_uri": "https://localhost:8080/",
     "height": 1000
    },
    "executionInfo": {
     "elapsed": 746,
     "status": "ok",
     "timestamp": 1653231856185,
     "user": {
      "displayName": "Valkea",
      "userId": "01476199649418572392"
     },
     "user_tz": -120
    },
    "id": "81aba764-7f22-4ad1-b0ed-bc5b13f0b75e",
    "outputId": "e3c4ed78-a90b-46e0-baa0-c28f701f4414",
    "tags": []
   },
   "outputs": [
    {
     "name": "stdout",
     "output_type": "stream",
     "text": [
      "625/625 [==============================] - 3s 4ms/step\n",
      "----------------------------------------------------------------------------------------------------\n",
      "          These information are based on the best estimator of the above cross-validation           \n",
      "----------------------------------------------------------------------------------------------------\n",
      "\n",
      "--- EmbedA2 [w. threshold] -------------------------------------------------------------------------\n",
      "\n",
      "             ROC_AUC : 0.8672\n",
      "                  F1 : 0.7936\n",
      "            ACCURACY : 0.7943\n",
      "           PRECISION : 0.7964\n",
      "              RECALL : 0.7907\n",
      "   AVERAGE_PRECISION : 0.8672\n",
      "\n",
      "       TRAINING-TIME : 75.3390\n",
      "      INFERENCE-TIME : 2.7616\n",
      "\n",
      "--- Classification Report -------------------------------------------------------------------------- \n",
      "\n",
      "                 precision    recall  f1-score   support\n",
      "\n",
      "Prediction = 0       0.79      0.80      0.80     10000\n",
      "Prediction = 1       0.80      0.79      0.79     10000\n",
      "\n",
      "      accuracy                           0.79     20000\n",
      "     macro avg       0.79      0.79      0.79     20000\n",
      "  weighted avg       0.79      0.79      0.79     20000\n",
      "\n",
      "--- Confusion Matrix ------------------------------------------------------------------------------- \n",
      "\n"
     ]
    },
    {
     "data": {
      "image/png": "[encoded data removed]",
      "text/plain": [
       "<Figure size 432x432 with 2 Axes>"
      ]
     },
     "metadata": {
      "needs_background": "light"
     },
     "output_type": "display_data"
    }
   ],
   "source": [
    "scores = get_scores(\n",
    "    f\"{model_name} [w. threshold]\",\n",
    "    model=model,\n",
    "    X_ref=X_test_ready,\n",
    "    y_ref=y_test, \n",
    "    threshold=best_threshold,\n",
    "    # y_pred=y_preds, \n",
    "    # y_pred_proba=y_preds_proba, \n",
    "    training_time=train_time, \n",
    "    # inference_time=inf_time, \n",
    "    dagslogger=dagslogger,\n",
    "    register=True,\n",
    "    show_roccurves=False,\n",
    ")"
   ]
  },
  {
   "cell_type": "markdown",
   "id": "9f5455c9-6692-487b-a714-37bfe3802d88",
   "metadata": {},
   "source": [
    "#### Enregistrons les scores pour DagsHub"
   ]
  },
  {
   "cell_type": "code",
   "execution_count": 47,
   "id": "97684106-f223-4166-afda-1f32feafceaf",
   "metadata": {},
   "outputs": [],
   "source": [
    "save_metrics_to_dagshub(dagslogger, scores, best_threshold, history)\n",
    "dagslogger.save() \n",
    "dagslogger.close()"
   ]
  },
  {
   "cell_type": "markdown",
   "id": "d2e79dbf-0d15-461a-b358-6110ea9095de",
   "metadata": {},
   "source": [
    "### Compare"
   ]
  },
  {
   "cell_type": "code",
   "execution_count": 48,
   "id": "1e3ee501-aea5-4c4d-8ec4-0bf6411906cb",
   "metadata": {
    "tags": []
   },
   "outputs": [
    {
     "data": {
      "text/html": [
       "<div>\n",
       "<style scoped>\n",
       "    .dataframe tbody tr th:only-of-type {\n",
       "        vertical-align: middle;\n",
       "    }\n",
       "\n",
       "    .dataframe tbody tr th {\n",
       "        vertical-align: top;\n",
       "    }\n",
       "\n",
       "    .dataframe thead th {\n",
       "        text-align: right;\n",
       "    }\n",
       "</style>\n",
       "<table border=\"1\" class=\"dataframe\">\n",
       "  <thead>\n",
       "    <tr style=\"text-align: right;\">\n",
       "      <th></th>\n",
       "      <th>Method</th>\n",
       "      <th>threshold</th>\n",
       "      <th>params</th>\n",
       "      <th>ROC AUC</th>\n",
       "      <th>PR AUC</th>\n",
       "      <th>F1 score</th>\n",
       "      <th>Accuracy</th>\n",
       "      <th>Precision</th>\n",
       "      <th>Recall</th>\n",
       "      <th>TP</th>\n",
       "      <th>TN</th>\n",
       "      <th>FP</th>\n",
       "      <th>FN</th>\n",
       "      <th>Training time</th>\n",
       "      <th>Inference time</th>\n",
       "    </tr>\n",
       "  </thead>\n",
       "  <tbody>\n",
       "    <tr>\n",
       "      <th>0</th>\n",
       "      <td>EmbedA2</td>\n",
       "      <td>0.500</td>\n",
       "      <td>None</td>\n",
       "      <td>0.867186</td>\n",
       "      <td>0.867202</td>\n",
       "      <td>0.793385</td>\n",
       "      <td>0.79385</td>\n",
       "      <td>0.795178</td>\n",
       "      <td>0.7916</td>\n",
       "      <td>7916</td>\n",
       "      <td>7961</td>\n",
       "      <td>2039</td>\n",
       "      <td>2084</td>\n",
       "      <td>75.339019</td>\n",
       "      <td>2.850952</td>\n",
       "    </tr>\n",
       "    <tr>\n",
       "      <th>1</th>\n",
       "      <td>EmbedA2 [w. threshold]</td>\n",
       "      <td>0.502</td>\n",
       "      <td>None</td>\n",
       "      <td>0.867186</td>\n",
       "      <td>0.867202</td>\n",
       "      <td>0.793557</td>\n",
       "      <td>0.79430</td>\n",
       "      <td>0.796434</td>\n",
       "      <td>0.7907</td>\n",
       "      <td>7907</td>\n",
       "      <td>7979</td>\n",
       "      <td>2021</td>\n",
       "      <td>2093</td>\n",
       "      <td>75.339019</td>\n",
       "      <td>2.761635</td>\n",
       "    </tr>\n",
       "  </tbody>\n",
       "</table>\n",
       "</div>"
      ],
      "text/plain": [
       "                   Method  threshold params   ROC AUC    PR AUC  F1 score  \\\n",
       "0                 EmbedA2      0.500   None  0.867186  0.867202  0.793385   \n",
       "1  EmbedA2 [w. threshold]      0.502   None  0.867186  0.867202  0.793557   \n",
       "\n",
       "   Accuracy  Precision  Recall    TP    TN    FP    FN  Training time  \\\n",
       "0   0.79385   0.795178  0.7916  7916  7961  2039  2084      75.339019   \n",
       "1   0.79430   0.796434  0.7907  7907  7979  2021  2093      75.339019   \n",
       "\n",
       "   Inference time  \n",
       "0        2.850952  \n",
       "1        2.761635  "
      ]
     },
     "execution_count": 48,
     "metadata": {},
     "output_type": "execute_result"
    }
   ],
   "source": [
    "from classification_utils import scores_df\n",
    "scores_df"
   ]
  },
  {
   "cell_type": "markdown",
   "id": "3c65faea-b0f8-449e-9481-08909e3e0ba7",
   "metadata": {
    "tags": []
   },
   "source": [
    "---\n",
    "## 2.4 `EMB-A3` NN | Ngram=2 | count <a class=\"anchor\" id=\"EMBEDDING_BOW_A3\"></a> [⇪](#menu)"
   ]
  },
  {
   "cell_type": "markdown",
   "id": "be78b0ae-a5c4-4055-b367-b34247fb76be",
   "metadata": {},
   "source": [
    "### Standardize & Tokenize"
   ]
  },
  {
   "cell_type": "code",
   "execution_count": 49,
   "id": "6c1cd28f-ee6c-49d1-919e-3793010de9d0",
   "metadata": {
    "tags": []
   },
   "outputs": [
    {
     "name": "stdout",
     "output_type": "stream",
     "text": [
      "['[UNK]', 'i', 'be', 'to', 'the', 'a', 'not', 'my', 'and', 'it', 'you', 'have', 'do', 'for', 'in', 'i be', 'go', 'of', 'that', 'get'] ...\n"
     ]
    }
   ],
   "source": [
    "# Done before\n",
    "print(text_vectorization3.get_vocabulary()[:20], \"...\")"
   ]
  },
  {
   "cell_type": "markdown",
   "id": "81a1e959-ecd1-44a5-b35b-d7d9f58879f5",
   "metadata": {},
   "source": [
    "### Prepare dataset"
   ]
  },
  {
   "cell_type": "code",
   "execution_count": 50,
   "id": "3ce278ef-8852-439f-9c4f-dd678ecc772f",
   "metadata": {
    "tags": []
   },
   "outputs": [
    {
     "name": "stderr",
     "output_type": "stream",
     "text": [
      "2022-08-08 21:52:16.570461: W tensorflow/core/framework/cpu_allocator_impl.cc:82] Allocation of 4800000000 exceeds 10% of free system memory.\n",
      "2022-08-08 21:53:05.095208: W tensorflow/core/framework/cpu_allocator_impl.cc:82] Allocation of 1600000000 exceeds 10% of free system memory.\n"
     ]
    }
   ],
   "source": [
    "X_train_ready = text_vectorization3(X_train)\n",
    "X_valid_ready = text_vectorization3(X_valid)\n",
    "X_test_ready = text_vectorization3(X_test)"
   ]
  },
  {
   "cell_type": "code",
   "execution_count": 51,
   "id": "0564339e-5263-4f8a-8741-66dd7bcb55c1",
   "metadata": {
    "tags": []
   },
   "outputs": [
    {
     "data": {
      "text/plain": [
       "888559               dh way too crazy ... I need a xanax ..\n",
       "500657    I too ... bur with engineering imma be here 5 ...\n",
       "Name: text, dtype: object"
      ]
     },
     "execution_count": 51,
     "metadata": {},
     "output_type": "execute_result"
    }
   ],
   "source": [
    "X_train[:2]"
   ]
  },
  {
   "cell_type": "code",
   "execution_count": 52,
   "id": "ddc9a120-9213-4af8-9bb3-213b62eabc78",
   "metadata": {
    "tags": []
   },
   "outputs": [
    {
     "data": {
      "text/plain": [
       "<tf.Tensor: shape=(2, 20000), dtype=float32, numpy=\n",
       "array([[ 4.,  1.,  0., ...,  0.,  0.,  0.],\n",
       "       [10.,  1.,  1., ...,  0.,  0.,  0.]], dtype=float32)>"
      ]
     },
     "execution_count": 52,
     "metadata": {},
     "output_type": "execute_result"
    }
   ],
   "source": [
    "X_train_ready[:2]"
   ]
  },
  {
   "cell_type": "markdown",
   "id": "13d04048-a632-4d2a-93e7-082148c31d3a",
   "metadata": {},
   "source": [
    "### Define model"
   ]
  },
  {
   "cell_type": "code",
   "execution_count": 53,
   "id": "4c720c4a-3346-47c3-9bcf-b783ffef6845",
   "metadata": {
    "tags": []
   },
   "outputs": [],
   "source": [
    "model_name = \"EmbedA3\"\n",
    "model, archi_desc = architecture001(\"adam\", \"binary_crossentropy\", ['accuracy'], X_train_ready[:0].shape[1])\n",
    "archi_desc = \"No Embedding + Bigrams | \" + archi_desc"
   ]
  },
  {
   "cell_type": "code",
   "execution_count": 54,
   "id": "18bc15d7-45f1-429a-966d-87ef338ac902",
   "metadata": {
    "tags": []
   },
   "outputs": [
    {
     "name": "stdout",
     "output_type": "stream",
     "text": [
      "Model: \"model_1\"\n",
      "_________________________________________________________________\n",
      " Layer (type)                Output Shape              Param #   \n",
      "=================================================================\n",
      " input_2 (InputLayer)        [(None, 20000)]           0         \n",
      "                                                                 \n",
      " dense_1 (Dense)             (None, 16)                320016    \n",
      "                                                                 \n",
      " dropout_1 (Dropout)         (None, 16)                0         \n",
      "                                                                 \n",
      " predictions (Dense)         (None, 1)                 17        \n",
      "                                                                 \n",
      "=================================================================\n",
      "Total params: 320,033\n",
      "Trainable params: 320,033\n",
      "Non-trainable params: 0\n",
      "_________________________________________________________________\n"
     ]
    }
   ],
   "source": [
    "model.summary()"
   ]
  },
  {
   "cell_type": "markdown",
   "id": "dc056004-93dd-4cf0-9642-d2a89dc43787",
   "metadata": {},
   "source": [
    "#### Définissons un logger DagsHub pour enregistrer notre essai"
   ]
  },
  {
   "cell_type": "code",
   "execution_count": 55,
   "id": "fff5fb50-fc23-4b21-964b-bada431e069b",
   "metadata": {},
   "outputs": [],
   "source": [
    "dagslogger = DAGsHubLogger()"
   ]
  },
  {
   "cell_type": "code",
   "execution_count": 56,
   "id": "d0db2d55-b36d-461b-a126-61bd028866a9",
   "metadata": {},
   "outputs": [],
   "source": [
    "save_hyperparameters_to_dagshub(dagslogger, model_name, archi_desc, get_layers_for_dagshub(model), batch_size, data_work.shape[0])"
   ]
  },
  {
   "cell_type": "markdown",
   "id": "7a316368-8c44-413b-9fb2-f6b480af76db",
   "metadata": {},
   "source": [
    "### Train model"
   ]
  },
  {
   "cell_type": "code",
   "execution_count": 57,
   "id": "ba2b3f56-e8c1-44ef-b1b1-1e852f41334f",
   "metadata": {
    "tags": []
   },
   "outputs": [
    {
     "name": "stdout",
     "output_type": "stream",
     "text": [
      "Epoch 1/50\n",
      "59/59 [==============================] - ETA: 0s - loss: 0.6305 - accuracy: 0.6783\n",
      "Epoch 1: val_accuracy improved from -inf to 0.76670, saving model to models/EmbedA3.keras\n",
      "59/59 [==============================] - 12s 162ms/step - loss: 0.6305 - accuracy: 0.6783 - val_loss: 0.5587 - val_accuracy: 0.7667\n",
      "Epoch 2/50\n",
      "59/59 [==============================] - ETA: 0s - loss: 0.5291 - accuracy: 0.7723\n",
      "Epoch 2: val_accuracy improved from 0.76670 to 0.78755, saving model to models/EmbedA3.keras\n",
      "59/59 [==============================] - 9s 162ms/step - loss: 0.5291 - accuracy: 0.7723 - val_loss: 0.5038 - val_accuracy: 0.7875\n",
      "Epoch 3/50\n",
      "59/59 [==============================] - ETA: 0s - loss: 0.4788 - accuracy: 0.7986\n",
      "Epoch 3: val_accuracy improved from 0.78755 to 0.79145, saving model to models/EmbedA3.keras\n",
      "59/59 [==============================] - 11s 185ms/step - loss: 0.4788 - accuracy: 0.7986 - val_loss: 0.4800 - val_accuracy: 0.7915\n",
      "Epoch 4/50\n",
      "59/59 [==============================] - ETA: 0s - loss: 0.4437 - accuracy: 0.8170\n",
      "Epoch 4: val_accuracy improved from 0.79145 to 0.79330, saving model to models/EmbedA3.keras\n",
      "59/59 [==============================] - 11s 192ms/step - loss: 0.4437 - accuracy: 0.8170 - val_loss: 0.4670 - val_accuracy: 0.7933\n",
      "Epoch 5/50\n",
      "59/59 [==============================] - ETA: 0s - loss: 0.4195 - accuracy: 0.8283\n",
      "Epoch 5: val_accuracy improved from 0.79330 to 0.79410, saving model to models/EmbedA3.keras\n",
      "59/59 [==============================] - 11s 194ms/step - loss: 0.4195 - accuracy: 0.8283 - val_loss: 0.4606 - val_accuracy: 0.7941\n",
      "Epoch 6/50\n",
      "59/59 [==============================] - ETA: 0s - loss: 0.3970 - accuracy: 0.8381\n",
      "Epoch 6: val_accuracy did not improve from 0.79410\n",
      "59/59 [==============================] - 10s 171ms/step - loss: 0.3970 - accuracy: 0.8381 - val_loss: 0.4582 - val_accuracy: 0.7936\n",
      "Epoch 7/50\n",
      "59/59 [==============================] - ETA: 0s - loss: 0.3808 - accuracy: 0.8463\n",
      "Epoch 7: val_accuracy did not improve from 0.79410\n",
      "59/59 [==============================] - 10s 165ms/step - loss: 0.3808 - accuracy: 0.8463 - val_loss: 0.4577 - val_accuracy: 0.7916\n",
      "Epoch 8/50\n",
      "59/59 [==============================] - ETA: 0s - loss: 0.3635 - accuracy: 0.8545\n",
      "Epoch 8: val_accuracy did not improve from 0.79410\n",
      "59/59 [==============================] - 12s 205ms/step - loss: 0.3635 - accuracy: 0.8545 - val_loss: 0.4601 - val_accuracy: 0.7908\n",
      "Epoch 9/50\n",
      "59/59 [==============================] - ETA: 0s - loss: 0.3493 - accuracy: 0.8605\n",
      "Epoch 9: val_accuracy did not improve from 0.79410\n",
      "Restoring model weights from the end of the best epoch: 4.\n",
      "59/59 [==============================] - 14s 242ms/step - loss: 0.3493 - accuracy: 0.8605 - val_loss: 0.4635 - val_accuracy: 0.7901\n",
      "Epoch 9: early stopping\n"
     ]
    }
   ],
   "source": [
    "t0 = time.perf_counter()\n",
    "history = model.fit(\n",
    "        x=X_train_ready, y=y_train, \n",
    "        validation_data=(X_test_ready, y_test), \n",
    "        epochs=50, \n",
    "        batch_size=batch_size, \n",
    "        callbacks=init_callbacks(f\"{model_name}\"),\n",
    "        verbose=1,\n",
    ")\n",
    "train_time = time.perf_counter() - t0"
   ]
  },
  {
   "cell_type": "markdown",
   "id": "79e5ca99-2752-458c-a91d-03e7b16dfd68",
   "metadata": {},
   "source": [
    "### Evaluate"
   ]
  },
  {
   "cell_type": "code",
   "execution_count": 58,
   "id": "20ce6f32-0044-4bab-8206-9243a40ede9d",
   "metadata": {
    "tags": []
   },
   "outputs": [],
   "source": [
    "model = keras.models.load_model(f\"models/{model_name}.keras\")"
   ]
  },
  {
   "cell_type": "code",
   "execution_count": 59,
   "id": "8c72d912-0a25-4c97-93e5-806ceee4b8dd",
   "metadata": {
    "tags": []
   },
   "outputs": [
    {
     "name": "stdout",
     "output_type": "stream",
     "text": [
      "625/625 [==============================] - 5s 7ms/step - loss: 0.4606 - accuracy: 0.7941\n"
     ]
    },
    {
     "data": {
      "text/plain": [
       "[0.46061939001083374, 0.7940999865531921]"
      ]
     },
     "execution_count": 59,
     "metadata": {},
     "output_type": "execute_result"
    }
   ],
   "source": [
    "model.evaluate(X_test_ready, y_test)"
   ]
  },
  {
   "cell_type": "code",
   "execution_count": 60,
   "id": "b34dc513-e27d-4ac8-96d5-96b6ed96fdb6",
   "metadata": {
    "tags": []
   },
   "outputs": [
    {
     "name": "stdout",
     "output_type": "stream",
     "text": [
      "1/1 [==============================] - 0s 74ms/step\n"
     ]
    },
    {
     "data": {
      "text/plain": [
       "array([[0.16546588],\n",
       "       [0.88365084]], dtype=float32)"
      ]
     },
     "execution_count": 60,
     "metadata": {},
     "output_type": "execute_result"
    }
   ],
   "source": [
    "raw_txt = tf.convert_to_tensor([\"I hate it\", \"I love it\"])\n",
    "raw_txt = text_vectorization3(raw_txt)\n",
    "model.predict(raw_txt)"
   ]
  },
  {
   "cell_type": "code",
   "execution_count": 61,
   "id": "6e31d809-b490-4d95-a39f-55ade5dceae7",
   "metadata": {
    "colab": {
     "base_uri": "https://localhost:8080/",
     "height": 1000
    },
    "executionInfo": {
     "elapsed": 746,
     "status": "ok",
     "timestamp": 1653231856185,
     "user": {
      "displayName": "Valkea",
      "userId": "01476199649418572392"
     },
     "user_tz": -120
    },
    "id": "81aba764-7f22-4ad1-b0ed-bc5b13f0b75e",
    "outputId": "e3c4ed78-a90b-46e0-baa0-c28f701f4414",
    "tags": []
   },
   "outputs": [
    {
     "name": "stdout",
     "output_type": "stream",
     "text": [
      "625/625 [==============================] - 2s 4ms/step\n",
      "----------------------------------------------------------------------------------------------------\n",
      "          These information are based on the best estimator of the above cross-validation           \n",
      "----------------------------------------------------------------------------------------------------\n",
      "\n",
      "--- EmbedA3 ----------------------------------------------------------------------------------------\n",
      "\n",
      "             ROC_AUC : 0.8667\n",
      "                  F1 : 0.7922\n",
      "            ACCURACY : 0.7941\n",
      "           PRECISION : 0.7996\n",
      "              RECALL : 0.7849\n",
      "   AVERAGE_PRECISION : 0.8664\n",
      "\n",
      "       TRAINING-TIME : 101.6194\n",
      "      INFERENCE-TIME : 2.7075\n",
      "\n",
      "--- Classification Report -------------------------------------------------------------------------- \n",
      "\n",
      "                 precision    recall  f1-score   support\n",
      "\n",
      "Prediction = 0       0.79      0.80      0.80     10000\n",
      "Prediction = 1       0.80      0.78      0.79     10000\n",
      "\n",
      "      accuracy                           0.79     20000\n",
      "     macro avg       0.79      0.79      0.79     20000\n",
      "  weighted avg       0.79      0.79      0.79     20000\n",
      "\n",
      "--- Confusion Matrix ------------------------------------------------------------------------------- \n",
      "\n"
     ]
    },
    {
     "data": {
      "image/png": "[encoded data removed]",
      "text/plain": [
       "<Figure size 432x432 with 2 Axes>"
      ]
     },
     "metadata": {
      "needs_background": "light"
     },
     "output_type": "display_data"
    },
    {
     "name": "stdout",
     "output_type": "stream",
     "text": [
      "--- ROC AUC ---------------------------------------------------------------------------------------- \n",
      "\n"
     ]
    },
    {
     "data": {
      "image/png": "[encoded data removed]",
      "text/plain": [
       "<Figure size 360x360 with 1 Axes>"
      ]
     },
     "metadata": {
      "needs_background": "light"
     },
     "output_type": "display_data"
    },
    {
     "name": "stdout",
     "output_type": "stream",
     "text": [
      "--- PRECISION RECALL AUC --------------------------------------------------------------------------- \n",
      "\n"
     ]
    },
    {
     "data": {
      "image/png": "[encoded data removed]",
      "text/plain": [
       "<Figure size 360x360 with 1 Axes>"
      ]
     },
     "metadata": {
      "needs_background": "light"
     },
     "output_type": "display_data"
    }
   ],
   "source": [
    "_ = get_scores(\n",
    "    model_name,\n",
    "    model=model,\n",
    "    X_ref=X_test_ready,\n",
    "    y_ref=y_test, \n",
    "    threshold=0.5,\n",
    "    # y_pred=y_preds, \n",
    "    # y_pred_proba=y_preds_proba, \n",
    "    training_time=train_time, \n",
    "    # inference_time=inf_time, \n",
    "    dagslogger=dagslogger,\n",
    "    register=True,\n",
    ")"
   ]
  },
  {
   "cell_type": "markdown",
   "id": "e3000f84-c652-43c7-9bb9-234f92cec9de",
   "metadata": {},
   "source": [
    "#### Trouvons le meilleur seuil de séparation pour les prédiction (sur la base du F1 score)"
   ]
  },
  {
   "cell_type": "code",
   "execution_count": 62,
   "id": "cff7e8ce-e5db-487e-a9f9-ae98064ba253",
   "metadata": {},
   "outputs": [
    {
     "name": "stdout",
     "output_type": "stream",
     "text": [
      "625/625 [==============================] - 3s 4ms/step\n",
      "The best Accuracy score (0.7918) for this model is reached with a threshold of 0.46\n"
     ]
    }
   ],
   "source": [
    "acc_value, best_threshold = find_best_threshold(model, X_valid_ready, y_valid, accuracy_score)\n",
    "print(f\"The best Accuracy score ({acc_value}) for this model is reached with a threshold of {best_threshold}\")"
   ]
  },
  {
   "cell_type": "code",
   "execution_count": 63,
   "id": "23a49be1-bf2b-44b8-b23e-77f0649f8646",
   "metadata": {
    "colab": {
     "base_uri": "https://localhost:8080/",
     "height": 1000
    },
    "executionInfo": {
     "elapsed": 746,
     "status": "ok",
     "timestamp": 1653231856185,
     "user": {
      "displayName": "Valkea",
      "userId": "01476199649418572392"
     },
     "user_tz": -120
    },
    "id": "81aba764-7f22-4ad1-b0ed-bc5b13f0b75e",
    "outputId": "e3c4ed78-a90b-46e0-baa0-c28f701f4414",
    "tags": []
   },
   "outputs": [
    {
     "name": "stdout",
     "output_type": "stream",
     "text": [
      "625/625 [==============================] - 3s 5ms/step\n",
      "----------------------------------------------------------------------------------------------------\n",
      "          These information are based on the best estimator of the above cross-validation           \n",
      "----------------------------------------------------------------------------------------------------\n",
      "\n",
      "--- EmbedA3 [w. threshold] -------------------------------------------------------------------------\n",
      "\n",
      "             ROC_AUC : 0.8667\n",
      "                  F1 : 0.7957\n",
      "            ACCURACY : 0.7910\n",
      "           PRECISION : 0.7781\n",
      "              RECALL : 0.8140\n",
      "   AVERAGE_PRECISION : 0.8664\n",
      "\n",
      "       TRAINING-TIME : 101.6194\n",
      "      INFERENCE-TIME : 3.0861\n",
      "\n",
      "--- Classification Report -------------------------------------------------------------------------- \n",
      "\n",
      "                 precision    recall  f1-score   support\n",
      "\n",
      "Prediction = 0       0.81      0.77      0.79     10000\n",
      "Prediction = 1       0.78      0.81      0.80     10000\n",
      "\n",
      "      accuracy                           0.79     20000\n",
      "     macro avg       0.79      0.79      0.79     20000\n",
      "  weighted avg       0.79      0.79      0.79     20000\n",
      "\n",
      "--- Confusion Matrix ------------------------------------------------------------------------------- \n",
      "\n"
     ]
    },
    {
     "data": {
      "image/png": "[encoded data removed]",
      "text/plain": [
       "<Figure size 432x432 with 2 Axes>"
      ]
     },
     "metadata": {
      "needs_background": "light"
     },
     "output_type": "display_data"
    }
   ],
   "source": [
    "scores = get_scores(\n",
    "    f\"{model_name} [w. threshold]\",\n",
    "    model=model,\n",
    "    X_ref=X_test_ready,\n",
    "    y_ref=y_test, \n",
    "    threshold=best_threshold,\n",
    "    # y_pred=y_preds, \n",
    "    # y_pred_proba=y_preds_proba, \n",
    "    training_time=train_time, \n",
    "    # inference_time=inf_time, \n",
    "    dagslogger=dagslogger,\n",
    "    register=True,\n",
    "    show_roccurves=False,\n",
    ")"
   ]
  },
  {
   "cell_type": "markdown",
   "id": "53885b7d-41b8-4301-98e5-f57b5037d22f",
   "metadata": {},
   "source": [
    "#### Enregistrons les scores pour DagsHub"
   ]
  },
  {
   "cell_type": "code",
   "execution_count": 64,
   "id": "5e6ff44c-d664-461f-9d5f-b5889479415c",
   "metadata": {},
   "outputs": [],
   "source": [
    "save_metrics_to_dagshub(dagslogger, scores, best_threshold, history)\n",
    "dagslogger.save() \n",
    "dagslogger.close()"
   ]
  },
  {
   "cell_type": "markdown",
   "id": "a03bd729-bc30-45fe-8a6f-db9c492bcb7d",
   "metadata": {},
   "source": [
    "### Compare"
   ]
  },
  {
   "cell_type": "code",
   "execution_count": 65,
   "id": "90f7a432-4f3f-47f1-9549-42751213a9c5",
   "metadata": {
    "tags": []
   },
   "outputs": [
    {
     "data": {
      "text/html": [
       "<div>\n",
       "<style scoped>\n",
       "    .dataframe tbody tr th:only-of-type {\n",
       "        vertical-align: middle;\n",
       "    }\n",
       "\n",
       "    .dataframe tbody tr th {\n",
       "        vertical-align: top;\n",
       "    }\n",
       "\n",
       "    .dataframe thead th {\n",
       "        text-align: right;\n",
       "    }\n",
       "</style>\n",
       "<table border=\"1\" class=\"dataframe\">\n",
       "  <thead>\n",
       "    <tr style=\"text-align: right;\">\n",
       "      <th></th>\n",
       "      <th>Method</th>\n",
       "      <th>threshold</th>\n",
       "      <th>params</th>\n",
       "      <th>ROC AUC</th>\n",
       "      <th>PR AUC</th>\n",
       "      <th>F1 score</th>\n",
       "      <th>Accuracy</th>\n",
       "      <th>Precision</th>\n",
       "      <th>Recall</th>\n",
       "      <th>TP</th>\n",
       "      <th>TN</th>\n",
       "      <th>FP</th>\n",
       "      <th>FN</th>\n",
       "      <th>Training time</th>\n",
       "      <th>Inference time</th>\n",
       "    </tr>\n",
       "  </thead>\n",
       "  <tbody>\n",
       "    <tr>\n",
       "      <th>0</th>\n",
       "      <td>EmbedA2</td>\n",
       "      <td>0.500</td>\n",
       "      <td>None</td>\n",
       "      <td>0.867186</td>\n",
       "      <td>0.867202</td>\n",
       "      <td>0.793385</td>\n",
       "      <td>0.79385</td>\n",
       "      <td>0.795178</td>\n",
       "      <td>0.7916</td>\n",
       "      <td>7916</td>\n",
       "      <td>7961</td>\n",
       "      <td>2039</td>\n",
       "      <td>2084</td>\n",
       "      <td>75.339019</td>\n",
       "      <td>2.850952</td>\n",
       "    </tr>\n",
       "    <tr>\n",
       "      <th>1</th>\n",
       "      <td>EmbedA2 [w. threshold]</td>\n",
       "      <td>0.502</td>\n",
       "      <td>None</td>\n",
       "      <td>0.867186</td>\n",
       "      <td>0.867202</td>\n",
       "      <td>0.793557</td>\n",
       "      <td>0.79430</td>\n",
       "      <td>0.796434</td>\n",
       "      <td>0.7907</td>\n",
       "      <td>7907</td>\n",
       "      <td>7979</td>\n",
       "      <td>2021</td>\n",
       "      <td>2093</td>\n",
       "      <td>75.339019</td>\n",
       "      <td>2.761635</td>\n",
       "    </tr>\n",
       "    <tr>\n",
       "      <th>2</th>\n",
       "      <td>EmbedA3</td>\n",
       "      <td>0.500</td>\n",
       "      <td>None</td>\n",
       "      <td>0.866717</td>\n",
       "      <td>0.866403</td>\n",
       "      <td>0.792188</td>\n",
       "      <td>0.79410</td>\n",
       "      <td>0.799613</td>\n",
       "      <td>0.7849</td>\n",
       "      <td>7849</td>\n",
       "      <td>8033</td>\n",
       "      <td>1967</td>\n",
       "      <td>2151</td>\n",
       "      <td>101.619375</td>\n",
       "      <td>2.707457</td>\n",
       "    </tr>\n",
       "    <tr>\n",
       "      <th>3</th>\n",
       "      <td>EmbedA3 [w. threshold]</td>\n",
       "      <td>0.460</td>\n",
       "      <td>None</td>\n",
       "      <td>0.866717</td>\n",
       "      <td>0.866403</td>\n",
       "      <td>0.795660</td>\n",
       "      <td>0.79095</td>\n",
       "      <td>0.778128</td>\n",
       "      <td>0.8140</td>\n",
       "      <td>8140</td>\n",
       "      <td>7679</td>\n",
       "      <td>2321</td>\n",
       "      <td>1860</td>\n",
       "      <td>101.619375</td>\n",
       "      <td>3.086055</td>\n",
       "    </tr>\n",
       "  </tbody>\n",
       "</table>\n",
       "</div>"
      ],
      "text/plain": [
       "                   Method  threshold params   ROC AUC    PR AUC  F1 score  \\\n",
       "0                 EmbedA2      0.500   None  0.867186  0.867202  0.793385   \n",
       "1  EmbedA2 [w. threshold]      0.502   None  0.867186  0.867202  0.793557   \n",
       "2                 EmbedA3      0.500   None  0.866717  0.866403  0.792188   \n",
       "3  EmbedA3 [w. threshold]      0.460   None  0.866717  0.866403  0.795660   \n",
       "\n",
       "   Accuracy  Precision  Recall    TP    TN    FP    FN  Training time  \\\n",
       "0   0.79385   0.795178  0.7916  7916  7961  2039  2084      75.339019   \n",
       "1   0.79430   0.796434  0.7907  7907  7979  2021  2093      75.339019   \n",
       "2   0.79410   0.799613  0.7849  7849  8033  1967  2151     101.619375   \n",
       "3   0.79095   0.778128  0.8140  8140  7679  2321  1860     101.619375   \n",
       "\n",
       "   Inference time  \n",
       "0        2.850952  \n",
       "1        2.761635  \n",
       "2        2.707457  \n",
       "3        3.086055  "
      ]
     },
     "execution_count": 65,
     "metadata": {},
     "output_type": "execute_result"
    }
   ],
   "source": [
    "from classification_utils import scores_df\n",
    "scores_df"
   ]
  },
  {
   "cell_type": "markdown",
   "id": "5f84544b-15b3-4b7f-93e1-f6b7f759668d",
   "metadata": {
    "tags": []
   },
   "source": [
    "---\n",
    "## 2.5 `EMB-A4` NN | Ngram=2 | tf-idf <a class=\"anchor\" id=\"EMBEDDING_BOW_A4\"></a> [⇪](#menu)"
   ]
  },
  {
   "cell_type": "markdown",
   "id": "13f82098-89a5-4498-9c11-60742203763a",
   "metadata": {},
   "source": [
    "### Standardize & Tokenize"
   ]
  },
  {
   "cell_type": "code",
   "execution_count": null,
   "id": "b222ec17-cc6d-43be-9a37-bf52d7e14aa2",
   "metadata": {},
   "outputs": [],
   "source": [
    "# Done before\n",
    "print(text_vectorization4.get_vocabulary()[:20], \"...\")"
   ]
  },
  {
   "cell_type": "markdown",
   "id": "40d4dbe1-e677-4693-8f43-6d6322df0108",
   "metadata": {},
   "source": [
    "### Prepare dataset"
   ]
  },
  {
   "cell_type": "code",
   "execution_count": null,
   "id": "eebab130-5d59-4a14-a55f-b891be049a82",
   "metadata": {},
   "outputs": [],
   "source": [
    "X_train_ready = text_vectorization4(X_train)\n",
    "X_valid_ready = text_vectorization0(X_valid)\n",
    "X_test_ready = text_vectorization4(X_test)"
   ]
  },
  {
   "cell_type": "code",
   "execution_count": null,
   "id": "8d7f6a66-2584-4f0a-b518-d09a921c97cb",
   "metadata": {},
   "outputs": [],
   "source": [
    "X_train[:2]"
   ]
  },
  {
   "cell_type": "code",
   "execution_count": null,
   "id": "766105f1-c933-49a5-85eb-a38c0d245f52",
   "metadata": {},
   "outputs": [],
   "source": [
    "X_train_ready[:2]"
   ]
  },
  {
   "cell_type": "markdown",
   "id": "17971925-c2e8-48eb-b8d8-cff35506b216",
   "metadata": {},
   "source": [
    "### Define model"
   ]
  },
  {
   "cell_type": "code",
   "execution_count": null,
   "id": "f2a267ee-03d3-4e81-be53-f52ecb5c82fe",
   "metadata": {
    "tags": []
   },
   "outputs": [],
   "source": [
    "model_name = \"EmbedA4\"\n",
    "model, archi_desc = architecture001(\"adam\", \"binary_crossentropy\", ['accuracy'], X_train_ready[:0].shape[1])\n",
    "archi_desc = \"No Embedding + Bigrams | \" + archi_desc"
   ]
  },
  {
   "cell_type": "code",
   "execution_count": null,
   "id": "277351ce-2bb9-4644-a8d0-e894dd14155d",
   "metadata": {
    "tags": []
   },
   "outputs": [],
   "source": [
    "model.summary()"
   ]
  },
  {
   "cell_type": "markdown",
   "id": "0885f4aa-e3ea-4034-943f-24b023acec40",
   "metadata": {},
   "source": [
    "#### Définissons un logger DagsHub pour enregistrer notre essai"
   ]
  },
  {
   "cell_type": "code",
   "execution_count": null,
   "id": "9ea502ab-0ded-4790-85ea-f6683386a9a4",
   "metadata": {},
   "outputs": [],
   "source": [
    "dagslogger = DAGsHubLogger()"
   ]
  },
  {
   "cell_type": "code",
   "execution_count": null,
   "id": "38616f38-05b5-42ef-9eda-9ef37f605aed",
   "metadata": {},
   "outputs": [],
   "source": [
    "save_hyperparameters_to_dagshub(dagslogger, model_name, archi_desc, get_layers_for_dagshub(model), batch_size, data_work.shape[0])"
   ]
  },
  {
   "cell_type": "markdown",
   "id": "2190230c-cbdb-4ab0-8de3-c911e7d12f1c",
   "metadata": {},
   "source": [
    "### Train model"
   ]
  },
  {
   "cell_type": "code",
   "execution_count": null,
   "id": "84d0af0f-be9e-44ef-914d-52da1c5672bf",
   "metadata": {
    "tags": []
   },
   "outputs": [],
   "source": [
    "t0 = time.perf_counter()\n",
    "history = model.fit(\n",
    "        x=X_train_ready, y=y_train, \n",
    "        validation_data=(X_test_ready, y_test), \n",
    "        epochs=50, \n",
    "        batch_size=batch_size, \n",
    "        callbacks=init_callbacks(f\"{model_name}\"),\n",
    "        verbose=1,\n",
    ")\n",
    "train_time = time.perf_counter() - t0"
   ]
  },
  {
   "cell_type": "markdown",
   "id": "efec6f0f-3de5-4fdc-b67c-dea1322eae8f",
   "metadata": {},
   "source": [
    "### Evaluate"
   ]
  },
  {
   "cell_type": "code",
   "execution_count": null,
   "id": "cb2fa217-9d75-4e0b-87fc-cc72eb434245",
   "metadata": {
    "tags": []
   },
   "outputs": [],
   "source": [
    "model = keras.models.load_model(f\"models/{model_name}.keras\")"
   ]
  },
  {
   "cell_type": "code",
   "execution_count": null,
   "id": "d4207499-b2b7-427f-bd39-3f2592ecba65",
   "metadata": {},
   "outputs": [],
   "source": [
    "model.evaluate(X_test_ready, y_test)"
   ]
  },
  {
   "cell_type": "code",
   "execution_count": null,
   "id": "006de38d-02b0-4cb4-ab94-e1bc7edf51bb",
   "metadata": {},
   "outputs": [],
   "source": [
    "raw_txt = tf.convert_to_tensor([\"I hate it\", \"I love it\"])\n",
    "raw_txt = text_vectorization4(raw_txt)\n",
    "model.predict(raw_txt)"
   ]
  },
  {
   "cell_type": "code",
   "execution_count": null,
   "id": "a344e4ab-cfa7-4f2c-a293-88c8332b62ce",
   "metadata": {
    "colab": {
     "base_uri": "https://localhost:8080/",
     "height": 1000
    },
    "executionInfo": {
     "elapsed": 746,
     "status": "ok",
     "timestamp": 1653231856185,
     "user": {
      "displayName": "Valkea",
      "userId": "01476199649418572392"
     },
     "user_tz": -120
    },
    "id": "81aba764-7f22-4ad1-b0ed-bc5b13f0b75e",
    "outputId": "e3c4ed78-a90b-46e0-baa0-c28f701f4414",
    "tags": []
   },
   "outputs": [],
   "source": [
    "_ = get_scores(\n",
    "    model_name,\n",
    "    model=model,\n",
    "    X_ref=X_test_ready,\n",
    "    y_ref=y_test, \n",
    "    threshold=0.5,\n",
    "    # y_pred=y_preds, \n",
    "    # y_pred_proba=y_preds_proba, \n",
    "    training_time=train_time, \n",
    "    # inference_time=inf_time, \n",
    "    dagslogger=dagslogger,\n",
    "    register=True,\n",
    ")"
   ]
  },
  {
   "cell_type": "markdown",
   "id": "6f241eb0-bd5a-48b5-abdf-fa9e697e8f27",
   "metadata": {},
   "source": [
    "#### Trouvons le meilleur seuil de séparation pour les prédiction (sur la base du F1 score)"
   ]
  },
  {
   "cell_type": "code",
   "execution_count": null,
   "id": "e54bae1d-7a3b-4603-ba37-0e702557c21a",
   "metadata": {},
   "outputs": [],
   "source": [
    "acc_value, best_threshold = find_best_threshold(model, X_valid_ready, y_valid, accuracy_score)\n",
    "print(f\"The best Accuracy score ({acc_value}) for this model is reached with a threshold of {best_threshold}\")"
   ]
  },
  {
   "cell_type": "code",
   "execution_count": null,
   "id": "4fdb62fa-973a-4936-a780-2a72d19c82cb",
   "metadata": {
    "colab": {
     "base_uri": "https://localhost:8080/",
     "height": 1000
    },
    "executionInfo": {
     "elapsed": 746,
     "status": "ok",
     "timestamp": 1653231856185,
     "user": {
      "displayName": "Valkea",
      "userId": "01476199649418572392"
     },
     "user_tz": -120
    },
    "id": "81aba764-7f22-4ad1-b0ed-bc5b13f0b75e",
    "outputId": "e3c4ed78-a90b-46e0-baa0-c28f701f4414",
    "tags": []
   },
   "outputs": [],
   "source": [
    "scores = get_scores(\n",
    "    f\"{model_name} [w. threshold]\",\n",
    "    model=model,\n",
    "    X_ref=X_test_ready,\n",
    "    y_ref=y_test, \n",
    "    threshold=best_threshold,\n",
    "    # y_pred=y_preds, \n",
    "    # y_pred_proba=y_preds_proba, \n",
    "    training_time=train_time, \n",
    "    # inference_time=inf_time, \n",
    "    dagslogger=dagslogger,\n",
    "    register=True,\n",
    "    show_roccurves=False,\n",
    ")"
   ]
  },
  {
   "cell_type": "markdown",
   "id": "1b171138-6d54-47c2-a21a-50e363b030a0",
   "metadata": {},
   "source": [
    "#### Enregistrons les scores pour DagsHub"
   ]
  },
  {
   "cell_type": "code",
   "execution_count": null,
   "id": "439deb0f-9c14-48c8-8c76-94ba72d554fd",
   "metadata": {},
   "outputs": [],
   "source": [
    "save_metrics_to_dagshub(dagslogger, scores, best_threshold, history)\n",
    "dagslogger.save() \n",
    "dagslogger.close()"
   ]
  },
  {
   "cell_type": "markdown",
   "id": "78b9e4f7-8f08-4690-8edc-1b358fffd726",
   "metadata": {},
   "source": [
    "### Compare"
   ]
  },
  {
   "cell_type": "code",
   "execution_count": null,
   "id": "68b36bb6-8bfc-4abf-b6d3-8842fdf609d7",
   "metadata": {
    "tags": []
   },
   "outputs": [],
   "source": [
    "from classification_utils import scores_df\n",
    "scores_df"
   ]
  },
  {
   "cell_type": "markdown",
   "id": "fb13009e-adf9-4d1c-b0e6-313242c7430f",
   "metadata": {},
   "source": [
    "---\n",
    "---\n",
    "# 3. Recherche de l'`embedding` le plus adapté avec des modèles `Séquentiels` <a class=\"anchor\" id=\"EMBEDDING_SEQ\"></a> [⇪](#menu)"
   ]
  },
  {
   "cell_type": "markdown",
   "id": "9bd6bc39-02ea-4c65-876e-62f4e2691313",
   "metadata": {
    "tags": []
   },
   "source": [
    "---\n",
    "## 3.1 `EMB-B0` RNN | Ngram=2 | int | One-hot-embedding <a class=\"anchor\" id=\"EMBEDDING_SEQ_B0\"></a> [⇪](#menu)"
   ]
  },
  {
   "cell_type": "markdown",
   "id": "06259420-9273-4ef0-bfea-6fa1486eabe3",
   "metadata": {},
   "source": [
    "### Standardize & Tokenize"
   ]
  },
  {
   "cell_type": "code",
   "execution_count": null,
   "id": "f4363fbd-c586-4422-b49a-abb3e388375c",
   "metadata": {
    "tags": []
   },
   "outputs": [],
   "source": [
    "# Done before\n",
    "print(text_vectorizationBng2.get_vocabulary()[:20], \"...\")"
   ]
  },
  {
   "cell_type": "markdown",
   "id": "7e2c3eca-3f0e-4a25-9d5e-64711efc11c8",
   "metadata": {},
   "source": [
    "### Prepare dataset"
   ]
  },
  {
   "cell_type": "code",
   "execution_count": null,
   "id": "f0ab3dbc-a596-42cf-8e56-8b30ec73e555",
   "metadata": {
    "tags": []
   },
   "outputs": [],
   "source": [
    "X_train_ready = text_vectorizationBng2(X_train)\n",
    "X_valid_ready = text_vectorization0(X_valid)\n",
    "X_test_ready = text_vectorizationBng2(X_test)"
   ]
  },
  {
   "cell_type": "code",
   "execution_count": null,
   "id": "fa14851c-c9f6-45a3-9cb1-7640ab0f1dec",
   "metadata": {
    "tags": []
   },
   "outputs": [],
   "source": [
    "X_train[:2]"
   ]
  },
  {
   "cell_type": "code",
   "execution_count": null,
   "id": "1b8f4902-89b9-4982-98d8-1a08b265a066",
   "metadata": {
    "tags": []
   },
   "outputs": [],
   "source": [
    "X_train_ready[:2]"
   ]
  },
  {
   "cell_type": "markdown",
   "id": "d106fc59-bbdf-41c4-906b-47278e46a67f",
   "metadata": {},
   "source": [
    "### Define model"
   ]
  },
  {
   "cell_type": "code",
   "execution_count": null,
   "id": "6888675d-57fd-426c-9052-57d9ce53b5a5",
   "metadata": {
    "tags": []
   },
   "outputs": [],
   "source": [
    "model_name = \"EmbedB0\"\n",
    "model, archi_desc = architecture002_oh(\"adam\", \"binary_crossentropy\", ['accuracy'], max_tokens)\n",
    "archi_desc = \"One-Hot Embedding layer + Bigrams | \" + archi_desc"
   ]
  },
  {
   "cell_type": "code",
   "execution_count": null,
   "id": "b438c34d-6c9b-4666-b7fb-ead0133009d4",
   "metadata": {
    "tags": []
   },
   "outputs": [],
   "source": [
    "model.summary()"
   ]
  },
  {
   "cell_type": "markdown",
   "id": "02e7214e-cbc6-4241-9da0-e9852cc4c673",
   "metadata": {},
   "source": [
    "#### Définissons un logger DagsHub pour enregistrer notre essai"
   ]
  },
  {
   "cell_type": "code",
   "execution_count": null,
   "id": "4b433027-1d53-47d7-8b74-1d2099c9bbd5",
   "metadata": {},
   "outputs": [],
   "source": [
    "dagslogger = DAGsHubLogger()"
   ]
  },
  {
   "cell_type": "code",
   "execution_count": null,
   "id": "452d505c-ffab-4986-8826-f401e5176501",
   "metadata": {},
   "outputs": [],
   "source": [
    "save_hyperparameters_to_dagshub(dagslogger, model_name, archi_desc, get_layers_for_dagshub(model), batch_size, data_work.shape[0])"
   ]
  },
  {
   "cell_type": "markdown",
   "id": "3b09683a-82dc-4aba-81f7-97022be6f2a4",
   "metadata": {},
   "source": [
    "### Train model"
   ]
  },
  {
   "cell_type": "code",
   "execution_count": null,
   "id": "855e3b9f-55fe-46c5-ba1d-95b690cf0516",
   "metadata": {
    "tags": []
   },
   "outputs": [],
   "source": [
    "t0 = time.perf_counter()\n",
    "history = model.fit(\n",
    "        x=X_train_ready, y=y_train, \n",
    "        validation_data=(X_test_ready, y_test), \n",
    "        epochs=50, \n",
    "        batch_size=batch_size, \n",
    "        callbacks=init_callbacks(f\"{model_name}\"),\n",
    "        verbose=1,\n",
    ")\n",
    "train_time = time.perf_counter() - t0"
   ]
  },
  {
   "cell_type": "markdown",
   "id": "c35128f9-4e87-48f1-8dbd-51c8bf74c641",
   "metadata": {},
   "source": [
    "### Evaluate"
   ]
  },
  {
   "cell_type": "code",
   "execution_count": null,
   "id": "6ab5c66e-85e3-4d8d-ad16-39afdbd532e7",
   "metadata": {
    "tags": []
   },
   "outputs": [],
   "source": [
    "model = keras.models.load_model(f\"models/{model_name}.keras\")"
   ]
  },
  {
   "cell_type": "code",
   "execution_count": null,
   "id": "ef244dfb-530d-4962-a84f-7ddd17b25998",
   "metadata": {
    "tags": []
   },
   "outputs": [],
   "source": [
    "model.evaluate(X_test_ready, y_test)"
   ]
  },
  {
   "cell_type": "code",
   "execution_count": null,
   "id": "4595341c-dd73-4b66-b9cb-141ef1c378b7",
   "metadata": {
    "tags": []
   },
   "outputs": [],
   "source": [
    "raw_txt = tf.convert_to_tensor([\"I hate it\", \"I love it\"])\n",
    "raw_txt = text_vectorizationBng2(raw_txt)\n",
    "model.predict(raw_txt)"
   ]
  },
  {
   "cell_type": "code",
   "execution_count": null,
   "id": "6a068eaa-a176-4981-bb16-d17388523be4",
   "metadata": {
    "colab": {
     "base_uri": "https://localhost:8080/",
     "height": 1000
    },
    "executionInfo": {
     "elapsed": 746,
     "status": "ok",
     "timestamp": 1653231856185,
     "user": {
      "displayName": "Valkea",
      "userId": "01476199649418572392"
     },
     "user_tz": -120
    },
    "id": "81aba764-7f22-4ad1-b0ed-bc5b13f0b75e",
    "outputId": "e3c4ed78-a90b-46e0-baa0-c28f701f4414",
    "tags": []
   },
   "outputs": [],
   "source": [
    "_ = get_scores(\n",
    "    model_name,\n",
    "    model=model,\n",
    "    X_ref=X_test_ready,\n",
    "    y_ref=y_test, \n",
    "    threshold=0.5,\n",
    "    # y_pred=y_preds, \n",
    "    # y_pred_proba=y_preds_proba, \n",
    "    training_time=train_time, \n",
    "    # inference_time=inf_time, \n",
    "    dagslogger=dagslogger,\n",
    "    register=True,\n",
    ")"
   ]
  },
  {
   "cell_type": "markdown",
   "id": "c70c4f7d-38cf-4e56-9ba4-a9c2ab215bda",
   "metadata": {},
   "source": [
    "#### Trouvons le meilleur seuil de séparation pour les prédiction (sur la base du F1 score)"
   ]
  },
  {
   "cell_type": "code",
   "execution_count": null,
   "id": "e464a284-fa3d-4255-80ce-97c0b839e7e6",
   "metadata": {},
   "outputs": [],
   "source": [
    "acc_value, best_threshold = find_best_threshold(model, X_valid_ready, y_valid, accuracy_score)\n",
    "print(f\"The best Accuracy score ({acc_value}) for this model is reached with a threshold of {best_threshold}\")"
   ]
  },
  {
   "cell_type": "code",
   "execution_count": null,
   "id": "5762bee0-88af-4ef9-93d1-d24bee67a5fe",
   "metadata": {
    "colab": {
     "base_uri": "https://localhost:8080/",
     "height": 1000
    },
    "executionInfo": {
     "elapsed": 746,
     "status": "ok",
     "timestamp": 1653231856185,
     "user": {
      "displayName": "Valkea",
      "userId": "01476199649418572392"
     },
     "user_tz": -120
    },
    "id": "81aba764-7f22-4ad1-b0ed-bc5b13f0b75e",
    "outputId": "e3c4ed78-a90b-46e0-baa0-c28f701f4414",
    "tags": []
   },
   "outputs": [],
   "source": [
    "scores = get_scores(\n",
    "    f\"{model_name} [w. threshold]\",\n",
    "    model=model,\n",
    "    X_ref=X_test_ready,\n",
    "    y_ref=y_test, \n",
    "    threshold=best_threshold,\n",
    "    # y_pred=y_preds, \n",
    "    # y_pred_proba=y_preds_proba, \n",
    "    training_time=train_time, \n",
    "    # inference_time=inf_time, \n",
    "    dagslogger=dagslogger,\n",
    "    register=True,\n",
    "    show_roccurves=False,\n",
    ")"
   ]
  },
  {
   "cell_type": "markdown",
   "id": "abcda03a-5bdf-47be-9b01-3c8d01207a01",
   "metadata": {},
   "source": [
    "#### Enregistrons les scores pour DagsHub"
   ]
  },
  {
   "cell_type": "code",
   "execution_count": null,
   "id": "6a554874-2009-413a-a354-0af2e1d7bcb9",
   "metadata": {},
   "outputs": [],
   "source": [
    "save_metrics_to_dagshub(dagslogger, scores, best_threshold, history)\n",
    "dagslogger.save() \n",
    "dagslogger.close()"
   ]
  },
  {
   "cell_type": "markdown",
   "id": "98ceb416-a7ab-460f-9a77-0c23f3fec328",
   "metadata": {},
   "source": [
    "### Compare"
   ]
  },
  {
   "cell_type": "code",
   "execution_count": null,
   "id": "31824698-69e2-4693-8c6a-8515dce5e8f5",
   "metadata": {
    "tags": []
   },
   "outputs": [],
   "source": [
    "from classification_utils import scores_df\n",
    "scores_df"
   ]
  },
  {
   "cell_type": "markdown",
   "id": "83c482f1-6d7b-4620-a605-d4106ed7238b",
   "metadata": {
    "tags": []
   },
   "source": [
    "---\n",
    "## 3.2 `EMB-B1` RNN | Ngram=2 | int | Keras embedding <a class=\"anchor\" id=\"EMBEDDING_SEQ_B1\"></a> [⇪](#menu)"
   ]
  },
  {
   "cell_type": "markdown",
   "id": "4feb4fbe-4582-468c-a70d-fcdaa1c0b916",
   "metadata": {},
   "source": [
    "### Standardize & Tokenize"
   ]
  },
  {
   "cell_type": "code",
   "execution_count": null,
   "id": "f433e8dd-9eef-4c47-9d24-e552495aac8c",
   "metadata": {
    "tags": []
   },
   "outputs": [],
   "source": [
    "# Done before\n",
    "print(text_vectorizationBng2.get_vocabulary()[:20], \"...\")"
   ]
  },
  {
   "cell_type": "markdown",
   "id": "d5eb6b61-0858-49eb-9bda-1d6f61e5561f",
   "metadata": {},
   "source": [
    "### Prepare dataset"
   ]
  },
  {
   "cell_type": "code",
   "execution_count": null,
   "id": "d568192a-f2b0-4237-93b0-842df5701908",
   "metadata": {
    "tags": []
   },
   "outputs": [],
   "source": [
    "X_train_ready = text_vectorizationBng2(X_train)\n",
    "X_valid_ready = text_vectorization0(X_valid)\n",
    "X_test_ready = text_vectorizationBng2(X_test)"
   ]
  },
  {
   "cell_type": "code",
   "execution_count": null,
   "id": "aa25e7f0-25cb-4fe7-8950-b7696311e2f9",
   "metadata": {
    "tags": []
   },
   "outputs": [],
   "source": [
    "X_train[:2]"
   ]
  },
  {
   "cell_type": "code",
   "execution_count": null,
   "id": "101df780-91ea-4960-9269-8016c4bab21c",
   "metadata": {
    "tags": []
   },
   "outputs": [],
   "source": [
    "X_train_ready[:2]"
   ]
  },
  {
   "cell_type": "markdown",
   "id": "0696df61-20ae-4978-a0d9-ca71141f58b2",
   "metadata": {},
   "source": [
    "### Embedding"
   ]
  },
  {
   "cell_type": "code",
   "execution_count": null,
   "id": "8a377614-d917-4e80-b0df-ae4b92cff5af",
   "metadata": {
    "tags": []
   },
   "outputs": [],
   "source": [
    "# Embedding simple\n",
    "embedding_layer = layers.Embedding(\n",
    "    input_dim=max_tokens,\n",
    "    output_dim=128, \n",
    "    input_length=X_train_ready.shape[1],\n",
    "    # mask_zero=True,\n",
    "    # trainable=True, # <== default is True\n",
    ")"
   ]
  },
  {
   "cell_type": "markdown",
   "id": "a492f8ec-acad-4350-9203-f45e17fd1352",
   "metadata": {},
   "source": [
    "### Define model"
   ]
  },
  {
   "cell_type": "code",
   "execution_count": null,
   "id": "738345b1-753e-4a8e-8049-c216df750a1b",
   "metadata": {
    "tags": []
   },
   "outputs": [],
   "source": [
    "model_name = \"EmbedB1\"\n",
    "model, archi_desc = architecture002(\"adam\", \"binary_crossentropy\", ['accuracy'], embedding_layer)\n",
    "archi_desc = \"Keras Embedding + Bigrams | \" + archi_desc"
   ]
  },
  {
   "cell_type": "code",
   "execution_count": null,
   "id": "cdefa902-ae9b-4835-8609-966ca532a19b",
   "metadata": {
    "tags": []
   },
   "outputs": [],
   "source": [
    "model.summary()"
   ]
  },
  {
   "cell_type": "markdown",
   "id": "c5e7efe2-e1b5-4240-b415-926a67e74b6c",
   "metadata": {},
   "source": [
    "#### Définissons un logger DagsHub pour enregistrer notre essai"
   ]
  },
  {
   "cell_type": "code",
   "execution_count": null,
   "id": "ad82311f-241e-429c-a060-c2eb35acb945",
   "metadata": {},
   "outputs": [],
   "source": [
    "dagslogger = DAGsHubLogger()"
   ]
  },
  {
   "cell_type": "code",
   "execution_count": null,
   "id": "0875d3aa-79ce-41f3-b4ec-20cfb91ae876",
   "metadata": {},
   "outputs": [],
   "source": [
    "save_hyperparameters_to_dagshub(dagslogger, model_name, archi_desc, get_layers_for_dagshub(model), batch_size, data_work.shape[0])"
   ]
  },
  {
   "cell_type": "markdown",
   "id": "80f49a67-84ec-49b4-bb6c-3070cc75f01e",
   "metadata": {},
   "source": [
    "### Train model"
   ]
  },
  {
   "cell_type": "code",
   "execution_count": null,
   "id": "36067df4-6a5f-40ee-8e4c-2c0a3a1f5074",
   "metadata": {
    "tags": []
   },
   "outputs": [],
   "source": [
    "t0 = time.perf_counter()\n",
    "history = model.fit(\n",
    "        x=X_train_ready, y=y_train, \n",
    "        validation_data=(X_test_ready, y_test), \n",
    "        epochs=50, \n",
    "        batch_size=batch_size, \n",
    "        callbacks=init_callbacks(f\"{model_name}\"),\n",
    "        verbose=1,\n",
    ")\n",
    "train_time = time.perf_counter() - t0"
   ]
  },
  {
   "cell_type": "markdown",
   "id": "e861795e-51cb-4a92-9af8-e30526827a0a",
   "metadata": {},
   "source": [
    "### Evaluate"
   ]
  },
  {
   "cell_type": "code",
   "execution_count": null,
   "id": "bdba7192-bcbd-4570-846b-3c0a712c2bfb",
   "metadata": {
    "tags": []
   },
   "outputs": [],
   "source": [
    "model = keras.models.load_model(f\"models/{model_name}.keras\")"
   ]
  },
  {
   "cell_type": "code",
   "execution_count": null,
   "id": "10d67773-de4a-44a5-95be-05ac2e4d99b4",
   "metadata": {
    "tags": []
   },
   "outputs": [],
   "source": [
    "model.evaluate(X_test_ready, y_test)"
   ]
  },
  {
   "cell_type": "code",
   "execution_count": null,
   "id": "1d3f41c9-099f-4ef7-86af-b9bfd954191d",
   "metadata": {
    "tags": []
   },
   "outputs": [],
   "source": [
    "raw_txt = tf.convert_to_tensor([\"I hate it\", \"I love it\"])\n",
    "raw_txt = text_vectorizationBng2(raw_txt)\n",
    "model.predict(raw_txt)"
   ]
  },
  {
   "cell_type": "code",
   "execution_count": null,
   "id": "3165e03e-b64b-42eb-bad4-2dd9855ab5c3",
   "metadata": {
    "colab": {
     "base_uri": "https://localhost:8080/",
     "height": 1000
    },
    "executionInfo": {
     "elapsed": 746,
     "status": "ok",
     "timestamp": 1653231856185,
     "user": {
      "displayName": "Valkea",
      "userId": "01476199649418572392"
     },
     "user_tz": -120
    },
    "id": "81aba764-7f22-4ad1-b0ed-bc5b13f0b75e",
    "outputId": "e3c4ed78-a90b-46e0-baa0-c28f701f4414",
    "tags": []
   },
   "outputs": [],
   "source": [
    "_ = get_scores(\n",
    "    model_name,\n",
    "    model=model,\n",
    "    X_ref=X_test_ready,\n",
    "    y_ref=y_test, \n",
    "    threshold=0.5,\n",
    "    # y_pred=y_preds, \n",
    "    # y_pred_proba=y_preds_proba, \n",
    "    training_time=train_time, \n",
    "    # inference_time=inf_time, \n",
    "    dagslogger=dagslogger,\n",
    "    register=True,\n",
    ")"
   ]
  },
  {
   "cell_type": "markdown",
   "id": "591fac76-e676-4206-b008-273562a3a56b",
   "metadata": {},
   "source": [
    "#### Trouvons le meilleur seuil de séparation pour les prédiction (sur la base du F1 score)"
   ]
  },
  {
   "cell_type": "code",
   "execution_count": null,
   "id": "37f6eb9e-cf28-46d9-bedd-cf6ed6b7b0f9",
   "metadata": {},
   "outputs": [],
   "source": [
    "acc_value, best_threshold = find_best_threshold(model, X_valid_ready, y_valid, accuracy_score)\n",
    "print(f\"The best Accuracy score ({acc_value}) for this model is reached with a threshold of {best_threshold}\")"
   ]
  },
  {
   "cell_type": "code",
   "execution_count": null,
   "id": "464d22f7-f7b9-46b3-8915-f730c376148c",
   "metadata": {
    "colab": {
     "base_uri": "https://localhost:8080/",
     "height": 1000
    },
    "executionInfo": {
     "elapsed": 746,
     "status": "ok",
     "timestamp": 1653231856185,
     "user": {
      "displayName": "Valkea",
      "userId": "01476199649418572392"
     },
     "user_tz": -120
    },
    "id": "81aba764-7f22-4ad1-b0ed-bc5b13f0b75e",
    "outputId": "e3c4ed78-a90b-46e0-baa0-c28f701f4414",
    "tags": []
   },
   "outputs": [],
   "source": [
    "scores = get_scores(\n",
    "    f\"{model_name} [w. threshold]\",\n",
    "    model=model,\n",
    "    X_ref=X_test_ready,\n",
    "    y_ref=y_test, \n",
    "    threshold=best_threshold,\n",
    "    # y_pred=y_preds, \n",
    "    # y_pred_proba=y_preds_proba, \n",
    "    training_time=train_time, \n",
    "    # inference_time=inf_time, \n",
    "    dagslogger=dagslogger,\n",
    "    register=True,\n",
    "    show_roccurves=False,\n",
    ")"
   ]
  },
  {
   "cell_type": "markdown",
   "id": "9e76c727-c447-4e85-9960-5eaf64ad38dc",
   "metadata": {},
   "source": [
    "#### Enregistrons les scores pour DagsHub"
   ]
  },
  {
   "cell_type": "code",
   "execution_count": null,
   "id": "bc295385-d09d-402e-8f9e-f490d8c90d0e",
   "metadata": {},
   "outputs": [],
   "source": [
    "save_metrics_to_dagshub(dagslogger, scores, best_threshold, history)\n",
    "dagslogger.save() \n",
    "dagslogger.close()"
   ]
  },
  {
   "cell_type": "markdown",
   "id": "66905a44-0b86-42c2-8ee7-eb5f0ca96a29",
   "metadata": {},
   "source": [
    "### Compare"
   ]
  },
  {
   "cell_type": "code",
   "execution_count": null,
   "id": "d22dc1d5-173f-4baa-a822-cba06625853c",
   "metadata": {
    "tags": []
   },
   "outputs": [],
   "source": [
    "from classification_utils import scores_df\n",
    "scores_df"
   ]
  },
  {
   "cell_type": "markdown",
   "id": "4d801fab-ad53-4872-81a0-402b3fb7f662",
   "metadata": {
    "tags": []
   },
   "source": [
    "---\n",
    "## 3.3 `EMB-B2` RNN | Ngram=2 | int | Keras embedding + MASK <a class=\"anchor\" id=\"EMBEDDING_SEQ_B2\"></a> [⇪](#menu)"
   ]
  },
  {
   "cell_type": "markdown",
   "id": "1753d5f5-8191-4672-a4f9-d32ccdf7a71f",
   "metadata": {},
   "source": [
    "### Standardize & Tokenize"
   ]
  },
  {
   "cell_type": "code",
   "execution_count": null,
   "id": "710b83d7-2722-41b3-a8d1-2efc7f93481d",
   "metadata": {
    "tags": []
   },
   "outputs": [],
   "source": [
    "# Done before\n",
    "print(text_vectorizationBng2.get_vocabulary()[:20], \"...\")"
   ]
  },
  {
   "cell_type": "markdown",
   "id": "6b07b15a-6515-4805-aa3a-b47363a686d8",
   "metadata": {},
   "source": [
    "### Prepare dataset"
   ]
  },
  {
   "cell_type": "code",
   "execution_count": null,
   "id": "54812907-9f63-4526-9648-5a89973b1e1f",
   "metadata": {
    "tags": []
   },
   "outputs": [],
   "source": [
    "X_train_ready = text_vectorizationBng2(X_train)\n",
    "X_valid_ready = text_vectorization0(X_valid)\n",
    "X_test_ready = text_vectorizationBng2(X_test)"
   ]
  },
  {
   "cell_type": "code",
   "execution_count": null,
   "id": "d335575c-6f39-48de-8935-7018b345156f",
   "metadata": {
    "tags": []
   },
   "outputs": [],
   "source": [
    "X_train[:2]"
   ]
  },
  {
   "cell_type": "code",
   "execution_count": null,
   "id": "bb9104c3-c294-4005-8a75-12339a97a445",
   "metadata": {
    "tags": []
   },
   "outputs": [],
   "source": [
    "X_train_ready[:2]"
   ]
  },
  {
   "cell_type": "markdown",
   "id": "6af1a45b-a88a-46dd-9291-35d589491eb1",
   "metadata": {},
   "source": [
    "### Embedding"
   ]
  },
  {
   "cell_type": "code",
   "execution_count": null,
   "id": "34b9e204-9ac6-452c-9500-3b39dd842e83",
   "metadata": {
    "tags": []
   },
   "outputs": [],
   "source": [
    "# Embedding avec masque\n",
    "embedding_layer = layers.Embedding(\n",
    "    input_dim=max_tokens,\n",
    "    output_dim=128, \n",
    "    input_length=X_train_ready.shape[1],\n",
    "    mask_zero=True,\n",
    "    # trainable=True, # <== default is True\n",
    ")"
   ]
  },
  {
   "cell_type": "markdown",
   "id": "50fc5907-8e0a-4acc-9248-ddaf7bf2b34d",
   "metadata": {},
   "source": [
    "### Define model"
   ]
  },
  {
   "cell_type": "code",
   "execution_count": null,
   "id": "ae779465-a79a-4bfe-b3dd-fb110dc30209",
   "metadata": {
    "tags": []
   },
   "outputs": [],
   "source": [
    "model_name = \"EmbedB2\"\n",
    "model, archi_desc = architecture002(\"adam\", \"binary_crossentropy\", ['accuracy'], embedding_layer)\n",
    "archi_desc = \"Keras Embedding + MASK + Bigrams | \" + archi_desc"
   ]
  },
  {
   "cell_type": "code",
   "execution_count": null,
   "id": "82844545-3f13-40bf-979d-c8e8cc67d77d",
   "metadata": {
    "tags": []
   },
   "outputs": [],
   "source": [
    "model.summary()"
   ]
  },
  {
   "cell_type": "markdown",
   "id": "5058f0ed-a387-4d09-9db8-96458289deba",
   "metadata": {},
   "source": [
    "#### Définissons un logger DagsHub pour enregistrer notre essai"
   ]
  },
  {
   "cell_type": "code",
   "execution_count": null,
   "id": "1c502e0f-b02f-4dad-970f-34c74bca4bbf",
   "metadata": {},
   "outputs": [],
   "source": [
    "dagslogger = DAGsHubLogger()"
   ]
  },
  {
   "cell_type": "code",
   "execution_count": null,
   "id": "854528ae-4dcd-475e-9d16-746f5b4ed9e6",
   "metadata": {},
   "outputs": [],
   "source": [
    "save_hyperparameters_to_dagshub(dagslogger, model_name, archi_desc, get_layers_for_dagshub(model), batch_size, data_work.shape[0])"
   ]
  },
  {
   "cell_type": "markdown",
   "id": "564472fb-b225-4a02-83ed-d2ace4c8d408",
   "metadata": {},
   "source": [
    "### Train model"
   ]
  },
  {
   "cell_type": "code",
   "execution_count": null,
   "id": "47aa56cf-262b-4e15-a8d3-62dc72ecd0ae",
   "metadata": {
    "tags": []
   },
   "outputs": [],
   "source": [
    "t0 = time.perf_counter()\n",
    "history = model.fit(\n",
    "        x=X_train_ready, y=y_train, \n",
    "        validation_data=(X_test_ready, y_test), \n",
    "        epochs=50, \n",
    "        batch_size=batch_size, \n",
    "        callbacks=init_callbacks(f\"{model_name}\"),\n",
    "        verbose=1,\n",
    ")\n",
    "train_time = time.perf_counter() - t0"
   ]
  },
  {
   "cell_type": "markdown",
   "id": "04a877d3-b8f9-4a89-ade6-a55833e31d2b",
   "metadata": {},
   "source": [
    "### Evaluate"
   ]
  },
  {
   "cell_type": "code",
   "execution_count": null,
   "id": "74e53298-cc77-4c46-ac39-8a342ca0edc8",
   "metadata": {
    "tags": []
   },
   "outputs": [],
   "source": [
    "model = keras.models.load_model(f\"models/{model_name}.keras\")"
   ]
  },
  {
   "cell_type": "code",
   "execution_count": null,
   "id": "e9a47977-695d-4c1a-8934-14ed6893778e",
   "metadata": {
    "tags": []
   },
   "outputs": [],
   "source": [
    "model.evaluate(X_test_ready, y_test)"
   ]
  },
  {
   "cell_type": "code",
   "execution_count": null,
   "id": "95d0d694-1194-4587-adbb-b775738e5a07",
   "metadata": {
    "tags": []
   },
   "outputs": [],
   "source": [
    "raw_txt = tf.convert_to_tensor([\"I hate it\", \"I love it\"])\n",
    "raw_txt = text_vectorizationBng2(raw_txt)\n",
    "model.predict(raw_txt)"
   ]
  },
  {
   "cell_type": "code",
   "execution_count": null,
   "id": "83b514ad-15fc-4c26-828a-215b9ef24319",
   "metadata": {
    "colab": {
     "base_uri": "https://localhost:8080/",
     "height": 1000
    },
    "executionInfo": {
     "elapsed": 746,
     "status": "ok",
     "timestamp": 1653231856185,
     "user": {
      "displayName": "Valkea",
      "userId": "01476199649418572392"
     },
     "user_tz": -120
    },
    "id": "81aba764-7f22-4ad1-b0ed-bc5b13f0b75e",
    "outputId": "e3c4ed78-a90b-46e0-baa0-c28f701f4414",
    "tags": []
   },
   "outputs": [],
   "source": [
    "_ = get_scores(\n",
    "    model_name,\n",
    "    model=model,\n",
    "    X_ref=X_test_ready,\n",
    "    y_ref=y_test, \n",
    "    threshold=0.5,\n",
    "    # y_pred=y_preds, \n",
    "    # y_pred_proba=y_preds_proba, \n",
    "    training_time=train_time, \n",
    "    # inference_time=inf_time, \n",
    "    dagslogger=dagslogger,\n",
    "    register=True,\n",
    ")"
   ]
  },
  {
   "cell_type": "markdown",
   "id": "56b9213d-4142-4890-a2b1-38949b618559",
   "metadata": {},
   "source": [
    "#### Trouvons le meilleur seuil de séparation pour les prédiction (sur la base du F1 score)"
   ]
  },
  {
   "cell_type": "code",
   "execution_count": null,
   "id": "4a28af14-7ac8-4556-8a01-08c76e937094",
   "metadata": {},
   "outputs": [],
   "source": [
    "acc_value, best_threshold = find_best_threshold(model, X_valid_ready, y_valid, accuracy_score)\n",
    "print(f\"The best Accuracy score ({acc_value}) for this model is reached with a threshold of {best_threshold}\")"
   ]
  },
  {
   "cell_type": "code",
   "execution_count": null,
   "id": "d5078f80-166b-4478-a77a-0a5a6186cd30",
   "metadata": {
    "colab": {
     "base_uri": "https://localhost:8080/",
     "height": 1000
    },
    "executionInfo": {
     "elapsed": 746,
     "status": "ok",
     "timestamp": 1653231856185,
     "user": {
      "displayName": "Valkea",
      "userId": "01476199649418572392"
     },
     "user_tz": -120
    },
    "id": "81aba764-7f22-4ad1-b0ed-bc5b13f0b75e",
    "outputId": "e3c4ed78-a90b-46e0-baa0-c28f701f4414",
    "tags": []
   },
   "outputs": [],
   "source": [
    "scores = get_scores(\n",
    "    f\"{model_name} [w. threshold]\",\n",
    "    model=model,\n",
    "    X_ref=X_test_ready,\n",
    "    y_ref=y_test, \n",
    "    threshold=best_threshold,\n",
    "    # y_pred=y_preds, \n",
    "    # y_pred_proba=y_preds_proba, \n",
    "    training_time=train_time, \n",
    "    # inference_time=inf_time, \n",
    "    dagslogger=dagslogger,\n",
    "    register=True,\n",
    "    show_roccurves=False,\n",
    ")"
   ]
  },
  {
   "cell_type": "markdown",
   "id": "d282d2e2-2f3a-43f6-b83c-a9ac57ff27ed",
   "metadata": {},
   "source": [
    "#### Enregistrons les scores pour DagsHub"
   ]
  },
  {
   "cell_type": "code",
   "execution_count": null,
   "id": "f5bf26e1-62ba-44a0-bb0f-db44bd230d00",
   "metadata": {},
   "outputs": [],
   "source": [
    "save_metrics_to_dagshub(dagslogger, scores, best_threshold, history)\n",
    "dagslogger.save() \n",
    "dagslogger.close()"
   ]
  },
  {
   "cell_type": "markdown",
   "id": "70d441df-f3d8-4842-a59e-fe91178f0be2",
   "metadata": {},
   "source": [
    "### Compare"
   ]
  },
  {
   "cell_type": "code",
   "execution_count": null,
   "id": "c2057104-2ec2-48d0-8cef-5680f0270597",
   "metadata": {
    "tags": []
   },
   "outputs": [],
   "source": [
    "from classification_utils import scores_df\n",
    "scores_df"
   ]
  },
  {
   "cell_type": "markdown",
   "id": "8a927a96-d1e6-4232-9e00-64fa548bc5dd",
   "metadata": {
    "tags": []
   },
   "source": [
    "---\n",
    "## 3.4 `EMB-B3` RNN | Ngram=2 | int | Glove 100d + MASK + NOT trainable <a class=\"anchor\" id=\"EMBEDDING_SEQ_B3\"></a> [⇪](#menu)"
   ]
  },
  {
   "cell_type": "markdown",
   "id": "573cefd0-59a8-45a6-a09f-f1cb9a0db3a8",
   "metadata": {},
   "source": [
    "### Standardize & Tokenize"
   ]
  },
  {
   "cell_type": "code",
   "execution_count": null,
   "id": "13bc2ea5-c7c1-4e74-b6a4-2bd6eb6d8198",
   "metadata": {
    "tags": []
   },
   "outputs": [],
   "source": [
    "# Done before\n",
    "print(text_vectorizationBng2.get_vocabulary()[:20], \"...\")"
   ]
  },
  {
   "cell_type": "markdown",
   "id": "3d849bcd-8ac6-42b1-a9fc-a8c3a792900f",
   "metadata": {},
   "source": [
    "### Prepare dataset"
   ]
  },
  {
   "cell_type": "code",
   "execution_count": null,
   "id": "bd0c7729-71bd-4186-a4a4-9c17aad36f91",
   "metadata": {
    "tags": []
   },
   "outputs": [],
   "source": [
    "X_train_ready = text_vectorizationBng2(X_train)\n",
    "X_valid_ready = text_vectorization0(X_valid)\n",
    "X_test_ready = text_vectorizationBng2(X_test)"
   ]
  },
  {
   "cell_type": "code",
   "execution_count": null,
   "id": "a1c4f043-a38b-481a-97b5-ddbf7a47c3cc",
   "metadata": {
    "tags": []
   },
   "outputs": [],
   "source": [
    "X_train[:2]"
   ]
  },
  {
   "cell_type": "code",
   "execution_count": null,
   "id": "5570c7a0-882c-4544-b2fc-47f6e719b9da",
   "metadata": {
    "tags": []
   },
   "outputs": [],
   "source": [
    "X_train_ready[:2]"
   ]
  },
  {
   "cell_type": "markdown",
   "id": "cdda851c-840d-4c07-8ab9-e85a65f4f875",
   "metadata": {},
   "source": [
    "### Embedding"
   ]
  },
  {
   "cell_type": "code",
   "execution_count": null,
   "id": "8e5975ab-15a1-404a-8a19-0ffbdc1689ca",
   "metadata": {
    "tags": []
   },
   "outputs": [],
   "source": [
    "embeddings_index = load_trained_glove(\"glove.6B.100d\")"
   ]
  },
  {
   "cell_type": "code",
   "execution_count": null,
   "id": "68ab924a-134f-4af1-844d-fcdd03eaaebc",
   "metadata": {
    "tags": []
   },
   "outputs": [],
   "source": [
    "embedding_dim = 100\n",
    "vocabulary = text_vectorizationBng2.get_vocabulary()\n",
    "embedding_matrix = convert_embedding_matrix(vocabulary, embeddings_index, max_tokens, embedding_dim)\n",
    "embedding_matrix"
   ]
  },
  {
   "cell_type": "code",
   "execution_count": null,
   "id": "f5344acb-06ae-4a65-8805-71880708034e",
   "metadata": {
    "tags": []
   },
   "outputs": [],
   "source": [
    "# Embedding avec masque\n",
    "embedding_layer = layers.Embedding(\n",
    "    input_dim=max_tokens,\n",
    "    output_dim=embedding_dim,\n",
    "    embeddings_initializer=keras.initializers.Constant(embedding_matrix),\n",
    "    # input_length=max_length,\n",
    "    mask_zero=True,\n",
    "    trainable=False, # <== default is True\n",
    ")"
   ]
  },
  {
   "cell_type": "markdown",
   "id": "8693fc4d-1261-4143-8465-e844af076ab7",
   "metadata": {},
   "source": [
    "### Define model"
   ]
  },
  {
   "cell_type": "code",
   "execution_count": null,
   "id": "891f188a-fcb4-4906-aed4-bc04ef17548a",
   "metadata": {
    "tags": []
   },
   "outputs": [],
   "source": [
    "model_name = \"EmbedB3\"\n",
    "model, archi_desc = architecture002(\"adam\", \"binary_crossentropy\", ['accuracy'], embedding_layer)\n",
    "archi_desc = \"GloVe 100d + MASK + NT + Bigrams| \" + archi_desc"
   ]
  },
  {
   "cell_type": "code",
   "execution_count": null,
   "id": "83ddf558-765a-4df9-8b70-9af064040940",
   "metadata": {
    "tags": []
   },
   "outputs": [],
   "source": [
    "model.summary()"
   ]
  },
  {
   "cell_type": "markdown",
   "id": "04b4f97e-4b0e-4a8d-bc22-3a88b40736e4",
   "metadata": {},
   "source": [
    "#### Définissons un logger DagsHub pour enregistrer notre essai"
   ]
  },
  {
   "cell_type": "code",
   "execution_count": null,
   "id": "2890ba6b-e98e-4d79-912b-387aa5b7ccc4",
   "metadata": {},
   "outputs": [],
   "source": [
    "dagslogger = DAGsHubLogger()"
   ]
  },
  {
   "cell_type": "code",
   "execution_count": null,
   "id": "1a5f8f72-feff-4039-a9c1-f2a18f58b5d2",
   "metadata": {},
   "outputs": [],
   "source": [
    "save_hyperparameters_to_dagshub(dagslogger, model_name, archi_desc, get_layers_for_dagshub(model), batch_size, data_work.shape[0])"
   ]
  },
  {
   "cell_type": "markdown",
   "id": "6311e41f-af1d-4fab-8eff-d0d6c94cf530",
   "metadata": {},
   "source": [
    "### Train model"
   ]
  },
  {
   "cell_type": "code",
   "execution_count": null,
   "id": "7414b9fa-9fdc-4cd1-8628-1076418a8362",
   "metadata": {
    "tags": []
   },
   "outputs": [],
   "source": [
    "t0 = time.perf_counter()\n",
    "history = model.fit(\n",
    "        x=X_train_ready, y=y_train, \n",
    "        validation_data=(X_test_ready, y_test), \n",
    "        epochs=50, \n",
    "        batch_size=batch_size, \n",
    "        callbacks=init_callbacks(f\"{model_name}\"),\n",
    "        verbose=1,\n",
    ")\n",
    "train_time = time.perf_counter() - t0"
   ]
  },
  {
   "cell_type": "markdown",
   "id": "f8c107f4-237c-4dbf-9c54-b9b6a9ef8a6d",
   "metadata": {},
   "source": [
    "### Evaluate"
   ]
  },
  {
   "cell_type": "code",
   "execution_count": null,
   "id": "9710b78b-7240-4001-b73c-f7141730ebe1",
   "metadata": {
    "tags": []
   },
   "outputs": [],
   "source": [
    "model = keras.models.load_model(f\"models/{model_name}.keras\")"
   ]
  },
  {
   "cell_type": "code",
   "execution_count": null,
   "id": "a5327a41-df91-4564-809c-4b26b3770f64",
   "metadata": {
    "tags": []
   },
   "outputs": [],
   "source": [
    "model.evaluate(X_test_ready, y_test)"
   ]
  },
  {
   "cell_type": "code",
   "execution_count": null,
   "id": "4409a929-c98b-485e-b351-5a031c11b057",
   "metadata": {
    "tags": []
   },
   "outputs": [],
   "source": [
    "raw_txt = tf.convert_to_tensor([\"I hate it\", \"I love it\"])\n",
    "raw_txt = text_vectorizationBng2(raw_txt)\n",
    "model.predict(raw_txt)"
   ]
  },
  {
   "cell_type": "code",
   "execution_count": null,
   "id": "ec298805-21e3-4286-8420-23f027bcdc89",
   "metadata": {
    "colab": {
     "base_uri": "https://localhost:8080/",
     "height": 1000
    },
    "executionInfo": {
     "elapsed": 746,
     "status": "ok",
     "timestamp": 1653231856185,
     "user": {
      "displayName": "Valkea",
      "userId": "01476199649418572392"
     },
     "user_tz": -120
    },
    "id": "81aba764-7f22-4ad1-b0ed-bc5b13f0b75e",
    "outputId": "e3c4ed78-a90b-46e0-baa0-c28f701f4414",
    "tags": []
   },
   "outputs": [],
   "source": [
    "_ = get_scores(\n",
    "    model_name,\n",
    "    model=model,\n",
    "    X_ref=X_test_ready,\n",
    "    y_ref=y_test, \n",
    "    threshold=0.5,\n",
    "    # y_pred=y_preds, \n",
    "    # y_pred_proba=y_preds_proba, \n",
    "    training_time=train_time, \n",
    "    # inference_time=inf_time, \n",
    "    dagslogger=dagslogger,\n",
    "    register=True,\n",
    ")"
   ]
  },
  {
   "cell_type": "markdown",
   "id": "a9d3f551-86f1-4c47-b4dd-c9e7228bd862",
   "metadata": {},
   "source": [
    "#### Trouvons le meilleur seuil de séparation pour les prédiction (sur la base du F1 score)"
   ]
  },
  {
   "cell_type": "code",
   "execution_count": null,
   "id": "e1509737-b00c-418d-98e5-85e058e8e56e",
   "metadata": {},
   "outputs": [],
   "source": [
    "acc_value, best_threshold = find_best_threshold(model, X_valid_ready, y_valid, accuracy_score)\n",
    "print(f\"The best Accuracy score ({acc_value}) for this model is reached with a threshold of {best_threshold}\")"
   ]
  },
  {
   "cell_type": "code",
   "execution_count": null,
   "id": "c091273a-66e1-4356-8efe-87ade169e41d",
   "metadata": {
    "colab": {
     "base_uri": "https://localhost:8080/",
     "height": 1000
    },
    "executionInfo": {
     "elapsed": 746,
     "status": "ok",
     "timestamp": 1653231856185,
     "user": {
      "displayName": "Valkea",
      "userId": "01476199649418572392"
     },
     "user_tz": -120
    },
    "id": "81aba764-7f22-4ad1-b0ed-bc5b13f0b75e",
    "outputId": "e3c4ed78-a90b-46e0-baa0-c28f701f4414",
    "tags": []
   },
   "outputs": [],
   "source": [
    "scores = get_scores(\n",
    "    f\"{model_name} [w. threshold]\",\n",
    "    model=model,\n",
    "    X_ref=X_test_ready,\n",
    "    y_ref=y_test, \n",
    "    threshold=best_threshold,\n",
    "    # y_pred=y_preds, \n",
    "    # y_pred_proba=y_preds_proba, \n",
    "    training_time=train_time, \n",
    "    # inference_time=inf_time, \n",
    "    dagslogger=dagslogger,\n",
    "    register=True,\n",
    "    show_roccurves=False,\n",
    ")"
   ]
  },
  {
   "cell_type": "markdown",
   "id": "220c6e84-5aa8-4ef9-946f-267347c48331",
   "metadata": {},
   "source": [
    "#### Enregistrons les scores pour DagsHub"
   ]
  },
  {
   "cell_type": "code",
   "execution_count": null,
   "id": "dbb3924f-6f4e-4491-a07d-05d2c5717e4c",
   "metadata": {},
   "outputs": [],
   "source": [
    "save_metrics_to_dagshub(dagslogger, scores, best_threshold, history)\n",
    "dagslogger.save() \n",
    "dagslogger.close()"
   ]
  },
  {
   "cell_type": "markdown",
   "id": "860faf95-bce5-4439-98b5-52580240f042",
   "metadata": {},
   "source": [
    "### Compare"
   ]
  },
  {
   "cell_type": "code",
   "execution_count": null,
   "id": "4c4eb2e2-0c8d-43cf-bcdd-1c9161480377",
   "metadata": {
    "tags": []
   },
   "outputs": [],
   "source": [
    "from classification_utils import scores_df\n",
    "scores_df"
   ]
  },
  {
   "cell_type": "markdown",
   "id": "83c78fb0-a3e4-4af3-b071-4f2313138a34",
   "metadata": {
    "tags": []
   },
   "source": [
    "---\n",
    "## 3.5 `EMB-B4` RNN | Ngram=1 | int | Glove 100d + MASK + NOT trainable <a class=\"anchor\" id=\"EMBEDDING_SEQ_B4\"></a> [⇪](#menu)"
   ]
  },
  {
   "cell_type": "markdown",
   "id": "a0fa5b6b-37a7-4917-9e7a-85bee618a7c1",
   "metadata": {},
   "source": [
    "### Standardize & Tokenize"
   ]
  },
  {
   "cell_type": "code",
   "execution_count": null,
   "id": "eca7eeaf-e406-4eb2-91e5-18fc0da16192",
   "metadata": {
    "tags": []
   },
   "outputs": [],
   "source": [
    "# Done before\n",
    "print(text_vectorizationBng1.get_vocabulary()[:20], \"...\")"
   ]
  },
  {
   "cell_type": "markdown",
   "id": "96b6c1c8-e0c8-4790-a8f0-07bcd3d381fc",
   "metadata": {},
   "source": [
    "### Prepare dataset"
   ]
  },
  {
   "cell_type": "code",
   "execution_count": null,
   "id": "0eda80a3-5700-4a75-81a6-fbf0ccb2c72e",
   "metadata": {
    "tags": []
   },
   "outputs": [],
   "source": [
    "X_train_ready = text_vectorizationBng1(X_train)\n",
    "X_valid_ready = text_vectorization0(X_valid)\n",
    "X_test_ready = text_vectorizationBng1(X_test)"
   ]
  },
  {
   "cell_type": "code",
   "execution_count": null,
   "id": "2ce54c1b-2219-4d01-9a4c-fa3f1f3dd3cd",
   "metadata": {
    "tags": []
   },
   "outputs": [],
   "source": [
    "X_train[:2]"
   ]
  },
  {
   "cell_type": "code",
   "execution_count": null,
   "id": "37fd7cc4-c190-4a5a-b78b-dd6e63137cbd",
   "metadata": {
    "tags": []
   },
   "outputs": [],
   "source": [
    "X_train_ready[:2]"
   ]
  },
  {
   "cell_type": "markdown",
   "id": "0957ad28-d73c-4300-8bc9-de0b3b7cea43",
   "metadata": {},
   "source": [
    "### Embedding"
   ]
  },
  {
   "cell_type": "code",
   "execution_count": null,
   "id": "a705400e-02fb-43fb-81fa-4144e9d940ad",
   "metadata": {
    "tags": []
   },
   "outputs": [],
   "source": [
    "embeddings_index = load_trained_glove(\"glove.6B.100d\")"
   ]
  },
  {
   "cell_type": "code",
   "execution_count": null,
   "id": "5368efd0-67e5-400d-aafa-7182efeddfd7",
   "metadata": {
    "tags": []
   },
   "outputs": [],
   "source": [
    "embedding_dim = 100\n",
    "vocabulary = text_vectorizationBng1.get_vocabulary()\n",
    "embedding_matrix = convert_embedding_matrix(vocabulary, embeddings_index, max_tokens, embedding_dim)\n",
    "embedding_matrix"
   ]
  },
  {
   "cell_type": "code",
   "execution_count": null,
   "id": "a9ac74b1-74df-4f92-b6d7-124d1bb55e31",
   "metadata": {
    "tags": []
   },
   "outputs": [],
   "source": [
    "# Embedding avec masque\n",
    "embedding_layer = layers.Embedding(\n",
    "    input_dim=max_tokens,\n",
    "    output_dim=embedding_dim,\n",
    "    embeddings_initializer=keras.initializers.Constant(embedding_matrix),\n",
    "    # input_length=max_length,\n",
    "    mask_zero=True,\n",
    "    trainable=False, # <== default is True\n",
    ")"
   ]
  },
  {
   "cell_type": "markdown",
   "id": "62e20e6f-f22b-4e4c-9b1e-7b90f73b6af6",
   "metadata": {},
   "source": [
    "### Define model"
   ]
  },
  {
   "cell_type": "code",
   "execution_count": null,
   "id": "73753d73-1159-40e4-b03f-252511468836",
   "metadata": {
    "tags": []
   },
   "outputs": [],
   "source": [
    "model_name = \"EmbedB4\"\n",
    "model, archi_desc = architecture002(\"adam\", \"binary_crossentropy\", ['accuracy'], embedding_layer)\n",
    "archi_desc = \"GloVe 100d + MASK + NT + Unigrams| \" + archi_desc"
   ]
  },
  {
   "cell_type": "code",
   "execution_count": null,
   "id": "32ad9950-f9db-489b-b31c-5d44976f56e3",
   "metadata": {
    "tags": []
   },
   "outputs": [],
   "source": [
    "model.summary()"
   ]
  },
  {
   "cell_type": "markdown",
   "id": "4dcca381-9095-413c-8d08-43940920e335",
   "metadata": {},
   "source": [
    "#### Définissons un logger DagsHub pour enregistrer notre essai"
   ]
  },
  {
   "cell_type": "code",
   "execution_count": null,
   "id": "289a0d8b-2f17-4f34-aa23-2c8fa15ee1ab",
   "metadata": {},
   "outputs": [],
   "source": [
    "dagslogger = DAGsHubLogger()"
   ]
  },
  {
   "cell_type": "code",
   "execution_count": null,
   "id": "9229270c-1c8c-447a-92fe-50cfd4aa7cd4",
   "metadata": {},
   "outputs": [],
   "source": [
    "save_hyperparameters_to_dagshub(dagslogger, model_name, archi_desc, get_layers_for_dagshub(model), batch_size, data_work.shape[0])"
   ]
  },
  {
   "cell_type": "markdown",
   "id": "552b2870-f7ff-4727-91b3-e7ae89910d13",
   "metadata": {},
   "source": [
    "### Train model"
   ]
  },
  {
   "cell_type": "code",
   "execution_count": null,
   "id": "664e5696-9965-4ced-b5d1-2f6f7c53ec7d",
   "metadata": {
    "tags": []
   },
   "outputs": [],
   "source": [
    "t0 = time.perf_counter()\n",
    "history = model.fit(\n",
    "        x=X_train_ready, y=y_train, \n",
    "        validation_data=(X_test_ready, y_test), \n",
    "        epochs=50, \n",
    "        batch_size=batch_size, \n",
    "        callbacks=init_callbacks(f\"{model_name}\"),\n",
    "        verbose=1,\n",
    ")\n",
    "train_time = time.perf_counter() - t0"
   ]
  },
  {
   "cell_type": "markdown",
   "id": "6533e7a0-5a91-4831-abaf-e3e628dce72f",
   "metadata": {},
   "source": [
    "### Evaluate"
   ]
  },
  {
   "cell_type": "code",
   "execution_count": null,
   "id": "002d5683-8d20-4c0b-8f20-007548155834",
   "metadata": {
    "tags": []
   },
   "outputs": [],
   "source": [
    "model = keras.models.load_model(f\"models/{model_name}.keras\")"
   ]
  },
  {
   "cell_type": "code",
   "execution_count": null,
   "id": "b0a9874c-b1ee-4110-b1c7-1ecd2170c85d",
   "metadata": {
    "tags": []
   },
   "outputs": [],
   "source": [
    "model.evaluate(X_test_ready, y_test)"
   ]
  },
  {
   "cell_type": "code",
   "execution_count": null,
   "id": "47f326a4-585b-45af-8c61-745cee8a0e32",
   "metadata": {
    "tags": []
   },
   "outputs": [],
   "source": [
    "raw_txt = tf.convert_to_tensor([\"I hate it\", \"I love it\"])\n",
    "raw_txt = text_vectorizationBng1(raw_txt)\n",
    "model.predict(raw_txt)"
   ]
  },
  {
   "cell_type": "code",
   "execution_count": null,
   "id": "f435a378-bec1-4213-8e1b-df20118218a3",
   "metadata": {
    "colab": {
     "base_uri": "https://localhost:8080/",
     "height": 1000
    },
    "executionInfo": {
     "elapsed": 746,
     "status": "ok",
     "timestamp": 1653231856185,
     "user": {
      "displayName": "Valkea",
      "userId": "01476199649418572392"
     },
     "user_tz": -120
    },
    "id": "81aba764-7f22-4ad1-b0ed-bc5b13f0b75e",
    "outputId": "e3c4ed78-a90b-46e0-baa0-c28f701f4414",
    "tags": []
   },
   "outputs": [],
   "source": [
    "_ = get_scores(\n",
    "    model_name,\n",
    "    model=model,\n",
    "    X_ref=X_test_ready,\n",
    "    y_ref=y_test, \n",
    "    threshold=0.5,\n",
    "    # y_pred=y_preds, \n",
    "    # y_pred_proba=y_preds_proba, \n",
    "    training_time=train_time, \n",
    "    # inference_time=inf_time, \n",
    "    dagslogger=dagslogger,\n",
    "    register=True,\n",
    ")"
   ]
  },
  {
   "cell_type": "markdown",
   "id": "dc925fa8-5479-4074-bfdb-cc2261020230",
   "metadata": {},
   "source": [
    "#### Trouvons le meilleur seuil de séparation pour les prédiction (sur la base du F1 score)"
   ]
  },
  {
   "cell_type": "code",
   "execution_count": null,
   "id": "32e083f4-7413-42f6-8e95-7a2db38c66b6",
   "metadata": {},
   "outputs": [],
   "source": [
    "acc_value, best_threshold = find_best_threshold(model, X_valid_ready, y_valid, accuracy_score)\n",
    "print(f\"The best Accuracy score ({acc_value}) for this model is reached with a threshold of {best_threshold}\")"
   ]
  },
  {
   "cell_type": "code",
   "execution_count": null,
   "id": "8f4928cd-6e86-4184-8a26-7fb662f84edc",
   "metadata": {
    "colab": {
     "base_uri": "https://localhost:8080/",
     "height": 1000
    },
    "executionInfo": {
     "elapsed": 746,
     "status": "ok",
     "timestamp": 1653231856185,
     "user": {
      "displayName": "Valkea",
      "userId": "01476199649418572392"
     },
     "user_tz": -120
    },
    "id": "81aba764-7f22-4ad1-b0ed-bc5b13f0b75e",
    "outputId": "e3c4ed78-a90b-46e0-baa0-c28f701f4414",
    "tags": []
   },
   "outputs": [],
   "source": [
    "scores = get_scores(\n",
    "    f\"{model_name} [w. threshold]\",\n",
    "    model=model,\n",
    "    X_ref=X_test_ready,\n",
    "    y_ref=y_test, \n",
    "    threshold=best_threshold,\n",
    "    # y_pred=y_preds, \n",
    "    # y_pred_proba=y_preds_proba, \n",
    "    training_time=train_time, \n",
    "    # inference_time=inf_time, \n",
    "    dagslogger=dagslogger,\n",
    "    register=True,\n",
    "    show_roccurves=False,\n",
    ")"
   ]
  },
  {
   "cell_type": "markdown",
   "id": "2224c94d-13af-4df7-bb04-cb51f8180346",
   "metadata": {},
   "source": [
    "#### Enregistrons les scores pour DagsHub"
   ]
  },
  {
   "cell_type": "code",
   "execution_count": null,
   "id": "539539e4-9af7-46e8-af6a-24d162e92b7e",
   "metadata": {},
   "outputs": [],
   "source": [
    "save_metrics_to_dagshub(dagslogger, scores, best_threshold, history)\n",
    "dagslogger.save() \n",
    "dagslogger.close()"
   ]
  },
  {
   "cell_type": "markdown",
   "id": "e70f40fa-f049-48a7-be8e-a01b05e4da50",
   "metadata": {},
   "source": [
    "### Compare"
   ]
  },
  {
   "cell_type": "code",
   "execution_count": null,
   "id": "9e3d3cac-1095-4f15-bf36-37ca2b2da122",
   "metadata": {
    "tags": []
   },
   "outputs": [],
   "source": [
    "from classification_utils import scores_df\n",
    "scores_df"
   ]
  },
  {
   "cell_type": "markdown",
   "id": "2ff5116e-2af7-4532-8494-2055f71ac0e0",
   "metadata": {
    "tags": []
   },
   "source": [
    "---\n",
    "## 3.6 `EMB-B5` RNN | Ngram=1 | int | GloveTwitter 25d + MASK + NOT trainable <a class=\"anchor\" id=\"EMBEDDING_SEQ_B5\"></a> [⇪](#menu)"
   ]
  },
  {
   "cell_type": "markdown",
   "id": "7b24e495-18f5-415d-9eb4-919d6e104f05",
   "metadata": {},
   "source": [
    "### Standardize & Tokenize"
   ]
  },
  {
   "cell_type": "code",
   "execution_count": null,
   "id": "c7031810-f5b5-49b3-b6bb-4fab81dccb09",
   "metadata": {
    "tags": []
   },
   "outputs": [],
   "source": [
    "# Done before\n",
    "print(text_vectorizationBng1.get_vocabulary()[:20], \"...\")"
   ]
  },
  {
   "cell_type": "markdown",
   "id": "6101ce7d-746b-4188-8a43-0737b356e378",
   "metadata": {},
   "source": [
    "### Prepare dataset"
   ]
  },
  {
   "cell_type": "code",
   "execution_count": null,
   "id": "5be1e201-5499-421f-8e59-5ddfa5fdd533",
   "metadata": {
    "tags": []
   },
   "outputs": [],
   "source": [
    "X_train_ready = text_vectorizationBng1(X_train)\n",
    "X_valid_ready = text_vectorization0(X_valid)\n",
    "X_test_ready = text_vectorizationBng1(X_test)"
   ]
  },
  {
   "cell_type": "code",
   "execution_count": null,
   "id": "06e3f3a1-d998-48bc-9d38-d7076b17bae4",
   "metadata": {
    "tags": []
   },
   "outputs": [],
   "source": [
    "X_train[:2]"
   ]
  },
  {
   "cell_type": "code",
   "execution_count": null,
   "id": "6e80e240-61d4-4d7a-a415-ee4e1407839f",
   "metadata": {
    "tags": []
   },
   "outputs": [],
   "source": [
    "X_train_ready[:2]"
   ]
  },
  {
   "cell_type": "markdown",
   "id": "1c3da4ec-7728-436d-a70a-023d38241ed0",
   "metadata": {},
   "source": [
    "### Embedding"
   ]
  },
  {
   "cell_type": "code",
   "execution_count": null,
   "id": "e17cda19-49e5-4d50-bfcf-757e867ed21a",
   "metadata": {
    "tags": []
   },
   "outputs": [],
   "source": [
    "embeddings_index = load_gensim_embedding(\"glove-twitter-25\")"
   ]
  },
  {
   "cell_type": "code",
   "execution_count": null,
   "id": "449cef1d-958b-459a-9c3a-0cbe891c149f",
   "metadata": {
    "tags": []
   },
   "outputs": [],
   "source": [
    "embedding_dim = 25\n",
    "vocabulary = text_vectorizationBng1.get_vocabulary()\n",
    "embedding_matrix = convert_embedding_matrix(vocabulary, embeddings_index, max_tokens, embedding_dim)\n",
    "embedding_matrix"
   ]
  },
  {
   "cell_type": "code",
   "execution_count": null,
   "id": "1dda54a1-d7c7-4f15-8f1c-5c766b84f94c",
   "metadata": {
    "tags": []
   },
   "outputs": [],
   "source": [
    "# Embedding avec masque\n",
    "embedding_layer = layers.Embedding(\n",
    "    input_dim=max_tokens,\n",
    "    output_dim=embedding_dim,\n",
    "    embeddings_initializer=keras.initializers.Constant(embedding_matrix),\n",
    "    # input_length=max_length,\n",
    "    mask_zero=True,\n",
    "    trainable=False, # <== default is True\n",
    ")"
   ]
  },
  {
   "cell_type": "markdown",
   "id": "5093effb-9b07-4c5a-9d2e-63cc985e8292",
   "metadata": {},
   "source": [
    "### Define model"
   ]
  },
  {
   "cell_type": "code",
   "execution_count": null,
   "id": "03869794-1a5c-469e-b3b3-7e20be2ba0a2",
   "metadata": {
    "tags": []
   },
   "outputs": [],
   "source": [
    "model_name = \"EmbedB5\"\n",
    "model, archi_desc = architecture002(\"adam\", \"binary_crossentropy\", ['accuracy'], embedding_layer)\n",
    "archi_desc = \"GloVeTwitter 25d + MASK + NT + Unigrams| \" + archi_desc"
   ]
  },
  {
   "cell_type": "code",
   "execution_count": null,
   "id": "0d9e2d20-9ddd-4edb-9e0a-2facb41d5f03",
   "metadata": {
    "tags": []
   },
   "outputs": [],
   "source": [
    "model.summary()"
   ]
  },
  {
   "cell_type": "markdown",
   "id": "6d2d657b-2d30-4f69-b0e5-2a92293e62e0",
   "metadata": {},
   "source": [
    "#### Définissons un logger DagsHub pour enregistrer notre essai"
   ]
  },
  {
   "cell_type": "code",
   "execution_count": null,
   "id": "bf92810a-3677-4ede-853e-e1018a0543ba",
   "metadata": {},
   "outputs": [],
   "source": [
    "dagslogger = DAGsHubLogger()"
   ]
  },
  {
   "cell_type": "code",
   "execution_count": null,
   "id": "2004bdd9-d0e3-44de-909a-58b4f54b8fb5",
   "metadata": {},
   "outputs": [],
   "source": [
    "save_hyperparameters_to_dagshub(dagslogger, model_name, archi_desc, get_layers_for_dagshub(model), batch_size, data_work.shape[0])"
   ]
  },
  {
   "cell_type": "markdown",
   "id": "1f815754-de45-4ba9-a41e-7404a9cfb336",
   "metadata": {},
   "source": [
    "### Train model"
   ]
  },
  {
   "cell_type": "code",
   "execution_count": null,
   "id": "b1adc572-124c-4b3c-9948-1aa494ff3e04",
   "metadata": {
    "tags": []
   },
   "outputs": [],
   "source": [
    "t0 = time.perf_counter()\n",
    "history = model.fit(\n",
    "        x=X_train_ready, y=y_train, \n",
    "        validation_data=(X_test_ready, y_test), \n",
    "        epochs=50, \n",
    "        batch_size=batch_size, \n",
    "        callbacks=init_callbacks(f\"{model_name}\"),\n",
    "        verbose=1,\n",
    ")\n",
    "train_time = time.perf_counter() - t0"
   ]
  },
  {
   "cell_type": "markdown",
   "id": "72741228-86f8-475d-9813-bde4ade9165b",
   "metadata": {},
   "source": [
    "### Evaluate"
   ]
  },
  {
   "cell_type": "code",
   "execution_count": null,
   "id": "1215c049-d25f-454b-b585-d4a567d766e3",
   "metadata": {
    "tags": []
   },
   "outputs": [],
   "source": [
    "model = keras.models.load_model(f\"models/{model_name}.keras\")"
   ]
  },
  {
   "cell_type": "code",
   "execution_count": null,
   "id": "0d3bca32-1283-4e73-b1ca-c28730b9e0b7",
   "metadata": {
    "tags": []
   },
   "outputs": [],
   "source": [
    "model.evaluate(X_test_ready, y_test)"
   ]
  },
  {
   "cell_type": "code",
   "execution_count": null,
   "id": "89de3a28-3823-4927-b08f-34e04f49f41b",
   "metadata": {
    "tags": []
   },
   "outputs": [],
   "source": [
    "raw_txt = tf.convert_to_tensor([\"I hate it\", \"I love it\"])\n",
    "raw_txt = text_vectorizationBng1(raw_txt)\n",
    "model.predict(raw_txt)"
   ]
  },
  {
   "cell_type": "code",
   "execution_count": null,
   "id": "9cdf574c-91ed-4771-a507-234160c382ab",
   "metadata": {
    "colab": {
     "base_uri": "https://localhost:8080/",
     "height": 1000
    },
    "executionInfo": {
     "elapsed": 746,
     "status": "ok",
     "timestamp": 1653231856185,
     "user": {
      "displayName": "Valkea",
      "userId": "01476199649418572392"
     },
     "user_tz": -120
    },
    "id": "81aba764-7f22-4ad1-b0ed-bc5b13f0b75e",
    "outputId": "e3c4ed78-a90b-46e0-baa0-c28f701f4414",
    "tags": []
   },
   "outputs": [],
   "source": [
    "_ = get_scores(\n",
    "    model_name,\n",
    "    model=model,\n",
    "    X_ref=X_test_ready,\n",
    "    y_ref=y_test, \n",
    "    threshold=0.5,\n",
    "    # y_pred=y_preds, \n",
    "    # y_pred_proba=y_preds_proba, \n",
    "    training_time=train_time, \n",
    "    # inference_time=inf_time, \n",
    "    dagslogger=dagslogger,\n",
    "    register=True,\n",
    ")"
   ]
  },
  {
   "cell_type": "markdown",
   "id": "02639b7b-ca75-4611-962d-9bacf842e71d",
   "metadata": {},
   "source": [
    "#### Trouvons le meilleur seuil de séparation pour les prédiction (sur la base du F1 score)"
   ]
  },
  {
   "cell_type": "code",
   "execution_count": null,
   "id": "4d763928-c81e-4473-9683-476c3fd6bd9b",
   "metadata": {},
   "outputs": [],
   "source": [
    "acc_value, best_threshold = find_best_threshold(model, X_valid_ready, y_valid, accuracy_score)\n",
    "print(f\"The best Accuracy score ({acc_value}) for this model is reached with a threshold of {best_threshold}\")"
   ]
  },
  {
   "cell_type": "code",
   "execution_count": null,
   "id": "2f72bf36-b677-4024-8812-363344fd3e88",
   "metadata": {
    "colab": {
     "base_uri": "https://localhost:8080/",
     "height": 1000
    },
    "executionInfo": {
     "elapsed": 746,
     "status": "ok",
     "timestamp": 1653231856185,
     "user": {
      "displayName": "Valkea",
      "userId": "01476199649418572392"
     },
     "user_tz": -120
    },
    "id": "81aba764-7f22-4ad1-b0ed-bc5b13f0b75e",
    "outputId": "e3c4ed78-a90b-46e0-baa0-c28f701f4414",
    "tags": []
   },
   "outputs": [],
   "source": [
    "scores = get_scores(\n",
    "    f\"{model_name} [w. threshold]\",\n",
    "    model=model,\n",
    "    X_ref=X_test_ready,\n",
    "    y_ref=y_test, \n",
    "    threshold=best_threshold,\n",
    "    # y_pred=y_preds, \n",
    "    # y_pred_proba=y_preds_proba, \n",
    "    training_time=train_time, \n",
    "    # inference_time=inf_time, \n",
    "    dagslogger=dagslogger,\n",
    "    register=True,\n",
    "    show_roccurves=False,\n",
    ")"
   ]
  },
  {
   "cell_type": "markdown",
   "id": "edd42b79-fc42-4756-b03e-dbf529c31365",
   "metadata": {},
   "source": [
    "#### Enregistrons les scores pour DagsHub"
   ]
  },
  {
   "cell_type": "code",
   "execution_count": null,
   "id": "0c739efc-e5f2-44b5-bc26-2917293e53b8",
   "metadata": {},
   "outputs": [],
   "source": [
    "save_metrics_to_dagshub(dagslogger, scores, best_threshold, history)\n",
    "dagslogger.save() \n",
    "dagslogger.close()"
   ]
  },
  {
   "cell_type": "markdown",
   "id": "9ea49c75-f613-4335-8106-542793ae6ed0",
   "metadata": {},
   "source": [
    "### Compare"
   ]
  },
  {
   "cell_type": "code",
   "execution_count": null,
   "id": "f49349ec-31e9-4b53-8660-7fe0e155630c",
   "metadata": {
    "tags": []
   },
   "outputs": [],
   "source": [
    "from classification_utils import scores_df\n",
    "scores_df"
   ]
  },
  {
   "cell_type": "markdown",
   "id": "6873925b-d7ae-4db6-a3f1-4add9a8a40dc",
   "metadata": {
    "tags": []
   },
   "source": [
    "---\n",
    "## 3.7 `EMB-B6` RNN | Ngram=1 | int | GloveTwitter 100d + MASK + NOT trainable <a class=\"anchor\" id=\"EMBEDDING_SEQ_B6\"></a> [⇪](#menu)"
   ]
  },
  {
   "cell_type": "markdown",
   "id": "9a276611-866e-4255-9761-52df70e7a69a",
   "metadata": {},
   "source": [
    "### Standardize & Tokenize"
   ]
  },
  {
   "cell_type": "code",
   "execution_count": null,
   "id": "a72cb28b-2745-4cff-ad1c-058a6fbc50ed",
   "metadata": {
    "tags": []
   },
   "outputs": [],
   "source": [
    "# Done before\n",
    "print(text_vectorizationBng1.get_vocabulary()[:20], \"...\")"
   ]
  },
  {
   "cell_type": "markdown",
   "id": "13c681a7-8efd-4f74-9f95-6c296df15f90",
   "metadata": {},
   "source": [
    "### Prepare dataset"
   ]
  },
  {
   "cell_type": "code",
   "execution_count": null,
   "id": "372e9916-dde8-4863-bfcf-5ec062311d26",
   "metadata": {
    "tags": []
   },
   "outputs": [],
   "source": [
    "X_train_ready = text_vectorizationBng1(X_train)\n",
    "X_valid_ready = text_vectorization0(X_valid)\n",
    "X_test_ready = text_vectorizationBng1(X_test)"
   ]
  },
  {
   "cell_type": "code",
   "execution_count": null,
   "id": "1fc70583-2a63-4927-b4ff-3c738416d53c",
   "metadata": {
    "tags": []
   },
   "outputs": [],
   "source": [
    "X_train[:2]"
   ]
  },
  {
   "cell_type": "code",
   "execution_count": null,
   "id": "e7f9ba4b-f8b9-4443-b4e1-e84342074eae",
   "metadata": {
    "tags": []
   },
   "outputs": [],
   "source": [
    "X_train_ready[:2]"
   ]
  },
  {
   "cell_type": "markdown",
   "id": "b177359d-be74-4f0d-8fbd-f06a7c2c543a",
   "metadata": {},
   "source": [
    "### Embedding"
   ]
  },
  {
   "cell_type": "code",
   "execution_count": null,
   "id": "bfd9daf8-490b-4628-8573-5cca68db1c7d",
   "metadata": {
    "tags": []
   },
   "outputs": [],
   "source": [
    "embeddings_index = load_gensim_embedding(\"glove-twitter-100\")"
   ]
  },
  {
   "cell_type": "code",
   "execution_count": null,
   "id": "2984d1ed-1f35-4a6c-98fc-3c0c399eae83",
   "metadata": {
    "tags": []
   },
   "outputs": [],
   "source": [
    "embedding_dim = 100\n",
    "vocabulary = text_vectorizationBng1.get_vocabulary()\n",
    "embedding_matrix = convert_embedding_matrix(vocabulary, embeddings_index, max_tokens, embedding_dim)\n",
    "embedding_matrix"
   ]
  },
  {
   "cell_type": "code",
   "execution_count": null,
   "id": "932e93d3-c185-41cb-ab62-7db896fddfc4",
   "metadata": {
    "tags": []
   },
   "outputs": [],
   "source": [
    "# Embedding avec masque\n",
    "embedding_layer = layers.Embedding(\n",
    "    input_dim=max_tokens,\n",
    "    output_dim=embedding_dim,\n",
    "    embeddings_initializer=keras.initializers.Constant(embedding_matrix),\n",
    "    # input_length=max_length,\n",
    "    mask_zero=True,\n",
    "    trainable=False, # <== default is True\n",
    ")"
   ]
  },
  {
   "cell_type": "markdown",
   "id": "bfb4c3b0-d237-4ca2-99f6-a9a768a59234",
   "metadata": {},
   "source": [
    "### Define model"
   ]
  },
  {
   "cell_type": "code",
   "execution_count": null,
   "id": "60aacd12-63af-4daa-be6e-f33e91eabf9c",
   "metadata": {
    "tags": []
   },
   "outputs": [],
   "source": [
    "model_name = \"EmbedB6\"\n",
    "model, archi_desc = architecture002(\"adam\", \"binary_crossentropy\", ['accuracy'], embedding_layer)\n",
    "archi_desc = \"GloVeTwitter 100d + MASK + NT + Unigrams| \" + archi_desc"
   ]
  },
  {
   "cell_type": "code",
   "execution_count": null,
   "id": "20090425-8c88-44a4-9386-eb36af4eb2f5",
   "metadata": {
    "tags": []
   },
   "outputs": [],
   "source": [
    "model.summary()"
   ]
  },
  {
   "cell_type": "markdown",
   "id": "dde014b2-70c7-4939-9ace-ca89d310cd64",
   "metadata": {},
   "source": [
    "#### Définissons un logger DagsHub pour enregistrer notre essai"
   ]
  },
  {
   "cell_type": "code",
   "execution_count": null,
   "id": "22939de8-bac6-41ab-be1c-541137e83cbc",
   "metadata": {},
   "outputs": [],
   "source": [
    "dagslogger = DAGsHubLogger()"
   ]
  },
  {
   "cell_type": "code",
   "execution_count": null,
   "id": "16644d86-6e4a-40ba-aa48-5ff9f67fc3d8",
   "metadata": {},
   "outputs": [],
   "source": [
    "save_hyperparameters_to_dagshub(dagslogger, model_name, archi_desc, get_layers_for_dagshub(model), batch_size, data_work.shape[0])"
   ]
  },
  {
   "cell_type": "markdown",
   "id": "c3cc0e3e-c29b-4c8d-9cc6-2b5fbe356848",
   "metadata": {},
   "source": [
    "### Train model"
   ]
  },
  {
   "cell_type": "code",
   "execution_count": null,
   "id": "9dd40f62-5d32-43b0-b406-4f035d50ac11",
   "metadata": {
    "tags": []
   },
   "outputs": [],
   "source": [
    "t0 = time.perf_counter()\n",
    "history = model.fit(\n",
    "        x=X_train_ready, y=y_train, \n",
    "        validation_data=(X_test_ready, y_test), \n",
    "        epochs=50, \n",
    "        batch_size=batch_size, \n",
    "        callbacks=init_callbacks(f\"{model_name}\"),\n",
    "        verbose=1,\n",
    ")\n",
    "train_time = time.perf_counter() - t0"
   ]
  },
  {
   "cell_type": "markdown",
   "id": "29184cf6-1419-43e4-be3f-5affbf81c451",
   "metadata": {},
   "source": [
    "### Evaluate"
   ]
  },
  {
   "cell_type": "code",
   "execution_count": null,
   "id": "e1537091-d468-4697-9a95-c27151fb9976",
   "metadata": {
    "tags": []
   },
   "outputs": [],
   "source": [
    "model = keras.models.load_model(f\"models/{model_name}.keras\")"
   ]
  },
  {
   "cell_type": "code",
   "execution_count": null,
   "id": "6ef24a48-7bad-4f6e-922e-ba41f8cf334f",
   "metadata": {
    "tags": []
   },
   "outputs": [],
   "source": [
    "model.evaluate(X_test_ready, y_test)"
   ]
  },
  {
   "cell_type": "code",
   "execution_count": null,
   "id": "1fedc064-3256-47c8-a1dc-fff440f3c38d",
   "metadata": {
    "tags": []
   },
   "outputs": [],
   "source": [
    "raw_txt = tf.convert_to_tensor([\"I hate it\", \"I love it\"])\n",
    "raw_txt = text_vectorizationBng1(raw_txt)\n",
    "model.predict(raw_txt)"
   ]
  },
  {
   "cell_type": "code",
   "execution_count": null,
   "id": "3448b69c-41f9-459b-82e3-6674c8671edf",
   "metadata": {
    "colab": {
     "base_uri": "https://localhost:8080/",
     "height": 1000
    },
    "executionInfo": {
     "elapsed": 746,
     "status": "ok",
     "timestamp": 1653231856185,
     "user": {
      "displayName": "Valkea",
      "userId": "01476199649418572392"
     },
     "user_tz": -120
    },
    "id": "81aba764-7f22-4ad1-b0ed-bc5b13f0b75e",
    "outputId": "e3c4ed78-a90b-46e0-baa0-c28f701f4414",
    "tags": []
   },
   "outputs": [],
   "source": [
    "_ = get_scores(\n",
    "    model_name,\n",
    "    model=model,\n",
    "    X_ref=X_test_ready,\n",
    "    y_ref=y_test, \n",
    "    threshold=0.5,\n",
    "    # y_pred=y_preds, \n",
    "    # y_pred_proba=y_preds_proba, \n",
    "    training_time=train_time, \n",
    "    # inference_time=inf_time, \n",
    "    dagslogger=dagslogger,\n",
    "    register=True,\n",
    ")"
   ]
  },
  {
   "cell_type": "markdown",
   "id": "16c96777-3b80-47bd-a3c9-995e6ebf82cc",
   "metadata": {},
   "source": [
    "#### Trouvons le meilleur seuil de séparation pour les prédiction (sur la base du F1 score)"
   ]
  },
  {
   "cell_type": "code",
   "execution_count": null,
   "id": "13aef16c-293b-4de4-bae5-3fe51de87de7",
   "metadata": {},
   "outputs": [],
   "source": [
    "acc_value, best_threshold = find_best_threshold(model, X_valid_ready, y_valid, accuracy_score)\n",
    "print(f\"The best Accuracy score ({acc_value}) for this model is reached with a threshold of {best_threshold}\")"
   ]
  },
  {
   "cell_type": "code",
   "execution_count": null,
   "id": "a0b442e1-743b-4884-acf9-264566feaba9",
   "metadata": {
    "colab": {
     "base_uri": "https://localhost:8080/",
     "height": 1000
    },
    "executionInfo": {
     "elapsed": 746,
     "status": "ok",
     "timestamp": 1653231856185,
     "user": {
      "displayName": "Valkea",
      "userId": "01476199649418572392"
     },
     "user_tz": -120
    },
    "id": "81aba764-7f22-4ad1-b0ed-bc5b13f0b75e",
    "outputId": "e3c4ed78-a90b-46e0-baa0-c28f701f4414",
    "tags": []
   },
   "outputs": [],
   "source": [
    "scores = get_scores(\n",
    "    f\"{model_name} [w. threshold]\",\n",
    "    model=model,\n",
    "    X_ref=X_test_ready,\n",
    "    y_ref=y_test, \n",
    "    threshold=best_threshold,\n",
    "    # y_pred=y_preds, \n",
    "    # y_pred_proba=y_preds_proba, \n",
    "    training_time=train_time, \n",
    "    # inference_time=inf_time, \n",
    "    dagslogger=dagslogger,\n",
    "    register=True,\n",
    "    show_roccurves=False,\n",
    ")"
   ]
  },
  {
   "cell_type": "markdown",
   "id": "e4976366-b7b9-4728-85d0-843ade5c2e8d",
   "metadata": {},
   "source": [
    "#### Enregistrons les scores pour DagsHub"
   ]
  },
  {
   "cell_type": "code",
   "execution_count": null,
   "id": "b3d625bd-5fb7-45b4-a8f7-4d37db30fe0c",
   "metadata": {},
   "outputs": [],
   "source": [
    "save_metrics_to_dagshub(dagslogger, scores, best_threshold, history)\n",
    "dagslogger.save() \n",
    "dagslogger.close()"
   ]
  },
  {
   "cell_type": "markdown",
   "id": "d1fbb6b1-e8f4-46ac-9071-255dca8f44c9",
   "metadata": {},
   "source": [
    "### Compare"
   ]
  },
  {
   "cell_type": "code",
   "execution_count": null,
   "id": "052085f2-ccdb-4237-a968-d39846107b5e",
   "metadata": {
    "tags": []
   },
   "outputs": [],
   "source": [
    "from classification_utils import scores_df\n",
    "scores_df"
   ]
  },
  {
   "cell_type": "markdown",
   "id": "92e9aec8-7779-4e96-93c9-11125016af8f",
   "metadata": {
    "tags": []
   },
   "source": [
    "---\n",
    "## 3.8 `EMB-B7` RNN | Ngram=1 | int | GloveTwitter 200d + MASK + NOT trainable <a class=\"anchor\" id=\"EMBEDDING_SEQ_B7\"></a> [⇪](#menu)"
   ]
  },
  {
   "cell_type": "markdown",
   "id": "6160768d-6285-47a6-8165-891debc34f27",
   "metadata": {},
   "source": [
    "### Standardize & Tokenize"
   ]
  },
  {
   "cell_type": "code",
   "execution_count": null,
   "id": "f742550c-5b66-4126-968f-ce5372c0440b",
   "metadata": {
    "tags": []
   },
   "outputs": [],
   "source": [
    "# Done before\n",
    "print(text_vectorizationBng1.get_vocabulary()[:20], \"...\")"
   ]
  },
  {
   "cell_type": "markdown",
   "id": "fbb4fc42-72e1-4ab6-8d54-da70872fcb37",
   "metadata": {},
   "source": [
    "### Prepare dataset"
   ]
  },
  {
   "cell_type": "code",
   "execution_count": null,
   "id": "3cb8b87e-0554-4394-b59c-12258250dd6a",
   "metadata": {
    "tags": []
   },
   "outputs": [],
   "source": [
    "X_train_ready = text_vectorizationBng1(X_train)\n",
    "X_valid_ready = text_vectorization0(X_valid)\n",
    "X_test_ready = text_vectorizationBng1(X_test)"
   ]
  },
  {
   "cell_type": "code",
   "execution_count": null,
   "id": "b34fb72a-016e-4794-a929-9810835d4922",
   "metadata": {
    "tags": []
   },
   "outputs": [],
   "source": [
    "X_train[:2]"
   ]
  },
  {
   "cell_type": "code",
   "execution_count": null,
   "id": "3a754c98-344a-4c0e-bb74-b696921d2c99",
   "metadata": {
    "tags": []
   },
   "outputs": [],
   "source": [
    "X_train_ready[:2]"
   ]
  },
  {
   "cell_type": "markdown",
   "id": "289f9996-4470-4588-a365-37c560060020",
   "metadata": {},
   "source": [
    "### Embedding"
   ]
  },
  {
   "cell_type": "code",
   "execution_count": null,
   "id": "924052e3-e129-4d07-a009-657fe0402c22",
   "metadata": {
    "tags": []
   },
   "outputs": [],
   "source": [
    "embeddings_index = load_gensim_embedding(\"glove-twitter-200\")"
   ]
  },
  {
   "cell_type": "code",
   "execution_count": null,
   "id": "4239ccd0-97af-4683-8924-e697121deeb9",
   "metadata": {
    "tags": []
   },
   "outputs": [],
   "source": [
    "embedding_dim = 200\n",
    "vocabulary = text_vectorizationBng1.get_vocabulary()\n",
    "embedding_matrix = convert_embedding_matrix(vocabulary, embeddings_index, max_tokens, embedding_dim)\n",
    "embedding_matrix"
   ]
  },
  {
   "cell_type": "code",
   "execution_count": null,
   "id": "2612e7a5-7bea-4d7b-97b0-612228447945",
   "metadata": {
    "tags": []
   },
   "outputs": [],
   "source": [
    "# Embedding avec masque\n",
    "embedding_layer = layers.Embedding(\n",
    "    input_dim=max_tokens,\n",
    "    output_dim=embedding_dim,\n",
    "    embeddings_initializer=keras.initializers.Constant(embedding_matrix),\n",
    "    # input_length=max_length,\n",
    "    mask_zero=True,\n",
    "    trainable=False, # <== default is True\n",
    ")"
   ]
  },
  {
   "cell_type": "markdown",
   "id": "b555fce1-254c-48e5-9deb-166c33a004b9",
   "metadata": {},
   "source": [
    "### Define model"
   ]
  },
  {
   "cell_type": "code",
   "execution_count": null,
   "id": "3dc18401-9684-4221-9352-ab79885d117f",
   "metadata": {
    "tags": []
   },
   "outputs": [],
   "source": [
    "model_name = \"EmbedB7\"\n",
    "model, archi_desc = architecture002(\"adam\", \"binary_crossentropy\", ['accuracy'], embedding_layer)\n",
    "archi_desc = \"GloVeTwitter 200d + MASK + NT + Unigrams| \" + archi_desc"
   ]
  },
  {
   "cell_type": "code",
   "execution_count": null,
   "id": "66b092ed-b424-4bc5-a21f-47f6dc4d792c",
   "metadata": {
    "tags": []
   },
   "outputs": [],
   "source": [
    "model.summary()"
   ]
  },
  {
   "cell_type": "markdown",
   "id": "fc232bda-e279-44e5-980f-7ed679def07b",
   "metadata": {},
   "source": [
    "#### Définissons un logger DagsHub pour enregistrer notre essai"
   ]
  },
  {
   "cell_type": "code",
   "execution_count": null,
   "id": "8d19c2ba-6911-4cf5-bcbb-d728127df0d5",
   "metadata": {},
   "outputs": [],
   "source": [
    "dagslogger = DAGsHubLogger()"
   ]
  },
  {
   "cell_type": "code",
   "execution_count": null,
   "id": "ef6cc098-3203-408f-9388-c5d9580023e1",
   "metadata": {},
   "outputs": [],
   "source": [
    "save_hyperparameters_to_dagshub(dagslogger, model_name, archi_desc, get_layers_for_dagshub(model), batch_size, data_work.shape[0])"
   ]
  },
  {
   "cell_type": "markdown",
   "id": "b137263f-5267-44f8-ad97-1e70415de52a",
   "metadata": {},
   "source": [
    "### Train model"
   ]
  },
  {
   "cell_type": "code",
   "execution_count": null,
   "id": "ad582862-456e-4164-8d16-6afe86afd84d",
   "metadata": {
    "tags": []
   },
   "outputs": [],
   "source": [
    "t0 = time.perf_counter()\n",
    "history = model.fit(\n",
    "        x=X_train_ready, y=y_train, \n",
    "        validation_data=(X_test_ready, y_test), \n",
    "        epochs=50, \n",
    "        batch_size=batch_size, \n",
    "        callbacks=init_callbacks(f\"{model_name}\"),\n",
    "        verbose=1,\n",
    ")\n",
    "train_time = time.perf_counter() - t0"
   ]
  },
  {
   "cell_type": "markdown",
   "id": "f615f4d7-dbd3-4372-b56c-98294cc47cb6",
   "metadata": {},
   "source": [
    "### Evaluate"
   ]
  },
  {
   "cell_type": "code",
   "execution_count": null,
   "id": "f548ec7f-ceac-4194-a006-242191e491fa",
   "metadata": {
    "tags": []
   },
   "outputs": [],
   "source": [
    "model = keras.models.load_model(f\"models/{model_name}.keras\")"
   ]
  },
  {
   "cell_type": "code",
   "execution_count": null,
   "id": "c6324b45-8d1c-4ad5-94a0-887f17fa68b3",
   "metadata": {
    "tags": []
   },
   "outputs": [],
   "source": [
    "model.evaluate(X_test_ready, y_test)"
   ]
  },
  {
   "cell_type": "code",
   "execution_count": null,
   "id": "d9f72260-378a-4ce2-ad74-69e678e93e51",
   "metadata": {
    "tags": []
   },
   "outputs": [],
   "source": [
    "raw_txt = tf.convert_to_tensor([\"I hate it\", \"I love it\"])\n",
    "raw_txt = text_vectorizationBng1(raw_txt)\n",
    "model.predict(raw_txt)"
   ]
  },
  {
   "cell_type": "code",
   "execution_count": null,
   "id": "dfd6d6f3-be86-4c3d-8d17-ff977ab9c059",
   "metadata": {
    "colab": {
     "base_uri": "https://localhost:8080/",
     "height": 1000
    },
    "executionInfo": {
     "elapsed": 746,
     "status": "ok",
     "timestamp": 1653231856185,
     "user": {
      "displayName": "Valkea",
      "userId": "01476199649418572392"
     },
     "user_tz": -120
    },
    "id": "81aba764-7f22-4ad1-b0ed-bc5b13f0b75e",
    "outputId": "e3c4ed78-a90b-46e0-baa0-c28f701f4414",
    "tags": []
   },
   "outputs": [],
   "source": [
    "_ = get_scores(\n",
    "    model_name,\n",
    "    model=model,\n",
    "    X_ref=X_test_ready,\n",
    "    y_ref=y_test, \n",
    "    threshold=0.5,\n",
    "    # y_pred=y_preds, \n",
    "    # y_pred_proba=y_preds_proba, \n",
    "    training_time=train_time, \n",
    "    # inference_time=inf_time, \n",
    "    dagslogger=dagslogger,\n",
    "    register=True,\n",
    ")"
   ]
  },
  {
   "cell_type": "markdown",
   "id": "0f453ebd-663f-49be-8604-3e40e739feb5",
   "metadata": {},
   "source": [
    "#### Trouvons le meilleur seuil de séparation pour les prédiction (sur la base du F1 score)"
   ]
  },
  {
   "cell_type": "code",
   "execution_count": null,
   "id": "fce227c1-eb17-4f5a-b1ea-7657d3dd5f64",
   "metadata": {},
   "outputs": [],
   "source": [
    "acc_value, best_threshold = find_best_threshold(model, X_valid_ready, y_valid, accuracy_score)\n",
    "print(f\"The best Accuracy score ({acc_value}) for this model is reached with a threshold of {best_threshold}\")"
   ]
  },
  {
   "cell_type": "code",
   "execution_count": null,
   "id": "209bc1a6-355f-48ad-ac01-f73ea4ecad60",
   "metadata": {
    "colab": {
     "base_uri": "https://localhost:8080/",
     "height": 1000
    },
    "executionInfo": {
     "elapsed": 746,
     "status": "ok",
     "timestamp": 1653231856185,
     "user": {
      "displayName": "Valkea",
      "userId": "01476199649418572392"
     },
     "user_tz": -120
    },
    "id": "81aba764-7f22-4ad1-b0ed-bc5b13f0b75e",
    "outputId": "e3c4ed78-a90b-46e0-baa0-c28f701f4414",
    "tags": []
   },
   "outputs": [],
   "source": [
    "scores = get_scores(\n",
    "    f\"{model_name} [w. threshold]\",\n",
    "    model=model,\n",
    "    X_ref=X_test_ready,\n",
    "    y_ref=y_test, \n",
    "    threshold=best_threshold,\n",
    "    # y_pred=y_preds, \n",
    "    # y_pred_proba=y_preds_proba, \n",
    "    training_time=train_time, \n",
    "    # inference_time=inf_time, \n",
    "    dagslogger=dagslogger,\n",
    "    register=True,\n",
    "    show_roccurves=False,\n",
    ")"
   ]
  },
  {
   "cell_type": "markdown",
   "id": "0c9cfb1b-7765-426f-8e80-ae8b14f3276f",
   "metadata": {},
   "source": [
    "#### Enregistrons les scores pour DagsHub"
   ]
  },
  {
   "cell_type": "code",
   "execution_count": null,
   "id": "d6014fce-f62e-4f11-a7a2-fc1d7cac884f",
   "metadata": {},
   "outputs": [],
   "source": [
    "save_metrics_to_dagshub(dagslogger, scores, best_threshold, history)\n",
    "dagslogger.save() \n",
    "dagslogger.close()"
   ]
  },
  {
   "cell_type": "markdown",
   "id": "a9ab7d87-eb2a-41b3-bfa2-88e245ca895b",
   "metadata": {},
   "source": [
    "### Compare"
   ]
  },
  {
   "cell_type": "code",
   "execution_count": null,
   "id": "0e02cb27-8434-44c0-a0d7-544d64dd22c7",
   "metadata": {
    "tags": []
   },
   "outputs": [],
   "source": [
    "from classification_utils import scores_df\n",
    "scores_df"
   ]
  },
  {
   "cell_type": "markdown",
   "id": "5684658f-f93e-495b-9d87-cf3848cb5100",
   "metadata": {
    "tags": []
   },
   "source": [
    "---\n",
    "## 3.9 `EMB-B8` RNN | Ngram=1 | int | FastText300 + MASK + NOT trainable <a class=\"anchor\" id=\"EMBEDDING_SEQ_B8\"></a> [⇪](#menu)"
   ]
  },
  {
   "cell_type": "markdown",
   "id": "62ab48d9-46ec-46de-85c1-46c84f2c8011",
   "metadata": {},
   "source": [
    "### Standardize & Tokenize"
   ]
  },
  {
   "cell_type": "code",
   "execution_count": null,
   "id": "7410d6ac-8ed8-495c-9753-5fd4b8267cc8",
   "metadata": {
    "tags": []
   },
   "outputs": [],
   "source": [
    "# Done before\n",
    "print(text_vectorizationBng1.get_vocabulary()[:20], \"...\")"
   ]
  },
  {
   "cell_type": "markdown",
   "id": "4abc187e-c873-4899-838a-1677cdeed3da",
   "metadata": {},
   "source": [
    "### Prepare dataset"
   ]
  },
  {
   "cell_type": "code",
   "execution_count": null,
   "id": "c24f6fdd-32f3-4bd7-8b0d-03df5d537d8f",
   "metadata": {
    "tags": []
   },
   "outputs": [],
   "source": [
    "X_train_ready = text_vectorizationBng1(X_train)\n",
    "X_valid_ready = text_vectorization0(X_valid)\n",
    "X_test_ready = text_vectorizationBng1(X_test)"
   ]
  },
  {
   "cell_type": "code",
   "execution_count": null,
   "id": "7e5cc634-2e0e-4c9f-9820-74bc5316a404",
   "metadata": {
    "tags": []
   },
   "outputs": [],
   "source": [
    "X_train[:2]"
   ]
  },
  {
   "cell_type": "code",
   "execution_count": null,
   "id": "064c75bd-a80a-4d26-b3c0-2a850b8d8051",
   "metadata": {
    "tags": []
   },
   "outputs": [],
   "source": [
    "X_train_ready[:2]"
   ]
  },
  {
   "cell_type": "markdown",
   "id": "532b4fa1-b3a2-40fb-a884-bc62c82c3eb8",
   "metadata": {},
   "source": [
    "### Embedding"
   ]
  },
  {
   "cell_type": "code",
   "execution_count": null,
   "id": "709dc8bf-68f1-4e06-8bee-71dabe895fa1",
   "metadata": {
    "tags": []
   },
   "outputs": [],
   "source": [
    "embeddings_index = load_gensim_embedding(\"fasttext-wiki-news-subwords-300\")"
   ]
  },
  {
   "cell_type": "code",
   "execution_count": null,
   "id": "94a19400-c6f5-4fad-8062-5bc0348a930f",
   "metadata": {
    "tags": []
   },
   "outputs": [],
   "source": [
    "embedding_dim = 300\n",
    "vocabulary = text_vectorizationBng1.get_vocabulary()\n",
    "embedding_matrix = convert_embedding_matrix(vocabulary, embeddings_index, max_tokens, embedding_dim)\n",
    "embedding_matrix"
   ]
  },
  {
   "cell_type": "code",
   "execution_count": null,
   "id": "d141d0ae-8cad-4fc3-b754-d5e7813d9c59",
   "metadata": {
    "tags": []
   },
   "outputs": [],
   "source": [
    "# Embedding avec masque\n",
    "embedding_layer = layers.Embedding(\n",
    "    input_dim=max_tokens,\n",
    "    output_dim=embedding_dim,\n",
    "    embeddings_initializer=keras.initializers.Constant(embedding_matrix),\n",
    "    # input_length=max_length,\n",
    "    mask_zero=True,\n",
    "    trainable=False, # <== default is True\n",
    ")"
   ]
  },
  {
   "cell_type": "markdown",
   "id": "5b47e96c-f122-4a27-9650-1be5abd4eeb3",
   "metadata": {},
   "source": [
    "### Define model"
   ]
  },
  {
   "cell_type": "code",
   "execution_count": null,
   "id": "97d2d5b6-9b8d-45ef-bfbe-e0c71e8e5c47",
   "metadata": {
    "tags": []
   },
   "outputs": [],
   "source": [
    "model_name = \"EmbedB8\"\n",
    "model, archi_desc = architecture002(\"adam\", \"binary_crossentropy\", ['accuracy'], embedding_layer)\n",
    "archi_desc = \"FastText 300d + MASK + NT + Unigrams| \" + archi_desc"
   ]
  },
  {
   "cell_type": "code",
   "execution_count": null,
   "id": "f899856e-7f02-4018-8a2a-511168f323f4",
   "metadata": {
    "tags": []
   },
   "outputs": [],
   "source": [
    "model.summary()"
   ]
  },
  {
   "cell_type": "markdown",
   "id": "2ca94d2c-2aa3-4ddd-90ff-43a54d3bbb85",
   "metadata": {},
   "source": [
    "#### Définissons un logger DagsHub pour enregistrer notre essai"
   ]
  },
  {
   "cell_type": "code",
   "execution_count": null,
   "id": "c5754d44-e213-4de5-8995-37510810d36e",
   "metadata": {},
   "outputs": [],
   "source": [
    "dagslogger = DAGsHubLogger()"
   ]
  },
  {
   "cell_type": "code",
   "execution_count": null,
   "id": "8b178dde-e82c-4e9f-aa48-d1dae44c1c46",
   "metadata": {},
   "outputs": [],
   "source": [
    "save_hyperparameters_to_dagshub(dagslogger, model_name, archi_desc, get_layers_for_dagshub(model), batch_size, data_work.shape[0])"
   ]
  },
  {
   "cell_type": "markdown",
   "id": "c428b787-91be-4aab-a1c0-f1888acb6d07",
   "metadata": {},
   "source": [
    "### Train model"
   ]
  },
  {
   "cell_type": "code",
   "execution_count": null,
   "id": "fce6a310-104f-491a-a946-fcd4860421a6",
   "metadata": {
    "tags": []
   },
   "outputs": [],
   "source": [
    "t0 = time.perf_counter()\n",
    "history = model.fit(\n",
    "        x=X_train_ready, y=y_train, \n",
    "        validation_data=(X_test_ready, y_test), \n",
    "        epochs=50, \n",
    "        batch_size=batch_size, \n",
    "        callbacks=init_callbacks(f\"{model_name}\"),\n",
    "        verbose=1,\n",
    ")\n",
    "train_time = time.perf_counter() - t0"
   ]
  },
  {
   "cell_type": "markdown",
   "id": "912fc827-a904-4346-953b-6f5470680f0b",
   "metadata": {},
   "source": [
    "### Evaluate"
   ]
  },
  {
   "cell_type": "code",
   "execution_count": null,
   "id": "bada1052-2dc2-47af-bc73-abb45b5cb2c5",
   "metadata": {
    "tags": []
   },
   "outputs": [],
   "source": [
    "model = keras.models.load_model(f\"models/{model_name}.keras\")"
   ]
  },
  {
   "cell_type": "code",
   "execution_count": null,
   "id": "a3d35b4b-425e-46cb-9c71-3ceacc22c491",
   "metadata": {
    "tags": []
   },
   "outputs": [],
   "source": [
    "model.evaluate(X_test_ready, y_test)"
   ]
  },
  {
   "cell_type": "code",
   "execution_count": null,
   "id": "2a009f54-7090-42fa-9c24-fae4eee1ddca",
   "metadata": {
    "tags": []
   },
   "outputs": [],
   "source": [
    "raw_txt = tf.convert_to_tensor([\"I hate it\", \"I love it\"])\n",
    "raw_txt = text_vectorizationBng1(raw_txt)\n",
    "model.predict(raw_txt)"
   ]
  },
  {
   "cell_type": "code",
   "execution_count": null,
   "id": "8ecffb24-3ff2-4d1a-b7fc-82b8b91fa56c",
   "metadata": {
    "colab": {
     "base_uri": "https://localhost:8080/",
     "height": 1000
    },
    "executionInfo": {
     "elapsed": 746,
     "status": "ok",
     "timestamp": 1653231856185,
     "user": {
      "displayName": "Valkea",
      "userId": "01476199649418572392"
     },
     "user_tz": -120
    },
    "id": "81aba764-7f22-4ad1-b0ed-bc5b13f0b75e",
    "outputId": "e3c4ed78-a90b-46e0-baa0-c28f701f4414",
    "tags": []
   },
   "outputs": [],
   "source": [
    "_ = get_scores(\n",
    "    model_name,\n",
    "    model=model,\n",
    "    X_ref=X_test_ready,\n",
    "    y_ref=y_test, \n",
    "    threshold=0.5,\n",
    "    # y_pred=y_preds, \n",
    "    # y_pred_proba=y_preds_proba, \n",
    "    training_time=train_time, \n",
    "    # inference_time=inf_time, \n",
    "    dagslogger=dagslogger,\n",
    "    register=True,\n",
    ")"
   ]
  },
  {
   "cell_type": "markdown",
   "id": "1e7c7424-e945-4d39-b50c-0fe82ab5d6f6",
   "metadata": {},
   "source": [
    "#### Trouvons le meilleur seuil de séparation pour les prédiction (sur la base du F1 score)"
   ]
  },
  {
   "cell_type": "code",
   "execution_count": null,
   "id": "8791f970-322d-41b6-a108-1273bf81ad65",
   "metadata": {},
   "outputs": [],
   "source": [
    "acc_value, best_threshold = find_best_threshold(model, X_valid_ready, y_valid, accuracy_score)\n",
    "print(f\"The best Accuracy score ({acc_value}) for this model is reached with a threshold of {best_threshold}\")"
   ]
  },
  {
   "cell_type": "code",
   "execution_count": null,
   "id": "12395395-169c-450a-9305-e6f3fcdf4fec",
   "metadata": {
    "colab": {
     "base_uri": "https://localhost:8080/",
     "height": 1000
    },
    "executionInfo": {
     "elapsed": 746,
     "status": "ok",
     "timestamp": 1653231856185,
     "user": {
      "displayName": "Valkea",
      "userId": "01476199649418572392"
     },
     "user_tz": -120
    },
    "id": "81aba764-7f22-4ad1-b0ed-bc5b13f0b75e",
    "outputId": "e3c4ed78-a90b-46e0-baa0-c28f701f4414",
    "tags": []
   },
   "outputs": [],
   "source": [
    "scores = get_scores(\n",
    "    f\"{model_name} [w. threshold]\",\n",
    "    model=model,\n",
    "    X_ref=X_test_ready,\n",
    "    y_ref=y_test, \n",
    "    threshold=best_threshold,\n",
    "    # y_pred=y_preds, \n",
    "    # y_pred_proba=y_preds_proba, \n",
    "    training_time=train_time, \n",
    "    # inference_time=inf_time, \n",
    "    dagslogger=dagslogger,\n",
    "    register=True,\n",
    "    show_roccurves=False,\n",
    ")"
   ]
  },
  {
   "cell_type": "markdown",
   "id": "e0692e64-c9b7-43b4-b175-5204916d9dc9",
   "metadata": {},
   "source": [
    "#### Enregistrons les scores pour DagsHub"
   ]
  },
  {
   "cell_type": "code",
   "execution_count": null,
   "id": "dcae80af-02e0-4aab-b0b3-450f60d621a8",
   "metadata": {},
   "outputs": [],
   "source": [
    "save_metrics_to_dagshub(dagslogger, scores, best_threshold, history)\n",
    "dagslogger.save() \n",
    "dagslogger.close()"
   ]
  },
  {
   "cell_type": "markdown",
   "id": "cec69e2d-0d8a-41ce-8874-4c906fd0fdb8",
   "metadata": {},
   "source": [
    "### Compare"
   ]
  },
  {
   "cell_type": "code",
   "execution_count": null,
   "id": "3a9e81e3-c71d-4c96-a732-45157e051b09",
   "metadata": {
    "tags": []
   },
   "outputs": [],
   "source": [
    "from classification_utils import scores_df\n",
    "scores_df"
   ]
  },
  {
   "cell_type": "markdown",
   "id": "f40af9ce-1979-4e91-a05a-b6018a3e339a",
   "metadata": {
    "tags": []
   },
   "source": [
    "---\n",
    "## 3.10 `EMB-B9` RNN | Ngram=1 | int | Word2Vec300_GoogleNews + MASK + NOT trainable <a class=\"anchor\" id=\"EMBEDDING_SEQ_B9\"></a> [⇪](#menu)"
   ]
  },
  {
   "cell_type": "markdown",
   "id": "094ad4da-b146-4116-a650-f867e734bbe8",
   "metadata": {},
   "source": [
    "### Standardize & Tokenize"
   ]
  },
  {
   "cell_type": "code",
   "execution_count": null,
   "id": "24c3b2aa-0d54-449c-bd59-db6e04780fb9",
   "metadata": {
    "tags": []
   },
   "outputs": [],
   "source": [
    "# Done before\n",
    "print(text_vectorizationBng1.get_vocabulary()[:20], \"...\")"
   ]
  },
  {
   "cell_type": "markdown",
   "id": "00f98b0b-1020-415f-bb8e-3de7e882cc6a",
   "metadata": {},
   "source": [
    "### Prepare dataset"
   ]
  },
  {
   "cell_type": "code",
   "execution_count": null,
   "id": "93bc0215-bba0-4d1a-ab17-0a04ddfea258",
   "metadata": {
    "tags": []
   },
   "outputs": [],
   "source": [
    "X_train_ready = text_vectorizationBng1(X_train)\n",
    "X_valid_ready = text_vectorization0(X_valid)\n",
    "X_test_ready = text_vectorizationBng1(X_test)"
   ]
  },
  {
   "cell_type": "code",
   "execution_count": null,
   "id": "be125126-5325-40a1-a1a0-35ffa485609a",
   "metadata": {
    "tags": []
   },
   "outputs": [],
   "source": [
    "X_train[:2]"
   ]
  },
  {
   "cell_type": "code",
   "execution_count": null,
   "id": "b756934d-c03b-4040-a08f-a4be11878bf7",
   "metadata": {
    "tags": []
   },
   "outputs": [],
   "source": [
    "X_train_ready[:2]"
   ]
  },
  {
   "cell_type": "markdown",
   "id": "c5fa06e1-1c94-4888-b24a-a93d5818a28f",
   "metadata": {},
   "source": [
    "### Embedding"
   ]
  },
  {
   "cell_type": "code",
   "execution_count": null,
   "id": "b8171535-4e3a-42ac-8c7a-4713aa1f64d3",
   "metadata": {
    "tags": []
   },
   "outputs": [],
   "source": [
    "embeddings_index = load_gensim_embedding(\"word2vec-google-news-300\", binary=True)"
   ]
  },
  {
   "cell_type": "code",
   "execution_count": null,
   "id": "36b3dd1f-bf1b-451b-b9d4-18a0189b6d1d",
   "metadata": {
    "tags": []
   },
   "outputs": [],
   "source": [
    "embedding_dim = 300\n",
    "vocabulary = text_vectorizationBng1.get_vocabulary()\n",
    "embedding_matrix = convert_embedding_matrix(vocabulary, embeddings_index, max_tokens, embedding_dim)\n",
    "embedding_matrix"
   ]
  },
  {
   "cell_type": "code",
   "execution_count": null,
   "id": "e4740718-a585-41c5-8559-11eeff68c212",
   "metadata": {
    "tags": []
   },
   "outputs": [],
   "source": [
    "# Embedding avec masque\n",
    "embedding_layer = layers.Embedding(\n",
    "    input_dim=max_tokens,\n",
    "    output_dim=embedding_dim,\n",
    "    embeddings_initializer=keras.initializers.Constant(embedding_matrix),\n",
    "    # input_length=max_length,\n",
    "    mask_zero=True,\n",
    "    trainable=False, # <== default is True\n",
    ")"
   ]
  },
  {
   "cell_type": "markdown",
   "id": "4a966f73-2ed2-4c8f-a826-284075accc92",
   "metadata": {},
   "source": [
    "### Define model"
   ]
  },
  {
   "cell_type": "code",
   "execution_count": null,
   "id": "ac6e08a7-fed2-4c8a-96f3-1836a5e9f0cd",
   "metadata": {
    "tags": []
   },
   "outputs": [],
   "source": [
    "model_name = \"EmbedB9\"\n",
    "model, archi_desc = architecture002(\"adam\", \"binary_crossentropy\", ['accuracy'], embedding_layer)\n",
    "archi_desc = \"Word2Vec 300d google + MASK + NT + Unigrams| \" + archi_desc"
   ]
  },
  {
   "cell_type": "code",
   "execution_count": null,
   "id": "a2e24b51-b594-4401-972b-bf1332740473",
   "metadata": {
    "tags": []
   },
   "outputs": [],
   "source": [
    "model.summary()"
   ]
  },
  {
   "cell_type": "markdown",
   "id": "140623a8-78a0-42b0-b6c9-15b5aa70a63e",
   "metadata": {},
   "source": [
    "#### Définissons un logger DagsHub pour enregistrer notre essai"
   ]
  },
  {
   "cell_type": "code",
   "execution_count": null,
   "id": "c42f7d6d-faa3-4d4a-b66c-9d70f424c03d",
   "metadata": {},
   "outputs": [],
   "source": [
    "dagslogger = DAGsHubLogger()"
   ]
  },
  {
   "cell_type": "code",
   "execution_count": null,
   "id": "e292630b-34d7-472e-909f-5289a36fb9a2",
   "metadata": {},
   "outputs": [],
   "source": [
    "save_hyperparameters_to_dagshub(dagslogger, model_name, archi_desc, get_layers_for_dagshub(model), batch_size, data_work.shape[0])"
   ]
  },
  {
   "cell_type": "markdown",
   "id": "bba5001d-b41f-4b4c-9426-e69b8d649a39",
   "metadata": {},
   "source": [
    "### Train model"
   ]
  },
  {
   "cell_type": "code",
   "execution_count": null,
   "id": "2fefbd7a-0bab-436e-93c4-9fdb0613cefd",
   "metadata": {
    "tags": []
   },
   "outputs": [],
   "source": [
    "t0 = time.perf_counter()\n",
    "history = model.fit(\n",
    "        x=X_train_ready, y=y_train, \n",
    "        validation_data=(X_test_ready, y_test), \n",
    "        epochs=50, \n",
    "        batch_size=batch_size, \n",
    "        callbacks=init_callbacks(f\"{model_name}\"),\n",
    "        verbose=1,\n",
    ")\n",
    "train_time = time.perf_counter() - t0"
   ]
  },
  {
   "cell_type": "markdown",
   "id": "41d64d5a-6ef3-4920-b239-b03dd096803c",
   "metadata": {},
   "source": [
    "### Evaluate"
   ]
  },
  {
   "cell_type": "code",
   "execution_count": null,
   "id": "f6e0ab24-320f-4332-93dc-8d5f11463df1",
   "metadata": {
    "tags": []
   },
   "outputs": [],
   "source": [
    "model = keras.models.load_model(f\"models/{model_name}.keras\")"
   ]
  },
  {
   "cell_type": "code",
   "execution_count": null,
   "id": "15ec124c-6fa6-49c7-a0d9-d51c6a15d98b",
   "metadata": {
    "tags": []
   },
   "outputs": [],
   "source": [
    "model.evaluate(X_test_ready, y_test)"
   ]
  },
  {
   "cell_type": "code",
   "execution_count": null,
   "id": "36832ebc-3bc9-4a9b-a414-b6494afdb01b",
   "metadata": {
    "tags": []
   },
   "outputs": [],
   "source": [
    "raw_txt = tf.convert_to_tensor([\"I hate it\", \"I love it\"])\n",
    "raw_txt = text_vectorizationBng1(raw_txt)\n",
    "model.predict(raw_txt)"
   ]
  },
  {
   "cell_type": "code",
   "execution_count": null,
   "id": "311bd92e-c9b5-47d7-9422-76f58662a420",
   "metadata": {
    "colab": {
     "base_uri": "https://localhost:8080/",
     "height": 1000
    },
    "executionInfo": {
     "elapsed": 746,
     "status": "ok",
     "timestamp": 1653231856185,
     "user": {
      "displayName": "Valkea",
      "userId": "01476199649418572392"
     },
     "user_tz": -120
    },
    "id": "81aba764-7f22-4ad1-b0ed-bc5b13f0b75e",
    "outputId": "e3c4ed78-a90b-46e0-baa0-c28f701f4414",
    "tags": []
   },
   "outputs": [],
   "source": [
    "_ = get_scores(\n",
    "    model_name,\n",
    "    model=model,\n",
    "    X_ref=X_test_ready,\n",
    "    y_ref=y_test, \n",
    "    threshold=0.5,\n",
    "    # y_pred=y_preds, \n",
    "    # y_pred_proba=y_preds_proba, \n",
    "    training_time=train_time, \n",
    "    # inference_time=inf_time, \n",
    "    dagslogger=dagslogger,\n",
    "    register=True,\n",
    ")"
   ]
  },
  {
   "cell_type": "markdown",
   "id": "f2353983-3abf-4eb2-acf0-97a7a591cb3f",
   "metadata": {},
   "source": [
    "#### Trouvons le meilleur seuil de séparation pour les prédiction (sur la base du F1 score)"
   ]
  },
  {
   "cell_type": "code",
   "execution_count": null,
   "id": "673215f7-2c2f-43c9-8d1f-41a7abd89046",
   "metadata": {},
   "outputs": [],
   "source": [
    "acc_value, best_threshold = find_best_threshold(model, X_valid_ready, y_valid, accuracy_score)\n",
    "print(f\"The best Accuracy score ({acc_value}) for this model is reached with a threshold of {best_threshold}\")"
   ]
  },
  {
   "cell_type": "code",
   "execution_count": null,
   "id": "32977409-5079-4e46-a390-0ed713c75139",
   "metadata": {
    "colab": {
     "base_uri": "https://localhost:8080/",
     "height": 1000
    },
    "executionInfo": {
     "elapsed": 746,
     "status": "ok",
     "timestamp": 1653231856185,
     "user": {
      "displayName": "Valkea",
      "userId": "01476199649418572392"
     },
     "user_tz": -120
    },
    "id": "81aba764-7f22-4ad1-b0ed-bc5b13f0b75e",
    "outputId": "e3c4ed78-a90b-46e0-baa0-c28f701f4414",
    "tags": []
   },
   "outputs": [],
   "source": [
    "scores = get_scores(\n",
    "    f\"{model_name} [w. threshold]\",\n",
    "    model=model,\n",
    "    X_ref=X_test_ready,\n",
    "    y_ref=y_test, \n",
    "    threshold=best_threshold,\n",
    "    # y_pred=y_preds, \n",
    "    # y_pred_proba=y_preds_proba, \n",
    "    training_time=train_time, \n",
    "    # inference_time=inf_time, \n",
    "    dagslogger=dagslogger,\n",
    "    register=True,\n",
    "    show_roccurves=False,\n",
    ")"
   ]
  },
  {
   "cell_type": "markdown",
   "id": "6b76ea22-01f3-4346-87d3-73805af27990",
   "metadata": {},
   "source": [
    "#### Enregistrons les scores pour DagsHub"
   ]
  },
  {
   "cell_type": "code",
   "execution_count": null,
   "id": "8ec3b0c1-d366-4357-b09f-26d535c7dfc3",
   "metadata": {},
   "outputs": [],
   "source": [
    "save_metrics_to_dagshub(dagslogger, scores, best_threshold, history)\n",
    "dagslogger.save() \n",
    "dagslogger.close()"
   ]
  },
  {
   "cell_type": "markdown",
   "id": "535ee814-1f59-4cd3-89cb-97b67a802025",
   "metadata": {},
   "source": [
    "### Compare"
   ]
  },
  {
   "cell_type": "code",
   "execution_count": null,
   "id": "8f9ad6c3-5a00-449d-9bbe-f4b7cce15491",
   "metadata": {
    "tags": []
   },
   "outputs": [],
   "source": [
    "from classification_utils import scores_df\n",
    "scores_df"
   ]
  },
  {
   "cell_type": "markdown",
   "id": "290a37c1-dd64-4c72-83e0-44d7175de462",
   "metadata": {},
   "source": [
    "---\n",
    "---\n",
    "# 4. Modèle `classiques` (pour comparaison) <a class=\"anchor\" id=\"NO_EMBEDDING\"></a> [⇪](#menu)"
   ]
  },
  {
   "cell_type": "markdown",
   "id": "5ed37737-2f00-4871-97ec-deecc88c1049",
   "metadata": {
    "tags": []
   },
   "source": [
    "---\n",
    "## 4.1 `EMB-C0` LogisticRegression | RAW_lemmas_not_filtered <a class=\"anchor\" id=\"NO_EMBEDDING_C0\"></a> [⇪](#menu)"
   ]
  },
  {
   "cell_type": "code",
   "execution_count": null,
   "id": "1c66b389-1c61-47ec-8770-2be74f60ef92",
   "metadata": {
    "id": "bd3e09fc-72fa-4be3-9b2f-a48051235a2f",
    "tags": []
   },
   "outputs": [],
   "source": [
    "from sklearn.model_selection import StratifiedKFold\n",
    "skfold = StratifiedKFold(n_splits=5, shuffle=True, random_state=random_seed)"
   ]
  },
  {
   "cell_type": "markdown",
   "id": "057168a9-8790-4665-ab3d-bede5ba76aff",
   "metadata": {},
   "source": [
    "### Préparons le jeu de données en `Train` et `Test` sets"
   ]
  },
  {
   "cell_type": "code",
   "execution_count": null,
   "id": "59d6f472-b07c-48ff-9ca8-ff38ea3d53f2",
   "metadata": {
    "tags": []
   },
   "outputs": [],
   "source": [
    "from sklearn.feature_extraction.text import TfidfVectorizer\n",
    "\n",
    "# Prepare TF-IDF \n",
    "tfidf_vectorizer_train = TfidfVectorizer(use_idf=True, min_df=5, max_df=0.5) #, max_features=2000)\n",
    "X_train_ready = tfidf_vectorizer_train.fit_transform(X_train)\n",
    "X_test_ready = tfidf_vectorizer_train.transform(X_test)"
   ]
  },
  {
   "cell_type": "code",
   "execution_count": null,
   "id": "0e9e66b7-5a1a-448e-a840-c0f2053e01a2",
   "metadata": {
    "tags": []
   },
   "outputs": [],
   "source": [
    "print(f\"TF-IDF features: {tfidf_vectorizer_train.get_feature_names_out()}\")\n",
    "print(f\"Sets shapes >> X_train_ready: {X_train_ready.shape}, X_test_ready: {X_test_ready.shape}\")"
   ]
  },
  {
   "cell_type": "markdown",
   "id": "8761419e-2ab6-49a7-851e-b28312939b12",
   "metadata": {
    "id": "728fca76-6bb8-4402-8bb0-ff5bce8f39b1"
   },
   "source": [
    "### Appliquons la Logistic Regression avec ce jeu de données"
   ]
  },
  {
   "cell_type": "code",
   "execution_count": null,
   "id": "296a536b-ecdc-40fa-ab20-3ae495f50196",
   "metadata": {
    "id": "f8114082-269f-437a-96e3-403be5eaa46a",
    "tags": []
   },
   "outputs": [],
   "source": [
    "from sklearn.linear_model import LogisticRegression\n",
    "from scipy.stats import uniform, loguniform"
   ]
  },
  {
   "cell_type": "code",
   "execution_count": null,
   "id": "a4d396cb-72b3-41b6-bf73-4a5628fb7ca8",
   "metadata": {
    "id": "0b0a1c14-bb60-442e-97fc-1c6368704498",
    "tags": []
   },
   "outputs": [],
   "source": [
    "max_lr_iter = 3000\n",
    "param_grid = [\n",
    "    {\n",
    "        'random_state':[random_seed],\n",
    "        'max_iter':[max_lr_iter],\n",
    "        'solver' : ['lbfgs'],\n",
    "        'penalty' : ['l2'], # none\n",
    "        'C' : loguniform(1e-5, 1e2),\n",
    "    },\n",
    "    {\n",
    "        'random_state':[random_seed],\n",
    "        'max_iter':[max_lr_iter],\n",
    "        'solver' : ['liblinear'],\n",
    "        'penalty' : ['l1', 'l2'], # none\n",
    "        'C' : loguniform(1e-5, 1e2),\n",
    "    },\n",
    "    {\n",
    "        'random_state':[random_seed],\n",
    "        'max_iter':[max_lr_iter],\n",
    "        'solver' : ['saga'],\n",
    "        'penalty' : ['elasticnet'], # none\n",
    "        'C' : loguniform(1e-5, 1e2),\n",
    "        'l1_ratio' : uniform(0,1)\n",
    "    },\n",
    "]"
   ]
  },
  {
   "cell_type": "code",
   "execution_count": null,
   "id": "468da0fc-0a42-4dca-b4f3-08fc43cdada4",
   "metadata": {
    "colab": {
     "base_uri": "https://localhost:8080/"
    },
    "executionInfo": {
     "elapsed": 30100,
     "status": "ok",
     "timestamp": 1653231855459,
     "user": {
      "displayName": "Valkea",
      "userId": "01476199649418572392"
     },
     "user_tz": -120
    },
    "id": "083fad02-c21d-404d-b4e5-269610c8d2b7",
    "outputId": "7e2a34c6-ed0b-4d4d-fea3-ed7ad25b69fa",
    "tags": []
   },
   "outputs": [],
   "source": [
    "model_name = \"Test C00\"\n",
    "max_lr_iter = 3000\n",
    "\n",
    "grd_log = fit_model(\n",
    "    LogisticRegression(), \n",
    "    param_grid=param_grid,  \n",
    "    cv = skfold,\n",
    "    X_ref = X_train_ready,\n",
    "    y_ref = y_train,\n",
    ")"
   ]
  },
  {
   "cell_type": "markdown",
   "id": "871a5305-5d0d-4171-a438-0e20e237fa8c",
   "metadata": {},
   "source": [
    "### Evaluate"
   ]
  },
  {
   "cell_type": "code",
   "execution_count": null,
   "id": "626e9d6d-3f08-472c-b222-20bc2d6fd13a",
   "metadata": {
    "colab": {
     "base_uri": "https://localhost:8080/",
     "height": 1000
    },
    "executionInfo": {
     "elapsed": 746,
     "status": "ok",
     "timestamp": 1653231856185,
     "user": {
      "displayName": "Valkea",
      "userId": "01476199649418572392"
     },
     "user_tz": -120
    },
    "id": "81aba764-7f22-4ad1-b0ed-bc5b13f0b75e",
    "outputId": "e3c4ed78-a90b-46e0-baa0-c28f701f4414",
    "tags": []
   },
   "outputs": [],
   "source": [
    "get_scores(model_name, **grd_log, register=True, X_ref=X_test_ready, y_ref=y_test)"
   ]
  },
  {
   "cell_type": "markdown",
   "id": "abfc1d72-51b9-499b-b1e4-04c721feffab",
   "metadata": {},
   "source": [
    "---\n",
    "---\n",
    "# 5. Comparaison des `scores` <a class=\"anchor\" id=\"EMBEDDING_scores\"></a> [⇪](#menu)"
   ]
  },
  {
   "cell_type": "code",
   "execution_count": null,
   "id": "4240eb3b-1af9-4199-8489-7f0698d935c9",
   "metadata": {
    "tags": []
   },
   "outputs": [],
   "source": [
    "from classification_utils import scores_df"
   ]
  },
  {
   "cell_type": "code",
   "execution_count": null,
   "id": "72d1ee17-1f38-4ccc-836f-46bf780b2186",
   "metadata": {
    "tags": []
   },
   "outputs": [],
   "source": [
    "scores_df"
   ]
  },
  {
   "cell_type": "code",
   "execution_count": null,
   "id": "00c83b8f-eeac-4a00-8067-14dbd2cfc399",
   "metadata": {
    "tags": []
   },
   "outputs": [],
   "source": [
    "scores_df.sort_values(['ROC AUC'], ascending=False)"
   ]
  }
 ],
 "metadata": {
  "kernelspec": {
   "display_name": "venvP7",
   "language": "python",
   "name": "venvp7"
  },
  "language_info": {
   "codemirror_mode": {
    "name": "ipython",
    "version": 3
   },
   "file_extension": ".py",
   "mimetype": "text/x-python",
   "name": "python",
   "nbconvert_exporter": "python",
   "pygments_lexer": "ipython3",
   "version": "3.8.10"
  },
  "toc-autonumbering": true,
  "toc-showcode": false,
  "toc-showmarkdowntxt": false,
  "toc-showtags": false
 },
 "nbformat": 4,
 "nbformat_minor": 5
}
