{
 "cells": [
  {
   "cell_type": "markdown",
   "id": "85f62893-0675-4590-a1d6-7e07e0e2c919",
   "metadata": {},
   "source": [
    "# Menu <a class=\"anchor\" id=\"menu\"></a>\n",
    "   \n",
    "* [1. Préparatifs](#init)\n",
    "* [2. Recherche du `plongement` le plus adapté](#EMBEDDING)\n",
    "    * [3.1 Pretrained Word2Vec `word2vec-google-news-300`](#EMBEDDING_Word2Vec)\n",
    "    * [3.2 Pretrained FastText `fasttext-wiki-news-subwords-300`](#EMBEDDING_FastText)\n",
    "    * [3.3 Pretrained Glove `Stanford's GloVe 100d`](#EMBEDDING_glove6B100d)\n",
    "    * [3.4 Pretrained Glove `glove-twitter-25`](#EMBEDDING_glove25)\n",
    "    * [3.5 Pretrained Glove `glove-twitter-100`](#EMBEDDING_glove25)\n",
    "    * [3.6 Word2Vec `local training`](#EMBEDDING_Word2Vec_local)\n",
    "    * [3.7 FastText `local training`](#EMBEDDING_FastText_local)\n",
    "    * [3.8 Comparaison des scores](#EMBEDDING_scores)"
   ]
  },
  {
   "cell_type": "code",
   "execution_count": 18,
   "id": "3a1eb694-76ee-4986-a77e-5559cf2fc02f",
   "metadata": {
    "tags": []
   },
   "outputs": [],
   "source": [
    "import os\n",
    "import time\n",
    "import pathlib\n",
    "import gzip\n",
    "\n",
    "import joblib\n",
    "import pandas as pd\n",
    "import numpy as np\n",
    "\n",
    "import matplotlib.pyplot as plt\n",
    "\n",
    "from sklearn.model_selection import train_test_split\n",
    "import tensorflow as tf\n",
    "from tensorflow import keras\n",
    "from keras.preprocessing.text import Tokenizer\n",
    "try:\n",
    "    from keras.utils import pad_sequences\n",
    "except ImportError:\n",
    "    from keras.preprocessing.sequence import pad_sequences\n",
    "\n",
    "import joblib\n",
    "\n",
    "random_seed = 0\n",
    "np.random.seed(random_seed)\n",
    "\n",
    "# set random seed for keras reproductibility\n",
    "try:\n",
    "    keras.utils.set_random_seed(random_seed)\n",
    "except Exception:\n",
    "    tf.random.set_seed(random_seed)"
   ]
  },
  {
   "cell_type": "markdown",
   "id": "708cd824-8113-4ec4-b539-de6d715f3029",
   "metadata": {},
   "source": [
    "#### Définissons une fonction permettant de charger les embeddings pre-calculés"
   ]
  },
  {
   "cell_type": "code",
   "execution_count": 67,
   "id": "24792514-98aa-4baa-8e3e-a1813b052dd0",
   "metadata": {},
   "outputs": [],
   "source": [
    "from gensim.models import KeyedVectors\n",
    "import gensim.downloader as api\n",
    "\n",
    "def load_genim_embedding(embedding_name, binary=False):\n",
    "    \n",
    "    embedding_path = pathlib.Path(pathlib.Path().absolute(), 'data', 'embedding_models', f'{embedding_name}.gz')\n",
    "    try:\n",
    "        if embedding_path.is_file():\n",
    "            print(f\"Loading from {embedding_path}\")\n",
    "            embedding_model = KeyedVectors.load_word2vec_format(embedding_path, binary=binary)\n",
    "        else:\n",
    "            print(\"Loading from the Git repos with API\")\n",
    "            embedding_model = api.load(embedding_name)\n",
    "            \n",
    "        return embedding_model\n",
    "    except Exception as e:\n",
    "        print(f\"The provided embedding model couldn't be loaded correctly: {e}\")\n",
    "        \n",
    "def load_trained_glove(embedding_name):\n",
    "    \n",
    "    def parse_file(file):\n",
    "        embeddings_index = {}\n",
    "        for line in file:\n",
    "            word, coefs = line.split(maxsplit=1)\n",
    "            coefs = np.fromstring(coefs, \"f\", sep=\" \")\n",
    "            embeddings_index[word] = coefs\n",
    "        return embeddings_index\n",
    "\n",
    "    try:\n",
    "        embedding_path = pathlib.Path(pathlib.Path().absolute(), 'data', 'embedding_models', f'{embedding_name}.gz')\n",
    "        if embedding_path.is_file():\n",
    "            print(f\"Loading from gZip: {embedding_path}\")\n",
    "            with gzip.open(embedding_path, mode='rt') as f:\n",
    "                return parse_file(f)\n",
    "        \n",
    "        embedding_path = pathlib.Path(pathlib.Path().absolute(), 'data', 'embedding_models', f'{embedding_name}.txt')\n",
    "        if embedding_path.is_file():\n",
    "            print(f\"Loading from TXT: {embedding_path}\")\n",
    "            with open(embedding_path) as f:\n",
    "                return parse_file(f)\n",
    "        else:\n",
    "            raise FileNotFoundError(f\"No such model found (it must be {embedding_name}.txt or {embedding_name}.gz)\")\n",
    "            \n",
    "    except Exception as e:\n",
    "        print(f\"The provided embedding model couldn't be loaded correctly: {e}\")"
   ]
  },
  {
   "cell_type": "code",
   "execution_count": null,
   "id": "db65fb8c-7b51-43d2-a6bd-5602d23855b1",
   "metadata": {},
   "outputs": [],
   "source": []
  },
  {
   "cell_type": "code",
   "execution_count": 95,
   "id": "f61e6273-6e0f-4921-9308-b66f9d83891d",
   "metadata": {},
   "outputs": [
    {
     "name": "stdout",
     "output_type": "stream",
     "text": [
      "Loading from /home/valkea/Dev/OpenClassrooms/Projets_AI/P7/data/embedding_models/glove-twitter-25.gz\n"
     ]
    }
   ],
   "source": [
    "em_model = load_genim_embedding(\"glove-twitter-25\")"
   ]
  },
  {
   "cell_type": "code",
   "execution_count": 96,
   "id": "4cc1e605-ae5d-431d-9e7d-4622777f45fe",
   "metadata": {},
   "outputs": [
    {
     "data": {
      "text/plain": [
       "[('cherry', 0.9183273911476135)]"
      ]
     },
     "execution_count": 96,
     "metadata": {},
     "output_type": "execute_result"
    }
   ],
   "source": [
    "em_model.most_similar(positive=['fruit', 'flower'], topn=1)"
   ]
  },
  {
   "cell_type": "code",
   "execution_count": null,
   "id": "19203fb9-8547-4e53-be67-9309272335b0",
   "metadata": {},
   "outputs": [],
   "source": [
    "em_model.get_vector('like') # Vector OK"
   ]
  },
  {
   "cell_type": "code",
   "execution_count": null,
   "id": "3e2d747a-f944-43de-b646-ddb5b8889aff",
   "metadata": {},
   "outputs": [],
   "source": [
    "em_model.get_vector('likexxx') # Error OK"
   ]
  },
  {
   "cell_type": "code",
   "execution_count": null,
   "id": "6c482989-b454-4eed-a5f4-b4f0e075446b",
   "metadata": {},
   "outputs": [],
   "source": []
  },
  {
   "cell_type": "code",
   "execution_count": 97,
   "id": "47053855-8102-4003-8185-f372a2d5bec6",
   "metadata": {},
   "outputs": [
    {
     "name": "stdout",
     "output_type": "stream",
     "text": [
      "Loading from /home/valkea/Dev/OpenClassrooms/Projets_AI/P7/data/embedding_models/glove-twitter-100.gz\n"
     ]
    }
   ],
   "source": [
    "em_model_100 = load_genim_embedding(\"glove-twitter-100\")"
   ]
  },
  {
   "cell_type": "code",
   "execution_count": 98,
   "id": "01366487-f849-4228-b43f-9da517b1870b",
   "metadata": {},
   "outputs": [
    {
     "data": {
      "text/plain": [
       "[('peach', 0.766598641872406)]"
      ]
     },
     "execution_count": 98,
     "metadata": {},
     "output_type": "execute_result"
    }
   ],
   "source": [
    "em_model_100.most_similar(positive=['fruit', 'flower'], topn=1)"
   ]
  },
  {
   "cell_type": "code",
   "execution_count": null,
   "id": "91de0217-0389-49f4-922b-a471473ed1e4",
   "metadata": {},
   "outputs": [],
   "source": [
    "em_model_100.get_vector('like') # Vector OK"
   ]
  },
  {
   "cell_type": "code",
   "execution_count": null,
   "id": "665a04eb-9397-4eee-a6bc-678bb4e224d2",
   "metadata": {},
   "outputs": [],
   "source": [
    "em_model_100.get_vector('likexxx') # Error OK"
   ]
  },
  {
   "cell_type": "code",
   "execution_count": null,
   "id": "d16c87ed-0e05-4989-8d88-6579cb28b022",
   "metadata": {},
   "outputs": [],
   "source": []
  },
  {
   "cell_type": "code",
   "execution_count": 100,
   "id": "a587eff6-7611-4296-91a7-c6504a1ce20a",
   "metadata": {},
   "outputs": [
    {
     "name": "stdout",
     "output_type": "stream",
     "text": [
      "Loading from /home/valkea/Dev/OpenClassrooms/Projets_AI/P7/data/embedding_models/fasttext-wiki-news-subwords-300.gz\n"
     ]
    }
   ],
   "source": [
    "em_model_ft = load_genim_embedding(\"fasttext-wiki-news-subwords-300\")"
   ]
  },
  {
   "cell_type": "code",
   "execution_count": 102,
   "id": "c7adaaf0-55ca-46e5-8b5d-571b4afcc43d",
   "metadata": {},
   "outputs": [
    {
     "data": {
      "text/plain": [
       "[('flowers', 0.7749223113059998)]"
      ]
     },
     "execution_count": 102,
     "metadata": {},
     "output_type": "execute_result"
    }
   ],
   "source": [
    "em_model_ft.most_similar(positive=['fruit', 'flower'], topn=1)"
   ]
  },
  {
   "cell_type": "code",
   "execution_count": null,
   "id": "9f67adcf-08c0-4dde-988f-f1e080e534e6",
   "metadata": {},
   "outputs": [],
   "source": [
    "em_model_ft.get_vector('like') # Vector OK"
   ]
  },
  {
   "cell_type": "code",
   "execution_count": null,
   "id": "8940a730-bad0-46cd-b9d1-765f3ec64055",
   "metadata": {},
   "outputs": [],
   "source": [
    "em_model_ft.get_vector('likexxx') # Error OK"
   ]
  },
  {
   "cell_type": "code",
   "execution_count": null,
   "id": "19d8ab73-550d-4fa8-852b-9052df27c234",
   "metadata": {},
   "outputs": [],
   "source": []
  },
  {
   "cell_type": "code",
   "execution_count": 49,
   "id": "5142f984-6212-408e-b2b6-1f1fc08a04e4",
   "metadata": {},
   "outputs": [
    {
     "name": "stdout",
     "output_type": "stream",
     "text": [
      "Loading from /home/valkea/Dev/OpenClassrooms/Projets_AI/P7/data/embedding_models/word2vec-google-news-300.gz\n"
     ]
    }
   ],
   "source": [
    "em_model_w2v = load_genim_embedding(\"word2vec-google-news-300\", binary=True)"
   ]
  },
  {
   "cell_type": "code",
   "execution_count": 50,
   "id": "eefab935-ed7f-4358-9783-32e816f91d1e",
   "metadata": {},
   "outputs": [
    {
     "data": {
      "text/plain": [
       "[('flowers', 0.6933968663215637)]"
      ]
     },
     "execution_count": 50,
     "metadata": {},
     "output_type": "execute_result"
    }
   ],
   "source": [
    "em_model_w2v.most_similar(positive=['fruit', 'flower'], topn=1)"
   ]
  },
  {
   "cell_type": "code",
   "execution_count": null,
   "id": "ad0c0e54-240c-47c1-b13e-211389362caf",
   "metadata": {},
   "outputs": [],
   "source": [
    "em_model_w2v.get_vector('like') # Vector OK"
   ]
  },
  {
   "cell_type": "code",
   "execution_count": null,
   "id": "6f4d239c-57ea-4618-bdc2-d6968c87309c",
   "metadata": {},
   "outputs": [],
   "source": [
    "em_model_w2v.get_vector('likexxx') # Error OK"
   ]
  },
  {
   "cell_type": "code",
   "execution_count": null,
   "id": "f387e2c6-0483-44e8-912e-7a87e8e9e3f3",
   "metadata": {},
   "outputs": [],
   "source": []
  },
  {
   "cell_type": "code",
   "execution_count": 69,
   "id": "1d9d9d57-03de-4a70-8cac-aacf24a43d0e",
   "metadata": {},
   "outputs": [
    {
     "name": "stdout",
     "output_type": "stream",
     "text": [
      "Loading from gZip: /home/valkea/Dev/OpenClassrooms/Projets_AI/P7/data/embedding_models/glove.6B.100d.gz\n"
     ]
    }
   ],
   "source": [
    "em_model_gv100 = load_trained_glove(\"glove.6B.100d\")"
   ]
  },
  {
   "cell_type": "code",
   "execution_count": null,
   "id": "f67123a2-02c7-4562-b9f0-d585191c7bb7",
   "metadata": {},
   "outputs": [],
   "source": [
    "em_model_gv100.get('like') # Vector OK"
   ]
  },
  {
   "cell_type": "code",
   "execution_count": 139,
   "id": "c77cd74c-57ea-4695-aec0-b1a953f471a4",
   "metadata": {},
   "outputs": [],
   "source": [
    "em_model_gv100.get('likexxx') # No Error No return"
   ]
  },
  {
   "cell_type": "code",
   "execution_count": null,
   "id": "afa8e52b-3856-4c9e-b20d-9e77e97591e1",
   "metadata": {},
   "outputs": [],
   "source": []
  },
  {
   "cell_type": "code",
   "execution_count": null,
   "id": "1935db7b-2e56-4813-a68a-04aa01e25955",
   "metadata": {},
   "outputs": [],
   "source": []
  },
  {
   "cell_type": "code",
   "execution_count": null,
   "id": "e815dc91-fbaa-46ec-970b-70e130445ce8",
   "metadata": {},
   "outputs": [],
   "source": []
  },
  {
   "cell_type": "code",
   "execution_count": null,
   "id": "a22f00f2-0ddc-4829-8f01-125f25dae2a3",
   "metadata": {},
   "outputs": [],
   "source": []
  }
 ],
 "metadata": {
  "kernelspec": {
   "display_name": "venvP7",
   "language": "python",
   "name": "venvp7"
  },
  "language_info": {
   "codemirror_mode": {
    "name": "ipython",
    "version": 3
   },
   "file_extension": ".py",
   "mimetype": "text/x-python",
   "name": "python",
   "nbconvert_exporter": "python",
   "pygments_lexer": "ipython3",
   "version": "3.8.10"
  }
 },
 "nbformat": 4,
 "nbformat_minor": 5
}
