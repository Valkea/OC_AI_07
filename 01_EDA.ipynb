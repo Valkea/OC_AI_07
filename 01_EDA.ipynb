{
 "cells": [
  {
   "cell_type": "code",
   "execution_count": 1,
   "id": "ac4fd636-80c2-41aa-8c3e-a9550d74bc16",
   "metadata": {
    "tags": []
   },
   "outputs": [],
   "source": [
    "from zipfile import ZipFile\n",
    "import pathlib\n",
    "from datetime import datetime\n",
    "from dateutil import parser\n",
    "\n",
    "import matplotlib.pyplot as plt\n",
    "import pandas as pd\n",
    "import seaborn as sns"
   ]
  },
  {
   "cell_type": "markdown",
   "id": "6f1d0e8e-9174-4f29-975a-0d943e873bfb",
   "metadata": {},
   "source": [
    "The `sentiment140` dataset contains 1,600,000 tweets extracted using the twitter api.\n",
    "\n",
    "The tweets have been annotated *(0 = negative, 4 = positive)* and they can be used to detect sentiment.\n",
    "\n",
    "It contains the following 6 fields:\n",
    "- `target`: the polarity of the tweet (0 = negative, 2 = neutral, 4 = positive)\n",
    "- `ids`: The id of the tweet ( 2087)\n",
    "- `date`: the date of the tweet (Sat May 16 23:58:44 UTC 2009)\n",
    "- `flag`: The query (lyx). If there is no query, then this value is NO_QUERY.\n",
    "- `user`: the user that tweeted (robotickilldozr)\n",
    "- `text`: the text of the tweet (Lyx is cool)"
   ]
  },
  {
   "cell_type": "code",
   "execution_count": 2,
   "id": "60e4ab37-7dde-425e-8a8b-a44a62d5afa1",
   "metadata": {
    "tags": []
   },
   "outputs": [],
   "source": [
    "source = pathlib.Path(pathlib.Path().absolute(), 'data', 'sentiment140.zip')"
   ]
  },
  {
   "cell_type": "raw",
   "id": "fdf5a743-81a7-48e1-b9ac-c51dc97262ec",
   "metadata": {
    "execution": {
     "iopub.execute_input": "2022-07-17T16:50:43.277553Z",
     "iopub.status.busy": "2022-07-17T16:50:43.277190Z",
     "iopub.status.idle": "2022-07-17T16:50:43.281267Z",
     "shell.execute_reply": "2022-07-17T16:50:43.280581Z",
     "shell.execute_reply.started": "2022-07-17T16:50:43.277531Z"
    }
   },
   "source": [
    "# Method 1\n",
    "zip_file = ZipFile(source)\n",
    "df = pd.read_csv(zip_file.open('training.1600000.processed.noemoticon.csv'), encoding='cp1252')"
   ]
  },
  {
   "cell_type": "code",
   "execution_count": 3,
   "id": "95834e1d-5274-4f11-88cc-67b53a9c6e70",
   "metadata": {
    "tags": []
   },
   "outputs": [],
   "source": [
    "# Method 2\n",
    "df = pd.read_csv(\n",
    "    source, \n",
    "    compression='zip', \n",
    "    encoding='cp1252', \n",
    "    header=None, \n",
    "    names=['target', 'ids', 'date', 'flag', 'user', 'text'],\n",
    "    #parse_dates=['date'],\n",
    "    #infer_datetime_format=True,\n",
    "    #date_parser=parse_tweet_dates,\n",
    ")"
   ]
  },
  {
   "cell_type": "code",
   "execution_count": 4,
   "id": "357448d5-e9ce-4f0a-9c43-ee1f40258876",
   "metadata": {
    "tags": []
   },
   "outputs": [
    {
     "data": {
      "text/html": [
       "<div>\n",
       "<style scoped>\n",
       "    .dataframe tbody tr th:only-of-type {\n",
       "        vertical-align: middle;\n",
       "    }\n",
       "\n",
       "    .dataframe tbody tr th {\n",
       "        vertical-align: top;\n",
       "    }\n",
       "\n",
       "    .dataframe thead th {\n",
       "        text-align: right;\n",
       "    }\n",
       "</style>\n",
       "<table border=\"1\" class=\"dataframe\">\n",
       "  <thead>\n",
       "    <tr style=\"text-align: right;\">\n",
       "      <th></th>\n",
       "      <th>target</th>\n",
       "      <th>ids</th>\n",
       "      <th>date</th>\n",
       "      <th>flag</th>\n",
       "      <th>user</th>\n",
       "      <th>text</th>\n",
       "    </tr>\n",
       "  </thead>\n",
       "  <tbody>\n",
       "    <tr>\n",
       "      <th>0</th>\n",
       "      <td>0</td>\n",
       "      <td>1467810369</td>\n",
       "      <td>Mon Apr 06 22:19:45 PDT 2009</td>\n",
       "      <td>NO_QUERY</td>\n",
       "      <td>_TheSpecialOne_</td>\n",
       "      <td>@switchfoot http://twitpic.com/2y1zl - Awww, t...</td>\n",
       "    </tr>\n",
       "    <tr>\n",
       "      <th>1</th>\n",
       "      <td>0</td>\n",
       "      <td>1467810672</td>\n",
       "      <td>Mon Apr 06 22:19:49 PDT 2009</td>\n",
       "      <td>NO_QUERY</td>\n",
       "      <td>scotthamilton</td>\n",
       "      <td>is upset that he can't update his Facebook by ...</td>\n",
       "    </tr>\n",
       "  </tbody>\n",
       "</table>\n",
       "</div>"
      ],
      "text/plain": [
       "   target         ids                          date      flag  \\\n",
       "0       0  1467810369  Mon Apr 06 22:19:45 PDT 2009  NO_QUERY   \n",
       "1       0  1467810672  Mon Apr 06 22:19:49 PDT 2009  NO_QUERY   \n",
       "\n",
       "              user                                               text  \n",
       "0  _TheSpecialOne_  @switchfoot http://twitpic.com/2y1zl - Awww, t...  \n",
       "1    scotthamilton  is upset that he can't update his Facebook by ...  "
      ]
     },
     "metadata": {},
     "output_type": "display_data"
    },
    {
     "data": {
      "text/plain": [
       "(1600000, 6)"
      ]
     },
     "metadata": {},
     "output_type": "display_data"
    }
   ],
   "source": [
    "display(df.head(2), df.shape)"
   ]
  },
  {
   "cell_type": "markdown",
   "id": "a1a47f2e-dd32-442c-88e1-0d19f6ea3fbf",
   "metadata": {},
   "source": [
    "#### Regardons les types des colonnes et ajustons si nécessaire"
   ]
  },
  {
   "cell_type": "code",
   "execution_count": 5,
   "id": "be852ac6-716b-45ad-a162-61cdf9212aea",
   "metadata": {},
   "outputs": [
    {
     "name": "stdout",
     "output_type": "stream",
     "text": [
      "<class 'pandas.core.frame.DataFrame'>\n",
      "RangeIndex: 1600000 entries, 0 to 1599999\n",
      "Data columns (total 6 columns):\n",
      " #   Column  Non-Null Count    Dtype \n",
      "---  ------  --------------    ----- \n",
      " 0   target  1600000 non-null  int64 \n",
      " 1   ids     1600000 non-null  int64 \n",
      " 2   date    1600000 non-null  object\n",
      " 3   flag    1600000 non-null  object\n",
      " 4   user    1600000 non-null  object\n",
      " 5   text    1600000 non-null  object\n",
      "dtypes: int64(2), object(4)\n",
      "memory usage: 73.2+ MB\n"
     ]
    }
   ],
   "source": [
    "df.info(verbose=True)"
   ]
  },
  {
   "cell_type": "code",
   "execution_count": 6,
   "id": "f1a691e1-276d-493a-a009-40d951266d75",
   "metadata": {
    "tags": []
   },
   "outputs": [],
   "source": [
    "df = df.astype({\n",
    "    \"target\": 'category', \n",
    "    \"ids\": 'category',\n",
    "    #\"date\": 'datetime64',\n",
    "    \"flag\": 'category',\n",
    "    \"user\": 'category',\n",
    "    #\"text\": 'object',\n",
    "})"
   ]
  },
  {
   "cell_type": "code",
   "execution_count": 7,
   "id": "9dd153f7-c72d-4ba5-8c42-553b3883cb82",
   "metadata": {
    "tags": []
   },
   "outputs": [
    {
     "data": {
      "text/plain": [
       "target    category\n",
       "ids       category\n",
       "date        object\n",
       "flag      category\n",
       "user      category\n",
       "text        object\n",
       "dtype: object"
      ]
     },
     "execution_count": 7,
     "metadata": {},
     "output_type": "execute_result"
    }
   ],
   "source": [
    "df.dtypes"
   ]
  },
  {
   "cell_type": "code",
   "execution_count": 8,
   "id": "0e25972e-ff60-43b2-8c65-8ab90fa44728",
   "metadata": {
    "tags": []
   },
   "outputs": [
    {
     "data": {
      "text/html": [
       "<div>\n",
       "<style scoped>\n",
       "    .dataframe tbody tr th:only-of-type {\n",
       "        vertical-align: middle;\n",
       "    }\n",
       "\n",
       "    .dataframe tbody tr th {\n",
       "        vertical-align: top;\n",
       "    }\n",
       "\n",
       "    .dataframe thead th {\n",
       "        text-align: right;\n",
       "    }\n",
       "</style>\n",
       "<table border=\"1\" class=\"dataframe\">\n",
       "  <thead>\n",
       "    <tr style=\"text-align: right;\">\n",
       "      <th></th>\n",
       "      <th>target</th>\n",
       "      <th>ids</th>\n",
       "      <th>date</th>\n",
       "      <th>flag</th>\n",
       "      <th>user</th>\n",
       "      <th>text</th>\n",
       "    </tr>\n",
       "  </thead>\n",
       "  <tbody>\n",
       "    <tr>\n",
       "      <th>0</th>\n",
       "      <td>0</td>\n",
       "      <td>1467810369</td>\n",
       "      <td>Mon Apr 06 22:19:45 PDT 2009</td>\n",
       "      <td>NO_QUERY</td>\n",
       "      <td>_TheSpecialOne_</td>\n",
       "      <td>@switchfoot http://twitpic.com/2y1zl - Awww, t...</td>\n",
       "    </tr>\n",
       "    <tr>\n",
       "      <th>1</th>\n",
       "      <td>0</td>\n",
       "      <td>1467810672</td>\n",
       "      <td>Mon Apr 06 22:19:49 PDT 2009</td>\n",
       "      <td>NO_QUERY</td>\n",
       "      <td>scotthamilton</td>\n",
       "      <td>is upset that he can't update his Facebook by ...</td>\n",
       "    </tr>\n",
       "  </tbody>\n",
       "</table>\n",
       "</div>"
      ],
      "text/plain": [
       "  target         ids                          date      flag             user  \\\n",
       "0      0  1467810369  Mon Apr 06 22:19:45 PDT 2009  NO_QUERY  _TheSpecialOne_   \n",
       "1      0  1467810672  Mon Apr 06 22:19:49 PDT 2009  NO_QUERY    scotthamilton   \n",
       "\n",
       "                                                text  \n",
       "0  @switchfoot http://twitpic.com/2y1zl - Awww, t...  \n",
       "1  is upset that he can't update his Facebook by ...  "
      ]
     },
     "execution_count": 8,
     "metadata": {},
     "output_type": "execute_result"
    }
   ],
   "source": [
    "df.head(2)"
   ]
  },
  {
   "cell_type": "markdown",
   "id": "a6bee29f-1f83-4049-88da-db782c007628",
   "metadata": {},
   "source": [
    "### Analysons la colonne `target`\n",
    "#### Regardons sa distribution"
   ]
  },
  {
   "cell_type": "code",
   "execution_count": 9,
   "id": "990179f5-047b-4748-9412-87ac485e15ed",
   "metadata": {
    "tags": []
   },
   "outputs": [
    {
     "data": {
      "text/plain": [
       "0    800000\n",
       "4    800000\n",
       "Name: target, dtype: int64"
      ]
     },
     "execution_count": 9,
     "metadata": {},
     "output_type": "execute_result"
    }
   ],
   "source": [
    "df.target.value_counts()"
   ]
  },
  {
   "cell_type": "markdown",
   "id": "241c5e13-3ce6-4da3-ae4c-19bc831dec42",
   "metadata": {},
   "source": [
    ">#### On constate donc que les targets sont équitablement distribuées entre 0 *(negative)* et 4 *(positive)*, mais qu'il n'y a pas de 2 *(neutral)*\n",
    "> il n'est donc pas nécessaire d'effectuer un ré-équilibrage, mais nous pourrions changer la colonne en bool ou rendre les labels plus clairs."
   ]
  },
  {
   "cell_type": "code",
   "execution_count": 10,
   "id": "d3d46a8c-2def-471e-8834-92b9b4efb058",
   "metadata": {},
   "outputs": [],
   "source": [
    "remap = {0: \"negative\", 4: \"positive\"}\n",
    "df.replace({\"target\": remap}, inplace=True)"
   ]
  },
  {
   "cell_type": "code",
   "execution_count": 11,
   "id": "0fa91ebc-ba04-483d-bcea-7107017fbff5",
   "metadata": {
    "tags": []
   },
   "outputs": [
    {
     "data": {
      "image/png": "[encoded data removed]",
      "text/plain": [
       "<Figure size 1080x504 with 1 Axes>"
      ]
     },
     "metadata": {
      "needs_background": "light"
     },
     "output_type": "display_data"
    }
   ],
   "source": [
    "fig = plt.figure(figsize=(15, 7))\n",
    "sns.barplot(data=df.target.value_counts().reset_index().rename(columns={'target':'count', 'index':'target'}), x='target', y='count')\n",
    "plt.title(\"Distribution de la polarité des tweets du dataset\")\n",
    "plt.show()"
   ]
  },
  {
   "cell_type": "markdown",
   "id": "ba269fbe-7817-4a94-b4ff-ef8b23f7c538",
   "metadata": {},
   "source": [
    "### Analysons la colonne `ids`"
   ]
  },
  {
   "cell_type": "code",
   "execution_count": 12,
   "id": "f0a6052c-046c-4772-af68-0eba46909a90",
   "metadata": {},
   "outputs": [
    {
     "data": {
      "text/plain": [
       "1685"
      ]
     },
     "execution_count": 12,
     "metadata": {},
     "output_type": "execute_result"
    }
   ],
   "source": [
    "df.ids.duplicated().sum()"
   ]
  },
  {
   "cell_type": "code",
   "execution_count": 13,
   "id": "59d65ae0-05b0-4fdd-87a1-e4a9b163c555",
   "metadata": {},
   "outputs": [
    {
     "data": {
      "text/html": [
       "<div>\n",
       "<style scoped>\n",
       "    .dataframe tbody tr th:only-of-type {\n",
       "        vertical-align: middle;\n",
       "    }\n",
       "\n",
       "    .dataframe tbody tr th {\n",
       "        vertical-align: top;\n",
       "    }\n",
       "\n",
       "    .dataframe thead th {\n",
       "        text-align: right;\n",
       "    }\n",
       "</style>\n",
       "<table border=\"1\" class=\"dataframe\">\n",
       "  <thead>\n",
       "    <tr style=\"text-align: right;\">\n",
       "      <th></th>\n",
       "      <th>target</th>\n",
       "      <th>ids</th>\n",
       "      <th>date</th>\n",
       "      <th>flag</th>\n",
       "      <th>user</th>\n",
       "      <th>text</th>\n",
       "    </tr>\n",
       "  </thead>\n",
       "  <tbody>\n",
       "    <tr>\n",
       "      <th>800261</th>\n",
       "      <td>positive</td>\n",
       "      <td>1467863684</td>\n",
       "      <td>Mon Apr 06 22:33:35 PDT 2009</td>\n",
       "      <td>NO_QUERY</td>\n",
       "      <td>DjGundam</td>\n",
       "      <td>Awwh babs... you look so sad underneith that s...</td>\n",
       "    </tr>\n",
       "    <tr>\n",
       "      <th>800300</th>\n",
       "      <td>positive</td>\n",
       "      <td>1467880442</td>\n",
       "      <td>Mon Apr 06 22:38:04 PDT 2009</td>\n",
       "      <td>NO_QUERY</td>\n",
       "      <td>iCalvin</td>\n",
       "      <td>Haven't tweeted nearly all day  Posted my webs...</td>\n",
       "    </tr>\n",
       "    <tr>\n",
       "      <th>801280</th>\n",
       "      <td>positive</td>\n",
       "      <td>1468053611</td>\n",
       "      <td>Mon Apr 06 23:28:09 PDT 2009</td>\n",
       "      <td>NO_QUERY</td>\n",
       "      <td>mariejamora</td>\n",
       "      <td>@hellobebe I also send some updates in plurk b...</td>\n",
       "    </tr>\n",
       "    <tr>\n",
       "      <th>801573</th>\n",
       "      <td>positive</td>\n",
       "      <td>1468100580</td>\n",
       "      <td>Mon Apr 06 23:42:57 PDT 2009</td>\n",
       "      <td>NO_QUERY</td>\n",
       "      <td>cristygarza</td>\n",
       "      <td>good night swetdreamss to everyonee   and jare...</td>\n",
       "    </tr>\n",
       "    <tr>\n",
       "      <th>801650</th>\n",
       "      <td>positive</td>\n",
       "      <td>1468115720</td>\n",
       "      <td>Mon Apr 06 23:48:00 PDT 2009</td>\n",
       "      <td>NO_QUERY</td>\n",
       "      <td>WarholGirl</td>\n",
       "      <td>@ientje89 aw i'm fine too thanks! yeah i miss ...</td>\n",
       "    </tr>\n",
       "    <tr>\n",
       "      <th>...</th>\n",
       "      <td>...</td>\n",
       "      <td>...</td>\n",
       "      <td>...</td>\n",
       "      <td>...</td>\n",
       "      <td>...</td>\n",
       "      <td>...</td>\n",
       "    </tr>\n",
       "    <tr>\n",
       "      <th>1598780</th>\n",
       "      <td>positive</td>\n",
       "      <td>2193278017</td>\n",
       "      <td>Tue Jun 16 08:14:22 PDT 2009</td>\n",
       "      <td>NO_QUERY</td>\n",
       "      <td>janiecwales</td>\n",
       "      <td>oh dear HH is back   please twitter do somethi...</td>\n",
       "    </tr>\n",
       "    <tr>\n",
       "      <th>1599298</th>\n",
       "      <td>positive</td>\n",
       "      <td>2193403830</td>\n",
       "      <td>Tue Jun 16 08:24:44 PDT 2009</td>\n",
       "      <td>NO_QUERY</td>\n",
       "      <td>lauren__x33</td>\n",
       "      <td>english exam went okay        revising for fre...</td>\n",
       "    </tr>\n",
       "    <tr>\n",
       "      <th>1599385</th>\n",
       "      <td>positive</td>\n",
       "      <td>2193428118</td>\n",
       "      <td>Tue Jun 16 08:26:44 PDT 2009</td>\n",
       "      <td>NO_QUERY</td>\n",
       "      <td>bubbles00</td>\n",
       "      <td>finally finished typing!!!! Woohoooo  , still ...</td>\n",
       "    </tr>\n",
       "    <tr>\n",
       "      <th>1599440</th>\n",
       "      <td>positive</td>\n",
       "      <td>2193451289</td>\n",
       "      <td>Tue Jun 16 08:28:37 PDT 2009</td>\n",
       "      <td>NO_QUERY</td>\n",
       "      <td>faiznurdavid</td>\n",
       "      <td>@fanafatin see, @misschimichanga tweet u to jo...</td>\n",
       "    </tr>\n",
       "    <tr>\n",
       "      <th>1599931</th>\n",
       "      <td>positive</td>\n",
       "      <td>2193576442</td>\n",
       "      <td>Tue Jun 16 08:38:45 PDT 2009</td>\n",
       "      <td>NO_QUERY</td>\n",
       "      <td>emma_b_xox</td>\n",
       "      <td>Had an injection today. Not fun  the rrst of t...</td>\n",
       "    </tr>\n",
       "  </tbody>\n",
       "</table>\n",
       "<p>1685 rows × 6 columns</p>\n",
       "</div>"
      ],
      "text/plain": [
       "           target         ids                          date      flag  \\\n",
       "800261   positive  1467863684  Mon Apr 06 22:33:35 PDT 2009  NO_QUERY   \n",
       "800300   positive  1467880442  Mon Apr 06 22:38:04 PDT 2009  NO_QUERY   \n",
       "801280   positive  1468053611  Mon Apr 06 23:28:09 PDT 2009  NO_QUERY   \n",
       "801573   positive  1468100580  Mon Apr 06 23:42:57 PDT 2009  NO_QUERY   \n",
       "801650   positive  1468115720  Mon Apr 06 23:48:00 PDT 2009  NO_QUERY   \n",
       "...           ...         ...                           ...       ...   \n",
       "1598780  positive  2193278017  Tue Jun 16 08:14:22 PDT 2009  NO_QUERY   \n",
       "1599298  positive  2193403830  Tue Jun 16 08:24:44 PDT 2009  NO_QUERY   \n",
       "1599385  positive  2193428118  Tue Jun 16 08:26:44 PDT 2009  NO_QUERY   \n",
       "1599440  positive  2193451289  Tue Jun 16 08:28:37 PDT 2009  NO_QUERY   \n",
       "1599931  positive  2193576442  Tue Jun 16 08:38:45 PDT 2009  NO_QUERY   \n",
       "\n",
       "                 user                                               text  \n",
       "800261       DjGundam  Awwh babs... you look so sad underneith that s...  \n",
       "800300        iCalvin  Haven't tweeted nearly all day  Posted my webs...  \n",
       "801280    mariejamora  @hellobebe I also send some updates in plurk b...  \n",
       "801573    cristygarza  good night swetdreamss to everyonee   and jare...  \n",
       "801650     WarholGirl  @ientje89 aw i'm fine too thanks! yeah i miss ...  \n",
       "...               ...                                                ...  \n",
       "1598780   janiecwales  oh dear HH is back   please twitter do somethi...  \n",
       "1599298   lauren__x33  english exam went okay        revising for fre...  \n",
       "1599385     bubbles00  finally finished typing!!!! Woohoooo  , still ...  \n",
       "1599440  faiznurdavid  @fanafatin see, @misschimichanga tweet u to jo...  \n",
       "1599931    emma_b_xox  Had an injection today. Not fun  the rrst of t...  \n",
       "\n",
       "[1685 rows x 6 columns]"
      ]
     },
     "execution_count": 13,
     "metadata": {},
     "output_type": "execute_result"
    }
   ],
   "source": [
    "subset = ['ids']\n",
    "df[df.duplicated(keep='first', subset=subset)]"
   ]
  },
  {
   "cell_type": "code",
   "execution_count": 14,
   "id": "83014127-42da-4907-8e5b-23e496be757e",
   "metadata": {},
   "outputs": [
    {
     "data": {
      "text/html": [
       "<div>\n",
       "<style scoped>\n",
       "    .dataframe tbody tr th:only-of-type {\n",
       "        vertical-align: middle;\n",
       "    }\n",
       "\n",
       "    .dataframe tbody tr th {\n",
       "        vertical-align: top;\n",
       "    }\n",
       "\n",
       "    .dataframe thead th {\n",
       "        text-align: right;\n",
       "    }\n",
       "</style>\n",
       "<table border=\"1\" class=\"dataframe\">\n",
       "  <thead>\n",
       "    <tr style=\"text-align: right;\">\n",
       "      <th></th>\n",
       "      <th>target</th>\n",
       "      <th>ids</th>\n",
       "      <th>date</th>\n",
       "      <th>flag</th>\n",
       "      <th>user</th>\n",
       "      <th>text</th>\n",
       "    </tr>\n",
       "  </thead>\n",
       "  <tbody>\n",
       "    <tr>\n",
       "      <th>213</th>\n",
       "      <td>negative</td>\n",
       "      <td>1467863684</td>\n",
       "      <td>Mon Apr 06 22:33:35 PDT 2009</td>\n",
       "      <td>NO_QUERY</td>\n",
       "      <td>DjGundam</td>\n",
       "      <td>Awwh babs... you look so sad underneith that s...</td>\n",
       "    </tr>\n",
       "    <tr>\n",
       "      <th>275</th>\n",
       "      <td>negative</td>\n",
       "      <td>1467880442</td>\n",
       "      <td>Mon Apr 06 22:38:04 PDT 2009</td>\n",
       "      <td>NO_QUERY</td>\n",
       "      <td>iCalvin</td>\n",
       "      <td>Haven't tweeted nearly all day  Posted my webs...</td>\n",
       "    </tr>\n",
       "    <tr>\n",
       "      <th>989</th>\n",
       "      <td>negative</td>\n",
       "      <td>1468053611</td>\n",
       "      <td>Mon Apr 06 23:28:09 PDT 2009</td>\n",
       "      <td>NO_QUERY</td>\n",
       "      <td>mariejamora</td>\n",
       "      <td>@hellobebe I also send some updates in plurk b...</td>\n",
       "    </tr>\n",
       "    <tr>\n",
       "      <th>1177</th>\n",
       "      <td>negative</td>\n",
       "      <td>1468100580</td>\n",
       "      <td>Mon Apr 06 23:42:57 PDT 2009</td>\n",
       "      <td>NO_QUERY</td>\n",
       "      <td>cristygarza</td>\n",
       "      <td>good night swetdreamss to everyonee   and jare...</td>\n",
       "    </tr>\n",
       "    <tr>\n",
       "      <th>1254</th>\n",
       "      <td>negative</td>\n",
       "      <td>1468115720</td>\n",
       "      <td>Mon Apr 06 23:48:00 PDT 2009</td>\n",
       "      <td>NO_QUERY</td>\n",
       "      <td>WarholGirl</td>\n",
       "      <td>@ientje89 aw i'm fine too thanks! yeah i miss ...</td>\n",
       "    </tr>\n",
       "    <tr>\n",
       "      <th>...</th>\n",
       "      <td>...</td>\n",
       "      <td>...</td>\n",
       "      <td>...</td>\n",
       "      <td>...</td>\n",
       "      <td>...</td>\n",
       "      <td>...</td>\n",
       "    </tr>\n",
       "    <tr>\n",
       "      <th>523869</th>\n",
       "      <td>negative</td>\n",
       "      <td>2193278017</td>\n",
       "      <td>Tue Jun 16 08:14:22 PDT 2009</td>\n",
       "      <td>NO_QUERY</td>\n",
       "      <td>janiecwales</td>\n",
       "      <td>oh dear HH is back   please twitter do somethi...</td>\n",
       "    </tr>\n",
       "    <tr>\n",
       "      <th>524213</th>\n",
       "      <td>negative</td>\n",
       "      <td>2193403830</td>\n",
       "      <td>Tue Jun 16 08:24:44 PDT 2009</td>\n",
       "      <td>NO_QUERY</td>\n",
       "      <td>lauren__x33</td>\n",
       "      <td>english exam went okay        revising for fre...</td>\n",
       "    </tr>\n",
       "    <tr>\n",
       "      <th>524290</th>\n",
       "      <td>negative</td>\n",
       "      <td>2193428118</td>\n",
       "      <td>Tue Jun 16 08:26:44 PDT 2009</td>\n",
       "      <td>NO_QUERY</td>\n",
       "      <td>bubbles00</td>\n",
       "      <td>finally finished typing!!!! Woohoooo  , still ...</td>\n",
       "    </tr>\n",
       "    <tr>\n",
       "      <th>524345</th>\n",
       "      <td>negative</td>\n",
       "      <td>2193451289</td>\n",
       "      <td>Tue Jun 16 08:28:37 PDT 2009</td>\n",
       "      <td>NO_QUERY</td>\n",
       "      <td>faiznurdavid</td>\n",
       "      <td>@fanafatin see, @misschimichanga tweet u to jo...</td>\n",
       "    </tr>\n",
       "    <tr>\n",
       "      <th>524688</th>\n",
       "      <td>negative</td>\n",
       "      <td>2193576442</td>\n",
       "      <td>Tue Jun 16 08:38:45 PDT 2009</td>\n",
       "      <td>NO_QUERY</td>\n",
       "      <td>emma_b_xox</td>\n",
       "      <td>Had an injection today. Not fun  the rrst of t...</td>\n",
       "    </tr>\n",
       "  </tbody>\n",
       "</table>\n",
       "<p>1685 rows × 6 columns</p>\n",
       "</div>"
      ],
      "text/plain": [
       "          target         ids                          date      flag  \\\n",
       "213     negative  1467863684  Mon Apr 06 22:33:35 PDT 2009  NO_QUERY   \n",
       "275     negative  1467880442  Mon Apr 06 22:38:04 PDT 2009  NO_QUERY   \n",
       "989     negative  1468053611  Mon Apr 06 23:28:09 PDT 2009  NO_QUERY   \n",
       "1177    negative  1468100580  Mon Apr 06 23:42:57 PDT 2009  NO_QUERY   \n",
       "1254    negative  1468115720  Mon Apr 06 23:48:00 PDT 2009  NO_QUERY   \n",
       "...          ...         ...                           ...       ...   \n",
       "523869  negative  2193278017  Tue Jun 16 08:14:22 PDT 2009  NO_QUERY   \n",
       "524213  negative  2193403830  Tue Jun 16 08:24:44 PDT 2009  NO_QUERY   \n",
       "524290  negative  2193428118  Tue Jun 16 08:26:44 PDT 2009  NO_QUERY   \n",
       "524345  negative  2193451289  Tue Jun 16 08:28:37 PDT 2009  NO_QUERY   \n",
       "524688  negative  2193576442  Tue Jun 16 08:38:45 PDT 2009  NO_QUERY   \n",
       "\n",
       "                user                                               text  \n",
       "213         DjGundam  Awwh babs... you look so sad underneith that s...  \n",
       "275          iCalvin  Haven't tweeted nearly all day  Posted my webs...  \n",
       "989      mariejamora  @hellobebe I also send some updates in plurk b...  \n",
       "1177     cristygarza  good night swetdreamss to everyonee   and jare...  \n",
       "1254      WarholGirl  @ientje89 aw i'm fine too thanks! yeah i miss ...  \n",
       "...              ...                                                ...  \n",
       "523869   janiecwales  oh dear HH is back   please twitter do somethi...  \n",
       "524213   lauren__x33  english exam went okay        revising for fre...  \n",
       "524290     bubbles00  finally finished typing!!!! Woohoooo  , still ...  \n",
       "524345  faiznurdavid  @fanafatin see, @misschimichanga tweet u to jo...  \n",
       "524688    emma_b_xox  Had an injection today. Not fun  the rrst of t...  \n",
       "\n",
       "[1685 rows x 6 columns]"
      ]
     },
     "execution_count": 14,
     "metadata": {},
     "output_type": "execute_result"
    }
   ],
   "source": [
    "df[df.duplicated(keep='last', subset=subset)]"
   ]
  },
  {
   "cell_type": "markdown",
   "id": "3c654e12-8133-479b-973c-5966808782f4",
   "metadata": {},
   "source": [
    ">#### On constate que l'on a 1685 échantillons pour lesquels on a à la fois une target *positive* et une target *negative*...\n",
    "> comme on ne connait pas la véritable target des ces échantillons en double, il nous faut supprimer les 3370 *(2 x 1685)*"
   ]
  },
  {
   "cell_type": "code",
   "execution_count": 15,
   "id": "7d869c55-de0f-4bb3-ae00-4c154228dbeb",
   "metadata": {},
   "outputs": [],
   "source": [
    "df.drop_duplicates(keep=False, subset=subset, inplace=True)"
   ]
  },
  {
   "cell_type": "code",
   "execution_count": 16,
   "id": "18d7a7ee-0251-422d-a986-66e0b19971cc",
   "metadata": {},
   "outputs": [
    {
     "data": {
      "text/html": [
       "<div>\n",
       "<style scoped>\n",
       "    .dataframe tbody tr th:only-of-type {\n",
       "        vertical-align: middle;\n",
       "    }\n",
       "\n",
       "    .dataframe tbody tr th {\n",
       "        vertical-align: top;\n",
       "    }\n",
       "\n",
       "    .dataframe thead th {\n",
       "        text-align: right;\n",
       "    }\n",
       "</style>\n",
       "<table border=\"1\" class=\"dataframe\">\n",
       "  <thead>\n",
       "    <tr style=\"text-align: right;\">\n",
       "      <th></th>\n",
       "      <th>target</th>\n",
       "      <th>ids</th>\n",
       "      <th>date</th>\n",
       "      <th>flag</th>\n",
       "      <th>user</th>\n",
       "      <th>text</th>\n",
       "    </tr>\n",
       "  </thead>\n",
       "  <tbody>\n",
       "    <tr>\n",
       "      <th>0</th>\n",
       "      <td>negative</td>\n",
       "      <td>1467810369</td>\n",
       "      <td>Mon Apr 06 22:19:45 PDT 2009</td>\n",
       "      <td>NO_QUERY</td>\n",
       "      <td>_TheSpecialOne_</td>\n",
       "      <td>@switchfoot http://twitpic.com/2y1zl - Awww, t...</td>\n",
       "    </tr>\n",
       "    <tr>\n",
       "      <th>1</th>\n",
       "      <td>negative</td>\n",
       "      <td>1467810672</td>\n",
       "      <td>Mon Apr 06 22:19:49 PDT 2009</td>\n",
       "      <td>NO_QUERY</td>\n",
       "      <td>scotthamilton</td>\n",
       "      <td>is upset that he can't update his Facebook by ...</td>\n",
       "    </tr>\n",
       "  </tbody>\n",
       "</table>\n",
       "</div>"
      ],
      "text/plain": [
       "     target         ids                          date      flag  \\\n",
       "0  negative  1467810369  Mon Apr 06 22:19:45 PDT 2009  NO_QUERY   \n",
       "1  negative  1467810672  Mon Apr 06 22:19:49 PDT 2009  NO_QUERY   \n",
       "\n",
       "              user                                               text  \n",
       "0  _TheSpecialOne_  @switchfoot http://twitpic.com/2y1zl - Awww, t...  \n",
       "1    scotthamilton  is upset that he can't update his Facebook by ...  "
      ]
     },
     "metadata": {},
     "output_type": "display_data"
    },
    {
     "data": {
      "text/plain": [
       "(1596630, 6)"
      ]
     },
     "metadata": {},
     "output_type": "display_data"
    }
   ],
   "source": [
    "display(df.head(2), df.shape)"
   ]
  },
  {
   "cell_type": "code",
   "execution_count": 17,
   "id": "7a6cecdb-1c4a-4640-aabb-ada57975f81f",
   "metadata": {},
   "outputs": [
    {
     "data": {
      "text/plain": [
       "0"
      ]
     },
     "execution_count": 17,
     "metadata": {},
     "output_type": "execute_result"
    }
   ],
   "source": [
    "df.ids.duplicated().sum()"
   ]
  },
  {
   "cell_type": "code",
   "execution_count": 18,
   "id": "93bf8016-09a2-48cf-9559-9b710ac388c9",
   "metadata": {},
   "outputs": [
    {
     "data": {
      "text/plain": [
       "count        1596630\n",
       "unique       1596630\n",
       "top       1467810369\n",
       "freq               1\n",
       "Name: ids, dtype: int64"
      ]
     },
     "execution_count": 18,
     "metadata": {},
     "output_type": "execute_result"
    }
   ],
   "source": [
    "df.ids.describe()"
   ]
  },
  {
   "cell_type": "markdown",
   "id": "86941107-e66f-454e-a619-a222ded31fb1",
   "metadata": {},
   "source": [
    "### Analysons la colonne `date`"
   ]
  },
  {
   "cell_type": "code",
   "execution_count": 23,
   "id": "7c830754-04c4-4800-b29a-490c5b122ebe",
   "metadata": {},
   "outputs": [],
   "source": [
    "def parse_tweet_dates(date_time_str):\n",
    "    return parser.parse(date_time_str,  tzinfos={\"PDT\": -7*3600})"
   ]
  },
  {
   "cell_type": "code",
   "execution_count": null,
   "id": "8c76b713-5c21-414f-9bf7-ab74110f235b",
   "metadata": {},
   "outputs": [],
   "source": [
    "df['date'] = df.date.apply(parse_tweet_dates)"
   ]
  },
  {
   "cell_type": "raw",
   "id": "5178a141-9ad2-43a7-b3cb-907b0bf99196",
   "metadata": {},
   "source": [
    "df = data_df.astype({\n",
    "    \"date\": 'datetime64'\n",
    "})"
   ]
  },
  {
   "cell_type": "code",
   "execution_count": null,
   "id": "67d47bfa-8f8c-4b2d-861b-493a6a81f9b7",
   "metadata": {
    "tags": []
   },
   "outputs": [],
   "source": [
    "display(df.head(2), df.shape)"
   ]
  },
  {
   "cell_type": "markdown",
   "id": "9a0e0cf4-5fc7-4fec-9a28-529a795ca315",
   "metadata": {},
   "source": [
    "#### Regardons les limites de la periode de publication des tweets de notre dataset"
   ]
  },
  {
   "cell_type": "code",
   "execution_count": null,
   "id": "bb17c3e7-27c3-4fb8-a25c-2a45b439304d",
   "metadata": {},
   "outputs": [],
   "source": [
    "df.date.describe(datetime_is_numeric=True)"
   ]
  },
  {
   "cell_type": "markdown",
   "id": "7299ff8c-57c9-41ba-b7e8-0d2238d3cf54",
   "metadata": {},
   "source": [
    ">#### On a donc des tweets dont les dates s'étalent du 06/04/2009 au 25/06/2009\n",
    "> Il n'y a pas de raison que le lexique utilisé pour qualifier ce qui est *positif* ou *négatif* change en si peu de temps, donc on peut conserver l'ensemble de l'intervalle"
   ]
  },
  {
   "cell_type": "markdown",
   "id": "3060288d-c53c-4d01-918f-03afc03bc712",
   "metadata": {},
   "source": [
    "#### Regardons à présent la distribution des tweet dans le temps"
   ]
  },
  {
   "cell_type": "raw",
   "id": "fb4f32d7-d45e-4579-a528-e32f36b6a711",
   "metadata": {},
   "source": [
    "df.groupby(df.date.dt.month)['target'].sum()"
   ]
  },
  {
   "cell_type": "code",
   "execution_count": null,
   "id": "5d892062-f862-4151-b7e3-55a9dfd26942",
   "metadata": {},
   "outputs": [],
   "source": []
  },
  {
   "cell_type": "code",
   "execution_count": 8,
   "id": "1963a723-60bb-4605-9fcf-7e2901a08f57",
   "metadata": {},
   "outputs": [],
   "source": [
    "def plot_bars(data_, title, labels_modulo=1, labels_rotation=90, show_values=True, x_label=None, y_label=\"Nombre de commandes\"):\n",
    "\n",
    "    fig = plt.figure(figsize=(15, 4))\n",
    "    ax = sns.barplot(data=data_)\n",
    "    if show_values:\n",
    "        ax.bar_label(ax.containers[0])\n",
    "    new_ticks = [i.get_text() for i in ax.get_xticklabels()]\n",
    "    plt.xticks(range(0, len(new_ticks), labels_modulo), new_ticks[::labels_modulo], rotation=labels_rotation)\n",
    "    plt.ylabel(y_label)\n",
    "    plt.xlabel(x_label)\n",
    "    plt.title(title)\n",
    "    plt.show()"
   ]
  },
  {
   "cell_type": "code",
   "execution_count": null,
   "id": "ee785a0e-c993-4717-bd25-b9f6d5f78fab",
   "metadata": {},
   "outputs": [],
   "source": [
    "selection = data_orders[['order_id', 'order_purchase_timestamp']].copy()\n",
    "selection['short_date'] = selection.order_purchase_timestamp.apply(lambda x: x[:10])\n",
    "selection = pd.DataFrame(selection.groupby('short_date').size(), columns=['count']).T\n",
    "    \n",
    "plot_bars(selection, \"Répartition des commandes dans le temps (par jours)\", labels_modulo=30, show_values=False)"
   ]
  },
  {
   "cell_type": "markdown",
   "id": "86e71451-5295-4977-8521-f244e43fe2e8",
   "metadata": {},
   "source": [
    "### Analysons la colonne `flag`"
   ]
  },
  {
   "cell_type": "code",
   "execution_count": 19,
   "id": "0879ddbf-d44e-40b9-9d2d-42dfc668c8f7",
   "metadata": {},
   "outputs": [
    {
     "data": {
      "text/plain": [
       "NO_QUERY    1596630\n",
       "Name: flag, dtype: int64"
      ]
     },
     "execution_count": 19,
     "metadata": {},
     "output_type": "execute_result"
    }
   ],
   "source": [
    "df.flag.value_counts(dropna=False)"
   ]
  },
  {
   "cell_type": "markdown",
   "id": "59dd6348-5a41-4add-bea0-ef06d2902503",
   "metadata": {},
   "source": [
    ">#### Il n'y a qu'une seule valeur dans cette colonne\n",
    "> elle ne présente donc aucun intérêt et peut être retirée."
   ]
  },
  {
   "cell_type": "code",
   "execution_count": 21,
   "id": "15c6ea7d-2d84-4013-b148-ac3c4fe5df23",
   "metadata": {},
   "outputs": [],
   "source": [
    "df.drop(columns=['flag'], inplace=True)"
   ]
  },
  {
   "cell_type": "code",
   "execution_count": 22,
   "id": "d23d6c98-a799-41c0-9b2d-513184a3b1bc",
   "metadata": {},
   "outputs": [
    {
     "data": {
      "text/html": [
       "<div>\n",
       "<style scoped>\n",
       "    .dataframe tbody tr th:only-of-type {\n",
       "        vertical-align: middle;\n",
       "    }\n",
       "\n",
       "    .dataframe tbody tr th {\n",
       "        vertical-align: top;\n",
       "    }\n",
       "\n",
       "    .dataframe thead th {\n",
       "        text-align: right;\n",
       "    }\n",
       "</style>\n",
       "<table border=\"1\" class=\"dataframe\">\n",
       "  <thead>\n",
       "    <tr style=\"text-align: right;\">\n",
       "      <th></th>\n",
       "      <th>target</th>\n",
       "      <th>ids</th>\n",
       "      <th>date</th>\n",
       "      <th>user</th>\n",
       "      <th>text</th>\n",
       "    </tr>\n",
       "  </thead>\n",
       "  <tbody>\n",
       "    <tr>\n",
       "      <th>0</th>\n",
       "      <td>negative</td>\n",
       "      <td>1467810369</td>\n",
       "      <td>Mon Apr 06 22:19:45 PDT 2009</td>\n",
       "      <td>_TheSpecialOne_</td>\n",
       "      <td>@switchfoot http://twitpic.com/2y1zl - Awww, t...</td>\n",
       "    </tr>\n",
       "    <tr>\n",
       "      <th>1</th>\n",
       "      <td>negative</td>\n",
       "      <td>1467810672</td>\n",
       "      <td>Mon Apr 06 22:19:49 PDT 2009</td>\n",
       "      <td>scotthamilton</td>\n",
       "      <td>is upset that he can't update his Facebook by ...</td>\n",
       "    </tr>\n",
       "  </tbody>\n",
       "</table>\n",
       "</div>"
      ],
      "text/plain": [
       "     target         ids                          date             user  \\\n",
       "0  negative  1467810369  Mon Apr 06 22:19:45 PDT 2009  _TheSpecialOne_   \n",
       "1  negative  1467810672  Mon Apr 06 22:19:49 PDT 2009    scotthamilton   \n",
       "\n",
       "                                                text  \n",
       "0  @switchfoot http://twitpic.com/2y1zl - Awww, t...  \n",
       "1  is upset that he can't update his Facebook by ...  "
      ]
     },
     "metadata": {},
     "output_type": "display_data"
    },
    {
     "data": {
      "text/plain": [
       "(1596630, 5)"
      ]
     },
     "metadata": {},
     "output_type": "display_data"
    }
   ],
   "source": [
    "display(df.head(2), df.shape)"
   ]
  },
  {
   "cell_type": "markdown",
   "id": "328a1192-dff2-4658-9e30-c8934327b37f",
   "metadata": {},
   "source": [
    "### Analysons la colonne `user`"
   ]
  },
  {
   "cell_type": "markdown",
   "id": "074dcf71-6898-4ae1-b03f-f66ae3ecba95",
   "metadata": {},
   "source": [
    "### Analysons la colonne `text`"
   ]
  },
  {
   "cell_type": "code",
   "execution_count": null,
   "id": "246f6407-6db4-4081-a0ad-f5d0e74d24be",
   "metadata": {},
   "outputs": [],
   "source": [
    "data_df[data_df.duplicated(keep=False, subset=['text'])].sort_values('text')"
   ]
  },
  {
   "cell_type": "code",
   "execution_count": null,
   "id": "329ce9b3-925c-45a7-b481-9f8fc1da7cc7",
   "metadata": {},
   "outputs": [],
   "source": []
  }
 ],
 "metadata": {
  "kernelspec": {
   "display_name": "venvP7",
   "language": "python",
   "name": "venvp7"
  },
  "language_info": {
   "codemirror_mode": {
    "name": "ipython",
    "version": 3
   },
   "file_extension": ".py",
   "mimetype": "text/x-python",
   "name": "python",
   "nbconvert_exporter": "python",
   "pygments_lexer": "ipython3",
   "version": "3.8.10"
  }
 },
 "nbformat": 4,
 "nbformat_minor": 5
}
