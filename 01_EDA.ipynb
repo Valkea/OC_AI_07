{
 "cells": [
  {
   "cell_type": "code",
   "execution_count": 1,
   "id": "ac4fd636-80c2-41aa-8c3e-a9550d74bc16",
   "metadata": {
    "tags": []
   },
   "outputs": [],
   "source": [
    "from zipfile import ZipFile\n",
    "import pathlib\n",
    "from datetime import datetime\n",
    "from dateutil import parser\n",
    "\n",
    "import matplotlib.pyplot as plt\n",
    "import pandas as pd\n",
    "import seaborn as sns"
   ]
  },
  {
   "cell_type": "markdown",
   "id": "6f1d0e8e-9174-4f29-975a-0d943e873bfb",
   "metadata": {},
   "source": [
    "The `sentiment140` dataset contains 1,600,000 tweets extracted using the twitter api.\n",
    "\n",
    "The tweets have been annotated *(0 = negative, 4 = positive)* and they can be used to detect sentiment.\n",
    "\n",
    "It contains the following 6 fields:\n",
    "- `target`: the polarity of the tweet (0 = negative, 2 = neutral, 4 = positive)\n",
    "- `ids`: The id of the tweet ( 2087)\n",
    "- `date`: the date of the tweet (Sat May 16 23:58:44 UTC 2009)\n",
    "- `flag`: The query (lyx). If there is no query, then this value is NO_QUERY.\n",
    "- `user`: the user that tweeted (robotickilldozr)\n",
    "- `text`: the text of the tweet (Lyx is cool)"
   ]
  },
  {
   "cell_type": "code",
   "execution_count": 2,
   "id": "60e4ab37-7dde-425e-8a8b-a44a62d5afa1",
   "metadata": {
    "tags": []
   },
   "outputs": [],
   "source": [
    "source = pathlib.Path(pathlib.Path().absolute(), 'data', 'sentiment140.zip')"
   ]
  },
  {
   "cell_type": "raw",
   "id": "fdf5a743-81a7-48e1-b9ac-c51dc97262ec",
   "metadata": {
    "execution": {
     "iopub.execute_input": "2022-07-17T16:50:43.277553Z",
     "iopub.status.busy": "2022-07-17T16:50:43.277190Z",
     "iopub.status.idle": "2022-07-17T16:50:43.281267Z",
     "shell.execute_reply": "2022-07-17T16:50:43.280581Z",
     "shell.execute_reply.started": "2022-07-17T16:50:43.277531Z"
    }
   },
   "source": [
    "# Method 1\n",
    "zip_file = ZipFile(source)\n",
    "df = pd.read_csv(zip_file.open('training.1600000.processed.noemoticon.csv'), encoding='cp1252')"
   ]
  },
  {
   "cell_type": "code",
   "execution_count": 3,
   "id": "95834e1d-5274-4f11-88cc-67b53a9c6e70",
   "metadata": {
    "tags": []
   },
   "outputs": [],
   "source": [
    "# Method 2\n",
    "df = pd.read_csv(\n",
    "    source, \n",
    "    compression='zip', \n",
    "    encoding='cp1252', \n",
    "    header=None, \n",
    "    names=['target', 'ids', 'date', 'flag', 'user', 'text'],\n",
    "    #parse_dates=['date'],\n",
    "    #infer_datetime_format=True,\n",
    "    #date_parser=parse_tweet_dates,\n",
    ")"
   ]
  },
  {
   "cell_type": "code",
   "execution_count": 4,
   "id": "357448d5-e9ce-4f0a-9c43-ee1f40258876",
   "metadata": {
    "tags": []
   },
   "outputs": [
    {
     "data": {
      "text/html": [
       "<div>\n",
       "<style scoped>\n",
       "    .dataframe tbody tr th:only-of-type {\n",
       "        vertical-align: middle;\n",
       "    }\n",
       "\n",
       "    .dataframe tbody tr th {\n",
       "        vertical-align: top;\n",
       "    }\n",
       "\n",
       "    .dataframe thead th {\n",
       "        text-align: right;\n",
       "    }\n",
       "</style>\n",
       "<table border=\"1\" class=\"dataframe\">\n",
       "  <thead>\n",
       "    <tr style=\"text-align: right;\">\n",
       "      <th></th>\n",
       "      <th>target</th>\n",
       "      <th>ids</th>\n",
       "      <th>date</th>\n",
       "      <th>flag</th>\n",
       "      <th>user</th>\n",
       "      <th>text</th>\n",
       "    </tr>\n",
       "  </thead>\n",
       "  <tbody>\n",
       "    <tr>\n",
       "      <th>0</th>\n",
       "      <td>0</td>\n",
       "      <td>1467810369</td>\n",
       "      <td>Mon Apr 06 22:19:45 PDT 2009</td>\n",
       "      <td>NO_QUERY</td>\n",
       "      <td>_TheSpecialOne_</td>\n",
       "      <td>@switchfoot http://twitpic.com/2y1zl - Awww, t...</td>\n",
       "    </tr>\n",
       "    <tr>\n",
       "      <th>1</th>\n",
       "      <td>0</td>\n",
       "      <td>1467810672</td>\n",
       "      <td>Mon Apr 06 22:19:49 PDT 2009</td>\n",
       "      <td>NO_QUERY</td>\n",
       "      <td>scotthamilton</td>\n",
       "      <td>is upset that he can't update his Facebook by ...</td>\n",
       "    </tr>\n",
       "  </tbody>\n",
       "</table>\n",
       "</div>"
      ],
      "text/plain": [
       "   target         ids                          date      flag  \\\n",
       "0       0  1467810369  Mon Apr 06 22:19:45 PDT 2009  NO_QUERY   \n",
       "1       0  1467810672  Mon Apr 06 22:19:49 PDT 2009  NO_QUERY   \n",
       "\n",
       "              user                                               text  \n",
       "0  _TheSpecialOne_  @switchfoot http://twitpic.com/2y1zl - Awww, t...  \n",
       "1    scotthamilton  is upset that he can't update his Facebook by ...  "
      ]
     },
     "metadata": {},
     "output_type": "display_data"
    },
    {
     "data": {
      "text/plain": [
       "(1600000, 6)"
      ]
     },
     "metadata": {},
     "output_type": "display_data"
    }
   ],
   "source": [
    "display(df.head(2), df.shape)"
   ]
  },
  {
   "cell_type": "markdown",
   "id": "a1a47f2e-dd32-442c-88e1-0d19f6ea3fbf",
   "metadata": {},
   "source": [
    "#### Regardons les types des colonnes et ajustons si nécessaire"
   ]
  },
  {
   "cell_type": "code",
   "execution_count": 5,
   "id": "be852ac6-716b-45ad-a162-61cdf9212aea",
   "metadata": {},
   "outputs": [
    {
     "name": "stdout",
     "output_type": "stream",
     "text": [
      "<class 'pandas.core.frame.DataFrame'>\n",
      "RangeIndex: 1600000 entries, 0 to 1599999\n",
      "Data columns (total 6 columns):\n",
      " #   Column  Non-Null Count    Dtype \n",
      "---  ------  --------------    ----- \n",
      " 0   target  1600000 non-null  int64 \n",
      " 1   ids     1600000 non-null  int64 \n",
      " 2   date    1600000 non-null  object\n",
      " 3   flag    1600000 non-null  object\n",
      " 4   user    1600000 non-null  object\n",
      " 5   text    1600000 non-null  object\n",
      "dtypes: int64(2), object(4)\n",
      "memory usage: 73.2+ MB\n"
     ]
    }
   ],
   "source": [
    "df.info(verbose=True)"
   ]
  },
  {
   "cell_type": "code",
   "execution_count": 6,
   "id": "f1a691e1-276d-493a-a009-40d951266d75",
   "metadata": {
    "tags": []
   },
   "outputs": [],
   "source": [
    "df = df.astype({\n",
    "    \"target\": 'category', \n",
    "    \"ids\": 'category',\n",
    "    #\"date\": 'datetime64',\n",
    "    \"flag\": 'category',\n",
    "    \"user\": 'category',\n",
    "    #\"text\": 'object',\n",
    "})"
   ]
  },
  {
   "cell_type": "code",
   "execution_count": 7,
   "id": "9dd153f7-c72d-4ba5-8c42-553b3883cb82",
   "metadata": {
    "tags": []
   },
   "outputs": [
    {
     "data": {
      "text/plain": [
       "target    category\n",
       "ids       category\n",
       "date        object\n",
       "flag      category\n",
       "user      category\n",
       "text        object\n",
       "dtype: object"
      ]
     },
     "execution_count": 7,
     "metadata": {},
     "output_type": "execute_result"
    }
   ],
   "source": [
    "df.dtypes"
   ]
  },
  {
   "cell_type": "code",
   "execution_count": 8,
   "id": "0e25972e-ff60-43b2-8c65-8ab90fa44728",
   "metadata": {
    "tags": []
   },
   "outputs": [
    {
     "data": {
      "text/html": [
       "<div>\n",
       "<style scoped>\n",
       "    .dataframe tbody tr th:only-of-type {\n",
       "        vertical-align: middle;\n",
       "    }\n",
       "\n",
       "    .dataframe tbody tr th {\n",
       "        vertical-align: top;\n",
       "    }\n",
       "\n",
       "    .dataframe thead th {\n",
       "        text-align: right;\n",
       "    }\n",
       "</style>\n",
       "<table border=\"1\" class=\"dataframe\">\n",
       "  <thead>\n",
       "    <tr style=\"text-align: right;\">\n",
       "      <th></th>\n",
       "      <th>target</th>\n",
       "      <th>ids</th>\n",
       "      <th>date</th>\n",
       "      <th>flag</th>\n",
       "      <th>user</th>\n",
       "      <th>text</th>\n",
       "    </tr>\n",
       "  </thead>\n",
       "  <tbody>\n",
       "    <tr>\n",
       "      <th>0</th>\n",
       "      <td>0</td>\n",
       "      <td>1467810369</td>\n",
       "      <td>Mon Apr 06 22:19:45 PDT 2009</td>\n",
       "      <td>NO_QUERY</td>\n",
       "      <td>_TheSpecialOne_</td>\n",
       "      <td>@switchfoot http://twitpic.com/2y1zl - Awww, t...</td>\n",
       "    </tr>\n",
       "    <tr>\n",
       "      <th>1</th>\n",
       "      <td>0</td>\n",
       "      <td>1467810672</td>\n",
       "      <td>Mon Apr 06 22:19:49 PDT 2009</td>\n",
       "      <td>NO_QUERY</td>\n",
       "      <td>scotthamilton</td>\n",
       "      <td>is upset that he can't update his Facebook by ...</td>\n",
       "    </tr>\n",
       "  </tbody>\n",
       "</table>\n",
       "</div>"
      ],
      "text/plain": [
       "  target         ids                          date      flag             user  \\\n",
       "0      0  1467810369  Mon Apr 06 22:19:45 PDT 2009  NO_QUERY  _TheSpecialOne_   \n",
       "1      0  1467810672  Mon Apr 06 22:19:49 PDT 2009  NO_QUERY    scotthamilton   \n",
       "\n",
       "                                                text  \n",
       "0  @switchfoot http://twitpic.com/2y1zl - Awww, t...  \n",
       "1  is upset that he can't update his Facebook by ...  "
      ]
     },
     "execution_count": 8,
     "metadata": {},
     "output_type": "execute_result"
    }
   ],
   "source": [
    "df.head(2)"
   ]
  },
  {
   "cell_type": "markdown",
   "id": "f1c87084-3055-4d0d-ab3d-97ffa6811ffe",
   "metadata": {},
   "source": [
    "### Commençons par chercher les éventuels doublons"
   ]
  },
  {
   "cell_type": "markdown",
   "id": "d4c550a1-b9a9-4cf3-95a2-8a61900a3e52",
   "metadata": {},
   "source": [
    "#### Vérifions sur l'ensemble des colonnes"
   ]
  },
  {
   "cell_type": "code",
   "execution_count": 9,
   "id": "87e8ef46-81ea-4e6d-a9b6-5d0c60159c19",
   "metadata": {},
   "outputs": [
    {
     "data": {
      "text/plain": [
       "0"
      ]
     },
     "execution_count": 9,
     "metadata": {},
     "output_type": "execute_result"
    }
   ],
   "source": [
    "df.duplicated().sum()"
   ]
  },
  {
   "cell_type": "markdown",
   "id": "99944be1-4c31-4f64-b6f3-202d7c53c962",
   "metadata": {},
   "source": [
    "#### A présent, vérifions sans tenir compte de la `target` au cas ou certains doublons auraient les deux valeurs"
   ]
  },
  {
   "cell_type": "code",
   "execution_count": 10,
   "id": "934f3639-1b74-43c7-a92c-c6c01fd10286",
   "metadata": {},
   "outputs": [
    {
     "data": {
      "text/plain": [
       "1685"
      ]
     },
     "execution_count": 10,
     "metadata": {},
     "output_type": "execute_result"
    }
   ],
   "source": [
    "subset = ['ids', 'date', 'flag', 'user', 'text']\n",
    "df.duplicated(subset=subset).sum()"
   ]
  },
  {
   "cell_type": "code",
   "execution_count": 11,
   "id": "01fa9631-d4f2-410d-8c16-108ea9b8217a",
   "metadata": {},
   "outputs": [
    {
     "data": {
      "text/html": [
       "<div>\n",
       "<style scoped>\n",
       "    .dataframe tbody tr th:only-of-type {\n",
       "        vertical-align: middle;\n",
       "    }\n",
       "\n",
       "    .dataframe tbody tr th {\n",
       "        vertical-align: top;\n",
       "    }\n",
       "\n",
       "    .dataframe thead th {\n",
       "        text-align: right;\n",
       "    }\n",
       "</style>\n",
       "<table border=\"1\" class=\"dataframe\">\n",
       "  <thead>\n",
       "    <tr style=\"text-align: right;\">\n",
       "      <th></th>\n",
       "      <th>target</th>\n",
       "      <th>ids</th>\n",
       "      <th>date</th>\n",
       "      <th>flag</th>\n",
       "      <th>user</th>\n",
       "      <th>text</th>\n",
       "    </tr>\n",
       "  </thead>\n",
       "  <tbody>\n",
       "    <tr>\n",
       "      <th>1394129</th>\n",
       "      <td>4</td>\n",
       "      <td>2053581479</td>\n",
       "      <td>Sat Jun 06 05:02:55 PDT 2009</td>\n",
       "      <td>NO_QUERY</td>\n",
       "      <td>FunStarLiz</td>\n",
       "      <td>British weather is back i see! Oh well Birtne...</td>\n",
       "    </tr>\n",
       "    <tr>\n",
       "      <th>385331</th>\n",
       "      <td>0</td>\n",
       "      <td>2053581479</td>\n",
       "      <td>Sat Jun 06 05:02:55 PDT 2009</td>\n",
       "      <td>NO_QUERY</td>\n",
       "      <td>FunStarLiz</td>\n",
       "      <td>British weather is back i see! Oh well Birtne...</td>\n",
       "    </tr>\n",
       "    <tr>\n",
       "      <th>1077756</th>\n",
       "      <td>4</td>\n",
       "      <td>1967735038</td>\n",
       "      <td>Fri May 29 20:07:06 PDT 2009</td>\n",
       "      <td>NO_QUERY</td>\n",
       "      <td>macpoulet67</td>\n",
       "      <td>Raining tomorrow afternoon but its going to b...</td>\n",
       "    </tr>\n",
       "    <tr>\n",
       "      <th>184535</th>\n",
       "      <td>0</td>\n",
       "      <td>1967735038</td>\n",
       "      <td>Fri May 29 20:07:06 PDT 2009</td>\n",
       "      <td>NO_QUERY</td>\n",
       "      <td>macpoulet67</td>\n",
       "      <td>Raining tomorrow afternoon but its going to b...</td>\n",
       "    </tr>\n",
       "    <tr>\n",
       "      <th>118605</th>\n",
       "      <td>0</td>\n",
       "      <td>1827871029</td>\n",
       "      <td>Sun May 17 11:37:14 PDT 2009</td>\n",
       "      <td>NO_QUERY</td>\n",
       "      <td>mckyliecooper</td>\n",
       "      <td>Uhm.. science! -.- Verrrry boring and LONG  G...</td>\n",
       "    </tr>\n",
       "    <tr>\n",
       "      <th>968532</th>\n",
       "      <td>4</td>\n",
       "      <td>1827871029</td>\n",
       "      <td>Sun May 17 11:37:14 PDT 2009</td>\n",
       "      <td>NO_QUERY</td>\n",
       "      <td>mckyliecooper</td>\n",
       "      <td>Uhm.. science! -.- Verrrry boring and LONG  G...</td>\n",
       "    </tr>\n",
       "    <tr>\n",
       "      <th>1443107</th>\n",
       "      <td>4</td>\n",
       "      <td>2062079422</td>\n",
       "      <td>Sat Jun 06 22:17:07 PDT 2009</td>\n",
       "      <td>NO_QUERY</td>\n",
       "      <td>kiarapop</td>\n",
       "      <td>back to maths. i wish i could stab it. but at...</td>\n",
       "    </tr>\n",
       "    <tr>\n",
       "      <th>419860</th>\n",
       "      <td>0</td>\n",
       "      <td>2062079422</td>\n",
       "      <td>Sat Jun 06 22:17:07 PDT 2009</td>\n",
       "      <td>NO_QUERY</td>\n",
       "      <td>kiarapop</td>\n",
       "      <td>back to maths. i wish i could stab it. but at...</td>\n",
       "    </tr>\n",
       "    <tr>\n",
       "      <th>190549</th>\n",
       "      <td>0</td>\n",
       "      <td>1969383342</td>\n",
       "      <td>Fri May 29 23:51:54 PDT 2009</td>\n",
       "      <td>NO_QUERY</td>\n",
       "      <td>iSelah</td>\n",
       "      <td>but then again</td>\n",
       "    </tr>\n",
       "    <tr>\n",
       "      <th>1086997</th>\n",
       "      <td>4</td>\n",
       "      <td>1969383342</td>\n",
       "      <td>Fri May 29 23:51:54 PDT 2009</td>\n",
       "      <td>NO_QUERY</td>\n",
       "      <td>iSelah</td>\n",
       "      <td>but then again</td>\n",
       "    </tr>\n",
       "  </tbody>\n",
       "</table>\n",
       "</div>"
      ],
      "text/plain": [
       "        target         ids                          date      flag  \\\n",
       "1394129      4  2053581479  Sat Jun 06 05:02:55 PDT 2009  NO_QUERY   \n",
       "385331       0  2053581479  Sat Jun 06 05:02:55 PDT 2009  NO_QUERY   \n",
       "1077756      4  1967735038  Fri May 29 20:07:06 PDT 2009  NO_QUERY   \n",
       "184535       0  1967735038  Fri May 29 20:07:06 PDT 2009  NO_QUERY   \n",
       "118605       0  1827871029  Sun May 17 11:37:14 PDT 2009  NO_QUERY   \n",
       "968532       4  1827871029  Sun May 17 11:37:14 PDT 2009  NO_QUERY   \n",
       "1443107      4  2062079422  Sat Jun 06 22:17:07 PDT 2009  NO_QUERY   \n",
       "419860       0  2062079422  Sat Jun 06 22:17:07 PDT 2009  NO_QUERY   \n",
       "190549       0  1969383342  Fri May 29 23:51:54 PDT 2009  NO_QUERY   \n",
       "1086997      4  1969383342  Fri May 29 23:51:54 PDT 2009  NO_QUERY   \n",
       "\n",
       "                  user                                               text  \n",
       "1394129     FunStarLiz   British weather is back i see! Oh well Birtne...  \n",
       "385331      FunStarLiz   British weather is back i see! Oh well Birtne...  \n",
       "1077756    macpoulet67   Raining tomorrow afternoon but its going to b...  \n",
       "184535     macpoulet67   Raining tomorrow afternoon but its going to b...  \n",
       "118605   mckyliecooper   Uhm.. science! -.- Verrrry boring and LONG  G...  \n",
       "968532   mckyliecooper   Uhm.. science! -.- Verrrry boring and LONG  G...  \n",
       "1443107       kiarapop   back to maths. i wish i could stab it. but at...  \n",
       "419860        kiarapop   back to maths. i wish i could stab it. but at...  \n",
       "190549          iSelah                                    but then again   \n",
       "1086997         iSelah                                    but then again   "
      ]
     },
     "execution_count": 11,
     "metadata": {},
     "output_type": "execute_result"
    }
   ],
   "source": [
    "df[df.duplicated(keep=False, subset=subset)].sort_values('text').head(10)"
   ]
  },
  {
   "cell_type": "markdown",
   "id": "0a5b7103-d453-4b0a-9cbb-6f4d67c9673f",
   "metadata": {},
   "source": [
    ">#### On constate que l'on a 1685 échantillons pour lesquels on a à la fois une target *positive* (4) et une target *negative* (0)...\n",
    "> comme on ne connait pas la véritable target des ces échantillons en double, il nous faut supprimer les 3370 *(2 x 1685)*"
   ]
  },
  {
   "cell_type": "code",
   "execution_count": 12,
   "id": "818eb35b-d3bd-4b71-bfe6-fe9f7129727f",
   "metadata": {},
   "outputs": [],
   "source": [
    "df.drop_duplicates(keep=False, subset=subset, inplace=True)"
   ]
  },
  {
   "cell_type": "code",
   "execution_count": 13,
   "id": "8afe73bc-3539-4d3c-a014-e3ed8956fdc8",
   "metadata": {},
   "outputs": [
    {
     "data": {
      "text/html": [
       "<div>\n",
       "<style scoped>\n",
       "    .dataframe tbody tr th:only-of-type {\n",
       "        vertical-align: middle;\n",
       "    }\n",
       "\n",
       "    .dataframe tbody tr th {\n",
       "        vertical-align: top;\n",
       "    }\n",
       "\n",
       "    .dataframe thead th {\n",
       "        text-align: right;\n",
       "    }\n",
       "</style>\n",
       "<table border=\"1\" class=\"dataframe\">\n",
       "  <thead>\n",
       "    <tr style=\"text-align: right;\">\n",
       "      <th></th>\n",
       "      <th>target</th>\n",
       "      <th>ids</th>\n",
       "      <th>date</th>\n",
       "      <th>flag</th>\n",
       "      <th>user</th>\n",
       "      <th>text</th>\n",
       "    </tr>\n",
       "  </thead>\n",
       "  <tbody>\n",
       "    <tr>\n",
       "      <th>0</th>\n",
       "      <td>0</td>\n",
       "      <td>1467810369</td>\n",
       "      <td>Mon Apr 06 22:19:45 PDT 2009</td>\n",
       "      <td>NO_QUERY</td>\n",
       "      <td>_TheSpecialOne_</td>\n",
       "      <td>@switchfoot http://twitpic.com/2y1zl - Awww, t...</td>\n",
       "    </tr>\n",
       "    <tr>\n",
       "      <th>1</th>\n",
       "      <td>0</td>\n",
       "      <td>1467810672</td>\n",
       "      <td>Mon Apr 06 22:19:49 PDT 2009</td>\n",
       "      <td>NO_QUERY</td>\n",
       "      <td>scotthamilton</td>\n",
       "      <td>is upset that he can't update his Facebook by ...</td>\n",
       "    </tr>\n",
       "  </tbody>\n",
       "</table>\n",
       "</div>"
      ],
      "text/plain": [
       "  target         ids                          date      flag             user  \\\n",
       "0      0  1467810369  Mon Apr 06 22:19:45 PDT 2009  NO_QUERY  _TheSpecialOne_   \n",
       "1      0  1467810672  Mon Apr 06 22:19:49 PDT 2009  NO_QUERY    scotthamilton   \n",
       "\n",
       "                                                text  \n",
       "0  @switchfoot http://twitpic.com/2y1zl - Awww, t...  \n",
       "1  is upset that he can't update his Facebook by ...  "
      ]
     },
     "metadata": {},
     "output_type": "display_data"
    },
    {
     "data": {
      "text/plain": [
       "(1596630, 6)"
      ]
     },
     "metadata": {},
     "output_type": "display_data"
    }
   ],
   "source": [
    "display(df.head(2), df.shape)"
   ]
  },
  {
   "cell_type": "code",
   "execution_count": 14,
   "id": "e7b93711-7c84-492a-9151-1bc98f365bc0",
   "metadata": {},
   "outputs": [
    {
     "data": {
      "text/plain": [
       "0"
      ]
     },
     "execution_count": 14,
     "metadata": {},
     "output_type": "execute_result"
    }
   ],
   "source": [
    "df.ids.duplicated().sum()"
   ]
  },
  {
   "cell_type": "code",
   "execution_count": 15,
   "id": "131bc4f3-478d-46d1-9caf-a39273113fc0",
   "metadata": {},
   "outputs": [
    {
     "data": {
      "text/plain": [
       "count        1596630\n",
       "unique       1596630\n",
       "top       1467810369\n",
       "freq               1\n",
       "Name: ids, dtype: int64"
      ]
     },
     "execution_count": 15,
     "metadata": {},
     "output_type": "execute_result"
    }
   ],
   "source": [
    "df.ids.describe()"
   ]
  },
  {
   "cell_type": "markdown",
   "id": "c318ed22-08da-4721-a954-2905f7620cb2",
   "metadata": {},
   "source": [
    "#### Enfin, vérifions si l'on a des `textes` qui apparaissent plusieurs fois avec la même `target`"
   ]
  },
  {
   "cell_type": "code",
   "execution_count": 16,
   "id": "246f6407-6db4-4081-a0ad-f5d0e74d24be",
   "metadata": {},
   "outputs": [
    {
     "data": {
      "text/plain": [
       "16836"
      ]
     },
     "execution_count": 16,
     "metadata": {},
     "output_type": "execute_result"
    }
   ],
   "source": [
    "subset= ['text']\n",
    "df.duplicated(subset=subset).sum()"
   ]
  },
  {
   "cell_type": "code",
   "execution_count": 17,
   "id": "d7151290-ac24-4718-85a7-ad9ee59c1bf9",
   "metadata": {},
   "outputs": [
    {
     "data": {
      "text/html": [
       "<div>\n",
       "<style scoped>\n",
       "    .dataframe tbody tr th:only-of-type {\n",
       "        vertical-align: middle;\n",
       "    }\n",
       "\n",
       "    .dataframe tbody tr th {\n",
       "        vertical-align: top;\n",
       "    }\n",
       "\n",
       "    .dataframe thead th {\n",
       "        text-align: right;\n",
       "    }\n",
       "</style>\n",
       "<table border=\"1\" class=\"dataframe\">\n",
       "  <thead>\n",
       "    <tr style=\"text-align: right;\">\n",
       "      <th></th>\n",
       "      <th>target</th>\n",
       "      <th>ids</th>\n",
       "      <th>date</th>\n",
       "      <th>flag</th>\n",
       "      <th>user</th>\n",
       "      <th>text</th>\n",
       "    </tr>\n",
       "  </thead>\n",
       "  <tbody>\n",
       "    <tr>\n",
       "      <th>271505</th>\n",
       "      <td>0</td>\n",
       "      <td>1990029536</td>\n",
       "      <td>Mon Jun 01 03:38:42 PDT 2009</td>\n",
       "      <td>NO_QUERY</td>\n",
       "      <td>Jana1503</td>\n",
       "      <td>David must be hospitalized for five days end...</td>\n",
       "    </tr>\n",
       "    <tr>\n",
       "      <th>271472</th>\n",
       "      <td>0</td>\n",
       "      <td>1990023076</td>\n",
       "      <td>Mon Jun 01 03:37:19 PDT 2009</td>\n",
       "      <td>NO_QUERY</td>\n",
       "      <td>Jana1503</td>\n",
       "      <td>David must be hospitalized for five days end...</td>\n",
       "    </tr>\n",
       "    <tr>\n",
       "      <th>1132074</th>\n",
       "      <td>4</td>\n",
       "      <td>1975956536</td>\n",
       "      <td>Sat May 30 16:16:11 PDT 2009</td>\n",
       "      <td>NO_QUERY</td>\n",
       "      <td>dstocum</td>\n",
       "      <td>bathroom is clean..... now on to more enjoya...</td>\n",
       "    </tr>\n",
       "    <tr>\n",
       "      <th>1132076</th>\n",
       "      <td>4</td>\n",
       "      <td>1975956610</td>\n",
       "      <td>Sat May 30 16:16:11 PDT 2009</td>\n",
       "      <td>NO_QUERY</td>\n",
       "      <td>DavidStocum</td>\n",
       "      <td>bathroom is clean..... now on to more enjoya...</td>\n",
       "    </tr>\n",
       "    <tr>\n",
       "      <th>540173</th>\n",
       "      <td>0</td>\n",
       "      <td>2199659424</td>\n",
       "      <td>Tue Jun 16 17:49:15 PDT 2009</td>\n",
       "      <td>NO_QUERY</td>\n",
       "      <td>cutthroatpixie</td>\n",
       "      <td>#IMISSCATH #IMISSCATH #IMISSCATH #IMISSCATH #...</td>\n",
       "    </tr>\n",
       "    <tr>\n",
       "      <th>540159</th>\n",
       "      <td>0</td>\n",
       "      <td>2199656747</td>\n",
       "      <td>Tue Jun 16 17:49:00 PDT 2009</td>\n",
       "      <td>NO_QUERY</td>\n",
       "      <td>cutthroatpixie</td>\n",
       "      <td>#IMISSCATH #IMISSCATH #IMISSCATH #IMISSCATH #...</td>\n",
       "    </tr>\n",
       "    <tr>\n",
       "      <th>1364947</th>\n",
       "      <td>4</td>\n",
       "      <td>2049859280</td>\n",
       "      <td>Fri Jun 05 17:37:43 PDT 2009</td>\n",
       "      <td>NO_QUERY</td>\n",
       "      <td>MonicaEira</td>\n",
       "      <td>#seb-day #seb-day #seb-day #seb-day #seb-day ...</td>\n",
       "    </tr>\n",
       "    <tr>\n",
       "      <th>1357123</th>\n",
       "      <td>4</td>\n",
       "      <td>2047924312</td>\n",
       "      <td>Fri Jun 05 14:23:16 PDT 2009</td>\n",
       "      <td>NO_QUERY</td>\n",
       "      <td>DihDesrosiers</td>\n",
       "      <td>#seb-day #seb-day #seb-day #seb-day #seb-day ...</td>\n",
       "    </tr>\n",
       "    <tr>\n",
       "      <th>331063</th>\n",
       "      <td>0</td>\n",
       "      <td>2012536119</td>\n",
       "      <td>Tue Jun 02 20:49:46 PDT 2009</td>\n",
       "      <td>NO_QUERY</td>\n",
       "      <td>iShatara</td>\n",
       "      <td>*tear*</td>\n",
       "    </tr>\n",
       "    <tr>\n",
       "      <th>287201</th>\n",
       "      <td>0</td>\n",
       "      <td>1994140773</td>\n",
       "      <td>Mon Jun 01 11:28:38 PDT 2009</td>\n",
       "      <td>NO_QUERY</td>\n",
       "      <td>vanitiiluv</td>\n",
       "      <td>*tear*</td>\n",
       "    </tr>\n",
       "  </tbody>\n",
       "</table>\n",
       "</div>"
      ],
      "text/plain": [
       "        target         ids                          date      flag  \\\n",
       "271505       0  1990029536  Mon Jun 01 03:38:42 PDT 2009  NO_QUERY   \n",
       "271472       0  1990023076  Mon Jun 01 03:37:19 PDT 2009  NO_QUERY   \n",
       "1132074      4  1975956536  Sat May 30 16:16:11 PDT 2009  NO_QUERY   \n",
       "1132076      4  1975956610  Sat May 30 16:16:11 PDT 2009  NO_QUERY   \n",
       "540173       0  2199659424  Tue Jun 16 17:49:15 PDT 2009  NO_QUERY   \n",
       "540159       0  2199656747  Tue Jun 16 17:49:00 PDT 2009  NO_QUERY   \n",
       "1364947      4  2049859280  Fri Jun 05 17:37:43 PDT 2009  NO_QUERY   \n",
       "1357123      4  2047924312  Fri Jun 05 14:23:16 PDT 2009  NO_QUERY   \n",
       "331063       0  2012536119  Tue Jun 02 20:49:46 PDT 2009  NO_QUERY   \n",
       "287201       0  1994140773  Mon Jun 01 11:28:38 PDT 2009  NO_QUERY   \n",
       "\n",
       "                   user                                               text  \n",
       "271505         Jana1503    David must be hospitalized for five days end...  \n",
       "271472         Jana1503    David must be hospitalized for five days end...  \n",
       "1132074         dstocum    bathroom is clean..... now on to more enjoya...  \n",
       "1132076     DavidStocum    bathroom is clean..... now on to more enjoya...  \n",
       "540173   cutthroatpixie   #IMISSCATH #IMISSCATH #IMISSCATH #IMISSCATH #...  \n",
       "540159   cutthroatpixie   #IMISSCATH #IMISSCATH #IMISSCATH #IMISSCATH #...  \n",
       "1364947      MonicaEira   #seb-day #seb-day #seb-day #seb-day #seb-day ...  \n",
       "1357123   DihDesrosiers   #seb-day #seb-day #seb-day #seb-day #seb-day ...  \n",
       "331063         iShatara                                             *tear*  \n",
       "287201       vanitiiluv                                             *tear*  "
      ]
     },
     "execution_count": 17,
     "metadata": {},
     "output_type": "execute_result"
    }
   ],
   "source": [
    "df[df.duplicated(keep=False, subset=subset)].sort_values('text').head(10)"
   ]
  },
  {
   "cell_type": "markdown",
   "id": "75b068e8-1b3f-4c52-9a27-4b167d293544",
   "metadata": {},
   "source": [
    ">#### On constate que l'on a encore 16836 échantillons dont les textes apparaissent plusieurs fois dans le jeu de données\n",
    "> il convient donc de n'en garder qu'un seul exemplaire de chaque"
   ]
  },
  {
   "cell_type": "code",
   "execution_count": 18,
   "id": "3e01f07e-9454-4c7e-a7d0-0b8127375e6f",
   "metadata": {},
   "outputs": [],
   "source": [
    "df.drop_duplicates(keep='first', subset=subset, inplace=True)"
   ]
  },
  {
   "cell_type": "code",
   "execution_count": 19,
   "id": "2beaaa66-be81-43b8-a13d-4a6a90a147f9",
   "metadata": {},
   "outputs": [
    {
     "data": {
      "text/html": [
       "<div>\n",
       "<style scoped>\n",
       "    .dataframe tbody tr th:only-of-type {\n",
       "        vertical-align: middle;\n",
       "    }\n",
       "\n",
       "    .dataframe tbody tr th {\n",
       "        vertical-align: top;\n",
       "    }\n",
       "\n",
       "    .dataframe thead th {\n",
       "        text-align: right;\n",
       "    }\n",
       "</style>\n",
       "<table border=\"1\" class=\"dataframe\">\n",
       "  <thead>\n",
       "    <tr style=\"text-align: right;\">\n",
       "      <th></th>\n",
       "      <th>target</th>\n",
       "      <th>ids</th>\n",
       "      <th>date</th>\n",
       "      <th>flag</th>\n",
       "      <th>user</th>\n",
       "      <th>text</th>\n",
       "    </tr>\n",
       "  </thead>\n",
       "  <tbody>\n",
       "    <tr>\n",
       "      <th>0</th>\n",
       "      <td>0</td>\n",
       "      <td>1467810369</td>\n",
       "      <td>Mon Apr 06 22:19:45 PDT 2009</td>\n",
       "      <td>NO_QUERY</td>\n",
       "      <td>_TheSpecialOne_</td>\n",
       "      <td>@switchfoot http://twitpic.com/2y1zl - Awww, t...</td>\n",
       "    </tr>\n",
       "    <tr>\n",
       "      <th>1</th>\n",
       "      <td>0</td>\n",
       "      <td>1467810672</td>\n",
       "      <td>Mon Apr 06 22:19:49 PDT 2009</td>\n",
       "      <td>NO_QUERY</td>\n",
       "      <td>scotthamilton</td>\n",
       "      <td>is upset that he can't update his Facebook by ...</td>\n",
       "    </tr>\n",
       "  </tbody>\n",
       "</table>\n",
       "</div>"
      ],
      "text/plain": [
       "  target         ids                          date      flag             user  \\\n",
       "0      0  1467810369  Mon Apr 06 22:19:45 PDT 2009  NO_QUERY  _TheSpecialOne_   \n",
       "1      0  1467810672  Mon Apr 06 22:19:49 PDT 2009  NO_QUERY    scotthamilton   \n",
       "\n",
       "                                                text  \n",
       "0  @switchfoot http://twitpic.com/2y1zl - Awww, t...  \n",
       "1  is upset that he can't update his Facebook by ...  "
      ]
     },
     "metadata": {},
     "output_type": "display_data"
    },
    {
     "data": {
      "text/plain": [
       "(1579794, 6)"
      ]
     },
     "metadata": {},
     "output_type": "display_data"
    }
   ],
   "source": [
    "display(df.head(2), df.shape)"
   ]
  },
  {
   "cell_type": "code",
   "execution_count": 20,
   "id": "e9905093-0434-4157-aa43-1363027fe384",
   "metadata": {},
   "outputs": [
    {
     "data": {
      "text/plain": [
       "count                                               1579794\n",
       "unique                                              1579794\n",
       "top       @switchfoot http://twitpic.com/2y1zl - Awww, t...\n",
       "freq                                                      1\n",
       "Name: text, dtype: object"
      ]
     },
     "execution_count": 20,
     "metadata": {},
     "output_type": "execute_result"
    }
   ],
   "source": [
    "df.text.describe()"
   ]
  },
  {
   "cell_type": "markdown",
   "id": "a6bee29f-1f83-4049-88da-db782c007628",
   "metadata": {},
   "source": [
    "### Analysons la colonne `target`\n",
    "#### Regardons sa distribution"
   ]
  },
  {
   "cell_type": "code",
   "execution_count": 21,
   "id": "990179f5-047b-4748-9412-87ac485e15ed",
   "metadata": {
    "tags": []
   },
   "outputs": [
    {
     "data": {
      "text/plain": [
       "4    791281\n",
       "0    788513\n",
       "Name: target, dtype: int64"
      ]
     },
     "execution_count": 21,
     "metadata": {},
     "output_type": "execute_result"
    }
   ],
   "source": [
    "df.target.value_counts()"
   ]
  },
  {
   "cell_type": "markdown",
   "id": "241c5e13-3ce6-4da3-ae4c-19bc831dec42",
   "metadata": {},
   "source": [
    ">#### On constate donc que les targets sont équitablement distribuées entre 0 *(negative)* et 4 *(positive)*, mais qu'il n'y a pas de 2 *(neutral)*\n",
    "> il n'est donc pas nécessaire d'effectuer un ré-équilibrage, mais nous pourrions changer la colonne en bool ou rendre les labels plus clairs."
   ]
  },
  {
   "cell_type": "code",
   "execution_count": 22,
   "id": "d3d46a8c-2def-471e-8834-92b9b4efb058",
   "metadata": {},
   "outputs": [],
   "source": [
    "remap = {0: \"negative\", 4: \"positive\"}\n",
    "df.replace({\"target\": remap}, inplace=True)"
   ]
  },
  {
   "cell_type": "code",
   "execution_count": 23,
   "id": "0fa91ebc-ba04-483d-bcea-7107017fbff5",
   "metadata": {
    "tags": []
   },
   "outputs": [
    {
     "data": {
      "image/png": "[encoded data removed]",
      "text/plain": [
       "<Figure size 1080x504 with 1 Axes>"
      ]
     },
     "metadata": {
      "needs_background": "light"
     },
     "output_type": "display_data"
    }
   ],
   "source": [
    "fig = plt.figure(figsize=(15, 7))\n",
    "sns.barplot(data=df.target.value_counts().reset_index().rename(columns={'target':'count', 'index':'target'}), x='target', y='count')\n",
    "plt.title(\"Distribution de la polarité des tweets du dataset\")\n",
    "plt.show()"
   ]
  },
  {
   "cell_type": "markdown",
   "id": "ba269fbe-7817-4a94-b4ff-ef8b23f7c538",
   "metadata": {},
   "source": [
    "### Analysons la colonne `ids`"
   ]
  },
  {
   "cell_type": "code",
   "execution_count": 24,
   "id": "f0a6052c-046c-4772-af68-0eba46909a90",
   "metadata": {},
   "outputs": [
    {
     "data": {
      "text/plain": [
       "0"
      ]
     },
     "execution_count": 24,
     "metadata": {},
     "output_type": "execute_result"
    }
   ],
   "source": [
    "df.ids.duplicated().sum()"
   ]
  },
  {
   "cell_type": "markdown",
   "id": "02891eb3-2ee3-4356-8588-1dd6fd4a64e1",
   "metadata": {},
   "source": [
    "---\n",
    ">#### `TODO`  done ✅ | todo ❌ |\n",
    "> - ✅ Supprimer la colonne `ids` du jeu de données de travail.<br><u>*(action: faite juste en dessous)*</u>"
   ]
  },
  {
   "cell_type": "code",
   "execution_count": 25,
   "id": "d48cf4a7-e9f1-4a77-a123-0fa06d78877c",
   "metadata": {},
   "outputs": [],
   "source": [
    "df.drop(columns=['ids'], inplace=True)"
   ]
  },
  {
   "cell_type": "code",
   "execution_count": 26,
   "id": "25c87b6c-f54e-4683-9d3e-18b521d1fd33",
   "metadata": {},
   "outputs": [
    {
     "data": {
      "text/html": [
       "<div>\n",
       "<style scoped>\n",
       "    .dataframe tbody tr th:only-of-type {\n",
       "        vertical-align: middle;\n",
       "    }\n",
       "\n",
       "    .dataframe tbody tr th {\n",
       "        vertical-align: top;\n",
       "    }\n",
       "\n",
       "    .dataframe thead th {\n",
       "        text-align: right;\n",
       "    }\n",
       "</style>\n",
       "<table border=\"1\" class=\"dataframe\">\n",
       "  <thead>\n",
       "    <tr style=\"text-align: right;\">\n",
       "      <th></th>\n",
       "      <th>target</th>\n",
       "      <th>date</th>\n",
       "      <th>flag</th>\n",
       "      <th>user</th>\n",
       "      <th>text</th>\n",
       "    </tr>\n",
       "  </thead>\n",
       "  <tbody>\n",
       "    <tr>\n",
       "      <th>0</th>\n",
       "      <td>negative</td>\n",
       "      <td>Mon Apr 06 22:19:45 PDT 2009</td>\n",
       "      <td>NO_QUERY</td>\n",
       "      <td>_TheSpecialOne_</td>\n",
       "      <td>@switchfoot http://twitpic.com/2y1zl - Awww, t...</td>\n",
       "    </tr>\n",
       "    <tr>\n",
       "      <th>1</th>\n",
       "      <td>negative</td>\n",
       "      <td>Mon Apr 06 22:19:49 PDT 2009</td>\n",
       "      <td>NO_QUERY</td>\n",
       "      <td>scotthamilton</td>\n",
       "      <td>is upset that he can't update his Facebook by ...</td>\n",
       "    </tr>\n",
       "  </tbody>\n",
       "</table>\n",
       "</div>"
      ],
      "text/plain": [
       "     target                          date      flag             user  \\\n",
       "0  negative  Mon Apr 06 22:19:45 PDT 2009  NO_QUERY  _TheSpecialOne_   \n",
       "1  negative  Mon Apr 06 22:19:49 PDT 2009  NO_QUERY    scotthamilton   \n",
       "\n",
       "                                                text  \n",
       "0  @switchfoot http://twitpic.com/2y1zl - Awww, t...  \n",
       "1  is upset that he can't update his Facebook by ...  "
      ]
     },
     "metadata": {},
     "output_type": "display_data"
    },
    {
     "data": {
      "text/plain": [
       "(1579794, 5)"
      ]
     },
     "metadata": {},
     "output_type": "display_data"
    }
   ],
   "source": [
    "display(df.head(2), df.shape)"
   ]
  },
  {
   "cell_type": "markdown",
   "id": "86941107-e66f-454e-a619-a222ded31fb1",
   "metadata": {},
   "source": [
    "### Analysons la colonne `date`"
   ]
  },
  {
   "cell_type": "code",
   "execution_count": 27,
   "id": "7c830754-04c4-4800-b29a-490c5b122ebe",
   "metadata": {},
   "outputs": [],
   "source": [
    "def parse_tweet_dates(date_time_str):\n",
    "    return parser.parse(date_time_str,  tzinfos={\"PDT\": -7*3600})"
   ]
  },
  {
   "cell_type": "code",
   "execution_count": 28,
   "id": "7fe821c8-aa15-4289-816b-1a330e11b6dd",
   "metadata": {},
   "outputs": [],
   "source": [
    "df['date'] = df.date.apply(parse_tweet_dates)"
   ]
  },
  {
   "cell_type": "raw",
   "id": "5178a141-9ad2-43a7-b3cb-907b0bf99196",
   "metadata": {},
   "source": [
    "df = data_df.astype({\n",
    "    \"date\": 'datetime64'\n",
    "})"
   ]
  },
  {
   "cell_type": "code",
   "execution_count": 29,
   "id": "67d47bfa-8f8c-4b2d-861b-493a6a81f9b7",
   "metadata": {
    "tags": []
   },
   "outputs": [
    {
     "data": {
      "text/html": [
       "<div>\n",
       "<style scoped>\n",
       "    .dataframe tbody tr th:only-of-type {\n",
       "        vertical-align: middle;\n",
       "    }\n",
       "\n",
       "    .dataframe tbody tr th {\n",
       "        vertical-align: top;\n",
       "    }\n",
       "\n",
       "    .dataframe thead th {\n",
       "        text-align: right;\n",
       "    }\n",
       "</style>\n",
       "<table border=\"1\" class=\"dataframe\">\n",
       "  <thead>\n",
       "    <tr style=\"text-align: right;\">\n",
       "      <th></th>\n",
       "      <th>target</th>\n",
       "      <th>date</th>\n",
       "      <th>flag</th>\n",
       "      <th>user</th>\n",
       "      <th>text</th>\n",
       "    </tr>\n",
       "  </thead>\n",
       "  <tbody>\n",
       "    <tr>\n",
       "      <th>0</th>\n",
       "      <td>negative</td>\n",
       "      <td>2009-04-06 22:19:45-07:00</td>\n",
       "      <td>NO_QUERY</td>\n",
       "      <td>_TheSpecialOne_</td>\n",
       "      <td>@switchfoot http://twitpic.com/2y1zl - Awww, t...</td>\n",
       "    </tr>\n",
       "    <tr>\n",
       "      <th>1</th>\n",
       "      <td>negative</td>\n",
       "      <td>2009-04-06 22:19:49-07:00</td>\n",
       "      <td>NO_QUERY</td>\n",
       "      <td>scotthamilton</td>\n",
       "      <td>is upset that he can't update his Facebook by ...</td>\n",
       "    </tr>\n",
       "  </tbody>\n",
       "</table>\n",
       "</div>"
      ],
      "text/plain": [
       "     target                      date      flag             user  \\\n",
       "0  negative 2009-04-06 22:19:45-07:00  NO_QUERY  _TheSpecialOne_   \n",
       "1  negative 2009-04-06 22:19:49-07:00  NO_QUERY    scotthamilton   \n",
       "\n",
       "                                                text  \n",
       "0  @switchfoot http://twitpic.com/2y1zl - Awww, t...  \n",
       "1  is upset that he can't update his Facebook by ...  "
      ]
     },
     "metadata": {},
     "output_type": "display_data"
    },
    {
     "data": {
      "text/plain": [
       "(1579794, 5)"
      ]
     },
     "metadata": {},
     "output_type": "display_data"
    }
   ],
   "source": [
    "display(df.head(2), df.shape)"
   ]
  },
  {
   "cell_type": "markdown",
   "id": "9a0e0cf4-5fc7-4fec-9a28-529a795ca315",
   "metadata": {},
   "source": [
    "#### Regardons les limites de la periode de publication des tweets de notre dataset"
   ]
  },
  {
   "cell_type": "code",
   "execution_count": 30,
   "id": "bb17c3e7-27c3-4fb8-a25c-2a45b439304d",
   "metadata": {},
   "outputs": [
    {
     "data": {
      "text/plain": [
       "count                                1579794\n",
       "mean     2009-05-31 06:53:34.174260992-07:00\n",
       "min                2009-04-06 22:19:45-07:00\n",
       "25%                2009-05-28 22:53:24-07:00\n",
       "50%                2009-06-02 02:56:40-07:00\n",
       "75%                2009-06-15 05:14:33-07:00\n",
       "max                2009-06-25 10:28:31-07:00\n",
       "Name: date, dtype: object"
      ]
     },
     "execution_count": 30,
     "metadata": {},
     "output_type": "execute_result"
    }
   ],
   "source": [
    "df.date.describe(datetime_is_numeric=True)"
   ]
  },
  {
   "cell_type": "markdown",
   "id": "7299ff8c-57c9-41ba-b7e8-0d2238d3cf54",
   "metadata": {},
   "source": [
    ">#### On a donc des tweets dont les dates s'étalent du 06/04/2009 au 25/06/2009\n",
    "> Il n'y a pas de raison que le lexique utilisé pour qualifier ce qui est *positif* ou *négatif* change en si peu de temps, donc on peut conserver l'ensemble de l'intervalle"
   ]
  },
  {
   "cell_type": "markdown",
   "id": "3060288d-c53c-4d01-918f-03afc03bc712",
   "metadata": {},
   "source": [
    "#### Regardons à présent la distribution des tweet dans le temps"
   ]
  },
  {
   "cell_type": "raw",
   "id": "fb4f32d7-d45e-4579-a528-e32f36b6a711",
   "metadata": {},
   "source": [
    "df.groupby(df.date.dt.month)['target'].sum()"
   ]
  },
  {
   "cell_type": "code",
   "execution_count": 31,
   "id": "1963a723-60bb-4605-9fcf-7e2901a08f57",
   "metadata": {},
   "outputs": [],
   "source": [
    "def plot_bars(data_, title, labels_modulo=1, labels_rotation=90, show_values=True, x_label=None, y_label=\"Nombre de commandes\"):\n",
    "\n",
    "    fig = plt.figure(figsize=(15, 4))\n",
    "    ax = sns.barplot(data=data_)\n",
    "    if show_values:\n",
    "        ax.bar_label(ax.containers[0])\n",
    "    new_ticks = [i.get_text() for i in ax.get_xticklabels()]\n",
    "    plt.xticks(range(0, len(new_ticks), labels_modulo), new_ticks[::labels_modulo], rotation=labels_rotation)\n",
    "    plt.ylabel(y_label)\n",
    "    plt.xlabel(x_label)\n",
    "    plt.title(title)\n",
    "    plt.show()"
   ]
  },
  {
   "cell_type": "code",
   "execution_count": 32,
   "id": "ee785a0e-c993-4717-bd25-b9f6d5f78fab",
   "metadata": {},
   "outputs": [
    {
     "data": {
      "image/png": "[encoded data removed]",
      "text/plain": [
       "<Figure size 1080x288 with 1 Axes>"
      ]
     },
     "metadata": {
      "needs_background": "light"
     },
     "output_type": "display_data"
    }
   ],
   "source": [
    "select = df[['date']].copy()\n",
    "select['short_date'] = select.date.apply(lambda x: x.strftime(\"%Y-%m-%d\"))\n",
    "#selection['short_date'] = selection.date.apply(lambda x: datetime.strptime(x[4:10] + x[-5:], \"%b %d %Y\").strftime(\"%m %d %Y\"))\n",
    "select = pd.DataFrame(select.groupby('short_date').size(), columns=['count'])# .sort_values('short_date')\n",
    "\n",
    "# add missing dates\n",
    "idx = pd.date_range('2009-04-06', '2009-06-25')\n",
    "select.reset_index(inplace=True)\n",
    "select.index = pd.DatetimeIndex(select['short_date'])\n",
    "select = select.reindex(idx, fill_value=0)\n",
    "select = select.drop(columns=['short_date'])\n",
    "select.index = select.index.strftime('%d-%m')\n",
    "    \n",
    "plot_bars(select.T, \"Répartition des Tweets dans le temps (par jours)\", labels_modulo=1, show_values=False)"
   ]
  },
  {
   "cell_type": "markdown",
   "id": "ceee16b0-c97f-41f9-a0a2-64af51ce91e1",
   "metadata": {},
   "source": [
    ">#### On constate que tweets sont inégalement répartis sur notre intervalle de temps\n",
    "> mais c'est à priori sans conséquence *(selon notre compréhension du jeu de données à ce stade)*"
   ]
  },
  {
   "cell_type": "markdown",
   "id": "2b99cb64-b552-4e94-aa1b-164d3328f6aa",
   "metadata": {},
   "source": [
    "---\n",
    ">#### `TODO`  done ✅ | todo ❌ |\n",
    "> - ✅ Supprimer la colonne `date` du jeu de données de travail.<br><u>*(action: faite juste en dessous)*</u>"
   ]
  },
  {
   "cell_type": "code",
   "execution_count": 33,
   "id": "c72491e4-87b4-4660-ab3e-b8c62027ff07",
   "metadata": {},
   "outputs": [],
   "source": [
    "df.drop(columns=['date'], inplace=True)"
   ]
  },
  {
   "cell_type": "code",
   "execution_count": 34,
   "id": "3500def7-87b4-417a-9e92-05eed0ad9222",
   "metadata": {},
   "outputs": [
    {
     "data": {
      "text/html": [
       "<div>\n",
       "<style scoped>\n",
       "    .dataframe tbody tr th:only-of-type {\n",
       "        vertical-align: middle;\n",
       "    }\n",
       "\n",
       "    .dataframe tbody tr th {\n",
       "        vertical-align: top;\n",
       "    }\n",
       "\n",
       "    .dataframe thead th {\n",
       "        text-align: right;\n",
       "    }\n",
       "</style>\n",
       "<table border=\"1\" class=\"dataframe\">\n",
       "  <thead>\n",
       "    <tr style=\"text-align: right;\">\n",
       "      <th></th>\n",
       "      <th>target</th>\n",
       "      <th>flag</th>\n",
       "      <th>user</th>\n",
       "      <th>text</th>\n",
       "    </tr>\n",
       "  </thead>\n",
       "  <tbody>\n",
       "    <tr>\n",
       "      <th>0</th>\n",
       "      <td>negative</td>\n",
       "      <td>NO_QUERY</td>\n",
       "      <td>_TheSpecialOne_</td>\n",
       "      <td>@switchfoot http://twitpic.com/2y1zl - Awww, t...</td>\n",
       "    </tr>\n",
       "    <tr>\n",
       "      <th>1</th>\n",
       "      <td>negative</td>\n",
       "      <td>NO_QUERY</td>\n",
       "      <td>scotthamilton</td>\n",
       "      <td>is upset that he can't update his Facebook by ...</td>\n",
       "    </tr>\n",
       "  </tbody>\n",
       "</table>\n",
       "</div>"
      ],
      "text/plain": [
       "     target      flag             user  \\\n",
       "0  negative  NO_QUERY  _TheSpecialOne_   \n",
       "1  negative  NO_QUERY    scotthamilton   \n",
       "\n",
       "                                                text  \n",
       "0  @switchfoot http://twitpic.com/2y1zl - Awww, t...  \n",
       "1  is upset that he can't update his Facebook by ...  "
      ]
     },
     "metadata": {},
     "output_type": "display_data"
    },
    {
     "data": {
      "text/plain": [
       "(1579794, 4)"
      ]
     },
     "metadata": {},
     "output_type": "display_data"
    }
   ],
   "source": [
    "display(df.head(2), df.shape)"
   ]
  },
  {
   "cell_type": "markdown",
   "id": "86e71451-5295-4977-8521-f244e43fe2e8",
   "metadata": {},
   "source": [
    "### Analysons la colonne `flag`"
   ]
  },
  {
   "cell_type": "code",
   "execution_count": 35,
   "id": "0879ddbf-d44e-40b9-9d2d-42dfc668c8f7",
   "metadata": {},
   "outputs": [
    {
     "data": {
      "text/plain": [
       "NO_QUERY    1579794\n",
       "Name: flag, dtype: int64"
      ]
     },
     "execution_count": 35,
     "metadata": {},
     "output_type": "execute_result"
    }
   ],
   "source": [
    "df.flag.value_counts(dropna=False)"
   ]
  },
  {
   "cell_type": "markdown",
   "id": "59dd6348-5a41-4add-bea0-ef06d2902503",
   "metadata": {},
   "source": [
    ">#### Il n'y a qu'une seule valeur dans cette colonne\n",
    "> elle ne présente donc aucun intérêt et peut être retirée."
   ]
  },
  {
   "cell_type": "markdown",
   "id": "4dc06a0e-63fd-432a-b8af-f1b6ded3bacc",
   "metadata": {},
   "source": [
    "---\n",
    ">#### `TODO`  done ✅ | todo ❌ |\n",
    "> - ✅ Supprimer la colonne `flag` du jeu de données de travail.<br><u>*(action: faite juste en dessous)*</u>"
   ]
  },
  {
   "cell_type": "code",
   "execution_count": 36,
   "id": "15c6ea7d-2d84-4013-b148-ac3c4fe5df23",
   "metadata": {},
   "outputs": [],
   "source": [
    "df.drop(columns=['flag'], inplace=True)"
   ]
  },
  {
   "cell_type": "code",
   "execution_count": 37,
   "id": "d23d6c98-a799-41c0-9b2d-513184a3b1bc",
   "metadata": {},
   "outputs": [
    {
     "data": {
      "text/html": [
       "<div>\n",
       "<style scoped>\n",
       "    .dataframe tbody tr th:only-of-type {\n",
       "        vertical-align: middle;\n",
       "    }\n",
       "\n",
       "    .dataframe tbody tr th {\n",
       "        vertical-align: top;\n",
       "    }\n",
       "\n",
       "    .dataframe thead th {\n",
       "        text-align: right;\n",
       "    }\n",
       "</style>\n",
       "<table border=\"1\" class=\"dataframe\">\n",
       "  <thead>\n",
       "    <tr style=\"text-align: right;\">\n",
       "      <th></th>\n",
       "      <th>target</th>\n",
       "      <th>user</th>\n",
       "      <th>text</th>\n",
       "    </tr>\n",
       "  </thead>\n",
       "  <tbody>\n",
       "    <tr>\n",
       "      <th>0</th>\n",
       "      <td>negative</td>\n",
       "      <td>_TheSpecialOne_</td>\n",
       "      <td>@switchfoot http://twitpic.com/2y1zl - Awww, t...</td>\n",
       "    </tr>\n",
       "    <tr>\n",
       "      <th>1</th>\n",
       "      <td>negative</td>\n",
       "      <td>scotthamilton</td>\n",
       "      <td>is upset that he can't update his Facebook by ...</td>\n",
       "    </tr>\n",
       "  </tbody>\n",
       "</table>\n",
       "</div>"
      ],
      "text/plain": [
       "     target             user  \\\n",
       "0  negative  _TheSpecialOne_   \n",
       "1  negative    scotthamilton   \n",
       "\n",
       "                                                text  \n",
       "0  @switchfoot http://twitpic.com/2y1zl - Awww, t...  \n",
       "1  is upset that he can't update his Facebook by ...  "
      ]
     },
     "metadata": {},
     "output_type": "display_data"
    },
    {
     "data": {
      "text/plain": [
       "(1579794, 3)"
      ]
     },
     "metadata": {},
     "output_type": "display_data"
    }
   ],
   "source": [
    "display(df.head(2), df.shape)"
   ]
  },
  {
   "cell_type": "markdown",
   "id": "328a1192-dff2-4658-9e30-c8934327b37f",
   "metadata": {},
   "source": [
    "### Analysons la colonne `user`"
   ]
  },
  {
   "cell_type": "code",
   "execution_count": 38,
   "id": "5490a75e-f7a3-4611-8caf-584f1391fad5",
   "metadata": {},
   "outputs": [
    {
     "data": {
      "text/plain": [
       "count      1579794\n",
       "unique      653858\n",
       "top       lost_dog\n",
       "freq           549\n",
       "Name: user, dtype: object"
      ]
     },
     "execution_count": 38,
     "metadata": {},
     "output_type": "execute_result"
    }
   ],
   "source": [
    "df.user.describe()"
   ]
  },
  {
   "cell_type": "markdown",
   "id": "bb484c7d-89a1-45fb-bbdf-5416c4e052f3",
   "metadata": {},
   "source": [
    ">#### On a une répartition inégale du nombre de Tweets par utilisateurs\n",
    "> mais c'est à priori sans conséquence *(selon notre compréhension du jeu de données à ce stade)*"
   ]
  },
  {
   "cell_type": "markdown",
   "id": "8cdc0fc1-25c1-47a9-ae5b-fa3c9e351563",
   "metadata": {},
   "source": [
    "---\n",
    ">#### `TODO`  done ✅ | todo ❌ |\n",
    "> - ✅ Supprimer la colonne `user` du jeu de données de travail.<br><u>*(action: faite juste en dessous)*</u>"
   ]
  },
  {
   "cell_type": "code",
   "execution_count": 39,
   "id": "3d6fa86b-af0a-4cd3-a19f-29aca2c2064c",
   "metadata": {},
   "outputs": [],
   "source": [
    "df.drop(columns=['user'], inplace=True)"
   ]
  },
  {
   "cell_type": "code",
   "execution_count": 40,
   "id": "5935b941-f363-4022-8b22-343c557181aa",
   "metadata": {},
   "outputs": [
    {
     "data": {
      "text/html": [
       "<div>\n",
       "<style scoped>\n",
       "    .dataframe tbody tr th:only-of-type {\n",
       "        vertical-align: middle;\n",
       "    }\n",
       "\n",
       "    .dataframe tbody tr th {\n",
       "        vertical-align: top;\n",
       "    }\n",
       "\n",
       "    .dataframe thead th {\n",
       "        text-align: right;\n",
       "    }\n",
       "</style>\n",
       "<table border=\"1\" class=\"dataframe\">\n",
       "  <thead>\n",
       "    <tr style=\"text-align: right;\">\n",
       "      <th></th>\n",
       "      <th>target</th>\n",
       "      <th>text</th>\n",
       "    </tr>\n",
       "  </thead>\n",
       "  <tbody>\n",
       "    <tr>\n",
       "      <th>0</th>\n",
       "      <td>negative</td>\n",
       "      <td>@switchfoot http://twitpic.com/2y1zl - Awww, t...</td>\n",
       "    </tr>\n",
       "    <tr>\n",
       "      <th>1</th>\n",
       "      <td>negative</td>\n",
       "      <td>is upset that he can't update his Facebook by ...</td>\n",
       "    </tr>\n",
       "  </tbody>\n",
       "</table>\n",
       "</div>"
      ],
      "text/plain": [
       "     target                                               text\n",
       "0  negative  @switchfoot http://twitpic.com/2y1zl - Awww, t...\n",
       "1  negative  is upset that he can't update his Facebook by ..."
      ]
     },
     "metadata": {},
     "output_type": "display_data"
    },
    {
     "data": {
      "text/plain": [
       "(1579794, 2)"
      ]
     },
     "metadata": {},
     "output_type": "display_data"
    }
   ],
   "source": [
    "display(df.head(2), df.shape)"
   ]
  },
  {
   "cell_type": "markdown",
   "id": "074dcf71-6898-4ae1-b03f-f66ae3ecba95",
   "metadata": {},
   "source": [
    "### Analysons la colonne `text`"
   ]
  },
  {
   "cell_type": "code",
   "execution_count": null,
   "id": "329ce9b3-925c-45a7-b481-9f8fc1da7cc7",
   "metadata": {},
   "outputs": [],
   "source": []
  }
 ],
 "metadata": {
  "kernelspec": {
   "display_name": "venvP7",
   "language": "python",
   "name": "venvp7"
  },
  "language_info": {
   "codemirror_mode": {
    "name": "ipython",
    "version": 3
   },
   "file_extension": ".py",
   "mimetype": "text/x-python",
   "name": "python",
   "nbconvert_exporter": "python",
   "pygments_lexer": "ipython3",
   "version": "3.8.10"
  }
 },
 "nbformat": 4,
 "nbformat_minor": 5
}
