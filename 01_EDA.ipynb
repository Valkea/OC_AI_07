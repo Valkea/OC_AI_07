{
 "cells": [
  {
   "cell_type": "code",
   "execution_count": 1,
   "id": "ac4fd636-80c2-41aa-8c3e-a9550d74bc16",
   "metadata": {
    "execution": {
     "iopub.execute_input": "2022-07-17T17:33:14.925014Z",
     "iopub.status.busy": "2022-07-17T17:33:14.924610Z",
     "iopub.status.idle": "2022-07-17T17:33:16.033695Z",
     "shell.execute_reply": "2022-07-17T17:33:16.033139Z",
     "shell.execute_reply.started": "2022-07-17T17:33:14.924944Z"
    },
    "tags": []
   },
   "outputs": [],
   "source": [
    "from zipfile import ZipFile\n",
    "import pathlib\n",
    "\n",
    "import matplotlib.pyplot as plt\n",
    "import pandas as pd\n",
    "import seaborn as sns"
   ]
  },
  {
   "cell_type": "markdown",
   "id": "6f1d0e8e-9174-4f29-975a-0d943e873bfb",
   "metadata": {},
   "source": [
    "The `sentiment140` dataset contains 1,600,000 tweets extracted using the twitter api.\n",
    "\n",
    "The tweets have been annotated *(0 = negative, 4 = positive)* and they can be used to detect sentiment.\n",
    "\n",
    "It contains the following 6 fields:\n",
    "- `target`: the polarity of the tweet (0 = negative, 2 = neutral, 4 = positive)\n",
    "- `ids`: The id of the tweet ( 2087)\n",
    "- `date`: the date of the tweet (Sat May 16 23:58:44 UTC 2009)\n",
    "- `flag`: The query (lyx). If there is no query, then this value is NO_QUERY.\n",
    "- `user`: the user that tweeted (robotickilldozr)\n",
    "- `text`: the text of the tweet (Lyx is cool)"
   ]
  },
  {
   "cell_type": "code",
   "execution_count": 2,
   "id": "60e4ab37-7dde-425e-8a8b-a44a62d5afa1",
   "metadata": {
    "execution": {
     "iopub.execute_input": "2022-07-17T17:33:17.175859Z",
     "iopub.status.busy": "2022-07-17T17:33:17.175387Z",
     "iopub.status.idle": "2022-07-17T17:33:17.181303Z",
     "shell.execute_reply": "2022-07-17T17:33:17.180829Z",
     "shell.execute_reply.started": "2022-07-17T17:33:17.175824Z"
    },
    "tags": []
   },
   "outputs": [
    {
     "data": {
      "text/plain": [
       "PosixPath('/home/jovyan/workspace/OC_AI_07/data/sentiment140.zip')"
      ]
     },
     "execution_count": 2,
     "metadata": {},
     "output_type": "execute_result"
    }
   ],
   "source": [
    "source = pathlib.Path(pathlib.Path().absolute(), 'data', 'sentiment140.zip')\n",
    "source "
   ]
  },
  {
   "cell_type": "raw",
   "id": "fdf5a743-81a7-48e1-b9ac-c51dc97262ec",
   "metadata": {
    "execution": {
     "iopub.execute_input": "2022-07-17T16:50:43.277553Z",
     "iopub.status.busy": "2022-07-17T16:50:43.277190Z",
     "iopub.status.idle": "2022-07-17T16:50:43.281267Z",
     "shell.execute_reply": "2022-07-17T16:50:43.280581Z",
     "shell.execute_reply.started": "2022-07-17T16:50:43.277531Z"
    }
   },
   "source": [
    "# Method 1\n",
    "zip_file = ZipFile(source)\n",
    "data = pd.read_csv(zip_file.open('training.1600000.processed.noemoticon.csv'), encoding='cp1252')"
   ]
  },
  {
   "cell_type": "code",
   "execution_count": 3,
   "id": "95834e1d-5274-4f11-88cc-67b53a9c6e70",
   "metadata": {
    "execution": {
     "iopub.execute_input": "2022-07-17T17:33:20.078532Z",
     "iopub.status.busy": "2022-07-17T17:33:20.078170Z",
     "iopub.status.idle": "2022-07-17T17:33:25.097344Z",
     "shell.execute_reply": "2022-07-17T17:33:25.096785Z",
     "shell.execute_reply.started": "2022-07-17T17:33:20.078508Z"
    },
    "tags": []
   },
   "outputs": [],
   "source": [
    "# Method 2\n",
    "data = pd.read_csv(source, compression='zip', encoding='cp1252', header=None, names=['target', 'ids', 'date', 'flag', 'user', 'text'])"
   ]
  },
  {
   "cell_type": "code",
   "execution_count": 4,
   "id": "67d47bfa-8f8c-4b2d-861b-493a6a81f9b7",
   "metadata": {
    "execution": {
     "iopub.execute_input": "2022-07-17T17:33:26.303985Z",
     "iopub.status.busy": "2022-07-17T17:33:26.303612Z",
     "iopub.status.idle": "2022-07-17T17:33:26.308914Z",
     "shell.execute_reply": "2022-07-17T17:33:26.308433Z",
     "shell.execute_reply.started": "2022-07-17T17:33:26.303961Z"
    },
    "tags": []
   },
   "outputs": [
    {
     "data": {
      "text/plain": [
       "(1600000, 6)"
      ]
     },
     "execution_count": 4,
     "metadata": {},
     "output_type": "execute_result"
    }
   ],
   "source": [
    "data.shape"
   ]
  },
  {
   "cell_type": "code",
   "execution_count": 5,
   "id": "7070450c-de46-4293-a068-4dbf6fc15a26",
   "metadata": {
    "execution": {
     "iopub.execute_input": "2022-07-17T17:33:26.617686Z",
     "iopub.status.busy": "2022-07-17T17:33:26.617323Z",
     "iopub.status.idle": "2022-07-17T17:33:26.626433Z",
     "shell.execute_reply": "2022-07-17T17:33:26.625886Z",
     "shell.execute_reply.started": "2022-07-17T17:33:26.617662Z"
    },
    "tags": []
   },
   "outputs": [
    {
     "data": {
      "text/html": [
       "<div>\n",
       "<style scoped>\n",
       "    .dataframe tbody tr th:only-of-type {\n",
       "        vertical-align: middle;\n",
       "    }\n",
       "\n",
       "    .dataframe tbody tr th {\n",
       "        vertical-align: top;\n",
       "    }\n",
       "\n",
       "    .dataframe thead th {\n",
       "        text-align: right;\n",
       "    }\n",
       "</style>\n",
       "<table border=\"1\" class=\"dataframe\">\n",
       "  <thead>\n",
       "    <tr style=\"text-align: right;\">\n",
       "      <th></th>\n",
       "      <th>target</th>\n",
       "      <th>ids</th>\n",
       "      <th>date</th>\n",
       "      <th>flag</th>\n",
       "      <th>user</th>\n",
       "      <th>text</th>\n",
       "    </tr>\n",
       "  </thead>\n",
       "  <tbody>\n",
       "    <tr>\n",
       "      <th>0</th>\n",
       "      <td>0</td>\n",
       "      <td>1467810369</td>\n",
       "      <td>Mon Apr 06 22:19:45 PDT 2009</td>\n",
       "      <td>NO_QUERY</td>\n",
       "      <td>_TheSpecialOne_</td>\n",
       "      <td>@switchfoot http://twitpic.com/2y1zl - Awww, t...</td>\n",
       "    </tr>\n",
       "    <tr>\n",
       "      <th>1</th>\n",
       "      <td>0</td>\n",
       "      <td>1467810672</td>\n",
       "      <td>Mon Apr 06 22:19:49 PDT 2009</td>\n",
       "      <td>NO_QUERY</td>\n",
       "      <td>scotthamilton</td>\n",
       "      <td>is upset that he can't update his Facebook by ...</td>\n",
       "    </tr>\n",
       "    <tr>\n",
       "      <th>2</th>\n",
       "      <td>0</td>\n",
       "      <td>1467810917</td>\n",
       "      <td>Mon Apr 06 22:19:53 PDT 2009</td>\n",
       "      <td>NO_QUERY</td>\n",
       "      <td>mattycus</td>\n",
       "      <td>@Kenichan I dived many times for the ball. Man...</td>\n",
       "    </tr>\n",
       "    <tr>\n",
       "      <th>3</th>\n",
       "      <td>0</td>\n",
       "      <td>1467811184</td>\n",
       "      <td>Mon Apr 06 22:19:57 PDT 2009</td>\n",
       "      <td>NO_QUERY</td>\n",
       "      <td>ElleCTF</td>\n",
       "      <td>my whole body feels itchy and like its on fire</td>\n",
       "    </tr>\n",
       "    <tr>\n",
       "      <th>4</th>\n",
       "      <td>0</td>\n",
       "      <td>1467811193</td>\n",
       "      <td>Mon Apr 06 22:19:57 PDT 2009</td>\n",
       "      <td>NO_QUERY</td>\n",
       "      <td>Karoli</td>\n",
       "      <td>@nationwideclass no, it's not behaving at all....</td>\n",
       "    </tr>\n",
       "  </tbody>\n",
       "</table>\n",
       "</div>"
      ],
      "text/plain": [
       "   target         ids                          date      flag  \\\n",
       "0       0  1467810369  Mon Apr 06 22:19:45 PDT 2009  NO_QUERY   \n",
       "1       0  1467810672  Mon Apr 06 22:19:49 PDT 2009  NO_QUERY   \n",
       "2       0  1467810917  Mon Apr 06 22:19:53 PDT 2009  NO_QUERY   \n",
       "3       0  1467811184  Mon Apr 06 22:19:57 PDT 2009  NO_QUERY   \n",
       "4       0  1467811193  Mon Apr 06 22:19:57 PDT 2009  NO_QUERY   \n",
       "\n",
       "              user                                               text  \n",
       "0  _TheSpecialOne_  @switchfoot http://twitpic.com/2y1zl - Awww, t...  \n",
       "1    scotthamilton  is upset that he can't update his Facebook by ...  \n",
       "2         mattycus  @Kenichan I dived many times for the ball. Man...  \n",
       "3          ElleCTF    my whole body feels itchy and like its on fire   \n",
       "4           Karoli  @nationwideclass no, it's not behaving at all....  "
      ]
     },
     "execution_count": 5,
     "metadata": {},
     "output_type": "execute_result"
    }
   ],
   "source": [
    "data.head()"
   ]
  },
  {
   "cell_type": "code",
   "execution_count": 6,
   "id": "f1a691e1-276d-493a-a009-40d951266d75",
   "metadata": {
    "execution": {
     "iopub.execute_input": "2022-07-17T17:33:27.457743Z",
     "iopub.status.busy": "2022-07-17T17:33:27.457382Z",
     "iopub.status.idle": "2022-07-17T17:33:28.054232Z",
     "shell.execute_reply": "2022-07-17T17:33:28.053660Z",
     "shell.execute_reply.started": "2022-07-17T17:33:27.457721Z"
    },
    "tags": []
   },
   "outputs": [],
   "source": [
    "data = data.astype({\"target\": bool, \"ids\": str})"
   ]
  },
  {
   "cell_type": "code",
   "execution_count": 7,
   "id": "641d3063-b063-43af-b5b6-94b9e790f0e5",
   "metadata": {
    "execution": {
     "iopub.execute_input": "2022-07-17T17:33:28.056190Z",
     "iopub.status.busy": "2022-07-17T17:33:28.055558Z",
     "iopub.status.idle": "2022-07-17T17:33:32.845519Z",
     "shell.execute_reply": "2022-07-17T17:33:32.844825Z",
     "shell.execute_reply.started": "2022-07-17T17:33:28.056155Z"
    },
    "tags": []
   },
   "outputs": [
    {
     "data": {
      "text/html": [
       "<div>\n",
       "<style scoped>\n",
       "    .dataframe tbody tr th:only-of-type {\n",
       "        vertical-align: middle;\n",
       "    }\n",
       "\n",
       "    .dataframe tbody tr th {\n",
       "        vertical-align: top;\n",
       "    }\n",
       "\n",
       "    .dataframe thead th {\n",
       "        text-align: right;\n",
       "    }\n",
       "</style>\n",
       "<table border=\"1\" class=\"dataframe\">\n",
       "  <thead>\n",
       "    <tr style=\"text-align: right;\">\n",
       "      <th></th>\n",
       "      <th>count</th>\n",
       "      <th>unique</th>\n",
       "      <th>top</th>\n",
       "      <th>freq</th>\n",
       "    </tr>\n",
       "  </thead>\n",
       "  <tbody>\n",
       "    <tr>\n",
       "      <th>target</th>\n",
       "      <td>1600000</td>\n",
       "      <td>2</td>\n",
       "      <td>False</td>\n",
       "      <td>800000</td>\n",
       "    </tr>\n",
       "    <tr>\n",
       "      <th>ids</th>\n",
       "      <td>1600000</td>\n",
       "      <td>1598315</td>\n",
       "      <td>2190457769</td>\n",
       "      <td>2</td>\n",
       "    </tr>\n",
       "    <tr>\n",
       "      <th>date</th>\n",
       "      <td>1600000</td>\n",
       "      <td>774363</td>\n",
       "      <td>Mon Jun 15 12:53:14 PDT 2009</td>\n",
       "      <td>20</td>\n",
       "    </tr>\n",
       "    <tr>\n",
       "      <th>flag</th>\n",
       "      <td>1600000</td>\n",
       "      <td>1</td>\n",
       "      <td>NO_QUERY</td>\n",
       "      <td>1600000</td>\n",
       "    </tr>\n",
       "    <tr>\n",
       "      <th>user</th>\n",
       "      <td>1600000</td>\n",
       "      <td>659775</td>\n",
       "      <td>lost_dog</td>\n",
       "      <td>549</td>\n",
       "    </tr>\n",
       "    <tr>\n",
       "      <th>text</th>\n",
       "      <td>1600000</td>\n",
       "      <td>1581466</td>\n",
       "      <td>isPlayer Has Died! Sorry</td>\n",
       "      <td>210</td>\n",
       "    </tr>\n",
       "  </tbody>\n",
       "</table>\n",
       "</div>"
      ],
      "text/plain": [
       "          count   unique                           top     freq\n",
       "target  1600000        2                         False   800000\n",
       "ids     1600000  1598315                    2190457769        2\n",
       "date    1600000   774363  Mon Jun 15 12:53:14 PDT 2009       20\n",
       "flag    1600000        1                      NO_QUERY  1600000\n",
       "user    1600000   659775                      lost_dog      549\n",
       "text    1600000  1581466     isPlayer Has Died! Sorry       210"
      ]
     },
     "execution_count": 7,
     "metadata": {},
     "output_type": "execute_result"
    }
   ],
   "source": [
    "data.describe(exclude='number').T"
   ]
  },
  {
   "cell_type": "code",
   "execution_count": 8,
   "id": "0e25972e-ff60-43b2-8c65-8ab90fa44728",
   "metadata": {
    "execution": {
     "iopub.execute_input": "2022-07-17T17:33:32.846756Z",
     "iopub.status.busy": "2022-07-17T17:33:32.846484Z",
     "iopub.status.idle": "2022-07-17T17:33:32.854205Z",
     "shell.execute_reply": "2022-07-17T17:33:32.853608Z",
     "shell.execute_reply.started": "2022-07-17T17:33:32.846737Z"
    },
    "tags": []
   },
   "outputs": [
    {
     "data": {
      "text/html": [
       "<div>\n",
       "<style scoped>\n",
       "    .dataframe tbody tr th:only-of-type {\n",
       "        vertical-align: middle;\n",
       "    }\n",
       "\n",
       "    .dataframe tbody tr th {\n",
       "        vertical-align: top;\n",
       "    }\n",
       "\n",
       "    .dataframe thead th {\n",
       "        text-align: right;\n",
       "    }\n",
       "</style>\n",
       "<table border=\"1\" class=\"dataframe\">\n",
       "  <thead>\n",
       "    <tr style=\"text-align: right;\">\n",
       "      <th></th>\n",
       "      <th>target</th>\n",
       "      <th>ids</th>\n",
       "      <th>date</th>\n",
       "      <th>flag</th>\n",
       "      <th>user</th>\n",
       "      <th>text</th>\n",
       "    </tr>\n",
       "  </thead>\n",
       "  <tbody>\n",
       "    <tr>\n",
       "      <th>0</th>\n",
       "      <td>False</td>\n",
       "      <td>1467810369</td>\n",
       "      <td>Mon Apr 06 22:19:45 PDT 2009</td>\n",
       "      <td>NO_QUERY</td>\n",
       "      <td>_TheSpecialOne_</td>\n",
       "      <td>@switchfoot http://twitpic.com/2y1zl - Awww, t...</td>\n",
       "    </tr>\n",
       "    <tr>\n",
       "      <th>1</th>\n",
       "      <td>False</td>\n",
       "      <td>1467810672</td>\n",
       "      <td>Mon Apr 06 22:19:49 PDT 2009</td>\n",
       "      <td>NO_QUERY</td>\n",
       "      <td>scotthamilton</td>\n",
       "      <td>is upset that he can't update his Facebook by ...</td>\n",
       "    </tr>\n",
       "    <tr>\n",
       "      <th>2</th>\n",
       "      <td>False</td>\n",
       "      <td>1467810917</td>\n",
       "      <td>Mon Apr 06 22:19:53 PDT 2009</td>\n",
       "      <td>NO_QUERY</td>\n",
       "      <td>mattycus</td>\n",
       "      <td>@Kenichan I dived many times for the ball. Man...</td>\n",
       "    </tr>\n",
       "    <tr>\n",
       "      <th>3</th>\n",
       "      <td>False</td>\n",
       "      <td>1467811184</td>\n",
       "      <td>Mon Apr 06 22:19:57 PDT 2009</td>\n",
       "      <td>NO_QUERY</td>\n",
       "      <td>ElleCTF</td>\n",
       "      <td>my whole body feels itchy and like its on fire</td>\n",
       "    </tr>\n",
       "    <tr>\n",
       "      <th>4</th>\n",
       "      <td>False</td>\n",
       "      <td>1467811193</td>\n",
       "      <td>Mon Apr 06 22:19:57 PDT 2009</td>\n",
       "      <td>NO_QUERY</td>\n",
       "      <td>Karoli</td>\n",
       "      <td>@nationwideclass no, it's not behaving at all....</td>\n",
       "    </tr>\n",
       "  </tbody>\n",
       "</table>\n",
       "</div>"
      ],
      "text/plain": [
       "   target         ids                          date      flag  \\\n",
       "0   False  1467810369  Mon Apr 06 22:19:45 PDT 2009  NO_QUERY   \n",
       "1   False  1467810672  Mon Apr 06 22:19:49 PDT 2009  NO_QUERY   \n",
       "2   False  1467810917  Mon Apr 06 22:19:53 PDT 2009  NO_QUERY   \n",
       "3   False  1467811184  Mon Apr 06 22:19:57 PDT 2009  NO_QUERY   \n",
       "4   False  1467811193  Mon Apr 06 22:19:57 PDT 2009  NO_QUERY   \n",
       "\n",
       "              user                                               text  \n",
       "0  _TheSpecialOne_  @switchfoot http://twitpic.com/2y1zl - Awww, t...  \n",
       "1    scotthamilton  is upset that he can't update his Facebook by ...  \n",
       "2         mattycus  @Kenichan I dived many times for the ball. Man...  \n",
       "3          ElleCTF    my whole body feels itchy and like its on fire   \n",
       "4           Karoli  @nationwideclass no, it's not behaving at all....  "
      ]
     },
     "execution_count": 8,
     "metadata": {},
     "output_type": "execute_result"
    }
   ],
   "source": [
    "data.head()"
   ]
  },
  {
   "cell_type": "code",
   "execution_count": 9,
   "id": "990179f5-047b-4748-9412-87ac485e15ed",
   "metadata": {
    "execution": {
     "iopub.execute_input": "2022-07-17T17:33:32.855371Z",
     "iopub.status.busy": "2022-07-17T17:33:32.854964Z",
     "iopub.status.idle": "2022-07-17T17:33:32.867180Z",
     "shell.execute_reply": "2022-07-17T17:33:32.866573Z",
     "shell.execute_reply.started": "2022-07-17T17:33:32.855351Z"
    },
    "tags": []
   },
   "outputs": [
    {
     "data": {
      "text/plain": [
       "False    800000\n",
       "True     800000\n",
       "Name: target, dtype: int64"
      ]
     },
     "execution_count": 9,
     "metadata": {},
     "output_type": "execute_result"
    }
   ],
   "source": [
    "data.target.value_counts()"
   ]
  },
  {
   "cell_type": "code",
   "execution_count": 10,
   "id": "0fa91ebc-ba04-483d-bcea-7107017fbff5",
   "metadata": {
    "execution": {
     "iopub.execute_input": "2022-07-17T17:33:32.868704Z",
     "iopub.status.busy": "2022-07-17T17:33:32.868262Z",
     "iopub.status.idle": "2022-07-17T17:33:33.004755Z",
     "shell.execute_reply": "2022-07-17T17:33:33.004166Z",
     "shell.execute_reply.started": "2022-07-17T17:33:32.868685Z"
    },
    "tags": []
   },
   "outputs": [
    {
     "data": {
      "image/png": "[encoded data removed]",
      "text/plain": [
       "<Figure size 1080x504 with 1 Axes>"
      ]
     },
     "metadata": {
      "needs_background": "light"
     },
     "output_type": "display_data"
    }
   ],
   "source": [
    "fig = plt.figure(figsize=(15, 7))\n",
    "sns.barplot(data=data.target.value_counts().reset_index().rename(columns={'target':'count', 'index':'target'}), x='target', y='count')\n",
    "plt.show()"
   ]
  },
  {
   "cell_type": "code",
   "execution_count": null,
   "id": "0879ddbf-d44e-40b9-9d2d-42dfc668c8f7",
   "metadata": {},
   "outputs": [],
   "source": []
  }
 ],
 "metadata": {
  "kernelspec": {
   "display_name": "saturn (Python 3)",
   "language": "python",
   "name": "python3"
  },
  "language_info": {
   "codemirror_mode": {
    "name": "ipython",
    "version": 3
   },
   "file_extension": ".py",
   "mimetype": "text/x-python",
   "name": "python",
   "nbconvert_exporter": "python",
   "pygments_lexer": "ipython3",
   "version": "3.9.12"
  }
 },
 "nbformat": 4,
 "nbformat_minor": 5
}
