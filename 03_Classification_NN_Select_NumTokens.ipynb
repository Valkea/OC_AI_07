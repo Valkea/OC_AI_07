{
 "cells": [
  {
   "cell_type": "markdown",
   "id": "85f62893-0675-4590-a1d6-7e07e0e2c919",
   "metadata": {},
   "source": [
    "# Menu <a class=\"anchor\" id=\"menu\"></a>\n",
    "   \n",
    "* [1. Préparatifs](#init)\n",
    "* [2. Recherche de la `taille de Tokenization` la plus adaptée](#TOKENSIZE)\n",
    "    * [2.1 Tokenisation avec 100K samples](#TOKENSIZE_100K)\n",
    "        * [1000 Tokens](#TOKENSIZE_1000)\n",
    "        * [2500 Tokens](#TOKENSIZE_2500)\n",
    "        * [5000 Tokens](#TOKENSIZE_5000)\n",
    "        * [7500 Tokens](#TOKENSIZE_7500)\n",
    "        * [10000 Tokens](#TOKENSIZE_10000)\n",
    "        * [15000 Tokens](#TOKENSIZE_15000)\n",
    "        * [20000 Tokens](#TOKENSIZE_20000)\n",
    "        * [50000 Tokens](#TOKENSIZE_50000)\n",
    "        * [100 Tokens](#TOKENSIZE_100)\n",
    "        * [4000 Tokens](#TOKENSIZE_4000)\n",
    "        * [6000 Tokens](#TOKENSIZE_6000)\n",
    "        * [3000 Tokens](#TOKENSIZE_3000)\n",
    "        * [3500 Tokens](#TOKENSIZE_3500)\n",
    "        * [4500 Tokens](#TOKENSIZE_4500)\n",
    "    * [2.2 Tokenisation avec tout le jeu de données](#TOKENSIZE_full)\n",
    "    * [2.3 Comparaison des scores](#TOKENIZE_scores)"
   ]
  },
  {
   "cell_type": "code",
   "execution_count": 1,
   "id": "3a1eb694-76ee-4986-a77e-5559cf2fc02f",
   "metadata": {
    "execution": {
     "iopub.execute_input": "2022-08-02T16:06:02.483199Z",
     "iopub.status.busy": "2022-08-02T16:06:02.482954Z",
     "iopub.status.idle": "2022-08-02T16:06:04.945737Z",
     "shell.execute_reply": "2022-08-02T16:06:04.944968Z",
     "shell.execute_reply.started": "2022-08-02T16:06:02.483140Z"
    },
    "tags": []
   },
   "outputs": [
    {
     "name": "stderr",
     "output_type": "stream",
     "text": [
      "2022-08-02 16:06:03.808177: I tensorflow/stream_executor/platform/default/dso_loader.cc:49] Successfully opened dynamic library libcudart.so.10.1\n"
     ]
    }
   ],
   "source": [
    "import os\n",
    "import time\n",
    "import pathlib\n",
    "\n",
    "import joblib\n",
    "import pandas as pd\n",
    "import numpy as np\n",
    "\n",
    "import matplotlib.pyplot as plt\n",
    "\n",
    "from sklearn.model_selection import train_test_split\n",
    "import tensorflow as tf\n",
    "from tensorflow import keras\n",
    "from keras.preprocessing.text import Tokenizer\n",
    "try:\n",
    "    from keras.utils import pad_sequences\n",
    "except ImportError:\n",
    "    from keras.preprocessing.sequence import pad_sequences\n",
    "\n",
    "import joblib\n",
    "\n",
    "random_seed = 0\n",
    "np.random.seed(random_seed)\n",
    "\n",
    "# set random seed for keras reproductibility\n",
    "try:\n",
    "    keras.utils.set_random_seed(random_seed)\n",
    "except Exception:\n",
    "    tf.random.set_seed(random_seed)"
   ]
  },
  {
   "cell_type": "markdown",
   "id": "b9aa1358-0b21-45d4-9800-a42e8cc7a0ed",
   "metadata": {},
   "source": [
    "---\n",
    "---\n",
    "# 1. Préparatifs pour de la classification avec des réseaux de neurones <a class=\"anchor\" id=\"init\"></a> [⇪](#menu)"
   ]
  },
  {
   "cell_type": "markdown",
   "id": "a26b9684-567e-4a6c-a94c-bbe4ff1aa37f",
   "metadata": {},
   "source": [
    "#### Chargeons les fonctions de classification écrites sur les projets précédents"
   ]
  },
  {
   "cell_type": "code",
   "execution_count": 2,
   "id": "e83c4df3-3ab7-43c3-91e1-b12513e430ba",
   "metadata": {
    "execution": {
     "iopub.execute_input": "2022-08-02T16:06:04.948432Z",
     "iopub.status.busy": "2022-08-02T16:06:04.947771Z",
     "iopub.status.idle": "2022-08-02T16:06:04.956911Z",
     "shell.execute_reply": "2022-08-02T16:06:04.956289Z",
     "shell.execute_reply.started": "2022-08-02T16:06:04.948394Z"
    },
    "tags": []
   },
   "outputs": [],
   "source": [
    "from classification_utils import fit_model, get_scores, init_scores\n",
    "\n",
    "init_scores(\"data/scores_NN.csv\")"
   ]
  },
  {
   "cell_type": "markdown",
   "id": "e719f880-11c9-48ae-a953-9deab36ea2b2",
   "metadata": {},
   "source": [
    "#### Définissons les fonctions génériques de notre Spot Checking "
   ]
  },
  {
   "cell_type": "code",
   "execution_count": 3,
   "id": "741264c3-899e-4f0a-b250-62bd2dae6b40",
   "metadata": {
    "execution": {
     "iopub.execute_input": "2022-08-02T16:06:04.959147Z",
     "iopub.status.busy": "2022-08-02T16:06:04.958845Z",
     "iopub.status.idle": "2022-08-02T16:06:04.962559Z",
     "shell.execute_reply": "2022-08-02T16:06:04.961696Z",
     "shell.execute_reply.started": "2022-08-02T16:06:04.959125Z"
    },
    "tags": []
   },
   "outputs": [],
   "source": [
    "from keras import layers\n",
    "from keras.callbacks import EarlyStopping, ModelCheckpoint, Callback, ReduceLROnPlateau"
   ]
  },
  {
   "cell_type": "code",
   "execution_count": 4,
   "id": "0c1bb795-0d1a-4e1d-b2d7-1dd68949631f",
   "metadata": {
    "execution": {
     "iopub.execute_input": "2022-08-02T16:06:04.963805Z",
     "iopub.status.busy": "2022-08-02T16:06:04.963501Z",
     "iopub.status.idle": "2022-08-02T16:06:04.969651Z",
     "shell.execute_reply": "2022-08-02T16:06:04.968929Z",
     "shell.execute_reply.started": "2022-08-02T16:06:04.963783Z"
    },
    "tags": []
   },
   "outputs": [],
   "source": [
    "def summarize_diagnostics(history):\n",
    "    \n",
    "    figure = plt.figure(figsize=(8,8))\n",
    "            \n",
    "    # plot loss\n",
    "    plt.subplot(211)\n",
    "    plt.title('Cross Entropy Loss')\n",
    "    plt.plot(history.history['loss'], color='blue', label='train')\n",
    "    plt.plot(history.history['val_loss'], color='orange', label='val')\n",
    "    plt.legend()\n",
    "    \n",
    "    # plot accuracy\n",
    "    plt.subplot(212)\n",
    "    plt.title('Classification Accuracy')\n",
    "    plt.plot(history.history['accuracy'], color='blue', label='train')\n",
    "    plt.plot(history.history['val_accuracy'], color='orange', label='val')\n",
    "    plt.legend()\n",
    "    \n",
    "    # save plot to file\n",
    "    #filename = sys.argv[0].split('/')[-1]\n",
    "    #plt.savefig(filename + '_plot.png')\n",
    "    #plt.close()\n",
    "    \n",
    "    plt.tight_layout(pad=1.0)"
   ]
  },
  {
   "cell_type": "code",
   "execution_count": 5,
   "id": "e0379765-fc98-4535-a083-4b22258490ee",
   "metadata": {
    "execution": {
     "iopub.execute_input": "2022-08-02T16:06:04.970935Z",
     "iopub.status.busy": "2022-08-02T16:06:04.970607Z",
     "iopub.status.idle": "2022-08-02T16:06:04.975993Z",
     "shell.execute_reply": "2022-08-02T16:06:04.975319Z",
     "shell.execute_reply.started": "2022-08-02T16:06:04.970889Z"
    },
    "tags": []
   },
   "outputs": [],
   "source": [
    "def init_callbacks(model_name):\n",
    "\n",
    "    # Define savepoints\n",
    "    filepath = pathlib.Path(\"models\", f\"{model_name}.epoch{{epoch:02d}}-accuracy{{val_accuracy:.2f}}.hdf5\")\n",
    "\n",
    "    checkpoint = ModelCheckpoint(\n",
    "        monitor=\"val_accuracy\",\n",
    "        mode=\"max\",\n",
    "        filepath=filepath,\n",
    "        save_best_only=True,\n",
    "        save_weights_only=True,\n",
    "        verbose=1,\n",
    "    )\n",
    "\n",
    "    # Define EarlyStopping conditions\n",
    "    es = EarlyStopping(\n",
    "        monitor='val_loss', # 'binary_accuracy'\n",
    "        mode='min', # 'max'\n",
    "        patience=10,  # 6 because ReduceLROnPlateau is 5 \n",
    "        min_delta=0.01, \n",
    "        restore_best_weights=True, \n",
    "        verbose=1,\n",
    "    )\n",
    "\n",
    "    # Define Automatic LearningRate adjustments\n",
    "    lr_reducer = ReduceLROnPlateau(\n",
    "        monitor='val_loss',\n",
    "        mode='min',\n",
    "        factor=0.1,\n",
    "        cooldown=5,\n",
    "        patience=5,\n",
    "        min_lr= 0.1e-5,\n",
    "        verbose=1,\n",
    "    )\n",
    "    \n",
    "    return [checkpoint, es, lr_reducer]"
   ]
  },
  {
   "cell_type": "markdown",
   "id": "8e8b5c87-63eb-4c01-87e3-d65c7deeb422",
   "metadata": {
    "id": "d5becdef-5d03-4ac6-ba08-94715061dc51"
   },
   "source": [
    "#### Définissons une méthode de `cross-validation`"
   ]
  },
  {
   "cell_type": "code",
   "execution_count": 6,
   "id": "bafe04e5-7202-43dc-981d-e6ea15c02e02",
   "metadata": {
    "execution": {
     "iopub.execute_input": "2022-08-02T16:06:04.977127Z",
     "iopub.status.busy": "2022-08-02T16:06:04.976831Z",
     "iopub.status.idle": "2022-08-02T16:06:04.982198Z",
     "shell.execute_reply": "2022-08-02T16:06:04.981672Z",
     "shell.execute_reply.started": "2022-08-02T16:06:04.977107Z"
    },
    "id": "bd3e09fc-72fa-4be3-9b2f-a48051235a2f",
    "tags": []
   },
   "outputs": [],
   "source": [
    "from sklearn.model_selection import StratifiedKFold\n",
    "\n",
    "skfold = StratifiedKFold(n_splits=5, shuffle=True, random_state=random_seed)"
   ]
  },
  {
   "cell_type": "markdown",
   "id": "f0fda1be-f6a8-4cf9-8d52-9742cb23793b",
   "metadata": {},
   "source": [
    "#### Définissons la taille de batch utilisé"
   ]
  },
  {
   "cell_type": "code",
   "execution_count": 7,
   "id": "90fdd6a0-4a31-4616-acc9-4438bdf4e03b",
   "metadata": {
    "execution": {
     "iopub.execute_input": "2022-08-02T16:06:04.984883Z",
     "iopub.status.busy": "2022-08-02T16:06:04.984310Z",
     "iopub.status.idle": "2022-08-02T16:06:04.987890Z",
     "shell.execute_reply": "2022-08-02T16:06:04.987301Z",
     "shell.execute_reply.started": "2022-08-02T16:06:04.984860Z"
    },
    "tags": []
   },
   "outputs": [],
   "source": [
    "batch_size = 8192 # 4096"
   ]
  },
  {
   "cell_type": "markdown",
   "id": "148de91c-3b1e-4acc-92a1-de29452a116f",
   "metadata": {},
   "source": [
    "---\n",
    "---\n",
    "# 2. Recherche de la `taille de Tokenization` la plus adaptée <a class=\"anchor\" id=\"TOKENSIZE\"></a> [⇪](#menu)"
   ]
  },
  {
   "cell_type": "markdown",
   "id": "56a006d6-29bc-4bf5-9b75-a02ad6a4929a",
   "metadata": {},
   "source": [
    "Pour rechercher le pré-traitement le plus adapté, nous allons essayer différents jeux de données préparés lors de l'EDA.\n",
    "Mais pour éviter tout autre changement, nous allons dans un premier temps définir une architecture NN simple et un Embedding de base que nous allons utiliser pour comparer l'influence des différents pré-traitement."
   ]
  },
  {
   "cell_type": "code",
   "execution_count": 8,
   "id": "9eff1eb5-9698-41e3-9eb0-28479b34bb4e",
   "metadata": {
    "execution": {
     "iopub.execute_input": "2022-08-02T16:06:04.988981Z",
     "iopub.status.busy": "2022-08-02T16:06:04.988613Z",
     "iopub.status.idle": "2022-08-02T16:06:04.993614Z",
     "shell.execute_reply": "2022-08-02T16:06:04.992968Z",
     "shell.execute_reply.started": "2022-08-02T16:06:04.988959Z"
    },
    "tags": []
   },
   "outputs": [],
   "source": [
    "def architecture01(f_opti, f_loss, f_metrics, embedding):\n",
    "        \n",
    "    inputs = keras.Input(shape=(None,), dtype=\"int64\")\n",
    "    \n",
    "    x = embedding(inputs)\n",
    "    x = layers.Bidirectional(layers.LSTM(64))(x)\n",
    "    x = layers.Dense(24, activation='relu')(x)\n",
    "    \n",
    "    predictions = layers.Dense(1, activation='sigmoid', name='predictions')(x)\n",
    "    \n",
    "    model = keras.Model(inputs, predictions)\n",
    "    model.compile(loss=f_loss, optimizer=f_opti, metrics=f_metrics)\n",
    "    \n",
    "    return model"
   ]
  },
  {
   "cell_type": "markdown",
   "id": "9548e5da-81ad-4c25-a37f-f2ac97f9a2ab",
   "metadata": {},
   "source": [
    "### Chargeons le jeu de données avec toutes les étapes de pré-processing faites dans 01_EDA.ipynb"
   ]
  },
  {
   "cell_type": "code",
   "execution_count": 9,
   "id": "a3bbbd2d-f5d6-4852-98f6-dcf4f1fb9eea",
   "metadata": {
    "execution": {
     "iopub.execute_input": "2022-08-02T16:06:04.994661Z",
     "iopub.status.busy": "2022-08-02T16:06:04.994393Z",
     "iopub.status.idle": "2022-08-02T16:06:16.602138Z",
     "shell.execute_reply": "2022-08-02T16:06:16.601395Z",
     "shell.execute_reply.started": "2022-08-02T16:06:04.994641Z"
    },
    "tags": []
   },
   "outputs": [
    {
     "data": {
      "text/html": [
       "<div>\n",
       "<style scoped>\n",
       "    .dataframe tbody tr th:only-of-type {\n",
       "        vertical-align: middle;\n",
       "    }\n",
       "\n",
       "    .dataframe tbody tr th {\n",
       "        vertical-align: top;\n",
       "    }\n",
       "\n",
       "    .dataframe thead th {\n",
       "        text-align: right;\n",
       "    }\n",
       "</style>\n",
       "<table border=\"1\" class=\"dataframe\">\n",
       "  <thead>\n",
       "    <tr style=\"text-align: right;\">\n",
       "      <th></th>\n",
       "      <th>target</th>\n",
       "      <th>text</th>\n",
       "      <th>text_clean</th>\n",
       "      <th>tokens</th>\n",
       "      <th>tokens_filtered_advanced</th>\n",
       "      <th>tokens_filtered_simple</th>\n",
       "      <th>lemmas_filtered_advanced</th>\n",
       "      <th>lemmas_filtered_simple</th>\n",
       "      <th>lemmas_not_filtered</th>\n",
       "    </tr>\n",
       "  </thead>\n",
       "  <tbody>\n",
       "    <tr>\n",
       "      <th>0</th>\n",
       "      <td>0</td>\n",
       "      <td>@switchfoot http://twitpic.com/2y1zl - Awww, t...</td>\n",
       "      <td>$URL$ - Awww, that's a bummer. You shoulda got...</td>\n",
       "      <td>$ url$ - awww , that 's a bummer . you shoulda...</td>\n",
       "      <td>bummer shoulda got day d</td>\n",
       "      <td>bummer shoulda got day d</td>\n",
       "      <td>bummer shoulda get day d</td>\n",
       "      <td>bummer shoulda get day d</td>\n",
       "      <td>$ url$ - awww , that be a bummer . you shoulda...</td>\n",
       "    </tr>\n",
       "    <tr>\n",
       "      <th>1</th>\n",
       "      <td>0</td>\n",
       "      <td>is upset that he can't update his Facebook by ...</td>\n",
       "      <td>is upset that he can't update his Facebook by ...</td>\n",
       "      <td>is upset that he ca n't update his facebook by...</td>\n",
       "      <td>upset update facebook texting cry result schoo...</td>\n",
       "      <td>upset update facebook texting cry result schoo...</td>\n",
       "      <td>upset update facebook texte cry result school ...</td>\n",
       "      <td>upset update facebook texte cry result school ...</td>\n",
       "      <td>be upset that he can not update his facebook b...</td>\n",
       "    </tr>\n",
       "    <tr>\n",
       "      <th>2</th>\n",
       "      <td>0</td>\n",
       "      <td>@Kenichan I dived many times for the ball. Man...</td>\n",
       "      <td>I dived many times for the ball. Managed to sa...</td>\n",
       "      <td>i dived many times for the ball . managed to s...</td>\n",
       "      <td>dived times ball managed save 50 % rest bounds</td>\n",
       "      <td>dived times ball managed save 50 % rest bounds</td>\n",
       "      <td>dive time ball manage save 50 % rest bound</td>\n",
       "      <td>dive time ball manage save 50 % rest bound</td>\n",
       "      <td>I dive many time for the ball . manage to save...</td>\n",
       "    </tr>\n",
       "    <tr>\n",
       "      <th>3</th>\n",
       "      <td>0</td>\n",
       "      <td>my whole body feels itchy and like its on fire</td>\n",
       "      <td>my whole body feels itchy and like its on fire</td>\n",
       "      <td>my whole body feels itchy and like its on fire</td>\n",
       "      <td>body feels itchy like fire</td>\n",
       "      <td>body feels itchy like fire</td>\n",
       "      <td>body feel itchy like fire</td>\n",
       "      <td>body feel itchy like fire</td>\n",
       "      <td>my whole body feel itchy and like its on fire</td>\n",
       "    </tr>\n",
       "    <tr>\n",
       "      <th>4</th>\n",
       "      <td>0</td>\n",
       "      <td>@nationwideclass no, it's not behaving at all....</td>\n",
       "      <td>no, it's not behaving at all. i'm mad. why am ...</td>\n",
       "      <td>no , it 's not behaving at all . i 'm mad . wh...</td>\n",
       "      <td>behaving mad</td>\n",
       "      <td>behaving mad</td>\n",
       "      <td>behave mad</td>\n",
       "      <td>behave mad</td>\n",
       "      <td>no , it be not behave at all . I be mad . why ...</td>\n",
       "    </tr>\n",
       "  </tbody>\n",
       "</table>\n",
       "</div>"
      ],
      "text/plain": [
       "   target                                               text  \\\n",
       "0       0  @switchfoot http://twitpic.com/2y1zl - Awww, t...   \n",
       "1       0  is upset that he can't update his Facebook by ...   \n",
       "2       0  @Kenichan I dived many times for the ball. Man...   \n",
       "3       0    my whole body feels itchy and like its on fire    \n",
       "4       0  @nationwideclass no, it's not behaving at all....   \n",
       "\n",
       "                                          text_clean  \\\n",
       "0  $URL$ - Awww, that's a bummer. You shoulda got...   \n",
       "1  is upset that he can't update his Facebook by ...   \n",
       "2  I dived many times for the ball. Managed to sa...   \n",
       "3     my whole body feels itchy and like its on fire   \n",
       "4  no, it's not behaving at all. i'm mad. why am ...   \n",
       "\n",
       "                                              tokens  \\\n",
       "0  $ url$ - awww , that 's a bummer . you shoulda...   \n",
       "1  is upset that he ca n't update his facebook by...   \n",
       "2  i dived many times for the ball . managed to s...   \n",
       "3     my whole body feels itchy and like its on fire   \n",
       "4  no , it 's not behaving at all . i 'm mad . wh...   \n",
       "\n",
       "                            tokens_filtered_advanced  \\\n",
       "0                           bummer shoulda got day d   \n",
       "1  upset update facebook texting cry result schoo...   \n",
       "2     dived times ball managed save 50 % rest bounds   \n",
       "3                         body feels itchy like fire   \n",
       "4                                       behaving mad   \n",
       "\n",
       "                              tokens_filtered_simple  \\\n",
       "0                           bummer shoulda got day d   \n",
       "1  upset update facebook texting cry result schoo...   \n",
       "2     dived times ball managed save 50 % rest bounds   \n",
       "3                         body feels itchy like fire   \n",
       "4                                       behaving mad   \n",
       "\n",
       "                            lemmas_filtered_advanced  \\\n",
       "0                           bummer shoulda get day d   \n",
       "1  upset update facebook texte cry result school ...   \n",
       "2         dive time ball manage save 50 % rest bound   \n",
       "3                          body feel itchy like fire   \n",
       "4                                         behave mad   \n",
       "\n",
       "                              lemmas_filtered_simple  \\\n",
       "0                           bummer shoulda get day d   \n",
       "1  upset update facebook texte cry result school ...   \n",
       "2         dive time ball manage save 50 % rest bound   \n",
       "3                          body feel itchy like fire   \n",
       "4                                         behave mad   \n",
       "\n",
       "                                 lemmas_not_filtered  \n",
       "0  $ url$ - awww , that be a bummer . you shoulda...  \n",
       "1  be upset that he can not update his facebook b...  \n",
       "2  I dive many time for the ball . manage to save...  \n",
       "3      my whole body feel itchy and like its on fire  \n",
       "4  no , it be not behave at all . I be mad . why ...  "
      ]
     },
     "metadata": {},
     "output_type": "display_data"
    },
    {
     "data": {
      "text/plain": [
       "(1452791, 9)"
      ]
     },
     "metadata": {},
     "output_type": "display_data"
    }
   ],
   "source": [
    "data_full = pd.read_csv(pathlib.Path(pathlib.Path().absolute(), 'data', 'data_nlp_1563108.csv'))\n",
    "display(data_full.head(), data_full.shape)"
   ]
  },
  {
   "cell_type": "markdown",
   "id": "ae43295d-9682-4430-b6f5-6d683bc5e897",
   "metadata": {},
   "source": [
    "### Préparons les jeux de données des differents pré-processing"
   ]
  },
  {
   "cell_type": "code",
   "execution_count": 10,
   "id": "81fcffa9-03a7-4f0f-be13-bf8fd6e0f88a",
   "metadata": {
    "execution": {
     "iopub.execute_input": "2022-08-02T16:06:16.603818Z",
     "iopub.status.busy": "2022-08-02T16:06:16.603408Z",
     "iopub.status.idle": "2022-08-02T16:06:16.912639Z",
     "shell.execute_reply": "2022-08-02T16:06:16.911687Z",
     "shell.execute_reply.started": "2022-08-02T16:06:16.603780Z"
    },
    "tags": []
   },
   "outputs": [
    {
     "name": "stdout",
     "output_type": "stream",
     "text": [
      "\n",
      " ----------------------- DATA RAW ----------------------\n"
     ]
    },
    {
     "data": {
      "text/html": [
       "<div>\n",
       "<style scoped>\n",
       "    .dataframe tbody tr th:only-of-type {\n",
       "        vertical-align: middle;\n",
       "    }\n",
       "\n",
       "    .dataframe tbody tr th {\n",
       "        vertical-align: top;\n",
       "    }\n",
       "\n",
       "    .dataframe thead th {\n",
       "        text-align: right;\n",
       "    }\n",
       "</style>\n",
       "<table border=\"1\" class=\"dataframe\">\n",
       "  <thead>\n",
       "    <tr style=\"text-align: right;\">\n",
       "      <th></th>\n",
       "      <th>target</th>\n",
       "      <th>text</th>\n",
       "    </tr>\n",
       "  </thead>\n",
       "  <tbody>\n",
       "    <tr>\n",
       "      <th>0</th>\n",
       "      <td>0</td>\n",
       "      <td>@switchfoot http://twitpic.com/2y1zl - Awww, t...</td>\n",
       "    </tr>\n",
       "    <tr>\n",
       "      <th>1</th>\n",
       "      <td>0</td>\n",
       "      <td>is upset that he can't update his Facebook by ...</td>\n",
       "    </tr>\n",
       "  </tbody>\n",
       "</table>\n",
       "</div>"
      ],
      "text/plain": [
       "   target                                               text\n",
       "0       0  @switchfoot http://twitpic.com/2y1zl - Awww, t...\n",
       "1       0  is upset that he can't update his Facebook by ..."
      ]
     },
     "metadata": {},
     "output_type": "display_data"
    },
    {
     "data": {
      "text/plain": [
       "(1452791, 2)"
      ]
     },
     "metadata": {},
     "output_type": "display_data"
    },
    {
     "name": "stdout",
     "output_type": "stream",
     "text": [
      "\n",
      " --------------- DATA TWITTER-PREPROCESS ---------------\n"
     ]
    },
    {
     "data": {
      "text/html": [
       "<div>\n",
       "<style scoped>\n",
       "    .dataframe tbody tr th:only-of-type {\n",
       "        vertical-align: middle;\n",
       "    }\n",
       "\n",
       "    .dataframe tbody tr th {\n",
       "        vertical-align: top;\n",
       "    }\n",
       "\n",
       "    .dataframe thead th {\n",
       "        text-align: right;\n",
       "    }\n",
       "</style>\n",
       "<table border=\"1\" class=\"dataframe\">\n",
       "  <thead>\n",
       "    <tr style=\"text-align: right;\">\n",
       "      <th></th>\n",
       "      <th>target</th>\n",
       "      <th>text_clean</th>\n",
       "    </tr>\n",
       "  </thead>\n",
       "  <tbody>\n",
       "    <tr>\n",
       "      <th>0</th>\n",
       "      <td>0</td>\n",
       "      <td>$URL$ - Awww, that's a bummer. You shoulda got...</td>\n",
       "    </tr>\n",
       "    <tr>\n",
       "      <th>1</th>\n",
       "      <td>0</td>\n",
       "      <td>is upset that he can't update his Facebook by ...</td>\n",
       "    </tr>\n",
       "  </tbody>\n",
       "</table>\n",
       "</div>"
      ],
      "text/plain": [
       "   target                                         text_clean\n",
       "0       0  $URL$ - Awww, that's a bummer. You shoulda got...\n",
       "1       0  is upset that he can't update his Facebook by ..."
      ]
     },
     "metadata": {},
     "output_type": "display_data"
    },
    {
     "data": {
      "text/plain": [
       "(1452791, 2)"
      ]
     },
     "metadata": {},
     "output_type": "display_data"
    },
    {
     "name": "stdout",
     "output_type": "stream",
     "text": [
      "\n",
      " ------------------ DATA SpaCy TOKENS ------------------\n"
     ]
    },
    {
     "data": {
      "text/html": [
       "<div>\n",
       "<style scoped>\n",
       "    .dataframe tbody tr th:only-of-type {\n",
       "        vertical-align: middle;\n",
       "    }\n",
       "\n",
       "    .dataframe tbody tr th {\n",
       "        vertical-align: top;\n",
       "    }\n",
       "\n",
       "    .dataframe thead th {\n",
       "        text-align: right;\n",
       "    }\n",
       "</style>\n",
       "<table border=\"1\" class=\"dataframe\">\n",
       "  <thead>\n",
       "    <tr style=\"text-align: right;\">\n",
       "      <th></th>\n",
       "      <th>target</th>\n",
       "      <th>tokens</th>\n",
       "    </tr>\n",
       "  </thead>\n",
       "  <tbody>\n",
       "    <tr>\n",
       "      <th>0</th>\n",
       "      <td>0</td>\n",
       "      <td>$ url$ - awww , that 's a bummer . you shoulda...</td>\n",
       "    </tr>\n",
       "    <tr>\n",
       "      <th>1</th>\n",
       "      <td>0</td>\n",
       "      <td>is upset that he ca n't update his facebook by...</td>\n",
       "    </tr>\n",
       "  </tbody>\n",
       "</table>\n",
       "</div>"
      ],
      "text/plain": [
       "   target                                             tokens\n",
       "0       0  $ url$ - awww , that 's a bummer . you shoulda...\n",
       "1       0  is upset that he ca n't update his facebook by..."
      ]
     },
     "metadata": {},
     "output_type": "display_data"
    },
    {
     "data": {
      "text/plain": [
       "(1452791, 2)"
      ]
     },
     "metadata": {},
     "output_type": "display_data"
    },
    {
     "name": "stdout",
     "output_type": "stream",
     "text": [
      "\n",
      " -------------- DATA SpaCy FILTERED TOKENS -------------\n"
     ]
    },
    {
     "data": {
      "text/html": [
       "<div>\n",
       "<style scoped>\n",
       "    .dataframe tbody tr th:only-of-type {\n",
       "        vertical-align: middle;\n",
       "    }\n",
       "\n",
       "    .dataframe tbody tr th {\n",
       "        vertical-align: top;\n",
       "    }\n",
       "\n",
       "    .dataframe thead th {\n",
       "        text-align: right;\n",
       "    }\n",
       "</style>\n",
       "<table border=\"1\" class=\"dataframe\">\n",
       "  <thead>\n",
       "    <tr style=\"text-align: right;\">\n",
       "      <th></th>\n",
       "      <th>target</th>\n",
       "      <th>tokens_filtered_advanced</th>\n",
       "    </tr>\n",
       "  </thead>\n",
       "  <tbody>\n",
       "    <tr>\n",
       "      <th>0</th>\n",
       "      <td>0</td>\n",
       "      <td>bummer shoulda got day d</td>\n",
       "    </tr>\n",
       "    <tr>\n",
       "      <th>1</th>\n",
       "      <td>0</td>\n",
       "      <td>upset update facebook texting cry result schoo...</td>\n",
       "    </tr>\n",
       "  </tbody>\n",
       "</table>\n",
       "</div>"
      ],
      "text/plain": [
       "   target                           tokens_filtered_advanced\n",
       "0       0                           bummer shoulda got day d\n",
       "1       0  upset update facebook texting cry result schoo..."
      ]
     },
     "metadata": {},
     "output_type": "display_data"
    },
    {
     "data": {
      "text/plain": [
       "(1452791, 2)"
      ]
     },
     "metadata": {},
     "output_type": "display_data"
    },
    {
     "name": "stdout",
     "output_type": "stream",
     "text": [
      "\n",
      " -- DATA SpaCy FILTERED TOKENS (avec filtrage simple) --\n"
     ]
    },
    {
     "data": {
      "text/html": [
       "<div>\n",
       "<style scoped>\n",
       "    .dataframe tbody tr th:only-of-type {\n",
       "        vertical-align: middle;\n",
       "    }\n",
       "\n",
       "    .dataframe tbody tr th {\n",
       "        vertical-align: top;\n",
       "    }\n",
       "\n",
       "    .dataframe thead th {\n",
       "        text-align: right;\n",
       "    }\n",
       "</style>\n",
       "<table border=\"1\" class=\"dataframe\">\n",
       "  <thead>\n",
       "    <tr style=\"text-align: right;\">\n",
       "      <th></th>\n",
       "      <th>target</th>\n",
       "      <th>tokens_filtered_advanced</th>\n",
       "    </tr>\n",
       "  </thead>\n",
       "  <tbody>\n",
       "    <tr>\n",
       "      <th>0</th>\n",
       "      <td>0</td>\n",
       "      <td>bummer shoulda got day d</td>\n",
       "    </tr>\n",
       "    <tr>\n",
       "      <th>1</th>\n",
       "      <td>0</td>\n",
       "      <td>upset update facebook texting cry result schoo...</td>\n",
       "    </tr>\n",
       "  </tbody>\n",
       "</table>\n",
       "</div>"
      ],
      "text/plain": [
       "   target                           tokens_filtered_advanced\n",
       "0       0                           bummer shoulda got day d\n",
       "1       0  upset update facebook texting cry result schoo..."
      ]
     },
     "metadata": {},
     "output_type": "display_data"
    },
    {
     "data": {
      "text/plain": [
       "(1452791, 2)"
      ]
     },
     "metadata": {},
     "output_type": "display_data"
    },
    {
     "name": "stdout",
     "output_type": "stream",
     "text": [
      "\n",
      " ------------------ DATA SpaCy LEMMAS ------------------\n"
     ]
    },
    {
     "data": {
      "text/html": [
       "<div>\n",
       "<style scoped>\n",
       "    .dataframe tbody tr th:only-of-type {\n",
       "        vertical-align: middle;\n",
       "    }\n",
       "\n",
       "    .dataframe tbody tr th {\n",
       "        vertical-align: top;\n",
       "    }\n",
       "\n",
       "    .dataframe thead th {\n",
       "        text-align: right;\n",
       "    }\n",
       "</style>\n",
       "<table border=\"1\" class=\"dataframe\">\n",
       "  <thead>\n",
       "    <tr style=\"text-align: right;\">\n",
       "      <th></th>\n",
       "      <th>target</th>\n",
       "      <th>lemmas_filtered_advanced</th>\n",
       "    </tr>\n",
       "  </thead>\n",
       "  <tbody>\n",
       "    <tr>\n",
       "      <th>0</th>\n",
       "      <td>0</td>\n",
       "      <td>bummer shoulda get day d</td>\n",
       "    </tr>\n",
       "    <tr>\n",
       "      <th>1</th>\n",
       "      <td>0</td>\n",
       "      <td>upset update facebook texte cry result school ...</td>\n",
       "    </tr>\n",
       "  </tbody>\n",
       "</table>\n",
       "</div>"
      ],
      "text/plain": [
       "   target                           lemmas_filtered_advanced\n",
       "0       0                           bummer shoulda get day d\n",
       "1       0  upset update facebook texte cry result school ..."
      ]
     },
     "metadata": {},
     "output_type": "display_data"
    },
    {
     "data": {
      "text/plain": [
       "(1452791, 2)"
      ]
     },
     "metadata": {},
     "output_type": "display_data"
    },
    {
     "name": "stdout",
     "output_type": "stream",
     "text": [
      "\n",
      " ------- DATA SpaCy LEMMAS (avec filtrage simple) ------\n"
     ]
    },
    {
     "data": {
      "text/html": [
       "<div>\n",
       "<style scoped>\n",
       "    .dataframe tbody tr th:only-of-type {\n",
       "        vertical-align: middle;\n",
       "    }\n",
       "\n",
       "    .dataframe tbody tr th {\n",
       "        vertical-align: top;\n",
       "    }\n",
       "\n",
       "    .dataframe thead th {\n",
       "        text-align: right;\n",
       "    }\n",
       "</style>\n",
       "<table border=\"1\" class=\"dataframe\">\n",
       "  <thead>\n",
       "    <tr style=\"text-align: right;\">\n",
       "      <th></th>\n",
       "      <th>target</th>\n",
       "      <th>lemmas_filtered_advanced</th>\n",
       "    </tr>\n",
       "  </thead>\n",
       "  <tbody>\n",
       "    <tr>\n",
       "      <th>0</th>\n",
       "      <td>0</td>\n",
       "      <td>bummer shoulda get day d</td>\n",
       "    </tr>\n",
       "    <tr>\n",
       "      <th>1</th>\n",
       "      <td>0</td>\n",
       "      <td>upset update facebook texte cry result school ...</td>\n",
       "    </tr>\n",
       "  </tbody>\n",
       "</table>\n",
       "</div>"
      ],
      "text/plain": [
       "   target                           lemmas_filtered_advanced\n",
       "0       0                           bummer shoulda get day d\n",
       "1       0  upset update facebook texte cry result school ..."
      ]
     },
     "metadata": {},
     "output_type": "display_data"
    },
    {
     "data": {
      "text/plain": [
       "(1452791, 2)"
      ]
     },
     "metadata": {},
     "output_type": "display_data"
    },
    {
     "name": "stdout",
     "output_type": "stream",
     "text": [
      "\n",
      " ---------- DATA SpaCy LEMMAS (SANS filtrage) ----------\n"
     ]
    },
    {
     "data": {
      "text/html": [
       "<div>\n",
       "<style scoped>\n",
       "    .dataframe tbody tr th:only-of-type {\n",
       "        vertical-align: middle;\n",
       "    }\n",
       "\n",
       "    .dataframe tbody tr th {\n",
       "        vertical-align: top;\n",
       "    }\n",
       "\n",
       "    .dataframe thead th {\n",
       "        text-align: right;\n",
       "    }\n",
       "</style>\n",
       "<table border=\"1\" class=\"dataframe\">\n",
       "  <thead>\n",
       "    <tr style=\"text-align: right;\">\n",
       "      <th></th>\n",
       "      <th>target</th>\n",
       "      <th>lemmas_not_filtered</th>\n",
       "    </tr>\n",
       "  </thead>\n",
       "  <tbody>\n",
       "    <tr>\n",
       "      <th>0</th>\n",
       "      <td>0</td>\n",
       "      <td>$ url$ - awww , that be a bummer . you shoulda...</td>\n",
       "    </tr>\n",
       "    <tr>\n",
       "      <th>1</th>\n",
       "      <td>0</td>\n",
       "      <td>be upset that he can not update his facebook b...</td>\n",
       "    </tr>\n",
       "  </tbody>\n",
       "</table>\n",
       "</div>"
      ],
      "text/plain": [
       "   target                                lemmas_not_filtered\n",
       "0       0  $ url$ - awww , that be a bummer . you shoulda...\n",
       "1       0  be upset that he can not update his facebook b..."
      ]
     },
     "metadata": {},
     "output_type": "display_data"
    },
    {
     "data": {
      "text/plain": [
       "(1452791, 2)"
      ]
     },
     "metadata": {},
     "output_type": "display_data"
    }
   ],
   "source": [
    "data_raw = data_full[['target','text']]\n",
    "print(\"\\n\", \" DATA RAW \".center(55, '-'))\n",
    "display(data_raw.head(2), data_raw.shape)\n",
    "\n",
    "data_preprocess_01 = data_full[['target','text_clean']]\n",
    "print(\"\\n\", \" DATA TWITTER-PREPROCESS \".center(55, '-'))\n",
    "display(data_preprocess_01.head(2), data_preprocess_01.shape)\n",
    "\n",
    "data_preprocess_02 = data_full[['target','tokens']]\n",
    "print(\"\\n\", \" DATA SpaCy TOKENS \".center(55, '-'))\n",
    "display(data_preprocess_02.head(2), data_preprocess_02.shape)\n",
    "\n",
    "data_preprocess_03 = data_full[['target','tokens_filtered_advanced']]\n",
    "print(\"\\n\", \" DATA SpaCy FILTERED TOKENS \".center(55, '-'))\n",
    "display(data_preprocess_03.head(2), data_preprocess_03.shape)\n",
    "\n",
    "data_preprocess_03_simple = data_full[['target','tokens_filtered_simple']]\n",
    "print(\"\\n\", \" DATA SpaCy FILTERED TOKENS (avec filtrage simple) \".center(55, '-'))\n",
    "display(data_preprocess_03.head(2), data_preprocess_03.shape)\n",
    "\n",
    "data_preprocess_04 = data_full[['target','lemmas_filtered_advanced']]\n",
    "print(\"\\n\", \" DATA SpaCy LEMMAS \".center(55, '-'))\n",
    "display(data_preprocess_04.head(2), data_preprocess_04.shape)\n",
    "\n",
    "data_preprocess_04_simple = data_full[['target','lemmas_filtered_simple']]\n",
    "print(\"\\n\", \" DATA SpaCy LEMMAS (avec filtrage simple) \".center(55, '-'))\n",
    "display(data_preprocess_04.head(2), data_preprocess_04.shape)\n",
    "\n",
    "data_preprocess_04_nofilter = data_full[['target','lemmas_not_filtered']]\n",
    "print(\"\\n\", \" DATA SpaCy LEMMAS (SANS filtrage) \".center(55, '-'))\n",
    "display(data_preprocess_04_nofilter.head(2), data_preprocess_04_nofilter.shape)"
   ]
  },
  {
   "cell_type": "markdown",
   "id": "f9ecc54b-efd2-4aca-90de-1ab4fa58ae39",
   "metadata": {},
   "source": [
    "### Chargeons le jeu de données avec lequel nous allons faire cette recherche d'hyper-paramètre"
   ]
  },
  {
   "cell_type": "code",
   "execution_count": 11,
   "id": "989609af-c2df-4498-b193-160a71325e3d",
   "metadata": {
    "execution": {
     "iopub.execute_input": "2022-08-02T16:06:16.914632Z",
     "iopub.status.busy": "2022-08-02T16:06:16.913645Z",
     "iopub.status.idle": "2022-08-02T16:06:17.018238Z",
     "shell.execute_reply": "2022-08-02T16:06:17.017574Z",
     "shell.execute_reply.started": "2022-08-02T16:06:16.914603Z"
    },
    "tags": []
   },
   "outputs": [],
   "source": [
    "sample_size = 100000\n",
    "data_preprocess_04_nofilter = data_preprocess_04_nofilter.sample(sample_size, random_state=random_seed)"
   ]
  },
  {
   "cell_type": "code",
   "execution_count": 12,
   "id": "41c70f5d-55a4-4784-89fb-98a0d5a70585",
   "metadata": {
    "execution": {
     "iopub.execute_input": "2022-08-02T16:06:17.019528Z",
     "iopub.status.busy": "2022-08-02T16:06:17.019217Z",
     "iopub.status.idle": "2022-08-02T16:06:17.028348Z",
     "shell.execute_reply": "2022-08-02T16:06:17.027599Z",
     "shell.execute_reply.started": "2022-08-02T16:06:17.019505Z"
    },
    "tags": []
   },
   "outputs": [
    {
     "data": {
      "text/html": [
       "<div>\n",
       "<style scoped>\n",
       "    .dataframe tbody tr th:only-of-type {\n",
       "        vertical-align: middle;\n",
       "    }\n",
       "\n",
       "    .dataframe tbody tr th {\n",
       "        vertical-align: top;\n",
       "    }\n",
       "\n",
       "    .dataframe thead th {\n",
       "        text-align: right;\n",
       "    }\n",
       "</style>\n",
       "<table border=\"1\" class=\"dataframe\">\n",
       "  <thead>\n",
       "    <tr style=\"text-align: right;\">\n",
       "      <th></th>\n",
       "      <th>target</th>\n",
       "      <th>lemmas_not_filtered</th>\n",
       "    </tr>\n",
       "  </thead>\n",
       "  <tbody>\n",
       "    <tr>\n",
       "      <th>647137</th>\n",
       "      <td>0</td>\n",
       "      <td>go watch the proposal with claire . cloudy day...</td>\n",
       "    </tr>\n",
       "    <tr>\n",
       "      <th>531457</th>\n",
       "      <td>0</td>\n",
       "      <td>just remember can not go out late tonight due ...</td>\n",
       "    </tr>\n",
       "  </tbody>\n",
       "</table>\n",
       "</div>"
      ],
      "text/plain": [
       "        target                                lemmas_not_filtered\n",
       "647137       0  go watch the proposal with claire . cloudy day...\n",
       "531457       0  just remember can not go out late tonight due ..."
      ]
     },
     "metadata": {},
     "output_type": "display_data"
    },
    {
     "data": {
      "text/plain": [
       "(100000, 2)"
      ]
     },
     "metadata": {},
     "output_type": "display_data"
    }
   ],
   "source": [
    "display(data_preprocess_04_nofilter.head(2), data_preprocess_04_nofilter.shape)"
   ]
  },
  {
   "cell_type": "code",
   "execution_count": 13,
   "id": "9081067f-ada6-4f92-8057-f60642243dfa",
   "metadata": {
    "execution": {
     "iopub.execute_input": "2022-08-02T16:06:17.029792Z",
     "iopub.status.busy": "2022-08-02T16:06:17.029345Z",
     "iopub.status.idle": "2022-08-02T16:06:17.047282Z",
     "shell.execute_reply": "2022-08-02T16:06:17.046671Z",
     "shell.execute_reply.started": "2022-08-02T16:06:17.029768Z"
    },
    "tags": []
   },
   "outputs": [],
   "source": [
    "X_train, X_test, y_train, y_test = train_test_split(data_preprocess_04_nofilter['lemmas_not_filtered'], data_preprocess_04_nofilter.target, test_size=0.2, random_state=random_seed)"
   ]
  },
  {
   "cell_type": "code",
   "execution_count": 14,
   "id": "bea00177-971e-4742-b66f-95bee99a2c26",
   "metadata": {
    "execution": {
     "iopub.execute_input": "2022-08-02T16:06:17.048432Z",
     "iopub.status.busy": "2022-08-02T16:06:17.048144Z",
     "iopub.status.idle": "2022-08-02T16:06:17.055174Z",
     "shell.execute_reply": "2022-08-02T16:06:17.054282Z",
     "shell.execute_reply.started": "2022-08-02T16:06:17.048410Z"
    },
    "tags": []
   },
   "outputs": [
    {
     "data": {
      "text/plain": [
       "360695    do I take it you haz more tv station than I do...\n",
       "405818    show some compassion . they work in fastfood a...\n",
       "Name: lemmas_not_filtered, dtype: object"
      ]
     },
     "metadata": {},
     "output_type": "display_data"
    },
    {
     "data": {
      "text/plain": [
       "(80000,)"
      ]
     },
     "metadata": {},
     "output_type": "display_data"
    }
   ],
   "source": [
    "display(X_train.head(2), X_train.shape)"
   ]
  },
  {
   "cell_type": "markdown",
   "id": "4c7d0cae-969e-4fc7-bb06-6b705f138585",
   "metadata": {},
   "source": [
    "### Définissons une fonction permattant de Tokenizer notre jeu de données"
   ]
  },
  {
   "cell_type": "code",
   "execution_count": 15,
   "id": "d142a6e3-6882-4f8e-be11-2ba155d2c3bd",
   "metadata": {
    "execution": {
     "iopub.execute_input": "2022-08-02T16:06:17.056266Z",
     "iopub.status.busy": "2022-08-02T16:06:17.056062Z",
     "iopub.status.idle": "2022-08-02T16:06:17.061804Z",
     "shell.execute_reply": "2022-08-02T16:06:17.061224Z",
     "shell.execute_reply.started": "2022-08-02T16:06:17.056247Z"
    },
    "tags": []
   },
   "outputs": [],
   "source": [
    "def preprocess_data_RAW(X_train, X_test, tokenizer_num_words=2000, padding_size=35, verbose=1):\n",
    "    tokenizer = Tokenizer(num_words=tokenizer_num_words)\n",
    "    tokenizer.fit_on_texts(X_train)\n",
    "\n",
    "    dictionary = tokenizer.word_index\n",
    "    vocab_size = len(dictionary)+1 # Adding 1 because of reserved 0 index\n",
    "    \n",
    "    X_train_enc = tokenizer.texts_to_sequences(X_train)\n",
    "    X_test_enc = tokenizer.texts_to_sequences(X_test)\n",
    "    \n",
    "    X_train_ready = pad_sequences(X_train_enc, padding='post', maxlen=padding_size)\n",
    "    X_test_ready = pad_sequences(X_test_enc, padding='post', maxlen=padding_size)\n",
    "    \n",
    "    # y_train = np.asarray(y_train).astype('float32').reshape((-1,1))\n",
    "    # y_test = np.asarray(y_test).astype('float32').reshape((-1,1))\n",
    "    \n",
    "    if verbose > 0:\n",
    "        print(\"----- One sample outputs for demo -----\")\n",
    "        print(f\">> Original sentence: {X_train.iloc[0]}\\n\")\n",
    "        print(f\">> Tokenized sentence: {tokenizer.sequences_to_texts(X_train_ready[:1])}\\n\")\n",
    "        print(f\">> X_train_enc: {X_train_enc[:1]}\\n\")\n",
    "        print(f\">> X_train_ready: {X_train_ready[:1]}\")\n",
    "        \n",
    "        print(f\"\\nVocab size: {vocab_size}\")\n",
    "    \n",
    "    return X_train_ready, X_test_ready, tokenizer, vocab_size"
   ]
  },
  {
   "cell_type": "markdown",
   "id": "10956906-e508-451b-879e-89916c83191d",
   "metadata": {},
   "source": [
    "### Définissons une fonction pour préparer le corpus avec le nombre de tokens demandé puis entrainer le modèle avec ce corpus"
   ]
  },
  {
   "cell_type": "code",
   "execution_count": 16,
   "id": "19914963-cf8a-4ed3-9e1f-b73d34eb148d",
   "metadata": {
    "execution": {
     "iopub.execute_input": "2022-08-02T16:06:17.062940Z",
     "iopub.status.busy": "2022-08-02T16:06:17.062646Z",
     "iopub.status.idle": "2022-08-02T16:06:17.070043Z",
     "shell.execute_reply": "2022-08-02T16:06:17.069432Z",
     "shell.execute_reply.started": "2022-08-02T16:06:17.062913Z"
    },
    "tags": []
   },
   "outputs": [],
   "source": [
    "token_scores = {}\n",
    "\n",
    "def search_num_tokens(token_num_words):\n",
    "    \n",
    "    print(f\"Testing model with {token_num_words} tokens\".upper().center(100,\"-\"), end='\\n\\n')\n",
    "    \n",
    "    padding_size = 50\n",
    "    X_train_ready, X_test_ready, tokenizer, vocab_size = preprocess_data_RAW(X_train, X_test, token_num_words, padding_size)\n",
    "    \n",
    "    embedding_dim = 100\n",
    "    embedding = layers.Embedding(input_dim=vocab_size, output_dim=embedding_dim, input_length=padding_size, trainable=True)\n",
    "    \n",
    "    \n",
    "    f_opti = keras.optimizers.Adam(learning_rate=0.0005)\n",
    "    f_loss = keras.losses.BinaryCrossentropy(from_logits=False)\n",
    "    f_metrics = ['accuracy'] # in this context 'accuracy' == keras.metrics.BinaryAccuracy()\n",
    "    \n",
    "    model = architecture01(f_opti, f_loss, f_metrics, embedding)\n",
    "    # archi01_model_RAW.summary()\n",
    "    \n",
    "    # t0 = time.perf_counter()\n",
    "    history = model.fit(\n",
    "        x=X_train_ready, y=y_train, \n",
    "        validation_data=(X_test_ready, y_test), \n",
    "        epochs=50, \n",
    "        batch_size=batch_size, \n",
    "        callbacks=init_callbacks(f\"archi01_{token_num_words}Tokens\"),\n",
    "        verbose=0,\n",
    "        # validation_split=0.2,\n",
    "        # train_labels\n",
    "    )\n",
    "    # train_time = time.perf_counter() - t0\n",
    "    summarize_diagnostics(history)\n",
    "    \n",
    "    loss, accuracy = model.evaluate(X_train_ready, y_train, verbose=False)\n",
    "    print(\"\\nTraining Accuracy: {:.4f}\".format(accuracy))\n",
    "    loss, accuracy = model.evaluate(X_test_ready, y_test, verbose=False)\n",
    "    print(\"Testing Accuracy:  {:.4f}\".format(accuracy))\n",
    "    \n",
    "    token_scores[token_num_words] = accuracy"
   ]
  },
  {
   "cell_type": "markdown",
   "id": "17ac20aa-b9e0-40ce-aec4-83e98d51268f",
   "metadata": {},
   "source": [
    "---\n",
    "## 2.1 Essais avec une fraction du jeu de données (100K) pour aller plus vite <a class=\"anchor\" id=\"TOKENSIZE_100K\"></a> [⇪](#menu)"
   ]
  },
  {
   "cell_type": "markdown",
   "id": "2faf5ee1-c204-4975-963a-61d6de9c9bf9",
   "metadata": {},
   "source": [
    "### Essai avec 1000 Tokens <a class=\"anchor\" id=\"TOKENSIZE_1000\"></a> [⇪](#menu)"
   ]
  },
  {
   "cell_type": "code",
   "execution_count": 18,
   "id": "0a9bf49a-0b25-41f1-9dbb-5fa2bbcc4abc",
   "metadata": {
    "execution": {
     "iopub.execute_input": "2022-08-02T16:06:46.626299Z",
     "iopub.status.busy": "2022-08-02T16:06:46.625921Z",
     "iopub.status.idle": "2022-08-02T16:08:07.336361Z",
     "shell.execute_reply": "2022-08-02T16:08:07.335727Z",
     "shell.execute_reply.started": "2022-08-02T16:06:46.626272Z"
    },
    "tags": []
   },
   "outputs": [
    {
     "name": "stdout",
     "output_type": "stream",
     "text": [
      "-----------------------------------TESTING MODEL WITH 1000 TOKENS-----------------------------------\n",
      "\n",
      "----- One sample outputs for demo -----\n",
      ">> Original sentence: do I take it you haz more tv station than I do ? watch the footie not possible here\n",
      "\n",
      ">> Tokenized sentence: ['do i take it you more tv than i do watch the not here']\n",
      "\n",
      ">> X_train_enc: [[12, 1, 105, 9, 10, 85, 413, 190, 1, 12, 73, 4, 6, 87]]\n",
      "\n",
      ">> X_train_ready: [[ 12   1 105   9  10  85 413 190   1  12  73   4   6  87   0   0   0   0\n",
      "    0   0   0   0   0   0   0   0   0   0   0   0   0   0   0   0   0   0\n",
      "    0   0   0   0   0   0   0   0   0   0   0   0   0   0]]\n",
      "\n",
      "Vocab size: 42801\n",
      "\n",
      "Epoch 00001: val_accuracy improved from -inf to 0.58595, saving model to models/archi01_1000Tokens.epoch01-accuracy0.59.hdf5\n",
      "\n",
      "Epoch 00002: val_accuracy improved from 0.58595 to 0.60105, saving model to models/archi01_1000Tokens.epoch02-accuracy0.60.hdf5\n",
      "\n",
      "Epoch 00003: val_accuracy improved from 0.60105 to 0.63550, saving model to models/archi01_1000Tokens.epoch03-accuracy0.64.hdf5\n",
      "\n",
      "Epoch 00004: val_accuracy improved from 0.63550 to 0.69005, saving model to models/archi01_1000Tokens.epoch04-accuracy0.69.hdf5\n",
      "\n",
      "Epoch 00005: val_accuracy improved from 0.69005 to 0.72955, saving model to models/archi01_1000Tokens.epoch05-accuracy0.73.hdf5\n",
      "\n",
      "Epoch 00006: val_accuracy improved from 0.72955 to 0.74340, saving model to models/archi01_1000Tokens.epoch06-accuracy0.74.hdf5\n",
      "\n",
      "Epoch 00007: val_accuracy improved from 0.74340 to 0.75400, saving model to models/archi01_1000Tokens.epoch07-accuracy0.75.hdf5\n",
      "\n",
      "Epoch 00008: val_accuracy improved from 0.75400 to 0.75455, saving model to models/archi01_1000Tokens.epoch08-accuracy0.75.hdf5\n",
      "\n",
      "Epoch 00009: val_accuracy improved from 0.75455 to 0.75520, saving model to models/archi01_1000Tokens.epoch09-accuracy0.76.hdf5\n",
      "\n",
      "Epoch 00010: val_accuracy improved from 0.75520 to 0.76120, saving model to models/archi01_1000Tokens.epoch10-accuracy0.76.hdf5\n",
      "\n",
      "Epoch 00011: val_accuracy did not improve from 0.76120\n",
      "\n",
      "Epoch 00012: val_accuracy did not improve from 0.76120\n",
      "\n",
      "Epoch 00013: val_accuracy did not improve from 0.76120\n",
      "\n",
      "Epoch 00014: val_accuracy improved from 0.76120 to 0.76175, saving model to models/archi01_1000Tokens.epoch14-accuracy0.76.hdf5\n",
      "\n",
      "Epoch 00015: val_accuracy improved from 0.76175 to 0.76255, saving model to models/archi01_1000Tokens.epoch15-accuracy0.76.hdf5\n",
      "\n",
      "Epoch 00016: val_accuracy improved from 0.76255 to 0.76355, saving model to models/archi01_1000Tokens.epoch16-accuracy0.76.hdf5\n",
      "\n",
      "Epoch 00017: val_accuracy did not improve from 0.76355\n",
      "\n",
      "Epoch 00018: val_accuracy did not improve from 0.76355\n",
      "\n",
      "Epoch 00019: val_accuracy improved from 0.76355 to 0.76520, saving model to models/archi01_1000Tokens.epoch19-accuracy0.77.hdf5\n",
      "\n",
      "Epoch 00020: val_accuracy did not improve from 0.76520\n",
      "\n",
      "Epoch 00021: val_accuracy did not improve from 0.76520\n",
      "\n",
      "Epoch 00022: val_accuracy did not improve from 0.76520\n",
      "\n",
      "Epoch 00023: val_accuracy improved from 0.76520 to 0.76530, saving model to models/archi01_1000Tokens.epoch23-accuracy0.77.hdf5\n",
      "\n",
      "Epoch 00024: val_accuracy did not improve from 0.76530\n",
      "\n",
      "Epoch 00025: val_accuracy improved from 0.76530 to 0.76625, saving model to models/archi01_1000Tokens.epoch25-accuracy0.77.hdf5\n",
      "\n",
      "Epoch 00026: val_accuracy improved from 0.76625 to 0.76660, saving model to models/archi01_1000Tokens.epoch26-accuracy0.77.hdf5\n",
      "\n",
      "Epoch 00027: val_accuracy did not improve from 0.76660\n",
      "Restoring model weights from the end of the best epoch.\n",
      "Epoch 00027: early stopping\n",
      "\n",
      "Training Accuracy: 0.7763\n",
      "Testing Accuracy:  0.7635\n"
     ]
    },
    {
     "data": {
      "image/png": "[encoded data removed]",
      "text/plain": [
       "<Figure size 576x576 with 2 Axes>"
      ]
     },
     "metadata": {
      "needs_background": "light"
     },
     "output_type": "display_data"
    }
   ],
   "source": [
    "search_num_tokens(1000)"
   ]
  },
  {
   "cell_type": "code",
   "execution_count": 19,
   "id": "15a21cac-8a2b-4af6-9af6-fcc1577d1355",
   "metadata": {
    "execution": {
     "iopub.execute_input": "2022-08-02T16:08:07.338007Z",
     "iopub.status.busy": "2022-08-02T16:08:07.337680Z",
     "iopub.status.idle": "2022-08-02T16:08:07.343186Z",
     "shell.execute_reply": "2022-08-02T16:08:07.342474Z",
     "shell.execute_reply.started": "2022-08-02T16:08:07.337983Z"
    },
    "tags": []
   },
   "outputs": [
    {
     "data": {
      "text/plain": [
       "{1000: 0.7634999752044678}"
      ]
     },
     "execution_count": 19,
     "metadata": {},
     "output_type": "execute_result"
    }
   ],
   "source": [
    "token_scores"
   ]
  },
  {
   "cell_type": "markdown",
   "id": "aef1a4d8-3b76-4493-af21-d66c785e8d4f",
   "metadata": {},
   "source": [
    "### Essai avec 2500 Tokens <a class=\"anchor\" id=\"TOKENSIZE_2500\"></a> [⇪](#menu)"
   ]
  },
  {
   "cell_type": "code",
   "execution_count": 20,
   "id": "03da8418-f7ee-40be-b52c-02e843d61115",
   "metadata": {
    "execution": {
     "iopub.execute_input": "2022-08-02T16:08:07.344382Z",
     "iopub.status.busy": "2022-08-02T16:08:07.344055Z",
     "iopub.status.idle": "2022-08-02T16:09:40.926111Z",
     "shell.execute_reply": "2022-08-02T16:09:40.925499Z",
     "shell.execute_reply.started": "2022-08-02T16:08:07.344360Z"
    },
    "tags": []
   },
   "outputs": [
    {
     "name": "stdout",
     "output_type": "stream",
     "text": [
      "-----------------------------------TESTING MODEL WITH 2500 TOKENS-----------------------------------\n",
      "\n",
      "----- One sample outputs for demo -----\n",
      ">> Original sentence: do I take it you haz more tv station than I do ? watch the footie not possible here\n",
      "\n",
      ">> Tokenized sentence: ['do i take it you more tv station than i do watch the not possible here']\n",
      "\n",
      ">> X_train_enc: [[12, 1, 105, 9, 10, 85, 413, 1286, 190, 1, 12, 73, 4, 6, 1135, 87]]\n",
      "\n",
      ">> X_train_ready: [[  12    1  105    9   10   85  413 1286  190    1   12   73    4    6\n",
      "  1135   87    0    0    0    0    0    0    0    0    0    0    0    0\n",
      "     0    0    0    0    0    0    0    0    0    0    0    0    0    0\n",
      "     0    0    0    0    0    0    0    0]]\n",
      "\n",
      "Vocab size: 42801\n",
      "\n",
      "Epoch 00001: val_accuracy improved from -inf to 0.57875, saving model to models/archi01_2500Tokens.epoch01-accuracy0.58.hdf5\n",
      "\n",
      "Epoch 00002: val_accuracy improved from 0.57875 to 0.59595, saving model to models/archi01_2500Tokens.epoch02-accuracy0.60.hdf5\n",
      "\n",
      "Epoch 00003: val_accuracy improved from 0.59595 to 0.62195, saving model to models/archi01_2500Tokens.epoch03-accuracy0.62.hdf5\n",
      "\n",
      "Epoch 00004: val_accuracy improved from 0.62195 to 0.66370, saving model to models/archi01_2500Tokens.epoch04-accuracy0.66.hdf5\n",
      "\n",
      "Epoch 00005: val_accuracy improved from 0.66370 to 0.68205, saving model to models/archi01_2500Tokens.epoch05-accuracy0.68.hdf5\n",
      "\n",
      "Epoch 00006: val_accuracy improved from 0.68205 to 0.73815, saving model to models/archi01_2500Tokens.epoch06-accuracy0.74.hdf5\n",
      "\n",
      "Epoch 00007: val_accuracy improved from 0.73815 to 0.74360, saving model to models/archi01_2500Tokens.epoch07-accuracy0.74.hdf5\n",
      "\n",
      "Epoch 00008: val_accuracy improved from 0.74360 to 0.75825, saving model to models/archi01_2500Tokens.epoch08-accuracy0.76.hdf5\n",
      "\n",
      "Epoch 00009: val_accuracy improved from 0.75825 to 0.76410, saving model to models/archi01_2500Tokens.epoch09-accuracy0.76.hdf5\n",
      "\n",
      "Epoch 00010: val_accuracy improved from 0.76410 to 0.76570, saving model to models/archi01_2500Tokens.epoch10-accuracy0.77.hdf5\n",
      "\n",
      "Epoch 00011: val_accuracy improved from 0.76570 to 0.76815, saving model to models/archi01_2500Tokens.epoch11-accuracy0.77.hdf5\n",
      "\n",
      "Epoch 00012: val_accuracy improved from 0.76815 to 0.76840, saving model to models/archi01_2500Tokens.epoch12-accuracy0.77.hdf5\n",
      "\n",
      "Epoch 00013: val_accuracy did not improve from 0.76840\n",
      "\n",
      "Epoch 00014: val_accuracy did not improve from 0.76840\n",
      "\n",
      "Epoch 00015: val_accuracy improved from 0.76840 to 0.76880, saving model to models/archi01_2500Tokens.epoch15-accuracy0.77.hdf5\n",
      "\n",
      "Epoch 00016: val_accuracy improved from 0.76880 to 0.76925, saving model to models/archi01_2500Tokens.epoch16-accuracy0.77.hdf5\n",
      "\n",
      "Epoch 00017: val_accuracy improved from 0.76925 to 0.77110, saving model to models/archi01_2500Tokens.epoch17-accuracy0.77.hdf5\n",
      "\n",
      "Epoch 00018: val_accuracy improved from 0.77110 to 0.77145, saving model to models/archi01_2500Tokens.epoch18-accuracy0.77.hdf5\n",
      "\n",
      "Epoch 00019: val_accuracy did not improve from 0.77145\n",
      "\n",
      "Epoch 00020: val_accuracy did not improve from 0.77145\n",
      "\n",
      "Epoch 00021: val_accuracy improved from 0.77145 to 0.77220, saving model to models/archi01_2500Tokens.epoch21-accuracy0.77.hdf5\n",
      "\n",
      "Epoch 00022: val_accuracy improved from 0.77220 to 0.77275, saving model to models/archi01_2500Tokens.epoch22-accuracy0.77.hdf5\n",
      "\n",
      "Epoch 00023: val_accuracy did not improve from 0.77275\n",
      "\n",
      "Epoch 00024: val_accuracy improved from 0.77275 to 0.77445, saving model to models/archi01_2500Tokens.epoch24-accuracy0.77.hdf5\n",
      "\n",
      "Epoch 00025: val_accuracy improved from 0.77445 to 0.77550, saving model to models/archi01_2500Tokens.epoch25-accuracy0.78.hdf5\n",
      "\n",
      "Epoch 00026: val_accuracy did not improve from 0.77550\n",
      "\n",
      "Epoch 00027: val_accuracy did not improve from 0.77550\n",
      "\n",
      "Epoch 00028: val_accuracy improved from 0.77550 to 0.77645, saving model to models/archi01_2500Tokens.epoch28-accuracy0.78.hdf5\n",
      "\n",
      "Epoch 00029: val_accuracy did not improve from 0.77645\n",
      "\n",
      "Epoch 00030: val_accuracy did not improve from 0.77645\n",
      "\n",
      "Epoch 00031: val_accuracy did not improve from 0.77645\n",
      "\n",
      "Epoch 00032: val_accuracy did not improve from 0.77645\n",
      "Restoring model weights from the end of the best epoch.\n",
      "\n",
      "Epoch 00032: ReduceLROnPlateau reducing learning rate to 5.0000002374872565e-05.\n",
      "Epoch 00032: early stopping\n",
      "\n",
      "Training Accuracy: 0.8007\n",
      "Testing Accuracy:  0.7728\n"
     ]
    },
    {
     "data": {
      "image/png": "[encoded data removed]",
      "text/plain": [
       "<Figure size 576x576 with 2 Axes>"
      ]
     },
     "metadata": {
      "needs_background": "light"
     },
     "output_type": "display_data"
    }
   ],
   "source": [
    "search_num_tokens(2500)"
   ]
  },
  {
   "cell_type": "code",
   "execution_count": 21,
   "id": "f9b4a752-7451-45bc-b21c-69b89909ffa9",
   "metadata": {
    "execution": {
     "iopub.execute_input": "2022-08-02T16:09:40.928742Z",
     "iopub.status.busy": "2022-08-02T16:09:40.928439Z",
     "iopub.status.idle": "2022-08-02T16:09:40.932947Z",
     "shell.execute_reply": "2022-08-02T16:09:40.932346Z",
     "shell.execute_reply.started": "2022-08-02T16:09:40.928719Z"
    },
    "tags": []
   },
   "outputs": [
    {
     "data": {
      "text/plain": [
       "{1000: 0.7634999752044678, 2500: 0.7727500200271606}"
      ]
     },
     "execution_count": 21,
     "metadata": {},
     "output_type": "execute_result"
    }
   ],
   "source": [
    "token_scores"
   ]
  },
  {
   "cell_type": "markdown",
   "id": "358ee2ec-b52b-42d1-97ed-1090fcf9b55f",
   "metadata": {},
   "source": [
    "### Essai avec 5000 Tokens <a class=\"anchor\" id=\"TOKENSIZE_5000\"></a> [⇪](#menu)"
   ]
  },
  {
   "cell_type": "code",
   "execution_count": 22,
   "id": "6400a18a-05aa-4358-ac8a-82ae34637c7d",
   "metadata": {
    "execution": {
     "iopub.execute_input": "2022-08-02T16:09:40.934007Z",
     "iopub.status.busy": "2022-08-02T16:09:40.933746Z",
     "iopub.status.idle": "2022-08-02T16:10:45.530742Z",
     "shell.execute_reply": "2022-08-02T16:10:45.530037Z",
     "shell.execute_reply.started": "2022-08-02T16:09:40.933986Z"
    },
    "tags": []
   },
   "outputs": [
    {
     "name": "stdout",
     "output_type": "stream",
     "text": [
      "-----------------------------------TESTING MODEL WITH 5000 TOKENS-----------------------------------\n",
      "\n",
      "----- One sample outputs for demo -----\n",
      ">> Original sentence: do I take it you haz more tv station than I do ? watch the footie not possible here\n",
      "\n",
      ">> Tokenized sentence: ['do i take it you haz more tv station than i do watch the not possible here']\n",
      "\n",
      ">> X_train_enc: [[12, 1, 105, 9, 10, 3606, 85, 413, 1286, 190, 1, 12, 73, 4, 6, 1135, 87]]\n",
      "\n",
      ">> X_train_ready: [[  12    1  105    9   10 3606   85  413 1286  190    1   12   73    4\n",
      "     6 1135   87    0    0    0    0    0    0    0    0    0    0    0\n",
      "     0    0    0    0    0    0    0    0    0    0    0    0    0    0\n",
      "     0    0    0    0    0    0    0    0]]\n",
      "\n",
      "Vocab size: 42801\n",
      "\n",
      "Epoch 00001: val_accuracy improved from -inf to 0.60510, saving model to models/archi01_5000Tokens.epoch01-accuracy0.61.hdf5\n",
      "\n",
      "Epoch 00002: val_accuracy improved from 0.60510 to 0.60540, saving model to models/archi01_5000Tokens.epoch02-accuracy0.61.hdf5\n",
      "\n",
      "Epoch 00003: val_accuracy improved from 0.60540 to 0.62145, saving model to models/archi01_5000Tokens.epoch03-accuracy0.62.hdf5\n",
      "\n",
      "Epoch 00004: val_accuracy improved from 0.62145 to 0.64695, saving model to models/archi01_5000Tokens.epoch04-accuracy0.65.hdf5\n",
      "\n",
      "Epoch 00005: val_accuracy improved from 0.64695 to 0.68055, saving model to models/archi01_5000Tokens.epoch05-accuracy0.68.hdf5\n",
      "\n",
      "Epoch 00006: val_accuracy improved from 0.68055 to 0.74250, saving model to models/archi01_5000Tokens.epoch06-accuracy0.74.hdf5\n",
      "\n",
      "Epoch 00007: val_accuracy did not improve from 0.74250\n",
      "\n",
      "Epoch 00008: val_accuracy improved from 0.74250 to 0.76220, saving model to models/archi01_5000Tokens.epoch08-accuracy0.76.hdf5\n",
      "\n",
      "Epoch 00009: val_accuracy improved from 0.76220 to 0.76640, saving model to models/archi01_5000Tokens.epoch09-accuracy0.77.hdf5\n",
      "\n",
      "Epoch 00010: val_accuracy improved from 0.76640 to 0.77025, saving model to models/archi01_5000Tokens.epoch10-accuracy0.77.hdf5\n",
      "\n",
      "Epoch 00011: val_accuracy improved from 0.77025 to 0.77045, saving model to models/archi01_5000Tokens.epoch11-accuracy0.77.hdf5\n",
      "\n",
      "Epoch 00012: val_accuracy improved from 0.77045 to 0.77235, saving model to models/archi01_5000Tokens.epoch12-accuracy0.77.hdf5\n",
      "\n",
      "Epoch 00013: val_accuracy did not improve from 0.77235\n",
      "\n",
      "Epoch 00014: val_accuracy did not improve from 0.77235\n",
      "\n",
      "Epoch 00015: val_accuracy improved from 0.77235 to 0.77355, saving model to models/archi01_5000Tokens.epoch15-accuracy0.77.hdf5\n",
      "\n",
      "Epoch 00016: val_accuracy did not improve from 0.77355\n",
      "\n",
      "Epoch 00017: val_accuracy did not improve from 0.77355\n",
      "\n",
      "Epoch 00018: val_accuracy improved from 0.77355 to 0.77520, saving model to models/archi01_5000Tokens.epoch18-accuracy0.78.hdf5\n",
      "\n",
      "Epoch 00019: val_accuracy did not improve from 0.77520\n",
      "\n",
      "Epoch 00020: val_accuracy did not improve from 0.77520\n",
      "Restoring model weights from the end of the best epoch.\n",
      "\n",
      "Epoch 00020: ReduceLROnPlateau reducing learning rate to 5.0000002374872565e-05.\n",
      "Epoch 00020: early stopping\n",
      "\n",
      "Training Accuracy: 0.7973\n",
      "Testing Accuracy:  0.7703\n"
     ]
    },
    {
     "data": {
      "image/png": "[encoded data removed]",
      "text/plain": [
       "<Figure size 576x576 with 2 Axes>"
      ]
     },
     "metadata": {
      "needs_background": "light"
     },
     "output_type": "display_data"
    }
   ],
   "source": [
    "search_num_tokens(5000)"
   ]
  },
  {
   "cell_type": "code",
   "execution_count": 23,
   "id": "c72e646e-112b-4cf6-98c4-5847b001a529",
   "metadata": {
    "execution": {
     "iopub.execute_input": "2022-08-02T16:10:45.532803Z",
     "iopub.status.busy": "2022-08-02T16:10:45.531989Z",
     "iopub.status.idle": "2022-08-02T16:10:45.537420Z",
     "shell.execute_reply": "2022-08-02T16:10:45.536761Z",
     "shell.execute_reply.started": "2022-08-02T16:10:45.532766Z"
    },
    "tags": []
   },
   "outputs": [
    {
     "data": {
      "text/plain": [
       "{1000: 0.7634999752044678, 2500: 0.7727500200271606, 5000: 0.7702500224113464}"
      ]
     },
     "execution_count": 23,
     "metadata": {},
     "output_type": "execute_result"
    }
   ],
   "source": [
    "token_scores"
   ]
  },
  {
   "cell_type": "markdown",
   "id": "c83b43cf-d06c-4f67-a34d-e5c815afccd7",
   "metadata": {},
   "source": [
    "### Essai avec 7500 Tokens <a class=\"anchor\" id=\"TOKENSIZE_7500\"></a> [⇪](#menu)"
   ]
  },
  {
   "cell_type": "code",
   "execution_count": 25,
   "id": "7f1be39e-600d-4b6c-bd54-4f78b673b33b",
   "metadata": {
    "execution": {
     "iopub.execute_input": "2022-08-02T16:11:09.640815Z",
     "iopub.status.busy": "2022-08-02T16:11:09.640393Z",
     "iopub.status.idle": "2022-08-02T16:12:16.758077Z",
     "shell.execute_reply": "2022-08-02T16:12:16.757295Z",
     "shell.execute_reply.started": "2022-08-02T16:11:09.640787Z"
    },
    "tags": []
   },
   "outputs": [
    {
     "name": "stdout",
     "output_type": "stream",
     "text": [
      "-----------------------------------TESTING MODEL WITH 7500 TOKENS-----------------------------------\n",
      "\n",
      "----- One sample outputs for demo -----\n",
      ">> Original sentence: do I take it you haz more tv station than I do ? watch the footie not possible here\n",
      "\n",
      ">> Tokenized sentence: ['do i take it you haz more tv station than i do watch the footie not possible here']\n",
      "\n",
      ">> X_train_enc: [[12, 1, 105, 9, 10, 3606, 85, 413, 1286, 190, 1, 12, 73, 4, 6411, 6, 1135, 87]]\n",
      "\n",
      ">> X_train_ready: [[  12    1  105    9   10 3606   85  413 1286  190    1   12   73    4\n",
      "  6411    6 1135   87    0    0    0    0    0    0    0    0    0    0\n",
      "     0    0    0    0    0    0    0    0    0    0    0    0    0    0\n",
      "     0    0    0    0    0    0    0    0]]\n",
      "\n",
      "Vocab size: 42801\n",
      "\n",
      "Epoch 00001: val_accuracy improved from -inf to 0.57195, saving model to models/archi01_7500Tokens.epoch01-accuracy0.57.hdf5\n",
      "\n",
      "Epoch 00002: val_accuracy improved from 0.57195 to 0.59570, saving model to models/archi01_7500Tokens.epoch02-accuracy0.60.hdf5\n",
      "\n",
      "Epoch 00003: val_accuracy improved from 0.59570 to 0.62945, saving model to models/archi01_7500Tokens.epoch03-accuracy0.63.hdf5\n",
      "\n",
      "Epoch 00004: val_accuracy improved from 0.62945 to 0.68550, saving model to models/archi01_7500Tokens.epoch04-accuracy0.69.hdf5\n",
      "\n",
      "Epoch 00005: val_accuracy improved from 0.68550 to 0.73890, saving model to models/archi01_7500Tokens.epoch05-accuracy0.74.hdf5\n",
      "\n",
      "Epoch 00006: val_accuracy improved from 0.73890 to 0.74710, saving model to models/archi01_7500Tokens.epoch06-accuracy0.75.hdf5\n",
      "\n",
      "Epoch 00007: val_accuracy improved from 0.74710 to 0.76010, saving model to models/archi01_7500Tokens.epoch07-accuracy0.76.hdf5\n",
      "\n",
      "Epoch 00008: val_accuracy improved from 0.76010 to 0.76565, saving model to models/archi01_7500Tokens.epoch08-accuracy0.77.hdf5\n",
      "\n",
      "Epoch 00009: val_accuracy improved from 0.76565 to 0.76905, saving model to models/archi01_7500Tokens.epoch09-accuracy0.77.hdf5\n",
      "\n",
      "Epoch 00010: val_accuracy did not improve from 0.76905\n",
      "\n",
      "Epoch 00011: val_accuracy improved from 0.76905 to 0.77305, saving model to models/archi01_7500Tokens.epoch11-accuracy0.77.hdf5\n",
      "\n",
      "Epoch 00012: val_accuracy did not improve from 0.77305\n",
      "\n",
      "Epoch 00013: val_accuracy did not improve from 0.77305\n",
      "\n",
      "Epoch 00014: val_accuracy did not improve from 0.77305\n",
      "\n",
      "Epoch 00015: val_accuracy did not improve from 0.77305\n",
      "\n",
      "Epoch 00016: val_accuracy did not improve from 0.77305\n",
      "\n",
      "Epoch 00017: val_accuracy did not improve from 0.77305\n",
      "\n",
      "Epoch 00017: ReduceLROnPlateau reducing learning rate to 5.0000002374872565e-05.\n",
      "\n",
      "Epoch 00018: val_accuracy did not improve from 0.77305\n",
      "\n",
      "Epoch 00019: val_accuracy did not improve from 0.77305\n",
      "\n",
      "Epoch 00020: val_accuracy did not improve from 0.77305\n",
      "\n",
      "Epoch 00021: val_accuracy did not improve from 0.77305\n",
      "Restoring model weights from the end of the best epoch.\n",
      "Epoch 00021: early stopping\n",
      "\n",
      "Training Accuracy: 0.8108\n",
      "Testing Accuracy:  0.7731\n"
     ]
    },
    {
     "data": {
      "image/png": "[encoded data removed]",
      "text/plain": [
       "<Figure size 576x576 with 2 Axes>"
      ]
     },
     "metadata": {
      "needs_background": "light"
     },
     "output_type": "display_data"
    }
   ],
   "source": [
    "search_num_tokens(7500)"
   ]
  },
  {
   "cell_type": "code",
   "execution_count": 26,
   "id": "93805c2c-a9c4-4778-9e04-062257feefdc",
   "metadata": {
    "execution": {
     "iopub.execute_input": "2022-08-02T16:12:16.760435Z",
     "iopub.status.busy": "2022-08-02T16:12:16.760015Z",
     "iopub.status.idle": "2022-08-02T16:12:16.765032Z",
     "shell.execute_reply": "2022-08-02T16:12:16.764386Z",
     "shell.execute_reply.started": "2022-08-02T16:12:16.760398Z"
    },
    "tags": []
   },
   "outputs": [
    {
     "data": {
      "text/plain": [
       "{1000: 0.7634999752044678,\n",
       " 2500: 0.7727500200271606,\n",
       " 5000: 0.7702500224113464,\n",
       " 7500: 0.7730500102043152}"
      ]
     },
     "execution_count": 26,
     "metadata": {},
     "output_type": "execute_result"
    }
   ],
   "source": [
    "token_scores"
   ]
  },
  {
   "cell_type": "markdown",
   "id": "b19a9985-eef9-4c5a-9098-a4b7b0f1a6de",
   "metadata": {},
   "source": [
    "### Essai avec 10000 Tokens <a class=\"anchor\" id=\"TOKENSIZE_10000\"></a> [⇪](#menu)"
   ]
  },
  {
   "cell_type": "code",
   "execution_count": 27,
   "id": "a63b1bdd-8518-4e42-adde-0e24cc589051",
   "metadata": {
    "execution": {
     "iopub.execute_input": "2022-08-02T16:12:16.766582Z",
     "iopub.status.busy": "2022-08-02T16:12:16.766062Z",
     "iopub.status.idle": "2022-08-02T16:13:21.713617Z",
     "shell.execute_reply": "2022-08-02T16:13:21.712948Z",
     "shell.execute_reply.started": "2022-08-02T16:12:16.766549Z"
    },
    "tags": []
   },
   "outputs": [
    {
     "name": "stdout",
     "output_type": "stream",
     "text": [
      "----------------------------------TESTING MODEL WITH 10000 TOKENS-----------------------------------\n",
      "\n",
      "----- One sample outputs for demo -----\n",
      ">> Original sentence: do I take it you haz more tv station than I do ? watch the footie not possible here\n",
      "\n",
      ">> Tokenized sentence: ['do i take it you haz more tv station than i do watch the footie not possible here']\n",
      "\n",
      ">> X_train_enc: [[12, 1, 105, 9, 10, 3606, 85, 413, 1286, 190, 1, 12, 73, 4, 6411, 6, 1135, 87]]\n",
      "\n",
      ">> X_train_ready: [[  12    1  105    9   10 3606   85  413 1286  190    1   12   73    4\n",
      "  6411    6 1135   87    0    0    0    0    0    0    0    0    0    0\n",
      "     0    0    0    0    0    0    0    0    0    0    0    0    0    0\n",
      "     0    0    0    0    0    0    0    0]]\n",
      "\n",
      "Vocab size: 42801\n",
      "\n",
      "Epoch 00001: val_accuracy improved from -inf to 0.56625, saving model to models/archi01_10000Tokens.epoch01-accuracy0.57.hdf5\n",
      "\n",
      "Epoch 00002: val_accuracy improved from 0.56625 to 0.61795, saving model to models/archi01_10000Tokens.epoch02-accuracy0.62.hdf5\n",
      "\n",
      "Epoch 00003: val_accuracy improved from 0.61795 to 0.63590, saving model to models/archi01_10000Tokens.epoch03-accuracy0.64.hdf5\n",
      "\n",
      "Epoch 00004: val_accuracy improved from 0.63590 to 0.66780, saving model to models/archi01_10000Tokens.epoch04-accuracy0.67.hdf5\n",
      "\n",
      "Epoch 00005: val_accuracy improved from 0.66780 to 0.71750, saving model to models/archi01_10000Tokens.epoch05-accuracy0.72.hdf5\n",
      "\n",
      "Epoch 00006: val_accuracy improved from 0.71750 to 0.74720, saving model to models/archi01_10000Tokens.epoch06-accuracy0.75.hdf5\n",
      "\n",
      "Epoch 00007: val_accuracy improved from 0.74720 to 0.75955, saving model to models/archi01_10000Tokens.epoch07-accuracy0.76.hdf5\n",
      "\n",
      "Epoch 00008: val_accuracy improved from 0.75955 to 0.76490, saving model to models/archi01_10000Tokens.epoch08-accuracy0.76.hdf5\n",
      "\n",
      "Epoch 00009: val_accuracy improved from 0.76490 to 0.76910, saving model to models/archi01_10000Tokens.epoch09-accuracy0.77.hdf5\n",
      "\n",
      "Epoch 00010: val_accuracy improved from 0.76910 to 0.76965, saving model to models/archi01_10000Tokens.epoch10-accuracy0.77.hdf5\n",
      "\n",
      "Epoch 00011: val_accuracy improved from 0.76965 to 0.77115, saving model to models/archi01_10000Tokens.epoch11-accuracy0.77.hdf5\n",
      "\n",
      "Epoch 00012: val_accuracy did not improve from 0.77115\n",
      "\n",
      "Epoch 00013: val_accuracy did not improve from 0.77115\n",
      "\n",
      "Epoch 00014: val_accuracy did not improve from 0.77115\n",
      "\n",
      "Epoch 00015: val_accuracy did not improve from 0.77115\n",
      "\n",
      "Epoch 00016: val_accuracy did not improve from 0.77115\n",
      "\n",
      "Epoch 00017: val_accuracy did not improve from 0.77115\n",
      "\n",
      "Epoch 00018: val_accuracy did not improve from 0.77115\n",
      "\n",
      "Epoch 00018: ReduceLROnPlateau reducing learning rate to 5.0000002374872565e-05.\n",
      "\n",
      "Epoch 00019: val_accuracy did not improve from 0.77115\n",
      "\n",
      "Epoch 00020: val_accuracy did not improve from 0.77115\n",
      "Restoring model weights from the end of the best epoch.\n",
      "Epoch 00020: early stopping\n",
      "\n",
      "Training Accuracy: 0.8107\n",
      "Testing Accuracy:  0.7696\n"
     ]
    },
    {
     "data": {
      "image/png": "[encoded data removed]",
      "text/plain": [
       "<Figure size 576x576 with 2 Axes>"
      ]
     },
     "metadata": {
      "needs_background": "light"
     },
     "output_type": "display_data"
    }
   ],
   "source": [
    "search_num_tokens(10000)"
   ]
  },
  {
   "cell_type": "code",
   "execution_count": 28,
   "id": "765795a7-811d-4bdd-beb9-26fba3ad9e6d",
   "metadata": {
    "execution": {
     "iopub.execute_input": "2022-08-02T16:13:21.715521Z",
     "iopub.status.busy": "2022-08-02T16:13:21.715224Z",
     "iopub.status.idle": "2022-08-02T16:13:21.720094Z",
     "shell.execute_reply": "2022-08-02T16:13:21.719300Z",
     "shell.execute_reply.started": "2022-08-02T16:13:21.715498Z"
    },
    "tags": []
   },
   "outputs": [
    {
     "data": {
      "text/plain": [
       "{1000: 0.7634999752044678,\n",
       " 2500: 0.7727500200271606,\n",
       " 5000: 0.7702500224113464,\n",
       " 7500: 0.7730500102043152,\n",
       " 10000: 0.7696499824523926}"
      ]
     },
     "execution_count": 28,
     "metadata": {},
     "output_type": "execute_result"
    }
   ],
   "source": [
    "token_scores"
   ]
  },
  {
   "cell_type": "markdown",
   "id": "e6999c9c-4003-4afc-ac1b-6b94379e82b1",
   "metadata": {},
   "source": [
    "### Essai avec 15000 Tokens <a class=\"anchor\" id=\"TOKENSIZE_15000\"></a> [⇪](#menu)"
   ]
  },
  {
   "cell_type": "code",
   "execution_count": 29,
   "id": "b0a1d788-e680-4543-a518-187fa874ed24",
   "metadata": {
    "execution": {
     "iopub.execute_input": "2022-08-02T16:13:21.721662Z",
     "iopub.status.busy": "2022-08-02T16:13:21.721190Z",
     "iopub.status.idle": "2022-08-02T16:14:24.076952Z",
     "shell.execute_reply": "2022-08-02T16:14:24.076329Z",
     "shell.execute_reply.started": "2022-08-02T16:13:21.721630Z"
    },
    "tags": []
   },
   "outputs": [
    {
     "name": "stdout",
     "output_type": "stream",
     "text": [
      "----------------------------------TESTING MODEL WITH 15000 TOKENS-----------------------------------\n",
      "\n",
      "----- One sample outputs for demo -----\n",
      ">> Original sentence: do I take it you haz more tv station than I do ? watch the footie not possible here\n",
      "\n",
      ">> Tokenized sentence: ['do i take it you haz more tv station than i do watch the footie not possible here']\n",
      "\n",
      ">> X_train_enc: [[12, 1, 105, 9, 10, 3606, 85, 413, 1286, 190, 1, 12, 73, 4, 6411, 6, 1135, 87]]\n",
      "\n",
      ">> X_train_ready: [[  12    1  105    9   10 3606   85  413 1286  190    1   12   73    4\n",
      "  6411    6 1135   87    0    0    0    0    0    0    0    0    0    0\n",
      "     0    0    0    0    0    0    0    0    0    0    0    0    0    0\n",
      "     0    0    0    0    0    0    0    0]]\n",
      "\n",
      "Vocab size: 42801\n",
      "\n",
      "Epoch 00001: val_accuracy improved from -inf to 0.59515, saving model to models/archi01_15000Tokens.epoch01-accuracy0.60.hdf5\n",
      "\n",
      "Epoch 00002: val_accuracy improved from 0.59515 to 0.62435, saving model to models/archi01_15000Tokens.epoch02-accuracy0.62.hdf5\n",
      "\n",
      "Epoch 00003: val_accuracy improved from 0.62435 to 0.63745, saving model to models/archi01_15000Tokens.epoch03-accuracy0.64.hdf5\n",
      "\n",
      "Epoch 00004: val_accuracy improved from 0.63745 to 0.64830, saving model to models/archi01_15000Tokens.epoch04-accuracy0.65.hdf5\n",
      "\n",
      "Epoch 00005: val_accuracy improved from 0.64830 to 0.72295, saving model to models/archi01_15000Tokens.epoch05-accuracy0.72.hdf5\n",
      "\n",
      "Epoch 00006: val_accuracy improved from 0.72295 to 0.74065, saving model to models/archi01_15000Tokens.epoch06-accuracy0.74.hdf5\n",
      "\n",
      "Epoch 00007: val_accuracy improved from 0.74065 to 0.75555, saving model to models/archi01_15000Tokens.epoch07-accuracy0.76.hdf5\n",
      "\n",
      "Epoch 00008: val_accuracy did not improve from 0.75555\n",
      "\n",
      "Epoch 00009: val_accuracy improved from 0.75555 to 0.76800, saving model to models/archi01_15000Tokens.epoch09-accuracy0.77.hdf5\n",
      "\n",
      "Epoch 00010: val_accuracy improved from 0.76800 to 0.76985, saving model to models/archi01_15000Tokens.epoch10-accuracy0.77.hdf5\n",
      "\n",
      "Epoch 00011: val_accuracy improved from 0.76985 to 0.77080, saving model to models/archi01_15000Tokens.epoch11-accuracy0.77.hdf5\n",
      "\n",
      "Epoch 00012: val_accuracy improved from 0.77080 to 0.77105, saving model to models/archi01_15000Tokens.epoch12-accuracy0.77.hdf5\n",
      "\n",
      "Epoch 00013: val_accuracy did not improve from 0.77105\n",
      "\n",
      "Epoch 00014: val_accuracy did not improve from 0.77105\n",
      "\n",
      "Epoch 00015: val_accuracy did not improve from 0.77105\n",
      "\n",
      "Epoch 00016: val_accuracy did not improve from 0.77105\n",
      "\n",
      "Epoch 00017: val_accuracy did not improve from 0.77105\n",
      "\n",
      "Epoch 00017: ReduceLROnPlateau reducing learning rate to 5.0000002374872565e-05.\n",
      "\n",
      "Epoch 00018: val_accuracy did not improve from 0.77105\n",
      "\n",
      "Epoch 00019: val_accuracy did not improve from 0.77105\n",
      "Restoring model weights from the end of the best epoch.\n",
      "Epoch 00019: early stopping\n",
      "\n",
      "Training Accuracy: 0.8048\n",
      "Testing Accuracy:  0.7680\n"
     ]
    },
    {
     "data": {
      "image/png": "[encoded data removed]",
      "text/plain": [
       "<Figure size 576x576 with 2 Axes>"
      ]
     },
     "metadata": {
      "needs_background": "light"
     },
     "output_type": "display_data"
    }
   ],
   "source": [
    "search_num_tokens(15000)"
   ]
  },
  {
   "cell_type": "code",
   "execution_count": 30,
   "id": "49c28983-9962-4bbd-bc11-1aac9a2319d0",
   "metadata": {
    "execution": {
     "iopub.execute_input": "2022-08-02T16:14:24.078276Z",
     "iopub.status.busy": "2022-08-02T16:14:24.077966Z",
     "iopub.status.idle": "2022-08-02T16:14:24.082963Z",
     "shell.execute_reply": "2022-08-02T16:14:24.082203Z",
     "shell.execute_reply.started": "2022-08-02T16:14:24.078255Z"
    },
    "tags": []
   },
   "outputs": [
    {
     "data": {
      "text/plain": [
       "{1000: 0.7634999752044678,\n",
       " 2500: 0.7727500200271606,\n",
       " 5000: 0.7702500224113464,\n",
       " 7500: 0.7730500102043152,\n",
       " 10000: 0.7696499824523926,\n",
       " 15000: 0.7680000066757202}"
      ]
     },
     "execution_count": 30,
     "metadata": {},
     "output_type": "execute_result"
    }
   ],
   "source": [
    "token_scores"
   ]
  },
  {
   "cell_type": "markdown",
   "id": "95b817a5-00bd-4532-a3c7-f7155a4f24ea",
   "metadata": {},
   "source": [
    "### Essai avec 20000 Tokens <a class=\"anchor\" id=\"TOKENSIZE_20000\"></a> [⇪](#menu)"
   ]
  },
  {
   "cell_type": "code",
   "execution_count": 31,
   "id": "8ac6f3fe-acd4-4432-9986-cb02a139b4c5",
   "metadata": {
    "execution": {
     "iopub.execute_input": "2022-08-02T16:14:57.533432Z",
     "iopub.status.busy": "2022-08-02T16:14:57.532888Z",
     "iopub.status.idle": "2022-08-02T16:16:00.086896Z",
     "shell.execute_reply": "2022-08-02T16:16:00.086230Z",
     "shell.execute_reply.started": "2022-08-02T16:14:57.533397Z"
    },
    "tags": []
   },
   "outputs": [
    {
     "name": "stdout",
     "output_type": "stream",
     "text": [
      "----------------------------------TESTING MODEL WITH 20000 TOKENS-----------------------------------\n",
      "\n",
      "----- One sample outputs for demo -----\n",
      ">> Original sentence: do I take it you haz more tv station than I do ? watch the footie not possible here\n",
      "\n",
      ">> Tokenized sentence: ['do i take it you haz more tv station than i do watch the footie not possible here']\n",
      "\n",
      ">> X_train_enc: [[12, 1, 105, 9, 10, 3606, 85, 413, 1286, 190, 1, 12, 73, 4, 6411, 6, 1135, 87]]\n",
      "\n",
      ">> X_train_ready: [[  12    1  105    9   10 3606   85  413 1286  190    1   12   73    4\n",
      "  6411    6 1135   87    0    0    0    0    0    0    0    0    0    0\n",
      "     0    0    0    0    0    0    0    0    0    0    0    0    0    0\n",
      "     0    0    0    0    0    0    0    0]]\n",
      "\n",
      "Vocab size: 42801\n",
      "\n",
      "Epoch 00001: val_accuracy improved from -inf to 0.59810, saving model to models/archi01_20000Tokens.epoch01-accuracy0.60.hdf5\n",
      "\n",
      "Epoch 00002: val_accuracy improved from 0.59810 to 0.60600, saving model to models/archi01_20000Tokens.epoch02-accuracy0.61.hdf5\n",
      "\n",
      "Epoch 00003: val_accuracy improved from 0.60600 to 0.64690, saving model to models/archi01_20000Tokens.epoch03-accuracy0.65.hdf5\n",
      "\n",
      "Epoch 00004: val_accuracy improved from 0.64690 to 0.70375, saving model to models/archi01_20000Tokens.epoch04-accuracy0.70.hdf5\n",
      "\n",
      "Epoch 00005: val_accuracy improved from 0.70375 to 0.72270, saving model to models/archi01_20000Tokens.epoch05-accuracy0.72.hdf5\n",
      "\n",
      "Epoch 00006: val_accuracy improved from 0.72270 to 0.75260, saving model to models/archi01_20000Tokens.epoch06-accuracy0.75.hdf5\n",
      "\n",
      "Epoch 00007: val_accuracy improved from 0.75260 to 0.76200, saving model to models/archi01_20000Tokens.epoch07-accuracy0.76.hdf5\n",
      "\n",
      "Epoch 00008: val_accuracy improved from 0.76200 to 0.76685, saving model to models/archi01_20000Tokens.epoch08-accuracy0.77.hdf5\n",
      "\n",
      "Epoch 00009: val_accuracy improved from 0.76685 to 0.76980, saving model to models/archi01_20000Tokens.epoch09-accuracy0.77.hdf5\n",
      "\n",
      "Epoch 00010: val_accuracy improved from 0.76980 to 0.77125, saving model to models/archi01_20000Tokens.epoch10-accuracy0.77.hdf5\n",
      "\n",
      "Epoch 00011: val_accuracy improved from 0.77125 to 0.77155, saving model to models/archi01_20000Tokens.epoch11-accuracy0.77.hdf5\n",
      "\n",
      "Epoch 00012: val_accuracy improved from 0.77155 to 0.77190, saving model to models/archi01_20000Tokens.epoch12-accuracy0.77.hdf5\n",
      "\n",
      "Epoch 00013: val_accuracy did not improve from 0.77190\n",
      "\n",
      "Epoch 00014: val_accuracy did not improve from 0.77190\n",
      "\n",
      "Epoch 00015: val_accuracy did not improve from 0.77190\n",
      "\n",
      "Epoch 00016: val_accuracy did not improve from 0.77190\n",
      "\n",
      "Epoch 00017: val_accuracy did not improve from 0.77190\n",
      "\n",
      "Epoch 00018: val_accuracy did not improve from 0.77190\n",
      "\n",
      "Epoch 00018: ReduceLROnPlateau reducing learning rate to 5.0000002374872565e-05.\n",
      "\n",
      "Epoch 00019: val_accuracy did not improve from 0.77190\n",
      "Restoring model weights from the end of the best epoch.\n",
      "Epoch 00019: early stopping\n",
      "\n",
      "Training Accuracy: 0.8164\n",
      "Testing Accuracy:  0.7698\n"
     ]
    },
    {
     "data": {
      "image/png": "[encoded data removed]",
      "text/plain": [
       "<Figure size 576x576 with 2 Axes>"
      ]
     },
     "metadata": {
      "needs_background": "light"
     },
     "output_type": "display_data"
    }
   ],
   "source": [
    "search_num_tokens(20000)"
   ]
  },
  {
   "cell_type": "code",
   "execution_count": 32,
   "id": "74c2bf26-c93d-40a6-aab0-c2cffcdf3064",
   "metadata": {
    "execution": {
     "iopub.execute_input": "2022-08-02T16:16:00.088997Z",
     "iopub.status.busy": "2022-08-02T16:16:00.088569Z",
     "iopub.status.idle": "2022-08-02T16:16:00.093704Z",
     "shell.execute_reply": "2022-08-02T16:16:00.093086Z",
     "shell.execute_reply.started": "2022-08-02T16:16:00.088961Z"
    },
    "tags": []
   },
   "outputs": [
    {
     "data": {
      "text/plain": [
       "{1000: 0.7634999752044678,\n",
       " 2500: 0.7727500200271606,\n",
       " 5000: 0.7702500224113464,\n",
       " 7500: 0.7730500102043152,\n",
       " 10000: 0.7696499824523926,\n",
       " 15000: 0.7680000066757202,\n",
       " 20000: 0.7698000073432922}"
      ]
     },
     "execution_count": 32,
     "metadata": {},
     "output_type": "execute_result"
    }
   ],
   "source": [
    "token_scores"
   ]
  },
  {
   "cell_type": "markdown",
   "id": "96dd1c8d-9c76-4515-ac0f-3c80a64389b7",
   "metadata": {},
   "source": [
    "### Essai avec 50000 Tokens <a class=\"anchor\" id=\"TOKENSIZE_50000\"></a> [⇪](#menu)"
   ]
  },
  {
   "cell_type": "code",
   "execution_count": 33,
   "id": "7b0ea429-75e6-4ee8-b55e-e6885d413c4e",
   "metadata": {
    "execution": {
     "iopub.execute_input": "2022-08-02T16:16:18.253417Z",
     "iopub.status.busy": "2022-08-02T16:16:18.253023Z",
     "iopub.status.idle": "2022-08-02T16:17:20.829531Z",
     "shell.execute_reply": "2022-08-02T16:17:20.828900Z",
     "shell.execute_reply.started": "2022-08-02T16:16:18.253391Z"
    },
    "tags": []
   },
   "outputs": [
    {
     "name": "stdout",
     "output_type": "stream",
     "text": [
      "----------------------------------TESTING MODEL WITH 50000 TOKENS-----------------------------------\n",
      "\n",
      "----- One sample outputs for demo -----\n",
      ">> Original sentence: do I take it you haz more tv station than I do ? watch the footie not possible here\n",
      "\n",
      ">> Tokenized sentence: ['do i take it you haz more tv station than i do watch the footie not possible here']\n",
      "\n",
      ">> X_train_enc: [[12, 1, 105, 9, 10, 3606, 85, 413, 1286, 190, 1, 12, 73, 4, 6411, 6, 1135, 87]]\n",
      "\n",
      ">> X_train_ready: [[  12    1  105    9   10 3606   85  413 1286  190    1   12   73    4\n",
      "  6411    6 1135   87    0    0    0    0    0    0    0    0    0    0\n",
      "     0    0    0    0    0    0    0    0    0    0    0    0    0    0\n",
      "     0    0    0    0    0    0    0    0]]\n",
      "\n",
      "Vocab size: 42801\n",
      "\n",
      "Epoch 00001: val_accuracy improved from -inf to 0.58970, saving model to models/archi01_50000Tokens.epoch01-accuracy0.59.hdf5\n",
      "\n",
      "Epoch 00002: val_accuracy improved from 0.58970 to 0.59275, saving model to models/archi01_50000Tokens.epoch02-accuracy0.59.hdf5\n",
      "\n",
      "Epoch 00003: val_accuracy improved from 0.59275 to 0.61975, saving model to models/archi01_50000Tokens.epoch03-accuracy0.62.hdf5\n",
      "\n",
      "Epoch 00004: val_accuracy improved from 0.61975 to 0.63780, saving model to models/archi01_50000Tokens.epoch04-accuracy0.64.hdf5\n",
      "\n",
      "Epoch 00005: val_accuracy improved from 0.63780 to 0.67970, saving model to models/archi01_50000Tokens.epoch05-accuracy0.68.hdf5\n",
      "\n",
      "Epoch 00006: val_accuracy improved from 0.67970 to 0.74495, saving model to models/archi01_50000Tokens.epoch06-accuracy0.74.hdf5\n",
      "\n",
      "Epoch 00007: val_accuracy improved from 0.74495 to 0.75420, saving model to models/archi01_50000Tokens.epoch07-accuracy0.75.hdf5\n",
      "\n",
      "Epoch 00008: val_accuracy improved from 0.75420 to 0.75655, saving model to models/archi01_50000Tokens.epoch08-accuracy0.76.hdf5\n",
      "\n",
      "Epoch 00009: val_accuracy improved from 0.75655 to 0.76625, saving model to models/archi01_50000Tokens.epoch09-accuracy0.77.hdf5\n",
      "\n",
      "Epoch 00010: val_accuracy improved from 0.76625 to 0.77170, saving model to models/archi01_50000Tokens.epoch10-accuracy0.77.hdf5\n",
      "\n",
      "Epoch 00011: val_accuracy improved from 0.77170 to 0.77300, saving model to models/archi01_50000Tokens.epoch11-accuracy0.77.hdf5\n",
      "\n",
      "Epoch 00012: val_accuracy did not improve from 0.77300\n",
      "\n",
      "Epoch 00013: val_accuracy did not improve from 0.77300\n",
      "\n",
      "Epoch 00014: val_accuracy did not improve from 0.77300\n",
      "\n",
      "Epoch 00015: val_accuracy did not improve from 0.77300\n",
      "\n",
      "Epoch 00016: val_accuracy did not improve from 0.77300\n",
      "\n",
      "Epoch 00017: val_accuracy did not improve from 0.77300\n",
      "\n",
      "Epoch 00017: ReduceLROnPlateau reducing learning rate to 5.0000002374872565e-05.\n",
      "\n",
      "Epoch 00018: val_accuracy did not improve from 0.77300\n",
      "\n",
      "Epoch 00019: val_accuracy did not improve from 0.77300\n",
      "Restoring model weights from the end of the best epoch.\n",
      "Epoch 00019: early stopping\n",
      "\n",
      "Training Accuracy: 0.8200\n",
      "Testing Accuracy:  0.7663\n"
     ]
    },
    {
     "data": {
      "image/png": "[encoded data removed]",
      "text/plain": [
       "<Figure size 576x576 with 2 Axes>"
      ]
     },
     "metadata": {
      "needs_background": "light"
     },
     "output_type": "display_data"
    }
   ],
   "source": [
    "search_num_tokens(50000)"
   ]
  },
  {
   "cell_type": "code",
   "execution_count": 34,
   "id": "043da95f-7edb-4e6d-8ad4-38bafae2a9f4",
   "metadata": {
    "execution": {
     "iopub.execute_input": "2022-08-02T16:17:20.831553Z",
     "iopub.status.busy": "2022-08-02T16:17:20.831242Z",
     "iopub.status.idle": "2022-08-02T16:17:20.836414Z",
     "shell.execute_reply": "2022-08-02T16:17:20.835641Z",
     "shell.execute_reply.started": "2022-08-02T16:17:20.831529Z"
    },
    "tags": []
   },
   "outputs": [
    {
     "data": {
      "text/plain": [
       "{1000: 0.7634999752044678,\n",
       " 2500: 0.7727500200271606,\n",
       " 5000: 0.7702500224113464,\n",
       " 7500: 0.7730500102043152,\n",
       " 10000: 0.7696499824523926,\n",
       " 15000: 0.7680000066757202,\n",
       " 20000: 0.7698000073432922,\n",
       " 50000: 0.7662500143051147}"
      ]
     },
     "execution_count": 34,
     "metadata": {},
     "output_type": "execute_result"
    }
   ],
   "source": [
    "token_scores"
   ]
  },
  {
   "cell_type": "markdown",
   "id": "37687b85-7085-44c6-bef5-6366ad379c6b",
   "metadata": {},
   "source": [
    "### Essai avec 100 Tokens <a class=\"anchor\" id=\"TOKENSIZE_100\"></a> [⇪](#menu)"
   ]
  },
  {
   "cell_type": "code",
   "execution_count": 35,
   "id": "cbe197a6-dc09-4bd3-925a-b62ab0d7a19e",
   "metadata": {
    "execution": {
     "iopub.execute_input": "2022-08-02T16:17:58.751247Z",
     "iopub.status.busy": "2022-08-02T16:17:58.750850Z",
     "iopub.status.idle": "2022-08-02T16:19:02.535744Z",
     "shell.execute_reply": "2022-08-02T16:19:02.535115Z",
     "shell.execute_reply.started": "2022-08-02T16:17:58.751221Z"
    },
    "tags": []
   },
   "outputs": [
    {
     "name": "stdout",
     "output_type": "stream",
     "text": [
      "-----------------------------------TESTING MODEL WITH 100 TOKENS------------------------------------\n",
      "\n",
      "----- One sample outputs for demo -----\n",
      ">> Original sentence: do I take it you haz more tv station than I do ? watch the footie not possible here\n",
      "\n",
      ">> Tokenized sentence: ['do i it you more i do watch the not here']\n",
      "\n",
      ">> X_train_enc: [[12, 1, 9, 10, 85, 1, 12, 73, 4, 6, 87]]\n",
      "\n",
      ">> X_train_ready: [[12  1  9 10 85  1 12 73  4  6 87  0  0  0  0  0  0  0  0  0  0  0  0  0\n",
      "   0  0  0  0  0  0  0  0  0  0  0  0  0  0  0  0  0  0  0  0  0  0  0  0\n",
      "   0  0]]\n",
      "\n",
      "Vocab size: 42801\n",
      "\n",
      "Epoch 00001: val_accuracy improved from -inf to 0.58365, saving model to models/archi01_100Tokens.epoch01-accuracy0.58.hdf5\n",
      "\n",
      "Epoch 00002: val_accuracy did not improve from 0.58365\n",
      "\n",
      "Epoch 00003: val_accuracy improved from 0.58365 to 0.59035, saving model to models/archi01_100Tokens.epoch03-accuracy0.59.hdf5\n",
      "\n",
      "Epoch 00004: val_accuracy improved from 0.59035 to 0.61305, saving model to models/archi01_100Tokens.epoch04-accuracy0.61.hdf5\n",
      "\n",
      "Epoch 00005: val_accuracy improved from 0.61305 to 0.64280, saving model to models/archi01_100Tokens.epoch05-accuracy0.64.hdf5\n",
      "\n",
      "Epoch 00006: val_accuracy improved from 0.64280 to 0.64885, saving model to models/archi01_100Tokens.epoch06-accuracy0.65.hdf5\n",
      "\n",
      "Epoch 00007: val_accuracy improved from 0.64885 to 0.66660, saving model to models/archi01_100Tokens.epoch07-accuracy0.67.hdf5\n",
      "\n",
      "Epoch 00008: val_accuracy improved from 0.66660 to 0.67100, saving model to models/archi01_100Tokens.epoch08-accuracy0.67.hdf5\n",
      "\n",
      "Epoch 00009: val_accuracy improved from 0.67100 to 0.67575, saving model to models/archi01_100Tokens.epoch09-accuracy0.68.hdf5\n",
      "\n",
      "Epoch 00010: val_accuracy improved from 0.67575 to 0.67870, saving model to models/archi01_100Tokens.epoch10-accuracy0.68.hdf5\n",
      "\n",
      "Epoch 00011: val_accuracy improved from 0.67870 to 0.68165, saving model to models/archi01_100Tokens.epoch11-accuracy0.68.hdf5\n",
      "\n",
      "Epoch 00012: val_accuracy did not improve from 0.68165\n",
      "\n",
      "Epoch 00013: val_accuracy did not improve from 0.68165\n",
      "\n",
      "Epoch 00014: val_accuracy did not improve from 0.68165\n",
      "\n",
      "Epoch 00015: val_accuracy did not improve from 0.68165\n",
      "\n",
      "Epoch 00016: val_accuracy did not improve from 0.68165\n",
      "\n",
      "Epoch 00017: val_accuracy did not improve from 0.68165\n",
      "\n",
      "Epoch 00018: val_accuracy did not improve from 0.68165\n",
      "\n",
      "Epoch 00019: val_accuracy improved from 0.68165 to 0.68350, saving model to models/archi01_100Tokens.epoch19-accuracy0.68.hdf5\n",
      "\n",
      "Epoch 00020: val_accuracy did not improve from 0.68350\n",
      "Restoring model weights from the end of the best epoch.\n",
      "Epoch 00020: early stopping\n",
      "\n",
      "Training Accuracy: 0.6815\n",
      "Testing Accuracy:  0.6787\n"
     ]
    },
    {
     "data": {
      "image/png": "[encoded data removed]",
      "text/plain": [
       "<Figure size 576x576 with 2 Axes>"
      ]
     },
     "metadata": {
      "needs_background": "light"
     },
     "output_type": "display_data"
    }
   ],
   "source": [
    "search_num_tokens(100)"
   ]
  },
  {
   "cell_type": "code",
   "execution_count": 36,
   "id": "dfda3d74-6754-4b8d-bbf9-37c8ecdee275",
   "metadata": {
    "execution": {
     "iopub.execute_input": "2022-08-02T16:19:02.538081Z",
     "iopub.status.busy": "2022-08-02T16:19:02.537496Z",
     "iopub.status.idle": "2022-08-02T16:19:02.542457Z",
     "shell.execute_reply": "2022-08-02T16:19:02.541818Z",
     "shell.execute_reply.started": "2022-08-02T16:19:02.538054Z"
    },
    "tags": []
   },
   "outputs": [
    {
     "data": {
      "text/plain": [
       "{1000: 0.7634999752044678,\n",
       " 2500: 0.7727500200271606,\n",
       " 5000: 0.7702500224113464,\n",
       " 7500: 0.7730500102043152,\n",
       " 10000: 0.7696499824523926,\n",
       " 15000: 0.7680000066757202,\n",
       " 20000: 0.7698000073432922,\n",
       " 50000: 0.7662500143051147,\n",
       " 100: 0.6786999702453613}"
      ]
     },
     "execution_count": 36,
     "metadata": {},
     "output_type": "execute_result"
    }
   ],
   "source": [
    "token_scores"
   ]
  },
  {
   "cell_type": "markdown",
   "id": "1ec120d1-306e-4e75-afe7-4305292502de",
   "metadata": {},
   "source": [
    "### Essai avec 4000 Tokens <a class=\"anchor\" id=\"TOKENSIZE_4000\"></a> [⇪](#menu)"
   ]
  },
  {
   "cell_type": "code",
   "execution_count": 37,
   "id": "f24e7f68-e1aa-4651-8cc2-3dfe6d2c57fe",
   "metadata": {
    "execution": {
     "iopub.execute_input": "2022-08-02T16:22:28.978852Z",
     "iopub.status.busy": "2022-08-02T16:22:28.978459Z",
     "iopub.status.idle": "2022-08-02T16:23:45.237053Z",
     "shell.execute_reply": "2022-08-02T16:23:45.236435Z",
     "shell.execute_reply.started": "2022-08-02T16:22:28.978828Z"
    },
    "tags": []
   },
   "outputs": [
    {
     "name": "stdout",
     "output_type": "stream",
     "text": [
      "-----------------------------------TESTING MODEL WITH 4000 TOKENS-----------------------------------\n",
      "\n",
      "----- One sample outputs for demo -----\n",
      ">> Original sentence: do I take it you haz more tv station than I do ? watch the footie not possible here\n",
      "\n",
      ">> Tokenized sentence: ['do i take it you haz more tv station than i do watch the not possible here']\n",
      "\n",
      ">> X_train_enc: [[12, 1, 105, 9, 10, 3606, 85, 413, 1286, 190, 1, 12, 73, 4, 6, 1135, 87]]\n",
      "\n",
      ">> X_train_ready: [[  12    1  105    9   10 3606   85  413 1286  190    1   12   73    4\n",
      "     6 1135   87    0    0    0    0    0    0    0    0    0    0    0\n",
      "     0    0    0    0    0    0    0    0    0    0    0    0    0    0\n",
      "     0    0    0    0    0    0    0    0]]\n",
      "\n",
      "Vocab size: 42801\n",
      "\n",
      "Epoch 00001: val_accuracy improved from -inf to 0.57720, saving model to models/archi01_4000Tokens.epoch01-accuracy0.58.hdf5\n",
      "\n",
      "Epoch 00002: val_accuracy improved from 0.57720 to 0.59600, saving model to models/archi01_4000Tokens.epoch02-accuracy0.60.hdf5\n",
      "\n",
      "Epoch 00003: val_accuracy improved from 0.59600 to 0.62490, saving model to models/archi01_4000Tokens.epoch03-accuracy0.62.hdf5\n",
      "\n",
      "Epoch 00004: val_accuracy improved from 0.62490 to 0.67410, saving model to models/archi01_4000Tokens.epoch04-accuracy0.67.hdf5\n",
      "\n",
      "Epoch 00005: val_accuracy improved from 0.67410 to 0.72275, saving model to models/archi01_4000Tokens.epoch05-accuracy0.72.hdf5\n",
      "\n",
      "Epoch 00006: val_accuracy improved from 0.72275 to 0.72455, saving model to models/archi01_4000Tokens.epoch06-accuracy0.72.hdf5\n",
      "\n",
      "Epoch 00007: val_accuracy improved from 0.72455 to 0.74255, saving model to models/archi01_4000Tokens.epoch07-accuracy0.74.hdf5\n",
      "\n",
      "Epoch 00008: val_accuracy improved from 0.74255 to 0.75935, saving model to models/archi01_4000Tokens.epoch08-accuracy0.76.hdf5\n",
      "\n",
      "Epoch 00009: val_accuracy improved from 0.75935 to 0.76540, saving model to models/archi01_4000Tokens.epoch09-accuracy0.77.hdf5\n",
      "\n",
      "Epoch 00010: val_accuracy improved from 0.76540 to 0.76800, saving model to models/archi01_4000Tokens.epoch10-accuracy0.77.hdf5\n",
      "\n",
      "Epoch 00011: val_accuracy improved from 0.76800 to 0.77035, saving model to models/archi01_4000Tokens.epoch11-accuracy0.77.hdf5\n",
      "\n",
      "Epoch 00012: val_accuracy improved from 0.77035 to 0.77040, saving model to models/archi01_4000Tokens.epoch12-accuracy0.77.hdf5\n",
      "\n",
      "Epoch 00013: val_accuracy did not improve from 0.77040\n",
      "\n",
      "Epoch 00014: val_accuracy did not improve from 0.77040\n",
      "\n",
      "Epoch 00015: val_accuracy improved from 0.77040 to 0.77060, saving model to models/archi01_4000Tokens.epoch15-accuracy0.77.hdf5\n",
      "\n",
      "Epoch 00016: val_accuracy improved from 0.77060 to 0.77130, saving model to models/archi01_4000Tokens.epoch16-accuracy0.77.hdf5\n",
      "\n",
      "Epoch 00017: val_accuracy improved from 0.77130 to 0.77365, saving model to models/archi01_4000Tokens.epoch17-accuracy0.77.hdf5\n",
      "\n",
      "Epoch 00018: val_accuracy did not improve from 0.77365\n",
      "\n",
      "Epoch 00019: val_accuracy did not improve from 0.77365\n",
      "\n",
      "Epoch 00020: val_accuracy did not improve from 0.77365\n",
      "\n",
      "Epoch 00021: val_accuracy improved from 0.77365 to 0.77520, saving model to models/archi01_4000Tokens.epoch21-accuracy0.78.hdf5\n",
      "\n",
      "Epoch 00022: val_accuracy did not improve from 0.77520\n",
      "\n",
      "Epoch 00023: val_accuracy improved from 0.77520 to 0.77570, saving model to models/archi01_4000Tokens.epoch23-accuracy0.78.hdf5\n",
      "\n",
      "Epoch 00024: val_accuracy did not improve from 0.77570\n",
      "\n",
      "Epoch 00025: val_accuracy improved from 0.77570 to 0.77655, saving model to models/archi01_4000Tokens.epoch25-accuracy0.78.hdf5\n",
      "Restoring model weights from the end of the best epoch.\n",
      "Epoch 00025: early stopping\n",
      "\n",
      "Training Accuracy: 0.8013\n",
      "Testing Accuracy:  0.7706\n"
     ]
    },
    {
     "data": {
      "image/png": "[encoded data removed]",
      "text/plain": [
       "<Figure size 576x576 with 2 Axes>"
      ]
     },
     "metadata": {
      "needs_background": "light"
     },
     "output_type": "display_data"
    }
   ],
   "source": [
    "search_num_tokens(4000)"
   ]
  },
  {
   "cell_type": "code",
   "execution_count": 38,
   "id": "9e578614-9ac8-4fe0-ac45-6181b5a0b422",
   "metadata": {
    "execution": {
     "iopub.execute_input": "2022-08-02T16:23:45.239177Z",
     "iopub.status.busy": "2022-08-02T16:23:45.238769Z",
     "iopub.status.idle": "2022-08-02T16:23:45.243833Z",
     "shell.execute_reply": "2022-08-02T16:23:45.243276Z",
     "shell.execute_reply.started": "2022-08-02T16:23:45.239143Z"
    },
    "tags": []
   },
   "outputs": [
    {
     "data": {
      "text/plain": [
       "{1000: 0.7634999752044678,\n",
       " 2500: 0.7727500200271606,\n",
       " 5000: 0.7702500224113464,\n",
       " 7500: 0.7730500102043152,\n",
       " 10000: 0.7696499824523926,\n",
       " 15000: 0.7680000066757202,\n",
       " 20000: 0.7698000073432922,\n",
       " 50000: 0.7662500143051147,\n",
       " 100: 0.6786999702453613,\n",
       " 4000: 0.7706000208854675}"
      ]
     },
     "execution_count": 38,
     "metadata": {},
     "output_type": "execute_result"
    }
   ],
   "source": [
    "token_scores"
   ]
  },
  {
   "cell_type": "markdown",
   "id": "1fdb29bf-9e65-4327-8034-60e305567d04",
   "metadata": {},
   "source": [
    "### Essai avec 6000 Tokens <a class=\"anchor\" id=\"TOKENSIZE_6000\"></a> [⇪](#menu)"
   ]
  },
  {
   "cell_type": "code",
   "execution_count": 39,
   "id": "e41eed48-25ec-4d69-9f35-3512356eb7af",
   "metadata": {
    "execution": {
     "iopub.execute_input": "2022-08-02T16:23:45.244991Z",
     "iopub.status.busy": "2022-08-02T16:23:45.244695Z",
     "iopub.status.idle": "2022-08-02T16:24:52.703703Z",
     "shell.execute_reply": "2022-08-02T16:24:52.703071Z",
     "shell.execute_reply.started": "2022-08-02T16:23:45.244970Z"
    },
    "tags": []
   },
   "outputs": [
    {
     "name": "stdout",
     "output_type": "stream",
     "text": [
      "-----------------------------------TESTING MODEL WITH 6000 TOKENS-----------------------------------\n",
      "\n",
      "----- One sample outputs for demo -----\n",
      ">> Original sentence: do I take it you haz more tv station than I do ? watch the footie not possible here\n",
      "\n",
      ">> Tokenized sentence: ['do i take it you haz more tv station than i do watch the not possible here']\n",
      "\n",
      ">> X_train_enc: [[12, 1, 105, 9, 10, 3606, 85, 413, 1286, 190, 1, 12, 73, 4, 6, 1135, 87]]\n",
      "\n",
      ">> X_train_ready: [[  12    1  105    9   10 3606   85  413 1286  190    1   12   73    4\n",
      "     6 1135   87    0    0    0    0    0    0    0    0    0    0    0\n",
      "     0    0    0    0    0    0    0    0    0    0    0    0    0    0\n",
      "     0    0    0    0    0    0    0    0]]\n",
      "\n",
      "Vocab size: 42801\n",
      "\n",
      "Epoch 00001: val_accuracy improved from -inf to 0.58000, saving model to models/archi01_6000Tokens.epoch01-accuracy0.58.hdf5\n",
      "\n",
      "Epoch 00002: val_accuracy improved from 0.58000 to 0.59210, saving model to models/archi01_6000Tokens.epoch02-accuracy0.59.hdf5\n",
      "\n",
      "Epoch 00003: val_accuracy improved from 0.59210 to 0.61870, saving model to models/archi01_6000Tokens.epoch03-accuracy0.62.hdf5\n",
      "\n",
      "Epoch 00004: val_accuracy improved from 0.61870 to 0.68230, saving model to models/archi01_6000Tokens.epoch04-accuracy0.68.hdf5\n",
      "\n",
      "Epoch 00005: val_accuracy improved from 0.68230 to 0.73170, saving model to models/archi01_6000Tokens.epoch05-accuracy0.73.hdf5\n",
      "\n",
      "Epoch 00006: val_accuracy did not improve from 0.73170\n",
      "\n",
      "Epoch 00007: val_accuracy improved from 0.73170 to 0.75150, saving model to models/archi01_6000Tokens.epoch07-accuracy0.75.hdf5\n",
      "\n",
      "Epoch 00008: val_accuracy improved from 0.75150 to 0.75575, saving model to models/archi01_6000Tokens.epoch08-accuracy0.76.hdf5\n",
      "\n",
      "Epoch 00009: val_accuracy improved from 0.75575 to 0.76140, saving model to models/archi01_6000Tokens.epoch09-accuracy0.76.hdf5\n",
      "\n",
      "Epoch 00010: val_accuracy improved from 0.76140 to 0.76530, saving model to models/archi01_6000Tokens.epoch10-accuracy0.77.hdf5\n",
      "\n",
      "Epoch 00011: val_accuracy improved from 0.76530 to 0.76975, saving model to models/archi01_6000Tokens.epoch11-accuracy0.77.hdf5\n",
      "\n",
      "Epoch 00012: val_accuracy improved from 0.76975 to 0.77120, saving model to models/archi01_6000Tokens.epoch12-accuracy0.77.hdf5\n",
      "\n",
      "Epoch 00013: val_accuracy improved from 0.77120 to 0.77355, saving model to models/archi01_6000Tokens.epoch13-accuracy0.77.hdf5\n",
      "\n",
      "Epoch 00014: val_accuracy improved from 0.77355 to 0.77360, saving model to models/archi01_6000Tokens.epoch14-accuracy0.77.hdf5\n",
      "\n",
      "Epoch 00015: val_accuracy did not improve from 0.77360\n",
      "\n",
      "Epoch 00016: val_accuracy did not improve from 0.77360\n",
      "\n",
      "Epoch 00017: val_accuracy did not improve from 0.77360\n",
      "\n",
      "Epoch 00018: val_accuracy did not improve from 0.77360\n",
      "\n",
      "Epoch 00019: val_accuracy did not improve from 0.77360\n",
      "\n",
      "Epoch 00020: val_accuracy did not improve from 0.77360\n",
      "\n",
      "Epoch 00020: ReduceLROnPlateau reducing learning rate to 5.0000002374872565e-05.\n",
      "\n",
      "Epoch 00021: val_accuracy did not improve from 0.77360\n",
      "Restoring model weights from the end of the best epoch.\n",
      "Epoch 00021: early stopping\n",
      "\n",
      "Training Accuracy: 0.7981\n",
      "Testing Accuracy:  0.7697\n"
     ]
    },
    {
     "data": {
      "image/png": "[encoded data removed]",
      "text/plain": [
       "<Figure size 576x576 with 2 Axes>"
      ]
     },
     "metadata": {
      "needs_background": "light"
     },
     "output_type": "display_data"
    }
   ],
   "source": [
    "search_num_tokens(6000)"
   ]
  },
  {
   "cell_type": "code",
   "execution_count": 48,
   "id": "e6068c0c-9861-4b68-8df6-043be46b0bee",
   "metadata": {
    "execution": {
     "iopub.execute_input": "2022-08-02T16:27:40.920279Z",
     "iopub.status.busy": "2022-08-02T16:27:40.919883Z",
     "iopub.status.idle": "2022-08-02T16:27:40.927580Z",
     "shell.execute_reply": "2022-08-02T16:27:40.926791Z",
     "shell.execute_reply.started": "2022-08-02T16:27:40.920255Z"
    },
    "tags": []
   },
   "outputs": [
    {
     "data": {
      "text/plain": [
       "100      0.67870\n",
       "1000     0.76350\n",
       "2500     0.77275\n",
       "4000     0.77060\n",
       "5000     0.77025\n",
       "6000     0.76975\n",
       "7500     0.77305\n",
       "10000    0.76965\n",
       "15000    0.76800\n",
       "20000    0.76980\n",
       "50000    0.76625\n",
       "dtype: float64"
      ]
     },
     "execution_count": 48,
     "metadata": {},
     "output_type": "execute_result"
    }
   ],
   "source": [
    "pd.Series(token_scores).sort_index()"
   ]
  },
  {
   "cell_type": "markdown",
   "id": "8c6dafe5-5761-4f24-8ca5-121bae7e09cd",
   "metadata": {},
   "source": [
    "### Essai avec 3000 Tokens <a class=\"anchor\" id=\"TOKENSIZE_3000\"></a> [⇪](#menu)"
   ]
  },
  {
   "cell_type": "code",
   "execution_count": 49,
   "id": "15d2741c-e41a-46a0-b59d-f2ddc3a050ac",
   "metadata": {
    "execution": {
     "iopub.execute_input": "2022-08-02T16:28:33.308678Z",
     "iopub.status.busy": "2022-08-02T16:28:33.308284Z",
     "iopub.status.idle": "2022-08-02T16:29:38.588776Z",
     "shell.execute_reply": "2022-08-02T16:29:38.588128Z",
     "shell.execute_reply.started": "2022-08-02T16:28:33.308649Z"
    },
    "tags": []
   },
   "outputs": [
    {
     "name": "stdout",
     "output_type": "stream",
     "text": [
      "-----------------------------------TESTING MODEL WITH 3000 TOKENS-----------------------------------\n",
      "\n",
      "----- One sample outputs for demo -----\n",
      ">> Original sentence: do I take it you haz more tv station than I do ? watch the footie not possible here\n",
      "\n",
      ">> Tokenized sentence: ['do i take it you more tv station than i do watch the not possible here']\n",
      "\n",
      ">> X_train_enc: [[12, 1, 105, 9, 10, 85, 413, 1286, 190, 1, 12, 73, 4, 6, 1135, 87]]\n",
      "\n",
      ">> X_train_ready: [[  12    1  105    9   10   85  413 1286  190    1   12   73    4    6\n",
      "  1135   87    0    0    0    0    0    0    0    0    0    0    0    0\n",
      "     0    0    0    0    0    0    0    0    0    0    0    0    0    0\n",
      "     0    0    0    0    0    0    0    0]]\n",
      "\n",
      "Vocab size: 42801\n",
      "\n",
      "Epoch 00001: val_accuracy improved from -inf to 0.58205, saving model to models/archi01_3000Tokens.epoch01-accuracy0.58.hdf5\n",
      "\n",
      "Epoch 00002: val_accuracy improved from 0.58205 to 0.59380, saving model to models/archi01_3000Tokens.epoch02-accuracy0.59.hdf5\n",
      "\n",
      "Epoch 00003: val_accuracy improved from 0.59380 to 0.63775, saving model to models/archi01_3000Tokens.epoch03-accuracy0.64.hdf5\n",
      "\n",
      "Epoch 00004: val_accuracy improved from 0.63775 to 0.66300, saving model to models/archi01_3000Tokens.epoch04-accuracy0.66.hdf5\n",
      "\n",
      "Epoch 00005: val_accuracy improved from 0.66300 to 0.71690, saving model to models/archi01_3000Tokens.epoch05-accuracy0.72.hdf5\n",
      "\n",
      "Epoch 00006: val_accuracy improved from 0.71690 to 0.74295, saving model to models/archi01_3000Tokens.epoch06-accuracy0.74.hdf5\n",
      "\n",
      "Epoch 00007: val_accuracy improved from 0.74295 to 0.75380, saving model to models/archi01_3000Tokens.epoch07-accuracy0.75.hdf5\n",
      "\n",
      "Epoch 00008: val_accuracy improved from 0.75380 to 0.76015, saving model to models/archi01_3000Tokens.epoch08-accuracy0.76.hdf5\n",
      "\n",
      "Epoch 00009: val_accuracy improved from 0.76015 to 0.76475, saving model to models/archi01_3000Tokens.epoch09-accuracy0.76.hdf5\n",
      "\n",
      "Epoch 00010: val_accuracy improved from 0.76475 to 0.76705, saving model to models/archi01_3000Tokens.epoch10-accuracy0.77.hdf5\n",
      "\n",
      "Epoch 00011: val_accuracy improved from 0.76705 to 0.77005, saving model to models/archi01_3000Tokens.epoch11-accuracy0.77.hdf5\n",
      "\n",
      "Epoch 00012: val_accuracy did not improve from 0.77005\n",
      "\n",
      "Epoch 00013: val_accuracy did not improve from 0.77005\n",
      "\n",
      "Epoch 00014: val_accuracy did not improve from 0.77005\n",
      "\n",
      "Epoch 00015: val_accuracy did not improve from 0.77005\n",
      "\n",
      "Epoch 00016: val_accuracy improved from 0.77005 to 0.77110, saving model to models/archi01_3000Tokens.epoch16-accuracy0.77.hdf5\n",
      "\n",
      "Epoch 00017: val_accuracy improved from 0.77110 to 0.77200, saving model to models/archi01_3000Tokens.epoch17-accuracy0.77.hdf5\n",
      "\n",
      "Epoch 00018: val_accuracy did not improve from 0.77200\n",
      "\n",
      "Epoch 00019: val_accuracy improved from 0.77200 to 0.77255, saving model to models/archi01_3000Tokens.epoch19-accuracy0.77.hdf5\n",
      "\n",
      "Epoch 00020: val_accuracy did not improve from 0.77255\n",
      "Restoring model weights from the end of the best epoch.\n",
      "Epoch 00020: early stopping\n",
      "\n",
      "Training Accuracy: 0.7907\n",
      "Testing Accuracy:  0.7671\n"
     ]
    },
    {
     "data": {
      "image/png": "[encoded data removed]",
      "text/plain": [
       "<Figure size 576x576 with 2 Axes>"
      ]
     },
     "metadata": {
      "needs_background": "light"
     },
     "output_type": "display_data"
    }
   ],
   "source": [
    "search_num_tokens(3000)"
   ]
  },
  {
   "cell_type": "code",
   "execution_count": 50,
   "id": "0a967ff7-dd19-42aa-ad77-9c59358dfd66",
   "metadata": {
    "execution": {
     "iopub.execute_input": "2022-08-02T16:29:38.591533Z",
     "iopub.status.busy": "2022-08-02T16:29:38.591230Z",
     "iopub.status.idle": "2022-08-02T16:29:38.598170Z",
     "shell.execute_reply": "2022-08-02T16:29:38.597389Z",
     "shell.execute_reply.started": "2022-08-02T16:29:38.591510Z"
    },
    "tags": []
   },
   "outputs": [
    {
     "data": {
      "text/plain": [
       "100      0.67870\n",
       "1000     0.76350\n",
       "2500     0.77275\n",
       "3000     0.76705\n",
       "4000     0.77060\n",
       "5000     0.77025\n",
       "6000     0.76975\n",
       "7500     0.77305\n",
       "10000    0.76965\n",
       "15000    0.76800\n",
       "20000    0.76980\n",
       "50000    0.76625\n",
       "dtype: float64"
      ]
     },
     "execution_count": 50,
     "metadata": {},
     "output_type": "execute_result"
    }
   ],
   "source": [
    "pd.Series(token_scores).sort_index()"
   ]
  },
  {
   "cell_type": "markdown",
   "id": "8645ae2e-3f16-4edb-b308-6f0b4cdc4294",
   "metadata": {},
   "source": [
    "### Essai avec 3500 Tokens <a class=\"anchor\" id=\"TOKENSIZE_3500\"></a> [⇪](#menu)"
   ]
  },
  {
   "cell_type": "code",
   "execution_count": 51,
   "id": "ec0eed93-fc97-4db2-a7b0-d129a738896a",
   "metadata": {
    "execution": {
     "iopub.execute_input": "2022-08-02T16:29:38.599962Z",
     "iopub.status.busy": "2022-08-02T16:29:38.599423Z",
     "iopub.status.idle": "2022-08-02T16:30:44.741545Z",
     "shell.execute_reply": "2022-08-02T16:30:44.740912Z",
     "shell.execute_reply.started": "2022-08-02T16:29:38.599937Z"
    },
    "tags": []
   },
   "outputs": [
    {
     "name": "stdout",
     "output_type": "stream",
     "text": [
      "-----------------------------------TESTING MODEL WITH 3500 TOKENS-----------------------------------\n",
      "\n",
      "----- One sample outputs for demo -----\n",
      ">> Original sentence: do I take it you haz more tv station than I do ? watch the footie not possible here\n",
      "\n",
      ">> Tokenized sentence: ['do i take it you more tv station than i do watch the not possible here']\n",
      "\n",
      ">> X_train_enc: [[12, 1, 105, 9, 10, 85, 413, 1286, 190, 1, 12, 73, 4, 6, 1135, 87]]\n",
      "\n",
      ">> X_train_ready: [[  12    1  105    9   10   85  413 1286  190    1   12   73    4    6\n",
      "  1135   87    0    0    0    0    0    0    0    0    0    0    0    0\n",
      "     0    0    0    0    0    0    0    0    0    0    0    0    0    0\n",
      "     0    0    0    0    0    0    0    0]]\n",
      "\n",
      "Vocab size: 42801\n",
      "\n",
      "Epoch 00001: val_accuracy improved from -inf to 0.58395, saving model to models/archi01_3500Tokens.epoch01-accuracy0.58.hdf5\n",
      "\n",
      "Epoch 00002: val_accuracy improved from 0.58395 to 0.60315, saving model to models/archi01_3500Tokens.epoch02-accuracy0.60.hdf5\n",
      "\n",
      "Epoch 00003: val_accuracy improved from 0.60315 to 0.64870, saving model to models/archi01_3500Tokens.epoch03-accuracy0.65.hdf5\n",
      "\n",
      "Epoch 00004: val_accuracy improved from 0.64870 to 0.67330, saving model to models/archi01_3500Tokens.epoch04-accuracy0.67.hdf5\n",
      "\n",
      "Epoch 00005: val_accuracy improved from 0.67330 to 0.67930, saving model to models/archi01_3500Tokens.epoch05-accuracy0.68.hdf5\n",
      "\n",
      "Epoch 00006: val_accuracy improved from 0.67930 to 0.74960, saving model to models/archi01_3500Tokens.epoch06-accuracy0.75.hdf5\n",
      "\n",
      "Epoch 00007: val_accuracy improved from 0.74960 to 0.75310, saving model to models/archi01_3500Tokens.epoch07-accuracy0.75.hdf5\n",
      "\n",
      "Epoch 00008: val_accuracy improved from 0.75310 to 0.76045, saving model to models/archi01_3500Tokens.epoch08-accuracy0.76.hdf5\n",
      "\n",
      "Epoch 00009: val_accuracy improved from 0.76045 to 0.76510, saving model to models/archi01_3500Tokens.epoch09-accuracy0.77.hdf5\n",
      "\n",
      "Epoch 00010: val_accuracy improved from 0.76510 to 0.76755, saving model to models/archi01_3500Tokens.epoch10-accuracy0.77.hdf5\n",
      "\n",
      "Epoch 00011: val_accuracy improved from 0.76755 to 0.77000, saving model to models/archi01_3500Tokens.epoch11-accuracy0.77.hdf5\n",
      "\n",
      "Epoch 00012: val_accuracy improved from 0.77000 to 0.77050, saving model to models/archi01_3500Tokens.epoch12-accuracy0.77.hdf5\n",
      "\n",
      "Epoch 00013: val_accuracy improved from 0.77050 to 0.77195, saving model to models/archi01_3500Tokens.epoch13-accuracy0.77.hdf5\n",
      "\n",
      "Epoch 00014: val_accuracy did not improve from 0.77195\n",
      "\n",
      "Epoch 00015: val_accuracy improved from 0.77195 to 0.77255, saving model to models/archi01_3500Tokens.epoch15-accuracy0.77.hdf5\n",
      "\n",
      "Epoch 00016: val_accuracy improved from 0.77255 to 0.77270, saving model to models/archi01_3500Tokens.epoch16-accuracy0.77.hdf5\n",
      "\n",
      "Epoch 00017: val_accuracy improved from 0.77270 to 0.77335, saving model to models/archi01_3500Tokens.epoch17-accuracy0.77.hdf5\n",
      "\n",
      "Epoch 00018: val_accuracy did not improve from 0.77335\n",
      "\n",
      "Epoch 00019: val_accuracy did not improve from 0.77335\n",
      "\n",
      "Epoch 00020: val_accuracy did not improve from 0.77335\n",
      "Restoring model weights from the end of the best epoch.\n",
      "\n",
      "Epoch 00020: ReduceLROnPlateau reducing learning rate to 5.0000002374872565e-05.\n",
      "Epoch 00020: early stopping\n",
      "\n",
      "Training Accuracy: 0.7913\n",
      "Testing Accuracy:  0.7675\n"
     ]
    },
    {
     "data": {
      "image/png": "[encoded data removed]",
      "text/plain": [
       "<Figure size 576x576 with 2 Axes>"
      ]
     },
     "metadata": {
      "needs_background": "light"
     },
     "output_type": "display_data"
    }
   ],
   "source": [
    "search_num_tokens(3500)"
   ]
  },
  {
   "cell_type": "code",
   "execution_count": 52,
   "id": "2ad68f31-a9bd-4f43-9752-117ea46b0c75",
   "metadata": {
    "execution": {
     "iopub.execute_input": "2022-08-02T16:30:44.743861Z",
     "iopub.status.busy": "2022-08-02T16:30:44.743562Z",
     "iopub.status.idle": "2022-08-02T16:30:44.750334Z",
     "shell.execute_reply": "2022-08-02T16:30:44.749628Z",
     "shell.execute_reply.started": "2022-08-02T16:30:44.743838Z"
    },
    "tags": []
   },
   "outputs": [
    {
     "data": {
      "text/plain": [
       "100      0.67870\n",
       "1000     0.76350\n",
       "2500     0.77275\n",
       "3000     0.76705\n",
       "3500     0.76755\n",
       "4000     0.77060\n",
       "5000     0.77025\n",
       "6000     0.76975\n",
       "7500     0.77305\n",
       "10000    0.76965\n",
       "15000    0.76800\n",
       "20000    0.76980\n",
       "50000    0.76625\n",
       "dtype: float64"
      ]
     },
     "execution_count": 52,
     "metadata": {},
     "output_type": "execute_result"
    }
   ],
   "source": [
    "pd.Series(token_scores).sort_index()"
   ]
  },
  {
   "cell_type": "markdown",
   "id": "90a3c6f7-12c4-4352-8532-c6746bcb9ba0",
   "metadata": {},
   "source": [
    "### Essai avec 4500 Tokens <a class=\"anchor\" id=\"TOKENSIZE_4500\"></a> [⇪](#menu)"
   ]
  },
  {
   "cell_type": "code",
   "execution_count": 53,
   "id": "6bf180b8-c27e-4de8-a209-b53ed3933f43",
   "metadata": {
    "execution": {
     "iopub.execute_input": "2022-08-02T16:31:20.554682Z",
     "iopub.status.busy": "2022-08-02T16:31:20.554255Z",
     "iopub.status.idle": "2022-08-02T16:32:50.983529Z",
     "shell.execute_reply": "2022-08-02T16:32:50.982856Z",
     "shell.execute_reply.started": "2022-08-02T16:31:20.554654Z"
    },
    "tags": []
   },
   "outputs": [
    {
     "name": "stdout",
     "output_type": "stream",
     "text": [
      "-----------------------------------TESTING MODEL WITH 4500 TOKENS-----------------------------------\n",
      "\n",
      "----- One sample outputs for demo -----\n",
      ">> Original sentence: do I take it you haz more tv station than I do ? watch the footie not possible here\n",
      "\n",
      ">> Tokenized sentence: ['do i take it you haz more tv station than i do watch the not possible here']\n",
      "\n",
      ">> X_train_enc: [[12, 1, 105, 9, 10, 3606, 85, 413, 1286, 190, 1, 12, 73, 4, 6, 1135, 87]]\n",
      "\n",
      ">> X_train_ready: [[  12    1  105    9   10 3606   85  413 1286  190    1   12   73    4\n",
      "     6 1135   87    0    0    0    0    0    0    0    0    0    0    0\n",
      "     0    0    0    0    0    0    0    0    0    0    0    0    0    0\n",
      "     0    0    0    0    0    0    0    0]]\n",
      "\n",
      "Vocab size: 42801\n",
      "\n",
      "Epoch 00001: val_accuracy improved from -inf to 0.56540, saving model to models/archi01_4500Tokens.epoch01-accuracy0.57.hdf5\n",
      "\n",
      "Epoch 00002: val_accuracy improved from 0.56540 to 0.62015, saving model to models/archi01_4500Tokens.epoch02-accuracy0.62.hdf5\n",
      "\n",
      "Epoch 00003: val_accuracy improved from 0.62015 to 0.63270, saving model to models/archi01_4500Tokens.epoch03-accuracy0.63.hdf5\n",
      "\n",
      "Epoch 00004: val_accuracy improved from 0.63270 to 0.65580, saving model to models/archi01_4500Tokens.epoch04-accuracy0.66.hdf5\n",
      "\n",
      "Epoch 00005: val_accuracy improved from 0.65580 to 0.66780, saving model to models/archi01_4500Tokens.epoch05-accuracy0.67.hdf5\n",
      "\n",
      "Epoch 00006: val_accuracy improved from 0.66780 to 0.74530, saving model to models/archi01_4500Tokens.epoch06-accuracy0.75.hdf5\n",
      "\n",
      "Epoch 00007: val_accuracy improved from 0.74530 to 0.75240, saving model to models/archi01_4500Tokens.epoch07-accuracy0.75.hdf5\n",
      "\n",
      "Epoch 00008: val_accuracy improved from 0.75240 to 0.75715, saving model to models/archi01_4500Tokens.epoch08-accuracy0.76.hdf5\n",
      "\n",
      "Epoch 00009: val_accuracy improved from 0.75715 to 0.76375, saving model to models/archi01_4500Tokens.epoch09-accuracy0.76.hdf5\n",
      "\n",
      "Epoch 00010: val_accuracy improved from 0.76375 to 0.76720, saving model to models/archi01_4500Tokens.epoch10-accuracy0.77.hdf5\n",
      "\n",
      "Epoch 00011: val_accuracy improved from 0.76720 to 0.77020, saving model to models/archi01_4500Tokens.epoch11-accuracy0.77.hdf5\n",
      "\n",
      "Epoch 00012: val_accuracy improved from 0.77020 to 0.77120, saving model to models/archi01_4500Tokens.epoch12-accuracy0.77.hdf5\n",
      "\n",
      "Epoch 00013: val_accuracy did not improve from 0.77120\n",
      "\n",
      "Epoch 00014: val_accuracy did not improve from 0.77120\n",
      "\n",
      "Epoch 00015: val_accuracy improved from 0.77120 to 0.77255, saving model to models/archi01_4500Tokens.epoch15-accuracy0.77.hdf5\n",
      "\n",
      "Epoch 00016: val_accuracy improved from 0.77255 to 0.77355, saving model to models/archi01_4500Tokens.epoch16-accuracy0.77.hdf5\n",
      "\n",
      "Epoch 00017: val_accuracy did not improve from 0.77355\n",
      "\n",
      "Epoch 00018: val_accuracy did not improve from 0.77355\n",
      "\n",
      "Epoch 00019: val_accuracy did not improve from 0.77355\n",
      "\n",
      "Epoch 00020: val_accuracy improved from 0.77355 to 0.77445, saving model to models/archi01_4500Tokens.epoch20-accuracy0.77.hdf5\n",
      "\n",
      "Epoch 00021: val_accuracy did not improve from 0.77445\n",
      "\n",
      "Epoch 00022: val_accuracy did not improve from 0.77445\n",
      "\n",
      "Epoch 00023: val_accuracy improved from 0.77445 to 0.77470, saving model to models/archi01_4500Tokens.epoch23-accuracy0.77.hdf5\n",
      "\n",
      "Epoch 00024: val_accuracy did not improve from 0.77470\n",
      "\n",
      "Epoch 00025: val_accuracy did not improve from 0.77470\n",
      "\n",
      "Epoch 00026: val_accuracy improved from 0.77470 to 0.77635, saving model to models/archi01_4500Tokens.epoch26-accuracy0.78.hdf5\n",
      "\n",
      "Epoch 00027: val_accuracy did not improve from 0.77635\n",
      "\n",
      "Epoch 00027: ReduceLROnPlateau reducing learning rate to 5.0000002374872565e-05.\n",
      "\n",
      "Epoch 00028: val_accuracy did not improve from 0.77635\n",
      "\n",
      "Epoch 00029: val_accuracy did not improve from 0.77635\n",
      "\n",
      "Epoch 00030: val_accuracy improved from 0.77635 to 0.77640, saving model to models/archi01_4500Tokens.epoch30-accuracy0.78.hdf5\n",
      "Restoring model weights from the end of the best epoch.\n",
      "Epoch 00030: early stopping\n",
      "\n",
      "Training Accuracy: 0.8131\n",
      "Testing Accuracy:  0.7745\n"
     ]
    },
    {
     "data": {
      "image/png": "[encoded data removed]",
      "text/plain": [
       "<Figure size 576x576 with 2 Axes>"
      ]
     },
     "metadata": {
      "needs_background": "light"
     },
     "output_type": "display_data"
    }
   ],
   "source": [
    "search_num_tokens(4500)"
   ]
  },
  {
   "cell_type": "code",
   "execution_count": 54,
   "id": "5e1d91eb-3a05-481a-9fc4-e30767e90a93",
   "metadata": {
    "execution": {
     "iopub.execute_input": "2022-08-02T16:32:50.985833Z",
     "iopub.status.busy": "2022-08-02T16:32:50.985220Z",
     "iopub.status.idle": "2022-08-02T16:32:50.992433Z",
     "shell.execute_reply": "2022-08-02T16:32:50.991705Z",
     "shell.execute_reply.started": "2022-08-02T16:32:50.985795Z"
    },
    "tags": []
   },
   "outputs": [
    {
     "data": {
      "text/plain": [
       "100      0.67870\n",
       "1000     0.76350\n",
       "2500     0.77275\n",
       "3000     0.76705\n",
       "3500     0.76755\n",
       "4000     0.77060\n",
       "4500     0.77445\n",
       "5000     0.77025\n",
       "6000     0.76975\n",
       "7500     0.77305\n",
       "10000    0.76965\n",
       "15000    0.76800\n",
       "20000    0.76980\n",
       "50000    0.76625\n",
       "dtype: float64"
      ]
     },
     "execution_count": 54,
     "metadata": {},
     "output_type": "execute_result"
    }
   ],
   "source": [
    "pd.Series(token_scores).sort_index()"
   ]
  },
  {
   "cell_type": "markdown",
   "id": "7c38a992-ed42-4e61-8148-38a6eefdf365",
   "metadata": {},
   "source": [
    ">### On constate que la taille idéale de Tokens pour ce jeu de données se situe autour de **4500 tokens**."
   ]
  },
  {
   "cell_type": "markdown",
   "id": "44f14bdb-7199-4de9-b3a6-1078fd1e91f3",
   "metadata": {},
   "source": [
    "---\n",
    "## 2.2 Essais avec tout le jeu de données <a class=\"anchor\" id=\"TOKENSIZE_full\"></a> [⇪](#menu)"
   ]
  },
  {
   "cell_type": "markdown",
   "id": "e3b8c331-bc27-4a11-b9d0-919a7844e0ad",
   "metadata": {},
   "source": [
    ">#### **Ces tests ont été fait avant les test avec 100K samples**, mais comme c'était assez long, j'ai vérifié si on avant la même tendance avec 100K *(ce qui est le cas)* avant d'affiner la recherche."
   ]
  },
  {
   "cell_type": "code",
   "execution_count": null,
   "id": "4b8aecfa-15e3-4681-a14c-dc761796a227",
   "metadata": {
    "execution": {
     "iopub.execute_input": "2022-08-01T20:50:08.191401Z",
     "iopub.status.busy": "2022-08-01T20:50:08.191084Z"
    },
    "tags": []
   },
   "outputs": [
    {
     "name": "stdout",
     "output_type": "stream",
     "text": [
      "Testing model with 1000 tokens\n",
      "----- One sample outputs for demo -----\n",
      ">> Original sentence: you too be fake .. :x ... disguise your link to be something else .\n",
      "\n",
      ">> Tokenized sentence: ['you too be x your link to be something else']\n",
      "\n",
      ">> X_train_enc: [[10, 46, 2, 197, 44, 456, 3, 2, 199, 447]]\n",
      "\n",
      ">> X_train_ready: [[ 10  46   2 197  44 456   3   2 199 447   0   0   0   0   0   0   0   0\n",
      "    0   0   0   0   0   0   0   0   0   0   0   0   0   0   0   0   0   0\n",
      "    0   0   0   0   0   0   0   0   0   0   0   0   0   0]]\n",
      "\n",
      "Vocab size: 228026\n"
     ]
    },
    {
     "name": "stderr",
     "output_type": "stream",
     "text": [
      "2022-08-01 20:50:50.058766: I tensorflow/compiler/jit/xla_cpu_device.cc:41] Not creating XLA devices, tf_xla_enable_xla_devices not set\n",
      "2022-08-01 20:50:50.059714: I tensorflow/stream_executor/platform/default/dso_loader.cc:49] Successfully opened dynamic library libcuda.so.1\n",
      "2022-08-01 20:50:50.111355: I tensorflow/stream_executor/cuda/cuda_gpu_executor.cc:941] successful NUMA node read from SysFS had negative value (-1), but there must be at least one NUMA node, so returning NUMA node zero\n",
      "2022-08-01 20:50:50.111907: I tensorflow/core/common_runtime/gpu/gpu_device.cc:1720] Found device 0 with properties: \n",
      "pciBusID: 0000:00:1e.0 name: Tesla T4 computeCapability: 7.5\n",
      "coreClock: 1.59GHz coreCount: 40 deviceMemorySize: 14.75GiB deviceMemoryBandwidth: 298.08GiB/s\n",
      "2022-08-01 20:50:50.111952: I tensorflow/stream_executor/platform/default/dso_loader.cc:49] Successfully opened dynamic library libcudart.so.10.1\n",
      "2022-08-01 20:50:50.113559: I tensorflow/stream_executor/platform/default/dso_loader.cc:49] Successfully opened dynamic library libcublas.so.10\n",
      "2022-08-01 20:50:50.113633: I tensorflow/stream_executor/platform/default/dso_loader.cc:49] Successfully opened dynamic library libcublasLt.so.10\n",
      "2022-08-01 20:50:50.115092: I tensorflow/stream_executor/platform/default/dso_loader.cc:49] Successfully opened dynamic library libcufft.so.10\n",
      "2022-08-01 20:50:50.115402: I tensorflow/stream_executor/platform/default/dso_loader.cc:49] Successfully opened dynamic library libcurand.so.10\n",
      "2022-08-01 20:50:50.116817: I tensorflow/stream_executor/platform/default/dso_loader.cc:49] Successfully opened dynamic library libcusolver.so.10\n",
      "2022-08-01 20:50:50.117542: I tensorflow/stream_executor/platform/default/dso_loader.cc:49] Successfully opened dynamic library libcusparse.so.10\n",
      "2022-08-01 20:50:50.120549: I tensorflow/stream_executor/platform/default/dso_loader.cc:49] Successfully opened dynamic library libcudnn.so.7\n",
      "2022-08-01 20:50:50.120685: I tensorflow/stream_executor/cuda/cuda_gpu_executor.cc:941] successful NUMA node read from SysFS had negative value (-1), but there must be at least one NUMA node, so returning NUMA node zero\n",
      "2022-08-01 20:50:50.121307: I tensorflow/stream_executor/cuda/cuda_gpu_executor.cc:941] successful NUMA node read from SysFS had negative value (-1), but there must be at least one NUMA node, so returning NUMA node zero\n",
      "2022-08-01 20:50:50.121844: I tensorflow/core/common_runtime/gpu/gpu_device.cc:1862] Adding visible gpu devices: 0\n",
      "2022-08-01 20:50:50.122160: I tensorflow/core/platform/cpu_feature_guard.cc:142] This TensorFlow binary is optimized with oneAPI Deep Neural Network Library (oneDNN) to use the following CPU instructions in performance-critical operations:  SSE4.1 SSE4.2 AVX AVX2 AVX512F FMA\n",
      "To enable them in other operations, rebuild TensorFlow with the appropriate compiler flags.\n",
      "2022-08-01 20:50:50.122358: I tensorflow/compiler/jit/xla_gpu_device.cc:99] Not creating XLA devices, tf_xla_enable_xla_devices not set\n",
      "2022-08-01 20:50:50.122481: I tensorflow/stream_executor/cuda/cuda_gpu_executor.cc:941] successful NUMA node read from SysFS had negative value (-1), but there must be at least one NUMA node, so returning NUMA node zero\n",
      "2022-08-01 20:50:50.123001: I tensorflow/core/common_runtime/gpu/gpu_device.cc:1720] Found device 0 with properties: \n",
      "pciBusID: 0000:00:1e.0 name: Tesla T4 computeCapability: 7.5\n",
      "coreClock: 1.59GHz coreCount: 40 deviceMemorySize: 14.75GiB deviceMemoryBandwidth: 298.08GiB/s\n",
      "2022-08-01 20:50:50.123035: I tensorflow/stream_executor/platform/default/dso_loader.cc:49] Successfully opened dynamic library libcudart.so.10.1\n",
      "2022-08-01 20:50:50.123053: I tensorflow/stream_executor/platform/default/dso_loader.cc:49] Successfully opened dynamic library libcublas.so.10\n",
      "2022-08-01 20:50:50.123069: I tensorflow/stream_executor/platform/default/dso_loader.cc:49] Successfully opened dynamic library libcublasLt.so.10\n",
      "2022-08-01 20:50:50.123084: I tensorflow/stream_executor/platform/default/dso_loader.cc:49] Successfully opened dynamic library libcufft.so.10\n",
      "2022-08-01 20:50:50.123100: I tensorflow/stream_executor/platform/default/dso_loader.cc:49] Successfully opened dynamic library libcurand.so.10\n",
      "2022-08-01 20:50:50.123115: I tensorflow/stream_executor/platform/default/dso_loader.cc:49] Successfully opened dynamic library libcusolver.so.10\n",
      "2022-08-01 20:50:50.123131: I tensorflow/stream_executor/platform/default/dso_loader.cc:49] Successfully opened dynamic library libcusparse.so.10\n",
      "2022-08-01 20:50:50.123147: I tensorflow/stream_executor/platform/default/dso_loader.cc:49] Successfully opened dynamic library libcudnn.so.7\n",
      "2022-08-01 20:50:50.123216: I tensorflow/stream_executor/cuda/cuda_gpu_executor.cc:941] successful NUMA node read from SysFS had negative value (-1), but there must be at least one NUMA node, so returning NUMA node zero\n",
      "2022-08-01 20:50:50.123764: I tensorflow/stream_executor/cuda/cuda_gpu_executor.cc:941] successful NUMA node read from SysFS had negative value (-1), but there must be at least one NUMA node, so returning NUMA node zero\n",
      "2022-08-01 20:50:50.124258: I tensorflow/core/common_runtime/gpu/gpu_device.cc:1862] Adding visible gpu devices: 0\n",
      "2022-08-01 20:50:50.124297: I tensorflow/stream_executor/platform/default/dso_loader.cc:49] Successfully opened dynamic library libcudart.so.10.1\n",
      "2022-08-01 20:50:50.688037: I tensorflow/core/common_runtime/gpu/gpu_device.cc:1261] Device interconnect StreamExecutor with strength 1 edge matrix:\n",
      "2022-08-01 20:50:50.688073: I tensorflow/core/common_runtime/gpu/gpu_device.cc:1267]      0 \n",
      "2022-08-01 20:50:50.688082: I tensorflow/core/common_runtime/gpu/gpu_device.cc:1280] 0:   N \n",
      "2022-08-01 20:50:50.688328: I tensorflow/stream_executor/cuda/cuda_gpu_executor.cc:941] successful NUMA node read from SysFS had negative value (-1), but there must be at least one NUMA node, so returning NUMA node zero\n",
      "2022-08-01 20:50:50.688962: I tensorflow/stream_executor/cuda/cuda_gpu_executor.cc:941] successful NUMA node read from SysFS had negative value (-1), but there must be at least one NUMA node, so returning NUMA node zero\n",
      "2022-08-01 20:50:50.689520: I tensorflow/stream_executor/cuda/cuda_gpu_executor.cc:941] successful NUMA node read from SysFS had negative value (-1), but there must be at least one NUMA node, so returning NUMA node zero\n",
      "2022-08-01 20:50:50.690064: I tensorflow/core/common_runtime/gpu/gpu_device.cc:1406] Created TensorFlow device (/job:localhost/replica:0/task:0/device:GPU:0 with 13971 MB memory) -> physical GPU (device: 0, name: Tesla T4, pci bus id: 0000:00:1e.0, compute capability: 7.5)\n",
      "2022-08-01 20:50:50.692130: W tensorflow/core/framework/cpu_allocator_impl.cc:80] Allocation of 91210400 exceeds 10% of free system memory.\n",
      "2022-08-01 20:50:50.828263: W tensorflow/core/framework/cpu_allocator_impl.cc:80] Allocation of 91210400 exceeds 10% of free system memory.\n",
      "2022-08-01 20:50:50.853434: W tensorflow/core/framework/cpu_allocator_impl.cc:80] Allocation of 91210400 exceeds 10% of free system memory.\n",
      "2022-08-01 20:50:51.519238: W tensorflow/core/framework/cpu_allocator_impl.cc:80] Allocation of 232446400 exceeds 10% of free system memory.\n",
      "2022-08-01 20:50:51.712285: I tensorflow/compiler/mlir/mlir_graph_optimization_pass.cc:116] None of the MLIR optimization passes are enabled (registered 2)\n",
      "2022-08-01 20:50:51.729899: I tensorflow/core/platform/profile_utils/cpu_utils.cc:112] CPU Frequency: 2500000000 Hz\n"
     ]
    },
    {
     "name": "stdout",
     "output_type": "stream",
     "text": [
      "Epoch 1/50\n"
     ]
    },
    {
     "name": "stderr",
     "output_type": "stream",
     "text": [
      "2022-08-01 20:50:52.561981: W tensorflow/core/framework/cpu_allocator_impl.cc:80] Allocation of 91210400 exceeds 10% of free system memory.\n",
      "2022-08-01 20:50:53.793973: I tensorflow/stream_executor/platform/default/dso_loader.cc:49] Successfully opened dynamic library libcublas.so.10\n",
      "2022-08-01 20:50:54.333898: I tensorflow/stream_executor/platform/default/dso_loader.cc:49] Successfully opened dynamic library libcudnn.so.7\n"
     ]
    },
    {
     "name": "stdout",
     "output_type": "stream",
     "text": [
      "142/142 [==============================] - 54s 356ms/step - loss: 0.6221 - accuracy: 0.6507 - val_loss: 0.4911 - val_accuracy: 0.7707\n",
      "\n",
      "Epoch 00001: val_accuracy improved from -inf to 0.77069, saving model to models/archi01_RAW.epoch01-accuracy0.77.hdf5\n",
      "Epoch 2/50\n",
      "142/142 [==============================] - 50s 352ms/step - loss: 0.4869 - accuracy: 0.7703 - val_loss: 0.4740 - val_accuracy: 0.7747\n",
      "\n",
      "Epoch 00002: val_accuracy improved from 0.77069 to 0.77472, saving model to models/archi01_RAW.epoch02-accuracy0.77.hdf5\n",
      "Epoch 3/50\n",
      "142/142 [==============================] - 50s 352ms/step - loss: 0.4704 - accuracy: 0.7757 - val_loss: 0.4649 - val_accuracy: 0.7778\n",
      "\n",
      "Epoch 00003: val_accuracy improved from 0.77472 to 0.77776, saving model to models/archi01_RAW.epoch03-accuracy0.78.hdf5\n",
      "Epoch 4/50\n",
      "142/142 [==============================] - 50s 351ms/step - loss: 0.4639 - accuracy: 0.7777 - val_loss: 0.4637 - val_accuracy: 0.7782\n",
      "\n",
      "Epoch 00004: val_accuracy improved from 0.77776 to 0.77816, saving model to models/archi01_RAW.epoch04-accuracy0.78.hdf5\n",
      "Epoch 5/50\n",
      "142/142 [==============================] - 50s 350ms/step - loss: 0.4599 - accuracy: 0.7798 - val_loss: 0.4588 - val_accuracy: 0.7811\n",
      "\n",
      "Epoch 00005: val_accuracy improved from 0.77816 to 0.78108, saving model to models/archi01_RAW.epoch05-accuracy0.78.hdf5\n",
      "Epoch 6/50\n",
      "142/142 [==============================] - 49s 348ms/step - loss: 0.4580 - accuracy: 0.7818 - val_loss: 0.4556 - val_accuracy: 0.7835\n",
      "\n",
      "Epoch 00006: val_accuracy improved from 0.78108 to 0.78348, saving model to models/archi01_RAW.epoch06-accuracy0.78.hdf5\n",
      "Epoch 7/50\n",
      "142/142 [==============================] - 50s 350ms/step - loss: 0.4536 - accuracy: 0.7847 - val_loss: 0.4519 - val_accuracy: 0.7858\n",
      "\n",
      "Epoch 00007: val_accuracy improved from 0.78348 to 0.78581, saving model to models/archi01_RAW.epoch07-accuracy0.79.hdf5\n",
      "Epoch 8/50\n",
      "142/142 [==============================] - 50s 353ms/step - loss: 0.4498 - accuracy: 0.7872 - val_loss: 0.4479 - val_accuracy: 0.7887\n",
      "\n",
      "Epoch 00008: val_accuracy improved from 0.78581 to 0.78869, saving model to models/archi01_RAW.epoch08-accuracy0.79.hdf5\n",
      "Epoch 9/50\n",
      "142/142 [==============================] - 50s 353ms/step - loss: 0.4455 - accuracy: 0.7901 - val_loss: 0.4458 - val_accuracy: 0.7898\n",
      "\n",
      "Epoch 00009: val_accuracy improved from 0.78869 to 0.78978, saving model to models/archi01_RAW.epoch09-accuracy0.79.hdf5\n",
      "Epoch 10/50\n",
      "142/142 [==============================] - 50s 351ms/step - loss: 0.4425 - accuracy: 0.7910 - val_loss: 0.4445 - val_accuracy: 0.7902\n",
      "\n",
      "Epoch 00010: val_accuracy improved from 0.78978 to 0.79018, saving model to models/archi01_RAW.epoch10-accuracy0.79.hdf5\n",
      "Epoch 11/50\n",
      "142/142 [==============================] - 50s 351ms/step - loss: 0.4397 - accuracy: 0.7932 - val_loss: 0.4412 - val_accuracy: 0.7923\n",
      "\n",
      "Epoch 00011: val_accuracy improved from 0.79018 to 0.79226, saving model to models/archi01_RAW.epoch11-accuracy0.79.hdf5\n",
      "Epoch 12/50\n",
      "142/142 [==============================] - 49s 348ms/step - loss: 0.4377 - accuracy: 0.7941 - val_loss: 0.4404 - val_accuracy: 0.7927\n",
      "\n",
      "Epoch 00012: val_accuracy improved from 0.79226 to 0.79274, saving model to models/archi01_RAW.epoch12-accuracy0.79.hdf5\n",
      "Epoch 13/50\n",
      "142/142 [==============================] - 50s 349ms/step - loss: 0.4359 - accuracy: 0.7950 - val_loss: 0.4389 - val_accuracy: 0.7932\n",
      "\n",
      "Epoch 00013: val_accuracy improved from 0.79274 to 0.79322, saving model to models/archi01_RAW.epoch13-accuracy0.79.hdf5\n",
      "Epoch 14/50\n",
      "142/142 [==============================] - 50s 351ms/step - loss: 0.4352 - accuracy: 0.7951 - val_loss: 0.4384 - val_accuracy: 0.7940\n",
      "\n",
      "Epoch 00014: val_accuracy improved from 0.79322 to 0.79405, saving model to models/archi01_RAW.epoch14-accuracy0.79.hdf5\n",
      "Epoch 15/50\n",
      "142/142 [==============================] - 50s 352ms/step - loss: 0.4341 - accuracy: 0.7963 - val_loss: 0.4370 - val_accuracy: 0.7947\n",
      "\n",
      "Epoch 00015: val_accuracy improved from 0.79405 to 0.79470, saving model to models/archi01_RAW.epoch15-accuracy0.79.hdf5\n",
      "Epoch 16/50\n",
      "142/142 [==============================] - 50s 349ms/step - loss: 0.4325 - accuracy: 0.7971 - val_loss: 0.4357 - val_accuracy: 0.7951\n",
      "\n",
      "Epoch 00016: val_accuracy improved from 0.79470 to 0.79512, saving model to models/archi01_RAW.epoch16-accuracy0.80.hdf5\n",
      "Epoch 17/50\n",
      "142/142 [==============================] - 50s 353ms/step - loss: 0.4317 - accuracy: 0.7974 - val_loss: 0.4351 - val_accuracy: 0.7955\n",
      "\n",
      "Epoch 00017: val_accuracy improved from 0.79512 to 0.79549, saving model to models/archi01_RAW.epoch17-accuracy0.80.hdf5\n",
      "Epoch 18/50\n",
      "142/142 [==============================] - 50s 350ms/step - loss: 0.4296 - accuracy: 0.7990 - val_loss: 0.4347 - val_accuracy: 0.7957\n",
      "\n",
      "Epoch 00018: val_accuracy improved from 0.79549 to 0.79568, saving model to models/archi01_RAW.epoch18-accuracy0.80.hdf5\n",
      "Epoch 19/50\n",
      "142/142 [==============================] - 50s 350ms/step - loss: 0.4293 - accuracy: 0.7987 - val_loss: 0.4341 - val_accuracy: 0.7961\n",
      "\n",
      "Epoch 00019: val_accuracy improved from 0.79568 to 0.79607, saving model to models/archi01_RAW.epoch19-accuracy0.80.hdf5\n",
      "Epoch 20/50\n",
      "142/142 [==============================] - 50s 350ms/step - loss: 0.4275 - accuracy: 0.8001 - val_loss: 0.4329 - val_accuracy: 0.7972\n",
      "\n",
      "Epoch 00020: val_accuracy improved from 0.79607 to 0.79719, saving model to models/archi01_RAW.epoch20-accuracy0.80.hdf5\n",
      "Epoch 21/50\n",
      "142/142 [==============================] - 50s 351ms/step - loss: 0.4255 - accuracy: 0.8018 - val_loss: 0.4315 - val_accuracy: 0.7978\n",
      "\n",
      "Epoch 00021: val_accuracy improved from 0.79719 to 0.79776, saving model to models/archi01_RAW.epoch21-accuracy0.80.hdf5\n",
      "Restoring model weights from the end of the best epoch.\n",
      "Epoch 00021: early stopping\n",
      "Training Accuracy: 0.7945\n",
      "Testing Accuracy:  0.7923\n",
      "Testing model with 5000 tokens\n",
      "----- One sample outputs for demo -----\n",
      ">> Original sentence: you too be fake .. :x ... disguise your link to be something else .\n",
      "\n",
      ">> Tokenized sentence: ['you too be fake x your link to be something else']\n",
      "\n",
      ">> X_train_enc: [[10, 46, 2, 1411, 197, 44, 456, 3, 2, 199, 447]]\n",
      "\n",
      ">> X_train_ready: [[  10   46    2 1411  197   44  456    3    2  199  447    0    0    0\n",
      "     0    0    0    0    0    0    0    0    0    0    0    0    0    0\n",
      "     0    0    0    0    0    0    0    0    0    0    0    0    0    0\n",
      "     0    0    0    0    0    0    0    0]]\n",
      "\n",
      "Vocab size: 228026\n",
      "Epoch 1/50\n",
      "142/142 [==============================] - 53s 359ms/step - loss: 0.5389 - accuracy: 0.7182 - val_loss: 0.4364 - val_accuracy: 0.7969\n",
      "\n",
      "Epoch 00001: val_accuracy improved from -inf to 0.79694, saving model to models/archi01_RAW.epoch01-accuracy0.80.hdf5\n",
      "Epoch 2/50\n",
      "142/142 [==============================] - 50s 354ms/step - loss: 0.4296 - accuracy: 0.8004 - val_loss: 0.4243 - val_accuracy: 0.8026\n",
      "\n",
      "Epoch 00002: val_accuracy improved from 0.79694 to 0.80255, saving model to models/archi01_RAW.epoch02-accuracy0.80.hdf5\n",
      "Epoch 3/50\n",
      "142/142 [==============================] - 50s 354ms/step - loss: 0.4150 - accuracy: 0.8085 - val_loss: 0.4169 - val_accuracy: 0.8078\n",
      "\n",
      "Epoch 00003: val_accuracy improved from 0.80255 to 0.80781, saving model to models/archi01_RAW.epoch03-accuracy0.81.hdf5\n",
      "Epoch 4/50\n",
      "142/142 [==============================] - 50s 354ms/step - loss: 0.4060 - accuracy: 0.8142 - val_loss: 0.4117 - val_accuracy: 0.8108\n",
      "\n",
      "Epoch 00004: val_accuracy improved from 0.80781 to 0.81083, saving model to models/archi01_RAW.epoch04-accuracy0.81.hdf5\n",
      "Epoch 5/50\n",
      "142/142 [==============================] - 50s 354ms/step - loss: 0.3994 - accuracy: 0.8180 - val_loss: 0.4081 - val_accuracy: 0.8129\n",
      "\n",
      "Epoch 00005: val_accuracy improved from 0.81083 to 0.81288, saving model to models/archi01_RAW.epoch05-accuracy0.81.hdf5\n",
      "Epoch 6/50\n",
      "142/142 [==============================] - 50s 353ms/step - loss: 0.3967 - accuracy: 0.8192 - val_loss: 0.4067 - val_accuracy: 0.8139\n",
      "\n",
      "Epoch 00006: val_accuracy improved from 0.81288 to 0.81392, saving model to models/archi01_RAW.epoch06-accuracy0.81.hdf5\n",
      "Epoch 7/50\n",
      "142/142 [==============================] - 50s 354ms/step - loss: 0.3918 - accuracy: 0.8222 - val_loss: 0.4051 - val_accuracy: 0.8147\n",
      "\n",
      "Epoch 00007: val_accuracy improved from 0.81392 to 0.81474, saving model to models/archi01_RAW.epoch07-accuracy0.81.hdf5\n",
      "Epoch 8/50\n",
      "142/142 [==============================] - 50s 355ms/step - loss: 0.3895 - accuracy: 0.8239 - val_loss: 0.4044 - val_accuracy: 0.8155\n",
      "\n",
      "Epoch 00008: val_accuracy improved from 0.81474 to 0.81550, saving model to models/archi01_RAW.epoch08-accuracy0.82.hdf5\n",
      "Epoch 9/50\n",
      "142/142 [==============================] - 51s 357ms/step - loss: 0.3866 - accuracy: 0.8249 - val_loss: 0.4037 - val_accuracy: 0.8151\n",
      "\n",
      "Epoch 00009: val_accuracy did not improve from 0.81550\n",
      "Epoch 10/50\n",
      "142/142 [==============================] - 50s 354ms/step - loss: 0.3839 - accuracy: 0.8260 - val_loss: 0.4030 - val_accuracy: 0.8163\n",
      "\n",
      "Epoch 00010: val_accuracy improved from 0.81550 to 0.81627, saving model to models/archi01_RAW.epoch10-accuracy0.82.hdf5\n",
      "Epoch 11/50\n",
      "142/142 [==============================] - 50s 353ms/step - loss: 0.3813 - accuracy: 0.8274 - val_loss: 0.4033 - val_accuracy: 0.8162\n",
      "\n",
      "Epoch 00011: val_accuracy did not improve from 0.81627\n",
      "Epoch 12/50\n",
      "142/142 [==============================] - 50s 354ms/step - loss: 0.3783 - accuracy: 0.8294 - val_loss: 0.4029 - val_accuracy: 0.8158\n",
      "\n",
      "Epoch 00012: val_accuracy did not improve from 0.81627\n",
      "Epoch 13/50\n",
      "142/142 [==============================] - 50s 354ms/step - loss: 0.3764 - accuracy: 0.8302 - val_loss: 0.4020 - val_accuracy: 0.8168\n",
      "\n",
      "Epoch 00013: val_accuracy improved from 0.81627 to 0.81677, saving model to models/archi01_RAW.epoch13-accuracy0.82.hdf5\n",
      "Epoch 14/50\n",
      "142/142 [==============================] - 50s 353ms/step - loss: 0.3738 - accuracy: 0.8315 - val_loss: 0.4024 - val_accuracy: 0.8161\n",
      "\n",
      "Epoch 00014: val_accuracy did not improve from 0.81677\n",
      "Restoring model weights from the end of the best epoch.\n",
      "Epoch 00014: early stopping\n",
      "Training Accuracy: 0.8177\n",
      "Testing Accuracy:  0.8108\n",
      "Testing model with 10000 tokens\n",
      "----- One sample outputs for demo -----\n",
      ">> Original sentence: you too be fake .. :x ... disguise your link to be something else .\n",
      "\n",
      ">> Tokenized sentence: ['you too be fake x disguise your link to be something else']\n",
      "\n",
      ">> X_train_enc: [[10, 46, 2, 1411, 197, 9955, 44, 456, 3, 2, 199, 447]]\n",
      "\n",
      ">> X_train_ready: [[  10   46    2 1411  197 9955   44  456    3    2  199  447    0    0\n",
      "     0    0    0    0    0    0    0    0    0    0    0    0    0    0\n",
      "     0    0    0    0    0    0    0    0    0    0    0    0    0    0\n",
      "     0    0    0    0    0    0    0    0]]\n",
      "\n",
      "Vocab size: 228026\n",
      "Epoch 1/50\n",
      "142/142 [==============================] - 54s 365ms/step - loss: 0.5408 - accuracy: 0.7188 - val_loss: 0.4327 - val_accuracy: 0.7989\n",
      "\n",
      "Epoch 00001: val_accuracy improved from -inf to 0.79893, saving model to models/archi01_RAW.epoch01-accuracy0.80.hdf5\n",
      "Epoch 2/50\n",
      "142/142 [==============================] - 50s 355ms/step - loss: 0.4210 - accuracy: 0.8055 - val_loss: 0.4171 - val_accuracy: 0.8072\n",
      "\n",
      "Epoch 00002: val_accuracy improved from 0.79893 to 0.80723, saving model to models/archi01_RAW.epoch02-accuracy0.81.hdf5\n",
      "Epoch 3/50\n",
      "142/142 [==============================] - 50s 355ms/step - loss: 0.4038 - accuracy: 0.8154 - val_loss: 0.4104 - val_accuracy: 0.8117\n",
      "\n",
      "Epoch 00003: val_accuracy improved from 0.80723 to 0.81174, saving model to models/archi01_RAW.epoch03-accuracy0.81.hdf5\n",
      "Epoch 4/50\n",
      "142/142 [==============================] - 50s 353ms/step - loss: 0.3938 - accuracy: 0.8208 - val_loss: 0.4067 - val_accuracy: 0.8143\n",
      "\n",
      "Epoch 00004: val_accuracy improved from 0.81174 to 0.81432, saving model to models/archi01_RAW.epoch04-accuracy0.81.hdf5\n",
      "Epoch 5/50\n",
      "142/142 [==============================] - 50s 353ms/step - loss: 0.3867 - accuracy: 0.8253 - val_loss: 0.4033 - val_accuracy: 0.8159\n",
      "\n",
      "Epoch 00005: val_accuracy improved from 0.81432 to 0.81593, saving model to models/archi01_RAW.epoch05-accuracy0.82.hdf5\n",
      "Epoch 6/50\n",
      "142/142 [==============================] - 50s 353ms/step - loss: 0.3830 - accuracy: 0.8269 - val_loss: 0.4033 - val_accuracy: 0.8166\n",
      "\n",
      "Epoch 00006: val_accuracy improved from 0.81593 to 0.81665, saving model to models/archi01_RAW.epoch06-accuracy0.82.hdf5\n",
      "Epoch 7/50\n",
      "142/142 [==============================] - 50s 353ms/step - loss: 0.3775 - accuracy: 0.8296 - val_loss: 0.4024 - val_accuracy: 0.8169\n",
      "\n",
      "Epoch 00007: val_accuracy improved from 0.81665 to 0.81691, saving model to models/archi01_RAW.epoch07-accuracy0.82.hdf5\n",
      "Epoch 8/50\n",
      "142/142 [==============================] - 50s 353ms/step - loss: 0.3735 - accuracy: 0.8319 - val_loss: 0.4025 - val_accuracy: 0.8177\n",
      "\n",
      "Epoch 00008: val_accuracy improved from 0.81691 to 0.81769, saving model to models/archi01_RAW.epoch08-accuracy0.82.hdf5\n",
      "Epoch 9/50\n",
      "142/142 [==============================] - 50s 354ms/step - loss: 0.3699 - accuracy: 0.8338 - val_loss: 0.4035 - val_accuracy: 0.8166\n",
      "\n",
      "Epoch 00009: val_accuracy did not improve from 0.81769\n",
      "Epoch 10/50\n",
      "142/142 [==============================] - 51s 356ms/step - loss: 0.3663 - accuracy: 0.8353 - val_loss: 0.4045 - val_accuracy: 0.8177\n",
      "\n",
      "Epoch 00010: val_accuracy improved from 0.81769 to 0.81772, saving model to models/archi01_RAW.epoch10-accuracy0.82.hdf5\n",
      "Epoch 11/50\n",
      "142/142 [==============================] - 51s 356ms/step - loss: 0.3620 - accuracy: 0.8378 - val_loss: 0.4057 - val_accuracy: 0.8170\n",
      "\n",
      "Epoch 00011: val_accuracy did not improve from 0.81772\n",
      "Epoch 12/50\n",
      "142/142 [==============================] - 51s 357ms/step - loss: 0.3575 - accuracy: 0.8400 - val_loss: 0.4069 - val_accuracy: 0.8170\n",
      "\n",
      "Epoch 00012: val_accuracy did not improve from 0.81772\n",
      "\n",
      "Epoch 00012: ReduceLROnPlateau reducing learning rate to 5.0000002374872565e-05.\n",
      "Epoch 13/50\n",
      "142/142 [==============================] - 50s 356ms/step - loss: 0.3517 - accuracy: 0.8435 - val_loss: 0.4114 - val_accuracy: 0.8169\n",
      "\n",
      "Epoch 00013: val_accuracy did not improve from 0.81772\n",
      "Epoch 14/50\n",
      "142/142 [==============================] - 51s 357ms/step - loss: 0.3500 - accuracy: 0.8444 - val_loss: 0.4124 - val_accuracy: 0.8164\n",
      "\n",
      "Epoch 00014: val_accuracy did not improve from 0.81772\n",
      "Restoring model weights from the end of the best epoch.\n",
      "Epoch 00014: early stopping\n",
      "Training Accuracy: 0.8246\n",
      "Testing Accuracy:  0.8143\n",
      "Testing model with 20000 tokens\n",
      "----- One sample outputs for demo -----\n",
      ">> Original sentence: you too be fake .. :x ... disguise your link to be something else .\n",
      "\n",
      ">> Tokenized sentence: ['you too be fake x disguise your link to be something else']\n",
      "\n",
      ">> X_train_enc: [[10, 46, 2, 1411, 197, 9955, 44, 456, 3, 2, 199, 447]]\n",
      "\n",
      ">> X_train_ready: [[  10   46    2 1411  197 9955   44  456    3    2  199  447    0    0\n",
      "     0    0    0    0    0    0    0    0    0    0    0    0    0    0\n",
      "     0    0    0    0    0    0    0    0    0    0    0    0    0    0\n",
      "     0    0    0    0    0    0    0    0]]\n",
      "\n",
      "Vocab size: 228026\n",
      "Epoch 1/50\n",
      "142/142 [==============================] - 53s 359ms/step - loss: 0.6621 - accuracy: 0.6122 - val_loss: 0.5166 - val_accuracy: 0.7680\n",
      "\n",
      "Epoch 00001: val_accuracy improved from -inf to 0.76802, saving model to models/archi01_RAW.epoch01-accuracy0.77.hdf5\n",
      "Epoch 2/50\n",
      "142/142 [==============================] - 51s 356ms/step - loss: 0.4997 - accuracy: 0.7763 - val_loss: 0.4705 - val_accuracy: 0.7891\n",
      "\n",
      "Epoch 00002: val_accuracy improved from 0.76802 to 0.78913, saving model to models/archi01_RAW.epoch02-accuracy0.79.hdf5\n",
      "Epoch 3/50\n",
      "142/142 [==============================] - 51s 356ms/step - loss: 0.4589 - accuracy: 0.7943 - val_loss: 0.4495 - val_accuracy: 0.7935\n",
      "\n",
      "Epoch 00003: val_accuracy improved from 0.78913 to 0.79353, saving model to models/archi01_RAW.epoch03-accuracy0.79.hdf5\n",
      "Epoch 4/50\n",
      "142/142 [==============================] - 51s 357ms/step - loss: 0.4420 - accuracy: 0.7987 - val_loss: 0.4446 - val_accuracy: 0.7958\n",
      "\n",
      "Epoch 00004: val_accuracy improved from 0.79353 to 0.79578, saving model to models/archi01_RAW.epoch04-accuracy0.80.hdf5\n",
      "Epoch 5/50\n",
      "142/142 [==============================] - 51s 357ms/step - loss: 0.4359 - accuracy: 0.8014 - val_loss: 0.4416 - val_accuracy: 0.7965\n",
      "\n",
      "Epoch 00005: val_accuracy improved from 0.79578 to 0.79650, saving model to models/archi01_RAW.epoch05-accuracy0.80.hdf5\n",
      "Epoch 6/50\n",
      "142/142 [==============================] - 51s 356ms/step - loss: 0.4339 - accuracy: 0.8021 - val_loss: 0.4396 - val_accuracy: 0.7971\n",
      "\n",
      "Epoch 00006: val_accuracy improved from 0.79650 to 0.79714, saving model to models/archi01_RAW.epoch06-accuracy0.80.hdf5\n",
      "Epoch 7/50\n",
      "142/142 [==============================] - 50s 355ms/step - loss: 0.4297 - accuracy: 0.8039 - val_loss: 0.4383 - val_accuracy: 0.7979\n",
      "\n",
      "Epoch 00007: val_accuracy improved from 0.79714 to 0.79789, saving model to models/archi01_RAW.epoch07-accuracy0.80.hdf5\n",
      "Epoch 8/50\n",
      "142/142 [==============================] - 51s 357ms/step - loss: 0.4274 - accuracy: 0.8053 - val_loss: 0.4375 - val_accuracy: 0.7977\n",
      "\n",
      "Epoch 00008: val_accuracy did not improve from 0.79789\n",
      "Epoch 9/50\n",
      "142/142 [==============================] - 50s 355ms/step - loss: 0.4262 - accuracy: 0.8053 - val_loss: 0.4367 - val_accuracy: 0.7975\n",
      "\n",
      "Epoch 00009: val_accuracy did not improve from 0.79789\n",
      "Epoch 10/50\n",
      "142/142 [==============================] - 50s 355ms/step - loss: 0.4238 - accuracy: 0.8060 - val_loss: 0.4351 - val_accuracy: 0.7982\n",
      "\n",
      "Epoch 00010: val_accuracy improved from 0.79789 to 0.79821, saving model to models/archi01_RAW.epoch10-accuracy0.80.hdf5\n",
      "Epoch 11/50\n",
      "142/142 [==============================] - 51s 356ms/step - loss: 0.4226 - accuracy: 0.8068 - val_loss: 0.4347 - val_accuracy: 0.7984\n",
      "\n",
      "Epoch 00011: val_accuracy improved from 0.79821 to 0.79838, saving model to models/archi01_RAW.epoch11-accuracy0.80.hdf5\n",
      "Epoch 12/50\n",
      "142/142 [==============================] - 50s 355ms/step - loss: 0.4203 - accuracy: 0.8079 - val_loss: 0.4342 - val_accuracy: 0.7986\n",
      "\n",
      "Epoch 00012: val_accuracy improved from 0.79838 to 0.79856, saving model to models/archi01_RAW.epoch12-accuracy0.80.hdf5\n",
      "Epoch 13/50\n",
      "142/142 [==============================] - 50s 354ms/step - loss: 0.4198 - accuracy: 0.8082 - val_loss: 0.4337 - val_accuracy: 0.7986\n",
      "\n",
      "Epoch 00013: val_accuracy improved from 0.79856 to 0.79859, saving model to models/archi01_RAW.epoch13-accuracy0.80.hdf5\n",
      "Epoch 14/50\n",
      "142/142 [==============================] - 50s 353ms/step - loss: 0.4183 - accuracy: 0.8085 - val_loss: 0.4338 - val_accuracy: 0.7986\n",
      "\n",
      "Epoch 00014: val_accuracy did not improve from 0.79859\n",
      "Epoch 15/50\n",
      "142/142 [==============================] - 50s 355ms/step - loss: 0.4175 - accuracy: 0.8086 - val_loss: 0.4335 - val_accuracy: 0.7986\n",
      "\n",
      "Epoch 00015: val_accuracy did not improve from 0.79859\n",
      "Epoch 16/50\n",
      "142/142 [==============================] - 51s 357ms/step - loss: 0.4168 - accuracy: 0.8092 - val_loss: 0.4328 - val_accuracy: 0.7988\n",
      "\n",
      "Epoch 00016: val_accuracy improved from 0.79859 to 0.79880, saving model to models/archi01_RAW.epoch16-accuracy0.80.hdf5\n",
      "Epoch 17/50\n",
      "142/142 [==============================] - 50s 353ms/step - loss: 0.4160 - accuracy: 0.8094 - val_loss: 0.4335 - val_accuracy: 0.7985\n",
      "\n",
      "Epoch 00017: val_accuracy did not improve from 0.79880\n",
      "Restoring model weights from the end of the best epoch.\n",
      "Epoch 00017: early stopping\n",
      "Training Accuracy: 0.8055\n",
      "Testing Accuracy:  0.7979\n",
      "Testing model with 30000 tokens\n",
      "----- One sample outputs for demo -----\n",
      ">> Original sentence: you too be fake .. :x ... disguise your link to be something else .\n",
      "\n",
      ">> Tokenized sentence: ['you too be fake x disguise your link to be something else']\n",
      "\n",
      ">> X_train_enc: [[10, 46, 2, 1411, 197, 9955, 44, 456, 3, 2, 199, 447]]\n",
      "\n",
      ">> X_train_ready: [[  10   46    2 1411  197 9955   44  456    3    2  199  447    0    0\n",
      "     0    0    0    0    0    0    0    0    0    0    0    0    0    0\n",
      "     0    0    0    0    0    0    0    0    0    0    0    0    0    0\n",
      "     0    0    0    0    0    0    0    0]]\n",
      "\n",
      "Vocab size: 228026\n",
      "Epoch 1/50\n",
      "142/142 [==============================] - 53s 357ms/step - loss: 0.6481 - accuracy: 0.6216 - val_loss: 0.4972 - val_accuracy: 0.7784\n",
      "\n",
      "Epoch 00001: val_accuracy improved from -inf to 0.77842, saving model to models/archi01_RAW.epoch01-accuracy0.78.hdf5\n",
      "Epoch 2/50\n",
      "142/142 [==============================] - 50s 354ms/step - loss: 0.4824 - accuracy: 0.7842 - val_loss: 0.4651 - val_accuracy: 0.7922\n",
      "\n",
      "Epoch 00002: val_accuracy improved from 0.77842 to 0.79216, saving model to models/archi01_RAW.epoch02-accuracy0.79.hdf5\n",
      "Epoch 3/50\n",
      "142/142 [==============================] - 51s 356ms/step - loss: 0.4555 - accuracy: 0.7976 - val_loss: 0.4561 - val_accuracy: 0.7951\n",
      "\n",
      "Epoch 00003: val_accuracy improved from 0.79216 to 0.79510, saving model to models/archi01_RAW.epoch03-accuracy0.80.hdf5\n",
      "Epoch 4/50\n",
      "142/142 [==============================] - 50s 355ms/step - loss: 0.4459 - accuracy: 0.8009 - val_loss: 0.4527 - val_accuracy: 0.7958\n",
      "\n",
      "Epoch 00004: val_accuracy improved from 0.79510 to 0.79581, saving model to models/archi01_RAW.epoch04-accuracy0.80.hdf5\n",
      "Epoch 5/50\n",
      "142/142 [==============================] - 51s 356ms/step - loss: 0.4389 - accuracy: 0.8037 - val_loss: 0.4459 - val_accuracy: 0.7981\n",
      "\n",
      "Epoch 00005: val_accuracy improved from 0.79581 to 0.79806, saving model to models/archi01_RAW.epoch05-accuracy0.80.hdf5\n",
      "Epoch 6/50\n",
      "142/142 [==============================] - 50s 354ms/step - loss: 0.4353 - accuracy: 0.8046 - val_loss: 0.4426 - val_accuracy: 0.7985\n",
      "\n",
      "Epoch 00006: val_accuracy improved from 0.79806 to 0.79851, saving model to models/archi01_RAW.epoch06-accuracy0.80.hdf5\n",
      "Epoch 7/50\n",
      "142/142 [==============================] - 51s 357ms/step - loss: 0.4289 - accuracy: 0.8070 - val_loss: 0.4395 - val_accuracy: 0.7991\n",
      "\n",
      "Epoch 00007: val_accuracy improved from 0.79851 to 0.79911, saving model to models/archi01_RAW.epoch07-accuracy0.80.hdf5\n",
      "Epoch 8/50\n",
      "142/142 [==============================] - 51s 357ms/step - loss: 0.4253 - accuracy: 0.8084 - val_loss: 0.4381 - val_accuracy: 0.7988\n",
      "\n",
      "Epoch 00008: val_accuracy did not improve from 0.79911\n",
      "Epoch 9/50\n",
      "142/142 [==============================] - 51s 358ms/step - loss: 0.4223 - accuracy: 0.8096 - val_loss: 0.4359 - val_accuracy: 0.8000\n",
      "\n",
      "Epoch 00009: val_accuracy improved from 0.79911 to 0.79995, saving model to models/archi01_RAW.epoch09-accuracy0.80.hdf5\n",
      "Epoch 10/50\n",
      "142/142 [==============================] - 51s 358ms/step - loss: 0.4185 - accuracy: 0.8107 - val_loss: 0.4340 - val_accuracy: 0.8009\n",
      "\n",
      "Epoch 00010: val_accuracy improved from 0.79995 to 0.80088, saving model to models/archi01_RAW.epoch10-accuracy0.80.hdf5\n",
      "Epoch 11/50\n",
      "142/142 [==============================] - 51s 358ms/step - loss: 0.4158 - accuracy: 0.8120 - val_loss: 0.4329 - val_accuracy: 0.8011\n",
      "\n",
      "Epoch 00011: val_accuracy improved from 0.80088 to 0.80108, saving model to models/archi01_RAW.epoch11-accuracy0.80.hdf5\n",
      "Epoch 12/50\n",
      "142/142 [==============================] - 51s 357ms/step - loss: 0.4120 - accuracy: 0.8134 - val_loss: 0.4330 - val_accuracy: 0.8005\n",
      "\n",
      "Epoch 00012: val_accuracy did not improve from 0.80108\n",
      "Epoch 13/50\n",
      "142/142 [==============================] - 50s 355ms/step - loss: 0.4098 - accuracy: 0.8147 - val_loss: 0.4317 - val_accuracy: 0.8011\n",
      "\n",
      "Epoch 00013: val_accuracy did not improve from 0.80108\n",
      "Epoch 14/50\n",
      "142/142 [==============================] - 50s 355ms/step - loss: 0.4071 - accuracy: 0.8157 - val_loss: 0.4314 - val_accuracy: 0.8017\n",
      "\n",
      "Epoch 00014: val_accuracy improved from 0.80108 to 0.80169, saving model to models/archi01_RAW.epoch14-accuracy0.80.hdf5\n",
      "Epoch 15/50\n",
      "142/142 [==============================] - 51s 356ms/step - loss: 0.4051 - accuracy: 0.8161 - val_loss: 0.4310 - val_accuracy: 0.8014\n",
      "\n",
      "Epoch 00015: val_accuracy did not improve from 0.80169\n",
      "Epoch 16/50\n",
      "142/142 [==============================] - 50s 355ms/step - loss: 0.4031 - accuracy: 0.8177 - val_loss: 0.4321 - val_accuracy: 0.8011\n",
      "\n",
      "Epoch 00016: val_accuracy did not improve from 0.80169\n",
      "Epoch 17/50\n",
      "142/142 [==============================] - 50s 354ms/step - loss: 0.4014 - accuracy: 0.8183 - val_loss: 0.4317 - val_accuracy: 0.8017\n",
      "\n",
      "Epoch 00017: val_accuracy improved from 0.80169 to 0.80170, saving model to models/archi01_RAW.epoch17-accuracy0.80.hdf5\n",
      "Epoch 18/50\n",
      "142/142 [==============================] - 50s 355ms/step - loss: 0.3999 - accuracy: 0.8189 - val_loss: 0.4329 - val_accuracy: 0.8012\n",
      "\n",
      "Epoch 00018: val_accuracy did not improve from 0.80170\n",
      "Epoch 19/50\n",
      "142/142 [==============================] - 51s 357ms/step - loss: 0.3978 - accuracy: 0.8196 - val_loss: 0.4316 - val_accuracy: 0.8016\n",
      "\n",
      "Epoch 00019: val_accuracy did not improve from 0.80170\n",
      "Epoch 20/50\n",
      "142/142 [==============================] - 51s 357ms/step - loss: 0.3959 - accuracy: 0.8207 - val_loss: 0.4316 - val_accuracy: 0.8021\n",
      "\n",
      "Epoch 00020: val_accuracy improved from 0.80170 to 0.80205, saving model to models/archi01_RAW.epoch20-accuracy0.80.hdf5\n",
      "\n",
      "Epoch 00020: ReduceLROnPlateau reducing learning rate to 5.000000237487257e-06.\n",
      "Epoch 21/50\n",
      "142/142 [==============================] - 51s 359ms/step - loss: 0.3937 - accuracy: 0.8221 - val_loss: 0.4321 - val_accuracy: 0.8019\n",
      "\n",
      "Epoch 00021: val_accuracy did not improve from 0.80205\n",
      "Epoch 22/50\n",
      "142/142 [==============================] - 51s 358ms/step - loss: 0.3934 - accuracy: 0.8221 - val_loss: 0.4319 - val_accuracy: 0.8019\n",
      "\n",
      "Epoch 00022: val_accuracy did not improve from 0.80205\n",
      "Epoch 23/50\n",
      "142/142 [==============================] - 51s 357ms/step - loss: 0.3922 - accuracy: 0.8229 - val_loss: 0.4320 - val_accuracy: 0.8018\n",
      "\n",
      "Epoch 00023: val_accuracy did not improve from 0.80205\n",
      "Restoring model weights from the end of the best epoch.\n",
      "Epoch 00023: early stopping\n",
      "Training Accuracy: 0.8158\n",
      "Testing Accuracy:  0.8011\n",
      "Testing model with 40000 tokens\n",
      "----- One sample outputs for demo -----\n",
      ">> Original sentence: you too be fake .. :x ... disguise your link to be something else .\n",
      "\n",
      ">> Tokenized sentence: ['you too be fake x disguise your link to be something else']\n",
      "\n",
      ">> X_train_enc: [[10, 46, 2, 1411, 197, 9955, 44, 456, 3, 2, 199, 447]]\n",
      "\n",
      ">> X_train_ready: [[  10   46    2 1411  197 9955   44  456    3    2  199  447    0    0\n",
      "     0    0    0    0    0    0    0    0    0    0    0    0    0    0\n",
      "     0    0    0    0    0    0    0    0    0    0    0    0    0    0\n",
      "     0    0    0    0    0    0    0    0]]\n",
      "\n",
      "Vocab size: 228026\n",
      "Epoch 1/50\n",
      "142/142 [==============================] - 53s 360ms/step - loss: 0.6926 - accuracy: 0.5303 - val_loss: 0.6906 - val_accuracy: 0.5721\n",
      "\n",
      "Epoch 00001: val_accuracy improved from -inf to 0.57211, saving model to models/archi01_RAW.epoch01-accuracy0.57.hdf5\n",
      "Epoch 2/50\n",
      "142/142 [==============================] - 51s 357ms/step - loss: 0.6898 - accuracy: 0.5766 - val_loss: 0.6871 - val_accuracy: 0.5835\n",
      "\n",
      "Epoch 00002: val_accuracy improved from 0.57211 to 0.58351, saving model to models/archi01_RAW.epoch02-accuracy0.58.hdf5\n",
      "Epoch 3/50\n",
      "142/142 [==============================] - 51s 357ms/step - loss: 0.6859 - accuracy: 0.5851 - val_loss: 0.6823 - val_accuracy: 0.5851\n",
      "\n",
      "Epoch 00003: val_accuracy improved from 0.58351 to 0.58512, saving model to models/archi01_RAW.epoch03-accuracy0.59.hdf5\n",
      "Epoch 4/50\n",
      "142/142 [==============================] - 51s 358ms/step - loss: 0.6808 - accuracy: 0.5870 - val_loss: 0.6763 - val_accuracy: 0.5904\n",
      "\n",
      "Epoch 00004: val_accuracy improved from 0.58512 to 0.59038, saving model to models/archi01_RAW.epoch04-accuracy0.59.hdf5\n",
      "Epoch 5/50\n",
      "142/142 [==============================] - 51s 358ms/step - loss: 0.6744 - accuracy: 0.5939 - val_loss: 0.6687 - val_accuracy: 0.6023\n",
      "\n",
      "Epoch 00005: val_accuracy improved from 0.59038 to 0.60232, saving model to models/archi01_RAW.epoch05-accuracy0.60.hdf5\n",
      "Epoch 6/50\n",
      "142/142 [==============================] - 51s 359ms/step - loss: 0.6661 - accuracy: 0.6075 - val_loss: 0.6577 - val_accuracy: 0.6229\n",
      "\n",
      "Epoch 00006: val_accuracy improved from 0.60232 to 0.62290, saving model to models/archi01_RAW.epoch06-accuracy0.62.hdf5\n",
      "Epoch 7/50\n",
      "142/142 [==============================] - 51s 361ms/step - loss: 0.6535 - accuracy: 0.6296 - val_loss: 0.6405 - val_accuracy: 0.6510\n",
      "\n",
      "Epoch 00007: val_accuracy improved from 0.62290 to 0.65103, saving model to models/archi01_RAW.epoch07-accuracy0.65.hdf5\n",
      "Epoch 8/50\n",
      "142/142 [==============================] - 51s 357ms/step - loss: 0.6351 - accuracy: 0.6613 - val_loss: 0.6202 - val_accuracy: 0.6748\n",
      "\n",
      "Epoch 00008: val_accuracy improved from 0.65103 to 0.67479, saving model to models/archi01_RAW.epoch08-accuracy0.67.hdf5\n",
      "Epoch 9/50\n",
      "142/142 [==============================] - 50s 355ms/step - loss: 0.6153 - accuracy: 0.6897 - val_loss: 0.6026 - val_accuracy: 0.7063\n",
      "\n",
      "Epoch 00009: val_accuracy improved from 0.67479 to 0.70632, saving model to models/archi01_RAW.epoch09-accuracy0.71.hdf5\n",
      "Epoch 10/50\n",
      "142/142 [==============================] - 51s 357ms/step - loss: 0.5984 - accuracy: 0.7112 - val_loss: 0.5895 - val_accuracy: 0.7195\n",
      "\n",
      "Epoch 00010: val_accuracy improved from 0.70632 to 0.71946, saving model to models/archi01_RAW.epoch10-accuracy0.72.hdf5\n",
      "Epoch 11/50\n",
      "142/142 [==============================] - 51s 356ms/step - loss: 0.5862 - accuracy: 0.7219 - val_loss: 0.5797 - val_accuracy: 0.7327\n",
      "\n",
      "Epoch 00011: val_accuracy improved from 0.71946 to 0.73274, saving model to models/archi01_RAW.epoch11-accuracy0.73.hdf5\n",
      "Epoch 12/50\n",
      "142/142 [==============================] - 50s 354ms/step - loss: 0.5764 - accuracy: 0.7309 - val_loss: 0.5715 - val_accuracy: 0.7324\n",
      "\n",
      "Epoch 00012: val_accuracy did not improve from 0.73274\n",
      "Epoch 13/50\n",
      "142/142 [==============================] - 50s 353ms/step - loss: 0.5688 - accuracy: 0.7363 - val_loss: 0.5647 - val_accuracy: 0.7410\n",
      "\n",
      "Epoch 00013: val_accuracy improved from 0.73274 to 0.74103, saving model to models/archi01_RAW.epoch13-accuracy0.74.hdf5\n",
      "Epoch 14/50\n",
      "142/142 [==============================] - 50s 355ms/step - loss: 0.5617 - accuracy: 0.7429 - val_loss: 0.5587 - val_accuracy: 0.7437\n",
      "\n",
      "Epoch 00014: val_accuracy improved from 0.74103 to 0.74366, saving model to models/archi01_RAW.epoch14-accuracy0.74.hdf5\n",
      "Epoch 15/50\n",
      "142/142 [==============================] - 51s 357ms/step - loss: 0.5563 - accuracy: 0.7476 - val_loss: 0.5532 - val_accuracy: 0.7483\n",
      "\n",
      "Epoch 00015: val_accuracy improved from 0.74366 to 0.74833, saving model to models/archi01_RAW.epoch15-accuracy0.75.hdf5\n",
      "Epoch 16/50\n",
      "142/142 [==============================] - 50s 355ms/step - loss: 0.5507 - accuracy: 0.7516 - val_loss: 0.5480 - val_accuracy: 0.7520\n",
      "\n",
      "Epoch 00016: val_accuracy improved from 0.74833 to 0.75195, saving model to models/archi01_RAW.epoch16-accuracy0.75.hdf5\n",
      "Epoch 17/50\n",
      "142/142 [==============================] - 51s 357ms/step - loss: 0.5452 - accuracy: 0.7552 - val_loss: 0.5430 - val_accuracy: 0.7575\n",
      "\n",
      "Epoch 00017: val_accuracy improved from 0.75195 to 0.75751, saving model to models/archi01_RAW.epoch17-accuracy0.76.hdf5\n",
      "Epoch 18/50\n",
      "142/142 [==============================] - 50s 354ms/step - loss: 0.5401 - accuracy: 0.7590 - val_loss: 0.5381 - val_accuracy: 0.7595\n",
      "\n",
      "Epoch 00018: val_accuracy improved from 0.75751 to 0.75947, saving model to models/archi01_RAW.epoch18-accuracy0.76.hdf5\n",
      "Epoch 19/50\n",
      "142/142 [==============================] - 50s 354ms/step - loss: 0.5346 - accuracy: 0.7627 - val_loss: 0.5329 - val_accuracy: 0.7637\n",
      "\n",
      "Epoch 00019: val_accuracy improved from 0.75947 to 0.76366, saving model to models/archi01_RAW.epoch19-accuracy0.76.hdf5\n",
      "Epoch 20/50\n",
      "142/142 [==============================] - 50s 354ms/step - loss: 0.5293 - accuracy: 0.7666 - val_loss: 0.5272 - val_accuracy: 0.7666\n",
      "\n",
      "Epoch 00020: val_accuracy improved from 0.76366 to 0.76658, saving model to models/archi01_RAW.epoch20-accuracy0.77.hdf5\n",
      "Epoch 21/50\n",
      "142/142 [==============================] - 50s 355ms/step - loss: 0.5227 - accuracy: 0.7705 - val_loss: 0.5204 - val_accuracy: 0.7687\n",
      "\n",
      "Epoch 00021: val_accuracy improved from 0.76658 to 0.76875, saving model to models/archi01_RAW.epoch21-accuracy0.77.hdf5\n",
      "Epoch 22/50\n",
      "142/142 [==============================] - 50s 355ms/step - loss: 0.5156 - accuracy: 0.7738 - val_loss: 0.5104 - val_accuracy: 0.7738\n",
      "\n",
      "Epoch 00022: val_accuracy improved from 0.76875 to 0.77377, saving model to models/archi01_RAW.epoch22-accuracy0.77.hdf5\n",
      "Epoch 23/50\n",
      "142/142 [==============================] - 50s 355ms/step - loss: 0.5036 - accuracy: 0.7775 - val_loss: 0.4945 - val_accuracy: 0.7742\n",
      "\n",
      "Epoch 00023: val_accuracy improved from 0.77377 to 0.77419, saving model to models/archi01_RAW.epoch23-accuracy0.77.hdf5\n",
      "Epoch 24/50\n",
      "142/142 [==============================] - 51s 360ms/step - loss: 0.4870 - accuracy: 0.7781 - val_loss: 0.4801 - val_accuracy: 0.7762\n",
      "\n",
      "Epoch 00024: val_accuracy improved from 0.77419 to 0.77623, saving model to models/archi01_RAW.epoch24-accuracy0.78.hdf5\n",
      "Epoch 25/50\n",
      "142/142 [==============================] - 51s 358ms/step - loss: 0.4737 - accuracy: 0.7810 - val_loss: 0.4745 - val_accuracy: 0.7787\n",
      "\n",
      "Epoch 00025: val_accuracy improved from 0.77623 to 0.77870, saving model to models/archi01_RAW.epoch25-accuracy0.78.hdf5\n",
      "Epoch 26/50\n",
      "142/142 [==============================] - 51s 359ms/step - loss: 0.4687 - accuracy: 0.7832 - val_loss: 0.4707 - val_accuracy: 0.7804\n",
      "\n",
      "Epoch 00026: val_accuracy improved from 0.77870 to 0.78041, saving model to models/archi01_RAW.epoch26-accuracy0.78.hdf5\n",
      "Epoch 27/50\n",
      "142/142 [==============================] - 51s 359ms/step - loss: 0.4650 - accuracy: 0.7855 - val_loss: 0.4677 - val_accuracy: 0.7827\n",
      "\n",
      "Epoch 00027: val_accuracy improved from 0.78041 to 0.78273, saving model to models/archi01_RAW.epoch27-accuracy0.78.hdf5\n",
      "Epoch 28/50\n",
      "142/142 [==============================] - 51s 360ms/step - loss: 0.4621 - accuracy: 0.7871 - val_loss: 0.4652 - val_accuracy: 0.7839\n",
      "\n",
      "Epoch 00028: val_accuracy improved from 0.78273 to 0.78393, saving model to models/archi01_RAW.epoch28-accuracy0.78.hdf5\n",
      "Epoch 29/50\n",
      "142/142 [==============================] - 51s 360ms/step - loss: 0.4595 - accuracy: 0.7885 - val_loss: 0.4630 - val_accuracy: 0.7855\n",
      "\n",
      "Epoch 00029: val_accuracy improved from 0.78393 to 0.78549, saving model to models/archi01_RAW.epoch29-accuracy0.79.hdf5\n",
      "Epoch 30/50\n",
      "142/142 [==============================] - 51s 358ms/step - loss: 0.4570 - accuracy: 0.7896 - val_loss: 0.4612 - val_accuracy: 0.7862\n",
      "\n",
      "Epoch 00030: val_accuracy improved from 0.78549 to 0.78623, saving model to models/archi01_RAW.epoch30-accuracy0.79.hdf5\n",
      "Epoch 31/50\n",
      "142/142 [==============================] - 51s 356ms/step - loss: 0.4556 - accuracy: 0.7907 - val_loss: 0.4596 - val_accuracy: 0.7869\n",
      "\n",
      "Epoch 00031: val_accuracy improved from 0.78623 to 0.78693, saving model to models/archi01_RAW.epoch31-accuracy0.79.hdf5\n",
      "Epoch 32/50\n",
      "142/142 [==============================] - 51s 357ms/step - loss: 0.4530 - accuracy: 0.7924 - val_loss: 0.4583 - val_accuracy: 0.7875\n",
      "\n",
      "Epoch 00032: val_accuracy improved from 0.78693 to 0.78748, saving model to models/archi01_RAW.epoch32-accuracy0.79.hdf5\n",
      "Epoch 33/50\n",
      "142/142 [==============================] - 50s 355ms/step - loss: 0.4510 - accuracy: 0.7932 - val_loss: 0.4569 - val_accuracy: 0.7884\n",
      "\n",
      "Epoch 00033: val_accuracy improved from 0.78748 to 0.78844, saving model to models/archi01_RAW.epoch33-accuracy0.79.hdf5\n",
      "Epoch 34/50\n",
      "142/142 [==============================] - 50s 356ms/step - loss: 0.4504 - accuracy: 0.7939 - val_loss: 0.4558 - val_accuracy: 0.7891\n",
      "\n",
      "Epoch 00034: val_accuracy improved from 0.78844 to 0.78912, saving model to models/archi01_RAW.epoch34-accuracy0.79.hdf5\n",
      "Epoch 35/50\n",
      "142/142 [==============================] - 50s 355ms/step - loss: 0.4474 - accuracy: 0.7954 - val_loss: 0.4548 - val_accuracy: 0.7901\n",
      "\n",
      "Epoch 00035: val_accuracy improved from 0.78912 to 0.79008, saving model to models/archi01_RAW.epoch35-accuracy0.79.hdf5\n",
      "Epoch 36/50\n",
      "142/142 [==============================] - 51s 357ms/step - loss: 0.4460 - accuracy: 0.7963 - val_loss: 0.4537 - val_accuracy: 0.7904\n",
      "\n",
      "Epoch 00036: val_accuracy improved from 0.79008 to 0.79045, saving model to models/archi01_RAW.epoch36-accuracy0.79.hdf5\n",
      "Epoch 37/50\n",
      "142/142 [==============================] - 51s 357ms/step - loss: 0.4456 - accuracy: 0.7963 - val_loss: 0.4529 - val_accuracy: 0.7912\n",
      "\n",
      "Epoch 00037: val_accuracy improved from 0.79045 to 0.79119, saving model to models/archi01_RAW.epoch37-accuracy0.79.hdf5\n",
      "Epoch 38/50\n",
      "142/142 [==============================] - 50s 354ms/step - loss: 0.4448 - accuracy: 0.7969 - val_loss: 0.4521 - val_accuracy: 0.7912\n",
      "\n",
      "Epoch 00038: val_accuracy did not improve from 0.79119\n",
      "Epoch 39/50\n",
      "142/142 [==============================] - 50s 355ms/step - loss: 0.4437 - accuracy: 0.7975 - val_loss: 0.4513 - val_accuracy: 0.7920\n",
      "\n",
      "Epoch 00039: val_accuracy improved from 0.79119 to 0.79200, saving model to models/archi01_RAW.epoch39-accuracy0.79.hdf5\n",
      "Epoch 40/50\n",
      "142/142 [==============================] - 50s 354ms/step - loss: 0.4417 - accuracy: 0.7986 - val_loss: 0.4506 - val_accuracy: 0.7921\n",
      "\n",
      "Epoch 00040: val_accuracy improved from 0.79200 to 0.79214, saving model to models/archi01_RAW.epoch40-accuracy0.79.hdf5\n",
      "Epoch 41/50\n",
      "142/142 [==============================] - 50s 353ms/step - loss: 0.4416 - accuracy: 0.7986 - val_loss: 0.4500 - val_accuracy: 0.7926\n",
      "\n",
      "Epoch 00041: val_accuracy improved from 0.79214 to 0.79260, saving model to models/archi01_RAW.epoch41-accuracy0.79.hdf5\n",
      "Epoch 42/50\n",
      "142/142 [==============================] - 50s 353ms/step - loss: 0.4410 - accuracy: 0.7988 - val_loss: 0.4494 - val_accuracy: 0.7928\n",
      "\n",
      "Epoch 00042: val_accuracy improved from 0.79260 to 0.79276, saving model to models/archi01_RAW.epoch42-accuracy0.79.hdf5\n",
      "Epoch 43/50\n",
      "142/142 [==============================] - 50s 353ms/step - loss: 0.4401 - accuracy: 0.7995 - val_loss: 0.4488 - val_accuracy: 0.7934\n",
      "\n",
      "Epoch 00043: val_accuracy improved from 0.79276 to 0.79340, saving model to models/archi01_RAW.epoch43-accuracy0.79.hdf5\n",
      "Restoring model weights from the end of the best epoch.\n",
      "Epoch 00043: early stopping\n",
      "Training Accuracy: 0.7939\n",
      "Testing Accuracy:  0.7884\n",
      "Testing model with 50000 tokens\n",
      "----- One sample outputs for demo -----\n",
      ">> Original sentence: you too be fake .. :x ... disguise your link to be something else .\n",
      "\n",
      ">> Tokenized sentence: ['you too be fake x disguise your link to be something else']\n",
      "\n",
      ">> X_train_enc: [[10, 46, 2, 1411, 197, 9955, 44, 456, 3, 2, 199, 447]]\n",
      "\n",
      ">> X_train_ready: [[  10   46    2 1411  197 9955   44  456    3    2  199  447    0    0\n",
      "     0    0    0    0    0    0    0    0    0    0    0    0    0    0\n",
      "     0    0    0    0    0    0    0    0    0    0    0    0    0    0\n",
      "     0    0    0    0    0    0    0    0]]\n",
      "\n",
      "Vocab size: 228026\n",
      "Epoch 1/50\n",
      "142/142 [==============================] - 53s 359ms/step - loss: 0.6924 - accuracy: 0.5278 - val_loss: 0.6907 - val_accuracy: 0.5750\n",
      "\n",
      "Epoch 00001: val_accuracy improved from -inf to 0.57504, saving model to models/archi01_RAW.epoch01-accuracy0.58.hdf5\n",
      "Epoch 2/50\n",
      "142/142 [==============================] - 50s 355ms/step - loss: 0.6900 - accuracy: 0.5808 - val_loss: 0.6876 - val_accuracy: 0.5928\n",
      "\n",
      "Epoch 00002: val_accuracy improved from 0.57504 to 0.59278, saving model to models/archi01_RAW.epoch02-accuracy0.59.hdf5\n",
      "Epoch 3/50\n",
      "142/142 [==============================] - 50s 355ms/step - loss: 0.6863 - accuracy: 0.5961 - val_loss: 0.6826 - val_accuracy: 0.5963\n",
      "\n",
      "Epoch 00003: val_accuracy improved from 0.59278 to 0.59629, saving model to models/archi01_RAW.epoch03-accuracy0.60.hdf5\n",
      "Epoch 4/50\n",
      "142/142 [==============================] - 50s 354ms/step - loss: 0.6810 - accuracy: 0.5976 - val_loss: 0.6761 - val_accuracy: 0.5980\n",
      "\n",
      "Epoch 00004: val_accuracy improved from 0.59629 to 0.59804, saving model to models/archi01_RAW.epoch04-accuracy0.60.hdf5\n",
      "Epoch 5/50\n",
      "142/142 [==============================] - 50s 354ms/step - loss: 0.6740 - accuracy: 0.6015 - val_loss: 0.6677 - val_accuracy: 0.6078\n",
      "\n",
      "Epoch 00005: val_accuracy improved from 0.59804 to 0.60781, saving model to models/archi01_RAW.epoch05-accuracy0.61.hdf5\n",
      "Epoch 6/50\n",
      "142/142 [==============================] - 50s 355ms/step - loss: 0.6649 - accuracy: 0.6122 - val_loss: 0.6561 - val_accuracy: 0.6259\n",
      "\n",
      "Epoch 00006: val_accuracy improved from 0.60781 to 0.62586, saving model to models/archi01_RAW.epoch06-accuracy0.63.hdf5\n",
      "Epoch 7/50\n",
      "142/142 [==============================] - 50s 353ms/step - loss: 0.6518 - accuracy: 0.6329 - val_loss: 0.6377 - val_accuracy: 0.6541\n",
      "\n",
      "Epoch 00007: val_accuracy improved from 0.62586 to 0.65407, saving model to models/archi01_RAW.epoch07-accuracy0.65.hdf5\n",
      "Epoch 8/50\n",
      "142/142 [==============================] - 50s 353ms/step - loss: 0.6317 - accuracy: 0.6655 - val_loss: 0.6159 - val_accuracy: 0.6806\n",
      "\n",
      "Epoch 00008: val_accuracy improved from 0.65407 to 0.68058, saving model to models/archi01_RAW.epoch08-accuracy0.68.hdf5\n",
      "Epoch 9/50\n",
      "142/142 [==============================] - 50s 355ms/step - loss: 0.6113 - accuracy: 0.6972 - val_loss: 0.5990 - val_accuracy: 0.7144\n",
      "\n",
      "Epoch 00009: val_accuracy improved from 0.68058 to 0.71439, saving model to models/archi01_RAW.epoch09-accuracy0.71.hdf5\n",
      "Epoch 10/50\n",
      "142/142 [==============================] - 50s 355ms/step - loss: 0.5950 - accuracy: 0.7176 - val_loss: 0.5864 - val_accuracy: 0.7247\n",
      "\n",
      "Epoch 00010: val_accuracy improved from 0.71439 to 0.72470, saving model to models/archi01_RAW.epoch10-accuracy0.72.hdf5\n",
      "Epoch 11/50\n",
      "142/142 [==============================] - 51s 356ms/step - loss: 0.5832 - accuracy: 0.7267 - val_loss: 0.5764 - val_accuracy: 0.7358\n",
      "\n",
      "Epoch 00011: val_accuracy improved from 0.72470 to 0.73582, saving model to models/archi01_RAW.epoch11-accuracy0.74.hdf5\n",
      "Epoch 12/50\n",
      "142/142 [==============================] - 51s 357ms/step - loss: 0.5732 - accuracy: 0.7356 - val_loss: 0.5679 - val_accuracy: 0.7369\n",
      "\n",
      "Epoch 00012: val_accuracy improved from 0.73582 to 0.73688, saving model to models/archi01_RAW.epoch12-accuracy0.74.hdf5\n",
      "Epoch 13/50\n",
      "142/142 [==============================] - 50s 356ms/step - loss: 0.5651 - accuracy: 0.7410 - val_loss: 0.5605 - val_accuracy: 0.7450\n",
      "\n",
      "Epoch 00013: val_accuracy improved from 0.73688 to 0.74501, saving model to models/archi01_RAW.epoch13-accuracy0.75.hdf5\n",
      "Epoch 14/50\n",
      "142/142 [==============================] - 50s 354ms/step - loss: 0.5574 - accuracy: 0.7473 - val_loss: 0.5539 - val_accuracy: 0.7483\n",
      "\n",
      "Epoch 00014: val_accuracy improved from 0.74501 to 0.74831, saving model to models/archi01_RAW.epoch14-accuracy0.75.hdf5\n",
      "Epoch 15/50\n",
      "142/142 [==============================] - 50s 354ms/step - loss: 0.5513 - accuracy: 0.7520 - val_loss: 0.5476 - val_accuracy: 0.7531\n",
      "\n",
      "Epoch 00015: val_accuracy improved from 0.74831 to 0.75313, saving model to models/archi01_RAW.epoch15-accuracy0.75.hdf5\n",
      "Epoch 16/50\n",
      "142/142 [==============================] - 50s 353ms/step - loss: 0.5449 - accuracy: 0.7562 - val_loss: 0.5417 - val_accuracy: 0.7567\n",
      "\n",
      "Epoch 00016: val_accuracy improved from 0.75313 to 0.75666, saving model to models/archi01_RAW.epoch16-accuracy0.76.hdf5\n",
      "Epoch 17/50\n",
      "142/142 [==============================] - 50s 355ms/step - loss: 0.5387 - accuracy: 0.7598 - val_loss: 0.5359 - val_accuracy: 0.7616\n",
      "\n",
      "Epoch 00017: val_accuracy improved from 0.75666 to 0.76158, saving model to models/archi01_RAW.epoch17-accuracy0.76.hdf5\n",
      "Epoch 18/50\n",
      "142/142 [==============================] - 51s 357ms/step - loss: 0.5324 - accuracy: 0.7633 - val_loss: 0.5298 - val_accuracy: 0.7636\n",
      "\n",
      "Epoch 00018: val_accuracy improved from 0.76158 to 0.76358, saving model to models/archi01_RAW.epoch18-accuracy0.76.hdf5\n",
      "Epoch 19/50\n",
      "142/142 [==============================] - 51s 355ms/step - loss: 0.5259 - accuracy: 0.7670 - val_loss: 0.5233 - val_accuracy: 0.7670\n",
      "\n",
      "Epoch 00019: val_accuracy improved from 0.76358 to 0.76697, saving model to models/archi01_RAW.epoch19-accuracy0.77.hdf5\n",
      "Epoch 20/50\n",
      "142/142 [==============================] - 50s 356ms/step - loss: 0.5190 - accuracy: 0.7700 - val_loss: 0.5159 - val_accuracy: 0.7690\n",
      "\n",
      "Epoch 00020: val_accuracy improved from 0.76697 to 0.76898, saving model to models/archi01_RAW.epoch20-accuracy0.77.hdf5\n",
      "Epoch 21/50\n",
      "142/142 [==============================] - 50s 355ms/step - loss: 0.5106 - accuracy: 0.7729 - val_loss: 0.5071 - val_accuracy: 0.7705\n",
      "\n",
      "Epoch 00021: val_accuracy improved from 0.76898 to 0.77055, saving model to models/archi01_RAW.epoch21-accuracy0.77.hdf5\n",
      "Epoch 22/50\n",
      "142/142 [==============================] - 51s 357ms/step - loss: 0.5014 - accuracy: 0.7743 - val_loss: 0.4964 - val_accuracy: 0.7722\n",
      "\n",
      "Epoch 00022: val_accuracy improved from 0.77055 to 0.77222, saving model to models/archi01_RAW.epoch22-accuracy0.77.hdf5\n",
      "Epoch 23/50\n",
      "142/142 [==============================] - 51s 356ms/step - loss: 0.4900 - accuracy: 0.7767 - val_loss: 0.4878 - val_accuracy: 0.7744\n",
      "\n",
      "Epoch 00023: val_accuracy improved from 0.77222 to 0.77443, saving model to models/archi01_RAW.epoch23-accuracy0.77.hdf5\n",
      "Epoch 24/50\n",
      "142/142 [==============================] - 50s 354ms/step - loss: 0.4824 - accuracy: 0.7788 - val_loss: 0.4828 - val_accuracy: 0.7764\n",
      "\n",
      "Epoch 00024: val_accuracy improved from 0.77443 to 0.77637, saving model to models/archi01_RAW.epoch24-accuracy0.78.hdf5\n",
      "Epoch 25/50\n",
      "142/142 [==============================] - 50s 355ms/step - loss: 0.4762 - accuracy: 0.7817 - val_loss: 0.4791 - val_accuracy: 0.7784\n",
      "\n",
      "Epoch 00025: val_accuracy improved from 0.77637 to 0.77841, saving model to models/archi01_RAW.epoch25-accuracy0.78.hdf5\n",
      "Epoch 26/50\n",
      "142/142 [==============================] - 50s 354ms/step - loss: 0.4730 - accuracy: 0.7833 - val_loss: 0.4760 - val_accuracy: 0.7799\n",
      "\n",
      "Epoch 00026: val_accuracy improved from 0.77841 to 0.77988, saving model to models/archi01_RAW.epoch26-accuracy0.78.hdf5\n",
      "Epoch 27/50\n",
      "142/142 [==============================] - 50s 355ms/step - loss: 0.4699 - accuracy: 0.7849 - val_loss: 0.4734 - val_accuracy: 0.7814\n",
      "\n",
      "Epoch 00027: val_accuracy improved from 0.77988 to 0.78138, saving model to models/archi01_RAW.epoch27-accuracy0.78.hdf5\n",
      "Epoch 28/50\n",
      "142/142 [==============================] - 51s 356ms/step - loss: 0.4671 - accuracy: 0.7866 - val_loss: 0.4711 - val_accuracy: 0.7825\n",
      "\n",
      "Epoch 00028: val_accuracy improved from 0.78138 to 0.78249, saving model to models/archi01_RAW.epoch28-accuracy0.78.hdf5\n",
      "Epoch 29/50\n",
      "142/142 [==============================] - 50s 355ms/step - loss: 0.4650 - accuracy: 0.7874 - val_loss: 0.4690 - val_accuracy: 0.7839\n",
      "\n",
      "Epoch 00029: val_accuracy improved from 0.78249 to 0.78393, saving model to models/archi01_RAW.epoch29-accuracy0.78.hdf5\n",
      "Epoch 30/50\n",
      "142/142 [==============================] - 52s 363ms/step - loss: 0.4623 - accuracy: 0.7890 - val_loss: 0.4671 - val_accuracy: 0.7846\n",
      "\n",
      "Epoch 00030: val_accuracy improved from 0.78393 to 0.78459, saving model to models/archi01_RAW.epoch30-accuracy0.78.hdf5\n",
      "Epoch 31/50\n",
      "142/142 [==============================] - 50s 353ms/step - loss: 0.4609 - accuracy: 0.7897 - val_loss: 0.4654 - val_accuracy: 0.7854\n",
      "\n",
      "Epoch 00031: val_accuracy improved from 0.78459 to 0.78542, saving model to models/archi01_RAW.epoch31-accuracy0.79.hdf5\n",
      "Epoch 32/50\n",
      "142/142 [==============================] - 50s 353ms/step - loss: 0.4581 - accuracy: 0.7913 - val_loss: 0.4639 - val_accuracy: 0.7860\n",
      "\n",
      "Epoch 00032: val_accuracy improved from 0.78542 to 0.78604, saving model to models/archi01_RAW.epoch32-accuracy0.79.hdf5\n",
      "Epoch 33/50\n",
      "142/142 [==============================] - 50s 354ms/step - loss: 0.4562 - accuracy: 0.7921 - val_loss: 0.4624 - val_accuracy: 0.7869\n",
      "\n",
      "Epoch 00033: val_accuracy improved from 0.78604 to 0.78692, saving model to models/archi01_RAW.epoch33-accuracy0.79.hdf5\n",
      "Epoch 34/50\n",
      " 24/142 [====>.........................] - ETA: 39s - loss: 0.4571 - accuracy: 0.7921"
     ]
    }
   ],
   "source": [
    "for t_size in [1000, 5000, 10000, 20000, 30000, 40000, 50000]:\n",
    "    search_num_tokens(t_size)"
   ]
  },
  {
   "cell_type": "markdown",
   "id": "af066cd2-4b0d-4073-8213-f081aa694bcc",
   "metadata": {},
   "source": [
    "---\n",
    "## 2.3 Comparaison des `scores` avec les différents pré-traitements <a class=\"anchor\" id=\"TOKENIZE_scores\"></a> [⇪](#menu)\n",
    "\n",
    "### Les scores ci-dessous ont été obtenus avec 100K samples"
   ]
  },
  {
   "cell_type": "code",
   "execution_count": 54,
   "id": "36a795b2-66e1-4643-8422-05ee7f0324da",
   "metadata": {
    "execution": {
     "iopub.execute_input": "2022-08-02T16:32:50.985833Z",
     "iopub.status.busy": "2022-08-02T16:32:50.985220Z",
     "iopub.status.idle": "2022-08-02T16:32:50.992433Z",
     "shell.execute_reply": "2022-08-02T16:32:50.991705Z",
     "shell.execute_reply.started": "2022-08-02T16:32:50.985795Z"
    },
    "tags": []
   },
   "outputs": [
    {
     "data": {
      "text/plain": [
       "100      0.67870\n",
       "1000     0.76350\n",
       "2500     0.77275\n",
       "3000     0.76705\n",
       "3500     0.76755\n",
       "4000     0.77060\n",
       "4500     0.77445\n",
       "5000     0.77025\n",
       "6000     0.76975\n",
       "7500     0.77305\n",
       "10000    0.76965\n",
       "15000    0.76800\n",
       "20000    0.76980\n",
       "50000    0.76625\n",
       "dtype: float64"
      ]
     },
     "execution_count": 54,
     "metadata": {},
     "output_type": "execute_result"
    }
   ],
   "source": [
    "pd.Series(token_scores).sort_index()"
   ]
  },
  {
   "cell_type": "markdown",
   "id": "1e405823-939e-4b6f-afeb-f61402b1e5c6",
   "metadata": {},
   "source": [
    "### Les scores ci-dessous ont été obtenus avec tout le jeu de données"
   ]
  },
  {
   "cell_type": "markdown",
   "id": "227a3cdf-2c82-4a52-9d12-df8d4bc1aea2",
   "metadata": {},
   "source": [
    ">### Testing model with 1000 tokens\n",
    "> - Training Accuracy: 0.7945\n",
    "> - Testing Accuracy:  0.7923\n",
    "\n",
    ">### Testing model with 5000 tokens\n",
    "> - Training Accuracy: 0.8177\n",
    "> - Testing Accuracy:  0.8108\n",
    "\n",
    ">### Testing model with 10000 tokens\n",
    "> - Training Accuracy: 0.8246\n",
    "> - Testing Accuracy:  0.8143\n",
    "\n",
    ">### Testing model with 20000 tokens\n",
    "> - Training Accuracy: 0.8055\n",
    "> - Testing Accuracy:  0.7979\n",
    "\n",
    ">### Testing model with 30000 tokens\n",
    "> - Training Accuracy: 0.8158\n",
    "> - Testing Accuracy:  0.8011\n",
    "\n",
    ">### Testing model with 40000 tokens\n",
    "> - Training Accuracy: 0.7939\n",
    "> - Testing Accuracy:  0.7884\n",
    "\n",
    ">### Testing model with 50000 tokens\n",
    "> - Training Accuracy: 0.7947\n",
    "> - Testing Accuracy:  0.7882"
   ]
  },
  {
   "cell_type": "markdown",
   "id": "9c527cd7-9549-41ae-9118-3778f60030e6",
   "metadata": {},
   "source": [
    ">#### **Conclusion**:\n",
    "> - Les recherches nous on permi de voir que le nombre de Tokens choisi **a une influence** sur les résultats de notre réseau de neuronnes\n",
    "> - On devine un tendance similaire sur les essais avec 100K et les essais avec tout le jeu de données; un nombre de tokens optimal autour de 5000\n",
    "> - En se basant sur les essais plus poussés en 100K samples, nous allons donc utiliser **4500 tokens pour la suite de notre projet**."
   ]
  }
 ],
 "metadata": {
  "kernelspec": {
   "display_name": "saturn (Python 3)",
   "language": "python",
   "name": "python3"
  },
  "language_info": {
   "codemirror_mode": {
    "name": "ipython",
    "version": 3
   },
   "file_extension": ".py",
   "mimetype": "text/x-python",
   "name": "python",
   "nbconvert_exporter": "python",
   "pygments_lexer": "ipython3",
   "version": "3.9.7"
  }
 },
 "nbformat": 4,
 "nbformat_minor": 5
}
