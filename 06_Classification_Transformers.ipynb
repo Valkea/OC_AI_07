{
 "cells": [
  {
   "cell_type": "markdown",
   "id": "725f1320-b353-4298-aa86-9c78836ee016",
   "metadata": {
    "id": "9bf11529-83a5-4504-a034-832ba1c996ce"
   },
   "source": [
    "# Menu <a class=\"anchor\" id=\"menu\"></a>\n",
    "   \n",
    "* [1. Préparatifs](#init)\n",
    "* [2. Quelques essais de `Transformers` **SANS fine-tuning**](#TRANS)\n",
    "    * [2.1 `distilbert-base-uncased-finetuned-sst-2-english` SANS fine-tuning](#TRANS_REF1)\n",
    "    * [2.2 `cardiffnlp/twitter-roberta-base-sentiment` SANS fine-tuning](#TRANS_REF2)\n",
    "* [3. Quelques essais de `Transformers` **AVEC fine-tuning**](#TRANSFT)\n",
    "    * [3.1 `roberta-base` SANS fine-tuning](#TRANS_FT1)"
   ]
  },
  {
   "cell_type": "markdown",
   "id": "f33e1e22-9357-4081-b4a7-a1851917dea1",
   "metadata": {
    "id": "221e6c06-6579-43fe-82f6-b313891f65dc"
   },
   "source": [
    "---\n",
    "---\n",
    "# 1. Préparatifs pour de la classification avec des Transformers <a class=\"anchor\" id=\"init\"></a> [⇪](#menu)"
   ]
  },
  {
   "cell_type": "code",
   "execution_count": 1,
   "id": "4uo9oguBoSMP",
   "metadata": {
    "colab": {
     "base_uri": "https://localhost:8080/"
    },
    "execution": {
     "iopub.execute_input": "2022-08-13T12:46:38.501956Z",
     "iopub.status.busy": "2022-08-13T12:46:38.501604Z",
     "iopub.status.idle": "2022-08-13T12:46:45.113062Z",
     "shell.execute_reply": "2022-08-13T12:46:45.111986Z",
     "shell.execute_reply.started": "2022-08-13T12:46:38.501875Z"
    },
    "id": "4uo9oguBoSMP",
    "outputId": "2998effb-56b7-498d-9032-8c5f4e9281d9",
    "tags": []
   },
   "outputs": [
    {
     "name": "stdout",
     "output_type": "stream",
     "text": [
      "Requirement already satisfied: transformers in /opt/conda/envs/saturn/lib/python3.9/site-packages (4.21.1)\n",
      "Requirement already satisfied: datasets in /opt/conda/envs/saturn/lib/python3.9/site-packages (2.4.0)\n",
      "Requirement already satisfied: pyyaml>=5.1 in /opt/conda/envs/saturn/lib/python3.9/site-packages (from transformers) (6.0)\n",
      "Requirement already satisfied: numpy>=1.17 in /opt/conda/envs/saturn/lib/python3.9/site-packages (from transformers) (1.21.6)\n",
      "Requirement already satisfied: packaging>=20.0 in /opt/conda/envs/saturn/lib/python3.9/site-packages (from transformers) (21.3)\n",
      "Requirement already satisfied: filelock in /opt/conda/envs/saturn/lib/python3.9/site-packages (from transformers) (3.8.0)\n",
      "Requirement already satisfied: requests in /opt/conda/envs/saturn/lib/python3.9/site-packages (from transformers) (2.28.1)\n",
      "Requirement already satisfied: regex!=2019.12.17 in /opt/conda/envs/saturn/lib/python3.9/site-packages (from transformers) (2022.7.25)\n",
      "Requirement already satisfied: tqdm>=4.27 in /opt/conda/envs/saturn/lib/python3.9/site-packages (from transformers) (4.64.0)\n",
      "Requirement already satisfied: huggingface-hub<1.0,>=0.1.0 in /opt/conda/envs/saturn/lib/python3.9/site-packages (from transformers) (0.8.1)\n",
      "Requirement already satisfied: tokenizers!=0.11.3,<0.13,>=0.11.1 in /opt/conda/envs/saturn/lib/python3.9/site-packages (from transformers) (0.12.1)\n",
      "Requirement already satisfied: responses<0.19 in /opt/conda/envs/saturn/lib/python3.9/site-packages (from datasets) (0.18.0)\n",
      "Requirement already satisfied: pyarrow>=6.0.0 in /opt/conda/envs/saturn/lib/python3.9/site-packages (from datasets) (6.0.1)\n",
      "Requirement already satisfied: dill<0.3.6 in /opt/conda/envs/saturn/lib/python3.9/site-packages (from datasets) (0.3.5.1)\n",
      "Requirement already satisfied: xxhash in /opt/conda/envs/saturn/lib/python3.9/site-packages (from datasets) (3.0.0)\n",
      "Requirement already satisfied: pandas in /opt/conda/envs/saturn/lib/python3.9/site-packages (from datasets) (1.4.2)\n",
      "Requirement already satisfied: multiprocess in /opt/conda/envs/saturn/lib/python3.9/site-packages (from datasets) (0.70.13)\n",
      "Requirement already satisfied: fsspec[http]>=2021.11.1 in /opt/conda/envs/saturn/lib/python3.9/site-packages (from datasets) (2022.5.0)\n",
      "Requirement already satisfied: aiohttp in /opt/conda/envs/saturn/lib/python3.9/site-packages (from datasets) (3.8.1)\n",
      "Requirement already satisfied: typing-extensions>=3.7.4.3 in /opt/conda/envs/saturn/lib/python3.9/site-packages (from huggingface-hub<1.0,>=0.1.0->transformers) (4.3.0)\n",
      "Requirement already satisfied: pyparsing!=3.0.5,>=2.0.2 in /opt/conda/envs/saturn/lib/python3.9/site-packages (from packaging>=20.0->transformers) (3.0.9)\n",
      "Requirement already satisfied: idna<4,>=2.5 in /opt/conda/envs/saturn/lib/python3.9/site-packages (from requests->transformers) (3.3)\n",
      "Requirement already satisfied: certifi>=2017.4.17 in /opt/conda/envs/saturn/lib/python3.9/site-packages (from requests->transformers) (2022.6.15)\n",
      "Requirement already satisfied: charset-normalizer<3,>=2 in /opt/conda/envs/saturn/lib/python3.9/site-packages (from requests->transformers) (2.0.12)\n",
      "Requirement already satisfied: urllib3<1.27,>=1.21.1 in /opt/conda/envs/saturn/lib/python3.9/site-packages (from requests->transformers) (1.26.11)\n",
      "Requirement already satisfied: aiosignal>=1.1.2 in /opt/conda/envs/saturn/lib/python3.9/site-packages (from aiohttp->datasets) (1.2.0)\n",
      "Requirement already satisfied: multidict<7.0,>=4.5 in /opt/conda/envs/saturn/lib/python3.9/site-packages (from aiohttp->datasets) (6.0.2)\n",
      "Requirement already satisfied: async-timeout<5.0,>=4.0.0a3 in /opt/conda/envs/saturn/lib/python3.9/site-packages (from aiohttp->datasets) (4.0.2)\n",
      "Requirement already satisfied: frozenlist>=1.1.1 in /opt/conda/envs/saturn/lib/python3.9/site-packages (from aiohttp->datasets) (1.3.1)\n",
      "Requirement already satisfied: yarl<2.0,>=1.0 in /opt/conda/envs/saturn/lib/python3.9/site-packages (from aiohttp->datasets) (1.7.2)\n",
      "Requirement already satisfied: attrs>=17.3.0 in /opt/conda/envs/saturn/lib/python3.9/site-packages (from aiohttp->datasets) (22.1.0)\n",
      "Requirement already satisfied: python-dateutil>=2.8.1 in /opt/conda/envs/saturn/lib/python3.9/site-packages (from pandas->datasets) (2.8.2)\n",
      "Requirement already satisfied: pytz>=2020.1 in /opt/conda/envs/saturn/lib/python3.9/site-packages (from pandas->datasets) (2022.2)\n",
      "Requirement already satisfied: six>=1.5 in /opt/conda/envs/saturn/lib/python3.9/site-packages (from python-dateutil>=2.8.1->pandas->datasets) (1.16.0)\n",
      "Requirement already satisfied: dagshub in /opt/conda/envs/saturn/lib/python3.9/site-packages (0.1.8)\n",
      "Requirement already satisfied: PyYAML>=5 in /opt/conda/envs/saturn/lib/python3.9/site-packages (from dagshub) (6.0)\n"
     ]
    }
   ],
   "source": [
    "!pip install transformers datasets\n",
    "!pip install dagshub"
   ]
  },
  {
   "cell_type": "raw",
   "id": "2dcc6085-5be3-4d5c-b252-615a92d591bd",
   "metadata": {
    "colab": {
     "base_uri": "https://localhost:8080/"
    },
    "id": "EIrJ6lw6oB5-",
    "outputId": "77c77960-f90b-44e9-c357-7cd2dd54bb37"
   },
   "source": [
    "from google.colab import drive\n",
    "drive.mount('/content/drive')"
   ]
  },
  {
   "cell_type": "code",
   "execution_count": 2,
   "id": "9k3kzYtYofhl",
   "metadata": {
    "colab": {
     "base_uri": "https://localhost:8080/",
     "height": 35
    },
    "execution": {
     "iopub.execute_input": "2022-08-13T12:46:45.117948Z",
     "iopub.status.busy": "2022-08-13T12:46:45.117664Z",
     "iopub.status.idle": "2022-08-13T12:46:45.129393Z",
     "shell.execute_reply": "2022-08-13T12:46:45.128428Z",
     "shell.execute_reply.started": "2022-08-13T12:46:45.117922Z"
    },
    "id": "9k3kzYtYofhl",
    "outputId": "6d3cc92d-c51d-4e98-f3c3-7c4fe1a19133",
    "tags": []
   },
   "outputs": [
    {
     "data": {
      "text/plain": [
       "'/home/jovyan/workspace/OC_AI_07'"
      ]
     },
     "execution_count": 2,
     "metadata": {},
     "output_type": "execute_result"
    }
   ],
   "source": [
    "import os\n",
    "#os.chdir(\"/content/drive/MyDrive/Openclassrooms/OC_AI_O7\")\n",
    "os.getcwd()"
   ]
  },
  {
   "cell_type": "code",
   "execution_count": 3,
   "id": "075244a7-1459-4c89-8d3a-ef6b76941c19",
   "metadata": {
    "execution": {
     "iopub.execute_input": "2022-08-13T12:46:45.131367Z",
     "iopub.status.busy": "2022-08-13T12:46:45.130534Z",
     "iopub.status.idle": "2022-08-13T12:46:48.527922Z",
     "shell.execute_reply": "2022-08-13T12:46:48.527296Z",
     "shell.execute_reply.started": "2022-08-13T12:46:45.131339Z"
    },
    "id": "075244a7-1459-4c89-8d3a-ef6b76941c19",
    "tags": []
   },
   "outputs": [
    {
     "name": "stderr",
     "output_type": "stream",
     "text": [
      "2022-08-13 12:46:47.001962: I tensorflow/core/util/util.cc:169] oneDNN custom operations are on. You may see slightly different numerical results due to floating-point round-off errors from different computation orders. To turn them off, set the environment variable `TF_ENABLE_ONEDNN_OPTS=0`.\n"
     ]
    }
   ],
   "source": [
    "import time\n",
    "import pathlib \n",
    "\n",
    "import pandas as pd\n",
    "import numpy as np\n",
    "import matplotlib.pyplot as plt \n",
    "\n",
    "from sklearn.model_selection import train_test_split\n",
    "\n",
    "from dagshub import dagshub_logger, DAGsHubLogger\n",
    "from transformers import TFAutoModelForSequenceClassification, AutoTokenizer, pipeline\n",
    "from datasets import Dataset, load_dataset\n",
    "\n",
    "import tensorflow as tf\n",
    "\n",
    "# set random seed for reproductibility\n",
    "random_seed = 0\n",
    "np.random.seed(random_seed)\n",
    "\n",
    "try:\n",
    "    keras.utils.set_random_seed(random_seed)\n",
    "except Exception:\n",
    "    tf.random.set_seed(random_seed)"
   ]
  },
  {
   "cell_type": "code",
   "execution_count": 7,
   "id": "BbqH05wWonLK",
   "metadata": {
    "colab": {
     "base_uri": "https://localhost:8080/"
    },
    "execution": {
     "iopub.execute_input": "2022-08-13T12:46:52.697942Z",
     "iopub.status.busy": "2022-08-13T12:46:52.697507Z",
     "iopub.status.idle": "2022-08-13T12:46:52.702932Z",
     "shell.execute_reply": "2022-08-13T12:46:52.702100Z",
     "shell.execute_reply.started": "2022-08-13T12:46:52.697914Z"
    },
    "id": "BbqH05wWonLK",
    "outputId": "0cb3de6b-a6b1-4624-b22d-1f0286e4b3b5",
    "tags": []
   },
   "outputs": [
    {
     "name": "stdout",
     "output_type": "stream",
     "text": [
      "Num GPUs Available:  1\n"
     ]
    }
   ],
   "source": [
    "print(\"Num GPUs Available: \", len(tf.config.list_physical_devices('GPU')))"
   ]
  },
  {
   "cell_type": "code",
   "execution_count": 5,
   "id": "6282b77a-7492-405c-9dea-4f062e90d22f",
   "metadata": {
    "execution": {
     "iopub.execute_input": "2022-08-13T12:46:48.646761Z",
     "iopub.status.busy": "2022-08-13T12:46:48.646431Z",
     "iopub.status.idle": "2022-08-13T12:46:48.652959Z",
     "shell.execute_reply": "2022-08-13T12:46:48.652318Z",
     "shell.execute_reply.started": "2022-08-13T12:46:48.646738Z"
    },
    "tags": []
   },
   "outputs": [
    {
     "data": {
      "text/plain": [
       "[PhysicalDevice(name='/physical_device:GPU:0', device_type='GPU')]"
      ]
     },
     "execution_count": 5,
     "metadata": {},
     "output_type": "execute_result"
    }
   ],
   "source": [
    "tf.config.list_physical_devices('GPU')"
   ]
  },
  {
   "cell_type": "code",
   "execution_count": 6,
   "id": "945fd2e5-ea32-4965-b5d2-0279902c3b5e",
   "metadata": {
    "execution": {
     "iopub.execute_input": "2022-08-13T12:46:48.654087Z",
     "iopub.status.busy": "2022-08-13T12:46:48.653781Z",
     "iopub.status.idle": "2022-08-13T12:46:49.480847Z",
     "shell.execute_reply": "2022-08-13T12:46:49.479909Z",
     "shell.execute_reply.started": "2022-08-13T12:46:48.654059Z"
    },
    "tags": []
   },
   "outputs": [
    {
     "name": "stdout",
     "output_type": "stream",
     "text": [
      "GPU 0: Tesla T4 (UUID: GPU-08f56265-3e60-fe33-d84d-a721b8860dac)\n"
     ]
    }
   ],
   "source": [
    "!nvidia-smi -L"
   ]
  },
  {
   "cell_type": "markdown",
   "id": "218502a8-992b-47ec-a9b5-362416320dce",
   "metadata": {
    "id": "dad68b70-d9c4-40f2-a860-702be77c95ec"
   },
   "source": [
    "### Chargeons quelques fonctions *maison* pour entrainer et évaluer les modèles, et initialisons un fichier pour enregistrer les scores\n",
    "Ces fonctions ont été déportées dans le fichier classification_utils.py pour allèger le notebook"
   ]
  },
  {
   "cell_type": "code",
   "execution_count": 8,
   "id": "5550f35c-ddbc-453d-b767-9309432d19b7",
   "metadata": {
    "execution": {
     "iopub.execute_input": "2022-08-13T12:46:58.201144Z",
     "iopub.status.busy": "2022-08-13T12:46:58.200746Z",
     "iopub.status.idle": "2022-08-13T12:46:58.214459Z",
     "shell.execute_reply": "2022-08-13T12:46:58.213877Z",
     "shell.execute_reply.started": "2022-08-13T12:46:58.201119Z"
    },
    "executionInfo": {
     "elapsed": 3108,
     "status": "ok",
     "timestamp": 1659976331477,
     "user": {
      "displayName": "Valkea",
      "userId": "01476199649418572392"
     },
     "user_tz": -120
    },
    "id": "0bc686b4-d5ec-40af-9d6d-3fdd0b518ed9",
    "tags": []
   },
   "outputs": [],
   "source": [
    "# Load classification helpers' functions & initialize a file to log the models' scores\n",
    "from classification_utils import fit_model, get_scores, init_scores, find_best_threshold\n",
    "init_scores(\"data/scores_NN_SelectTransformers.csv\")"
   ]
  },
  {
   "cell_type": "markdown",
   "id": "87afefc7-f525-41a2-a684-6c3f921c813f",
   "metadata": {
    "id": "fe476b92-501a-4c20-bc6b-cd8e16e1a54a"
   },
   "source": [
    "### Définissons les `fonctions et paramètres commun` à l'entrainement des différents modèles que l'on veut tester"
   ]
  },
  {
   "cell_type": "code",
   "execution_count": 9,
   "id": "22d41aa6-9dbe-4ae6-8702-7e6f4254506f",
   "metadata": {
    "execution": {
     "iopub.execute_input": "2022-08-13T12:46:59.324811Z",
     "iopub.status.busy": "2022-08-13T12:46:59.324423Z",
     "iopub.status.idle": "2022-08-13T12:46:59.334423Z",
     "shell.execute_reply": "2022-08-13T12:46:59.333567Z",
     "shell.execute_reply.started": "2022-08-13T12:46:59.324788Z"
    },
    "executionInfo": {
     "elapsed": 4,
     "status": "ok",
     "timestamp": 1659976379895,
     "user": {
      "displayName": "Valkea",
      "userId": "01476199649418572392"
     },
     "user_tz": -120
    },
    "id": "49e6994b-1eb7-46e5-a373-98403ef4b1ac",
    "tags": []
   },
   "outputs": [],
   "source": [
    "# DagsHub \n",
    "\n",
    "def save_hyperparameters_to_dagshub(dlogger, model_name, archi_desc, layers, batch_size, sample_size, epochs=None):    \n",
    "    dlogger.log_hyperparams(model_name=model_name)\n",
    "    dlogger.log_hyperparams(archi_desc=archi_desc)\n",
    "    dlogger.log_hyperparams(layers=layers)\n",
    "    dlogger.log_hyperparams(batch_size=batch_size)\n",
    "    dlogger.log_hyperparams(sample_size=sample_size)\n",
    "    if epochs:\n",
    "        dlogger.log_hyperparams(epochs=epochs)\n",
    "    \n",
    "def save_metrics_to_dagshub(dlogger, scores, best_threshold, history=None, step_num=1000, close=True):\n",
    "    dlogger.log_metrics(scores, step_num=step_num)\n",
    "    dlogger.log_metrics(best_threshold=best_threshold, step_num=step_num)\n",
    "    if history:\n",
    "        add_scores_to_dagshub(dlogger, history)\n",
    "\n",
    "def get_layers_for_dagshub(model):\n",
    "    \n",
    "    layers_infos = []\n",
    "    \n",
    "    def search(layer):\n",
    "        layer = dict(layer)\n",
    "        \n",
    "        nonlocal layers_infos\n",
    "        \n",
    "        if 'config' in layer:\n",
    "    \n",
    "            #if 'name' in layer['config']:\n",
    "            #    print(\" name:\", layer['config']['name'])\n",
    "            conf = {}\n",
    "            if 'units' in layer['config']:\n",
    "                conf[\"units\"] = layer['config']['units']\n",
    "            if 'output_dim' in layer['config']:\n",
    "                conf['output_dim'] = layer['config']['output_dim']\n",
    "            if 'rate' in layer['config']:\n",
    "                conf['rate'] = layer['config']['rate']\n",
    "            \n",
    "            layers_infos.append((layer['class_name'], conf))\n",
    "            \n",
    "            if 'layer' in layer['config']:\n",
    "                search(layer['config']['layer'])\n",
    "        \n",
    "    for layer in model.get_config()['layers']:\n",
    "        search(layer)\n",
    "        \n",
    "    return layers_infos\n",
    "\n",
    "\n",
    "def add_scores_to_dagshub(dlogger, history):\n",
    "    for epoch, loss, accuracy, val_loss, val_accuracy in zip(\n",
    "        history.epoch, \n",
    "        history.history['loss'], \n",
    "        history.history['accuracy'], \n",
    "        history.history['val_loss'], \n",
    "        history.history['val_accuracy']):\n",
    "        scores = {\n",
    "            'loss':loss, \n",
    "            'accuracy':accuracy, \n",
    "            'val_loss':val_loss, \n",
    "            'val_accuracy':val_accuracy\n",
    "        }\n",
    "        dlogger.log_metrics(scores, step_num=epoch) "
   ]
  },
  {
   "cell_type": "code",
   "execution_count": 10,
   "id": "e3c4ad4f-5143-4d90-97d9-2003519977fa",
   "metadata": {
    "execution": {
     "iopub.execute_input": "2022-08-13T12:46:59.883871Z",
     "iopub.status.busy": "2022-08-13T12:46:59.883495Z",
     "iopub.status.idle": "2022-08-13T12:46:59.889257Z",
     "shell.execute_reply": "2022-08-13T12:46:59.888486Z",
     "shell.execute_reply.started": "2022-08-13T12:46:59.883843Z"
    },
    "executionInfo": {
     "elapsed": 7,
     "status": "ok",
     "timestamp": 1659976382115,
     "user": {
      "displayName": "Valkea",
      "userId": "01476199649418572392"
     },
     "user_tz": -120
    },
    "id": "3c9423ee-05a0-423e-a4dd-6f7448a82558",
    "tags": []
   },
   "outputs": [],
   "source": [
    "def summarize_diagnostics(history):\n",
    "    \n",
    "    figure = plt.figure(figsize=(8,8))\n",
    "            \n",
    "    # plot loss\n",
    "    plt.subplot(211)\n",
    "    plt.title('Cross Entropy Loss')\n",
    "    plt.plot(history.history['loss'], color='blue', label='train')\n",
    "    plt.plot(history.history['val_loss'], color='orange', label='val')\n",
    "    plt.legend()\n",
    "    \n",
    "    # plot accuracy\n",
    "    plt.subplot(212)\n",
    "    plt.title('Classification Accuracy')\n",
    "    plt.plot(history.history['accuracy'], color='blue', label='train')\n",
    "    plt.plot(history.history['val_accuracy'], color='orange', label='val')\n",
    "    plt.legend()\n",
    "    \n",
    "    # save plot to file\n",
    "    #filename = sys.argv[0].split('/')[-1]\n",
    "    #plt.savefig(filename + '_plot.png')\n",
    "    #plt.close()\n",
    "    \n",
    "    plt.tight_layout(pad=1.0)"
   ]
  },
  {
   "cell_type": "code",
   "execution_count": 11,
   "id": "4c5d17b8-4964-439a-a6b5-9d4b8e2aee52",
   "metadata": {
    "execution": {
     "iopub.execute_input": "2022-08-13T12:47:00.260424Z",
     "iopub.status.busy": "2022-08-13T12:47:00.259995Z",
     "iopub.status.idle": "2022-08-13T12:47:00.265138Z",
     "shell.execute_reply": "2022-08-13T12:47:00.264475Z",
     "shell.execute_reply.started": "2022-08-13T12:47:00.260397Z"
    },
    "executionInfo": {
     "elapsed": 6,
     "status": "ok",
     "timestamp": 1659976382116,
     "user": {
      "displayName": "Valkea",
      "userId": "01476199649418572392"
     },
     "user_tz": -120
    },
    "id": "1223fbe9-8e24-48ed-8b64-0ce908f9eb0c",
    "tags": []
   },
   "outputs": [],
   "source": [
    "from keras import layers\n",
    "from keras.callbacks import EarlyStopping, ModelCheckpoint, Callback, ReduceLROnPlateau\n",
    "\n",
    "def init_callbacks(model_name):\n",
    "\n",
    "    # Define savepoints\n",
    "    filepath = pathlib.Path(\"models\", f\"{model_name}.keras\")\n",
    "\n",
    "    checkpoint = ModelCheckpoint(\n",
    "        monitor=\"val_accuracy\",\n",
    "        mode=\"max\",\n",
    "        filepath=filepath,\n",
    "        save_best_only=True,\n",
    "        verbose=1,\n",
    "    )\n",
    "\n",
    "    # Define EarlyStopping conditions\n",
    "    es = EarlyStopping(\n",
    "        monitor='val_loss', # 'binary_accuracy'\n",
    "        mode='min', # 'max'\n",
    "        patience=3,\n",
    "        min_delta=0.01, \n",
    "        restore_best_weights=True, \n",
    "        verbose=1,\n",
    "    )\n",
    "    \n",
    "    return [es]"
   ]
  },
  {
   "cell_type": "markdown",
   "id": "a1950395-2f53-408c-a753-90be67b81f91",
   "metadata": {
    "id": "9a83e16a-e22c-4494-972e-20884fa549e3"
   },
   "source": [
    "### Chargeons le jeu de données et préparons un `échantillon de travail` représentatif"
   ]
  },
  {
   "cell_type": "code",
   "execution_count": 12,
   "id": "d61ffce1-e507-4c70-95d1-3063810ade98",
   "metadata": {
    "colab": {
     "base_uri": "https://localhost:8080/",
     "height": 273
    },
    "execution": {
     "iopub.execute_input": "2022-08-13T12:47:01.057474Z",
     "iopub.status.busy": "2022-08-13T12:47:01.057086Z",
     "iopub.status.idle": "2022-08-13T12:47:05.230559Z",
     "shell.execute_reply": "2022-08-13T12:47:05.229677Z",
     "shell.execute_reply.started": "2022-08-13T12:47:01.057447Z"
    },
    "id": "d61ffce1-e507-4c70-95d1-3063810ade98",
    "outputId": "9546c118-785b-4cf7-f304-964bf346a9b0",
    "tags": []
   },
   "outputs": [
    {
     "data": {
      "text/html": [
       "<div>\n",
       "<style scoped>\n",
       "    .dataframe tbody tr th:only-of-type {\n",
       "        vertical-align: middle;\n",
       "    }\n",
       "\n",
       "    .dataframe tbody tr th {\n",
       "        vertical-align: top;\n",
       "    }\n",
       "\n",
       "    .dataframe thead th {\n",
       "        text-align: right;\n",
       "    }\n",
       "</style>\n",
       "<table border=\"1\" class=\"dataframe\">\n",
       "  <thead>\n",
       "    <tr style=\"text-align: right;\">\n",
       "      <th></th>\n",
       "      <th>label</th>\n",
       "      <th>text</th>\n",
       "    </tr>\n",
       "  </thead>\n",
       "  <tbody>\n",
       "    <tr>\n",
       "      <th>0</th>\n",
       "      <td>0</td>\n",
       "      <td>@switchfoot http://twitpic.com/2y1zl - Awww, t...</td>\n",
       "    </tr>\n",
       "    <tr>\n",
       "      <th>1</th>\n",
       "      <td>0</td>\n",
       "      <td>is upset that he can't update his Facebook by ...</td>\n",
       "    </tr>\n",
       "  </tbody>\n",
       "</table>\n",
       "</div>"
      ],
      "text/plain": [
       "   label                                               text\n",
       "0      0  @switchfoot http://twitpic.com/2y1zl - Awww, t...\n",
       "1      0  is upset that he can't update his Facebook by ..."
      ]
     },
     "metadata": {},
     "output_type": "display_data"
    },
    {
     "data": {
      "text/plain": [
       "(1452791, 2)"
      ]
     },
     "metadata": {},
     "output_type": "display_data"
    },
    {
     "data": {
      "text/html": [
       "<div>\n",
       "<style scoped>\n",
       "    .dataframe tbody tr th:only-of-type {\n",
       "        vertical-align: middle;\n",
       "    }\n",
       "\n",
       "    .dataframe tbody tr th {\n",
       "        vertical-align: top;\n",
       "    }\n",
       "\n",
       "    .dataframe thead th {\n",
       "        text-align: right;\n",
       "    }\n",
       "</style>\n",
       "<table border=\"1\" class=\"dataframe\">\n",
       "  <thead>\n",
       "    <tr style=\"text-align: right;\">\n",
       "      <th></th>\n",
       "      <th>text</th>\n",
       "    </tr>\n",
       "    <tr>\n",
       "      <th>label</th>\n",
       "      <th></th>\n",
       "    </tr>\n",
       "  </thead>\n",
       "  <tbody>\n",
       "    <tr>\n",
       "      <th>0</th>\n",
       "      <td>I dont have a background for my twitter stream...</td>\n",
       "    </tr>\n",
       "    <tr>\n",
       "      <th>0</th>\n",
       "      <td>I did many things but missed tweeting</td>\n",
       "    </tr>\n",
       "  </tbody>\n",
       "</table>\n",
       "</div>"
      ],
      "text/plain": [
       "                                                    text\n",
       "label                                                   \n",
       "0      I dont have a background for my twitter stream...\n",
       "0                 I did many things but missed tweeting "
      ]
     },
     "metadata": {},
     "output_type": "display_data"
    },
    {
     "data": {
      "text/plain": [
       "(100000, 1)"
      ]
     },
     "metadata": {},
     "output_type": "display_data"
    }
   ],
   "source": [
    "data_work = pd.read_csv(\n",
    "    pathlib.Path(pathlib.Path().absolute(), 'data', 'data_nlp_1563108.csv'), \n",
    "    usecols=['target', 'text'],\n",
    "    encoding='ISO-8859-1',\n",
    "    #nrows=100000,\n",
    ")\n",
    "data_work.rename(columns={'text':'text', 'target':'label'}, inplace=True)\n",
    "display(data_work.head(2), data_work.shape)\n",
    "\n",
    "# Select samples\n",
    "sample_size = 100000\n",
    "data_work = data_work.groupby('label', group_keys=False).apply(lambda x: x.sample(sample_size//2, random_state=random_seed))\n",
    "data_work.set_index('label', inplace=True, drop=True)\n",
    "display(data_work.head(2), data_work.shape)"
   ]
  },
  {
   "cell_type": "code",
   "execution_count": 13,
   "id": "23c5a5d9-6c87-4dd8-9065-495e094391bc",
   "metadata": {
    "execution": {
     "iopub.execute_input": "2022-08-13T12:47:05.232484Z",
     "iopub.status.busy": "2022-08-13T12:47:05.232203Z",
     "iopub.status.idle": "2022-08-13T12:47:05.273264Z",
     "shell.execute_reply": "2022-08-13T12:47:05.272448Z",
     "shell.execute_reply.started": "2022-08-13T12:47:05.232462Z"
    },
    "id": "23c5a5d9-6c87-4dd8-9065-495e094391bc",
    "tags": []
   },
   "outputs": [],
   "source": [
    "dataset = Dataset.from_pandas(data_work)"
   ]
  },
  {
   "cell_type": "code",
   "execution_count": 14,
   "id": "c90bf4db-b6ab-4dd7-92a7-a71d6d24c6f6",
   "metadata": {
    "colab": {
     "base_uri": "https://localhost:8080/"
    },
    "execution": {
     "iopub.execute_input": "2022-08-13T12:47:05.274491Z",
     "iopub.status.busy": "2022-08-13T12:47:05.274197Z",
     "iopub.status.idle": "2022-08-13T12:47:05.279171Z",
     "shell.execute_reply": "2022-08-13T12:47:05.278443Z",
     "shell.execute_reply.started": "2022-08-13T12:47:05.274468Z"
    },
    "id": "c90bf4db-b6ab-4dd7-92a7-a71d6d24c6f6",
    "outputId": "423e0381-0bcb-46b7-dabc-f039f495b307",
    "tags": []
   },
   "outputs": [
    {
     "data": {
      "text/plain": [
       "Dataset({\n",
       "    features: ['text', 'label'],\n",
       "    num_rows: 100000\n",
       "})"
      ]
     },
     "execution_count": 14,
     "metadata": {},
     "output_type": "execute_result"
    }
   ],
   "source": [
    "dataset"
   ]
  },
  {
   "cell_type": "markdown",
   "id": "4fd796e5-57ba-428c-9e6e-233d69d41291",
   "metadata": {
    "id": "f0781d8d-18b6-48d6-b8e1-78b477a6a950"
   },
   "source": [
    "### Divisons le jeu de données en `Train`, `Valid` et `Test` sets"
   ]
  },
  {
   "cell_type": "code",
   "execution_count": 15,
   "id": "37a06b98-badd-47da-8abb-cf01809227cb",
   "metadata": {
    "colab": {
     "base_uri": "https://localhost:8080/"
    },
    "execution": {
     "iopub.execute_input": "2022-08-13T12:47:05.280894Z",
     "iopub.status.busy": "2022-08-13T12:47:05.280603Z",
     "iopub.status.idle": "2022-08-13T12:47:05.304642Z",
     "shell.execute_reply": "2022-08-13T12:47:05.303909Z",
     "shell.execute_reply.started": "2022-08-13T12:47:05.280875Z"
    },
    "id": "37a06b98-badd-47da-8abb-cf01809227cb",
    "outputId": "c0d3452c-72ac-4bed-bc18-2ccba8c82ff7",
    "tags": []
   },
   "outputs": [
    {
     "name": "stdout",
     "output_type": "stream",
     "text": [
      "train_full: (90000, 2), test: (10000, 2)\n"
     ]
    }
   ],
   "source": [
    "dsplit = dataset.train_test_split(test_size=0.1, seed=random_seed)\n",
    "train_full_df = dsplit['train']\n",
    "test_df = dsplit['test']\n",
    "\n",
    "#dsplit = train_full_df.train_test_split(test_size=test_df.shape[0], seed=random_seed)\n",
    "#train_df = dsplit['train']\n",
    "#valid_df = dsplit['test']\n",
    "\n",
    "print(f\"train_full: {train_full_df.shape}, test: {test_df.shape}\")"
   ]
  },
  {
   "cell_type": "markdown",
   "id": "fe02358f-4686-461e-bba1-a0520962dd6c",
   "metadata": {
    "id": "fe02358f-4686-461e-bba1-a0520962dd6c"
   },
   "source": [
    "---\n",
    "---\n",
    "# 2 - AutoModel & AutoTokenizer <a class=\"anchor\" id=\"TRANS\"></a> [⇪](#menu)"
   ]
  },
  {
   "cell_type": "markdown",
   "id": "27e3eb7e-07c3-41b8-a5d0-de37abba8751",
   "metadata": {
    "tags": []
   },
   "source": [
    "---\n",
    "## 2.1 `distilbert-base-uncased-finetuned-sst-2-english` <a class=\"anchor\" id=\"TRANS_REF1\"></a> [⇪](#menu)"
   ]
  },
  {
   "cell_type": "code",
   "execution_count": 14,
   "id": "3f485fde-99b5-4060-a080-b690d4b65c61",
   "metadata": {
    "id": "3f485fde-99b5-4060-a080-b690d4b65c61"
   },
   "outputs": [],
   "source": [
    "hug_model_name = \"nlptown/bert-base-multilingual-uncased-sentiment\" # 5 labels\n",
    "hug_model_name = \"cardiffnlp/twitter-roberta-base-sentiment-latest\" # 3 labels mais fait pour\n",
    "hug_model_name = \"distilbert-base-uncased-finetuned-sst-2-english\" # 2 labels\n",
    "# finiteautomata/bertweet-base-sentiment-analysis ??\n",
    "# \"distilbert-base-uncased\" --> fine-tuning"
   ]
  },
  {
   "cell_type": "code",
   "execution_count": 15,
   "id": "a4a129da-bc64-4c88-b4c3-e1e99edd2ae9",
   "metadata": {
    "colab": {
     "base_uri": "https://localhost:8080/"
    },
    "id": "a4a129da-bc64-4c88-b4c3-e1e99edd2ae9",
    "outputId": "4ef33c3e-2bdb-4d7f-c7d7-d368cdb078a5"
   },
   "outputs": [
    {
     "name": "stderr",
     "output_type": "stream",
     "text": [
      "All model checkpoint layers were used when initializing TFDistilBertForSequenceClassification.\n",
      "\n",
      "All the layers of TFDistilBertForSequenceClassification were initialized from the model checkpoint at distilbert-base-uncased-finetuned-sst-2-english.\n",
      "If your task is similar to the task the model of the checkpoint was trained on, you can already use TFDistilBertForSequenceClassification for predictions without further training.\n"
     ]
    }
   ],
   "source": [
    "tf_model = TFAutoModelForSequenceClassification.from_pretrained(hug_model_name)\n",
    "tokenizer = AutoTokenizer.from_pretrained(hug_model_name)"
   ]
  },
  {
   "cell_type": "code",
   "execution_count": 16,
   "id": "i6JUcZ2Iqkzt",
   "metadata": {
    "id": "i6JUcZ2Iqkzt"
   },
   "outputs": [],
   "source": [
    "def preprocess_function(x):\n",
    "    return tokenizer(x['text'], truncation=True, padding=\"max_length\", max_length=65, return_tensors=\"tf\")\n",
    "\n",
    "def batch_inference(data, model, tokenizer_func, sample_size=None, step_size=1000, verbose=1):\n",
    "\n",
    "    out = {'logits':tf.zeros([0, data.shape[1]])}\n",
    "    # predictions_batches = []\n",
    "\n",
    "    max_index = data.shape[0] if sample_size is None else min(sample_size, data.shape[0])\n",
    "    print(\"max_index\", max_index)\n",
    "    for i in range(0, max_index, step_size):\n",
    "        max_step = min(max_index - i, step_size)\n",
    "\n",
    "        tokens = tokenizer_func(data[i:i+max_step])\n",
    "        preds = model(tokens)\n",
    "        # predictions_batches.append(preds['logits'])\n",
    "\n",
    "        out['logits'] = tf.concat(axis=0, values = [tf.cast(out['logits'], tf.float32), preds['logits']])\n",
    "        \n",
    "        if verbose:\n",
    "            print(i, i+max_step)\n",
    "\n",
    "    #out2 = tf.concat(predictions_batches, axis=1)\n",
    "    return out #{'logits':out2}"
   ]
  },
  {
   "cell_type": "markdown",
   "id": "16b0e538-3033-46bd-abbd-ca02f2114eda",
   "metadata": {},
   "source": [
    "#### Quelques tests simples"
   ]
  },
  {
   "cell_type": "code",
   "execution_count": 17,
   "id": "2f418d75-f8fe-441d-9bb2-708bb423b895",
   "metadata": {
    "id": "2f418d75-f8fe-441d-9bb2-708bb423b895"
   },
   "outputs": [],
   "source": [
    "test_txt = [\"I hate this stuff\", \"I really love it\"]\n",
    "test_tokens = tokenizer(test_txt, truncation=True, padding=\"max_length\", max_length=65, return_tensors=\"tf\")"
   ]
  },
  {
   "cell_type": "code",
   "execution_count": 18,
   "id": "504c0548-c255-449c-88b8-4c08623a06b4",
   "metadata": {
    "colab": {
     "base_uri": "https://localhost:8080/"
    },
    "id": "504c0548-c255-449c-88b8-4c08623a06b4",
    "outputId": "8222960c-1de9-4d9a-a7a1-27ae4160b60f"
   },
   "outputs": [
    {
     "data": {
      "text/plain": [
       "TFSequenceClassifierOutput([('logits',\n",
       "                             <tf.Tensor: shape=(2, 2), dtype=float32, numpy=\n",
       "                             array([[ 4.3156366, -3.500103 ],\n",
       "                                    [-4.3277135,  4.691517 ]], dtype=float32)>)])"
      ]
     },
     "execution_count": 18,
     "metadata": {},
     "output_type": "execute_result"
    }
   ],
   "source": [
    "tf_outputs = tf_model(test_tokens)\n",
    "tf_outputs"
   ]
  },
  {
   "cell_type": "code",
   "execution_count": 19,
   "id": "7798d167-3224-4446-b158-50d11079e587",
   "metadata": {
    "colab": {
     "base_uri": "https://localhost:8080/"
    },
    "id": "7798d167-3224-4446-b158-50d11079e587",
    "outputId": "81bc59f6-82a9-48e7-f284-9641f9a4c94c"
   },
   "outputs": [
    {
     "data": {
      "text/plain": [
       "<tf.Tensor: shape=(2, 2), dtype=float32, numpy=\n",
       "array([[9.9959689e-01, 4.0317379e-04],\n",
       "       [1.2104466e-04, 9.9987888e-01]], dtype=float32)>"
      ]
     },
     "execution_count": 19,
     "metadata": {},
     "output_type": "execute_result"
    }
   ],
   "source": [
    "tf_predictions = tf.nn.softmax(tf_outputs.logits, axis=-1)\n",
    "tf_predictions"
   ]
  },
  {
   "cell_type": "code",
   "execution_count": 20,
   "id": "cfac425f-a3c4-44d9-beb4-5a63402a1d95",
   "metadata": {
    "colab": {
     "base_uri": "https://localhost:8080/"
    },
    "id": "cfac425f-a3c4-44d9-beb4-5a63402a1d95",
    "outputId": "61b5495d-4453-4015-ed77-981746c2c3ac"
   },
   "outputs": [
    {
     "data": {
      "text/plain": [
       "[0.0004031738, 0.9998789]"
      ]
     },
     "execution_count": 20,
     "metadata": {},
     "output_type": "execute_result"
    }
   ],
   "source": [
    "y_preds_proba = tf_predictions.numpy()\n",
    "y_preds_proba = [x[1] for x in y_preds_proba]\n",
    "y_preds_proba"
   ]
  },
  {
   "cell_type": "markdown",
   "id": "5ea2937c-1393-4138-b550-2dc4269640c7",
   "metadata": {
    "id": "33faf204-03e0-48d8-99b9-9aee3bc00ba3"
   },
   "source": [
    "#### Définissons un logger DagsHub pour enregistrer notre essai"
   ]
  },
  {
   "cell_type": "code",
   "execution_count": 21,
   "id": "c6163c41-9e76-46a3-9531-b32535ab8718",
   "metadata": {},
   "outputs": [],
   "source": [
    "model_name = \"Transformers_REF1\"\n",
    "archi_desc = f\"Auto* RAW \\\"{hug_model_name}\\\"\"\n",
    "X_test_ready = test_df['text']\n",
    "y_test = test_df['label']"
   ]
  },
  {
   "cell_type": "code",
   "execution_count": 22,
   "id": "ffe9ab1a-193e-4b9d-b925-e9ce78de778d",
   "metadata": {
    "executionInfo": {
     "elapsed": 24,
     "status": "ok",
     "timestamp": 1659980380940,
     "user": {
      "displayName": "Valkea",
      "userId": "01476199649418572392"
     },
     "user_tz": -120
    },
    "id": "8f5c52a9-ab2a-4443-b5e6-ba2675ee413f"
   },
   "outputs": [],
   "source": [
    "dagslogger = DAGsHubLogger()"
   ]
  },
  {
   "cell_type": "code",
   "execution_count": 23,
   "id": "4955c085-70e1-40db-905a-cad0a3133606",
   "metadata": {
    "executionInfo": {
     "elapsed": 24,
     "status": "ok",
     "timestamp": 1659980380942,
     "user": {
      "displayName": "Valkea",
      "userId": "01476199649418572392"
     },
     "user_tz": -120
    },
    "id": "89096d1d-f1da-42a7-9b1f-6322f59228b6"
   },
   "outputs": [],
   "source": [
    "save_hyperparameters_to_dagshub(dagslogger, model_name, archi_desc, hug_model_name, None, dataset.shape[0])"
   ]
  },
  {
   "cell_type": "markdown",
   "id": "1551961d-80f4-48b9-be1e-78138df07b1d",
   "metadata": {
    "id": "f19558ac-e43c-406f-8703-2614fe1c2b60"
   },
   "source": [
    "### Inference"
   ]
  },
  {
   "cell_type": "raw",
   "id": "d295d7c2-36c9-4fe5-8ddc-f86d4b9cdc3a",
   "metadata": {
    "id": "e4e1c55d-502f-40fc-b8d0-2083180ea566"
   },
   "source": [
    "# OK\n",
    "test_tokens = tokenizer(test_txt, truncation=True, padding=\"max_length\", return_tensors=\"tf\")"
   ]
  },
  {
   "cell_type": "raw",
   "id": "f548c73f-2a2f-4c52-9b5f-b298090bba08",
   "metadata": {
    "colab": {
     "base_uri": "https://localhost:8080/"
    },
    "id": "b5f06d83-7d62-4522-b723-1c9f0c674d6b",
    "outputId": "637a8d6c-832c-4e2d-ec60-70551c4a5060"
   },
   "source": [
    "# OK\n",
    "test_txt = data_work.text[:100].to_list()\n",
    "test_tokens = tokenizer(test_txt, truncation=True, padding=\"max_length\", max_length=65, return_tensors=\"tf\")\n",
    "test_tokens[:1]"
   ]
  },
  {
   "cell_type": "markdown",
   "id": "e0a2b080-5173-4f67-be1f-537e16cf4c45",
   "metadata": {},
   "source": [
    "#### Utilisons une fonction pour faire des inférences en batch (sinon ça ne passe pas en mémoire)"
   ]
  },
  {
   "cell_type": "code",
   "execution_count": 24,
   "id": "xM1IUK7y4_QC",
   "metadata": {
    "colab": {
     "base_uri": "https://localhost:8080/"
    },
    "id": "xM1IUK7y4_QC",
    "outputId": "300c91f3-2e0a-41d8-af24-0b4daa0a20a1"
   },
   "outputs": [
    {
     "name": "stdout",
     "output_type": "stream",
     "text": [
      "max_index 20000\n",
      "0 1000\n",
      "1000 2000\n",
      "2000 3000\n",
      "3000 4000\n",
      "4000 5000\n",
      "5000 6000\n",
      "6000 7000\n",
      "7000 8000\n",
      "8000 9000\n",
      "9000 10000\n",
      "10000 11000\n",
      "11000 12000\n",
      "12000 13000\n",
      "13000 14000\n",
      "14000 15000\n",
      "15000 16000\n",
      "16000 17000\n",
      "17000 18000\n",
      "18000 19000\n",
      "19000 20000\n",
      "Inference time: 41.81s\n"
     ]
    }
   ],
   "source": [
    "t0 = time.perf_counter()\n",
    "tf_outputs = batch_inference(test_df, tf_model, preprocess_function, sample_size=20000, step_size=1000, verbose=1)\n",
    "#tf_outputs\n",
    "inf_time = time.perf_counter() - t0\n",
    "print(f\"Inference time: {inf_time:.2f}s\")"
   ]
  },
  {
   "cell_type": "markdown",
   "id": "ee269422-a9a0-4d6e-a8c9-9a84c303bf7a",
   "metadata": {},
   "source": [
    "#### Convertissons les scores en probabilité"
   ]
  },
  {
   "cell_type": "code",
   "execution_count": 25,
   "id": "4d1962b1-e0c4-40bf-978c-0d2a5cd50ffa",
   "metadata": {
    "colab": {
     "base_uri": "https://localhost:8080/"
    },
    "id": "4d1962b1-e0c4-40bf-978c-0d2a5cd50ffa",
    "outputId": "cf283c9d-2bab-46d4-8766-7689116b2965"
   },
   "outputs": [
    {
     "name": "stdout",
     "output_type": "stream",
     "text": [
      "[1.1235430e-03 2.8306460e-03 9.9813831e-01 ... 3.3877930e-04 2.2621293e-02\n",
      " 9.8465192e-01]\n",
      "20000\n"
     ]
    }
   ],
   "source": [
    "tf_predictions = tf.nn.softmax(tf_outputs['logits'], axis=-1)\n",
    "\n",
    "y_preds_proba = tf_predictions.numpy()\n",
    "y_preds_proba = np.array([x[1] for x in y_preds_proba])\n",
    "print(y_preds_proba)\n",
    "print(len(y_preds_proba))"
   ]
  },
  {
   "cell_type": "markdown",
   "id": "9fbb0655-c137-4d84-8c7c-9ed366fdb88f",
   "metadata": {},
   "source": [
    "#### Convertissons les probabilité en label (avec un threshold par défaut de 0.5)"
   ]
  },
  {
   "cell_type": "code",
   "execution_count": 26,
   "id": "cd06f1a4-fb4c-40de-8da3-620771ef5b62",
   "metadata": {
    "id": "cd06f1a4-fb4c-40de-8da3-620771ef5b62"
   },
   "outputs": [
    {
     "data": {
      "text/plain": [
       "array([0, 0, 1, ..., 0, 0, 1])"
      ]
     },
     "execution_count": 26,
     "metadata": {},
     "output_type": "execute_result"
    }
   ],
   "source": [
    "y_preds = (y_preds_proba >= 0.5).astype(\"int\")\n",
    "y_preds"
   ]
  },
  {
   "cell_type": "markdown",
   "id": "7aaf33cd-208e-4cdd-ad09-c013ba1862e8",
   "metadata": {
    "id": "f19558ac-e43c-406f-8703-2614fe1c2b60"
   },
   "source": [
    "### Evaluate"
   ]
  },
  {
   "cell_type": "code",
   "execution_count": 27,
   "id": "2e477e47-215a-4dde-96e1-f204bfd9219d",
   "metadata": {},
   "outputs": [
    {
     "name": "stdout",
     "output_type": "stream",
     "text": [
      "----------------------------------------------------------------------------------------------------\n",
      "          These information are based on the best estimator of the above cross-validation           \n",
      "----------------------------------------------------------------------------------------------------\n",
      "\n",
      "--- Transformers_REF1 ------------------------------------------------------------------------------\n",
      "\n",
      "             ROC_AUC : 0.7957\n",
      "                  F1 : 0.6864\n",
      "            ACCURACY : 0.7158\n",
      "           PRECISION : 0.7696\n",
      "              RECALL : 0.6194\n",
      "   AVERAGE_PRECISION : 0.7958\n",
      "\n",
      "       TRAINING-TIME : 0.0000\n",
      "      INFERENCE-TIME : 41.8079\n",
      "\n",
      "--- Classification Report -------------------------------------------------------------------------- \n",
      "\n",
      "                 precision    recall  f1-score   support\n",
      "\n",
      "Prediction = 0       0.68      0.81      0.74      9961\n",
      "Prediction = 1       0.77      0.62      0.69     10039\n",
      "\n",
      "      accuracy                           0.72     20000\n",
      "     macro avg       0.72      0.72      0.71     20000\n",
      "  weighted avg       0.72      0.72      0.71     20000\n",
      "\n",
      "--- Confusion Matrix ------------------------------------------------------------------------------- \n",
      "\n"
     ]
    },
    {
     "data": {
      "image/png": "[encoded data removed]",
      "text/plain": [
       "<Figure size 432x432 with 2 Axes>"
      ]
     },
     "metadata": {
      "needs_background": "light"
     },
     "output_type": "display_data"
    },
    {
     "name": "stdout",
     "output_type": "stream",
     "text": [
      "--- ROC AUC ---------------------------------------------------------------------------------------- \n",
      "\n"
     ]
    },
    {
     "data": {
      "image/png": "[encoded data removed]",
      "text/plain": [
       "<Figure size 360x360 with 1 Axes>"
      ]
     },
     "metadata": {
      "needs_background": "light"
     },
     "output_type": "display_data"
    },
    {
     "name": "stdout",
     "output_type": "stream",
     "text": [
      "--- PRECISION RECALL AUC --------------------------------------------------------------------------- \n",
      "\n"
     ]
    },
    {
     "data": {
      "image/png": "[encoded data removed]",
      "text/plain": [
       "<Figure size 360x360 with 1 Axes>"
      ]
     },
     "metadata": {
      "needs_background": "light"
     },
     "output_type": "display_data"
    }
   ],
   "source": [
    "scores = get_scores(\n",
    "    model_name,\n",
    "    y_ref=y_test,\n",
    "    y_pred=y_preds,\n",
    "    y_pred_proba=y_preds_proba,\n",
    "    threshold=0.5,\n",
    "    training_time=0,\n",
    "    inference_time=inf_time,\n",
    "    show_roccurves=True,\n",
    "    register=True,\n",
    ")"
   ]
  },
  {
   "cell_type": "markdown",
   "id": "8743749f-dea2-40f8-8ed1-18bd00b225eb",
   "metadata": {
    "id": "a7fef833-f925-4682-8c58-431ee2deb96e"
   },
   "source": [
    "#### Enregistrons les scores pour DagsHub"
   ]
  },
  {
   "cell_type": "code",
   "execution_count": 28,
   "id": "0d6e1761-d074-4c6b-9070-791739cd2473",
   "metadata": {
    "executionInfo": {
     "elapsed": 33,
     "status": "ok",
     "timestamp": 1659981026047,
     "user": {
      "displayName": "Valkea",
      "userId": "01476199649418572392"
     },
     "user_tz": -120
    },
    "id": "83cf1c0c-1e0b-4aaa-ad7c-3312d024858d"
   },
   "outputs": [],
   "source": [
    "save_metrics_to_dagshub(dagslogger, scores, 0.5, None)\n",
    "dagslogger.save() \n",
    "dagslogger.close()"
   ]
  },
  {
   "cell_type": "markdown",
   "id": "7de3b77f-3b0d-44b7-9730-1b1867e29def",
   "metadata": {
    "tags": []
   },
   "source": [
    "---\n",
    "## 2.2 `cardiffnlp/twitter-roberta-base-sentiment` <a class=\"anchor\" id=\"TRANS_REF2\"></a> [⇪](#menu)"
   ]
  },
  {
   "cell_type": "code",
   "execution_count": 46,
   "id": "06c39bdc-7bc3-443d-a863-4829c367113c",
   "metadata": {
    "execution": {
     "iopub.execute_input": "2022-08-13T15:14:22.730082Z",
     "iopub.status.busy": "2022-08-13T15:14:22.729698Z",
     "iopub.status.idle": "2022-08-13T15:14:22.733971Z",
     "shell.execute_reply": "2022-08-13T15:14:22.733110Z",
     "shell.execute_reply.started": "2022-08-13T15:14:22.730055Z"
    },
    "id": "3f485fde-99b5-4060-a080-b690d4b65c61",
    "tags": []
   },
   "outputs": [],
   "source": [
    "hug_model_name = \"cardiffnlp/twitter-roberta-base-sentiment\""
   ]
  },
  {
   "cell_type": "code",
   "execution_count": 30,
   "id": "944e686b-224f-4605-aa2f-40f0d83e260e",
   "metadata": {
    "colab": {
     "base_uri": "https://localhost:8080/"
    },
    "id": "a4a129da-bc64-4c88-b4c3-e1e99edd2ae9",
    "outputId": "4ef33c3e-2bdb-4d7f-c7d7-d368cdb078a5"
   },
   "outputs": [
    {
     "name": "stderr",
     "output_type": "stream",
     "text": [
      "All model checkpoint layers were used when initializing TFRobertaForSequenceClassification.\n",
      "\n",
      "All the layers of TFRobertaForSequenceClassification were initialized from the model checkpoint at cardiffnlp/twitter-roberta-base-sentiment.\n",
      "If your task is similar to the task the model of the checkpoint was trained on, you can already use TFRobertaForSequenceClassification for predictions without further training.\n"
     ]
    }
   ],
   "source": [
    "tf_model = TFAutoModelForSequenceClassification.from_pretrained(hug_model_name)\n",
    "tokenizer = AutoTokenizer.from_pretrained(hug_model_name)"
   ]
  },
  {
   "cell_type": "code",
   "execution_count": 31,
   "id": "c02f7b62-622b-46f9-b18c-e972ac6c635a",
   "metadata": {
    "id": "i6JUcZ2Iqkzt"
   },
   "outputs": [],
   "source": [
    "def preprocess_function(x):\n",
    "    return tokenizer(x['text'], truncation=True, padding=\"max_length\", max_length=65, return_tensors=\"tf\")\n",
    "\n",
    "def batch_inference(data, model, tokenizer_func, sample_size=None, step_size=1000, verbose=1):\n",
    "\n",
    "    out = {'logits':tf.zeros([0, 3])}\n",
    "    # predictions_batches = []\n",
    "\n",
    "    max_index = data.shape[0] if sample_size is None else min(sample_size, data.shape[0])\n",
    "    print(\"max_index\", max_index)\n",
    "    for i in range(0, max_index, step_size):\n",
    "        max_step = min(max_index - i, step_size)\n",
    "\n",
    "        tokens = tokenizer_func(data[i:i+max_step])\n",
    "        preds = model(tokens)\n",
    "        # predictions_batches.append(preds['logits'])\n",
    "\n",
    "        out['logits'] = tf.concat(axis=0, values = [tf.cast(out['logits'], tf.float32), preds['logits']])\n",
    "        \n",
    "        if verbose:\n",
    "            print(i, i+max_step)\n",
    "\n",
    "    #out2 = tf.concat(predictions_batches, axis=1)\n",
    "    return out #{'logits':out2}"
   ]
  },
  {
   "cell_type": "markdown",
   "id": "4b55f022-51e3-4306-b282-db0ccd9c4d00",
   "metadata": {},
   "source": [
    "#### Quelques tests simples"
   ]
  },
  {
   "cell_type": "code",
   "execution_count": 32,
   "id": "9f64bb4e-93b0-4e16-be45-c01c5a916e5c",
   "metadata": {
    "id": "2f418d75-f8fe-441d-9bb2-708bb423b895"
   },
   "outputs": [],
   "source": [
    "test_txt = [\"I hate this stuff\", \"I really love it\"]\n",
    "test_tokens = tokenizer(test_txt, truncation=True, padding=\"max_length\", max_length=65, return_tensors=\"tf\")"
   ]
  },
  {
   "cell_type": "code",
   "execution_count": 33,
   "id": "bb9953da-e166-44d9-a93d-92191e8043b2",
   "metadata": {
    "colab": {
     "base_uri": "https://localhost:8080/"
    },
    "id": "504c0548-c255-449c-88b8-4c08623a06b4",
    "outputId": "8222960c-1de9-4d9a-a7a1-27ae4160b60f"
   },
   "outputs": [
    {
     "data": {
      "text/plain": [
       "TFSequenceClassifierOutput([('logits',\n",
       "                             <tf.Tensor: shape=(2, 3), dtype=float32, numpy=\n",
       "                             array([[ 3.0689077 , -0.82197315, -2.2603767 ],\n",
       "                                    [-1.9671813 , -0.71173984,  3.6045513 ]], dtype=float32)>)])"
      ]
     },
     "execution_count": 33,
     "metadata": {},
     "output_type": "execute_result"
    }
   ],
   "source": [
    "tf_outputs = tf_model(test_tokens)\n",
    "tf_outputs"
   ]
  },
  {
   "cell_type": "code",
   "execution_count": 34,
   "id": "de2b9f30-27fd-4e08-bcc6-db306edb2f52",
   "metadata": {
    "colab": {
     "base_uri": "https://localhost:8080/"
    },
    "id": "7798d167-3224-4446-b158-50d11079e587",
    "outputId": "81bc59f6-82a9-48e7-f284-9641f9a4c94c"
   },
   "outputs": [
    {
     "data": {
      "text/plain": [
       "<tf.Tensor: shape=(2, 3), dtype=float32, numpy=\n",
       "array([[0.9753482 , 0.01992377, 0.00472804],\n",
       "       [0.00373974, 0.01312418, 0.9831361 ]], dtype=float32)>"
      ]
     },
     "execution_count": 34,
     "metadata": {},
     "output_type": "execute_result"
    }
   ],
   "source": [
    "tf_predictions = tf.nn.softmax(tf_outputs.logits, axis=-1)\n",
    "tf_predictions"
   ]
  },
  {
   "cell_type": "code",
   "execution_count": 35,
   "id": "b3c96b9d-2681-4ed4-9d7f-9c0a21eef652",
   "metadata": {
    "colab": {
     "base_uri": "https://localhost:8080/"
    },
    "id": "cfac425f-a3c4-44d9-beb4-5a63402a1d95",
    "outputId": "61b5495d-4453-4015-ed77-981746c2c3ac"
   },
   "outputs": [
    {
     "data": {
      "text/plain": [
       "[0.019923773, 0.013124178]"
      ]
     },
     "execution_count": 35,
     "metadata": {},
     "output_type": "execute_result"
    }
   ],
   "source": [
    "y_preds_proba = tf_predictions.numpy()\n",
    "y_preds_proba = [x[1] for x in y_preds_proba]\n",
    "y_preds_proba"
   ]
  },
  {
   "cell_type": "markdown",
   "id": "0e02b71a-f8cc-4731-85f8-b4960dc191d1",
   "metadata": {
    "id": "33faf204-03e0-48d8-99b9-9aee3bc00ba3"
   },
   "source": [
    "#### Définissons un logger DagsHub pour enregistrer notre essai"
   ]
  },
  {
   "cell_type": "code",
   "execution_count": 36,
   "id": "75893eb3-2d96-48e5-a4d7-69227591c8db",
   "metadata": {},
   "outputs": [],
   "source": [
    "model_name = \"Transformers_REF2\"\n",
    "archi_desc = f\"Auto* RAW \\\"{hug_model_name}\\\"\"\n",
    "X_test_ready = test_df['text']\n",
    "y_test = test_df['label']"
   ]
  },
  {
   "cell_type": "code",
   "execution_count": 37,
   "id": "ed98ca74-2b5f-4b70-9037-0ad83620f624",
   "metadata": {
    "executionInfo": {
     "elapsed": 24,
     "status": "ok",
     "timestamp": 1659980380940,
     "user": {
      "displayName": "Valkea",
      "userId": "01476199649418572392"
     },
     "user_tz": -120
    },
    "id": "8f5c52a9-ab2a-4443-b5e6-ba2675ee413f"
   },
   "outputs": [],
   "source": [
    "dagslogger = DAGsHubLogger()"
   ]
  },
  {
   "cell_type": "code",
   "execution_count": 38,
   "id": "47ca8ede-a6b9-414b-bce9-6062aa11cbbb",
   "metadata": {
    "executionInfo": {
     "elapsed": 24,
     "status": "ok",
     "timestamp": 1659980380942,
     "user": {
      "displayName": "Valkea",
      "userId": "01476199649418572392"
     },
     "user_tz": -120
    },
    "id": "89096d1d-f1da-42a7-9b1f-6322f59228b6"
   },
   "outputs": [],
   "source": [
    "save_hyperparameters_to_dagshub(dagslogger, model_name, archi_desc, hug_model_name, None, dataset.shape[0])"
   ]
  },
  {
   "cell_type": "markdown",
   "id": "9cb0582e-a36c-46cf-8281-4c729b3d32f3",
   "metadata": {
    "id": "f19558ac-e43c-406f-8703-2614fe1c2b60"
   },
   "source": [
    "### Inference"
   ]
  },
  {
   "cell_type": "code",
   "execution_count": 39,
   "id": "2bd87cb7-68fc-4580-8c43-1e9eaa2784d1",
   "metadata": {
    "colab": {
     "base_uri": "https://localhost:8080/"
    },
    "id": "xM1IUK7y4_QC",
    "outputId": "300c91f3-2e0a-41d8-af24-0b4daa0a20a1"
   },
   "outputs": [
    {
     "name": "stdout",
     "output_type": "stream",
     "text": [
      "max_index 20000\n",
      "0 1000\n",
      "1000 2000\n",
      "2000 3000\n",
      "3000 4000\n",
      "4000 5000\n",
      "5000 6000\n",
      "6000 7000\n",
      "7000 8000\n",
      "8000 9000\n",
      "9000 10000\n",
      "10000 11000\n",
      "11000 12000\n",
      "12000 13000\n",
      "13000 14000\n",
      "14000 15000\n",
      "15000 16000\n",
      "16000 17000\n",
      "17000 18000\n",
      "18000 19000\n",
      "19000 20000\n",
      "Inference time: 76.85s\n"
     ]
    }
   ],
   "source": [
    "t0 = time.perf_counter()\n",
    "tf_outputs = batch_inference(test_df, tf_model, preprocess_function, sample_size=20000, step_size=1000, verbose=1)\n",
    "#tf_outputs\n",
    "inf_time = time.perf_counter() - t0\n",
    "print(f\"Inference time: {inf_time:.2f}s\")"
   ]
  },
  {
   "cell_type": "markdown",
   "id": "dfd27f51-1d3a-4dd0-8663-fd091ff4c4f3",
   "metadata": {},
   "source": [
    "#### Convertissons les scores en probabilité"
   ]
  },
  {
   "cell_type": "code",
   "execution_count": 40,
   "id": "376af0c1-5ce4-47ff-a0e6-75eca20d1e20",
   "metadata": {},
   "outputs": [
    {
     "data": {
      "text/plain": [
       "<tf.Tensor: shape=(20000, 3), dtype=float32, numpy=\n",
       "array([[ 1.7810165 , -0.26327115, -1.5831052 ],\n",
       "       [ 1.2228088 ,  0.35947222, -1.620912  ],\n",
       "       [-2.3562136 , -0.7311932 ,  3.9054732 ],\n",
       "       ...,\n",
       "       [ 0.566668  ,  0.9709006 , -1.5116141 ],\n",
       "       [-2.7649198 ,  1.2649193 ,  1.3402464 ],\n",
       "       [ 0.16684118,  0.27269053, -0.2035625 ]], dtype=float32)>"
      ]
     },
     "execution_count": 40,
     "metadata": {},
     "output_type": "execute_result"
    }
   ],
   "source": [
    "tf_outputs['logits']"
   ]
  },
  {
   "cell_type": "code",
   "execution_count": 41,
   "id": "5d2aeda7-d073-4680-9209-a030b94ea092",
   "metadata": {
    "colab": {
     "base_uri": "https://localhost:8080/"
    },
    "id": "4d1962b1-e0c4-40bf-978c-0d2a5cd50ffa",
    "outputId": "cf283c9d-2bab-46d4-8766-7689116b2965"
   },
   "outputs": [
    {
     "name": "stdout",
     "output_type": "stream",
     "text": [
      "[0.02971689 0.03933122 0.988535   ... 0.04770524 0.51442254 0.24640559]\n",
      "20000\n"
     ]
    }
   ],
   "source": [
    "tf_predictions = tf.nn.softmax(tf_outputs['logits'], axis=-1)\n",
    "\n",
    "y_preds_proba = tf_predictions.numpy()\n",
    "y_preds_proba = np.array([x[2] for x in y_preds_proba])\n",
    "print(y_preds_proba)\n",
    "print(len(y_preds_proba))"
   ]
  },
  {
   "cell_type": "markdown",
   "id": "8b5d6302-8ec7-455a-ad92-c1001b50d077",
   "metadata": {},
   "source": [
    "#### Convertissons les probabilité en label (avec un threshold par défaut de 0.5)"
   ]
  },
  {
   "cell_type": "code",
   "execution_count": 42,
   "id": "b7f85b07-eea3-43fb-b0c0-b9e8c71cf79c",
   "metadata": {
    "id": "cd06f1a4-fb4c-40de-8da3-620771ef5b62"
   },
   "outputs": [
    {
     "data": {
      "text/plain": [
       "array([0, 0, 1, ..., 0, 1, 0])"
      ]
     },
     "execution_count": 42,
     "metadata": {},
     "output_type": "execute_result"
    }
   ],
   "source": [
    "y_preds = (y_preds_proba >= 0.5).astype(\"int\")\n",
    "y_preds"
   ]
  },
  {
   "cell_type": "markdown",
   "id": "29a88486-5898-4bfc-8863-ed5e1e364c85",
   "metadata": {
    "id": "f19558ac-e43c-406f-8703-2614fe1c2b60"
   },
   "source": [
    "### Evaluate"
   ]
  },
  {
   "cell_type": "code",
   "execution_count": 43,
   "id": "9434a64b-21ed-4ef5-8a7e-129a57e34ac0",
   "metadata": {},
   "outputs": [
    {
     "name": "stdout",
     "output_type": "stream",
     "text": [
      "----------------------------------------------------------------------------------------------------\n",
      "          These information are based on the best estimator of the above cross-validation           \n",
      "----------------------------------------------------------------------------------------------------\n",
      "\n",
      "--- Transformers_REF2 ------------------------------------------------------------------------------\n",
      "\n",
      "             ROC_AUC : 0.8270\n",
      "                  F1 : 0.6846\n",
      "            ACCURACY : 0.7236\n",
      "           PRECISION : 0.8013\n",
      "              RECALL : 0.5976\n",
      "   AVERAGE_PRECISION : 0.8203\n",
      "\n",
      "       TRAINING-TIME : 0.0000\n",
      "      INFERENCE-TIME : 76.8477\n",
      "\n",
      "--- Classification Report -------------------------------------------------------------------------- \n",
      "\n",
      "                 precision    recall  f1-score   support\n",
      "\n",
      "Prediction = 0       0.68      0.85      0.75      9961\n",
      "Prediction = 1       0.80      0.60      0.68     10039\n",
      "\n",
      "      accuracy                           0.72     20000\n",
      "     macro avg       0.74      0.72      0.72     20000\n",
      "  weighted avg       0.74      0.72      0.72     20000\n",
      "\n",
      "--- Confusion Matrix ------------------------------------------------------------------------------- \n",
      "\n"
     ]
    },
    {
     "data": {
      "image/png": "[encoded data removed]",
      "text/plain": [
       "<Figure size 432x432 with 2 Axes>"
      ]
     },
     "metadata": {
      "needs_background": "light"
     },
     "output_type": "display_data"
    },
    {
     "name": "stdout",
     "output_type": "stream",
     "text": [
      "--- ROC AUC ---------------------------------------------------------------------------------------- \n",
      "\n"
     ]
    },
    {
     "data": {
      "image/png": "[encoded data removed]",
      "text/plain": [
       "<Figure size 360x360 with 1 Axes>"
      ]
     },
     "metadata": {
      "needs_background": "light"
     },
     "output_type": "display_data"
    },
    {
     "name": "stdout",
     "output_type": "stream",
     "text": [
      "--- PRECISION RECALL AUC --------------------------------------------------------------------------- \n",
      "\n"
     ]
    },
    {
     "data": {
      "image/png": "[encoded data removed]",
      "text/plain": [
       "<Figure size 360x360 with 1 Axes>"
      ]
     },
     "metadata": {
      "needs_background": "light"
     },
     "output_type": "display_data"
    }
   ],
   "source": [
    "scores = get_scores(\n",
    "    model_name,\n",
    "    y_ref=y_test,\n",
    "    y_pred=y_preds,\n",
    "    y_pred_proba=y_preds_proba,\n",
    "    threshold=0.5,\n",
    "    training_time=0,\n",
    "    inference_time=inf_time,\n",
    "    show_roccurves=True,\n",
    "    register=True,\n",
    ")"
   ]
  },
  {
   "cell_type": "markdown",
   "id": "793c1152-0be9-4d4e-b58d-2a396a0ff49b",
   "metadata": {
    "id": "a7fef833-f925-4682-8c58-431ee2deb96e"
   },
   "source": [
    "#### Enregistrons les scores pour DagsHub"
   ]
  },
  {
   "cell_type": "code",
   "execution_count": 44,
   "id": "f5b7d5ad-9091-4c06-bf33-717d97453ca5",
   "metadata": {
    "executionInfo": {
     "elapsed": 33,
     "status": "ok",
     "timestamp": 1659981026047,
     "user": {
      "displayName": "Valkea",
      "userId": "01476199649418572392"
     },
     "user_tz": -120
    },
    "id": "83cf1c0c-1e0b-4aaa-ad7c-3312d024858d"
   },
   "outputs": [],
   "source": [
    "save_metrics_to_dagshub(dagslogger, scores, 0.5, None)\n",
    "dagslogger.save() \n",
    "dagslogger.close()"
   ]
  },
  {
   "cell_type": "markdown",
   "id": "7865e70d-ba6d-46a9-b342-86da23927b33",
   "metadata": {
    "id": "0ba72436-a169-479d-a0f9-c0a74648c815"
   },
   "source": [
    "### Compare"
   ]
  },
  {
   "cell_type": "code",
   "execution_count": 45,
   "id": "51ae44f5-9b34-4f65-a5d5-7c0e1f3cd58b",
   "metadata": {
    "colab": {
     "base_uri": "https://localhost:8080/",
     "height": 208
    },
    "executionInfo": {
     "elapsed": 30,
     "status": "ok",
     "timestamp": 1659981026051,
     "user": {
      "displayName": "Valkea",
      "userId": "01476199649418572392"
     },
     "user_tz": -120
    },
    "id": "b3f95b3c-a183-4cbc-a26a-3dfbd14c1f95",
    "outputId": "d8ddae3f-21a8-48a4-c84c-0b87e13cc280",
    "tags": []
   },
   "outputs": [
    {
     "data": {
      "text/html": [
       "\n",
       "  <div id=\"df-f942c333-a038-4209-9034-856c884760fd\">\n",
       "    <div class=\"colab-df-container\">\n",
       "      <div>\n",
       "<style scoped>\n",
       "    .dataframe tbody tr th:only-of-type {\n",
       "        vertical-align: middle;\n",
       "    }\n",
       "\n",
       "    .dataframe tbody tr th {\n",
       "        vertical-align: top;\n",
       "    }\n",
       "\n",
       "    .dataframe thead th {\n",
       "        text-align: right;\n",
       "    }\n",
       "</style>\n",
       "<table border=\"1\" class=\"dataframe\">\n",
       "  <thead>\n",
       "    <tr style=\"text-align: right;\">\n",
       "      <th></th>\n",
       "      <th>Method</th>\n",
       "      <th>threshold</th>\n",
       "      <th>params</th>\n",
       "      <th>ROC AUC</th>\n",
       "      <th>PR AUC</th>\n",
       "      <th>F1 score</th>\n",
       "      <th>Accuracy</th>\n",
       "      <th>Precision</th>\n",
       "      <th>Recall</th>\n",
       "      <th>TP</th>\n",
       "      <th>TN</th>\n",
       "      <th>FP</th>\n",
       "      <th>FN</th>\n",
       "      <th>Training time</th>\n",
       "      <th>Inference time</th>\n",
       "    </tr>\n",
       "  </thead>\n",
       "  <tbody>\n",
       "    <tr>\n",
       "      <th>0</th>\n",
       "      <td>Transformers_REF1</td>\n",
       "      <td>0.5</td>\n",
       "      <td>None</td>\n",
       "      <td>0.795734</td>\n",
       "      <td>0.795780</td>\n",
       "      <td>0.686351</td>\n",
       "      <td>0.71585</td>\n",
       "      <td>0.769554</td>\n",
       "      <td>0.619384</td>\n",
       "      <td>6218</td>\n",
       "      <td>8099</td>\n",
       "      <td>1862</td>\n",
       "      <td>3821</td>\n",
       "      <td>0</td>\n",
       "      <td>41.807902</td>\n",
       "    </tr>\n",
       "    <tr>\n",
       "      <th>1</th>\n",
       "      <td>Transformers_REF2</td>\n",
       "      <td>0.5</td>\n",
       "      <td>None</td>\n",
       "      <td>0.827015</td>\n",
       "      <td>0.820303</td>\n",
       "      <td>0.684583</td>\n",
       "      <td>0.72360</td>\n",
       "      <td>0.801256</td>\n",
       "      <td>0.597569</td>\n",
       "      <td>5999</td>\n",
       "      <td>8473</td>\n",
       "      <td>1488</td>\n",
       "      <td>4040</td>\n",
       "      <td>0</td>\n",
       "      <td>76.847669</td>\n",
       "    </tr>\n",
       "  </tbody>\n",
       "</table>\n",
       "</div>\n",
       "      <button class=\"colab-df-convert\" onclick=\"convertToInteractive('df-f942c333-a038-4209-9034-856c884760fd')\"\n",
       "              title=\"Convert this dataframe to an interactive table.\"\n",
       "              style=\"display:none;\">\n",
       "        \n",
       "  <svg xmlns=\"http://www.w3.org/2000/svg\" height=\"24px\"viewBox=\"0 0 24 24\"\n",
       "       width=\"24px\">\n",
       "    <path d=\"M0 0h24v24H0V0z\" fill=\"none\"/>\n",
       "    <path d=\"M18.56 5.44l.94 2.06.94-2.06 2.06-.94-2.06-.94-.94-2.06-.94 2.06-2.06.94zm-11 1L8.5 8.5l.94-2.06 2.06-.94-2.06-.94L8.5 2.5l-.94 2.06-2.06.94zm10 10l.94 2.06.94-2.06 2.06-.94-2.06-.94-.94-2.06-.94 2.06-2.06.94z\"/><path d=\"M17.41 7.96l-1.37-1.37c-.4-.4-.92-.59-1.43-.59-.52 0-1.04.2-1.43.59L10.3 9.45l-7.72 7.72c-.78.78-.78 2.05 0 2.83L4 21.41c.39.39.9.59 1.41.59.51 0 1.02-.2 1.41-.59l7.78-7.78 2.81-2.81c.8-.78.8-2.07 0-2.86zM5.41 20L4 18.59l7.72-7.72 1.47 1.35L5.41 20z\"/>\n",
       "  </svg>\n",
       "      </button>\n",
       "      \n",
       "  <style>\n",
       "    .colab-df-container {\n",
       "      display:flex;\n",
       "      flex-wrap:wrap;\n",
       "      gap: 12px;\n",
       "    }\n",
       "\n",
       "    .colab-df-convert {\n",
       "      background-color: #E8F0FE;\n",
       "      border: none;\n",
       "      border-radius: 50%;\n",
       "      cursor: pointer;\n",
       "      display: none;\n",
       "      fill: #1967D2;\n",
       "      height: 32px;\n",
       "      padding: 0 0 0 0;\n",
       "      width: 32px;\n",
       "    }\n",
       "\n",
       "    .colab-df-convert:hover {\n",
       "      background-color: #E2EBFA;\n",
       "      box-shadow: 0px 1px 2px rgba(60, 64, 67, 0.3), 0px 1px 3px 1px rgba(60, 64, 67, 0.15);\n",
       "      fill: #174EA6;\n",
       "    }\n",
       "\n",
       "    [theme=dark] .colab-df-convert {\n",
       "      background-color: #3B4455;\n",
       "      fill: #D2E3FC;\n",
       "    }\n",
       "\n",
       "    [theme=dark] .colab-df-convert:hover {\n",
       "      background-color: #434B5C;\n",
       "      box-shadow: 0px 1px 3px 1px rgba(0, 0, 0, 0.15);\n",
       "      filter: drop-shadow(0px 1px 2px rgba(0, 0, 0, 0.3));\n",
       "      fill: #FFFFFF;\n",
       "    }\n",
       "  </style>\n",
       "\n",
       "      <script>\n",
       "        const buttonEl =\n",
       "          document.querySelector('#df-f942c333-a038-4209-9034-856c884760fd button.colab-df-convert');\n",
       "        buttonEl.style.display =\n",
       "          google.colab.kernel.accessAllowed ? 'block' : 'none';\n",
       "\n",
       "        async function convertToInteractive(key) {\n",
       "          const element = document.querySelector('#df-f942c333-a038-4209-9034-856c884760fd');\n",
       "          const dataTable =\n",
       "            await google.colab.kernel.invokeFunction('convertToInteractive',\n",
       "                                                     [key], {});\n",
       "          if (!dataTable) return;\n",
       "\n",
       "          const docLinkHtml = 'Like what you see? Visit the ' +\n",
       "            '<a target=\"_blank\" href=https://colab.research.google.com/notebooks/data_table.ipynb>data table notebook</a>'\n",
       "            + ' to learn more about interactive tables.';\n",
       "          element.innerHTML = '';\n",
       "          dataTable['output_type'] = 'display_data';\n",
       "          await google.colab.output.renderOutput(dataTable, element);\n",
       "          const docLink = document.createElement('div');\n",
       "          docLink.innerHTML = docLinkHtml;\n",
       "          element.appendChild(docLink);\n",
       "        }\n",
       "      </script>\n",
       "    </div>\n",
       "  </div>\n",
       "  "
      ],
      "text/plain": [
       "              Method  threshold params   ROC AUC    PR AUC  F1 score  \\\n",
       "0  Transformers_REF1        0.5   None  0.795734  0.795780  0.686351   \n",
       "1  Transformers_REF2        0.5   None  0.827015  0.820303  0.684583   \n",
       "\n",
       "   Accuracy  Precision    Recall    TP    TN    FP    FN Training time  \\\n",
       "0   0.71585   0.769554  0.619384  6218  8099  1862  3821             0   \n",
       "1   0.72360   0.801256  0.597569  5999  8473  1488  4040             0   \n",
       "\n",
       "   Inference time  \n",
       "0       41.807902  \n",
       "1       76.847669  "
      ]
     },
     "execution_count": 45,
     "metadata": {},
     "output_type": "execute_result"
    }
   ],
   "source": [
    "from classification_utils import scores_df\n",
    "scores_df"
   ]
  },
  {
   "cell_type": "markdown",
   "id": "929566a1-4899-4e2f-8ae6-b6d3483b1680",
   "metadata": {
    "id": "fe02358f-4686-461e-bba1-a0520962dd6c"
   },
   "source": [
    "---\n",
    "---\n",
    "# 3 - AutoModel & AutoTokenizer avec Fine-tuning <a class=\"anchor\" id=\"TRANSFT\"></a> [⇪](#menu)"
   ]
  },
  {
   "cell_type": "markdown",
   "id": "0d47fa2a-f8d0-4430-8ba0-eef714ec6b4d",
   "metadata": {
    "tags": []
   },
   "source": [
    "---\n",
    "## 3.1 `roberta-base` avec F.T. <a class=\"anchor\" id=\"TRANS_FT1\"></a> [⇪](#menu)"
   ]
  },
  {
   "cell_type": "code",
   "execution_count": 16,
   "id": "6ab53b22-8e49-4140-8d94-54ea84e6b0bb",
   "metadata": {
    "execution": {
     "iopub.execute_input": "2022-08-13T12:47:12.466449Z",
     "iopub.status.busy": "2022-08-13T12:47:12.466060Z",
     "iopub.status.idle": "2022-08-13T12:47:12.470437Z",
     "shell.execute_reply": "2022-08-13T12:47:12.469358Z",
     "shell.execute_reply.started": "2022-08-13T12:47:12.466423Z"
    },
    "tags": []
   },
   "outputs": [],
   "source": [
    "#hug_model_name = \"distilbert-base-uncased-finetuned-sst-2-english\"\n",
    "hug_model_name = \"roberta-base\""
   ]
  },
  {
   "cell_type": "code",
   "execution_count": 17,
   "id": "ad7d374e-5a1b-4c56-86f5-f1ecfbeaf7ff",
   "metadata": {
    "execution": {
     "iopub.execute_input": "2022-08-13T12:47:13.242372Z",
     "iopub.status.busy": "2022-08-13T12:47:13.241977Z",
     "iopub.status.idle": "2022-08-13T12:47:13.478405Z",
     "shell.execute_reply": "2022-08-13T12:47:13.477533Z",
     "shell.execute_reply.started": "2022-08-13T12:47:13.242346Z"
    },
    "tags": []
   },
   "outputs": [],
   "source": [
    "model_name = \"Transformers_FT1\"\n",
    "archi_desc = f\"Auto* Fine-tuning \\\"{hug_model_name}\\\"\"\n",
    "X_test_ready = test_df['text']\n",
    "y_test = test_df['label']\n",
    "batch_size = 128\n",
    "epochs = 25\n",
    "learning_rate=1e-5"
   ]
  },
  {
   "cell_type": "markdown",
   "id": "967d1965-b3bd-43ae-a347-2a6eb6225330",
   "metadata": {},
   "source": [
    "### Tokenize"
   ]
  },
  {
   "cell_type": "code",
   "execution_count": 18,
   "id": "ea4fadf2-2fe2-4283-84b3-a3cf7243682d",
   "metadata": {
    "execution": {
     "iopub.execute_input": "2022-08-13T12:47:15.176134Z",
     "iopub.status.busy": "2022-08-13T12:47:15.175748Z",
     "iopub.status.idle": "2022-08-13T12:47:15.898694Z",
     "shell.execute_reply": "2022-08-13T12:47:15.898064Z",
     "shell.execute_reply.started": "2022-08-13T12:47:15.176108Z"
    },
    "tags": []
   },
   "outputs": [],
   "source": [
    "tokenizer = AutoTokenizer.from_pretrained(hug_model_name)"
   ]
  },
  {
   "cell_type": "code",
   "execution_count": 19,
   "id": "81ffd50d-94bf-4029-9807-64b58a73e95d",
   "metadata": {
    "execution": {
     "iopub.execute_input": "2022-08-13T12:47:16.880477Z",
     "iopub.status.busy": "2022-08-13T12:47:16.880058Z",
     "iopub.status.idle": "2022-08-13T12:47:23.394887Z",
     "shell.execute_reply": "2022-08-13T12:47:23.394054Z",
     "shell.execute_reply.started": "2022-08-13T12:47:16.880448Z"
    },
    "tags": []
   },
   "outputs": [
    {
     "data": {
      "application/vnd.jupyter.widget-view+json": {
       "model_id": "4787ed311923467caca5ce38d99fa5a6",
       "version_major": 2,
       "version_minor": 0
      },
      "text/plain": [
       "  0%|          | 0/90 [00:00<?, ?ba/s]"
      ]
     },
     "metadata": {},
     "output_type": "display_data"
    },
    {
     "data": {
      "application/vnd.jupyter.widget-view+json": {
       "model_id": "7c42d764c58142e986ae3c1dbd3fa8c1",
       "version_major": 2,
       "version_minor": 0
      },
      "text/plain": [
       "  0%|          | 0/10 [00:00<?, ?ba/s]"
      ]
     },
     "metadata": {},
     "output_type": "display_data"
    }
   ],
   "source": [
    "def tokenize_function(examples):\n",
    "    return tokenizer(examples[\"text\"], padding=\"max_length\", max_length=65, truncation=True)#, return_tensors=\"tf\")\n",
    "\n",
    "tokenized_datasets = dsplit.map(tokenize_function, batched=True, )"
   ]
  },
  {
   "cell_type": "code",
   "execution_count": 20,
   "id": "6daad10c-2681-4dea-910d-64582218bc74",
   "metadata": {
    "execution": {
     "iopub.execute_input": "2022-08-13T12:47:24.434544Z",
     "iopub.status.busy": "2022-08-13T12:47:24.434156Z",
     "iopub.status.idle": "2022-08-13T12:47:24.439182Z",
     "shell.execute_reply": "2022-08-13T12:47:24.438372Z",
     "shell.execute_reply.started": "2022-08-13T12:47:24.434517Z"
    },
    "tags": []
   },
   "outputs": [
    {
     "name": "stdout",
     "output_type": "stream",
     "text": [
      "train_ds: (90000, 4), test_ds:(10000, 4)\n"
     ]
    }
   ],
   "source": [
    "#sample_size = 20000\n",
    "#train_size = int(sample_size*0.9)\n",
    "#test_size = sample_size - train_size\n",
    "\n",
    "train_ds = tokenized_datasets['train']#.shuffle(seed=random_seed).select(range(train_size))\n",
    "test_ds = tokenized_datasets['test']#.shuffle(seed=random_seed).select(range(test_size))\n",
    "print(f\"train_ds: {train_ds.shape}, test_ds:{test_ds.shape}\")"
   ]
  },
  {
   "cell_type": "markdown",
   "id": "ef1bd894-5c1d-4c0c-b6aa-498bfcab724a",
   "metadata": {
    "id": "33faf204-03e0-48d8-99b9-9aee3bc00ba3"
   },
   "source": [
    "#### Définissons un logger DagsHub pour enregistrer notre essai"
   ]
  },
  {
   "cell_type": "code",
   "execution_count": 41,
   "id": "926a3f0d-7b0a-4721-ac91-fadf0440cae0",
   "metadata": {
    "execution": {
     "iopub.execute_input": "2022-08-13T14:55:20.035146Z",
     "iopub.status.busy": "2022-08-13T14:55:20.034747Z",
     "iopub.status.idle": "2022-08-13T14:55:20.039196Z",
     "shell.execute_reply": "2022-08-13T14:55:20.038508Z",
     "shell.execute_reply.started": "2022-08-13T14:55:20.035120Z"
    },
    "executionInfo": {
     "elapsed": 24,
     "status": "ok",
     "timestamp": 1659980380940,
     "user": {
      "displayName": "Valkea",
      "userId": "01476199649418572392"
     },
     "user_tz": -120
    },
    "id": "8f5c52a9-ab2a-4443-b5e6-ba2675ee413f",
    "tags": []
   },
   "outputs": [],
   "source": [
    "dagslogger = DAGsHubLogger()"
   ]
  },
  {
   "cell_type": "code",
   "execution_count": 42,
   "id": "c0b9cf67-7f6b-496e-9ee1-5c460d4d6d1d",
   "metadata": {
    "execution": {
     "iopub.execute_input": "2022-08-13T14:55:21.058936Z",
     "iopub.status.busy": "2022-08-13T14:55:21.058546Z",
     "iopub.status.idle": "2022-08-13T14:55:21.068838Z",
     "shell.execute_reply": "2022-08-13T14:55:21.068177Z",
     "shell.execute_reply.started": "2022-08-13T14:55:21.058910Z"
    },
    "executionInfo": {
     "elapsed": 24,
     "status": "ok",
     "timestamp": 1659980380942,
     "user": {
      "displayName": "Valkea",
      "userId": "01476199649418572392"
     },
     "user_tz": -120
    },
    "id": "89096d1d-f1da-42a7-9b1f-6322f59228b6",
    "tags": []
   },
   "outputs": [],
   "source": [
    "save_hyperparameters_to_dagshub(dagslogger, model_name, archi_desc, hug_model_name, batch_size, train_ds.shape[0]+test_ds.shape[0], epochs)"
   ]
  },
  {
   "cell_type": "code",
   "execution_count": 43,
   "id": "f8a0f581-5866-458d-83e4-8625e122bb3c",
   "metadata": {
    "execution": {
     "iopub.execute_input": "2022-08-13T14:55:21.571883Z",
     "iopub.status.busy": "2022-08-13T14:55:21.571497Z",
     "iopub.status.idle": "2022-08-13T14:55:21.577680Z",
     "shell.execute_reply": "2022-08-13T14:55:21.576705Z",
     "shell.execute_reply.started": "2022-08-13T14:55:21.571859Z"
    },
    "tags": []
   },
   "outputs": [],
   "source": [
    "dagslogger.log_hyperparams(learning_rate=learning_rate)"
   ]
  },
  {
   "cell_type": "markdown",
   "id": "a301e1f4-df74-4873-a462-c7aab03c9b31",
   "metadata": {},
   "source": [
    "### Prepare datasets"
   ]
  },
  {
   "cell_type": "code",
   "execution_count": 25,
   "id": "64a30cda-6c70-4d1b-b46c-47b26310b601",
   "metadata": {
    "execution": {
     "iopub.execute_input": "2022-08-13T12:47:31.804736Z",
     "iopub.status.busy": "2022-08-13T12:47:31.804332Z",
     "iopub.status.idle": "2022-08-13T12:47:31.863805Z",
     "shell.execute_reply": "2022-08-13T12:47:31.863162Z",
     "shell.execute_reply.started": "2022-08-13T12:47:31.804710Z"
    },
    "tags": []
   },
   "outputs": [],
   "source": [
    "from transformers import DefaultDataCollator\n",
    "data_collator = DefaultDataCollator(return_tensors=\"tf\")\n",
    "\n",
    "tf_train_dataset = train_ds.to_tf_dataset(\n",
    "    columns=[\"attention_mask\", \"input_ids\", \"token_type_ids\"],\n",
    "    #label_cols=[\"labels\"],\n",
    "    shuffle=True,\n",
    "    collate_fn=data_collator,\n",
    "    batch_size=batch_size,\n",
    ")\n",
    "\n",
    "tf_validation_dataset = test_ds.to_tf_dataset(\n",
    "    columns=[\"attention_mask\", \"input_ids\", \"token_type_ids\"],\n",
    "    #label_cols=[\"labels\"],\n",
    "    shuffle=False,\n",
    "    collate_fn=data_collator,\n",
    "    batch_size=batch_size,\n",
    ")"
   ]
  },
  {
   "cell_type": "markdown",
   "id": "bf079ab2-3bfb-4955-b4b1-e3e12286df36",
   "metadata": {},
   "source": [
    "### Prepare model"
   ]
  },
  {
   "cell_type": "code",
   "execution_count": 26,
   "id": "6f133daa-589e-405e-a83d-88275ee5b7de",
   "metadata": {
    "execution": {
     "iopub.execute_input": "2022-08-13T12:47:34.075261Z",
     "iopub.status.busy": "2022-08-13T12:47:34.074876Z",
     "iopub.status.idle": "2022-08-13T12:47:36.100481Z",
     "shell.execute_reply": "2022-08-13T12:47:36.099624Z",
     "shell.execute_reply.started": "2022-08-13T12:47:34.075234Z"
    },
    "tags": []
   },
   "outputs": [
    {
     "name": "stderr",
     "output_type": "stream",
     "text": [
      "All model checkpoint layers were used when initializing TFRobertaForSequenceClassification.\n",
      "\n",
      "Some layers of TFRobertaForSequenceClassification were not initialized from the model checkpoint at roberta-base and are newly initialized: ['classifier']\n",
      "You should probably TRAIN this model on a down-stream task to be able to use it for predictions and inference.\n"
     ]
    }
   ],
   "source": [
    "model = TFAutoModelForSequenceClassification.from_pretrained(hug_model_name, num_labels=1)"
   ]
  },
  {
   "cell_type": "code",
   "execution_count": 27,
   "id": "f67e109b-f457-4dcd-ba29-f5e808042f3d",
   "metadata": {
    "colab": {
     "base_uri": "https://localhost:8080/"
    },
    "execution": {
     "iopub.execute_input": "2022-08-13T12:47:36.102739Z",
     "iopub.status.busy": "2022-08-13T12:47:36.102116Z",
     "iopub.status.idle": "2022-08-13T12:47:36.122484Z",
     "shell.execute_reply": "2022-08-13T12:47:36.121842Z",
     "shell.execute_reply.started": "2022-08-13T12:47:36.102704Z"
    },
    "executionInfo": {
     "elapsed": 36,
     "status": "ok",
     "timestamp": 1659980380939,
     "user": {
      "displayName": "Valkea",
      "userId": "01476199649418572392"
     },
     "user_tz": -120
    },
    "id": "339eea31-e34c-4fa0-87d4-887ec521d007",
    "outputId": "4510fb0e-9576-489b-a9e0-a02731c9c08f",
    "tags": []
   },
   "outputs": [
    {
     "name": "stdout",
     "output_type": "stream",
     "text": [
      "Model: \"tf_roberta_for_sequence_classification\"\n",
      "_________________________________________________________________\n",
      " Layer (type)                Output Shape              Param #   \n",
      "=================================================================\n",
      " roberta (TFRobertaMainLayer  multiple                 124055040 \n",
      " )                                                               \n",
      "                                                                 \n",
      " classifier (TFRobertaClassi  multiple                 591361    \n",
      " ficationHead)                                                   \n",
      "                                                                 \n",
      "=================================================================\n",
      "Total params: 124,646,401\n",
      "Trainable params: 124,646,401\n",
      "Non-trainable params: 0\n",
      "_________________________________________________________________\n"
     ]
    }
   ],
   "source": [
    "model.summary()"
   ]
  },
  {
   "cell_type": "code",
   "execution_count": 28,
   "id": "442ce1ae-d0e7-4dbc-b7ce-df66bc1135d6",
   "metadata": {
    "colab": {
     "base_uri": "https://localhost:8080/"
    },
    "execution": {
     "iopub.execute_input": "2022-08-13T12:47:41.920968Z",
     "iopub.status.busy": "2022-08-13T12:47:41.920570Z",
     "iopub.status.idle": "2022-08-13T12:47:41.933552Z",
     "shell.execute_reply": "2022-08-13T12:47:41.932918Z",
     "shell.execute_reply.started": "2022-08-13T12:47:41.920942Z"
    },
    "executionInfo": {
     "elapsed": 36,
     "status": "ok",
     "timestamp": 1659980380939,
     "user": {
      "displayName": "Valkea",
      "userId": "01476199649418572392"
     },
     "user_tz": -120
    },
    "id": "339eea31-e34c-4fa0-87d4-887ec521d007",
    "outputId": "4510fb0e-9576-489b-a9e0-a02731c9c08f",
    "tags": []
   },
   "outputs": [],
   "source": [
    "model.compile(\n",
    "    optimizer=tf.keras.optimizers.Adam(learning_rate=learning_rate), # 2e-5 Value recommended by the Bert team\n",
    "    loss=\"binary_crossentropy\", #loss=tf.keras.losses.BinaryCrossentropy(), #from_logits=True),\n",
    "    metrics=['accuracy'],# metrics=tf.metrics.SparseCategoricalAccuracy(),\n",
    ")"
   ]
  },
  {
   "cell_type": "code",
   "execution_count": 29,
   "id": "bdf45494-35c5-4ea0-b64b-662007155e63",
   "metadata": {
    "execution": {
     "iopub.execute_input": "2022-08-13T12:47:46.245831Z",
     "iopub.status.busy": "2022-08-13T12:47:46.245449Z",
     "iopub.status.idle": "2022-08-13T14:50:28.827777Z",
     "shell.execute_reply": "2022-08-13T14:50:28.827054Z",
     "shell.execute_reply.started": "2022-08-13T12:47:46.245803Z"
    },
    "tags": []
   },
   "outputs": [
    {
     "name": "stdout",
     "output_type": "stream",
     "text": [
      "Epoch 1/25\n",
      "704/704 [==============================] - 1070s 1s/step - loss: 0.5164 - accuracy: 0.7744 - val_loss: 0.4349 - val_accuracy: 0.8411\n",
      "Epoch 2/25\n",
      "704/704 [==============================] - 1034s 1s/step - loss: 0.4530 - accuracy: 0.8192 - val_loss: 0.4138 - val_accuracy: 0.8618\n",
      "Epoch 3/25\n",
      "704/704 [==============================] - 1051s 1s/step - loss: 0.5379 - accuracy: 0.7477 - val_loss: 0.4166 - val_accuracy: 0.8633\n",
      "Epoch 4/25\n",
      "704/704 [==============================] - 1020s 1s/step - loss: 0.4464 - accuracy: 0.8281 - val_loss: 0.3803 - val_accuracy: 0.8640\n",
      "Epoch 5/25\n",
      "704/704 [==============================] - 1070s 2s/step - loss: 0.4987 - accuracy: 0.7840 - val_loss: 0.3882 - val_accuracy: 0.8448\n",
      "Epoch 6/25\n",
      "704/704 [==============================] - 1070s 2s/step - loss: 0.4257 - accuracy: 0.8330 - val_loss: 0.4279 - val_accuracy: 0.8654\n",
      "Epoch 7/25\n",
      "704/704 [==============================] - ETA: 0s - loss: 0.5027 - accuracy: 0.7793Restoring model weights from the end of the best epoch: 4.\n",
      "704/704 [==============================] - 1049s 1s/step - loss: 0.5027 - accuracy: 0.7793 - val_loss: 0.4153 - val_accuracy: 0.8449\n",
      "Epoch 7: early stopping\n"
     ]
    }
   ],
   "source": [
    "# Sur 90K/10K lr:1e-5\n",
    "t0 = time.perf_counter()\n",
    "history = model.fit(\n",
    "    tf_train_dataset, \n",
    "    validation_data=tf_validation_dataset, \n",
    "    epochs=epochs,\n",
    "    batch_size=batch_size, \n",
    "    callbacks=init_callbacks(f\"{model_name}\"),\n",
    "    verbose=1,\n",
    ")\n",
    "inf_time = time.perf_counter() - t0"
   ]
  },
  {
   "cell_type": "code",
   "execution_count": 30,
   "id": "5995ac99-d67e-4164-ace7-b1c01d590d1e",
   "metadata": {
    "execution": {
     "iopub.execute_input": "2022-08-13T14:50:28.829382Z",
     "iopub.status.busy": "2022-08-13T14:50:28.829084Z",
     "iopub.status.idle": "2022-08-13T14:50:31.990088Z",
     "shell.execute_reply": "2022-08-13T14:50:31.989423Z",
     "shell.execute_reply.started": "2022-08-13T14:50:28.829359Z"
    },
    "tags": []
   },
   "outputs": [],
   "source": [
    "filepath = pathlib.Path(\"models\", f\"{model_name}_weight\")\n",
    "model.save_weights(filepath)\n",
    "#filepath = pathlib.Path(\"models\", f\"{model_name}_model\")\n",
    "#model.save_pretrained(filepath)"
   ]
  },
  {
   "cell_type": "code",
   "execution_count": 31,
   "id": "6d5825e8-421e-4b65-8c2c-0b735f5618e7",
   "metadata": {
    "execution": {
     "iopub.execute_input": "2022-08-13T14:50:31.991504Z",
     "iopub.status.busy": "2022-08-13T14:50:31.991122Z",
     "iopub.status.idle": "2022-08-13T14:50:32.286070Z",
     "shell.execute_reply": "2022-08-13T14:50:32.285269Z",
     "shell.execute_reply.started": "2022-08-13T14:50:31.991472Z"
    },
    "tags": []
   },
   "outputs": [
    {
     "data": {
      "image/png": "[encoded data removed]",
      "text/plain": [
       "<Figure size 576x576 with 2 Axes>"
      ]
     },
     "metadata": {
      "needs_background": "light"
     },
     "output_type": "display_data"
    }
   ],
   "source": [
    "summarize_diagnostics(history)"
   ]
  },
  {
   "cell_type": "markdown",
   "id": "c8d994b9-9479-4da3-8e24-a96ce0428cd4",
   "metadata": {
    "id": "f19558ac-e43c-406f-8703-2614fe1c2b60"
   },
   "source": [
    "### Inference"
   ]
  },
  {
   "cell_type": "raw",
   "id": "86bbe5c1-6abf-41df-9c8a-9a8b493b4801",
   "metadata": {},
   "source": [
    "filepath = pathlib.Path(\"models\", f\"{model_name}_weight\")\n",
    "model.load_weights(filepath)"
   ]
  },
  {
   "cell_type": "code",
   "execution_count": 32,
   "id": "c295f08a-d48a-4241-b4cb-9a4e5db7cd44",
   "metadata": {
    "colab": {
     "base_uri": "https://localhost:8080/"
    },
    "execution": {
     "iopub.execute_input": "2022-08-13T14:50:32.288006Z",
     "iopub.status.busy": "2022-08-13T14:50:32.287696Z",
     "iopub.status.idle": "2022-08-13T14:51:13.074544Z",
     "shell.execute_reply": "2022-08-13T14:51:13.073844Z",
     "shell.execute_reply.started": "2022-08-13T14:50:32.287984Z"
    },
    "id": "xM1IUK7y4_QC",
    "outputId": "300c91f3-2e0a-41d8-af24-0b4daa0a20a1",
    "tags": []
   },
   "outputs": [
    {
     "name": "stdout",
     "output_type": "stream",
     "text": [
      "79/79 [==============================] - 41s 483ms/step\n",
      "Inference time: 40.78s\n"
     ]
    }
   ],
   "source": [
    "t0 = time.perf_counter()\n",
    "tf_outputs = model.predict(tf_validation_dataset)\n",
    "inf_time = time.perf_counter() - t0\n",
    "print(f\"Inference time: {inf_time:.2f}s\")"
   ]
  },
  {
   "cell_type": "markdown",
   "id": "41bd6bfc-0360-4c1e-b7ce-2971bd0bcc20",
   "metadata": {},
   "source": [
    "#### Convertissons les scores en probabilité"
   ]
  },
  {
   "cell_type": "code",
   "execution_count": 33,
   "id": "9c3a99b9-4a6c-4e38-b747-53b5fa5b9317",
   "metadata": {
    "execution": {
     "iopub.execute_input": "2022-08-13T14:51:13.076483Z",
     "iopub.status.busy": "2022-08-13T14:51:13.075660Z",
     "iopub.status.idle": "2022-08-13T14:51:13.080931Z",
     "shell.execute_reply": "2022-08-13T14:51:13.080293Z",
     "shell.execute_reply.started": "2022-08-13T14:51:13.076444Z"
    },
    "tags": []
   },
   "outputs": [
    {
     "name": "stdout",
     "output_type": "stream",
     "text": [
      "10000\n"
     ]
    }
   ],
   "source": [
    "tf_outputs['logits'][:5]\n",
    "print(len(tf_outputs['logits']))\n",
    "\n",
    "y_preds_proba = tf_outputs['logits']"
   ]
  },
  {
   "cell_type": "raw",
   "id": "d02bc818-0c3f-4950-a79c-5f90442d2e5d",
   "metadata": {
    "colab": {
     "base_uri": "https://localhost:8080/"
    },
    "id": "4d1962b1-e0c4-40bf-978c-0d2a5cd50ffa",
    "outputId": "cf283c9d-2bab-46d4-8766-7689116b2965"
   },
   "source": [
    "tf_predictions = tf.nn.softmax(tf_outputs['logits'], axis=-1)\n",
    "tf_predictions\n",
    "\n",
    "y_preds_proba = tf_predictions.numpy()\n",
    "y_preds_proba = np.array([x[1] for x in y_preds_proba])\n",
    "#print(y_preds_proba)\n",
    "print(len(y_preds_proba))"
   ]
  },
  {
   "cell_type": "markdown",
   "id": "2e9b0af6-54e4-48f3-84ad-76a323b04059",
   "metadata": {},
   "source": [
    "#### Convertissons les probabilité en label (avec un threshold par défaut de 0.5)"
   ]
  },
  {
   "cell_type": "code",
   "execution_count": 34,
   "id": "db6b2884-e655-4d28-ae9c-dd1bca47e3f7",
   "metadata": {
    "execution": {
     "iopub.execute_input": "2022-08-13T14:51:13.082012Z",
     "iopub.status.busy": "2022-08-13T14:51:13.081756Z",
     "iopub.status.idle": "2022-08-13T14:51:13.086711Z",
     "shell.execute_reply": "2022-08-13T14:51:13.085999Z",
     "shell.execute_reply.started": "2022-08-13T14:51:13.081991Z"
    },
    "id": "cd06f1a4-fb4c-40de-8da3-620771ef5b62",
    "tags": []
   },
   "outputs": [
    {
     "name": "stdout",
     "output_type": "stream",
     "text": [
      "10000\n"
     ]
    }
   ],
   "source": [
    "y_preds = (y_preds_proba >= 0.5).astype(\"int\")\n",
    "# y_preds\n",
    "print(len(y_preds))"
   ]
  },
  {
   "cell_type": "raw",
   "id": "cf51098d-31a8-4e4c-bbf8-65c1f27282ba",
   "metadata": {
    "id": "cd06f1a4-fb4c-40de-8da3-620771ef5b62"
   },
   "source": [
    "y_preds = (tf_outputs['logits'] >= 0.5).astype(\"int\")\n",
    "#y_preds\n",
    "print(len(y_preds))"
   ]
  },
  {
   "cell_type": "markdown",
   "id": "11492601-6c6d-490c-9bb3-d951d102f7ec",
   "metadata": {
    "id": "f19558ac-e43c-406f-8703-2614fe1c2b60"
   },
   "source": [
    "### Evaluate"
   ]
  },
  {
   "cell_type": "code",
   "execution_count": 38,
   "id": "92297b85-4a73-433c-980a-b88472024256",
   "metadata": {
    "execution": {
     "iopub.execute_input": "2022-08-13T14:54:53.111897Z",
     "iopub.status.busy": "2022-08-13T14:54:53.111494Z",
     "iopub.status.idle": "2022-08-13T14:54:53.115422Z",
     "shell.execute_reply": "2022-08-13T14:54:53.114716Z",
     "shell.execute_reply.started": "2022-08-13T14:54:53.111870Z"
    }
   },
   "outputs": [],
   "source": [
    "training_time = 7363"
   ]
  },
  {
   "cell_type": "code",
   "execution_count": 39,
   "id": "c21e90df-140e-4297-93d4-d5adaff48846",
   "metadata": {
    "execution": {
     "iopub.execute_input": "2022-08-13T14:54:56.018925Z",
     "iopub.status.busy": "2022-08-13T14:54:56.018503Z",
     "iopub.status.idle": "2022-08-13T14:54:56.501342Z",
     "shell.execute_reply": "2022-08-13T14:54:56.500511Z",
     "shell.execute_reply.started": "2022-08-13T14:54:56.018885Z"
    },
    "tags": []
   },
   "outputs": [
    {
     "name": "stdout",
     "output_type": "stream",
     "text": [
      "----------------------------------------------------------------------------------------------------\n",
      "          These information are based on the best estimator of the above cross-validation           \n",
      "----------------------------------------------------------------------------------------------------\n",
      "\n",
      "--- Transformers_FT1 -------------------------------------------------------------------------------\n",
      "\n",
      "             ROC_AUC : 0.9380\n",
      "                  F1 : 0.8616\n",
      "            ACCURACY : 0.8640\n",
      "           PRECISION : 0.8769\n",
      "              RECALL : 0.8468\n",
      "   AVERAGE_PRECISION : 0.9389\n",
      "\n",
      "       TRAINING-TIME : 7363.0000\n",
      "      INFERENCE-TIME : 40.7827\n",
      "\n",
      "--- Classification Report -------------------------------------------------------------------------- \n",
      "\n",
      "                 precision    recall  f1-score   support\n",
      "\n",
      "Prediction = 0       0.85      0.88      0.87      5001\n",
      "Prediction = 1       0.88      0.85      0.86      4999\n",
      "\n",
      "      accuracy                           0.86     10000\n",
      "     macro avg       0.86      0.86      0.86     10000\n",
      "  weighted avg       0.86      0.86      0.86     10000\n",
      "\n",
      "--- Confusion Matrix ------------------------------------------------------------------------------- \n",
      "\n"
     ]
    },
    {
     "data": {
      "image/png": "[encoded data removed]",
      "text/plain": [
       "<Figure size 432x432 with 2 Axes>"
      ]
     },
     "metadata": {
      "needs_background": "light"
     },
     "output_type": "display_data"
    },
    {
     "name": "stdout",
     "output_type": "stream",
     "text": [
      "--- ROC AUC ---------------------------------------------------------------------------------------- \n",
      "\n"
     ]
    },
    {
     "data": {
      "image/png": "[encoded data removed]",
      "text/plain": [
       "<Figure size 360x360 with 1 Axes>"
      ]
     },
     "metadata": {
      "needs_background": "light"
     },
     "output_type": "display_data"
    },
    {
     "name": "stdout",
     "output_type": "stream",
     "text": [
      "--- PRECISION RECALL AUC --------------------------------------------------------------------------- \n",
      "\n"
     ]
    },
    {
     "data": {
      "image/png": "[encoded data removed]",
      "text/plain": [
       "<Figure size 360x360 with 1 Axes>"
      ]
     },
     "metadata": {
      "needs_background": "light"
     },
     "output_type": "display_data"
    }
   ],
   "source": [
    "scores = get_scores(\n",
    "    model_name,\n",
    "    y_ref=test_ds['label'],\n",
    "    y_pred=y_preds,\n",
    "    y_pred_proba=y_preds_proba,\n",
    "    threshold=0.5,\n",
    "    training_time=training_time,\n",
    "    inference_time=inf_time,\n",
    "    show_roccurves=True,\n",
    "    register=True,\n",
    ")"
   ]
  },
  {
   "cell_type": "markdown",
   "id": "0c470ebc-5119-41cc-b9da-7d4e86f4e0b5",
   "metadata": {
    "id": "a7fef833-f925-4682-8c58-431ee2deb96e"
   },
   "source": [
    "#### Enregistrons les scores pour DagsHub"
   ]
  },
  {
   "cell_type": "code",
   "execution_count": 44,
   "id": "4323db3c-7066-454b-b44a-3efd90bb5962",
   "metadata": {
    "execution": {
     "iopub.execute_input": "2022-08-13T14:55:27.031938Z",
     "iopub.status.busy": "2022-08-13T14:55:27.031535Z",
     "iopub.status.idle": "2022-08-13T14:55:27.037042Z",
     "shell.execute_reply": "2022-08-13T14:55:27.036353Z",
     "shell.execute_reply.started": "2022-08-13T14:55:27.031912Z"
    },
    "executionInfo": {
     "elapsed": 33,
     "status": "ok",
     "timestamp": 1659981026047,
     "user": {
      "displayName": "Valkea",
      "userId": "01476199649418572392"
     },
     "user_tz": -120
    },
    "id": "83cf1c0c-1e0b-4aaa-ad7c-3312d024858d",
    "tags": []
   },
   "outputs": [],
   "source": [
    "save_metrics_to_dagshub(dagslogger, scores, 0.5, None)\n",
    "dagslogger.save() \n",
    "dagslogger.close()"
   ]
  },
  {
   "cell_type": "markdown",
   "id": "a00227b3-6d36-4e90-8999-ec4eab2a5322",
   "metadata": {
    "id": "0ba72436-a169-479d-a0f9-c0a74648c815"
   },
   "source": [
    "### Compare"
   ]
  },
  {
   "cell_type": "code",
   "execution_count": 45,
   "id": "edfc2da2-b9b3-4d37-8a10-54dd945824c0",
   "metadata": {
    "colab": {
     "base_uri": "https://localhost:8080/",
     "height": 208
    },
    "execution": {
     "iopub.execute_input": "2022-08-13T14:55:28.145741Z",
     "iopub.status.busy": "2022-08-13T14:55:28.145345Z",
     "iopub.status.idle": "2022-08-13T14:55:28.158577Z",
     "shell.execute_reply": "2022-08-13T14:55:28.157767Z",
     "shell.execute_reply.started": "2022-08-13T14:55:28.145716Z"
    },
    "executionInfo": {
     "elapsed": 30,
     "status": "ok",
     "timestamp": 1659981026051,
     "user": {
      "displayName": "Valkea",
      "userId": "01476199649418572392"
     },
     "user_tz": -120
    },
    "id": "b3f95b3c-a183-4cbc-a26a-3dfbd14c1f95",
    "outputId": "d8ddae3f-21a8-48a4-c84c-0b87e13cc280",
    "tags": []
   },
   "outputs": [
    {
     "data": {
      "text/html": [
       "<div>\n",
       "<style scoped>\n",
       "    .dataframe tbody tr th:only-of-type {\n",
       "        vertical-align: middle;\n",
       "    }\n",
       "\n",
       "    .dataframe tbody tr th {\n",
       "        vertical-align: top;\n",
       "    }\n",
       "\n",
       "    .dataframe thead th {\n",
       "        text-align: right;\n",
       "    }\n",
       "</style>\n",
       "<table border=\"1\" class=\"dataframe\">\n",
       "  <thead>\n",
       "    <tr style=\"text-align: right;\">\n",
       "      <th></th>\n",
       "      <th>Method</th>\n",
       "      <th>threshold</th>\n",
       "      <th>params</th>\n",
       "      <th>ROC AUC</th>\n",
       "      <th>PR AUC</th>\n",
       "      <th>F1 score</th>\n",
       "      <th>Accuracy</th>\n",
       "      <th>Precision</th>\n",
       "      <th>Recall</th>\n",
       "      <th>TP</th>\n",
       "      <th>TN</th>\n",
       "      <th>FP</th>\n",
       "      <th>FN</th>\n",
       "      <th>Training time</th>\n",
       "      <th>Inference time</th>\n",
       "    </tr>\n",
       "  </thead>\n",
       "  <tbody>\n",
       "    <tr>\n",
       "      <th>0</th>\n",
       "      <td>Transformers_FT1</td>\n",
       "      <td>0.5</td>\n",
       "      <td>None</td>\n",
       "      <td>0.937993</td>\n",
       "      <td>0.938931</td>\n",
       "      <td>0.861592</td>\n",
       "      <td>0.864</td>\n",
       "      <td>0.876942</td>\n",
       "      <td>0.846769</td>\n",
       "      <td>4233</td>\n",
       "      <td>4407</td>\n",
       "      <td>594</td>\n",
       "      <td>766</td>\n",
       "      <td>7363</td>\n",
       "      <td>40.7827</td>\n",
       "    </tr>\n",
       "  </tbody>\n",
       "</table>\n",
       "</div>"
      ],
      "text/plain": [
       "             Method  threshold params   ROC AUC    PR AUC  F1 score  Accuracy  \\\n",
       "0  Transformers_FT1        0.5   None  0.937993  0.938931  0.861592     0.864   \n",
       "\n",
       "   Precision    Recall    TP    TN   FP   FN  Training time  Inference time  \n",
       "0   0.876942  0.846769  4233  4407  594  766           7363         40.7827  "
      ]
     },
     "execution_count": 45,
     "metadata": {},
     "output_type": "execute_result"
    }
   ],
   "source": [
    "from classification_utils import scores_df\n",
    "scores_df"
   ]
  }
 ],
 "metadata": {
  "accelerator": "GPU",
  "colab": {
   "name": "07_Classification_Transformers.ipynb",
   "provenance": []
  },
  "gpuClass": "standard",
  "kernelspec": {
   "display_name": "Python 3",
   "language": "python",
   "name": "python3"
  },
  "language_info": {
   "codemirror_mode": {
    "name": "ipython",
    "version": 3
   },
   "file_extension": ".py",
   "mimetype": "text/x-python",
   "name": "python",
   "nbconvert_exporter": "python",
   "pygments_lexer": "ipython3",
   "version": "3.8.10"
  }
 },
 "nbformat": 4,
 "nbformat_minor": 5
}
