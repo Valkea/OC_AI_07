{
 "cells": [
  {
   "cell_type": "markdown",
   "id": "85f62893-0675-4590-a1d6-7e07e0e2c919",
   "metadata": {},
   "source": [
    "# Menu <a class=\"anchor\" id=\"menu\"></a>\n",
    "   \n",
    "* [1. Préparation du jeu de données](#init)\n",
    "    * [1.1 Séparation du jeu de données en `train`, `valid` et `test` sets](#NLP_split)\n",
    "    * [1.2 Création du Corpus Bag-Of-Words](#NLP_corpus_bow)\n",
    "    * [1.3 Création du Corpus TF-IDF](#NLP_corpus_tfidf)\n",
    "* [2. Recherche du `modèle` de classification le plus adapté](#CLF)\n",
    "    * [2.1 DummyClassifier](#CLF_dummy)\n",
    "    * [2.2 LogisticRegression](#CLF_logreg)\n",
    "* [3. Recherche du `pré-traitement` le plus adapté](#PREPROCESS)\n",
    "    * [3.1 Tokenisation](#PREPROCESS_tokenized)\n",
    "    * [3.2 Tokenisation + Filtrage](#PREPROCESS_filtered)\n",
    "    * [3.3 Tokenisation + Filtrage + Lemmatisation](#PREPROCESS_lemmatized)\n",
    "    * [3.4 Comparaison des scores](#PREPROCESS_scores)\n",
    "* [4. Recherche du `plongement` le plus adapté](#EMBEDDING)"
   ]
  },
  {
   "cell_type": "code",
   "execution_count": 1,
   "id": "3a1eb694-76ee-4986-a77e-5559cf2fc02f",
   "metadata": {
    "tags": []
   },
   "outputs": [
    {
     "name": "stderr",
     "output_type": "stream",
     "text": [
      "2022-07-29 01:40:58.323416: W tensorflow/stream_executor/platform/default/dso_loader.cc:64] Could not load dynamic library 'libcudart.so.11.0'; dlerror: libcudart.so.11.0: cannot open shared object file: No such file or directory\n",
      "2022-07-29 01:40:58.323442: I tensorflow/stream_executor/cuda/cudart_stub.cc:29] Ignore above cudart dlerror if you do not have a GPU set up on your machine.\n"
     ]
    }
   ],
   "source": [
    "import time\n",
    "import pathlib\n",
    "import pandas as pd\n",
    "import numpy as np\n",
    "\n",
    "import matplotlib.pyplot as plt\n",
    "\n",
    "from sklearn.model_selection import train_test_split\n",
    "\n",
    "from tensorflow import keras\n",
    "from keras.preprocessing.text import Tokenizer\n",
    "from keras.utils import pad_sequences\n",
    "\n",
    "import joblib\n",
    "\n",
    "random_seed = 0\n",
    "np.random.seed(random_seed)\n",
    "\n",
    "# set random seed for keras reproductibility\n",
    "keras.utils.set_random_seed(random_seed)"
   ]
  },
  {
   "cell_type": "code",
   "execution_count": 2,
   "id": "0c1bb795-0d1a-4e1d-b2d7-1dd68949631f",
   "metadata": {},
   "outputs": [],
   "source": [
    "def summarize_diagnostics(history):\n",
    "    \n",
    "    figure = plt.figure(figsize=(8,8))\n",
    "            \n",
    "    # plot loss\n",
    "    plt.subplot(211)\n",
    "    plt.title('Cross Entropy Loss')\n",
    "    plt.plot(history.history['loss'], color='blue', label='train')\n",
    "    plt.plot(history.history['val_loss'], color='orange', label='val')\n",
    "    plt.legend()\n",
    "    \n",
    "    # plot accuracy\n",
    "    plt.subplot(212)\n",
    "    plt.title('Classification Accuracy')\n",
    "    plt.plot(history.history['accuracy'], color='blue', label='train')\n",
    "    plt.plot(history.history['val_accuracy'], color='orange', label='val')\n",
    "    plt.legend()\n",
    "    \n",
    "    # save plot to file\n",
    "    #filename = sys.argv[0].split('/')[-1]\n",
    "    #plt.savefig(filename + '_plot.png')\n",
    "    #plt.close()\n",
    "    \n",
    "    plt.tight_layout(pad=1.0)"
   ]
  },
  {
   "cell_type": "markdown",
   "id": "a26b9684-567e-4a6c-a94c-bbe4ff1aa37f",
   "metadata": {},
   "source": [
    "#### Chargeons les fonctions de classification écrites sur les projets précédents"
   ]
  },
  {
   "cell_type": "code",
   "execution_count": 3,
   "id": "e83c4df3-3ab7-43c3-91e1-b12513e430ba",
   "metadata": {},
   "outputs": [],
   "source": [
    "from classification_utils import fit_model, get_scores, init_scores\n",
    "\n",
    "init_scores(\"data/scores_NN.csv\")"
   ]
  },
  {
   "cell_type": "markdown",
   "id": "3695e153-1554-4be7-a80d-de11358e8ae2",
   "metadata": {
    "id": "d5becdef-5d03-4ac6-ba08-94715061dc51"
   },
   "source": [
    "#### Définissons une méthode de `cross-validation`"
   ]
  },
  {
   "cell_type": "code",
   "execution_count": 4,
   "id": "bafe04e5-7202-43dc-981d-e6ea15c02e02",
   "metadata": {
    "id": "bd3e09fc-72fa-4be3-9b2f-a48051235a2f"
   },
   "outputs": [],
   "source": [
    "from sklearn.model_selection import StratifiedKFold\n",
    "\n",
    "skfold = StratifiedKFold(n_splits=5, shuffle=True, random_state=random_seed)"
   ]
  },
  {
   "cell_type": "markdown",
   "id": "e719f880-11c9-48ae-a953-9deab36ea2b2",
   "metadata": {},
   "source": [
    "#### Définissons les fonctions génériques de notre Spot Checking "
   ]
  },
  {
   "cell_type": "code",
   "execution_count": 5,
   "id": "741264c3-899e-4f0a-b250-62bd2dae6b40",
   "metadata": {},
   "outputs": [],
   "source": [
    "from keras import layers\n",
    "from keras.callbacks import EarlyStopping, ModelCheckpoint, Callback, ReduceLROnPlateau"
   ]
  },
  {
   "cell_type": "code",
   "execution_count": 6,
   "id": "e0379765-fc98-4535-a083-4b22258490ee",
   "metadata": {},
   "outputs": [],
   "source": [
    "def init_callbacks(model_name):\n",
    "\n",
    "    # Define savepoints\n",
    "    filepath = pathlib.Path(\"models\", f\"{model_name}.epoch{{epoch:02d}}-accuracy{{val_accuracy:.2f}}.hdf5\")\n",
    "\n",
    "    checkpoint = ModelCheckpoint(\n",
    "        monitor=\"val_accuracy\",\n",
    "        mode=\"max\",\n",
    "        filepath=filepath,\n",
    "        save_best_only=True,\n",
    "        save_weights_only=True,\n",
    "        verbose=1,\n",
    "    )\n",
    "\n",
    "    # Define EarlyStopping conditions\n",
    "    es = EarlyStopping(\n",
    "        monitor='val_loss', # 'binary_accuracy'\n",
    "        mode='min', # 'max'\n",
    "        patience=6,  # 6 because ReduceLROnPlateau is 5 \n",
    "        min_delta=0.01, \n",
    "        restore_best_weights=True, \n",
    "        verbose=1,\n",
    "    )\n",
    "\n",
    "    # Define Automatic LearningRate adjustments\n",
    "    lr_reducer = ReduceLROnPlateau(\n",
    "        monitor='val_loss',\n",
    "        mode='min',\n",
    "        factor=0.1,\n",
    "        cooldown=5,\n",
    "        patience=5,\n",
    "        min_lr= 0.1e-5,\n",
    "        verbose=1,\n",
    "    )\n",
    "    \n",
    "    return [checkpoint, es, lr_reducer]"
   ]
  },
  {
   "cell_type": "code",
   "execution_count": 7,
   "id": "2d6b771d-8ac9-4443-bb96-ede3e53fe805",
   "metadata": {},
   "outputs": [],
   "source": [
    "f_opti = keras.optimizers.Adam(learning_rate=0.0005)\n",
    "f_loss = keras.losses.BinaryCrossentropy(from_logits=False)\n",
    "f_metrics = ['accuracy'] # in this context 'accuracy' == keras.metrics.BinaryAccuracy()"
   ]
  },
  {
   "cell_type": "markdown",
   "id": "148de91c-3b1e-4acc-92a1-de29452a116f",
   "metadata": {},
   "source": [
    "---\n",
    "---\n",
    "# 3. Recherche du `pré-traitement` le plus adapté <a class=\"anchor\" id=\"PREPROCESS\"></a> [⇪](#menu)"
   ]
  },
  {
   "cell_type": "markdown",
   "id": "56a006d6-29bc-4bf5-9b75-a02ad6a4929a",
   "metadata": {},
   "source": [
    "Pour rechercher le pré-traitement le plus adapté, nous allons essayer différents jeux de données préparés lors de l'EDA.\n",
    "Mais pour éviter tout autre changement, nous allons dans un premier temps définir une architecture NN simple et un Embedding de base que nous allons utiliser pour comparer l'influence des différents pré-traitement."
   ]
  },
  {
   "cell_type": "code",
   "execution_count": 8,
   "id": "9eff1eb5-9698-41e3-9eb0-28479b34bb4e",
   "metadata": {},
   "outputs": [],
   "source": [
    "def architecture1(f_opti, f_loss, f_metrics, embedding):\n",
    "    \n",
    "    inputs = keras.Input(shape=(None,), dtype=\"int64\")\n",
    "    \n",
    "    x = embedding(inputs)\n",
    "    x = layers.Dropout(0.5)(x)\n",
    "    \n",
    "    x = layers.Conv1D(128, 7, padding=\"valid\", activation=\"relu\", strides=3)(x)\n",
    "    x = layers.Conv1D(128, 7, padding=\"valid\", activation=\"relu\", strides=3)(x)\n",
    "    x = layers.GlobalMaxPooling1D()(x)\n",
    "    \n",
    "    x = layers.Dense(128, activation='relu')(x)\n",
    "    x = layers.Dropout(0.5)(x)\n",
    "    \n",
    "    predictions = layers.Dense(1, activation='sigmoid', name='predictions')(x)\n",
    "    \n",
    "    model = keras.Model(inputs, predictions)\n",
    "    #model.compile(loss='binary_crossentropy', optimizer='adam', metrics=['accuracy'])\n",
    "    model.compile(loss=f_loss, optimizer=f_opti, metrics=f_metrics)\n",
    "    \n",
    "    return model"
   ]
  },
  {
   "cell_type": "markdown",
   "id": "cb08dbab-e64d-4d18-8c60-b3f3edbd5629",
   "metadata": {},
   "source": [
    "---\n",
    "## 3.1 Jeu de données BRUT (RAW) <a class=\"anchor\" id=\"PREPROCESS_tokenized\"></a> [⇪](#menu)"
   ]
  },
  {
   "cell_type": "markdown",
   "id": "4d10d7e5-77ed-44f8-81e5-980ab985bb61",
   "metadata": {},
   "source": [
    "### Chargeons le jeu de données brut (RAW) pour nos premiers essais"
   ]
  },
  {
   "cell_type": "code",
   "execution_count": 9,
   "id": "5f00f8f9-c76b-4b16-85df-6143668e9348",
   "metadata": {},
   "outputs": [],
   "source": [
    "data_nlp_path = pathlib.Path(pathlib.Path().absolute(), 'data', 'data_nlp_raw.bin')\n",
    "data_nlp = joblib.load(data_nlp_path)"
   ]
  },
  {
   "cell_type": "code",
   "execution_count": 10,
   "id": "e1bc1ddc-4fdf-4129-ace0-bba63f9873d8",
   "metadata": {},
   "outputs": [],
   "source": [
    "sample_size = 10000\n",
    "data_nlp = data_nlp.sample(sample_size, random_state=random_seed)"
   ]
  },
  {
   "cell_type": "code",
   "execution_count": 11,
   "id": "eb3cad57-8b71-4709-9b27-52cec40da79e",
   "metadata": {},
   "outputs": [
    {
     "data": {
      "text/html": [
       "<div>\n",
       "<style scoped>\n",
       "    .dataframe tbody tr th:only-of-type {\n",
       "        vertical-align: middle;\n",
       "    }\n",
       "\n",
       "    .dataframe tbody tr th {\n",
       "        vertical-align: top;\n",
       "    }\n",
       "\n",
       "    .dataframe thead th {\n",
       "        text-align: right;\n",
       "    }\n",
       "</style>\n",
       "<table border=\"1\" class=\"dataframe\">\n",
       "  <thead>\n",
       "    <tr style=\"text-align: right;\">\n",
       "      <th></th>\n",
       "      <th>tokens_raw</th>\n",
       "      <th>target</th>\n",
       "    </tr>\n",
       "  </thead>\n",
       "  <tbody>\n",
       "    <tr>\n",
       "      <th>1303215</th>\n",
       "      <td>[@RichGolisch, Thanks!]</td>\n",
       "      <td>1</td>\n",
       "    </tr>\n",
       "    <tr>\n",
       "      <th>1121114</th>\n",
       "      <td>[Trying, to, get, a, babysitter, and, be, 999,...</td>\n",
       "      <td>1</td>\n",
       "    </tr>\n",
       "  </tbody>\n",
       "</table>\n",
       "</div>"
      ],
      "text/plain": [
       "                                                tokens_raw target\n",
       "1303215                            [@RichGolisch, Thanks!]      1\n",
       "1121114  [Trying, to, get, a, babysitter, and, be, 999,...      1"
      ]
     },
     "metadata": {},
     "output_type": "display_data"
    },
    {
     "data": {
      "text/plain": [
       "(10000, 2)"
      ]
     },
     "metadata": {},
     "output_type": "display_data"
    }
   ],
   "source": [
    "display(data_nlp.head(2), data_nlp.shape)"
   ]
  },
  {
   "cell_type": "code",
   "execution_count": 12,
   "id": "88b26a45-0bb9-448e-89ef-b692c0825477",
   "metadata": {},
   "outputs": [],
   "source": [
    "# train_x, valid_x, train_y, valid_y, vectorizer = preprocess_data(data_nlp, 'tokens_raw', test_size=0.2)\n",
    "X_train, X_test, y_train, y_test = train_test_split(data_nlp['tokens_raw'], data_nlp.target, test_size=0.2, random_state=random_seed)"
   ]
  },
  {
   "cell_type": "markdown",
   "id": "7af44c0f-f738-4bbe-a911-4735978ee926",
   "metadata": {},
   "source": [
    "### Préparons le jeu de données avec un Tokenizer (Keras)"
   ]
  },
  {
   "cell_type": "code",
   "execution_count": 13,
   "id": "ea92933d-67fb-41cc-91bd-2ebb3a8cf292",
   "metadata": {},
   "outputs": [],
   "source": [
    "def preprocess_data_RAW(X_train, X_test, tokenizer_num_words=2000, padding_size=35, verbose=1):\n",
    "    tokenizer = Tokenizer(num_words=tokenizer_num_words)\n",
    "    tokenizer.fit_on_texts(X_train)\n",
    "\n",
    "    dictionary = tokenizer.word_index\n",
    "    vocab_size = len(dictionary)+1\n",
    "    \n",
    "    X_train_enc = tokenizer.texts_to_sequences(X_train)\n",
    "    X_test_enc = tokenizer.texts_to_sequences(X_test)\n",
    "    \n",
    "    X_train_ready = pad_sequences(X_train_enc, padding='post', maxlen=padding_size)\n",
    "    X_test_ready = pad_sequences(X_test_enc, padding='post', maxlen=padding_size)\n",
    "    \n",
    "    # y_train = np.asarray(y_train).astype('float32').reshape((-1,1))\n",
    "    # y_test = np.asarray(y_test).astype('float32').reshape((-1,1))\n",
    "    \n",
    "    if verbose > 0:\n",
    "        print(\"----- One sample outputs for demo -----\")\n",
    "        print(f\">> Sentence: {tokenizer.sequences_to_texts(X_train_ready[:1])}\")\n",
    "        print(f\">> X_train_enc: {X_train_enc[:1]}\")\n",
    "        print(f\">> X_train_ready: {X_train_ready[:1]}\")\n",
    "        \n",
    "        print(f\"\\nVocab size: {vocab_size}\")\n",
    "    \n",
    "    return X_train_ready, X_test_ready, tokenizer, vocab_size"
   ]
  },
  {
   "cell_type": "code",
   "execution_count": 14,
   "id": "f31b6672-9aff-4673-83ef-4437e7aa1629",
   "metadata": {},
   "outputs": [
    {
     "name": "stdout",
     "output_type": "stream",
     "text": [
      "----- One sample outputs for demo -----\n",
      ">> Sentence: [\"trying out a new restaurant tonight, spot i'm excited!\"]\n",
      ">> X_train_enc: [[203, 31, 4, 70, 1638, 803, 1639, 17, 1263]]\n",
      ">> X_train_ready: [[ 203   31    4   70 1638  803 1639   17 1263    0    0    0    0    0\n",
      "     0    0    0    0    0    0    0    0    0    0    0    0    0    0\n",
      "     0    0    0    0    0    0    0]]\n",
      "\n",
      "Vocab size: 22516\n"
     ]
    }
   ],
   "source": [
    "X_train_ready, X_test_ready, tokenizer, vocab_size = preprocess_data_RAW(X_train, X_test, 2000, 35)"
   ]
  },
  {
   "cell_type": "markdown",
   "id": "3e34e803-23e7-4fba-b010-2c4c297988a6",
   "metadata": {},
   "source": [
    "### Entrainons notre Neural Network "
   ]
  },
  {
   "cell_type": "code",
   "execution_count": 15,
   "id": "3159ca7e-f52b-445f-be2f-5119eb0b53cd",
   "metadata": {},
   "outputs": [],
   "source": [
    "# w2v_embedding = gensim_to_keras_embedding(w2v_model, train_embeddings=False)\n",
    "embedding = layers.Embedding(vocab_size, 256)"
   ]
  },
  {
   "cell_type": "code",
   "execution_count": 16,
   "id": "c6bdafa5-6744-4da3-827b-bc3fc6dad42b",
   "metadata": {},
   "outputs": [
    {
     "name": "stderr",
     "output_type": "stream",
     "text": [
      "2022-07-29 01:41:02.525778: W tensorflow/stream_executor/platform/default/dso_loader.cc:64] Could not load dynamic library 'libcuda.so.1'; dlerror: libcuda.so.1: cannot open shared object file: No such file or directory\n",
      "2022-07-29 01:41:02.525806: W tensorflow/stream_executor/cuda/cuda_driver.cc:269] failed call to cuInit: UNKNOWN ERROR (303)\n",
      "2022-07-29 01:41:02.525827: I tensorflow/stream_executor/cuda/cuda_diagnostics.cc:156] kernel driver does not appear to be running on this host (valkea-XPS): /proc/driver/nvidia/version does not exist\n",
      "2022-07-29 01:41:02.526055: I tensorflow/core/platform/cpu_feature_guard.cc:193] This TensorFlow binary is optimized with oneAPI Deep Neural Network Library (oneDNN) to use the following CPU instructions in performance-critical operations:  AVX2 FMA\n",
      "To enable them in other operations, rebuild TensorFlow with the appropriate compiler flags.\n"
     ]
    }
   ],
   "source": [
    "archi01_model_RAW = architecture1(f_opti, f_loss, f_metrics, embedding)"
   ]
  },
  {
   "cell_type": "code",
   "execution_count": 17,
   "id": "9339fb32-9ab7-4afb-b07b-c77d7a7a07f3",
   "metadata": {},
   "outputs": [
    {
     "name": "stdout",
     "output_type": "stream",
     "text": [
      "Model: \"model\"\n",
      "_________________________________________________________________\n",
      " Layer (type)                Output Shape              Param #   \n",
      "=================================================================\n",
      " input_1 (InputLayer)        [(None, None)]            0         \n",
      "                                                                 \n",
      " embedding (Embedding)       (None, None, 256)         5764096   \n",
      "                                                                 \n",
      " dropout (Dropout)           (None, None, 256)         0         \n",
      "                                                                 \n",
      " conv1d (Conv1D)             (None, None, 128)         229504    \n",
      "                                                                 \n",
      " conv1d_1 (Conv1D)           (None, None, 128)         114816    \n",
      "                                                                 \n",
      " global_max_pooling1d (Globa  (None, 128)              0         \n",
      " lMaxPooling1D)                                                  \n",
      "                                                                 \n",
      " dense (Dense)               (None, 128)               16512     \n",
      "                                                                 \n",
      " dropout_1 (Dropout)         (None, 128)               0         \n",
      "                                                                 \n",
      " predictions (Dense)         (None, 1)                 129       \n",
      "                                                                 \n",
      "=================================================================\n",
      "Total params: 6,125,057\n",
      "Trainable params: 6,125,057\n",
      "Non-trainable params: 0\n",
      "_________________________________________________________________\n"
     ]
    }
   ],
   "source": [
    "archi01_model_RAW.summary()"
   ]
  },
  {
   "cell_type": "code",
   "execution_count": 18,
   "id": "614ae9ea-b611-46e1-b547-3ceace2f4957",
   "metadata": {},
   "outputs": [
    {
     "name": "stdout",
     "output_type": "stream",
     "text": [
      "Epoch 1/50\n",
      "250/250 [==============================] - ETA: 0s - loss: 0.6768 - accuracy: 0.5644\n",
      "Epoch 1: val_accuracy improved from -inf to 0.67850, saving model to models/archi01_RAW.epoch01-accuracy0.68.hdf5\n",
      "250/250 [==============================] - 15s 57ms/step - loss: 0.6768 - accuracy: 0.5644 - val_loss: 0.6113 - val_accuracy: 0.6785 - lr: 5.0000e-04\n",
      "Epoch 2/50\n",
      "249/250 [============================>.] - ETA: 0s - loss: 0.5542 - accuracy: 0.7203\n",
      "Epoch 2: val_accuracy improved from 0.67850 to 0.71500, saving model to models/archi01_RAW.epoch02-accuracy0.71.hdf5\n",
      "250/250 [==============================] - 14s 56ms/step - loss: 0.5543 - accuracy: 0.7204 - val_loss: 0.5615 - val_accuracy: 0.7150 - lr: 5.0000e-04\n",
      "Epoch 3/50\n",
      "250/250 [==============================] - ETA: 0s - loss: 0.4211 - accuracy: 0.8110\n",
      "Epoch 3: val_accuracy did not improve from 0.71500\n",
      "250/250 [==============================] - 14s 55ms/step - loss: 0.4211 - accuracy: 0.8110 - val_loss: 0.5999 - val_accuracy: 0.7080 - lr: 5.0000e-04\n",
      "Epoch 4/50\n",
      "250/250 [==============================] - ETA: 0s - loss: 0.3056 - accuracy: 0.8730\n",
      "Epoch 4: val_accuracy did not improve from 0.71500\n",
      "250/250 [==============================] - 14s 55ms/step - loss: 0.3056 - accuracy: 0.8730 - val_loss: 0.6837 - val_accuracy: 0.7060 - lr: 5.0000e-04\n",
      "Epoch 5/50\n",
      "250/250 [==============================] - ETA: 0s - loss: 0.2163 - accuracy: 0.9137\n",
      "Epoch 5: val_accuracy did not improve from 0.71500\n",
      "250/250 [==============================] - 14s 55ms/step - loss: 0.2163 - accuracy: 0.9137 - val_loss: 0.8155 - val_accuracy: 0.6925 - lr: 5.0000e-04\n",
      "Epoch 6/50\n",
      "250/250 [==============================] - ETA: 0s - loss: 0.1647 - accuracy: 0.9342\n",
      "Epoch 6: val_accuracy did not improve from 0.71500\n",
      "250/250 [==============================] - 14s 56ms/step - loss: 0.1647 - accuracy: 0.9342 - val_loss: 0.9754 - val_accuracy: 0.6840 - lr: 5.0000e-04\n",
      "Epoch 7/50\n",
      "249/250 [============================>.] - ETA: 0s - loss: 0.1291 - accuracy: 0.9482\n",
      "Epoch 7: val_accuracy did not improve from 0.71500\n",
      "\n",
      "Epoch 7: ReduceLROnPlateau reducing learning rate to 5.0000002374872565e-05.\n",
      "250/250 [==============================] - 14s 55ms/step - loss: 0.1286 - accuracy: 0.9484 - val_loss: 1.1648 - val_accuracy: 0.6840 - lr: 5.0000e-04\n",
      "Epoch 8/50\n",
      "250/250 [==============================] - ETA: 0s - loss: 0.0953 - accuracy: 0.9617\n",
      "Epoch 8: val_accuracy did not improve from 0.71500\n",
      "Restoring model weights from the end of the best epoch: 2.\n",
      "250/250 [==============================] - 14s 55ms/step - loss: 0.0953 - accuracy: 0.9617 - val_loss: 1.2290 - val_accuracy: 0.6860 - lr: 5.0000e-05\n",
      "Epoch 8: early stopping\n"
     ]
    }
   ],
   "source": [
    "t0 = time.perf_counter()\n",
    "history_clf_archi01_RAW = archi01_model_RAW.fit(x=X_train_ready, y=y_train, validation_data=(X_test_ready, y_test), epochs=50, batch_size=32, callbacks=init_callbacks(\"archi01_RAW\")) # , validation_split=0.2 , train_labels\n",
    "train_time = time.perf_counter() - t0"
   ]
  },
  {
   "cell_type": "code",
   "execution_count": 19,
   "id": "34f7db0f-3026-4f83-90aa-d4c2e1127dfb",
   "metadata": {},
   "outputs": [
    {
     "data": {
      "image/png": "[encoded data removed]",
      "text/plain": [
       "<Figure size 576x576 with 2 Axes>"
      ]
     },
     "metadata": {
      "needs_background": "light"
     },
     "output_type": "display_data"
    }
   ],
   "source": [
    "summarize_diagnostics(history_clf_archi01_RAW)"
   ]
  },
  {
   "cell_type": "markdown",
   "id": "671ab5b9-ecf5-4ff3-9108-e15b36f114ac",
   "metadata": {},
   "source": [
    "### Affichons les scores du modèle"
   ]
  },
  {
   "cell_type": "code",
   "execution_count": 20,
   "id": "f5f24a6e-0f43-43ff-8b69-c8e19657f551",
   "metadata": {},
   "outputs": [
    {
     "name": "stdout",
     "output_type": "stream",
     "text": [
      "63/63 [==============================] - 0s 3ms/step\n"
     ]
    },
    {
     "data": {
      "text/plain": [
       "(2000, 1)"
      ]
     },
     "execution_count": 20,
     "metadata": {},
     "output_type": "execute_result"
    }
   ],
   "source": [
    "t0 = time.perf_counter()\n",
    "y_preds_proba = archi01_model_RAW.predict(X_test_ready)\n",
    "# y_preds_proba = pd.Series([x[0] for x in y_preds_proba])\n",
    "\n",
    "y_preds = np.where(y_preds_proba > 0.5, 1,0)\n",
    "# y_preds = pd.Series([1 if x > 0.5 else 0 for x in y_preds_proba])\n",
    "inf_time = time.perf_counter() - t0\n",
    "\n",
    "\n",
    "y_preds_proba.shape\n",
    "y_preds.shape"
   ]
  },
  {
   "cell_type": "code",
   "execution_count": 21,
   "id": "1dff91b8-8cae-4085-90e6-21e0d4a868cb",
   "metadata": {
    "colab": {
     "base_uri": "https://localhost:8080/",
     "height": 1000
    },
    "executionInfo": {
     "elapsed": 746,
     "status": "ok",
     "timestamp": 1653231856185,
     "user": {
      "displayName": "Valkea",
      "userId": "01476199649418572392"
     },
     "user_tz": -120
    },
    "id": "81aba764-7f22-4ad1-b0ed-bc5b13f0b75e",
    "outputId": "e3c4ed78-a90b-46e0-baa0-c28f701f4414"
   },
   "outputs": [
    {
     "name": "stdout",
     "output_type": "stream",
     "text": [
      "----------------------------------------------------------------------------------------------------\n",
      "          These information are based on the best estimator of the above cross-validation           \n",
      "----------------------------------------------------------------------------------------------------\n",
      "\n",
      "--- NN Archi01 (RAW + TF-IDF) ----------------------------------------------------------------------\n",
      "\n",
      "             ROC_AUC : 0.7901\n",
      "                  F1 : 0.7273\n",
      "            ACCURACY : 0.7150\n",
      "           PRECISION : 0.6828\n",
      "              RECALL : 0.7779\n",
      "   AVERAGE_PRECISION : 0.7772\n",
      "\n",
      "       TRAINING-TIME : 112.1012\n",
      "      INFERENCE-TIME : 0.3388\n",
      "\n",
      "--- Classification Report -------------------------------------------------------------------------- \n",
      "\n",
      "                 precision    recall  f1-score   support\n",
      "\n",
      "Prediction = 0       0.76      0.65      0.70      1023\n",
      "Prediction = 1       0.68      0.78      0.73       977\n",
      "\n",
      "      accuracy                           0.71      2000\n",
      "     macro avg       0.72      0.72      0.71      2000\n",
      "  weighted avg       0.72      0.71      0.71      2000\n",
      "\n",
      "--- Confusion Matrix ------------------------------------------------------------------------------- \n",
      "\n"
     ]
    },
    {
     "data": {
      "image/png": "[encoded data removed]",
      "text/plain": [
       "<Figure size 432x432 with 2 Axes>"
      ]
     },
     "metadata": {
      "needs_background": "light"
     },
     "output_type": "display_data"
    },
    {
     "name": "stdout",
     "output_type": "stream",
     "text": [
      "--- ROC AUC ---------------------------------------------------------------------------------------- \n",
      "\n"
     ]
    },
    {
     "data": {
      "image/png": "[encoded data removed]",
      "text/plain": [
       "<Figure size 360x360 with 1 Axes>"
      ]
     },
     "metadata": {
      "needs_background": "light"
     },
     "output_type": "display_data"
    },
    {
     "name": "stdout",
     "output_type": "stream",
     "text": [
      "--- PRECISION RECALL AUC --------------------------------------------------------------------------- \n",
      "\n"
     ]
    },
    {
     "data": {
      "image/png": "[encoded data removed]",
      "text/plain": [
       "<Figure size 360x360 with 1 Axes>"
      ]
     },
     "metadata": {
      "needs_background": "light"
     },
     "output_type": "display_data"
    }
   ],
   "source": [
    "model_name = \"NN Archi01 (RAW + TF-IDF)\"\n",
    "get_scores(model_name, y_pred=y_preds, y_pred_proba=y_preds_proba, register=True, X_ref=X_test_ready, y_ref=y_test, training_time=train_time, inference_time=inf_time)"
   ]
  },
  {
   "cell_type": "markdown",
   "id": "3d27ce08-dcfa-4590-8c51-3cad2fd37fba",
   "metadata": {},
   "source": [
    "---\n",
    "## 3.2 TOKENISATION + FILTRAGE <a class=\"anchor\" id=\"PREPROCESS_filtered\"></a> [⇪](#menu)"
   ]
  },
  {
   "cell_type": "markdown",
   "id": "9c7c4727-589b-4f10-9408-fe23f69b6933",
   "metadata": {},
   "source": [
    "### Chargeons et appliquons le pré-traitement sur le jeu de données tokenisé & filtré"
   ]
  },
  {
   "cell_type": "code",
   "execution_count": 22,
   "id": "39137655-52a6-4093-bfa6-c8e697fa603e",
   "metadata": {},
   "outputs": [],
   "source": [
    "data_nlp_path = pathlib.Path(pathlib.Path().absolute(), 'data', 'data_nlp_filtered.bin')\n",
    "data_nlp = joblib.load(data_nlp_path)"
   ]
  },
  {
   "cell_type": "code",
   "execution_count": 23,
   "id": "f03ce2e7-ff87-43f3-b974-e881b9231f4e",
   "metadata": {},
   "outputs": [],
   "source": [
    "data_nlp = data_nlp.sample(sample_size, random_state=random_seed)"
   ]
  },
  {
   "cell_type": "code",
   "execution_count": 24,
   "id": "828708c5-345f-47e5-8a94-20e4fcc5843c",
   "metadata": {},
   "outputs": [
    {
     "data": {
      "text/html": [
       "<div>\n",
       "<style scoped>\n",
       "    .dataframe tbody tr th:only-of-type {\n",
       "        vertical-align: middle;\n",
       "    }\n",
       "\n",
       "    .dataframe tbody tr th {\n",
       "        vertical-align: top;\n",
       "    }\n",
       "\n",
       "    .dataframe thead th {\n",
       "        text-align: right;\n",
       "    }\n",
       "</style>\n",
       "<table border=\"1\" class=\"dataframe\">\n",
       "  <thead>\n",
       "    <tr style=\"text-align: right;\">\n",
       "      <th></th>\n",
       "      <th>tokens_filtered</th>\n",
       "      <th>target</th>\n",
       "    </tr>\n",
       "  </thead>\n",
       "  <tbody>\n",
       "    <tr>\n",
       "      <th>33683</th>\n",
       "      <td>[wretched, weather, note, washed, car]</td>\n",
       "      <td>0</td>\n",
       "    </tr>\n",
       "    <tr>\n",
       "      <th>1346934</th>\n",
       "      <td>[congrats, man, looks, like, fierce, eyes]</td>\n",
       "      <td>1</td>\n",
       "    </tr>\n",
       "  </tbody>\n",
       "</table>\n",
       "</div>"
      ],
      "text/plain": [
       "                                    tokens_filtered target\n",
       "33683        [wretched, weather, note, washed, car]      0\n",
       "1346934  [congrats, man, looks, like, fierce, eyes]      1"
      ]
     },
     "metadata": {},
     "output_type": "display_data"
    },
    {
     "data": {
      "text/plain": [
       "(10000, 2)"
      ]
     },
     "metadata": {},
     "output_type": "display_data"
    }
   ],
   "source": [
    "display(data_nlp.head(2), data_nlp.shape)"
   ]
  },
  {
   "cell_type": "code",
   "execution_count": 25,
   "id": "7b87d9b2-2226-4b0b-bebc-d34c7aa36fb4",
   "metadata": {},
   "outputs": [],
   "source": [
    "# train_x, valid_x, train_y, valid_y, vectorizer = preprocess_data(data_nlp, 'tokens_raw', test_size=0.2)\n",
    "X_train, X_test, y_train, y_test = train_test_split(data_nlp['tokens_filtered'], data_nlp.target, test_size=0.2, random_state=random_seed)"
   ]
  },
  {
   "cell_type": "markdown",
   "id": "081d16b1-d65d-4200-b1aa-08da1ccd86a7",
   "metadata": {},
   "source": [
    "### Préparons le jeu de données avec un Tokenizer (Keras)"
   ]
  },
  {
   "cell_type": "code",
   "execution_count": 26,
   "id": "2b67425c-91f2-4449-bde0-49892d041b5b",
   "metadata": {},
   "outputs": [
    {
     "name": "stdout",
     "output_type": "stream",
     "text": [
      "----- One sample outputs for demo -----\n",
      ">> Sentence: ['love getting calls extended family year old computers expect fix']\n",
      ">> X_train_enc: [[9, 46, 636, 1063, 163, 86, 100, 1761, 1226, 432]]\n",
      ">> X_train_ready: [[   9   46  636 1063  163   86  100 1761 1226  432    0    0    0    0\n",
      "     0    0    0    0    0    0    0    0    0    0    0    0    0    0\n",
      "     0    0    0    0    0    0    0]]\n",
      "\n",
      "Vocab size: 9409\n"
     ]
    }
   ],
   "source": [
    "X_train_ready, X_test_ready, tokenizer, vocab_size = preprocess_data_RAW(X_train, X_test, 2000, 35)"
   ]
  },
  {
   "cell_type": "markdown",
   "id": "9066914c-ba69-4dc8-97a4-1ddb84ba2110",
   "metadata": {},
   "source": [
    "### Entrainons notre Neural Network "
   ]
  },
  {
   "cell_type": "code",
   "execution_count": 27,
   "id": "cfd37a5a-85f2-4574-9242-564527f9e5ed",
   "metadata": {},
   "outputs": [],
   "source": [
    "# w2v_embedding = gensim_to_keras_embedding(w2v_model, train_embeddings=False)\n",
    "embedding = layers.Embedding(vocab_size, 256)"
   ]
  },
  {
   "cell_type": "code",
   "execution_count": 28,
   "id": "acd62d96-4e0c-4139-983c-ce376ff9b2a5",
   "metadata": {},
   "outputs": [],
   "source": [
    "archi01_model_FILTERED = architecture1(f_opti, f_loss, f_metrics, embedding)"
   ]
  },
  {
   "cell_type": "code",
   "execution_count": 29,
   "id": "739d4643-751f-4728-a704-fa4fa00711fb",
   "metadata": {},
   "outputs": [
    {
     "name": "stdout",
     "output_type": "stream",
     "text": [
      "Model: \"model_1\"\n",
      "_________________________________________________________________\n",
      " Layer (type)                Output Shape              Param #   \n",
      "=================================================================\n",
      " input_2 (InputLayer)        [(None, None)]            0         \n",
      "                                                                 \n",
      " embedding_1 (Embedding)     (None, None, 256)         2408704   \n",
      "                                                                 \n",
      " dropout_2 (Dropout)         (None, None, 256)         0         \n",
      "                                                                 \n",
      " conv1d_2 (Conv1D)           (None, None, 128)         229504    \n",
      "                                                                 \n",
      " conv1d_3 (Conv1D)           (None, None, 128)         114816    \n",
      "                                                                 \n",
      " global_max_pooling1d_1 (Glo  (None, 128)              0         \n",
      " balMaxPooling1D)                                                \n",
      "                                                                 \n",
      " dense_1 (Dense)             (None, 128)               16512     \n",
      "                                                                 \n",
      " dropout_3 (Dropout)         (None, 128)               0         \n",
      "                                                                 \n",
      " predictions (Dense)         (None, 1)                 129       \n",
      "                                                                 \n",
      "=================================================================\n",
      "Total params: 2,769,665\n",
      "Trainable params: 2,769,665\n",
      "Non-trainable params: 0\n",
      "_________________________________________________________________\n"
     ]
    }
   ],
   "source": [
    "archi01_model_FILTERED.summary()"
   ]
  },
  {
   "cell_type": "code",
   "execution_count": 30,
   "id": "3294e10f-beaa-456b-812a-81dd272896b9",
   "metadata": {},
   "outputs": [
    {
     "name": "stdout",
     "output_type": "stream",
     "text": [
      "Epoch 1/50\n",
      "250/250 [==============================] - ETA: 0s - loss: 0.6930 - accuracy: 0.5130\n",
      "Epoch 1: val_accuracy improved from -inf to 0.52100, saving model to models/archi01_FILTERED.epoch01-accuracy0.52.hdf5\n",
      "250/250 [==============================] - 8s 29ms/step - loss: 0.6930 - accuracy: 0.5130 - val_loss: 0.6928 - val_accuracy: 0.5210 - lr: 5.0000e-05\n",
      "Epoch 2/50\n",
      "249/250 [============================>.] - ETA: 0s - loss: 0.6926 - accuracy: 0.5128\n",
      "Epoch 2: val_accuracy did not improve from 0.52100\n",
      "250/250 [==============================] - 7s 28ms/step - loss: 0.6926 - accuracy: 0.5129 - val_loss: 0.6935 - val_accuracy: 0.4850 - lr: 5.0000e-05\n",
      "Epoch 3/50\n",
      "249/250 [============================>.] - ETA: 0s - loss: 0.6919 - accuracy: 0.5240\n",
      "Epoch 3: val_accuracy did not improve from 0.52100\n",
      "250/250 [==============================] - 7s 28ms/step - loss: 0.6918 - accuracy: 0.5241 - val_loss: 0.6931 - val_accuracy: 0.4850 - lr: 5.0000e-05\n",
      "Epoch 4/50\n",
      "250/250 [==============================] - ETA: 0s - loss: 0.6864 - accuracy: 0.5428\n",
      "Epoch 4: val_accuracy improved from 0.52100 to 0.61500, saving model to models/archi01_FILTERED.epoch04-accuracy0.62.hdf5\n",
      "250/250 [==============================] - 7s 29ms/step - loss: 0.6864 - accuracy: 0.5428 - val_loss: 0.6805 - val_accuracy: 0.6150 - lr: 5.0000e-05\n",
      "Epoch 5/50\n",
      "250/250 [==============================] - ETA: 0s - loss: 0.6405 - accuracy: 0.6615\n",
      "Epoch 5: val_accuracy improved from 0.61500 to 0.70100, saving model to models/archi01_FILTERED.epoch05-accuracy0.70.hdf5\n",
      "250/250 [==============================] - 7s 29ms/step - loss: 0.6405 - accuracy: 0.6615 - val_loss: 0.6014 - val_accuracy: 0.7010 - lr: 5.0000e-05\n",
      "Epoch 6/50\n",
      "249/250 [============================>.] - ETA: 0s - loss: 0.5430 - accuracy: 0.7391\n",
      "Epoch 6: val_accuracy improved from 0.70100 to 0.71050, saving model to models/archi01_FILTERED.epoch06-accuracy0.71.hdf5\n",
      "250/250 [==============================] - 7s 29ms/step - loss: 0.5426 - accuracy: 0.7394 - val_loss: 0.5661 - val_accuracy: 0.7105 - lr: 5.0000e-05\n",
      "Epoch 7/50\n",
      "249/250 [============================>.] - ETA: 0s - loss: 0.4897 - accuracy: 0.7751\n",
      "Epoch 7: val_accuracy did not improve from 0.71050\n",
      "250/250 [==============================] - 7s 29ms/step - loss: 0.4901 - accuracy: 0.7749 - val_loss: 0.5671 - val_accuracy: 0.7085 - lr: 5.0000e-05\n",
      "Epoch 8/50\n",
      "250/250 [==============================] - ETA: 0s - loss: 0.4615 - accuracy: 0.7880\n",
      "Epoch 8: val_accuracy did not improve from 0.71050\n",
      "250/250 [==============================] - 7s 29ms/step - loss: 0.4615 - accuracy: 0.7880 - val_loss: 0.5720 - val_accuracy: 0.7100 - lr: 5.0000e-05\n",
      "Epoch 9/50\n",
      "249/250 [============================>.] - ETA: 0s - loss: 0.4306 - accuracy: 0.8090\n",
      "Epoch 9: val_accuracy did not improve from 0.71050\n",
      "250/250 [==============================] - 7s 29ms/step - loss: 0.4307 - accuracy: 0.8087 - val_loss: 0.6004 - val_accuracy: 0.7000 - lr: 5.0000e-05\n",
      "Epoch 10/50\n",
      "249/250 [============================>.] - ETA: 0s - loss: 0.4081 - accuracy: 0.8245\n",
      "Epoch 10: val_accuracy did not improve from 0.71050\n",
      "250/250 [==============================] - 7s 29ms/step - loss: 0.4080 - accuracy: 0.8244 - val_loss: 0.6008 - val_accuracy: 0.7035 - lr: 5.0000e-05\n",
      "Epoch 11/50\n",
      "250/250 [==============================] - ETA: 0s - loss: 0.3825 - accuracy: 0.8396\n",
      "Epoch 11: val_accuracy did not improve from 0.71050\n",
      "\n",
      "Epoch 11: ReduceLROnPlateau reducing learning rate to 5.000000237487257e-06.\n",
      "250/250 [==============================] - 7s 29ms/step - loss: 0.3825 - accuracy: 0.8396 - val_loss: 0.6203 - val_accuracy: 0.6975 - lr: 5.0000e-05\n",
      "Epoch 12/50\n",
      "250/250 [==============================] - ETA: 0s - loss: 0.3623 - accuracy: 0.8485\n",
      "Epoch 12: val_accuracy did not improve from 0.71050\n",
      "Restoring model weights from the end of the best epoch: 6.\n",
      "250/250 [==============================] - 7s 29ms/step - loss: 0.3623 - accuracy: 0.8485 - val_loss: 0.6180 - val_accuracy: 0.6965 - lr: 5.0000e-06\n",
      "Epoch 12: early stopping\n"
     ]
    }
   ],
   "source": [
    "t0 = time.perf_counter()\n",
    "history_clf_archi01_FILTERED = archi01_model_FILTERED.fit(x=X_train_ready, y=y_train, validation_data=(X_test_ready, y_test), epochs=50, batch_size=32, callbacks=init_callbacks(\"archi01_FILTERED\")) # , validation_split=0.2 , train_labels\n",
    "train_time = time.perf_counter() - t0"
   ]
  },
  {
   "cell_type": "code",
   "execution_count": 31,
   "id": "b9697f01-a936-490c-9a73-943bb106027a",
   "metadata": {},
   "outputs": [
    {
     "data": {
      "image/png": "[encoded data removed]",
      "text/plain": [
       "<Figure size 576x576 with 2 Axes>"
      ]
     },
     "metadata": {
      "needs_background": "light"
     },
     "output_type": "display_data"
    }
   ],
   "source": [
    "summarize_diagnostics(history_clf_archi01_FILTERED)"
   ]
  },
  {
   "cell_type": "markdown",
   "id": "10687ca7-53ff-4b5d-be5f-c1269ce2178a",
   "metadata": {},
   "source": [
    "### Affichons les scores du modèle"
   ]
  },
  {
   "cell_type": "code",
   "execution_count": 32,
   "id": "a4526de6-d09a-4efc-b54c-086e3058b63b",
   "metadata": {},
   "outputs": [
    {
     "name": "stdout",
     "output_type": "stream",
     "text": [
      "63/63 [==============================] - 0s 3ms/step\n"
     ]
    },
    {
     "data": {
      "text/plain": [
       "(2000, 1)"
      ]
     },
     "execution_count": 32,
     "metadata": {},
     "output_type": "execute_result"
    }
   ],
   "source": [
    "t0 = time.perf_counter()\n",
    "y_preds_proba = archi01_model_FILTERED.predict(X_test_ready)\n",
    "# y_preds_proba = pd.Series([x[0] for x in y_preds_proba])\n",
    "\n",
    "y_preds = np.where(y_preds_proba > 0.5, 1,0)\n",
    "# y_preds = pd.Series([1 if x > 0.5 else 0 for x in y_preds_proba])\n",
    "inf_time = time.perf_counter() - t0\n",
    "\n",
    "\n",
    "y_preds_proba.shape\n",
    "y_preds.shape"
   ]
  },
  {
   "cell_type": "code",
   "execution_count": 33,
   "id": "d7b3f592-def4-4fe6-853a-2b2b50531b0b",
   "metadata": {
    "colab": {
     "base_uri": "https://localhost:8080/",
     "height": 1000
    },
    "executionInfo": {
     "elapsed": 746,
     "status": "ok",
     "timestamp": 1653231856185,
     "user": {
      "displayName": "Valkea",
      "userId": "01476199649418572392"
     },
     "user_tz": -120
    },
    "id": "81aba764-7f22-4ad1-b0ed-bc5b13f0b75e",
    "outputId": "e3c4ed78-a90b-46e0-baa0-c28f701f4414"
   },
   "outputs": [
    {
     "name": "stdout",
     "output_type": "stream",
     "text": [
      "----------------------------------------------------------------------------------------------------\n",
      "          These information are based on the best estimator of the above cross-validation           \n",
      "----------------------------------------------------------------------------------------------------\n",
      "\n",
      "--- NN Archi01 (FILTERED + TF-IDF) -----------------------------------------------------------------\n",
      "\n",
      "             ROC_AUC : 0.7793\n",
      "                  F1 : 0.7386\n",
      "            ACCURACY : 0.7105\n",
      "           PRECISION : 0.6903\n",
      "              RECALL : 0.7942\n",
      "   AVERAGE_PRECISION : 0.7703\n",
      "\n",
      "       TRAINING-TIME : 86.3824\n",
      "      INFERENCE-TIME : 0.2788\n",
      "\n",
      "--- Classification Report -------------------------------------------------------------------------- \n",
      "\n",
      "                 precision    recall  f1-score   support\n",
      "\n",
      "Prediction = 0       0.74      0.62      0.68       970\n",
      "Prediction = 1       0.69      0.79      0.74      1030\n",
      "\n",
      "      accuracy                           0.71      2000\n",
      "     macro avg       0.72      0.71      0.71      2000\n",
      "  weighted avg       0.71      0.71      0.71      2000\n",
      "\n",
      "--- Confusion Matrix ------------------------------------------------------------------------------- \n",
      "\n"
     ]
    },
    {
     "data": {
      "image/png": "[encoded data removed]",
      "text/plain": [
       "<Figure size 432x432 with 2 Axes>"
      ]
     },
     "metadata": {
      "needs_background": "light"
     },
     "output_type": "display_data"
    },
    {
     "name": "stdout",
     "output_type": "stream",
     "text": [
      "--- ROC AUC ---------------------------------------------------------------------------------------- \n",
      "\n"
     ]
    },
    {
     "data": {
      "image/png": "[encoded data removed]",
      "text/plain": [
       "<Figure size 360x360 with 1 Axes>"
      ]
     },
     "metadata": {
      "needs_background": "light"
     },
     "output_type": "display_data"
    },
    {
     "name": "stdout",
     "output_type": "stream",
     "text": [
      "--- PRECISION RECALL AUC --------------------------------------------------------------------------- \n",
      "\n"
     ]
    },
    {
     "data": {
      "image/png": "[encoded data removed]",
      "text/plain": [
       "<Figure size 360x360 with 1 Axes>"
      ]
     },
     "metadata": {
      "needs_background": "light"
     },
     "output_type": "display_data"
    }
   ],
   "source": [
    "model_name = \"NN Archi01 (FILTERED + TF-IDF)\"\n",
    "get_scores(model_name, y_pred=y_preds, y_pred_proba=y_preds_proba, register=True, X_ref=X_test_ready, y_ref=y_test, training_time=train_time, inference_time=inf_time)"
   ]
  },
  {
   "cell_type": "markdown",
   "id": "2fe5b8df-5643-4ff2-b69e-293d809f97af",
   "metadata": {},
   "source": [
    "---\n",
    "## 3.3 TOKENISATION + FILTRAGE + LEMMATIZATION <a class=\"anchor\" id=\"PREPROCESS_lemmatized\"></a> [⇪](#menu)"
   ]
  },
  {
   "cell_type": "markdown",
   "id": "eeacded1-14b6-4ac6-b02b-f682cc683579",
   "metadata": {},
   "source": [
    "### Chargeons et appliquons le pré-traitement sur le jeu de données tokenisé & filtré & lemmatisé"
   ]
  },
  {
   "cell_type": "code",
   "execution_count": 34,
   "id": "e98e5984-5438-4c5b-b830-26de90c9f60d",
   "metadata": {},
   "outputs": [],
   "source": [
    "data_nlp_path = pathlib.Path(pathlib.Path().absolute(), 'data', 'data_nlp_lemmas.bin')\n",
    "data_nlp = joblib.load(data_nlp_path)"
   ]
  },
  {
   "cell_type": "code",
   "execution_count": 35,
   "id": "cfdf385b-6c65-409a-8a98-dfa94d9c9cff",
   "metadata": {},
   "outputs": [],
   "source": [
    "data_nlp = data_nlp.sample(sample_size, random_state=random_seed)"
   ]
  },
  {
   "cell_type": "code",
   "execution_count": 36,
   "id": "e77c0a86-5fc2-46f5-ad53-4c2e056d9cf1",
   "metadata": {},
   "outputs": [
    {
     "data": {
      "text/html": [
       "<div>\n",
       "<style scoped>\n",
       "    .dataframe tbody tr th:only-of-type {\n",
       "        vertical-align: middle;\n",
       "    }\n",
       "\n",
       "    .dataframe tbody tr th {\n",
       "        vertical-align: top;\n",
       "    }\n",
       "\n",
       "    .dataframe thead th {\n",
       "        text-align: right;\n",
       "    }\n",
       "</style>\n",
       "<table border=\"1\" class=\"dataframe\">\n",
       "  <thead>\n",
       "    <tr style=\"text-align: right;\">\n",
       "      <th></th>\n",
       "      <th>lemmas</th>\n",
       "      <th>target</th>\n",
       "    </tr>\n",
       "  </thead>\n",
       "  <tbody>\n",
       "    <tr>\n",
       "      <th>33683</th>\n",
       "      <td>[wretched, weather, note, wash, car]</td>\n",
       "      <td>0</td>\n",
       "    </tr>\n",
       "    <tr>\n",
       "      <th>1346934</th>\n",
       "      <td>[congrat, man, look, like, fierce, eye]</td>\n",
       "      <td>1</td>\n",
       "    </tr>\n",
       "  </tbody>\n",
       "</table>\n",
       "</div>"
      ],
      "text/plain": [
       "                                          lemmas target\n",
       "33683       [wretched, weather, note, wash, car]      0\n",
       "1346934  [congrat, man, look, like, fierce, eye]      1"
      ]
     },
     "metadata": {},
     "output_type": "display_data"
    },
    {
     "data": {
      "text/plain": [
       "(10000, 2)"
      ]
     },
     "metadata": {},
     "output_type": "display_data"
    }
   ],
   "source": [
    "display(data_nlp.head(2), data_nlp.shape)"
   ]
  },
  {
   "cell_type": "code",
   "execution_count": 37,
   "id": "11f6a4a7-fc8d-4c0f-8c97-d9f3f20418de",
   "metadata": {},
   "outputs": [],
   "source": [
    "# train_x, valid_x, train_y, valid_y, vectorizer = preprocess_data(data_nlp, 'tokens_raw', test_size=0.2)\n",
    "X_train, X_test, y_train, y_test = train_test_split(data_nlp['lemmas'], data_nlp.target, test_size=0.2, random_state=random_seed)"
   ]
  },
  {
   "cell_type": "markdown",
   "id": "ba3d6973-960c-4900-a22e-3481ce80d947",
   "metadata": {},
   "source": [
    "### Préparons le jeu de données avec un Tokenizer (Keras)"
   ]
  },
  {
   "cell_type": "code",
   "execution_count": 38,
   "id": "8daa523c-488b-4df2-bd9a-37f9a1fc79d2",
   "metadata": {},
   "outputs": [
    {
     "name": "stdout",
     "output_type": "stream",
     "text": [
      "----- One sample outputs for demo -----\n",
      ">> Sentence: ['love get call extended family year old computer expect fix']\n",
      ">> X_train_enc: [[8, 5, 115, 972, 162, 75, 104, 240, 500, 277]]\n",
      ">> X_train_ready: [[  8   5 115 972 162  75 104 240 500 277   0   0   0   0   0   0   0   0\n",
      "    0   0   0   0   0   0   0   0   0   0   0   0   0   0   0   0   0]]\n",
      "\n",
      "Vocab size: 7809\n"
     ]
    }
   ],
   "source": [
    "X_train_ready, X_test_ready, tokenizer, vocab_size = preprocess_data_RAW(X_train, X_test, 2000, 35)"
   ]
  },
  {
   "cell_type": "markdown",
   "id": "fe7514bf-9ee3-4699-90a8-ad6c121a3aec",
   "metadata": {},
   "source": [
    "### Entrainons notre Neural Network "
   ]
  },
  {
   "cell_type": "code",
   "execution_count": 39,
   "id": "8f64e23f-3a93-4537-8f2a-ada26fadfdf4",
   "metadata": {},
   "outputs": [],
   "source": [
    "# w2v_embedding = gensim_to_keras_embedding(w2v_model, train_embeddings=False)\n",
    "embedding = layers.Embedding(vocab_size, 256)"
   ]
  },
  {
   "cell_type": "code",
   "execution_count": 40,
   "id": "bc1ff1c4-bb37-432e-be77-088ac6d8644f",
   "metadata": {},
   "outputs": [],
   "source": [
    "archi01_model_LEMMATIZED = architecture1(f_opti, f_loss, f_metrics, embedding)"
   ]
  },
  {
   "cell_type": "code",
   "execution_count": 41,
   "id": "88cc093f-014d-4eff-8f43-eb77ed0a1cca",
   "metadata": {},
   "outputs": [
    {
     "name": "stdout",
     "output_type": "stream",
     "text": [
      "Model: \"model_2\"\n",
      "_________________________________________________________________\n",
      " Layer (type)                Output Shape              Param #   \n",
      "=================================================================\n",
      " input_3 (InputLayer)        [(None, None)]            0         \n",
      "                                                                 \n",
      " embedding_2 (Embedding)     (None, None, 256)         1999104   \n",
      "                                                                 \n",
      " dropout_4 (Dropout)         (None, None, 256)         0         \n",
      "                                                                 \n",
      " conv1d_4 (Conv1D)           (None, None, 128)         229504    \n",
      "                                                                 \n",
      " conv1d_5 (Conv1D)           (None, None, 128)         114816    \n",
      "                                                                 \n",
      " global_max_pooling1d_2 (Glo  (None, 128)              0         \n",
      " balMaxPooling1D)                                                \n",
      "                                                                 \n",
      " dense_2 (Dense)             (None, 128)               16512     \n",
      "                                                                 \n",
      " dropout_5 (Dropout)         (None, 128)               0         \n",
      "                                                                 \n",
      " predictions (Dense)         (None, 1)                 129       \n",
      "                                                                 \n",
      "=================================================================\n",
      "Total params: 2,360,065\n",
      "Trainable params: 2,360,065\n",
      "Non-trainable params: 0\n",
      "_________________________________________________________________\n"
     ]
    }
   ],
   "source": [
    "archi01_model_LEMMATIZED.summary()"
   ]
  },
  {
   "cell_type": "code",
   "execution_count": 42,
   "id": "14cb579e-e3f0-4399-b5af-bf83d2f7fdf3",
   "metadata": {},
   "outputs": [
    {
     "name": "stdout",
     "output_type": "stream",
     "text": [
      "Epoch 1/50\n",
      "248/250 [============================>.] - ETA: 0s - loss: 0.6931 - accuracy: 0.5026\n",
      "Epoch 1: val_accuracy improved from -inf to 0.48500, saving model to models/archi01_LEMMATIZED.epoch01-accuracy0.49.hdf5\n",
      "250/250 [==============================] - 7s 25ms/step - loss: 0.6932 - accuracy: 0.5025 - val_loss: 0.6934 - val_accuracy: 0.4850 - lr: 5.0000e-06\n",
      "Epoch 2/50\n",
      "249/250 [============================>.] - ETA: 0s - loss: 0.6930 - accuracy: 0.5108\n",
      "Epoch 2: val_accuracy did not improve from 0.48500\n",
      "250/250 [==============================] - 6s 24ms/step - loss: 0.6930 - accuracy: 0.5106 - val_loss: 0.6935 - val_accuracy: 0.4850 - lr: 5.0000e-06\n",
      "Epoch 3/50\n",
      "248/250 [============================>.] - ETA: 0s - loss: 0.6929 - accuracy: 0.5098\n",
      "Epoch 3: val_accuracy did not improve from 0.48500\n",
      "250/250 [==============================] - 6s 23ms/step - loss: 0.6928 - accuracy: 0.5102 - val_loss: 0.6937 - val_accuracy: 0.4850 - lr: 5.0000e-06\n",
      "Epoch 4/50\n",
      "250/250 [==============================] - ETA: 0s - loss: 0.6923 - accuracy: 0.5173\n",
      "Epoch 4: val_accuracy did not improve from 0.48500\n",
      "250/250 [==============================] - 6s 22ms/step - loss: 0.6923 - accuracy: 0.5173 - val_loss: 0.6938 - val_accuracy: 0.4850 - lr: 5.0000e-06\n",
      "Epoch 5/50\n",
      "250/250 [==============================] - ETA: 0s - loss: 0.6930 - accuracy: 0.5090\n",
      "Epoch 5: val_accuracy did not improve from 0.48500\n",
      "250/250 [==============================] - 6s 23ms/step - loss: 0.6930 - accuracy: 0.5090 - val_loss: 0.6936 - val_accuracy: 0.4850 - lr: 5.0000e-06\n",
      "Epoch 6/50\n",
      "249/250 [============================>.] - ETA: 0s - loss: 0.6929 - accuracy: 0.5118\n",
      "Epoch 6: val_accuracy did not improve from 0.48500\n",
      "\n",
      "Epoch 6: ReduceLROnPlateau reducing learning rate to 1e-06.\n",
      "250/250 [==============================] - 6s 24ms/step - loss: 0.6929 - accuracy: 0.5114 - val_loss: 0.6937 - val_accuracy: 0.4850 - lr: 5.0000e-06\n",
      "Epoch 7/50\n",
      "249/250 [============================>.] - ETA: 0s - loss: 0.6927 - accuracy: 0.5144\n",
      "Epoch 7: val_accuracy did not improve from 0.48500\n",
      "Restoring model weights from the end of the best epoch: 1.\n",
      "250/250 [==============================] - 6s 23ms/step - loss: 0.6927 - accuracy: 0.5145 - val_loss: 0.6937 - val_accuracy: 0.4850 - lr: 1.0000e-06\n",
      "Epoch 7: early stopping\n"
     ]
    }
   ],
   "source": [
    "t0 = time.perf_counter()\n",
    "history_clf_archi01_LEMMATIZED = archi01_model_LEMMATIZED.fit(x=X_train_ready, y=y_train, validation_data=(X_test_ready, y_test), epochs=50, batch_size=32, callbacks=init_callbacks(\"archi01_LEMMATIZED\")) # , validation_split=0.2 , train_labels\n",
    "train_time = time.perf_counter() - t0"
   ]
  },
  {
   "cell_type": "code",
   "execution_count": 43,
   "id": "e1dd0cdc-a797-4a16-a575-fe79d4473d57",
   "metadata": {},
   "outputs": [
    {
     "data": {
      "image/png": "[encoded data removed]",
      "text/plain": [
       "<Figure size 576x576 with 2 Axes>"
      ]
     },
     "metadata": {
      "needs_background": "light"
     },
     "output_type": "display_data"
    }
   ],
   "source": [
    "summarize_diagnostics(history_clf_archi01_LEMMATIZED)"
   ]
  },
  {
   "cell_type": "markdown",
   "id": "53f28f85-c240-4ac6-b361-9e67aea65d52",
   "metadata": {},
   "source": [
    "### Affichons les scores du modèle"
   ]
  },
  {
   "cell_type": "code",
   "execution_count": 44,
   "id": "a11cedab-e896-4786-bbd8-a483442091a4",
   "metadata": {},
   "outputs": [
    {
     "name": "stdout",
     "output_type": "stream",
     "text": [
      "63/63 [==============================] - 0s 3ms/step\n"
     ]
    },
    {
     "data": {
      "text/plain": [
       "(2000, 1)"
      ]
     },
     "execution_count": 44,
     "metadata": {},
     "output_type": "execute_result"
    }
   ],
   "source": [
    "t0 = time.perf_counter()\n",
    "y_preds_proba = archi01_model_LEMMATIZED.predict(X_test_ready)\n",
    "# y_preds_proba = pd.Series([x[0] for x in y_preds_proba])\n",
    "\n",
    "y_preds = np.where(y_preds_proba > 0.5, 1,0)\n",
    "# y_preds = pd.Series([1 if x > 0.5 else 0 for x in y_preds_proba])\n",
    "inf_time = time.perf_counter() - t0\n",
    "\n",
    "\n",
    "y_preds_proba.shape\n",
    "y_preds.shape"
   ]
  },
  {
   "cell_type": "code",
   "execution_count": 45,
   "id": "4f98304e-b03c-4cd2-a27f-b3fa1ad7fd34",
   "metadata": {
    "colab": {
     "base_uri": "https://localhost:8080/",
     "height": 1000
    },
    "executionInfo": {
     "elapsed": 746,
     "status": "ok",
     "timestamp": 1653231856185,
     "user": {
      "displayName": "Valkea",
      "userId": "01476199649418572392"
     },
     "user_tz": -120
    },
    "id": "81aba764-7f22-4ad1-b0ed-bc5b13f0b75e",
    "outputId": "e3c4ed78-a90b-46e0-baa0-c28f701f4414"
   },
   "outputs": [
    {
     "name": "stdout",
     "output_type": "stream",
     "text": [
      "----------------------------------------------------------------------------------------------------\n",
      "          These information are based on the best estimator of the above cross-validation           \n",
      "----------------------------------------------------------------------------------------------------\n",
      "\n",
      "--- NN Archi01 (LEMMATIZED + TF-IDF) ---------------------------------------------------------------\n",
      "\n",
      "             ROC_AUC : 0.5289\n",
      "                  F1 : 0.0000\n",
      "            ACCURACY : 0.4850\n",
      "           PRECISION : 0.0000\n",
      "              RECALL : 0.0000\n",
      "   AVERAGE_PRECISION : 0.5255\n",
      "\n",
      "       TRAINING-TIME : 41.5821\n",
      "      INFERENCE-TIME : 0.2981\n",
      "\n",
      "--- Classification Report -------------------------------------------------------------------------- \n",
      "\n",
      "                 precision    recall  f1-score   support\n",
      "\n",
      "Prediction = 0       0.48      1.00      0.65       970\n",
      "Prediction = 1       0.00      0.00      0.00      1030\n",
      "\n",
      "      accuracy                           0.48      2000\n",
      "     macro avg       0.24      0.50      0.33      2000\n",
      "  weighted avg       0.24      0.48      0.32      2000\n",
      "\n",
      "--- Confusion Matrix ------------------------------------------------------------------------------- \n",
      "\n"
     ]
    },
    {
     "data": {
      "image/png": "[encoded data removed]",
      "text/plain": [
       "<Figure size 432x432 with 2 Axes>"
      ]
     },
     "metadata": {
      "needs_background": "light"
     },
     "output_type": "display_data"
    },
    {
     "name": "stdout",
     "output_type": "stream",
     "text": [
      "--- ROC AUC ---------------------------------------------------------------------------------------- \n",
      "\n"
     ]
    },
    {
     "data": {
      "image/png": "[encoded data removed]",
      "text/plain": [
       "<Figure size 360x360 with 1 Axes>"
      ]
     },
     "metadata": {
      "needs_background": "light"
     },
     "output_type": "display_data"
    },
    {
     "name": "stdout",
     "output_type": "stream",
     "text": [
      "--- PRECISION RECALL AUC --------------------------------------------------------------------------- \n",
      "\n"
     ]
    },
    {
     "data": {
      "image/png": "[encoded data removed]",
      "text/plain": [
       "<Figure size 360x360 with 1 Axes>"
      ]
     },
     "metadata": {
      "needs_background": "light"
     },
     "output_type": "display_data"
    }
   ],
   "source": [
    "model_name = \"NN Archi01 (LEMMATIZED + TF-IDF)\"\n",
    "get_scores(model_name, y_pred=y_preds, y_pred_proba=y_preds_proba, register=True, X_ref=X_test_ready, y_ref=y_test, training_time=train_time, inference_time=inf_time)"
   ]
  },
  {
   "cell_type": "markdown",
   "id": "af066cd2-4b0d-4073-8213-f081aa694bcc",
   "metadata": {},
   "source": [
    "---\n",
    "## 3.4 Comparaison des `scores` <a class=\"anchor\" id=\"PREPROCESS_scores\"></a> [⇪](#menu)\n",
    "\n",
    ">#### Les scores ci-dessous ont été obtenus avec divers pré-traitements initiaux\n",
    "> mais la phase final de pré-traitement à dans tous les cas utilisé **TF-IDF** comme moyen de rendre compatible les textes avec le DummyClassifier et la LogisticRegression."
   ]
  },
  {
   "cell_type": "code",
   "execution_count": 46,
   "id": "70b49926-907c-410f-96dc-fc8ba2056625",
   "metadata": {},
   "outputs": [],
   "source": [
    "from classification_utils import scores_df"
   ]
  },
  {
   "cell_type": "code",
   "execution_count": 47,
   "id": "ea1f2100-6639-4abb-b705-d4f5e44cc8bb",
   "metadata": {},
   "outputs": [
    {
     "data": {
      "text/html": [
       "<div>\n",
       "<style scoped>\n",
       "    .dataframe tbody tr th:only-of-type {\n",
       "        vertical-align: middle;\n",
       "    }\n",
       "\n",
       "    .dataframe tbody tr th {\n",
       "        vertical-align: top;\n",
       "    }\n",
       "\n",
       "    .dataframe thead th {\n",
       "        text-align: right;\n",
       "    }\n",
       "</style>\n",
       "<table border=\"1\" class=\"dataframe\">\n",
       "  <thead>\n",
       "    <tr style=\"text-align: right;\">\n",
       "      <th></th>\n",
       "      <th>Method</th>\n",
       "      <th>threshold</th>\n",
       "      <th>params</th>\n",
       "      <th>ROC AUC</th>\n",
       "      <th>PR AUC</th>\n",
       "      <th>F1 score</th>\n",
       "      <th>Accuracy</th>\n",
       "      <th>Precision</th>\n",
       "      <th>Recall</th>\n",
       "      <th>TP</th>\n",
       "      <th>TN</th>\n",
       "      <th>FP</th>\n",
       "      <th>FN</th>\n",
       "      <th>Training time</th>\n",
       "      <th>Inference time</th>\n",
       "    </tr>\n",
       "  </thead>\n",
       "  <tbody>\n",
       "    <tr>\n",
       "      <th>0</th>\n",
       "      <td>NN Archi01 (RAW + TF-IDF)</td>\n",
       "      <td>None</td>\n",
       "      <td>None</td>\n",
       "      <td>0.790145</td>\n",
       "      <td>0.777240</td>\n",
       "      <td>0.727273</td>\n",
       "      <td>0.7150</td>\n",
       "      <td>0.682839</td>\n",
       "      <td>0.777892</td>\n",
       "      <td>760</td>\n",
       "      <td>670</td>\n",
       "      <td>353</td>\n",
       "      <td>217</td>\n",
       "      <td>112.101167</td>\n",
       "      <td>0.338816</td>\n",
       "    </tr>\n",
       "    <tr>\n",
       "      <th>1</th>\n",
       "      <td>NN Archi01 (FILTERED + TF-IDF)</td>\n",
       "      <td>None</td>\n",
       "      <td>None</td>\n",
       "      <td>0.779269</td>\n",
       "      <td>0.770264</td>\n",
       "      <td>0.738600</td>\n",
       "      <td>0.7105</td>\n",
       "      <td>0.690295</td>\n",
       "      <td>0.794175</td>\n",
       "      <td>818</td>\n",
       "      <td>603</td>\n",
       "      <td>367</td>\n",
       "      <td>212</td>\n",
       "      <td>86.382437</td>\n",
       "      <td>0.278791</td>\n",
       "    </tr>\n",
       "    <tr>\n",
       "      <th>2</th>\n",
       "      <td>NN Archi01 (LEMMATIZED + TF-IDF)</td>\n",
       "      <td>None</td>\n",
       "      <td>None</td>\n",
       "      <td>0.528920</td>\n",
       "      <td>0.525478</td>\n",
       "      <td>0.000000</td>\n",
       "      <td>0.4850</td>\n",
       "      <td>0.000000</td>\n",
       "      <td>0.000000</td>\n",
       "      <td>0</td>\n",
       "      <td>970</td>\n",
       "      <td>0</td>\n",
       "      <td>1030</td>\n",
       "      <td>41.582103</td>\n",
       "      <td>0.298146</td>\n",
       "    </tr>\n",
       "  </tbody>\n",
       "</table>\n",
       "</div>"
      ],
      "text/plain": [
       "                             Method threshold params   ROC AUC    PR AUC  \\\n",
       "0         NN Archi01 (RAW + TF-IDF)      None   None  0.790145  0.777240   \n",
       "1    NN Archi01 (FILTERED + TF-IDF)      None   None  0.779269  0.770264   \n",
       "2  NN Archi01 (LEMMATIZED + TF-IDF)      None   None  0.528920  0.525478   \n",
       "\n",
       "   F1 score  Accuracy  Precision    Recall   TP   TN   FP    FN  \\\n",
       "0  0.727273    0.7150   0.682839  0.777892  760  670  353   217   \n",
       "1  0.738600    0.7105   0.690295  0.794175  818  603  367   212   \n",
       "2  0.000000    0.4850   0.000000  0.000000    0  970    0  1030   \n",
       "\n",
       "   Training time  Inference time  \n",
       "0     112.101167        0.338816  \n",
       "1      86.382437        0.278791  \n",
       "2      41.582103        0.298146  "
      ]
     },
     "execution_count": 47,
     "metadata": {},
     "output_type": "execute_result"
    }
   ],
   "source": [
    "scores_df"
   ]
  },
  {
   "cell_type": "markdown",
   "id": "c3080c53-2351-4e5d-9fbe-c84a09dac046",
   "metadata": {},
   "source": [
    "# 4. Plongements"
   ]
  },
  {
   "cell_type": "markdown",
   "id": "83cc962e-504f-4e35-a809-9ce301cbce43",
   "metadata": {},
   "source": [
    "> https://fr.wikipedia.org/wiki/Word_embedding\n",
    ">\n",
    "> Pour utiliser les données en apprentissage machine, il est nécessaire de leur trouver une représentation mathématique, typiquement des vecteurs. Certaines données s'y prêtent directement, comme par exemple les images, qui engendrent des vecteurs riches en information, encodant toutes les nuances et les couleurs qui les composent. Les mots, quant à eux, sont des éléments d'information isolés, et certaines représentations rudimentaires se limitent à un simple identifiant par mot. Par exemple le mot « chat » sera encodé par un seul identifiant arbitraire, disons X87. C'est une représentation discrète, relativement pauvre, qui ne permet notamment pas de comparer deux mots entre eux5. Les plongements lexicaux, eux, représentent un mot par un vecteur. Par exemple, un chat sera représenté par le vecteur [0,43 0,88 0,98 1,3]. Si l'on encode tous les mots d'un dictionnaire ainsi, il devient alors **possible de comparer les vecteurs des mots entre eux**, par exemple en mesurant l'angle entre les vecteurs. Une bonne représentation de mots permettra alors de trouver que le mot « chien » est plus près du mot « chat » qu'il ne l'est du mot « gratte-ciel »6. Qui plus est, ces représentations permettent d'espérer que, dans l'espace vectoriel où le plongement est fait, on aura l'équation roi - homme + femme = reine ou encore l'équation Paris - France + Pologne = Varsovie7.\n",
    "> \n",
    "> Les plongements lexicaux sont également très **utiles pour mitiger le fléau de la dimension**, un problème récurrent en intelligence artificielle. Sans les plongements de mots, **les identifiants uniques représentant les mots engendrent des données éparses**, des points isolés dans un espace vaste et presque vide6. Avec les plongements de mots, en revanche, l'espace devient beaucoup plus restreint et il est plus facile pour un ordinateur d'y établir des regroupements, d'y découvrir des régularités, en apprentissage machine. "
   ]
  },
  {
   "cell_type": "code",
   "execution_count": null,
   "id": "9dc22e88-654f-445c-b504-af5a59692b2f",
   "metadata": {},
   "outputs": [],
   "source": []
  },
  {
   "cell_type": "code",
   "execution_count": 48,
   "id": "ebbea0fc-9c67-42bc-8260-f6da185e8098",
   "metadata": {},
   "outputs": [],
   "source": [
    "from gensim.models import Word2Vec, FastText"
   ]
  },
  {
   "cell_type": "code",
   "execution_count": null,
   "id": "d33a52c2-6bac-4ae3-9a74-a6512e637ef7",
   "metadata": {},
   "outputs": [],
   "source": [
    "w2v_model = Word2Vec(df_train, vector_size=256, min_count=5, window=5, sg=0, epochs=100)"
   ]
  },
  {
   "cell_type": "code",
   "execution_count": null,
   "id": "f25f5254-0b4a-40b2-9a40-cce1c1137dd1",
   "metadata": {},
   "outputs": [],
   "source": [
    "pretrained_weights = w2v_model.wv.vectors\n",
    "vocab_size, emdedding_size = pretrained_weights.shape\n",
    "print('Result embedding shape:', pretrained_weights.shape)\n",
    "print('Checking similar words:')\n",
    "for word in ['good', 'bad', 'sad', 'fabulous', 'difficult', 'easy', 'boring', 'fun']:\n",
    "    if word in w2v_model.wv:\n",
    "        most_similar = ', '.join('%s (%.2f)' % (similar, dist) for similar, dist in w2v_model.wv.most_similar(word)[:8])\n",
    "        print(f'{word} -> {most_similar}')\n",
    "    else:\n",
    "        print(f'⚠️ {word} is not in the Word2Vec vocabulary')"
   ]
  },
  {
   "cell_type": "code",
   "execution_count": null,
   "id": "fc6d2400-fc01-441e-a2ca-2632ed8edd02",
   "metadata": {},
   "outputs": [],
   "source": []
  },
  {
   "cell_type": "code",
   "execution_count": null,
   "id": "802ce814-8281-4b0f-bf57-2e71c90fdaba",
   "metadata": {},
   "outputs": [],
   "source": [
    "ft_model = FastText(X_train, vector_size=256, min_count=5, window=5, sg=0, epochs=100)"
   ]
  },
  {
   "cell_type": "code",
   "execution_count": null,
   "id": "36d83951-0b35-4794-8d04-e1b4b56672e6",
   "metadata": {},
   "outputs": [],
   "source": []
  },
  {
   "cell_type": "raw",
   "id": "9eaa4a6d-18ac-492d-8df3-1cd2e369b34a",
   "metadata": {},
   "source": [
    "def word2idx(word):\n",
    "    #print(\"WORD:\", word)\n",
    "    return w2v_model.wv.key_to_index[word]\n",
    "def idx2word(idx):\n",
    "    return w2v_model.wv.index_to_key[idx]"
   ]
  },
  {
   "cell_type": "code",
   "execution_count": null,
   "id": "4de69bfc-b79e-4ccf-bb06-f4af88f89720",
   "metadata": {},
   "outputs": [],
   "source": []
  },
  {
   "cell_type": "code",
   "execution_count": null,
   "id": "ec533c29-9251-4374-930d-f3f59807741b",
   "metadata": {},
   "outputs": [],
   "source": [
    "def word_embedding_transform(embedding_model, sentences, max_len=50):\n",
    "\n",
    "    print('\\nPreparing the data for Keras NN...')\n",
    "    train_x = np.zeros([len(sentences), max_len], dtype=np.int32)\n",
    "    for i, (id,sentence) in enumerate(sentences.iteritems()):\n",
    "        for t, word in enumerate(sentence[:-1]):\n",
    "            if word in embedding_model.wv:\n",
    "                train_x[i, t] = w2v_model.wv.key_to_index[word]\n",
    "                \n",
    "    return train_x"
   ]
  },
  {
   "cell_type": "code",
   "execution_count": null,
   "id": "11359a6e-6afc-4003-9b19-dc93e33c9252",
   "metadata": {},
   "outputs": [],
   "source": [
    "train_x = word_embedding_transform(w2v_model, df_train)\n",
    "train_y = y_train\n",
    "\n",
    "print('train_x shape:', train_x.shape, 'train_y shape:', train_y.shape)\n",
    "\n",
    "valid_x = word_embedding_transform(w2v_model, df_test)\n",
    "valid_y = y_test\n",
    "\n",
    "print('valid_x shape:', valid_x.shape, 'valid_y shape:', valid_y.shape)"
   ]
  },
  {
   "cell_type": "code",
   "execution_count": null,
   "id": "dc948af9-a55f-434a-baba-1ba2170d2ac2",
   "metadata": {},
   "outputs": [],
   "source": []
  },
  {
   "cell_type": "code",
   "execution_count": null,
   "id": "5df64e3a-3cf4-4509-afd3-f94df9ef1c09",
   "metadata": {},
   "outputs": [],
   "source": []
  },
  {
   "cell_type": "code",
   "execution_count": null,
   "id": "2e646384-afb7-4f65-80ca-42b148c0e2c4",
   "metadata": {},
   "outputs": [],
   "source": [
    "from tensorflow.keras.layers import Embedding\n",
    "\n",
    "def gensim_to_keras_embedding(model, train_embeddings=False):\n",
    "    \"\"\"Get a Keras 'Embedding' layer with weights set from Word2Vec model's learned word embeddings.\n",
    "\n",
    "    Parameters\n",
    "    ----------\n",
    "    train_embeddings : bool\n",
    "        If False, the returned weights are frozen and stopped from being updated.\n",
    "        If True, the weights can / will be further updated in Keras.\n",
    "\n",
    "    Returns\n",
    "    -------\n",
    "    `keras.layers.Embedding`\n",
    "        Embedding layer, to be used as input to deeper network layers.\n",
    "\n",
    "    \"\"\"\n",
    "    keyed_vectors = model.wv  # structure holding the result of training\n",
    "    weights = keyed_vectors.vectors  # vectors themselves, a 2D numpy array    \n",
    "    index_to_key = keyed_vectors.index_to_key  # which row in `weights` corresponds to which word?\n",
    "\n",
    "    layer = Embedding(\n",
    "        input_dim=weights.shape[0],\n",
    "        output_dim=weights.shape[1],\n",
    "        weights=[weights],\n",
    "        trainable=train_embeddings,\n",
    "    )\n",
    "    return layer"
   ]
  },
  {
   "cell_type": "code",
   "execution_count": null,
   "id": "70b59b8f-a051-49a4-aa29-e6b11c6736a9",
   "metadata": {},
   "outputs": [],
   "source": []
  },
  {
   "cell_type": "code",
   "execution_count": null,
   "id": "19432642-0641-4636-93e6-7bb6f5782fce",
   "metadata": {},
   "outputs": [],
   "source": []
  },
  {
   "cell_type": "code",
   "execution_count": null,
   "id": "52adb0fe-d01e-4d08-9268-3206ff20d59a",
   "metadata": {},
   "outputs": [],
   "source": []
  },
  {
   "cell_type": "code",
   "execution_count": null,
   "id": "3abbeed4-38b8-4460-93aa-21236c67a5d1",
   "metadata": {},
   "outputs": [],
   "source": []
  }
 ],
 "metadata": {
  "kernelspec": {
   "display_name": "venvP7",
   "language": "python",
   "name": "venvp7"
  },
  "language_info": {
   "codemirror_mode": {
    "name": "ipython",
    "version": 3
   },
   "file_extension": ".py",
   "mimetype": "text/x-python",
   "name": "python",
   "nbconvert_exporter": "python",
   "pygments_lexer": "ipython3",
   "version": "3.8.10"
  }
 },
 "nbformat": 4,
 "nbformat_minor": 5
}
