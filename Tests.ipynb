{
 "cells": [
  {
   "cell_type": "markdown",
   "id": "4aaa6d83-172d-4e6a-84fd-14a2db7f180f",
   "metadata": {
    "tags": []
   },
   "source": [
    "# Test préliminaires"
   ]
  },
  {
   "cell_type": "code",
   "execution_count": 220,
   "id": "4461b926-d637-4807-8245-4b42116b4b68",
   "metadata": {},
   "outputs": [],
   "source": [
    "import time\n",
    "import pathlib\n",
    "\n",
    "import matplotlib.pyplot as plt\n",
    "import pandas as pd\n",
    "import numpy as np\n",
    "import tensorflow as tf\n",
    "from tensorflow import keras\n",
    "from keras import layers\n",
    "\n",
    "from sklearn.model_selection import train_test_split\n",
    "\n",
    "random_seed=0"
   ]
  },
  {
   "cell_type": "code",
   "execution_count": 188,
   "id": "d9aea6b3-e894-4faf-a957-21fd8895767e",
   "metadata": {
    "tags": []
   },
   "outputs": [
    {
     "data": {
      "text/html": [
       "<div>\n",
       "<style scoped>\n",
       "    .dataframe tbody tr th:only-of-type {\n",
       "        vertical-align: middle;\n",
       "    }\n",
       "\n",
       "    .dataframe tbody tr th {\n",
       "        vertical-align: top;\n",
       "    }\n",
       "\n",
       "    .dataframe thead th {\n",
       "        text-align: right;\n",
       "    }\n",
       "</style>\n",
       "<table border=\"1\" class=\"dataframe\">\n",
       "  <thead>\n",
       "    <tr style=\"text-align: right;\">\n",
       "      <th></th>\n",
       "      <th>target</th>\n",
       "      <th>text</th>\n",
       "    </tr>\n",
       "  </thead>\n",
       "  <tbody>\n",
       "    <tr>\n",
       "      <th>0</th>\n",
       "      <td>0</td>\n",
       "      <td>$ url$ - awww , that be a bummer . you shoulda...</td>\n",
       "    </tr>\n",
       "    <tr>\n",
       "      <th>1</th>\n",
       "      <td>0</td>\n",
       "      <td>be upset that he can not update his facebook b...</td>\n",
       "    </tr>\n",
       "    <tr>\n",
       "      <th>2</th>\n",
       "      <td>0</td>\n",
       "      <td>I dive many time for the ball . manage to save...</td>\n",
       "    </tr>\n",
       "    <tr>\n",
       "      <th>3</th>\n",
       "      <td>0</td>\n",
       "      <td>my whole body feel itchy and like its on fire</td>\n",
       "    </tr>\n",
       "    <tr>\n",
       "      <th>4</th>\n",
       "      <td>0</td>\n",
       "      <td>no , it be not behave at all . I be mad . why ...</td>\n",
       "    </tr>\n",
       "  </tbody>\n",
       "</table>\n",
       "</div>"
      ],
      "text/plain": [
       "   target                                               text\n",
       "0       0  $ url$ - awww , that be a bummer . you shoulda...\n",
       "1       0  be upset that he can not update his facebook b...\n",
       "2       0  I dive many time for the ball . manage to save...\n",
       "3       0      my whole body feel itchy and like its on fire\n",
       "4       0  no , it be not behave at all . I be mad . why ..."
      ]
     },
     "metadata": {},
     "output_type": "display_data"
    },
    {
     "data": {
      "text/plain": [
       "(1452791, 2)"
      ]
     },
     "metadata": {},
     "output_type": "display_data"
    }
   ],
   "source": [
    "data_work = pd.read_csv(\n",
    "    pathlib.Path(pathlib.Path().absolute(), 'data', 'data_nlp_1563108.csv'), \n",
    "    usecols=['target', 'lemmas_not_filtered'],\n",
    "    encoding='ISO-8859-1',\n",
    ")\n",
    "data_work.rename(columns={'lemmas_not_filtered':'text'}, inplace=True)\n",
    "display(data_work.head(), data_work.shape)"
   ]
  },
  {
   "cell_type": "markdown",
   "id": "49c635d2-8cbf-4047-a433-090f3f91baf0",
   "metadata": {},
   "source": [
    "### Standardize & Tokenize"
   ]
  },
  {
   "cell_type": "code",
   "execution_count": 189,
   "id": "f3ff4452-6cec-40f0-b92e-5f6c255ad922",
   "metadata": {},
   "outputs": [],
   "source": [
    "text_vectorization = tf.keras.layers.TextVectorization(\n",
    "    output_mode='int', # int, multi_hot, count, tf_idf\n",
    "    max_tokens=20000,\n",
    "    ngrams=1,\n",
    "    # output_sequence_length=60 # search the max size by default\n",
    ")"
   ]
  },
  {
   "cell_type": "code",
   "execution_count": 190,
   "id": "8b885c21-7503-4a3b-8593-11ea84e4a184",
   "metadata": {},
   "outputs": [],
   "source": [
    "text_vectorization.adapt(data_work.text.sample(100000, random_state=0))"
   ]
  },
  {
   "cell_type": "code",
   "execution_count": 191,
   "id": "5a6a7653-e68b-4244-9628-18b08e7f1b8c",
   "metadata": {},
   "outputs": [
    {
     "name": "stdout",
     "output_type": "stream",
     "text": [
      "['', '[UNK]', 'i', 'be', 'to', 'the', 'a', 'not', 'my', 'and', 'it', 'you', 'have', 'do', 'for', 'in', 'go', 'of', 'get', 'that'] ...\n"
     ]
    }
   ],
   "source": [
    "print(text_vectorization.get_vocabulary()[:20], \"...\")"
   ]
  },
  {
   "cell_type": "markdown",
   "id": "e271ec02-871b-485d-8346-ea3572918531",
   "metadata": {},
   "source": [
    "### Encode"
   ]
  },
  {
   "cell_type": "code",
   "execution_count": 192,
   "id": "42498700-d76e-4390-808c-d3b959b34025",
   "metadata": {},
   "outputs": [
    {
     "data": {
      "text/plain": [
       "20000"
      ]
     },
     "execution_count": 192,
     "metadata": {},
     "output_type": "execute_result"
    }
   ],
   "source": [
    "vocabulary = text_vectorization.get_vocabulary()\n",
    "len(vocabulary)"
   ]
  },
  {
   "cell_type": "code",
   "execution_count": 193,
   "id": "73438b3d-ead9-4d37-8801-8604cd0280e3",
   "metadata": {},
   "outputs": [],
   "source": [
    "test_sentence = \"I write, rewrite, and still rewrite again\""
   ]
  },
  {
   "cell_type": "code",
   "execution_count": 194,
   "id": "939be5de-6a30-4aa7-a670-495dcb7ac9f0",
   "metadata": {},
   "outputs": [
    {
     "data": {
      "text/plain": [
       "<tf.Tensor: shape=(7,), dtype=int64, numpy=array([   2,  319, 5460,    9,   77, 5460,  105])>"
      ]
     },
     "execution_count": 194,
     "metadata": {},
     "output_type": "execute_result"
    }
   ],
   "source": [
    "encoded_sentence = text_vectorization(test_sentence)\n",
    "encoded_sentence"
   ]
  },
  {
   "cell_type": "markdown",
   "id": "f1be1a46-3322-4b85-909e-5c78676e2c11",
   "metadata": {},
   "source": [
    "### Decode"
   ]
  },
  {
   "cell_type": "code",
   "execution_count": 195,
   "id": "f7e40397-1902-4463-98c5-6704f460d7e3",
   "metadata": {},
   "outputs": [],
   "source": [
    "inverse_vocab = dict(enumerate(vocabulary))"
   ]
  },
  {
   "cell_type": "code",
   "execution_count": 196,
   "id": "633a4d7f-c63c-4e44-8247-34c1954e563b",
   "metadata": {},
   "outputs": [
    {
     "data": {
      "text/plain": [
       "'i write rewrite and still rewrite again'"
      ]
     },
     "execution_count": 196,
     "metadata": {},
     "output_type": "execute_result"
    }
   ],
   "source": [
    "decoded_sentence = \" \".join([inverse_vocab[int(x)] for x in encoded_sentence])\n",
    "decoded_sentence"
   ]
  },
  {
   "cell_type": "markdown",
   "id": "7d22df50-5f15-40a1-8c9c-47c5420a4db7",
   "metadata": {},
   "source": [
    "### Divisons le jeu de données en `Train` et `Test` sets"
   ]
  },
  {
   "cell_type": "code",
   "execution_count": 197,
   "id": "539ed2ac-6687-44dc-b20f-5afafeb555d7",
   "metadata": {
    "tags": []
   },
   "outputs": [],
   "source": [
    "X_train, X_test, y_train, y_test = train_test_split(data_work['text'], data_work['target'], test_size=0.2, random_state=random_seed)"
   ]
  },
  {
   "cell_type": "markdown",
   "id": "87a6983a-a18e-41ff-884a-0f7904d0b689",
   "metadata": {},
   "source": [
    "### Prepare dataset"
   ]
  },
  {
   "cell_type": "code",
   "execution_count": 198,
   "id": "9b88fe5d-3513-45b0-82cd-4da25d91ec96",
   "metadata": {},
   "outputs": [],
   "source": [
    "X_train_ready = text_vectorization(X_train)\n",
    "X_test_ready = text_vectorization(X_test)"
   ]
  },
  {
   "cell_type": "code",
   "execution_count": null,
   "id": "207b9e34-e565-481d-aa27-2f308cc9e6b8",
   "metadata": {},
   "outputs": [],
   "source": []
  },
  {
   "cell_type": "code",
   "execution_count": 199,
   "id": "02b30f1c-7760-4f34-b457-9abf202c9c8f",
   "metadata": {},
   "outputs": [
    {
     "data": {
      "text/plain": [
       "317722    you too be fake .. :x ... disguise your link t...\n",
       "37615                   my boss be still mad from I I guess\n",
       "Name: text, dtype: object"
      ]
     },
     "execution_count": 199,
     "metadata": {},
     "output_type": "execute_result"
    }
   ],
   "source": [
    "X_train[:2]"
   ]
  },
  {
   "cell_type": "code",
   "execution_count": 200,
   "id": "02f1cefd-e737-49e7-b427-d835650e7230",
   "metadata": {},
   "outputs": [
    {
     "data": {
      "text/plain": [
       "<tf.Tensor: shape=(2, 54), dtype=int64, numpy=\n",
       "array([[  11,   48,    3, 1329,  191,    1,   46,  438,    4,    3,  180,\n",
       "         458,    0,    0,    0,    0,    0,    0,    0,    0,    0,    0,\n",
       "           0,    0,    0,    0,    0,    0,    0,    0,    0,    0,    0,\n",
       "           0,    0,    0,    0,    0,    0,    0,    0,    0,    0,    0,\n",
       "           0,    0,    0,    0,    0,    0,    0,    0,    0,    0],\n",
       "       [   8, 1218,    3,   77,  515,   60,    2,    2,  228,    0,    0,\n",
       "           0,    0,    0,    0,    0,    0,    0,    0,    0,    0,    0,\n",
       "           0,    0,    0,    0,    0,    0,    0,    0,    0,    0,    0,\n",
       "           0,    0,    0,    0,    0,    0,    0,    0,    0,    0,    0,\n",
       "           0,    0,    0,    0,    0,    0,    0,    0,    0,    0]])>"
      ]
     },
     "execution_count": 200,
     "metadata": {},
     "output_type": "execute_result"
    }
   ],
   "source": [
    "X_train_ready[:2]"
   ]
  },
  {
   "cell_type": "markdown",
   "id": "9d3d8668-a4de-4e6a-85d8-d9ecdb5734ae",
   "metadata": {},
   "source": [
    "### Inspect train_ds or test_ds"
   ]
  },
  {
   "cell_type": "code",
   "execution_count": null,
   "id": "daf04e22-197c-4ae3-b9c8-619f5339a52c",
   "metadata": {},
   "outputs": [],
   "source": []
  },
  {
   "cell_type": "markdown",
   "id": "29040d6d-c07e-46f8-82b6-a878966abddd",
   "metadata": {},
   "source": [
    "### Train model"
   ]
  },
  {
   "cell_type": "code",
   "execution_count": 214,
   "id": "4eaa843b-c57b-487d-9b9a-cc21b7ebb368",
   "metadata": {
    "tags": []
   },
   "outputs": [],
   "source": [
    "def summarize_diagnostics(history):\n",
    "    \n",
    "    figure = plt.figure(figsize=(8,8))\n",
    "            \n",
    "    # plot loss\n",
    "    plt.subplot(211)\n",
    "    plt.title('Cross Entropy Loss')\n",
    "    plt.plot(history.history['loss'], color='blue', label='train')\n",
    "    plt.plot(history.history['val_loss'], color='orange', label='val')\n",
    "    plt.legend()\n",
    "    \n",
    "    # plot accuracy\n",
    "    plt.subplot(212)\n",
    "    plt.title('Classification Accuracy')\n",
    "    plt.plot(history.history['accuracy'], color='blue', label='train')\n",
    "    plt.plot(history.history['val_accuracy'], color='orange', label='val')\n",
    "    plt.legend()\n",
    "    \n",
    "    # save plot to file\n",
    "    #filename = sys.argv[0].split('/')[-1]\n",
    "    #plt.savefig(filename + '_plot.png')\n",
    "    #plt.close()\n",
    "    \n",
    "    plt.tight_layout(pad=1.0)"
   ]
  },
  {
   "cell_type": "code",
   "execution_count": 16,
   "id": "fd0b73fe-039a-4d94-812d-33fa49796610",
   "metadata": {
    "tags": []
   },
   "outputs": [],
   "source": [
    "from keras import layers\n",
    "from keras.callbacks import EarlyStopping, ModelCheckpoint, Callback, ReduceLROnPlateau\n",
    "\n",
    "def init_callbacks(model_name):\n",
    "\n",
    "    # Define savepoints\n",
    "    filepath = pathlib.Path(\"models\", f\"{model_name}.epoch{{epoch:02d}}-accuracy{{val_accuracy:.2f}}.hdf5\")\n",
    "\n",
    "    checkpoint = ModelCheckpoint(\n",
    "        monitor=\"val_accuracy\",\n",
    "        mode=\"max\",\n",
    "        filepath=filepath,\n",
    "        save_best_only=True,\n",
    "        save_weights_only=True,\n",
    "        verbose=1,\n",
    "    )\n",
    "\n",
    "    # Define EarlyStopping conditions\n",
    "    es = EarlyStopping(\n",
    "        monitor='val_loss', # 'binary_accuracy'\n",
    "        mode='min', # 'max'\n",
    "        patience=10,  # 6 because ReduceLROnPlateau is 5 \n",
    "        min_delta=0.01, \n",
    "        restore_best_weights=True, \n",
    "        verbose=1,\n",
    "    )\n",
    "\n",
    "    # Define Automatic LearningRate adjustments\n",
    "    lr_reducer = ReduceLROnPlateau(\n",
    "        monitor='val_loss',\n",
    "        mode='min',\n",
    "        factor=0.1,\n",
    "        cooldown=5,\n",
    "        patience=5,\n",
    "        min_lr= 0.1e-5,\n",
    "        verbose=1,\n",
    "    )\n",
    "    \n",
    "    return [checkpoint, es, lr_reducer]"
   ]
  },
  {
   "cell_type": "code",
   "execution_count": 23,
   "id": "3dfa0072-e1e3-4ba1-95c6-0aba020dd398",
   "metadata": {
    "tags": []
   },
   "outputs": [],
   "source": [
    "def architecture01(f_opti, f_loss, f_metrics, embedding):\n",
    "        \n",
    "    inputs = keras.Input(shape=(None,), dtype=\"int64\")\n",
    "    \n",
    "    x = embedding(inputs)\n",
    "    x = layers.Bidirectional(layers.LSTM(64))(x)\n",
    "    x = layers.Dense(24, activation='relu')(x)\n",
    "    \n",
    "    predictions = layers.Dense(1, activation='sigmoid', name='predictions')(x)\n",
    "    \n",
    "    model = keras.Model(inputs, predictions)\n",
    "    model.compile(loss=f_loss, optimizer=f_opti, metrics=f_metrics)\n",
    "    \n",
    "    return model"
   ]
  },
  {
   "cell_type": "code",
   "execution_count": 202,
   "id": "42a5d25a-19bf-47f4-9bfa-4ca490766a14",
   "metadata": {
    "id": "bd3e09fc-72fa-4be3-9b2f-a48051235a2f",
    "tags": []
   },
   "outputs": [],
   "source": [
    "from sklearn.model_selection import StratifiedKFold\n",
    "\n",
    "skfold = StratifiedKFold(n_splits=5, shuffle=True, random_state=random_seed)"
   ]
  },
  {
   "cell_type": "code",
   "execution_count": 203,
   "id": "a25830c1-94cc-4dea-93a1-7db22f6e6f8d",
   "metadata": {
    "tags": []
   },
   "outputs": [],
   "source": [
    "def train_model(X_train_, X_test_, y_train_, y_test_, vocab_size_, embedding_layer_, preprocess_desc=\"\"):\n",
    "    \n",
    "    print(f\"Testing model with \\\"{preprocess_desc}\\\"\".upper().center(100,\"-\"), end='\\n\\n')\n",
    "    \n",
    "    # Prepare model\n",
    "    f_opti = keras.optimizers.Adam(learning_rate=0.0005)\n",
    "    f_loss = keras.losses.BinaryCrossentropy(from_logits=False)\n",
    "    f_metrics = ['accuracy'] # in this context 'accuracy' == keras.metrics.BinaryAccuracy()\n",
    "    \n",
    "    model = architecture01(f_opti, f_loss, f_metrics, embedding_layer_)\n",
    "    model.summary()\n",
    "    \n",
    "    t0 = time.perf_counter()\n",
    "    history = model.fit(\n",
    "        x=X_train_, y=y_train_, \n",
    "        validation_data=(X_test_, y_test_), \n",
    "        epochs=50, \n",
    "        batch_size=batch_size, \n",
    "        callbacks=init_callbacks(f\"archi01_PREPROCESS_{preprocess_desc}\"),\n",
    "        verbose=1,\n",
    "        # validation_split=0.2,\n",
    "        # train_labels\n",
    "    )\n",
    "    train_time = time.perf_counter() - t0\n",
    "    \n",
    "    # Print accuracy scores\n",
    "    loss, accuracy = model.evaluate(X_train_ready, y_train, verbose=False)\n",
    "    print(\"\\nTraining Accuracy: {:.4f}\".format(accuracy))\n",
    "    loss, accuracy = model.evaluate(X_test_ready, y_test, verbose=False)\n",
    "    print(\"Testing Accuracy:  {:.4f}\".format(accuracy))\n",
    "    \n",
    "    return history, model, train_time"
   ]
  },
  {
   "cell_type": "code",
   "execution_count": 204,
   "id": "545241e9-fd0c-46e3-95fd-4bbbfaf70ebb",
   "metadata": {
    "tags": []
   },
   "outputs": [],
   "source": [
    "# Embedding simple\n",
    "padding_size = X_train_ready.shape[1]\n",
    "embedding_dim = 100\n",
    "vocab_size = len(vocabulary)\n",
    "embedding_layer = layers.Embedding(input_dim=vocab_size, output_dim=embedding_dim, input_length=padding_size, trainable=True)"
   ]
  },
  {
   "cell_type": "code",
   "execution_count": 211,
   "id": "36ae3fe3-678c-40b3-aff8-eb883bd0d13c",
   "metadata": {},
   "outputs": [
    {
     "name": "stdout",
     "output_type": "stream",
     "text": [
      "------------------------------------TESTING MODEL WITH \"W2V300\"-------------------------------------\n",
      "\n",
      "Model: \"model_5\"\n",
      "_________________________________________________________________\n",
      " Layer (type)                Output Shape              Param #   \n",
      "=================================================================\n",
      " input_6 (InputLayer)        [(None, None)]            0         \n",
      "                                                                 \n",
      " embedding_3 (Embedding)     (None, None, 100)         2000000   \n",
      "                                                                 \n",
      " bidirectional_5 (Bidirectio  (None, 128)              84480     \n",
      " nal)                                                            \n",
      "                                                                 \n",
      " dense_5 (Dense)             (None, 24)                3096      \n",
      "                                                                 \n",
      " predictions (Dense)         (None, 1)                 25        \n",
      "                                                                 \n",
      "=================================================================\n",
      "Total params: 2,087,601\n",
      "Trainable params: 2,087,601\n",
      "Non-trainable params: 0\n",
      "_________________________________________________________________\n",
      "Epoch 1/50\n",
      "4540/4540 [==============================] - ETA: 0s - loss: 0.4327 - accuracy: 0.7991\n",
      "Epoch 1: val_accuracy improved from -inf to 0.81413, saving model to models/archi01_PREPROCESS_W2V300.epoch01-accuracy0.81.hdf5\n",
      "4540/4540 [==============================] - 675s 148ms/step - loss: 0.4327 - accuracy: 0.7991 - val_loss: 0.4062 - val_accuracy: 0.8141 - lr: 5.0000e-04\n",
      "Epoch 2/50\n",
      "4540/4540 [==============================] - ETA: 0s - loss: 0.3900 - accuracy: 0.8230\n",
      "Epoch 2: val_accuracy improved from 0.81413 to 0.82028, saving model to models/archi01_PREPROCESS_W2V300.epoch02-accuracy0.82.hdf5\n",
      "4540/4540 [==============================] - 707s 156ms/step - loss: 0.3900 - accuracy: 0.8230 - val_loss: 0.3955 - val_accuracy: 0.8203 - lr: 5.0000e-04\n",
      "Epoch 3/50\n",
      "4540/4540 [==============================] - ETA: 0s - loss: 0.3729 - accuracy: 0.8321\n",
      "Epoch 3: val_accuracy improved from 0.82028 to 0.82129, saving model to models/archi01_PREPROCESS_W2V300.epoch03-accuracy0.82.hdf5\n",
      "4540/4540 [==============================] - 717s 158ms/step - loss: 0.3729 - accuracy: 0.8321 - val_loss: 0.3928 - val_accuracy: 0.8213 - lr: 5.0000e-04\n",
      "Epoch 4/50\n",
      "4540/4540 [==============================] - ETA: 0s - loss: 0.3575 - accuracy: 0.8402\n",
      "Epoch 4: val_accuracy improved from 0.82129 to 0.82282, saving model to models/archi01_PREPROCESS_W2V300.epoch04-accuracy0.82.hdf5\n",
      "4540/4540 [==============================] - 734s 162ms/step - loss: 0.3575 - accuracy: 0.8402 - val_loss: 0.3948 - val_accuracy: 0.8228 - lr: 5.0000e-04\n",
      "Epoch 5/50\n",
      "4540/4540 [==============================] - ETA: 0s - loss: 0.3428 - accuracy: 0.8479\n",
      "Epoch 5: val_accuracy improved from 0.82282 to 0.82326, saving model to models/archi01_PREPROCESS_W2V300.epoch05-accuracy0.82.hdf5\n",
      "4540/4540 [==============================] - 765s 169ms/step - loss: 0.3428 - accuracy: 0.8479 - val_loss: 0.3999 - val_accuracy: 0.8233 - lr: 5.0000e-04\n",
      "Epoch 6/50\n",
      "4540/4540 [==============================] - ETA: 0s - loss: 0.3279 - accuracy: 0.8555\n",
      "Epoch 6: val_accuracy did not improve from 0.82326\n",
      "4540/4540 [==============================] - 802s 177ms/step - loss: 0.3279 - accuracy: 0.8555 - val_loss: 0.4147 - val_accuracy: 0.8220 - lr: 5.0000e-04\n",
      "Epoch 7/50\n",
      "4540/4540 [==============================] - ETA: 0s - loss: 0.3130 - accuracy: 0.8631\n",
      "Epoch 7: val_accuracy did not improve from 0.82326\n",
      "4540/4540 [==============================] - 773s 170ms/step - loss: 0.3130 - accuracy: 0.8631 - val_loss: 0.4272 - val_accuracy: 0.8199 - lr: 5.0000e-04\n",
      "Epoch 8/50\n",
      "4540/4540 [==============================] - ETA: 0s - loss: 0.2985 - accuracy: 0.8701\n",
      "Epoch 8: val_accuracy did not improve from 0.82326\n",
      "\n",
      "Epoch 8: ReduceLROnPlateau reducing learning rate to 5.0000002374872565e-05.\n",
      "4540/4540 [==============================] - 802s 177ms/step - loss: 0.2985 - accuracy: 0.8701 - val_loss: 0.4481 - val_accuracy: 0.8191 - lr: 5.0000e-04\n",
      "Epoch 9/50\n",
      "4540/4540 [==============================] - ETA: 0s - loss: 0.2646 - accuracy: 0.8871\n",
      "Epoch 9: val_accuracy did not improve from 0.82326\n",
      "4540/4540 [==============================] - 815s 180ms/step - loss: 0.2646 - accuracy: 0.8871 - val_loss: 0.5026 - val_accuracy: 0.8142 - lr: 5.0000e-05\n",
      "Epoch 10/50\n",
      "4540/4540 [==============================] - ETA: 0s - loss: 0.2586 - accuracy: 0.8899\n",
      "Epoch 10: val_accuracy did not improve from 0.82326\n",
      "4540/4540 [==============================] - 759s 167ms/step - loss: 0.2586 - accuracy: 0.8899 - val_loss: 0.5189 - val_accuracy: 0.8139 - lr: 5.0000e-05\n",
      "Epoch 11/50\n",
      "4540/4540 [==============================] - ETA: 0s - loss: 0.2548 - accuracy: 0.8918\n",
      "Epoch 11: val_accuracy did not improve from 0.82326\n",
      "4540/4540 [==============================] - 771s 170ms/step - loss: 0.2548 - accuracy: 0.8918 - val_loss: 0.5410 - val_accuracy: 0.8132 - lr: 5.0000e-05\n",
      "Epoch 12/50\n",
      "4540/4540 [==============================] - ETA: 0s - loss: 0.2514 - accuracy: 0.8932\n",
      "Epoch 12: val_accuracy did not improve from 0.82326\n",
      "Restoring model weights from the end of the best epoch: 2.\n",
      "4540/4540 [==============================] - 767s 169ms/step - loss: 0.2514 - accuracy: 0.8932 - val_loss: 0.5532 - val_accuracy: 0.8119 - lr: 5.0000e-05\n",
      "Epoch 12: early stopping\n",
      "\n",
      "Training Accuracy: 0.8345\n",
      "Testing Accuracy:  0.8203\n"
     ]
    }
   ],
   "source": [
    "batch_size=256\n",
    "history_W2V300, model_W2V300, train_time = train_model(X_train_ready, X_test_ready, y_train, y_test, vocab_size, embedding_layer, \"W2V300\")"
   ]
  },
  {
   "cell_type": "code",
   "execution_count": 217,
   "id": "78dc9f1b-9272-4027-a8ec-46ab04aaa9ae",
   "metadata": {
    "tags": []
   },
   "outputs": [
    {
     "data": {
      "image/png": "[encoded data removed]",
      "text/plain": [
       "<Figure size 576x576 with 2 Axes>"
      ]
     },
     "metadata": {
      "needs_background": "light"
     },
     "output_type": "display_data"
    }
   ],
   "source": [
    "summarize_diagnostics(history_W2V300)"
   ]
  },
  {
   "cell_type": "code",
   "execution_count": null,
   "id": "a309c2e1-2712-4ce6-81ac-666497717345",
   "metadata": {},
   "outputs": [],
   "source": []
  },
  {
   "cell_type": "code",
   "execution_count": 218,
   "id": "68f12efd-6fe4-4482-af9d-4b6b641cde08",
   "metadata": {
    "tags": []
   },
   "outputs": [],
   "source": [
    "from classification_utils import fit_model, get_scores, init_scores\n",
    "\n",
    "init_scores(\"data/scores_NN_SelectEmbeddingTESTS.csv\")"
   ]
  },
  {
   "cell_type": "markdown",
   "id": "dcf7f28a-9b74-44b5-a5a8-6859a3c33470",
   "metadata": {},
   "source": [
    "### Affichons les scores du modèle"
   ]
  },
  {
   "cell_type": "code",
   "execution_count": 221,
   "id": "3849b3ed-1737-45b2-a466-97bdd574eef2",
   "metadata": {
    "tags": []
   },
   "outputs": [
    {
     "name": "stdout",
     "output_type": "stream",
     "text": [
      "9080/9080 [==============================] - 69s 8ms/step\n"
     ]
    },
    {
     "data": {
      "text/plain": [
       "(290559, 1)"
      ]
     },
     "execution_count": 221,
     "metadata": {},
     "output_type": "execute_result"
    }
   ],
   "source": [
    "t0 = time.perf_counter()\n",
    "y_preds_proba = model_W2V300.predict(X_test_ready)\n",
    "# y_preds_proba = pd.Series([x[0] for x in y_preds_proba])\n",
    "\n",
    "y_preds = np.where(y_preds_proba > 0.5, 1,0)\n",
    "# y_preds = pd.Series([1 if x > 0.5 else 0 for x in y_preds_proba])\n",
    "inf_time = time.perf_counter() - t0\n",
    "\n",
    "y_preds_proba.shape\n",
    "y_preds.shape"
   ]
  },
  {
   "cell_type": "code",
   "execution_count": 222,
   "id": "c5d9dfc0-9ce0-476b-ace7-44d61497b2f1",
   "metadata": {
    "colab": {
     "base_uri": "https://localhost:8080/",
     "height": 1000
    },
    "executionInfo": {
     "elapsed": 746,
     "status": "ok",
     "timestamp": 1653231856185,
     "user": {
      "displayName": "Valkea",
      "userId": "01476199649418572392"
     },
     "user_tz": -120
    },
    "id": "81aba764-7f22-4ad1-b0ed-bc5b13f0b75e",
    "outputId": "e3c4ed78-a90b-46e0-baa0-c28f701f4414",
    "tags": []
   },
   "outputs": [
    {
     "name": "stdout",
     "output_type": "stream",
     "text": [
      "----------------------------------------------------------------------------------------------------\n",
      "          These information are based on the best estimator of the above cross-validation           \n",
      "----------------------------------------------------------------------------------------------------\n",
      "\n",
      "--- NN Archi01 (PT_W2V_300 + Lemma_nof + Tokenizer4500) --------------------------------------------\n",
      "\n",
      "             ROC_AUC : 0.9026\n",
      "                  F1 : 0.8207\n",
      "            ACCURACY : 0.8203\n",
      "           PRECISION : 0.8139\n",
      "              RECALL : 0.8275\n",
      "   AVERAGE_PRECISION : 0.9037\n",
      "\n",
      "       TRAINING-TIME : 9087.3585\n",
      "      INFERENCE-TIME : 70.9427\n",
      "\n",
      "--- Classification Report -------------------------------------------------------------------------- \n",
      "\n",
      "                 precision    recall  f1-score   support\n",
      "\n",
      "Prediction = 0       0.83      0.81      0.82    146176\n",
      "Prediction = 1       0.81      0.83      0.82    144383\n",
      "\n",
      "      accuracy                           0.82    290559\n",
      "     macro avg       0.82      0.82      0.82    290559\n",
      "  weighted avg       0.82      0.82      0.82    290559\n",
      "\n",
      "--- Confusion Matrix ------------------------------------------------------------------------------- \n",
      "\n"
     ]
    },
    {
     "data": {
      "image/png": "[encoded data removed]",
      "text/plain": [
       "<Figure size 432x432 with 2 Axes>"
      ]
     },
     "metadata": {
      "needs_background": "light"
     },
     "output_type": "display_data"
    },
    {
     "name": "stdout",
     "output_type": "stream",
     "text": [
      "--- ROC AUC ---------------------------------------------------------------------------------------- \n",
      "\n"
     ]
    },
    {
     "data": {
      "image/png": "[encoded data removed]",
      "text/plain": [
       "<Figure size 360x360 with 1 Axes>"
      ]
     },
     "metadata": {
      "needs_background": "light"
     },
     "output_type": "display_data"
    },
    {
     "name": "stdout",
     "output_type": "stream",
     "text": [
      "--- PRECISION RECALL AUC --------------------------------------------------------------------------- \n",
      "\n"
     ]
    },
    {
     "data": {
      "image/png": "[encoded data removed]",
      "text/plain": [
       "<Figure size 360x360 with 1 Axes>"
      ]
     },
     "metadata": {
      "needs_background": "light"
     },
     "output_type": "display_data"
    }
   ],
   "source": [
    "model_name = \"NN Archi01 (PT_W2V_300 + Lemma_nof + Tokenizer4500)\"\n",
    "get_scores(model_name, y_pred=y_preds, y_pred_proba=y_preds_proba, register=True, X_ref=X_test_ready, y_ref=y_test, training_time=train_time, inference_time=inf_time)"
   ]
  },
  {
   "cell_type": "code",
   "execution_count": null,
   "id": "718f6ccc-ba16-49f8-a226-aebbf79f4b6f",
   "metadata": {},
   "outputs": [],
   "source": []
  },
  {
   "cell_type": "code",
   "execution_count": 240,
   "id": "e082a895-5c4a-44de-92b2-65616957db50",
   "metadata": {},
   "outputs": [
    {
     "name": "stdout",
     "output_type": "stream",
     "text": [
      "Model: \"model_7\"\n",
      "_________________________________________________________________\n",
      " Layer (type)                Output Shape              Param #   \n",
      "=================================================================\n",
      " input_8 (InputLayer)        [(None, None)]            0         \n",
      "                                                                 \n",
      " embedding_3 (Embedding)     (None, None, 100)         2000000   \n",
      "                                                                 \n",
      " bidirectional_7 (Bidirectio  (None, 128)              84480     \n",
      " nal)                                                            \n",
      "                                                                 \n",
      " dense_7 (Dense)             (None, 24)                3096      \n",
      "                                                                 \n",
      " predictions (Dense)         (None, 1)                 25        \n",
      "                                                                 \n",
      "=================================================================\n",
      "Total params: 2,087,601\n",
      "Trainable params: 2,087,601\n",
      "Non-trainable params: 0\n",
      "_________________________________________________________________\n"
     ]
    }
   ],
   "source": [
    "# Prepare model\n",
    "f_opti = keras.optimizers.Adam(learning_rate=0.0005)\n",
    "f_loss = keras.losses.BinaryCrossentropy(from_logits=False)\n",
    "f_metrics = ['accuracy'] # in this context 'accuracy' == keras.metrics.BinaryAccuracy()\n",
    "    \n",
    "TEST_model = architecture01(f_opti, f_loss, f_metrics, embedding_layer)\n",
    "TEST_model.summary()"
   ]
  },
  {
   "cell_type": "code",
   "execution_count": 226,
   "id": "b7c96f1e-f371-4cd5-9060-2097f8e4ec73",
   "metadata": {
    "tags": []
   },
   "outputs": [
    {
     "name": "stdout",
     "output_type": "stream",
     "text": [
      "9080/9080 [==============================] - 66s 7ms/step\n"
     ]
    },
    {
     "data": {
      "text/plain": [
       "(290559, 1)"
      ]
     },
     "execution_count": 226,
     "metadata": {},
     "output_type": "execute_result"
    }
   ],
   "source": [
    "t0 = time.perf_counter()\n",
    "y_preds_proba = TEST_model.predict(X_test_ready)\n",
    "# y_preds_proba = pd.Series([x[0] for x in y_preds_proba])\n",
    "\n",
    "y_preds = np.where(y_preds_proba > 0.5, 1,0)\n",
    "# y_preds = pd.Series([1 if x > 0.5 else 0 for x in y_preds_proba])\n",
    "inf_time = time.perf_counter() - t0\n",
    "\n",
    "y_preds_proba.shape\n",
    "y_preds.shape"
   ]
  },
  {
   "cell_type": "code",
   "execution_count": 227,
   "id": "d40d44b8-0e1f-422a-b939-4cd2036a68c8",
   "metadata": {
    "colab": {
     "base_uri": "https://localhost:8080/",
     "height": 1000
    },
    "executionInfo": {
     "elapsed": 746,
     "status": "ok",
     "timestamp": 1653231856185,
     "user": {
      "displayName": "Valkea",
      "userId": "01476199649418572392"
     },
     "user_tz": -120
    },
    "id": "81aba764-7f22-4ad1-b0ed-bc5b13f0b75e",
    "outputId": "e3c4ed78-a90b-46e0-baa0-c28f701f4414",
    "tags": []
   },
   "outputs": [
    {
     "name": "stdout",
     "output_type": "stream",
     "text": [
      "----------------------------------------------------------------------------------------------------\n",
      "          These information are based on the best estimator of the above cross-validation           \n",
      "----------------------------------------------------------------------------------------------------\n",
      "\n",
      "--- TEST1 ------------------------------------------------------------------------------------------\n",
      "\n",
      "             ROC_AUC : 0.5650\n",
      "                  F1 : 0.5338\n",
      "            ACCURACY : 0.5434\n",
      "           PRECISION : 0.5418\n",
      "              RECALL : 0.5261\n",
      "   AVERAGE_PRECISION : 0.5558\n",
      "\n",
      "       TRAINING-TIME : 9087.3585\n",
      "      INFERENCE-TIME : 68.5046\n",
      "\n",
      "--- Classification Report -------------------------------------------------------------------------- \n",
      "\n",
      "                 precision    recall  f1-score   support\n",
      "\n",
      "Prediction = 0       0.54      0.56      0.55    146176\n",
      "Prediction = 1       0.54      0.53      0.53    144383\n",
      "\n",
      "      accuracy                           0.54    290559\n",
      "     macro avg       0.54      0.54      0.54    290559\n",
      "  weighted avg       0.54      0.54      0.54    290559\n",
      "\n",
      "--- Confusion Matrix ------------------------------------------------------------------------------- \n",
      "\n"
     ]
    },
    {
     "data": {
      "image/png": "[encoded data removed]",
      "text/plain": [
       "<Figure size 432x432 with 2 Axes>"
      ]
     },
     "metadata": {
      "needs_background": "light"
     },
     "output_type": "display_data"
    },
    {
     "name": "stdout",
     "output_type": "stream",
     "text": [
      "--- ROC AUC ---------------------------------------------------------------------------------------- \n",
      "\n"
     ]
    },
    {
     "data": {
      "image/png": "[encoded data removed]",
      "text/plain": [
       "<Figure size 360x360 with 1 Axes>"
      ]
     },
     "metadata": {
      "needs_background": "light"
     },
     "output_type": "display_data"
    },
    {
     "name": "stdout",
     "output_type": "stream",
     "text": [
      "--- PRECISION RECALL AUC --------------------------------------------------------------------------- \n",
      "\n"
     ]
    },
    {
     "data": {
      "image/png": "[encoded data removed]",
      "text/plain": [
       "<Figure size 360x360 with 1 Axes>"
      ]
     },
     "metadata": {
      "needs_background": "light"
     },
     "output_type": "display_data"
    }
   ],
   "source": [
    "model_name = \"TEST1\"\n",
    "get_scores(model_name, y_pred=y_preds, y_pred_proba=y_preds_proba, register=True, X_ref=X_test_ready, y_ref=y_test, training_time=train_time, inference_time=inf_time)"
   ]
  },
  {
   "cell_type": "code",
   "execution_count": null,
   "id": "97f5a20b-a53d-4b93-af58-be753566387e",
   "metadata": {},
   "outputs": [],
   "source": []
  },
  {
   "cell_type": "code",
   "execution_count": 241,
   "id": "b9a5049f-7967-45f9-8f21-4d08ebecf8a9",
   "metadata": {},
   "outputs": [],
   "source": [
    "# Restore the weights\n",
    "TEST_model.load_weights('models/archi01_PREPROCESS_W2V300.epoch05-accuracy0.82.hdf5')"
   ]
  },
  {
   "cell_type": "code",
   "execution_count": 242,
   "id": "45840e15-d219-4999-ad69-5924138cfa7c",
   "metadata": {
    "tags": []
   },
   "outputs": [
    {
     "name": "stdout",
     "output_type": "stream",
     "text": [
      "9080/9080 [==============================] - 64s 7ms/step\n"
     ]
    },
    {
     "data": {
      "text/plain": [
       "(290559, 1)"
      ]
     },
     "execution_count": 242,
     "metadata": {},
     "output_type": "execute_result"
    }
   ],
   "source": [
    "t0 = time.perf_counter()\n",
    "y_preds_proba = TEST_model.predict(X_test_ready)\n",
    "# y_preds_proba = pd.Series([x[0] for x in y_preds_proba])\n",
    "\n",
    "y_preds = np.where(y_preds_proba > 0.5, 1,0)\n",
    "# y_preds = pd.Series([1 if x > 0.5 else 0 for x in y_preds_proba])\n",
    "inf_time = time.perf_counter() - t0\n",
    "\n",
    "y_preds_proba.shape\n",
    "y_preds.shape"
   ]
  },
  {
   "cell_type": "code",
   "execution_count": 244,
   "id": "a3269c9c-c2e6-4fba-a153-b0f6a31b3067",
   "metadata": {},
   "outputs": [
    {
     "name": "stdout",
     "output_type": "stream",
     "text": [
      "9080/9080 [==============================] - 68s 7ms/step - loss: 0.3999 - accuracy: 0.8233\n"
     ]
    },
    {
     "data": {
      "text/plain": [
       "[0.39988774061203003, 0.8232613801956177]"
      ]
     },
     "execution_count": 244,
     "metadata": {},
     "output_type": "execute_result"
    }
   ],
   "source": [
    "TEST_model.evaluate(X_test_ready, y_test)"
   ]
  },
  {
   "cell_type": "code",
   "execution_count": 243,
   "id": "e6acd38a-1a56-4026-8761-e3964918f55a",
   "metadata": {
    "colab": {
     "base_uri": "https://localhost:8080/",
     "height": 1000
    },
    "executionInfo": {
     "elapsed": 746,
     "status": "ok",
     "timestamp": 1653231856185,
     "user": {
      "displayName": "Valkea",
      "userId": "01476199649418572392"
     },
     "user_tz": -120
    },
    "id": "81aba764-7f22-4ad1-b0ed-bc5b13f0b75e",
    "outputId": "e3c4ed78-a90b-46e0-baa0-c28f701f4414",
    "tags": []
   },
   "outputs": [
    {
     "name": "stdout",
     "output_type": "stream",
     "text": [
      "----------------------------------------------------------------------------------------------------\n",
      "          These information are based on the best estimator of the above cross-validation           \n",
      "----------------------------------------------------------------------------------------------------\n",
      "\n",
      "--- TEST1 ------------------------------------------------------------------------------------------\n",
      "\n",
      "             ROC_AUC : 0.9032\n",
      "                  F1 : 0.8186\n",
      "            ACCURACY : 0.8233\n",
      "           PRECISION : 0.8354\n",
      "              RECALL : 0.8025\n",
      "   AVERAGE_PRECISION : 0.9034\n",
      "\n",
      "       TRAINING-TIME : 9087.3585\n",
      "      INFERENCE-TIME : 65.9699\n",
      "\n",
      "--- Classification Report -------------------------------------------------------------------------- \n",
      "\n",
      "                 precision    recall  f1-score   support\n",
      "\n",
      "Prediction = 0       0.81      0.84      0.83    146176\n",
      "Prediction = 1       0.84      0.80      0.82    144383\n",
      "\n",
      "      accuracy                           0.82    290559\n",
      "     macro avg       0.82      0.82      0.82    290559\n",
      "  weighted avg       0.82      0.82      0.82    290559\n",
      "\n",
      "--- Confusion Matrix ------------------------------------------------------------------------------- \n",
      "\n"
     ]
    },
    {
     "data": {
      "image/png": "[encoded data removed]",
      "text/plain": [
       "<Figure size 432x432 with 2 Axes>"
      ]
     },
     "metadata": {
      "needs_background": "light"
     },
     "output_type": "display_data"
    },
    {
     "name": "stdout",
     "output_type": "stream",
     "text": [
      "--- ROC AUC ---------------------------------------------------------------------------------------- \n",
      "\n"
     ]
    },
    {
     "data": {
      "image/png": "[encoded data removed]",
      "text/plain": [
       "<Figure size 360x360 with 1 Axes>"
      ]
     },
     "metadata": {
      "needs_background": "light"
     },
     "output_type": "display_data"
    },
    {
     "name": "stdout",
     "output_type": "stream",
     "text": [
      "--- PRECISION RECALL AUC --------------------------------------------------------------------------- \n",
      "\n"
     ]
    },
    {
     "data": {
      "image/png": "[encoded data removed]",
      "text/plain": [
       "<Figure size 360x360 with 1 Axes>"
      ]
     },
     "metadata": {
      "needs_background": "light"
     },
     "output_type": "display_data"
    }
   ],
   "source": [
    "model_name = \"TEST1\"\n",
    "get_scores(model_name, y_pred=y_preds, y_pred_proba=y_preds_proba, register=True, X_ref=X_test_ready, y_ref=y_test, training_time=train_time, inference_time=inf_time)"
   ]
  },
  {
   "cell_type": "markdown",
   "id": "a644422e-377e-4af2-bb39-6033e4d98381",
   "metadata": {},
   "source": [
    "># Donc en fait, si je prend le modèle tel-quel après entrainement, il n'a PAS remis le meilleur modèle trouvé !!!"
   ]
  },
  {
   "cell_type": "code",
   "execution_count": 238,
   "id": "73fa1360-0db6-4d67-84a9-248b4368656a",
   "metadata": {
    "tags": []
   },
   "outputs": [
    {
     "name": "stdout",
     "output_type": "stream",
     "text": [
      "9080/9080 [==============================] - 65s 7ms/step\n"
     ]
    },
    {
     "data": {
      "text/plain": [
       "(290559, 1)"
      ]
     },
     "execution_count": 238,
     "metadata": {},
     "output_type": "execute_result"
    }
   ],
   "source": [
    "t0 = time.perf_counter()\n",
    "y_preds_proba = model_W2V300.predict(X_test_ready)\n",
    "# y_preds_proba = pd.Series([x[0] for x in y_preds_proba])\n",
    "\n",
    "y_preds = np.where(y_preds_proba > 0.5, 1,0)\n",
    "# y_preds = pd.Series([1 if x > 0.5 else 0 for x in y_preds_proba])\n",
    "inf_time = time.perf_counter() - t0\n",
    "\n",
    "y_preds_proba.shape\n",
    "y_preds.shape"
   ]
  },
  {
   "cell_type": "code",
   "execution_count": 245,
   "id": "fe8290bf-e8b4-4f5a-9a03-bfd1c6f3f96c",
   "metadata": {},
   "outputs": [
    {
     "name": "stdout",
     "output_type": "stream",
     "text": [
      "9080/9080 [==============================] - 81s 9ms/step - loss: 0.4111 - accuracy: 0.8177\n"
     ]
    },
    {
     "data": {
      "text/plain": [
       "[0.41106823086738586, 0.8177272081375122]"
      ]
     },
     "execution_count": 245,
     "metadata": {},
     "output_type": "execute_result"
    }
   ],
   "source": [
    "model_W2V300.evaluate(X_test_ready, y_test)"
   ]
  },
  {
   "cell_type": "code",
   "execution_count": 239,
   "id": "21614177-ee67-4a77-8268-6c243e825f37",
   "metadata": {
    "colab": {
     "base_uri": "https://localhost:8080/",
     "height": 1000
    },
    "executionInfo": {
     "elapsed": 746,
     "status": "ok",
     "timestamp": 1653231856185,
     "user": {
      "displayName": "Valkea",
      "userId": "01476199649418572392"
     },
     "user_tz": -120
    },
    "id": "81aba764-7f22-4ad1-b0ed-bc5b13f0b75e",
    "outputId": "e3c4ed78-a90b-46e0-baa0-c28f701f4414",
    "tags": []
   },
   "outputs": [
    {
     "name": "stdout",
     "output_type": "stream",
     "text": [
      "----------------------------------------------------------------------------------------------------\n",
      "          These information are based on the best estimator of the above cross-validation           \n",
      "----------------------------------------------------------------------------------------------------\n",
      "\n",
      "--- NN Archi01 (PT_W2V_300 + Lemma_nof + Tokenizer4500) --------------------------------------------\n",
      "\n",
      "             ROC_AUC : 0.9001\n",
      "                  F1 : 0.8195\n",
      "            ACCURACY : 0.8177\n",
      "           PRECISION : 0.8067\n",
      "              RECALL : 0.8327\n",
      "   AVERAGE_PRECISION : 0.9003\n",
      "\n",
      "       TRAINING-TIME : 9087.3585\n",
      "      INFERENCE-TIME : 66.9242\n",
      "\n",
      "--- Classification Report -------------------------------------------------------------------------- \n",
      "\n",
      "                 precision    recall  f1-score   support\n",
      "\n",
      "Prediction = 0       0.83      0.80      0.82    146176\n",
      "Prediction = 1       0.81      0.83      0.82    144383\n",
      "\n",
      "      accuracy                           0.82    290559\n",
      "     macro avg       0.82      0.82      0.82    290559\n",
      "  weighted avg       0.82      0.82      0.82    290559\n",
      "\n",
      "--- Confusion Matrix ------------------------------------------------------------------------------- \n",
      "\n"
     ]
    },
    {
     "data": {
      "image/png": "[encoded data removed]",
      "text/plain": [
       "<Figure size 432x432 with 2 Axes>"
      ]
     },
     "metadata": {
      "needs_background": "light"
     },
     "output_type": "display_data"
    },
    {
     "name": "stdout",
     "output_type": "stream",
     "text": [
      "--- ROC AUC ---------------------------------------------------------------------------------------- \n",
      "\n"
     ]
    },
    {
     "data": {
      "image/png": "[encoded data removed]",
      "text/plain": [
       "<Figure size 360x360 with 1 Axes>"
      ]
     },
     "metadata": {
      "needs_background": "light"
     },
     "output_type": "display_data"
    },
    {
     "name": "stdout",
     "output_type": "stream",
     "text": [
      "--- PRECISION RECALL AUC --------------------------------------------------------------------------- \n",
      "\n"
     ]
    },
    {
     "data": {
      "image/png": "[encoded data removed]",
      "text/plain": [
       "<Figure size 360x360 with 1 Axes>"
      ]
     },
     "metadata": {
      "needs_background": "light"
     },
     "output_type": "display_data"
    }
   ],
   "source": [
    "model_name = \"NN Archi01 (PT_W2V_300 + Lemma_nof + Tokenizer4500)\"\n",
    "get_scores(model_name, y_pred=y_preds, y_pred_proba=y_preds_proba, register=True, X_ref=X_test_ready, y_ref=y_test, training_time=train_time, inference_time=inf_time)"
   ]
  },
  {
   "cell_type": "markdown",
   "id": "14214364-c83c-46b6-b9ad-a14f2dc264f8",
   "metadata": {},
   "source": [
    "## Packaging"
   ]
  },
  {
   "cell_type": "raw",
   "id": "6ffa20e1-2e17-4d11-b5ac-c6cb77f22265",
   "metadata": {
    "tags": []
   },
   "source": [
    "t0 = time.perf_counter()\n",
    "y_preds_proba = model_W2V300.predict(X_test) # <<<<<<<<<<<<<<<<<<< ERROR\n",
    "# y_preds_proba = pd.Series([x[0] for x in y_preds_proba])\n",
    "\n",
    "y_preds = np.where(y_preds_proba > 0.5, 1,0)\n",
    "# y_preds = pd.Series([1 if x > 0.5 else 0 for x in y_preds_proba])\n",
    "inf_time = time.perf_counter() - t0\n",
    "\n",
    "y_preds_proba.shape\n",
    "y_preds.shape"
   ]
  },
  {
   "cell_type": "code",
   "execution_count": 272,
   "id": "6a46095f-3750-44b4-aac6-f2c06e2047b1",
   "metadata": {},
   "outputs": [],
   "source": [
    "inputs = keras.Input(shape=(1,), dtype='string')\n",
    "processed_inputs = text_vectorization(inputs)\n",
    "outputs = TEST_model(processed_inputs)\n",
    "inference_model = keras.Model(inputs, outputs)"
   ]
  },
  {
   "cell_type": "code",
   "execution_count": 273,
   "id": "3e3f7e6d-27b2-4c23-b2b2-06050903868b",
   "metadata": {},
   "outputs": [
    {
     "data": {
      "text/plain": [
       "<tf.Tensor: shape=(2, 1), dtype=float32, numpy=\n",
       "array([[0.8261073 ],\n",
       "       [0.16891088]], dtype=float32)>"
      ]
     },
     "execution_count": 273,
     "metadata": {},
     "output_type": "execute_result"
    }
   ],
   "source": [
    "raw_text = tf.convert_to_tensor([\"I like it\", \"I don't like it\"])\n",
    "inference_model(raw_text)"
   ]
  },
  {
   "cell_type": "code",
   "execution_count": 278,
   "id": "6d44a616-9234-44e4-8cb8-c752439ca398",
   "metadata": {},
   "outputs": [
    {
     "name": "stderr",
     "output_type": "stream",
     "text": [
      "WARNING:absl:Found untraced functions such as lstm_cell_22_layer_call_fn, lstm_cell_22_layer_call_and_return_conditional_losses, lstm_cell_23_layer_call_fn, lstm_cell_23_layer_call_and_return_conditional_losses while saving (showing 4 of 4). These functions will not be directly callable after loading.\n"
     ]
    },
    {
     "name": "stdout",
     "output_type": "stream",
     "text": [
      "INFO:tensorflow:Assets written to: models/TEST3/assets\n"
     ]
    },
    {
     "name": "stderr",
     "output_type": "stream",
     "text": [
      "INFO:tensorflow:Assets written to: models/TEST3/assets\n"
     ]
    }
   ],
   "source": [
    "# Compile before exporting BUT nit required for inference\n",
    "inference_model.compile(optimizer='adam', loss='binary_crossentropy')\n",
    "\n",
    "inference_model.save(\"models/TEST3\")"
   ]
  },
  {
   "cell_type": "code",
   "execution_count": null,
   "id": "73399a69-f5d9-422b-a8ea-965de52f4413",
   "metadata": {},
   "outputs": [],
   "source": []
  },
  {
   "cell_type": "code",
   "execution_count": 279,
   "id": "c25869fc-6c45-4f53-8b3f-69c9c3ae27aa",
   "metadata": {},
   "outputs": [],
   "source": [
    "XXX = keras.models.load_model(\"models/TEST3\")"
   ]
  },
  {
   "cell_type": "code",
   "execution_count": 280,
   "id": "cd15788f-e1b4-449a-ace5-a33bc859d660",
   "metadata": {},
   "outputs": [
    {
     "data": {
      "text/plain": [
       "<tf.Tensor: shape=(2, 1), dtype=float32, numpy=\n",
       "array([[0.8261073 ],\n",
       "       [0.16891088]], dtype=float32)>"
      ]
     },
     "execution_count": 280,
     "metadata": {},
     "output_type": "execute_result"
    }
   ],
   "source": [
    "raw_text = tf.convert_to_tensor([\"I like it\", \"I don't like it\"])\n",
    "XXX(raw_text)"
   ]
  },
  {
   "cell_type": "markdown",
   "id": "82f62cac-4b84-4f54-b8b8-1b1abcbf421b",
   "metadata": {},
   "source": [
    "---\n",
    "---\n",
    "---\n",
    "---\n",
    "---"
   ]
  },
  {
   "cell_type": "markdown",
   "id": "95372c35-c1d6-499f-9c7a-29f87fb38b6a",
   "metadata": {
    "tags": []
   },
   "source": [
    "# Tests de TextTokenizarion puis d'Embedding"
   ]
  },
  {
   "cell_type": "code",
   "execution_count": 1,
   "id": "a7d7bb55-b510-41c9-9267-5a65ed99999e",
   "metadata": {},
   "outputs": [
    {
     "name": "stderr",
     "output_type": "stream",
     "text": [
      "2022-08-04 18:36:24.676573: W tensorflow/stream_executor/platform/default/dso_loader.cc:64] Could not load dynamic library 'libcudart.so.11.0'; dlerror: libcudart.so.11.0: cannot open shared object file: No such file or directory\n",
      "2022-08-04 18:36:24.676599: I tensorflow/stream_executor/cuda/cudart_stub.cc:29] Ignore above cudart dlerror if you do not have a GPU set up on your machine.\n"
     ]
    }
   ],
   "source": [
    "import time\n",
    "import pathlib\n",
    "\n",
    "import matplotlib.pyplot as plt\n",
    "import pandas as pd\n",
    "import numpy as np\n",
    "import tensorflow as tf\n",
    "from tensorflow import keras\n",
    "from keras import layers\n",
    "\n",
    "from sklearn.model_selection import train_test_split\n",
    "\n",
    "random_seed = 0\n",
    "np.random.seed(random_seed)\n",
    "\n",
    "# set random seed for keras reproductibility\n",
    "try:\n",
    "    keras.utils.set_random_seed(random_seed)\n",
    "except Exception:\n",
    "    tf.random.set_seed(random_seed)"
   ]
  },
  {
   "cell_type": "code",
   "execution_count": 2,
   "id": "ddcbcb93-38d4-4eb1-a0ad-58ae67f6a4c8",
   "metadata": {
    "tags": []
   },
   "outputs": [
    {
     "data": {
      "text/html": [
       "<div>\n",
       "<style scoped>\n",
       "    .dataframe tbody tr th:only-of-type {\n",
       "        vertical-align: middle;\n",
       "    }\n",
       "\n",
       "    .dataframe tbody tr th {\n",
       "        vertical-align: top;\n",
       "    }\n",
       "\n",
       "    .dataframe thead th {\n",
       "        text-align: right;\n",
       "    }\n",
       "</style>\n",
       "<table border=\"1\" class=\"dataframe\">\n",
       "  <thead>\n",
       "    <tr style=\"text-align: right;\">\n",
       "      <th></th>\n",
       "      <th>target</th>\n",
       "      <th>text</th>\n",
       "    </tr>\n",
       "  </thead>\n",
       "  <tbody>\n",
       "    <tr>\n",
       "      <th>0</th>\n",
       "      <td>0</td>\n",
       "      <td>$ url$ - awww , that be a bummer . you shoulda...</td>\n",
       "    </tr>\n",
       "    <tr>\n",
       "      <th>1</th>\n",
       "      <td>0</td>\n",
       "      <td>be upset that he can not update his facebook b...</td>\n",
       "    </tr>\n",
       "    <tr>\n",
       "      <th>2</th>\n",
       "      <td>0</td>\n",
       "      <td>I dive many time for the ball . manage to save...</td>\n",
       "    </tr>\n",
       "    <tr>\n",
       "      <th>3</th>\n",
       "      <td>0</td>\n",
       "      <td>my whole body feel itchy and like its on fire</td>\n",
       "    </tr>\n",
       "    <tr>\n",
       "      <th>4</th>\n",
       "      <td>0</td>\n",
       "      <td>no , it be not behave at all . I be mad . why ...</td>\n",
       "    </tr>\n",
       "  </tbody>\n",
       "</table>\n",
       "</div>"
      ],
      "text/plain": [
       "   target                                               text\n",
       "0       0  $ url$ - awww , that be a bummer . you shoulda...\n",
       "1       0  be upset that he can not update his facebook b...\n",
       "2       0  I dive many time for the ball . manage to save...\n",
       "3       0      my whole body feel itchy and like its on fire\n",
       "4       0  no , it be not behave at all . I be mad . why ..."
      ]
     },
     "metadata": {},
     "output_type": "display_data"
    },
    {
     "data": {
      "text/plain": [
       "(1452791, 2)"
      ]
     },
     "metadata": {},
     "output_type": "display_data"
    },
    {
     "data": {
      "text/html": [
       "<div>\n",
       "<style scoped>\n",
       "    .dataframe tbody tr th:only-of-type {\n",
       "        vertical-align: middle;\n",
       "    }\n",
       "\n",
       "    .dataframe tbody tr th {\n",
       "        vertical-align: top;\n",
       "    }\n",
       "\n",
       "    .dataframe thead th {\n",
       "        text-align: right;\n",
       "    }\n",
       "</style>\n",
       "<table border=\"1\" class=\"dataframe\">\n",
       "  <thead>\n",
       "    <tr style=\"text-align: right;\">\n",
       "      <th></th>\n",
       "      <th>target</th>\n",
       "      <th>text</th>\n",
       "    </tr>\n",
       "  </thead>\n",
       "  <tbody>\n",
       "    <tr>\n",
       "      <th>469259</th>\n",
       "      <td>0</td>\n",
       "      <td>I do not have a background for my twitter stre...</td>\n",
       "    </tr>\n",
       "    <tr>\n",
       "      <th>152271</th>\n",
       "      <td>0</td>\n",
       "      <td>I do many thing but miss tweet</td>\n",
       "    </tr>\n",
       "    <tr>\n",
       "      <th>597612</th>\n",
       "      <td>0</td>\n",
       "      <td>most probably - eww all that pasty white skin ...</td>\n",
       "    </tr>\n",
       "    <tr>\n",
       "      <th>708306</th>\n",
       "      <td>0</td>\n",
       "      <td>ohh , how bad I sleep</td>\n",
       "    </tr>\n",
       "    <tr>\n",
       "      <th>59100</th>\n",
       "      <td>0</td>\n",
       "      <td>hell yeah u be texte I I remember , I be at my...</td>\n",
       "    </tr>\n",
       "  </tbody>\n",
       "</table>\n",
       "</div>"
      ],
      "text/plain": [
       "        target                                               text\n",
       "469259       0  I do not have a background for my twitter stre...\n",
       "152271       0                     I do many thing but miss tweet\n",
       "597612       0  most probably - eww all that pasty white skin ...\n",
       "708306       0                              ohh , how bad I sleep\n",
       "59100        0  hell yeah u be texte I I remember , I be at my..."
      ]
     },
     "metadata": {},
     "output_type": "display_data"
    },
    {
     "data": {
      "text/plain": [
       "(100000, 2)"
      ]
     },
     "metadata": {},
     "output_type": "display_data"
    }
   ],
   "source": [
    "data_work = pd.read_csv(\n",
    "    pathlib.Path(pathlib.Path().absolute(), 'data', 'data_nlp_1563108.csv'), \n",
    "    usecols=['target', 'lemmas_not_filtered'],\n",
    "    encoding='ISO-8859-1',\n",
    "    #nrows=100000,\n",
    ")\n",
    "data_work.rename(columns={'lemmas_not_filtered':'text'}, inplace=True)\n",
    "display(data_work.head(), data_work.shape)\n",
    "data_work = data_work.groupby('target', group_keys=False).apply(lambda x: x.sample(50000, random_state=random_seed))\n",
    "display(data_work.head(), data_work.shape)"
   ]
  },
  {
   "cell_type": "code",
   "execution_count": 3,
   "id": "a286ea0c-1cbd-454b-8a54-8962f03834f8",
   "metadata": {},
   "outputs": [
    {
     "data": {
      "text/plain": [
       "0    50000\n",
       "1    50000\n",
       "Name: target, dtype: int64"
      ]
     },
     "execution_count": 3,
     "metadata": {},
     "output_type": "execute_result"
    }
   ],
   "source": [
    "data_work.target.value_counts(dropna=False)"
   ]
  },
  {
   "cell_type": "code",
   "execution_count": 4,
   "id": "79b59002-7db2-46c6-9858-8c8ffecac325",
   "metadata": {
    "tags": []
   },
   "outputs": [],
   "source": [
    "def architecture001(f_opti, f_loss, f_metrics, max_tokens=20000, hidden_dim=16):\n",
    "        \n",
    "    inputs = keras.Input(shape=(max_tokens,), dtype=\"int64\")\n",
    "    \n",
    "    x = layers.Dense(hidden_dim, activation='relu')(inputs)\n",
    "    x = layers.Dropout(0.5)(x)\n",
    "    \n",
    "    predictions = layers.Dense(1, activation='sigmoid', name='predictions')(x)\n",
    "    \n",
    "    model = keras.Model(inputs, predictions)\n",
    "    model.compile(loss=f_loss, optimizer=f_opti, metrics=f_metrics)\n",
    "    \n",
    "    return model"
   ]
  },
  {
   "cell_type": "code",
   "execution_count": 45,
   "id": "a9c38c80-20ff-4a7b-8f35-67e7d403cf20",
   "metadata": {
    "tags": []
   },
   "outputs": [],
   "source": [
    "def architecture002_oh(f_opti, f_loss, f_metrics):\n",
    "        \n",
    "    inputs = keras.Input(shape=(None,), dtype=\"int64\")\n",
    "    \n",
    "    x = tf.one_hot(inputs, depth=text_vectorizationB0.vocabulary_size())\n",
    "    x = layers.Bidirectional(layers.LSTM(32))(x) # 64\n",
    "    x = layers.Dropout(0.5)(x)\n",
    "    \n",
    "    predictions = layers.Dense(1, activation='sigmoid', name='predictions')(x)\n",
    "    \n",
    "    model = keras.Model(inputs, predictions)\n",
    "    model.compile(loss=f_loss, optimizer=f_opti, metrics=f_metrics)\n",
    "    \n",
    "    return model"
   ]
  },
  {
   "cell_type": "code",
   "execution_count": 31,
   "id": "13889788-14ef-4b49-9730-b8cf6db7e59f",
   "metadata": {
    "tags": []
   },
   "outputs": [],
   "source": [
    "def architecture002(f_opti, f_loss, f_metrics, embedding):\n",
    "        \n",
    "    inputs = keras.Input(shape=(None,), dtype=\"int64\")\n",
    "    \n",
    "    x = embedding(inputs)\n",
    "    x = layers.Bidirectional(layers.LSTM(32))(x) # 64\n",
    "    x = layers.Dropout(0.5)(x)\n",
    "    \n",
    "    predictions = layers.Dense(1, activation='sigmoid', name='predictions')(x)\n",
    "    \n",
    "    model = keras.Model(inputs, predictions)\n",
    "    model.compile(loss=f_loss, optimizer=f_opti, metrics=f_metrics)\n",
    "    \n",
    "    return model"
   ]
  },
  {
   "cell_type": "code",
   "execution_count": 32,
   "id": "30b4cf8a-8cee-4efd-819c-2351f3b2b81b",
   "metadata": {},
   "outputs": [],
   "source": [
    "def architecture003(f_opti, f_loss, f_metrics, embedding):\n",
    "        \n",
    "    inputs = keras.Input(shape=(None,), dtype=\"int64\")\n",
    "    \n",
    "    x = embedding(inputs)\n",
    "    x = layers.Bidirectional(layers.LSTM(64))(x)\n",
    "    x = layers.Dense(24, activation='relu')(x)\n",
    "    \n",
    "    predictions = layers.Dense(1, activation='sigmoid', name='predictions')(x)\n",
    "    \n",
    "    model = keras.Model(inputs, predictions)\n",
    "    model.compile(loss=f_loss, optimizer=f_opti, metrics=f_metrics)\n",
    "    \n",
    "    return model"
   ]
  },
  {
   "cell_type": "code",
   "execution_count": 5,
   "id": "1223fbe9-8e24-48ed-8b64-0ce908f9eb0c",
   "metadata": {
    "tags": []
   },
   "outputs": [],
   "source": [
    "from keras import layers\n",
    "from keras.callbacks import EarlyStopping, ModelCheckpoint, Callback, ReduceLROnPlateau\n",
    "\n",
    "def init_callbacks2(model_name):\n",
    "\n",
    "    # Define savepoints\n",
    "    filepath = pathlib.Path(\"models\", f\"{model_name}.keras\")\n",
    "\n",
    "    checkpoint = ModelCheckpoint(\n",
    "        monitor=\"val_accuracy\",\n",
    "        mode=\"max\",\n",
    "        filepath=filepath,\n",
    "        save_best_only=True,\n",
    "        verbose=1,\n",
    "    )\n",
    "\n",
    "    # Define EarlyStopping conditions\n",
    "    es = EarlyStopping(\n",
    "        monitor='val_loss', # 'binary_accuracy'\n",
    "        mode='min', # 'max'\n",
    "        patience=5,\n",
    "        min_delta=0.01, \n",
    "        restore_best_weights=True, \n",
    "        verbose=1,\n",
    "    )\n",
    "    \n",
    "    return [checkpoint, es]"
   ]
  },
  {
   "cell_type": "markdown",
   "id": "f0781d8d-18b6-48d6-b8e1-78b477a6a950",
   "metadata": {},
   "source": [
    "### Divisons le jeu de données en `Train` et `Test` sets"
   ]
  },
  {
   "cell_type": "code",
   "execution_count": 95,
   "id": "b82c0e76-ce59-4288-b1c5-93415a997b72",
   "metadata": {
    "tags": []
   },
   "outputs": [],
   "source": [
    "X_train, X_test, y_train, y_test = train_test_split(data_work['text'], data_work['target'], test_size=0.2, random_state=random_seed, stratify=data_work['target'])"
   ]
  },
  {
   "cell_type": "markdown",
   "id": "d62a37fe-4b0e-452d-9a63-8479cd8e1851",
   "metadata": {
    "tags": []
   },
   "source": [
    "# Bags of words / Bag of N-gram models"
   ]
  },
  {
   "cell_type": "markdown",
   "id": "b06210e0-67cd-455f-9d57-f3e19f290818",
   "metadata": {
    "jp-MarkdownHeadingCollapsed": true,
    "tags": []
   },
   "source": [
    "## Test 0 - NN | Ngram=2 | int"
   ]
  },
  {
   "cell_type": "markdown",
   "id": "4134f2fe-96d6-4ddf-b695-12f13521c994",
   "metadata": {},
   "source": [
    "### Standardize & Tokenize"
   ]
  },
  {
   "cell_type": "code",
   "execution_count": 10,
   "id": "ec92e7ef-999b-425e-8b48-5b5e196b7966",
   "metadata": {},
   "outputs": [],
   "source": [
    "text_vectorization0 = tf.keras.layers.TextVectorization(\n",
    "    output_mode='int', # int, multi_hot, count, tf_idf\n",
    "    max_tokens=20000,\n",
    "    ngrams=2,\n",
    "    output_sequence_length=79 # search the max size by default\n",
    ")"
   ]
  },
  {
   "cell_type": "code",
   "execution_count": 11,
   "id": "1783c55f-be61-4518-8dc0-ed48485d4bb9",
   "metadata": {},
   "outputs": [],
   "source": [
    "text_vectorization0.adapt(data_work.text)"
   ]
  },
  {
   "cell_type": "code",
   "execution_count": 12,
   "id": "b18c6f2d-782a-496b-8515-5dc0f7c377d5",
   "metadata": {},
   "outputs": [
    {
     "name": "stdout",
     "output_type": "stream",
     "text": [
      "['', '[UNK]', 'i', 'be', 'to', 'the', 'a', 'not', 'my', 'and', 'it', 'you', 'have', 'do', 'for', 'in', 'i be', 'go', 'of', 'that'] ...\n"
     ]
    }
   ],
   "source": [
    "print(text_vectorization0.get_vocabulary()[:20], \"...\")"
   ]
  },
  {
   "cell_type": "markdown",
   "id": "696e26be-d4e9-49ec-8e0b-d88b599fbfc2",
   "metadata": {},
   "source": [
    "### Divisons le jeu de données en `Train` et `Test` sets"
   ]
  },
  {
   "cell_type": "raw",
   "id": "bf28bbeb-40cc-4403-b343-4f31f6a325f4",
   "metadata": {
    "tags": []
   },
   "source": [
    "X_train, X_test, y_train, y_test = train_test_split(data_work['text'], data_work['target'], test_size=0.2, random_state=random_seed)"
   ]
  },
  {
   "cell_type": "markdown",
   "id": "3b7c9503-6704-4d12-85f3-bd46b968ce03",
   "metadata": {},
   "source": [
    "### Prepare dataset"
   ]
  },
  {
   "cell_type": "code",
   "execution_count": 13,
   "id": "1ef8a7b6-d6f5-4b66-bc40-a8697e130cad",
   "metadata": {},
   "outputs": [],
   "source": [
    "X_train_ready = text_vectorization0(X_train)\n",
    "X_test_ready = text_vectorization0(X_test)"
   ]
  },
  {
   "cell_type": "code",
   "execution_count": 14,
   "id": "13c4a8a6-b479-4f62-be80-d284e697c8aa",
   "metadata": {},
   "outputs": [
    {
     "data": {
      "text/plain": [
       "206231                                       now I m bore\n",
       "1405057    watch juno ... again . its a really good movie\n",
       "Name: text, dtype: object"
      ]
     },
     "execution_count": 14,
     "metadata": {},
     "output_type": "execute_result"
    }
   ],
   "source": [
    "X_train[:2]"
   ]
  },
  {
   "cell_type": "code",
   "execution_count": 15,
   "id": "526464fe-7f50-414c-807f-0c9d4b43f213",
   "metadata": {},
   "outputs": [
    {
     "data": {
      "text/plain": [
       "<tf.Tensor: shape=(2, 79), dtype=int64, numpy=\n",
       "array([[   34,     2,    71,  1072,   231,    72, 14736,     0,     0,\n",
       "            0,     0,     0,     0,     0,     0,     0,     0,     0,\n",
       "            0,     0,     0,     0,     0,     0,     0,     0,     0,\n",
       "            0,     0,     0,     0,     0,     0,     0,     0,     0,\n",
       "            0,     0,     0,     0,     0,     0,     0,     0,     0,\n",
       "            0,     0,     0,     0,     0,     0,     0,     0,     0,\n",
       "            0,     0,     0,     0,     0,     0,     0,     0,     0,\n",
       "            0,     0,     0,     0,     0,     0,     0,     0,     0,\n",
       "            0,     0,     0,     0,     0,     0,     0],\n",
       "       [   83,     1,   134,    84,     6,    75,    30,   211,     1,\n",
       "            1,     1,  1261,  1657,  2004,  3967,     0,     0,     0,\n",
       "            0,     0,     0,     0,     0,     0,     0,     0,     0,\n",
       "            0,     0,     0,     0,     0,     0,     0,     0,     0,\n",
       "            0,     0,     0,     0,     0,     0,     0,     0,     0,\n",
       "            0,     0,     0,     0,     0,     0,     0,     0,     0,\n",
       "            0,     0,     0,     0,     0,     0,     0,     0,     0,\n",
       "            0,     0,     0,     0,     0,     0,     0,     0,     0,\n",
       "            0,     0,     0,     0,     0,     0,     0]])>"
      ]
     },
     "execution_count": 15,
     "metadata": {},
     "output_type": "execute_result"
    }
   ],
   "source": [
    "X_train_ready[:2]"
   ]
  },
  {
   "cell_type": "markdown",
   "id": "f9ed7cfb-b0b6-4d68-80ae-dd9664b5bf23",
   "metadata": {},
   "source": [
    "### Train model"
   ]
  },
  {
   "cell_type": "code",
   "execution_count": 16,
   "id": "d56858ca-0496-4880-b2a8-fc2d1e81c079",
   "metadata": {},
   "outputs": [],
   "source": [
    "model = architecture001(\"adam\", \"binary_crossentropy\", ['accuracy'], X_train_ready[:0].shape[1])"
   ]
  },
  {
   "cell_type": "code",
   "execution_count": 17,
   "id": "34b9e509-a0e4-4081-ab5f-f96827824d62",
   "metadata": {},
   "outputs": [
    {
     "name": "stdout",
     "output_type": "stream",
     "text": [
      "Model: \"model\"\n",
      "_________________________________________________________________\n",
      " Layer (type)                Output Shape              Param #   \n",
      "=================================================================\n",
      " input_1 (InputLayer)        [(None, 79)]              0         \n",
      "                                                                 \n",
      " dense (Dense)               (None, 16)                1280      \n",
      "                                                                 \n",
      " dropout (Dropout)           (None, 16)                0         \n",
      "                                                                 \n",
      " predictions (Dense)         (None, 1)                 17        \n",
      "                                                                 \n",
      "=================================================================\n",
      "Total params: 1,297\n",
      "Trainable params: 1,297\n",
      "Non-trainable params: 0\n",
      "_________________________________________________________________\n"
     ]
    }
   ],
   "source": [
    "model.summary()"
   ]
  },
  {
   "cell_type": "code",
   "execution_count": 18,
   "id": "492f706d-706f-4486-ac12-608563325b0f",
   "metadata": {},
   "outputs": [
    {
     "data": {
      "text/plain": [
       "TensorShape([80000, 79])"
      ]
     },
     "execution_count": 18,
     "metadata": {},
     "output_type": "execute_result"
    }
   ],
   "source": [
    "X_train_ready.shape"
   ]
  },
  {
   "cell_type": "code",
   "execution_count": 19,
   "id": "84aa5808-bd90-4c91-b3cf-3d8da8ff0e85",
   "metadata": {},
   "outputs": [
    {
     "data": {
      "text/plain": [
       "TensorShape([20000, 79])"
      ]
     },
     "execution_count": 19,
     "metadata": {},
     "output_type": "execute_result"
    }
   ],
   "source": [
    "X_test_ready.shape"
   ]
  },
  {
   "cell_type": "code",
   "execution_count": 20,
   "id": "63ef1ccf-56d8-42b3-bf57-e3420c9883b3",
   "metadata": {},
   "outputs": [
    {
     "name": "stdout",
     "output_type": "stream",
     "text": [
      "Epoch 1/50\n",
      "311/313 [============================>.] - ETA: 0s - loss: 402.9994 - accuracy: 0.5019\n",
      "Epoch 1: val_accuracy improved from -inf to 0.50215, saving model to models/MINI_TESTS_00.keras\n",
      "313/313 [==============================] - 1s 3ms/step - loss: 401.2412 - accuracy: 0.5021 - val_loss: 31.0522 - val_accuracy: 0.5021\n",
      "Epoch 2/50\n",
      "311/313 [============================>.] - ETA: 0s - loss: 12.1510 - accuracy: 0.5025\n",
      "Epoch 2: val_accuracy did not improve from 0.50215\n",
      "313/313 [==============================] - 1s 2ms/step - loss: 12.0973 - accuracy: 0.5027 - val_loss: 3.2959 - val_accuracy: 0.4990\n",
      "Epoch 3/50\n",
      "299/313 [===========================>..] - ETA: 0s - loss: 2.2541 - accuracy: 0.5031\n",
      "Epoch 3: val_accuracy did not improve from 0.50215\n",
      "313/313 [==============================] - 1s 2ms/step - loss: 2.2152 - accuracy: 0.5026 - val_loss: 1.4084 - val_accuracy: 0.5004\n",
      "Epoch 4/50\n",
      "305/313 [============================>.] - ETA: 0s - loss: 1.1983 - accuracy: 0.5021\n",
      "Epoch 4: val_accuracy improved from 0.50215 to 0.50310, saving model to models/MINI_TESTS_00.keras\n",
      "313/313 [==============================] - 1s 2ms/step - loss: 1.1929 - accuracy: 0.5024 - val_loss: 1.0613 - val_accuracy: 0.5031\n",
      "Epoch 5/50\n",
      "313/313 [==============================] - ETA: 0s - loss: 0.9672 - accuracy: 0.5046\n",
      "Epoch 5: val_accuracy improved from 0.50310 to 0.51220, saving model to models/MINI_TESTS_00.keras\n",
      "313/313 [==============================] - 1s 2ms/step - loss: 0.9672 - accuracy: 0.5046 - val_loss: 0.8928 - val_accuracy: 0.5122\n",
      "Epoch 6/50\n",
      "309/313 [============================>.] - ETA: 0s - loss: 0.8665 - accuracy: 0.5004\n",
      "Epoch 6: val_accuracy did not improve from 0.51220\n",
      "313/313 [==============================] - 1s 2ms/step - loss: 0.8656 - accuracy: 0.5006 - val_loss: 0.8338 - val_accuracy: 0.5023\n",
      "Epoch 7/50\n",
      "305/313 [============================>.] - ETA: 0s - loss: 0.8110 - accuracy: 0.5002\n",
      "Epoch 7: val_accuracy did not improve from 0.51220\n",
      "313/313 [==============================] - 1s 2ms/step - loss: 0.8090 - accuracy: 0.4997 - val_loss: 0.7794 - val_accuracy: 0.4963\n",
      "Epoch 8/50\n",
      "306/313 [============================>.] - ETA: 0s - loss: 0.7848 - accuracy: 0.4985\n",
      "Epoch 8: val_accuracy did not improve from 0.51220\n",
      "313/313 [==============================] - 1s 2ms/step - loss: 0.7836 - accuracy: 0.4984 - val_loss: 0.7429 - val_accuracy: 0.4931\n",
      "Epoch 9/50\n",
      "300/313 [===========================>..] - ETA: 0s - loss: 0.7510 - accuracy: 0.4986\n",
      "Epoch 9: val_accuracy did not improve from 0.51220\n",
      "313/313 [==============================] - 1s 2ms/step - loss: 0.7495 - accuracy: 0.4987 - val_loss: 0.7134 - val_accuracy: 0.4988\n",
      "Epoch 10/50\n",
      "299/313 [===========================>..] - ETA: 0s - loss: 0.7273 - accuracy: 0.5054\n",
      "Epoch 10: val_accuracy did not improve from 0.51220\n",
      "313/313 [==============================] - 1s 2ms/step - loss: 0.7288 - accuracy: 0.5053 - val_loss: 0.7385 - val_accuracy: 0.4960\n",
      "Epoch 11/50\n",
      "303/313 [============================>.] - ETA: 0s - loss: 0.7198 - accuracy: 0.4985\n",
      "Epoch 11: val_accuracy did not improve from 0.51220\n",
      "313/313 [==============================] - 1s 2ms/step - loss: 0.7195 - accuracy: 0.4984 - val_loss: 0.7207 - val_accuracy: 0.4933\n",
      "Epoch 12/50\n",
      "309/313 [============================>.] - ETA: 0s - loss: 0.7208 - accuracy: 0.4956\n",
      "Epoch 12: val_accuracy did not improve from 0.51220\n",
      "313/313 [==============================] - 1s 2ms/step - loss: 0.7206 - accuracy: 0.4954 - val_loss: 0.7106 - val_accuracy: 0.4999\n",
      "Epoch 13/50\n",
      "290/313 [==========================>...] - ETA: 0s - loss: 0.7141 - accuracy: 0.4983\n",
      "Epoch 13: val_accuracy did not improve from 0.51220\n",
      "313/313 [==============================] - 1s 2ms/step - loss: 0.7140 - accuracy: 0.4983 - val_loss: 0.7075 - val_accuracy: 0.5020\n",
      "Epoch 14/50\n",
      "306/313 [============================>.] - ETA: 0s - loss: 0.7104 - accuracy: 0.5007\n",
      "Epoch 14: val_accuracy did not improve from 0.51220\n",
      "Restoring model weights from the end of the best epoch: 9.\n",
      "313/313 [==============================] - 1s 2ms/step - loss: 0.7103 - accuracy: 0.5003 - val_loss: 0.7119 - val_accuracy: 0.4959\n",
      "Epoch 14: early stopping\n"
     ]
    }
   ],
   "source": [
    "batch_size = 256\n",
    "history = model.fit(\n",
    "        x=X_train_ready, y=y_train, \n",
    "        validation_data=(X_test_ready, y_test), \n",
    "        epochs=50, \n",
    "        batch_size=batch_size, \n",
    "        callbacks=init_callbacks2(f\"MINI_TESTS_00\"),\n",
    "        verbose=1,\n",
    ")"
   ]
  },
  {
   "cell_type": "code",
   "execution_count": 21,
   "id": "88b4a7cc-2105-4ae7-a825-525d90563ae8",
   "metadata": {},
   "outputs": [],
   "source": [
    "model = keras.models.load_model(\"models/MINI_TESTS_00.keras\")"
   ]
  },
  {
   "cell_type": "code",
   "execution_count": 22,
   "id": "6e7fdf83-e001-468a-b575-b217942ebeb7",
   "metadata": {},
   "outputs": [
    {
     "name": "stdout",
     "output_type": "stream",
     "text": [
      "625/625 [==============================] - 1s 1ms/step - loss: 0.8928 - accuracy: 0.5122\n"
     ]
    },
    {
     "data": {
      "text/plain": [
       "[0.8927728533744812, 0.5121999979019165]"
      ]
     },
     "execution_count": 22,
     "metadata": {},
     "output_type": "execute_result"
    }
   ],
   "source": [
    "model.evaluate(X_test_ready, y_test)"
   ]
  },
  {
   "cell_type": "markdown",
   "id": "f0998d80-a291-4f8b-9ba2-0c315593ffa0",
   "metadata": {
    "jp-MarkdownHeadingCollapsed": true,
    "tags": []
   },
   "source": [
    "## Test 1 - NN | Ngram=1 | multi_hot"
   ]
  },
  {
   "cell_type": "markdown",
   "id": "edffa8f4-1800-49cc-bcba-9177d9c9dd0d",
   "metadata": {},
   "source": [
    "### Standardize & Tokenize"
   ]
  },
  {
   "cell_type": "code",
   "execution_count": 23,
   "id": "7b7bbaee-f004-45de-9717-76bea4053eb8",
   "metadata": {},
   "outputs": [],
   "source": [
    "text_vectorization1 = tf.keras.layers.TextVectorization(\n",
    "    output_mode='multi_hot', # int, multi_hot, count, tf_idf\n",
    "    max_tokens=20000,\n",
    "    ngrams=1,\n",
    "    # output_sequence_length=60 # search the max size by default\n",
    ")"
   ]
  },
  {
   "cell_type": "code",
   "execution_count": 24,
   "id": "f51e171a-f2cb-4ac3-9029-621aa17f7c2d",
   "metadata": {},
   "outputs": [],
   "source": [
    "text_vectorization1.adapt(data_work.text)"
   ]
  },
  {
   "cell_type": "code",
   "execution_count": 25,
   "id": "998c2dd6-4510-4ad4-b526-6ba6725a9f2b",
   "metadata": {},
   "outputs": [
    {
     "name": "stdout",
     "output_type": "stream",
     "text": [
      "['[UNK]', 'i', 'be', 'to', 'the', 'a', 'not', 'my', 'and', 'it', 'you', 'have', 'do', 'for', 'in', 'go', 'of', 'that', 'get', 'on'] ...\n"
     ]
    }
   ],
   "source": [
    "print(text_vectorization1.get_vocabulary()[:20], \"...\")"
   ]
  },
  {
   "cell_type": "markdown",
   "id": "4bf75e7e-782a-4003-a5c5-d75fae444d10",
   "metadata": {},
   "source": [
    "### Prepare dataset"
   ]
  },
  {
   "cell_type": "code",
   "execution_count": 26,
   "id": "fa709ec5-2364-43d1-b4f6-8b35f357af9f",
   "metadata": {},
   "outputs": [
    {
     "name": "stderr",
     "output_type": "stream",
     "text": [
      "2022-08-04 18:27:05.773784: W tensorflow/core/framework/cpu_allocator_impl.cc:82] Allocation of 6400000000 exceeds 10% of free system memory.\n",
      "2022-08-04 18:27:06.491803: W tensorflow/core/framework/cpu_allocator_impl.cc:82] Allocation of 1600000000 exceeds 10% of free system memory.\n"
     ]
    }
   ],
   "source": [
    "X_train_ready = text_vectorization1(X_train)\n",
    "X_test_ready = text_vectorization1(X_test)"
   ]
  },
  {
   "cell_type": "code",
   "execution_count": 27,
   "id": "75bab713-d499-45ec-9789-56b0a76aaba9",
   "metadata": {},
   "outputs": [
    {
     "data": {
      "text/plain": [
       "206231                                       now I m bore\n",
       "1405057    watch juno ... again . its a really good movie\n",
       "Name: text, dtype: object"
      ]
     },
     "execution_count": 27,
     "metadata": {},
     "output_type": "execute_result"
    }
   ],
   "source": [
    "X_train[:2]"
   ]
  },
  {
   "cell_type": "code",
   "execution_count": 28,
   "id": "ee500279-c64a-4ccb-9e30-3916711ed977",
   "metadata": {},
   "outputs": [
    {
     "data": {
      "text/plain": [
       "<tf.Tensor: shape=(2, 20000), dtype=float32, numpy=\n",
       "array([[0., 1., 0., ..., 0., 0., 0.],\n",
       "       [0., 0., 0., ..., 0., 0., 0.]], dtype=float32)>"
      ]
     },
     "execution_count": 28,
     "metadata": {},
     "output_type": "execute_result"
    }
   ],
   "source": [
    "X_train_ready[:2]"
   ]
  },
  {
   "cell_type": "markdown",
   "id": "e25226d7-28a0-4123-a690-4515f6ac55ea",
   "metadata": {},
   "source": [
    "### Train model"
   ]
  },
  {
   "cell_type": "code",
   "execution_count": 29,
   "id": "907f4b9f-5bc0-4071-a9a8-cca85ba460dd",
   "metadata": {},
   "outputs": [],
   "source": [
    "model = architecture001(\"adam\", \"binary_crossentropy\", ['accuracy'], X_train_ready[:0].shape[1])"
   ]
  },
  {
   "cell_type": "code",
   "execution_count": 30,
   "id": "4c780f91-9cae-40fe-b7c5-b9f59aeb22bd",
   "metadata": {},
   "outputs": [
    {
     "name": "stdout",
     "output_type": "stream",
     "text": [
      "Model: \"model_1\"\n",
      "_________________________________________________________________\n",
      " Layer (type)                Output Shape              Param #   \n",
      "=================================================================\n",
      " input_2 (InputLayer)        [(None, 20000)]           0         \n",
      "                                                                 \n",
      " dense_1 (Dense)             (None, 16)                320016    \n",
      "                                                                 \n",
      " dropout_1 (Dropout)         (None, 16)                0         \n",
      "                                                                 \n",
      " predictions (Dense)         (None, 1)                 17        \n",
      "                                                                 \n",
      "=================================================================\n",
      "Total params: 320,033\n",
      "Trainable params: 320,033\n",
      "Non-trainable params: 0\n",
      "_________________________________________________________________\n"
     ]
    }
   ],
   "source": [
    "model.summary()"
   ]
  },
  {
   "cell_type": "code",
   "execution_count": 31,
   "id": "8a7a6093-12f7-4bf4-be4c-2e3eb28e4c93",
   "metadata": {},
   "outputs": [
    {
     "data": {
      "text/plain": [
       "TensorShape([80000, 20000])"
      ]
     },
     "execution_count": 31,
     "metadata": {},
     "output_type": "execute_result"
    }
   ],
   "source": [
    "X_train_ready.shape"
   ]
  },
  {
   "cell_type": "code",
   "execution_count": 32,
   "id": "c2291bd5-2456-4502-bfb7-e99d853b5a45",
   "metadata": {},
   "outputs": [
    {
     "name": "stdout",
     "output_type": "stream",
     "text": [
      "Epoch 1/50\n",
      "311/313 [============================>.] - ETA: 0s - loss: 0.5754 - accuracy: 0.7238\n",
      "Epoch 1: val_accuracy improved from -inf to 0.77200, saving model to models/MINI_TESTS_01.keras\n",
      "313/313 [==============================] - 9s 27ms/step - loss: 0.5752 - accuracy: 0.7239 - val_loss: 0.5018 - val_accuracy: 0.7720\n",
      "Epoch 2/50\n",
      "312/313 [============================>.] - ETA: 0s - loss: 0.4838 - accuracy: 0.7828\n",
      "Epoch 2: val_accuracy improved from 0.77200 to 0.77960, saving model to models/MINI_TESTS_01.keras\n",
      "313/313 [==============================] - 8s 27ms/step - loss: 0.4839 - accuracy: 0.7828 - val_loss: 0.4750 - val_accuracy: 0.7796\n",
      "Epoch 3/50\n",
      "311/313 [============================>.] - ETA: 0s - loss: 0.4505 - accuracy: 0.8004\n",
      "Epoch 3: val_accuracy improved from 0.77960 to 0.78265, saving model to models/MINI_TESTS_01.keras\n",
      "313/313 [==============================] - 8s 27ms/step - loss: 0.4505 - accuracy: 0.8003 - val_loss: 0.4675 - val_accuracy: 0.7826\n",
      "Epoch 4/50\n",
      "313/313 [==============================] - ETA: 0s - loss: 0.4281 - accuracy: 0.8138\n",
      "Epoch 4: val_accuracy improved from 0.78265 to 0.78310, saving model to models/MINI_TESTS_01.keras\n",
      "313/313 [==============================] - 8s 27ms/step - loss: 0.4281 - accuracy: 0.8138 - val_loss: 0.4667 - val_accuracy: 0.7831\n",
      "Epoch 5/50\n",
      "312/313 [============================>.] - ETA: 0s - loss: 0.4085 - accuracy: 0.8221\n",
      "Epoch 5: val_accuracy did not improve from 0.78310\n",
      "313/313 [==============================] - 8s 26ms/step - loss: 0.4086 - accuracy: 0.8220 - val_loss: 0.4700 - val_accuracy: 0.7803\n",
      "Epoch 6/50\n",
      "311/313 [============================>.] - ETA: 0s - loss: 0.3932 - accuracy: 0.8296\n",
      "Epoch 6: val_accuracy did not improve from 0.78310\n",
      "313/313 [==============================] - 8s 26ms/step - loss: 0.3933 - accuracy: 0.8295 - val_loss: 0.4749 - val_accuracy: 0.7788\n",
      "Epoch 7/50\n",
      "313/313 [==============================] - ETA: 0s - loss: 0.3798 - accuracy: 0.8346\n",
      "Epoch 7: val_accuracy did not improve from 0.78310\n",
      "Restoring model weights from the end of the best epoch: 2.\n",
      "313/313 [==============================] - 8s 26ms/step - loss: 0.3798 - accuracy: 0.8346 - val_loss: 0.4832 - val_accuracy: 0.7782\n",
      "Epoch 7: early stopping\n"
     ]
    }
   ],
   "source": [
    "batch_size = 256\n",
    "history = model.fit(\n",
    "        x=X_train_ready, y=y_train, \n",
    "        validation_data=(X_test_ready, y_test), \n",
    "        epochs=50, \n",
    "        batch_size=batch_size, \n",
    "        callbacks=init_callbacks2(f\"MINI_TESTS_01\"),\n",
    "        verbose=1,\n",
    ")"
   ]
  },
  {
   "cell_type": "code",
   "execution_count": 33,
   "id": "1c3b9ea0-dcc6-46ea-afcf-7513b71563aa",
   "metadata": {},
   "outputs": [],
   "source": [
    "model = keras.models.load_model(\"models/MINI_TESTS_01.keras\")"
   ]
  },
  {
   "cell_type": "code",
   "execution_count": 34,
   "id": "4348becf-0cfb-475c-8b6f-86ce30db682d",
   "metadata": {},
   "outputs": [
    {
     "name": "stdout",
     "output_type": "stream",
     "text": [
      "625/625 [==============================] - 2s 3ms/step - loss: 0.4667 - accuracy: 0.7831\n"
     ]
    },
    {
     "data": {
      "text/plain": [
       "[0.46671512722969055, 0.7831000089645386]"
      ]
     },
     "execution_count": 34,
     "metadata": {},
     "output_type": "execute_result"
    }
   ],
   "source": [
    "model.evaluate(X_test_ready, y_test)"
   ]
  },
  {
   "cell_type": "markdown",
   "id": "5f50fb8e-3d16-4649-8761-71fde76977b3",
   "metadata": {
    "jp-MarkdownHeadingCollapsed": true,
    "tags": []
   },
   "source": [
    "## Test 2 - NN | Ngram=2 | multi_hot"
   ]
  },
  {
   "cell_type": "markdown",
   "id": "f16d3bd6-f98d-4c21-bc45-718bae3f4e28",
   "metadata": {},
   "source": [
    "### Standardize & Tokenize"
   ]
  },
  {
   "cell_type": "code",
   "execution_count": 35,
   "id": "1ae4f89f-3634-4a84-ad7c-ecee77afae57",
   "metadata": {},
   "outputs": [],
   "source": [
    "text_vectorization2 = tf.keras.layers.TextVectorization(\n",
    "    output_mode='multi_hot', # int, multi_hot, count, tf_idf\n",
    "    max_tokens=20000,\n",
    "    ngrams=2,\n",
    "    # output_sequence_length=60 # search the max size by default\n",
    ")"
   ]
  },
  {
   "cell_type": "code",
   "execution_count": 36,
   "id": "bc5945b6-718f-46e1-a9ab-af365fdd9240",
   "metadata": {},
   "outputs": [],
   "source": [
    "text_vectorization2.adapt(data_work.text)"
   ]
  },
  {
   "cell_type": "code",
   "execution_count": 37,
   "id": "3509b6d4-2eaa-4d2b-a0cd-64dbd80aad3f",
   "metadata": {},
   "outputs": [
    {
     "name": "stdout",
     "output_type": "stream",
     "text": [
      "['[UNK]', 'i', 'be', 'to', 'the', 'a', 'not', 'my', 'and', 'it', 'you', 'have', 'do', 'for', 'in', 'i be', 'go', 'of', 'that', 'get'] ...\n"
     ]
    }
   ],
   "source": [
    "print(text_vectorization2.get_vocabulary()[:20], \"...\")"
   ]
  },
  {
   "cell_type": "markdown",
   "id": "2c561cd9-fbc4-4fe7-8e1a-39a30d2da6f6",
   "metadata": {},
   "source": [
    "### Divisons le jeu de données en `Train` et `Test` sets"
   ]
  },
  {
   "cell_type": "raw",
   "id": "d19ff7fd-3529-4662-9e69-4d3339266d7f",
   "metadata": {
    "tags": []
   },
   "source": [
    "X_train, X_test, y_train, y_test = train_test_split(data_work['text'], data_work['target'], test_size=0.2, random_state=random_seed)"
   ]
  },
  {
   "cell_type": "markdown",
   "id": "7b85abde-3de6-4219-ac7c-ffb60367e833",
   "metadata": {},
   "source": [
    "### Prepare dataset"
   ]
  },
  {
   "cell_type": "code",
   "execution_count": 38,
   "id": "a9059484-5f78-4df7-9107-609cdcdf9bfe",
   "metadata": {},
   "outputs": [
    {
     "name": "stderr",
     "output_type": "stream",
     "text": [
      "2022-08-04 18:28:28.220769: W tensorflow/core/framework/cpu_allocator_impl.cc:82] Allocation of 6400000000 exceeds 10% of free system memory.\n",
      "2022-08-04 18:29:20.499922: W tensorflow/core/framework/cpu_allocator_impl.cc:82] Allocation of 1600000000 exceeds 10% of free system memory.\n"
     ]
    }
   ],
   "source": [
    "X_train_ready = text_vectorization2(X_train)\n",
    "X_test_ready = text_vectorization2(X_test)"
   ]
  },
  {
   "cell_type": "code",
   "execution_count": 39,
   "id": "236f19a0-0d84-45c1-9aa3-ea8844019e98",
   "metadata": {},
   "outputs": [
    {
     "data": {
      "text/plain": [
       "206231                                       now I m bore\n",
       "1405057    watch juno ... again . its a really good movie\n",
       "Name: text, dtype: object"
      ]
     },
     "execution_count": 39,
     "metadata": {},
     "output_type": "execute_result"
    }
   ],
   "source": [
    "X_train[:2]"
   ]
  },
  {
   "cell_type": "code",
   "execution_count": 40,
   "id": "f4509288-f028-4450-96c4-3261df4186aa",
   "metadata": {},
   "outputs": [
    {
     "data": {
      "text/plain": [
       "<tf.Tensor: shape=(2, 20000), dtype=float32, numpy=\n",
       "array([[0., 1., 0., ..., 0., 0., 0.],\n",
       "       [1., 0., 0., ..., 0., 0., 0.]], dtype=float32)>"
      ]
     },
     "execution_count": 40,
     "metadata": {},
     "output_type": "execute_result"
    }
   ],
   "source": [
    "X_train_ready[:2]"
   ]
  },
  {
   "cell_type": "markdown",
   "id": "c8dd27ad-9747-401c-94e4-804c7fa17a99",
   "metadata": {},
   "source": [
    "### Train model"
   ]
  },
  {
   "cell_type": "code",
   "execution_count": 41,
   "id": "393d419b-536f-4581-8c43-7c3443c35e9a",
   "metadata": {},
   "outputs": [],
   "source": [
    "model = architecture001(\"adam\", \"binary_crossentropy\", ['accuracy'], X_train_ready[:0].shape[1])"
   ]
  },
  {
   "cell_type": "code",
   "execution_count": 42,
   "id": "a819657c-1bc2-4841-baec-4152982f7468",
   "metadata": {},
   "outputs": [
    {
     "name": "stdout",
     "output_type": "stream",
     "text": [
      "Model: \"model_2\"\n",
      "_________________________________________________________________\n",
      " Layer (type)                Output Shape              Param #   \n",
      "=================================================================\n",
      " input_3 (InputLayer)        [(None, 20000)]           0         \n",
      "                                                                 \n",
      " dense_2 (Dense)             (None, 16)                320016    \n",
      "                                                                 \n",
      " dropout_2 (Dropout)         (None, 16)                0         \n",
      "                                                                 \n",
      " predictions (Dense)         (None, 1)                 17        \n",
      "                                                                 \n",
      "=================================================================\n",
      "Total params: 320,033\n",
      "Trainable params: 320,033\n",
      "Non-trainable params: 0\n",
      "_________________________________________________________________\n"
     ]
    }
   ],
   "source": [
    "model.summary()"
   ]
  },
  {
   "cell_type": "code",
   "execution_count": 43,
   "id": "27a798b1-431b-4817-ad68-48721a0b46fd",
   "metadata": {},
   "outputs": [
    {
     "data": {
      "text/plain": [
       "TensorShape([80000, 20000])"
      ]
     },
     "execution_count": 43,
     "metadata": {},
     "output_type": "execute_result"
    }
   ],
   "source": [
    "X_train_ready.shape"
   ]
  },
  {
   "cell_type": "code",
   "execution_count": 44,
   "id": "0df54ba1-f072-4094-a5a6-cca2147787e2",
   "metadata": {},
   "outputs": [
    {
     "name": "stdout",
     "output_type": "stream",
     "text": [
      "Epoch 1/50\n",
      "311/313 [============================>.] - ETA: 0s - loss: 0.5554 - accuracy: 0.7388\n",
      "Epoch 1: val_accuracy improved from -inf to 0.78690, saving model to models/MINI_TESTS_02.keras\n",
      "313/313 [==============================] - 13s 32ms/step - loss: 0.5551 - accuracy: 0.7390 - val_loss: 0.4797 - val_accuracy: 0.7869\n",
      "Epoch 2/50\n",
      "313/313 [==============================] - ETA: 0s - loss: 0.4511 - accuracy: 0.8037\n",
      "Epoch 2: val_accuracy improved from 0.78690 to 0.79545, saving model to models/MINI_TESTS_02.keras\n",
      "313/313 [==============================] - 11s 35ms/step - loss: 0.4511 - accuracy: 0.8037 - val_loss: 0.4546 - val_accuracy: 0.7954\n",
      "Epoch 3/50\n",
      "312/313 [============================>.] - ETA: 0s - loss: 0.4080 - accuracy: 0.8263\n",
      "Epoch 3: val_accuracy did not improve from 0.79545\n",
      "313/313 [==============================] - 10s 32ms/step - loss: 0.4080 - accuracy: 0.8263 - val_loss: 0.4501 - val_accuracy: 0.7952\n",
      "Epoch 4/50\n",
      "311/313 [============================>.] - ETA: 0s - loss: 0.3781 - accuracy: 0.8401\n",
      "Epoch 4: val_accuracy did not improve from 0.79545\n",
      "313/313 [==============================] - 11s 36ms/step - loss: 0.3778 - accuracy: 0.8403 - val_loss: 0.4543 - val_accuracy: 0.7952\n",
      "Epoch 5/50\n",
      "311/313 [============================>.] - ETA: 0s - loss: 0.3521 - accuracy: 0.8519\n",
      "Epoch 5: val_accuracy did not improve from 0.79545\n",
      "313/313 [==============================] - 9s 28ms/step - loss: 0.3524 - accuracy: 0.8517 - val_loss: 0.4653 - val_accuracy: 0.7911\n",
      "Epoch 6/50\n",
      "313/313 [==============================] - ETA: 0s - loss: 0.3310 - accuracy: 0.8622\n",
      "Epoch 6: val_accuracy did not improve from 0.79545\n",
      "313/313 [==============================] - 9s 28ms/step - loss: 0.3310 - accuracy: 0.8622 - val_loss: 0.4761 - val_accuracy: 0.7887\n",
      "Epoch 7/50\n",
      "311/313 [============================>.] - ETA: 0s - loss: 0.3118 - accuracy: 0.8701\n",
      "Epoch 7: val_accuracy did not improve from 0.79545\n",
      "Restoring model weights from the end of the best epoch: 2.\n",
      "313/313 [==============================] - 8s 26ms/step - loss: 0.3119 - accuracy: 0.8700 - val_loss: 0.4944 - val_accuracy: 0.7885\n",
      "Epoch 7: early stopping\n"
     ]
    }
   ],
   "source": [
    "batch_size = 256\n",
    "history = model.fit(\n",
    "        x=X_train_ready, y=y_train, \n",
    "        validation_data=(X_test_ready, y_test), \n",
    "        epochs=50, \n",
    "        batch_size=batch_size, \n",
    "        callbacks=init_callbacks2(f\"MINI_TESTS_02\"),\n",
    "        verbose=1,\n",
    ")"
   ]
  },
  {
   "cell_type": "code",
   "execution_count": 45,
   "id": "3521ef37-2d61-4b60-a4eb-951fe7393b48",
   "metadata": {},
   "outputs": [],
   "source": [
    "model = keras.models.load_model(\"models/MINI_TESTS_02.keras\")"
   ]
  },
  {
   "cell_type": "code",
   "execution_count": 46,
   "id": "06233663-ec55-488e-ae89-712f9e2a6648",
   "metadata": {},
   "outputs": [
    {
     "name": "stdout",
     "output_type": "stream",
     "text": [
      "625/625 [==============================] - 2s 3ms/step - loss: 0.4546 - accuracy: 0.7954\n"
     ]
    },
    {
     "data": {
      "text/plain": [
       "[0.45460328459739685, 0.79544997215271]"
      ]
     },
     "execution_count": 46,
     "metadata": {},
     "output_type": "execute_result"
    }
   ],
   "source": [
    "model.evaluate(X_test_ready, y_test)"
   ]
  },
  {
   "cell_type": "markdown",
   "id": "9b44e0f6-9b49-402f-bd03-564d726a2356",
   "metadata": {
    "jp-MarkdownHeadingCollapsed": true,
    "tags": []
   },
   "source": [
    "## Test 3 - NN | Ngram=2 | count"
   ]
  },
  {
   "cell_type": "markdown",
   "id": "be78b0ae-a5c4-4055-b367-b34247fb76be",
   "metadata": {},
   "source": [
    "### Standardize & Tokenize"
   ]
  },
  {
   "cell_type": "code",
   "execution_count": 7,
   "id": "ecb152b5-2a68-4970-b30e-dace3e6ad1eb",
   "metadata": {},
   "outputs": [
    {
     "name": "stderr",
     "output_type": "stream",
     "text": [
      "2022-08-04 18:32:26.281428: W tensorflow/stream_executor/platform/default/dso_loader.cc:64] Could not load dynamic library 'libcuda.so.1'; dlerror: libcuda.so.1: cannot open shared object file: No such file or directory\n",
      "2022-08-04 18:32:26.281468: W tensorflow/stream_executor/cuda/cuda_driver.cc:269] failed call to cuInit: UNKNOWN ERROR (303)\n",
      "2022-08-04 18:32:26.281493: I tensorflow/stream_executor/cuda/cuda_diagnostics.cc:156] kernel driver does not appear to be running on this host (valkea-XPS): /proc/driver/nvidia/version does not exist\n",
      "2022-08-04 18:32:26.282044: I tensorflow/core/platform/cpu_feature_guard.cc:193] This TensorFlow binary is optimized with oneAPI Deep Neural Network Library (oneDNN) to use the following CPU instructions in performance-critical operations:  AVX2 FMA\n",
      "To enable them in other operations, rebuild TensorFlow with the appropriate compiler flags.\n"
     ]
    }
   ],
   "source": [
    "text_vectorization3 = tf.keras.layers.TextVectorization(\n",
    "    output_mode='count', # int, multi_hot, count, tf_idf\n",
    "    max_tokens=20000,\n",
    "    ngrams=2,\n",
    "    # output_sequence_length=60 # search the max size by default\n",
    ")"
   ]
  },
  {
   "cell_type": "code",
   "execution_count": 8,
   "id": "e794cfc7-6483-4b8a-bc93-6fdeb1e683f9",
   "metadata": {},
   "outputs": [],
   "source": [
    "text_vectorization3.adapt(data_work.text)"
   ]
  },
  {
   "cell_type": "code",
   "execution_count": 9,
   "id": "6c1cd28f-ee6c-49d1-919e-3793010de9d0",
   "metadata": {},
   "outputs": [
    {
     "name": "stdout",
     "output_type": "stream",
     "text": [
      "['[UNK]', 'i', 'be', 'to', 'the', 'a', 'not', 'my', 'and', 'it', 'you', 'have', 'do', 'for', 'in', 'i be', 'go', 'of', 'that', 'get'] ...\n"
     ]
    }
   ],
   "source": [
    "print(text_vectorization3.get_vocabulary()[:20], \"...\")"
   ]
  },
  {
   "cell_type": "markdown",
   "id": "88cd477b-213d-4a47-961d-e7ce04915a61",
   "metadata": {},
   "source": [
    "### Divisons le jeu de données en `Train` et `Test` sets"
   ]
  },
  {
   "cell_type": "raw",
   "id": "7c121949-e4c0-4299-98d1-2f1f13121fb2",
   "metadata": {
    "tags": []
   },
   "source": [
    "X_train, X_test, y_train, y_test = train_test_split(data_work['text'], data_work['target'], test_size=0.2, random_state=random_seed)"
   ]
  },
  {
   "cell_type": "markdown",
   "id": "81a1e959-ecd1-44a5-b35b-d7d9f58879f5",
   "metadata": {},
   "source": [
    "### Prepare dataset"
   ]
  },
  {
   "cell_type": "code",
   "execution_count": 10,
   "id": "3ce278ef-8852-439f-9c4f-dd678ecc772f",
   "metadata": {},
   "outputs": [
    {
     "name": "stderr",
     "output_type": "stream",
     "text": [
      "2022-08-04 18:32:33.482820: W tensorflow/core/framework/cpu_allocator_impl.cc:82] Allocation of 6400000000 exceeds 10% of free system memory.\n",
      "2022-08-04 18:32:34.235963: W tensorflow/core/framework/cpu_allocator_impl.cc:82] Allocation of 1600000000 exceeds 10% of free system memory.\n"
     ]
    }
   ],
   "source": [
    "X_train_ready = text_vectorization3(X_train)\n",
    "X_test_ready = text_vectorization3(X_test)"
   ]
  },
  {
   "cell_type": "code",
   "execution_count": 11,
   "id": "0564339e-5263-4f8a-8741-66dd7bcb55c1",
   "metadata": {},
   "outputs": [
    {
     "data": {
      "text/plain": [
       "206231                                       now I m bore\n",
       "1405057    watch juno ... again . its a really good movie\n",
       "Name: text, dtype: object"
      ]
     },
     "execution_count": 11,
     "metadata": {},
     "output_type": "execute_result"
    }
   ],
   "source": [
    "X_train[:2]"
   ]
  },
  {
   "cell_type": "code",
   "execution_count": 12,
   "id": "ddc9a120-9213-4af8-9bb3-213b62eabc78",
   "metadata": {},
   "outputs": [
    {
     "data": {
      "text/plain": [
       "<tf.Tensor: shape=(2, 20000), dtype=float32, numpy=\n",
       "array([[0., 1., 0., ..., 0., 0., 0.],\n",
       "       [4., 0., 0., ..., 0., 0., 0.]], dtype=float32)>"
      ]
     },
     "execution_count": 12,
     "metadata": {},
     "output_type": "execute_result"
    }
   ],
   "source": [
    "X_train_ready[:2]"
   ]
  },
  {
   "cell_type": "markdown",
   "id": "fea5f14e-68c7-4c90-8a2e-5a417dd55be7",
   "metadata": {},
   "source": [
    "### Train model"
   ]
  },
  {
   "cell_type": "code",
   "execution_count": 13,
   "id": "e585454d-f3bd-44e1-88ad-98d2ac85bf6d",
   "metadata": {},
   "outputs": [],
   "source": [
    "model = architecture001(\"adam\", \"binary_crossentropy\", ['accuracy'], X_train_ready[:0].shape[1])"
   ]
  },
  {
   "cell_type": "code",
   "execution_count": 14,
   "id": "567a4d67-fe78-454d-8622-87c9acbfd43f",
   "metadata": {},
   "outputs": [
    {
     "name": "stdout",
     "output_type": "stream",
     "text": [
      "Model: \"model\"\n",
      "_________________________________________________________________\n",
      " Layer (type)                Output Shape              Param #   \n",
      "=================================================================\n",
      " input_1 (InputLayer)        [(None, 20000)]           0         \n",
      "                                                                 \n",
      " dense (Dense)               (None, 16)                320016    \n",
      "                                                                 \n",
      " dropout (Dropout)           (None, 16)                0         \n",
      "                                                                 \n",
      " predictions (Dense)         (None, 1)                 17        \n",
      "                                                                 \n",
      "=================================================================\n",
      "Total params: 320,033\n",
      "Trainable params: 320,033\n",
      "Non-trainable params: 0\n",
      "_________________________________________________________________\n"
     ]
    }
   ],
   "source": [
    "model.summary()"
   ]
  },
  {
   "cell_type": "code",
   "execution_count": 15,
   "id": "3df6f207-80cb-4946-9a20-73f7bb6a5e7d",
   "metadata": {},
   "outputs": [
    {
     "data": {
      "text/plain": [
       "TensorShape([80000, 20000])"
      ]
     },
     "execution_count": 15,
     "metadata": {},
     "output_type": "execute_result"
    }
   ],
   "source": [
    "X_train_ready.shape"
   ]
  },
  {
   "cell_type": "code",
   "execution_count": 16,
   "id": "a87fda8e-c075-4335-86b4-4897046a49f7",
   "metadata": {},
   "outputs": [
    {
     "name": "stdout",
     "output_type": "stream",
     "text": [
      "Epoch 1/50\n",
      "313/313 [==============================] - ETA: 0s - loss: 0.5577 - accuracy: 0.7361\n",
      "Epoch 1: val_accuracy improved from -inf to 0.78735, saving model to models/MINI_TESTS_03.keras\n",
      "313/313 [==============================] - 9s 27ms/step - loss: 0.5577 - accuracy: 0.7361 - val_loss: 0.4825 - val_accuracy: 0.7873\n",
      "Epoch 2/50\n",
      "311/313 [============================>.] - ETA: 0s - loss: 0.4522 - accuracy: 0.8058\n",
      "Epoch 2: val_accuracy improved from 0.78735 to 0.79555, saving model to models/MINI_TESTS_03.keras\n",
      "313/313 [==============================] - 8s 26ms/step - loss: 0.4522 - accuracy: 0.8058 - val_loss: 0.4547 - val_accuracy: 0.7955\n",
      "Epoch 3/50\n",
      "312/313 [============================>.] - ETA: 0s - loss: 0.4091 - accuracy: 0.8264\n",
      "Epoch 3: val_accuracy did not improve from 0.79555\n",
      "313/313 [==============================] - 8s 26ms/step - loss: 0.4092 - accuracy: 0.8263 - val_loss: 0.4491 - val_accuracy: 0.7952\n",
      "Epoch 4/50\n",
      "313/313 [==============================] - ETA: 0s - loss: 0.3770 - accuracy: 0.8414\n",
      "Epoch 4: val_accuracy did not improve from 0.79555\n",
      "313/313 [==============================] - 8s 27ms/step - loss: 0.3770 - accuracy: 0.8414 - val_loss: 0.4526 - val_accuracy: 0.7947\n",
      "Epoch 5/50\n",
      "313/313 [==============================] - ETA: 0s - loss: 0.3520 - accuracy: 0.8518\n",
      "Epoch 5: val_accuracy did not improve from 0.79555\n",
      "313/313 [==============================] - 8s 27ms/step - loss: 0.3520 - accuracy: 0.8518 - val_loss: 0.4634 - val_accuracy: 0.7923\n",
      "Epoch 6/50\n",
      "311/313 [============================>.] - ETA: 0s - loss: 0.3308 - accuracy: 0.8622\n",
      "Epoch 6: val_accuracy did not improve from 0.79555\n",
      "313/313 [==============================] - 8s 27ms/step - loss: 0.3309 - accuracy: 0.8622 - val_loss: 0.4730 - val_accuracy: 0.7896\n",
      "Epoch 7/50\n",
      "312/313 [============================>.] - ETA: 0s - loss: 0.3127 - accuracy: 0.8708\n",
      "Epoch 7: val_accuracy did not improve from 0.79555\n",
      "Restoring model weights from the end of the best epoch: 2.\n",
      "313/313 [==============================] - 8s 26ms/step - loss: 0.3128 - accuracy: 0.8708 - val_loss: 0.4930 - val_accuracy: 0.7883\n",
      "Epoch 7: early stopping\n"
     ]
    }
   ],
   "source": [
    "batch_size = 256\n",
    "history = model.fit(\n",
    "        x=X_train_ready, y=y_train, \n",
    "        validation_data=(X_test_ready, y_test), \n",
    "        epochs=50, \n",
    "        batch_size=batch_size, \n",
    "        callbacks=init_callbacks2(f\"MINI_TESTS_03\"),\n",
    "        verbose=1,\n",
    ")"
   ]
  },
  {
   "cell_type": "code",
   "execution_count": 17,
   "id": "187a149e-5f5e-4f7e-b251-26efcf6cc09d",
   "metadata": {},
   "outputs": [],
   "source": [
    "model = keras.models.load_model(\"models/MINI_TESTS_03.keras\")"
   ]
  },
  {
   "cell_type": "code",
   "execution_count": 18,
   "id": "7bdc2006-593e-4da0-9279-c13dc0a404e1",
   "metadata": {},
   "outputs": [
    {
     "name": "stdout",
     "output_type": "stream",
     "text": [
      "625/625 [==============================] - 2s 3ms/step - loss: 0.4547 - accuracy: 0.7955\n"
     ]
    },
    {
     "data": {
      "text/plain": [
       "[0.45472094416618347, 0.7955499887466431]"
      ]
     },
     "execution_count": 18,
     "metadata": {},
     "output_type": "execute_result"
    }
   ],
   "source": [
    "model.evaluate(X_test_ready, y_test)"
   ]
  },
  {
   "cell_type": "markdown",
   "id": "8c904026-80db-44c4-ae41-e3af09602eb6",
   "metadata": {
    "jp-MarkdownHeadingCollapsed": true,
    "tags": []
   },
   "source": [
    "## Test 4 - NN | Ngram=2 | tf-idf"
   ]
  },
  {
   "cell_type": "markdown",
   "id": "13f82098-89a5-4498-9c11-60742203763a",
   "metadata": {},
   "source": [
    "### Standardize & Tokenize"
   ]
  },
  {
   "cell_type": "code",
   "execution_count": 7,
   "id": "6cabb220-04d1-4b29-befc-a603df49a573",
   "metadata": {},
   "outputs": [
    {
     "name": "stderr",
     "output_type": "stream",
     "text": [
      "2022-08-04 18:36:33.239765: W tensorflow/stream_executor/platform/default/dso_loader.cc:64] Could not load dynamic library 'libcuda.so.1'; dlerror: libcuda.so.1: cannot open shared object file: No such file or directory\n",
      "2022-08-04 18:36:33.239792: W tensorflow/stream_executor/cuda/cuda_driver.cc:269] failed call to cuInit: UNKNOWN ERROR (303)\n",
      "2022-08-04 18:36:33.239814: I tensorflow/stream_executor/cuda/cuda_diagnostics.cc:156] kernel driver does not appear to be running on this host (valkea-XPS): /proc/driver/nvidia/version does not exist\n",
      "2022-08-04 18:36:33.240446: I tensorflow/core/platform/cpu_feature_guard.cc:193] This TensorFlow binary is optimized with oneAPI Deep Neural Network Library (oneDNN) to use the following CPU instructions in performance-critical operations:  AVX2 FMA\n",
      "To enable them in other operations, rebuild TensorFlow with the appropriate compiler flags.\n"
     ]
    }
   ],
   "source": [
    "text_vectorization4 = tf.keras.layers.TextVectorization(\n",
    "    output_mode='tf_idf', # int, multi_hot, count, tf_idf\n",
    "    max_tokens=20000,\n",
    "    ngrams=2,\n",
    "    # output_sequence_length=60 # search the max size by default\n",
    ")"
   ]
  },
  {
   "cell_type": "code",
   "execution_count": 8,
   "id": "4055a083-99d1-43b1-814b-3c6b832738ff",
   "metadata": {},
   "outputs": [],
   "source": [
    "text_vectorization4.adapt(data_work.text)"
   ]
  },
  {
   "cell_type": "code",
   "execution_count": 9,
   "id": "b222ec17-cc6d-43be-9a37-bf52d7e14aa2",
   "metadata": {},
   "outputs": [
    {
     "name": "stdout",
     "output_type": "stream",
     "text": [
      "['[UNK]', 'i', 'be', 'to', 'the', 'a', 'not', 'my', 'and', 'it', 'you', 'have', 'do', 'for', 'in', 'i be', 'go', 'of', 'that', 'get'] ...\n"
     ]
    }
   ],
   "source": [
    "print(text_vectorization4.get_vocabulary()[:20], \"...\")"
   ]
  },
  {
   "cell_type": "markdown",
   "id": "2dd09c7d-edcb-45de-8005-618de2bc5ea9",
   "metadata": {},
   "source": [
    "### Divisons le jeu de données en `Train` et `Test` sets"
   ]
  },
  {
   "cell_type": "raw",
   "id": "f9838948-31bf-4900-8dce-b7ff88ebb040",
   "metadata": {
    "tags": []
   },
   "source": [
    "X_train, X_test, y_train, y_test = train_test_split(data_work['text'], data_work['target'], test_size=0.2, random_state=random_seed)"
   ]
  },
  {
   "cell_type": "markdown",
   "id": "40d4dbe1-e677-4693-8f43-6d6322df0108",
   "metadata": {},
   "source": [
    "### Prepare dataset"
   ]
  },
  {
   "cell_type": "code",
   "execution_count": 10,
   "id": "eebab130-5d59-4a14-a55f-b891be049a82",
   "metadata": {},
   "outputs": [
    {
     "name": "stderr",
     "output_type": "stream",
     "text": [
      "2022-08-04 18:36:44.480884: W tensorflow/core/framework/cpu_allocator_impl.cc:82] Allocation of 6400000000 exceeds 10% of free system memory.\n",
      "2022-08-04 18:36:45.076513: W tensorflow/core/framework/cpu_allocator_impl.cc:82] Allocation of 6400000000 exceeds 10% of free system memory.\n",
      "2022-08-04 18:36:46.753850: W tensorflow/core/framework/cpu_allocator_impl.cc:82] Allocation of 1600000000 exceeds 10% of free system memory.\n",
      "2022-08-04 18:36:46.920770: W tensorflow/core/framework/cpu_allocator_impl.cc:82] Allocation of 1600000000 exceeds 10% of free system memory.\n"
     ]
    }
   ],
   "source": [
    "X_train_ready = text_vectorization4(X_train)\n",
    "X_test_ready = text_vectorization4(X_test)"
   ]
  },
  {
   "cell_type": "code",
   "execution_count": 11,
   "id": "8d7f6a66-2584-4f0a-b518-d09a921c97cb",
   "metadata": {},
   "outputs": [
    {
     "data": {
      "text/plain": [
       "206231                                       now I m bore\n",
       "1405057    watch juno ... again . its a really good movie\n",
       "Name: text, dtype: object"
      ]
     },
     "execution_count": 11,
     "metadata": {},
     "output_type": "execute_result"
    }
   ],
   "source": [
    "X_train[:2]"
   ]
  },
  {
   "cell_type": "code",
   "execution_count": 12,
   "id": "766105f1-c933-49a5-85eb-a38c0d245f52",
   "metadata": {},
   "outputs": [
    {
     "data": {
      "text/plain": [
       "<tf.Tensor: shape=(2, 20000), dtype=float32, numpy=\n",
       "array([[ 0.       ,  1.0953298,  0.       , ...,  0.       ,  0.       ,\n",
       "         0.       ],\n",
       "       [32.620815 ,  0.       ,  0.       , ...,  0.       ,  0.       ,\n",
       "         0.       ]], dtype=float32)>"
      ]
     },
     "execution_count": 12,
     "metadata": {},
     "output_type": "execute_result"
    }
   ],
   "source": [
    "X_train_ready[:2]"
   ]
  },
  {
   "cell_type": "markdown",
   "id": "334a83a1-c71e-43a7-a1d3-b42f0bf7158b",
   "metadata": {},
   "source": [
    "### Train model"
   ]
  },
  {
   "cell_type": "code",
   "execution_count": 25,
   "id": "9559086f-e4e9-45c0-aace-e615b300c49d",
   "metadata": {},
   "outputs": [],
   "source": [
    "model = architecture001(\"adam\", \"binary_crossentropy\", ['accuracy'], X_train_ready[:0].shape[1])"
   ]
  },
  {
   "cell_type": "code",
   "execution_count": 26,
   "id": "74b3c9bf-25d0-48db-818a-c7eaecf8e885",
   "metadata": {},
   "outputs": [
    {
     "name": "stdout",
     "output_type": "stream",
     "text": [
      "Model: \"model_2\"\n",
      "_________________________________________________________________\n",
      " Layer (type)                Output Shape              Param #   \n",
      "=================================================================\n",
      " input_3 (InputLayer)        [(None, 20000)]           0         \n",
      "                                                                 \n",
      " dense_2 (Dense)             (None, 16)                320016    \n",
      "                                                                 \n",
      " dropout_2 (Dropout)         (None, 16)                0         \n",
      "                                                                 \n",
      " predictions (Dense)         (None, 1)                 17        \n",
      "                                                                 \n",
      "=================================================================\n",
      "Total params: 320,033\n",
      "Trainable params: 320,033\n",
      "Non-trainable params: 0\n",
      "_________________________________________________________________\n"
     ]
    }
   ],
   "source": [
    "model.summary()"
   ]
  },
  {
   "cell_type": "code",
   "execution_count": 27,
   "id": "b8326184-b812-4cd1-976f-01f4db36efc9",
   "metadata": {},
   "outputs": [
    {
     "data": {
      "text/plain": [
       "TensorShape([80000, 20000])"
      ]
     },
     "execution_count": 27,
     "metadata": {},
     "output_type": "execute_result"
    }
   ],
   "source": [
    "X_train_ready.shape"
   ]
  },
  {
   "cell_type": "code",
   "execution_count": 28,
   "id": "baee900f-a9f2-4d4e-b5c3-d356be64a8be",
   "metadata": {},
   "outputs": [
    {
     "name": "stdout",
     "output_type": "stream",
     "text": [
      "Epoch 1/50\n",
      "312/313 [============================>.] - ETA: 0s - loss: 0.5447 - accuracy: 0.7358\n",
      "Epoch 1: val_accuracy improved from -inf to 0.78995, saving model to models/MINI_TESTS_04.keras\n",
      "313/313 [==============================] - 9s 27ms/step - loss: 0.5446 - accuracy: 0.7360 - val_loss: 0.4704 - val_accuracy: 0.7900\n",
      "Epoch 2/50\n",
      "312/313 [============================>.] - ETA: 0s - loss: 0.4257 - accuracy: 0.8100\n",
      "Epoch 2: val_accuracy did not improve from 0.78995\n",
      "313/313 [==============================] - 8s 27ms/step - loss: 0.4259 - accuracy: 0.8099 - val_loss: 0.4653 - val_accuracy: 0.7893\n",
      "Epoch 3/50\n",
      "312/313 [============================>.] - ETA: 0s - loss: 0.3730 - accuracy: 0.8359\n",
      "Epoch 3: val_accuracy did not improve from 0.78995\n",
      "313/313 [==============================] - 8s 27ms/step - loss: 0.3730 - accuracy: 0.8359 - val_loss: 0.4826 - val_accuracy: 0.7871\n",
      "Epoch 4/50\n",
      "313/313 [==============================] - ETA: 0s - loss: 0.3348 - accuracy: 0.8537\n",
      "Epoch 4: val_accuracy did not improve from 0.78995\n",
      "313/313 [==============================] - 8s 27ms/step - loss: 0.3348 - accuracy: 0.8537 - val_loss: 0.5050 - val_accuracy: 0.7856\n",
      "Epoch 5/50\n",
      "311/313 [============================>.] - ETA: 0s - loss: 0.3056 - accuracy: 0.8638\n",
      "Epoch 5: val_accuracy did not improve from 0.78995\n",
      "313/313 [==============================] - 8s 27ms/step - loss: 0.3060 - accuracy: 0.8637 - val_loss: 0.5332 - val_accuracy: 0.7842\n",
      "Epoch 6/50\n",
      "313/313 [==============================] - ETA: 0s - loss: 0.2803 - accuracy: 0.8736\n",
      "Epoch 6: val_accuracy did not improve from 0.78995\n",
      "Restoring model weights from the end of the best epoch: 1.\n",
      "313/313 [==============================] - 8s 27ms/step - loss: 0.2803 - accuracy: 0.8736 - val_loss: 0.5687 - val_accuracy: 0.7822\n",
      "Epoch 6: early stopping\n"
     ]
    }
   ],
   "source": [
    "batch_size = 256\n",
    "history = model.fit(\n",
    "        x=X_train_ready, y=y_train, \n",
    "        validation_data=(X_test_ready, y_test), \n",
    "        epochs=50, \n",
    "        batch_size=batch_size, \n",
    "        callbacks=init_callbacks2(f\"MINI_TESTS_04\"),\n",
    "        verbose=1,\n",
    ")"
   ]
  },
  {
   "cell_type": "code",
   "execution_count": 29,
   "id": "32c25845-c924-436f-a18a-ae3e09055657",
   "metadata": {},
   "outputs": [],
   "source": [
    "model = keras.models.load_model(\"models/MINI_TESTS_04.keras\")"
   ]
  },
  {
   "cell_type": "code",
   "execution_count": 30,
   "id": "ca72b2df-7a22-4d71-b0dd-a548ac69bde4",
   "metadata": {},
   "outputs": [
    {
     "name": "stdout",
     "output_type": "stream",
     "text": [
      "625/625 [==============================] - 2s 4ms/step - loss: 0.4704 - accuracy: 0.7900\n"
     ]
    },
    {
     "data": {
      "text/plain": [
       "[0.4703981876373291, 0.7899500131607056]"
      ]
     },
     "execution_count": 30,
     "metadata": {},
     "output_type": "execute_result"
    }
   ],
   "source": [
    "model.evaluate(X_test_ready, y_test)"
   ]
  },
  {
   "cell_type": "code",
   "execution_count": 24,
   "id": "88639a96-c90c-4fd0-ba98-c2f031b71ea0",
   "metadata": {},
   "outputs": [
    {
     "name": "stdout",
     "output_type": "stream",
     "text": [
      "625/625 [==============================] - 2s 4ms/step - loss: 0.4710 - accuracy: 0.7883\n"
     ]
    },
    {
     "data": {
      "text/plain": [
       "[0.4709695279598236, 0.788349986076355]"
      ]
     },
     "execution_count": 24,
     "metadata": {},
     "output_type": "execute_result"
    }
   ],
   "source": [
    "model.evaluate(X_test_ready, y_test)"
   ]
  },
  {
   "cell_type": "code",
   "execution_count": 18,
   "id": "063de0f3-1e2e-4442-a65b-04dcf4bf8169",
   "metadata": {},
   "outputs": [
    {
     "name": "stdout",
     "output_type": "stream",
     "text": [
      "625/625 [==============================] - 2s 4ms/step - loss: 0.4691 - accuracy: 0.7896\n"
     ]
    },
    {
     "data": {
      "text/plain": [
       "[0.46907031536102295, 0.7895500063896179]"
      ]
     },
     "execution_count": 18,
     "metadata": {},
     "output_type": "execute_result"
    }
   ],
   "source": [
    "model.evaluate(X_test_ready, y_test)"
   ]
  },
  {
   "cell_type": "markdown",
   "id": "e6c68096-374e-4a29-916c-5b0061602d42",
   "metadata": {},
   "source": [
    "# Sequential models"
   ]
  },
  {
   "cell_type": "markdown",
   "id": "2ee3f321-798b-4696-b56f-cc0ce11760ca",
   "metadata": {
    "jp-MarkdownHeadingCollapsed": true,
    "tags": []
   },
   "source": [
    "## Test B0 - RNN | Ngram=2 | int | One-hot Embedding"
   ]
  },
  {
   "cell_type": "markdown",
   "id": "06259420-9273-4ef0-bfea-6fa1486eabe3",
   "metadata": {},
   "source": [
    "### Standardize & Tokenize"
   ]
  },
  {
   "cell_type": "code",
   "execution_count": 33,
   "id": "c00bba53-5d3e-4c85-a7cb-329a5682ea0d",
   "metadata": {},
   "outputs": [],
   "source": [
    "max_length = 60\n",
    "\n",
    "text_vectorizationB0 = tf.keras.layers.TextVectorization(\n",
    "    output_mode='int', # int, multi_hot, count, tf_idf\n",
    "    max_tokens=20000,\n",
    "    ngrams=2,\n",
    "    output_sequence_length=max_length # search the max size by default\n",
    ")"
   ]
  },
  {
   "cell_type": "code",
   "execution_count": 34,
   "id": "717ce928-a63b-42e9-b985-8d51767aae68",
   "metadata": {},
   "outputs": [],
   "source": [
    "text_vectorizationB0.adapt(data_work.text)"
   ]
  },
  {
   "cell_type": "code",
   "execution_count": 35,
   "id": "d36cfc4f-9494-4942-9a83-200c83ce1bfb",
   "metadata": {},
   "outputs": [
    {
     "name": "stdout",
     "output_type": "stream",
     "text": [
      "['', '[UNK]', 'i', 'be', 'to', 'the', 'a', 'not', 'my', 'and', 'it', 'you', 'have', 'do', 'for', 'in', 'i be', 'go', 'of', 'that'] ...\n"
     ]
    }
   ],
   "source": [
    "print(text_vectorizationB0.get_vocabulary()[:20], \"...\")"
   ]
  },
  {
   "cell_type": "markdown",
   "id": "f2c59356-1e37-4312-a90b-bc51471382d4",
   "metadata": {},
   "source": [
    "### Divisons le jeu de données en `Train` et `Test` sets"
   ]
  },
  {
   "cell_type": "raw",
   "id": "7a60cd4c-dd26-4107-983d-0c37f6bb7fce",
   "metadata": {
    "tags": []
   },
   "source": [
    "X_train, X_test, y_train, y_test = train_test_split(data_work['text'], data_work['target'], test_size=0.2, random_state=random_seed)"
   ]
  },
  {
   "cell_type": "markdown",
   "id": "08ea309e-b22b-4794-90bd-4a98b721c0f2",
   "metadata": {},
   "source": [
    "### Prepare dataset"
   ]
  },
  {
   "cell_type": "code",
   "execution_count": 36,
   "id": "9e90e638-d600-4350-9307-e37c1df89dbe",
   "metadata": {},
   "outputs": [],
   "source": [
    "X_train_ready = text_vectorizationB0(X_train)\n",
    "X_test_ready = text_vectorizationB0(X_test)"
   ]
  },
  {
   "cell_type": "code",
   "execution_count": 37,
   "id": "af1dad64-e939-4191-892d-1b9c76472f5d",
   "metadata": {},
   "outputs": [
    {
     "data": {
      "text/plain": [
       "206231                                       now I m bore\n",
       "1405057    watch juno ... again . its a really good movie\n",
       "Name: text, dtype: object"
      ]
     },
     "execution_count": 37,
     "metadata": {},
     "output_type": "execute_result"
    }
   ],
   "source": [
    "X_train[:2]"
   ]
  },
  {
   "cell_type": "code",
   "execution_count": 38,
   "id": "f48b2acf-ed79-4857-8241-e58211813646",
   "metadata": {},
   "outputs": [
    {
     "data": {
      "text/plain": [
       "<tf.Tensor: shape=(2, 60), dtype=int64, numpy=\n",
       "array([[   34,     2,    71,  1072,   231,    72, 14736,     0,     0,\n",
       "            0,     0,     0,     0,     0,     0,     0,     0,     0,\n",
       "            0,     0,     0,     0,     0,     0,     0,     0,     0,\n",
       "            0,     0,     0,     0,     0,     0,     0,     0,     0,\n",
       "            0,     0,     0,     0,     0,     0,     0,     0,     0,\n",
       "            0,     0,     0,     0,     0,     0,     0,     0,     0,\n",
       "            0,     0,     0,     0,     0,     0],\n",
       "       [   83,     1,   134,    84,     6,    75,    30,   211,     1,\n",
       "            1,     1,  1261,  1657,  2004,  3967,     0,     0,     0,\n",
       "            0,     0,     0,     0,     0,     0,     0,     0,     0,\n",
       "            0,     0,     0,     0,     0,     0,     0,     0,     0,\n",
       "            0,     0,     0,     0,     0,     0,     0,     0,     0,\n",
       "            0,     0,     0,     0,     0,     0,     0,     0,     0,\n",
       "            0,     0,     0,     0,     0,     0]])>"
      ]
     },
     "execution_count": 38,
     "metadata": {},
     "output_type": "execute_result"
    }
   ],
   "source": [
    "X_train_ready[:2]"
   ]
  },
  {
   "cell_type": "markdown",
   "id": "d28fe814-6b89-44eb-9a7e-29eb95beb107",
   "metadata": {},
   "source": [
    "### Train model"
   ]
  },
  {
   "cell_type": "raw",
   "id": "044f11ee-d8ae-4286-9ffa-3a8976b6d34d",
   "metadata": {
    "tags": []
   },
   "source": [
    "# Embedding simple\n",
    "padding_size = X_train_ready.shape[1]\n",
    "embedding_dim = 100\n",
    "vocab_size = len(vocabulary)\n",
    "embedding_layer = layers.Embedding(input_dim=vocab_size, output_dim=embedding_dim, input_length=padding_size, trainable=True)"
   ]
  },
  {
   "cell_type": "code",
   "execution_count": 46,
   "id": "9dbc3891-6807-417f-b060-e7060b9bed45",
   "metadata": {},
   "outputs": [],
   "source": [
    "model = architecture002_oh(\"adam\", \"binary_crossentropy\", ['accuracy'])"
   ]
  },
  {
   "cell_type": "code",
   "execution_count": 47,
   "id": "018cd312-82bb-43ce-8e64-c44246063b74",
   "metadata": {},
   "outputs": [
    {
     "name": "stdout",
     "output_type": "stream",
     "text": [
      "Model: \"model_3\"\n",
      "_________________________________________________________________\n",
      " Layer (type)                Output Shape              Param #   \n",
      "=================================================================\n",
      " input_4 (InputLayer)        [(None, None)]            0         \n",
      "                                                                 \n",
      " tf.one_hot (TFOpLambda)     (None, None, 20000)       0         \n",
      "                                                                 \n",
      " bidirectional (Bidirectiona  (None, 64)               5128448   \n",
      " l)                                                              \n",
      "                                                                 \n",
      " dropout_3 (Dropout)         (None, 64)                0         \n",
      "                                                                 \n",
      " predictions (Dense)         (None, 1)                 65        \n",
      "                                                                 \n",
      "=================================================================\n",
      "Total params: 5,128,513\n",
      "Trainable params: 5,128,513\n",
      "Non-trainable params: 0\n",
      "_________________________________________________________________\n"
     ]
    }
   ],
   "source": [
    "model.summary()"
   ]
  },
  {
   "cell_type": "code",
   "execution_count": 48,
   "id": "b6bd79d4-0068-414c-b258-b30422e7a49a",
   "metadata": {},
   "outputs": [
    {
     "data": {
      "text/plain": [
       "TensorShape([80000, 60])"
      ]
     },
     "execution_count": 48,
     "metadata": {},
     "output_type": "execute_result"
    }
   ],
   "source": [
    "X_train_ready.shape"
   ]
  },
  {
   "cell_type": "code",
   "execution_count": 49,
   "id": "4f49178e-28bc-465b-95a1-09828cb72654",
   "metadata": {},
   "outputs": [
    {
     "data": {
      "text/plain": [
       "TensorShape([20000, 60])"
      ]
     },
     "execution_count": 49,
     "metadata": {},
     "output_type": "execute_result"
    }
   ],
   "source": [
    "X_test_ready.shape"
   ]
  },
  {
   "cell_type": "code",
   "execution_count": null,
   "id": "e74748e4-4dde-4184-ba6b-85cf4ebeca1f",
   "metadata": {},
   "outputs": [],
   "source": [
    "batch_size = 256\n",
    "history = model.fit(\n",
    "        x=X_train_ready, y=y_train, \n",
    "        validation_data=(X_test_ready, y_test), \n",
    "        epochs=50, \n",
    "        batch_size=batch_size, \n",
    "        callbacks=init_callbacks2(f\"MINI_TESTS_B00\"),\n",
    "        verbose=1,\n",
    ")"
   ]
  },
  {
   "cell_type": "code",
   "execution_count": 21,
   "id": "d3f4a47e-7f5c-4353-baa0-ca6b92f4c485",
   "metadata": {},
   "outputs": [],
   "source": [
    "model = keras.models.load_model(\"models/MINI_TESTS_B00.keras\")"
   ]
  },
  {
   "cell_type": "code",
   "execution_count": 22,
   "id": "3ba5ecaa-87a5-46e9-9337-31ba30aa043c",
   "metadata": {},
   "outputs": [
    {
     "name": "stdout",
     "output_type": "stream",
     "text": [
      "625/625 [==============================] - 1s 1ms/step - loss: 0.8928 - accuracy: 0.5122\n"
     ]
    },
    {
     "data": {
      "text/plain": [
       "[0.8927728533744812, 0.5121999979019165]"
      ]
     },
     "execution_count": 22,
     "metadata": {},
     "output_type": "execute_result"
    }
   ],
   "source": [
    "model.evaluate(X_test_ready, y_test)"
   ]
  },
  {
   "cell_type": "markdown",
   "id": "a242c4bc-aeac-4409-b5e9-27450ebbc315",
   "metadata": {
    "jp-MarkdownHeadingCollapsed": true,
    "tags": []
   },
   "source": [
    "## Test B1 - RNN | Ngram=2 | int | Keras Embedding"
   ]
  },
  {
   "cell_type": "markdown",
   "id": "4feb4fbe-4582-468c-a70d-fcdaa1c0b916",
   "metadata": {},
   "source": [
    "### Standardize & Tokenize"
   ]
  },
  {
   "cell_type": "code",
   "execution_count": 96,
   "id": "ebaf27ae-3cf9-4ce1-b761-de89fbdba5c8",
   "metadata": {},
   "outputs": [],
   "source": [
    "max_length = 60\n",
    "\n",
    "text_vectorizationB1 = tf.keras.layers.TextVectorization(\n",
    "    output_mode='int', # int, multi_hot, count, tf_idf\n",
    "    max_tokens=20000,\n",
    "    ngrams=2,\n",
    "    output_sequence_length=max_length # search the max size by default\n",
    ")"
   ]
  },
  {
   "cell_type": "code",
   "execution_count": 97,
   "id": "2de2e92a-726b-46a8-bd2c-b9842d23d542",
   "metadata": {},
   "outputs": [],
   "source": [
    "text_vectorizationB1.adapt(data_work.text)"
   ]
  },
  {
   "cell_type": "code",
   "execution_count": 98,
   "id": "f433e8dd-9eef-4c47-9d24-e552495aac8c",
   "metadata": {},
   "outputs": [
    {
     "name": "stdout",
     "output_type": "stream",
     "text": [
      "['', '[UNK]', 'i', 'be', 'to', 'the', 'a', 'not', 'my', 'and', 'it', 'you', 'have', 'do', 'for', 'in', 'i be', 'go', 'of', 'that'] ...\n"
     ]
    }
   ],
   "source": [
    "print(text_vectorizationB1.get_vocabulary()[:20], \"...\")"
   ]
  },
  {
   "cell_type": "markdown",
   "id": "7b2bc64f-ec3b-4188-a453-5d069d32b29b",
   "metadata": {},
   "source": [
    "### Divisons le jeu de données en `Train` et `Test` sets"
   ]
  },
  {
   "cell_type": "raw",
   "id": "e5e74105-546f-4e90-9761-1e7dbaf07d48",
   "metadata": {
    "tags": []
   },
   "source": [
    "X_train, X_test, y_train, y_test = train_test_split(data_work['text'], data_work['target'], test_size=0.2, random_state=random_seed)"
   ]
  },
  {
   "cell_type": "markdown",
   "id": "d5eb6b61-0858-49eb-9bda-1d6f61e5561f",
   "metadata": {},
   "source": [
    "### Prepare dataset"
   ]
  },
  {
   "cell_type": "code",
   "execution_count": 99,
   "id": "d568192a-f2b0-4237-93b0-842df5701908",
   "metadata": {},
   "outputs": [],
   "source": [
    "X_train_ready = text_vectorizationB1(X_train)\n",
    "X_test_ready = text_vectorizationB1(X_test)"
   ]
  },
  {
   "cell_type": "code",
   "execution_count": 100,
   "id": "aa25e7f0-25cb-4fe7-8950-b7696311e2f9",
   "metadata": {},
   "outputs": [
    {
     "data": {
      "text/plain": [
       "164240          sit in bed where I will be for the weekend .\n",
       "1084963    home sweet home , back from a great saturday a...\n",
       "Name: text, dtype: object"
      ]
     },
     "execution_count": 100,
     "metadata": {},
     "output_type": "execute_result"
    }
   ],
   "source": [
    "X_train[:2]"
   ]
  },
  {
   "cell_type": "code",
   "execution_count": 101,
   "id": "101df780-91ea-4960-9269-8016c4bab21c",
   "metadata": {},
   "outputs": [
    {
     "data": {
      "text/plain": [
       "<tf.Tensor: shape=(2, 60), dtype=int64, numpy=\n",
       "array([[  379,    15,   167,   276,     2,    31,     3,    14,     5,\n",
       "          185,  1412,   850,     1,  1825,    98,   168,  1549,   110,\n",
       "          979,     0,     0,     0,     0,     0,     0,     0,     0,\n",
       "            0,     0,     0,     0,     0,     0,     0,     0,     0,\n",
       "            0,     0,     0,     0,     0,     0,     0,     0,     0,\n",
       "            0,     0,     0,     0,     0,     0,     0,     0,     0,\n",
       "            0,     0,     0,     0,     0,     0],\n",
       "       [   91,   518,    91,    64,    65,     6,   111,   613,     9,\n",
       "          434,    26,     1,     1, 15935, 14474,     1,   701,  1294,\n",
       "          312,     1, 13644, 16284,     1,     1,     1,     0,     0,\n",
       "            0,     0,     0,     0,     0,     0,     0,     0,     0,\n",
       "            0,     0,     0,     0,     0,     0,     0,     0,     0,\n",
       "            0,     0,     0,     0,     0,     0,     0,     0,     0,\n",
       "            0,     0,     0,     0,     0,     0]])>"
      ]
     },
     "execution_count": 101,
     "metadata": {},
     "output_type": "execute_result"
    }
   ],
   "source": [
    "X_train_ready[:2]"
   ]
  },
  {
   "cell_type": "markdown",
   "id": "b9445f51-923c-4c25-8331-a50a2b24ba51",
   "metadata": {},
   "source": [
    "### Train model"
   ]
  },
  {
   "cell_type": "code",
   "execution_count": 102,
   "id": "8a377614-d917-4e80-b0df-ae4b92cff5af",
   "metadata": {
    "tags": []
   },
   "outputs": [],
   "source": [
    "# Embedding simple\n",
    "embedding_layer = layers.Embedding(\n",
    "    input_dim=text_vectorizationB1.vocabulary_size(),\n",
    "    output_dim=128, \n",
    "    input_length=X_train_ready.shape[1],\n",
    "    # mask_zero=True,\n",
    "    # trainable=True, # <== default is True\n",
    ")"
   ]
  },
  {
   "cell_type": "code",
   "execution_count": 103,
   "id": "1337718e-d984-4008-833e-cf948b0379d4",
   "metadata": {},
   "outputs": [],
   "source": [
    "model = architecture002(\"adam\", \"binary_crossentropy\", ['accuracy'], embedding_layer)"
   ]
  },
  {
   "cell_type": "code",
   "execution_count": 104,
   "id": "9f043a0a-72b9-4b80-81c1-46dc80a164ee",
   "metadata": {},
   "outputs": [
    {
     "name": "stdout",
     "output_type": "stream",
     "text": [
      "Model: \"model_8\"\n",
      "_________________________________________________________________\n",
      " Layer (type)                Output Shape              Param #   \n",
      "=================================================================\n",
      " input_9 (InputLayer)        [(None, None)]            0         \n",
      "                                                                 \n",
      " embedding_4 (Embedding)     (None, None, 128)         2560000   \n",
      "                                                                 \n",
      " bidirectional_5 (Bidirectio  (None, 64)               41216     \n",
      " nal)                                                            \n",
      "                                                                 \n",
      " dropout_8 (Dropout)         (None, 64)                0         \n",
      "                                                                 \n",
      " predictions (Dense)         (None, 1)                 65        \n",
      "                                                                 \n",
      "=================================================================\n",
      "Total params: 2,601,281\n",
      "Trainable params: 2,601,281\n",
      "Non-trainable params: 0\n",
      "_________________________________________________________________\n"
     ]
    }
   ],
   "source": [
    "model.summary()"
   ]
  },
  {
   "cell_type": "code",
   "execution_count": 105,
   "id": "ca76a3ec-1310-433b-9621-d5e84285aa59",
   "metadata": {},
   "outputs": [
    {
     "data": {
      "text/plain": [
       "TensorShape([80000, 60])"
      ]
     },
     "execution_count": 105,
     "metadata": {},
     "output_type": "execute_result"
    }
   ],
   "source": [
    "X_train_ready.shape"
   ]
  },
  {
   "cell_type": "code",
   "execution_count": 106,
   "id": "e463a127-1190-477f-8ac6-5bc1b8707db7",
   "metadata": {},
   "outputs": [
    {
     "data": {
      "text/plain": [
       "TensorShape([20000, 60])"
      ]
     },
     "execution_count": 106,
     "metadata": {},
     "output_type": "execute_result"
    }
   ],
   "source": [
    "X_test_ready.shape"
   ]
  },
  {
   "cell_type": "code",
   "execution_count": 107,
   "id": "04d8ce7f-c6bf-4de2-a098-f686a43cb0e3",
   "metadata": {},
   "outputs": [
    {
     "name": "stdout",
     "output_type": "stream",
     "text": [
      "Epoch 1/50\n",
      "313/313 [==============================] - ETA: 0s - loss: 0.5193 - accuracy: 0.7453\n",
      "Epoch 1: val_accuracy improved from -inf to 0.79290, saving model to models/MINI_TESTS_B01.keras\n",
      "313/313 [==============================] - 38s 113ms/step - loss: 0.5193 - accuracy: 0.7453 - val_loss: 0.4514 - val_accuracy: 0.7929\n",
      "Epoch 2/50\n",
      "313/313 [==============================] - ETA: 0s - loss: 0.4027 - accuracy: 0.8253\n",
      "Epoch 2: val_accuracy did not improve from 0.79290\n",
      "313/313 [==============================] - 34s 109ms/step - loss: 0.4027 - accuracy: 0.8253 - val_loss: 0.4502 - val_accuracy: 0.7926\n",
      "Epoch 3/50\n",
      "313/313 [==============================] - ETA: 0s - loss: 0.3509 - accuracy: 0.8504\n",
      "Epoch 3: val_accuracy did not improve from 0.79290\n",
      "313/313 [==============================] - 35s 113ms/step - loss: 0.3509 - accuracy: 0.8504 - val_loss: 0.4660 - val_accuracy: 0.7835\n",
      "Epoch 4/50\n",
      "313/313 [==============================] - ETA: 0s - loss: 0.3005 - accuracy: 0.8698\n",
      "Epoch 4: val_accuracy did not improve from 0.79290\n",
      "313/313 [==============================] - 35s 112ms/step - loss: 0.3005 - accuracy: 0.8698 - val_loss: 0.5166 - val_accuracy: 0.7836\n",
      "Epoch 5/50\n",
      "313/313 [==============================] - ETA: 0s - loss: 0.2605 - accuracy: 0.8860\n",
      "Epoch 5: val_accuracy did not improve from 0.79290\n",
      "313/313 [==============================] - 35s 113ms/step - loss: 0.2605 - accuracy: 0.8860 - val_loss: 0.5847 - val_accuracy: 0.7807\n",
      "Epoch 6/50\n",
      "313/313 [==============================] - ETA: 0s - loss: 0.2248 - accuracy: 0.9032\n",
      "Epoch 6: val_accuracy did not improve from 0.79290\n",
      "Restoring model weights from the end of the best epoch: 1.\n",
      "313/313 [==============================] - 35s 112ms/step - loss: 0.2248 - accuracy: 0.9032 - val_loss: 0.6327 - val_accuracy: 0.7775\n",
      "Epoch 6: early stopping\n"
     ]
    }
   ],
   "source": [
    "batch_size = 256\n",
    "history = model.fit(\n",
    "        x=X_train_ready, y=y_train, \n",
    "        validation_data=(X_test_ready, y_test), \n",
    "        epochs=50, \n",
    "        batch_size=batch_size, \n",
    "        callbacks=init_callbacks2(f\"MINI_TESTS_B01\"),\n",
    "        verbose=1,\n",
    ")"
   ]
  },
  {
   "cell_type": "code",
   "execution_count": 108,
   "id": "303b2900-4741-4ef3-9212-7b8874e96c77",
   "metadata": {},
   "outputs": [],
   "source": [
    "model = keras.models.load_model(\"models/MINI_TESTS_B01.keras\")"
   ]
  },
  {
   "cell_type": "code",
   "execution_count": 109,
   "id": "e189d9b9-ddba-430c-8fd7-9780e82b7bbb",
   "metadata": {},
   "outputs": [
    {
     "name": "stdout",
     "output_type": "stream",
     "text": [
      "625/625 [==============================] - 6s 9ms/step - loss: 0.4514 - accuracy: 0.7929\n"
     ]
    },
    {
     "data": {
      "text/plain": [
       "[0.45135268568992615, 0.792900025844574]"
      ]
     },
     "execution_count": 109,
     "metadata": {},
     "output_type": "execute_result"
    }
   ],
   "source": [
    "model.evaluate(X_test_ready, y_test)"
   ]
  },
  {
   "cell_type": "markdown",
   "id": "7e59ebc0-8ef5-4485-93e5-98693b1a8cee",
   "metadata": {
    "jp-MarkdownHeadingCollapsed": true,
    "tags": []
   },
   "source": [
    "## Test B2 - RNN | Ngram=2 | int | Keras Embedding + MASK"
   ]
  },
  {
   "cell_type": "markdown",
   "id": "1753d5f5-8191-4672-a4f9-d32ccdf7a71f",
   "metadata": {},
   "source": [
    "### Standardize & Tokenize"
   ]
  },
  {
   "cell_type": "code",
   "execution_count": 110,
   "id": "0c8bdb6b-0ac1-4b44-8fbe-8baad4e22b39",
   "metadata": {},
   "outputs": [],
   "source": [
    "max_length = 60\n",
    "\n",
    "text_vectorizationB2 = tf.keras.layers.TextVectorization(\n",
    "    output_mode='int', # int, multi_hot, count, tf_idf\n",
    "    max_tokens=20000,\n",
    "    ngrams=2,\n",
    "    output_sequence_length=max_length # search the max size by default\n",
    ")"
   ]
  },
  {
   "cell_type": "code",
   "execution_count": 111,
   "id": "e534fbfd-0c38-483e-a2c0-972d624be720",
   "metadata": {},
   "outputs": [],
   "source": [
    "text_vectorizationB2.adapt(data_work.text)"
   ]
  },
  {
   "cell_type": "code",
   "execution_count": 112,
   "id": "710b83d7-2722-41b3-a8d1-2efc7f93481d",
   "metadata": {},
   "outputs": [
    {
     "name": "stdout",
     "output_type": "stream",
     "text": [
      "['', '[UNK]', 'i', 'be', 'to', 'the', 'a', 'not', 'my', 'and', 'it', 'you', 'have', 'do', 'for', 'in', 'i be', 'go', 'of', 'that'] ...\n"
     ]
    }
   ],
   "source": [
    "print(text_vectorizationB2.get_vocabulary()[:20], \"...\")"
   ]
  },
  {
   "cell_type": "markdown",
   "id": "753c1ba5-c7e6-4764-9cf5-55e0285a4947",
   "metadata": {},
   "source": [
    "### Divisons le jeu de données en `Train` et `Test` sets"
   ]
  },
  {
   "cell_type": "raw",
   "id": "c012b468-959a-4c6e-83ca-dcaa65bc4f28",
   "metadata": {
    "tags": []
   },
   "source": [
    "X_train, X_test, y_train, y_test = train_test_split(data_work['text'], data_work['target'], test_size=0.2, random_state=random_seed)"
   ]
  },
  {
   "cell_type": "markdown",
   "id": "6b07b15a-6515-4805-aa3a-b47363a686d8",
   "metadata": {},
   "source": [
    "### Prepare dataset"
   ]
  },
  {
   "cell_type": "code",
   "execution_count": 113,
   "id": "54812907-9f63-4526-9648-5a89973b1e1f",
   "metadata": {},
   "outputs": [],
   "source": [
    "X_train_ready = text_vectorizationB2(X_train)\n",
    "X_test_ready = text_vectorizationB2(X_test)"
   ]
  },
  {
   "cell_type": "code",
   "execution_count": 114,
   "id": "d335575c-6f39-48de-8935-7018b345156f",
   "metadata": {},
   "outputs": [
    {
     "data": {
      "text/plain": [
       "164240          sit in bed where I will be for the weekend .\n",
       "1084963    home sweet home , back from a great saturday a...\n",
       "Name: text, dtype: object"
      ]
     },
     "execution_count": 114,
     "metadata": {},
     "output_type": "execute_result"
    }
   ],
   "source": [
    "X_train[:2]"
   ]
  },
  {
   "cell_type": "code",
   "execution_count": 115,
   "id": "bb9104c3-c294-4005-8a75-12339a97a445",
   "metadata": {},
   "outputs": [
    {
     "data": {
      "text/plain": [
       "<tf.Tensor: shape=(2, 60), dtype=int64, numpy=\n",
       "array([[  379,    15,   167,   276,     2,    31,     3,    14,     5,\n",
       "          185,  1412,   850,     1,  1825,    98,   168,  1549,   110,\n",
       "          979,     0,     0,     0,     0,     0,     0,     0,     0,\n",
       "            0,     0,     0,     0,     0,     0,     0,     0,     0,\n",
       "            0,     0,     0,     0,     0,     0,     0,     0,     0,\n",
       "            0,     0,     0,     0,     0,     0,     0,     0,     0,\n",
       "            0,     0,     0,     0,     0,     0],\n",
       "       [   91,   518,    91,    64,    65,     6,   111,   613,     9,\n",
       "          434,    26,     1,     1, 15935, 14474,     1,   701,  1294,\n",
       "          312,     1, 13644, 16284,     1,     1,     1,     0,     0,\n",
       "            0,     0,     0,     0,     0,     0,     0,     0,     0,\n",
       "            0,     0,     0,     0,     0,     0,     0,     0,     0,\n",
       "            0,     0,     0,     0,     0,     0,     0,     0,     0,\n",
       "            0,     0,     0,     0,     0,     0]])>"
      ]
     },
     "execution_count": 115,
     "metadata": {},
     "output_type": "execute_result"
    }
   ],
   "source": [
    "X_train_ready[:2]"
   ]
  },
  {
   "cell_type": "markdown",
   "id": "6b38d56a-bc0d-433d-ba35-bdfb3d705d60",
   "metadata": {},
   "source": [
    "### Train model"
   ]
  },
  {
   "cell_type": "code",
   "execution_count": 116,
   "id": "34b9e204-9ac6-452c-9500-3b39dd842e83",
   "metadata": {
    "tags": []
   },
   "outputs": [],
   "source": [
    "# Embedding avec masque\n",
    "embedding_layer = layers.Embedding(\n",
    "    input_dim=max_tokens,\n",
    "    output_dim=128, \n",
    "    input_length=X_train_ready.shape[1],\n",
    "    mask_zero=True,\n",
    "    # trainable=True, # <== default is True\n",
    ")"
   ]
  },
  {
   "cell_type": "code",
   "execution_count": 117,
   "id": "46d917c1-4d80-4e3b-9409-eaadce9333f0",
   "metadata": {},
   "outputs": [],
   "source": [
    "model = architecture002(\"adam\", \"binary_crossentropy\", ['accuracy'], embedding_layer)"
   ]
  },
  {
   "cell_type": "code",
   "execution_count": 118,
   "id": "05b66f4a-bdf6-47d5-ad82-7b9c5515427b",
   "metadata": {},
   "outputs": [
    {
     "name": "stdout",
     "output_type": "stream",
     "text": [
      "Model: \"model_9\"\n",
      "_________________________________________________________________\n",
      " Layer (type)                Output Shape              Param #   \n",
      "=================================================================\n",
      " input_10 (InputLayer)       [(None, None)]            0         \n",
      "                                                                 \n",
      " embedding_5 (Embedding)     (None, None, 128)         2560000   \n",
      "                                                                 \n",
      " bidirectional_6 (Bidirectio  (None, 64)               41216     \n",
      " nal)                                                            \n",
      "                                                                 \n",
      " dropout_9 (Dropout)         (None, 64)                0         \n",
      "                                                                 \n",
      " predictions (Dense)         (None, 1)                 65        \n",
      "                                                                 \n",
      "=================================================================\n",
      "Total params: 2,601,281\n",
      "Trainable params: 2,601,281\n",
      "Non-trainable params: 0\n",
      "_________________________________________________________________\n"
     ]
    }
   ],
   "source": [
    "model.summary()"
   ]
  },
  {
   "cell_type": "code",
   "execution_count": 119,
   "id": "4e3ead73-dfdc-41a2-829c-1267ecfd278d",
   "metadata": {},
   "outputs": [
    {
     "data": {
      "text/plain": [
       "TensorShape([80000, 60])"
      ]
     },
     "execution_count": 119,
     "metadata": {},
     "output_type": "execute_result"
    }
   ],
   "source": [
    "X_train_ready.shape"
   ]
  },
  {
   "cell_type": "code",
   "execution_count": 120,
   "id": "dd46ccb9-f860-4295-862b-caba6356e4d1",
   "metadata": {},
   "outputs": [
    {
     "data": {
      "text/plain": [
       "TensorShape([20000, 60])"
      ]
     },
     "execution_count": 120,
     "metadata": {},
     "output_type": "execute_result"
    }
   ],
   "source": [
    "X_test_ready.shape"
   ]
  },
  {
   "cell_type": "code",
   "execution_count": 121,
   "id": "b1cc7c0d-8b42-448b-adf6-43ce396d912c",
   "metadata": {},
   "outputs": [
    {
     "name": "stdout",
     "output_type": "stream",
     "text": [
      "Epoch 1/50\n",
      "313/313 [==============================] - ETA: 0s - loss: 0.4999 - accuracy: 0.7585\n",
      "Epoch 1: val_accuracy improved from -inf to 0.79580, saving model to models/MINI_TESTS_B02.keras\n",
      "313/313 [==============================] - 50s 138ms/step - loss: 0.4999 - accuracy: 0.7585 - val_loss: 0.4453 - val_accuracy: 0.7958\n",
      "Epoch 2/50\n",
      "313/313 [==============================] - ETA: 0s - loss: 0.3857 - accuracy: 0.8297\n",
      "Epoch 2: val_accuracy did not improve from 0.79580\n",
      "313/313 [==============================] - 41s 132ms/step - loss: 0.3857 - accuracy: 0.8297 - val_loss: 0.4518 - val_accuracy: 0.7940\n",
      "Epoch 3/50\n",
      "313/313 [==============================] - ETA: 0s - loss: 0.3235 - accuracy: 0.8617\n",
      "Epoch 3: val_accuracy did not improve from 0.79580\n",
      "313/313 [==============================] - 42s 133ms/step - loss: 0.3235 - accuracy: 0.8617 - val_loss: 0.4813 - val_accuracy: 0.7767\n",
      "Epoch 4/50\n",
      "313/313 [==============================] - ETA: 0s - loss: 0.2551 - accuracy: 0.8957\n",
      "Epoch 4: val_accuracy did not improve from 0.79580\n",
      "313/313 [==============================] - 42s 133ms/step - loss: 0.2551 - accuracy: 0.8957 - val_loss: 0.5521 - val_accuracy: 0.7739\n",
      "Epoch 5/50\n",
      "313/313 [==============================] - ETA: 0s - loss: 0.1835 - accuracy: 0.9274\n",
      "Epoch 5: val_accuracy did not improve from 0.79580\n",
      "313/313 [==============================] - 42s 133ms/step - loss: 0.1835 - accuracy: 0.9274 - val_loss: 0.7120 - val_accuracy: 0.7614\n",
      "Epoch 6/50\n",
      "313/313 [==============================] - ETA: 0s - loss: 0.1291 - accuracy: 0.9512\n",
      "Epoch 6: val_accuracy did not improve from 0.79580\n",
      "Restoring model weights from the end of the best epoch: 1.\n",
      "313/313 [==============================] - 42s 134ms/step - loss: 0.1291 - accuracy: 0.9512 - val_loss: 0.8703 - val_accuracy: 0.7586\n",
      "Epoch 6: early stopping\n"
     ]
    }
   ],
   "source": [
    "batch_size = 256\n",
    "history = model.fit(\n",
    "        x=X_train_ready, y=y_train, \n",
    "        validation_data=(X_test_ready, y_test), \n",
    "        epochs=50, \n",
    "        batch_size=batch_size, \n",
    "        callbacks=init_callbacks2(f\"MINI_TESTS_B02\"),\n",
    "        verbose=1,\n",
    ")"
   ]
  },
  {
   "cell_type": "code",
   "execution_count": 122,
   "id": "bbcfd7d0-e975-4e00-a9a1-3129a26eebb7",
   "metadata": {},
   "outputs": [],
   "source": [
    "model = keras.models.load_model(\"models/MINI_TESTS_B02.keras\")"
   ]
  },
  {
   "cell_type": "code",
   "execution_count": 123,
   "id": "2a4e18e2-ac7b-4a32-aebe-f85f9f280fc8",
   "metadata": {},
   "outputs": [
    {
     "name": "stdout",
     "output_type": "stream",
     "text": [
      "625/625 [==============================] - 8s 11ms/step - loss: 0.4453 - accuracy: 0.7958\n"
     ]
    },
    {
     "data": {
      "text/plain": [
       "[0.4453483521938324, 0.795799970626831]"
      ]
     },
     "execution_count": 123,
     "metadata": {},
     "output_type": "execute_result"
    }
   ],
   "source": [
    "model.evaluate(X_test_ready, y_test)"
   ]
  },
  {
   "cell_type": "markdown",
   "id": "acc83aea-6ce3-4920-a85b-54403e87614a",
   "metadata": {
    "jp-MarkdownHeadingCollapsed": true,
    "tags": []
   },
   "source": [
    "## Test B3 - RNN | Ngram=2 | int | Glove 100d Embedding + MASK + NOT Trainable"
   ]
  },
  {
   "cell_type": "markdown",
   "id": "573cefd0-59a8-45a6-a09f-f1cb9a0db3a8",
   "metadata": {},
   "source": [
    "### Standardize & Tokenize"
   ]
  },
  {
   "cell_type": "code",
   "execution_count": 187,
   "id": "a5871a0a-458b-46d5-be33-1c204ec17bdd",
   "metadata": {},
   "outputs": [],
   "source": [
    "max_length = 60\n",
    "max_tokens = 20000\n",
    "\n",
    "text_vectorizationB3 = tf.keras.layers.TextVectorization(\n",
    "    output_mode='int', # int, multi_hot, count, tf_idf\n",
    "    max_tokens=max_tokens,\n",
    "    ngrams=2,\n",
    "    output_sequence_length=max_length # search the max size by default\n",
    ")"
   ]
  },
  {
   "cell_type": "code",
   "execution_count": 188,
   "id": "acc746cd-bdb6-4eed-9f98-3da4dfd8c425",
   "metadata": {},
   "outputs": [],
   "source": [
    "text_vectorizationB3.adapt(data_work.text)"
   ]
  },
  {
   "cell_type": "code",
   "execution_count": 189,
   "id": "13bc2ea5-c7c1-4e74-b6a4-2bd6eb6d8198",
   "metadata": {},
   "outputs": [
    {
     "name": "stdout",
     "output_type": "stream",
     "text": [
      "['', '[UNK]', 'i', 'be', 'to', 'the', 'a', 'not', 'my', 'and', 'it', 'you', 'have', 'do', 'for', 'in', 'i be', 'go', 'of', 'that'] ...\n"
     ]
    }
   ],
   "source": [
    "print(text_vectorizationB3.get_vocabulary()[:20], \"...\")"
   ]
  },
  {
   "cell_type": "markdown",
   "id": "7b412712-7909-4915-8afa-3590dd049d09",
   "metadata": {},
   "source": [
    "### Divisons le jeu de données en `Train` et `Test` sets"
   ]
  },
  {
   "cell_type": "raw",
   "id": "58dd8d86-c5c0-42df-bc9d-8cf31e7a475b",
   "metadata": {
    "tags": []
   },
   "source": [
    "X_train, X_test, y_train, y_test = train_test_split(data_work['text'], data_work['target'], test_size=0.2, random_state=random_seed)"
   ]
  },
  {
   "cell_type": "markdown",
   "id": "3d849bcd-8ac6-42b1-a9fc-a8c3a792900f",
   "metadata": {},
   "source": [
    "### Prepare dataset"
   ]
  },
  {
   "cell_type": "code",
   "execution_count": 190,
   "id": "bd0c7729-71bd-4186-a4a4-9c17aad36f91",
   "metadata": {},
   "outputs": [],
   "source": [
    "X_train_ready = text_vectorizationB3(X_train)\n",
    "X_test_ready = text_vectorizationB3(X_test)"
   ]
  },
  {
   "cell_type": "code",
   "execution_count": 191,
   "id": "a1c4f043-a38b-481a-97b5-ddbf7a47c3cc",
   "metadata": {},
   "outputs": [
    {
     "data": {
      "text/plain": [
       "164240          sit in bed where I will be for the weekend .\n",
       "1084963    home sweet home , back from a great saturday a...\n",
       "Name: text, dtype: object"
      ]
     },
     "execution_count": 191,
     "metadata": {},
     "output_type": "execute_result"
    }
   ],
   "source": [
    "X_train[:2]"
   ]
  },
  {
   "cell_type": "code",
   "execution_count": 192,
   "id": "5570c7a0-882c-4544-b2fc-47f6e719b9da",
   "metadata": {},
   "outputs": [
    {
     "data": {
      "text/plain": [
       "<tf.Tensor: shape=(2, 60), dtype=int64, numpy=\n",
       "array([[  379,    15,   167,   276,     2,    31,     3,    14,     5,\n",
       "          185,  1412,   850,     1,  1825,    98,   168,  1549,   110,\n",
       "          979,     0,     0,     0,     0,     0,     0,     0,     0,\n",
       "            0,     0,     0,     0,     0,     0,     0,     0,     0,\n",
       "            0,     0,     0,     0,     0,     0,     0,     0,     0,\n",
       "            0,     0,     0,     0,     0,     0,     0,     0,     0,\n",
       "            0,     0,     0,     0,     0,     0],\n",
       "       [   91,   518,    91,    64,    65,     6,   111,   613,     9,\n",
       "          434,    26,     1,     1, 15935, 14474,     1,   701,  1294,\n",
       "          312,     1, 13644, 16284,     1,     1,     1,     0,     0,\n",
       "            0,     0,     0,     0,     0,     0,     0,     0,     0,\n",
       "            0,     0,     0,     0,     0,     0,     0,     0,     0,\n",
       "            0,     0,     0,     0,     0,     0,     0,     0,     0,\n",
       "            0,     0,     0,     0,     0,     0]])>"
      ]
     },
     "execution_count": 192,
     "metadata": {},
     "output_type": "execute_result"
    }
   ],
   "source": [
    "X_train_ready[:2]"
   ]
  },
  {
   "cell_type": "markdown",
   "id": "cdda851c-840d-4c07-8ab9-e85a65f4f875",
   "metadata": {},
   "source": [
    "### Embedding"
   ]
  },
  {
   "cell_type": "code",
   "execution_count": 193,
   "id": "627eba51-708e-426e-95c1-4a004d4665da",
   "metadata": {},
   "outputs": [],
   "source": [
    "def load_embedding(path_to_embedding):\n",
    "    embedding_index = {}\n",
    "    with open(path_to_embedding) as f:\n",
    "        for line in f:\n",
    "            word, coefs = line.split(maxsplit=1)\n",
    "            coefs = np.fromstring(coefs, \"f\", sep=\" \")\n",
    "            embedding_index[word] = coefs\n",
    "            \n",
    "    print(f\"Loaded en embedding with {len(embedding_index)} word vectors\")\n",
    "    \n",
    "    return embedding_index"
   ]
  },
  {
   "cell_type": "code",
   "execution_count": 194,
   "id": "9755d36a-c641-4a93-af07-16587cca23ca",
   "metadata": {},
   "outputs": [
    {
     "name": "stdout",
     "output_type": "stream",
     "text": [
      "Loaded en embedding with 400000 word vectors\n"
     ]
    }
   ],
   "source": [
    "embeddings_index = load_embedding(\"data/embedding_models/glove.6B.100d.txt\")"
   ]
  },
  {
   "cell_type": "code",
   "execution_count": 195,
   "id": "90a5ed5f-2e3d-4808-9bf6-e4d8aa421f5b",
   "metadata": {},
   "outputs": [],
   "source": [
    "def convert_embedding_matrix(vocabulary, embeddings_index, max_tokens, embedding_dim=100):\n",
    "    \n",
    "    hits = 0\n",
    "    misses = 0\n",
    "    \n",
    "    word_index = dict(zip(vocabulary, range(len(vocabulary))))\n",
    "    \n",
    "    embedding_matrix = np.zeros((max_tokens, embedding_dim))\n",
    "    \n",
    "    for word, i in word_index.items():\n",
    "        if i < max_tokens:\n",
    "            embedding_vector = embeddings_index.get(word)\n",
    "        if embedding_vector is not None:\n",
    "            hits += 1\n",
    "            embedding_matrix[i] = embedding_vector\n",
    "        else:\n",
    "            misses += 1\n",
    "            \n",
    "    print(f\"Converted {hits} words, and couldn't find {misses} words\")\n",
    "            \n",
    "    return embedding_matrix"
   ]
  },
  {
   "cell_type": "code",
   "execution_count": 196,
   "id": "68ab924a-134f-4af1-844d-fcdd03eaaebc",
   "metadata": {},
   "outputs": [
    {
     "name": "stdout",
     "output_type": "stream",
     "text": [
      "Converted 5466 words, and couldn't find 14534 words\n"
     ]
    },
    {
     "data": {
      "text/plain": [
       "array([[ 0.        ,  0.        ,  0.        , ...,  0.        ,\n",
       "         0.        ,  0.        ],\n",
       "       [ 0.        ,  0.        ,  0.        , ...,  0.        ,\n",
       "         0.        ,  0.        ],\n",
       "       [-0.046539  ,  0.61966002,  0.56647003, ..., -0.37616   ,\n",
       "        -0.032502  ,  0.80620003],\n",
       "       ...,\n",
       "       [ 0.92246997,  0.5758    ,  0.18692   , ..., -0.10989   ,\n",
       "        -0.15109999, -0.86754   ],\n",
       "       [ 0.02524   ,  0.40887001,  1.00450003, ..., -0.11632   ,\n",
       "        -0.51730001, -0.086215  ],\n",
       "       [ 0.        ,  0.        ,  0.        , ...,  0.        ,\n",
       "         0.        ,  0.        ]])"
      ]
     },
     "execution_count": 196,
     "metadata": {},
     "output_type": "execute_result"
    }
   ],
   "source": [
    "embedding_dim = 100\n",
    "embedding_matrix = convert_embedding_matrix(text_vectorizationB3.get_vocabulary(), embeddings_index, max_tokens, embedding_dim)\n",
    "embedding_matrix"
   ]
  },
  {
   "cell_type": "code",
   "execution_count": 197,
   "id": "f5344acb-06ae-4a65-8805-71880708034e",
   "metadata": {
    "tags": []
   },
   "outputs": [],
   "source": [
    "# Embedding avec masque\n",
    "embedding_layer = layers.Embedding(\n",
    "    input_dim=max_tokens,\n",
    "    output_dim=embedding_dim,\n",
    "    embeddings_initializer=keras.initializers.Constant(embedding_matrix),\n",
    "    # input_length=max_length,\n",
    "    mask_zero=True,\n",
    "    trainable=False, # <== default is True\n",
    ")"
   ]
  },
  {
   "cell_type": "markdown",
   "id": "2c92da6b-b30b-4362-b770-36194ed13e3b",
   "metadata": {},
   "source": [
    "### Train model"
   ]
  },
  {
   "cell_type": "code",
   "execution_count": 198,
   "id": "9af0d18e-8abd-4089-af22-9ac8a6fb8bf3",
   "metadata": {},
   "outputs": [],
   "source": [
    "model = architecture002(\"adam\", \"binary_crossentropy\", ['accuracy'], embedding_layer)"
   ]
  },
  {
   "cell_type": "code",
   "execution_count": 199,
   "id": "7ff15289-fe04-4983-b0eb-65544f2da181",
   "metadata": {},
   "outputs": [
    {
     "name": "stdout",
     "output_type": "stream",
     "text": [
      "Model: \"model_11\"\n",
      "_________________________________________________________________\n",
      " Layer (type)                Output Shape              Param #   \n",
      "=================================================================\n",
      " input_16 (InputLayer)       [(None, None)]            0         \n",
      "                                                                 \n",
      " embedding_11 (Embedding)    (None, None, 100)         2000000   \n",
      "                                                                 \n",
      " bidirectional_8 (Bidirectio  (None, 64)               34048     \n",
      " nal)                                                            \n",
      "                                                                 \n",
      " dropout_11 (Dropout)        (None, 64)                0         \n",
      "                                                                 \n",
      " predictions (Dense)         (None, 1)                 65        \n",
      "                                                                 \n",
      "=================================================================\n",
      "Total params: 2,034,113\n",
      "Trainable params: 34,113\n",
      "Non-trainable params: 2,000,000\n",
      "_________________________________________________________________\n"
     ]
    }
   ],
   "source": [
    "model.summary()"
   ]
  },
  {
   "cell_type": "code",
   "execution_count": 200,
   "id": "d232c8ea-3f80-4f10-88e4-678b725f46ec",
   "metadata": {},
   "outputs": [
    {
     "data": {
      "text/plain": [
       "TensorShape([80000, 60])"
      ]
     },
     "execution_count": 200,
     "metadata": {},
     "output_type": "execute_result"
    }
   ],
   "source": [
    "X_train_ready.shape"
   ]
  },
  {
   "cell_type": "code",
   "execution_count": 201,
   "id": "b29dfa7b-8b88-457c-8810-aa5f7b83857e",
   "metadata": {},
   "outputs": [
    {
     "data": {
      "text/plain": [
       "TensorShape([20000, 60])"
      ]
     },
     "execution_count": 201,
     "metadata": {},
     "output_type": "execute_result"
    }
   ],
   "source": [
    "X_test_ready.shape"
   ]
  },
  {
   "cell_type": "code",
   "execution_count": 202,
   "id": "40d537d2-77a9-4103-a4dc-1fca803cb5d2",
   "metadata": {},
   "outputs": [
    {
     "name": "stdout",
     "output_type": "stream",
     "text": [
      "Epoch 1/50\n",
      "313/313 [==============================] - ETA: 0s - loss: 0.5851 - accuracy: 0.6866\n",
      "Epoch 1: val_accuracy improved from -inf to 0.73320, saving model to models/MINI_TESTS_B03.keras\n",
      "313/313 [==============================] - 36s 94ms/step - loss: 0.5851 - accuracy: 0.6866 - val_loss: 0.5318 - val_accuracy: 0.7332\n",
      "Epoch 2/50\n",
      "313/313 [==============================] - ETA: 0s - loss: 0.5250 - accuracy: 0.7378\n",
      "Epoch 2: val_accuracy improved from 0.73320 to 0.74715, saving model to models/MINI_TESTS_B03.keras\n",
      "313/313 [==============================] - 27s 85ms/step - loss: 0.5250 - accuracy: 0.7378 - val_loss: 0.5142 - val_accuracy: 0.7472\n",
      "Epoch 3/50\n",
      "313/313 [==============================] - ETA: 0s - loss: 0.5062 - accuracy: 0.7518\n",
      "Epoch 3: val_accuracy did not improve from 0.74715\n",
      "313/313 [==============================] - 27s 86ms/step - loss: 0.5062 - accuracy: 0.7518 - val_loss: 0.5134 - val_accuracy: 0.7426\n",
      "Epoch 4/50\n",
      "313/313 [==============================] - ETA: 0s - loss: 0.4889 - accuracy: 0.7648\n",
      "Epoch 4: val_accuracy improved from 0.74715 to 0.75110, saving model to models/MINI_TESTS_B03.keras\n",
      "313/313 [==============================] - 28s 89ms/step - loss: 0.4889 - accuracy: 0.7648 - val_loss: 0.5027 - val_accuracy: 0.7511\n",
      "Epoch 5/50\n",
      "313/313 [==============================] - ETA: 0s - loss: 0.4818 - accuracy: 0.7676\n",
      "Epoch 5: val_accuracy improved from 0.75110 to 0.76840, saving model to models/MINI_TESTS_B03.keras\n",
      "313/313 [==============================] - 29s 93ms/step - loss: 0.4818 - accuracy: 0.7676 - val_loss: 0.4821 - val_accuracy: 0.7684\n",
      "Epoch 6/50\n",
      "313/313 [==============================] - ETA: 0s - loss: 0.4734 - accuracy: 0.7745\n",
      "Epoch 6: val_accuracy improved from 0.76840 to 0.77665, saving model to models/MINI_TESTS_B03.keras\n",
      "313/313 [==============================] - 28s 90ms/step - loss: 0.4734 - accuracy: 0.7745 - val_loss: 0.4726 - val_accuracy: 0.7767\n",
      "Epoch 7/50\n",
      "313/313 [==============================] - ETA: 0s - loss: 0.4628 - accuracy: 0.7804\n",
      "Epoch 7: val_accuracy improved from 0.77665 to 0.77855, saving model to models/MINI_TESTS_B03.keras\n",
      "313/313 [==============================] - 30s 97ms/step - loss: 0.4628 - accuracy: 0.7804 - val_loss: 0.4705 - val_accuracy: 0.7786\n",
      "Epoch 8/50\n",
      "313/313 [==============================] - ETA: 0s - loss: 0.4567 - accuracy: 0.7858\n",
      "Epoch 8: val_accuracy improved from 0.77855 to 0.78025, saving model to models/MINI_TESTS_B03.keras\n",
      "313/313 [==============================] - 29s 93ms/step - loss: 0.4567 - accuracy: 0.7858 - val_loss: 0.4645 - val_accuracy: 0.7803\n",
      "Epoch 9/50\n",
      "313/313 [==============================] - ETA: 0s - loss: 0.4507 - accuracy: 0.7895\n",
      "Epoch 9: val_accuracy did not improve from 0.78025\n",
      "313/313 [==============================] - 31s 98ms/step - loss: 0.4507 - accuracy: 0.7895 - val_loss: 0.4761 - val_accuracy: 0.7706\n",
      "Epoch 10/50\n",
      "313/313 [==============================] - ETA: 0s - loss: 0.4460 - accuracy: 0.7921\n",
      "Epoch 10: val_accuracy did not improve from 0.78025\n",
      "313/313 [==============================] - 32s 103ms/step - loss: 0.4460 - accuracy: 0.7921 - val_loss: 0.4636 - val_accuracy: 0.7793\n",
      "Epoch 11/50\n",
      "313/313 [==============================] - ETA: 0s - loss: 0.4412 - accuracy: 0.7950\n",
      "Epoch 11: val_accuracy improved from 0.78025 to 0.78175, saving model to models/MINI_TESTS_B03.keras\n",
      "313/313 [==============================] - 36s 115ms/step - loss: 0.4412 - accuracy: 0.7950 - val_loss: 0.4590 - val_accuracy: 0.7818\n",
      "Epoch 12/50\n",
      "313/313 [==============================] - ETA: 0s - loss: 0.4353 - accuracy: 0.7993\n",
      "Epoch 12: val_accuracy did not improve from 0.78175\n",
      "313/313 [==============================] - 32s 103ms/step - loss: 0.4353 - accuracy: 0.7993 - val_loss: 0.4600 - val_accuracy: 0.7815\n",
      "Epoch 13/50\n",
      "313/313 [==============================] - ETA: 0s - loss: 0.4309 - accuracy: 0.8005\n",
      "Epoch 13: val_accuracy improved from 0.78175 to 0.78460, saving model to models/MINI_TESTS_B03.keras\n",
      "313/313 [==============================] - 36s 115ms/step - loss: 0.4309 - accuracy: 0.8005 - val_loss: 0.4573 - val_accuracy: 0.7846\n",
      "Epoch 14/50\n",
      "313/313 [==============================] - ETA: 0s - loss: 0.4265 - accuracy: 0.8044\n",
      "Epoch 14: val_accuracy improved from 0.78460 to 0.78655, saving model to models/MINI_TESTS_B03.keras\n",
      "313/313 [==============================] - 33s 106ms/step - loss: 0.4265 - accuracy: 0.8044 - val_loss: 0.4559 - val_accuracy: 0.7865\n",
      "Epoch 15/50\n",
      "313/313 [==============================] - ETA: 0s - loss: 0.4195 - accuracy: 0.8082\n",
      "Epoch 15: val_accuracy did not improve from 0.78655\n",
      "313/313 [==============================] - 33s 105ms/step - loss: 0.4195 - accuracy: 0.8082 - val_loss: 0.4625 - val_accuracy: 0.7835\n",
      "Epoch 16/50\n",
      "313/313 [==============================] - ETA: 0s - loss: 0.4182 - accuracy: 0.8097\n",
      "Epoch 16: val_accuracy did not improve from 0.78655\n",
      "Restoring model weights from the end of the best epoch: 11.\n",
      "313/313 [==============================] - 33s 106ms/step - loss: 0.4182 - accuracy: 0.8097 - val_loss: 0.4720 - val_accuracy: 0.7762\n",
      "Epoch 16: early stopping\n"
     ]
    }
   ],
   "source": [
    "batch_size = 256\n",
    "history = model.fit(\n",
    "        x=X_train_ready, y=y_train, \n",
    "        validation_data=(X_test_ready, y_test), \n",
    "        epochs=50, \n",
    "        batch_size=batch_size, \n",
    "        callbacks=init_callbacks2(f\"MINI_TESTS_B03\"),\n",
    "        verbose=1,\n",
    ")"
   ]
  },
  {
   "cell_type": "code",
   "execution_count": 203,
   "id": "2692be48-5364-4114-8d78-1b0d9e5abcd6",
   "metadata": {},
   "outputs": [],
   "source": [
    "model = keras.models.load_model(\"models/MINI_TESTS_B03.keras\")"
   ]
  },
  {
   "cell_type": "code",
   "execution_count": 204,
   "id": "ea6ef8c6-4216-4303-b09d-40356a492616",
   "metadata": {},
   "outputs": [
    {
     "name": "stdout",
     "output_type": "stream",
     "text": [
      "625/625 [==============================] - 9s 12ms/step - loss: 0.4559 - accuracy: 0.7865\n"
     ]
    },
    {
     "data": {
      "text/plain": [
       "[0.4558503031730652, 0.786549985408783]"
      ]
     },
     "execution_count": 204,
     "metadata": {},
     "output_type": "execute_result"
    }
   ],
   "source": [
    "model.evaluate(X_test_ready, y_test)"
   ]
  },
  {
   "cell_type": "markdown",
   "id": "f67953e4-cc06-4f6b-a5f3-4fa5f006b4dc",
   "metadata": {
    "jp-MarkdownHeadingCollapsed": true,
    "tags": []
   },
   "source": [
    "## Test B4 - RNN | Ngram=1 | int | Glove 100d Embedding + MASK + NOT Trainable"
   ]
  },
  {
   "cell_type": "markdown",
   "id": "a0fa5b6b-37a7-4917-9e7a-85bee618a7c1",
   "metadata": {},
   "source": [
    "### Standardize & Tokenize"
   ]
  },
  {
   "cell_type": "code",
   "execution_count": 226,
   "id": "bad5775e-c4cf-4439-9de8-512d6399a4de",
   "metadata": {},
   "outputs": [],
   "source": [
    "max_length = 60\n",
    "max_tokens = 20000\n",
    "\n",
    "text_vectorizationB4 = tf.keras.layers.TextVectorization(\n",
    "    output_mode='int', # int, multi_hot, count, tf_idf\n",
    "    max_tokens=max_tokens,\n",
    "    ngrams=1,\n",
    "    output_sequence_length=max_length # search the max size by default\n",
    ")"
   ]
  },
  {
   "cell_type": "code",
   "execution_count": 227,
   "id": "e41bb822-adf9-44e3-9831-665c5c3f7d9e",
   "metadata": {},
   "outputs": [],
   "source": [
    "text_vectorizationB4.adapt(data_work.text)"
   ]
  },
  {
   "cell_type": "code",
   "execution_count": 228,
   "id": "eca7eeaf-e406-4eb2-91e5-18fc0da16192",
   "metadata": {},
   "outputs": [
    {
     "name": "stdout",
     "output_type": "stream",
     "text": [
      "['', '[UNK]', 'i', 'be', 'to', 'the', 'a', 'not', 'my', 'and', 'it', 'you', 'have', 'do', 'for', 'in', 'go', 'of', 'that', 'get'] ...\n"
     ]
    }
   ],
   "source": [
    "print(text_vectorizationB4.get_vocabulary()[:20], \"...\")"
   ]
  },
  {
   "cell_type": "markdown",
   "id": "1cd74914-42bb-4a90-9fb6-0d289776cc16",
   "metadata": {},
   "source": [
    "### Divisons le jeu de données en `Train` et `Test` sets"
   ]
  },
  {
   "cell_type": "raw",
   "id": "12dd356b-864b-4b83-97b8-c1a724dcbe7c",
   "metadata": {
    "tags": []
   },
   "source": [
    "X_train, X_test, y_train, y_test = train_test_split(data_work['text'], data_work['target'], test_size=0.2, random_state=random_seed)"
   ]
  },
  {
   "cell_type": "markdown",
   "id": "96b6c1c8-e0c8-4790-a8f0-07bcd3d381fc",
   "metadata": {},
   "source": [
    "### Prepare dataset"
   ]
  },
  {
   "cell_type": "code",
   "execution_count": 229,
   "id": "0eda80a3-5700-4a75-81a6-fbf0ccb2c72e",
   "metadata": {},
   "outputs": [],
   "source": [
    "X_train_ready = text_vectorizationB4(X_train)\n",
    "X_test_ready = text_vectorizationB4(X_test)"
   ]
  },
  {
   "cell_type": "code",
   "execution_count": 230,
   "id": "2ce54c1b-2219-4d01-9a4c-fa3f1f3dd3cd",
   "metadata": {},
   "outputs": [
    {
     "data": {
      "text/plain": [
       "164240          sit in bed where I will be for the weekend .\n",
       "1084963    home sweet home , back from a great saturday a...\n",
       "Name: text, dtype: object"
      ]
     },
     "execution_count": 230,
     "metadata": {},
     "output_type": "execute_result"
    }
   ],
   "source": [
    "X_train[:2]"
   ]
  },
  {
   "cell_type": "code",
   "execution_count": 231,
   "id": "37fd7cc4-c190-4a5a-b78b-dd6e63137cbd",
   "metadata": {},
   "outputs": [
    {
     "data": {
      "text/plain": [
       "<tf.Tensor: shape=(2, 60), dtype=int64, numpy=\n",
       "array([[  268,    15,   131,   201,     2,    29,     3,    14,     5,\n",
       "          142,     0,     0,     0,     0,     0,     0,     0,     0,\n",
       "            0,     0,     0,     0,     0,     0,     0,     0,     0,\n",
       "            0,     0,     0,     0,     0,     0,     0,     0,     0,\n",
       "            0,     0,     0,     0,     0,     0,     0,     0,     0,\n",
       "            0,     0,     0,     0,     0,     0,     0,     0,     0,\n",
       "            0,     0,     0,     0,     0,     0],\n",
       "       [   78,   348,    78,    57,    58,     6,    90,   397,     9,\n",
       "          300,    25, 19669,     1,     0,     0,     0,     0,     0,\n",
       "            0,     0,     0,     0,     0,     0,     0,     0,     0,\n",
       "            0,     0,     0,     0,     0,     0,     0,     0,     0,\n",
       "            0,     0,     0,     0,     0,     0,     0,     0,     0,\n",
       "            0,     0,     0,     0,     0,     0,     0,     0,     0,\n",
       "            0,     0,     0,     0,     0,     0]])>"
      ]
     },
     "execution_count": 231,
     "metadata": {},
     "output_type": "execute_result"
    }
   ],
   "source": [
    "X_train_ready[:2]"
   ]
  },
  {
   "cell_type": "markdown",
   "id": "0957ad28-d73c-4300-8bc9-de0b3b7cea43",
   "metadata": {},
   "source": [
    "### Embedding"
   ]
  },
  {
   "cell_type": "code",
   "execution_count": 232,
   "id": "d7e54fe7-2813-4043-87b6-5091062c61e0",
   "metadata": {},
   "outputs": [],
   "source": [
    "def load_embedding(path_to_embedding):\n",
    "    embedding_index = {}\n",
    "    with open(path_to_embedding) as f:\n",
    "        for line in f:\n",
    "            word, coefs = line.split(maxsplit=1)\n",
    "            coefs = np.fromstring(coefs, \"f\", sep=\" \")\n",
    "            embedding_index[word] = coefs\n",
    "            \n",
    "    print(f\"Loaded en embedding with {len(embedding_index)} word vectors\")\n",
    "    \n",
    "    return embedding_index"
   ]
  },
  {
   "cell_type": "code",
   "execution_count": 233,
   "id": "8c812988-dc42-4f36-9ec9-21ac3bd8a56e",
   "metadata": {},
   "outputs": [
    {
     "name": "stdout",
     "output_type": "stream",
     "text": [
      "Loaded en embedding with 400000 word vectors\n"
     ]
    }
   ],
   "source": [
    "embeddings_index = load_embedding(\"data/embedding_models/glove.6B.100d.txt\")"
   ]
  },
  {
   "cell_type": "code",
   "execution_count": 234,
   "id": "65a46900-6dd8-4ac6-9e2b-0bdb2b6b3e88",
   "metadata": {},
   "outputs": [],
   "source": [
    "def convert_embedding_matrix(vocabulary, embeddings_index, max_tokens, embedding_dim=100):\n",
    "    \n",
    "    hits = 0\n",
    "    misses = 0\n",
    "    \n",
    "    word_index = dict(zip(vocabulary, range(len(vocabulary))))\n",
    "    \n",
    "    embedding_matrix = np.zeros((max_tokens, embedding_dim))\n",
    "    \n",
    "    for word, i in word_index.items():\n",
    "        if i < max_tokens:\n",
    "            embedding_vector = embeddings_index.get(word)\n",
    "        if embedding_vector is not None:\n",
    "            hits += 1\n",
    "            embedding_matrix[i] = embedding_vector\n",
    "        else:\n",
    "            misses += 1\n",
    "            \n",
    "    print(f\"Converted {hits} words, and couldn't find {misses} words\")\n",
    "            \n",
    "    return embedding_matrix"
   ]
  },
  {
   "cell_type": "code",
   "execution_count": 235,
   "id": "5368efd0-67e5-400d-aafa-7182efeddfd7",
   "metadata": {},
   "outputs": [
    {
     "name": "stdout",
     "output_type": "stream",
     "text": [
      "Converted 16051 words, and couldn't find 3949 words\n"
     ]
    },
    {
     "data": {
      "text/plain": [
       "array([[ 0.        ,  0.        ,  0.        , ...,  0.        ,\n",
       "         0.        ,  0.        ],\n",
       "       [ 0.        ,  0.        ,  0.        , ...,  0.        ,\n",
       "         0.        ,  0.        ],\n",
       "       [-0.046539  ,  0.61966002,  0.56647003, ..., -0.37616   ,\n",
       "        -0.032502  ,  0.80620003],\n",
       "       ...,\n",
       "       [ 0.        ,  0.        ,  0.        , ...,  0.        ,\n",
       "         0.        ,  0.        ],\n",
       "       [ 0.        ,  0.        ,  0.        , ...,  0.        ,\n",
       "         0.        ,  0.        ],\n",
       "       [-0.29874   ,  0.24609999,  0.062514  , ...,  0.39331999,\n",
       "        -0.51459002,  0.21692   ]])"
      ]
     },
     "execution_count": 235,
     "metadata": {},
     "output_type": "execute_result"
    }
   ],
   "source": [
    "embedding_dim = 100\n",
    "embedding_matrix = convert_embedding_matrix(text_vectorizationB4.get_vocabulary(), embeddings_index, max_tokens, embedding_dim)\n",
    "embedding_matrix"
   ]
  },
  {
   "cell_type": "code",
   "execution_count": 236,
   "id": "a9ac74b1-74df-4f92-b6d7-124d1bb55e31",
   "metadata": {
    "tags": []
   },
   "outputs": [],
   "source": [
    "# Embedding avec masque\n",
    "embedding_layer = layers.Embedding(\n",
    "    input_dim=max_tokens,\n",
    "    output_dim=embedding_dim,\n",
    "    embeddings_initializer=keras.initializers.Constant(embedding_matrix),\n",
    "    # input_length=max_length,\n",
    "    mask_zero=True,\n",
    "    trainable=False, # <== default is True\n",
    ")"
   ]
  },
  {
   "cell_type": "markdown",
   "id": "e30c4269-55c1-4df0-b00b-18e93f19d137",
   "metadata": {},
   "source": [
    "### Train model"
   ]
  },
  {
   "cell_type": "code",
   "execution_count": 237,
   "id": "2f3c7d20-1235-4a5b-b537-3b2086eeb24f",
   "metadata": {},
   "outputs": [],
   "source": [
    "model = architecture002(\"adam\", \"binary_crossentropy\", ['accuracy'], embedding_layer)"
   ]
  },
  {
   "cell_type": "code",
   "execution_count": 238,
   "id": "acd8b52c-2c39-4ef4-826f-deb2ad569529",
   "metadata": {},
   "outputs": [
    {
     "name": "stdout",
     "output_type": "stream",
     "text": [
      "Model: \"model_12\"\n",
      "_________________________________________________________________\n",
      " Layer (type)                Output Shape              Param #   \n",
      "=================================================================\n",
      " input_17 (InputLayer)       [(None, None)]            0         \n",
      "                                                                 \n",
      " embedding_12 (Embedding)    (None, None, 100)         2000000   \n",
      "                                                                 \n",
      " bidirectional_9 (Bidirectio  (None, 64)               34048     \n",
      " nal)                                                            \n",
      "                                                                 \n",
      " dropout_12 (Dropout)        (None, 64)                0         \n",
      "                                                                 \n",
      " predictions (Dense)         (None, 1)                 65        \n",
      "                                                                 \n",
      "=================================================================\n",
      "Total params: 2,034,113\n",
      "Trainable params: 34,113\n",
      "Non-trainable params: 2,000,000\n",
      "_________________________________________________________________\n"
     ]
    }
   ],
   "source": [
    "model.summary()"
   ]
  },
  {
   "cell_type": "code",
   "execution_count": 239,
   "id": "990ac504-7207-41f1-95d1-940c8b204a57",
   "metadata": {},
   "outputs": [
    {
     "data": {
      "text/plain": [
       "TensorShape([80000, 60])"
      ]
     },
     "execution_count": 239,
     "metadata": {},
     "output_type": "execute_result"
    }
   ],
   "source": [
    "X_train_ready.shape"
   ]
  },
  {
   "cell_type": "code",
   "execution_count": 240,
   "id": "2c310705-f523-4c98-a709-7d35ebe92234",
   "metadata": {},
   "outputs": [
    {
     "data": {
      "text/plain": [
       "TensorShape([20000, 60])"
      ]
     },
     "execution_count": 240,
     "metadata": {},
     "output_type": "execute_result"
    }
   ],
   "source": [
    "X_test_ready.shape"
   ]
  },
  {
   "cell_type": "code",
   "execution_count": 242,
   "id": "b8b94953-0955-44eb-a0fb-69019942905e",
   "metadata": {},
   "outputs": [
    {
     "name": "stdout",
     "output_type": "stream",
     "text": [
      "Epoch 1/50\n",
      "312/313 [============================>.] - ETA: 0s - loss: 0.5879 - accuracy: 0.6835\n",
      "Epoch 1: val_accuracy improved from -inf to 0.72810, saving model to models/MINI_TESTS_B04.keras\n",
      "313/313 [==============================] - 35s 96ms/step - loss: 0.5879 - accuracy: 0.6835 - val_loss: 0.5391 - val_accuracy: 0.7281\n",
      "Epoch 2/50\n",
      "313/313 [==============================] - ETA: 0s - loss: 0.5285 - accuracy: 0.7350\n",
      "Epoch 2: val_accuracy improved from 0.72810 to 0.74760, saving model to models/MINI_TESTS_B04.keras\n",
      "313/313 [==============================] - 28s 90ms/step - loss: 0.5285 - accuracy: 0.7350 - val_loss: 0.5102 - val_accuracy: 0.7476\n",
      "Epoch 3/50\n",
      "313/313 [==============================] - ETA: 0s - loss: 0.5084 - accuracy: 0.7508\n",
      "Epoch 3: val_accuracy did not improve from 0.74760\n",
      "313/313 [==============================] - 28s 89ms/step - loss: 0.5084 - accuracy: 0.7508 - val_loss: 0.5080 - val_accuracy: 0.7473\n",
      "Epoch 4/50\n",
      "313/313 [==============================] - ETA: 0s - loss: 0.4923 - accuracy: 0.7628\n",
      "Epoch 4: val_accuracy did not improve from 0.74760\n",
      "313/313 [==============================] - 29s 93ms/step - loss: 0.4923 - accuracy: 0.7628 - val_loss: 0.5088 - val_accuracy: 0.7458\n",
      "Epoch 5/50\n",
      "313/313 [==============================] - ETA: 0s - loss: 0.4839 - accuracy: 0.7674\n",
      "Epoch 5: val_accuracy improved from 0.74760 to 0.76405, saving model to models/MINI_TESTS_B04.keras\n",
      "313/313 [==============================] - 34s 109ms/step - loss: 0.4839 - accuracy: 0.7674 - val_loss: 0.4860 - val_accuracy: 0.7641\n",
      "Epoch 6/50\n",
      "313/313 [==============================] - ETA: 0s - loss: 0.4735 - accuracy: 0.7735\n",
      "Epoch 6: val_accuracy improved from 0.76405 to 0.77280, saving model to models/MINI_TESTS_B04.keras\n",
      "313/313 [==============================] - 31s 100ms/step - loss: 0.4735 - accuracy: 0.7735 - val_loss: 0.4736 - val_accuracy: 0.7728\n",
      "Epoch 7/50\n",
      "313/313 [==============================] - ETA: 0s - loss: 0.4649 - accuracy: 0.7800\n",
      "Epoch 7: val_accuracy improved from 0.77280 to 0.77785, saving model to models/MINI_TESTS_B04.keras\n",
      "313/313 [==============================] - 30s 95ms/step - loss: 0.4649 - accuracy: 0.7800 - val_loss: 0.4713 - val_accuracy: 0.7778\n",
      "Epoch 8/50\n",
      "313/313 [==============================] - ETA: 0s - loss: 0.4586 - accuracy: 0.7841\n",
      "Epoch 8: val_accuracy did not improve from 0.77785\n",
      "313/313 [==============================] - 28s 89ms/step - loss: 0.4586 - accuracy: 0.7841 - val_loss: 0.4748 - val_accuracy: 0.7738\n",
      "Epoch 9/50\n",
      "313/313 [==============================] - ETA: 0s - loss: 0.4525 - accuracy: 0.7881\n",
      "Epoch 9: val_accuracy did not improve from 0.77785\n",
      "313/313 [==============================] - 28s 90ms/step - loss: 0.4525 - accuracy: 0.7881 - val_loss: 0.4723 - val_accuracy: 0.7717\n",
      "Epoch 10/50\n",
      "313/313 [==============================] - ETA: 0s - loss: 0.4472 - accuracy: 0.7911\n",
      "Epoch 10: val_accuracy improved from 0.77785 to 0.78000, saving model to models/MINI_TESTS_B04.keras\n",
      "313/313 [==============================] - 31s 99ms/step - loss: 0.4472 - accuracy: 0.7911 - val_loss: 0.4616 - val_accuracy: 0.7800\n",
      "Epoch 11/50\n",
      "313/313 [==============================] - ETA: 0s - loss: 0.4407 - accuracy: 0.7951\n",
      "Epoch 11: val_accuracy improved from 0.78000 to 0.78295, saving model to models/MINI_TESTS_B04.keras\n",
      "313/313 [==============================] - 31s 98ms/step - loss: 0.4407 - accuracy: 0.7951 - val_loss: 0.4612 - val_accuracy: 0.7829\n",
      "Epoch 12/50\n",
      "313/313 [==============================] - ETA: 0s - loss: 0.4358 - accuracy: 0.7982\n",
      "Epoch 12: val_accuracy improved from 0.78295 to 0.78435, saving model to models/MINI_TESTS_B04.keras\n",
      "313/313 [==============================] - 31s 99ms/step - loss: 0.4358 - accuracy: 0.7982 - val_loss: 0.4602 - val_accuracy: 0.7843\n",
      "Epoch 13/50\n",
      "313/313 [==============================] - ETA: 0s - loss: 0.4317 - accuracy: 0.7999\n",
      "Epoch 13: val_accuracy did not improve from 0.78435\n",
      "313/313 [==============================] - 33s 105ms/step - loss: 0.4317 - accuracy: 0.7999 - val_loss: 0.4627 - val_accuracy: 0.7813\n",
      "Epoch 14/50\n",
      "313/313 [==============================] - ETA: 0s - loss: 0.4259 - accuracy: 0.8025\n",
      "Epoch 14: val_accuracy improved from 0.78435 to 0.78620, saving model to models/MINI_TESTS_B04.keras\n",
      "313/313 [==============================] - 33s 105ms/step - loss: 0.4259 - accuracy: 0.8025 - val_loss: 0.4584 - val_accuracy: 0.7862\n",
      "Epoch 15/50\n",
      "313/313 [==============================] - ETA: 0s - loss: 0.4208 - accuracy: 0.8073\n",
      "Epoch 15: val_accuracy did not improve from 0.78620\n",
      "Restoring model weights from the end of the best epoch: 10.\n",
      "313/313 [==============================] - 32s 101ms/step - loss: 0.4208 - accuracy: 0.8073 - val_loss: 0.4562 - val_accuracy: 0.7853\n",
      "Epoch 15: early stopping\n"
     ]
    }
   ],
   "source": [
    "batch_size = 256\n",
    "history = model.fit(\n",
    "        x=X_train_ready, y=y_train, \n",
    "        validation_data=(X_test_ready, y_test), \n",
    "        epochs=50, \n",
    "        batch_size=batch_size, \n",
    "        callbacks=init_callbacks2(f\"MINI_TESTS_B04\"),\n",
    "        verbose=1,\n",
    ")"
   ]
  },
  {
   "cell_type": "code",
   "execution_count": 243,
   "id": "7a26210d-8042-4a98-9707-4d4d10f10e82",
   "metadata": {},
   "outputs": [],
   "source": [
    "model = keras.models.load_model(\"models/MINI_TESTS_B04.keras\")"
   ]
  },
  {
   "cell_type": "code",
   "execution_count": 244,
   "id": "447d4d61-eda0-4669-9364-75aee5b45864",
   "metadata": {},
   "outputs": [
    {
     "name": "stdout",
     "output_type": "stream",
     "text": [
      "625/625 [==============================] - 9s 12ms/step - loss: 0.4584 - accuracy: 0.7862\n"
     ]
    },
    {
     "data": {
      "text/plain": [
       "[0.45842769742012024, 0.7861999869346619]"
      ]
     },
     "execution_count": 244,
     "metadata": {},
     "output_type": "execute_result"
    }
   ],
   "source": [
    "model.evaluate(X_test_ready, y_test)"
   ]
  },
  {
   "cell_type": "markdown",
   "id": "442a2e6f-67a4-46cc-af33-21acbf778202",
   "metadata": {
    "jp-MarkdownHeadingCollapsed": true,
    "tags": []
   },
   "source": [
    "## Test B5 - RNN | Ngram=1 | int | GloveTwitter25-gensim Embedding + MASK + NOT Trainable"
   ]
  },
  {
   "cell_type": "code",
   "execution_count": 302,
   "id": "9018b394-aee3-4f6c-b214-96ce4f80513d",
   "metadata": {},
   "outputs": [],
   "source": [
    "from gensim.models import KeyedVectors\n",
    "import gensim.downloader as api\n",
    "\n",
    "def load_gensim_embedding(embedding_name, binary=False):\n",
    "    \n",
    "    embedding_path = pathlib.Path(pathlib.Path().absolute(), 'data', 'embedding_models', f'{embedding_name}.gz')\n",
    "    try:\n",
    "        if embedding_path.is_file():\n",
    "            print(f\"Loading from {embedding_path}\")\n",
    "            embedding_model = KeyedVectors.load_word2vec_format(embedding_path, binary=binary)\n",
    "        else:\n",
    "            print(\"Loading from the Git repos with API\")\n",
    "            embedding_model = api.load(embedding_name)\n",
    "            \n",
    "        return embedding_model\n",
    "    except Exception as e:\n",
    "        print(f\"The provided embedding model couldn't be loaded correctly: {e}\")\n",
    "        \n",
    "def load_trained_glove(embedding_name):\n",
    "    \n",
    "    def parse_file(file):\n",
    "        embeddings_index = {}\n",
    "        for line in file:\n",
    "            word, coefs = line.split(maxsplit=1)\n",
    "            coefs = np.fromstring(coefs, \"f\", sep=\" \")\n",
    "            embeddings_index[word] = coefs\n",
    "        return embeddings_index\n",
    "\n",
    "    try:\n",
    "        embedding_path = pathlib.Path(pathlib.Path().absolute(), 'data', 'embedding_models', f'{embedding_name}.gz')\n",
    "        if embedding_path.is_file():\n",
    "            print(f\"Loading from gZip: {embedding_path}\")\n",
    "            with gzip.open(embedding_path, mode='rt') as f:\n",
    "                return parse_file(f)\n",
    "        \n",
    "        embedding_path = pathlib.Path(pathlib.Path().absolute(), 'data', 'embedding_models', f'{embedding_name}.txt')\n",
    "        if embedding_path.is_file():\n",
    "            print(f\"Loading from TXT: {embedding_path}\")\n",
    "            with open(embedding_path) as f:\n",
    "                return parse_file(f)\n",
    "        else:\n",
    "            raise FileNotFoundError(f\"No such model found (it must be {embedding_name}.txt or {embedding_name}.gz)\")\n",
    "            \n",
    "    except Exception as e:\n",
    "        print(f\"The provided embedding model couldn't be loaded correctly: {e}\")"
   ]
  },
  {
   "cell_type": "markdown",
   "id": "7b24e495-18f5-415d-9eb4-919d6e104f05",
   "metadata": {},
   "source": [
    "### Standardize & Tokenize"
   ]
  },
  {
   "cell_type": "code",
   "execution_count": 303,
   "id": "59b72ebd-b315-4f5d-b7fa-f9b9d0e4536d",
   "metadata": {},
   "outputs": [],
   "source": [
    "max_length = 60\n",
    "max_tokens = 20000\n",
    "\n",
    "text_vectorizationB5 = tf.keras.layers.TextVectorization(\n",
    "    output_mode='int', # int, multi_hot, count, tf_idf\n",
    "    max_tokens=max_tokens,\n",
    "    ngrams=1,\n",
    "    output_sequence_length=max_length # search the max size by default\n",
    ")"
   ]
  },
  {
   "cell_type": "code",
   "execution_count": 304,
   "id": "be8e56e7-907e-49ca-83b6-85cadefb22b7",
   "metadata": {},
   "outputs": [],
   "source": [
    "text_vectorizationB5.adapt(data_work.text)"
   ]
  },
  {
   "cell_type": "code",
   "execution_count": 305,
   "id": "c7031810-f5b5-49b3-b6bb-4fab81dccb09",
   "metadata": {},
   "outputs": [
    {
     "name": "stdout",
     "output_type": "stream",
     "text": [
      "['', '[UNK]', 'i', 'be', 'to', 'the', 'a', 'not', 'my', 'and', 'it', 'you', 'have', 'do', 'for', 'in', 'go', 'of', 'that', 'get'] ...\n"
     ]
    }
   ],
   "source": [
    "print(text_vectorizationB5.get_vocabulary()[:20], \"...\")"
   ]
  },
  {
   "cell_type": "markdown",
   "id": "48b00b36-17d5-4895-9f53-abc95ec6af01",
   "metadata": {},
   "source": [
    "### Divisons le jeu de données en `Train` et `Test` sets"
   ]
  },
  {
   "cell_type": "raw",
   "id": "2a7999c0-6c96-426f-9ed9-bf3b80e7a9f6",
   "metadata": {
    "tags": []
   },
   "source": [
    "X_train, X_test, y_train, y_test = train_test_split(data_work['text'], data_work['target'], test_size=0.2, random_state=random_seed)"
   ]
  },
  {
   "cell_type": "markdown",
   "id": "6101ce7d-746b-4188-8a43-0737b356e378",
   "metadata": {},
   "source": [
    "### Prepare dataset"
   ]
  },
  {
   "cell_type": "code",
   "execution_count": 306,
   "id": "5be1e201-5499-421f-8e59-5ddfa5fdd533",
   "metadata": {},
   "outputs": [],
   "source": [
    "X_train_ready = text_vectorizationB5(X_train)\n",
    "X_test_ready = text_vectorizationB5(X_test)"
   ]
  },
  {
   "cell_type": "code",
   "execution_count": 307,
   "id": "06e3f3a1-d998-48bc-9d38-d7076b17bae4",
   "metadata": {},
   "outputs": [
    {
     "data": {
      "text/plain": [
       "164240          sit in bed where I will be for the weekend .\n",
       "1084963    home sweet home , back from a great saturday a...\n",
       "Name: text, dtype: object"
      ]
     },
     "execution_count": 307,
     "metadata": {},
     "output_type": "execute_result"
    }
   ],
   "source": [
    "X_train[:2]"
   ]
  },
  {
   "cell_type": "code",
   "execution_count": 308,
   "id": "6e80e240-61d4-4d7a-a415-ee4e1407839f",
   "metadata": {},
   "outputs": [
    {
     "data": {
      "text/plain": [
       "<tf.Tensor: shape=(2, 60), dtype=int64, numpy=\n",
       "array([[  268,    15,   131,   201,     2,    29,     3,    14,     5,\n",
       "          142,     0,     0,     0,     0,     0,     0,     0,     0,\n",
       "            0,     0,     0,     0,     0,     0,     0,     0,     0,\n",
       "            0,     0,     0,     0,     0,     0,     0,     0,     0,\n",
       "            0,     0,     0,     0,     0,     0,     0,     0,     0,\n",
       "            0,     0,     0,     0,     0,     0,     0,     0,     0,\n",
       "            0,     0,     0,     0,     0,     0],\n",
       "       [   78,   348,    78,    57,    58,     6,    90,   397,     9,\n",
       "          300,    25, 19669,     1,     0,     0,     0,     0,     0,\n",
       "            0,     0,     0,     0,     0,     0,     0,     0,     0,\n",
       "            0,     0,     0,     0,     0,     0,     0,     0,     0,\n",
       "            0,     0,     0,     0,     0,     0,     0,     0,     0,\n",
       "            0,     0,     0,     0,     0,     0,     0,     0,     0,\n",
       "            0,     0,     0,     0,     0,     0]])>"
      ]
     },
     "execution_count": 308,
     "metadata": {},
     "output_type": "execute_result"
    }
   ],
   "source": [
    "X_train_ready[:2]"
   ]
  },
  {
   "cell_type": "markdown",
   "id": "1c3da4ec-7728-436d-a70a-023d38241ed0",
   "metadata": {},
   "source": [
    "### Embedding"
   ]
  },
  {
   "cell_type": "code",
   "execution_count": 309,
   "id": "e17cda19-49e5-4d50-bfcf-757e867ed21a",
   "metadata": {},
   "outputs": [
    {
     "name": "stdout",
     "output_type": "stream",
     "text": [
      "Loading from /home/valkea/Dev/OpenClassrooms/Projets_AI/P7/data/embedding_models/glove-twitter-25.gz\n"
     ]
    }
   ],
   "source": [
    "embeddings_index = load_gensim_embedding(\"glove-twitter-25\")"
   ]
  },
  {
   "cell_type": "code",
   "execution_count": 310,
   "id": "cafd5770-b52f-4373-982c-dbd93477b7a2",
   "metadata": {},
   "outputs": [],
   "source": [
    "def convert_embedding_matrix(vocabulary, embeddings_index, max_tokens, embedding_dim=100):\n",
    "    \n",
    "    hits = 0\n",
    "    misses = 0\n",
    "    misses_list = []\n",
    "    \n",
    "    word_index = dict(zip(vocabulary, range(len(vocabulary))))\n",
    "    \n",
    "    embedding_matrix = np.zeros((max_tokens, embedding_dim))\n",
    "    \n",
    "    for word, i in word_index.items():\n",
    "        if i < max_tokens:\n",
    "            try:\n",
    "                embedding_vector = embeddings_index.get_vector(word)\n",
    "            except AttributeError:\n",
    "                embedding_vector = embeddings_index.get(word)\n",
    "            except KeyError:\n",
    "                embedding_vector = None\n",
    "        if embedding_vector is not None:\n",
    "            hits += 1\n",
    "            embedding_matrix[i] = embedding_vector\n",
    "        else:\n",
    "            misses += 1\n",
    "            misses_list.append(word)\n",
    "            \n",
    "    print(f\"Converted {hits} words, and couldn't find {misses} words\")\n",
    "    print(f\"Missing words: {misses_list}\")\n",
    "            \n",
    "    return embedding_matrix"
   ]
  },
  {
   "cell_type": "code",
   "execution_count": 311,
   "id": "449cef1d-958b-459a-9c3a-0cbe891c149f",
   "metadata": {},
   "outputs": [
    {
     "name": "stdout",
     "output_type": "stream",
     "text": [
      "Converted 17511 words, and couldn't find 2489 words\n",
      "Missing words: ['', '[UNK]', '2', '3', '4', '1', '5', '6', '10', '8', '7', '30', '100', '20', '12', '9', '1st', '15', '11', '2day', '2nd', '50', '25', 'Ã¢Â\\x99', 'Â«', '16', 'b4', '18', '2009', '3rd', '17', 'Ã¢Â\\x99Â¥', '24', '13', '40', '21', '2morrow', '80', 'e3', '0', '14', '3d', 'Â°', '2nite', 'wwwtweeteraddercom', 'Â©', '140', '200', '90', 'booo', '33', '70', '09', '1000', 'ughhh', 'f1', '22', '4th', 'gr8', 'boooo', '6th', '500', 'youuu', 'wwwtweeterfollowcom', '21st', '60', 'ps3', '2moro', '19', 'lvatt', '45', '2010', '300', '9th', '5th', '333', '35', 'iÃ¢Â´m', '3gs', '400', '360', 'Ã¯Â¿Â½', 'spymaster', 'itÃ¢Â´s', '430', '7th', '630', '23', '18th', 'yayyy', 'toooo', 'iÃ¯Â¿Â½m', 'Â¦', 'ohhhh', 'mp3', '830', '2night', '26', 'o2', 'every1', '8th', '530', '32', '28', '15th', 'twitterberry', 'asot400', '99', '930', '55', '10th', 'mcflyforgermany', '29', '27', '1230', 'marsiscome', '13th', 'ewww', 'booooo', '730', '20th', 'youuuu', 'wwwiamsoannoyedcom', '800', '2008', '182', '100th', 'meeee', 'heyyy', 'goodmorne', 'delongeday', '5k', '36', '330', '2000', '130', '11th', 'w00', 'twitterfon', 'poope', 'no1', 'methink', 'dissapointe', 'alll', '700', '2hrs', 'Â¡', 'sims3', 'boooooo', '75', '31', '3000', '2gether', '25th', '17th', '10k', '101', 'sum1', 'grrrrr', 'babysitte', '19th', '12th', 'owww', 'meeeee', 'loveee', 'g2', 'flylady', 'comicstrip', 'byeee', '95', '34', '230', '16th', '150', 'uhhh', 'ughhhh', 'tooooo', 'ps2', 'omgggg', 'mannn', 'itÃ¯Â¿Â½s', 'andyhurleyday', 'ahhhhhh', '22nd', 'yeahhh', 'twitterbug', 'misss', 'ittt', 'inaperfectworld', 'h1n1', 'gokey', 'any1', '65', '630am', '600', '1500', '1130', '10000', 'Ã£', 'yessss', 'haveyouever', 'g1', 'chesterday', '48', '447', '420', '42', '2moz', '29th', '24th', '247', '120', 'xboxe3', 'twhirl', 'todayyy', 't20', 'ohhhhh', 'hooo', 'h8', 'fuzzball', 'ewwww', 'donÃ¢Â´t', '911', '39', '23rd', 'yeahhhh', 'wayyyy', 'ubertwitter', 'twitterfox', 'some1', 'seee', 'preppe', 'pleaseee', 'loveeee', 'l8r', 'gahhh', 'errr', 'dayyy', 'bradiewebb', 'allll', '64', '26th', '14th', '1030', 'Â¿', 'youuuuuu', 'yesssss', 'yayyyy', 'whyyy', 'wayyy', 'wahhh', 'teethe', 't4', 'nambu', 'nahhh', 'n97', 'in2', 'hollyoak', '85', '730am', '645', '4ever', '44', '33333', '2mrw', '27th', '250', '200th', 'yummm', 'youuuuu', 'woohooo', 'whooo', 'welll', 'vh1', 'ummmm', 'trackle', 'shhh', 'saveontd', 'p90x', 'nowww', 'mmwante', 'longggg', 'knackere', 'iÃ¢Â\\x80Â\\x99m', 'grrrrrr', 'donÃ¯Â¿Â½t', 'dontyouhate', 'chuckmemonday', 'bricke', 'boreddd', 'aghhh', '98', '92', '90210', '900', '82', '66', '46', '311', '30th', '2morro', '24hrs', '230am', '2003', '1100', '07', 'Ã°', 'Ã¯Â¿Â½Ã¯Â¿Â½', 'Ã¢Â¬Ã¢Â¬', 'Ã¢Â\\x80', 'Ã¢', 'Â»', 'wooohooo', 'win7', 'whyyyy', 'weeeee', 'w8', 'votemcfly', 'tf2', 'robotpickupline', 'pleaseeee', 'm8', 'lollll', 'laterrrr', 'hiiiii', 'hellooo', 'goooo', 'funnnn', 'funnn', 'eatte', 'canÃ¯Â¿Â½t', 'aweee', 'allllll', 'aaahhh', '93', '920', '88', '830am', '62', '57', '56', '530am', '4hrs', '49', '43', '3hotwords', '3333', '320', '31st', '300th', '2morow', '2hours', '228', '221', '2007', '2006', '1999', '180', '1111', '100000', 'Ã°Â½Ã°', 'Ã¢Â\\x80Â\\x93', 'yeaaa', 'yayyyyy', 'x3', 'whyyyyy', 'uppp', 'twibble', 'tiredddd', 'stilll', 'shittt', 'saynow', 'saddd', 'omggg', 'offf', 'mannnn', 'kevinjona', 'guysss', 'gettte', 'g0', 'embarasse', 'cs4', 'brrrr', 'blehhh', 'beee', 'bb10', 'awwwwww', 'awesomeee', 'arghhh', 'anddd', 'alllll', 'ahhhhhhhhhh', 'ahhhhhhhhh', 'ahhhhhhh', 'aahhh', '91', '904', '79', '7000', '68', '5mins', '5hrs', '4get', '38', '37', '330am', '30min', '2days', '28th', '1hr', '15min', '1200', '105', '103', '102', 'Ã\\x97', 'Â®', 'yeeee', 'yeaaaa', 'x2', 'workkk', 'wolframalpha', 'waaahhh', 'waaaaa', 'vÃ£', 'urghhh', 'ummmmm', 'ughhhhhh', 'u2', 'twidroid', 'twibe', 'tonighttttt', 'tinytwitter', 't9', 'str8', 'shhhh', 'preordere', 'photoshoppe', 'peterfacinelli', 'p1', 'owwwww', 'outttt', 'otalia', 'os3', 'okayyy', 'ohhhhhh', 'nowwww', 'nighttt', 'mrtweet', 'militarymon', 'luckyyy', 'knowww', 'jonasliveonfb', 'hoooo', 'helloooo', 'heee', 'h20', 'gooooo', 'goodsex', 'gmorne', 'ff7', 'fcke', 'evry1', 'everrr', 'eu09', 'dissappointe', 'cuteee', 'cgft', 'canÃ¢Â´t', 'cairon', 'c4', 'boooooooo', 'blink182', 'blahhh', 'baddd', 'backkk', 'asylm', 'arkansa', 'amazinggg', 'allway', 'ahhhhhhhhhhhhh', 'ahhhhhhhh', 'ah1n1', 'adword', 'adium', '999', '97', '930am', '8d', '87', '845', '77', '720', '710', '6hrs', '540', '530pm', '500th', '5000', '4rm', '4got', '450', '41', '4000', '3hrs', '345', '30stm', '2yr', '2x', '2maro', '2b', '20mins', '20k', '2012', '1hour', '1700', '123', '110', '104', '1000th', '08', '06', '05', '03', '02', 'Ã¯Â¿Â½25', 'Ã¯Â¿Â½20', 'zenjar', 'yummmmm', 'yummmm', 'youÃ¯Â¿Â½re', 'yippeee', 'yeee', 'yahhh', 'xiii', 'x17live', 'wwwm2easia', 'wowww', 'whoooo', 'wcchicago', 'waaa', 'uplifter', 'ugghhh', 'uggg', 'tÃ£', 'twittercom', 'toooooo', 'tlke', 'sumthe', 'summerrrr', 'suckssss', 'starwar', 'sooooooooooo', 'smcsyd', 'sleepyyy', 'shortstack', 'shaundiviney', 'scamme', 'savechuck', 'sameee', 's1', 'rÃ¡Â»Â\\x93i', 'reposte', 'rc1', 'r2', 'quickpwn', 'pr0n', 'peopleee', 'partyyyy', 'pakcricket', 'outtt', 'ouchhh', 'openhacklondon', 'onnnn', 'ohhhhhhh', 'o0', 'neverende', 'n95', 'muchhh', 'motwani', 'missss', 'mehhh', 'mayhap', 'maternalhealth', 'lvtt', 'lolll', 'lofnotc', 'laterrr', 'l8', 'kn0w', 'jizze', 'iÃ¯Â¿Â½ll', 'ily2', 'hottt', 'homeeee', 'hiii', 'hi5', 'heÃ¢Â\\x80Â\\x99s', 'heyyyyy', 'heyyyy', 'herrr', 'heeee', 'happybdaykrisallen', 'goooooo', 'g4', 'fridayyy', 'fiancÃ£', 'exicte', 'e71', 'donÃ¢Â\\x80Â\\x99t', 'disorient', 'damnnn', 'crazyyy', 'cod4', 'classs', 'bunche', 'borke', 'bookmarke', 'bonker', 'beejive', 'beddd', 'beatwittyparty', 'be4', 'awwwwwwwww', 'awayyy', 'andyclemmensen', 'amazeball', 'amaaaze', 'ahhhhhhhhhhhhhh', 'aaaahhhh', '96', '94', '7am', '76', '74', '73', '715', '71', '69', '67', '615', '61', '6000', '59', '545', '510', '51', '4ward', '4eva', '4days', '47', '435', '415', '400th', '3oh3', '303', '2nyt', '2nt', '2morra', '2d', '245', '212', '20min', '2011', '1s', '1984', '190', '1800', '160', '145', '135', '1215', '112', '107', '106', 'Ã±Â\\x87Ã±Â\\x82Ã°Â¾', 'Ã±Â\\x82Ã°', 'Ã±Â\\x80Ã°', 'Ã±', 'Ã¤Â\\x91i', 'Ã¢Â£60', 'Ã¢Â£6', 'Ã¢Â£500', 'Ã¢Â£250', 'Ã¢Â\\x99Â¥Ã¢Â\\x99Â¥Ã¢Â\\x99Â¥Ã¢Â\\x99Â¥', 'Ã¢Â\\x80Â¢', 'Â´', 'yÃ£Â¤y', 'yippeeee', 'yessssssss', 'yeahhhhh', 'yayyyyyy', 'yamli', 'xxxxxxxxxx', 'xbox360', 'wwiii', 'woowww', 'wonderre', 'willl', 'wayyyyy', 'w4', 'vÃ¯Â¿Â½', 'vs2010', 'vocÃ£Âª', 'v8', 'uxlondon', 'uhhhh', 'txte', 'twittertakeover', 'tweetmic', 'twatlight', 'ts3', 'tivoe', 'tireddd', 'thingsmummysaid', 'theeee', 'thanksgive', 't1i', 'sÃ¯Â¿Â½o', 'sÃ¯Â¿Â½', 'sÃ¡Â»Â\\x9bm', 'swinge', 'summerrr', 'sucksss', 'sourceforge', 'sooooooooooooooo', 'soooooooooooooo', 'sooooooooooooo', 'songbooktv', 'soderling', 'shizzz', 'shitti', 'shhhhh', 'sf4', 'scareddd', 's3', 's2', 's0me', 'rewatche', 'reminise', 'reconnecte', 'reallyyyy', 'radio1', 'pwne', 'ponderland', 'pokÃ£', 'pmse', 'pingfm', 'phÃ¡ÂºÂ£i', 'phishe', 'pfff', 'owwww', 'overrrrrr', 'ouchhhh', 'ooohhh', 'oneee', 'ohhhhhhhhhhh', 'oceanup', 'nÃ¯Â¿Â½', 'nuffnang', 'ne1', 'nawww', 'mÃ¯Â¿Â½', 'myspaceee', 'mw2', 'multitaske', 'mtvmovieaward', 'mp4', 'mp3s', 'mmmmmmmmmm', 'missse', 'meeeeeee', 'mcrchat', 'mangoorangeÃ¯Â¿Â½', 'makerfaire', 'm20eu', 'loveeeeeee', 'loveeeee', 'lottt', 'longggggggg', 'longgg', 'lolllll', 'l4d', 'kradam', 'knowwwww', 'jÃ£', 'journchat', 'jnoub', 'javaone', 'iÃ¢Â´ve', 'iÃ¢Â´d', 'itÃ¢Â\\x80Â\\x99s', 'inflamme', 'indiavotes09', 'imeem', 'ie6', 'iceblock', 'humpthestump', 'hsm3', 'howarewe', 'hmmmmmmmm', 'hiyaaa', 'hiiii', 'heyfever', 'herebeforeoprah', 'hellllll', 'hearte', 'heartbreake', 'hateeee', 'hateee', 'h2o', 'grrrrrrr', 'gqmf', 'goshhh', 'goodÃ¢Â\\x80', 'goodmore', 'gokeyisadouche', 'ginoandfran', 'gimmefailwhale', 'geee', 'gawju', 'fuckkk', 'friende', 'freeee', 'fnwc', 'fixreplie', 'finnishe', 'fightstar', 'fetchmp3', 'farmtown', 'failwhale', 'f4', 'ewwwww', 'everyoneee', 'everrrr', 'euronew', 'elevensestime', 'eeeee', 'e4', 'dyinggg', 'duhhh', 'dreamwidth', 'dissapeare', 'disapointe', 'dieeee', 'destroytwitter', 'delicioussss', 'dayyyy', 'day26', 'd90', 'd3', 'cÃ£Â³', 'cursebird', 'cs3', 'crazyyyy', 'cavz', 'cadÃ£Âª', 'buzzcock', 'buzz140', 'btub', 'brrr', 'brainbone', 'booore', 'boooore', 'booooooooooo', 'booooooooo', 'blockdreamer', 'blesss', 'bfff', 'barakatday', 'awwwwwww', 'arghhhh', 'anoye', 'angelsdemon', 'alllllll', 'agesss', 'aawww', 'aaaahhhhh', 'a2', '900am', '8900', '89', '86', '84', '815', '8000', '7hours', '750', '72', '711', '70th', '700th', '6k', '650', '610', '5yr', '5d', '58', '550', '54', '53', '520', '52', '514', '512', '4yr', '4real', '4ish', '4hour', '4a', '445', '411', '410', '40th', '404', '3uk', '3turnoffwords', '3k', '399', '365', '350', '34th', '339', '3333333', '30secondstomar', '301', '2yo', '2weeks', '2say', '2do', '299', '280', '266', '25hrs', '24hr', '240', '235', '226', '220', '215', '20boysummer', '201', '2004', '2000th', '1yr', '1mil', '1998', '1997', '1995', '1991', '1989', '1981', '1960', '1900', '151', '140conf', '137', '130am', '12hr', '125', '1240', '1230am', '119', '117', '1106', '10x', '10mins', '10min', '1057', '1050', '1000000', '01', 'Ã±Ã±Â\\x82Ã±Â\\x80Ã°', 'Ã±Ã°Â¾Ã°Â²Ã°ÂµÃ±Â\\x82', 'Ã±Ã°Â¸Ã°Â±Ã°Â¾', 'Ã±Â\\x87Ã°', 'Ã°Â½Ã°Â¾', 'Ã°Â½Ã°Âµ', 'Ã°Â¼', 'Ã°ÂºÃ°', 'Ã°Âº', 'Ã°Â·Ã°', 'Ã°Â²Ã°', 'Ã°Â²', 'Ã¯Â¿Â½u', 'Ã¯Â¿Â½s', 'Ã¯Â¿Â½n', 'Ã¯Â¿Â½60', 'Ã¯Â¿Â½500', 'Ã¯Â¿Â½4', 'Ã¯Â£', 'Ã¤Â±m', 'Ã¤Â\\x91ang', 'Ã¤inh', 'Ã£Â¼ber', 'Ã¢Â£50', 'Ã¢Â£5', 'Ã¢Â£35', 'Ã¢Â£200', 'Ã¢Â\\x99Â¥Ã¢Â\\x99Â¥Ã¢Â\\x99Â¥Ã¢Â\\x99Â¥Ã¢Â\\x99Â¥Ã¢Â\\x99Â¥', 'Ã¢Â\\x99Â¥Ã¢Â\\x99Â¥Ã¢Â\\x99Â¥Ã¢Â\\x99Â¥Ã¢Â\\x99Â¥', 'Ã¢Â\\x99Â¥Ã¢Â\\x99Â¥Ã¢Â\\x99Â¥', 'Ã¢Â\\x99Â¥Ã¢Â\\x99Â¥', 'Ã¢Â\\x98Â¼', 'Ã¢Â\\x80Â\\x94', 'Ã\\x97Ã\\x97Âª', 'Ã\\x97Â\\x9bÃ\\x97Â\\x95Ã\\x97Â\\x9f', 'Ã\\x97Â\\x96Ã\\x97Â\\x94', 'zippys', 'zensursula', 'yucko', 'yslow', 'ypou', 'youÃ¢Â´re', 'youuuuuuuuu', 'you3', 'yooooo', 'yettt', 'yesterdayi', 'yessssssssssss', 'yeeeee', 'yeeeaaa', 'yeaaahhh', 'yasss', 'xxxxxxxxxxxxxxxxxxxx', 'xxxxxxxxxxxxxxx', 'xaviermedia', 'x64', 'x1', 'x0x0x', 'wwwstringbeancoffeeshopcom', 'wwwmyvincinet', 'wwwbingcom', 'wundere', 'wtfff', 'wrke', 'writechat', 'wowy', 'wowwww', 'wouldnÃ¯Â¿Â½t', 'workkkk', 'wooooooooo', 'woooooooo', 'woohoooo', 'wonÃ¢Â\\x80Â\\x99t', 'wohooo', 'winphp', 'wikileak', 'whyyyyyyyyy', 'whyyyyyy', 'whooooo', 'whoaaaa', 'whoaaa', 'wheee', 'whattt', 'whaaaa', 'weÃ¢Â´ll', 'westcountry', 'wembeley', 'wellll', 'weibe', 'weekendz', 'weeeeeeee', 'weeeeeee', 'wc3', 'waybeo', 'wansta', 'wallflow', 'wakeboarde', 'waitttt', 'waittt', 'wahhhhhh', 'wahhhhh', 'waaaa', 'w1', 'w0rk', 'w00p', 'vimperator', 'vexcite', 'vampirebeatle', 'vaccume', 'v1', 'uÃ¥Â¾', 'upgo', 'uninstalle', 'unfortunatelly', 'unforch', 'unclip', 'uncharged', 'ummmmmmm', 'uknowradio', 'ui2009', 'uhmmm', 'uhhhhhh', 'uhhhhh', 'ughhhhh', 'u14', 'typo3', 'twtrcon', 'twtfm', 'twittz', 'twitteruniverse', 'twittertrain', 'twitterrr', 'twitterling', 'twitterfriend', 'twitterfall', 'twitterbird', 'twitteratti', 'twitpocalypse', 'twitascope', 'twissup', 'tweetster', 'tweetshrink', 'tweetgrade', 'tuyet', 'tumblarity', 'tristo', 'tribbleagencycom', 'trannie', 'tracys', 'top10', 'toofer', 'tonightttttt', 'tonighttt', 'tomorrowwww', 'togetherrrr', 'todayyyyyy', 'todayim', 'todayi', 'tivod', 'tiggie', 'tiba2', 'thrillbilly', 'threeee', 'thissss', 'thennn', 'themthey', 'themmm', 'thatÃ¯Â¿Â½s', 'thatÃ¢Â\\x80Â\\x99s', 'thanxxx', 'thanksssss', 'thankiie', 'terebithia', 'tenneasee', 'technetvconf', 'techglance', 'teabagge', 'tbpid', 'talkshoe', 't3', 't0day', 'sÃ£Â£o', 'systray', 'synche', 'swelter', 'swagbuck', 'superrrr', 'superrr', 'super8', 'sundayyy', 'sumthink', 'summerwood', 'sudafe', 'sucksssss', 'subray', 'stufff', 'sts125', 'storytelle', 'stomacache', 'stokedi', 'stiche', 'starvingggg', 'squeee', 'spazze', 'sp2', 'souljaboytellem', 'soooooooooooooooo', 'soonnn', 'soderle', 'slooooowly', 'slinkie', 'slidesharenet', 'sleey', 'skillzzzz', 'sistaaa', 'sims2', 'simfriend', 'silkie', 'sighhh', 'show89', 'shabusen', 'sg1', 'sfgiant', 'sfarsit', 'seychelle', 'seruuu', 'seeeee', 'seeee', 'scrapheap', 'schoold', 'sb900', 'saveearl', 'sarmy', 'sanjiyah', 'safari4', 'saderer', 'saddddd', 'sabbeth', 's4c', 's0', 'rÃ£Â¶yksopp', 'roseeeee', 'rlyy', 'righttt', 'rhubard', 'reppe', 'renÃ¯Â¿Â½e', 'relaunche', 'refreshe', 'reformatte', 'reblippin', 'reallyyy', 'really2', 'realllyyy', 're5', 'rawrrrr', 'ramiele', 'quÃ£', 'pÃ£', 'pzone', 'putchi', 'pussyparty', 'punke', 'puddingsunday', 'prrrrrrrrrr', 'protool', 'programmin', 'probabbly', 'privelage', 'prince2', 'preztel', 'prepackage', 'powertwitter', 'potsticker', 'portabello', 'poorley', 'pnuemonia', 'plzzzzzz', 'plzzzz', 'plurke', 'pleaseeeeeeeeeeee', 'pleaseeeeeeee', 'pleaseeeeeee', 'playradioplay', 'pityful', 'pisseed', 'pilpre', 'phÃ£Â²ng', 'photocleaner', 'phoneee', 'pgpm', 'pffff', 'petrify', 'perham', 'pawpawty', 'pavelnedve', 'patzz', 'partyyy', 'parasaile', 'palmpre', 'paintballe', 'pagecom', 'p6', 'overtweet', 'overrr', 'orthodentist', 'opperation', 'openrasta', 'oooohhhh', 'oohhhh', 'okkk', 'ojousama', 'ohhhhhhhh', 'ogrady', 'oetmannshausen', 'oddle', 'octodrive', 'oceanupcom', 'obssese', 'nÃ¯Â¿Â½y', 'nÃ¯Â¿Â½o', 'nyaaa', 'nowwwww', 'notttt', 'nottt', 'nosetap', 'nooothe', 'noooooooooooooooo', 'no17', 'ninguÃ£', 'nightttt', 'nightdont', 'niceeee', 'niceee', 'nhÃ¡', 'neurofen', 'nethe', 'neotel', 'neeeee', 'neeee', 'needfolower', 'nauseate', 'natm2', 'nastie', 'nahhhh', 'nabbie', 'n2', 'n0w', 'n00b', 'mÃ¯Â¿Â½nh', 'mÃ£Â¬nh', 'myfax', 'mx5', 'muskateer', 'muahszz', 'mtub', 'mself', 'mrscjbaran3', 'moyle', 'mousavi', 'morroc', 'morninggggg', 'morninggg', 'moreee', 'mooloolaba', 'monfil', 'momentile', 'molasse', 'modde', 'mmmmmmmmmmmm', 'mmmhmmm', 'mitm4e', 'misunderstandin', 'missfit', 'mimiron', 'mileyworld', 'miht', 'microlog', 'mega64', 'mediteranean', 'mc2', 'maÃ£Â±ana', 'maruzen', 'mannnnnnnn', 'mannnnn', 'mailart', 'magictwackle', 'maddd', 'm3', 'm25', 'm2', 'm1', 'm0re', 'lÃ£Âªn', 'lÃ£', 'lÃ¡ÂºÂ¡i', 'lovessss', 'lovesss', 'lovelyness', 'lovedddd', 'lottttt', 'losy', 'looonnnggg', 'longgggg', 'longboarde', 'lolthe', 'lollllll', 'lol3', 'lmaoooo', 'liquidweb', 'lightskinne', 'lifelink', 'lifeeee', 'lifeee', 'liesgirlstell', 'lefte', 'lcross', 'lazye', 'lazybone', 'lameee', 'lama2', 'ladyjade', 'l8er', 'l4d2', 'l0l', 'l00ks', 'krtv', 'knowwwwwwww', 'knighty', 'kn0', 'kisss', 'kiple', 'kiesler', 'kickboxe', 'keycode', 'keyboarde', 'kanvaas', 'kamuli', 'k9', 'k1', 'journay', 'jordy26', 'jonkate8', 'jonkate', 'jolicloud', 'jk8', 'jetlagge', 'jealousss', 'jb3d', 'janeane', 'iÃ¢Â´ll', 'iÃ¢Â\\x80Â\\x99ll', 'iwth', 'itweetreply', 'itlol', 'iscsi', 'iqad', 'inboxe', 'impend', 'immobiliser', 'iiiiii', 'ie7', 'ickk', 'icbth', 'ibody', 'i7', 'i18n', 'hÃ£', 'hurdy', 'hungryyyy', 'hummm', 'hugeee', 'hrmmm', 'hreat', 'hoÃ£', 'horibble', 'hooooo', 'hooligun', 'homiesss', 'homeee', 'hmmmmmmm', 'him3', 'hicup', 'hickup', 'hhmmm', 'heÃ¯Â¿Â½', 'heyjust', 'herniate', 'hereeee', 'hereee', 'heheee', 'headdddd', 'headachy', 'hawkcam', 'hartly', 'happyyyy', 'hanginÃ¯Â¿Â½', 'halloooooo', 'hahalove', 'haaaaaa', 'haaaa', 'h8s', 'gÃ£Â¼d', 'gwibber', 'guyssss', 'guhhh', 'gueste', 'gtime', 'grux', 'gruele', 'grood', 'greenified', 'greattttt', 'greattt', 'gr88', 'gphone', 'goshhhh', 'goodnightttttt', 'gonzpiration', 'gomtv', 'goddd', 'geete', 'geeki', 'ganke', 'gahhhh', 'gaayyy', 'gaaahhhhhh', 'g8', 'g3', 'fÃ£', 'fuzzie', 'funnnnnnn', 'funnnnn', 'fullfille', 'fufille', 'friendsss', 'fridayyyyy', 'fricka', 'freeeeee', 'freakinggg', 'fowa', 'formula1', 'foreverrr', 'forbe', 'fontswap', 'focke', 'flyyyy', 'flately', 'flaily', 'fireee', 'finshe', 'finise', 'finallyyy', 'fieldnote', 'fffffat', 'fecke', 'fcuke', 'faustÃ£Â£o', 'fastcgi', 'farke', 'familyforce5', 'fakejowhiley', 'fafinettex3', 'facebooke', 'facebookcom', 'ezmuze', 'exciteddd', 'exciite', 'examms', 'ewwwwww', 'evrythe', 'evfn', 'everyonebutton', 'everrrrr', 'etymotic', 'estk', 'espn360', 'espaÃ£Â±ol', 'es21', 'eq2', 'ep09', 'eotc', 'embarrase', 'embarq', 'efal', 'eehhh', 'eeeeeekkk', 'ec2', 'earlyyy', 'e75', 'e2conf', 'dÃ£Â¡m', 'dÃ£', 'drugsss', 'downloadd', 'dougla', 'dopy', 'doinnn', 'dogsitte', 'do3', 'diviney', 'dishearten', 'dieingggg', 'didnÃ¯Â¿Â½t', 'didnÃ¢Â´t', 'didnÃ¢Â\\x80Â\\x99t', 'devistate', 'devaste', 'deperate', 'denter', 'deliberatly', 'deigman', 'ddddd', 'dddd', 'dc3', 'daysss', 'dannygokeyislove', 'dannygokey', 'dampner', 'dammm', 'dailybooth', 'd8', 'd0nt', 'd0', 'cÃ¯Â¿Â½', 'cÃ£Â¡i', 'cyrel', 'cufflink', 'crutche', 'cruisy', 'crashy', 'craptacular', 'crapi', 'cr2', 'cpsia', 'couqh', 'constipate', 'congrad', 'confuzzle', 'conchord', 'conceite', 'computere', 'compiz', 'compfy', 'compell', 'commiseration', 'commentsuscribe', 'comeeee', 'colddd', 'clinky', 'cirvical', 'chuckeu', 'chillaxe', 'chilaxe', 'chickeny', 'chickene', 'chiago', 'cheeeeap', 'checkem', 'cheapie', 'chalean', 'cepic', 'ccky', 'caulin', 'castelvania', 'canÃ¢Â\\x80Â\\x99t', 'cantonfirstfri', 'cannyy', 'caliiforniia', 'cafÃ¯Â¿Â½', 'byeeeee', 'buuuuu', 'buttt', 'businessweekcom', 'bushmill', 'bumed', 'bublegum', 'brrrrrr', 'browncoat', 'broadmeadow', 'breman', 'brecky', 'bozooka', 'boyyy', 'boringgggg', 'boringgg', 'boreddddd', 'boredddd', 'boore', 'boooooore', 'booooooore', 'boooooooooooooooo', 'bonanzle', 'bodystep', 'bluebox', 'blondeyy', 'blockout', 'blipping', 'blehhhh', 'blahhhhhh', 'biggg', 'bfheroe', 'bevere', 'betterrr', 'befoethestorm', 'beecham', 'bedddd', 'beautifulll', 'beachhhh', 'bea09', 'bcp3', 'bb3', 'barkhunt', 'backstabbe', 'backordere', 'back2back', 'babyyy', 'babeeee', 'babeee', 'b0rke', 'awwwwwwwwwww', 'awwwwwwwwww', 'awwwwwwww', 'awsomeee', 'awesometastic', 'awefull', 'aweaome', 'awayyyy', 'assss', 'assedly', 'ashea', 'arsis', 'arhhh', 'arghhhhhhhhh', 'arborist', 'aptw', 'aptana', 'appal', 'ap05', 'anywyas', 'anywhooo', 'anyte', 'anymoreeee', 'annyoe', 'anneyoung', 'aneko', 'andddd', 'ananga', 'amstell', 'amandapalmer', 'altiris', 'alreadyyy', 'allllllll', 'aiysha', 'agreeee', 'acostic', 'abigale', 'abc2', 'aaawwww', 'aaawww', 'aaahhhhh', 'aaahhhh', 'a6', 'a1', '972', '945', '941', '930pm', '916', '901', '8pm', '8o', '8ig', '8a', '850', '840', '83', '820pm', '80th', '7yr', '7pm', '7o', '7k', '7ish', '78', '75th', '754', '740pm', '730pm', '722', '70k', '705', '703', '702', '6b', '69th', '6666', '666', '64bit', '647', '645am', '640', '63', '626', '625', '619', '614', '60th', '60k', '600th', '5pm', '5p', '5ish', '5days', '5am', '5800xm', '5800', '559', '5500', '52nd', '50th', '50p', '50mile', '50k', '50d', '503', '500am', '500000', '50000', '4x4', '4u', '4sure', '4hr', '4hours', '4give', '499', '45th', '45min', '430am', '425am', '425', '40k', '403', '401', '3yo', '3x', '3wordsaftersex', '3mo', '3ish', '3hr', '3days', '3am', '3ala', '340', '33rd', '333333', '329', '325', '315pm', '315', '30ish', '307', '3000th', '30000', '2year', '2mor', '2min', '2k9', '2k8', '2hr', '2go', '2getha', '2get', '28c', '2626', '25min', '258', '251', '245am', '23rds', '234', '233', '2300', '225', '222', '22000', '2200', '2100', '20ish', '209', '2080', '208', '206', '2020', '2015', '2005', '2002', '2001', '1v100', '1h', '1a', '1996', '1994', '1993', '1992', '199', '1988', '1987', '1985', '1977', '1965', '1909', '1902', '1899', '186', '183', '169', '168', '167', '1600', '157', '155', '14hr', '14hours', '144', '1408', '1400', '139', '136', '134', '1330', '131', '12hrs', '12day', '1250', '124', '1234', '1212', '11ish', '1155', '115', '113', '111', '10pm', '10pg', '10hour', '107am', '1030pm', '1025', '1016', '1001', '0ut', '0o', '0655', '0630', '0400', '0300', 'ÃºÂ\\x86Ã»Â\\x8c', 'ÃºÂ\\x86Ã¹Â\\x86Ã¸Â¯', 'Ã¹Ã¹Â\\x8a', 'Ã¹Ã¹Â\\x83Ã¸Â±Ã¸', 'Ã¹Â\\x88Ã¹Â\\x82Ã¸Âª', 'Ã¹Â\\x88Ã¸Â¯', 'Ã¹Â\\x88Ã¸Â§Ã¹Â\\x87Ã¹', 'Ã¹Â\\x88', 'Ã¹Â\\x87Ã¹', 'Ã¹Â\\x87Ã¸Â±ÃºÂ\\x86Ã¹Â\\x86Ã¸Â¯', 'Ã¹Â\\x87Ã¸Â\\x8c', 'Ã¹Â\\x87', 'Ã¹Â\\x86Ã¹Â\\x8aÃ¹Â\\x86Ã¹Â\\x8a', 'Ã¹Â\\x86Ã¹', 'Ã¹Â\\x84', 'Ã¹Â\\x82Ã¸Â·Ã¸Â¹', 'Ã¹', 'Ã¸Â·Ã¹', 'Ã¸Â³Ã¸Â§Ã¹Â\\x84Ã¹', 'Ã¸Â¯Ã»Â\\x8cÃºÂ¯Ã¹Â\\x87', 'Ã¸Â¯Ã¸Â±Ã¸Â¬Ã¸', 'Ã¸ÂªÃ¹Â\\x82Ã¸Â±Ã»Â\\x8cÃ¸Â¨Ã¸Â§', 'Ã¸Â¨Ã¸Â³Ã¹Â\\x8aÃ¹Â\\x83Ã¹Â\\x84Ã¸Â§Ã¸Âª', 'Ã¸Â§Ã¹Â\\x86Ã¸ÂµÃ¸Â\\xadÃ¹Â\\x83', 'Ã¸Â§Ã¹Â\\x84Ã¹', 'Ã¸Â§Ã¹Â\\x84Ã¸Â\\xadÃ¸Â±Ã¸Â§Ã¸Â±Ã¸', 'Ã¸Â§Ã¹Â\\x84Ã¸Â¥Ã¹', 'Ã¸Â§Ã¸Â±Ã¸Â§Ã¸Âª', 'Ã¸Â§Ã¸ÂªÃ¹Â\\x83Ã¹', 'Ã¸Â¥Ã¹Â\\x86Ã¸ÂªÃ¸Â\\xadÃ¸Â§Ã¸Â±Ã¹Â\\x8aÃ¸', 'Ã¸', 'Ã±Ã±Ã°Â½Ã°Â¾', 'Ã±Ã±Â\\x87Ã±Â\\x91Ã±Â\\x82', 'Ã±Ã±Â\\x82Ã°Â¾Ã°Â¼Ã±Â\\x83', 'Ã±Ã±Â\\x82Ã°Â¸Ã°Â¼', 'Ã±Ã±Â\\x82Ã°Âµ', 'Ã±Ã°Â¿Ã°', 'Ã±Ã°Â½Ã°ÂµÃ±Ã±Â\\x83Ã°ÂºÃ°', 'Ã±Ã°Â¼Ã°Â¾Ã±Â\\x82Ã±Â\\x80Ã±', 'Ã±Ã°Â¼Ã°Â¾Ã±Â\\x82Ã±Â\\x80Ã°ÂµÃ±Â\\x82Ã±Â\\x8c', 'Ã±Ã°Â»Ã°ÂµÃ°Â¿Ã°Â¾Ã°Âµ', 'Ã±Ã°ÂºÃ±Â\\x80Ã°', 'Ã±Ã°ÂºÃ°', 'Ã±Ã°Â¸Ã±Â\\x82', 'Ã±Ã°Â¸Ã°Â²Ã±Â\\x8bÃ°Âµ', 'Ã±Â¼', 'Ã±Â\\x88Ã°Â½Ã°Â¾', 'Ã±Â\\x88Ã°Â½Ã°ÂµÃ°Â½Ã±Â\\x8cÃ°ÂºÃ°Â¸Ã°Â¹', 'Ã±Â\\x87Ã±Â\\x82Ã°Â¾Ã±Â\\x82Ã°Â¾', 'Ã±Â\\x87Ã°ÂµÃ±Â\\x80Ã°ÂµÃ°', 'Ã±Â\\x84Ã°', 'Ã±Â\\x83Ã±Â\\x82Ã±Â\\x80Ã°Â¾', 'Ã±Â\\x83', 'Ã±Â\\x82Ã±Ã°Â¶Ã°ÂµÃ±Ã±Â\\x82Ã±Â\\x8c', 'Ã±Â\\x82Ã±Â\\x8cÃ±Ã±', 'Ã±Â\\x82Ã±Â\\x8b', 'Ã±Â\\x82Ã°Â¾Ã°Â¶Ã°Âµ', 'Ã±Â\\x82Ã°Â¾Ã°Â²Ã°', 'Ã±Â\\x82Ã°Â²Ã°Â¸Ã±Â\\x82', 'Ã±Â\\x80Ã±Ã°Â´Ã°Â¾Ã°Â¼', 'Ã±Â\\x80Ã°ÂºÃ°', 'Ã±Â\\x80Ã°Â¸Ã°ÂºÃ°Â¾Ã°Â²Ã±Â\\x8b', 'Ã°Ã°Ã°Ã°Ã°Ã°Ã°Ã°Ã°', 'Ã°Ã°Â¼Ã°', 'Ã°Ã°', 'Ã°Â¿Ã±Â\\x80Ã°Â¾Ã±Â\\x89Ã°Âµ', 'Ã°Â¿Ã±Â\\x80Ã°Â¾Ã±Â\\x87Ã°Â¸Ã°Â¼', 'Ã°Â¿Ã°Â¾Ã±Ã°Â¾Ã°Â²Ã°ÂµÃ±Â\\x82Ã±Â\\x83Ã°Â¹Ã±Â\\x82Ã°Âµ', 'Ã°Â¿Ã°Â¾Ã°Â¼Ã°ÂµÃ°Â½Ã°ÂµÃ°Â½Ã°', 'Ã°Â¿Ã°Â¾Ã°ÂºÃ±Â\\x83Ã°Â¿Ã°', 'Ã°Â¿Ã°Â¾Ã°ÂºÃ°Â¾Ã°Â»Ã°ÂµÃ°Â½Ã°Â¸Ã°Âµ', 'Ã°Â¿Ã°Â¾Ã°ÂºÃ°ÂµÃ±Â\\x80', 'Ã°Â¿Ã°Â¾Ã°', 'Ã°Â¿Ã°Â¾', 'Ã°Â¿Ã°Â¸Ã±Ã°', 'Ã°Â¿Ã°', 'Ã°Â¾Ã±Â\\x83', 'Ã°Â¾Ã°Â¿Ã°ÂµÃ±Â\\x80Ã±Â\\x83', 'Ã°Â¾Ã°Â²Ã±Â\\x80Ã°Â¸Ã°Â½Ã±Ã°ÂºÃ°Â¾Ã°Â³Ã°Â¾', 'Ã°Â½Ã°Â¾Ã°Â²Ã±Â\\x8bÃ°Âµ', 'Ã°Â½Ã°ÂµÃ°Âµ', 'Ã°Â¼Ã±Â\\x83', 'Ã°Â¼Ã°Â¾Ã°Â¶Ã°Â½Ã°Â¾', 'Ã°Â¼Ã°Â½Ã°Â¾Ã°Â³Ã°Â¾', 'Ã°Â¼Ã°Â½Ã°Âµ', 'Ã°Â¼Ã°Â¸Ã±Ã±Â\\x82Ã°Â¾', 'Ã°Â¼Ã°ÂµÃ±Ã±Ã±Â\\x86', 'Ã°Â¼Ã°ÂµÃ°Â¶Ã°Â´Ã±Â\\x83', 'Ã°Â»Ã°Â¸Ã±Â\\x86Ã°Â¾', 'Ã°Â»Ã°Â¸Ã°Â½Ã°Â¸Ã°Â¹', 'Ã°Â»Ã°ÂµÃ±Â\\x82Ã°Â¾Ã°Â¼', 'Ã°ÂºÃ±Â\\x82', 'Ã°ÂºÃ±Â\\x80Ã°', 'Ã°ÂºÃ°Â¾Ã±Â\\x88Ã°ÂºÃ°Â¾Ã°Â¹', 'Ã°ÂºÃ°Â¾Ã°Â¹Ã±Â\\x82Ã°Â¾', 'Ã°ÂºÃ°Â»Ã°Â¸Ã°ÂµÃ°Â½Ã±Â\\x82', 'Ã°ÂºÃ°Â¸Ã±', 'Ã°Â¹', 'Ã°Â·Ã°Â¾Ã°Â½Ã°Âµ', 'Ã°Â·Ã°ÂµÃ°Â¼Ã°Â½Ã±Â\\x8bÃ±', 'Ã°ÂµÃ°Â³Ã°Â¾', 'Ã°Âµ', 'Ã°Â´Ã°Â¾Ã°ÂµÃ±Ã±Â\\x82', 'Ã°Â´Ã°Â¾Ã°Â²Ã°', 'Ã°Â´Ã°Â½Ã±', 'Ã°Â´Ã°Â¶Ã°', 'Ã°Â´Ã°', 'Ã°Â³Ã±Â\\x83Ã°Â»Ã±Ã±Â\\x82Ã±Â\\x8c', 'Ã°Â³Ã°', 'Ã°Â²Ã±Ã°ÂµÃ±', 'Ã°Â²Ã±Ã°ÂµÃ°Â³Ã°Â´Ã°', 'Ã°Â²Ã±Â\\x8bÃ°Â½Ã±Â\\x8c', 'Ã°Â±Ã±Â\\x8bÃ°Â»Ã°Â¾', 'Ã°Â±Ã±Â\\x8bÃ°Â»Ã°', 'Ã°Â±Ã±Â\\x8b', 'Ã°Â±Ã±Â\\x83Ã°Â´Ã±Â\\x83Ã±Â\\x82', 'Ã°Â±Ã±Â\\x80Ã°Â¸Ã±Â\\x82Ã±Â\\x8cÃ±Ã±', 'Ã°Â±Ã°Â±Ã°ÂµÃ±Â\\x80Ã±Â\\x83', 'Ã°Â\\xadÃ±', 'Ã°Â¨Ã°', 'Ã°Â¢Ã°Â¾Ã°ÂºÃ°Â¸Ã°Â¾', 'Ã°Â¡Ã°Â¿Ã°', 'Ã°Â¡Ã°Â»Ã°Â¾Ã°Â²Ã°', 'Ã°Â\\x9fÃ±Â\\x83Ã±Ã±Â\\x82Ã±Â\\x8c', 'Ã°Â\\x9eÃ°Â\\x96Ã°Â\\x94Ã°Â\\x95Ã°Ã°Â\\x98Ã°Â¯', 'Ã°Â\\x9cÃ±Ã±Â\\x80Ã°Â»Ã°Â¸Ã°Â½', 'Ã°Â\\x9aÃ°', 'Ã°Â\\x94Ã°Ã°Â\\x95Ã°Â\\x9c', 'Ã°Â\\x94Ã°Â¾Ã°Â±Ã±Â\\x80Ã°Â¾Ã°Âµ', 'Ã°Â\\x94Ã°', 'Ã°Â\\x93Ã°Â»Ã±Â\\x8eÃ°Âº', 'Ã°Â\\x92', 'Ã¯Ã®Â±', 'Ã¯Â¿Â½Ã¯Â¿Â½Ã¯Â¿Â½Ã¯Â¿Â½Ã¯Â¿Â½', 'Ã¯Â¿Â½Ã¯Â¿Â½Ã¯Â¿Â½Ã¯Â¿Â½', 'Ã¯Â¿Â½Ã¯Â¿Â½Ã¯Â¿Â½', 'Ã¯Â¿Â½Ã¯Â¿Â½no', 'Ã¯Â¿Â½Ã¯Â¿Â½l', 'Ã¯Â¿Â½Ã¯Â¿Â½if', 'Ã¯Â¿Â½xdÃ¯Â¿Â½', 'Ã¯Â¿Â½well', 'Ã¯Â¿Â½tleast', 'Ã¯Â¿Â½sheesh', 'Ã¯Â¿Â½rhus', 'Ã¯Â¿Â½rbol', 'Ã¯Â¿Â½quiÃ¯Â¿Â½n', 'Ã¯Â¿Â½pero', 'Ã¯Â¿Â½only', 'Ã¯Â¿Â½ntil', 'Ã¯Â¿Â½ng', 'Ã¯Â¿Â½nce', 'Ã¯Â¿Â½m', 'Ã¯Â¿Â½liver', 'Ã¯Â¿Â½little', 'Ã¯Â¿Â½k', 'Ã¯Â¿Â½introduction', 'Ã¯Â¿Â½incredible', 'Ã¯Â¿Â½g', 'Ã¯Â¿Â½devolutionÃ¯Â¿Â½', 'Ã¯Â¿Â½cont', 'Ã¯Â¿Â½bertwitter', 'Ã¯Â¿Â½ber', 'Ã¯Â¿Â½700', 'Ã¯Â¿Â½6k', 'Ã¯Â¿Â½68', 'Ã¯Â¿Â½5', 'Ã¯Â¿Â½40', 'Ã¯Â¿Â½399', 'Ã¯Â¿Â½33', 'Ã¯Â¿Â½320', 'Ã¯Â¿Â½32', 'Ã¯Â¿Â½300', 'Ã¯Â¿Â½30', 'Ã¯Â¿Â½3', 'Ã¯Â¿Â½280', 'Ã¯Â¿Â½27', 'Ã¯Â¿Â½240', 'Ã¯Â¿Â½2', 'Ã¯Â¿Â½1790', 'Ã¯Â¿Â½17', 'Ã¯Â¿Â½1540', 'Ã¯Â¿Â½150Ã¯Â¿Â½', 'Ã¯Â¿Â½15', 'Ã¯Â¿Â½135', 'Ã¯Â¿Â½125', 'Ã¯Â¿Â½124', 'Ã¯Â¿Â½100', 'Ã¯Â\\x86Ã®Â\\xadÃ¯Â\\x84Ã®Â¿Ã¯Â\\x82', 'Ã¯Â\\x84Ã®', 'Ã¯Â\\x80Ã®Â\\xadÃ¯Ã¯Â\\x83Ã®Â¹', 'Ã¯Â\\x80Ã®', 'Ã®Â¼Ã¯Ã¯Ã®Â¹Ã¯Â\\x83Ã®Âµ', 'Ã®Â¼Ã®Â¿Ã¯', 'Ã®ÂºÃ®Â±Ã®Â¹Ã®Â½Ã®Â¿Ã¯Ã¯Ã®Â³Ã®ÂµÃ®Â¹Ã®', 'Ã®ÂºÃ®Â¬Ã®Â·Ã®ÂºÃ®Âµ', 'Ã®Â¤Ã¯Â\\x8eÃ¯Ã®Â±', 'Ã®Â\\x9fÃ®Â\\x9fÃ®Â\\x9fÃ®Â\\x9f', 'Ã®Â\\x95', 'Ã®Â\\x94', 'Ã®Â\\x91Â\\x88Ã®Â\\x84Â\\x92i', 'Ã®Â\\x8cÂ\\x8aÃ®Â\\x8c', 'Ã®Â\\x8bÃ®Â\\x8bit', 'Ã®Â\\x84Â\\x88Ã®Â\\x8bÃ®Â\\x8b', 'Ã®Â\\x84Â\\x88', 'Ã®Â\\x84', 'Ã®Â\\x83', 'Ã\\xadÂ´m', 'Ã\\xadÂ\\x95Â\\x98Ã¬Â§Â\\x80Ã«Â§Â\\x8c', 'Ã¬Â¡', 'Ã¬Â\\x9bÃ«Â\\x8cÂ\\x80Ã\\xadÂ\\x95', 'Ã¬Â\\x8bÂ\\x9cÃ¬Â\\x8aÂ¤Ã\\xad', 'Ã¬Â\\x82Â¬Ã\\xadÂ\\x9aÂ\\x8c', 'Ã«Â½Â\\x80Ã¬ÂªÂ½Ã¢Â\\x99Â¥', 'Ã«Â³Â\\x91Ã¬Â\\x95Â\\x84Ã«', 'Ã«Â\\x8bÂ¤Ã¬Â\\x8c', 'Ã«Â\\x8bÂ\\x88Ã«Â\\x8bÂ¤', 'Ã«Â\\x8bÂ\\x88', 'ÃªÂ¿Â\\x88Ã¬Â\\x80', 'Ãª', 'Ã©Â\\x9fÂ³', 'Ã¨', 'Ã§Â´Â\\x80Ã¥Â¿ÂµÃ§Â´Â\\x99s', 'Ã§Â\\x9cÂ\\x9fÃ¦Â\\x98Â¯Ã§Â\\x9aÂ\\x84', 'Ã§Â\\x94Â\\x9fÃ¦Â\\x97Â¥Ã¥Â¿Â«Ã¤Â¹Ã¯Â¼shÃ¤Â\\x93ngrÃ£Â¬', 'Ã¦Â²Â¹Ã¨Â²Â\\x93Ã©Â¤', 'Ã¦Â\\x8eÂ¨', 'Ã¦', 'Ã¥Ã£Â³dÃ¥Âº', 'Ã¥Â¾e', 'Ã¥Â¡oreiz', 'Ã¥Â\\x99eÃ¥Â¡Ã£Â\\xadm', 'Ã¥Â\\x83Ã©Â\\x86Â\\x8b', 'Ã¤Â±ve', 'Ã¤Â\\x91Ã¡Â»Â\\x99ng', 'Ã¤Â\\x91Ã¡Â»c', 'Ã¤Â\\x91Ã¡ÂºÂ§u', 'Ã¤Â\\x91Ã¡ÂºÂ£m', 'Ã¤Â\\x91iÃ¡Â»u', 'Ã¤Â\\x91c', 'Ã£Â¼t', 'Ã£Â¼', 'Ã£Â´n', 'Ã£Â¬s', 'Ã£Â£o', 'Ã£Â¡nd', 'Ã£Â\\x9cber', 'Ã£Â\\x9c', 'Ã£Â\\x96', 'Ã£Â\\x8cÃ£Â\\x82Â\\x93Ã£', 'Ã£Â\\x88', 'Ã£Â\\x83Â\\x84', 'Ã£Â\\x83Â\\x83Ã£Â\\x82Â¯', 'Ã£Â\\x83', 'Ã£Â\\x82Â\\x8bÃ£Â\\x86Ã¯Â½Â\\x9eÃ¯Â¼', 'Ã¢Â¿de', 'Ã¢Â½', 'Ã¢Â¬', 'Ã¢Â«kodakÃ¢', 'Ã¢Â¤Ã¢Â¤Ã¢Â¤Ã¢Â¤Ã¢Â¤', 'Ã¢Â£Ã¢Â£Ã¢Â£', 'Ã¢Â£91900', 'Ã¢Â£9', 'Ã¢Â£75', 'Ã¢Â£70', 'Ã¢Â£600', 'Ã¢Â£5374', 'Ã¢Â£50s', 'Ã¢Â£4950', 'Ã¢Â£45', 'Ã¢Â£440', 'Ã¢Â£400', 'Ã¢Â£350', 'Ã¢Â£349', 'Ã¢Â£340', 'Ã¢Â£330', 'Ã¢Â£310', 'Ã¢Â£30', 'Ã¢Â£3', 'Ã¢Â£2entry', 'Ã¢Â£25', 'Ã¢Â£240', 'Ã¢Â£234', 'Ã¢Â£20', 'Ã¢Â£2', 'Ã¢Â£190', 'Ã¢Â£19', 'Ã¢Â£180', 'Ã¢Â£18', 'Ã¢Â£1499', 'Ã¢Â£14', 'Ã¢Â£130', 'Ã¢Â£10', 'Ã¢Â£', 'Ã¢Â¡Ã¢Â\\xad', 'Ã¢Â¡Ã¢Â¡solo', 'Ã¢Â\\x99Â«revolution', 'Ã¢Â\\x99Â¥Ã¢Â\\x99Â«Ã¢Â\\x80Â¢Ã¢Â¨Ã¢Â\\x98Â¼Ã¢Â\\x99Â¥Ã¢Â\\x99Â«Ã¢Â\\x80Â¢Ã¢Â\\x99Â¥', 'Ã¢Â\\x99Â¥Ã¢Â\\x80Â¢Ã¢Â\\x98Â¼Ã¢Â\\x99Â¥Ã¢Â\\x99Â«Ã¢Â\\x80Â¢', 'Ã¢Â\\x99Â¥scooter', 'Ã¢Â\\x99Â¥2', 'Ã¢Â\\x99Â¡n', 'Ã¢Â\\x98Â\\x87', 'Ã¢Â\\x98', 'Ã¢Â\\x96Â²', 'Ã¢Â\\x88Â\\x9e', 'Ã¢Â\\x86Â\\x91', 'Ã¢Â\\x80Â¢Ã¢Â¶Ã¢Â§Ã¢Â\\x88Â\\x9ee', 'Ã¢Â\\x80Â\\x9cwell', 'Ã¢Â\\x80Â\\x9cthen', 'Ã¢Â\\x80Â\\x9clarg', 'Ã¢Â\\x80Â\\x9cfor', 'Ã¢Â\\x80Â\\x9cbraking', 'Ã¢Â\\x80Â\\x99wince', 'Ã¢Â\\x80Â\\x98treehouse', 'Ã¢Â\\x80Â\\x98prettyoddÃ¢Â\\x80Â\\x99', 'Ã¢Â\\x80Â\\x98everydayÃ¢Â\\x80Â\\x99', 'Ã¢Â\\x80Â\\x94Ã¢', 'Ã¡Â»Â\\x9f', 'Ã¡Â»Â\\x9bc', 'Ã¡Â»Â\\x93', 'Ã¡Â»i', 'Ã\\xa0Â¸Â«Ã\\xa0Â¸Â£Ã\\xa0Â¸Â·Ã\\xa0Â¸Â\\xadÃ\\xa0Â¹Â\\x80Ã\\xa0Â¸Â\\x9bÃ\\xa0Â¸Â¥Ã\\xa0Â¹Â\\x88Ã\\xa0Â¸Â²Ã\\xa0Â¸Â\\x84Ã\\xa0Â¸Â£Ã\\xa0Â¸Â±Ã\\xa0Â¸Â\\x9a', 'Ã\\xa0Â¸Â¡Ã\\xa0Â¸Â\\x99', 'Ã\\xa0Â¸Â\\x9eÃ\\xa0Â¸Â´Ã\\xa0Â¸', 'Ã\\xa0Â¸Â\\x99Ã\\xa0Â¸ÂµÃ\\xa0Â¹Â\\x88Ã\\xa0Â¸Â«Ã\\xa0Â¸Â¡Ã\\xa0Â¸Â²Ã\\xa0Â¸Â¢Ã\\xa0Â¸Â\\x96Ã\\xa0Â¸Â¶Ã\\xa0Â¸Â\\x87Ã\\xa0Â¸Â\\x97Ã\\xa0Â¸ÂµÃ\\xa0Â¹Â\\x88', 'Ã\\xa0Â¸Â\\x93Ã\\xa0Â¸Â¸Ã\\xa0Â¹Â\\x82Ã\\xa0Â¸Â¥Ã\\xa0Â¸', 'Ã\\x97Â\\x9eÃ\\x97ÂªÃ\\x97Ã\\x97Â¨Ã\\x97Âª', 'Ã\\x97Â\\x9eÃ\\x97Â¢', 'Ã\\x97Â\\x9eÃ\\x97Â\\x94', 'Ã\\x97Â\\x9bÃ\\x97Â\\x9bÃ\\x97Â\\x94', 'Ã\\x97Â\\x9bÃ\\x97Â\\x99Ã\\x97Â£', 'Ã\\x97Â\\x9bÃ\\x97Â\\x96Ã\\x97Â\\x94', 'Ã\\x97Â\\x9bÃ\\x97', 'Â·', 'Â¬', 'Â¨', 'Â\\x9cÃ¬Â\\x9e', 'Â\\x9cÃ«', 'Â\\x9c', 'Â\\x84Ã¬', '\\x7fthe', 'zÃ£Â¡ruky', 'zÃ£Â¡kladkou', 'zzzzness', 'zuton', 'zunesupport', 'zunehd', 'zuneega', 'zuljin', 'zukie', 'zubr', 'zorcia', 'zoooooo', 'zooo', 'zoolookologie', 'zoobook', 'zongchick', 'zonecont', 'zomppafie', 'zomme', 'zomj', 'zombietub', 'zombiegasm', 'zombieeess', 'zolagood', 'zohemgee', 'zoffitcha', 'zoeeee', 'zoeboe', 'zmoÃ¥Â¾enÃ£', 'zkus', 'zirtec', 'zingerman', 'zimplistic', 'zhakaria', 'zffffft', 'zet13', 'zerooo', 'zendframework', 'zelfdoen', 'zdravei', 'zaÃ¯Â¿Â½nÃ¯Â¿Â½m', 'zavaroni', 'zariya', 'zaret', 'zaineb', 'zackly', 'zachi', 'zachdj', 'zaaaaaaac', 'z953', 'z100', 'z1', 'yyyyyyyyyyy', 'yyyyaaaaaayyy', 'yyiiihhheee', 'yyeppp', 'yyaaayyy', 'yyaaaayyy', 'ywriter', 'ywhy', 'yuvaraj', 'yuuuuuhuuuuuu', 'yuuuussss', 'yuuss', 'yuuppp', 'yuummms', 'yuuhhh', 'yusssssss', 'yusss', 'yuqi', 'yupyy', 'yuppyuup', 'yupppp', 'yuparoonie', 'yumyummm', 'yumsiess', 'yumny', 'yummyyyyy', 'yummyyyy', 'yummyyy', 'yummmyyyyy', 'yummmmmmmmmmmyyyyy', 'yummmmaaayy', 'yumena', 'yukkie', 'yuhouh', 'yuengle', 'yuckkkks', 'yuckkk', 'yuckforensicyuck', 'yteppei', 'ysls', 'yskype', 'yself', 'yrscant', 'yrbook', 'yputube', 'youÃ¢Â¿Ã¢', 'youÃ¢Â\\x80Â\\x99re', 'youyes', 'youxxxxxxxxx', 'youxo', 'youwhat', 'youwell', 'youuxx', 'youuuuuuuuuuuuuuu', 'youuuuuuuuuuuu', 'youuuuuuuuuuu', 'youuuuuuuuuu', 'youuuuuuuu', 'youuuuuuu', 'youuu3', 'youurrr', 'youube', 'youtubeurl', 'youtubescreeningroomcom', 'youtubecom', 'youthey', 'yousendit', 'yoursthe', 'yourssss', 'yoursjust', 'yoursi', 'youremore', 'youppiii', 'youother', 'youngshatner', 'youngq', 'younglive', 'youngerlol', 'young2', 'young1', 'youmwah', 'youmake', 'youit', 'youim', 'youhow', 'youhe', 'yougw', 'youglife', 'youghal', 'yougenious', 'youdata', 'yosemitee', 'yorly', 'yorkshumber', 'yorkbut', 'yoouuuu', 'yooouuuuu', 'yoooooooooo', 'yoono', 'yonggi', 'yongest', 'yongebloor', 'yolinga', 'yohgurt', 'yogurtworld', 'yogurrrt', 'yoggie', 'yogge', 'yodaroubao', 'yocousin', 'yobery', 'yoandy', 'ynever', 'ynare', 'ykyat', 'yippppiiee', 'yippppeeee', 'yippieee', 'yippeeeeeeeeeeeee', 'yipiiiiiiiiiiii', 'yipeeee', 'yikesssss', 'yiippiiiee', 'yiike', 'yihhh', 'yhk', 'yheaai', 'yezzzzz', 'yeyyy', 'yewww', 'yeungling', 'yetÃ¯Â¿Â½', 'yetttt', 'yetserday', 'yetla3', 'yethering', 'yestreday', 'yesthx', 'yesterdayyy', 'yesterdaynot', 'yesterdayit', 'yesterdayhe', 'yesterdar', 'yestdy', 'yessssssssssssssssssssssss', 'yesssssssssssssss', 'yesssssss', 'yessssss', 'yessshh', 'yeseterday', 'yesert', 'yeseniamonika', 'yes2', 'yerushalayim', 'yerrr', 'yergh', 'yerah', 'yeppp', 'yeppiee', 'yeouch', 'yellowspring', 'yeiiiiiiiiiiiiiiiiii', 'yeiiiiiiiiiiiiii', 'yeiiiii', 'yehhhhh', 'yehezkel', 'yeessss']\n"
     ]
    },
    {
     "data": {
      "text/plain": [
       "array([[ 0.        ,  0.        ,  0.        , ...,  0.        ,\n",
       "         0.        ,  0.        ],\n",
       "       [ 0.        ,  0.        ,  0.        , ...,  0.        ,\n",
       "         0.        ,  0.        ],\n",
       "       [-0.26078999,  0.59108001,  0.61622   , ...,  0.076869  ,\n",
       "         0.22840001,  0.27579999],\n",
       "       ...,\n",
       "       [ 0.33238   ,  0.97724998,  0.33893001, ...,  0.91947001,\n",
       "        -0.32697001, -0.47874999],\n",
       "       [ 0.        ,  0.        ,  0.        , ...,  0.        ,\n",
       "         0.        ,  0.        ],\n",
       "       [ 0.11615   ,  0.004311  , -0.26707   , ...,  0.048804  ,\n",
       "         0.44986001, -0.30335999]])"
      ]
     },
     "execution_count": 311,
     "metadata": {},
     "output_type": "execute_result"
    }
   ],
   "source": [
    "embedding_dim = 25\n",
    "embedding_matrix = convert_embedding_matrix(text_vectorizationB5.get_vocabulary(), embeddings_index, max_tokens, embedding_dim)\n",
    "embedding_matrix"
   ]
  },
  {
   "cell_type": "code",
   "execution_count": 312,
   "id": "1dda54a1-d7c7-4f15-8f1c-5c766b84f94c",
   "metadata": {
    "tags": []
   },
   "outputs": [],
   "source": [
    "# Embedding avec masque\n",
    "embedding_layer = layers.Embedding(\n",
    "    input_dim=max_tokens,\n",
    "    output_dim=embedding_dim,\n",
    "    embeddings_initializer=keras.initializers.Constant(embedding_matrix),\n",
    "    # input_length=max_length,\n",
    "    mask_zero=True,\n",
    "    trainable=False, # <== default is True\n",
    ")"
   ]
  },
  {
   "cell_type": "markdown",
   "id": "89d9e690-daf0-44f7-b709-3a0a8651487a",
   "metadata": {},
   "source": [
    "### Train model"
   ]
  },
  {
   "cell_type": "code",
   "execution_count": 313,
   "id": "b9d24b3b-7e49-4455-8a68-3bd6a409ecf2",
   "metadata": {},
   "outputs": [],
   "source": [
    "model = architecture002(\"adam\", \"binary_crossentropy\", ['accuracy'], embedding_layer)"
   ]
  },
  {
   "cell_type": "code",
   "execution_count": 314,
   "id": "7b5d647d-65bf-4c12-be71-c8f76885f4d4",
   "metadata": {},
   "outputs": [
    {
     "name": "stdout",
     "output_type": "stream",
     "text": [
      "Model: \"model_15\"\n",
      "_________________________________________________________________\n",
      " Layer (type)                Output Shape              Param #   \n",
      "=================================================================\n",
      " input_20 (InputLayer)       [(None, None)]            0         \n",
      "                                                                 \n",
      " embedding_15 (Embedding)    (None, None, 25)          500000    \n",
      "                                                                 \n",
      " bidirectional_12 (Bidirecti  (None, 64)               14848     \n",
      " onal)                                                           \n",
      "                                                                 \n",
      " dropout_15 (Dropout)        (None, 64)                0         \n",
      "                                                                 \n",
      " predictions (Dense)         (None, 1)                 65        \n",
      "                                                                 \n",
      "=================================================================\n",
      "Total params: 514,913\n",
      "Trainable params: 14,913\n",
      "Non-trainable params: 500,000\n",
      "_________________________________________________________________\n"
     ]
    }
   ],
   "source": [
    "model.summary()"
   ]
  },
  {
   "cell_type": "code",
   "execution_count": 315,
   "id": "9a2741c9-4a5c-428a-a85c-ded6b93bd6cf",
   "metadata": {},
   "outputs": [
    {
     "data": {
      "text/plain": [
       "TensorShape([80000, 60])"
      ]
     },
     "execution_count": 315,
     "metadata": {},
     "output_type": "execute_result"
    }
   ],
   "source": [
    "X_train_ready.shape"
   ]
  },
  {
   "cell_type": "code",
   "execution_count": 316,
   "id": "c8d82212-381e-4179-946e-41f4394bb3b8",
   "metadata": {},
   "outputs": [
    {
     "data": {
      "text/plain": [
       "TensorShape([20000, 60])"
      ]
     },
     "execution_count": 316,
     "metadata": {},
     "output_type": "execute_result"
    }
   ],
   "source": [
    "X_test_ready.shape"
   ]
  },
  {
   "cell_type": "code",
   "execution_count": 317,
   "id": "83e76ab4-8155-43f5-b17c-f833feaa8569",
   "metadata": {},
   "outputs": [
    {
     "name": "stdout",
     "output_type": "stream",
     "text": [
      "Epoch 1/50\n",
      "312/313 [============================>.] - ETA: 0s - loss: 0.6160 - accuracy: 0.6534\n",
      "Epoch 1: val_accuracy improved from -inf to 0.68905, saving model to models/MINI_TESTS_B05.keras\n",
      "313/313 [==============================] - 30s 75ms/step - loss: 0.6160 - accuracy: 0.6535 - val_loss: 0.5810 - val_accuracy: 0.6891\n",
      "Epoch 2/50\n",
      "312/313 [============================>.] - ETA: 0s - loss: 0.5740 - accuracy: 0.6972\n",
      "Epoch 2: val_accuracy improved from 0.68905 to 0.71055, saving model to models/MINI_TESTS_B05.keras\n",
      "313/313 [==============================] - 21s 68ms/step - loss: 0.5740 - accuracy: 0.6972 - val_loss: 0.5559 - val_accuracy: 0.7106\n",
      "Epoch 3/50\n",
      "312/313 [============================>.] - ETA: 0s - loss: 0.5555 - accuracy: 0.7140\n",
      "Epoch 3: val_accuracy improved from 0.71055 to 0.72415, saving model to models/MINI_TESTS_B05.keras\n",
      "313/313 [==============================] - 21s 68ms/step - loss: 0.5556 - accuracy: 0.7139 - val_loss: 0.5402 - val_accuracy: 0.7242\n",
      "Epoch 4/50\n",
      "312/313 [============================>.] - ETA: 0s - loss: 0.5387 - accuracy: 0.7263\n",
      "Epoch 4: val_accuracy improved from 0.72415 to 0.73250, saving model to models/MINI_TESTS_B05.keras\n",
      "313/313 [==============================] - 22s 69ms/step - loss: 0.5388 - accuracy: 0.7262 - val_loss: 0.5281 - val_accuracy: 0.7325\n",
      "Epoch 5/50\n",
      "312/313 [============================>.] - ETA: 0s - loss: 0.5278 - accuracy: 0.7350\n",
      "Epoch 5: val_accuracy improved from 0.73250 to 0.73955, saving model to models/MINI_TESTS_B05.keras\n",
      "313/313 [==============================] - 22s 70ms/step - loss: 0.5278 - accuracy: 0.7351 - val_loss: 0.5221 - val_accuracy: 0.7395\n",
      "Epoch 6/50\n",
      "312/313 [============================>.] - ETA: 0s - loss: 0.5192 - accuracy: 0.7405\n",
      "Epoch 6: val_accuracy improved from 0.73955 to 0.75150, saving model to models/MINI_TESTS_B05.keras\n",
      "313/313 [==============================] - 22s 72ms/step - loss: 0.5191 - accuracy: 0.7406 - val_loss: 0.5087 - val_accuracy: 0.7515\n",
      "Epoch 7/50\n",
      "313/313 [==============================] - ETA: 0s - loss: 0.5100 - accuracy: 0.7492\n",
      "Epoch 7: val_accuracy did not improve from 0.75150\n",
      "313/313 [==============================] - 22s 72ms/step - loss: 0.5100 - accuracy: 0.7492 - val_loss: 0.5073 - val_accuracy: 0.7504\n",
      "Epoch 8/50\n",
      "312/313 [============================>.] - ETA: 0s - loss: 0.5034 - accuracy: 0.7529\n",
      "Epoch 8: val_accuracy improved from 0.75150 to 0.75325, saving model to models/MINI_TESTS_B05.keras\n",
      "313/313 [==============================] - 23s 73ms/step - loss: 0.5034 - accuracy: 0.7530 - val_loss: 0.5037 - val_accuracy: 0.7533\n",
      "Epoch 9/50\n",
      "313/313 [==============================] - ETA: 0s - loss: 0.4987 - accuracy: 0.7566\n",
      "Epoch 9: val_accuracy improved from 0.75325 to 0.75530, saving model to models/MINI_TESTS_B05.keras\n",
      "313/313 [==============================] - 22s 71ms/step - loss: 0.4987 - accuracy: 0.7566 - val_loss: 0.4949 - val_accuracy: 0.7553\n",
      "Epoch 10/50\n",
      "312/313 [============================>.] - ETA: 0s - loss: 0.4943 - accuracy: 0.7602\n",
      "Epoch 10: val_accuracy improved from 0.75530 to 0.76305, saving model to models/MINI_TESTS_B05.keras\n",
      "313/313 [==============================] - 24s 77ms/step - loss: 0.4942 - accuracy: 0.7603 - val_loss: 0.4910 - val_accuracy: 0.7631\n",
      "Epoch 11/50\n",
      "313/313 [==============================] - ETA: 0s - loss: 0.4902 - accuracy: 0.7625\n",
      "Epoch 11: val_accuracy did not improve from 0.76305\n",
      "313/313 [==============================] - 23s 73ms/step - loss: 0.4902 - accuracy: 0.7625 - val_loss: 0.4969 - val_accuracy: 0.7563\n",
      "Epoch 12/50\n",
      "312/313 [============================>.] - ETA: 0s - loss: 0.4863 - accuracy: 0.7643\n",
      "Epoch 12: val_accuracy improved from 0.76305 to 0.76420, saving model to models/MINI_TESTS_B05.keras\n",
      "313/313 [==============================] - 22s 71ms/step - loss: 0.4863 - accuracy: 0.7643 - val_loss: 0.4847 - val_accuracy: 0.7642\n",
      "Epoch 13/50\n",
      "312/313 [============================>.] - ETA: 0s - loss: 0.4810 - accuracy: 0.7682\n",
      "Epoch 13: val_accuracy improved from 0.76420 to 0.76835, saving model to models/MINI_TESTS_B05.keras\n",
      "313/313 [==============================] - 23s 74ms/step - loss: 0.4809 - accuracy: 0.7683 - val_loss: 0.4812 - val_accuracy: 0.7684\n",
      "Epoch 14/50\n",
      "312/313 [============================>.] - ETA: 0s - loss: 0.4782 - accuracy: 0.7707\n",
      "Epoch 14: val_accuracy did not improve from 0.76835\n",
      "313/313 [==============================] - 22s 70ms/step - loss: 0.4782 - accuracy: 0.7707 - val_loss: 0.4805 - val_accuracy: 0.7677\n",
      "Epoch 15/50\n",
      "313/313 [==============================] - ETA: 0s - loss: 0.4749 - accuracy: 0.7723\n",
      "Epoch 15: val_accuracy improved from 0.76835 to 0.76915, saving model to models/MINI_TESTS_B05.keras\n",
      "313/313 [==============================] - 24s 76ms/step - loss: 0.4749 - accuracy: 0.7723 - val_loss: 0.4782 - val_accuracy: 0.7692\n",
      "Epoch 16/50\n",
      "312/313 [============================>.] - ETA: 0s - loss: 0.4715 - accuracy: 0.7751\n",
      "Epoch 16: val_accuracy improved from 0.76915 to 0.76970, saving model to models/MINI_TESTS_B05.keras\n",
      "313/313 [==============================] - 23s 74ms/step - loss: 0.4716 - accuracy: 0.7750 - val_loss: 0.4779 - val_accuracy: 0.7697\n",
      "Epoch 17/50\n",
      "312/313 [============================>.] - ETA: 0s - loss: 0.4690 - accuracy: 0.7753\n",
      "Epoch 17: val_accuracy improved from 0.76970 to 0.77220, saving model to models/MINI_TESTS_B05.keras\n",
      "Restoring model weights from the end of the best epoch: 12.\n",
      "313/313 [==============================] - 23s 74ms/step - loss: 0.4690 - accuracy: 0.7753 - val_loss: 0.4756 - val_accuracy: 0.7722\n",
      "Epoch 17: early stopping\n"
     ]
    }
   ],
   "source": [
    "batch_size = 256\n",
    "history = model.fit(\n",
    "        x=X_train_ready, y=y_train, \n",
    "        validation_data=(X_test_ready, y_test), \n",
    "        epochs=50, \n",
    "        batch_size=batch_size, \n",
    "        callbacks=init_callbacks2(f\"MINI_TESTS_B05\"),\n",
    "        verbose=1,\n",
    ")"
   ]
  },
  {
   "cell_type": "code",
   "execution_count": 318,
   "id": "7cb90e75-db24-483a-90f7-754c17add0a8",
   "metadata": {},
   "outputs": [],
   "source": [
    "model = keras.models.load_model(\"models/MINI_TESTS_B05.keras\")"
   ]
  },
  {
   "cell_type": "code",
   "execution_count": 319,
   "id": "d0ff91da-2ef4-4cdb-9955-a9513c41eb45",
   "metadata": {},
   "outputs": [
    {
     "name": "stdout",
     "output_type": "stream",
     "text": [
      "625/625 [==============================] - 8s 9ms/step - loss: 0.4756 - accuracy: 0.7722\n"
     ]
    },
    {
     "data": {
      "text/plain": [
       "[0.4755801260471344, 0.7721999883651733]"
      ]
     },
     "execution_count": 319,
     "metadata": {},
     "output_type": "execute_result"
    }
   ],
   "source": [
    "model.evaluate(X_test_ready, y_test)"
   ]
  },
  {
   "cell_type": "markdown",
   "id": "10904771-2332-4b1c-a39c-b789a898030d",
   "metadata": {
    "jp-MarkdownHeadingCollapsed": true,
    "tags": []
   },
   "source": [
    "## Test B6 - RNN | Ngram=1 | int | GloveTwitter100-gensim Embedding + MASK + NOT Trainable"
   ]
  },
  {
   "cell_type": "markdown",
   "id": "9a276611-866e-4255-9761-52df70e7a69a",
   "metadata": {},
   "source": [
    "### Standardize & Tokenize"
   ]
  },
  {
   "cell_type": "code",
   "execution_count": 334,
   "id": "67fbc363-8d4a-4cff-ae9c-156f2872c2cc",
   "metadata": {},
   "outputs": [],
   "source": [
    "max_length = 60\n",
    "max_tokens = 20000\n",
    "\n",
    "text_vectorizationB6 = tf.keras.layers.TextVectorization(\n",
    "    output_mode='int', # int, multi_hot, count, tf_idf\n",
    "    max_tokens=max_tokens,\n",
    "    ngrams=1,\n",
    "    output_sequence_length=max_length # search the max size by default\n",
    ")"
   ]
  },
  {
   "cell_type": "code",
   "execution_count": 335,
   "id": "e178af84-4eba-48a9-8817-c1a1b9367444",
   "metadata": {},
   "outputs": [],
   "source": [
    "text_vectorizationB6.adapt(data_work.text)"
   ]
  },
  {
   "cell_type": "code",
   "execution_count": 336,
   "id": "a72cb28b-2745-4cff-ad1c-058a6fbc50ed",
   "metadata": {},
   "outputs": [
    {
     "name": "stdout",
     "output_type": "stream",
     "text": [
      "['', '[UNK]', 'i', 'be', 'to', 'the', 'a', 'not', 'my', 'and', 'it', 'you', 'have', 'do', 'for', 'in', 'go', 'of', 'that', 'get'] ...\n"
     ]
    }
   ],
   "source": [
    "print(text_vectorizationB6.get_vocabulary()[:20], \"...\")"
   ]
  },
  {
   "cell_type": "markdown",
   "id": "5a3c6088-6382-4ec8-9e95-d37e665b661a",
   "metadata": {},
   "source": [
    "### Divisons le jeu de données en `Train` et `Test` sets"
   ]
  },
  {
   "cell_type": "raw",
   "id": "297512c0-5b33-471b-abf3-a580b13d40eb",
   "metadata": {
    "tags": []
   },
   "source": [
    "X_train, X_test, y_train, y_test = train_test_split(data_work['text'], data_work['target'], test_size=0.2, random_state=random_seed)"
   ]
  },
  {
   "cell_type": "markdown",
   "id": "13c681a7-8efd-4f74-9f95-6c296df15f90",
   "metadata": {},
   "source": [
    "### Prepare dataset"
   ]
  },
  {
   "cell_type": "code",
   "execution_count": 337,
   "id": "372e9916-dde8-4863-bfcf-5ec062311d26",
   "metadata": {},
   "outputs": [],
   "source": [
    "X_train_ready = text_vectorizationB6(X_train)\n",
    "X_test_ready = text_vectorizationB6(X_test)"
   ]
  },
  {
   "cell_type": "code",
   "execution_count": 338,
   "id": "1fc70583-2a63-4927-b4ff-3c738416d53c",
   "metadata": {},
   "outputs": [
    {
     "data": {
      "text/plain": [
       "164240          sit in bed where I will be for the weekend .\n",
       "1084963    home sweet home , back from a great saturday a...\n",
       "Name: text, dtype: object"
      ]
     },
     "execution_count": 338,
     "metadata": {},
     "output_type": "execute_result"
    }
   ],
   "source": [
    "X_train[:2]"
   ]
  },
  {
   "cell_type": "code",
   "execution_count": 339,
   "id": "e7f9ba4b-f8b9-4443-b4e1-e84342074eae",
   "metadata": {},
   "outputs": [
    {
     "data": {
      "text/plain": [
       "<tf.Tensor: shape=(2, 60), dtype=int64, numpy=\n",
       "array([[  268,    15,   131,   201,     2,    29,     3,    14,     5,\n",
       "          142,     0,     0,     0,     0,     0,     0,     0,     0,\n",
       "            0,     0,     0,     0,     0,     0,     0,     0,     0,\n",
       "            0,     0,     0,     0,     0,     0,     0,     0,     0,\n",
       "            0,     0,     0,     0,     0,     0,     0,     0,     0,\n",
       "            0,     0,     0,     0,     0,     0,     0,     0,     0,\n",
       "            0,     0,     0,     0,     0,     0],\n",
       "       [   78,   348,    78,    57,    58,     6,    90,   397,     9,\n",
       "          300,    25, 19669,     1,     0,     0,     0,     0,     0,\n",
       "            0,     0,     0,     0,     0,     0,     0,     0,     0,\n",
       "            0,     0,     0,     0,     0,     0,     0,     0,     0,\n",
       "            0,     0,     0,     0,     0,     0,     0,     0,     0,\n",
       "            0,     0,     0,     0,     0,     0,     0,     0,     0,\n",
       "            0,     0,     0,     0,     0,     0]])>"
      ]
     },
     "execution_count": 339,
     "metadata": {},
     "output_type": "execute_result"
    }
   ],
   "source": [
    "X_train_ready[:2]"
   ]
  },
  {
   "cell_type": "markdown",
   "id": "b177359d-be74-4f0d-8fbd-f06a7c2c543a",
   "metadata": {},
   "source": [
    "### Embedding"
   ]
  },
  {
   "cell_type": "code",
   "execution_count": 326,
   "id": "bfd9daf8-490b-4628-8573-5cca68db1c7d",
   "metadata": {},
   "outputs": [
    {
     "name": "stdout",
     "output_type": "stream",
     "text": [
      "Loading from /home/valkea/Dev/OpenClassrooms/Projets_AI/P7/data/embedding_models/glove-twitter-100.gz\n"
     ]
    }
   ],
   "source": [
    "embeddings_index = load_gensim_embedding(\"glove-twitter-100\")"
   ]
  },
  {
   "cell_type": "code",
   "execution_count": 340,
   "id": "2984d1ed-1f35-4a6c-98fc-3c0c399eae83",
   "metadata": {},
   "outputs": [
    {
     "name": "stdout",
     "output_type": "stream",
     "text": [
      "Converted 17511 words, and couldn't find 2489 words\n",
      "Missing words: ['', '[UNK]', '2', '3', '4', '1', '5', '6', '10', '8', '7', '30', '100', '20', '12', '9', '1st', '15', '11', '2day', '2nd', '50', '25', 'Ã¢Â\\x99', 'Â«', '16', 'b4', '18', '2009', '3rd', '17', 'Ã¢Â\\x99Â¥', '24', '13', '40', '21', '2morrow', '80', 'e3', '0', '14', '3d', 'Â°', '2nite', 'wwwtweeteraddercom', 'Â©', '140', '200', '90', 'booo', '33', '70', '09', '1000', 'ughhh', 'f1', '22', '4th', 'gr8', 'boooo', '6th', '500', 'youuu', 'wwwtweeterfollowcom', '21st', '60', 'ps3', '2moro', '19', 'lvatt', '45', '2010', '300', '9th', '5th', '333', '35', 'iÃ¢Â´m', '3gs', '400', '360', 'Ã¯Â¿Â½', 'spymaster', 'itÃ¢Â´s', '430', '7th', '630', '23', '18th', 'yayyy', 'toooo', 'iÃ¯Â¿Â½m', 'Â¦', 'ohhhh', 'mp3', '830', '2night', '26', 'o2', 'every1', '8th', '530', '32', '28', '15th', 'twitterberry', 'asot400', '99', '930', '55', '10th', 'mcflyforgermany', '29', '27', '1230', 'marsiscome', '13th', 'ewww', 'booooo', '730', '20th', 'youuuu', 'wwwiamsoannoyedcom', '800', '2008', '182', '100th', 'meeee', 'heyyy', 'goodmorne', 'delongeday', '5k', '36', '330', '2000', '130', '11th', 'w00', 'twitterfon', 'poope', 'no1', 'methink', 'dissapointe', 'alll', '700', '2hrs', 'Â¡', 'sims3', 'boooooo', '75', '31', '3000', '2gether', '25th', '17th', '10k', '101', 'sum1', 'grrrrr', 'babysitte', '19th', '12th', 'owww', 'meeeee', 'loveee', 'g2', 'flylady', 'comicstrip', 'byeee', '95', '34', '230', '16th', '150', 'uhhh', 'ughhhh', 'tooooo', 'ps2', 'omgggg', 'mannn', 'itÃ¯Â¿Â½s', 'andyhurleyday', 'ahhhhhh', '22nd', 'yeahhh', 'twitterbug', 'misss', 'ittt', 'inaperfectworld', 'h1n1', 'gokey', 'any1', '65', '630am', '600', '1500', '1130', '10000', 'Ã£', 'yessss', 'haveyouever', 'g1', 'chesterday', '48', '447', '420', '42', '2moz', '29th', '24th', '247', '120', 'xboxe3', 'twhirl', 'todayyy', 't20', 'ohhhhh', 'hooo', 'h8', 'fuzzball', 'ewwww', 'donÃ¢Â´t', '911', '39', '23rd', 'yeahhhh', 'wayyyy', 'ubertwitter', 'twitterfox', 'some1', 'seee', 'preppe', 'pleaseee', 'loveeee', 'l8r', 'gahhh', 'errr', 'dayyy', 'bradiewebb', 'allll', '64', '26th', '14th', '1030', 'Â¿', 'youuuuuu', 'yesssss', 'yayyyy', 'whyyy', 'wayyy', 'wahhh', 'teethe', 't4', 'nambu', 'nahhh', 'n97', 'in2', 'hollyoak', '85', '730am', '645', '4ever', '44', '33333', '2mrw', '27th', '250', '200th', 'yummm', 'youuuuu', 'woohooo', 'whooo', 'welll', 'vh1', 'ummmm', 'trackle', 'shhh', 'saveontd', 'p90x', 'nowww', 'mmwante', 'longggg', 'knackere', 'iÃ¢Â\\x80Â\\x99m', 'grrrrrr', 'donÃ¯Â¿Â½t', 'dontyouhate', 'chuckmemonday', 'bricke', 'boreddd', 'aghhh', '98', '92', '90210', '900', '82', '66', '46', '311', '30th', '2morro', '24hrs', '230am', '2003', '1100', '07', 'Ã°', 'Ã¯Â¿Â½Ã¯Â¿Â½', 'Ã¢Â¬Ã¢Â¬', 'Ã¢Â\\x80', 'Ã¢', 'Â»', 'wooohooo', 'win7', 'whyyyy', 'weeeee', 'w8', 'votemcfly', 'tf2', 'robotpickupline', 'pleaseeee', 'm8', 'lollll', 'laterrrr', 'hiiiii', 'hellooo', 'goooo', 'funnnn', 'funnn', 'eatte', 'canÃ¯Â¿Â½t', 'aweee', 'allllll', 'aaahhh', '93', '920', '88', '830am', '62', '57', '56', '530am', '4hrs', '49', '43', '3hotwords', '3333', '320', '31st', '300th', '2morow', '2hours', '228', '221', '2007', '2006', '1999', '180', '1111', '100000', 'Ã°Â½Ã°', 'Ã¢Â\\x80Â\\x93', 'yeaaa', 'yayyyyy', 'x3', 'whyyyyy', 'uppp', 'twibble', 'tiredddd', 'stilll', 'shittt', 'saynow', 'saddd', 'omggg', 'offf', 'mannnn', 'kevinjona', 'guysss', 'gettte', 'g0', 'embarasse', 'cs4', 'brrrr', 'blehhh', 'beee', 'bb10', 'awwwwww', 'awesomeee', 'arghhh', 'anddd', 'alllll', 'ahhhhhhhhhh', 'ahhhhhhhhh', 'ahhhhhhh', 'aahhh', '91', '904', '79', '7000', '68', '5mins', '5hrs', '4get', '38', '37', '330am', '30min', '2days', '28th', '1hr', '15min', '1200', '105', '103', '102', 'Ã\\x97', 'Â®', 'yeeee', 'yeaaaa', 'x2', 'workkk', 'wolframalpha', 'waaahhh', 'waaaaa', 'vÃ£', 'urghhh', 'ummmmm', 'ughhhhhh', 'u2', 'twidroid', 'twibe', 'tonighttttt', 'tinytwitter', 't9', 'str8', 'shhhh', 'preordere', 'photoshoppe', 'peterfacinelli', 'p1', 'owwwww', 'outttt', 'otalia', 'os3', 'okayyy', 'ohhhhhh', 'nowwww', 'nighttt', 'mrtweet', 'militarymon', 'luckyyy', 'knowww', 'jonasliveonfb', 'hoooo', 'helloooo', 'heee', 'h20', 'gooooo', 'goodsex', 'gmorne', 'ff7', 'fcke', 'evry1', 'everrr', 'eu09', 'dissappointe', 'cuteee', 'cgft', 'canÃ¢Â´t', 'cairon', 'c4', 'boooooooo', 'blink182', 'blahhh', 'baddd', 'backkk', 'asylm', 'arkansa', 'amazinggg', 'allway', 'ahhhhhhhhhhhhh', 'ahhhhhhhh', 'ah1n1', 'adword', 'adium', '999', '97', '930am', '8d', '87', '845', '77', '720', '710', '6hrs', '540', '530pm', '500th', '5000', '4rm', '4got', '450', '41', '4000', '3hrs', '345', '30stm', '2yr', '2x', '2maro', '2b', '20mins', '20k', '2012', '1hour', '1700', '123', '110', '104', '1000th', '08', '06', '05', '03', '02', 'Ã¯Â¿Â½25', 'Ã¯Â¿Â½20', 'zenjar', 'yummmmm', 'yummmm', 'youÃ¯Â¿Â½re', 'yippeee', 'yeee', 'yahhh', 'xiii', 'x17live', 'wwwm2easia', 'wowww', 'whoooo', 'wcchicago', 'waaa', 'uplifter', 'ugghhh', 'uggg', 'tÃ£', 'twittercom', 'toooooo', 'tlke', 'sumthe', 'summerrrr', 'suckssss', 'starwar', 'sooooooooooo', 'smcsyd', 'sleepyyy', 'shortstack', 'shaundiviney', 'scamme', 'savechuck', 'sameee', 's1', 'rÃ¡Â»Â\\x93i', 'reposte', 'rc1', 'r2', 'quickpwn', 'pr0n', 'peopleee', 'partyyyy', 'pakcricket', 'outtt', 'ouchhh', 'openhacklondon', 'onnnn', 'ohhhhhhh', 'o0', 'neverende', 'n95', 'muchhh', 'motwani', 'missss', 'mehhh', 'mayhap', 'maternalhealth', 'lvtt', 'lolll', 'lofnotc', 'laterrr', 'l8', 'kn0w', 'jizze', 'iÃ¯Â¿Â½ll', 'ily2', 'hottt', 'homeeee', 'hiii', 'hi5', 'heÃ¢Â\\x80Â\\x99s', 'heyyyyy', 'heyyyy', 'herrr', 'heeee', 'happybdaykrisallen', 'goooooo', 'g4', 'fridayyy', 'fiancÃ£', 'exicte', 'e71', 'donÃ¢Â\\x80Â\\x99t', 'disorient', 'damnnn', 'crazyyy', 'cod4', 'classs', 'bunche', 'borke', 'bookmarke', 'bonker', 'beejive', 'beddd', 'beatwittyparty', 'be4', 'awwwwwwwww', 'awayyy', 'andyclemmensen', 'amazeball', 'amaaaze', 'ahhhhhhhhhhhhhh', 'aaaahhhh', '96', '94', '7am', '76', '74', '73', '715', '71', '69', '67', '615', '61', '6000', '59', '545', '510', '51', '4ward', '4eva', '4days', '47', '435', '415', '400th', '3oh3', '303', '2nyt', '2nt', '2morra', '2d', '245', '212', '20min', '2011', '1s', '1984', '190', '1800', '160', '145', '135', '1215', '112', '107', '106', 'Ã±Â\\x87Ã±Â\\x82Ã°Â¾', 'Ã±Â\\x82Ã°', 'Ã±Â\\x80Ã°', 'Ã±', 'Ã¤Â\\x91i', 'Ã¢Â£60', 'Ã¢Â£6', 'Ã¢Â£500', 'Ã¢Â£250', 'Ã¢Â\\x99Â¥Ã¢Â\\x99Â¥Ã¢Â\\x99Â¥Ã¢Â\\x99Â¥', 'Ã¢Â\\x80Â¢', 'Â´', 'yÃ£Â¤y', 'yippeeee', 'yessssssss', 'yeahhhhh', 'yayyyyyy', 'yamli', 'xxxxxxxxxx', 'xbox360', 'wwiii', 'woowww', 'wonderre', 'willl', 'wayyyyy', 'w4', 'vÃ¯Â¿Â½', 'vs2010', 'vocÃ£Âª', 'v8', 'uxlondon', 'uhhhh', 'txte', 'twittertakeover', 'tweetmic', 'twatlight', 'ts3', 'tivoe', 'tireddd', 'thingsmummysaid', 'theeee', 'thanksgive', 't1i', 'sÃ¯Â¿Â½o', 'sÃ¯Â¿Â½', 'sÃ¡Â»Â\\x9bm', 'swinge', 'summerrr', 'sucksss', 'sourceforge', 'sooooooooooooooo', 'soooooooooooooo', 'sooooooooooooo', 'songbooktv', 'soderling', 'shizzz', 'shitti', 'shhhhh', 'sf4', 'scareddd', 's3', 's2', 's0me', 'rewatche', 'reminise', 'reconnecte', 'reallyyyy', 'radio1', 'pwne', 'ponderland', 'pokÃ£', 'pmse', 'pingfm', 'phÃ¡ÂºÂ£i', 'phishe', 'pfff', 'owwww', 'overrrrrr', 'ouchhhh', 'ooohhh', 'oneee', 'ohhhhhhhhhhh', 'oceanup', 'nÃ¯Â¿Â½', 'nuffnang', 'ne1', 'nawww', 'mÃ¯Â¿Â½', 'myspaceee', 'mw2', 'multitaske', 'mtvmovieaward', 'mp4', 'mp3s', 'mmmmmmmmmm', 'missse', 'meeeeeee', 'mcrchat', 'mangoorangeÃ¯Â¿Â½', 'makerfaire', 'm20eu', 'loveeeeeee', 'loveeeee', 'lottt', 'longggggggg', 'longgg', 'lolllll', 'l4d', 'kradam', 'knowwwww', 'jÃ£', 'journchat', 'jnoub', 'javaone', 'iÃ¢Â´ve', 'iÃ¢Â´d', 'itÃ¢Â\\x80Â\\x99s', 'inflamme', 'indiavotes09', 'imeem', 'ie6', 'iceblock', 'humpthestump', 'hsm3', 'howarewe', 'hmmmmmmmm', 'hiyaaa', 'hiiii', 'heyfever', 'herebeforeoprah', 'hellllll', 'hearte', 'heartbreake', 'hateeee', 'hateee', 'h2o', 'grrrrrrr', 'gqmf', 'goshhh', 'goodÃ¢Â\\x80', 'goodmore', 'gokeyisadouche', 'ginoandfran', 'gimmefailwhale', 'geee', 'gawju', 'fuckkk', 'friende', 'freeee', 'fnwc', 'fixreplie', 'finnishe', 'fightstar', 'fetchmp3', 'farmtown', 'failwhale', 'f4', 'ewwwww', 'everyoneee', 'everrrr', 'euronew', 'elevensestime', 'eeeee', 'e4', 'dyinggg', 'duhhh', 'dreamwidth', 'dissapeare', 'disapointe', 'dieeee', 'destroytwitter', 'delicioussss', 'dayyyy', 'day26', 'd90', 'd3', 'cÃ£Â³', 'cursebird', 'cs3', 'crazyyyy', 'cavz', 'cadÃ£Âª', 'buzzcock', 'buzz140', 'btub', 'brrr', 'brainbone', 'booore', 'boooore', 'booooooooooo', 'booooooooo', 'blockdreamer', 'blesss', 'bfff', 'barakatday', 'awwwwwww', 'arghhhh', 'anoye', 'angelsdemon', 'alllllll', 'agesss', 'aawww', 'aaaahhhhh', 'a2', '900am', '8900', '89', '86', '84', '815', '8000', '7hours', '750', '72', '711', '70th', '700th', '6k', '650', '610', '5yr', '5d', '58', '550', '54', '53', '520', '52', '514', '512', '4yr', '4real', '4ish', '4hour', '4a', '445', '411', '410', '40th', '404', '3uk', '3turnoffwords', '3k', '399', '365', '350', '34th', '339', '3333333', '30secondstomar', '301', '2yo', '2weeks', '2say', '2do', '299', '280', '266', '25hrs', '24hr', '240', '235', '226', '220', '215', '20boysummer', '201', '2004', '2000th', '1yr', '1mil', '1998', '1997', '1995', '1991', '1989', '1981', '1960', '1900', '151', '140conf', '137', '130am', '12hr', '125', '1240', '1230am', '119', '117', '1106', '10x', '10mins', '10min', '1057', '1050', '1000000', '01', 'Ã±Ã±Â\\x82Ã±Â\\x80Ã°', 'Ã±Ã°Â¾Ã°Â²Ã°ÂµÃ±Â\\x82', 'Ã±Ã°Â¸Ã°Â±Ã°Â¾', 'Ã±Â\\x87Ã°', 'Ã°Â½Ã°Â¾', 'Ã°Â½Ã°Âµ', 'Ã°Â¼', 'Ã°ÂºÃ°', 'Ã°Âº', 'Ã°Â·Ã°', 'Ã°Â²Ã°', 'Ã°Â²', 'Ã¯Â¿Â½u', 'Ã¯Â¿Â½s', 'Ã¯Â¿Â½n', 'Ã¯Â¿Â½60', 'Ã¯Â¿Â½500', 'Ã¯Â¿Â½4', 'Ã¯Â£', 'Ã¤Â±m', 'Ã¤Â\\x91ang', 'Ã¤inh', 'Ã£Â¼ber', 'Ã¢Â£50', 'Ã¢Â£5', 'Ã¢Â£35', 'Ã¢Â£200', 'Ã¢Â\\x99Â¥Ã¢Â\\x99Â¥Ã¢Â\\x99Â¥Ã¢Â\\x99Â¥Ã¢Â\\x99Â¥Ã¢Â\\x99Â¥', 'Ã¢Â\\x99Â¥Ã¢Â\\x99Â¥Ã¢Â\\x99Â¥Ã¢Â\\x99Â¥Ã¢Â\\x99Â¥', 'Ã¢Â\\x99Â¥Ã¢Â\\x99Â¥Ã¢Â\\x99Â¥', 'Ã¢Â\\x99Â¥Ã¢Â\\x99Â¥', 'Ã¢Â\\x98Â¼', 'Ã¢Â\\x80Â\\x94', 'Ã\\x97Ã\\x97Âª', 'Ã\\x97Â\\x9bÃ\\x97Â\\x95Ã\\x97Â\\x9f', 'Ã\\x97Â\\x96Ã\\x97Â\\x94', 'zippys', 'zensursula', 'yucko', 'yslow', 'ypou', 'youÃ¢Â´re', 'youuuuuuuuu', 'you3', 'yooooo', 'yettt', 'yesterdayi', 'yessssssssssss', 'yeeeee', 'yeeeaaa', 'yeaaahhh', 'yasss', 'xxxxxxxxxxxxxxxxxxxx', 'xxxxxxxxxxxxxxx', 'xaviermedia', 'x64', 'x1', 'x0x0x', 'wwwstringbeancoffeeshopcom', 'wwwmyvincinet', 'wwwbingcom', 'wundere', 'wtfff', 'wrke', 'writechat', 'wowy', 'wowwww', 'wouldnÃ¯Â¿Â½t', 'workkkk', 'wooooooooo', 'woooooooo', 'woohoooo', 'wonÃ¢Â\\x80Â\\x99t', 'wohooo', 'winphp', 'wikileak', 'whyyyyyyyyy', 'whyyyyyy', 'whooooo', 'whoaaaa', 'whoaaa', 'wheee', 'whattt', 'whaaaa', 'weÃ¢Â´ll', 'westcountry', 'wembeley', 'wellll', 'weibe', 'weekendz', 'weeeeeeee', 'weeeeeee', 'wc3', 'waybeo', 'wansta', 'wallflow', 'wakeboarde', 'waitttt', 'waittt', 'wahhhhhh', 'wahhhhh', 'waaaa', 'w1', 'w0rk', 'w00p', 'vimperator', 'vexcite', 'vampirebeatle', 'vaccume', 'v1', 'uÃ¥Â¾', 'upgo', 'uninstalle', 'unfortunatelly', 'unforch', 'unclip', 'uncharged', 'ummmmmmm', 'uknowradio', 'ui2009', 'uhmmm', 'uhhhhhh', 'uhhhhh', 'ughhhhh', 'u14', 'typo3', 'twtrcon', 'twtfm', 'twittz', 'twitteruniverse', 'twittertrain', 'twitterrr', 'twitterling', 'twitterfriend', 'twitterfall', 'twitterbird', 'twitteratti', 'twitpocalypse', 'twitascope', 'twissup', 'tweetster', 'tweetshrink', 'tweetgrade', 'tuyet', 'tumblarity', 'tristo', 'tribbleagencycom', 'trannie', 'tracys', 'top10', 'toofer', 'tonightttttt', 'tonighttt', 'tomorrowwww', 'togetherrrr', 'todayyyyyy', 'todayim', 'todayi', 'tivod', 'tiggie', 'tiba2', 'thrillbilly', 'threeee', 'thissss', 'thennn', 'themthey', 'themmm', 'thatÃ¯Â¿Â½s', 'thatÃ¢Â\\x80Â\\x99s', 'thanxxx', 'thanksssss', 'thankiie', 'terebithia', 'tenneasee', 'technetvconf', 'techglance', 'teabagge', 'tbpid', 'talkshoe', 't3', 't0day', 'sÃ£Â£o', 'systray', 'synche', 'swelter', 'swagbuck', 'superrrr', 'superrr', 'super8', 'sundayyy', 'sumthink', 'summerwood', 'sudafe', 'sucksssss', 'subray', 'stufff', 'sts125', 'storytelle', 'stomacache', 'stokedi', 'stiche', 'starvingggg', 'squeee', 'spazze', 'sp2', 'souljaboytellem', 'soooooooooooooooo', 'soonnn', 'soderle', 'slooooowly', 'slinkie', 'slidesharenet', 'sleey', 'skillzzzz', 'sistaaa', 'sims2', 'simfriend', 'silkie', 'sighhh', 'show89', 'shabusen', 'sg1', 'sfgiant', 'sfarsit', 'seychelle', 'seruuu', 'seeeee', 'seeee', 'scrapheap', 'schoold', 'sb900', 'saveearl', 'sarmy', 'sanjiyah', 'safari4', 'saderer', 'saddddd', 'sabbeth', 's4c', 's0', 'rÃ£Â¶yksopp', 'roseeeee', 'rlyy', 'righttt', 'rhubard', 'reppe', 'renÃ¯Â¿Â½e', 'relaunche', 'refreshe', 'reformatte', 'reblippin', 'reallyyy', 'really2', 'realllyyy', 're5', 'rawrrrr', 'ramiele', 'quÃ£', 'pÃ£', 'pzone', 'putchi', 'pussyparty', 'punke', 'puddingsunday', 'prrrrrrrrrr', 'protool', 'programmin', 'probabbly', 'privelage', 'prince2', 'preztel', 'prepackage', 'powertwitter', 'potsticker', 'portabello', 'poorley', 'pnuemonia', 'plzzzzzz', 'plzzzz', 'plurke', 'pleaseeeeeeeeeeee', 'pleaseeeeeeee', 'pleaseeeeeee', 'playradioplay', 'pityful', 'pisseed', 'pilpre', 'phÃ£Â²ng', 'photocleaner', 'phoneee', 'pgpm', 'pffff', 'petrify', 'perham', 'pawpawty', 'pavelnedve', 'patzz', 'partyyy', 'parasaile', 'palmpre', 'paintballe', 'pagecom', 'p6', 'overtweet', 'overrr', 'orthodentist', 'opperation', 'openrasta', 'oooohhhh', 'oohhhh', 'okkk', 'ojousama', 'ohhhhhhhh', 'ogrady', 'oetmannshausen', 'oddle', 'octodrive', 'oceanupcom', 'obssese', 'nÃ¯Â¿Â½y', 'nÃ¯Â¿Â½o', 'nyaaa', 'nowwwww', 'notttt', 'nottt', 'nosetap', 'nooothe', 'noooooooooooooooo', 'no17', 'ninguÃ£', 'nightttt', 'nightdont', 'niceeee', 'niceee', 'nhÃ¡', 'neurofen', 'nethe', 'neotel', 'neeeee', 'neeee', 'needfolower', 'nauseate', 'natm2', 'nastie', 'nahhhh', 'nabbie', 'n2', 'n0w', 'n00b', 'mÃ¯Â¿Â½nh', 'mÃ£Â¬nh', 'myfax', 'mx5', 'muskateer', 'muahszz', 'mtub', 'mself', 'mrscjbaran3', 'moyle', 'mousavi', 'morroc', 'morninggggg', 'morninggg', 'moreee', 'mooloolaba', 'monfil', 'momentile', 'molasse', 'modde', 'mmmmmmmmmmmm', 'mmmhmmm', 'mitm4e', 'misunderstandin', 'missfit', 'mimiron', 'mileyworld', 'miht', 'microlog', 'mega64', 'mediteranean', 'mc2', 'maÃ£Â±ana', 'maruzen', 'mannnnnnnn', 'mannnnn', 'mailart', 'magictwackle', 'maddd', 'm3', 'm25', 'm2', 'm1', 'm0re', 'lÃ£Âªn', 'lÃ£', 'lÃ¡ÂºÂ¡i', 'lovessss', 'lovesss', 'lovelyness', 'lovedddd', 'lottttt', 'losy', 'looonnnggg', 'longgggg', 'longboarde', 'lolthe', 'lollllll', 'lol3', 'lmaoooo', 'liquidweb', 'lightskinne', 'lifelink', 'lifeeee', 'lifeee', 'liesgirlstell', 'lefte', 'lcross', 'lazye', 'lazybone', 'lameee', 'lama2', 'ladyjade', 'l8er', 'l4d2', 'l0l', 'l00ks', 'krtv', 'knowwwwwwww', 'knighty', 'kn0', 'kisss', 'kiple', 'kiesler', 'kickboxe', 'keycode', 'keyboarde', 'kanvaas', 'kamuli', 'k9', 'k1', 'journay', 'jordy26', 'jonkate8', 'jonkate', 'jolicloud', 'jk8', 'jetlagge', 'jealousss', 'jb3d', 'janeane', 'iÃ¢Â´ll', 'iÃ¢Â\\x80Â\\x99ll', 'iwth', 'itweetreply', 'itlol', 'iscsi', 'iqad', 'inboxe', 'impend', 'immobiliser', 'iiiiii', 'ie7', 'ickk', 'icbth', 'ibody', 'i7', 'i18n', 'hÃ£', 'hurdy', 'hungryyyy', 'hummm', 'hugeee', 'hrmmm', 'hreat', 'hoÃ£', 'horibble', 'hooooo', 'hooligun', 'homiesss', 'homeee', 'hmmmmmmm', 'him3', 'hicup', 'hickup', 'hhmmm', 'heÃ¯Â¿Â½', 'heyjust', 'herniate', 'hereeee', 'hereee', 'heheee', 'headdddd', 'headachy', 'hawkcam', 'hartly', 'happyyyy', 'hanginÃ¯Â¿Â½', 'halloooooo', 'hahalove', 'haaaaaa', 'haaaa', 'h8s', 'gÃ£Â¼d', 'gwibber', 'guyssss', 'guhhh', 'gueste', 'gtime', 'grux', 'gruele', 'grood', 'greenified', 'greattttt', 'greattt', 'gr88', 'gphone', 'goshhhh', 'goodnightttttt', 'gonzpiration', 'gomtv', 'goddd', 'geete', 'geeki', 'ganke', 'gahhhh', 'gaayyy', 'gaaahhhhhh', 'g8', 'g3', 'fÃ£', 'fuzzie', 'funnnnnnn', 'funnnnn', 'fullfille', 'fufille', 'friendsss', 'fridayyyyy', 'fricka', 'freeeeee', 'freakinggg', 'fowa', 'formula1', 'foreverrr', 'forbe', 'fontswap', 'focke', 'flyyyy', 'flately', 'flaily', 'fireee', 'finshe', 'finise', 'finallyyy', 'fieldnote', 'fffffat', 'fecke', 'fcuke', 'faustÃ£Â£o', 'fastcgi', 'farke', 'familyforce5', 'fakejowhiley', 'fafinettex3', 'facebooke', 'facebookcom', 'ezmuze', 'exciteddd', 'exciite', 'examms', 'ewwwwww', 'evrythe', 'evfn', 'everyonebutton', 'everrrrr', 'etymotic', 'estk', 'espn360', 'espaÃ£Â±ol', 'es21', 'eq2', 'ep09', 'eotc', 'embarrase', 'embarq', 'efal', 'eehhh', 'eeeeeekkk', 'ec2', 'earlyyy', 'e75', 'e2conf', 'dÃ£Â¡m', 'dÃ£', 'drugsss', 'downloadd', 'dougla', 'dopy', 'doinnn', 'dogsitte', 'do3', 'diviney', 'dishearten', 'dieingggg', 'didnÃ¯Â¿Â½t', 'didnÃ¢Â´t', 'didnÃ¢Â\\x80Â\\x99t', 'devistate', 'devaste', 'deperate', 'denter', 'deliberatly', 'deigman', 'ddddd', 'dddd', 'dc3', 'daysss', 'dannygokeyislove', 'dannygokey', 'dampner', 'dammm', 'dailybooth', 'd8', 'd0nt', 'd0', 'cÃ¯Â¿Â½', 'cÃ£Â¡i', 'cyrel', 'cufflink', 'crutche', 'cruisy', 'crashy', 'craptacular', 'crapi', 'cr2', 'cpsia', 'couqh', 'constipate', 'congrad', 'confuzzle', 'conchord', 'conceite', 'computere', 'compiz', 'compfy', 'compell', 'commiseration', 'commentsuscribe', 'comeeee', 'colddd', 'clinky', 'cirvical', 'chuckeu', 'chillaxe', 'chilaxe', 'chickeny', 'chickene', 'chiago', 'cheeeeap', 'checkem', 'cheapie', 'chalean', 'cepic', 'ccky', 'caulin', 'castelvania', 'canÃ¢Â\\x80Â\\x99t', 'cantonfirstfri', 'cannyy', 'caliiforniia', 'cafÃ¯Â¿Â½', 'byeeeee', 'buuuuu', 'buttt', 'businessweekcom', 'bushmill', 'bumed', 'bublegum', 'brrrrrr', 'browncoat', 'broadmeadow', 'breman', 'brecky', 'bozooka', 'boyyy', 'boringgggg', 'boringgg', 'boreddddd', 'boredddd', 'boore', 'boooooore', 'booooooore', 'boooooooooooooooo', 'bonanzle', 'bodystep', 'bluebox', 'blondeyy', 'blockout', 'blipping', 'blehhhh', 'blahhhhhh', 'biggg', 'bfheroe', 'bevere', 'betterrr', 'befoethestorm', 'beecham', 'bedddd', 'beautifulll', 'beachhhh', 'bea09', 'bcp3', 'bb3', 'barkhunt', 'backstabbe', 'backordere', 'back2back', 'babyyy', 'babeeee', 'babeee', 'b0rke', 'awwwwwwwwwww', 'awwwwwwwwww', 'awwwwwwww', 'awsomeee', 'awesometastic', 'awefull', 'aweaome', 'awayyyy', 'assss', 'assedly', 'ashea', 'arsis', 'arhhh', 'arghhhhhhhhh', 'arborist', 'aptw', 'aptana', 'appal', 'ap05', 'anywyas', 'anywhooo', 'anyte', 'anymoreeee', 'annyoe', 'anneyoung', 'aneko', 'andddd', 'ananga', 'amstell', 'amandapalmer', 'altiris', 'alreadyyy', 'allllllll', 'aiysha', 'agreeee', 'acostic', 'abigale', 'abc2', 'aaawwww', 'aaawww', 'aaahhhhh', 'aaahhhh', 'a6', 'a1', '972', '945', '941', '930pm', '916', '901', '8pm', '8o', '8ig', '8a', '850', '840', '83', '820pm', '80th', '7yr', '7pm', '7o', '7k', '7ish', '78', '75th', '754', '740pm', '730pm', '722', '70k', '705', '703', '702', '6b', '69th', '6666', '666', '64bit', '647', '645am', '640', '63', '626', '625', '619', '614', '60th', '60k', '600th', '5pm', '5p', '5ish', '5days', '5am', '5800xm', '5800', '559', '5500', '52nd', '50th', '50p', '50mile', '50k', '50d', '503', '500am', '500000', '50000', '4x4', '4u', '4sure', '4hr', '4hours', '4give', '499', '45th', '45min', '430am', '425am', '425', '40k', '403', '401', '3yo', '3x', '3wordsaftersex', '3mo', '3ish', '3hr', '3days', '3am', '3ala', '340', '33rd', '333333', '329', '325', '315pm', '315', '30ish', '307', '3000th', '30000', '2year', '2mor', '2min', '2k9', '2k8', '2hr', '2go', '2getha', '2get', '28c', '2626', '25min', '258', '251', '245am', '23rds', '234', '233', '2300', '225', '222', '22000', '2200', '2100', '20ish', '209', '2080', '208', '206', '2020', '2015', '2005', '2002', '2001', '1v100', '1h', '1a', '1996', '1994', '1993', '1992', '199', '1988', '1987', '1985', '1977', '1965', '1909', '1902', '1899', '186', '183', '169', '168', '167', '1600', '157', '155', '14hr', '14hours', '144', '1408', '1400', '139', '136', '134', '1330', '131', '12hrs', '12day', '1250', '124', '1234', '1212', '11ish', '1155', '115', '113', '111', '10pm', '10pg', '10hour', '107am', '1030pm', '1025', '1016', '1001', '0ut', '0o', '0655', '0630', '0400', '0300', 'ÃºÂ\\x86Ã»Â\\x8c', 'ÃºÂ\\x86Ã¹Â\\x86Ã¸Â¯', 'Ã¹Ã¹Â\\x8a', 'Ã¹Ã¹Â\\x83Ã¸Â±Ã¸', 'Ã¹Â\\x88Ã¹Â\\x82Ã¸Âª', 'Ã¹Â\\x88Ã¸Â¯', 'Ã¹Â\\x88Ã¸Â§Ã¹Â\\x87Ã¹', 'Ã¹Â\\x88', 'Ã¹Â\\x87Ã¹', 'Ã¹Â\\x87Ã¸Â±ÃºÂ\\x86Ã¹Â\\x86Ã¸Â¯', 'Ã¹Â\\x87Ã¸Â\\x8c', 'Ã¹Â\\x87', 'Ã¹Â\\x86Ã¹Â\\x8aÃ¹Â\\x86Ã¹Â\\x8a', 'Ã¹Â\\x86Ã¹', 'Ã¹Â\\x84', 'Ã¹Â\\x82Ã¸Â·Ã¸Â¹', 'Ã¹', 'Ã¸Â·Ã¹', 'Ã¸Â³Ã¸Â§Ã¹Â\\x84Ã¹', 'Ã¸Â¯Ã»Â\\x8cÃºÂ¯Ã¹Â\\x87', 'Ã¸Â¯Ã¸Â±Ã¸Â¬Ã¸', 'Ã¸ÂªÃ¹Â\\x82Ã¸Â±Ã»Â\\x8cÃ¸Â¨Ã¸Â§', 'Ã¸Â¨Ã¸Â³Ã¹Â\\x8aÃ¹Â\\x83Ã¹Â\\x84Ã¸Â§Ã¸Âª', 'Ã¸Â§Ã¹Â\\x86Ã¸ÂµÃ¸Â\\xadÃ¹Â\\x83', 'Ã¸Â§Ã¹Â\\x84Ã¹', 'Ã¸Â§Ã¹Â\\x84Ã¸Â\\xadÃ¸Â±Ã¸Â§Ã¸Â±Ã¸', 'Ã¸Â§Ã¹Â\\x84Ã¸Â¥Ã¹', 'Ã¸Â§Ã¸Â±Ã¸Â§Ã¸Âª', 'Ã¸Â§Ã¸ÂªÃ¹Â\\x83Ã¹', 'Ã¸Â¥Ã¹Â\\x86Ã¸ÂªÃ¸Â\\xadÃ¸Â§Ã¸Â±Ã¹Â\\x8aÃ¸', 'Ã¸', 'Ã±Ã±Ã°Â½Ã°Â¾', 'Ã±Ã±Â\\x87Ã±Â\\x91Ã±Â\\x82', 'Ã±Ã±Â\\x82Ã°Â¾Ã°Â¼Ã±Â\\x83', 'Ã±Ã±Â\\x82Ã°Â¸Ã°Â¼', 'Ã±Ã±Â\\x82Ã°Âµ', 'Ã±Ã°Â¿Ã°', 'Ã±Ã°Â½Ã°ÂµÃ±Ã±Â\\x83Ã°ÂºÃ°', 'Ã±Ã°Â¼Ã°Â¾Ã±Â\\x82Ã±Â\\x80Ã±', 'Ã±Ã°Â¼Ã°Â¾Ã±Â\\x82Ã±Â\\x80Ã°ÂµÃ±Â\\x82Ã±Â\\x8c', 'Ã±Ã°Â»Ã°ÂµÃ°Â¿Ã°Â¾Ã°Âµ', 'Ã±Ã°ÂºÃ±Â\\x80Ã°', 'Ã±Ã°ÂºÃ°', 'Ã±Ã°Â¸Ã±Â\\x82', 'Ã±Ã°Â¸Ã°Â²Ã±Â\\x8bÃ°Âµ', 'Ã±Â¼', 'Ã±Â\\x88Ã°Â½Ã°Â¾', 'Ã±Â\\x88Ã°Â½Ã°ÂµÃ°Â½Ã±Â\\x8cÃ°ÂºÃ°Â¸Ã°Â¹', 'Ã±Â\\x87Ã±Â\\x82Ã°Â¾Ã±Â\\x82Ã°Â¾', 'Ã±Â\\x87Ã°ÂµÃ±Â\\x80Ã°ÂµÃ°', 'Ã±Â\\x84Ã°', 'Ã±Â\\x83Ã±Â\\x82Ã±Â\\x80Ã°Â¾', 'Ã±Â\\x83', 'Ã±Â\\x82Ã±Ã°Â¶Ã°ÂµÃ±Ã±Â\\x82Ã±Â\\x8c', 'Ã±Â\\x82Ã±Â\\x8cÃ±Ã±', 'Ã±Â\\x82Ã±Â\\x8b', 'Ã±Â\\x82Ã°Â¾Ã°Â¶Ã°Âµ', 'Ã±Â\\x82Ã°Â¾Ã°Â²Ã°', 'Ã±Â\\x82Ã°Â²Ã°Â¸Ã±Â\\x82', 'Ã±Â\\x80Ã±Ã°Â´Ã°Â¾Ã°Â¼', 'Ã±Â\\x80Ã°ÂºÃ°', 'Ã±Â\\x80Ã°Â¸Ã°ÂºÃ°Â¾Ã°Â²Ã±Â\\x8b', 'Ã°Ã°Ã°Ã°Ã°Ã°Ã°Ã°Ã°', 'Ã°Ã°Â¼Ã°', 'Ã°Ã°', 'Ã°Â¿Ã±Â\\x80Ã°Â¾Ã±Â\\x89Ã°Âµ', 'Ã°Â¿Ã±Â\\x80Ã°Â¾Ã±Â\\x87Ã°Â¸Ã°Â¼', 'Ã°Â¿Ã°Â¾Ã±Ã°Â¾Ã°Â²Ã°ÂµÃ±Â\\x82Ã±Â\\x83Ã°Â¹Ã±Â\\x82Ã°Âµ', 'Ã°Â¿Ã°Â¾Ã°Â¼Ã°ÂµÃ°Â½Ã°ÂµÃ°Â½Ã°', 'Ã°Â¿Ã°Â¾Ã°ÂºÃ±Â\\x83Ã°Â¿Ã°', 'Ã°Â¿Ã°Â¾Ã°ÂºÃ°Â¾Ã°Â»Ã°ÂµÃ°Â½Ã°Â¸Ã°Âµ', 'Ã°Â¿Ã°Â¾Ã°ÂºÃ°ÂµÃ±Â\\x80', 'Ã°Â¿Ã°Â¾Ã°', 'Ã°Â¿Ã°Â¾', 'Ã°Â¿Ã°Â¸Ã±Ã°', 'Ã°Â¿Ã°', 'Ã°Â¾Ã±Â\\x83', 'Ã°Â¾Ã°Â¿Ã°ÂµÃ±Â\\x80Ã±Â\\x83', 'Ã°Â¾Ã°Â²Ã±Â\\x80Ã°Â¸Ã°Â½Ã±Ã°ÂºÃ°Â¾Ã°Â³Ã°Â¾', 'Ã°Â½Ã°Â¾Ã°Â²Ã±Â\\x8bÃ°Âµ', 'Ã°Â½Ã°ÂµÃ°Âµ', 'Ã°Â¼Ã±Â\\x83', 'Ã°Â¼Ã°Â¾Ã°Â¶Ã°Â½Ã°Â¾', 'Ã°Â¼Ã°Â½Ã°Â¾Ã°Â³Ã°Â¾', 'Ã°Â¼Ã°Â½Ã°Âµ', 'Ã°Â¼Ã°Â¸Ã±Ã±Â\\x82Ã°Â¾', 'Ã°Â¼Ã°ÂµÃ±Ã±Ã±Â\\x86', 'Ã°Â¼Ã°ÂµÃ°Â¶Ã°Â´Ã±Â\\x83', 'Ã°Â»Ã°Â¸Ã±Â\\x86Ã°Â¾', 'Ã°Â»Ã°Â¸Ã°Â½Ã°Â¸Ã°Â¹', 'Ã°Â»Ã°ÂµÃ±Â\\x82Ã°Â¾Ã°Â¼', 'Ã°ÂºÃ±Â\\x82', 'Ã°ÂºÃ±Â\\x80Ã°', 'Ã°ÂºÃ°Â¾Ã±Â\\x88Ã°ÂºÃ°Â¾Ã°Â¹', 'Ã°ÂºÃ°Â¾Ã°Â¹Ã±Â\\x82Ã°Â¾', 'Ã°ÂºÃ°Â»Ã°Â¸Ã°ÂµÃ°Â½Ã±Â\\x82', 'Ã°ÂºÃ°Â¸Ã±', 'Ã°Â¹', 'Ã°Â·Ã°Â¾Ã°Â½Ã°Âµ', 'Ã°Â·Ã°ÂµÃ°Â¼Ã°Â½Ã±Â\\x8bÃ±', 'Ã°ÂµÃ°Â³Ã°Â¾', 'Ã°Âµ', 'Ã°Â´Ã°Â¾Ã°ÂµÃ±Ã±Â\\x82', 'Ã°Â´Ã°Â¾Ã°Â²Ã°', 'Ã°Â´Ã°Â½Ã±', 'Ã°Â´Ã°Â¶Ã°', 'Ã°Â´Ã°', 'Ã°Â³Ã±Â\\x83Ã°Â»Ã±Ã±Â\\x82Ã±Â\\x8c', 'Ã°Â³Ã°', 'Ã°Â²Ã±Ã°ÂµÃ±', 'Ã°Â²Ã±Ã°ÂµÃ°Â³Ã°Â´Ã°', 'Ã°Â²Ã±Â\\x8bÃ°Â½Ã±Â\\x8c', 'Ã°Â±Ã±Â\\x8bÃ°Â»Ã°Â¾', 'Ã°Â±Ã±Â\\x8bÃ°Â»Ã°', 'Ã°Â±Ã±Â\\x8b', 'Ã°Â±Ã±Â\\x83Ã°Â´Ã±Â\\x83Ã±Â\\x82', 'Ã°Â±Ã±Â\\x80Ã°Â¸Ã±Â\\x82Ã±Â\\x8cÃ±Ã±', 'Ã°Â±Ã°Â±Ã°ÂµÃ±Â\\x80Ã±Â\\x83', 'Ã°Â\\xadÃ±', 'Ã°Â¨Ã°', 'Ã°Â¢Ã°Â¾Ã°ÂºÃ°Â¸Ã°Â¾', 'Ã°Â¡Ã°Â¿Ã°', 'Ã°Â¡Ã°Â»Ã°Â¾Ã°Â²Ã°', 'Ã°Â\\x9fÃ±Â\\x83Ã±Ã±Â\\x82Ã±Â\\x8c', 'Ã°Â\\x9eÃ°Â\\x96Ã°Â\\x94Ã°Â\\x95Ã°Ã°Â\\x98Ã°Â¯', 'Ã°Â\\x9cÃ±Ã±Â\\x80Ã°Â»Ã°Â¸Ã°Â½', 'Ã°Â\\x9aÃ°', 'Ã°Â\\x94Ã°Ã°Â\\x95Ã°Â\\x9c', 'Ã°Â\\x94Ã°Â¾Ã°Â±Ã±Â\\x80Ã°Â¾Ã°Âµ', 'Ã°Â\\x94Ã°', 'Ã°Â\\x93Ã°Â»Ã±Â\\x8eÃ°Âº', 'Ã°Â\\x92', 'Ã¯Ã®Â±', 'Ã¯Â¿Â½Ã¯Â¿Â½Ã¯Â¿Â½Ã¯Â¿Â½Ã¯Â¿Â½', 'Ã¯Â¿Â½Ã¯Â¿Â½Ã¯Â¿Â½Ã¯Â¿Â½', 'Ã¯Â¿Â½Ã¯Â¿Â½Ã¯Â¿Â½', 'Ã¯Â¿Â½Ã¯Â¿Â½no', 'Ã¯Â¿Â½Ã¯Â¿Â½l', 'Ã¯Â¿Â½Ã¯Â¿Â½if', 'Ã¯Â¿Â½xdÃ¯Â¿Â½', 'Ã¯Â¿Â½well', 'Ã¯Â¿Â½tleast', 'Ã¯Â¿Â½sheesh', 'Ã¯Â¿Â½rhus', 'Ã¯Â¿Â½rbol', 'Ã¯Â¿Â½quiÃ¯Â¿Â½n', 'Ã¯Â¿Â½pero', 'Ã¯Â¿Â½only', 'Ã¯Â¿Â½ntil', 'Ã¯Â¿Â½ng', 'Ã¯Â¿Â½nce', 'Ã¯Â¿Â½m', 'Ã¯Â¿Â½liver', 'Ã¯Â¿Â½little', 'Ã¯Â¿Â½k', 'Ã¯Â¿Â½introduction', 'Ã¯Â¿Â½incredible', 'Ã¯Â¿Â½g', 'Ã¯Â¿Â½devolutionÃ¯Â¿Â½', 'Ã¯Â¿Â½cont', 'Ã¯Â¿Â½bertwitter', 'Ã¯Â¿Â½ber', 'Ã¯Â¿Â½700', 'Ã¯Â¿Â½6k', 'Ã¯Â¿Â½68', 'Ã¯Â¿Â½5', 'Ã¯Â¿Â½40', 'Ã¯Â¿Â½399', 'Ã¯Â¿Â½33', 'Ã¯Â¿Â½320', 'Ã¯Â¿Â½32', 'Ã¯Â¿Â½300', 'Ã¯Â¿Â½30', 'Ã¯Â¿Â½3', 'Ã¯Â¿Â½280', 'Ã¯Â¿Â½27', 'Ã¯Â¿Â½240', 'Ã¯Â¿Â½2', 'Ã¯Â¿Â½1790', 'Ã¯Â¿Â½17', 'Ã¯Â¿Â½1540', 'Ã¯Â¿Â½150Ã¯Â¿Â½', 'Ã¯Â¿Â½15', 'Ã¯Â¿Â½135', 'Ã¯Â¿Â½125', 'Ã¯Â¿Â½124', 'Ã¯Â¿Â½100', 'Ã¯Â\\x86Ã®Â\\xadÃ¯Â\\x84Ã®Â¿Ã¯Â\\x82', 'Ã¯Â\\x84Ã®', 'Ã¯Â\\x80Ã®Â\\xadÃ¯Ã¯Â\\x83Ã®Â¹', 'Ã¯Â\\x80Ã®', 'Ã®Â¼Ã¯Ã¯Ã®Â¹Ã¯Â\\x83Ã®Âµ', 'Ã®Â¼Ã®Â¿Ã¯', 'Ã®ÂºÃ®Â±Ã®Â¹Ã®Â½Ã®Â¿Ã¯Ã¯Ã®Â³Ã®ÂµÃ®Â¹Ã®', 'Ã®ÂºÃ®Â¬Ã®Â·Ã®ÂºÃ®Âµ', 'Ã®Â¤Ã¯Â\\x8eÃ¯Ã®Â±', 'Ã®Â\\x9fÃ®Â\\x9fÃ®Â\\x9fÃ®Â\\x9f', 'Ã®Â\\x95', 'Ã®Â\\x94', 'Ã®Â\\x91Â\\x88Ã®Â\\x84Â\\x92i', 'Ã®Â\\x8cÂ\\x8aÃ®Â\\x8c', 'Ã®Â\\x8bÃ®Â\\x8bit', 'Ã®Â\\x84Â\\x88Ã®Â\\x8bÃ®Â\\x8b', 'Ã®Â\\x84Â\\x88', 'Ã®Â\\x84', 'Ã®Â\\x83', 'Ã\\xadÂ´m', 'Ã\\xadÂ\\x95Â\\x98Ã¬Â§Â\\x80Ã«Â§Â\\x8c', 'Ã¬Â¡', 'Ã¬Â\\x9bÃ«Â\\x8cÂ\\x80Ã\\xadÂ\\x95', 'Ã¬Â\\x8bÂ\\x9cÃ¬Â\\x8aÂ¤Ã\\xad', 'Ã¬Â\\x82Â¬Ã\\xadÂ\\x9aÂ\\x8c', 'Ã«Â½Â\\x80Ã¬ÂªÂ½Ã¢Â\\x99Â¥', 'Ã«Â³Â\\x91Ã¬Â\\x95Â\\x84Ã«', 'Ã«Â\\x8bÂ¤Ã¬Â\\x8c', 'Ã«Â\\x8bÂ\\x88Ã«Â\\x8bÂ¤', 'Ã«Â\\x8bÂ\\x88', 'ÃªÂ¿Â\\x88Ã¬Â\\x80', 'Ãª', 'Ã©Â\\x9fÂ³', 'Ã¨', 'Ã§Â´Â\\x80Ã¥Â¿ÂµÃ§Â´Â\\x99s', 'Ã§Â\\x9cÂ\\x9fÃ¦Â\\x98Â¯Ã§Â\\x9aÂ\\x84', 'Ã§Â\\x94Â\\x9fÃ¦Â\\x97Â¥Ã¥Â¿Â«Ã¤Â¹Ã¯Â¼shÃ¤Â\\x93ngrÃ£Â¬', 'Ã¦Â²Â¹Ã¨Â²Â\\x93Ã©Â¤', 'Ã¦Â\\x8eÂ¨', 'Ã¦', 'Ã¥Ã£Â³dÃ¥Âº', 'Ã¥Â¾e', 'Ã¥Â¡oreiz', 'Ã¥Â\\x99eÃ¥Â¡Ã£Â\\xadm', 'Ã¥Â\\x83Ã©Â\\x86Â\\x8b', 'Ã¤Â±ve', 'Ã¤Â\\x91Ã¡Â»Â\\x99ng', 'Ã¤Â\\x91Ã¡Â»c', 'Ã¤Â\\x91Ã¡ÂºÂ§u', 'Ã¤Â\\x91Ã¡ÂºÂ£m', 'Ã¤Â\\x91iÃ¡Â»u', 'Ã¤Â\\x91c', 'Ã£Â¼t', 'Ã£Â¼', 'Ã£Â´n', 'Ã£Â¬s', 'Ã£Â£o', 'Ã£Â¡nd', 'Ã£Â\\x9cber', 'Ã£Â\\x9c', 'Ã£Â\\x96', 'Ã£Â\\x8cÃ£Â\\x82Â\\x93Ã£', 'Ã£Â\\x88', 'Ã£Â\\x83Â\\x84', 'Ã£Â\\x83Â\\x83Ã£Â\\x82Â¯', 'Ã£Â\\x83', 'Ã£Â\\x82Â\\x8bÃ£Â\\x86Ã¯Â½Â\\x9eÃ¯Â¼', 'Ã¢Â¿de', 'Ã¢Â½', 'Ã¢Â¬', 'Ã¢Â«kodakÃ¢', 'Ã¢Â¤Ã¢Â¤Ã¢Â¤Ã¢Â¤Ã¢Â¤', 'Ã¢Â£Ã¢Â£Ã¢Â£', 'Ã¢Â£91900', 'Ã¢Â£9', 'Ã¢Â£75', 'Ã¢Â£70', 'Ã¢Â£600', 'Ã¢Â£5374', 'Ã¢Â£50s', 'Ã¢Â£4950', 'Ã¢Â£45', 'Ã¢Â£440', 'Ã¢Â£400', 'Ã¢Â£350', 'Ã¢Â£349', 'Ã¢Â£340', 'Ã¢Â£330', 'Ã¢Â£310', 'Ã¢Â£30', 'Ã¢Â£3', 'Ã¢Â£2entry', 'Ã¢Â£25', 'Ã¢Â£240', 'Ã¢Â£234', 'Ã¢Â£20', 'Ã¢Â£2', 'Ã¢Â£190', 'Ã¢Â£19', 'Ã¢Â£180', 'Ã¢Â£18', 'Ã¢Â£1499', 'Ã¢Â£14', 'Ã¢Â£130', 'Ã¢Â£10', 'Ã¢Â£', 'Ã¢Â¡Ã¢Â\\xad', 'Ã¢Â¡Ã¢Â¡solo', 'Ã¢Â\\x99Â«revolution', 'Ã¢Â\\x99Â¥Ã¢Â\\x99Â«Ã¢Â\\x80Â¢Ã¢Â¨Ã¢Â\\x98Â¼Ã¢Â\\x99Â¥Ã¢Â\\x99Â«Ã¢Â\\x80Â¢Ã¢Â\\x99Â¥', 'Ã¢Â\\x99Â¥Ã¢Â\\x80Â¢Ã¢Â\\x98Â¼Ã¢Â\\x99Â¥Ã¢Â\\x99Â«Ã¢Â\\x80Â¢', 'Ã¢Â\\x99Â¥scooter', 'Ã¢Â\\x99Â¥2', 'Ã¢Â\\x99Â¡n', 'Ã¢Â\\x98Â\\x87', 'Ã¢Â\\x98', 'Ã¢Â\\x96Â²', 'Ã¢Â\\x88Â\\x9e', 'Ã¢Â\\x86Â\\x91', 'Ã¢Â\\x80Â¢Ã¢Â¶Ã¢Â§Ã¢Â\\x88Â\\x9ee', 'Ã¢Â\\x80Â\\x9cwell', 'Ã¢Â\\x80Â\\x9cthen', 'Ã¢Â\\x80Â\\x9clarg', 'Ã¢Â\\x80Â\\x9cfor', 'Ã¢Â\\x80Â\\x9cbraking', 'Ã¢Â\\x80Â\\x99wince', 'Ã¢Â\\x80Â\\x98treehouse', 'Ã¢Â\\x80Â\\x98prettyoddÃ¢Â\\x80Â\\x99', 'Ã¢Â\\x80Â\\x98everydayÃ¢Â\\x80Â\\x99', 'Ã¢Â\\x80Â\\x94Ã¢', 'Ã¡Â»Â\\x9f', 'Ã¡Â»Â\\x9bc', 'Ã¡Â»Â\\x93', 'Ã¡Â»i', 'Ã\\xa0Â¸Â«Ã\\xa0Â¸Â£Ã\\xa0Â¸Â·Ã\\xa0Â¸Â\\xadÃ\\xa0Â¹Â\\x80Ã\\xa0Â¸Â\\x9bÃ\\xa0Â¸Â¥Ã\\xa0Â¹Â\\x88Ã\\xa0Â¸Â²Ã\\xa0Â¸Â\\x84Ã\\xa0Â¸Â£Ã\\xa0Â¸Â±Ã\\xa0Â¸Â\\x9a', 'Ã\\xa0Â¸Â¡Ã\\xa0Â¸Â\\x99', 'Ã\\xa0Â¸Â\\x9eÃ\\xa0Â¸Â´Ã\\xa0Â¸', 'Ã\\xa0Â¸Â\\x99Ã\\xa0Â¸ÂµÃ\\xa0Â¹Â\\x88Ã\\xa0Â¸Â«Ã\\xa0Â¸Â¡Ã\\xa0Â¸Â²Ã\\xa0Â¸Â¢Ã\\xa0Â¸Â\\x96Ã\\xa0Â¸Â¶Ã\\xa0Â¸Â\\x87Ã\\xa0Â¸Â\\x97Ã\\xa0Â¸ÂµÃ\\xa0Â¹Â\\x88', 'Ã\\xa0Â¸Â\\x93Ã\\xa0Â¸Â¸Ã\\xa0Â¹Â\\x82Ã\\xa0Â¸Â¥Ã\\xa0Â¸', 'Ã\\x97Â\\x9eÃ\\x97ÂªÃ\\x97Ã\\x97Â¨Ã\\x97Âª', 'Ã\\x97Â\\x9eÃ\\x97Â¢', 'Ã\\x97Â\\x9eÃ\\x97Â\\x94', 'Ã\\x97Â\\x9bÃ\\x97Â\\x9bÃ\\x97Â\\x94', 'Ã\\x97Â\\x9bÃ\\x97Â\\x99Ã\\x97Â£', 'Ã\\x97Â\\x9bÃ\\x97Â\\x96Ã\\x97Â\\x94', 'Ã\\x97Â\\x9bÃ\\x97', 'Â·', 'Â¬', 'Â¨', 'Â\\x9cÃ¬Â\\x9e', 'Â\\x9cÃ«', 'Â\\x9c', 'Â\\x84Ã¬', '\\x7fthe', 'zÃ£Â¡ruky', 'zÃ£Â¡kladkou', 'zzzzness', 'zuton', 'zunesupport', 'zunehd', 'zuneega', 'zuljin', 'zukie', 'zubr', 'zorcia', 'zoooooo', 'zooo', 'zoolookologie', 'zoobook', 'zongchick', 'zonecont', 'zomppafie', 'zomme', 'zomj', 'zombietub', 'zombiegasm', 'zombieeess', 'zolagood', 'zohemgee', 'zoffitcha', 'zoeeee', 'zoeboe', 'zmoÃ¥Â¾enÃ£', 'zkus', 'zirtec', 'zingerman', 'zimplistic', 'zhakaria', 'zffffft', 'zet13', 'zerooo', 'zendframework', 'zelfdoen', 'zdravei', 'zaÃ¯Â¿Â½nÃ¯Â¿Â½m', 'zavaroni', 'zariya', 'zaret', 'zaineb', 'zackly', 'zachi', 'zachdj', 'zaaaaaaac', 'z953', 'z100', 'z1', 'yyyyyyyyyyy', 'yyyyaaaaaayyy', 'yyiiihhheee', 'yyeppp', 'yyaaayyy', 'yyaaaayyy', 'ywriter', 'ywhy', 'yuvaraj', 'yuuuuuhuuuuuu', 'yuuuussss', 'yuuss', 'yuuppp', 'yuummms', 'yuuhhh', 'yusssssss', 'yusss', 'yuqi', 'yupyy', 'yuppyuup', 'yupppp', 'yuparoonie', 'yumyummm', 'yumsiess', 'yumny', 'yummyyyyy', 'yummyyyy', 'yummyyy', 'yummmyyyyy', 'yummmmmmmmmmmyyyyy', 'yummmmaaayy', 'yumena', 'yukkie', 'yuhouh', 'yuengle', 'yuckkkks', 'yuckkk', 'yuckforensicyuck', 'yteppei', 'ysls', 'yskype', 'yself', 'yrscant', 'yrbook', 'yputube', 'youÃ¢Â¿Ã¢', 'youÃ¢Â\\x80Â\\x99re', 'youyes', 'youxxxxxxxxx', 'youxo', 'youwhat', 'youwell', 'youuxx', 'youuuuuuuuuuuuuuu', 'youuuuuuuuuuuu', 'youuuuuuuuuuu', 'youuuuuuuuuu', 'youuuuuuuu', 'youuuuuuu', 'youuu3', 'youurrr', 'youube', 'youtubeurl', 'youtubescreeningroomcom', 'youtubecom', 'youthey', 'yousendit', 'yoursthe', 'yourssss', 'yoursjust', 'yoursi', 'youremore', 'youppiii', 'youother', 'youngshatner', 'youngq', 'younglive', 'youngerlol', 'young2', 'young1', 'youmwah', 'youmake', 'youit', 'youim', 'youhow', 'youhe', 'yougw', 'youglife', 'youghal', 'yougenious', 'youdata', 'yosemitee', 'yorly', 'yorkshumber', 'yorkbut', 'yoouuuu', 'yooouuuuu', 'yoooooooooo', 'yoono', 'yonggi', 'yongest', 'yongebloor', 'yolinga', 'yohgurt', 'yogurtworld', 'yogurrrt', 'yoggie', 'yogge', 'yodaroubao', 'yocousin', 'yobery', 'yoandy', 'ynever', 'ynare', 'ykyat', 'yippppiiee', 'yippppeeee', 'yippieee', 'yippeeeeeeeeeeeee', 'yipiiiiiiiiiiii', 'yipeeee', 'yikesssss', 'yiippiiiee', 'yiike', 'yihhh', 'yhk', 'yheaai', 'yezzzzz', 'yeyyy', 'yewww', 'yeungling', 'yetÃ¯Â¿Â½', 'yetttt', 'yetserday', 'yetla3', 'yethering', 'yestreday', 'yesthx', 'yesterdayyy', 'yesterdaynot', 'yesterdayit', 'yesterdayhe', 'yesterdar', 'yestdy', 'yessssssssssssssssssssssss', 'yesssssssssssssss', 'yesssssss', 'yessssss', 'yessshh', 'yeseterday', 'yesert', 'yeseniamonika', 'yes2', 'yerushalayim', 'yerrr', 'yergh', 'yerah', 'yeppp', 'yeppiee', 'yeouch', 'yellowspring', 'yeiiiiiiiiiiiiiiiiii', 'yeiiiiiiiiiiiiii', 'yeiiiii', 'yehhhhh', 'yehezkel', 'yeessss']\n"
     ]
    },
    {
     "data": {
      "text/plain": [
       "array([[ 0.00000000e+00,  0.00000000e+00,  0.00000000e+00, ...,\n",
       "         0.00000000e+00,  0.00000000e+00,  0.00000000e+00],\n",
       "       [ 0.00000000e+00,  0.00000000e+00,  0.00000000e+00, ...,\n",
       "         0.00000000e+00,  0.00000000e+00,  0.00000000e+00],\n",
       "       [-3.96210002e-04,  4.56699997e-01,  3.38900000e-01, ...,\n",
       "        -4.29100007e-01,  1.07459998e+00, -3.65500003e-01],\n",
       "       ...,\n",
       "       [-3.11760008e-01, -6.01119995e-01, -7.06110001e-01, ...,\n",
       "         4.73870009e-01,  2.89350003e-01,  2.46649995e-01],\n",
       "       [ 0.00000000e+00,  0.00000000e+00,  0.00000000e+00, ...,\n",
       "         0.00000000e+00,  0.00000000e+00,  0.00000000e+00],\n",
       "       [ 2.26779997e-01, -3.51490006e-02,  2.76549995e-01, ...,\n",
       "         2.95940012e-01,  5.91589987e-01,  3.60040009e-01]])"
      ]
     },
     "execution_count": 340,
     "metadata": {},
     "output_type": "execute_result"
    }
   ],
   "source": [
    "embedding_dim = 100\n",
    "embedding_matrix = convert_embedding_matrix(text_vectorizationB6.get_vocabulary(), embeddings_index, max_tokens, embedding_dim)\n",
    "embedding_matrix"
   ]
  },
  {
   "cell_type": "code",
   "execution_count": 341,
   "id": "932e93d3-c185-41cb-ab62-7db896fddfc4",
   "metadata": {
    "tags": []
   },
   "outputs": [],
   "source": [
    "# Embedding avec masque\n",
    "embedding_layer = layers.Embedding(\n",
    "    input_dim=max_tokens,\n",
    "    output_dim=embedding_dim,\n",
    "    embeddings_initializer=keras.initializers.Constant(embedding_matrix),\n",
    "    # input_length=max_length,\n",
    "    mask_zero=True,\n",
    "    trainable=False, # <== default is True\n",
    ")"
   ]
  },
  {
   "cell_type": "markdown",
   "id": "35884939-2e5c-4415-a2a0-2a1f650d40b9",
   "metadata": {},
   "source": [
    "### Train model"
   ]
  },
  {
   "cell_type": "code",
   "execution_count": 342,
   "id": "24448d80-0da5-4fa4-a752-92cd6f2a169c",
   "metadata": {},
   "outputs": [],
   "source": [
    "model = architecture002(\"adam\", \"binary_crossentropy\", ['accuracy'], embedding_layer)"
   ]
  },
  {
   "cell_type": "code",
   "execution_count": 343,
   "id": "9f511a8b-1d05-44d9-8116-735fcbd8188c",
   "metadata": {},
   "outputs": [
    {
     "name": "stdout",
     "output_type": "stream",
     "text": [
      "Model: \"model_17\"\n",
      "_________________________________________________________________\n",
      " Layer (type)                Output Shape              Param #   \n",
      "=================================================================\n",
      " input_22 (InputLayer)       [(None, None)]            0         \n",
      "                                                                 \n",
      " embedding_17 (Embedding)    (None, None, 100)         2000000   \n",
      "                                                                 \n",
      " bidirectional_14 (Bidirecti  (None, 64)               34048     \n",
      " onal)                                                           \n",
      "                                                                 \n",
      " dropout_17 (Dropout)        (None, 64)                0         \n",
      "                                                                 \n",
      " predictions (Dense)         (None, 1)                 65        \n",
      "                                                                 \n",
      "=================================================================\n",
      "Total params: 2,034,113\n",
      "Trainable params: 34,113\n",
      "Non-trainable params: 2,000,000\n",
      "_________________________________________________________________\n"
     ]
    }
   ],
   "source": [
    "model.summary()"
   ]
  },
  {
   "cell_type": "code",
   "execution_count": 344,
   "id": "2fc623fc-71ce-413f-9068-17fd24ddcec0",
   "metadata": {},
   "outputs": [
    {
     "data": {
      "text/plain": [
       "TensorShape([80000, 60])"
      ]
     },
     "execution_count": 344,
     "metadata": {},
     "output_type": "execute_result"
    }
   ],
   "source": [
    "X_train_ready.shape"
   ]
  },
  {
   "cell_type": "code",
   "execution_count": 345,
   "id": "c0bafb1b-fb51-459f-b775-9e352c3b385d",
   "metadata": {},
   "outputs": [
    {
     "data": {
      "text/plain": [
       "TensorShape([20000, 60])"
      ]
     },
     "execution_count": 345,
     "metadata": {},
     "output_type": "execute_result"
    }
   ],
   "source": [
    "X_test_ready.shape"
   ]
  },
  {
   "cell_type": "code",
   "execution_count": 346,
   "id": "e0bb098d-1b95-470c-be40-78f41cd8028f",
   "metadata": {},
   "outputs": [
    {
     "name": "stdout",
     "output_type": "stream",
     "text": [
      "Epoch 1/50\n",
      "313/313 [==============================] - ETA: 0s - loss: 0.5467 - accuracy: 0.7155\n",
      "Epoch 1: val_accuracy improved from -inf to 0.75825, saving model to models/MINI_TESTS_B06.keras\n",
      "313/313 [==============================] - 40s 102ms/step - loss: 0.5467 - accuracy: 0.7155 - val_loss: 0.4944 - val_accuracy: 0.7582\n",
      "Epoch 2/50\n",
      "313/313 [==============================] - ETA: 0s - loss: 0.4895 - accuracy: 0.7630\n",
      "Epoch 2: val_accuracy improved from 0.75825 to 0.77390, saving model to models/MINI_TESTS_B06.keras\n",
      "313/313 [==============================] - 30s 95ms/step - loss: 0.4895 - accuracy: 0.7630 - val_loss: 0.4719 - val_accuracy: 0.7739\n",
      "Epoch 3/50\n",
      "313/313 [==============================] - ETA: 0s - loss: 0.4715 - accuracy: 0.7754\n",
      "Epoch 3: val_accuracy improved from 0.77390 to 0.78040, saving model to models/MINI_TESTS_B06.keras\n",
      "313/313 [==============================] - 31s 98ms/step - loss: 0.4715 - accuracy: 0.7754 - val_loss: 0.4606 - val_accuracy: 0.7804\n",
      "Epoch 4/50\n",
      "313/313 [==============================] - ETA: 0s - loss: 0.4581 - accuracy: 0.7828\n",
      "Epoch 4: val_accuracy improved from 0.78040 to 0.78285, saving model to models/MINI_TESTS_B06.keras\n",
      "313/313 [==============================] - 30s 96ms/step - loss: 0.4581 - accuracy: 0.7828 - val_loss: 0.4576 - val_accuracy: 0.7829\n",
      "Epoch 5/50\n",
      "313/313 [==============================] - ETA: 0s - loss: 0.4498 - accuracy: 0.7886\n",
      "Epoch 5: val_accuracy improved from 0.78285 to 0.78980, saving model to models/MINI_TESTS_B06.keras\n",
      "313/313 [==============================] - 30s 95ms/step - loss: 0.4498 - accuracy: 0.7886 - val_loss: 0.4472 - val_accuracy: 0.7898\n",
      "Epoch 6/50\n",
      "313/313 [==============================] - ETA: 0s - loss: 0.4428 - accuracy: 0.7936\n",
      "Epoch 6: val_accuracy improved from 0.78980 to 0.79100, saving model to models/MINI_TESTS_B06.keras\n",
      "313/313 [==============================] - 32s 103ms/step - loss: 0.4428 - accuracy: 0.7936 - val_loss: 0.4429 - val_accuracy: 0.7910\n",
      "Epoch 7/50\n",
      "313/313 [==============================] - ETA: 0s - loss: 0.4352 - accuracy: 0.7968\n",
      "Epoch 7: val_accuracy improved from 0.79100 to 0.79205, saving model to models/MINI_TESTS_B06.keras\n",
      "313/313 [==============================] - 30s 96ms/step - loss: 0.4352 - accuracy: 0.7968 - val_loss: 0.4415 - val_accuracy: 0.7921\n",
      "Epoch 8/50\n",
      "313/313 [==============================] - ETA: 0s - loss: 0.4290 - accuracy: 0.8003\n",
      "Epoch 8: val_accuracy improved from 0.79205 to 0.79360, saving model to models/MINI_TESTS_B06.keras\n",
      "313/313 [==============================] - 30s 96ms/step - loss: 0.4290 - accuracy: 0.8003 - val_loss: 0.4415 - val_accuracy: 0.7936\n",
      "Epoch 9/50\n",
      "313/313 [==============================] - ETA: 0s - loss: 0.4240 - accuracy: 0.8045\n",
      "Epoch 9: val_accuracy improved from 0.79360 to 0.79480, saving model to models/MINI_TESTS_B06.keras\n",
      "313/313 [==============================] - 31s 99ms/step - loss: 0.4240 - accuracy: 0.8045 - val_loss: 0.4377 - val_accuracy: 0.7948\n",
      "Epoch 10/50\n",
      "313/313 [==============================] - ETA: 0s - loss: 0.4183 - accuracy: 0.8085\n",
      "Epoch 10: val_accuracy improved from 0.79480 to 0.79600, saving model to models/MINI_TESTS_B06.keras\n",
      "313/313 [==============================] - 31s 100ms/step - loss: 0.4183 - accuracy: 0.8085 - val_loss: 0.4363 - val_accuracy: 0.7960\n",
      "Epoch 11/50\n",
      "313/313 [==============================] - ETA: 0s - loss: 0.4140 - accuracy: 0.8115\n",
      "Epoch 11: val_accuracy did not improve from 0.79600\n",
      "313/313 [==============================] - 30s 95ms/step - loss: 0.4140 - accuracy: 0.8115 - val_loss: 0.4379 - val_accuracy: 0.7944\n",
      "Epoch 12/50\n",
      "313/313 [==============================] - ETA: 0s - loss: 0.4084 - accuracy: 0.8139\n",
      "Epoch 12: val_accuracy did not improve from 0.79600\n",
      "313/313 [==============================] - 30s 95ms/step - loss: 0.4084 - accuracy: 0.8139 - val_loss: 0.4341 - val_accuracy: 0.7958\n",
      "Epoch 13/50\n",
      "313/313 [==============================] - ETA: 0s - loss: 0.4031 - accuracy: 0.8171\n",
      "Epoch 13: val_accuracy did not improve from 0.79600\n",
      "313/313 [==============================] - 29s 93ms/step - loss: 0.4031 - accuracy: 0.8171 - val_loss: 0.4352 - val_accuracy: 0.7950\n",
      "Epoch 14/50\n",
      "313/313 [==============================] - ETA: 0s - loss: 0.3986 - accuracy: 0.8200\n",
      "Epoch 14: val_accuracy improved from 0.79600 to 0.79805, saving model to models/MINI_TESTS_B06.keras\n",
      "313/313 [==============================] - 34s 109ms/step - loss: 0.3986 - accuracy: 0.8200 - val_loss: 0.4329 - val_accuracy: 0.7980\n",
      "Epoch 15/50\n",
      "313/313 [==============================] - ETA: 0s - loss: 0.3938 - accuracy: 0.8205\n",
      "Epoch 15: val_accuracy did not improve from 0.79805\n",
      "Restoring model weights from the end of the best epoch: 10.\n",
      "313/313 [==============================] - 30s 96ms/step - loss: 0.3938 - accuracy: 0.8205 - val_loss: 0.4359 - val_accuracy: 0.7970\n",
      "Epoch 15: early stopping\n"
     ]
    }
   ],
   "source": [
    "batch_size = 256\n",
    "history = model.fit(\n",
    "        x=X_train_ready, y=y_train, \n",
    "        validation_data=(X_test_ready, y_test), \n",
    "        epochs=50, \n",
    "        batch_size=batch_size, \n",
    "        callbacks=init_callbacks2(f\"MINI_TESTS_B06\"),\n",
    "        verbose=1,\n",
    ")"
   ]
  },
  {
   "cell_type": "code",
   "execution_count": 347,
   "id": "81e5718b-4379-43aa-a806-16f8abb1a98c",
   "metadata": {},
   "outputs": [],
   "source": [
    "model = keras.models.load_model(\"models/MINI_TESTS_B06.keras\")"
   ]
  },
  {
   "cell_type": "code",
   "execution_count": 348,
   "id": "570c7d80-598e-47b6-b026-0a7935a6be3b",
   "metadata": {},
   "outputs": [
    {
     "name": "stdout",
     "output_type": "stream",
     "text": [
      "625/625 [==============================] - 9s 11ms/step - loss: 0.4329 - accuracy: 0.7980\n"
     ]
    },
    {
     "data": {
      "text/plain": [
       "[0.43287235498428345, 0.7980499863624573]"
      ]
     },
     "execution_count": 348,
     "metadata": {},
     "output_type": "execute_result"
    }
   ],
   "source": [
    "model.evaluate(X_test_ready, y_test)"
   ]
  },
  {
   "cell_type": "markdown",
   "id": "e3680cb6-1325-404d-845e-dc4eb4db3878",
   "metadata": {
    "jp-MarkdownHeadingCollapsed": true,
    "tags": []
   },
   "source": [
    "## Test B7 - RNN | Ngram=1 | int | FastText300-gensim Embedding + MASK + NOT Trainable"
   ]
  },
  {
   "cell_type": "markdown",
   "id": "62ab48d9-46ec-46de-85c1-46c84f2c8011",
   "metadata": {},
   "source": [
    "### Standardize & Tokenize"
   ]
  },
  {
   "cell_type": "code",
   "execution_count": 362,
   "id": "57426506-7ad3-41bd-b0be-fa143765a819",
   "metadata": {},
   "outputs": [],
   "source": [
    "max_length = 60\n",
    "max_tokens = 20000\n",
    "\n",
    "text_vectorizationB7 = tf.keras.layers.TextVectorization(\n",
    "    output_mode='int', # int, multi_hot, count, tf_idf\n",
    "    max_tokens=max_tokens,\n",
    "    ngrams=1,\n",
    "    output_sequence_length=max_length # search the max size by default\n",
    ")"
   ]
  },
  {
   "cell_type": "code",
   "execution_count": 363,
   "id": "d4a7de50-3cec-458c-aaf0-fb62d407f085",
   "metadata": {},
   "outputs": [],
   "source": [
    "text_vectorizationB7.adapt(data_work.text)"
   ]
  },
  {
   "cell_type": "code",
   "execution_count": 364,
   "id": "7410d6ac-8ed8-495c-9753-5fd4b8267cc8",
   "metadata": {},
   "outputs": [
    {
     "name": "stdout",
     "output_type": "stream",
     "text": [
      "['', '[UNK]', 'i', 'be', 'to', 'the', 'a', 'not', 'my', 'and', 'it', 'you', 'have', 'do', 'for', 'in', 'go', 'of', 'that', 'get'] ...\n"
     ]
    }
   ],
   "source": [
    "print(text_vectorizationB7.get_vocabulary()[:20], \"...\")"
   ]
  },
  {
   "cell_type": "markdown",
   "id": "dfad9a98-7124-4d31-9a05-28d30bfc42fd",
   "metadata": {},
   "source": [
    "### Divisons le jeu de données en `Train` et `Test` sets"
   ]
  },
  {
   "cell_type": "raw",
   "id": "ffa86a72-6988-4349-a168-945a27ec4a8c",
   "metadata": {
    "tags": []
   },
   "source": [
    "X_train, X_test, y_train, y_test = train_test_split(data_work['text'], data_work['target'], test_size=0.2, random_state=random_seed)"
   ]
  },
  {
   "cell_type": "markdown",
   "id": "4abc187e-c873-4899-838a-1677cdeed3da",
   "metadata": {},
   "source": [
    "### Prepare dataset"
   ]
  },
  {
   "cell_type": "code",
   "execution_count": 365,
   "id": "c24f6fdd-32f3-4bd7-8b0d-03df5d537d8f",
   "metadata": {},
   "outputs": [],
   "source": [
    "X_train_ready = text_vectorizationB7(X_train)\n",
    "X_test_ready = text_vectorizationB7(X_test)"
   ]
  },
  {
   "cell_type": "code",
   "execution_count": 366,
   "id": "7e5cc634-2e0e-4c9f-9820-74bc5316a404",
   "metadata": {},
   "outputs": [
    {
     "data": {
      "text/plain": [
       "164240          sit in bed where I will be for the weekend .\n",
       "1084963    home sweet home , back from a great saturday a...\n",
       "Name: text, dtype: object"
      ]
     },
     "execution_count": 366,
     "metadata": {},
     "output_type": "execute_result"
    }
   ],
   "source": [
    "X_train[:2]"
   ]
  },
  {
   "cell_type": "code",
   "execution_count": 367,
   "id": "064c75bd-a80a-4d26-b3c0-2a850b8d8051",
   "metadata": {},
   "outputs": [
    {
     "data": {
      "text/plain": [
       "<tf.Tensor: shape=(2, 60), dtype=int64, numpy=\n",
       "array([[  268,    15,   131,   201,     2,    29,     3,    14,     5,\n",
       "          142,     0,     0,     0,     0,     0,     0,     0,     0,\n",
       "            0,     0,     0,     0,     0,     0,     0,     0,     0,\n",
       "            0,     0,     0,     0,     0,     0,     0,     0,     0,\n",
       "            0,     0,     0,     0,     0,     0,     0,     0,     0,\n",
       "            0,     0,     0,     0,     0,     0,     0,     0,     0,\n",
       "            0,     0,     0,     0,     0,     0],\n",
       "       [   78,   348,    78,    57,    58,     6,    90,   397,     9,\n",
       "          300,    25, 19669,     1,     0,     0,     0,     0,     0,\n",
       "            0,     0,     0,     0,     0,     0,     0,     0,     0,\n",
       "            0,     0,     0,     0,     0,     0,     0,     0,     0,\n",
       "            0,     0,     0,     0,     0,     0,     0,     0,     0,\n",
       "            0,     0,     0,     0,     0,     0,     0,     0,     0,\n",
       "            0,     0,     0,     0,     0,     0]])>"
      ]
     },
     "execution_count": 367,
     "metadata": {},
     "output_type": "execute_result"
    }
   ],
   "source": [
    "X_train_ready[:2]"
   ]
  },
  {
   "cell_type": "markdown",
   "id": "532b4fa1-b3a2-40fb-a884-bc62c82c3eb8",
   "metadata": {},
   "source": [
    "### Embedding"
   ]
  },
  {
   "cell_type": "code",
   "execution_count": 368,
   "id": "709dc8bf-68f1-4e06-8bee-71dabe895fa1",
   "metadata": {},
   "outputs": [
    {
     "name": "stdout",
     "output_type": "stream",
     "text": [
      "Loading from /home/valkea/Dev/OpenClassrooms/Projets_AI/P7/data/embedding_models/fasttext-wiki-news-subwords-300.gz\n"
     ]
    }
   ],
   "source": [
    "embeddings_index = load_gensim_embedding(\"fasttext-wiki-news-subwords-300\")"
   ]
  },
  {
   "cell_type": "code",
   "execution_count": 369,
   "id": "94a19400-c6f5-4fad-8062-5bc0348a930f",
   "metadata": {},
   "outputs": [
    {
     "name": "stdout",
     "output_type": "stream",
     "text": [
      "Converted 16228 words, and couldn't find 3772 words\n",
      "Missing words: ['', '[UNK]', 'followfriday', 'fml', 'itune', 'gutte', 'tweep', 'tweetdeck', 'Ã¢Â\\x99', 'Â«', 'Ã¢Â\\x99Â¥', 'squarespace', 'tweetie', 'Â°', 'wwwtweeteraddercom', 'Â©', 'gnight', 'wwwtweeterfollowcom', 'tweeple', 'lvatt', 'iranelection', 'yike', 'bsb', 'tgif', 'goodmorning', 'iÃ¢Â´m', '3gs', 'Ã¯Â¿Â½', 'itÃ¢Â´s', 'yaaay', 'musicmonday', 'gnite', 'yayyy', 'wwdc', 'twitterland', 'nkotb', 'iÃ¯Â¿Â½m', 'Â¦', 'plurk', 'yayy', 'twitterberry', 'retweete', 'farrah', 'asot400', 'mcflyforgermany', 'twitterville', 'marsiscome', 'wkend', 'goodnite', 'booooo', 'blogge', 'youuuu', 'wwwiamsoannoyedcom', 'twitt', 'itouch', 'goodmorne', 'delongeday', 'w00', 'twitterfon', 'poope', 'methink', 'dissapointe', 'Â¡', 'tomoz', 'sims3', 'seesmic', 'boooooo', 'blogtv', 'tomoro', 'spamme', 'noww', 'myweakness', 'musso', 'dmb', 'belate', 'babysitte', 'yaay', 'unfollowe', 'shoppin', 'owww', 'ooc', 'loveee', 'flylady', 'dayy', 'comicstrip', 'archuleta', 'ughhhh', 'twitterworld', 'twitterific', 'todayy', 'sytycd', 'omgosh', 'omgggg', 'mannn', 'lmaoo', 'itÃ¯Â¿Â½s', 'iremember', 'bahaha', 'andyhurleyday', 'twitterbug', 'okayy', 'misss', 'ittt', 'inaperfectworld', 'gokey', '630am', 'Ã£', 'xdd', 'knoww', 'homee', 'hhrs', 'haveyouever', 'enjoyin', 'chesterday', '2moz', 'yeaa', 'yaaaay', 'xboxe3', 'todayyy', 'sowwy', 'ouchie', 'ooop', 'jobro', 'iloveyou', 'gooo', 'gnna', 'glasto', 'donÃ¢Â´t', 'blahh', 'bahama', 'badd', 'awhh', 'ugggh', 'ubertwitter', 'twitterfox', 'twigga', 'tasha', 'rainin', 'preppe', 'pleaseee', 'pleasee', 'panera', 'omgg', 'loveeee', 'jordin', 'jobros', 'hollie', 'gettn', 'gahhh', 'dayyy', 'cheeto', 'bradiewebb', 'Â¿', 'youuuuuu', 'yesssss', 'yayyyy', 'yaaa', 'wohoo', 'whyyy', 'wahhh', 'teethe', 'tcot', 'soooon', 'sleeep', 'skwl', 'sickk', 'sfo', 'sadd', 'ouchy', 'omj', 'niley', 'nambu', 'n97', 'hollyoak', 'heeey', 'goooooood', 'gahh', 'ftsk', 'bradie', 'boredd', 'bfast', '730am', '2mrw', 'yummm', 'yaaaaaay', 'woohooo', 'tweetin', 'trackle', 'tmobile', 'sooooon', 'sleeeep', 'shitt', 'saveontd', 'rpattz', 'p90x', 'optus', 'ontd', 'nowww', 'nooooooooo', 'neway', 'nando', 'mmwante', 'mehh', 'loove', 'longggg', 'lautner', 'knackere', 'iÃ¢Â\\x80Â\\x99m', 'huhuhu', 'eeep', 'edding', 'donÃ¯Â¿Â½t', 'dontyouhate', 'debby', 'chuckmemonday', 'buuuut', 'bricke', 'boreddd', 'blipfm', 'aghhh', '2morro', '230am', 'Ã°', 'Ã¯Â¿Â½Ã¯Â¿Â½', 'Ã¢Â¬Ã¢Â¬', 'Ã¢Â\\x80', 'Ã¢', 'Â»', 'wooow', 'wooohooo', 'whyyyy', 'weeeee', 'watchn', 'votemcfly', 'vfc', 'twiiter', 'tweetheart', 'tonightt', 'tiredd', 'tf2', 'stephenie', 'stanky', 'robotpickupline', 'pleaseeee', 'longg', 'lollll', 'laterrrr', 'jammie', 'hiks', 'hiiiii', 'goooo', 'funnnn', 'funnn', 'funday', 'friendfeed', 'eatte', 'damnn', 'coldstone', 'cici', 'carradine', 'canÃ¯Â¿Â½t', 'bsod', 'bouta', 'bonnaroo', 'backk', 'aweee', 'ahha', '830am', '530am', '3hotwords', '2morow', 'Ã°Â½Ã°', 'Ã¢Â\\x80Â\\x93', 'yupp', 'yummo', 'yehey', 'yeaaa', 'yayyyyy', 'yasmina', 'wna', 'whyyyyy', 'whyy', 'whoot', 'wdw', 'watchingg', 'wahh', 'wagamama', 'uppp', 'twibble', 'tomm', 'tokio', 'tiredddd', 'tgi', 'tday', 'suckss', 'spektor', 'skl', 'skewl', 'shittt', 'sedih', 'sbux', 'saynow', 'saddd', 'pinkberry', 'phillie', 'partay', 'omggg', 'okaay', 'nutini', 'norah', 'noooooooooo', 'neda', 'muchh', 'mraz', 'mbp', 'mannnn', 'lold', 'kirstie', 'kidlet', 'kevinjona', 'imy', 'hoppus', 'hhaha', 'hecka', 'guysss', 'greatt', 'goodtime', 'gmorning', 'gettte', 'garro', 'fenway', 'embarasse', 'eastender', 'dippin', 'ddub', 'cs4', 'clothdiaper', 'boxee', 'blehhh', 'beee', 'beddy', 'bb10', 'barne', 'awwwwww', 'awwh', 'awesomeee', 'arghhh', 'anddd', 'ahhhhhhhhhh', 'ahhhhhhhhh', '4get', '330am', 'Ã\\x97', 'Â®', 'zefron', 'yeeee', 'yeaah', 'yeaaah', 'yeaaaa', 'yaaaaay', 'workkk', 'workk', 'wooop', 'wooooooo', 'wooohoo', 'wolframalpha', 'whataburger', 'whaaaat', 'wbu', 'waaahhh', 'waaaaa', 'vÃ£', 'urghhh', 'uhoh', 'ughhhhhh', 'twug', 'twitterz', 'twitterrific', 'twidroid', 'twibe', 'tscc', 'tonighttttt', 'tomorroww', 'todaay', 'tinytwitter', 'timee', 'thankss', 'thaank', 'textin', 'tca', 'sweeeeet', 'sumtime', 'sleeeeep', 'sleeeeeep', 'showerr', 'shinee', 'sharapova', 'schoooool', 'samee', 'samberg', 'saaad', 'rotf', 'roddick', 'rayban', 'preordere', 'pnk', 'photoshoppe', 'peterfacinelli', 'pende', 'owwwww', 'outttt', 'ouchh', 'otalia', 'os3', 'okayyy', 'ohhhhhh', 'nyquil', 'nowwww', 'nitey', 'nighttt', 'newo', 'ncis', 'naww', 'mrtweet', 'moviee', 'motogp', 'mintue', 'militarymon', 'mavs', 'makati', 'luckyyy', 'lmaooo', 'kwl', 'knowww', 'kellie', 'kaitlyn', 'jonasliveonfb', 'jillian', 'jerrys', 'jenni', 'iono', 'imat', 'huhuhuhu', 'hondura', 'hillsong', 'hha', 'hehee', 'hbu', 'guyss', 'grabe', 'gprs', 'gooooooood', 'gooooo', 'goodsex', 'gmorne', 'gaaah', 'foood', 'flatley', 'fcke', 'evry1', 'everrr', 'eu09', 'dissappointe', 'dayss', 'cuzzo', 'cuzin', 'cuteee', 'crazyy', 'chelsey', 'chattin', 'cgft', 'canÃ¢Â´t', 'cairon', 'buuut', 'boooooooo', 'blink182', 'blehh', 'blahhh', 'bberry', 'baddd', 'backkk', 'babyy', 'babysittin', 'awwe', 'asylm', 'aspnet', 'arkansa', 'anw', 'anberlin', 'anaheim', 'amazinggg', 'allway', 'ahhhhhhhhhhhhh', 'ahhhhhhhh', 'ahahha', 'ah1n1', 'adword', 'adium', 'aaw', '930am', '530pm', '4got', '30stm', '2maro', 'Ã¯Â¿Â½25', 'Ã¯Â¿Â½20', 'zenjar', 'yummmmm', 'yummmm', 'yowza', 'youÃ¯Â¿Â½re', 'yoooo', 'yippeee', 'yeee', 'yandel', 'yahhh', 'yaaaa', 'xddd', 'x17live', 'wwwm2easia', 'wowww', 'wooot', 'woooooo', 'wisin', 'whoooo', 'weeknd', 'wcchicago', 'wakin', 'waddup', 'uuuugh', 'uuugh', 'uplifter', 'ugghhh', 'ugghh', 'uggg', 'tÃ£', 'twittercom', 'tweople', 'tweetland', 'tweeet', 'tryn', 'treysongz', 'tomorro', 'tommrow', 'todaaay', 'tlke', 'tiesto', 'tegan', 'tanline', 'tagal', 'syg', 'sweeet', 'sweeeet', 'sumthe', 'sumn', 'summerrrr', 'sugarland', 'suckssss', 'succe', 'subo', 'starwar', 'snuggie', 'smcsyd', 'sleepyyy', 'sleepp', 'sleepie', 'shortstack', 'shittin', 'shaundiviney', 'sentosa', 'schooool', 'scamme', 'savechuck', 'sameee', 'rÃ¡Â»Â\\x93i', 'rrod', 'robsten', 'reston', 'rc1', 'rashad', 'raiden', 'quickpwn', 'qfc', 'qet', 'pshh', 'poynter', 'pinkpop', 'peopleee', 'payg', 'partyyyy', 'partyin', 'pantie', 'pakcricket', 'owh', 'outtt', 'ouchhh', 'otw', 'openhacklondon', 'onnnn', 'omw', 'okc', 'okaaay', 'ohmygod', 'ohmy', 'ohhhhhhh', 'nordstrom', 'nomnomnom', 'nicee', 'nevershoutnever', 'neverende', 'needz', 'n95', 'musicc', 'muchhh', 'motwani', 'motrin', 'mmhm', 'missss', 'mehhh', 'meeh', 'mchale', 'mcdo', 'mawnin', 'maternalhealth', 'marlee', 'maldive', 'lvtt', 'lovelovelove', 'looooooove', 'lolll', 'lofnotc', 'lifehouse', 'licious', 'leanne', 'lauryn', 'laterz', 'laterrr', 'kutcher', 'kstew', 'krissy', 'kreme', 'kn0w', 'kittys', 'kenzie', 'kellan', 'kayleigh', 'jule', 'jtv', 'jizze', 'jessy', 'jerz', 'jbs', 'iÃ¯Â¿Â½ll', 'indesign', 'ily2', 'iight', 'icee', 'hunnie', 'hunni', 'hottt', 'homeeee', 'holga', 'heÃ¢Â\\x80Â\\x99s', 'heyyyyy', 'herrr', 'heey', 'heeeey', 'heeee', 'hayate', 'haribo', 'happybdaykrisallen', 'haah', 'goooooo', 'glendale', 'glambert', 'gayy', 'fuckk', 'fridayyy', 'fosho', 'flatt', 'fke', 'fiancÃ£', 'felicia', 'feeln', 'exicte', 'excedrin', 'esmee', 'eloise', 'eeeek', 'e71', 'drobo', 'downloadin', 'donÃ¢Â\\x80Â\\x99t', 'dnw', 'diabete', 'dennys', 'declan', 'damnnn', 'daay', 'cuuute', 'crzy', 'crazyyy', 'coraline', 'coope', 'cod4', 'cincy', 'chitown', 'chilln', 'chessecake', 'charle', 'charitytuesday', 'charice', 'chantelle', 'byk', 'burfday', 'bunche', 'btch', 'bsg', 'brightside', 'bowlin', 'borke', 'bookmarke', 'bonker', 'bmth', 'bmore', 'blackhawks', 'blaaah', 'bitly', 'birfday', 'besty', 'bellagio', 'beejive', 'beddd', 'beatwittyparty', 'baybee', 'babycake', 'ayee', 'awwwwwwwww', 'awayyy', 'austen', 'asot', 'antm', 'annoyin', 'andyclemmensen', 'amazingg', 'amazeball', 'amaaaze', 'ahhhhhhhhhhhhhh', 'ahhaha', 'achoo', 'aaaahhhh', '4ward', '4days', '3oh3', '2nyt', '2nt', '2morra', 'Ã±Â\\x87Ã±Â\\x82Ã°Â¾', 'Ã±Â\\x82Ã°', 'Ã±Â\\x80Ã°', 'Ã±', 'Ã¤Â\\x91i', 'Ã¢Â£60', 'Ã¢Â£6', 'Ã¢Â£500', 'Ã¢Â£250', 'Ã¢Â\\x99Â¥Ã¢Â\\x99Â¥Ã¢Â\\x99Â¥Ã¢Â\\x99Â¥', 'Ã¢Â\\x80Â¢', 'Â´', 'zicam', 'yÃ£Â¤y', 'yuuh', 'yummie', 'yippy', 'yippeeee', 'yeyy', 'yessssssss', 'yehh', 'yeeeah', 'yeahhhhh', 'yeaahh', 'yayyyyyy', 'yayayay', 'yass', 'yamli', 'yaknow', 'yahh', 'yaaaaaaay', 'xoxoxoxo', 'wwiii', 'wuddup', 'woww', 'workie', 'wordcamp', 'woowww', 'woow', 'woooop', 'wonderre', 'woahh', 'wnna', 'wmp', 'whatchu', 'wentz', 'wendys', 'weez', 'waverly', 'watchd', 'wahahaha', 'wahaha', 'wacom', 'waahh', 'vÃ¯Â¿Â½', 'vs2010', 'volbeat', 'vocÃ£Âª', 'vnv', 'viggo', 'vancity', 'uxlondon', 'usap', 'uhg', 'uggggh', 'txtin', 'txte', 'twwet', 'twitz', 'twitts', 'twittertakeover', 'twitta', 'twitfam', 'tweetmic', 'twatlight', 'tummyache', 'tuloy', 'ts3', 'trng', 'treatin', 'travolta', 'tooom', 'tomz', 'tommarow', 'tomarow', 'tkk', 'tivoe', 'titp', 'tireddd', 'tioman', 'tinchy', 'thnxs', 'thingsmummysaid', 'thingg', 'theeee', 'thanksgive', 'thaaank', 'textt', 'tessa', 'tco', 'taryn', 't1i', 'sÃ¯Â¿Â½o', 'sÃ¯Â¿Â½', 'sÃ¡Â»Â\\x9bm', 'swinge', 'sweeny', 'suuuuck', 'suuuper', 'susanna', 'summerrr', 'sumbody', 'suju', 'sucksss', 'stryder', 'strepsil', 'strawberrys', 'sowwie', 'sososo', 'sorrrrry', 'songbooktv', 'somete', 'soderling', 'smx', 'slingbox', 'sittn', 'siick', 'showw', 'shizzz', 'shitti', 'shiit', 'shiiit', 'sherri', 'sheeit', 'sheeet', 'shae', 'sf4', 'sephora', 'scranton', 'scareddd', 'sayian', 'safetysuit', 's0me', 'rothbury', 'rewatche', 'replyin', 'repierce', 'reminise', 'reconnecte', 'reallyyyy', 'reallllly', 'reallllllly', 'rainning', 'qood', 'qettin', 'pyt', 'pwne', 'pwease', 'publix', 'ptown', 'psssh', 'ponderland', 'pokÃ£', 'pmse', 'pleaze', 'pldt', 'pingfm', 'phÃ¡ÂºÂ£i', 'phx', 'phishe', 'petsmart', 'peoplee', 'penzance', 'pbr', 'pbj', 'partyy', 'owwy', 'owwww', 'owwie', 'overrrrrr', 'ouchhhh', 'oodle', 'oneee', 'omgomg', 'okiee', 'okai', 'ohno', 'ohk', 'ohhhhhhhhhhh', 'oeh', 'oceanup', 'nÃ¯Â¿Â½', 'nyte', 'numba', 'nuffnang', 'noow', 'noooooooooooo', 'nooooooooooo', 'nofx', 'ninang', 'nimbuzz', 'niiice', 'niice', 'niecy', 'nichola', 'nhc', 'ngga', 'nawww', 'nawt', 'naperville', 'naaaw', 'mÃ¯Â¿Â½', 'myspaceee', 'musiq', 'multitaske', 'mtvmovieaward', 'mtns', 'mozy', 'moood', 'montanna', 'mocca', 'mobileme', 'mmva', 'mmmmmmmmmm', 'missse', 'mileycyrus', 'meryl', 'melrose', 'melbs', 'meijer', 'meghan', 'meeet', 'meeeeeee', 'meann', 'mcrchat', 'mcflurry', 'maxe', 'margret', 'mangoorangeÃ¯Â¿Â½', 'manflu', 'mamita', 'makerfaire', 'madee', 'm20eu', 'luvv', 'lukin', 'luckyy', 'loveyou', 'loveeeeeee', 'loveeeee', 'lottt', 'looooooooong', 'longggggggg', 'longgg', 'lolllll', 'lmfaooo', 'lill', 'liddell', 'lemsip', 'laterr', 'lappie', 'lanse', 'ladyhawke', 'labeouf', 'l4d', 'kristy', 'krista', 'kradam', 'kodachrome', 'knowwwww', 'kmrn', 'kiro', 'kimora', 'keke', 'kbye', 'kaylee', 'jÃ£', 'juiceman', 'journchat', 'jnoub', 'jkjk', 'jilly', 'jessi', 'jennette', 'jelena', 'jeeper', 'jeal', 'jayne', 'javaone', 'iÃ¢Â´ve', 'iÃ¢Â´d', 'izzie', 'itÃ¢Â\\x80Â\\x99s', 'ithaca', 'inkheart', 'inflamme', 'indiavotes09', 'inbetweener', 'imovie', 'idkk', 'idina', 'iceblock', 'hurtss', 'hurrry', 'humpthestump', 'humpday', 'htown', 'hsm3', 'howarewe', 'housee', 'hotlanta', 'hooka', 'hommie', 'holmfirth', 'hiyaaa', 'heyfever', 'herebeforeoprah', 'hellllll', 'heineken', 'hearte', 'heartbreake', 'hcb', 'hayy', 'hateeee', 'hateee', 'hashbrown', 'haaaaate', 'gurrrl', 'gtd', 'grrrrrrr', 'greenville', 'greaat', 'gqmf', 'gosselin', 'goshhh', 'gooodd', 'goodÃ¢Â\\x80', 'goodn', 'goodmornin', 'goodmore', 'gonnna', 'gokeyisadouche', 'goingg', 'gmornin', 'ginoandfran', 'gimmefailwhale', 'gfree', 'getin', 'genevieve', 'geeez', 'geee', 'gday', 'gawju', 'fuuun', 'fuckn', 'fuckkk', 'friende', 'freya', 'freeee', 'frapp', 'foreal', 'folower', 'fnwc', 'fixreplie', 'finnishe', 'fightstar', 'ffe', 'fetchmp3', 'feeeel', 'farmtown', 'failwhale', 'facup', 'facinelli', 'everyoneee', 'everrrr', 'everr', 'evernote', 'evansville', 'euronew', 'emilys', 'elevensestime', 'electrik', 'eileen', 'ehehe', 'eeeee', 'dyinggg', 'drinky', 'dreamwidth', 'drabble', 'downn', 'dorito', 'dlsu', 'dissapeare', 'disneyworld', 'disapointe', 'dindin', 'dieeee', 'didt', 'didd', 'destroytwitter', 'demii', 'delicioussss', 'dayyyy', 'day26', 'davina', 'danneel', 'dangg', 'dalby', 'd90', 'cÃ£Â³', 'cuzzin', 'cursebird', 'cs3', 'crazyyyy', 'cpk', 'coooool', 'clubbin', 'cityy', 'chorei', 'chillaxin', 'chenoweth', 'champorado', 'cavz', 'carrey', 'capn', 'cancle', 'cambria', 'cait', 'cadÃ£Âª', 'buzzcock', 'buzz140', 'butterfinger', 'burbank', 'buhh', 'btub', 'brap', 'brainbone', 'boyy', 'boracay', 'boooring', 'booore', 'boooore', 'booooooooooo', 'booooooooo', 'boogity', 'bnd', 'blockmate', 'blockdreamer', 'blm', 'blesss', 'blegh', 'bkk', 'bizzy', 'biffy', 'bffls', 'bfff', 'bestt', 'becka', 'beantown', 'beachh', 'beachbody', 'bbqs', 'baskin', 'barrowman', 'barakatday', 'bakwaas', 'bakersfield', 'bahahahaha', 'bahahaha', 'bahah', 'babee', 'awwwwwww', 'awesomee', 'aveda', 'aughh', 'atx', 'asleeep', 'ashleigh', 'arrgghh', 'arghhhh', 'applecare', 'applebee', 'answerin', 'anoye', 'anoop', 'angelsdemon', 'angell', 'amelie', 'amaazing', 'alltimelow', 'alllllll', 'alisha', 'alhamdulillah', 'airfrance', 'aiight', 'agne', 'aghh', 'agesss', 'aftie', 'aftersun', 'adorei', 'ableton', 'abis', 'aawww', 'aahah', 'aaaw', 'aaahh', 'aaaaw', 'aaaahhhhh', '900am', '7hours', '4real', '4ish', '4hour', '3uk', '3turnoffwords', '3333333', '30secondstomar', '2say', '20boysummer', '140conf', '130am', '1230am', 'Ã±Ã±Â\\x82Ã±Â\\x80Ã°', 'Ã±Ã°Â¾Ã°Â²Ã°ÂµÃ±Â\\x82', 'Ã±Ã°Â¸Ã°Â±Ã°Â¾', 'Ã±Â\\x87Ã°', 'Ã°Â½Ã°Â¾', 'Ã°Â½Ã°Âµ', 'Ã°Â¼', 'Ã°ÂºÃ°', 'Ã°Âº', 'Ã°Â·Ã°', 'Ã°Â²Ã°', 'Ã°Â²', 'Ã¯Â¿Â½u', 'Ã¯Â¿Â½s', 'Ã¯Â¿Â½n', 'Ã¯Â¿Â½60', 'Ã¯Â¿Â½500', 'Ã¯Â¿Â½4', 'Ã¯Â£', 'Ã¤Â±m', 'Ã¤Â\\x91ang', 'Ã¤inh', 'Ã£Â¼ber', 'Ã¢Â£50', 'Ã¢Â£5', 'Ã¢Â£35', 'Ã¢Â£200', 'Ã¢Â\\x99Â¥Ã¢Â\\x99Â¥Ã¢Â\\x99Â¥Ã¢Â\\x99Â¥Ã¢Â\\x99Â¥Ã¢Â\\x99Â¥', 'Ã¢Â\\x99Â¥Ã¢Â\\x99Â¥Ã¢Â\\x99Â¥Ã¢Â\\x99Â¥Ã¢Â\\x99Â¥', 'Ã¢Â\\x99Â¥Ã¢Â\\x99Â¥Ã¢Â\\x99Â¥', 'Ã¢Â\\x99Â¥Ã¢Â\\x99Â¥', 'Ã¢Â\\x98Â¼', 'Ã¢Â\\x80Â\\x94', 'Ã\\x97Ã\\x97Âª', 'Ã\\x97Â\\x9bÃ\\x97Â\\x95Ã\\x97Â\\x9f', 'Ã\\x97Â\\x96Ã\\x97Â\\x94', 'zq', 'zoop', 'zooka', 'zohan', 'zippys', 'zensursula', 'zealander', 'zappos', 'zante', 'zacky', 'yyys', 'yummmmy', 'yummmmmy', 'yucko', 'yslow', 'youÃ¢Â´re', 'youuuuuuuuu', 'you3', 'yooooo', 'yogurtland', 'yiruma', 'yettt', 'yesterdayi', 'yessssssssssss', 'yesssssir', 'yepper', 'yeeeeey', 'yeeeeeeah', 'yeeeee', 'yeeeeah', 'yeeeaaa', 'yeeah', 'yearr', 'yeaaahhh', 'yayay', 'yawk', 'yasss', 'yaris', 'yano', 'yaah', 'yaaaaaaaaay', 'xxxxxxxxxxxxxxxxxxxx', 'xxxxxxxxxxxxxxx', 'xxoo', 'xtina', 'xps', 'xperia', 'xoxoxoxoxo', 'xman', 'xma', 'xfm', 'xde', 'xdddd', 'xcite', 'xbl', 'xaviermedia', 'x0x0x', 'wzup', 'wwwstringbeancoffeeshopcom', 'wwwmyvincinet', 'wwwbingcom', 'wuzzup', 'wuzup', 'wundere', 'wtk', 'wtfff', 'wtff', 'wtchin', 'wtch', 'wtb', 'wsop', 'wrkout', 'wrke', 'writechat', 'wrigley', 'wpf', 'wowzer', 'wowy', 'wowwww', 'wouldnÃ¯Â¿Â½t', 'wouk', 'worthington', 'worrk', 'workkkk', 'woopwoop', 'woooot', 'wooooow', 'wooooop', 'wooooooooo', 'woooooooo', 'woohoooo', 'wooho', 'woodley', 'wooah', 'wonÃ¢Â\\x80Â\\x99t', 'wonderwall', 'wohooo', 'wof', 'wntd', 'wkd', 'winterboard', 'winphp', 'windig', 'wiat', 'whyyyyyyyyy', 'whyyyyyy', 'whopp', 'whooot', 'whoooop', 'whooooo', 'whoohoo', 'whooaa', 'whoaaaa', 'whoaaa', 'wheee', 'whedon', 'whatz', 'whattt', 'whaaaaat', 'whaaaa', 'wgn', 'weÃ¢Â´ll', 'weymouth', 'westwick', 'werder', 'wensday', 'wendi', 'wembeley', 'wellll', 'wela', 'weibe', 'weekk', 'weekendz', 'weeeh', 'weeeeeeee', 'weeeeeee', 'weaksauce', 'wc3', 'waybeo', 'waterstone', 'watergun', 'watchen', 'wansta', 'wannna', 'wango', 'wallflow', 'walle', 'walkn', 'walgreen', 'wakeboarde', 'waitttt', 'waittt', 'waitt', 'waikiki', 'wahhhhhh', 'wahhhhh', 'wafi', 'wache', 'wabash', 'waaahh', 'waaaayy', 'waaaaant', 'waaaaaaah', 'w0rk', 'w00p', 'vjj', 'vimperator', 'villarreal', 'vikki', 'vike', 'vidz', 'victorville', 'viciei', 'vexcite', 'vewwy', 'veryy', 'velma', 'vedder', 'vblog', 'vball', 'vampirebeatle', 'vaio', 'vaccume', 'uÃ¥Â¾', 'uverse', 'uuuuu', 'uuh', 'utiful', 'uqh', 'upgo', 'uninstalle', 'ungh', 'unforch', 'ummmmmmm', 'umass', 'ulet', 'uknowradio', 'ui2009', 'uhhhhhh', 'ughhhhh', 'uea', 'udh', 'ucap', 'typo3', 'twttr', 'twtrcon', 'twtfm', 'tworld', 'twloha', 'twittz', 'twittter', 'twittin', 'twitteruniverse', 'twittertrain', 'twitterrr', 'twitterr', 'twitterling', 'twitterfriend', 'twitterfall', 'twittercounter', 'twitterbird', 'twitteratti', 'twitte', 'twitpocalypse', 'twitere', 'twitascope', 'twissup', 'twillight', 'twihard', 'twiggas', 'twexit', 'tweetster', 'tweetshrink', 'tweetlater', 'tweeties', 'tweetgrade', 'tvone', 'tuyet', 'tunstall', 'tunak', 'tumblarity', 'ttyt', 'trya', 'tropicana', 'tropez', 'trixie', 'tristo', 'trippen', 'trinoma', 'tribbleagencycom', 'tracys', 'tracie', 'tostitos', 'tosca', 'topmodel', 'tootie', 'toofer', 'tonightttttt', 'tonighttt', 'tongseng', 'tomorrowwww', 'tommorw', 'togetherrrr', 'todayyyyyy', 'todayim', 'todayi', 'tmwr', 'tmrws', 'tmro', 'tmra', 'tmoz', 'tmorrow', 'tmo', 'tlkin', 'tivod', 'timog', 'timemachine', 'tiire', 'tiiiime', 'tiggie', 'tiful', 'tifa', 'tiere', 'tictac', 'ticketek', 'tibby', 'tiba2', 'thyre', 'thtz', 'thrillbilly', 'thrilla', 'threeee', 'thq', 'thk', 'thissss', 'thisclose', 'theraflu', 'thennn', 'themthey', 'themmm', 'theapprentice', 'thatÃ¯Â¿Â½s', 'thatÃ¢Â\\x80Â\\x99s', 'thanxxx', 'thanxx', 'thanksssss', 'thankiie', 'thankie', 'thaaaank', 'tgs', 'tgp', 'tfs', 'terebithia', 'terabithia', 'tenneasee', 'telus', 'telln', 'telat', 'tehehehe', 'teese', 'teddys', 'technetvconf', 'techglance', 'teabagge', 'tdy', 'tdot', 'tdc', 'tcg', 'tbqh', 'tbpid', 'tbone', 'tatort', 'tampere', 'talkshoe', 'tagaytay', 't0day', 'sÃ£Â£o', 'synche', 'syiok', 'sye', 'swoll', 'sweetz', 'sweepy', 'swagbuck', 'swac', 'suzi', 'suz', 'suxs', 'suuuuuck', 'suuure', 'suuck', 'sutro', 'sushii', 'supre', 'superrrr', 'superrr', 'superbad', 'super8', 'sundayyy', 'sumthink', 'summerwood', 'summerfest', 'sudafe', 'sucksssss', 'suckish', 'sucki', 'subray', 'stuuuupid', 'studyhall', 'sts125', 'strt', 'stressin', 'stre', 'stpete', 'storyy', 'storytelle', 'stomacache', 'stokedi', 'stng', 'stiche', 'steffi', 'stefany', 'stdnt', 'starvingggg', 'starvin', 'starbuckss', 'stalkin', 'srysly', 'squeee', 'spx', 'splish', 'speidi', 'spazze', 'souljaboytellem', 'soulchild', 'sotd', 'sosososo', 'sorryy', 'sorri', 'sorrento', 'soooooooooooooooo', 'soonnn', 'sookie', 'sonya', 'sonisphere', 'songg', 'somaya', 'soderle', 'snorin', 'sneezin', 'sneakin', 'smtb', 'smilee', 'smfh', 'sloww', 'slooooowly', 'slinkie', 'sligo', 'slidesharenet', 'sleey', 'sleepytime', 'sleepn', 'sleepi', 'sleeepy', 'sleeeping', 'sleeeeeeeep', 'slangin', 'skoo', 'skillzzzz', 'sistaaa', 'singstar', 'sims2', 'simmon', 'simfriend', 'silversun', 'silkie', 'siiiiick', 'siiiick', 'siiick', 'sighhh', 'siena', 'sidcup', 'shwr', 'show89', 'shontelle', 'shoess', 'shinedown', 'shiiiiit', 'shiet', 'sheri', 'sheraton', 'sheetz', 'shayla', 'sharin', 'shanny', 'shabusen', 'sg1', 'sfgiant', 'sfarsit', 'seychelle', 'sexyy', 'sexxxy', 'sexii', 'setanta', 'seruuu', 'sennheiser', 'sendin', 'sency', 'selly', 'selenaa', 'seeeee', 'seeee', 'scaryy', 'sb900', 'sazzy', 'saveearl', 'saterday', 'sarte', 'sarmy', 'sappho', 'santino', 'santina', 'sankey', 'sanjiyah', 'sanjaya', 'salzburg', 'salee', 'saidi', 'safeway', 'safari4', 'saderer', 'saddddd', 'sabbeth', 'saay', 'saaaad', 's4c', 'rÃ£Â¶yksopp', 'ryme', 'rybak', 'rutland', 'rpe', 'rpatz', 'royksopp', 'roxie', 'roxette', 'roseeeee', 'ronan', 'rockness', 'rockie', 'roboto', 'roastin', 'rnt', 'rnr', 'rlyy', 'riverdance', 'rimmel', 'rikku', 'righttt', 'rightnow', 'richey', 'ribena', 'rhubard', 'reppe', 'renÃ¯Â¿Â½e', 'renzo', 'remixe', 'rememberr', 'relaunche', 'refreshe', 'reformatte', 'reeeeeally', 'redsox', 'redi', 'reblippin', 'rebekah', 'reallyyy', 'really2', 'realllyyy', 'realllyy', 'realllllly', 'realli', 'readyy', 'readyto', 'reaaally', 'reaaaaally', 're5', 'rdy', 'rdj', 'rcw', 'rcb', 'rawrrrr', 'rawrr', 'ramiele', 'rainn', 'raimi', 'raceforlife', 'rabu', 'qvc', 'quÃ£', 'quizno', 'qotta', 'qot', 'pÃ£', 'pzone', 'pyo', 'putchi', 'pussyparty', 'purry', 'punke', 'puget', 'puddingsunday', 'puchi', 'prrrrrrrrrr', 'protool', 'programmin', 'probz', 'prince2', 'preztel', 'prepackage', 'preeetty', 'precal', 'powertwitter', 'potsticker', 'postsecret', 'postar', 'popcicle', 'poorley', 'pooor', 'poohead', 'pooey', 'pocono', 'pnuemonia', 'pman', 'plzzzzzz', 'plyo', 'plurke', 'pleeeeeeease', 'pleeeeaaase', 'pleaz', 'pleaseeeeeeeeeeee', 'pleaseeeeeeee', 'pleaseeeeeee', 'pleaaase', 'pleaaaase', 'playradioplay', 'pisseed', 'pinay', 'pimms', 'pilpre', 'picz', 'phÃ£Â²ng', 'photofiltre', 'photocleaner', 'phoneee', 'phillipe', 'phili', 'pgpm', 'petfinder', 'perham', 'pentax', 'pengen', 'peke', 'peggle', 'pdt', 'pawpawty', 'pavelnedve', 'paulette', 'patzz', 'pattaya', 'partyyy', 'parasaile', 'paola', 'pantesan', 'palmpre', 'palmdale', 'paintballe', 'pagecom', 'oyasumi', 'overtweet', 'overrr', 'overr', 'ouvindo', 'ouut', 'ouu', 'outz', 'otd', 'otakon', 'orthodentist', 'opry', 'opensuse', 'openrasta', 'oooop', 'oooohhhh', 'ooof', 'oohhhh', 'onnn', 'onizuka', 'omq', 'omigosh', 'omgz', 'omgsh', 'omgoodness', 'omgomgomgomgomg', 'omgomgomg', 'omd', 'okkk', 'ojousama', 'ohmygosh', 'ohl', 'ohhhhhhhh', 'ogrady', 'oetmannshausen', 'oddle', 'octodrive', 'oceanupcom', 'ocala', 'obssese', 'obrigada', 'oahu', 'nÃ¯Â¿Â½y', 'nÃ¯Â¿Â½o', 'nyaaa', 'nxne', 'nuvo', 'nuthn', 'nurofen', 'ntua', 'ntar', 'nsync', 'nsn', 'nowwwww', 'notttt', 'nottt', 'nothn', 'nothen', 'nosetap', 'nopee', 'nooow', 'nooothe', 'nooooow', 'noooooooooooooooo', 'nonton', 'noez', 'no17', 'nlc', 'nitee', 'niqht', 'ninong', 'ninguÃ£', 'niiiiiight', 'niight', 'niht', 'nightttt', 'nightt', 'nightowl', 'nightdont', 'niceeee', 'niceee', 'niagra', 'nhÃ¡', 'newmarket', 'newbury', 'neverr', 'neurofen', 'networkin', 'nethe', 'neotel', 'neosho', 'neeeee', 'neeee', 'needta', 'needfolower', 'nedve', 'nayan', 'natm2', 'nathanson', 'nathalie', 'nastie', 'nashua', 'naple', 'naplan', 'nante', 'nahhhh', 'nabbie', 'naaaap', 'n0w', 'mÃ¯Â¿Â½nh', 'mÃ£Â¬nh', 'mysti', 'myfax', 'myf', 'mx5', 'muzza', 'muskateer', 'muncie', 'mulu', 'mulan', 'muji', 'muhahaha', 'mufasa', 'muahszz', 'muahahahaha', 'mtub', 'mself', 'mrscjbaran3', 'moyle', 'motherfuck', 'morroc', 'morningwood', 'morninggggg', 'morninggg', 'mornign', 'moreee', 'moovie', 'mooloolaba', 'monthsary', 'montepulciano', 'montag', 'monfil', 'moneey', 'mondaaay', 'momz', 'mommmy', 'momentile', 'mollie', 'moleskine', 'mohs', 'mohegan', 'modde', 'mmmmmmmmmmmm', 'mmmhmmm', 'mmk', 'mmhmm', 'mixmag', 'mitm4e', 'misunderstandin', 'missn', 'missfit', 'mindy', 'mimis', 'mimiron', 'millsy', 'mileyy', 'mileyworld', 'mikaela', 'miht', 'midol', 'microlog', 'mgg', 'mfer', 'mewithoutyou', 'metrostation', 'metroflog', 'messican', 'merriweather', 'melly', 'melisa', 'mega64', 'mclachlan', 'mcgriddle', 'mccurdy', 'mccarren', 'maÃ£Â±ana', 'mayawati', 'matulog', 'matamoros', 'masha', 'maruzen', 'markie', 'marisa', 'marcy', 'marbella', 'manz', 'manohara', 'mannnnnnnn', 'mannnnn', 'manlove', 'manilow', 'mamm', 'malteaser', 'makess', 'makasih', 'maino', 'mailart', 'mahn', 'magictwackle', 'magento', 'madtv', 'maddd', 'macys', 'macgregor', 'maccy', 'maad', 'm0re', 'lÃ£Âªn', 'lÃ£', 'lÃ¡ÂºÂ¡i', 'lym', 'lvoe', 'luvly', 'luver', 'lushh', 'lunesta', 'lunchable', 'lucke', 'lubbock', 'lro', 'lovez', 'loveyouu', 'lovessss', 'lovesss', 'lovess', 'loven', 'lovelyness', 'lovefilm', 'lovedddd', 'lottttt', 'lotro', 'losy', 'loooooove', 'loooooooove', 'looooooooove', 'looonnnggg', 'longgggg', 'longboarde', 'lonestar', 'lolthe', 'lollol', 'lollllll', 'lol3', 'loev', 'lmfaoo', 'lmaoooo', 'livechat', 'listnin', 'liquidweb', 'liife', 'lightskinne', 'lightroom', 'liferay', 'lifelink', 'lifeeee', 'lifeee', 'lifee', 'liev', 'liesgirlstell', 'lici', 'lfo', 'lfcc', 'leppard', 'leny', 'lebah', 'leavee', 'lcross', 'lcbo', 'lazye', 'lazybone', 'lawlz', 'lasange', 'landin', 'lameee', 'lamee', 'lama2', 'lalalove', 'lakeshow', 'lainey', 'ladyjade', 'lacka', 'lacie', 'laaame', 'l8er', 'l4d2', 'l0l', 'l00ks', 'kuz', 'kuyas', 'ksw', 'ksc', 'krystal', 'krudd', 'krtv', 'kriss', 'krasinski', 'knp', 'knowwwwwwww', 'knighty', 'kn0', 'klondike', 'kisss', 'kissimmee', 'kiple', 'kinsella', 'kinikilig', 'kimmi', 'kimk', 'kilig', 'kiesler', 'kickboxe', 'keyboarde', 'kelsi', 'kelci', 'keele', 'kearney', 'kdka', 'kcon', 'kaylah', 'kayanya', 'kawawa', 'kauai', 'katja', 'katelyn', 'karissa', 'karine', 'karina', 'kapolei', 'kanvaas', 'kamuli', 'kaleb', 'kalani', 'kaitlin', 'kait', 'kaila', 'jwu', 'juliette', 'juhu', 'journay', 'josi', 'jordy26', 'jonkate8', 'jonkate', 'jolicloud', 'jogg', 'joejonas', 'jmac', 'jk8', 'jimmys', 'jgn', 'jetta', 'jetplane', 'jetlagge', 'jeth', 'jeremys', 'jema', 'jeffree', 'jeezy', 'jealousss', 'jealou', 'jb3d', 'jaymee', 'jayk', 'jase', 'jaque', 'janessa', 'janell', 'janeane', 'jamz', 'iÃ¢Â´ll', 'iÃ¢Â\\x80Â\\x99ll', 'iyaa', 'itweetreply', 'itlol', 'isetan', 'iscsi', 'isaw', 'iqad', 'iphoneapp', 'ipass', 'inxs', 'inveja', 'insalata', 'inglewood', 'inggit', 'inboxe', 'impend', 'imodium', 'iiiit', 'iiiiii', 'iglu', 'idky', 'identica', 'ickk', 'ichiban', 'icbth', 'icann', 'ibody', 'hÃ£', 'hyve', 'hws', 'huuh', 'hurtn', 'hurrt', 'hungryyyy', 'hungryy', 'huggie', 'hugeee', 'hudgen', 'hrmmm', 'hrhr', 'hreat', 'hoÃ£', 'horibble', 'hooot', 'hooooo', 'hoooome', 'hooligun', 'honeybun', 'homiesss', 'homeowrk', 'homeee', 'hoby', 'hnd', 'hmpf', 'hmmp', 'hipst', 'himym', 'him3', 'hilson', 'hilarie', 'hicup', 'hickup', 'hhmmm', 'hhahahaha', 'hhahah', 'heÃ¯Â¿Â½', 'heyjust', 'herpe', 'hereeee', 'hereee', 'heree', 'helpp', 'hellz', 'hehehehehehehe', 'hehehee', 'heheee', 'heeeeeey', 'heeeeeeey', 'heaty', 'hearn', 'headn', 'headdddd', 'headach', 'hbp', 'hawkcam', 'hasse', 'hartly', 'harajuku', 'happyyyy', 'happie', 'hanginÃ¯Â¿Â½', 'hampden', 'haloo', 'halloooooo', 'hairr', 'hairdye', 'hahhahah', 'hahhah', 'hahhaa', 'hahh', 'hahalove', 'hahahhaa', 'hahahahhaha', 'hahahaaha', 'hahaahha', 'hahaah', 'hadfun', 'hackintosh', 'haaha', 'haagen', 'haaaaaa', 'h8s', 'gÃ£Â¼d', 'gymm', 'gyal', 'gwibber', 'guyssss', 'gummie', 'guhhh', 'gueste', 'guerlain', 'guadalupe', 'gtta', 'gtime', 'grux', 'gruene', 'gruele', 'grubbin', 'grrrreat', 'grooveshark', 'grood', 'groo', 'groban', 'grissom', 'grimshaw', 'greysanatomy', 'gretel', 'gretal', 'greinke', 'greenified', 'greektown', 'greeeat', 'greddy', 'grecian', 'greattttt', 'greattt', 'greader', 'gramp', 'gramercy', 'grahams', 'grafton', 'gr88', 'gphone', 'gotchu', 'goshhhh', 'goshh', 'goooodnight', 'gooodnight', 'goonie', 'goodo', 'goodnightttttt', 'gonzpiration', 'gonnaa', 'gomtv', 'goinng', 'goerge', 'goddd', 'gno', 'gmn', 'gingerale', 'gile', 'gibb', 'getz', 'getn', 'genting', 'gellar', 'geia', 'geete', 'geeki', 'gdad', 'gbye', 'gayee', 'garageband', 'ganke', 'gaiman', 'gahhhh', 'gahd', 'gabbys', 'gaayyy', 'gaay', 'gaaahhhhhh', 'gaaaay', 'gaaaah', 'fÃ£', 'fwee', 'fuzzie', 'fuuuuun', 'fuuuuck', 'fuuuck', 'fushia', 'funnnnnnn', 'funnnnn', 'funfunfun', 'funfetti', 'fullfille', 'fuke', 'fufille', 'fuckmylife', 'fuckig', 'frostwire', 'frostie', 'froot', 'frigin', 'friendsss', 'friendlys', 'fridayyyyy', 'fridayy', 'fricke', 'fricka', 'frenchopen', 'freezin', 'freemusic', 'freeeeee', 'freddi', 'freakinggg', 'frap', 'fransisco', 'frand', 'fowa', 'forreal', 'formula1', 'foreverrr', 'forbe', 'fontswap', 'follwer', 'followerss', 'followee', 'focke', 'fne', 'flyyyy', 'flir', 'flately', 'flatbush', 'flaily', 'fishie', 'fireee', 'finshe', 'finkin', 'finishd', 'finise', 'finee', 'finallyyy', 'fillmore', 'fieldnote', 'fhm', 'fffffat', 'fenna', 'feelinq', 'fecke', 'fearne', 'fcuke', 'fckng', 'fckn', 'fckin', 'fbook', 'faustÃ£Â£o', 'fastlane', 'farke', 'famz', 'familyforce5', 'fambam', 'fakejowhiley', 'fajn', 'faill', 'failin', 'fafinettex3', 'facebooke', 'facebookcom', 'ezmuze', 'eyess', 'excitin', 'exciteddd', 'excitedd', 'exciite', 'examms', 'ewwwwww', 'evrytime', 'evrythe', 'evfn', 'everyonebutton', 'everrrrr', 'eurotrip', 'eubank', 'etymotic', 'estk', 'espn360', 'espesh', 'espaÃ£Â±ol', 'esm', 'es21', 'eriks', 'erghh', 'erbody', 'eq2', 'ep09', 'eotc', 'enthu', 'emiliano', 'embarrase', 'embarq', 'emang', 'elvira', 'elora', 'elie', 'elia', 'eish', 'ehrm', 'egm', 'effron', 'effie', 'efal', 'eehhh', 'eeepc', 'eeeep', 'eeeeek', 'eeeeeekkk', 'ec2', 'earlyyy', 'earlie', 'e75', 'e2conf', 'dÃ£Â¡m', 'dÃ£', 'dwts', 'dwo', 'dwntwn', 'duuuude', 'duuh', 'duude', 'dutchie', 'dundundun', 'duminica', 'dsnt', 'drugsss', 'drpepper', 'drinkie', 'downloadd', 'dougla', 'dorchester', 'dolph', 'dollywood', 'dokken', 'doinnn', 'dogsitte', 'doggys', 'do3', 'diviney', 'disturbia', 'dinn', 'dilla', 'diie', 'dieingggg', 'didnÃ¯Â¿Â½t', 'didnÃ¢Â´t', 'didnÃ¢Â\\x80Â\\x99t', 'dicko', 'devistate', 'devaste', 'dermot', 'dentsu', 'denter', 'deigman', 'degenere', 'debb', 'deade', 'ddnt', 'ddddd', 'dc3', 'dbq', 'dback', 'dayyys', 'daysss', 'dayquil', 'datz', 'datsyuk', 'daph', 'dapet', 'dannys', 'dannygokeyislove', 'dannygokey', 'danngg', 'danan', 'dampner', 'dammnit', 'dammn', 'dammm', 'daine', 'dailybooth', 'daii', 'daamn', 'd0nt', 'cÃ¯Â¿Â½', 'cÃ£Â¡i', 'cyrel', 'cydia', 'cuzo', 'cutee', 'cussin', 'cusack', 'curhat', 'cryy', 'cryingg', 'crv', 'crutche', 'crohn', 'crispie', 'crapi', 'craaaazy', 'cr2', 'cpsia', 'couz', 'couqh', 'couldv', 'corinne', 'cordelia', 'coome', 'coogee', 'constipate', 'congrad', 'confuzzle', 'conchord', 'conceite', 'computerworld', 'computere', 'compfy', 'commentsuscribe', 'comeeee', 'columbo', 'colddd', 'coheed', 'coffeetime', 'coachella', 'cmmnt', 'cmin', 'clinky', 'cldnt', 'clarendon', 'ckckck', 'cirvical', 'cinemax', 'cik', 'chyeah', 'chuy', 'chuckeu', 'chubba', 'choki', 'chillaxe', 'chilaxe', 'chikn', 'chickeny', 'chickene', 'chiago', 'chesney', 'chelle', 'cheke', 'cheesburger', 'cheeeeap', 'cheeburger', 'checkem', 'chch', 'chattanooga', 'chantell', 'chalean', 'ceritanya', 'cepic', 'ccky', 'caulin', 'castelvania', 'caryn', 'carsten', 'carlsbad', 'carebear', 'caprisun', 'caprica', 'canÃ¢Â\\x80Â\\x99t', 'cantonfirstfri', 'cannyy', 'cancele', 'camila', 'callie', 'caliiforniia', 'calabria', 'caitlyn', 'cafÃ¯Â¿Â½', 'cablevision', 'bymyself', 'byeeeee', 'buuuuu', 'buttt', 'businessweekcom', 'bushmill', 'burntwood', 'burbujas', 'bumed', 'buhahaha', 'bueller', 'budlight', 'bublegum', 'btf', 'bside', 'brynn', 'brucey', 'brrrrrr', 'browncoat', 'brookie', 'broadmeadow', 'brittney', 'briana', 'breman', 'brecky', 'bozooka', 'boyyy', 'botherin', 'bosen', 'boringgggg', 'boringgg', 'boredum', 'boreddddd', 'boredddd', 'booring', 'boore', 'boooooore', 'booooooore', 'boooooooooooooooo', 'booomb', 'booh', 'bonifacio', 'bondoc', 'bonanzle', 'bogor', 'bodystep', 'bodom', 'bochum', 'bluebox', 'blore', 'bloomsday', 'blondeyy', 'blogtalkradio', 'blogskin', 'blogher', 'blehhhh', 'bleezy', 'bleck', 'blargh', 'blahhhhhh', 'bladerunner', 'blaah', 'bizkit', 'bitchass', 'biggg', 'biffle', 'bfheroe', 'bffl', 'bevere', 'betterrr', 'bethy', 'bethpage', 'betch', 'bessssst', 'belom', 'bellz', 'bellingham', 'belleville', 'bekah', 'befoethestorm', 'beetlejuice', 'beecham', 'bedddd', 'beautifulll', 'beachhhh', 'bea09', 'bcp3', 'bcbg', 'bbqing', 'bbf', 'bb3', 'baywatch', 'baybay', 'bayar', 'basshunter', 'barkhunt', 'banhart', 'bamma', 'bamf', 'badtime', 'backstabbe', 'backordere', 'back2back', 'bacc', 'bacardi', 'babyyy', 'babyboy', 'babeeee', 'babeee', 'babbby', 'baack', 'b0rke', 'azkaban', 'ayoo', 'awwwwwwwwwww', 'awwwwwwwwww', 'awwwwwwww', 'awwwwh', 'awwwh', 'awweh', 'awsomeee', 'awesum', 'awesometastic', 'awesomesauce', 'awefull', 'aweeeesome', 'awee', 'aweaome', 'awayyyy', 'awayy', 'aveeno', 'ausiello', 'audtion', 'audra', 'auchh', 'atwt', 'ateneo', 'astley', 'assss', 'assedly', 'askn', 'ashleyy', 'asheville', 'ashea', 'asbury', 'artfire', 'arsis', 'arrrrgh', 'arrrggh', 'arrghh', 'arrg', 'arnd', 'armitage', 'arielle', 'arhhh', 'arghhhhhhhhh', 'arby', 'aptw', 'aptana', 'apb', 'ap05', 'anywyas', 'anywhooo', 'anyte', 'anymoreeee', 'antrim', 'annyoe', 'annyeong', 'annnnnd', 'annnd', 'annika', 'anneyoung', 'anipal', 'animax', 'angeline', 'aneko', 'andddd', 'ananga', 'amys', 'amv', 'amstell', 'amazoncom', 'amarth', 'amandapalmer', 'altiris', 'alreadyyy', 'alltop', 'allllllll', 'alister', 'alergy', 'alda', 'akmal', 'ajuma', 'aiysha', 'aite', 'aimi', 'aileen', 'ahwell', 'aheh', 'ahahahahah', 'agreeee', 'againnn', 'agaiin', 'afterdark', 'acostic', 'achille', 'abwt', 'abigale', 'abc2', 'aaww', 'aarrgghh', 'aaawwww', 'aaawww', 'aaahhhhh', 'aaahhhh', 'aaaaah', 'aaaaaah', 'aaaaaaaaa', '930pm', '8ig', '820pm', '7yr', '740pm', '730pm', '645am', '5800xm', '50mile', '50d', '500am', '4sure', '4hours', '4give', '430am', '425am', '3wordsaftersex', '3mo', '3ish', '3ala', '315pm', '2mor', '2k9', '2getha', '2get', '245am', '23rds', '1v100', '14hr', '14hours', '12day', '11ish', '10pg', '10hour', '107am', '1030pm', '0ut', 'ÃºÂ\\x86Ã»Â\\x8c', 'ÃºÂ\\x86Ã¹Â\\x86Ã¸Â¯', 'Ã¹Ã¹Â\\x8a', 'Ã¹Ã¹Â\\x83Ã¸Â±Ã¸', 'Ã¹Â\\x88Ã¹Â\\x82Ã¸Âª', 'Ã¹Â\\x88Ã¸Â¯', 'Ã¹Â\\x88Ã¸Â§Ã¹Â\\x87Ã¹', 'Ã¹Â\\x88', 'Ã¹Â\\x87Ã¹', 'Ã¹Â\\x87Ã¸Â±ÃºÂ\\x86Ã¹Â\\x86Ã¸Â¯', 'Ã¹Â\\x87Ã¸Â\\x8c', 'Ã¹Â\\x87', 'Ã¹Â\\x86Ã¹Â\\x8aÃ¹Â\\x86Ã¹Â\\x8a', 'Ã¹Â\\x86Ã¹', 'Ã¹Â\\x84', 'Ã¹Â\\x82Ã¸Â·Ã¸Â¹', 'Ã¹', 'Ã¸Â·Ã¹', 'Ã¸Â³Ã¸Â§Ã¹Â\\x84Ã¹', 'Ã¸Â¯Ã»Â\\x8cÃºÂ¯Ã¹Â\\x87', 'Ã¸Â¯Ã¸Â±Ã¸Â¬Ã¸', 'Ã¸ÂªÃ¹Â\\x82Ã¸Â±Ã»Â\\x8cÃ¸Â¨Ã¸Â§', 'Ã¸Â¨Ã¸Â³Ã¹Â\\x8aÃ¹Â\\x83Ã¹Â\\x84Ã¸Â§Ã¸Âª', 'Ã¸Â§Ã¹Â\\x86Ã¸ÂµÃ¸Â\\xadÃ¹Â\\x83', 'Ã¸Â§Ã¹Â\\x84Ã¹', 'Ã¸Â§Ã¹Â\\x84Ã¸Â\\xadÃ¸Â±Ã¸Â§Ã¸Â±Ã¸', 'Ã¸Â§Ã¹Â\\x84Ã¸Â¥Ã¹', 'Ã¸Â§Ã¸Â±Ã¸Â§Ã¸Âª', 'Ã¸Â§Ã¸ÂªÃ¹Â\\x83Ã¹', 'Ã¸Â¥Ã¹Â\\x86Ã¸ÂªÃ¸Â\\xadÃ¸Â§Ã¸Â±Ã¹Â\\x8aÃ¸', 'Ã¸', 'Ã±Ã±Ã°Â½Ã°Â¾', 'Ã±Ã±Â\\x87Ã±Â\\x91Ã±Â\\x82', 'Ã±Ã±Â\\x82Ã°Â¾Ã°Â¼Ã±Â\\x83', 'Ã±Ã±Â\\x82Ã°Â¸Ã°Â¼', 'Ã±Ã±Â\\x82Ã°Âµ', 'Ã±Ã°Â¿Ã°', 'Ã±Ã°Â½Ã°ÂµÃ±Ã±Â\\x83Ã°ÂºÃ°', 'Ã±Ã°Â¼Ã°Â¾Ã±Â\\x82Ã±Â\\x80Ã±', 'Ã±Ã°Â¼Ã°Â¾Ã±Â\\x82Ã±Â\\x80Ã°ÂµÃ±Â\\x82Ã±Â\\x8c', 'Ã±Ã°Â»Ã°ÂµÃ°Â¿Ã°Â¾Ã°Âµ', 'Ã±Ã°ÂºÃ±Â\\x80Ã°', 'Ã±Ã°ÂºÃ°', 'Ã±Ã°Â¸Ã±Â\\x82', 'Ã±Ã°Â¸Ã°Â²Ã±Â\\x8bÃ°Âµ', 'Ã±Â¼', 'Ã±Â\\x88Ã°Â½Ã°Â¾', 'Ã±Â\\x88Ã°Â½Ã°ÂµÃ°Â½Ã±Â\\x8cÃ°ÂºÃ°Â¸Ã°Â¹', 'Ã±Â\\x87Ã±Â\\x82Ã°Â¾Ã±Â\\x82Ã°Â¾', 'Ã±Â\\x87Ã°ÂµÃ±Â\\x80Ã°ÂµÃ°', 'Ã±Â\\x84Ã°', 'Ã±Â\\x83Ã±Â\\x82Ã±Â\\x80Ã°Â¾', 'Ã±Â\\x83', 'Ã±Â\\x82Ã±Ã°Â¶Ã°ÂµÃ±Ã±Â\\x82Ã±Â\\x8c', 'Ã±Â\\x82Ã±Â\\x8cÃ±Ã±', 'Ã±Â\\x82Ã±Â\\x8b', 'Ã±Â\\x82Ã°Â¾Ã°Â¶Ã°Âµ', 'Ã±Â\\x82Ã°Â¾Ã°Â²Ã°', 'Ã±Â\\x82Ã°Â²Ã°Â¸Ã±Â\\x82', 'Ã±Â\\x80Ã±Ã°Â´Ã°Â¾Ã°Â¼', 'Ã±Â\\x80Ã°ÂºÃ°', 'Ã±Â\\x80Ã°Â¸Ã°ÂºÃ°Â¾Ã°Â²Ã±Â\\x8b', 'Ã°Ã°Ã°Ã°Ã°Ã°Ã°Ã°Ã°', 'Ã°Ã°Â¼Ã°', 'Ã°Ã°', 'Ã°Â¿Ã±Â\\x80Ã°Â¾Ã±Â\\x89Ã°Âµ', 'Ã°Â¿Ã±Â\\x80Ã°Â¾Ã±Â\\x87Ã°Â¸Ã°Â¼', 'Ã°Â¿Ã°Â¾Ã±Ã°Â¾Ã°Â²Ã°ÂµÃ±Â\\x82Ã±Â\\x83Ã°Â¹Ã±Â\\x82Ã°Âµ', 'Ã°Â¿Ã°Â¾Ã°Â¼Ã°ÂµÃ°Â½Ã°ÂµÃ°Â½Ã°', 'Ã°Â¿Ã°Â¾Ã°ÂºÃ±Â\\x83Ã°Â¿Ã°', 'Ã°Â¿Ã°Â¾Ã°ÂºÃ°Â¾Ã°Â»Ã°ÂµÃ°Â½Ã°Â¸Ã°Âµ', 'Ã°Â¿Ã°Â¾Ã°ÂºÃ°ÂµÃ±Â\\x80', 'Ã°Â¿Ã°Â¾Ã°', 'Ã°Â¿Ã°Â¾', 'Ã°Â¿Ã°Â¸Ã±Ã°', 'Ã°Â¿Ã°', 'Ã°Â¾Ã±Â\\x83', 'Ã°Â¾Ã°Â¿Ã°ÂµÃ±Â\\x80Ã±Â\\x83', 'Ã°Â¾Ã°Â²Ã±Â\\x80Ã°Â¸Ã°Â½Ã±Ã°ÂºÃ°Â¾Ã°Â³Ã°Â¾', 'Ã°Â½Ã°Â¾Ã°Â²Ã±Â\\x8bÃ°Âµ', 'Ã°Â½Ã°ÂµÃ°Âµ', 'Ã°Â¼Ã±Â\\x83', 'Ã°Â¼Ã°Â¾Ã°Â¶Ã°Â½Ã°Â¾', 'Ã°Â¼Ã°Â½Ã°Â¾Ã°Â³Ã°Â¾', 'Ã°Â¼Ã°Â½Ã°Âµ', 'Ã°Â¼Ã°Â¸Ã±Ã±Â\\x82Ã°Â¾', 'Ã°Â¼Ã°ÂµÃ±Ã±Ã±Â\\x86', 'Ã°Â¼Ã°ÂµÃ°Â¶Ã°Â´Ã±Â\\x83', 'Ã°Â»Ã°Â¸Ã±Â\\x86Ã°Â¾', 'Ã°Â»Ã°Â¸Ã°Â½Ã°Â¸Ã°Â¹', 'Ã°Â»Ã°ÂµÃ±Â\\x82Ã°Â¾Ã°Â¼', 'Ã°ÂºÃ±Â\\x82', 'Ã°ÂºÃ±Â\\x80Ã°', 'Ã°ÂºÃ°Â¾Ã±Â\\x88Ã°ÂºÃ°Â¾Ã°Â¹', 'Ã°ÂºÃ°Â¾Ã°Â¹Ã±Â\\x82Ã°Â¾', 'Ã°ÂºÃ°Â»Ã°Â¸Ã°ÂµÃ°Â½Ã±Â\\x82', 'Ã°ÂºÃ°Â¸Ã±', 'Ã°Â¹', 'Ã°Â·Ã°Â¾Ã°Â½Ã°Âµ', 'Ã°Â·Ã°ÂµÃ°Â¼Ã°Â½Ã±Â\\x8bÃ±', 'Ã°ÂµÃ°Â³Ã°Â¾', 'Ã°Âµ', 'Ã°Â´Ã°Â¾Ã°ÂµÃ±Ã±Â\\x82', 'Ã°Â´Ã°Â¾Ã°Â²Ã°', 'Ã°Â´Ã°Â½Ã±', 'Ã°Â´Ã°Â¶Ã°', 'Ã°Â´Ã°', 'Ã°Â³Ã±Â\\x83Ã°Â»Ã±Ã±Â\\x82Ã±Â\\x8c', 'Ã°Â³Ã°', 'Ã°Â²Ã±Ã°ÂµÃ±', 'Ã°Â²Ã±Ã°ÂµÃ°Â³Ã°Â´Ã°', 'Ã°Â²Ã±Â\\x8bÃ°Â½Ã±Â\\x8c', 'Ã°Â±Ã±Â\\x8bÃ°Â»Ã°Â¾', 'Ã°Â±Ã±Â\\x8bÃ°Â»Ã°', 'Ã°Â±Ã±Â\\x8b', 'Ã°Â±Ã±Â\\x83Ã°Â´Ã±Â\\x83Ã±Â\\x82', 'Ã°Â±Ã±Â\\x80Ã°Â¸Ã±Â\\x82Ã±Â\\x8cÃ±Ã±', 'Ã°Â±Ã°Â±Ã°ÂµÃ±Â\\x80Ã±Â\\x83', 'Ã°Â\\xadÃ±', 'Ã°Â¨Ã°', 'Ã°Â¢Ã°Â¾Ã°ÂºÃ°Â¸Ã°Â¾', 'Ã°Â¡Ã°Â¿Ã°', 'Ã°Â¡Ã°Â»Ã°Â¾Ã°Â²Ã°', 'Ã°Â\\x9fÃ±Â\\x83Ã±Ã±Â\\x82Ã±Â\\x8c', 'Ã°Â\\x9eÃ°Â\\x96Ã°Â\\x94Ã°Â\\x95Ã°Ã°Â\\x98Ã°Â¯', 'Ã°Â\\x9cÃ±Ã±Â\\x80Ã°Â»Ã°Â¸Ã°Â½', 'Ã°Â\\x9aÃ°', 'Ã°Â\\x94Ã°Ã°Â\\x95Ã°Â\\x9c', 'Ã°Â\\x94Ã°Â¾Ã°Â±Ã±Â\\x80Ã°Â¾Ã°Âµ', 'Ã°Â\\x94Ã°', 'Ã°Â\\x93Ã°Â»Ã±Â\\x8eÃ°Âº', 'Ã°Â\\x92', 'Ã¯Ã®Â±', 'Ã¯Â¿Â½Ã¯Â¿Â½Ã¯Â¿Â½Ã¯Â¿Â½Ã¯Â¿Â½', 'Ã¯Â¿Â½Ã¯Â¿Â½Ã¯Â¿Â½Ã¯Â¿Â½', 'Ã¯Â¿Â½Ã¯Â¿Â½Ã¯Â¿Â½', 'Ã¯Â¿Â½Ã¯Â¿Â½no', 'Ã¯Â¿Â½Ã¯Â¿Â½l', 'Ã¯Â¿Â½Ã¯Â¿Â½if', 'Ã¯Â¿Â½xdÃ¯Â¿Â½', 'Ã¯Â¿Â½well', 'Ã¯Â¿Â½tleast', 'Ã¯Â¿Â½sheesh', 'Ã¯Â¿Â½rhus', 'Ã¯Â¿Â½rbol', 'Ã¯Â¿Â½quiÃ¯Â¿Â½n', 'Ã¯Â¿Â½pero', 'Ã¯Â¿Â½only', 'Ã¯Â¿Â½ntil', 'Ã¯Â¿Â½ng', 'Ã¯Â¿Â½nce', 'Ã¯Â¿Â½m', 'Ã¯Â¿Â½liver', 'Ã¯Â¿Â½little', 'Ã¯Â¿Â½k', 'Ã¯Â¿Â½introduction', 'Ã¯Â¿Â½incredible', 'Ã¯Â¿Â½g', 'Ã¯Â¿Â½devolutionÃ¯Â¿Â½', 'Ã¯Â¿Â½cont', 'Ã¯Â¿Â½bertwitter', 'Ã¯Â¿Â½ber', 'Ã¯Â¿Â½700', 'Ã¯Â¿Â½6k', 'Ã¯Â¿Â½68', 'Ã¯Â¿Â½5', 'Ã¯Â¿Â½40', 'Ã¯Â¿Â½399', 'Ã¯Â¿Â½33', 'Ã¯Â¿Â½320', 'Ã¯Â¿Â½32', 'Ã¯Â¿Â½300', 'Ã¯Â¿Â½30', 'Ã¯Â¿Â½3', 'Ã¯Â¿Â½280', 'Ã¯Â¿Â½27', 'Ã¯Â¿Â½240', 'Ã¯Â¿Â½2', 'Ã¯Â¿Â½1790', 'Ã¯Â¿Â½17', 'Ã¯Â¿Â½1540', 'Ã¯Â¿Â½150Ã¯Â¿Â½', 'Ã¯Â¿Â½15', 'Ã¯Â¿Â½135', 'Ã¯Â¿Â½125', 'Ã¯Â¿Â½124', 'Ã¯Â¿Â½100', 'Ã¯Â\\x86Ã®Â\\xadÃ¯Â\\x84Ã®Â¿Ã¯Â\\x82', 'Ã¯Â\\x84Ã®', 'Ã¯Â\\x80Ã®Â\\xadÃ¯Ã¯Â\\x83Ã®Â¹', 'Ã¯Â\\x80Ã®', 'Ã®Â¼Ã¯Ã¯Ã®Â¹Ã¯Â\\x83Ã®Âµ', 'Ã®Â¼Ã®Â¿Ã¯', 'Ã®ÂºÃ®Â±Ã®Â¹Ã®Â½Ã®Â¿Ã¯Ã¯Ã®Â³Ã®ÂµÃ®Â¹Ã®', 'Ã®ÂºÃ®Â¬Ã®Â·Ã®ÂºÃ®Âµ', 'Ã®Â¤Ã¯Â\\x8eÃ¯Ã®Â±', 'Ã®Â\\x9fÃ®Â\\x9fÃ®Â\\x9fÃ®Â\\x9f', 'Ã®Â\\x95', 'Ã®Â\\x94', 'Ã®Â\\x91Â\\x88Ã®Â\\x84Â\\x92i', 'Ã®Â\\x8cÂ\\x8aÃ®Â\\x8c', 'Ã®Â\\x8bÃ®Â\\x8bit', 'Ã®Â\\x84Â\\x88Ã®Â\\x8bÃ®Â\\x8b', 'Ã®Â\\x84Â\\x88', 'Ã®Â\\x84', 'Ã®Â\\x83', 'Ã\\xadÂ´m', 'Ã\\xadÂ\\x95Â\\x98Ã¬Â§Â\\x80Ã«Â§Â\\x8c', 'Ã¬Â¡', 'Ã¬Â\\x9bÃ«Â\\x8cÂ\\x80Ã\\xadÂ\\x95', 'Ã¬Â\\x8bÂ\\x9cÃ¬Â\\x8aÂ¤Ã\\xad', 'Ã¬Â\\x82Â¬Ã\\xadÂ\\x9aÂ\\x8c', 'Ã«Â½Â\\x80Ã¬ÂªÂ½Ã¢Â\\x99Â¥', 'Ã«Â³Â\\x91Ã¬Â\\x95Â\\x84Ã«', 'Ã«Â\\x8bÂ¤Ã¬Â\\x8c', 'Ã«Â\\x8bÂ\\x88Ã«Â\\x8bÂ¤', 'Ã«Â\\x8bÂ\\x88', 'ÃªÂ¿Â\\x88Ã¬Â\\x80', 'Ãª', 'Ã©Â\\x9fÂ³', 'Ã¨', 'Ã§Â´Â\\x80Ã¥Â¿ÂµÃ§Â´Â\\x99s', 'Ã§Â\\x9cÂ\\x9fÃ¦Â\\x98Â¯Ã§Â\\x9aÂ\\x84', 'Ã§Â\\x94Â\\x9fÃ¦Â\\x97Â¥Ã¥Â¿Â«Ã¤Â¹Ã¯Â¼shÃ¤Â\\x93ngrÃ£Â¬', 'Ã¦Â²Â¹Ã¨Â²Â\\x93Ã©Â¤', 'Ã¦Â\\x8eÂ¨', 'Ã¦', 'Ã¥Ã£Â³dÃ¥Âº', 'Ã¥Â¾e', 'Ã¥Â¡oreiz', 'Ã¥Â\\x99eÃ¥Â¡Ã£Â\\xadm', 'Ã¥Â\\x83Ã©Â\\x86Â\\x8b', 'Ã¤Â±ve', 'Ã¤Â\\x91Ã¡Â»Â\\x99ng', 'Ã¤Â\\x91Ã¡Â»c', 'Ã¤Â\\x91Ã¡ÂºÂ§u', 'Ã¤Â\\x91Ã¡ÂºÂ£m', 'Ã¤Â\\x91iÃ¡Â»u', 'Ã¤Â\\x91c', 'Ã£Â¼t', 'Ã£Â¼', 'Ã£Â´n', 'Ã£Â¬s', 'Ã£Â£o', 'Ã£Â¡nd', 'Ã£Â\\x9cber', 'Ã£Â\\x9c', 'Ã£Â\\x96', 'Ã£Â\\x8cÃ£Â\\x82Â\\x93Ã£', 'Ã£Â\\x88', 'Ã£Â\\x83Â\\x84', 'Ã£Â\\x83Â\\x83Ã£Â\\x82Â¯', 'Ã£Â\\x83', 'Ã£Â\\x82Â\\x8bÃ£Â\\x86Ã¯Â½Â\\x9eÃ¯Â¼', 'Ã¢Â¿de', 'Ã¢Â½', 'Ã¢Â¬', 'Ã¢Â«kodakÃ¢', 'Ã¢Â¤Ã¢Â¤Ã¢Â¤Ã¢Â¤Ã¢Â¤', 'Ã¢Â£Ã¢Â£Ã¢Â£', 'Ã¢Â£91900', 'Ã¢Â£9', 'Ã¢Â£75', 'Ã¢Â£70', 'Ã¢Â£600', 'Ã¢Â£5374', 'Ã¢Â£50s', 'Ã¢Â£4950', 'Ã¢Â£45', 'Ã¢Â£440', 'Ã¢Â£400', 'Ã¢Â£350', 'Ã¢Â£349', 'Ã¢Â£340', 'Ã¢Â£330', 'Ã¢Â£310', 'Ã¢Â£30', 'Ã¢Â£3', 'Ã¢Â£2entry', 'Ã¢Â£25', 'Ã¢Â£240', 'Ã¢Â£234', 'Ã¢Â£20', 'Ã¢Â£2', 'Ã¢Â£190', 'Ã¢Â£19', 'Ã¢Â£180', 'Ã¢Â£18', 'Ã¢Â£1499', 'Ã¢Â£14', 'Ã¢Â£130', 'Ã¢Â£10', 'Ã¢Â£', 'Ã¢Â¡Ã¢Â\\xad', 'Ã¢Â¡Ã¢Â¡solo', 'Ã¢Â\\x99Â«revolution', 'Ã¢Â\\x99Â¥Ã¢Â\\x99Â«Ã¢Â\\x80Â¢Ã¢Â¨Ã¢Â\\x98Â¼Ã¢Â\\x99Â¥Ã¢Â\\x99Â«Ã¢Â\\x80Â¢Ã¢Â\\x99Â¥', 'Ã¢Â\\x99Â¥Ã¢Â\\x80Â¢Ã¢Â\\x98Â¼Ã¢Â\\x99Â¥Ã¢Â\\x99Â«Ã¢Â\\x80Â¢', 'Ã¢Â\\x99Â¥scooter', 'Ã¢Â\\x99Â¥2', 'Ã¢Â\\x99Â¡n', 'Ã¢Â\\x98Â\\x87', 'Ã¢Â\\x98', 'Ã¢Â\\x96Â²', 'Ã¢Â\\x88Â\\x9e', 'Ã¢Â\\x86Â\\x91', 'Ã¢Â\\x80Â¢Ã¢Â¶Ã¢Â§Ã¢Â\\x88Â\\x9ee', 'Ã¢Â\\x80Â\\x9cwell', 'Ã¢Â\\x80Â\\x9cthen', 'Ã¢Â\\x80Â\\x9clarg', 'Ã¢Â\\x80Â\\x9cfor', 'Ã¢Â\\x80Â\\x9cbraking', 'Ã¢Â\\x80Â\\x99wince', 'Ã¢Â\\x80Â\\x98treehouse', 'Ã¢Â\\x80Â\\x98prettyoddÃ¢Â\\x80Â\\x99', 'Ã¢Â\\x80Â\\x98everydayÃ¢Â\\x80Â\\x99', 'Ã¢Â\\x80Â\\x94Ã¢', 'Ã¡Â»Â\\x9f', 'Ã¡Â»Â\\x9bc', 'Ã¡Â»Â\\x93', 'Ã¡Â»i', 'Ã\\xa0Â¸Â«Ã\\xa0Â¸Â£Ã\\xa0Â¸Â·Ã\\xa0Â¸Â\\xadÃ\\xa0Â¹Â\\x80Ã\\xa0Â¸Â\\x9bÃ\\xa0Â¸Â¥Ã\\xa0Â¹Â\\x88Ã\\xa0Â¸Â²Ã\\xa0Â¸Â\\x84Ã\\xa0Â¸Â£Ã\\xa0Â¸Â±Ã\\xa0Â¸Â\\x9a', 'Ã\\xa0Â¸Â¡Ã\\xa0Â¸Â\\x99', 'Ã\\xa0Â¸Â\\x9eÃ\\xa0Â¸Â´Ã\\xa0Â¸', 'Ã\\xa0Â¸Â\\x99Ã\\xa0Â¸ÂµÃ\\xa0Â¹Â\\x88Ã\\xa0Â¸Â«Ã\\xa0Â¸Â¡Ã\\xa0Â¸Â²Ã\\xa0Â¸Â¢Ã\\xa0Â¸Â\\x96Ã\\xa0Â¸Â¶Ã\\xa0Â¸Â\\x87Ã\\xa0Â¸Â\\x97Ã\\xa0Â¸ÂµÃ\\xa0Â¹Â\\x88', 'Ã\\xa0Â¸Â\\x93Ã\\xa0Â¸Â¸Ã\\xa0Â¹Â\\x82Ã\\xa0Â¸Â¥Ã\\xa0Â¸', 'Ã\\x97Â\\x9eÃ\\x97ÂªÃ\\x97Ã\\x97Â¨Ã\\x97Âª', 'Ã\\x97Â\\x9eÃ\\x97Â¢', 'Ã\\x97Â\\x9eÃ\\x97Â\\x94', 'Ã\\x97Â\\x9bÃ\\x97Â\\x9bÃ\\x97Â\\x94', 'Ã\\x97Â\\x9bÃ\\x97Â\\x99Ã\\x97Â£', 'Ã\\x97Â\\x9bÃ\\x97Â\\x96Ã\\x97Â\\x94', 'Ã\\x97Â\\x9bÃ\\x97', 'Â·', 'Â¬', 'Â¨', 'Â\\x9cÃ¬Â\\x9e', 'Â\\x9cÃ«', 'Â\\x9c', 'Â\\x84Ã¬', '\\x7fthe', 'zÃ£Â¡ruky', 'zÃ£Â¡kladkou', 'zzzzzzzzzzzzzzzzzzzzzz', 'zzzzzzzzzzzzzzzzzzzzz', 'zzzzzzzzzzzzzzzzzzzz', 'zzzzzzzzzzzzzzzzzz', 'zzzzzzzzzzzzzzz', 'zzzzness', 'zuton', 'zunesupport', 'zunehd', 'zuneega', 'zuljin', 'zulay', 'zukie', 'zuid', 'zubr', 'zorcia', 'zoran', 'zoooooo', 'zooooom', 'zooo', 'zoolookologie', 'zooey', 'zoobook', 'zonke', 'zongchick', 'zonecont', 'zomppafie', 'zomme', 'zomj', 'zomfg', 'zombietub', 'zombiegasm', 'zombieeess', 'zolagood', 'zohemgee', 'zoffitcha', 'zoetermeer', 'zoeeee', 'zoeboe', 'zmoÃ¥Â¾enÃ£', 'zkus', 'zito', 'zissou', 'zirtec', 'zirah', 'zipaquira', 'zingerman', 'zinge', 'zimplistic', 'zimbra', 'zhakaria', 'zffffft', 'zeytin', 'zevon', 'zeva', 'zet13', 'zerooo', 'zeri', 'zenonia', 'zending', 'zendframework', 'zelfdoen', 'zeiss', 'zehan', 'zeeland', 'zdravei', 'zaÃ¯Â¿Â½nÃ¯Â¿Â½m', 'zazzle', 'zaxby', 'zavaroni', 'zav', 'zariya', 'zaret', 'zambra', 'zakk', 'zaineb', 'zainal', 'zaina', 'zaho', 'zahar', 'zactly', 'zackly', 'zachy', 'zachi', 'zachdj', 'zacc', 'zaaaaaaac', 'z953', 'z100', 'yyyyyyyyyyy', 'yyyyaaaaaayyy', 'yyiiihhheee', 'yyeppp', 'yyc', 'yyaaayyy', 'yyaaaayyy', 'ywriter', 'ywhy', 'yvw', 'yvo', 'yuvraj', 'yuve', 'yuvaraj', 'yuuuuuhuuuuuu', 'yuuuussss', 'yuuup', 'yuuss', 'yuuppp', 'yuummms', 'yuuhhh', 'yutube', 'yusssssss', 'yusss', 'yusef', 'yuse', 'yurr', 'yuqi', 'yupyy', 'yupyup', 'yuppyuup', 'yupppp', 'yupo', 'yuparoonie', 'yumyummm', 'yumyum', 'yumsiess', 'yumny', 'yummyyyyy', 'yummyyyy', 'yummyyy', 'yummmyyyyy', 'yummmyy', 'yummmy', 'yummmmmmmy', 'yummmmmmmmmmmyyyyy', 'yummmmaaayy', 'yummii', 'yummi', 'yumena', 'yuli', 'yukkie', 'yukk', 'yuka', 'yuhui', 'yuhouh', 'yugi', 'yuengling', 'yuengle', 'yuckkkks', 'yuckkk', 'yuckie', 'yuckforensicyuck', 'yteppei', 'ystrday', 'ysls', 'ysl', 'yskype', 'yself', 'yrscant', 'yrold', 'yrf', 'yrbook', 'yputube', 'yoville', 'yovi', 'youÃ¢Â¿Ã¢', 'youÃ¢Â\\x80Â\\x99re', 'youyes', 'youxxxxxxxxx', 'youxo', 'youwhat', 'youwell', 'youuxx', 'youuuuuuuuuuuuuuu', 'youuuuuuuuuuuu', 'youuuuuuuuuuu', 'youuuuuuuuuu', 'youuuuuuuu', 'youuuuuuu', 'youuur', 'youuu3', 'youurrr', 'youube', 'youtubeurl', 'youtubescreeningroomcom', 'youtubecom', 'youtoo', 'youthgroup', 'youthey', 'yousendit', 'yoursthe', 'yourssss', 'yoursjust', 'yoursi', 'youri', 'yourfault', 'youremore', 'youppiii', 'youother', 'youngshatner', 'youngq', 'younglive', 'youngerlol', 'young2', 'young1', 'youmwah', 'youmeatsix', 'youmake', 'youknowwho', 'youknowwhat', 'youit', 'youim', 'youhow', 'youhou', 'youhe', 'yougw', 'yougo', 'youglife', 'youghal', 'yougenious', 'youdata', 'youda', 'yotsuba', 'yossi', 'yosemitee', 'yoself', 'yorly', 'yorkville', 'yorkshumber', 'yorki', 'yorkdale', 'yorkbut', 'yorba', 'yoouuuu', 'yooouuuuu', 'yooouu', 'yoooou', 'yooooou', 'yoooooooou', 'yoooooooooo', 'yoooh', 'yoono', 'yonggi', 'yongest', 'yongebloor', 'yolinga', 'yolie', 'yoli', 'yokohama', 'yohgurt', 'yohaa', 'yogurtworld', 'yogurrrt', 'yoggie', 'yogge', 'yodaroubao', 'yocousin', 'yobery', 'yoandy', 'ynwa', 'ynot', 'ynever', 'ynare', 'ykyat', 'ykno', 'yippppiiee', 'yippppeeee', 'yippieee', 'yippeeeeeeeeeeeee', 'yipiiiiiiiiiiii', 'yipeeee', 'yingo', 'yikesssss', 'yiippiiiee', 'yiike', 'yihhh', 'yihee', 'yiha', 'yhyh', 'yhk', 'yheaai', 'yhea', 'yezzzzz', 'yezir', 'yeyyy', 'yeyey', 'yeyah', 'yewww', 'yeungling', 'yetÃ¯Â¿Â½', 'yetttt', 'yetserday', 'yetla3', 'yethering', 'yestreday', 'yestrday', 'yesthx', 'yesterdy', 'yesterdayyy', 'yesterdayy', 'yesterdaynot', 'yesterdayit', 'yesterdayhe', 'yesterdar', 'yestee', 'yestdy', 'yessssssssssssssssssssssss', 'yesssssssssssssss', 'yesssssss', 'yessssss', 'yessshh', 'yesn', 'yesm', 'yeseterday', 'yesert', 'yeseniamonika', 'yesenia', 'yesa', 'yes2', 'yerushalayim', 'yert', 'yerrr', 'yerrp', 'yerr', 'yergh', 'yerah', 'yeppy', 'yeppp', 'yeppiee', 'yeouch', 'yemin', 'yemi', 'yellowspring', 'yellowcard', 'yeke', 'yeiiiiiiiiiiiiiiiiii', 'yeiiiiiiiiiiiiii', 'yeiiiii', 'yeii', 'yehyeh', 'yehhhhh', 'yehezkel', 'yehehe', 'yeezy', 'yeessss']\n"
     ]
    },
    {
     "data": {
      "text/plain": [
       "array([[ 0.        ,  0.        ,  0.        , ...,  0.        ,\n",
       "         0.        ,  0.        ],\n",
       "       [ 0.        ,  0.        ,  0.        , ...,  0.        ,\n",
       "         0.        ,  0.        ],\n",
       "       [-0.060418  ,  0.069955  ,  0.053173  , ..., -0.0047788 ,\n",
       "         0.033832  , -0.20630001],\n",
       "       ...,\n",
       "       [ 0.        ,  0.        ,  0.        , ...,  0.        ,\n",
       "         0.        ,  0.        ],\n",
       "       [ 0.        ,  0.        ,  0.        , ...,  0.        ,\n",
       "         0.        ,  0.        ],\n",
       "       [-0.01926   , -0.048273  , -0.028872  , ..., -0.011481  ,\n",
       "         0.0012931 , -0.00035449]])"
      ]
     },
     "execution_count": 369,
     "metadata": {},
     "output_type": "execute_result"
    }
   ],
   "source": [
    "embedding_dim = 300\n",
    "vocabulary = text_vectorizationB7.get_vocabulary()\n",
    "embedding_matrix = convert_embedding_matrix(vocabulary, embeddings_index, max_tokens, embedding_dim)\n",
    "embedding_matrix"
   ]
  },
  {
   "cell_type": "code",
   "execution_count": 370,
   "id": "d141d0ae-8cad-4fc3-b754-d5e7813d9c59",
   "metadata": {
    "tags": []
   },
   "outputs": [],
   "source": [
    "# Embedding avec masque\n",
    "embedding_layer = layers.Embedding(\n",
    "    input_dim=max_tokens,\n",
    "    output_dim=embedding_dim,\n",
    "    embeddings_initializer=keras.initializers.Constant(embedding_matrix),\n",
    "    # input_length=max_length,\n",
    "    mask_zero=True,\n",
    "    trainable=False, # <== default is True\n",
    ")"
   ]
  },
  {
   "cell_type": "markdown",
   "id": "ae90af38-231d-455c-8242-37a6772aad16",
   "metadata": {},
   "source": [
    "### Train model"
   ]
  },
  {
   "cell_type": "code",
   "execution_count": 371,
   "id": "c5e4bfab-549c-42a7-8ca3-dc4bc339dc6d",
   "metadata": {},
   "outputs": [],
   "source": [
    "model = architecture002(\"adam\", \"binary_crossentropy\", ['accuracy'], embedding_layer)"
   ]
  },
  {
   "cell_type": "code",
   "execution_count": 372,
   "id": "d3fcad4c-e69f-4030-a653-0dbf8e30e6c8",
   "metadata": {},
   "outputs": [
    {
     "name": "stdout",
     "output_type": "stream",
     "text": [
      "Model: \"model_18\"\n",
      "_________________________________________________________________\n",
      " Layer (type)                Output Shape              Param #   \n",
      "=================================================================\n",
      " input_23 (InputLayer)       [(None, None)]            0         \n",
      "                                                                 \n",
      " embedding_18 (Embedding)    (None, None, 300)         6000000   \n",
      "                                                                 \n",
      " bidirectional_15 (Bidirecti  (None, 64)               85248     \n",
      " onal)                                                           \n",
      "                                                                 \n",
      " dropout_18 (Dropout)        (None, 64)                0         \n",
      "                                                                 \n",
      " predictions (Dense)         (None, 1)                 65        \n",
      "                                                                 \n",
      "=================================================================\n",
      "Total params: 6,085,313\n",
      "Trainable params: 85,313\n",
      "Non-trainable params: 6,000,000\n",
      "_________________________________________________________________\n"
     ]
    }
   ],
   "source": [
    "model.summary()"
   ]
  },
  {
   "cell_type": "code",
   "execution_count": 373,
   "id": "1a56f72e-9cf3-4d2d-82f8-cde1fc859c82",
   "metadata": {},
   "outputs": [
    {
     "data": {
      "text/plain": [
       "TensorShape([80000, 60])"
      ]
     },
     "execution_count": 373,
     "metadata": {},
     "output_type": "execute_result"
    }
   ],
   "source": [
    "X_train_ready.shape"
   ]
  },
  {
   "cell_type": "code",
   "execution_count": 374,
   "id": "ce8be87c-521d-4e20-98de-d0771d6e5dee",
   "metadata": {},
   "outputs": [
    {
     "data": {
      "text/plain": [
       "TensorShape([20000, 60])"
      ]
     },
     "execution_count": 374,
     "metadata": {},
     "output_type": "execute_result"
    }
   ],
   "source": [
    "X_test_ready.shape"
   ]
  },
  {
   "cell_type": "code",
   "execution_count": 375,
   "id": "ba01ba55-71e2-4631-92d6-2f2ab0391000",
   "metadata": {},
   "outputs": [
    {
     "name": "stdout",
     "output_type": "stream",
     "text": [
      "Epoch 1/50\n",
      "313/313 [==============================] - ETA: 0s - loss: 0.5697 - accuracy: 0.7065\n",
      "Epoch 1: val_accuracy improved from -inf to 0.74995, saving model to models/MINI_TESTS_B07.keras\n",
      "313/313 [==============================] - 53s 148ms/step - loss: 0.5697 - accuracy: 0.7065 - val_loss: 0.5194 - val_accuracy: 0.7499\n",
      "Epoch 2/50\n",
      "313/313 [==============================] - ETA: 0s - loss: 0.5114 - accuracy: 0.7526\n",
      "Epoch 2: val_accuracy improved from 0.74995 to 0.76080, saving model to models/MINI_TESTS_B07.keras\n",
      "313/313 [==============================] - 48s 154ms/step - loss: 0.5114 - accuracy: 0.7526 - val_loss: 0.5002 - val_accuracy: 0.7608\n",
      "Epoch 3/50\n",
      "313/313 [==============================] - ETA: 0s - loss: 0.4961 - accuracy: 0.7606\n",
      "Epoch 3: val_accuracy improved from 0.76080 to 0.76225, saving model to models/MINI_TESTS_B07.keras\n",
      "313/313 [==============================] - 44s 140ms/step - loss: 0.4961 - accuracy: 0.7606 - val_loss: 0.4919 - val_accuracy: 0.7623\n",
      "Epoch 4/50\n",
      "313/313 [==============================] - ETA: 0s - loss: 0.4828 - accuracy: 0.7693\n",
      "Epoch 4: val_accuracy did not improve from 0.76225\n",
      "313/313 [==============================] - 39s 125ms/step - loss: 0.4828 - accuracy: 0.7693 - val_loss: 0.4910 - val_accuracy: 0.7620\n",
      "Epoch 5/50\n",
      "313/313 [==============================] - ETA: 0s - loss: 0.4745 - accuracy: 0.7750\n",
      "Epoch 5: val_accuracy improved from 0.76225 to 0.77305, saving model to models/MINI_TESTS_B07.keras\n",
      "313/313 [==============================] - 44s 142ms/step - loss: 0.4745 - accuracy: 0.7750 - val_loss: 0.4758 - val_accuracy: 0.7731\n",
      "Epoch 6/50\n",
      "313/313 [==============================] - ETA: 0s - loss: 0.4659 - accuracy: 0.7806\n",
      "Epoch 6: val_accuracy improved from 0.77305 to 0.77935, saving model to models/MINI_TESTS_B07.keras\n",
      "313/313 [==============================] - 46s 148ms/step - loss: 0.4659 - accuracy: 0.7806 - val_loss: 0.4672 - val_accuracy: 0.7793\n",
      "Epoch 7/50\n",
      "313/313 [==============================] - ETA: 0s - loss: 0.4585 - accuracy: 0.7839\n",
      "Epoch 7: val_accuracy improved from 0.77935 to 0.78005, saving model to models/MINI_TESTS_B07.keras\n",
      "313/313 [==============================] - 47s 150ms/step - loss: 0.4585 - accuracy: 0.7839 - val_loss: 0.4661 - val_accuracy: 0.7800\n",
      "Epoch 8/50\n",
      "313/313 [==============================] - ETA: 0s - loss: 0.4527 - accuracy: 0.7868\n",
      "Epoch 8: val_accuracy improved from 0.78005 to 0.78110, saving model to models/MINI_TESTS_B07.keras\n",
      "313/313 [==============================] - 49s 157ms/step - loss: 0.4527 - accuracy: 0.7868 - val_loss: 0.4641 - val_accuracy: 0.7811\n",
      "Epoch 9/50\n",
      "313/313 [==============================] - ETA: 0s - loss: 0.4477 - accuracy: 0.7911\n",
      "Epoch 9: val_accuracy improved from 0.78110 to 0.78390, saving model to models/MINI_TESTS_B07.keras\n",
      "313/313 [==============================] - 52s 165ms/step - loss: 0.4477 - accuracy: 0.7911 - val_loss: 0.4553 - val_accuracy: 0.7839\n",
      "Epoch 10/50\n",
      "313/313 [==============================] - ETA: 0s - loss: 0.4423 - accuracy: 0.7929\n",
      "Epoch 10: val_accuracy improved from 0.78390 to 0.78630, saving model to models/MINI_TESTS_B07.keras\n",
      "313/313 [==============================] - 50s 158ms/step - loss: 0.4423 - accuracy: 0.7929 - val_loss: 0.4523 - val_accuracy: 0.7863\n",
      "Epoch 11/50\n",
      "313/313 [==============================] - ETA: 0s - loss: 0.4378 - accuracy: 0.7971\n",
      "Epoch 11: val_accuracy improved from 0.78630 to 0.79110, saving model to models/MINI_TESTS_B07.keras\n",
      "313/313 [==============================] - 51s 162ms/step - loss: 0.4378 - accuracy: 0.7971 - val_loss: 0.4497 - val_accuracy: 0.7911\n",
      "Epoch 12/50\n",
      "313/313 [==============================] - ETA: 0s - loss: 0.4338 - accuracy: 0.7984\n",
      "Epoch 12: val_accuracy did not improve from 0.79110\n",
      "313/313 [==============================] - 45s 143ms/step - loss: 0.4338 - accuracy: 0.7984 - val_loss: 0.4504 - val_accuracy: 0.7903\n",
      "Epoch 13/50\n",
      "313/313 [==============================] - ETA: 0s - loss: 0.4297 - accuracy: 0.8012\n",
      "Epoch 13: val_accuracy did not improve from 0.79110\n",
      "313/313 [==============================] - 46s 147ms/step - loss: 0.4297 - accuracy: 0.8012 - val_loss: 0.4477 - val_accuracy: 0.7892\n",
      "Epoch 14/50\n",
      "313/313 [==============================] - ETA: 0s - loss: 0.4248 - accuracy: 0.8047\n",
      "Epoch 14: val_accuracy improved from 0.79110 to 0.79475, saving model to models/MINI_TESTS_B07.keras\n",
      "313/313 [==============================] - 52s 166ms/step - loss: 0.4248 - accuracy: 0.8047 - val_loss: 0.4440 - val_accuracy: 0.7947\n",
      "Epoch 15/50\n",
      "313/313 [==============================] - ETA: 0s - loss: 0.4224 - accuracy: 0.8042\n",
      "Epoch 15: val_accuracy did not improve from 0.79475\n",
      "Restoring model weights from the end of the best epoch: 10.\n",
      "313/313 [==============================] - 45s 143ms/step - loss: 0.4224 - accuracy: 0.8042 - val_loss: 0.4447 - val_accuracy: 0.7947\n",
      "Epoch 15: early stopping\n"
     ]
    }
   ],
   "source": [
    "batch_size = 256\n",
    "history = model.fit(\n",
    "        x=X_train_ready, y=y_train, \n",
    "        validation_data=(X_test_ready, y_test), \n",
    "        epochs=50, \n",
    "        batch_size=batch_size, \n",
    "        callbacks=init_callbacks2(f\"MINI_TESTS_B07\"),\n",
    "        verbose=1,\n",
    ")"
   ]
  },
  {
   "cell_type": "code",
   "execution_count": 376,
   "id": "43d5d1ae-8391-43f7-82d0-a9a1ea6fffb2",
   "metadata": {},
   "outputs": [],
   "source": [
    "model = keras.models.load_model(\"models/MINI_TESTS_B07.keras\")"
   ]
  },
  {
   "cell_type": "code",
   "execution_count": 377,
   "id": "439252de-5277-4554-89fc-08fd39427c57",
   "metadata": {},
   "outputs": [
    {
     "name": "stdout",
     "output_type": "stream",
     "text": [
      "625/625 [==============================] - 10s 13ms/step - loss: 0.4440 - accuracy: 0.7947\n"
     ]
    },
    {
     "data": {
      "text/plain": [
       "[0.4439500868320465, 0.7947499752044678]"
      ]
     },
     "execution_count": 377,
     "metadata": {},
     "output_type": "execute_result"
    }
   ],
   "source": [
    "model.evaluate(X_test_ready, y_test)"
   ]
  },
  {
   "cell_type": "code",
   "execution_count": 387,
   "id": "01cbdd85-5e13-47b9-b5fa-32967976cba6",
   "metadata": {},
   "outputs": [
    {
     "name": "stdout",
     "output_type": "stream",
     "text": [
      "1/1 [==============================] - 0s 36ms/step\n"
     ]
    },
    {
     "data": {
      "text/plain": [
       "array([[0.07305453]], dtype=float32)"
      ]
     },
     "execution_count": 387,
     "metadata": {},
     "output_type": "execute_result"
    }
   ],
   "source": [
    "raw_txt = tf.convert_to_tensor([\"I hate it\"])\n",
    "raw_txt = text_vectorizationB7(raw_txt)\n",
    "model.predict(raw_txt)"
   ]
  },
  {
   "cell_type": "code",
   "execution_count": 391,
   "id": "7e9deb0a-b2c0-40ee-b924-d492ac74c253",
   "metadata": {},
   "outputs": [
    {
     "name": "stdout",
     "output_type": "stream",
     "text": [
      "625/625 [==============================] - 9s 14ms/step\n"
     ]
    }
   ],
   "source": [
    "raw_txt = tf.convert_to_tensor(X_test)\n",
    "raw_txt = text_vectorizationB7(raw_txt)\n",
    "y_preds_proba = model.predict(raw_txt)\n",
    "y_preds = np.where(y_preds_proba > 0.5, 1,0)"
   ]
  },
  {
   "cell_type": "code",
   "execution_count": 392,
   "id": "3c6b538e-80f3-4ab0-8119-690bc575ba46",
   "metadata": {},
   "outputs": [
    {
     "data": {
      "text/plain": [
       "0.79475"
      ]
     },
     "execution_count": 392,
     "metadata": {},
     "output_type": "execute_result"
    }
   ],
   "source": [
    "accuracy_score(y_test, y_preds)"
   ]
  },
  {
   "cell_type": "code",
   "execution_count": 394,
   "id": "7fce02e2-51e4-4c84-b394-f8563628284b",
   "metadata": {
    "colab": {
     "base_uri": "https://localhost:8080/",
     "height": 1000
    },
    "executionInfo": {
     "elapsed": 746,
     "status": "ok",
     "timestamp": 1653231856185,
     "user": {
      "displayName": "Valkea",
      "userId": "01476199649418572392"
     },
     "user_tz": -120
    },
    "id": "81aba764-7f22-4ad1-b0ed-bc5b13f0b75e",
    "outputId": "e3c4ed78-a90b-46e0-baa0-c28f701f4414",
    "tags": []
   },
   "outputs": [
    {
     "name": "stdout",
     "output_type": "stream",
     "text": [
      "----------------------------------------------------------------------------------------------------\n",
      "          These information are based on the best estimator of the above cross-validation           \n",
      "----------------------------------------------------------------------------------------------------\n",
      "\n",
      "--- Test B7 ----------------------------------------------------------------------------------------\n",
      "\n",
      "             ROC_AUC : 0.8748\n",
      "                  F1 : 0.7955\n",
      "            ACCURACY : 0.7947\n",
      "           PRECISION : 0.7925\n",
      "              RECALL : 0.7986\n",
      "   AVERAGE_PRECISION : 0.8757\n",
      "\n",
      "       TRAINING-TIME : 0.0000\n",
      "      INFERENCE-TIME : 0.0000\n",
      "\n",
      "--- Classification Report -------------------------------------------------------------------------- \n",
      "\n",
      "                 precision    recall  f1-score   support\n",
      "\n",
      "Prediction = 0       0.80      0.79      0.79     10000\n",
      "Prediction = 1       0.79      0.80      0.80     10000\n",
      "\n",
      "      accuracy                           0.79     20000\n",
      "     macro avg       0.79      0.79      0.79     20000\n",
      "  weighted avg       0.79      0.79      0.79     20000\n",
      "\n",
      "--- Confusion Matrix ------------------------------------------------------------------------------- \n",
      "\n"
     ]
    },
    {
     "data": {
      "image/png": "[encoded data removed]",
      "text/plain": [
       "<Figure size 432x432 with 2 Axes>"
      ]
     },
     "metadata": {
      "needs_background": "light"
     },
     "output_type": "display_data"
    },
    {
     "name": "stdout",
     "output_type": "stream",
     "text": [
      "--- ROC AUC ---------------------------------------------------------------------------------------- \n",
      "\n"
     ]
    },
    {
     "data": {
      "image/png": "[encoded data removed]",
      "text/plain": [
       "<Figure size 360x360 with 1 Axes>"
      ]
     },
     "metadata": {
      "needs_background": "light"
     },
     "output_type": "display_data"
    },
    {
     "name": "stdout",
     "output_type": "stream",
     "text": [
      "--- PRECISION RECALL AUC --------------------------------------------------------------------------- \n",
      "\n"
     ]
    },
    {
     "data": {
      "image/png": "[encoded data removed]",
      "text/plain": [
       "<Figure size 360x360 with 1 Axes>"
      ]
     },
     "metadata": {
      "needs_background": "light"
     },
     "output_type": "display_data"
    }
   ],
   "source": [
    "model_name = \"Test B7\"\n",
    "train_time = 0\n",
    "inf_time = 0\n",
    "get_scores(model_name, y_pred=y_preds, y_pred_proba=y_preds_proba, register=True, X_ref=X_test_ready, y_ref=y_test, training_time=train_time, inference_time=inf_time)"
   ]
  },
  {
   "cell_type": "code",
   "execution_count": 397,
   "id": "a3754874-a680-45f9-88a0-923b0eb79401",
   "metadata": {},
   "outputs": [
    {
     "data": {
      "text/html": [
       "<div>\n",
       "<style scoped>\n",
       "    .dataframe tbody tr th:only-of-type {\n",
       "        vertical-align: middle;\n",
       "    }\n",
       "\n",
       "    .dataframe tbody tr th {\n",
       "        vertical-align: top;\n",
       "    }\n",
       "\n",
       "    .dataframe thead th {\n",
       "        text-align: right;\n",
       "    }\n",
       "</style>\n",
       "<table border=\"1\" class=\"dataframe\">\n",
       "  <thead>\n",
       "    <tr style=\"text-align: right;\">\n",
       "      <th></th>\n",
       "      <th>Method</th>\n",
       "      <th>threshold</th>\n",
       "      <th>params</th>\n",
       "      <th>ROC AUC</th>\n",
       "      <th>PR AUC</th>\n",
       "      <th>F1 score</th>\n",
       "      <th>Accuracy</th>\n",
       "      <th>Precision</th>\n",
       "      <th>Recall</th>\n",
       "      <th>TP</th>\n",
       "      <th>TN</th>\n",
       "      <th>FP</th>\n",
       "      <th>FN</th>\n",
       "      <th>Training time</th>\n",
       "      <th>Inference time</th>\n",
       "    </tr>\n",
       "  </thead>\n",
       "  <tbody>\n",
       "    <tr>\n",
       "      <th>0</th>\n",
       "      <td>Test B7</td>\n",
       "      <td>None</td>\n",
       "      <td>None</td>\n",
       "      <td>0.874848</td>\n",
       "      <td>0.875656</td>\n",
       "      <td>0.795537</td>\n",
       "      <td>0.79475</td>\n",
       "      <td>0.792498</td>\n",
       "      <td>0.7986</td>\n",
       "      <td>7986</td>\n",
       "      <td>7909</td>\n",
       "      <td>2091</td>\n",
       "      <td>2014</td>\n",
       "      <td>0</td>\n",
       "      <td>0</td>\n",
       "    </tr>\n",
       "  </tbody>\n",
       "</table>\n",
       "</div>"
      ],
      "text/plain": [
       "    Method threshold params   ROC AUC    PR AUC  F1 score  Accuracy  \\\n",
       "0  Test B7      None   None  0.874848  0.875656  0.795537   0.79475   \n",
       "\n",
       "   Precision  Recall    TP    TN    FP    FN  Training time  Inference time  \n",
       "0   0.792498  0.7986  7986  7909  2091  2014              0               0  "
      ]
     },
     "execution_count": 397,
     "metadata": {},
     "output_type": "execute_result"
    }
   ],
   "source": [
    "from classification_utils import scores_df\n",
    "scores_df"
   ]
  },
  {
   "cell_type": "markdown",
   "id": "fdc7187e-71e4-44a1-8d1f-0be6c9e5f21f",
   "metadata": {
    "jp-MarkdownHeadingCollapsed": true,
    "tags": []
   },
   "source": [
    "## Test B8 - RNN | Ngram=1 | int | Word2Vec300Google-gensim Embedding + MASK + NOT Trainable"
   ]
  },
  {
   "cell_type": "markdown",
   "id": "094ad4da-b146-4116-a650-f867e734bbe8",
   "metadata": {},
   "source": [
    "### Standardize & Tokenize"
   ]
  },
  {
   "cell_type": "code",
   "execution_count": 398,
   "id": "89802ab1-b7a1-48fa-a483-6f2ac2a4c247",
   "metadata": {},
   "outputs": [],
   "source": [
    "max_length = 60\n",
    "max_tokens = 20000\n",
    "\n",
    "text_vectorizationB8 = tf.keras.layers.TextVectorization(\n",
    "    output_mode='int', # int, multi_hot, count, tf_idf\n",
    "    max_tokens=max_tokens,\n",
    "    ngrams=1,\n",
    "    output_sequence_length=max_length # search the max size by default\n",
    ")"
   ]
  },
  {
   "cell_type": "code",
   "execution_count": 399,
   "id": "796b5001-a579-44dc-896b-b6e4d2c22e4d",
   "metadata": {},
   "outputs": [],
   "source": [
    "text_vectorizationB8.adapt(data_work.text)"
   ]
  },
  {
   "cell_type": "code",
   "execution_count": 400,
   "id": "24c3b2aa-0d54-449c-bd59-db6e04780fb9",
   "metadata": {},
   "outputs": [
    {
     "name": "stdout",
     "output_type": "stream",
     "text": [
      "['', '[UNK]', 'i', 'be', 'to', 'the', 'a', 'not', 'my', 'and', 'it', 'you', 'have', 'do', 'for', 'in', 'go', 'of', 'that', 'get'] ...\n"
     ]
    }
   ],
   "source": [
    "print(text_vectorizationB8.get_vocabulary()[:20], \"...\")"
   ]
  },
  {
   "cell_type": "markdown",
   "id": "ddc6eb2b-a348-40eb-9b30-8effb28dcc9e",
   "metadata": {},
   "source": [
    "### Divisons le jeu de données en `Train` et `Test` sets"
   ]
  },
  {
   "cell_type": "raw",
   "id": "ef021897-9f4a-4454-9edd-387168e83a59",
   "metadata": {
    "tags": []
   },
   "source": [
    "X_train, X_test, y_train, y_test = train_test_split(data_work['text'], data_work['target'], test_size=0.2, random_state=random_seed)"
   ]
  },
  {
   "cell_type": "markdown",
   "id": "00f98b0b-1020-415f-bb8e-3de7e882cc6a",
   "metadata": {},
   "source": [
    "### Prepare dataset"
   ]
  },
  {
   "cell_type": "code",
   "execution_count": 401,
   "id": "93bc0215-bba0-4d1a-ab17-0a04ddfea258",
   "metadata": {},
   "outputs": [],
   "source": [
    "X_train_ready = text_vectorizationB8(X_train)\n",
    "X_test_ready = text_vectorizationB8(X_test)"
   ]
  },
  {
   "cell_type": "code",
   "execution_count": 402,
   "id": "be125126-5325-40a1-a1a0-35ffa485609a",
   "metadata": {},
   "outputs": [
    {
     "data": {
      "text/plain": [
       "164240          sit in bed where I will be for the weekend .\n",
       "1084963    home sweet home , back from a great saturday a...\n",
       "Name: text, dtype: object"
      ]
     },
     "execution_count": 402,
     "metadata": {},
     "output_type": "execute_result"
    }
   ],
   "source": [
    "X_train[:2]"
   ]
  },
  {
   "cell_type": "code",
   "execution_count": 403,
   "id": "b756934d-c03b-4040-a08f-a4be11878bf7",
   "metadata": {},
   "outputs": [
    {
     "data": {
      "text/plain": [
       "<tf.Tensor: shape=(2, 60), dtype=int64, numpy=\n",
       "array([[  268,    15,   131,   201,     2,    29,     3,    14,     5,\n",
       "          142,     0,     0,     0,     0,     0,     0,     0,     0,\n",
       "            0,     0,     0,     0,     0,     0,     0,     0,     0,\n",
       "            0,     0,     0,     0,     0,     0,     0,     0,     0,\n",
       "            0,     0,     0,     0,     0,     0,     0,     0,     0,\n",
       "            0,     0,     0,     0,     0,     0,     0,     0,     0,\n",
       "            0,     0,     0,     0,     0,     0],\n",
       "       [   78,   348,    78,    57,    58,     6,    90,   397,     9,\n",
       "          300,    25, 19669,     1,     0,     0,     0,     0,     0,\n",
       "            0,     0,     0,     0,     0,     0,     0,     0,     0,\n",
       "            0,     0,     0,     0,     0,     0,     0,     0,     0,\n",
       "            0,     0,     0,     0,     0,     0,     0,     0,     0,\n",
       "            0,     0,     0,     0,     0,     0,     0,     0,     0,\n",
       "            0,     0,     0,     0,     0,     0]])>"
      ]
     },
     "execution_count": 403,
     "metadata": {},
     "output_type": "execute_result"
    }
   ],
   "source": [
    "X_train_ready[:2]"
   ]
  },
  {
   "cell_type": "markdown",
   "id": "c5fa06e1-1c94-4888-b24a-a93d5818a28f",
   "metadata": {},
   "source": [
    "### Embedding"
   ]
  },
  {
   "cell_type": "code",
   "execution_count": 404,
   "id": "b8171535-4e3a-42ac-8c7a-4713aa1f64d3",
   "metadata": {},
   "outputs": [
    {
     "name": "stdout",
     "output_type": "stream",
     "text": [
      "Loading from /home/valkea/Dev/OpenClassrooms/Projets_AI/P7/data/embedding_models/word2vec-google-news-300.gz\n"
     ]
    }
   ],
   "source": [
    "embeddings_index = load_gensim_embedding(\"word2vec-google-news-300\", binary=True)"
   ]
  },
  {
   "cell_type": "code",
   "execution_count": 405,
   "id": "36b3dd1f-bf1b-451b-b9d4-18a0189b6d1d",
   "metadata": {},
   "outputs": [
    {
     "name": "stdout",
     "output_type": "stream",
     "text": [
      "Converted 14910 words, and couldn't find 5090 words\n",
      "Missing words: ['', '[UNK]', 'to', 'a', 'and', 'of', '10', '30', '100', '20', '12', 'followfriday', '15', '11', '50', 'itune', 'gutte', 'mcfly', '25', 'tweetdeck', 'starbuck', 'Ã¢Â\\x99', 'favourite', 'Â«', '16', '18', '2009', 'realise', 'bgt', '17', 'Ã¢Â\\x99Â¥', '24', '13', '40', '21', 'grey', '80', '14', 'squarespace', 'tweetie', 'Â°', 'wwwtweeteraddercom', 'Â©', '140', '200', '90', 'gnight', '33', '70', '09', 'jona', '1000', 'ughhh', 'colour', '22', 'heyy', '500', 'youuu', 'wwwtweeterfollowcom', '21st', '60', 'neighbour', '19', 'lvatt', 'iranelection', '45', '2010', 'yike', 'bsb', '300', 'yeahh', 'tgif', '333', 'goodmorning', 'awh', '35', 'tmr', 'iÃ¢Â´m', '400', '360', 'Ã¯Â¿Â½', 'theatre', 'mitchel', 'itÃ¢Â´s', 'arse', '430', 'yess', 'yaaay', 'musicmonday', 'gnite', '630', '23', '18th', 'yayyy', 'wwdc', 'twitterland', 'nkotb', 'iÃ¯Â¿Â½m', 'Â¦', 'plurk', 'paramore', '830', '26', '530', '32', '28', '15th', 'yayy', 'twitterberry', 'retweete', 'farrah', 'asot400', 'ahahaha', 'ahah', '99', '930', '55', '10th', 'mcflyforgermany', '29', '27', '1230', 'twitterville', 'marsiscome', 'ihop', '13th', 'goodnite', 'gcse', 'blogge', '730', '20th', 'youuuu', 'wwwiamsoannoyedcom', 'funn', 'centre', 'arghh', '800', '2008', '182', '100th', 'heyyy', 'hahha', 'goodmorne', 'delongeday', '36', '330', '2000', '130', '11th', 'w00', 'twitterfon', 'srry', 'poope', 'methink', 'dissapointe', 'didnt', '700', 'Â¡', 'tomoz', 'sims3', 'seesmic', 'fawcett', 'coldplay', 'boooooo', 'blogtv', '75', '31', '3000', '25th', '17th', '10k', '101', 'xoxox', 'tomoro', 'spamme', 'noww', 'myweakness', 'musso', 'lovee', 'dmb', 'belate', 'babysitte', '19th', '12th', 'yaay', 'unfollowe', 'stickam', 'pcd', 'owww', 'ooc', 'loveee', 'hahaa', 'flylady', 'dayy', 'comicstrip', 'byeee', 'archuleta', '95', '34', '230', '16th', '150', 'ughhhh', 'twitterworld', 'twitterific', 'todayy', 'sytycd', 'omgosh', 'omgggg', 'nvm', 'muah', 'mannn', 'lmaoo', 'itÃ¯Â¿Â½s', 'iremember', 'hmph', 'doesnt', 'bahaha', 'andyhurleyday', '22nd', 'zomg', 'yeahhh', 'twitterbug', 'pattinson', 'okayy', 'misss', 'lovato', 'ittt', 'inaperfectworld', 'hurrah', 'h1n1', 'gokey', 'flavour', 'chillen', '65', '630am', '600', '1500', '1130', '10000', 'Ã£', 'yessss', 'xdd', 'tmw', 'stavros', 'knoww', 'icarly', 'homee', 'hhrs', 'heya', 'haveyouever', 'doughnut', 'chesterday', '48', '447', '420', '42', '2moz', '29th', '24th', '247', '120', 'yumm', 'yeaa', 'yaaaay', 'xboxe3', 'twhirl', 'todayyy', 't20', 'sowwy', 'smore', 'rawr', 'practise', 'ooop', 'lastfm', 'jobro', 'iloveyou', 'ikr', 'gtg', 'gnna', 'glasto', 'gilmore', 'donÃ¢Â´t', 'darle', 'blahh', 'becca', 'bahama', 'badd', 'axe', 'awhh', 'alyssa', '911', '39', '23rd', 'yeahhhh', 'ugggh', 'ubertwitter', 'twitterfox', 'twigga', 'topshop', 'teehee', 'tasha', 'rumour', 'programme', 'preppe', 'pleaseee', 'pleasee', 'paolo', 'panera', 'omgg', 'monie', 'mcr', 'loveeee', 'jordin', 'jobros', 'hsm', 'hollie', 'gettn', 'gahhh', 'duno', 'dayyy', 'cheeto', 'byee', 'bradiewebb', 'ahahah', '64', '26th', '14th', '1030', 'Â¿', 'youuuuuu', 'yesssss', 'yayyyy', 'yaaa', 'wohoo', 'whyyy', 'wayy', 'wahhh', 'uggh', 'tyre', 'tcot', 'spotify', 'soooon', 'sleeep', 'skwl', 'sickk', 'sfo', 'sadd', 'pleeease', 'outt', 'oslo', 'omj', 'niley', 'nambu', 'nahhh', 'n97', 'myy', 'lololol', 'leighton', 'ldn', 'jls', 'hollyoak', 'heehee', 'heeey', 'goooooood', 'gahh', 'ftsk', 'degrassi', 'bradie', 'borin', 'boredd', 'bfast', 'alton', 'aiden', '85', '730am', '645', '44', '33333', '2mrw', '27th', '250', '200th', 'yummm', 'youuuuu', 'yaaaaaay', 'woohooo', 'welp', 'trackle', 'sooooon', 'sleeeep', 'shitt', 'saveontd', 'sabrina', 'rpattz', 'psh', 'pringle', 'p90x', 'organise', 'optus', 'ontd', 'nowww', 'nooooooooo', 'neway', 'mmwante', 'mehh', 'maddie', 'loove', 'loool', 'longggg', 'lautner', 'knackere', 'josie', 'iÃ¢Â\\x80Â\\x99m', 'huhuhu', 'hahahaa', 'grrrrrr', 'ftl', 'foxtel', 'eugh', 'efron', 'eeep', 'edding', 'donÃ¯Â¿Â½t', 'dontyouhate', 'debby', 'coool', 'chuckmemonday', 'caitlin', 'buuuut', 'bricke', 'boreddd', 'blipfm', 'behaviour', 'asda', 'aghhh', '98', '92', '90210', '900', '82', '66', '46', '311', '30th', '2morro', '24hrs', '230am', '2003', '1100', '07', 'Ã°', 'Ã¯Â¿Â½Ã¯Â¿Â½', 'Ã¢Â¬Ã¢Â¬', 'Ã¢Â\\x80', 'Ã¢', 'Â»', 'yoou', 'yeay', 'yday', 'wooow', 'wooohooo', 'wicke', 'whyyyy', 'westlife', 'weeeee', 'watchn', 'votemcfly', 'vfc', 'twiiter', 'tweetheart', 'trueblood', 'tonightt', 'tiredd', 'tierd', 'tf2', 'sumone', 'stephenie', 'soz', 'sooon', 'silverstone', 'rotterdam', 'robotpickupline', 'rlly', 'rach', 'pleaseeee', 'oww', 'longg', 'lollll', 'laterrrr', 'jquery', 'jamba', 'jaja', 'isnt', 'humour', 'hiks', 'hiiiii', 'hellooo', 'hahahha', 'funnnn', 'funnn', 'friendfeed', 'favour', 'eatte', 'damnn', 'cudnt', 'coolio', 'coldstone', 'cici', 'carradine', 'canÃ¯Â¿Â½t', 'bulgaria', 'bsod', 'brody', 'bouta', 'bonnaroo', 'bof', 'backk', 'aweee', 'audrey', 'apologise', 'ahha', '93', '920', '88', '830am', '62', '57', '56', '530am', '49', '43', '3hotwords', '3333', '320', '31st', '300th', '2morow', '228', '221', '2007', '2006', '1999', '180', '1111', '100000', 'Ã°Â½Ã°', 'Ã¢Â\\x80Â\\x93', 'yupp', 'yummo', 'yknow', 'yepp', 'yehey', 'yeaaa', 'yayyyyy', 'yasmina', 'wna', 'whyyyyy', 'whyy', 'wdw', 'watchingg', 'wasnt', 'wahh', 'uppp', 'twibble', 'tokio', 'tisdale', 'tiredddd', 'timberlake', 'tgi', 'tanya', 'suckss', 'spektor', 'skl', 'skewl', 'shittt', 'shaheen', 'sedih', 'sbux', 'saynow', 'saddd', 'rotfl', 'ronery', 'pmsl', 'pinkberry', 'pilate', 'phillie', 'partay', 'omggg', 'okaay', 'obrien', 'nutini', 'norah', 'noooooooooo', 'neda', 'muchh', 'mraz', 'mommys', 'misha', 'melb', 'mbp', 'masih', 'mannnn', 'lyke', 'looool', 'lold', 'linkin', 'lawl', 'lalala', 'kitteh', 'kirstie', 'kimmel', 'kidlet', 'kevinjona', 'judgement', 'jenson', 'iow', 'imy', 'hoppus', 'holme', 'hhaha', 'guysss', 'greatt', 'gmorning', 'gettte', 'garro', 'g0', 'fenway', 'feeel', 'embarasse', 'eastender', 'ddub', 'congratz', 'clothdiaper', 'chrissy', 'cedric', 'blehhh', 'bethany', 'beee', 'bb10', 'barne', 'awwwwww', 'awwh', 'awesomeee', 'arghhh', 'anddd', 'ahhhhhhhhhh', 'ahhhhhhhhh', 'ahhhhhhh', 'ahahahaha', 'aahhh', 'aaaand', '91', '904', '79', '7000', '68', '38', '37', '330am', '30min', '28th', '15min', '1200', '105', '103', '102', 'Ã\\x97', 'Â®', 'zefron', 'youi', 'yipee', 'yh', 'yesh', 'yeeee', 'yeap', 'yeaah', 'yeaaah', 'yeaaaa', 'yaaaaay', 'workkk', 'workk', 'wooop', 'wooooooo', 'wooohoo', 'wolframalpha', 'whataburger', 'whaat', 'whaaaat', 'wbu', 'wahey', 'waaahhh', 'waaaaa', 'vÃ£', 'vou', 'urghhh', 'uhoh', 'ughhhhhh', 'udah', 'twug', 'twitterz', 'twitterrific', 'twiter', 'twidroid', 'twibe', 'tscc', 'torchwood', 'tonighttttt', 'tomorroww', 'todaay', 'tinytwitter', 'timee', 'thxs', 'thankss', 'thaank', 'textin', 'tehe', 'tca', 'sweeeeet', 'sumtime', 'studyin', 'startrek', 'spelt', 'sleeeeep', 'sleeeeeep', 'showerr', 'shinee', 'sheldon', 'schoooool', 'samee', 'samberg', 'saaad', 'roxy', 'rotf', 'rayban', 'rachael', 'preordere', 'pnk', 'plzz', 'photoshoppe', 'peterfacinelli', 'pende', 'owwwww', 'outttt', 'ouchh', 'otalia', 'os3', 'okayyy', 'ohhhhhh', 'nyquil', 'nowwww', 'nitey', 'nighttt', 'newo', 'nessa', 'ncis', 'naww', 'mrtweet', 'moviee', 'moustache', 'monterrey', 'militarymon', 'meester', 'mcintyre', 'mccartney', 'malone', 'makati', 'luckyyy', 'lmaooo', 'kwl', 'knowww', 'kellie', 'kaitlyn', 'jonasliveonfb', 'jillian', 'jerrys', 'jenni', 'iono', 'imat', 'hurty', 'huhuhuhu', 'howie', 'honour', 'hondura', 'hillsong', 'hha', 'helloooo', 'hehee', 'hbu', 'h20', 'guyss', 'gracia', 'gooooooood', 'gooooo', 'goodsex', 'gmorne', 'glamour', 'gav', 'gaaah', 'foood', 'flatley', 'ff7', 'ferrell', 'fcke', 'farah', 'evry1', 'everrr', 'eurgh', 'eu09', 'dissappointe', 'deviantart', 'dayss', 'cuzzo', 'cuzin', 'cuteee', 'crazyy', 'corbin', 'cooool', 'clt', 'chelsey', 'cgft', 'canÃ¢Â´t', 'canne', 'cairon', 'buuut', 'brazillian', 'boyzone', 'borat', 'boooooooo', 'bondi', 'blink182', 'blehh', 'blahhh', 'bberry', 'baddd', 'backkk', 'babyy', 'babysittin', 'awwe', 'asylm', 'aspnet', 'arkansa', 'anberlin', 'amazinggg', 'allway', 'ahhhhhhhhhhhhh', 'ahhhhhhhh', 'ahahha', 'ah1n1', 'adword', 'adium', 'aaw', 'aaaaa', '999', '97', '930am', '87', '845', '77', '720', '710', '540', '530pm', '500th', '5000', '4got', '450', '41', '4000', '345', '30stm', '2maro', '20mins', '20k', '2012', '1700', '123', '110', '104', '1000th', '08', '06', '05', '03', '02', 'Ã¯Â¿Â½25', 'Ã¯Â¿Â½20', 'zzzzzzzzzzzzz', 'zenjar', 'yummmmm', 'yummmm', 'youÃ¯Â¿Â½re', 'youtuber', 'yoshi', 'yoooo', 'yippeee', 'yeee', 'yc', 'yandel', 'yahhh', 'yaaaa', 'xddd', 'x17live', 'wwwm2easia', 'wowww', 'wooot', 'wisin', 'whatsup', 'wcchicago', 'wakin', 'waha', 'waddup', 'vma', 'uuuugh', 'uuugh', 'uplifter', 'ugghhh', 'ugghh', 'uggg', 'uci', 'ubisoft', 'tÃ£', 'twix', 'twittercom', 'tweople', 'tweetland', 'tweeet', 'tryn', 'treysongz', 'tommrow', 'todaaay', 'tlke', 'tlk', 'tiesto', 'tegan', 'tatum', 'tanline', 'syg', 'sweeet', 'sweeeet', 'sumthe', 'sumn', 'summerrrr', 'sugarland', 'suckssss', 'stlouis', 'starwar', 'southport', 'smilie', 'smcsyd', 'sleepyyy', 'sleepp', 'sleepie', 'simba', 'shittin', 'shaundiviney', 'sentosa', 'seeya', 'schooool', 'scamme', 'savechuck', 'sampson', 'sameee', 'sall', 'sadface', 'rÃ¡Â»Â\\x93i', 'ryt', 'rrod', 'roscoe', 'rocco', 'robsten', 'ringo', 'reposte', 'recognise', 'raiden', 'quickpwn', 'qfc', 'qet', 'pyjama', 'pshh', 'primark', 'pplz', 'poynter', 'pinkpop', 'peopleee', 'penelope', 'partyyyy', 'parra', 'pakcricket', 'owh', 'outtt', 'ouchhh', 'otw', 'openhacklondon', 'onnnn', 'omw', 'okk', 'okaaay', 'ohmy', 'ohhhhhhh', 'ocd', 'o0', 'normandy', 'nordstrom', 'nomnomnom', 'niki', 'nicee', 'nevershoutnever', 'neverende', 'needz', 'nahh', 'n95', 'musicc', 'muchhh', 'motwani', 'moar', 'mmhm', 'missss', 'mhm', 'mehhh', 'meeh', 'mchale', 'mcdo', 'mawnin', 'maternalhealth', 'marlee', 'marky', 'marissa', 'maldive', 'lvtt', 'lovelovelove', 'lotr', 'lonley', 'lolll', 'logie', 'lofnotc', 'lind', 'lifehouse', 'licence', 'lexi', 'lesley', 'leanne', 'lauryn', 'laterz', 'laterrr', 'lalalala', 'kutcher', 'kstew', 'krissy', 'kreme', 'kn0w', 'kittys', 'kenzie', 'kellan', 'kayleigh', 'jule', 'jtv', 'jizze', 'jessy', 'jerz', 'jbs', 'jame', 'iÃ¯Â¿Â½ll', 'irn', 'irene', 'ily2', 'iight', 'iga', 'icee', 'hunnie', 'hunni', 'hrm', 'hottt', 'homeeee', 'holga', 'hiii', 'hihihi', 'heÃ¢Â\\x80Â\\x99s', 'heyyyyy', 'heyyyy', 'herrr', 'hehehehehe', 'heey', 'heeeey', 'heeee', 'hayate', 'havee', 'haribo', 'happybdaykrisallen', 'hamish', 'halp', 'hahhaha', 'hahahahha', 'haah', 'gump', 'greenday', 'goooooo', 'glendale', 'glambert', 'gitu', 'gayy', 'fulfil', 'fuckk', 'fridayyy', 'fosho', 'fma', 'flatt', 'fke', 'fiancÃ£', 'felicia', 'feeln', 'exicte', 'excedrin', 'estonia', 'esmee', 'ergh', 'eloise', 'eeeek', 'eastwood', 'e71', 'drobo', 'downloadin', 'donÃ¢Â\\x80Â\\x99t', 'dnw', 'diabete', 'dennys', 'declan', 'dbz', 'damnnn', 'daay', 'cuuute', 'crzy', 'crazyyy', 'crapy', 'cosy', 'coraline', 'coope', 'compy', 'commin', 'cod4', 'clem', 'chitown', 'chilln', 'chessecake', 'cheque', 'charle', 'charitytuesday', 'charice', 'chantelle', 'cest', 'caz', 'caleb', 'cadbury', 'byron', 'byk', 'buu', 'burfday', 'bunche', 'btch', 'bsg', 'bryce', 'britan', 'bowlin', 'borke', 'bookmarke', 'bonker', 'bmth', 'bmore', 'blaaah', 'bitly', 'birfday', 'bfs', 'besty', 'bellagio', 'beejive', 'beddd', 'beatwittyparty', 'baybee', 'babycake', 'ayee', 'awwwwwwwww', 'awayyy', 'austen', 'asot', 'asb', 'antm', 'annoyin', 'andyclemmensen', 'amazingg', 'amazeball', 'amaaaze', 'alrite', 'alegre', 'aimee', 'ahhhhhhhhhhhhhh', 'ahhaha', 'aerosmith', 'addie', 'aaaahhhh', '96', '94', '76', '74', '73', '715', '71', '69', '67', '615', '61', '6000', '59', '545', '510', '51', '4days', '47', '435', '415', '400th', '3oh3', '303', '2nyt', '2nt', '2morra', '245', '212', '20min', '2011', '1984', '190', '1800', '160', '145', '135', '1215', '112', '107', '106', 'Ã±Â\\x87Ã±Â\\x82Ã°Â¾', 'Ã±Â\\x82Ã°', 'Ã±Â\\x80Ã°', 'Ã±', 'Ã¤Â\\x91i', 'Ã¢Â£60', 'Ã¢Â£6', 'Ã¢Â£500', 'Ã¢Â£250', 'Ã¢Â\\x99Â¥Ã¢Â\\x99Â¥Ã¢Â\\x99Â¥Ã¢Â\\x99Â¥', 'Ã¢Â\\x80Â¢', 'Â´', 'zzzzzzzz', 'zicam', 'yÃ£Â¤y', 'yvette', 'yuuh', 'yummie', 'yippeeee', 'yeyy', 'yessssssss', 'yehh', 'yeeeah', 'yeahhhhh', 'yeaahh', 'yayyyyyy', 'yayayay', 'yass', 'yamli', 'yalls', 'yaknow', 'yahh', 'yaaaaaaay', 'xoxoxoxo', 'xbox360', 'wwiii', 'wuddup', 'writte', 'woww', 'worky', 'workie', 'wordcamp', 'woowww', 'woow', 'woooop', 'wonka', 'wonderre', 'woahh', 'wnna', 'wmp', 'williamsburg', 'whatchu', 'westfield', 'wentz', 'wendys', 'weez', 'weeee', 'waverly', 'watchd', 'waiste', 'wahahaha', 'wahaha', 'waahh', 'w4', 'vÃ¯Â¿Â½', 'vs2010', 'volbeat', 'vocÃ£Âª', 'vnv', 'viggo', 'vancity', 'uxlondon', 'urm', 'ukip', 'uhg', 'uggggh', 'txtin', 'txte', 'twwet', 'twitz', 'twitts', 'twittertakeover', 'twitta', 'twitfam', 'tweetmic', 'twatlight', 'tuscany', 'tummyache', 'ts3', 'trng', 'tristan', 'torino', 'tooom', 'tomz', 'tommarow', 'tomarow', 'tmi', 'tkk', 'tivoe', 'titp', 'tireddd', 'tioman', 'tinchy', 'thnxs', 'thingsmummysaid', 'thingg', 'theeee', 'thanku', 'thanksgive', 'thame', 'thaaank', 'textt', 'tessa', 'tco', 'taryn', 'tafe', 'tadi', 't1i', 'sÃ¯Â¿Â½o', 'sÃ¯Â¿Â½', 'sÃ¡Â»Â\\x9bm', 'swinge', 'sweeny', 'swagg', 'suzy', 'suuuuck', 'suuuper', 'susanna', 'summerrr', 'sumbody', 'suju', 'sucksss', 'stryder', 'strepsil', 'strawberrys', 'staten', 'squidoo', 'spre', 'spokane', 'sowwie', 'sososo', 'sorrry', 'sorrrrry', 'sooooooooooooooo', 'soooooooooooooo', 'sooooooooooooo', 'songbooktv', 'somete', 'soderling', 'smx', 'smthng', 'smithsonian', 'slp', 'slc', 'sittn', 'sinatra', 'siick', 'sicily', 'showw', 'shizzz', 'shitti', 'shiit', 'shiiit', 'sherwood', 'sherri', 'sheeit', 'sheeet', 'shae', 'sf4', 'sephora', 'seaworld', 'sdp', 'scranton', 'scotts', 'scc', 'scareddd', 'sayian', 'salvador', 'safetysuit', 'sadie', 's0me', 'ryanair', 'russel', 'rspca', 'rsi', 'rothbury', 'rohan', 'ritter', 'ricci', 'rewatche', 'replyin', 'repierce', 'reminise', 'rekon', 'reconnecte', 'reallyyyy', 'realllly', 'reallllllly', 'realisation', 'rajeev', 'rainning', 'radio1', 'qood', 'qo', 'qettin', 'pyt', 'pwne', 'pwease', 'publix', 'ptown', 'psssh', 'provecho', 'potts', 'postin', 'portia', 'popeye', 'pookie', 'ponderland', 'pomona', 'pokÃ£', 'pmse', 'plzzz', 'pleaze', 'pldt', 'pisa', 'pingfm', 'phÃ¡ÂºÂ£i', 'phx', 'phishe', 'pgh', 'pfff', 'petsmart', 'peoplee', 'penzance', 'peasy', 'pdx', 'pbr', 'pbj', 'pasadena', 'partyy', 'pake', 'owwy', 'owwww', 'owwie', 'overrrrrr', 'ouchhhh', 'orkney', 'organiser', 'oodle', 'oneee', 'omgomg', 'okiee', 'okai', 'ohno', 'ohk', 'ohhhhhhhhhhh', 'oeh', 'oceanup', 'nÃ¯Â¿Â½', 'nyte', 'nuthing', 'numba', 'nuffnang', 'nosey', 'noow', 'noooooooooooo', 'nooooooooooo', 'nofx', 'nimbuzz', 'niiice', 'niice', 'niecy', 'nichola', 'nhc', 'ngga', 'neighbours', 'ne1', 'nawww', 'nawt', 'natalia', 'naperville', 'nanti', 'nadia', 'nacht', 'naaaw', 'naaah', 'mÃ¯Â¿Â½', 'myspaceee', 'mw2', 'musiq', 'mungkin', 'multitaske', 'mtvmovieaward', 'mtns', 'msh', 'mozy', 'morro', 'moood', 'montanna', 'monika', 'moines', 'modesto', 'mocca', 'mmva', 'mmmmmmmmmm', 'mmmh', 'missse', 'minimise', 'mileycyrus', 'mika', 'meryl', 'melbs', 'meijer', 'meghan', 'meeeeeee', 'meann', 'mcrchat', 'mcflurry', 'mcat', 'mca', 'maxe', 'mariana', 'margret', 'mangoorangeÃ¯Â¿Â½', 'manflu', 'manau', 'mamita', 'makerfaire', 'madee', 'macbeth', 'm20eu', 'luvv', 'lumpur', 'lukin', 'luckyy', 'luca', 'loveyou', 'loveeeeeee', 'loveeeee', 'lottt', 'looooooooong', 'longggggggg', 'longgg', 'lolllll', 'lmk', 'lmfaooo', 'likee', 'liat', 'leona', 'lemsip', 'lbc', 'laterr', 'lanse', 'ladyhawke', 'labour', 'labeouf', 'l4d', 'kuba', 'kuala', 'kthx', 'kristy', 'kristine', 'krista', 'kradam', 'kodachrome', 'knowwwww', 'knott', 'kmrn', 'kittehs', 'kitkat', 'kiro', 'kirin', 'kimora', 'kimmy', 'kimberley', 'kell', 'kbye', 'kaylee', 'karla', 'jÃ£', 'jusst', 'juiceman', 'jsem', 'journchat', 'johanna', 'johan', 'jody', 'jnoub', 'jkjk', 'jilly', 'jewellery', 'jessi', 'jennette', 'jelena', 'jeeper', 'jeanette', 'jeal', 'jaz', 'jayne', 'javaone', 'janeiro', 'jajaja', 'iÃ¢Â´ve', 'iÃ¢Â´d', 'izzie', 'iwa', 'itÃ¢Â\\x80Â\\x99s', 'inverness', 'inkheart', 'ingrid', 'inflamme', 'indiavotes09', 'inbetweener', 'idkk', 'idina', 'iceblock', 'hurtss', 'hurrry', 'humpthestump', 'humpday', 'humber', 'hugz', 'htown', 'hsm3', 'howarewe', 'housee', 'hotlanta', 'hommie', 'holmfirth', 'hohoho', 'hmmmmmmmm', 'hiyaaa', 'himm', 'hiiii', 'heyfever', 'hertfordshire', 'herebeforeoprah', 'hellllll', 'hellboy', 'heineken', 'heheheh', 'hearte', 'heartbreake', 'hcb', 'hayy', 'hateeee', 'hateee', 'harus', 'haaaaate', 'gurrrl', 'gurdy', 'guatemala', 'gtd', 'gtalk', 'grrrrrrr', 'greenwich', 'greaat', 'gratz', 'granma', 'graeme', 'gracie', 'gqmf', 'goshhh', 'gooodd', 'goodÃ¢Â\\x80', 'goodn', 'goodmornin', 'goodmore', 'gonnna', 'goku', 'gokeyisadouche', 'goingg', 'godaddy', 'gmornin', 'glastonbury', 'ginoandfran', 'gino', 'gimmefailwhale', 'gideon', 'gfree', 'getin', 'genevieve', 'gemini', 'geeez', 'geee', 'gday', 'gchat', 'gawju', 'galactica', 'fuuun', 'fuckn', 'fuckkk', 'friende', 'freya', 'freeee', 'frapp', 'franz', 'foreal', 'folower', 'fnwc', 'fkd', 'fixreplie', 'fio', 'finnishe', 'fightstar', 'ffe', 'fetchmp3', 'felipe', 'feeeel', 'farmtown', 'failwhale', 'facut', 'facup', 'facinelli', 'everyoneee', 'everrrr', 'everr', 'evernote', 'evansville', 'euronew', 'erick', 'entendre', 'enrol', 'endeavour', 'emilys', 'elijah', 'elevensestime', 'electrik', 'ehehe', 'dyinggg', 'durban', 'ducati', 'dreamwidth', 'drabble', 'downn', 'dorito', 'dmd', 'dlsu', 'dissapeare', 'disneyworld', 'disapointe', 'dindin', 'dieeee', 'didt', 'didd', 'destroytwitter', 'demii', 'delicioussss', 'dayyyy', 'day26', 'davy', 'davinci', 'davina', 'darko', 'danneel', 'dangg', 'damien', 'dalby', 'd90', 'cÃ£Â³', 'cuzzin', 'customise', 'cursebird', 'crazyyyy', 'cpk', 'coooool', 'compton', 'cleo', 'cityy', 'cinci', 'chorei', 'cheyenne', 'chenoweth', 'champorado', 'ceasar', 'cbf', 'cavz', 'carrey', 'carina', 'capn', 'cancun', 'cancle', 'camille', 'cambria', 'callum', 'cait', 'cadÃ£Âª', 'byebye', 'buzzcock', 'buzz140', 'butterfinger', 'bussy', 'burbank', 'buhh', 'btub', 'brr', 'britian', 'brap', 'brainbone', 'boyy', 'boracay', 'boosh', 'boooring', 'booore', 'boooore', 'booooooooooo', 'booooooooo', 'bolivia', 'bnd', 'blockmate', 'blockdreamer', 'blm', 'blesss', 'blegh', 'bleah', 'blaine', 'bkk', 'bham', 'bffls', 'bfff', 'bex', 'bestt', 'bertie', 'bedd', 'becka', 'beantown', 'beachh', 'beachbody', 'bbqs', 'baskin', 'barrowman', 'barakatday', 'banksy', 'bandung', 'bakwaas', 'bakersfield', 'bahahahaha', 'bahahaha', 'bahah', 'baguio', 'babee', 'azn', 'azi', 'awwwwwww', 'awesomee', 'aviv', 'aveda', 'aughh', 'aubrey', 'atx', 'asleeep', 'ashleigh', 'ashlee', 'arrgghh', 'armando', 'arghhhh', 'applecare', 'applebee', 'answerin', 'anoye', 'anoop', 'angelsdemon', 'angell', 'analyse', 'amelie', 'amaazing', 'alltimelow', 'alllllll', 'alisha', 'alhamdulillah', 'alexandria', 'aladdin', 'airfrance', 'aidan', 'ahahahahaha', 'ahaa', 'agne', 'aghh', 'agesss', 'aftie', 'adorei', 'adio', 'ableton', 'abis', 'abbie', 'aawww', 'aahah', 'aaaw', 'aaahh', 'aaaaw', 'aaaargh', 'aaaahhhhh', '900am', '8900', '89', '86', '84', '815', '8000', '7hours', '750', '72', '711', '70th', '700th', '650', '610', '58', '550', '54', '53', '520', '52', '514', '512', '4ish', '4hour', '445', '411', '410', '40th', '404', '3uk', '3turnoffwords', '399', '365', '350', '34th', '339', '3333333', '30secondstomar', '301', '2weeks', '2say', '2do', '299', '280', '266', '25hrs', '24hr', '240', '235', '226', '220', '215', '20boysummer', '201', '2004', '2000th', '1998', '1997', '1995', '1991', '1989', '1981', '1960', '1900', '151', '140conf', '137', '130am', '12hr', '125', '1240', '1230am', '119', '117', '1106', '10x', '10mins', '10min', '1057', '1050', '1000000', '01', 'Ã±Ã±Â\\x82Ã±Â\\x80Ã°', 'Ã±Ã°Â¾Ã°Â²Ã°ÂµÃ±Â\\x82', 'Ã±Ã°Â¸Ã°Â±Ã°Â¾', 'Ã±Â\\x87Ã°', 'Ã°Â½Ã°Â¾', 'Ã°Â½Ã°Âµ', 'Ã°Â¼', 'Ã°ÂºÃ°', 'Ã°Âº', 'Ã°Â·Ã°', 'Ã°Â²Ã°', 'Ã°Â²', 'Ã¯Â¿Â½u', 'Ã¯Â¿Â½s', 'Ã¯Â¿Â½n', 'Ã¯Â¿Â½60', 'Ã¯Â¿Â½500', 'Ã¯Â¿Â½4', 'Ã¯Â£', 'Ã¤Â±m', 'Ã¤Â\\x91ang', 'Ã¤inh', 'Ã£Â¼ber', 'Ã¢Â£50', 'Ã¢Â£5', 'Ã¢Â£35', 'Ã¢Â£200', 'Ã¢Â\\x99Â¥Ã¢Â\\x99Â¥Ã¢Â\\x99Â¥Ã¢Â\\x99Â¥Ã¢Â\\x99Â¥Ã¢Â\\x99Â¥', 'Ã¢Â\\x99Â¥Ã¢Â\\x99Â¥Ã¢Â\\x99Â¥Ã¢Â\\x99Â¥Ã¢Â\\x99Â¥', 'Ã¢Â\\x99Â¥Ã¢Â\\x99Â¥Ã¢Â\\x99Â¥', 'Ã¢Â\\x99Â¥Ã¢Â\\x99Â¥', 'Ã¢Â\\x98Â¼', 'Ã¢Â\\x80Â\\x94', 'Ã\\x97Ã\\x97Âª', 'Ã\\x97Â\\x9bÃ\\x97Â\\x95Ã\\x97Â\\x9f', 'Ã\\x97Â\\x96Ã\\x97Â\\x94', 'zzzzzzzzzzz', 'zurich', 'zs', 'zq', 'zoop', 'zooka', 'zohan', 'zoey', 'zippys', 'zensursula', 'zealander', 'zappos', 'zante', 'zane', 'zacky', 'yyys', 'yummmmy', 'yummmmmy', 'yucko', 'yslow', 'ypou', 'youÃ¢Â´re', 'youuuuuuuuu', 'you3', 'yooooo', 'yoko', 'yogurtland', 'yiruma', 'yettt', 'yesterdayi', 'yessssssssssss', 'yesssssir', 'yepper', 'yeo', 'yeeeeey', 'yeeeeeeah', 'yeeeee', 'yeeeeah', 'yeeeaaa', 'yeeah', 'yearr', 'yeaaahhh', 'yayay', 'yawk', 'yasss', 'yaris', 'yano', 'yaha', 'yaah', 'yaaaaaaaaay', 'xxxxxxxxxxxxxxxxxxxx', 'xxxxxxxxxxxxxxx', 'xxoo', 'xtina', 'xoxoxoxoxo', 'xman', 'xma', 'xfm', 'xde', 'xdddd', 'xcite', 'xbl', 'xaviermedia', 'x64', 'x0x0x', 'wzup', 'wyl', 'wwwstringbeancoffeeshopcom', 'wwwmyvincinet', 'wwwbingcom', 'wuzzup', 'wuzup', 'wundere', 'wts', 'wtk', 'wtfff', 'wtff', 'wtchin', 'wtch', 'wtb', 'wsop', 'wrng', 'wrkout', 'wrke', 'writechat', 'wpf', 'wowzer', 'wowy', 'wowwww', 'wouldnÃ¯Â¿Â½t', 'wouk', 'woudnt', 'worthington', 'worrk', 'workkkk', 'woopwoop', 'woooot', 'wooooow', 'wooooop', 'wooooooooo', 'woooooooo', 'woohoooo', 'wooho', 'woodley', 'wooah', 'wonÃ¢Â\\x80Â\\x99t', 'wonna', 'wonderwall', 'wolfie', 'wohooo', 'wntd', 'wkd', 'winterboard', 'winphp', 'winehouse', 'windig', 'winchester', 'wikileak', 'wiat', 'whyyyyyyyyy', 'whyyyyyy', 'whta', 'whs', 'whopp', 'whooot', 'whoooop', 'whooooo', 'whoohoo', 'whooaa', 'whoaaaa', 'whoaaa', 'wheee', 'whedon', 'wheater', 'whatz', 'whattt', 'whatelse', 'whata', 'whant', 'whaaaaat', 'wgn', 'weÃ¢Â´ll', 'weymouth', 'westwick', 'westcountry', 'werid', 'werder', 'wensday', 'wendi', 'wembeley', 'wellll', 'wela', 'weinberg', 'weibe', 'weetabix', 'weekk', 'weekendz', 'weeeh', 'weeeeeeee', 'weeeeeee', 'weasley', 'weaksauce', 'wch', 'wc3', 'waybeo', 'waterstone', 'watchen', 'wansta', 'wannna', 'wango', 'wallflow', 'walkn', 'walgreen', 'wakeboarde', 'waitttt', 'waittt', 'waitt', 'waikiki', 'wahlberg', 'wahhhhhh', 'wahhhhh', 'wafi', 'wache', 'wabash', 'waaahh', 'waaaayy', 'waaaah', 'waaaaant', 'waaaaaaah', 'waaaa', 'w0rk', 'w00p', 'vlad', 'vjj', 'vimperator', 'villarreal', 'vikki', 'vike', 'viendo', 'vidz', 'victorville', 'viciei', 'vexcite', 'vewwy', 'vettel', 'veryy', 'velma', 'veeery', 'vedder', 'vbulletin', 'vblog', 'vball', 'vano', 'vampirebeatle', 'vair', 'vacum', 'vaccume', 'uÃ¥Â¾', 'uverse', 'uuuuu', 'uuh', 'uqh', 'upgo', 'uninstalle', 'ungh', 'unfortunatelly', 'unforch', 'ummmmmmm', 'umass', 'ulet', 'uknowradio', 'ui2009', 'uhhhhhh', 'ughhhhh', 'uea', 'udh', 'ucap', 'u14', 'typo3', 'twtrcon', 'twtfm', 'tworld', 'twloha', 'twittz', 'twittter', 'twittin', 'twitteruniverse', 'twittertrain', 'twitterrr', 'twitterr', 'twitterling', 'twitterfriend', 'twitterfeed', 'twitterfall', 'twittercounter', 'twitterbird', 'twitteratti', 'twitte', 'twitpocalypse', 'twitere', 'twitascope', 'twissup', 'twillight', 'twihard', 'twiggas', 'twexit', 'tweetster', 'tweetshrink', 'tweetlater', 'tweeties', 'tweetgrade', 'twc', 'twatting', 'twatter', 'tvone', 'tuyet', 'tunstall', 'tunak', 'tumblarity', 'ttyt', 'ttfn', 'trya', 'tropicana', 'tropez', 'trl', 'trixie', 'tristo', 'trisha', 'trippen', 'trinoma', 'trillian', 'tribbleagencycom', 'trenton', 'transylvania', 'tracys', 'tracie', 'tottaly', 'totoro', 'tostitos', 'tosca', 'topmodel', 'top10', 'tootie', 'toofer', 'tonightttttt', 'tonighttt', 'tongseng', 'tomorrowwww', 'tommorw', 'tomi', 'togetherrrr', 'todayyyyyy', 'todayim', 'todayi', 'tobago', 'tng', 'tmwr', 'tmrws', 'tmro', 'tmra', 'tmoz', 'tmorrow', 'tlkin', 'tks', 'tivod', 'tinternet', 'timog', 'timemachine', 'tiire', 'tiiiime', 'tiggie', 'tifa', 'tiere', 'tictac', 'ticketek', 'tibby', 'tiba2', 'thyre', 'thtz', 'thrillbilly', 'threeee', 'thq', 'thoo', 'thoi', 'thk', 'thissss', 'therre', 'theraflu', 'thennn', 'themthey', 'themmm', 'theapprentice', 'thatÃ¯Â¿Â½s', 'thatÃ¢Â\\x80Â\\x99s', 'thanxxx', 'thanxx', 'thankx', 'thanksssss', 'thankiie', 'thankie', 'thankee', 'thaaaank', 'tgs', 'tfs', 'terebithia', 'terabithia', 'tepe', 'tenneasee', 'tenho', 'telus', 'telln', 'telford', 'telat', 'tehehehe', 'teese', 'teef', 'teddys', 'technetvconf', 'techglance', 'teabagge', 'tdy', 'tdot', 'tdc', 'tcg', 'tbqh', 'tbpid', 'tbone', 'taya', 'tatto', 'tatort', 'tarsi', 'tarantino', 'tampere', 'tami', 'talkshoe', 'taipei', 'tagaytay', 'taft', 't0day', 'sÃ£Â£o', 'synche', 'sylar', 'syiok', 'sye', 'swoll', 'sweetz', 'sweepy', 'swagbuck', 'swac', 'svu', 'suzi', 'suz', 'suxs', 'suuuuuck', 'suuure', 'suuck', 'sutro', 'sushii', 'supre', 'superrrr', 'superrr', 'super8', 'sundayyy', 'sumthink', 'summerwood', 'sudafe', 'sucksssss', 'suckish', 'sucki', 'subray', 'stuuuupid', 'stufff', 'studyhall', 'stubbs', 'sts125', 'strt', 'stressin', 'streep', 'stratford', 'stratch', 'stpete', 'storyy', 'storytelle', 'stonehenge', 'stomacache', 'stokedi', 'stng', 'stimmt', 'stiche', 'stewie', 'steffi', 'stefany', 'stdnt', 'starvingggg', 'starfleet', 'starbuckss', 'stalkin', 'srysly', 'squeee', 'springsteen', 'speidi', 'specialise', 'spazze', 'southpark', 'souljaboytellem', 'soulchild', 'sotd', 'sosososo', 'soso', 'sorryy', 'sorri', 'sorrento', 'soooooooooooooooo', 'soonnn', 'sookie', 'sonya', 'sonn', 'sonisphere', 'songg', 'somthin', 'somaya', 'soderle', 'sobe', 'soal', 'snorin', 'snif', 'sneezin', 'sneakin', 'sne', 'smth', 'smtb', 'smilee', 'smfh', 'smf', 'sloww', 'slooooowly', 'slinkie', 'sligo', 'slidesharenet', 'sleey', 'sleepytime', 'sleepn', 'sleepi', 'sleeepy', 'sleeeping', 'sleeeeeeeep', 'slangin', 'skul', 'skoo', 'skillzzzz', 'sketchup', 'sjc', 'sistaaa', 'singstar', 'sims2', 'simmon', 'simfriend', 'silversun', 'silkie', 'sike', 'siiiiick', 'siiiick', 'siiick', 'sighhh', 'sidcup', 'shwr', 'show89', 'shood', 'shontelle', 'shoess', 'shity', 'shinedown', 'shiiiiit', 'shiet', 'shet', 'sheri', 'sheraton', 'sheetz', 'shayla', 'shabusen', 'sg1', 'sfgiant', 'sfarsit', 'seychelle', 'sexyy', 'sexii', 'setanta', 'sesuatu', 'seruuu', 'sennheiser', 'sency', 'selma', 'selly', 'selenaa', 'selah', 'seinfeld', 'seeeee', 'seeee', 'sebelah', 'scris', 'scottie', 'scotsman', 'sciene', 'schoold', 'scaryy', 'sbi', 'sb900', 'sazzy', 'savour', 'saveearl', 'saterday', 'sarte', 'sarmy', 'sappho', 'santino', 'santina', 'santi', 'sankey', 'sanjiyah', 'sanjaya', 'sandler', 'sampe', 'salzburg', 'salee', 'saidi', 'safari4', 'saderer', 'saddddd', 'sabre', 'sabina', 'sabbeth', 'saay', 'saaaad', 's4c', 'rÃ£Â¶yksopp', 'ryme', 'rybak', 'rutland', 'rpe', 'rpatz', 'royksopp', 'roxie', 'roxette', 'roswell', 'roseeeee', 'rool', 'ronson', 'ronan', 'rog', 'roflmao', 'rockwell', 'rockness', 'rockie', 'robyn', 'roboto', 'roblox', 'roastin', 'rnt', 'rnr', 'rlyy', 'rizal', 'riverdance', 'ripley', 'rimmel', 'rikku', 'riiiiight', 'righttt', 'rightnow', 'riga', 'richey', 'ribena', 'rhubard', 'rhode', 'reppe', 'renÃ¯Â¿Â½e', 'renzo', 'remixe', 'rememberr', 'relaunche', 'refreshe', 'reformatte', 'reeeeeally', 'redi', 'reblippin', 'rebekah', 'reallyyy', 'really2', 'realllyyy', 'realllyy', 'realllllly', 'realli', 'readyy', 'reaaally', 'reaaaaally', 're5', 'rdy', 'rdj', 'rcw', 'rawrrrr', 'rawrr', 'rapp', 'ranchi', 'ramiele', 'rambut', 'rainn', 'raimi', 'radiostation', 'raceforlife', 'rabu', 'qw', 'qvc', 'quÃ£', 'quizno', 'quincy', 'queenstown', 'qotta', 'qot', 'pÃ£', 'pzone', 'putchi', 'pussyparty', 'puse', 'purry', 'punke', 'puget', 'puddingsunday', 'puchi', 'prrrrrrrrrr', 'protool', 'programmin', 'probz', 'proberly', 'probabbly', 'prince2', 'preztel', 'preeetty', 'precal', 'powertwitter', 'postsecret', 'postar', 'popcicle', 'poorley', 'poore', 'pooor', 'poohead', 'pooey', 'pocono', 'pnc', 'pman', 'plzzzzzz', 'plzzzz', 'plyo', 'plx', 'plurke', 'pleeeeeeease', 'pleeeeaaase', 'pleaz', 'pleaseeeeeeeeeeee', 'pleaseeeeeeee', 'pleaseeeeeee', 'pleaaase', 'pleaaaase', 'playradioplay', 'pityful', 'pisseed', 'piratebay', 'pinay', 'pimms', 'pilpre', 'pikachu', 'picz', 'piccy', 'picard', 'phÃ£Â²ng', 'photofiltre', 'photocleaner', 'phoneee', 'phillipe', 'phili', 'pgpm', 'pffff', 'petfinder', 'perham', 'pentax', 'pengen', 'penang', 'peke', 'peggle', 'peepz', 'peanutbutter', 'pbl', 'pawpawty', 'pavelnedve', 'paulette', 'patzz', 'pattaya', 'passat', 'partyyy', 'parasaile', 'paola', 'pantesan', 'palmpre', 'palmdale', 'paintballe', 'paha', 'pagecom', 'padahal', 'oyasumi', 'overtweet', 'overrr', 'overr', 'ouvindo', 'ouut', 'ouu', 'outz', 'otis', 'otha', 'otd', 'otakon', 'osm', 'orthodentist', 'organised', 'organisation', 'opperation', 'oppa', 'openrasta', 'oooop', 'oooohhhh', 'ooof', 'oohhhh', 'ontem', 'onnn', 'onizuka', 'omq', 'omm', 'omgz', 'omgsh', 'omgoodness', 'omgomgomgomgomg', 'omgomgomg', 'omd', 'olympus', 'okkk', 'okinawa', 'ojousama', 'oic', 'oia', 'ohmygosh', 'ohhhhhhhh', 'ogrady', 'offence', 'oetmannshausen', 'oddle', 'octodrive', 'oceanupcom', 'ocala', 'obssese', 'obrigada', 'oakwood', 'oahu', 'nÃ¯Â¿Â½y', 'nÃ¯Â¿Â½o', 'nyaaa', 'nxne', 'nuthn', 'nurofen', 'nug', 'ntua', 'ntar', 'nsync', 'nsn', 'nowwwww', 'nowaday', 'notttt', 'nottt', 'nothn', 'nothen', 'nosetap', 'nopee', 'nooow', 'nooothe', 'nooooow', 'noooooooooooooooo', 'nonton', 'noez', 'no17', 'nmn', 'nlc', 'nivea', 'nitee', 'niqht', 'ninguÃ£', 'niiiiiight', 'niight', 'niht', 'nightttt', 'nightt', 'nightowl', 'nightdont', 'niceeee', 'niceee', 'niagra', 'nhÃ¡', 'newtown', 'newmarket', 'newbury', 'neverr', 'neurofen', 'networkin', 'nethe', 'nerdfighter', 'neotel', 'neosho', 'neeeee', 'neeee', 'needta', 'needfolower', 'nedve', 'nedd', 'nayan', 'natm2', 'nathanson', 'nathalie', 'natasha', 'nastie', 'narnia', 'naple', 'naplan', 'nante', 'nahhhh', 'nabbie', 'naaaap', 'n0w', 'n00b', 'mÃ¯Â¿Â½nh', 'mÃ£Â¬nh', 'myx', 'myt', 'mysti', 'mysore', 'myfax', 'myf', 'mx5', 'mwahahaha', 'mvc', 'muzza', 'muzik', 'musnt', 'muskateer', 'muncie', 'mulu', 'multe', 'mulan', 'muji', 'muhahaha', 'mufasa', 'muahszz', 'muahahahaha', 'mtub', 'mtl', 'mself', 'mrscjbaran3', 'moyle', 'mousavi', 'motherfuck', 'morroc', 'morra', 'morningwood', 'morninggggg', 'morninggg', 'morin', 'moreee', 'moree', 'moovie', 'mooney', 'mooloolaba', 'monthsary', 'montag', 'monique', 'monfil', 'moneey', 'mondaaay', 'momz', 'mommmy', 'momentile', 'mollie', 'molasse', 'moisturiser', 'moine', 'mohegan', 'modelling', 'modde', 'mny', 'mmmmmmmmmmmm', 'mmmmmmmm', 'mmmmmmm', 'mmmhmmm', 'mmk', 'mmhmm', 'mixmag', 'mitm4e', 'misunderstandin', 'missn', 'missfit', 'miriam', 'miri', 'mindy', 'mimis', 'mimiron', 'millsy', 'millie', 'mileyy', 'mileyworld', 'miko', 'mikaela', 'miht', 'midol', 'microlog', 'mgg', 'mfer', 'mewithoutyou', 'metrostation', 'metroflog', 'metre', 'messican', 'merriweather', 'melly', 'melisa', 'megadrive', 'mega64', 'mediteranean', 'meade', 'mclachlan', 'mckinney', 'mckenna', 'mckay', 'mcguire', 'mcgriddle', 'mcfadden', 'mccurdy', 'mccarren', 'mcb', 'maÃ£Â±ana', 'mayawati', 'maury', 'matulog', 'mathew', 'matamoros', 'masha', 'marvellous', 'maruzen', 'marriott', 'markie', 'marisa', 'marcy', 'marbella', 'manz', 'manohara', 'mannnnnnnn', 'mannnnn', 'manlove', 'manilow', 'mangga', 'mamm', 'malteaser', 'makess', 'makasih', 'maino', 'mailart', 'magictwackle', 'madtv', 'maddd', 'macys', 'mackenzie', 'macgregor', 'maccy', 'macar', 'maad', 'm25', 'm0re', 'lÃ£Âªn', 'lÃ£', 'lÃ¡ÂºÂ¡i', 'lynne', 'lym', 'lvoe', 'luvly', 'luver', 'luve', 'luton', 'lushh', 'lurv', 'lunchable', 'lula', 'lufthansa', 'luda', 'lucke', 'lubbock', 'lro', 'lpc', 'lovley', 'lovez', 'loveyouu', 'lovessss', 'lovesss', 'lovess', 'loven', 'lovelyness', 'lovefilm', 'lovedddd', 'lottttt', 'lotro', 'losy', 'loooooooove', 'looooooooove', 'looonnnggg', 'longgggg', 'longboarde', 'lonestar', 'lolthe', 'lollol', 'lollllll', 'lol3', 'loev', 'lmfaoo', 'lmaoooo', 'litre', 'lithuania', 'listnin', 'liquidweb', 'lincolnshire', 'liife', 'lightskinne', 'liferay', 'lifelink', 'lifeeee', 'lifeee', 'lifee', 'liev', 'liesgirlstell', 'lici', 'lfo', 'lfcc', 'leto', 'letech', 'leppard', 'leny', 'leila', 'leia', 'lefte', 'lebah', 'leavee', 'lcross', 'lcbo', 'lazyness', 'lazye', 'lazybone', 'layla', 'lawlz', 'lavigne', 'lasst', 'lasertag', 'lasange', 'landin', 'lameee', 'lamee', 'lama2', 'lalalove', 'lakeshow', 'lainey', 'ladyjade', 'lacka', 'lacie', 'laaame', 'l8er', 'l4d2', 'l0l', 'l00ks', 'kys', 'kyla', 'kwame', 'kuz', 'kuyas', 'ksw', 'ksc', 'krystal', 'krudd', 'krtv', 'kriss', 'krasinski', 'kogi', 'kofi', 'knp', 'knowwwwwwww', 'knighty', 'kn0', 'klondike', 'kittie', 'kisss', 'kissimmee', 'kirsty', 'kiple', 'kinsella', 'kinikilig', 'kimmi', 'kimk', 'kiesler', 'kickboxe', 'khloe', 'keynes', 'keyboarde', 'kerri', 'kenmore', 'kelsi', 'kelci', 'keele', 'kearney', 'kdka', 'kcon', 'kaylah', 'kayanya', 'kawasaki', 'kauai', 'katja', 'katelyn', 'karissa', 'karine', 'kardashians', 'kapolei', 'kaplan', 'kanvaas', 'kantor', 'kamuli', 'kaleb', 'kalani', 'kaitlin', 'kait', 'kaila', 'jynx', 'jwu', 'justine', 'juliette', 'juhu', 'jovi', 'journay', 'josi', 'jordy26', 'jonkate8', 'jonkate', 'joni', 'jolicloud', 'johnathan', 'jogg', 'joejonas', 'joaquin', 'jmac', 'jks', 'jk8', 'jimmys', 'jgn', 'jetta', 'jett', 'jetplane', 'jetlagge', 'jeth', 'jeremys', 'jenner', 'jema', 'jeffree', 'jeeez', 'jealousss', 'jealou', 'jb3d', 'jaymee', 'jayk', 'jase', 'jaque', 'janis', 'janessa', 'janell', 'janeane', 'jaloux', 'jacky', 'iÃ¢Â´ll', 'iÃ¢Â\\x80Â\\x99ll', 'iyaa', 'itweetreply', 'itlol', 'itb', 'issac', 'isint', 'isetan', 'isaw', 'isaiah', 'isabella', 'iqad', 'iphoneapp', 'ipass', 'inxs', 'inveja', 'inlove', 'inglewood', 'inggit', 'infiniti', 'inboxe', 'impend', 'imodium', 'immobiliser', 'ilove', 'iklan', 'iim', 'iiiit', 'iiiiii', 'ihave', 'iglu', 'ie7', 'idt', 'idky', 'identica', 'idd', 'icq', 'ickk', 'ichiban', 'icbth', 'icann', 'ibody', 'i18n', 'hÃ£', 'hyve', 'hws', 'huy', 'huuh', 'huu', 'hust', 'hurtn', 'hurrt', 'hungryyyy', 'hungryy', 'huggie', 'hugeee', 'hudgen', 'hrmmm', 'hrhr', 'hreat', 'hoÃ£', 'howz', 'houseparty', 'houdini', 'horton', 'horray', 'horne', 'horibble', 'hooot', 'hooooo', 'hoooome', 'hooligun', 'honeybun', 'homiesss', 'homeowrk', 'homeee', 'hoje', 'hoby', 'hobart', 'hnd', 'hmpf', 'hmmp', 'hipst', 'himym', 'him3', 'hilson', 'hilarie', 'hicup', 'hhmmm', 'hhahahaha', 'hhahah', 'heÃ¯Â¿Â½', 'heyjust', 'hert', 'herpe', 'hermione', 'hereeee', 'hereee', 'heree', 'hepl', 'hepburn', 'helpp', 'hellz', 'hehehehehehehe', 'hehehee', 'heheee', 'heeeeeey', 'heeeeeeey', 'heaty', 'hearn', 'headn', 'headdddd', 'headach', 'hbp', 'hawkcam', 'havn', 'havet', 'hasse', 'hartly', 'harajuku', 'happyyyy', 'happie', 'hanya', 'hannibal', 'hanginÃ¯Â¿Â½', 'hane', 'hampstead', 'hampden', 'hamm', 'haloo', 'halloooooo', 'hairr', 'hairdye', 'hahhahah', 'hahhah', 'hahhaa', 'hahh', 'hahalove', 'hahahhaa', 'hahahahhaha', 'hahahahahah', 'hahahaaha', 'hahaahha', 'hahaah', 'hadfun', 'haaha', 'haagen', 'haaaaaa', 'h8s', 'gÃ£Â¼d', 'gymm', 'gwibber', 'guyssss', 'guhhh', 'gueste', 'guerlain', 'guadalupe', 'gtta', 'gtime', 'grux', 'gruene', 'gruele', 'grubbin', 'grrrreat', 'grooveshark', 'grood', 'groo', 'groban', 'grl', 'grissom', 'grimshaw', 'greysanatomy', 'gretel', 'gretal', 'greinke', 'greggs', 'greenified', 'greektown', 'greeeat', 'greddy', 'greattttt', 'greattt', 'greader', 'granpa', 'gramp', 'gramercy', 'grafton', 'gr88', 'gphone', 'gould', 'gotti', 'gotchu', 'goshhhh', 'goshh', 'gorgous', 'gorg', 'goooodnight', 'gooodnight', 'goonie', 'goona', 'goodo', 'goodnightttttt', 'gonzpiration', 'gonnaa', 'gomtv', 'goinng', 'goerge', 'goddd', 'goddamit', 'gno', 'gng', 'gnd', 'gmn', 'gingerale', 'gillian', 'gile', 'gibb', 'ghey', 'getz', 'getn', 'genting', 'gellar', 'geia', 'geete', 'geeki', 'geass', 'gdad', 'gbye', 'garageband', 'ganke', 'galway', 'gaiman', 'gahhhh', 'gahd', 'gabrielle', 'gabbys', 'gaayyy', 'gaay', 'gaaahhhhhh', 'gaaaay', 'gaaaah', 'fÃ£', 'fwee', 'fuzzie', 'fuuuuun', 'fuuuuck', 'fuuuck', 'fushia', 'funy', 'funnnnnnn', 'funnnnn', 'funfunfun', 'funfetti', 'fullfille', 'fuke', 'fufille', 'fuckmylife', 'fuckig', 'fst', 'fsm', 'frostwire', 'frostie', 'frisco', 'frikin', 'frigin', 'friendsss', 'friendlys', 'fridayyyyy', 'fridayy', 'fricke', 'fricka', 'freo', 'frenchopen', 'frenchie', 'freemusic', 'freeeeee', 'freddi', 'freakinggg', 'frap', 'fransisco', 'frand', 'fowa', 'forsure', 'formula1', 'foreverrr', 'forbe', 'fontswap', 'follwer', 'followerss', 'followee', 'focke', 'fne', 'flyyyy', 'flir', 'fli', 'fleetwood', 'flately', 'flatbush', 'flaily', 'fkin', 'fishie', 'fireee', 'finshe', 'finnally', 'finkin', 'finishd', 'finise', 'finee', 'finallyyy', 'fillmore', 'fifi', 'fieldnote', 'fhm', 'fffffat', 'fenna', 'feelinq', 'fecke', 'feburary', 'fearne', 'fcuke', 'fckng', 'fckn', 'fckin', 'fbook', 'faustÃ£Â£o', 'fastlane', 'fastcgi', 'fass', 'farsi', 'farke', 'faraday', 'famz', 'familyforce5', 'fambam', 'falkirk', 'fakt', 'fakejowhiley', 'fajn', 'fairfield', 'faill', 'failin', 'fafinettex3', 'facebooke', 'facebookcom', 'ezmuze', 'eyess', 'excitin', 'exciteddd', 'excitedd', 'exciite', 'examms', 'ewwwwww', 'evrytime', 'evrythe', 'evfn', 'everyonebutton', 'everrrrr', 'eurotrip', 'eubank', 'etymotic', 'estk', 'espn360', 'espesh', 'espero', 'espec', 'espaÃ£Â±ol', 'espana', 'esm', 'eski', 'es21', 'erse', 'ermm', 'eriks', 'erghh', 'erbody', 'eq2', 'ep09', 'eotc', 'enak', 'emiliano', 'embarrase', 'embarq', 'emang', 'elvira', 'elora', 'elise', 'elie', 'eleanor', 'ehrm', 'ehow', 'effron', 'effie', 'efal', 'eehhh', 'eeepc', 'eeeep', 'eeeeek', 'eeeeeekkk', 'edmond', 'earlyyy', 'earlyer', 'earle', 'e75', 'e2conf', 'dÃ£Â¡m', 'dÃ£', 'dwo', 'duuuude', 'duuh', 'duude', 'dutchie', 'dundundun', 'duminica', 'duane', 'dsnt', 'dsm', 'drugsss', 'drpepper', 'drinkie', 'dreamhost', 'downloadd', 'dougla', 'dotn', 'dormi', 'dorchester', 'dopy', 'doooo', 'dolph', 'dollywood', 'dokken', 'doinnn', 'dogsitte', 'doggys', 'do3', 'dno', 'django', 'diviney', 'dita', 'disturbia', 'dinn', 'dimana', 'dilla', 'dilbert', 'diie', 'dieingggg', 'didnÃ¯Â¿Â½t', 'didnÃ¢Â´t', 'didnÃ¢Â\\x80Â\\x99t', 'diddnt', 'dicko', 'diba', 'diao', 'dfb', 'devistate', 'devaste', 'dermot', 'depresion', 'depeche', 'dentsu', 'denter', 'deigman', 'degenere', 'defence', 'deccan', 'debi', 'debb', 'deade', 'ddo', 'ddnt', 'ddddd', 'dddd', 'dc3', 'dbq', 'dback', 'daz', 'dayyys', 'daysss', 'dayquil', 'davids', 'datz', 'datsyuk', 'darlington', 'daph', 'dapet', 'dannys', 'dannygokeyislove', 'dannygokey', 'danngg', 'danan', 'dammnit', 'dammn', 'dammm', 'damian', 'daine', 'dailybooth', 'daii', 'daamn', 'd0nt', 'd0', 'cÃ¯Â¿Â½', 'cÃ£Â¡i', 'cyrel', 'cuzz', 'cuzo', 'cutee', 'cusack', 'curhat', 'cuma', 'cryy', 'cryingg', 'crv', 'crutche', 'croydon', 'crocker', 'crispie', 'crapp', 'crapi', 'craaaazy', 'cr2', 'cpsia', 'cowell', 'covent', 'couz', 'couqh', 'councillor', 'couldv', 'cortina', 'corinne', 'cordelia', 'coome', 'coogee', 'constipate', 'consigo', 'consegui', 'congrad', 'confuzzle', 'conchord', 'conceite', 'computerworld', 'computere', 'compfy', 'commentsuscribe', 'comeeee', 'columbo', 'colours', 'colouring', 'colourful', 'colddd', 'coisa', 'coheed', 'coffeetime', 'coctail', 'cobol', 'cmmnt', 'cmin', 'clutz', 'clive', 'clinky', 'cldnt', 'clarendon', 'ckckck', 'civilisation', 'cirvical', 'cinemax', 'cik', 'chyeah', 'chuy', 'chuckie', 'chuckeu', 'chubba', 'christy', 'christchurch', 'choki', 'chillaxe', 'chilaxe', 'chikn', 'chiken', 'chickene', 'chiago', 'chesney', 'chelle', 'cheke', 'cheesburger', 'cheeeeap', 'cheeburger', 'checkem', 'chch', 'chattanooga', 'charlene', 'chapelle', 'chantell', 'channing', 'chalean', 'ceritanya', 'cepic', 'celia', 'ccky', 'cbt', 'cbbc', 'cbb', 'caulin', 'castelvania', 'cassandra', 'caryn', 'carvel', 'carsten', 'carnegie', 'carlsbad', 'carebear', 'caracas', 'caprisun', 'caprica', 'capelli', 'canÃ¢Â\\x80Â\\x99t', 'cantonfirstfri', 'cantonese', 'cannyy', 'candice', 'cancele', 'camila', 'camelot', 'calpol', 'callie', 'caliiforniia', 'caledonia', 'calabria', 'caitlyn', 'cafÃ¯Â¿Â½', 'cafepress', 'cabrera', 'bymyself', 'byeeeee', 'bych', 'bwahahaha', 'buuuuu', 'buttt', 'businessweekcom', 'bushmill', 'burntwood', 'burbujas', 'bumed', 'buhahaha', 'bueller', 'budu', 'budlight', 'buckley', 'bublegum', 'btm', 'btf', 'bside', 'brynn', 'brussel', 'brummie', 'brucey', 'brrrrrr', 'browncoat', 'broadmeadow', 'brittney', 'briana', 'brendon', 'breman', 'brecky', 'brandi', 'bozooka', 'boyyy', 'botherin', 'bosen', 'boringgggg', 'boringgg', 'boredum', 'boreddddd', 'boredddd', 'booring', 'boore', 'boooooore', 'booooooore', 'boooooooooooooooo', 'booomb', 'booh', 'bonifacio', 'bondoc', 'bonanzle', 'boleyn', 'bogor', 'bodystep', 'bodom', 'bochum', 'blythe', 'bluebox', 'blore', 'bloomsday', 'blondeyy', 'blogtalkradio', 'blogskin', 'blogher', 'bloem', 'blehhhh', 'bleezy', 'bleck', 'blargh', 'blarg', 'blahhhhhh', 'bladerunner', 'blad', 'blaah', 'bizkit', 'bitchass', 'biggg', 'biffle', 'bgp', 'bfheroe', 'bffl', 'bfd', 'bevere', 'betterrr', 'bethy', 'bethpage', 'betch', 'bessssst', 'bessie', 'besos', 'bertambah', 'bern', 'bergman', 'beowulf', 'benji', 'belum', 'belom', 'bellz', 'bellingham', 'belleville', 'belize', 'belinda', 'bekah', 'befoethestorm', 'beez', 'beetlejuice', 'beecham', 'bedddd', 'beautyful', 'beautifulll', 'beachhhh', 'bea09', 'bcp3', 'bcn', 'bcbg', 'bbqing', 'bbf', 'bb3', 'baywatch', 'baybay', 'bayar', 'basshunter', 'barly', 'barkhunt', 'barclay', 'banhart', 'banget', 'bamma', 'bamf', 'baer', 'badtime', 'backstabbe', 'backordere', 'back2back', 'bacc', 'bacardi', 'babyyy', 'babyboy', 'babeeee', 'babeee', 'babbby', 'baack', 'b0rke', 'aztec', 'azkaban', 'ayoo', 'awwwwwwwwwww', 'awwwwwwwwww', 'awwwwwwww', 'awwwwh', 'awwwh', 'awweh', 'awsum', 'awsomeee', 'awesum', 'awesometastic', 'awesomesauce', 'awefull', 'aweeeesome', 'awee', 'aweaome', 'awayyyy', 'awayy', 'aveeno', 'austrailia', 'ausiello', 'audtion', 'audra', 'auchh', 'atwt', 'athena', 'ateneo', 'atb', 'astley', 'assss', 'assingment', 'assedly', 'askn', 'ashleyy', 'ashea', 'asbury', 'artfire', 'arsis', 'arrrrgh', 'arrrggh', 'arrghh', 'arrg', 'arnd', 'armitage', 'arj', 'arielle', 'ariana', 'arhhh', 'arh', 'argos', 'arghhhhhhhhh', 'arby', 'aptw', 'aptana', 'apb', 'ap05', 'anzac', 'anywyas', 'anywhooo', 'anywayz', 'anyte', 'anymoreeee', 'anways', 'antrim', 'anthropologie', 'anth', 'annyoe', 'annyeong', 'annnnnd', 'annnd', 'annika', 'anneyoung', 'annan', 'anipal', 'animax', 'angeline', 'aneko', 'andddd', 'anastasia', 'ananga', 'anaesthetic', 'amys', 'amv', 'amstell', 'amazoncom', 'amarth', 'amandapalmer', 'alwayz', 'altiris', 'alreadyyy', 'alr', 'alltop', 'allllllll', 'alister', 'alergy', 'alergic', 'alda', 'alaskan', 'akmal', 'akira', 'ajuma', 'aiysha', 'aite', 'aint', 'aimi', 'aileen', 'aii', 'ahwell', 'ahir', 'aheh', 'ahahahahah', 'aguilera', 'agreeee', 'againnn', 'agaiin', 'afterdark', 'adler', 'adele', 'acostic', 'achille', 'acabo', 'abwt', 'abigale', 'abg', 'abc2', 'aaww', 'aarrgghh', 'aaliyah', 'aaawwww', 'aaawww', 'aaand', 'aaahhhhh', 'aaahhhh', 'aaaaah', 'aaaaaah', 'aaaaaaaaa', '972', '945', '941', '930pm', '916', '901', '8ig', '850', '840', '83', '820pm', '80th', '7ish', '78', '75th', '754', '740pm', '730pm', '722', '70k', '705', '703', '702', '69th', '6666', '666', '64bit', '647', '645am', '640', '63', '626', '625', '619', '614', '60th', '60k', '600th', '5days', '5800xm', '5800', '559', '5500', '52nd', '50th', '50p', '50mile', '50k', '50d', '503', '500am', '500000', '50000', '4x4', '4sure', '4give', '499', '45th', '45min', '430am', '425am', '425', '40k', '403', '401', '3wordsaftersex', '3mo', '3ish', '3ala', '340', '33rd', '333333', '329', '325', '315pm', '315', '30ish', '307', '3000th', '30000', '2mor', '2k9', '2k8', '2getha', '2get', '28c', '2626', '25min', '258', '251', '245am', '23rds', '234', '233', '2300', '225', '222', '22000', '2200', '2100', '20ish', '209', '2080', '208', '206', '2020', '2015', '2005', '2002', '2001', '1v100', '1996', '1994', '1993', '1992', '199', '1988', '1987', '1985', '1977', '1965', '1909', '1902', '1899', '186', '183', '169', '168', '167', '1600', '157', '155', '14hr', '14hours', '144', '1408', '1400', '139', '136', '134', '1330', '131', '12hrs', '12day', '1250', '124', '1234', '1212', '11ish', '1155', '115', '113', '111', '10pm', '10pg', '10hour', '107am', '1030pm', '1025', '1016', '1001', '0ut', '0o', '0655', '0630', '0400', '0300', 'ÃºÂ\\x86Ã»Â\\x8c', 'ÃºÂ\\x86Ã¹Â\\x86Ã¸Â¯', 'Ã¹Ã¹Â\\x8a', 'Ã¹Ã¹Â\\x83Ã¸Â±Ã¸', 'Ã¹Â\\x88Ã¹Â\\x82Ã¸Âª', 'Ã¹Â\\x88Ã¸Â¯', 'Ã¹Â\\x88Ã¸Â§Ã¹Â\\x87Ã¹', 'Ã¹Â\\x88', 'Ã¹Â\\x87Ã¹', 'Ã¹Â\\x87Ã¸Â±ÃºÂ\\x86Ã¹Â\\x86Ã¸Â¯', 'Ã¹Â\\x87Ã¸Â\\x8c', 'Ã¹Â\\x87', 'Ã¹Â\\x86Ã¹Â\\x8aÃ¹Â\\x86Ã¹Â\\x8a', 'Ã¹Â\\x86Ã¹', 'Ã¹Â\\x84', 'Ã¹Â\\x82Ã¸Â·Ã¸Â¹', 'Ã¹', 'Ã¸Â·Ã¹', 'Ã¸Â³Ã¸Â§Ã¹Â\\x84Ã¹', 'Ã¸Â¯Ã»Â\\x8cÃºÂ¯Ã¹Â\\x87', 'Ã¸Â¯Ã¸Â±Ã¸Â¬Ã¸', 'Ã¸ÂªÃ¹Â\\x82Ã¸Â±Ã»Â\\x8cÃ¸Â¨Ã¸Â§', 'Ã¸Â¨Ã¸Â³Ã¹Â\\x8aÃ¹Â\\x83Ã¹Â\\x84Ã¸Â§Ã¸Âª', 'Ã¸Â§Ã¹Â\\x86Ã¸ÂµÃ¸Â\\xadÃ¹Â\\x83', 'Ã¸Â§Ã¹Â\\x84Ã¹', 'Ã¸Â§Ã¹Â\\x84Ã¸Â\\xadÃ¸Â±Ã¸Â§Ã¸Â±Ã¸', 'Ã¸Â§Ã¹Â\\x84Ã¸Â¥Ã¹', 'Ã¸Â§Ã¸Â±Ã¸Â§Ã¸Âª', 'Ã¸Â§Ã¸ÂªÃ¹Â\\x83Ã¹', 'Ã¸Â¥Ã¹Â\\x86Ã¸ÂªÃ¸Â\\xadÃ¸Â§Ã¸Â±Ã¹Â\\x8aÃ¸', 'Ã¸', 'Ã±Ã±Ã°Â½Ã°Â¾', 'Ã±Ã±Â\\x87Ã±Â\\x91Ã±Â\\x82', 'Ã±Ã±Â\\x82Ã°Â¾Ã°Â¼Ã±Â\\x83', 'Ã±Ã±Â\\x82Ã°Â¸Ã°Â¼', 'Ã±Ã±Â\\x82Ã°Âµ', 'Ã±Ã°Â¿Ã°', 'Ã±Ã°Â½Ã°ÂµÃ±Ã±Â\\x83Ã°ÂºÃ°', 'Ã±Ã°Â¼Ã°Â¾Ã±Â\\x82Ã±Â\\x80Ã±', 'Ã±Ã°Â¼Ã°Â¾Ã±Â\\x82Ã±Â\\x80Ã°ÂµÃ±Â\\x82Ã±Â\\x8c', 'Ã±Ã°Â»Ã°ÂµÃ°Â¿Ã°Â¾Ã°Âµ', 'Ã±Ã°ÂºÃ±Â\\x80Ã°', 'Ã±Ã°ÂºÃ°', 'Ã±Ã°Â¸Ã±Â\\x82', 'Ã±Ã°Â¸Ã°Â²Ã±Â\\x8bÃ°Âµ', 'Ã±Â¼', 'Ã±Â\\x88Ã°Â½Ã°Â¾', 'Ã±Â\\x88Ã°Â½Ã°ÂµÃ°Â½Ã±Â\\x8cÃ°ÂºÃ°Â¸Ã°Â¹', 'Ã±Â\\x87Ã±Â\\x82Ã°Â¾Ã±Â\\x82Ã°Â¾', 'Ã±Â\\x87Ã°ÂµÃ±Â\\x80Ã°ÂµÃ°', 'Ã±Â\\x84Ã°', 'Ã±Â\\x83Ã±Â\\x82Ã±Â\\x80Ã°Â¾', 'Ã±Â\\x83', 'Ã±Â\\x82Ã±Ã°Â¶Ã°ÂµÃ±Ã±Â\\x82Ã±Â\\x8c', 'Ã±Â\\x82Ã±Â\\x8cÃ±Ã±', 'Ã±Â\\x82Ã±Â\\x8b', 'Ã±Â\\x82Ã°Â¾Ã°Â¶Ã°Âµ', 'Ã±Â\\x82Ã°Â¾Ã°Â²Ã°', 'Ã±Â\\x82Ã°Â²Ã°Â¸Ã±Â\\x82', 'Ã±Â\\x80Ã±Ã°Â´Ã°Â¾Ã°Â¼', 'Ã±Â\\x80Ã°ÂºÃ°', 'Ã±Â\\x80Ã°Â¸Ã°ÂºÃ°Â¾Ã°Â²Ã±Â\\x8b', 'Ã°Ã°Ã°Ã°Ã°Ã°Ã°Ã°Ã°', 'Ã°Ã°Â¼Ã°', 'Ã°Ã°', 'Ã°Â¿Ã±Â\\x80Ã°Â¾Ã±Â\\x89Ã°Âµ', 'Ã°Â¿Ã±Â\\x80Ã°Â¾Ã±Â\\x87Ã°Â¸Ã°Â¼', 'Ã°Â¿Ã°Â¾Ã±Ã°Â¾Ã°Â²Ã°ÂµÃ±Â\\x82Ã±Â\\x83Ã°Â¹Ã±Â\\x82Ã°Âµ', 'Ã°Â¿Ã°Â¾Ã°Â¼Ã°ÂµÃ°Â½Ã°ÂµÃ°Â½Ã°', 'Ã°Â¿Ã°Â¾Ã°ÂºÃ±Â\\x83Ã°Â¿Ã°', 'Ã°Â¿Ã°Â¾Ã°ÂºÃ°Â¾Ã°Â»Ã°ÂµÃ°Â½Ã°Â¸Ã°Âµ', 'Ã°Â¿Ã°Â¾Ã°ÂºÃ°ÂµÃ±Â\\x80', 'Ã°Â¿Ã°Â¾Ã°', 'Ã°Â¿Ã°Â¾', 'Ã°Â¿Ã°Â¸Ã±Ã°', 'Ã°Â¿Ã°', 'Ã°Â¾Ã±Â\\x83', 'Ã°Â¾Ã°Â¿Ã°ÂµÃ±Â\\x80Ã±Â\\x83', 'Ã°Â¾Ã°Â²Ã±Â\\x80Ã°Â¸Ã°Â½Ã±Ã°ÂºÃ°Â¾Ã°Â³Ã°Â¾', 'Ã°Â½Ã°Â¾Ã°Â²Ã±Â\\x8bÃ°Âµ', 'Ã°Â½Ã°ÂµÃ°Âµ', 'Ã°Â¼Ã±Â\\x83', 'Ã°Â¼Ã°Â¾Ã°Â¶Ã°Â½Ã°Â¾', 'Ã°Â¼Ã°Â½Ã°Â¾Ã°Â³Ã°Â¾', 'Ã°Â¼Ã°Â½Ã°Âµ', 'Ã°Â¼Ã°Â¸Ã±Ã±Â\\x82Ã°Â¾', 'Ã°Â¼Ã°ÂµÃ±Ã±Ã±Â\\x86', 'Ã°Â¼Ã°ÂµÃ°Â¶Ã°Â´Ã±Â\\x83', 'Ã°Â»Ã°Â¸Ã±Â\\x86Ã°Â¾', 'Ã°Â»Ã°Â¸Ã°Â½Ã°Â¸Ã°Â¹', 'Ã°Â»Ã°ÂµÃ±Â\\x82Ã°Â¾Ã°Â¼', 'Ã°ÂºÃ±Â\\x82', 'Ã°ÂºÃ±Â\\x80Ã°', 'Ã°ÂºÃ°Â¾Ã±Â\\x88Ã°ÂºÃ°Â¾Ã°Â¹', 'Ã°ÂºÃ°Â¾Ã°Â¹Ã±Â\\x82Ã°Â¾', 'Ã°ÂºÃ°Â»Ã°Â¸Ã°ÂµÃ°Â½Ã±Â\\x82', 'Ã°ÂºÃ°Â¸Ã±', 'Ã°Â¹', 'Ã°Â·Ã°Â¾Ã°Â½Ã°Âµ', 'Ã°Â·Ã°ÂµÃ°Â¼Ã°Â½Ã±Â\\x8bÃ±', 'Ã°ÂµÃ°Â³Ã°Â¾', 'Ã°Âµ', 'Ã°Â´Ã°Â¾Ã°ÂµÃ±Ã±Â\\x82', 'Ã°Â´Ã°Â¾Ã°Â²Ã°', 'Ã°Â´Ã°Â½Ã±', 'Ã°Â´Ã°Â¶Ã°', 'Ã°Â´Ã°', 'Ã°Â³Ã±Â\\x83Ã°Â»Ã±Ã±Â\\x82Ã±Â\\x8c', 'Ã°Â³Ã°', 'Ã°Â²Ã±Ã°ÂµÃ±', 'Ã°Â²Ã±Ã°ÂµÃ°Â³Ã°Â´Ã°', 'Ã°Â²Ã±Â\\x8bÃ°Â½Ã±Â\\x8c', 'Ã°Â±Ã±Â\\x8bÃ°Â»Ã°Â¾', 'Ã°Â±Ã±Â\\x8bÃ°Â»Ã°', 'Ã°Â±Ã±Â\\x8b', 'Ã°Â±Ã±Â\\x83Ã°Â´Ã±Â\\x83Ã±Â\\x82', 'Ã°Â±Ã±Â\\x80Ã°Â¸Ã±Â\\x82Ã±Â\\x8cÃ±Ã±', 'Ã°Â±Ã°Â±Ã°ÂµÃ±Â\\x80Ã±Â\\x83', 'Ã°Â\\xadÃ±', 'Ã°Â¨Ã°', 'Ã°Â¢Ã°Â¾Ã°ÂºÃ°Â¸Ã°Â¾', 'Ã°Â¡Ã°Â¿Ã°', 'Ã°Â¡Ã°Â»Ã°Â¾Ã°Â²Ã°', 'Ã°Â\\x9fÃ±Â\\x83Ã±Ã±Â\\x82Ã±Â\\x8c', 'Ã°Â\\x9eÃ°Â\\x96Ã°Â\\x94Ã°Â\\x95Ã°Ã°Â\\x98Ã°Â¯', 'Ã°Â\\x9cÃ±Ã±Â\\x80Ã°Â»Ã°Â¸Ã°Â½', 'Ã°Â\\x9aÃ°', 'Ã°Â\\x94Ã°Ã°Â\\x95Ã°Â\\x9c', 'Ã°Â\\x94Ã°Â¾Ã°Â±Ã±Â\\x80Ã°Â¾Ã°Âµ', 'Ã°Â\\x94Ã°', 'Ã°Â\\x93Ã°Â»Ã±Â\\x8eÃ°Âº', 'Ã°Â\\x92', 'Ã¯Ã®Â±', 'Ã¯Â¿Â½Ã¯Â¿Â½Ã¯Â¿Â½Ã¯Â¿Â½Ã¯Â¿Â½', 'Ã¯Â¿Â½Ã¯Â¿Â½Ã¯Â¿Â½Ã¯Â¿Â½', 'Ã¯Â¿Â½Ã¯Â¿Â½Ã¯Â¿Â½', 'Ã¯Â¿Â½Ã¯Â¿Â½no', 'Ã¯Â¿Â½Ã¯Â¿Â½l', 'Ã¯Â¿Â½Ã¯Â¿Â½if', 'Ã¯Â¿Â½xdÃ¯Â¿Â½', 'Ã¯Â¿Â½well', 'Ã¯Â¿Â½tleast', 'Ã¯Â¿Â½sheesh', 'Ã¯Â¿Â½rhus', 'Ã¯Â¿Â½rbol', 'Ã¯Â¿Â½quiÃ¯Â¿Â½n', 'Ã¯Â¿Â½pero', 'Ã¯Â¿Â½only', 'Ã¯Â¿Â½ntil', 'Ã¯Â¿Â½ng', 'Ã¯Â¿Â½nce', 'Ã¯Â¿Â½m', 'Ã¯Â¿Â½liver', 'Ã¯Â¿Â½little', 'Ã¯Â¿Â½k', 'Ã¯Â¿Â½introduction', 'Ã¯Â¿Â½incredible', 'Ã¯Â¿Â½g', 'Ã¯Â¿Â½devolutionÃ¯Â¿Â½', 'Ã¯Â¿Â½cont', 'Ã¯Â¿Â½bertwitter', 'Ã¯Â¿Â½ber', 'Ã¯Â¿Â½700', 'Ã¯Â¿Â½6k', 'Ã¯Â¿Â½68', 'Ã¯Â¿Â½5', 'Ã¯Â¿Â½40', 'Ã¯Â¿Â½399', 'Ã¯Â¿Â½33', 'Ã¯Â¿Â½320', 'Ã¯Â¿Â½32', 'Ã¯Â¿Â½300', 'Ã¯Â¿Â½30', 'Ã¯Â¿Â½3', 'Ã¯Â¿Â½280', 'Ã¯Â¿Â½27', 'Ã¯Â¿Â½240', 'Ã¯Â¿Â½2', 'Ã¯Â¿Â½1790', 'Ã¯Â¿Â½17', 'Ã¯Â¿Â½1540', 'Ã¯Â¿Â½150Ã¯Â¿Â½', 'Ã¯Â¿Â½15', 'Ã¯Â¿Â½135', 'Ã¯Â¿Â½125', 'Ã¯Â¿Â½124', 'Ã¯Â¿Â½100', 'Ã¯Â\\x86Ã®Â\\xadÃ¯Â\\x84Ã®Â¿Ã¯Â\\x82', 'Ã¯Â\\x84Ã®', 'Ã¯Â\\x80Ã®Â\\xadÃ¯Ã¯Â\\x83Ã®Â¹', 'Ã¯Â\\x80Ã®', 'Ã®Â¼Ã¯Ã¯Ã®Â¹Ã¯Â\\x83Ã®Âµ', 'Ã®Â¼Ã®Â¿Ã¯', 'Ã®ÂºÃ®Â±Ã®Â¹Ã®Â½Ã®Â¿Ã¯Ã¯Ã®Â³Ã®ÂµÃ®Â¹Ã®', 'Ã®ÂºÃ®Â¬Ã®Â·Ã®ÂºÃ®Âµ', 'Ã®Â¤Ã¯Â\\x8eÃ¯Ã®Â±', 'Ã®Â\\x9fÃ®Â\\x9fÃ®Â\\x9fÃ®Â\\x9f', 'Ã®Â\\x95', 'Ã®Â\\x94', 'Ã®Â\\x91Â\\x88Ã®Â\\x84Â\\x92i', 'Ã®Â\\x8cÂ\\x8aÃ®Â\\x8c', 'Ã®Â\\x8bÃ®Â\\x8bit', 'Ã®Â\\x84Â\\x88Ã®Â\\x8bÃ®Â\\x8b', 'Ã®Â\\x84Â\\x88', 'Ã®Â\\x84', 'Ã®Â\\x83', 'Ã\\xadÂ´m', 'Ã\\xadÂ\\x95Â\\x98Ã¬Â§Â\\x80Ã«Â§Â\\x8c', 'Ã¬Â¡', 'Ã¬Â\\x9bÃ«Â\\x8cÂ\\x80Ã\\xadÂ\\x95', 'Ã¬Â\\x8bÂ\\x9cÃ¬Â\\x8aÂ¤Ã\\xad', 'Ã¬Â\\x82Â¬Ã\\xadÂ\\x9aÂ\\x8c', 'Ã«Â½Â\\x80Ã¬ÂªÂ½Ã¢Â\\x99Â¥', 'Ã«Â³Â\\x91Ã¬Â\\x95Â\\x84Ã«', 'Ã«Â\\x8bÂ¤Ã¬Â\\x8c', 'Ã«Â\\x8bÂ\\x88Ã«Â\\x8bÂ¤', 'Ã«Â\\x8bÂ\\x88', 'ÃªÂ¿Â\\x88Ã¬Â\\x80', 'Ãª', 'Ã©Â\\x9fÂ³', 'Ã¨', 'Ã§Â´Â\\x80Ã¥Â¿ÂµÃ§Â´Â\\x99s', 'Ã§Â\\x9cÂ\\x9fÃ¦Â\\x98Â¯Ã§Â\\x9aÂ\\x84', 'Ã§Â\\x94Â\\x9fÃ¦Â\\x97Â¥Ã¥Â¿Â«Ã¤Â¹Ã¯Â¼shÃ¤Â\\x93ngrÃ£Â¬', 'Ã¦Â²Â¹Ã¨Â²Â\\x93Ã©Â¤', 'Ã¦Â\\x8eÂ¨', 'Ã¦', 'Ã¥Ã£Â³dÃ¥Âº', 'Ã¥Â¾e', 'Ã¥Â¡oreiz', 'Ã¥Â\\x99eÃ¥Â¡Ã£Â\\xadm', 'Ã¥Â\\x83Ã©Â\\x86Â\\x8b', 'Ã¤Â±ve', 'Ã¤Â\\x91Ã¡Â»Â\\x99ng', 'Ã¤Â\\x91Ã¡Â»c', 'Ã¤Â\\x91Ã¡ÂºÂ§u', 'Ã¤Â\\x91Ã¡ÂºÂ£m', 'Ã¤Â\\x91iÃ¡Â»u', 'Ã¤Â\\x91c', 'Ã£Â¼t', 'Ã£Â¼', 'Ã£Â´n', 'Ã£Â¬s', 'Ã£Â£o', 'Ã£Â¡nd', 'Ã£Â\\x9cber', 'Ã£Â\\x9c', 'Ã£Â\\x96', 'Ã£Â\\x8cÃ£Â\\x82Â\\x93Ã£', 'Ã£Â\\x88', 'Ã£Â\\x83Â\\x84', 'Ã£Â\\x83Â\\x83Ã£Â\\x82Â¯', 'Ã£Â\\x83', 'Ã£Â\\x82Â\\x8bÃ£Â\\x86Ã¯Â½Â\\x9eÃ¯Â¼', 'Ã¢Â¿de', 'Ã¢Â½', 'Ã¢Â¬', 'Ã¢Â«kodakÃ¢', 'Ã¢Â¤Ã¢Â¤Ã¢Â¤Ã¢Â¤Ã¢Â¤', 'Ã¢Â£Ã¢Â£Ã¢Â£', 'Ã¢Â£91900', 'Ã¢Â£9', 'Ã¢Â£75', 'Ã¢Â£70', 'Ã¢Â£600', 'Ã¢Â£5374', 'Ã¢Â£50s', 'Ã¢Â£4950', 'Ã¢Â£45', 'Ã¢Â£440', 'Ã¢Â£400', 'Ã¢Â£350', 'Ã¢Â£349', 'Ã¢Â£340', 'Ã¢Â£330', 'Ã¢Â£310', 'Ã¢Â£30', 'Ã¢Â£3', 'Ã¢Â£2entry', 'Ã¢Â£25', 'Ã¢Â£240', 'Ã¢Â£234', 'Ã¢Â£20', 'Ã¢Â£2', 'Ã¢Â£190', 'Ã¢Â£19', 'Ã¢Â£180', 'Ã¢Â£18', 'Ã¢Â£1499', 'Ã¢Â£14', 'Ã¢Â£130', 'Ã¢Â£10', 'Ã¢Â£', 'Ã¢Â¡Ã¢Â\\xad', 'Ã¢Â¡Ã¢Â¡solo', 'Ã¢Â\\x99Â«revolution', 'Ã¢Â\\x99Â¥Ã¢Â\\x99Â«Ã¢Â\\x80Â¢Ã¢Â¨Ã¢Â\\x98Â¼Ã¢Â\\x99Â¥Ã¢Â\\x99Â«Ã¢Â\\x80Â¢Ã¢Â\\x99Â¥', 'Ã¢Â\\x99Â¥Ã¢Â\\x80Â¢Ã¢Â\\x98Â¼Ã¢Â\\x99Â¥Ã¢Â\\x99Â«Ã¢Â\\x80Â¢', 'Ã¢Â\\x99Â¥scooter', 'Ã¢Â\\x99Â¥2', 'Ã¢Â\\x99Â¡n', 'Ã¢Â\\x98Â\\x87', 'Ã¢Â\\x98', 'Ã¢Â\\x96Â²', 'Ã¢Â\\x88Â\\x9e', 'Ã¢Â\\x86Â\\x91', 'Ã¢Â\\x80Â¢Ã¢Â¶Ã¢Â§Ã¢Â\\x88Â\\x9ee', 'Ã¢Â\\x80Â\\x9cwell', 'Ã¢Â\\x80Â\\x9cthen', 'Ã¢Â\\x80Â\\x9clarg', 'Ã¢Â\\x80Â\\x9cfor', 'Ã¢Â\\x80Â\\x9cbraking', 'Ã¢Â\\x80Â\\x99wince', 'Ã¢Â\\x80Â\\x98treehouse', 'Ã¢Â\\x80Â\\x98prettyoddÃ¢Â\\x80Â\\x99', 'Ã¢Â\\x80Â\\x98everydayÃ¢Â\\x80Â\\x99', 'Ã¢Â\\x80Â\\x94Ã¢', 'Ã¡Â»Â\\x9f', 'Ã¡Â»Â\\x9bc', 'Ã¡Â»Â\\x93', 'Ã¡Â»i', 'Ã\\xa0Â¸Â«Ã\\xa0Â¸Â£Ã\\xa0Â¸Â·Ã\\xa0Â¸Â\\xadÃ\\xa0Â¹Â\\x80Ã\\xa0Â¸Â\\x9bÃ\\xa0Â¸Â¥Ã\\xa0Â¹Â\\x88Ã\\xa0Â¸Â²Ã\\xa0Â¸Â\\x84Ã\\xa0Â¸Â£Ã\\xa0Â¸Â±Ã\\xa0Â¸Â\\x9a', 'Ã\\xa0Â¸Â¡Ã\\xa0Â¸Â\\x99', 'Ã\\xa0Â¸Â\\x9eÃ\\xa0Â¸Â´Ã\\xa0Â¸', 'Ã\\xa0Â¸Â\\x99Ã\\xa0Â¸ÂµÃ\\xa0Â¹Â\\x88Ã\\xa0Â¸Â«Ã\\xa0Â¸Â¡Ã\\xa0Â¸Â²Ã\\xa0Â¸Â¢Ã\\xa0Â¸Â\\x96Ã\\xa0Â¸Â¶Ã\\xa0Â¸Â\\x87Ã\\xa0Â¸Â\\x97Ã\\xa0Â¸ÂµÃ\\xa0Â¹Â\\x88', 'Ã\\xa0Â¸Â\\x93Ã\\xa0Â¸Â¸Ã\\xa0Â¹Â\\x82Ã\\xa0Â¸Â¥Ã\\xa0Â¸', 'Ã\\x97Â\\x9eÃ\\x97ÂªÃ\\x97Ã\\x97Â¨Ã\\x97Âª', 'Ã\\x97Â\\x9eÃ\\x97Â¢', 'Ã\\x97Â\\x9eÃ\\x97Â\\x94', 'Ã\\x97Â\\x9bÃ\\x97Â\\x9bÃ\\x97Â\\x94', 'Ã\\x97Â\\x9bÃ\\x97Â\\x99Ã\\x97Â£', 'Ã\\x97Â\\x9bÃ\\x97Â\\x96Ã\\x97Â\\x94', 'Ã\\x97Â\\x9bÃ\\x97', 'Â·', 'Â¬', 'Â¨', 'Â\\x9cÃ¬Â\\x9e', 'Â\\x9cÃ«', 'Â\\x9c', 'Â\\x84Ã¬', '\\x7fthe', 'zÃ£Â¡ruky', 'zÃ£Â¡kladkou', 'zzzzzzzzzzzzzzzzzzzzzz', 'zzzzzzzzzzzzzzzzzzzzz', 'zzzzzzzzzzzzzzzzzzzz', 'zzzzzzzzzzzzzzzzzz', 'zzzzzzzzzzzzzzz', 'zzzzness', 'zwart', 'zv', 'zuton', 'zut', 'zunesupport', 'zunehd', 'zuneega', 'zuljin', 'zulay', 'zukie', 'zuid', 'zubr', 'zorcia', 'zoran', 'zora', 'zoooooo', 'zooooom', 'zooo', 'zoolookologie', 'zooey', 'zoobook', 'zonke', 'zongchick', 'zonecont', 'zomppafie', 'zomme', 'zomj', 'zomfg', 'zombietub', 'zombiegasm', 'zombieeess', 'zolagood', 'zola', 'zohemgee', 'zoffitcha', 'zoetermeer', 'zoeeee', 'zoeboe', 'zmoÃ¥Â¾enÃ£', 'zkus', 'zizek', 'ziua', 'zito', 'zissou', 'zirtec', 'zirah', 'zipaquira', 'zingerman', 'zinge', 'zimplistic', 'zimbra', 'zice', 'zhakaria', 'zffffft', 'zeytin', 'zevon', 'zeva', 'zeus', 'zet13', 'zerooo', 'zeri', 'zenonia', 'zending', 'zendframework', 'zena', 'zemi', 'zelfdoen', 'zeiss', 'zehan', 'zeeland', 'zdravei', 'zaÃ¯Â¿Â½nÃ¯Â¿Â½m', 'zazzle', 'zaxby', 'zavaroni', 'zav', 'zariya', 'zaret', 'zang', 'zambra', 'zakk', 'zakaria', 'zaineb', 'zainal', 'zaina', 'zain', 'zaho', 'zahar', 'zagreb', 'zactly', 'zackly', 'zachy', 'zachi', 'zachdj', 'zacc', 'zaaaaaaac', 'z953', 'z100', 'z1', 'yyyyyyyyyyy', 'yyyyaaaaaayyy', 'yyiiihhheee', 'yyeppp', 'yyc', 'yyaaayyy', 'yyaaaayyy', 'yx', 'ywriter', 'ywhy', 'yvw', 'yvo', 'yuve', 'yuvaraj', 'yuuuuuhuuuuuu', 'yuuuussss', 'yuuup', 'yuuss', 'yuuppp', 'yuummms', 'yuuhhh', 'yutube', 'yusssssss', 'yusss', 'yusef', 'yuse', 'yus', 'yurr', 'yuqi', 'yupyy', 'yupyup', 'yuppyuup', 'yupppp', 'yupo', 'yuparoonie', 'yumyummm', 'yumyum', 'yumsiess', 'yumny', 'yummyyyyy', 'yummyyyy', 'yummyyy', 'yummmyyyyy', 'yummmyy', 'yummmy', 'yummmmmmmy', 'yummmmmmmmmmmyyyyy', 'yummmmaaayy', 'yummii', 'yummi', 'yumena', 'yuli', 'yukkie', 'yukk', 'yuki', 'yuka', 'yuhui', 'yuhouh', 'yugoslav', 'yugi', 'yuengling', 'yuengle', 'yuckkkks', 'yuckkk', 'yuckie', 'yuckforensicyuck', 'yteppei', 'ystrday', 'ysls', 'ysl', 'yskype', 'yself', 'yrself', 'yrscant', 'yrold', 'yrf', 'yrbook', 'yputube', 'yoville', 'yovi', 'youÃ¢Â¿Ã¢', 'youÃ¢Â\\x80Â\\x99re', 'youz', 'youyes', 'youy', 'youxxxxxxxxx', 'youxo', 'youwhat', 'youwell', 'youuxx', 'youuuuuuuuuuuuuuu', 'youuuuuuuuuuuu', 'youuuuuuuuuuu', 'youuuuuuuuuu', 'youuuuuuuu', 'youuuuuuu', 'youuur', 'youuu3', 'youurrr', 'youube', 'youtubeurl', 'youtubescreeningroomcom', 'youtubecom', 'youtoo', 'youto', 'youthgroup', 'youthey', 'yousendit', 'yoursthe', 'yourssss', 'yoursjust', 'yoursi', 'youri', 'yourfault', 'youremore', 'youppiii', 'youother', 'youngshatner', 'youngq', 'younglive', 'youngerlol', 'younge', 'young2', 'young1', 'youmwah', 'youmeatsix', 'youmake', 'youknowwho', 'youknowwhat', 'youit', 'youim', 'youhow', 'youhou', 'youhe', 'yougw', 'yougo', 'youglife', 'youghal', 'yougenious', 'youdata', 'youda', 'yotsuba', 'yossi', 'yosemitee', 'yoself', 'yorly', 'yorkville', 'yorkshumber', 'yorks', 'yorki', 'yorkdale', 'yorkbut', 'yori', 'yorba', 'yoouuuu', 'yooouuuuu', 'yooouu', 'yoooou', 'yooooou', 'yoooooooou', 'yoooooooooo', 'yoooh', 'yoono', 'yonggi', 'yongest', 'yongebloor', 'yolinga', 'yolie', 'yoli', 'yokohama', 'yoiu', 'yohgurt', 'yohaa', 'yogurtworld', 'yogurrrt', 'yoggie', 'yogge', 'yodaroubao', 'yocousin', 'yobery', 'yoandy', 'ynwa', 'ynot', 'ynever', 'ynare', 'ykyat', 'ykno', 'yis', 'yippppiiee', 'yippppeeee', 'yippieee', 'yippeeeeeeeeeeeee', 'yipiiiiiiiiiiii', 'yipeeee', 'yingo', 'yim', 'yikesssss', 'yiippiiiee', 'yiike', 'yihhh', 'yihee', 'yiha', 'yhyh', 'yhk', 'yhis', 'yhey', 'yheaai', 'yhea', 'yhat', 'yezzzzz', 'yezir', 'yeyyy', 'yeyey', 'yeyah', 'yewww', 'yeungling', 'yetÃ¯Â¿Â½', 'yetttt', 'yett', 'yetla3', 'yethering', 'yesthx', 'yesterdayyy', 'yesterdayy', 'yesterdaynot', 'yesterdayit', 'yesterdayhe', 'yesterdar', 'yestee', 'yestdy', 'yessssssssssssssssssssssss', 'yesssssssssssssss', 'yesssssss', 'yessssss', 'yessshh', 'yesn', 'yesm', 'yeseterday', 'yesert', 'yeseniamonika', 'yesenia', 'yesa', 'yes2', 'yerushalayim', 'yert', 'yerrr', 'yerrp', 'yerr', 'yergh', 'yerah', 'yeppy', 'yeppp', 'yeppiee', 'yeouch', 'yemin', 'yemi', 'yellowspring', 'yellowcard', 'yeke', 'yeiiiiiiiiiiiiiiiiii', 'yeiiiiiiiiiiiiii', 'yeiiiii', 'yeii', 'yehyeh', 'yehhhhh', 'yehezkel', 'yehehe', 'yeezy', 'yeessss']\n"
     ]
    },
    {
     "data": {
      "text/plain": [
       "array([[ 0.        ,  0.        ,  0.        , ...,  0.        ,\n",
       "         0.        ,  0.        ],\n",
       "       [ 0.        ,  0.        ,  0.        , ...,  0.        ,\n",
       "         0.        ,  0.        ],\n",
       "       [-0.22558594, -0.01953125,  0.09082031, ...,  0.02819824,\n",
       "        -0.17773438, -0.00604248],\n",
       "       ...,\n",
       "       [ 0.        ,  0.        ,  0.        , ...,  0.        ,\n",
       "         0.        ,  0.        ],\n",
       "       [ 0.        ,  0.        ,  0.        , ...,  0.        ,\n",
       "         0.        ,  0.        ],\n",
       "       [ 0.11621094,  0.04174805, -0.07910156, ..., -0.06201172,\n",
       "        -0.14160156,  0.05395508]])"
      ]
     },
     "execution_count": 405,
     "metadata": {},
     "output_type": "execute_result"
    }
   ],
   "source": [
    "embedding_dim = 300\n",
    "vocabulary = text_vectorizationB8.get_vocabulary()\n",
    "embedding_matrix = convert_embedding_matrix(vocabulary, embeddings_index, max_tokens, embedding_dim)\n",
    "embedding_matrix"
   ]
  },
  {
   "cell_type": "code",
   "execution_count": 406,
   "id": "e4740718-a585-41c5-8559-11eeff68c212",
   "metadata": {
    "tags": []
   },
   "outputs": [],
   "source": [
    "# Embedding avec masque\n",
    "embedding_layer = layers.Embedding(\n",
    "    input_dim=max_tokens,\n",
    "    output_dim=embedding_dim,\n",
    "    embeddings_initializer=keras.initializers.Constant(embedding_matrix),\n",
    "    # input_length=max_length,\n",
    "    mask_zero=True,\n",
    "    trainable=False, # <== default is True\n",
    ")"
   ]
  },
  {
   "cell_type": "markdown",
   "id": "9ea04f2f-59ca-4681-b361-8bbc5016ee56",
   "metadata": {},
   "source": [
    "### Train model"
   ]
  },
  {
   "cell_type": "code",
   "execution_count": 407,
   "id": "e83520c4-a36b-454c-aaf8-234772de4359",
   "metadata": {},
   "outputs": [],
   "source": [
    "model = architecture002(\"adam\", \"binary_crossentropy\", ['accuracy'], embedding_layer)"
   ]
  },
  {
   "cell_type": "code",
   "execution_count": 408,
   "id": "6962f0b4-9107-4ba3-b700-85ba05deebe0",
   "metadata": {},
   "outputs": [
    {
     "name": "stdout",
     "output_type": "stream",
     "text": [
      "Model: \"model_19\"\n",
      "_________________________________________________________________\n",
      " Layer (type)                Output Shape              Param #   \n",
      "=================================================================\n",
      " input_24 (InputLayer)       [(None, None)]            0         \n",
      "                                                                 \n",
      " embedding_19 (Embedding)    (None, None, 300)         6000000   \n",
      "                                                                 \n",
      " bidirectional_16 (Bidirecti  (None, 64)               85248     \n",
      " onal)                                                           \n",
      "                                                                 \n",
      " dropout_19 (Dropout)        (None, 64)                0         \n",
      "                                                                 \n",
      " predictions (Dense)         (None, 1)                 65        \n",
      "                                                                 \n",
      "=================================================================\n",
      "Total params: 6,085,313\n",
      "Trainable params: 85,313\n",
      "Non-trainable params: 6,000,000\n",
      "_________________________________________________________________\n"
     ]
    }
   ],
   "source": [
    "model.summary()"
   ]
  },
  {
   "cell_type": "code",
   "execution_count": 409,
   "id": "45627aed-e380-4109-9cdb-ada02544ae50",
   "metadata": {},
   "outputs": [
    {
     "data": {
      "text/plain": [
       "TensorShape([80000, 60])"
      ]
     },
     "execution_count": 409,
     "metadata": {},
     "output_type": "execute_result"
    }
   ],
   "source": [
    "X_train_ready.shape"
   ]
  },
  {
   "cell_type": "code",
   "execution_count": 410,
   "id": "6f3388b1-1b6e-4a9f-876d-bd03c3105c42",
   "metadata": {},
   "outputs": [
    {
     "data": {
      "text/plain": [
       "TensorShape([20000, 60])"
      ]
     },
     "execution_count": 410,
     "metadata": {},
     "output_type": "execute_result"
    }
   ],
   "source": [
    "X_test_ready.shape"
   ]
  },
  {
   "cell_type": "code",
   "execution_count": 411,
   "id": "f559bf31-e21a-4a5f-9d70-d64b970ecaca",
   "metadata": {},
   "outputs": [
    {
     "name": "stdout",
     "output_type": "stream",
     "text": [
      "Epoch 1/50\n",
      "313/313 [==============================] - ETA: 0s - loss: 0.5435 - accuracy: 0.7247\n",
      "Epoch 1: val_accuracy improved from -inf to 0.75525, saving model to models/MINI_TESTS_B08.keras\n",
      "313/313 [==============================] - 58s 164ms/step - loss: 0.5435 - accuracy: 0.7247 - val_loss: 0.4999 - val_accuracy: 0.7552\n",
      "Epoch 2/50\n",
      "313/313 [==============================] - ETA: 0s - loss: 0.4926 - accuracy: 0.7618\n",
      "Epoch 2: val_accuracy improved from 0.75525 to 0.76920, saving model to models/MINI_TESTS_B08.keras\n",
      "313/313 [==============================] - 49s 158ms/step - loss: 0.4926 - accuracy: 0.7618 - val_loss: 0.4828 - val_accuracy: 0.7692\n",
      "Epoch 3/50\n",
      "313/313 [==============================] - ETA: 0s - loss: 0.4761 - accuracy: 0.7740\n",
      "Epoch 3: val_accuracy improved from 0.76920 to 0.77310, saving model to models/MINI_TESTS_B08.keras\n",
      "313/313 [==============================] - 49s 156ms/step - loss: 0.4761 - accuracy: 0.7740 - val_loss: 0.4723 - val_accuracy: 0.7731\n",
      "Epoch 4/50\n",
      "313/313 [==============================] - ETA: 0s - loss: 0.4627 - accuracy: 0.7817\n",
      "Epoch 4: val_accuracy improved from 0.77310 to 0.77985, saving model to models/MINI_TESTS_B08.keras\n",
      "313/313 [==============================] - 47s 151ms/step - loss: 0.4627 - accuracy: 0.7817 - val_loss: 0.4623 - val_accuracy: 0.7799\n",
      "Epoch 5/50\n",
      "313/313 [==============================] - ETA: 0s - loss: 0.4524 - accuracy: 0.7876\n",
      "Epoch 5: val_accuracy improved from 0.77985 to 0.78440, saving model to models/MINI_TESTS_B08.keras\n",
      "313/313 [==============================] - 47s 152ms/step - loss: 0.4524 - accuracy: 0.7876 - val_loss: 0.4605 - val_accuracy: 0.7844\n",
      "Epoch 6/50\n",
      "313/313 [==============================] - ETA: 0s - loss: 0.4416 - accuracy: 0.7958\n",
      "Epoch 6: val_accuracy improved from 0.78440 to 0.78735, saving model to models/MINI_TESTS_B08.keras\n",
      "313/313 [==============================] - 48s 154ms/step - loss: 0.4416 - accuracy: 0.7958 - val_loss: 0.4509 - val_accuracy: 0.7873\n",
      "Epoch 7/50\n",
      "313/313 [==============================] - ETA: 0s - loss: 0.4334 - accuracy: 0.7992\n",
      "Epoch 7: val_accuracy improved from 0.78735 to 0.78860, saving model to models/MINI_TESTS_B08.keras\n",
      "313/313 [==============================] - 49s 156ms/step - loss: 0.4334 - accuracy: 0.7992 - val_loss: 0.4534 - val_accuracy: 0.7886\n",
      "Epoch 8/50\n",
      "313/313 [==============================] - ETA: 0s - loss: 0.4256 - accuracy: 0.8039\n",
      "Epoch 8: val_accuracy improved from 0.78860 to 0.79065, saving model to models/MINI_TESTS_B08.keras\n",
      "313/313 [==============================] - 49s 156ms/step - loss: 0.4256 - accuracy: 0.8039 - val_loss: 0.4509 - val_accuracy: 0.7907\n",
      "Epoch 9/50\n",
      "313/313 [==============================] - ETA: 0s - loss: 0.4191 - accuracy: 0.8077\n",
      "Epoch 9: val_accuracy improved from 0.79065 to 0.79105, saving model to models/MINI_TESTS_B08.keras\n",
      "313/313 [==============================] - 49s 158ms/step - loss: 0.4191 - accuracy: 0.8077 - val_loss: 0.4472 - val_accuracy: 0.7911\n",
      "Epoch 10/50\n",
      "313/313 [==============================] - ETA: 0s - loss: 0.4128 - accuracy: 0.8111\n",
      "Epoch 10: val_accuracy improved from 0.79105 to 0.79375, saving model to models/MINI_TESTS_B08.keras\n",
      "313/313 [==============================] - 48s 154ms/step - loss: 0.4128 - accuracy: 0.8111 - val_loss: 0.4425 - val_accuracy: 0.7937\n",
      "Epoch 11/50\n",
      "313/313 [==============================] - ETA: 0s - loss: 0.4064 - accuracy: 0.8152\n",
      "Epoch 11: val_accuracy did not improve from 0.79375\n",
      "Restoring model weights from the end of the best epoch: 6.\n",
      "313/313 [==============================] - 45s 144ms/step - loss: 0.4064 - accuracy: 0.8152 - val_loss: 0.4440 - val_accuracy: 0.7924\n",
      "Epoch 11: early stopping\n"
     ]
    }
   ],
   "source": [
    "batch_size = 256\n",
    "history = model.fit(\n",
    "        x=X_train_ready, y=y_train, \n",
    "        validation_data=(X_test_ready, y_test), \n",
    "        epochs=50, \n",
    "        batch_size=batch_size, \n",
    "        callbacks=init_callbacks2(f\"MINI_TESTS_B08\"),\n",
    "        verbose=1,\n",
    ")"
   ]
  },
  {
   "cell_type": "code",
   "execution_count": 412,
   "id": "dd3f744c-a7b8-47f5-b22f-4b54bd14641b",
   "metadata": {},
   "outputs": [],
   "source": [
    "model = keras.models.load_model(\"models/MINI_TESTS_B08.keras\")"
   ]
  },
  {
   "cell_type": "code",
   "execution_count": 413,
   "id": "18708cea-9707-4b68-bfda-776cf50e5889",
   "metadata": {},
   "outputs": [
    {
     "name": "stdout",
     "output_type": "stream",
     "text": [
      "625/625 [==============================] - 13s 14ms/step - loss: 0.4425 - accuracy: 0.7937\n"
     ]
    },
    {
     "data": {
      "text/plain": [
       "[0.44245263934135437, 0.793749988079071]"
      ]
     },
     "execution_count": 413,
     "metadata": {},
     "output_type": "execute_result"
    }
   ],
   "source": [
    "model.evaluate(X_test_ready, y_test)"
   ]
  },
  {
   "cell_type": "code",
   "execution_count": 414,
   "id": "d55be3c0-e8b9-4e86-9a37-84e7110e8462",
   "metadata": {},
   "outputs": [
    {
     "name": "stdout",
     "output_type": "stream",
     "text": [
      "1/1 [==============================] - 3s 3s/step\n"
     ]
    },
    {
     "data": {
      "text/plain": [
       "array([[0.08034382]], dtype=float32)"
      ]
     },
     "execution_count": 414,
     "metadata": {},
     "output_type": "execute_result"
    }
   ],
   "source": [
    "raw_txt = tf.convert_to_tensor([\"I hate it\"])\n",
    "raw_txt = text_vectorizationB7(raw_txt)\n",
    "model.predict(raw_txt)"
   ]
  },
  {
   "cell_type": "code",
   "execution_count": 415,
   "id": "65ac10c9-0f14-4bee-8ccc-be8796b2d005",
   "metadata": {},
   "outputs": [
    {
     "name": "stdout",
     "output_type": "stream",
     "text": [
      "625/625 [==============================] - 9s 14ms/step\n"
     ]
    }
   ],
   "source": [
    "raw_txt = tf.convert_to_tensor(X_test)\n",
    "raw_txt = text_vectorizationB7(raw_txt)\n",
    "y_preds_proba = model.predict(raw_txt)\n",
    "y_preds = np.where(y_preds_proba > 0.5, 1,0)"
   ]
  },
  {
   "cell_type": "code",
   "execution_count": 416,
   "id": "48214dbc-2b39-4167-8d4a-4e35f5c7bcba",
   "metadata": {},
   "outputs": [
    {
     "data": {
      "text/plain": [
       "0.79375"
      ]
     },
     "execution_count": 416,
     "metadata": {},
     "output_type": "execute_result"
    }
   ],
   "source": [
    "accuracy_score(y_test, y_preds)"
   ]
  },
  {
   "cell_type": "code",
   "execution_count": 417,
   "id": "b8325150-9f9c-4b09-8f0e-023631f881ee",
   "metadata": {
    "colab": {
     "base_uri": "https://localhost:8080/",
     "height": 1000
    },
    "executionInfo": {
     "elapsed": 746,
     "status": "ok",
     "timestamp": 1653231856185,
     "user": {
      "displayName": "Valkea",
      "userId": "01476199649418572392"
     },
     "user_tz": -120
    },
    "id": "81aba764-7f22-4ad1-b0ed-bc5b13f0b75e",
    "outputId": "e3c4ed78-a90b-46e0-baa0-c28f701f4414",
    "tags": []
   },
   "outputs": [
    {
     "name": "stdout",
     "output_type": "stream",
     "text": [
      "----------------------------------------------------------------------------------------------------\n",
      "          These information are based on the best estimator of the above cross-validation           \n",
      "----------------------------------------------------------------------------------------------------\n",
      "\n",
      "--- Test B8 ----------------------------------------------------------------------------------------\n",
      "\n",
      "             ROC_AUC : 0.8764\n",
      "                  F1 : 0.7975\n",
      "            ACCURACY : 0.7937\n",
      "           PRECISION : 0.7832\n",
      "              RECALL : 0.8123\n",
      "   AVERAGE_PRECISION : 0.8779\n",
      "\n",
      "       TRAINING-TIME : 0.0000\n",
      "      INFERENCE-TIME : 0.0000\n",
      "\n",
      "--- Classification Report -------------------------------------------------------------------------- \n",
      "\n",
      "                 precision    recall  f1-score   support\n",
      "\n",
      "Prediction = 0       0.81      0.78      0.79     10000\n",
      "Prediction = 1       0.78      0.81      0.80     10000\n",
      "\n",
      "      accuracy                           0.79     20000\n",
      "     macro avg       0.79      0.79      0.79     20000\n",
      "  weighted avg       0.79      0.79      0.79     20000\n",
      "\n",
      "--- Confusion Matrix ------------------------------------------------------------------------------- \n",
      "\n"
     ]
    },
    {
     "data": {
      "image/png": "[encoded data removed]",
      "text/plain": [
       "<Figure size 432x432 with 2 Axes>"
      ]
     },
     "metadata": {
      "needs_background": "light"
     },
     "output_type": "display_data"
    },
    {
     "name": "stdout",
     "output_type": "stream",
     "text": [
      "--- ROC AUC ---------------------------------------------------------------------------------------- \n",
      "\n"
     ]
    },
    {
     "data": {
      "image/png": "[encoded data removed]",
      "text/plain": [
       "<Figure size 360x360 with 1 Axes>"
      ]
     },
     "metadata": {
      "needs_background": "light"
     },
     "output_type": "display_data"
    },
    {
     "name": "stdout",
     "output_type": "stream",
     "text": [
      "--- PRECISION RECALL AUC --------------------------------------------------------------------------- \n",
      "\n"
     ]
    },
    {
     "data": {
      "image/png": "[encoded data removed]",
      "text/plain": [
       "<Figure size 360x360 with 1 Axes>"
      ]
     },
     "metadata": {
      "needs_background": "light"
     },
     "output_type": "display_data"
    }
   ],
   "source": [
    "model_name = \"Test B8\"\n",
    "train_time = 0\n",
    "inf_time = 0\n",
    "get_scores(model_name, y_pred=y_preds, y_pred_proba=y_preds_proba, register=True, X_ref=X_test_ready, y_ref=y_test, training_time=train_time, inference_time=inf_time)"
   ]
  },
  {
   "cell_type": "code",
   "execution_count": 418,
   "id": "578924c0-87dd-4344-a110-afafefe0a807",
   "metadata": {},
   "outputs": [
    {
     "data": {
      "text/html": [
       "<div>\n",
       "<style scoped>\n",
       "    .dataframe tbody tr th:only-of-type {\n",
       "        vertical-align: middle;\n",
       "    }\n",
       "\n",
       "    .dataframe tbody tr th {\n",
       "        vertical-align: top;\n",
       "    }\n",
       "\n",
       "    .dataframe thead th {\n",
       "        text-align: right;\n",
       "    }\n",
       "</style>\n",
       "<table border=\"1\" class=\"dataframe\">\n",
       "  <thead>\n",
       "    <tr style=\"text-align: right;\">\n",
       "      <th></th>\n",
       "      <th>Method</th>\n",
       "      <th>threshold</th>\n",
       "      <th>params</th>\n",
       "      <th>ROC AUC</th>\n",
       "      <th>PR AUC</th>\n",
       "      <th>F1 score</th>\n",
       "      <th>Accuracy</th>\n",
       "      <th>Precision</th>\n",
       "      <th>Recall</th>\n",
       "      <th>TP</th>\n",
       "      <th>TN</th>\n",
       "      <th>FP</th>\n",
       "      <th>FN</th>\n",
       "      <th>Training time</th>\n",
       "      <th>Inference time</th>\n",
       "    </tr>\n",
       "  </thead>\n",
       "  <tbody>\n",
       "    <tr>\n",
       "      <th>0</th>\n",
       "      <td>Test B7</td>\n",
       "      <td>None</td>\n",
       "      <td>None</td>\n",
       "      <td>0.874848</td>\n",
       "      <td>0.875656</td>\n",
       "      <td>0.795537</td>\n",
       "      <td>0.79475</td>\n",
       "      <td>0.792498</td>\n",
       "      <td>0.7986</td>\n",
       "      <td>7986</td>\n",
       "      <td>7909</td>\n",
       "      <td>2091</td>\n",
       "      <td>2014</td>\n",
       "      <td>0</td>\n",
       "      <td>0</td>\n",
       "    </tr>\n",
       "    <tr>\n",
       "      <th>1</th>\n",
       "      <td>Test B8</td>\n",
       "      <td>None</td>\n",
       "      <td>None</td>\n",
       "      <td>0.876379</td>\n",
       "      <td>0.877932</td>\n",
       "      <td>0.797506</td>\n",
       "      <td>0.79375</td>\n",
       "      <td>0.783242</td>\n",
       "      <td>0.8123</td>\n",
       "      <td>8123</td>\n",
       "      <td>7752</td>\n",
       "      <td>2248</td>\n",
       "      <td>1877</td>\n",
       "      <td>0</td>\n",
       "      <td>0</td>\n",
       "    </tr>\n",
       "  </tbody>\n",
       "</table>\n",
       "</div>"
      ],
      "text/plain": [
       "    Method threshold params   ROC AUC    PR AUC  F1 score  Accuracy  \\\n",
       "0  Test B7      None   None  0.874848  0.875656  0.795537   0.79475   \n",
       "1  Test B8      None   None  0.876379  0.877932  0.797506   0.79375   \n",
       "\n",
       "   Precision  Recall    TP    TN    FP    FN  Training time  Inference time  \n",
       "0   0.792498  0.7986  7986  7909  2091  2014              0               0  \n",
       "1   0.783242  0.8123  8123  7752  2248  1877              0               0  "
      ]
     },
     "execution_count": 418,
     "metadata": {},
     "output_type": "execute_result"
    }
   ],
   "source": [
    "from classification_utils import scores_df\n",
    "scores_df"
   ]
  },
  {
   "cell_type": "markdown",
   "id": "3356eeea-081b-4b4c-93fe-08b34ca3833b",
   "metadata": {},
   "source": [
    "# Ref Algo classique"
   ]
  },
  {
   "cell_type": "markdown",
   "id": "0a1ae7e0-758a-4bb4-97a3-047c5c7bfbb6",
   "metadata": {
    "jp-MarkdownHeadingCollapsed": true,
    "tags": []
   },
   "source": [
    "## Test C0 - LogisticRegression | RAW_lemmas_not_filtered (comme les autres)"
   ]
  },
  {
   "cell_type": "markdown",
   "id": "057168a9-8790-4665-ab3d-bede5ba76aff",
   "metadata": {},
   "source": [
    "### Préparons le jeu de données en `Train` et `Test` sets"
   ]
  },
  {
   "cell_type": "code",
   "execution_count": 349,
   "id": "59d6f472-b07c-48ff-9ca8-ff38ea3d53f2",
   "metadata": {},
   "outputs": [],
   "source": [
    "from sklearn.feature_extraction.text import TfidfVectorizer\n",
    "\n",
    "# Prepare TF-IDF \n",
    "tfidf_vectorizer_train = TfidfVectorizer(use_idf=True, min_df=5, max_df=0.5) #, max_features=2000)\n",
    "X_train_ready = tfidf_vectorizer_train.fit_transform(X_train)\n",
    "X_test_ready = tfidf_vectorizer_train.transform(X_test)"
   ]
  },
  {
   "cell_type": "code",
   "execution_count": 350,
   "id": "0e9e66b7-5a1a-448e-a840-c0f2053e01a2",
   "metadata": {},
   "outputs": [
    {
     "name": "stdout",
     "output_type": "stream",
     "text": [
      "TF-IDF features: ['00' '000' '01' ... 'â½ã' 'â¾' 'â¾ã']\n",
      "Sets shapes >> X_train_ready: (80000, 7980), X_test_ready: (20000, 7980)\n"
     ]
    }
   ],
   "source": [
    "print(f\"TF-IDF features: {tfidf_vectorizer_train.get_feature_names_out()}\")\n",
    "print(f\"Sets shapes >> X_train_ready: {X_train_ready.shape}, X_test_ready: {X_test_ready.shape}\")"
   ]
  },
  {
   "cell_type": "markdown",
   "id": "8761419e-2ab6-49a7-851e-b28312939b12",
   "metadata": {
    "id": "728fca76-6bb8-4402-8bb0-ff5bce8f39b1"
   },
   "source": [
    "### Appliquons la Logistic Regression avec ce jeu de données"
   ]
  },
  {
   "cell_type": "code",
   "execution_count": 353,
   "id": "8c8d9c37-9eba-49e9-a180-859db7e04a8f",
   "metadata": {
    "tags": []
   },
   "outputs": [],
   "source": [
    "from classification_utils import fit_model, get_scores, init_scores\n",
    "\n",
    "init_scores(\"data/scores_NN_SelectEmbeddingXXX.csv\")"
   ]
  },
  {
   "cell_type": "code",
   "execution_count": 359,
   "id": "1c66b389-1c61-47ec-8770-2be74f60ef92",
   "metadata": {
    "id": "bd3e09fc-72fa-4be3-9b2f-a48051235a2f"
   },
   "outputs": [],
   "source": [
    "from sklearn.model_selection import StratifiedKFold\n",
    "\n",
    "skfold = StratifiedKFold(n_splits=5, shuffle=True, random_state=random_seed)"
   ]
  },
  {
   "cell_type": "code",
   "execution_count": 355,
   "id": "a2f3967d-7537-4f20-b8f2-1105af6d730a",
   "metadata": {
    "id": "f8114082-269f-437a-96e3-403be5eaa46a"
   },
   "outputs": [],
   "source": [
    "from sklearn.linear_model import LogisticRegression"
   ]
  },
  {
   "cell_type": "code",
   "execution_count": 356,
   "id": "b96965e3-bb95-4db1-8dac-ab077c677fb7",
   "metadata": {
    "id": "698fda51-d051-4f74-92d7-27960d30f85b"
   },
   "outputs": [],
   "source": [
    "from scipy.stats import uniform, loguniform"
   ]
  },
  {
   "cell_type": "code",
   "execution_count": 357,
   "id": "a4d396cb-72b3-41b6-bf73-4a5628fb7ca8",
   "metadata": {
    "id": "0b0a1c14-bb60-442e-97fc-1c6368704498"
   },
   "outputs": [],
   "source": [
    "max_lr_iter = 3000\n",
    "param_grid = [\n",
    "    {\n",
    "        'random_state':[random_seed],\n",
    "        'max_iter':[max_lr_iter],\n",
    "        'solver' : ['lbfgs'],\n",
    "        'penalty' : ['l2'], # none\n",
    "        'C' : loguniform(1e-5, 1e2),\n",
    "    },\n",
    "    {\n",
    "        'random_state':[random_seed],\n",
    "        'max_iter':[max_lr_iter],\n",
    "        'solver' : ['liblinear'],\n",
    "        'penalty' : ['l1', 'l2'], # none\n",
    "        'C' : loguniform(1e-5, 1e2),\n",
    "    },\n",
    "    {\n",
    "        'random_state':[random_seed],\n",
    "        'max_iter':[max_lr_iter],\n",
    "        'solver' : ['saga'],\n",
    "        'penalty' : ['elasticnet'], # none\n",
    "        'C' : loguniform(1e-5, 1e2),\n",
    "        'l1_ratio' : uniform(0,1)\n",
    "    },\n",
    "]"
   ]
  },
  {
   "cell_type": "code",
   "execution_count": 361,
   "id": "468da0fc-0a42-4dca-b4f3-08fc43cdada4",
   "metadata": {
    "colab": {
     "base_uri": "https://localhost:8080/"
    },
    "executionInfo": {
     "elapsed": 30100,
     "status": "ok",
     "timestamp": 1653231855459,
     "user": {
      "displayName": "Valkea",
      "userId": "01476199649418572392"
     },
     "user_tz": -120
    },
    "id": "083fad02-c21d-404d-b4e5-269610c8d2b7",
    "outputId": "7e2a34c6-ed0b-4d4d-fea3-ed7ad25b69fa"
   },
   "outputs": [
    {
     "name": "stdout",
     "output_type": "stream",
     "text": [
      "----------------------------------------------------------------------------------------------------\n",
      "FOLD-1   TEST scores | ROC_AUC: 0.7628\n",
      "----------------------------------------------------------------------------------------------------\n",
      "FOLD-2   TEST scores | ROC_AUC: 0.7645\n",
      "----------------------------------------------------------------------------------------------------\n",
      "FOLD-3   TEST scores | ROC_AUC: 0.7638\n",
      "----------------------------------------------------------------------------------------------------\n",
      "FOLD-4   TEST scores | ROC_AUC: 0.7589\n",
      "----------------------------------------------------------------------------------------------------\n",
      "FOLD-5   TEST scores | ROC_AUC: 0.7583\n",
      "\n",
      "------------------------------------ TEST-CV-SPLIT MEAN SCORES -------------------------------------\n",
      "\n",
      "- ROC_AUC: 0.7617 (std:0.0028)\n",
      "\n",
      "----------------------------------------------------------------------------------------------------\n"
     ]
    }
   ],
   "source": [
    "model_name = \"LogisticRegression (PREPROCESS04_nofilter + TF-IDF)\"\n",
    "max_lr_iter = 3000\n",
    "\n",
    "grd_log = fit_model(\n",
    "    LogisticRegression(), \n",
    "    param_grid=param_grid,  \n",
    "    cv = skfold,\n",
    "    X_ref = X_train_ready,\n",
    "    y_ref = y_train,\n",
    ")"
   ]
  },
  {
   "cell_type": "code",
   "execution_count": null,
   "id": "7ee82e9f-5af9-4e5a-aaf1-31fbb5c7f30b",
   "metadata": {},
   "outputs": [],
   "source": []
  }
 ],
 "metadata": {
  "kernelspec": {
   "display_name": "venvP7",
   "language": "python",
   "name": "venvp7"
  },
  "language_info": {
   "codemirror_mode": {
    "name": "ipython",
    "version": 3
   },
   "file_extension": ".py",
   "mimetype": "text/x-python",
   "name": "python",
   "nbconvert_exporter": "python",
   "pygments_lexer": "ipython3",
   "version": "3.8.10"
  },
  "toc-autonumbering": false,
  "toc-showcode": false,
  "toc-showmarkdowntxt": false,
  "toc-showtags": false
 },
 "nbformat": 4,
 "nbformat_minor": 5
}
