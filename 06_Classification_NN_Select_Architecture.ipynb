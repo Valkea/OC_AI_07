{
 "cells": [
  {
   "cell_type": "markdown",
   "id": "9bf11529-83a5-4504-a034-832ba1c996ce",
   "metadata": {
    "id": "9bf11529-83a5-4504-a034-832ba1c996ce"
   },
   "source": [
    "# Menu <a class=\"anchor\" id=\"menu\"></a>\n",
    "   \n",
    "* [1. Préparatifs](#init)\n",
    "* [2. Recherche de l'`architecture` la plus adaptée](#ARCHI)\n",
    "    * [2.1 `Archi-REF` Bi-LSTM 32 + Dropout 0.5](#ARCHI_REF)\n",
    "    * [2.2 `Archi-000` Dense 32 + Dropout 0.5](#ARCHI_000)\n",
    "    * [2.3 `Archi-100` Simple RNN 32 + Dropout 0.5](#ARCHI_100)\n",
    "    * [2.4 `Archi-200` LSTM 32 + Dropout 0.5](#ARCHI_200)\n",
    "    * [2.5 `Archi-300` GRU 32 + Dropout 0.5](#ARCHI_300)\n",
    "    * [2.6 `Archi-201` Bi-LSTM 64 + Dropout 0.5](#ARCHI_201)\n",
    "    * [2.7 `Archi-202` Bi-LSTM 64 + Dense 24](#ARCHI_202)\n",
    "    * [2.8 `Archi-301` Bi-GRU 64 + Dropout 0.5](#ARCHI_301)\n",
    "    * [2.9 `Archi-302` Bi-GRU 64 + Dense 24](#ARCHI_302)\n",
    "    * [2.10 `Archi-401` Bi-LSTM 32 + Dense 10](#ARCHI_401)\n",
    "    * [2.11 `Archi-402` Bi-LSTM 64 Seq + Dropout 0.2 + Bi-LSTM 32 + Dropout 0.2 + Dense 64 + Dropout 0.1](#ARCHI_402)\n",
    "    * [2.13 Comparaison des scores](#ARCHI_scores)"
   ]
  },
  {
   "cell_type": "code",
   "execution_count": 1,
   "id": "-HV8wTvrN9ip",
   "metadata": {
    "colab": {
     "base_uri": "https://localhost:8080/"
    },
    "executionInfo": {
     "elapsed": 10484,
     "status": "ok",
     "timestamp": 1659976286271,
     "user": {
      "displayName": "Valkea",
      "userId": "01476199649418572392"
     },
     "user_tz": -120
    },
    "id": "-HV8wTvrN9ip",
    "outputId": "9c464edb-ff47-4b9e-f53a-1d5f63652786"
   },
   "outputs": [
    {
     "name": "stdout",
     "output_type": "stream",
     "text": [
      "Looking in indexes: https://pypi.org/simple, https://us-python.pkg.dev/colab-wheels/public/simple/\n",
      "Collecting dagshub\n",
      "  Downloading dagshub-0.1.8-py3-none-any.whl (10 kB)\n",
      "Collecting PyYAML>=5\n",
      "  Downloading PyYAML-6.0-cp37-cp37m-manylinux_2_5_x86_64.manylinux1_x86_64.manylinux_2_12_x86_64.manylinux2010_x86_64.whl (596 kB)\n",
      "\u001b[K     |████████████████████████████████| 596 kB 33.5 MB/s \n",
      "\u001b[?25hInstalling collected packages: PyYAML, dagshub\n",
      "  Attempting uninstall: PyYAML\n",
      "    Found existing installation: PyYAML 3.13\n",
      "    Uninstalling PyYAML-3.13:\n",
      "      Successfully uninstalled PyYAML-3.13\n",
      "Successfully installed PyYAML-6.0 dagshub-0.1.8\n"
     ]
    }
   ],
   "source": [
    "!pip install dagshub"
   ]
  },
  {
   "cell_type": "code",
   "execution_count": 2,
   "id": "tpRRpW6BOdRM",
   "metadata": {
    "colab": {
     "base_uri": "https://localhost:8080/"
    },
    "executionInfo": {
     "elapsed": 29256,
     "status": "ok",
     "timestamp": 1659976315511,
     "user": {
      "displayName": "Valkea",
      "userId": "01476199649418572392"
     },
     "user_tz": -120
    },
    "id": "tpRRpW6BOdRM",
    "outputId": "f7545fdb-c9f5-496b-81c3-52111ee36c76"
   },
   "outputs": [
    {
     "name": "stdout",
     "output_type": "stream",
     "text": [
      "Mounted at /content/drive\n"
     ]
    }
   ],
   "source": [
    "from google.colab import drive\n",
    "drive.mount('/content/drive')"
   ]
  },
  {
   "cell_type": "code",
   "execution_count": 3,
   "id": "507bb850-f975-4a46-80d9-c9d0629d6b87",
   "metadata": {
    "executionInfo": {
     "elapsed": 2463,
     "status": "ok",
     "timestamp": 1659976317960,
     "user": {
      "displayName": "Valkea",
      "userId": "01476199649418572392"
     },
     "user_tz": -120
    },
    "id": "507bb850-f975-4a46-80d9-c9d0629d6b87",
    "tags": []
   },
   "outputs": [],
   "source": [
    "import os\n",
    "import time\n",
    "import pathlib\n",
    "import gzip\n",
    "\n",
    "import matplotlib.pyplot as plt\n",
    "import pandas as pd\n",
    "import numpy as np\n",
    "import tensorflow as tf\n",
    "from tensorflow import keras\n",
    "from keras import layers\n",
    "from sklearn.model_selection import train_test_split\n",
    "from sklearn.metrics import accuracy_score\n",
    "from dagshub import dagshub_logger, DAGsHubLogger\n",
    "\n",
    "try:\n",
    "    from tensorflow.keras.layers import TextVectorization\n",
    "except ImportError:\n",
    "    from tensorflow.keras.layers.experimental.preprocessing import TextVectorization\n",
    "\n",
    "# set random seed for reproductibility\n",
    "random_seed = 0\n",
    "np.random.seed(random_seed)\n",
    "\n",
    "try:\n",
    "    keras.utils.set_random_seed(random_seed)\n",
    "except Exception:\n",
    "    tf.random.set_seed(random_seed)"
   ]
  },
  {
   "cell_type": "code",
   "execution_count": 4,
   "id": "f8333fab-1373-4311-80dc-4511dd5df25f",
   "metadata": {
    "colab": {
     "base_uri": "https://localhost:8080/"
    },
    "executionInfo": {
     "elapsed": 11,
     "status": "ok",
     "timestamp": 1659976318465,
     "user": {
      "displayName": "Valkea",
      "userId": "01476199649418572392"
     },
     "user_tz": -120
    },
    "id": "f8333fab-1373-4311-80dc-4511dd5df25f",
    "outputId": "006072af-3103-4311-fcb3-b223689c5760",
    "tags": []
   },
   "outputs": [
    {
     "name": "stdout",
     "output_type": "stream",
     "text": [
      "Num GPUs Available:  1\n"
     ]
    }
   ],
   "source": [
    "print(\"Num GPUs Available: \", len(tf.config.list_physical_devices('GPU')))"
   ]
  },
  {
   "cell_type": "code",
   "execution_count": 5,
   "id": "Cmikp8zvR_f8",
   "metadata": {
    "executionInfo": {
     "elapsed": 14,
     "status": "ok",
     "timestamp": 1659976324167,
     "user": {
      "displayName": "Valkea",
      "userId": "01476199649418572392"
     },
     "user_tz": -120
    },
    "id": "Cmikp8zvR_f8"
   },
   "outputs": [],
   "source": [
    "os.chdir(\"/content/drive/MyDrive/Openclassrooms/AI_P7\")"
   ]
  },
  {
   "cell_type": "code",
   "execution_count": 6,
   "id": "K4uExsi1SiaS",
   "metadata": {
    "colab": {
     "base_uri": "https://localhost:8080/",
     "height": 35
    },
    "executionInfo": {
     "elapsed": 12,
     "status": "ok",
     "timestamp": 1659976324168,
     "user": {
      "displayName": "Valkea",
      "userId": "01476199649418572392"
     },
     "user_tz": -120
    },
    "id": "K4uExsi1SiaS",
    "outputId": "a888155e-4cd3-4f68-8ae6-88976643a2e7"
   },
   "outputs": [
    {
     "data": {
      "application/vnd.google.colaboratory.intrinsic+json": {
       "type": "string"
      },
      "text/plain": [
       "'/content/drive/MyDrive/Openclassrooms/AI_P7'"
      ]
     },
     "execution_count": 6,
     "metadata": {},
     "output_type": "execute_result"
    }
   ],
   "source": [
    "os.getcwd()"
   ]
  },
  {
   "cell_type": "markdown",
   "id": "221e6c06-6579-43fe-82f6-b313891f65dc",
   "metadata": {
    "id": "221e6c06-6579-43fe-82f6-b313891f65dc"
   },
   "source": [
    "---\n",
    "---\n",
    "# 1. Préparatifs pour de la classification avec des réseaux de neurones <a class=\"anchor\" id=\"init\"></a> [⇪](#menu)"
   ]
  },
  {
   "cell_type": "markdown",
   "id": "dad68b70-d9c4-40f2-a860-702be77c95ec",
   "metadata": {
    "id": "dad68b70-d9c4-40f2-a860-702be77c95ec"
   },
   "source": [
    "### Chargeons quelques fonctions *maison* pour entrainer et évaluer les modèles, et initialisons un fichier pour enregistrer les scores\n",
    "Ces fonctions ont été déportées dans le fichier classification_utils.py pour allèger le notebook"
   ]
  },
  {
   "cell_type": "code",
   "execution_count": 7,
   "id": "0bc686b4-d5ec-40af-9d6d-3fdd0b518ed9",
   "metadata": {
    "executionInfo": {
     "elapsed": 3108,
     "status": "ok",
     "timestamp": 1659976331477,
     "user": {
      "displayName": "Valkea",
      "userId": "01476199649418572392"
     },
     "user_tz": -120
    },
    "id": "0bc686b4-d5ec-40af-9d6d-3fdd0b518ed9"
   },
   "outputs": [],
   "source": [
    "# Load classification helpers' functions & initialize a file to log the models' scores\n",
    "from classification_utils import fit_model, get_scores, init_scores, find_best_threshold\n",
    "init_scores(\"data/scores_NN_SelectArchitecture.csv\")"
   ]
  },
  {
   "cell_type": "markdown",
   "id": "9a83e16a-e22c-4494-972e-20884fa549e3",
   "metadata": {
    "id": "9a83e16a-e22c-4494-972e-20884fa549e3"
   },
   "source": [
    "### Chargeons le jeu de données et préparons un `échantillon de travail` représentatif"
   ]
  },
  {
   "cell_type": "code",
   "execution_count": 9,
   "id": "ddcbcb93-38d4-4eb1-a0ad-58ae67f6a4c8",
   "metadata": {
    "colab": {
     "base_uri": "https://localhost:8080/",
     "height": 224
    },
    "executionInfo": {
     "elapsed": 9106,
     "status": "ok",
     "timestamp": 1659976360486,
     "user": {
      "displayName": "Valkea",
      "userId": "01476199649418572392"
     },
     "user_tz": -120
    },
    "id": "ddcbcb93-38d4-4eb1-a0ad-58ae67f6a4c8",
    "outputId": "ca781965-b8f2-466e-b6e0-2bf55099127b",
    "tags": []
   },
   "outputs": [
    {
     "data": {
      "text/html": [
       "\n",
       "  <div id=\"df-2b60375c-b5ea-4e68-944f-5cc098df307c\">\n",
       "    <div class=\"colab-df-container\">\n",
       "      <div>\n",
       "<style scoped>\n",
       "    .dataframe tbody tr th:only-of-type {\n",
       "        vertical-align: middle;\n",
       "    }\n",
       "\n",
       "    .dataframe tbody tr th {\n",
       "        vertical-align: top;\n",
       "    }\n",
       "\n",
       "    .dataframe thead th {\n",
       "        text-align: right;\n",
       "    }\n",
       "</style>\n",
       "<table border=\"1\" class=\"dataframe\">\n",
       "  <thead>\n",
       "    <tr style=\"text-align: right;\">\n",
       "      <th></th>\n",
       "      <th>target</th>\n",
       "      <th>text</th>\n",
       "    </tr>\n",
       "  </thead>\n",
       "  <tbody>\n",
       "    <tr>\n",
       "      <th>0</th>\n",
       "      <td>0</td>\n",
       "      <td>$ url$ - awww , that be a bummer . you shoulda...</td>\n",
       "    </tr>\n",
       "    <tr>\n",
       "      <th>1</th>\n",
       "      <td>0</td>\n",
       "      <td>be upset that he can not update his facebook b...</td>\n",
       "    </tr>\n",
       "    <tr>\n",
       "      <th>2</th>\n",
       "      <td>0</td>\n",
       "      <td>I dive many time for the ball . manage to save...</td>\n",
       "    </tr>\n",
       "    <tr>\n",
       "      <th>3</th>\n",
       "      <td>0</td>\n",
       "      <td>my whole body feel itchy and like its on fire</td>\n",
       "    </tr>\n",
       "    <tr>\n",
       "      <th>4</th>\n",
       "      <td>0</td>\n",
       "      <td>no , it be not behave at all . I be mad . why ...</td>\n",
       "    </tr>\n",
       "  </tbody>\n",
       "</table>\n",
       "</div>\n",
       "      <button class=\"colab-df-convert\" onclick=\"convertToInteractive('df-2b60375c-b5ea-4e68-944f-5cc098df307c')\"\n",
       "              title=\"Convert this dataframe to an interactive table.\"\n",
       "              style=\"display:none;\">\n",
       "        \n",
       "  <svg xmlns=\"http://www.w3.org/2000/svg\" height=\"24px\"viewBox=\"0 0 24 24\"\n",
       "       width=\"24px\">\n",
       "    <path d=\"M0 0h24v24H0V0z\" fill=\"none\"/>\n",
       "    <path d=\"M18.56 5.44l.94 2.06.94-2.06 2.06-.94-2.06-.94-.94-2.06-.94 2.06-2.06.94zm-11 1L8.5 8.5l.94-2.06 2.06-.94-2.06-.94L8.5 2.5l-.94 2.06-2.06.94zm10 10l.94 2.06.94-2.06 2.06-.94-2.06-.94-.94-2.06-.94 2.06-2.06.94z\"/><path d=\"M17.41 7.96l-1.37-1.37c-.4-.4-.92-.59-1.43-.59-.52 0-1.04.2-1.43.59L10.3 9.45l-7.72 7.72c-.78.78-.78 2.05 0 2.83L4 21.41c.39.39.9.59 1.41.59.51 0 1.02-.2 1.41-.59l7.78-7.78 2.81-2.81c.8-.78.8-2.07 0-2.86zM5.41 20L4 18.59l7.72-7.72 1.47 1.35L5.41 20z\"/>\n",
       "  </svg>\n",
       "      </button>\n",
       "      \n",
       "  <style>\n",
       "    .colab-df-container {\n",
       "      display:flex;\n",
       "      flex-wrap:wrap;\n",
       "      gap: 12px;\n",
       "    }\n",
       "\n",
       "    .colab-df-convert {\n",
       "      background-color: #E8F0FE;\n",
       "      border: none;\n",
       "      border-radius: 50%;\n",
       "      cursor: pointer;\n",
       "      display: none;\n",
       "      fill: #1967D2;\n",
       "      height: 32px;\n",
       "      padding: 0 0 0 0;\n",
       "      width: 32px;\n",
       "    }\n",
       "\n",
       "    .colab-df-convert:hover {\n",
       "      background-color: #E2EBFA;\n",
       "      box-shadow: 0px 1px 2px rgba(60, 64, 67, 0.3), 0px 1px 3px 1px rgba(60, 64, 67, 0.15);\n",
       "      fill: #174EA6;\n",
       "    }\n",
       "\n",
       "    [theme=dark] .colab-df-convert {\n",
       "      background-color: #3B4455;\n",
       "      fill: #D2E3FC;\n",
       "    }\n",
       "\n",
       "    [theme=dark] .colab-df-convert:hover {\n",
       "      background-color: #434B5C;\n",
       "      box-shadow: 0px 1px 3px 1px rgba(0, 0, 0, 0.15);\n",
       "      filter: drop-shadow(0px 1px 2px rgba(0, 0, 0, 0.3));\n",
       "      fill: #FFFFFF;\n",
       "    }\n",
       "  </style>\n",
       "\n",
       "      <script>\n",
       "        const buttonEl =\n",
       "          document.querySelector('#df-2b60375c-b5ea-4e68-944f-5cc098df307c button.colab-df-convert');\n",
       "        buttonEl.style.display =\n",
       "          google.colab.kernel.accessAllowed ? 'block' : 'none';\n",
       "\n",
       "        async function convertToInteractive(key) {\n",
       "          const element = document.querySelector('#df-2b60375c-b5ea-4e68-944f-5cc098df307c');\n",
       "          const dataTable =\n",
       "            await google.colab.kernel.invokeFunction('convertToInteractive',\n",
       "                                                     [key], {});\n",
       "          if (!dataTable) return;\n",
       "\n",
       "          const docLinkHtml = 'Like what you see? Visit the ' +\n",
       "            '<a target=\"_blank\" href=https://colab.research.google.com/notebooks/data_table.ipynb>data table notebook</a>'\n",
       "            + ' to learn more about interactive tables.';\n",
       "          element.innerHTML = '';\n",
       "          dataTable['output_type'] = 'display_data';\n",
       "          await google.colab.output.renderOutput(dataTable, element);\n",
       "          const docLink = document.createElement('div');\n",
       "          docLink.innerHTML = docLinkHtml;\n",
       "          element.appendChild(docLink);\n",
       "        }\n",
       "      </script>\n",
       "    </div>\n",
       "  </div>\n",
       "  "
      ],
      "text/plain": [
       "   target                                               text\n",
       "0       0  $ url$ - awww , that be a bummer . you shoulda...\n",
       "1       0  be upset that he can not update his facebook b...\n",
       "2       0  I dive many time for the ball . manage to save...\n",
       "3       0      my whole body feel itchy and like its on fire\n",
       "4       0  no , it be not behave at all . I be mad . why ..."
      ]
     },
     "metadata": {},
     "output_type": "display_data"
    },
    {
     "data": {
      "text/plain": [
       "(1452791, 2)"
      ]
     },
     "metadata": {},
     "output_type": "display_data"
    }
   ],
   "source": [
    "data_work = pd.read_csv(\n",
    "    pathlib.Path(pathlib.Path().absolute(), 'data', 'data_nlp_1563108.csv'), \n",
    "    usecols=['target', 'lemmas_not_filtered'],\n",
    "    encoding='ISO-8859-1',\n",
    "    #nrows=100000,\n",
    ")\n",
    "data_work.rename(columns={'lemmas_not_filtered':'text'}, inplace=True)\n",
    "display(data_work.head(), data_work.shape)\n",
    "\n",
    "# Select samples\n",
    "#sample_size = 100000\n",
    "#data_work = data_work.groupby('target', group_keys=False).apply(lambda x: x.sample(sample_size//2, random_state=random_seed))\n",
    "#display(data_work.head(), data_work.shape)"
   ]
  },
  {
   "cell_type": "code",
   "execution_count": 10,
   "id": "a286ea0c-1cbd-454b-8a54-8962f03834f8",
   "metadata": {
    "colab": {
     "base_uri": "https://localhost:8080/"
    },
    "executionInfo": {
     "elapsed": 497,
     "status": "ok",
     "timestamp": 1659976364659,
     "user": {
      "displayName": "Valkea",
      "userId": "01476199649418572392"
     },
     "user_tz": -120
    },
    "id": "a286ea0c-1cbd-454b-8a54-8962f03834f8",
    "outputId": "da58c4e1-792e-4558-eec0-2d6f0c13ad4c",
    "tags": []
   },
   "outputs": [
    {
     "data": {
      "text/plain": [
       "0    731641\n",
       "1    721150\n",
       "Name: target, dtype: int64"
      ]
     },
     "execution_count": 10,
     "metadata": {},
     "output_type": "execute_result"
    }
   ],
   "source": [
    "data_work.target.value_counts(dropna=False)"
   ]
  },
  {
   "cell_type": "markdown",
   "id": "ee9945b4-428e-4ea0-a83b-96b9bd8535b9",
   "metadata": {
    "id": "ee9945b4-428e-4ea0-a83b-96b9bd8535b9"
   },
   "source": [
    "### Définissons les différentes `architectures RNN` que nous aimerions comparer"
   ]
  },
  {
   "cell_type": "markdown",
   "id": "27887ce5-3e27-408f-8b61-e7925fba731c",
   "metadata": {
    "id": "27887ce5-3e27-408f-8b61-e7925fba731c"
   },
   "source": [
    "#### L'architecture utilisée sur les précèdents notebooks"
   ]
  },
  {
   "cell_type": "code",
   "execution_count": 11,
   "id": "2171a4ad-99ea-41e9-a698-5e37471af1d8",
   "metadata": {
    "executionInfo": {
     "elapsed": 507,
     "status": "ok",
     "timestamp": 1659976369076,
     "user": {
      "displayName": "Valkea",
      "userId": "01476199649418572392"
     },
     "user_tz": -120
    },
    "id": "2171a4ad-99ea-41e9-a698-5e37471af1d8",
    "tags": []
   },
   "outputs": [],
   "source": [
    "# P.336 livre \"Deep Learning with Python 2nd edition\"\n",
    "def architectureREF(f_opti, f_loss, f_metrics, embedding):\n",
    "        \n",
    "    inputs = keras.Input(shape=(None,), dtype=\"int64\")\n",
    "    \n",
    "    x = embedding(inputs)\n",
    "    x = layers.Bidirectional(layers.LSTM(32))(x) # 64\n",
    "    x = layers.Dropout(0.5)(x)\n",
    "    \n",
    "    predictions = layers.Dense(1, activation='sigmoid', name='predictions')(x)\n",
    "    \n",
    "    model = keras.Model(inputs, predictions)\n",
    "    model.compile(loss=f_loss, optimizer=f_opti, metrics=f_metrics)\n",
    "    \n",
    "    return model, \"Bi-LSTM 32 + Dropout 0.5\""
   ]
  },
  {
   "cell_type": "code",
   "execution_count": 12,
   "id": "9e513af3-bee7-414d-88c9-d98b9eb498be",
   "metadata": {
    "executionInfo": {
     "elapsed": 5,
     "status": "ok",
     "timestamp": 1659976369562,
     "user": {
      "displayName": "Valkea",
      "userId": "01476199649418572392"
     },
     "user_tz": -120
    },
    "id": "9e513af3-bee7-414d-88c9-d98b9eb498be",
    "tags": []
   },
   "outputs": [],
   "source": [
    "# P.323 livre \"Deep Learning with Python 2nd edition\"\n",
    "def architecture000(f_opti, f_loss, f_metrics, embedding):\n",
    "        \n",
    "    max_tokens = 60\n",
    "    inputs = keras.Input(shape=(max_tokens,), dtype=\"int64\")\n",
    "    \n",
    "    #x = embedding(inputs)\n",
    "    x = layers.Dense(32, activation='relu')(inputs)\n",
    "    x = layers.Dropout(0.5)(x)\n",
    "    \n",
    "    predictions = layers.Dense(1, activation='sigmoid', name='predictions')(x)\n",
    "    \n",
    "    model = keras.Model(inputs, predictions)\n",
    "    model.compile(loss=f_loss, optimizer=f_opti, metrics=f_metrics)\n",
    "    \n",
    "    return model, \"Dense 32 + Dropout 0.5\""
   ]
  },
  {
   "cell_type": "markdown",
   "id": "850413e6-a0d8-490f-be10-47fca2118d3a",
   "metadata": {
    "id": "850413e6-a0d8-490f-be10-47fca2118d3a"
   },
   "source": [
    "#### Simple RNN / LSTM / GRU"
   ]
  },
  {
   "cell_type": "code",
   "execution_count": 13,
   "id": "13889788-14ef-4b49-9730-b8cf6db7e59f",
   "metadata": {
    "executionInfo": {
     "elapsed": 3,
     "status": "ok",
     "timestamp": 1659976371150,
     "user": {
      "displayName": "Valkea",
      "userId": "01476199649418572392"
     },
     "user_tz": -120
    },
    "id": "13889788-14ef-4b49-9730-b8cf6db7e59f",
    "tags": []
   },
   "outputs": [],
   "source": [
    "# Simple RNN\n",
    "def architecture100(f_opti, f_loss, f_metrics, embedding):\n",
    "        \n",
    "    inputs = keras.Input(shape=(None,), dtype=\"int64\")\n",
    "    \n",
    "    x = embedding(inputs)\n",
    "    x = layers.SimpleRNN(32)(x)\n",
    "    #x = layers.Dense(24, activation='relu')(x)\n",
    "    x = layers.Dropout(0.5)(x)\n",
    "    \n",
    "    predictions = layers.Dense(1, activation='sigmoid', name='predictions')(x)\n",
    "    \n",
    "    model = keras.Model(inputs, predictions)\n",
    "    model.compile(loss=f_loss, optimizer=f_opti, metrics=f_metrics)\n",
    "    \n",
    "    return model, \"Simple RNN 32 + Dropout 0.5\""
   ]
  },
  {
   "cell_type": "code",
   "execution_count": 14,
   "id": "48494aee-5f5c-4f4c-bcda-d03227bfe2b3",
   "metadata": {
    "executionInfo": {
     "elapsed": 4,
     "status": "ok",
     "timestamp": 1659976371755,
     "user": {
      "displayName": "Valkea",
      "userId": "01476199649418572392"
     },
     "user_tz": -120
    },
    "id": "48494aee-5f5c-4f4c-bcda-d03227bfe2b3",
    "tags": []
   },
   "outputs": [],
   "source": [
    "# LSTM 32\n",
    "def architecture200(f_opti, f_loss, f_metrics, embedding):\n",
    "        \n",
    "    inputs = keras.Input(shape=(None,), dtype=\"int64\")\n",
    "    \n",
    "    x = embedding(inputs)\n",
    "    x = layers.LSTM(32)(x)\n",
    "    #x = layers.Dense(24, activation='relu')(x)\n",
    "    x = layers.Dropout(0.5)(x)\n",
    "    \n",
    "    predictions = layers.Dense(1, activation='sigmoid', name='predictions')(x)\n",
    "    \n",
    "    model = keras.Model(inputs, predictions)\n",
    "    model.compile(loss=f_loss, optimizer=f_opti, metrics=f_metrics)\n",
    "    \n",
    "    return model, \"LSTM 32 + Dropout 0.5\""
   ]
  },
  {
   "cell_type": "code",
   "execution_count": 15,
   "id": "e577107f-094b-4442-ac52-d1722e14d0ea",
   "metadata": {
    "executionInfo": {
     "elapsed": 5,
     "status": "ok",
     "timestamp": 1659976372513,
     "user": {
      "displayName": "Valkea",
      "userId": "01476199649418572392"
     },
     "user_tz": -120
    },
    "id": "e577107f-094b-4442-ac52-d1722e14d0ea",
    "tags": []
   },
   "outputs": [],
   "source": [
    "# GRU 32\n",
    "def architecture300(f_opti, f_loss, f_metrics, embedding):\n",
    "        \n",
    "    inputs = keras.Input(shape=(None,), dtype=\"int64\")\n",
    "    \n",
    "    x = embedding(inputs)\n",
    "    x = layers.GRU(32)(x)\n",
    "    #x = layers.Dense(24, activation='relu')(x)\n",
    "    x = layers.Dropout(0.5)(x)\n",
    "    \n",
    "    predictions = layers.Dense(1, activation='sigmoid', name='predictions')(x)\n",
    "    \n",
    "    model = keras.Model(inputs, predictions)\n",
    "    model.compile(loss=f_loss, optimizer=f_opti, metrics=f_metrics)\n",
    "    \n",
    "    return model, \"GRU 32 + Dropout 0.5\""
   ]
  },
  {
   "cell_type": "markdown",
   "id": "d8d4881b-a583-4987-addf-44357a13fca4",
   "metadata": {
    "id": "d8d4881b-a583-4987-addf-44357a13fca4"
   },
   "source": [
    "#### Birectional RNN / LSTM / GRU"
   ]
  },
  {
   "cell_type": "code",
   "execution_count": 16,
   "id": "30b4cf8a-8cee-4efd-819c-2351f3b2b81b",
   "metadata": {
    "executionInfo": {
     "elapsed": 7,
     "status": "ok",
     "timestamp": 1659976373835,
     "user": {
      "displayName": "Valkea",
      "userId": "01476199649418572392"
     },
     "user_tz": -120
    },
    "id": "30b4cf8a-8cee-4efd-819c-2351f3b2b81b",
    "tags": []
   },
   "outputs": [],
   "source": [
    "def architecture201(f_opti, f_loss, f_metrics, embedding):\n",
    "        \n",
    "    inputs = keras.Input(shape=(None,), dtype=\"int64\")\n",
    "    \n",
    "    x = embedding(inputs)\n",
    "    x = layers.Bidirectional(layers.LSTM(64))(x)\n",
    "    #x = layers.Dense(24, activation='relu')(x)\n",
    "    x = layers.Dropout(0.5)(x)\n",
    "    \n",
    "    predictions = layers.Dense(1, activation='sigmoid', name='predictions')(x)\n",
    "    \n",
    "    model = keras.Model(inputs, predictions)\n",
    "    model.compile(loss=f_loss, optimizer=f_opti, metrics=f_metrics)\n",
    "    \n",
    "    return model, \"Bi-LSTM 64 + Dropout 0.5\""
   ]
  },
  {
   "cell_type": "code",
   "execution_count": 17,
   "id": "317f83d4-9064-4737-a148-fe16e0e72b67",
   "metadata": {
    "executionInfo": {
     "elapsed": 6,
     "status": "ok",
     "timestamp": 1659976373836,
     "user": {
      "displayName": "Valkea",
      "userId": "01476199649418572392"
     },
     "user_tz": -120
    },
    "id": "317f83d4-9064-4737-a148-fe16e0e72b67",
    "tags": []
   },
   "outputs": [],
   "source": [
    "# https://www.analyticsvidhya.com/blog/2022/01/sentiment-analysis-with-lstm/\n",
    "def architecture202(f_opti, f_loss, f_metrics, embedding):\n",
    "        \n",
    "    inputs = keras.Input(shape=(None,), dtype=\"int64\")\n",
    "    \n",
    "    x = embedding(inputs)\n",
    "    x = layers.Bidirectional(layers.LSTM(64))(x)\n",
    "    x = layers.Dense(24, activation='relu')(x)\n",
    "    # x = layers.Dropout(0.5)(x)\n",
    "    \n",
    "    predictions = layers.Dense(1, activation='sigmoid', name='predictions')(x)\n",
    "    \n",
    "    model = keras.Model(inputs, predictions)\n",
    "    model.compile(loss=f_loss, optimizer=f_opti, metrics=f_metrics)\n",
    "    \n",
    "    return model, \"Bi-LSTM 64 + Dense 24\""
   ]
  },
  {
   "cell_type": "code",
   "execution_count": 18,
   "id": "50df711c-be03-4f79-8845-f2ab5448a172",
   "metadata": {
    "executionInfo": {
     "elapsed": 4,
     "status": "ok",
     "timestamp": 1659976374472,
     "user": {
      "displayName": "Valkea",
      "userId": "01476199649418572392"
     },
     "user_tz": -120
    },
    "id": "50df711c-be03-4f79-8845-f2ab5448a172",
    "tags": []
   },
   "outputs": [],
   "source": [
    "def architecture301(f_opti, f_loss, f_metrics, embedding):\n",
    "        \n",
    "    inputs = keras.Input(shape=(None,), dtype=\"int64\")\n",
    "    \n",
    "    x = embedding(inputs)\n",
    "    x = layers.Bidirectional(layers.GRU(64))(x)\n",
    "    #x = layers.Dense(24, activation='relu')(x)\n",
    "    x = layers.Dropout(0.5)(x)\n",
    "    \n",
    "    predictions = layers.Dense(1, activation='sigmoid', name='predictions')(x)\n",
    "    \n",
    "    model = keras.Model(inputs, predictions)\n",
    "    model.compile(loss=f_loss, optimizer=f_opti, metrics=f_metrics)\n",
    "    \n",
    "    return model, \"Bi-GRU 64 + Dropout 0.5\""
   ]
  },
  {
   "cell_type": "code",
   "execution_count": 19,
   "id": "213b6633-ee8f-41cf-b72b-a592435a4dbc",
   "metadata": {
    "executionInfo": {
     "elapsed": 5,
     "status": "ok",
     "timestamp": 1659976375012,
     "user": {
      "displayName": "Valkea",
      "userId": "01476199649418572392"
     },
     "user_tz": -120
    },
    "id": "213b6633-ee8f-41cf-b72b-a592435a4dbc",
    "tags": []
   },
   "outputs": [],
   "source": [
    "def architecture302(f_opti, f_loss, f_metrics, embedding):\n",
    "        \n",
    "    inputs = keras.Input(shape=(None,), dtype=\"int64\")\n",
    "    \n",
    "    x = embedding(inputs)\n",
    "    x = layers.Bidirectional(layers.GRU(64))(x)\n",
    "    x = layers.Dense(24, activation='relu')(x)\n",
    "    # x = layers.Dropout(0.5)(x)\n",
    "    \n",
    "    predictions = layers.Dense(1, activation='sigmoid', name='predictions')(x)\n",
    "    \n",
    "    model = keras.Model(inputs, predictions)\n",
    "    model.compile(loss=f_loss, optimizer=f_opti, metrics=f_metrics)\n",
    "    \n",
    "    return model, \"Bi-GRU 64 + Dense 24\""
   ]
  },
  {
   "cell_type": "markdown",
   "id": "8622f815-e969-45b3-ad8d-0ec5b0e8a6e7",
   "metadata": {
    "id": "8622f815-e969-45b3-ad8d-0ec5b0e8a6e7"
   },
   "source": [
    "#### Quelques architectures trouvées dans mes lectures"
   ]
  },
  {
   "cell_type": "code",
   "execution_count": 20,
   "id": "cd11fdd1-5e05-4cc8-a1bd-12daa5e0b821",
   "metadata": {
    "executionInfo": {
     "elapsed": 6,
     "status": "ok",
     "timestamp": 1659976376217,
     "user": {
      "displayName": "Valkea",
      "userId": "01476199649418572392"
     },
     "user_tz": -120
    },
    "id": "cd11fdd1-5e05-4cc8-a1bd-12daa5e0b821",
    "tags": []
   },
   "outputs": [],
   "source": [
    "# https://www.embedded-robotics.com/sentiment-analysis-using-lstm/\n",
    "def architecture401(f_opti, f_loss, f_metrics, embedding):\n",
    "        \n",
    "    inputs = keras.Input(shape=(None,), dtype=\"int64\")\n",
    "    \n",
    "    x = embedding(inputs)\n",
    "    x = layers.Bidirectional(layers.LSTM(32))(x)\n",
    "    x = layers.Dense(10, activation='relu')(x)\n",
    "    \n",
    "    predictions = layers.Dense(1, activation='sigmoid', name='predictions')(x)\n",
    "    \n",
    "    model = keras.Model(inputs, predictions)\n",
    "    model.compile(loss=f_loss, optimizer=f_opti, metrics=f_metrics)\n",
    "    \n",
    "    return model, \"Bi-LSTM 32 + Dense 10\""
   ]
  },
  {
   "cell_type": "code",
   "execution_count": 21,
   "id": "06de5243-3ede-4c4f-b345-749dc5332427",
   "metadata": {
    "executionInfo": {
     "elapsed": 4,
     "status": "ok",
     "timestamp": 1659976376695,
     "user": {
      "displayName": "Valkea",
      "userId": "01476199649418572392"
     },
     "user_tz": -120
    },
    "id": "06de5243-3ede-4c4f-b345-749dc5332427",
    "tags": []
   },
   "outputs": [],
   "source": [
    "# https://www.analyticsvidhya.com/blog/2021/08/sentiment-analysis-using-bidirectional-stacked-lstm/\n",
    "def architecture402(f_opti, f_loss, f_metrics, embedding):\n",
    "        \n",
    "    inputs = keras.Input(shape=(None,), dtype=\"int64\")\n",
    "    \n",
    "    x = embedding(inputs)\n",
    "    x = layers.Bidirectional(layers.LSTM(64, return_sequences=True, input_shape=(None, 1)))(x)\n",
    "    x = layers.Dropout(0.2)(x)\n",
    "    x = layers.Bidirectional(layers.LSTM(32))(x)\n",
    "    x = layers.Dropout(0.2)(x)\n",
    "    x = layers.Dense(64, activation='relu')(x)\n",
    "    x = layers.Dropout(0.1)(x)\n",
    "    \n",
    "    predictions = layers.Dense(1, activation='sigmoid', name='predictions')(x)\n",
    "    \n",
    "    model = keras.Model(inputs, predictions)\n",
    "    model.compile(loss=f_loss, optimizer=f_opti, metrics=f_metrics)\n",
    "    \n",
    "    return model, \"Bi-LSTM 64 Seq + Dropout 0.2 + Bi-LSTM 32 + Dropout 0.2 + Dense 64 + Dropout 0.1\""
   ]
  },
  {
   "cell_type": "raw",
   "id": "88f87952-d15b-42ff-9d54-e581aefc8961",
   "metadata": {
    "id": "88f87952-d15b-42ff-9d54-e581aefc8961",
    "tags": []
   },
   "source": [
    "# Own archi base on P.349 livre \"Deep Learning with Python 2nd edition\"\n",
    "def architecture403(f_opti, f_loss, f_metrics, max_tokens):\n",
    "        \n",
    "    inputs = keras.Input(shape=(max_tokens,), dtype=\"int64\")\n",
    "    \n",
    "    # x = embedding(inputs)\n",
    "    x = layers.Dense(128, activation='relu')(inputs)\n",
    "    x = layers.Dropout(0.2)(x)\n",
    "    x = layers.Dense(64, activation='relu')(x)\n",
    "    x = layers.Dropout(0.2)(x)\n",
    "    x = layers.Dense(32, activation='relu')(x)\n",
    "    x = layers.Dropout(0.1)(x)\n",
    "    \n",
    "    predictions = layers.Dense(1, activation='sigmoid', name='predictions')(x)\n",
    "    \n",
    "    model = keras.Model(inputs, predictions)\n",
    "    model.compile(loss=f_loss, optimizer=f_opti, metrics=f_metrics)\n",
    "    \n",
    "    return model, \"OHE Dense 128 + Dropout 0.2 + Dense 64 + Dropout 0.2 + Dense 32 + Dropout 0.1\""
   ]
  },
  {
   "cell_type": "markdown",
   "id": "0238bf65-451a-488f-9b8d-d2c6b34aa4f4",
   "metadata": {
    "id": "0238bf65-451a-488f-9b8d-d2c6b34aa4f4"
   },
   "source": [
    "### Définissons les fonctions utiles à l'`embedding`"
   ]
  },
  {
   "cell_type": "code",
   "execution_count": 22,
   "id": "70a999f7",
   "metadata": {
    "executionInfo": {
     "elapsed": 686,
     "status": "ok",
     "timestamp": 1659976379356,
     "user": {
      "displayName": "Valkea",
      "userId": "01476199649418572392"
     },
     "user_tz": -120
    },
    "id": "70a999f7",
    "tags": []
   },
   "outputs": [],
   "source": [
    "## EMBEDDING ##\n",
    "\n",
    "from gensim.models import KeyedVectors\n",
    "import gensim.downloader as api\n",
    "\n",
    "def load_gensim_embedding(embedding_name, binary=False):\n",
    "    \n",
    "    embedding_path = pathlib.Path(pathlib.Path().absolute(), 'data', 'embedding_models', f'{embedding_name}.gz')\n",
    "    try:\n",
    "        if embedding_path.is_file():\n",
    "            print(f\"Loading from {embedding_path}\")\n",
    "            embedding_model = KeyedVectors.load_word2vec_format(embedding_path, binary=binary)\n",
    "        else:\n",
    "            print(\"Loading from the Git repos with API\")\n",
    "            embedding_model = api.load(embedding_name)\n",
    "            \n",
    "        return embedding_model\n",
    "    except Exception as e:\n",
    "        print(f\"The provided embedding model couldn't be loaded correctly: {e}\")\n",
    "        \n",
    "def convert_embedding_matrix(vocabulary, embeddings_index, max_tokens, embedding_dim=100):\n",
    "    \n",
    "    hits = 0\n",
    "    misses = 0\n",
    "    misses_list = []\n",
    "    \n",
    "    word_index = dict(zip(vocabulary, range(len(vocabulary))))\n",
    "    \n",
    "    embedding_matrix = np.zeros((max_tokens, embedding_dim))\n",
    "    \n",
    "    for word, i in word_index.items():\n",
    "        if i < max_tokens:\n",
    "            try:\n",
    "                embedding_vector = embeddings_index.get_vector(word)\n",
    "            except AttributeError:\n",
    "                embedding_vector = embeddings_index.get(word)\n",
    "            except KeyError:\n",
    "                embedding_vector = None\n",
    "        if embedding_vector is not None:\n",
    "            hits += 1\n",
    "            embedding_matrix[i] = embedding_vector\n",
    "        else:\n",
    "            misses += 1\n",
    "            misses_list.append(word)\n",
    "            \n",
    "    print(f\"Converted {hits} words, and couldn't find {misses} words\")\n",
    "    print(f\"Missing words: {misses_list}\")\n",
    "            \n",
    "    return embedding_matrix"
   ]
  },
  {
   "cell_type": "markdown",
   "id": "fe476b92-501a-4c20-bc6b-cd8e16e1a54a",
   "metadata": {
    "id": "fe476b92-501a-4c20-bc6b-cd8e16e1a54a"
   },
   "source": [
    "### Définissons les `fonctions et paramètres commun` à l'entrainement des différents modèles que l'on veut tester"
   ]
  },
  {
   "cell_type": "code",
   "execution_count": 23,
   "id": "49e6994b-1eb7-46e5-a373-98403ef4b1ac",
   "metadata": {
    "executionInfo": {
     "elapsed": 4,
     "status": "ok",
     "timestamp": 1659976379895,
     "user": {
      "displayName": "Valkea",
      "userId": "01476199649418572392"
     },
     "user_tz": -120
    },
    "id": "49e6994b-1eb7-46e5-a373-98403ef4b1ac"
   },
   "outputs": [],
   "source": [
    "# DagsHub \n",
    "\n",
    "def save_hyperparameters_to_dagshub(dlogger, model_name, archi_desc, layers, batch_size, sample_size):    \n",
    "    dlogger.log_hyperparams(model_name=model_name)\n",
    "    dlogger.log_hyperparams(archi_desc=archi_desc)\n",
    "    dlogger.log_hyperparams(layers=layers)\n",
    "    dlogger.log_hyperparams(batch_size=batch_size)\n",
    "    dlogger.log_hyperparams(sample_size=sample_size)\n",
    "    \n",
    "def save_metrics_to_dagshub(dlogger, scores, best_threshold, history, step_num=1000, close=True):\n",
    "    dlogger.log_metrics(scores, step_num=step_num)\n",
    "    dlogger.log_metrics(best_threshold=best_threshold, step_num=step_num)\n",
    "    add_scores_to_dagshub(dlogger, history)\n",
    "\n",
    "def get_layers_for_dagshub(model):\n",
    "    \n",
    "    layers_infos = []\n",
    "    \n",
    "    def search(layer):\n",
    "        layer = dict(layer)\n",
    "        \n",
    "        nonlocal layers_infos\n",
    "        \n",
    "        if 'config' in layer:\n",
    "    \n",
    "            #if 'name' in layer['config']:\n",
    "            #    print(\" name:\", layer['config']['name'])\n",
    "            conf = {}\n",
    "            if 'units' in layer['config']:\n",
    "                conf[\"units\"] = layer['config']['units']\n",
    "            if 'output_dim' in layer['config']:\n",
    "                conf['output_dim'] = layer['config']['output_dim']\n",
    "            if 'rate' in layer['config']:\n",
    "                conf['rate'] = layer['config']['rate']\n",
    "            \n",
    "            layers_infos.append((layer['class_name'], conf))\n",
    "            \n",
    "            if 'layer' in layer['config']:\n",
    "                search(layer['config']['layer'])\n",
    "        \n",
    "    for layer in model.get_config()['layers']:\n",
    "        search(layer)\n",
    "        \n",
    "    return layers_infos\n",
    "\n",
    "\n",
    "def add_scores_to_dagshub(dlogger, history):\n",
    "    for epoch, loss, accuracy, val_loss, val_accuracy in zip(\n",
    "        history.epoch, \n",
    "        history.history['loss'], \n",
    "        history.history['accuracy'], \n",
    "        history.history['val_loss'], \n",
    "        history.history['val_accuracy']):\n",
    "        scores = {\n",
    "            'loss':loss, \n",
    "            'accuracy':accuracy, \n",
    "            'val_loss':val_loss, \n",
    "            'val_accuracy':val_accuracy\n",
    "        }\n",
    "        dlogger.log_metrics(scores, step_num=epoch) "
   ]
  },
  {
   "cell_type": "code",
   "execution_count": 24,
   "id": "3c9423ee-05a0-423e-a4dd-6f7448a82558",
   "metadata": {
    "executionInfo": {
     "elapsed": 7,
     "status": "ok",
     "timestamp": 1659976382115,
     "user": {
      "displayName": "Valkea",
      "userId": "01476199649418572392"
     },
     "user_tz": -120
    },
    "id": "3c9423ee-05a0-423e-a4dd-6f7448a82558",
    "tags": []
   },
   "outputs": [],
   "source": [
    "def summarize_diagnostics(history):\n",
    "    \n",
    "    figure = plt.figure(figsize=(8,8))\n",
    "            \n",
    "    # plot loss\n",
    "    plt.subplot(211)\n",
    "    plt.title('Cross Entropy Loss')\n",
    "    plt.plot(history.history['loss'], color='blue', label='train')\n",
    "    plt.plot(history.history['val_loss'], color='orange', label='val')\n",
    "    plt.legend()\n",
    "    \n",
    "    # plot accuracy\n",
    "    plt.subplot(212)\n",
    "    plt.title('Classification Accuracy')\n",
    "    plt.plot(history.history['accuracy'], color='blue', label='train')\n",
    "    plt.plot(history.history['val_accuracy'], color='orange', label='val')\n",
    "    plt.legend()\n",
    "    \n",
    "    # save plot to file\n",
    "    #filename = sys.argv[0].split('/')[-1]\n",
    "    #plt.savefig(filename + '_plot.png')\n",
    "    #plt.close()\n",
    "    \n",
    "    plt.tight_layout(pad=1.0)"
   ]
  },
  {
   "cell_type": "code",
   "execution_count": 25,
   "id": "1223fbe9-8e24-48ed-8b64-0ce908f9eb0c",
   "metadata": {
    "executionInfo": {
     "elapsed": 6,
     "status": "ok",
     "timestamp": 1659976382116,
     "user": {
      "displayName": "Valkea",
      "userId": "01476199649418572392"
     },
     "user_tz": -120
    },
    "id": "1223fbe9-8e24-48ed-8b64-0ce908f9eb0c",
    "tags": []
   },
   "outputs": [],
   "source": [
    "from keras import layers\n",
    "from keras.callbacks import EarlyStopping, ModelCheckpoint, Callback, ReduceLROnPlateau\n",
    "\n",
    "def init_callbacks(model_name):\n",
    "\n",
    "    # Define savepoints\n",
    "    filepath = pathlib.Path(\"models\", f\"{model_name}.keras\")\n",
    "\n",
    "    checkpoint = ModelCheckpoint(\n",
    "        monitor=\"val_accuracy\",\n",
    "        mode=\"max\",\n",
    "        filepath=filepath,\n",
    "        save_best_only=True,\n",
    "        verbose=1,\n",
    "    )\n",
    "\n",
    "    # Define EarlyStopping conditions\n",
    "    es = EarlyStopping(\n",
    "        monitor='val_loss', # 'binary_accuracy'\n",
    "        mode='min', # 'max'\n",
    "        patience=5,\n",
    "        min_delta=0.01, \n",
    "        restore_best_weights=True, \n",
    "        verbose=1,\n",
    "    )\n",
    "    \n",
    "    return [checkpoint, es]"
   ]
  },
  {
   "cell_type": "code",
   "execution_count": 25,
   "id": "f494779a-a683-4347-b6df-c11227f5d42c",
   "metadata": {
    "executionInfo": {
     "elapsed": 6,
     "status": "ok",
     "timestamp": 1659980206901,
     "user": {
      "displayName": "Valkea",
      "userId": "01476199649418572392"
     },
     "user_tz": -120
    },
    "id": "ec24ce1a-892d-4a4b-8665-f94c1644a58d",
    "tags": []
   },
   "outputs": [],
   "source": [
    "batch_size=4096"
   ]
  },
  {
   "cell_type": "markdown",
   "id": "f0781d8d-18b6-48d6-b8e1-78b477a6a950",
   "metadata": {
    "id": "f0781d8d-18b6-48d6-b8e1-78b477a6a950"
   },
   "source": [
    "### Divisons le jeu de données en `Train`, `Valid` et `Test` sets"
   ]
  },
  {
   "cell_type": "code",
   "execution_count": 31,
   "id": "b82c0e76-ce59-4288-b1c5-93415a997b72",
   "metadata": {
    "colab": {
     "base_uri": "https://localhost:8080/"
    },
    "executionInfo": {
     "elapsed": 2707,
     "status": "ok",
     "timestamp": 1659978697420,
     "user": {
      "displayName": "Valkea",
      "userId": "01476199649418572392"
     },
     "user_tz": -120
    },
    "id": "b82c0e76-ce59-4288-b1c5-93415a997b72",
    "outputId": "199f13e5-5f79-403b-ebbd-905ce1f00db3",
    "tags": []
   },
   "outputs": [
    {
     "name": "stdout",
     "output_type": "stream",
     "text": [
      "X_train: (1162231,) + X_valid: (145280,) + X_test: (145280,)\n",
      "y_train: (1162231,) + y_valid: (145280,) + y_test: (145280,)\n"
     ]
    }
   ],
   "source": [
    "X_train_full, X_test, y_train_full, y_test = train_test_split(data_work['text'], data_work['target'], test_size=0.1, random_state=random_seed, stratify=data_work['target'])\n",
    "X_train, X_valid, y_train, y_valid = train_test_split(X_train_full, y_train_full, test_size=X_test.shape[0], random_state=random_seed, stratify=y_train_full)\n",
    "\n",
    "assert X_train.shape[0] + X_valid.shape[0] + X_test.shape[0] == data_work.shape[0]\n",
    "assert y_train.shape[0] + y_valid.shape[0] + y_test.shape[0] == data_work.shape[0]\n",
    "\n",
    "print(f\"X_train: {X_train.shape} + X_valid: {X_valid.shape} + X_test: {X_test.shape}\")\n",
    "print(f\"y_train: {X_train.shape} + y_valid: {X_valid.shape} + y_test: {X_test.shape}\")"
   ]
  },
  {
   "cell_type": "markdown",
   "id": "e8c0f6d4-f5fd-4c34-a3ee-234afddfe4cf",
   "metadata": {
    "id": "e8c0f6d4-f5fd-4c34-a3ee-234afddfe4cf"
   },
   "source": [
    "---\n",
    "---\n",
    "# 2. Recherche de l'`architecture` la plus adaptée <a class=\"anchor\" id=\"ARCHI\"></a> [⇪](#menu)"
   ]
  },
  {
   "cell_type": "markdown",
   "id": "7605df82-81f6-49bc-96cf-6e1f640c5eec",
   "metadata": {
    "id": "7605df82-81f6-49bc-96cf-6e1f640c5eec",
    "tags": []
   },
   "source": [
    "### Préparons des train, valid et test set avec l'embedding retenu [Ngram=1 | int | GloveTwitter200-gensim Embedding + MASK + NOT Trainable]"
   ]
  },
  {
   "cell_type": "markdown",
   "id": "3cb3f088-ca3b-4d2c-867a-639f55bde61c",
   "metadata": {
    "id": "3cb3f088-ca3b-4d2c-867a-639f55bde61c"
   },
   "source": [
    "#### Standardize & Tokenize"
   ]
  },
  {
   "cell_type": "code",
   "execution_count": 48,
   "id": "4b6ef6d0-a929-4d28-8732-25eb4871b224",
   "metadata": {
    "executionInfo": {
     "elapsed": 478,
     "status": "ok",
     "timestamp": 1659979088194,
     "user": {
      "displayName": "Valkea",
      "userId": "01476199649418572392"
     },
     "user_tz": -120
    },
    "id": "4b6ef6d0-a929-4d28-8732-25eb4871b224",
    "tags": []
   },
   "outputs": [],
   "source": [
    "max_length = 60\n",
    "max_tokens = 20000\n",
    "\n",
    "text_vectorizationB7 = TextVectorization(\n",
    "    output_mode='int', # int, multi_hot, count, tf_idf\n",
    "    max_tokens=max_tokens,\n",
    "    ngrams=1,\n",
    "    output_sequence_length=max_length # search the max size by default\n",
    ")"
   ]
  },
  {
   "cell_type": "code",
   "execution_count": 49,
   "id": "xngEsnFscGYf",
   "metadata": {
    "executionInfo": {
     "elapsed": 4362,
     "status": "ok",
     "timestamp": 1659979093094,
     "user": {
      "displayName": "Valkea",
      "userId": "01476199649418572392"
     },
     "user_tz": -120
    },
    "id": "xngEsnFscGYf"
   },
   "outputs": [],
   "source": [
    "text_dataset = tf.data.Dataset.from_tensor_slices(list(data_work.text)) "
   ]
  },
  {
   "cell_type": "code",
   "execution_count": 50,
   "id": "ded2bc4b-1068-4aea-bb0a-aa2af3121493",
   "metadata": {
    "executionInfo": {
     "elapsed": 7631,
     "status": "ok",
     "timestamp": 1659979100718,
     "user": {
      "displayName": "Valkea",
      "userId": "01476199649418572392"
     },
     "user_tz": -120
    },
    "id": "ded2bc4b-1068-4aea-bb0a-aa2af3121493",
    "tags": []
   },
   "outputs": [],
   "source": [
    "text_vectorizationB7.adapt(text_dataset.batch(batch_size), True)"
   ]
  },
  {
   "cell_type": "code",
   "execution_count": 51,
   "id": "f742550c-5b66-4126-968f-ce5372c0440b",
   "metadata": {
    "colab": {
     "base_uri": "https://localhost:8080/"
    },
    "executionInfo": {
     "elapsed": 13,
     "status": "ok",
     "timestamp": 1659979100719,
     "user": {
      "displayName": "Valkea",
      "userId": "01476199649418572392"
     },
     "user_tz": -120
    },
    "id": "f742550c-5b66-4126-968f-ce5372c0440b",
    "outputId": "8b3c169f-8bd9-490d-d0a2-06ee97f537d6",
    "tags": []
   },
   "outputs": [
    {
     "name": "stdout",
     "output_type": "stream",
     "text": [
      "['', '[UNK]', 'i', 'be', 'to', 'the', 'a', 'not', 'my', 'and', 'it', 'you', 'have', 'do', 'for', 'in', 'go', 'of', 'that', 'get'] ...\n"
     ]
    }
   ],
   "source": [
    "print(text_vectorizationB7.get_vocabulary()[:20], \"...\")"
   ]
  },
  {
   "cell_type": "markdown",
   "id": "3175e978-7881-456b-ba9a-a94ec48636ee",
   "metadata": {
    "id": "3175e978-7881-456b-ba9a-a94ec48636ee"
   },
   "source": [
    "#### Prepare dataset"
   ]
  },
  {
   "cell_type": "code",
   "execution_count": 52,
   "id": "3cb8b87e-0554-4394-b59c-12258250dd6a",
   "metadata": {
    "executionInfo": {
     "elapsed": 6019,
     "status": "ok",
     "timestamp": 1659979112023,
     "user": {
      "displayName": "Valkea",
      "userId": "01476199649418572392"
     },
     "user_tz": -120
    },
    "id": "3cb8b87e-0554-4394-b59c-12258250dd6a",
    "tags": []
   },
   "outputs": [],
   "source": [
    "X_train_ready = text_vectorizationB7(X_train)\n",
    "X_valid_ready = text_vectorizationB7(X_valid)\n",
    "X_test_ready = text_vectorizationB7(X_test)"
   ]
  },
  {
   "cell_type": "code",
   "execution_count": 53,
   "id": "b34fb72a-016e-4794-a929-9810835d4922",
   "metadata": {
    "colab": {
     "base_uri": "https://localhost:8080/"
    },
    "executionInfo": {
     "elapsed": 11,
     "status": "ok",
     "timestamp": 1659979112024,
     "user": {
      "displayName": "Valkea",
      "userId": "01476199649418572392"
     },
     "user_tz": -120
    },
    "id": "b34fb72a-016e-4794-a929-9810835d4922",
    "outputId": "9e79114a-5371-46cf-bf50-442d1602f547",
    "tags": []
   },
   "outputs": [
    {
     "data": {
      "text/plain": [
       "1299507    want to get sims 3 ! luck you miranda ! eat a ...\n",
       "757441     so , who be missing from this list ? 1 more ri...\n",
       "Name: text, dtype: object"
      ]
     },
     "execution_count": 53,
     "metadata": {},
     "output_type": "execute_result"
    }
   ],
   "source": [
    "X_train[:2]"
   ]
  },
  {
   "cell_type": "code",
   "execution_count": 54,
   "id": "3a754c98-344a-4c0e-bb74-b696921d2c99",
   "metadata": {
    "colab": {
     "base_uri": "https://localhost:8080/"
    },
    "executionInfo": {
     "elapsed": 505,
     "status": "ok",
     "timestamp": 1659979112523,
     "user": {
      "displayName": "Valkea",
      "userId": "01476199649418572392"
     },
     "user_tz": -120
    },
    "id": "3a754c98-344a-4c0e-bb74-b696921d2c99",
    "outputId": "a06966f2-dc9d-4df0-9fa2-0431ee96aa2f",
    "tags": []
   },
   "outputs": [
    {
     "data": {
      "text/plain": [
       "<tf.Tensor: shape=(2, 60), dtype=int64, numpy=\n",
       "array([[  53,    4,   19, 2912,  110,  293,   11, 6864,  154,    6,    1,\n",
       "        8084,   20,    6, 7709,  110,    0,    0,    0,    0,    0,    0,\n",
       "           0,    0,    0,    0,    0,    0,    0,    0,    0,    0,    0,\n",
       "           0,    0,    0,    0,    0,    0,    0,    0,    0,    0,    0,\n",
       "           0,    0,    0,    0,    0,    0,    0,    0,    0,    0,    0,\n",
       "           0,    0,    0,    0,    0],\n",
       "       [  21,  150,    3, 6542,   57,   30,  572,  230,   86,  111,    0,\n",
       "           0,    0,    0,    0,    0,    0,    0,    0,    0,    0,    0,\n",
       "           0,    0,    0,    0,    0,    0,    0,    0,    0,    0,    0,\n",
       "           0,    0,    0,    0,    0,    0,    0,    0,    0,    0,    0,\n",
       "           0,    0,    0,    0,    0,    0,    0,    0,    0,    0,    0,\n",
       "           0,    0,    0,    0,    0]])>"
      ]
     },
     "execution_count": 54,
     "metadata": {},
     "output_type": "execute_result"
    }
   ],
   "source": [
    "X_train_ready[:2]"
   ]
  },
  {
   "cell_type": "markdown",
   "id": "be375474-0589-4ce4-9af8-c22fa5c0f2c9",
   "metadata": {
    "id": "be375474-0589-4ce4-9af8-c22fa5c0f2c9"
   },
   "source": [
    "#### Embedding"
   ]
  },
  {
   "cell_type": "code",
   "execution_count": 39,
   "id": "924052e3-e129-4d07-a009-657fe0402c22",
   "metadata": {
    "colab": {
     "base_uri": "https://localhost:8080/"
    },
    "executionInfo": {
     "elapsed": 127280,
     "status": "ok",
     "timestamp": 1659978860116,
     "user": {
      "displayName": "Valkea",
      "userId": "01476199649418572392"
     },
     "user_tz": -120
    },
    "id": "924052e3-e129-4d07-a009-657fe0402c22",
    "outputId": "56143cbe-2cb1-4167-a97b-147738e89cda",
    "tags": []
   },
   "outputs": [
    {
     "name": "stdout",
     "output_type": "stream",
     "text": [
      "Loading from /content/drive/MyDrive/Openclassrooms/AI_P7/data/embedding_models/glove-twitter-200.gz\n"
     ]
    }
   ],
   "source": [
    "embeddings_index = load_gensim_embedding(\"glove-twitter-200\")"
   ]
  },
  {
   "cell_type": "code",
   "execution_count": 40,
   "id": "4239ccd0-97af-4683-8924-e697121deeb9",
   "metadata": {
    "colab": {
     "base_uri": "https://localhost:8080/"
    },
    "collapsed": true,
    "executionInfo": {
     "elapsed": 22,
     "status": "ok",
     "timestamp": 1659978860117,
     "user": {
      "displayName": "Valkea",
      "userId": "01476199649418572392"
     },
     "user_tz": -120
    },
    "id": "4239ccd0-97af-4683-8924-e697121deeb9",
    "jupyter": {
     "outputs_hidden": true
    },
    "outputId": "74bdf9be-8762-4e3a-c257-124e6c1c8baf",
    "tags": []
   },
   "outputs": [
    {
     "name": "stdout",
     "output_type": "stream",
     "text": [
      "Converted 18342 words, and couldn't find 1658 words\n",
      "Missing words: ['', '[UNK]', '2', '3', '4', '1', '5', '10', '6', '8', '7', '30', '100', '12', '9', '20', '1st', '15', '11', '2day', '2nd', '24', 'Â«', '50', 'Ã¢Â\\x99', '25', '3rd', 'b4', '0', 'Â°', '2009', '18', '40', '14', '16', '13', '17', 'Ã¢Â\\x99Â¥', '80', 'e3', '2morrow', '4th', '21', '90', '3d', 'Â©', '2nite', 'wwwtweeteraddercom', '200', '140', '1000', 'booo', '45', 'ughhh', '33', 'wwwtweeterfollowcom', '60', 'gr8', '22', '09', '500', 'f1', '5th', '19', '70', '35', '2moro', 'Â¦', '300', 'ps3', 'boooo', '3gs', '360', 'Ã¯Â¿Â½', '530', '23', '6th', '2010', 'lvatt', '333', '630', '21st', 'youuu', '8th', 'ohhhh', 'every1', '26', 'iÃ¢Â´m', '18th', '430', 'babysitte', '830', '730', 'yayyy', '27', '400', 'spymaster', 'twitterberry', 'asot400', '28', '7th', 'toooo', '930', 'mp3', '2night', '2000', '15th', '1030', 'o2', '17th', 'ewww', '32', '230', 'iÃ¯Â¿Â½m', 'meeee', '330', '9th', '130', 'Â¡', '99', '10th', '19th', '20th', '75', '16th', 'booooo', 'goodmorne', '1130', 'ughhhh', '29', 'g1', 'heyyy', 'dissapointe', '800', 'no1', '13th', 'wwwiamsoannoyedcom', 'some1', 'marsiscome', 'itÃ¢Â´s', '48', '95', 'twitterfon', 'yessss', '2008', '150', '600', '55', '101', 'youuuu', 'w00', '420', 'tooooo', 'loveee', 'ahhhhhh', '700', 'Ã£', '31', 'yeahhh', '34', 'grrrrr', '11th', 'knackere', 'h1n1', 'any1', 'alll', '12th', '100th', '65', 'comicstrip', '25th', '1230', 'Â®', 'owww', 'wayyy', '30th', 'poope', '36', '2mrw', '2moz', 'sum1', '90210', 'allll', 'itÃ¯Â¿Â½s', 'uhhh', 'donÃ¢Â´t', 'ubertwitter', 'methink', 'Â»', '182', 'andyhurleyday', 'inaperfectworld', '85', '247', '5k', '447', 'hollyoak', '10k', 'haveyouever', '64', 'twitterfox', 'sims3', '250', '24th', '3000', '22nd', 'yayyyy', '29th', '900', '42', '26th', 'trackle', 'h8', '2007', '14th', '27th', 'Ã¢Â\\x80Â\\x93', 'misss', 'boooooo', 'awwwwww', '3333', '23rd', 'pleaseee', 'l8r', '630am', 'meeeee', 'gahhh', 'yummm', 't20', 'mannn', 'arghhh', '2hrs', 'gokey', '97', '530am', 'ohhhhh', '38', '44', '120', 'gmorne', '4got', 'goodsex', '98', 'Ã±', 'alllll', '72', 'welll', '39', '2gether', '28th', '10000', 'n97', '110', '08', 'Ã°', '30min', '2006', 'canÃ¢Â´t', 'Ã¢', '1500', 'preppe', '69', 'hooo', 'g2', 'twhirl', 'omggg', 'ewwww', 'toooooo', 'shhh', '46', '1111', 'loveeee', 'funnn', '88', '5000', '1200', 'iÃ¢Â\\x80Â\\x99m', 'donÃ¯Â¿Â½t', 'chuckmemonday', 'Ã¢Â¬Ã¢Â¬', 'ughhhhh', 'ahhhhhhh', 'nowww', '430am', 'fcke', '62', '41', '37', '102', 'vh1', 'errr', '07', 'whyyy', 'knowww', '58', '43', 'yesssss', '105', 'xboxe3', 'whooo', 'ummmm', 'teethe', '96', 'wayyyy', 'p90x', '4ward', 'ps2', 'dayyy', 'bradiewebb', 'youuuuu', 'dontyouhate', 'delongeday', '78', '2b', 'win7', 'twitterbug', 'mcflyforgermany', 'goooo', 'Ã¢Â\\x80', 'Â´', '4ever', '3oh3', '3hrs', 'txte', 'tf2', 'homeee', 'grrrrrr', 'blahhh', '82', 'fuzzball', '51', '140conf', 'whyyyy', 'todayyy', 'asylm', 'shortstack', 'mmwante', '56', '54', '52', '47', 'u2', 't4', 'flylady', 'canÃ¯Â¿Â½t', 'bb10', 'chesterday', 'byeee', 'blink182', '49', 'omgggg', 'lolll', '730am', '15min', 'x3', 'wahhh', '1100', 'in2', 'hoppusday', 'heyyyy', '66', 'woohooo', '92', 'w8', 'ie6', 'eu09', 'andyclemmensen', 'awwwwwww', 'allllll', 'yeahhhh', 'hiii', 'boreddd', '830am', '311', '125', 'seee', 'ittt', '1hr', '330am', 'peterfacinelli', 'disapointe', 'cs4', '94', '103', '50th', '31st', 'twibe', 'l4d', '115', 'pakcricket', '1000th', 'Ã°Â½Ã°', 'wwwm2easia', '911', '4get', '228', '106', '06', 'wooohooo', 'waaa', 'shaundiviney', 'owwww', 'bunche', 'amazinggg', '221', 'yayyyyy', 'pleaseeee', 'itÃ¢Â\\x80Â\\x99s', '93', 'kevinjona', 'javaone', 'e71', '77', '63', '545', '2morro', 't0', 'arkansa', '404', '200th', 'uppp', 'sooooooooooo', 'm8', '67', '59', '2morow', '160', 'pwne', 'offf', 'aaahhh', '2x', 'Ã¯Â¿Â½25', 'yummmm', 'meeeeee', 'g4', '79', '68', '4rm', '4hrs', 'yeaaa', 'preordere', 'embarasse', '3hotwords', '1k', '00', 'str8', 'ooohhh', 'lÃ£', 'happybdaykrisallen', 'grrrrrrr', 'booooooo', '71', '645', '3x', 'Ã¯Â¿Â½Ã¯Â¿Â½', 'uhhhh', 'otalia', 'nambu', 'mw2', 'cod4', 'aahhh', '86', '57', '500th', 'l0l', 'iÃ¢Â´ll', '89', '745', '4000', '350', '33333', 'Â¿', 'xbox360', 'ugghhh', 'tireddd', 'saynow', 'mannnn', 'lÃ¯Â¿Â½', 'adium', '904', '2005', 'zenjar', 'shhhh', 'arghhhh', '91', '300th', '180', 'eatte', '61', '2003', '02', 'workkk', 'ahhhhhhhh', '81', '74', '30secondstomar', '20mins', '104', 'sumthe', 'outtt', 'funnnn', '320', '2012', '2001', 'whoooo', 'twittercom', 'mÃ£', 'ie8', 'hellooo', 'awesomeee', '73', '05', 'ummmmm', 'okayyy', '84', '2days', '230am', 'yeee', 'x17live', 'wellll', 'stilll', 'ah1n1', 'aawww', '87', '145', 'lofnotc', 'itttt', '750', '2004', 'somthe', 'everrr', 'bricke', '666', '53', '450', '24hrs', '2011', '20000', '1999', 'whatsmysection', 'waaaa', 'seeee', 'nighttt', 'nawww', 'chillaxe', 'anddd', 'ahhhhhhhhh', '20boysummer', '10min', 'usawantsmcfly', 'robotpickupline', 'os3', 'mÃ¯Â¿Â½', 'gooooo', 'dayyyy', '1800', 'tÃ£', 'shaunjumpnow', 'pfff', 'loveeeee', 'longggg', 'lollll', 'laterrr', 'finnishe', 'ewwwww', '999', '445', '2500', '1015', 'Ã°Â¸', 'wolframalpha', 'twittertakeover', 'rewatche', 'longgg', 'hoooo', 'everrrr', 'donÃ¢Â\\x80Â\\x99t', 'brrr', 'blahhhh', '945', '8d', '3turnoffwords', '1300', '10x', '100000', 'Ã°Â½Ã°Âµ', 'twitteriffic', 'morninggg', 'evry1', 'cgft', 'boooooooo', 'baddd', 'shittt', 'saddd', 'nÃ£', 'multitaske', 'lvtt', 'cÃ¯Â¿Â½', 'beee', '615', '4real', 'youÃ¯Â¿Â½re', 'whyyyyy', 'sucksss', 's3', 'oohhh', 'nowwww', 'mdear', 'gahhhh', 'damnnn', 'c4', 'bingcom', '415', '2k', '199', '112', '04', 'wowww', 'p2', 'missss', 'bookmarke', 'aghhh', '83', '715', '650', '1s', '1600', '123', 'youuuuuu', 'yeeee', 'ughhhhhh', 'tooooooo', 'soderling', 's1', 'meeeeeee', 'iÃ¯Â¿Â½ll', 'hottt', 'hiiii', 'helloooo', 'borke', 'bonker', '8900', '845', '815', '76', '345', '2d', '245', '220', 'knowwww', 'hummm', 'fixreplie', 'destroytwitter', 'day26', 'dailybooth', 'cÃ£Â³', 'conchord', 'beddd', '930am', '5hrs', '130am', 'Ã°Â²', 'Ã¢Â\\x99Âª', 'x2', 'ohhhhhh', 'mcrchat', 'haaaa', 'cÃ¯Â¿Â½i', 'boredddd', 'bejewel', 'be4', '930pm', '2hours', '215', 'yessssss', 'urghhh', 'thatÃ¯Â¿Â½s', 'owwwww', 'nahhh', 'muchhh', 'jonaskevin', 'homeeee', 'cairon', 'byeeee', 'brrrr', 'aweee', '2yr', '107', 'Â·', 'wheee', 'todayyyy', 'tiredddd', 'soooooooooooo', 'buttt', 'alllllll', '630pm', '365', '240', 'Ã¢Â\\x98', 'Ã¢Â\\x80Â\\x94', 'writechat', 'weeeee', 'reallyyy', 'quÃ£', 'photoshoppe', 'grrrrrrrr', 'gettte', 'awwwwwwww', '810', '1000000', 'you3', 'thÃ¯Â¿Â½', 's2', 'n95', 'lmaoooo', 'l8', 'af447', '5d', '40th', '2nyt', '210', '1045', '0o', 'Ã±Â\\x82Ã°', 'vÃ£', 'tumblarity', 'timeee', 'theee', 'pleaseeeee', 'mileymonday', 'jonasliveonfb', 'hmmmmmm', 'heee', 'h2o', 'g0', 'finshe', 'dissappointe', 'amazingggg', '5800', '4eva', '24hr', '230pm', '135', 'upppp', 'sadddd', 'nÃ¯Â¿Â½o', 'nÃ£Â£o', 'noundiessunday', 'mÃ£Â¬nh', 'imisscath', 'heyyyyy', 'hawkcam', 'dissapeare', 'backkk', 'babyyy', 'awaresg', '730pm', '720', '6000', '550', '3days', '340', '333333', '20min', '108', 'Ã°Â·Ã°', 'uggg', 'thanksss', 'quÃ¯Â¿Â½', 'psykoidcom', 'outttt', 'o0', 'niceee', 'n0', 'heartbreake', 'errrr', 'elevensestime', 'canÃ¢Â\\x80Â\\x99t', 'blehhh', 'aaahhhh', 'a1', '915', '530pm', '30stm', '2020', '1145', '03', 'woooooooo', 'wahhhh', 'tomorrowww', 'thatÃ¢Â´s', 'swinge', 'n2', 'mrscjbaran3', 'fuckkk', 'daysss', 'barakatday', 'allway', '3wordsaftersex', '1984', '1215', '10yr', '1030pm', '000', 'tonighttt', 'pingfm', 'oceanup', 'nooooooooooooo', 'nauseate', 'justintv', 'iÃ¢Â´ve', 'hi5', 'hereee', 'geeke', 'embarrase', 'eeeee', 'didnÃ¯Â¿Â½t', 'cuteee', 'awhhh', '710', '7000', '5mins', '50000', '4hours', '400th', '2week', '2002', '1700', '1030am', 'Ã°ÂºÃ°', 'yayyyyyy', 'xxxxxxxxxx', 'waaaaa', 'twpp', 'twidroid', 'twibble', 'souljaboytellem', 'ouchhh', 'hiiiii', 'ginoandfran', 'fecke', 'e4', 'cÃ£Â¡i', '9000', '6hrs', '4yr', '2hr', '170', '1130pm', '01', 'Ã°Âº', 'wuu2', 'twtrcon', 'starwar', 'sorryyy', 'soderle', 'quickpwn', 'overrr', 'lÃ¯Â¿Â½m', 'jaljeera', 'adword', 'aaawww', 'a2', '3k', '2mo', '10mins', 'Ã¢Â£50', 'Ã¢Â\\x80Â¢', 'vÃ¯Â¿Â½', 'uninstalle', 'ultrasn0w', 'uhmmm', 'tinytwitter', 'pregger', 'phplurkcom', 'militarymon', 'jÃ£', 'iÃ¯Â¿Â½ve', 'hearte', 'facebooke', 'bbqe', '512', '4me', '202', '12hrs', '1057', 'yummmmm', 'wohooo', 'uggghhh', 'twenty20', 't2', 'sooooooooooooo', 's0', 'r2', 'mÃ¯Â¿Â½nh', 'myfax', 'khÃ¯Â¿Â½ng', 'imeem', 'hsm3', 'bedddd', 'a7x', '8000', '620', '610', '515', '4u', '2wks', '2maro', '299', '225', '2100', '1995', '109', 'yeahhhhh', 'sanctuarysunday', 's4', 'nÃ¯Â¿Â½y', 'n0w', 'moreee', 'missse', 'm25', 'kutner', 'greattt', 'familyforce5', 'crazyyy', 'bartende', 'amazeball', '920', '640', '3hours', '118', '111', 'woohoooo', 'superrr', 'sf4', 'sarmy', 'radio1', 'photovia', 'partyyy', 'mp3s', 'misssss', 'mannnnn', 'lifeee', 'kickboxe', 'jonkate', 'intreste', 'ie7', 'fiancÃ£', 'dfizzy', 'boreddddd', 'booore', 'booooooooo', 'beejive', 'babyyyy', 'ahhhhhhhhhhh', '8pm', '520', '3hr', '3500', '315', '1900', '1400', '1115', 'Ã¢Â£10', 'youÃ¢Â´re', 'whyitweet', 'wcchicago', 'ulduar', 'ts3', 't3', 'soooooooooooooo', 'scrapbooke', 'os30', 'nowwwww', 'mp4', 'mileyworld', 'midw', 'hiptop', 'goddd', 'gmtv', 'damnnnn', 'cs3', 'aaaahhhh', 'aaaahhh', '910', '830pm', '711', '411', '405', '1hour', '1h', '143', 'Ã±Â\\x80Ã°', 'youÃ¢Â\\x80Â\\x99re', 'youuuuuuu', 'yeaaaa', 'wooohoooo', 'willl', 'wayyyyy', 'votemcfly', 'veryyy', 'twitterena', 'timeeee', 'suckssss', 'sighhh', 'sickkk', 'showerrr', 'shhhhh', 'reformatte', 'phinea', 'ohhhhhhh', 'myyy', 'mehhh', 'me2', 'm3', 'm1', 'luckyyy', 'illl', 'heyyyyyy', 'goooooo', 'gokeyisadouche', 'evrythe', 'ehhhh', 'ecomonday', 'dannygokeyislove', 'classs', 'cafÃ£', 'badddd', 'awwwwwwwww', '500000', '45min', '1996', '1990', '128', '1230am', '100k', 'Ã¬', 'Ã\\xa0', 'woofwednesday', 'welllll', 'weeeeee', 'ughhhhhhh', 'todayi', 'plzzzz', 'paintballe', 'onnnn', 'n64', 'listne', 'jk8', 'jailbreake', 'ittttt', 'herrr', 'hereeee', 'guysss', 'gr88', 'goshhh', 'googlewave', 'firstrecord', 'exciteddd', 'exauste', 'dÃ£', 'decemberist', 'butttt', 'anoye', 'ahhhhhhhhhh', '5min', '4days', '40min', '2mro', '2k9', '2000th', '1245', '1234', '119', '0n', 'yahhh', 'workkkk', 'woolie', 'whooooo', 'v8', 'toooooooo', 'scamme', 'rÃ¡Â»Â\\x93i', 'plurke', 'partyyyy', 'palmpre', 'ne1', 'mrtweet', 'moyle', 'meeeeeeee', 'l0ve', 'keyne', 'hurtsss', 'hellooooo', 'hateee', 'grrrrrrrrr', 'dreamwidth', 'bahhh', 'awesomeeee', '5am', '540', '2h', '280', '20k', '1998', '1994', '130pm', '12hr', '1001', 'Ã¤Â\\x91i', 'Ã¢Â£30', 'wheeee', 'whattt', 'twitpocalypse', 'spazze', 'sims2', 'pooo', 'pawpawty', 'p1', 'ohnoe', 'nethe', 'movieee', 'mousavi', 'm2', 'l4d2', 'isss', 'hotttt', 'hmmmmmmm', 'helll', 'gÃ¯Â¿Â½', 'farmtown', 'exicte', 'diggnation', 'dammm', 'congest', 'bÃ¯Â¿Â½', 'boooore', 'birthdayyy', 'bbc1', 'backkkk', 'amandapalmer', '3ish', '201', '1yr', '190', '175', '151', 'Ã¹', 'Ã±Â\\x83', 'Ã¢Â\\x99Â¥Ã¢Â\\x99Â¥Ã¢Â\\x99Â¥', 'yippeee', 'yeeeee', 'whoaaa', 'whaaa', 'w4', 'up2', 'unfollowdiddy', 'sÃ£Â£o', 'reconnecte', 'r4', 'pleaseeeeeeee', 'mahasha', 'lameee', 'hughe', 'gooooooo', 'friende', 'fowa', 'f0r', 'dudeee', 'congrad', 'chickene', 'brainbone', '7ish', '7am', '5yr', '4a', '401', '2go', '2c', '10pm', '10hrs', '1010', 'Ã°Â´Ã°', 'Ã¢Â£5', 'Ã¢Â\\x99Â¥Ã¢Â\\x99Â¥', 'wtfff', 'weathercom', 'waaahhh', 'uhhhhh', 'thÃ¯Â¿Â½i', 'thingsmummysaid', 'swelter', 'swagbuck', 'sp2', 'sickkkk', 'seeeee', 's60', 'reposte', 'reblip', 'pr0n', 'phoneee', 'oooohhh', 'neeeee', 'n00b', 'mtvmovieaward', 'motwani', 'haaaaa', 'g5', 'foreverrr', 'f4', 'digsby', 'dayssss', 'arggg', '850', '500k', '4am', '3333333', '2pac', '2marrow', '2do', '2am', '235', '1989', '1980', 'Ã¢Â£40', 'wowwww', 'windows7', 'weeeeeee', 'vocÃ£Âª', 'twittascope', 'thatÃ¢Â\\x80Â\\x99s', 'summerrr', 'sighhhh', 'scissorhand', 'saveearl', 'peoplebrowsr', 'nottt', 'nightttt', 'neverende', 'netbean', 'mtvcom', 'loveeeeeee', 'laterrrr', 'iphone30', 'ily2', 'hÃ£', 'hooooo', 'glitche', 'fuckkkk', 'excitedddd', 'ewwwwww', 'echelonday', 'devistate', 'd90', 'congradulation', 'boyyy', 'boore', 'arrr', 'appal', 'aghhhh', 'a330', '6am', '600th', '510', '430pm', '410', '3am', '2get', '25c', '167', '116', 'Ã¯Â¿Â½i', 'Ã¯Â¿Â½a', 'Ã¤Â\\x91Ã¦', 'y0u', 'x64', 'whatttt', 'wayyyyyy', 'vomitte', 'v3', 'thereee', 'stillll', 'stiche', 'shitttt', 'pshhh', 'petewentzday', 'oneee', 'noooooooooooooooo', 'niceeee', 'lolllll', 'kupono', 'jonasbrother', 'iÃ¢Â\\x80Â\\x99ll', 'isnÃ¢Â´t', 'impend', 'hungryyy', 'homeeeee', 'helllll', 'headachey', 'hahahaaa', 'hahaaaa', 'girlll', 'funnnnn', 'frenchieb', 'eeeeeee', 'doesnÃ¢Â´t', 'constipate', 'comeee', 'booooore', 'bcleeds09', 'bbc2', 'apprecaite', 'agesss', '8hrs', '5ish', '555', '4k', '4ish', '3s', '310', '260', '0f', 'Ã±Â\\x87Ã±Â\\x82Ã°Â¾', 'Ã±Â\\x82Ã±Â\\x8c', 'Ã°Â¼', 'Ã¢Â£60', 'Ã¢Â£6', 'yesssssss', 'whyyyyyy', 'wellllll', 'uppppp', 'twitterd', 't1', 'sureee', 'sg1', 'pleaseeeeee', 'playcom', 'ohnotheydidnt', 'notttt', 'kwod', 'jessicaveronica', 'hulucom', 'holyst', 'hickup', 'heeee', 'gta4', 'everrrrr', 'didnÃ¢Â´t', 'day3', 'caffeinate', 'c3', 'bumbe', 'bluebox', 'beatwittyparty', 'bea09', 'bck5', 'babeee', 'awwwwwwwwww', 'awayyy', 'andddd', 'allllllll', 'aahhhh', 'aaawwww', '9pm', '6yr', '50k', '502', '4x', '3yr', '3yo', '34th', '305', '2mora', '2ish', '222', '205', '165', '15000', '138', '131', '121', 'Ã¢Â£15', 'Ã¢Â£100', 'Ã¢Â£1', 'Ã¢Â£', 'yipeee', 'xxxxxxxxxxx', 'wrke', 'wordpresscom', 'whaaaa', 'weirdal', 'wathce', 'waittt', 'waaaaaa', 'ugghhhh', 'tonightttt', 'todayyyyy', 'timesss', 'thÃ£Â¬', 'theeee', 't9', 'sÃ¯Â¿Â½o', 'summerrrr', 'r8', 'oohhhh', 'nhng', 'motherfucke', 'moblin', 'mmmmmmmmmm', 'maddd', 'lmaooooo', 'leare', 'l8er', 'knowwwww', 'jonaslive', 'iconfess', 'i95', 'himmm', 'helloooooo', 'gqmf', 'goodknight', 'flately', 'failwhale', 'examan', 'dddd', 'dayyyyy', 'd60', 'd0nt', 'cÃ¥', 'confusse', 'boooooooooo', 'bfff', '7hrs', '5p', '4hr', '440', '303', '30000', '275', '24hours', '24h', '2200', '1997', '148', '1240', '1130am', '113', '1040', '1020', '100x', 'Ã¢Â£20', 'Ã¢Â\\x98Âº', 'youuuuuuuu', 'x1', 'wooooooooo', 'whatche', 'wakeboarde', 'wahhhhh', 'v2', 'uplifter', 'twollar', 'twitterling', 'tweetgenius', 'tomorrowwww', 'thennn', 'thankssss', 'stufff', 'sooooooooooooooo', 'sleeepe', 'sheÃ¯Â¿Â½s', 'samesexsunday', 'rc1', 'punke', 'plurker', 'phÃ¡ÂºÂ£i', 'opensolaris', 'omggggg', 'okkk', 'noooooooooooooo', 'nackere', 'mortify', 'momoam', 'madddd', 'lÃ¡ÂºÂ¡i', 'lmfaoooo', 'k2', 'jb3d', 'itv2', 'harrasse', 'go2', 'fotc', 'fightstar', 'feeele', 'doesnÃ¯Â¿Â½t', 'dishearten', 'dierk', 'devestate', 'd2', 'btub', 'babyyyyy', 'b2', 'arsis', 'arrrr', 'arghhhhh', 'ammm', 'alreadyyy', 'ahhhhhhhhhhhhh', 'a4', '8p', '80th', '740', '6pm', '64bit', '626', '612', '60th', '500am', '4od', '499', '399', '330pm', '30k', '2u', '1993', '1988', '15hrs', '149', '132', '12k', '129', '124', '1140', '10ish', '1080p', '1050', 'Ã«', 'Ã¡Â»Â£c', 'xiii', 'whocangetit', 'wefollow', 'wacke', 'ughhhhhhhh', 'tÃ¯Â¿Â½', 'twtvite', 'twitterhood', 'sÃ£', 'stavro', 'soreee', 'shitti', 'saddddd', 'rsc2009', 'rodanthe', 'phishe', 'p3', 'owwwwww', 'nooooooooooooooo', 'nemonemesis', 'muchhhh', 'missssss', 'millvina', 'macstorie', 'm6', 'loveeeeee', 'jumpnow', 'jizze', 'indiavotes09', 'goie', 'gahhhhh', 'fuqtwitter', 'fuckkkkk', 'freeee', 'fnwc', 'fineee', 'f5', 'dvre', 'duhhh', 'doneee', 'doesnÃ¢Â\\x80Â\\x99t', 'd3', 'd0', 'cÃ¯Â¿Â½n', 'chÃ¡', 'chuckeu', 'boringgg', 'biggg', 'basij', 'b2b', 'asss', 'ahaaa', 'aaahhhhh', '995', '940', '900th', '820', '7pm', '705', '700th', '645am', '5pm', '5days', '5050', '4give', '40k', '40000', '38th', '301', '2morra', '2mor', '255', '2300', '212', '200000', '168', '122', '12000', '11pm', '114', 'Ã¸Â§Ã¹Â\\x84Ã¹', 'Ã°Â¼Ã°', 'Ã¯Â¿Â½ber', 'Ã¯Â¿Â½10', 'Ã¢Â£200', 'yuppp', 'yayyyyyyy', 'yaaayyy', 'whatÃ¯Â¿Â½s', 'waaayyy', 'uxlondon', 'ugggg', 'ufff', 'twittz', 'twitterrrr', 'tlke', 'thÃ¡ÂºÂ¥y', 'ss501', 'squeee', 'sible', 'sgtweetup', 'reliste', 'reallyyyy', 'realllyyy', 'rainboot', 'r1', 'pussycatisland', 'pmse', 'outdate', 'offff', 'nhÃ¯Â¿Â½', 'mÃ¡Â»Â\\x9bi', 'morningggg', 'meeeeeeeee', 'loooke', 'life3', 'left4dead', 'l8ter', 'khÃ£Â´ng', 'jonasparanoid', 'iiii']\n"
     ]
    },
    {
     "data": {
      "text/plain": [
       "array([[ 0.        ,  0.        ,  0.        , ...,  0.        ,\n",
       "         0.        ,  0.        ],\n",
       "       [ 0.        ,  0.        ,  0.        , ...,  0.        ,\n",
       "         0.        ,  0.        ],\n",
       "       [ 0.056404  ,  0.49535999,  0.18438999, ...,  0.63598001,\n",
       "        -0.18880001, -0.035558  ],\n",
       "       ...,\n",
       "       [ 0.72455001,  0.25867   , -0.47130001, ...,  0.070051  ,\n",
       "         0.26725   ,  0.56497002],\n",
       "       [ 0.078626  ,  0.71658999, -0.33689001, ...,  0.34603   ,\n",
       "        -0.23097999,  0.1068    ],\n",
       "       [ 0.        ,  0.        ,  0.        , ...,  0.        ,\n",
       "         0.        ,  0.        ]])"
      ]
     },
     "execution_count": 40,
     "metadata": {},
     "output_type": "execute_result"
    }
   ],
   "source": [
    "embedding_dim = 200\n",
    "vocabulary = text_vectorizationB7.get_vocabulary()\n",
    "embedding_matrix = convert_embedding_matrix(vocabulary, embeddings_index, max_tokens, embedding_dim)\n",
    "embedding_matrix"
   ]
  },
  {
   "cell_type": "markdown",
   "id": "9ac92d68-4a4e-4e65-87f9-55a7ba3db0f0",
   "metadata": {
    "id": "9ac92d68-4a4e-4e65-87f9-55a7ba3db0f0"
   },
   "source": [
    "---\n",
    "## 2.1 `Archi-REF` Bi-LSTM 32 + Dropout 0.5 *(l'architecture de référence utilisée dans les autres notebooks)* <a class=\"anchor\" id=\"ARCHI_REF\"></a> [⇪](#menu)"
   ]
  },
  {
   "cell_type": "code",
   "execution_count": 36,
   "id": "4a05fa32-1c42-4b9f-9f57-1c8a298412e8",
   "metadata": {
    "executionInfo": {
     "elapsed": 15,
     "status": "ok",
     "timestamp": 1659980378217,
     "user": {
      "displayName": "Valkea",
      "userId": "01476199649418572392"
     },
     "user_tz": -120
    },
    "id": "2612e7a5-7bea-4d7b-97b0-612228447945",
    "tags": []
   },
   "outputs": [],
   "source": [
    "# Embedding avec masque\n",
    "embedding_layer = layers.Embedding(\n",
    "    input_dim=max_tokens,\n",
    "    output_dim=embedding_dim,\n",
    "    embeddings_initializer=keras.initializers.Constant(embedding_matrix),\n",
    "    # input_length=max_length,\n",
    "    mask_zero=True,\n",
    "    trainable=False, # <== default is True\n",
    "    name=\"embedding_GloVe_Twitter_200d\",\n",
    ")"
   ]
  },
  {
   "cell_type": "code",
   "execution_count": 37,
   "id": "6c35c938-b774-446c-851b-d8d44e883b00",
   "metadata": {
    "executionInfo": {
     "elapsed": 2735,
     "status": "ok",
     "timestamp": 1659980380938,
     "user": {
      "displayName": "Valkea",
      "userId": "01476199649418572392"
     },
     "user_tz": -120
    },
    "id": "ac18560f-b9c1-4e94-bbb4-4d2d02e753c5",
    "tags": []
   },
   "outputs": [],
   "source": [
    "model_name = \"ArchiREF\"\n",
    "model, archi_desc = architectureREF(\"adam\", \"binary_crossentropy\", ['accuracy'], embedding_layer)"
   ]
  },
  {
   "cell_type": "code",
   "execution_count": 38,
   "id": "09cb4605-57f9-4729-b9d5-e8a4840a2729",
   "metadata": {
    "colab": {
     "base_uri": "https://localhost:8080/"
    },
    "executionInfo": {
     "elapsed": 36,
     "status": "ok",
     "timestamp": 1659980380939,
     "user": {
      "displayName": "Valkea",
      "userId": "01476199649418572392"
     },
     "user_tz": -120
    },
    "id": "339eea31-e34c-4fa0-87d4-887ec521d007",
    "outputId": "4510fb0e-9576-489b-a9e0-a02731c9c08f",
    "tags": []
   },
   "outputs": [
    {
     "name": "stdout",
     "output_type": "stream",
     "text": [
      "Model: \"model\"\n",
      "_________________________________________________________________\n",
      " Layer (type)                Output Shape              Param #   \n",
      "=================================================================\n",
      " input_1 (InputLayer)        [(None, None)]            0         \n",
      "                                                                 \n",
      " embedding_GloVe_Twitter_200  (None, None, 200)        4000000   \n",
      " d (Embedding)                                                   \n",
      "                                                                 \n",
      " bidirectional (Bidirectiona  (None, 64)               59648     \n",
      " l)                                                              \n",
      "                                                                 \n",
      " dropout (Dropout)           (None, 64)                0         \n",
      "                                                                 \n",
      " predictions (Dense)         (None, 1)                 65        \n",
      "                                                                 \n",
      "=================================================================\n",
      "Total params: 4,059,713\n",
      "Trainable params: 59,713\n",
      "Non-trainable params: 4,000,000\n",
      "_________________________________________________________________\n"
     ]
    }
   ],
   "source": [
    "model.summary()"
   ]
  },
  {
   "cell_type": "markdown",
   "id": "9e8c7c78-9d94-47f7-ac71-3f49f86c6a49",
   "metadata": {
    "id": "33faf204-03e0-48d8-99b9-9aee3bc00ba3"
   },
   "source": [
    "#### Définissons un logger DagsHub pour enregistrer notre essai"
   ]
  },
  {
   "cell_type": "code",
   "execution_count": 39,
   "id": "5b8b3a83-f9ba-4811-94a5-59fee7067bb7",
   "metadata": {
    "executionInfo": {
     "elapsed": 24,
     "status": "ok",
     "timestamp": 1659980380940,
     "user": {
      "displayName": "Valkea",
      "userId": "01476199649418572392"
     },
     "user_tz": -120
    },
    "id": "8f5c52a9-ab2a-4443-b5e6-ba2675ee413f"
   },
   "outputs": [],
   "source": [
    "dagslogger = DAGsHubLogger()"
   ]
  },
  {
   "cell_type": "code",
   "execution_count": 40,
   "id": "eb7be077-7771-4fd2-85ad-be55cb510bc3",
   "metadata": {
    "executionInfo": {
     "elapsed": 24,
     "status": "ok",
     "timestamp": 1659980380942,
     "user": {
      "displayName": "Valkea",
      "userId": "01476199649418572392"
     },
     "user_tz": -120
    },
    "id": "89096d1d-f1da-42a7-9b1f-6322f59228b6"
   },
   "outputs": [],
   "source": [
    "save_hyperparameters_to_dagshub(dagslogger, model_name, archi_desc, get_layers_for_dagshub(model), batch_size, data_work.shape[0])"
   ]
  },
  {
   "cell_type": "markdown",
   "id": "213e7fd1-2dd1-45d6-a798-071bd2766f29",
   "metadata": {
    "id": "c8f4830a-0a62-4343-96a3-010809bc765c"
   },
   "source": [
    "### Train model"
   ]
  },
  {
   "cell_type": "code",
   "execution_count": 41,
   "id": "af5116d1-5252-4ddf-8953-f357e5eb7cc1",
   "metadata": {
    "colab": {
     "base_uri": "https://localhost:8080/"
    },
    "executionInfo": {
     "elapsed": 445045,
     "status": "ok",
     "timestamp": 1659980825967,
     "user": {
      "displayName": "Valkea",
      "userId": "01476199649418572392"
     },
     "user_tz": -120
    },
    "id": "UQ6DeckpicH2",
    "outputId": "b259043c-ff15-4ae3-f7f6-2deaa28002a3",
    "tags": []
   },
   "outputs": [
    {
     "name": "stdout",
     "output_type": "stream",
     "text": [
      "Epoch 1/100\n",
      "284/284 [==============================] - ETA: 0s - loss: 0.4924 - accuracy: 0.7594\n",
      "Epoch 1: val_accuracy improved from -inf to 0.79089, saving model to models/ArchiREF.keras\n",
      "284/284 [==============================] - 37s 103ms/step - loss: 0.4924 - accuracy: 0.7594 - val_loss: 0.4460 - val_accuracy: 0.7909\n",
      "Epoch 2/100\n",
      "284/284 [==============================] - ETA: 0s - loss: 0.4408 - accuracy: 0.7954\n",
      "Epoch 2: val_accuracy improved from 0.79089 to 0.80328, saving model to models/ArchiREF.keras\n",
      "284/284 [==============================] - 28s 99ms/step - loss: 0.4408 - accuracy: 0.7954 - val_loss: 0.4251 - val_accuracy: 0.8033\n",
      "Epoch 3/100\n",
      "284/284 [==============================] - ETA: 0s - loss: 0.4253 - accuracy: 0.8047\n",
      "Epoch 3: val_accuracy improved from 0.80328 to 0.80995, saving model to models/ArchiREF.keras\n",
      "284/284 [==============================] - 28s 97ms/step - loss: 0.4253 - accuracy: 0.8047 - val_loss: 0.4141 - val_accuracy: 0.8099\n",
      "Epoch 4/100\n",
      "284/284 [==============================] - ETA: 0s - loss: 0.4152 - accuracy: 0.8106\n",
      "Epoch 4: val_accuracy improved from 0.80995 to 0.81297, saving model to models/ArchiREF.keras\n",
      "284/284 [==============================] - 29s 102ms/step - loss: 0.4152 - accuracy: 0.8106 - val_loss: 0.4090 - val_accuracy: 0.8130\n",
      "Epoch 5/100\n",
      "284/284 [==============================] - ETA: 0s - loss: 0.4082 - accuracy: 0.8146\n",
      "Epoch 5: val_accuracy improved from 0.81297 to 0.81518, saving model to models/ArchiREF.keras\n",
      "284/284 [==============================] - 27s 96ms/step - loss: 0.4082 - accuracy: 0.8146 - val_loss: 0.4045 - val_accuracy: 0.8152\n",
      "Epoch 6/100\n",
      "284/284 [==============================] - ETA: 0s - loss: 0.4032 - accuracy: 0.8176\n",
      "Epoch 6: val_accuracy improved from 0.81518 to 0.81801, saving model to models/ArchiREF.keras\n",
      "284/284 [==============================] - 28s 97ms/step - loss: 0.4032 - accuracy: 0.8176 - val_loss: 0.3995 - val_accuracy: 0.8180\n",
      "Epoch 7/100\n",
      "284/284 [==============================] - ETA: 0s - loss: 0.3991 - accuracy: 0.8196\n",
      "Epoch 7: val_accuracy improved from 0.81801 to 0.82026, saving model to models/ArchiREF.keras\n",
      "284/284 [==============================] - 28s 97ms/step - loss: 0.3991 - accuracy: 0.8196 - val_loss: 0.3960 - val_accuracy: 0.8203\n",
      "Epoch 8/100\n",
      "284/284 [==============================] - ETA: 0s - loss: 0.3962 - accuracy: 0.8215\n",
      "Epoch 8: val_accuracy improved from 0.82026 to 0.82121, saving model to models/ArchiREF.keras\n",
      "284/284 [==============================] - 29s 100ms/step - loss: 0.3962 - accuracy: 0.8215 - val_loss: 0.3939 - val_accuracy: 0.8212\n",
      "Epoch 9/100\n",
      "284/284 [==============================] - ETA: 0s - loss: 0.3933 - accuracy: 0.8228\n",
      "Epoch 9: val_accuracy improved from 0.82121 to 0.82192, saving model to models/ArchiREF.keras\n",
      "284/284 [==============================] - 28s 97ms/step - loss: 0.3933 - accuracy: 0.8228 - val_loss: 0.3923 - val_accuracy: 0.8219\n",
      "Epoch 10/100\n",
      "284/284 [==============================] - ETA: 0s - loss: 0.3905 - accuracy: 0.8246\n",
      "Epoch 10: val_accuracy improved from 0.82192 to 0.82309, saving model to models/ArchiREF.keras\n",
      "284/284 [==============================] - 29s 102ms/step - loss: 0.3905 - accuracy: 0.8246 - val_loss: 0.3905 - val_accuracy: 0.8231\n",
      "Epoch 11/100\n",
      "284/284 [==============================] - ETA: 0s - loss: 0.3883 - accuracy: 0.8258\n",
      "Epoch 11: val_accuracy improved from 0.82309 to 0.82397, saving model to models/ArchiREF.keras\n",
      "284/284 [==============================] - 27s 96ms/step - loss: 0.3883 - accuracy: 0.8258 - val_loss: 0.3889 - val_accuracy: 0.8240\n",
      "Epoch 12/100\n",
      "284/284 [==============================] - ETA: 0s - loss: 0.3866 - accuracy: 0.8267\n",
      "Epoch 12: val_accuracy improved from 0.82397 to 0.82476, saving model to models/ArchiREF.keras\n",
      "284/284 [==============================] - 27s 95ms/step - loss: 0.3866 - accuracy: 0.8267 - val_loss: 0.3878 - val_accuracy: 0.8248\n",
      "Epoch 13/100\n",
      "284/284 [==============================] - ETA: 0s - loss: 0.3847 - accuracy: 0.8276\n",
      "Epoch 13: val_accuracy did not improve from 0.82476\n",
      "284/284 [==============================] - 23s 82ms/step - loss: 0.3847 - accuracy: 0.8276 - val_loss: 0.3883 - val_accuracy: 0.8242\n",
      "Epoch 14/100\n",
      "284/284 [==============================] - ETA: 0s - loss: 0.3831 - accuracy: 0.8284\n",
      "Epoch 14: val_accuracy improved from 0.82476 to 0.82599, saving model to models/ArchiREF.keras\n",
      "284/284 [==============================] - 27s 95ms/step - loss: 0.3831 - accuracy: 0.8284 - val_loss: 0.3858 - val_accuracy: 0.8260\n",
      "Epoch 15/100\n",
      "284/284 [==============================] - ETA: 0s - loss: 0.3821 - accuracy: 0.8289\n",
      "Epoch 15: val_accuracy improved from 0.82599 to 0.82645, saving model to models/ArchiREF.keras\n",
      "284/284 [==============================] - 27s 96ms/step - loss: 0.3821 - accuracy: 0.8289 - val_loss: 0.3850 - val_accuracy: 0.8264\n",
      "Epoch 16/100\n",
      "284/284 [==============================] - ETA: 0s - loss: 0.3802 - accuracy: 0.8302\n",
      "Epoch 16: val_accuracy did not improve from 0.82645\n",
      "Restoring model weights from the end of the best epoch: 11.\n",
      "284/284 [==============================] - 23s 81ms/step - loss: 0.3802 - accuracy: 0.8302 - val_loss: 0.3862 - val_accuracy: 0.8253\n",
      "Epoch 16: early stopping\n"
     ]
    }
   ],
   "source": [
    "t0 = time.perf_counter()\n",
    "history = model.fit(\n",
    "        x=X_train_ready, y=y_train, \n",
    "        validation_data=(X_test_ready, y_test), \n",
    "        epochs=100, \n",
    "        batch_size=batch_size, \n",
    "        callbacks=init_callbacks(f\"{model_name}\"),\n",
    "        verbose=1,\n",
    ")\n",
    "train_time = time.perf_counter() - t0"
   ]
  },
  {
   "cell_type": "code",
   "execution_count": 42,
   "id": "c8bb88bd-7b84-4060-9a95-31af85baeba1",
   "metadata": {
    "colab": {
     "base_uri": "https://localhost:8080/",
     "height": 587
    },
    "executionInfo": {
     "elapsed": 760,
     "status": "ok",
     "timestamp": 1659980861137,
     "user": {
      "displayName": "Valkea",
      "userId": "01476199649418572392"
     },
     "user_tz": -120
    },
    "id": "ca864a1e-f7c8-433f-807a-7f881c6ebfce",
    "outputId": "dcc7ed7e-ef89-47c3-92d6-9ad6e991a61e"
   },
   "outputs": [
    {
     "data": {
      "image/png": "[encoded data removed]",
      "text/plain": [
       "<Figure size 576x576 with 2 Axes>"
      ]
     },
     "metadata": {
      "needs_background": "light"
     },
     "output_type": "display_data"
    }
   ],
   "source": [
    "summarize_diagnostics(history)"
   ]
  },
  {
   "cell_type": "markdown",
   "id": "12f5179c-26b1-4ae4-9d0b-ec58eec33836",
   "metadata": {
    "id": "f19558ac-e43c-406f-8703-2614fe1c2b60"
   },
   "source": [
    "### Evaluate"
   ]
  },
  {
   "cell_type": "code",
   "execution_count": 43,
   "id": "e9de5073-4d42-44b2-b1b5-8e01c2a8e1fd",
   "metadata": {
    "executionInfo": {
     "elapsed": 6603,
     "status": "ok",
     "timestamp": 1659980879023,
     "user": {
      "displayName": "Valkea",
      "userId": "01476199649418572392"
     },
     "user_tz": -120
    },
    "id": "290204f5-7dde-4d31-a14f-d63330e72c42",
    "tags": []
   },
   "outputs": [],
   "source": [
    "model = keras.models.load_model(f\"models/{model_name}.keras\")"
   ]
  },
  {
   "cell_type": "code",
   "execution_count": 44,
   "id": "9765f765-e9c9-4e69-b1e2-e304cbbe059d",
   "metadata": {
    "colab": {
     "base_uri": "https://localhost:8080/"
    },
    "executionInfo": {
     "elapsed": 42848,
     "status": "ok",
     "timestamp": 1659980921858,
     "user": {
      "displayName": "Valkea",
      "userId": "01476199649418572392"
     },
     "user_tz": -120
    },
    "id": "c6324b45-8d1c-4ad5-94a0-887f17fa68b3",
    "outputId": "04edf654-74e7-4c01-83ef-0da58526e9ae",
    "tags": []
   },
   "outputs": [
    {
     "name": "stdout",
     "output_type": "stream",
     "text": [
      "4540/4540 [==============================] - 24s 5ms/step - loss: 0.3850 - accuracy: 0.8264\n"
     ]
    },
    {
     "data": {
      "text/plain": [
       "[0.38502031564712524, 0.826445460319519]"
      ]
     },
     "execution_count": 44,
     "metadata": {},
     "output_type": "execute_result"
    }
   ],
   "source": [
    "model.evaluate(X_test_ready, y_test)"
   ]
  },
  {
   "cell_type": "code",
   "execution_count": 45,
   "id": "a62b1a9e-ee17-4aa8-9f3b-164f42247017",
   "metadata": {
    "colab": {
     "base_uri": "https://localhost:8080/"
    },
    "executionInfo": {
     "elapsed": 2664,
     "status": "ok",
     "timestamp": 1659980924515,
     "user": {
      "displayName": "Valkea",
      "userId": "01476199649418572392"
     },
     "user_tz": -120
    },
    "id": "d9f72260-378a-4ce2-ad74-69e678e93e51",
    "outputId": "96162970-661f-4148-9e67-0880f6b034cc",
    "tags": []
   },
   "outputs": [
    {
     "data": {
      "text/plain": [
       "array([[0.03538138],\n",
       "       [0.975183  ]], dtype=float32)"
      ]
     },
     "execution_count": 45,
     "metadata": {},
     "output_type": "execute_result"
    }
   ],
   "source": [
    "raw_txt = tf.convert_to_tensor([\"I hate it\", \"I love it\"])\n",
    "raw_txt = text_vectorizationB7(raw_txt)\n",
    "model.predict(raw_txt)"
   ]
  },
  {
   "cell_type": "code",
   "execution_count": 46,
   "id": "6e926932-1f48-4ea8-b926-7a804b5e1aaa",
   "metadata": {
    "colab": {
     "base_uri": "https://localhost:8080/",
     "height": 1000
    },
    "executionInfo": {
     "elapsed": 44997,
     "status": "ok",
     "timestamp": 1659980969501,
     "user": {
      "displayName": "Valkea",
      "userId": "01476199649418572392"
     },
     "user_tz": -120
    },
    "id": "f0ef149b-7235-48aa-9d76-837b177df139",
    "outputId": "1a2c5433-61a7-47d5-8869-6a94eb3bea52",
    "tags": []
   },
   "outputs": [
    {
     "name": "stdout",
     "output_type": "stream",
     "text": [
      "----------------------------------------------------------------------------------------------------\n",
      "          These information are based on the best estimator of the above cross-validation           \n",
      "----------------------------------------------------------------------------------------------------\n",
      "\n",
      "--- ArchiREF ---------------------------------------------------------------------------------------\n",
      "\n",
      "             ROC_AUC : 0.9075\n",
      "                  F1 : 0.8256\n",
      "            ACCURACY : 0.8264\n",
      "           PRECISION : 0.8237\n",
      "              RECALL : 0.8275\n",
      "   AVERAGE_PRECISION : 0.9081\n",
      "\n",
      "       TRAINING-TIME : 444.8095\n",
      "      INFERENCE-TIME : 42.5195\n",
      "\n",
      "--- Classification Report -------------------------------------------------------------------------- \n",
      "\n",
      "                 precision    recall  f1-score   support\n",
      "\n",
      "Prediction = 0       0.83      0.83      0.83     73165\n",
      "Prediction = 1       0.82      0.83      0.83     72115\n",
      "\n",
      "      accuracy                           0.83    145280\n",
      "     macro avg       0.83      0.83      0.83    145280\n",
      "  weighted avg       0.83      0.83      0.83    145280\n",
      "\n",
      "--- Confusion Matrix ------------------------------------------------------------------------------- \n",
      "\n"
     ]
    },
    {
     "data": {
      "image/png": "[encoded data removed]",
      "text/plain": [
       "<Figure size 432x432 with 2 Axes>"
      ]
     },
     "metadata": {
      "needs_background": "light"
     },
     "output_type": "display_data"
    },
    {
     "name": "stdout",
     "output_type": "stream",
     "text": [
      "--- ROC AUC ---------------------------------------------------------------------------------------- \n",
      "\n"
     ]
    },
    {
     "data": {
      "image/png": "[encoded data removed]",
      "text/plain": [
       "<Figure size 360x360 with 1 Axes>"
      ]
     },
     "metadata": {
      "needs_background": "light"
     },
     "output_type": "display_data"
    },
    {
     "name": "stdout",
     "output_type": "stream",
     "text": [
      "--- PRECISION RECALL AUC --------------------------------------------------------------------------- \n",
      "\n"
     ]
    },
    {
     "data": {
      "image/png": "[encoded data removed]",
      "text/plain": [
       "<Figure size 360x360 with 1 Axes>"
      ]
     },
     "metadata": {
      "needs_background": "light"
     },
     "output_type": "display_data"
    }
   ],
   "source": [
    "_ = get_scores(\n",
    "    model_name,\n",
    "    model=model,\n",
    "    X_ref=X_test_ready,\n",
    "    y_ref=y_test, \n",
    "    threshold=0.5,\n",
    "    # y_pred=y_preds, \n",
    "    # y_pred_proba=y_preds_proba, \n",
    "    training_time=train_time, \n",
    "    # inference_time=inf_time, \n",
    "    dagslogger=dagslogger,\n",
    "    register=True,\n",
    ")"
   ]
  },
  {
   "cell_type": "markdown",
   "id": "4d34e906-7fff-4f7e-bcb1-ac6e7eaea134",
   "metadata": {
    "id": "bd1628eb-a79f-4169-b5a6-57414a15a90b"
   },
   "source": [
    "#### Trouvons le meilleur seuil de séparation pour les prédiction (sur la base du F1 score)"
   ]
  },
  {
   "cell_type": "code",
   "execution_count": 47,
   "id": "2a010b34-a797-4140-9031-b010e5b4cdf5",
   "metadata": {
    "colab": {
     "base_uri": "https://localhost:8080/"
    },
    "executionInfo": {
     "elapsed": 35410,
     "status": "ok",
     "timestamp": 1659981004899,
     "user": {
      "displayName": "Valkea",
      "userId": "01476199649418572392"
     },
     "user_tz": -120
    },
    "id": "458613a9-fba7-4573-9490-bdaac30ec7f0",
    "outputId": "40499e18-492d-4949-84d2-c88de61583af"
   },
   "outputs": [
    {
     "name": "stdout",
     "output_type": "stream",
     "text": [
      "The best Accuracy score (0.8265487334801762) for this model is reached with a threshold of 0.512\n"
     ]
    }
   ],
   "source": [
    "acc_value, best_threshold = find_best_threshold(model, X_valid_ready, y_valid, accuracy_score)\n",
    "print(f\"The best Accuracy score ({acc_value}) for this model is reached with a threshold of {best_threshold}\")"
   ]
  },
  {
   "cell_type": "code",
   "execution_count": 48,
   "id": "b6f0a213-2f45-48a0-be35-80578eebe836",
   "metadata": {
    "colab": {
     "base_uri": "https://localhost:8080/",
     "height": 863
    },
    "executionInfo": {
     "elapsed": 21156,
     "status": "ok",
     "timestamp": 1659981026045,
     "user": {
      "displayName": "Valkea",
      "userId": "01476199649418572392"
     },
     "user_tz": -120
    },
    "id": "2949bb94-234a-46ea-9094-a66dc5600610",
    "outputId": "580c36bc-cd33-465f-b37f-8e8edb76e94c",
    "tags": []
   },
   "outputs": [
    {
     "name": "stdout",
     "output_type": "stream",
     "text": [
      "----------------------------------------------------------------------------------------------------\n",
      "          These information are based on the best estimator of the above cross-validation           \n",
      "----------------------------------------------------------------------------------------------------\n",
      "\n",
      "--- ArchiREF [w. threshold] ------------------------------------------------------------------------\n",
      "\n",
      "             ROC_AUC : 0.9075\n",
      "                  F1 : 0.8248\n",
      "            ACCURACY : 0.8268\n",
      "           PRECISION : 0.8283\n",
      "              RECALL : 0.8212\n",
      "   AVERAGE_PRECISION : 0.9081\n",
      "\n",
      "       TRAINING-TIME : 444.8095\n",
      "      INFERENCE-TIME : 20.4983\n",
      "\n",
      "--- Classification Report -------------------------------------------------------------------------- \n",
      "\n",
      "                 precision    recall  f1-score   support\n",
      "\n",
      "Prediction = 0       0.83      0.83      0.83     73165\n",
      "Prediction = 1       0.83      0.82      0.82     72115\n",
      "\n",
      "      accuracy                           0.83    145280\n",
      "     macro avg       0.83      0.83      0.83    145280\n",
      "  weighted avg       0.83      0.83      0.83    145280\n",
      "\n",
      "--- Confusion Matrix ------------------------------------------------------------------------------- \n",
      "\n"
     ]
    },
    {
     "data": {
      "image/png": "[encoded data removed]",
      "text/plain": [
       "<Figure size 432x432 with 2 Axes>"
      ]
     },
     "metadata": {
      "needs_background": "light"
     },
     "output_type": "display_data"
    }
   ],
   "source": [
    "scores = get_scores(\n",
    "    f\"{model_name} [w. threshold]\",\n",
    "    model=model,\n",
    "    X_ref=X_test_ready,\n",
    "    y_ref=y_test, \n",
    "    threshold=best_threshold,\n",
    "    # y_pred=y_preds, \n",
    "    # y_pred_proba=y_preds_proba, \n",
    "    training_time=train_time, \n",
    "    # inference_time=inf_time, \n",
    "    dagslogger=dagslogger,\n",
    "    register=True,\n",
    "    show_roccurves=False,\n",
    ")"
   ]
  },
  {
   "cell_type": "markdown",
   "id": "f395fdd8-c52b-4c3e-99fb-53fb9bb2b5fb",
   "metadata": {
    "id": "a7fef833-f925-4682-8c58-431ee2deb96e"
   },
   "source": [
    "#### Enregistrons les scores pour DagsHub"
   ]
  },
  {
   "cell_type": "code",
   "execution_count": 49,
   "id": "0a5b0717-0a19-4c3c-86ea-43393c2c2181",
   "metadata": {
    "executionInfo": {
     "elapsed": 33,
     "status": "ok",
     "timestamp": 1659981026047,
     "user": {
      "displayName": "Valkea",
      "userId": "01476199649418572392"
     },
     "user_tz": -120
    },
    "id": "83cf1c0c-1e0b-4aaa-ad7c-3312d024858d"
   },
   "outputs": [],
   "source": [
    "save_metrics_to_dagshub(dagslogger, scores, best_threshold, history)\n",
    "dagslogger.save() \n",
    "dagslogger.close()"
   ]
  },
  {
   "cell_type": "markdown",
   "id": "3c091442-2f30-459a-bf32-26f165055716",
   "metadata": {
    "id": "0ba72436-a169-479d-a0f9-c0a74648c815"
   },
   "source": [
    "### Compare"
   ]
  },
  {
   "cell_type": "code",
   "execution_count": 50,
   "id": "51ae44f5-9b34-4f65-a5d5-7c0e1f3cd58b",
   "metadata": {
    "colab": {
     "base_uri": "https://localhost:8080/",
     "height": 208
    },
    "executionInfo": {
     "elapsed": 30,
     "status": "ok",
     "timestamp": 1659981026051,
     "user": {
      "displayName": "Valkea",
      "userId": "01476199649418572392"
     },
     "user_tz": -120
    },
    "id": "b3f95b3c-a183-4cbc-a26a-3dfbd14c1f95",
    "outputId": "d8ddae3f-21a8-48a4-c84c-0b87e13cc280",
    "tags": []
   },
   "outputs": [
    {
     "data": {
      "text/html": [
       "\n",
       "  <div id=\"df-cbf35176-822b-4492-b2ea-e483dfe07f8f\">\n",
       "    <div class=\"colab-df-container\">\n",
       "      <div>\n",
       "<style scoped>\n",
       "    .dataframe tbody tr th:only-of-type {\n",
       "        vertical-align: middle;\n",
       "    }\n",
       "\n",
       "    .dataframe tbody tr th {\n",
       "        vertical-align: top;\n",
       "    }\n",
       "\n",
       "    .dataframe thead th {\n",
       "        text-align: right;\n",
       "    }\n",
       "</style>\n",
       "<table border=\"1\" class=\"dataframe\">\n",
       "  <thead>\n",
       "    <tr style=\"text-align: right;\">\n",
       "      <th></th>\n",
       "      <th>Method</th>\n",
       "      <th>threshold</th>\n",
       "      <th>params</th>\n",
       "      <th>ROC AUC</th>\n",
       "      <th>PR AUC</th>\n",
       "      <th>F1 score</th>\n",
       "      <th>Accuracy</th>\n",
       "      <th>Precision</th>\n",
       "      <th>Recall</th>\n",
       "      <th>TP</th>\n",
       "      <th>TN</th>\n",
       "      <th>FP</th>\n",
       "      <th>FN</th>\n",
       "      <th>Training time</th>\n",
       "      <th>Inference time</th>\n",
       "    </tr>\n",
       "  </thead>\n",
       "  <tbody>\n",
       "    <tr>\n",
       "      <th>0</th>\n",
       "      <td>ArchiREF</td>\n",
       "      <td>0.500</td>\n",
       "      <td>None</td>\n",
       "      <td>0.907486</td>\n",
       "      <td>0.908087</td>\n",
       "      <td>0.825588</td>\n",
       "      <td>0.826445</td>\n",
       "      <td>0.823674</td>\n",
       "      <td>0.827512</td>\n",
       "      <td>59676</td>\n",
       "      <td>60390</td>\n",
       "      <td>12775</td>\n",
       "      <td>12439</td>\n",
       "      <td>444.809509</td>\n",
       "      <td>42.519483</td>\n",
       "    </tr>\n",
       "    <tr>\n",
       "      <th>1</th>\n",
       "      <td>ArchiREF [w. threshold]</td>\n",
       "      <td>0.512</td>\n",
       "      <td>None</td>\n",
       "      <td>0.907486</td>\n",
       "      <td>0.908087</td>\n",
       "      <td>0.824770</td>\n",
       "      <td>0.826783</td>\n",
       "      <td>0.828340</td>\n",
       "      <td>0.821230</td>\n",
       "      <td>59223</td>\n",
       "      <td>60892</td>\n",
       "      <td>12273</td>\n",
       "      <td>12892</td>\n",
       "      <td>444.809509</td>\n",
       "      <td>20.498286</td>\n",
       "    </tr>\n",
       "  </tbody>\n",
       "</table>\n",
       "</div>\n",
       "      <button class=\"colab-df-convert\" onclick=\"convertToInteractive('df-cbf35176-822b-4492-b2ea-e483dfe07f8f')\"\n",
       "              title=\"Convert this dataframe to an interactive table.\"\n",
       "              style=\"display:none;\">\n",
       "        \n",
       "  <svg xmlns=\"http://www.w3.org/2000/svg\" height=\"24px\"viewBox=\"0 0 24 24\"\n",
       "       width=\"24px\">\n",
       "    <path d=\"M0 0h24v24H0V0z\" fill=\"none\"/>\n",
       "    <path d=\"M18.56 5.44l.94 2.06.94-2.06 2.06-.94-2.06-.94-.94-2.06-.94 2.06-2.06.94zm-11 1L8.5 8.5l.94-2.06 2.06-.94-2.06-.94L8.5 2.5l-.94 2.06-2.06.94zm10 10l.94 2.06.94-2.06 2.06-.94-2.06-.94-.94-2.06-.94 2.06-2.06.94z\"/><path d=\"M17.41 7.96l-1.37-1.37c-.4-.4-.92-.59-1.43-.59-.52 0-1.04.2-1.43.59L10.3 9.45l-7.72 7.72c-.78.78-.78 2.05 0 2.83L4 21.41c.39.39.9.59 1.41.59.51 0 1.02-.2 1.41-.59l7.78-7.78 2.81-2.81c.8-.78.8-2.07 0-2.86zM5.41 20L4 18.59l7.72-7.72 1.47 1.35L5.41 20z\"/>\n",
       "  </svg>\n",
       "      </button>\n",
       "      \n",
       "  <style>\n",
       "    .colab-df-container {\n",
       "      display:flex;\n",
       "      flex-wrap:wrap;\n",
       "      gap: 12px;\n",
       "    }\n",
       "\n",
       "    .colab-df-convert {\n",
       "      background-color: #E8F0FE;\n",
       "      border: none;\n",
       "      border-radius: 50%;\n",
       "      cursor: pointer;\n",
       "      display: none;\n",
       "      fill: #1967D2;\n",
       "      height: 32px;\n",
       "      padding: 0 0 0 0;\n",
       "      width: 32px;\n",
       "    }\n",
       "\n",
       "    .colab-df-convert:hover {\n",
       "      background-color: #E2EBFA;\n",
       "      box-shadow: 0px 1px 2px rgba(60, 64, 67, 0.3), 0px 1px 3px 1px rgba(60, 64, 67, 0.15);\n",
       "      fill: #174EA6;\n",
       "    }\n",
       "\n",
       "    [theme=dark] .colab-df-convert {\n",
       "      background-color: #3B4455;\n",
       "      fill: #D2E3FC;\n",
       "    }\n",
       "\n",
       "    [theme=dark] .colab-df-convert:hover {\n",
       "      background-color: #434B5C;\n",
       "      box-shadow: 0px 1px 3px 1px rgba(0, 0, 0, 0.15);\n",
       "      filter: drop-shadow(0px 1px 2px rgba(0, 0, 0, 0.3));\n",
       "      fill: #FFFFFF;\n",
       "    }\n",
       "  </style>\n",
       "\n",
       "      <script>\n",
       "        const buttonEl =\n",
       "          document.querySelector('#df-cbf35176-822b-4492-b2ea-e483dfe07f8f button.colab-df-convert');\n",
       "        buttonEl.style.display =\n",
       "          google.colab.kernel.accessAllowed ? 'block' : 'none';\n",
       "\n",
       "        async function convertToInteractive(key) {\n",
       "          const element = document.querySelector('#df-cbf35176-822b-4492-b2ea-e483dfe07f8f');\n",
       "          const dataTable =\n",
       "            await google.colab.kernel.invokeFunction('convertToInteractive',\n",
       "                                                     [key], {});\n",
       "          if (!dataTable) return;\n",
       "\n",
       "          const docLinkHtml = 'Like what you see? Visit the ' +\n",
       "            '<a target=\"_blank\" href=https://colab.research.google.com/notebooks/data_table.ipynb>data table notebook</a>'\n",
       "            + ' to learn more about interactive tables.';\n",
       "          element.innerHTML = '';\n",
       "          dataTable['output_type'] = 'display_data';\n",
       "          await google.colab.output.renderOutput(dataTable, element);\n",
       "          const docLink = document.createElement('div');\n",
       "          docLink.innerHTML = docLinkHtml;\n",
       "          element.appendChild(docLink);\n",
       "        }\n",
       "      </script>\n",
       "    </div>\n",
       "  </div>\n",
       "  "
      ],
      "text/plain": [
       "                    Method  threshold params   ROC AUC    PR AUC  F1 score  \\\n",
       "0                 ArchiREF      0.500   None  0.907486  0.908087  0.825588   \n",
       "1  ArchiREF [w. threshold]      0.512   None  0.907486  0.908087  0.824770   \n",
       "\n",
       "   Accuracy  Precision    Recall     TP     TN     FP     FN  Training time  \\\n",
       "0  0.826445   0.823674  0.827512  59676  60390  12775  12439     444.809509   \n",
       "1  0.826783   0.828340  0.821230  59223  60892  12273  12892     444.809509   \n",
       "\n",
       "   Inference time  \n",
       "0       42.519483  \n",
       "1       20.498286  "
      ]
     },
     "execution_count": 50,
     "metadata": {},
     "output_type": "execute_result"
    }
   ],
   "source": [
    "from classification_utils import scores_df\n",
    "scores_df"
   ]
  },
  {
   "cell_type": "markdown",
   "id": "2f08fce3-1097-417a-af29-e60d3aa03ff0",
   "metadata": {
    "id": "2f08fce3-1097-417a-af29-e60d3aa03ff0"
   },
   "source": [
    "---\n",
    "## 2.2 `Archi-000` Dense 32 + Dropout 0.5 <a class=\"anchor\" id=\"ARCHI_000\"></a> [⇪](#menu)"
   ]
  },
  {
   "cell_type": "code",
   "execution_count": 51,
   "id": "3804e9d3-300b-482a-a6df-6aa88cd68e05",
   "metadata": {
    "executionInfo": {
     "elapsed": 541,
     "status": "ok",
     "timestamp": 1659981232023,
     "user": {
      "displayName": "Valkea",
      "userId": "01476199649418572392"
     },
     "user_tz": -120
    },
    "id": "174d7829-428e-4e28-beaf-43221e7408fa",
    "tags": []
   },
   "outputs": [],
   "source": [
    "# Embedding avec masque\n",
    "embedding_layer = layers.Embedding(\n",
    "    input_dim=max_tokens,\n",
    "    output_dim=embedding_dim,\n",
    "    embeddings_initializer=keras.initializers.Constant(embedding_matrix),\n",
    "    # input_length=max_length,\n",
    "    mask_zero=True,\n",
    "    trainable=False, # <== default is True\n",
    "    name=\"embedding_GloVe_Twitter_200d\",\n",
    ")"
   ]
  },
  {
   "cell_type": "code",
   "execution_count": 52,
   "id": "1e4f37c7-7a16-4050-8557-73a82d4f92e2",
   "metadata": {
    "executionInfo": {
     "elapsed": 20,
     "status": "ok",
     "timestamp": 1659981232855,
     "user": {
      "displayName": "Valkea",
      "userId": "01476199649418572392"
     },
     "user_tz": -120
    },
    "id": "3a0d9e42-22b5-4f11-bda7-6e905bf51909",
    "tags": []
   },
   "outputs": [],
   "source": [
    "model_name = \"Archi000\"\n",
    "model, archi_desc = architecture000(\"adam\", \"binary_crossentropy\", ['accuracy'], embedding_layer)"
   ]
  },
  {
   "cell_type": "code",
   "execution_count": 53,
   "id": "56bd39b1-cd8e-435b-a980-f7a874117d7e",
   "metadata": {
    "colab": {
     "base_uri": "https://localhost:8080/"
    },
    "executionInfo": {
     "elapsed": 19,
     "status": "ok",
     "timestamp": 1659981232856,
     "user": {
      "displayName": "Valkea",
      "userId": "01476199649418572392"
     },
     "user_tz": -120
    },
    "id": "eff91ba3-5a04-406c-900d-7b6b49181b19",
    "outputId": "c4635c70-317d-4b2c-f789-91189ab0829a",
    "tags": []
   },
   "outputs": [
    {
     "name": "stdout",
     "output_type": "stream",
     "text": [
      "Model: \"model_1\"\n",
      "_________________________________________________________________\n",
      " Layer (type)                Output Shape              Param #   \n",
      "=================================================================\n",
      " input_2 (InputLayer)        [(None, 60)]              0         \n",
      "                                                                 \n",
      " dense (Dense)               (None, 32)                1952      \n",
      "                                                                 \n",
      " dropout_1 (Dropout)         (None, 32)                0         \n",
      "                                                                 \n",
      " predictions (Dense)         (None, 1)                 33        \n",
      "                                                                 \n",
      "=================================================================\n",
      "Total params: 1,985\n",
      "Trainable params: 1,985\n",
      "Non-trainable params: 0\n",
      "_________________________________________________________________\n"
     ]
    }
   ],
   "source": [
    "model.summary()"
   ]
  },
  {
   "cell_type": "markdown",
   "id": "5d0e75e9-b7d7-49d1-93f2-497c131631f1",
   "metadata": {
    "id": "2ad1d45c-9d68-4418-adf9-a5e4cd528db9"
   },
   "source": [
    "#### Définissons un logger DagsHub pour enregistrer notre essai"
   ]
  },
  {
   "cell_type": "code",
   "execution_count": 54,
   "id": "cbf17511-7a38-455c-bb02-d490fa134544",
   "metadata": {
    "executionInfo": {
     "elapsed": 6,
     "status": "ok",
     "timestamp": 1659981234911,
     "user": {
      "displayName": "Valkea",
      "userId": "01476199649418572392"
     },
     "user_tz": -120
    },
    "id": "b603cdbc-6b45-4b25-89b2-4f1737f307af"
   },
   "outputs": [],
   "source": [
    "dagslogger = DAGsHubLogger()"
   ]
  },
  {
   "cell_type": "code",
   "execution_count": 55,
   "id": "346c193c-5d7b-47da-a2e4-2a296834c18e",
   "metadata": {
    "executionInfo": {
     "elapsed": 490,
     "status": "ok",
     "timestamp": 1659981236143,
     "user": {
      "displayName": "Valkea",
      "userId": "01476199649418572392"
     },
     "user_tz": -120
    },
    "id": "0a9691c1-dcb0-4116-bfc6-eca33a541182"
   },
   "outputs": [],
   "source": [
    "save_hyperparameters_to_dagshub(dagslogger, model_name, archi_desc, get_layers_for_dagshub(model), batch_size, data_work.shape[0])"
   ]
  },
  {
   "cell_type": "markdown",
   "id": "72e07cf0-2535-4797-aa48-0ee757071a96",
   "metadata": {
    "id": "fd54030b-63e3-4224-9d8b-8e1b020517b7"
   },
   "source": [
    "### Train model"
   ]
  },
  {
   "cell_type": "code",
   "execution_count": 56,
   "id": "c76919ef-0d78-4c0c-aeab-81d4f12c8a40",
   "metadata": {
    "colab": {
     "base_uri": "https://localhost:8080/"
    },
    "executionInfo": {
     "elapsed": 17910,
     "status": "ok",
     "timestamp": 1659981254596,
     "user": {
      "displayName": "Valkea",
      "userId": "01476199649418572392"
     },
     "user_tz": -120
    },
    "id": "e2a26fa2-dac5-4b07-bb8b-cdaedb6db4ae",
    "outputId": "f22d87a9-5347-4729-e4b4-513e220a9e9f",
    "tags": []
   },
   "outputs": [
    {
     "name": "stdout",
     "output_type": "stream",
     "text": [
      "Epoch 1/100\n",
      "278/284 [============================>.] - ETA: 0s - loss: 139.8897 - accuracy: 0.5074\n",
      "Epoch 1: val_accuracy improved from -inf to 0.51685, saving model to models/Archi000.keras\n",
      "284/284 [==============================] - 2s 6ms/step - loss: 137.3533 - accuracy: 0.5075 - val_loss: 8.1067 - val_accuracy: 0.5169\n",
      "Epoch 2/100\n",
      "283/284 [============================>.] - ETA: 0s - loss: 3.8295 - accuracy: 0.5084\n",
      "Epoch 2: val_accuracy did not improve from 0.51685\n",
      "284/284 [==============================] - 2s 6ms/step - loss: 3.8224 - accuracy: 0.5084 - val_loss: 0.9257 - val_accuracy: 0.5045\n",
      "Epoch 3/100\n",
      "280/284 [============================>.] - ETA: 0s - loss: 0.8707 - accuracy: 0.5060\n",
      "Epoch 3: val_accuracy did not improve from 0.51685\n",
      "284/284 [==============================] - 2s 5ms/step - loss: 0.8692 - accuracy: 0.5060 - val_loss: 0.7402 - val_accuracy: 0.5125\n",
      "Epoch 4/100\n",
      "283/284 [============================>.] - ETA: 0s - loss: 0.7358 - accuracy: 0.5048\n",
      "Epoch 4: val_accuracy did not improve from 0.51685\n",
      "284/284 [==============================] - 2s 5ms/step - loss: 0.7357 - accuracy: 0.5049 - val_loss: 0.7126 - val_accuracy: 0.5085\n",
      "Epoch 5/100\n",
      "276/284 [============================>.] - ETA: 0s - loss: 0.7134 - accuracy: 0.5051\n",
      "Epoch 5: val_accuracy did not improve from 0.51685\n",
      "284/284 [==============================] - 2s 6ms/step - loss: 0.7132 - accuracy: 0.5051 - val_loss: 0.7028 - val_accuracy: 0.5039\n",
      "Epoch 6/100\n",
      "283/284 [============================>.] - ETA: 0s - loss: 0.7053 - accuracy: 0.5057\n",
      "Epoch 6: val_accuracy did not improve from 0.51685\n",
      "284/284 [==============================] - 2s 6ms/step - loss: 0.7053 - accuracy: 0.5056 - val_loss: 0.6993 - val_accuracy: 0.5034\n",
      "Epoch 7/100\n",
      "281/284 [============================>.] - ETA: 0s - loss: 0.7021 - accuracy: 0.5051\n",
      "Epoch 7: val_accuracy did not improve from 0.51685\n",
      "284/284 [==============================] - 2s 6ms/step - loss: 0.7021 - accuracy: 0.5050 - val_loss: 0.6978 - val_accuracy: 0.5075\n",
      "Epoch 8/100\n",
      "283/284 [============================>.] - ETA: 0s - loss: 0.7011 - accuracy: 0.5055\n",
      "Epoch 8: val_accuracy did not improve from 0.51685\n",
      "284/284 [==============================] - 2s 6ms/step - loss: 0.7011 - accuracy: 0.5055 - val_loss: 0.6972 - val_accuracy: 0.5107\n",
      "Epoch 9/100\n",
      "276/284 [============================>.] - ETA: 0s - loss: 0.7001 - accuracy: 0.5058\n",
      "Epoch 9: val_accuracy did not improve from 0.51685\n",
      "284/284 [==============================] - 2s 6ms/step - loss: 0.7000 - accuracy: 0.5058 - val_loss: 0.6973 - val_accuracy: 0.5027\n",
      "Epoch 10/100\n",
      "279/284 [============================>.] - ETA: 0s - loss: 0.7008 - accuracy: 0.5060\n",
      "Epoch 10: val_accuracy did not improve from 0.51685\n",
      "284/284 [==============================] - 2s 6ms/step - loss: 0.7007 - accuracy: 0.5060 - val_loss: 0.6974 - val_accuracy: 0.5060\n",
      "Epoch 11/100\n",
      "277/284 [============================>.] - ETA: 0s - loss: 0.6992 - accuracy: 0.5054\n",
      "Epoch 11: val_accuracy did not improve from 0.51685\n",
      "Restoring model weights from the end of the best epoch: 6.\n",
      "284/284 [==============================] - 2s 5ms/step - loss: 0.6993 - accuracy: 0.5053 - val_loss: 0.7019 - val_accuracy: 0.5085\n",
      "Epoch 11: early stopping\n"
     ]
    }
   ],
   "source": [
    "t0 = time.perf_counter()\n",
    "history = model.fit(\n",
    "        x=X_train_ready, y=y_train, \n",
    "        validation_data=(X_test_ready, y_test), \n",
    "        epochs=100, \n",
    "        batch_size=batch_size, \n",
    "        callbacks=init_callbacks(f\"{model_name}\"),\n",
    "        verbose=1,\n",
    ")\n",
    "train_time = time.perf_counter() - t0"
   ]
  },
  {
   "cell_type": "code",
   "execution_count": 57,
   "id": "5ec3ef41-0a8c-4d6f-a44f-cbd4a51313b2",
   "metadata": {
    "colab": {
     "base_uri": "https://localhost:8080/",
     "height": 587
    },
    "executionInfo": {
     "elapsed": 3683,
     "status": "ok",
     "timestamp": 1659981258268,
     "user": {
      "displayName": "Valkea",
      "userId": "01476199649418572392"
     },
     "user_tz": -120
    },
    "id": "4856ff99-4ea8-4e2e-8d29-3362e62cda2a",
    "outputId": "4845ac2c-07e2-4733-fef9-28d409ed8a49"
   },
   "outputs": [
    {
     "data": {
      "image/png": "[encoded data removed]",
      "text/plain": [
       "<Figure size 576x576 with 2 Axes>"
      ]
     },
     "metadata": {
      "needs_background": "light"
     },
     "output_type": "display_data"
    }
   ],
   "source": [
    "summarize_diagnostics(history)"
   ]
  },
  {
   "cell_type": "markdown",
   "id": "bd80bf2a-d95e-4c5e-b10a-13d452b0e59a",
   "metadata": {
    "id": "824a58f5-a128-4b9b-a2f0-3eed570ec583"
   },
   "source": [
    "### Evaluate"
   ]
  },
  {
   "cell_type": "code",
   "execution_count": 58,
   "id": "f3ee6d37-9586-4ee5-bd38-9da98d92f37b",
   "metadata": {
    "executionInfo": {
     "elapsed": 625,
     "status": "ok",
     "timestamp": 1659981258885,
     "user": {
      "displayName": "Valkea",
      "userId": "01476199649418572392"
     },
     "user_tz": -120
    },
    "id": "f2bc1d8a-bc38-4f2c-a0c8-cd4fbb84b642",
    "tags": []
   },
   "outputs": [],
   "source": [
    "model = keras.models.load_model(f\"models/{model_name}.keras\")"
   ]
  },
  {
   "cell_type": "code",
   "execution_count": 59,
   "id": "4f5a5fa7-ff84-4887-bc43-861861300176",
   "metadata": {
    "colab": {
     "base_uri": "https://localhost:8080/"
    },
    "executionInfo": {
     "elapsed": 10455,
     "status": "ok",
     "timestamp": 1659981269329,
     "user": {
      "displayName": "Valkea",
      "userId": "01476199649418572392"
     },
     "user_tz": -120
    },
    "id": "abe4f7c9-88f3-40da-a13c-16eb6e08c35a",
    "outputId": "b83a068b-7eb6-4be7-f486-372bac3aa11c",
    "tags": []
   },
   "outputs": [
    {
     "name": "stdout",
     "output_type": "stream",
     "text": [
      "4540/4540 [==============================] - 9s 2ms/step - loss: 8.1067 - accuracy: 0.5169\n"
     ]
    },
    {
     "data": {
      "text/plain": [
       "[8.106690406799316, 0.5168502330780029]"
      ]
     },
     "execution_count": 59,
     "metadata": {},
     "output_type": "execute_result"
    }
   ],
   "source": [
    "model.evaluate(X_test_ready, y_test)"
   ]
  },
  {
   "cell_type": "code",
   "execution_count": 60,
   "id": "3df66a63-2cfc-48b4-9e9b-54da3e577e67",
   "metadata": {
    "colab": {
     "base_uri": "https://localhost:8080/"
    },
    "executionInfo": {
     "elapsed": 14,
     "status": "ok",
     "timestamp": 1659981269332,
     "user": {
      "displayName": "Valkea",
      "userId": "01476199649418572392"
     },
     "user_tz": -120
    },
    "id": "18a1e080-1608-4be9-aeb4-96c37ab71398",
    "outputId": "74a4991e-8cc1-4d62-cdbc-07758a7bfd2f",
    "tags": []
   },
   "outputs": [
    {
     "data": {
      "text/plain": [
       "array([[0.5763336],\n",
       "       [0.5108154]], dtype=float32)"
      ]
     },
     "execution_count": 60,
     "metadata": {},
     "output_type": "execute_result"
    }
   ],
   "source": [
    "raw_txt = tf.convert_to_tensor([\"I hate it\", \"I love it\"])\n",
    "raw_txt = text_vectorizationB7(raw_txt)\n",
    "model.predict(raw_txt)"
   ]
  },
  {
   "cell_type": "code",
   "execution_count": 61,
   "id": "ef311df0-3b38-453d-80fb-b6fce20e8613",
   "metadata": {
    "colab": {
     "base_uri": "https://localhost:8080/",
     "height": 1000
    },
    "executionInfo": {
     "elapsed": 12051,
     "status": "ok",
     "timestamp": 1659981281373,
     "user": {
      "displayName": "Valkea",
      "userId": "01476199649418572392"
     },
     "user_tz": -120
    },
    "id": "f99ebf7f-eb0a-43b4-a493-f4d4926c0293",
    "outputId": "cde70728-6f9f-45c3-e6b0-f0ea74294bf7",
    "tags": []
   },
   "outputs": [
    {
     "name": "stdout",
     "output_type": "stream",
     "text": [
      "----------------------------------------------------------------------------------------------------\n",
      "          These information are based on the best estimator of the above cross-validation           \n",
      "----------------------------------------------------------------------------------------------------\n",
      "\n",
      "--- Archi000 ---------------------------------------------------------------------------------------\n",
      "\n",
      "             ROC_AUC : 0.5163\n",
      "                  F1 : 0.4842\n",
      "            ACCURACY : 0.5169\n",
      "           PRECISION : 0.5150\n",
      "              RECALL : 0.4568\n",
      "   AVERAGE_PRECISION : 0.5084\n",
      "\n",
      "       TRAINING-TIME : 18.0467\n",
      "      INFERENCE-TIME : 10.2803\n",
      "\n",
      "--- Classification Report -------------------------------------------------------------------------- \n",
      "\n",
      "                 precision    recall  f1-score   support\n",
      "\n",
      "Prediction = 0       0.52      0.58      0.55     73165\n",
      "Prediction = 1       0.52      0.46      0.48     72115\n",
      "\n",
      "      accuracy                           0.52    145280\n",
      "     macro avg       0.52      0.52      0.51    145280\n",
      "  weighted avg       0.52      0.52      0.52    145280\n",
      "\n",
      "--- Confusion Matrix ------------------------------------------------------------------------------- \n",
      "\n"
     ]
    },
    {
     "data": {
      "image/png": "[encoded data removed]",
      "text/plain": [
       "<Figure size 432x432 with 2 Axes>"
      ]
     },
     "metadata": {
      "needs_background": "light"
     },
     "output_type": "display_data"
    },
    {
     "name": "stdout",
     "output_type": "stream",
     "text": [
      "--- ROC AUC ---------------------------------------------------------------------------------------- \n",
      "\n"
     ]
    },
    {
     "data": {
      "image/png": "[encoded data removed]",
      "text/plain": [
       "<Figure size 360x360 with 1 Axes>"
      ]
     },
     "metadata": {
      "needs_background": "light"
     },
     "output_type": "display_data"
    },
    {
     "name": "stdout",
     "output_type": "stream",
     "text": [
      "--- PRECISION RECALL AUC --------------------------------------------------------------------------- \n",
      "\n"
     ]
    },
    {
     "data": {
      "image/png": "[encoded data removed]",
      "text/plain": [
       "<Figure size 360x360 with 1 Axes>"
      ]
     },
     "metadata": {
      "needs_background": "light"
     },
     "output_type": "display_data"
    }
   ],
   "source": [
    "_ = get_scores(\n",
    "    model_name,\n",
    "    model=model,\n",
    "    X_ref=X_test_ready,\n",
    "    y_ref=y_test, \n",
    "    threshold=0.5,\n",
    "    # y_pred=y_preds, \n",
    "    # y_pred_proba=y_preds_proba, \n",
    "    training_time=train_time, \n",
    "    # inference_time=inf_time, \n",
    "    dagslogger=dagslogger,\n",
    "    register=True,\n",
    ")"
   ]
  },
  {
   "cell_type": "markdown",
   "id": "befffee3-4d1a-4dd5-b279-1743a6d486d5",
   "metadata": {
    "id": "706e6b78-5fc7-4792-b9a9-dd7919b08980"
   },
   "source": [
    "#### Trouvons le meilleur seuil de séparation pour les prédiction (sur la base du F1 score)"
   ]
  },
  {
   "cell_type": "code",
   "execution_count": 62,
   "id": "638bec8b-9528-4cf2-99a8-adf3cfdd5c42",
   "metadata": {
    "colab": {
     "base_uri": "https://localhost:8080/"
    },
    "executionInfo": {
     "elapsed": 21630,
     "status": "ok",
     "timestamp": 1659981302997,
     "user": {
      "displayName": "Valkea",
      "userId": "01476199649418572392"
     },
     "user_tz": -120
    },
    "id": "7b833f23-76a1-41ad-a233-de682d148a6c",
    "outputId": "cca878c1-7022-4e2b-b141-53788fafc78f"
   },
   "outputs": [
    {
     "name": "stdout",
     "output_type": "stream",
     "text": [
      "The best Accuracy score (0.516210077092511) for this model is reached with a threshold of 0.509\n"
     ]
    }
   ],
   "source": [
    "acc_value, best_threshold = find_best_threshold(model, X_valid_ready, y_valid, accuracy_score)\n",
    "print(f\"The best Accuracy score ({acc_value}) for this model is reached with a threshold of {best_threshold}\")"
   ]
  },
  {
   "cell_type": "code",
   "execution_count": 63,
   "id": "b5f6a3e5-e5a3-42be-88ab-085a896699b2",
   "metadata": {
    "colab": {
     "base_uri": "https://localhost:8080/",
     "height": 863
    },
    "executionInfo": {
     "elapsed": 6931,
     "status": "ok",
     "timestamp": 1659981309917,
     "user": {
      "displayName": "Valkea",
      "userId": "01476199649418572392"
     },
     "user_tz": -120
    },
    "id": "ca196349-d6c7-4652-b642-e1d3f286b83c",
    "outputId": "d8cb38a5-5406-4611-9a8d-421f9be24827",
    "tags": []
   },
   "outputs": [
    {
     "name": "stdout",
     "output_type": "stream",
     "text": [
      "----------------------------------------------------------------------------------------------------\n",
      "          These information are based on the best estimator of the above cross-validation           \n",
      "----------------------------------------------------------------------------------------------------\n",
      "\n",
      "--- Archi000 [w. threshold] ------------------------------------------------------------------------\n",
      "\n",
      "             ROC_AUC : 0.5163\n",
      "                  F1 : 0.4752\n",
      "            ACCURACY : 0.5170\n",
      "           PRECISION : 0.5158\n",
      "              RECALL : 0.4406\n",
      "   AVERAGE_PRECISION : 0.5084\n",
      "\n",
      "       TRAINING-TIME : 18.0467\n",
      "      INFERENCE-TIME : 6.2174\n",
      "\n",
      "--- Classification Report -------------------------------------------------------------------------- \n",
      "\n",
      "                 precision    recall  f1-score   support\n",
      "\n",
      "Prediction = 0       0.52      0.59      0.55     73165\n",
      "Prediction = 1       0.52      0.44      0.48     72115\n",
      "\n",
      "      accuracy                           0.52    145280\n",
      "     macro avg       0.52      0.52      0.51    145280\n",
      "  weighted avg       0.52      0.52      0.51    145280\n",
      "\n",
      "--- Confusion Matrix ------------------------------------------------------------------------------- \n",
      "\n"
     ]
    },
    {
     "data": {
      "image/png": "[encoded data removed]",
      "text/plain": [
       "<Figure size 432x432 with 2 Axes>"
      ]
     },
     "metadata": {
      "needs_background": "light"
     },
     "output_type": "display_data"
    }
   ],
   "source": [
    "scores = get_scores(\n",
    "    f\"{model_name} [w. threshold]\",\n",
    "    model=model,\n",
    "    X_ref=X_test_ready,\n",
    "    y_ref=y_test, \n",
    "    threshold=best_threshold,\n",
    "    # y_pred=y_preds, \n",
    "    # y_pred_proba=y_preds_proba, \n",
    "    training_time=train_time, \n",
    "    # inference_time=inf_time, \n",
    "    dagslogger=dagslogger,\n",
    "    register=True,\n",
    "    show_roccurves=False,\n",
    ")"
   ]
  },
  {
   "cell_type": "markdown",
   "id": "78004191-fd8e-48f2-bc58-f3e6c389d1f3",
   "metadata": {
    "id": "a6d240ec-8235-4513-92f0-4bf52c7b972b"
   },
   "source": [
    "#### Enregistrons les scores pour DagsHub"
   ]
  },
  {
   "cell_type": "code",
   "execution_count": 64,
   "id": "ed7b1544-52d3-4598-b41f-cbfc98350514",
   "metadata": {
    "executionInfo": {
     "elapsed": 39,
     "status": "ok",
     "timestamp": 1659981309920,
     "user": {
      "displayName": "Valkea",
      "userId": "01476199649418572392"
     },
     "user_tz": -120
    },
    "id": "25794dce-8e6b-4a91-89bc-eaa4ea9f8b52"
   },
   "outputs": [],
   "source": [
    "save_metrics_to_dagshub(dagslogger, scores, best_threshold, history)\n",
    "dagslogger.save() \n",
    "dagslogger.close()"
   ]
  },
  {
   "cell_type": "markdown",
   "id": "3e69f586-4663-40e1-b197-5cdca2b80326",
   "metadata": {
    "id": "4966e18e-4b59-42af-ae53-3ba5b28dea58"
   },
   "source": [
    "### Compare"
   ]
  },
  {
   "cell_type": "code",
   "execution_count": 65,
   "id": "c6090576-adab-45cd-9b03-319d3bcd3e88",
   "metadata": {
    "colab": {
     "base_uri": "https://localhost:8080/",
     "height": 306
    },
    "executionInfo": {
     "elapsed": 37,
     "status": "ok",
     "timestamp": 1659981309923,
     "user": {
      "displayName": "Valkea",
      "userId": "01476199649418572392"
     },
     "user_tz": -120
    },
    "id": "075fd3d4-64aa-4c45-8083-135d78784856",
    "outputId": "fbbfe25a-0133-4a22-a545-c8169f046147",
    "tags": []
   },
   "outputs": [
    {
     "data": {
      "text/html": [
       "\n",
       "  <div id=\"df-f2362c0a-0f94-4a7b-90b0-43f21bb96c1b\">\n",
       "    <div class=\"colab-df-container\">\n",
       "      <div>\n",
       "<style scoped>\n",
       "    .dataframe tbody tr th:only-of-type {\n",
       "        vertical-align: middle;\n",
       "    }\n",
       "\n",
       "    .dataframe tbody tr th {\n",
       "        vertical-align: top;\n",
       "    }\n",
       "\n",
       "    .dataframe thead th {\n",
       "        text-align: right;\n",
       "    }\n",
       "</style>\n",
       "<table border=\"1\" class=\"dataframe\">\n",
       "  <thead>\n",
       "    <tr style=\"text-align: right;\">\n",
       "      <th></th>\n",
       "      <th>Method</th>\n",
       "      <th>threshold</th>\n",
       "      <th>params</th>\n",
       "      <th>ROC AUC</th>\n",
       "      <th>PR AUC</th>\n",
       "      <th>F1 score</th>\n",
       "      <th>Accuracy</th>\n",
       "      <th>Precision</th>\n",
       "      <th>Recall</th>\n",
       "      <th>TP</th>\n",
       "      <th>TN</th>\n",
       "      <th>FP</th>\n",
       "      <th>FN</th>\n",
       "      <th>Training time</th>\n",
       "      <th>Inference time</th>\n",
       "    </tr>\n",
       "  </thead>\n",
       "  <tbody>\n",
       "    <tr>\n",
       "      <th>0</th>\n",
       "      <td>ArchiREF</td>\n",
       "      <td>0.500</td>\n",
       "      <td>None</td>\n",
       "      <td>0.907486</td>\n",
       "      <td>0.908087</td>\n",
       "      <td>0.825588</td>\n",
       "      <td>0.826445</td>\n",
       "      <td>0.823674</td>\n",
       "      <td>0.827512</td>\n",
       "      <td>59676</td>\n",
       "      <td>60390</td>\n",
       "      <td>12775</td>\n",
       "      <td>12439</td>\n",
       "      <td>444.809509</td>\n",
       "      <td>42.519483</td>\n",
       "    </tr>\n",
       "    <tr>\n",
       "      <th>1</th>\n",
       "      <td>ArchiREF [w. threshold]</td>\n",
       "      <td>0.512</td>\n",
       "      <td>None</td>\n",
       "      <td>0.907486</td>\n",
       "      <td>0.908087</td>\n",
       "      <td>0.824770</td>\n",
       "      <td>0.826783</td>\n",
       "      <td>0.828340</td>\n",
       "      <td>0.821230</td>\n",
       "      <td>59223</td>\n",
       "      <td>60892</td>\n",
       "      <td>12273</td>\n",
       "      <td>12892</td>\n",
       "      <td>444.809509</td>\n",
       "      <td>20.498286</td>\n",
       "    </tr>\n",
       "    <tr>\n",
       "      <th>2</th>\n",
       "      <td>Archi000</td>\n",
       "      <td>0.500</td>\n",
       "      <td>None</td>\n",
       "      <td>0.516288</td>\n",
       "      <td>0.508409</td>\n",
       "      <td>0.484155</td>\n",
       "      <td>0.516850</td>\n",
       "      <td>0.515034</td>\n",
       "      <td>0.456770</td>\n",
       "      <td>32940</td>\n",
       "      <td>42148</td>\n",
       "      <td>31017</td>\n",
       "      <td>39175</td>\n",
       "      <td>18.046688</td>\n",
       "      <td>10.280299</td>\n",
       "    </tr>\n",
       "    <tr>\n",
       "      <th>3</th>\n",
       "      <td>Archi000 [w. threshold]</td>\n",
       "      <td>0.509</td>\n",
       "      <td>None</td>\n",
       "      <td>0.516288</td>\n",
       "      <td>0.508409</td>\n",
       "      <td>0.475230</td>\n",
       "      <td>0.517029</td>\n",
       "      <td>0.515822</td>\n",
       "      <td>0.440560</td>\n",
       "      <td>31771</td>\n",
       "      <td>43343</td>\n",
       "      <td>29822</td>\n",
       "      <td>40344</td>\n",
       "      <td>18.046688</td>\n",
       "      <td>6.217441</td>\n",
       "    </tr>\n",
       "  </tbody>\n",
       "</table>\n",
       "</div>\n",
       "      <button class=\"colab-df-convert\" onclick=\"convertToInteractive('df-f2362c0a-0f94-4a7b-90b0-43f21bb96c1b')\"\n",
       "              title=\"Convert this dataframe to an interactive table.\"\n",
       "              style=\"display:none;\">\n",
       "        \n",
       "  <svg xmlns=\"http://www.w3.org/2000/svg\" height=\"24px\"viewBox=\"0 0 24 24\"\n",
       "       width=\"24px\">\n",
       "    <path d=\"M0 0h24v24H0V0z\" fill=\"none\"/>\n",
       "    <path d=\"M18.56 5.44l.94 2.06.94-2.06 2.06-.94-2.06-.94-.94-2.06-.94 2.06-2.06.94zm-11 1L8.5 8.5l.94-2.06 2.06-.94-2.06-.94L8.5 2.5l-.94 2.06-2.06.94zm10 10l.94 2.06.94-2.06 2.06-.94-2.06-.94-.94-2.06-.94 2.06-2.06.94z\"/><path d=\"M17.41 7.96l-1.37-1.37c-.4-.4-.92-.59-1.43-.59-.52 0-1.04.2-1.43.59L10.3 9.45l-7.72 7.72c-.78.78-.78 2.05 0 2.83L4 21.41c.39.39.9.59 1.41.59.51 0 1.02-.2 1.41-.59l7.78-7.78 2.81-2.81c.8-.78.8-2.07 0-2.86zM5.41 20L4 18.59l7.72-7.72 1.47 1.35L5.41 20z\"/>\n",
       "  </svg>\n",
       "      </button>\n",
       "      \n",
       "  <style>\n",
       "    .colab-df-container {\n",
       "      display:flex;\n",
       "      flex-wrap:wrap;\n",
       "      gap: 12px;\n",
       "    }\n",
       "\n",
       "    .colab-df-convert {\n",
       "      background-color: #E8F0FE;\n",
       "      border: none;\n",
       "      border-radius: 50%;\n",
       "      cursor: pointer;\n",
       "      display: none;\n",
       "      fill: #1967D2;\n",
       "      height: 32px;\n",
       "      padding: 0 0 0 0;\n",
       "      width: 32px;\n",
       "    }\n",
       "\n",
       "    .colab-df-convert:hover {\n",
       "      background-color: #E2EBFA;\n",
       "      box-shadow: 0px 1px 2px rgba(60, 64, 67, 0.3), 0px 1px 3px 1px rgba(60, 64, 67, 0.15);\n",
       "      fill: #174EA6;\n",
       "    }\n",
       "\n",
       "    [theme=dark] .colab-df-convert {\n",
       "      background-color: #3B4455;\n",
       "      fill: #D2E3FC;\n",
       "    }\n",
       "\n",
       "    [theme=dark] .colab-df-convert:hover {\n",
       "      background-color: #434B5C;\n",
       "      box-shadow: 0px 1px 3px 1px rgba(0, 0, 0, 0.15);\n",
       "      filter: drop-shadow(0px 1px 2px rgba(0, 0, 0, 0.3));\n",
       "      fill: #FFFFFF;\n",
       "    }\n",
       "  </style>\n",
       "\n",
       "      <script>\n",
       "        const buttonEl =\n",
       "          document.querySelector('#df-f2362c0a-0f94-4a7b-90b0-43f21bb96c1b button.colab-df-convert');\n",
       "        buttonEl.style.display =\n",
       "          google.colab.kernel.accessAllowed ? 'block' : 'none';\n",
       "\n",
       "        async function convertToInteractive(key) {\n",
       "          const element = document.querySelector('#df-f2362c0a-0f94-4a7b-90b0-43f21bb96c1b');\n",
       "          const dataTable =\n",
       "            await google.colab.kernel.invokeFunction('convertToInteractive',\n",
       "                                                     [key], {});\n",
       "          if (!dataTable) return;\n",
       "\n",
       "          const docLinkHtml = 'Like what you see? Visit the ' +\n",
       "            '<a target=\"_blank\" href=https://colab.research.google.com/notebooks/data_table.ipynb>data table notebook</a>'\n",
       "            + ' to learn more about interactive tables.';\n",
       "          element.innerHTML = '';\n",
       "          dataTable['output_type'] = 'display_data';\n",
       "          await google.colab.output.renderOutput(dataTable, element);\n",
       "          const docLink = document.createElement('div');\n",
       "          docLink.innerHTML = docLinkHtml;\n",
       "          element.appendChild(docLink);\n",
       "        }\n",
       "      </script>\n",
       "    </div>\n",
       "  </div>\n",
       "  "
      ],
      "text/plain": [
       "                    Method  threshold params   ROC AUC    PR AUC  F1 score  \\\n",
       "0                 ArchiREF      0.500   None  0.907486  0.908087  0.825588   \n",
       "1  ArchiREF [w. threshold]      0.512   None  0.907486  0.908087  0.824770   \n",
       "2                 Archi000      0.500   None  0.516288  0.508409  0.484155   \n",
       "3  Archi000 [w. threshold]      0.509   None  0.516288  0.508409  0.475230   \n",
       "\n",
       "   Accuracy  Precision    Recall     TP     TN     FP     FN  Training time  \\\n",
       "0  0.826445   0.823674  0.827512  59676  60390  12775  12439     444.809509   \n",
       "1  0.826783   0.828340  0.821230  59223  60892  12273  12892     444.809509   \n",
       "2  0.516850   0.515034  0.456770  32940  42148  31017  39175      18.046688   \n",
       "3  0.517029   0.515822  0.440560  31771  43343  29822  40344      18.046688   \n",
       "\n",
       "   Inference time  \n",
       "0       42.519483  \n",
       "1       20.498286  \n",
       "2       10.280299  \n",
       "3        6.217441  "
      ]
     },
     "execution_count": 65,
     "metadata": {},
     "output_type": "execute_result"
    }
   ],
   "source": [
    "from classification_utils import scores_df\n",
    "scores_df"
   ]
  },
  {
   "cell_type": "markdown",
   "id": "e63c3415-6c5a-474d-a8f1-65ab33a9c510",
   "metadata": {
    "id": "e63c3415-6c5a-474d-a8f1-65ab33a9c510"
   },
   "source": [
    "---\n",
    "## 2.3 `Archi-100` Simple RNN 32 + Dropout 0.5 <a class=\"anchor\" id=\"ARCHI_100\"></a> [⇪](#menu)"
   ]
  },
  {
   "cell_type": "code",
   "execution_count": null,
   "id": "6c086db9-078b-48f9-a618-c7c6fe92a68f",
   "metadata": {
    "id": "b1234352-1486-4ce9-97e9-aa3a0df1c4ee",
    "tags": []
   },
   "outputs": [],
   "source": [
    "# Embedding avec masque\n",
    "embedding_layer = layers.Embedding(\n",
    "    input_dim=max_tokens,\n",
    "    output_dim=embedding_dim,\n",
    "    embeddings_initializer=keras.initializers.Constant(embedding_matrix),\n",
    "    # input_length=max_length,\n",
    "    mask_zero=True,\n",
    "    trainable=False, # <== default is True\n",
    "    name=\"embedding_GloVe_Twitter_200d\",\n",
    ")"
   ]
  },
  {
   "cell_type": "code",
   "execution_count": null,
   "id": "6e5e153a-ef5e-4564-bd5c-1070adcff75e",
   "metadata": {
    "id": "6e5e153a-ef5e-4564-bd5c-1070adcff75e",
    "tags": []
   },
   "outputs": [],
   "source": [
    "model_name = \"Archi100\"\n",
    "model, archi_desc = architecture100(\"adam\", \"binary_crossentropy\", ['accuracy'], embedding_layer)"
   ]
  },
  {
   "cell_type": "code",
   "execution_count": null,
   "id": "5e194113-3326-46a0-bd91-3d989bd5227a",
   "metadata": {
    "id": "ab32e238-3a5a-48ab-b996-1772af379a04",
    "outputId": "20b1ad2c-bd57-4314-ad5c-25caa3a69a4f",
    "tags": []
   },
   "outputs": [],
   "source": [
    "model.summary()"
   ]
  },
  {
   "cell_type": "markdown",
   "id": "92f81451-7180-4262-918e-cde9f1dcd93b",
   "metadata": {
    "id": "92f81451-7180-4262-918e-cde9f1dcd93b"
   },
   "source": [
    "#### Définissons un logger DagsHub pour enregistrer notre essai"
   ]
  },
  {
   "cell_type": "code",
   "execution_count": null,
   "id": "5ae1034e-8be8-4daf-92e3-572350ff5b4c",
   "metadata": {
    "id": "5ae1034e-8be8-4daf-92e3-572350ff5b4c"
   },
   "outputs": [],
   "source": [
    "dagslogger = DAGsHubLogger()"
   ]
  },
  {
   "cell_type": "code",
   "execution_count": null,
   "id": "f03bdf1b-b680-416c-ba66-691440e4bd60",
   "metadata": {
    "id": "f03bdf1b-b680-416c-ba66-691440e4bd60"
   },
   "outputs": [],
   "source": [
    "save_hyperparameters_to_dagshub(dagslogger, model_name, archi_desc, get_layers_for_dagshub(model), batch_size, data_work.shape[0])"
   ]
  },
  {
   "cell_type": "markdown",
   "id": "b5a97a75-9dd9-4984-b53a-acace2a0130b",
   "metadata": {
    "id": "b5a97a75-9dd9-4984-b53a-acace2a0130b"
   },
   "source": [
    "### Train model"
   ]
  },
  {
   "cell_type": "code",
   "execution_count": null,
   "id": "8bb2b445-9794-477d-bb10-34464f3c52de",
   "metadata": {
    "id": "1e733906-a552-46af-a23f-398ee9de88ff",
    "outputId": "dc87d075-aa70-4596-9b72-6fca562504ed",
    "tags": []
   },
   "outputs": [],
   "source": [
    "t0 = time.perf_counter()\n",
    "history = model.fit(\n",
    "        x=X_train_ready, y=y_train, \n",
    "        validation_data=(X_test_ready, y_test), \n",
    "        epochs=100, \n",
    "        batch_size=batch_size, \n",
    "        callbacks=init_callbacks(f\"{model_name}\"),\n",
    "        verbose=1,\n",
    ")\n",
    "train_time = time.perf_counter() - t0"
   ]
  },
  {
   "cell_type": "code",
   "execution_count": null,
   "id": "bb837e45-b1bf-4037-9821-ded2aeffd8c8",
   "metadata": {
    "id": "227b24f4-f416-4335-9f19-32189a36b26e",
    "outputId": "aeb4ac8c-cce8-4ad4-80f4-b5210ae0290a"
   },
   "outputs": [],
   "source": [
    "summarize_diagnostics(history)"
   ]
  },
  {
   "cell_type": "markdown",
   "id": "27daf320-01a9-4437-b80c-3e7ed098b20d",
   "metadata": {
    "id": "27daf320-01a9-4437-b80c-3e7ed098b20d"
   },
   "source": [
    "### Evaluate"
   ]
  },
  {
   "cell_type": "code",
   "execution_count": null,
   "id": "e339ab21-8892-44c7-9de3-901d88044a30",
   "metadata": {
    "id": "e339ab21-8892-44c7-9de3-901d88044a30",
    "tags": []
   },
   "outputs": [],
   "source": [
    "model = keras.models.load_model(f\"models/{model_name}.keras\")"
   ]
  },
  {
   "cell_type": "code",
   "execution_count": null,
   "id": "a80f31f7-4e51-4c3c-87ee-4ececb73d0e6",
   "metadata": {
    "id": "c8e4d5e5-d13b-4d3d-b503-56d8c89aabac",
    "outputId": "e48243d5-fa0d-4103-bacf-cc7b351f471b",
    "tags": []
   },
   "outputs": [],
   "source": [
    "model.evaluate(X_test_ready, y_test)"
   ]
  },
  {
   "cell_type": "code",
   "execution_count": null,
   "id": "d8349555-8d15-41ef-873b-ef39f5e6c555",
   "metadata": {
    "id": "c2f04e48-3caa-4b0f-ae38-a61aa7b3d4ce",
    "outputId": "440a5b4c-daf3-48e9-bded-2579a7d031f6",
    "tags": []
   },
   "outputs": [],
   "source": [
    "raw_txt = tf.convert_to_tensor([\"I hate it\", \"I love it\"])\n",
    "raw_txt = text_vectorizationB7(raw_txt)\n",
    "model.predict(raw_txt)"
   ]
  },
  {
   "cell_type": "code",
   "execution_count": null,
   "id": "10deb742-294e-4508-ad89-30333876f42d",
   "metadata": {
    "colab": {
     "base_uri": "https://localhost:8080/",
     "height": 1000
    },
    "executionInfo": {
     "elapsed": 746,
     "status": "ok",
     "timestamp": 1653231856185,
     "user": {
      "displayName": "Valkea",
      "userId": "01476199649418572392"
     },
     "user_tz": -120
    },
    "id": "17bf9aac-32d7-490c-a464-9331ee4bfb5b",
    "outputId": "e3c4ed78-a90b-46e0-baa0-c28f701f4414",
    "tags": []
   },
   "outputs": [],
   "source": [
    "_ = get_scores(\n",
    "    model_name,\n",
    "    model=model,\n",
    "    X_ref=X_test_ready,\n",
    "    y_ref=y_test, \n",
    "    threshold=0.5,\n",
    "    # y_pred=y_preds, \n",
    "    # y_pred_proba=y_preds_proba, \n",
    "    training_time=train_time, \n",
    "    # inference_time=inf_time, \n",
    "    dagslogger=dagslogger,\n",
    "    register=True,\n",
    ")"
   ]
  },
  {
   "cell_type": "markdown",
   "id": "1ab60c69-17f5-4120-b4f5-1d2b323f0b7b",
   "metadata": {
    "id": "1ab60c69-17f5-4120-b4f5-1d2b323f0b7b"
   },
   "source": [
    "#### Trouvons le meilleur seuil de séparation pour les prédiction (sur la base du F1 score)"
   ]
  },
  {
   "cell_type": "code",
   "execution_count": null,
   "id": "ce99a431-71a7-4a74-83b2-c1f76d81a015",
   "metadata": {
    "id": "5c856ae8-3b89-4a7c-b132-f0f91cf84d6e",
    "outputId": "9328f12c-c47c-4f9a-8c30-ae589cf1df2c"
   },
   "outputs": [],
   "source": [
    "acc_value, best_threshold = find_best_threshold(model, X_valid_ready, y_valid, accuracy_score)\n",
    "print(f\"The best Accuracy score ({acc_value}) for this model is reached with a threshold of {best_threshold}\")"
   ]
  },
  {
   "cell_type": "code",
   "execution_count": null,
   "id": "67c0d03b-e229-47d4-93f6-f991b9d80abd",
   "metadata": {
    "colab": {
     "base_uri": "https://localhost:8080/",
     "height": 1000
    },
    "executionInfo": {
     "elapsed": 746,
     "status": "ok",
     "timestamp": 1653231856185,
     "user": {
      "displayName": "Valkea",
      "userId": "01476199649418572392"
     },
     "user_tz": -120
    },
    "id": "58d817c7-918d-4c57-a252-741c595b4db8",
    "outputId": "e3c4ed78-a90b-46e0-baa0-c28f701f4414",
    "tags": []
   },
   "outputs": [],
   "source": [
    "scores = get_scores(\n",
    "    f\"{model_name} [w. threshold]\",\n",
    "    model=model,\n",
    "    X_ref=X_test_ready,\n",
    "    y_ref=y_test, \n",
    "    threshold=best_threshold,\n",
    "    # y_pred=y_preds, \n",
    "    # y_pred_proba=y_preds_proba, \n",
    "    training_time=train_time, \n",
    "    # inference_time=inf_time, \n",
    "    dagslogger=dagslogger,\n",
    "    register=True,\n",
    "    show_roccurves=False,\n",
    ")"
   ]
  },
  {
   "cell_type": "markdown",
   "id": "4200099b-4940-4e6b-beeb-ad21da88c8f5",
   "metadata": {
    "id": "4200099b-4940-4e6b-beeb-ad21da88c8f5"
   },
   "source": [
    "#### Enregistrons les scores pour DagsHub"
   ]
  },
  {
   "cell_type": "code",
   "execution_count": null,
   "id": "0c624b97-ef86-4bad-ac7e-af6fa1b4e9ae",
   "metadata": {
    "id": "0c624b97-ef86-4bad-ac7e-af6fa1b4e9ae"
   },
   "outputs": [],
   "source": [
    "save_metrics_to_dagshub(dagslogger, scores, best_threshold, history)\n",
    "dagslogger.save() \n",
    "dagslogger.close()"
   ]
  },
  {
   "cell_type": "markdown",
   "id": "3b452821-d3e2-4497-b955-4f2630c04fa1",
   "metadata": {
    "id": "3b452821-d3e2-4497-b955-4f2630c04fa1"
   },
   "source": [
    "### Compare"
   ]
  },
  {
   "cell_type": "code",
   "execution_count": null,
   "id": "2752d5f6-a8eb-4cbd-9cf2-88afc028d219",
   "metadata": {
    "id": "af9511f7-1bd5-4858-9f62-eb476fc3a467",
    "outputId": "4cbc9d7b-8f8f-42da-f4d9-04f484f6ffcd",
    "tags": []
   },
   "outputs": [],
   "source": [
    "from classification_utils import scores_df\n",
    "scores_df"
   ]
  },
  {
   "cell_type": "markdown",
   "id": "c2815e50-380b-4b50-9199-feac9c2300e0",
   "metadata": {
    "id": "c2815e50-380b-4b50-9199-feac9c2300e0"
   },
   "source": [
    "---\n",
    "## 2.4 `Archi-200` LSTM 32 + Dropout 0.5 <a class=\"anchor\" id=\"ARCHI_200\"></a> [⇪](#menu)"
   ]
  },
  {
   "cell_type": "code",
   "execution_count": null,
   "id": "2841c6d4-805f-48dd-9117-63abfc33ebd4",
   "metadata": {
    "id": "2841c6d4-805f-48dd-9117-63abfc33ebd4",
    "tags": []
   },
   "outputs": [],
   "source": [
    "# Embedding avec masque\n",
    "embedding_layer = layers.Embedding(\n",
    "    input_dim=max_tokens,\n",
    "    output_dim=embedding_dim,\n",
    "    embeddings_initializer=keras.initializers.Constant(embedding_matrix),\n",
    "    # input_length=max_length,\n",
    "    mask_zero=True,\n",
    "    trainable=False, # <== default is True\n",
    "    name=\"embedding_GloVe_Twitter_200d\",\n",
    ")"
   ]
  },
  {
   "cell_type": "code",
   "execution_count": null,
   "id": "1235cf30-e134-4ba2-8f79-1f190f682517",
   "metadata": {
    "id": "1235cf30-e134-4ba2-8f79-1f190f682517",
    "tags": []
   },
   "outputs": [],
   "source": [
    "model_name = \"Archi200\"\n",
    "model, archi_desc = architecture200(\"adam\", \"binary_crossentropy\", ['accuracy'], embedding_layer)"
   ]
  },
  {
   "cell_type": "code",
   "execution_count": null,
   "id": "7d4e9e12-91b3-482a-9482-51432a89c20b",
   "metadata": {
    "id": "3d080c08-c367-49c5-9f0a-78b869fc1eea",
    "outputId": "89e76c81-d201-4164-b66f-c75a2b4dcc2a",
    "tags": []
   },
   "outputs": [],
   "source": [
    "model.summary()"
   ]
  },
  {
   "cell_type": "markdown",
   "id": "133567fb-4f2d-4834-aa57-352dbb98625c",
   "metadata": {
    "id": "133567fb-4f2d-4834-aa57-352dbb98625c"
   },
   "source": [
    "#### Définissons un logger DagsHub pour enregistrer notre essai"
   ]
  },
  {
   "cell_type": "code",
   "execution_count": null,
   "id": "f0521727-6257-4af8-9089-6204afd70f6d",
   "metadata": {
    "id": "f0521727-6257-4af8-9089-6204afd70f6d"
   },
   "outputs": [],
   "source": [
    "dagslogger = DAGsHubLogger()"
   ]
  },
  {
   "cell_type": "code",
   "execution_count": null,
   "id": "9c01fb4f-6a6e-4444-97fd-7091df827a70",
   "metadata": {
    "id": "9c01fb4f-6a6e-4444-97fd-7091df827a70"
   },
   "outputs": [],
   "source": [
    "save_hyperparameters_to_dagshub(dagslogger, model_name, archi_desc, get_layers_for_dagshub(model), batch_size, data_work.shape[0])"
   ]
  },
  {
   "cell_type": "markdown",
   "id": "4e065d99-0f8b-4691-9143-5c44c92f435c",
   "metadata": {
    "id": "4e065d99-0f8b-4691-9143-5c44c92f435c"
   },
   "source": [
    "### Train model"
   ]
  },
  {
   "cell_type": "code",
   "execution_count": null,
   "id": "233ac3fd-3a9d-46b2-9451-bd52f667f00e",
   "metadata": {
    "id": "5c37b5d4-564f-4c09-b2b8-deb941bdbd0c",
    "outputId": "d5ff7ea5-1d01-4a4f-edfc-80b3d23ff96d",
    "tags": []
   },
   "outputs": [],
   "source": [
    "t0 = time.perf_counter()\n",
    "history = model.fit(\n",
    "        x=X_train_ready, y=y_train, \n",
    "        validation_data=(X_test_ready, y_test), \n",
    "        epochs=100, \n",
    "        batch_size=batch_size, \n",
    "        callbacks=init_callbacks(f\"{model_name}\"),\n",
    "        verbose=1,\n",
    ")\n",
    "train_time = time.perf_counter() - t0"
   ]
  },
  {
   "cell_type": "code",
   "execution_count": null,
   "id": "252c6d1f-2672-4fd8-854f-7b5be5d85597",
   "metadata": {
    "id": "95c472d0-abd1-4828-a6ac-92629d954220",
    "outputId": "3fe42f6f-51a1-409f-ad30-a7176f8d64e0"
   },
   "outputs": [],
   "source": [
    "summarize_diagnostics(history)"
   ]
  },
  {
   "cell_type": "markdown",
   "id": "dc078100-02b2-41b3-a1f7-1ebe614acc6a",
   "metadata": {
    "id": "dc078100-02b2-41b3-a1f7-1ebe614acc6a"
   },
   "source": [
    "### Evaluate"
   ]
  },
  {
   "cell_type": "code",
   "execution_count": null,
   "id": "065914e1-48e4-45a6-b87f-3528572f25be",
   "metadata": {
    "id": "065914e1-48e4-45a6-b87f-3528572f25be",
    "tags": []
   },
   "outputs": [],
   "source": [
    "model = keras.models.load_model(f\"models/{model_name}.keras\")"
   ]
  },
  {
   "cell_type": "code",
   "execution_count": null,
   "id": "39f8b5db-7d3f-4223-8ebb-c8c28edd458e",
   "metadata": {
    "id": "c346aebd-e490-47db-86e6-0a675411d4ea",
    "outputId": "dc737679-ee61-448b-e961-b69b5bc12989",
    "tags": []
   },
   "outputs": [],
   "source": [
    "model.evaluate(X_test_ready, y_test)"
   ]
  },
  {
   "cell_type": "code",
   "execution_count": null,
   "id": "c0221589-4606-4be2-abde-4d01477678dd",
   "metadata": {
    "id": "f5283de9-b5bb-4543-aeb8-89f1ffe402a1",
    "outputId": "8eb4e213-230f-4767-e0ec-4f3a91d3d516",
    "tags": []
   },
   "outputs": [],
   "source": [
    "raw_txt = tf.convert_to_tensor([\"I hate it\", \"I love it\"])\n",
    "raw_txt = text_vectorizationB7(raw_txt)\n",
    "model.predict(raw_txt)"
   ]
  },
  {
   "cell_type": "code",
   "execution_count": null,
   "id": "2dfc8f29-cca6-476e-a061-817d3b6e96a0",
   "metadata": {
    "colab": {
     "base_uri": "https://localhost:8080/",
     "height": 1000
    },
    "executionInfo": {
     "elapsed": 746,
     "status": "ok",
     "timestamp": 1653231856185,
     "user": {
      "displayName": "Valkea",
      "userId": "01476199649418572392"
     },
     "user_tz": -120
    },
    "id": "bd9ec60e-3722-46d1-8f1d-54f9cb926e91",
    "outputId": "e3c4ed78-a90b-46e0-baa0-c28f701f4414",
    "tags": []
   },
   "outputs": [],
   "source": [
    "_ = get_scores(\n",
    "    model_name,\n",
    "    model=model,\n",
    "    X_ref=X_test_ready,\n",
    "    y_ref=y_test, \n",
    "    threshold=0.5,\n",
    "    # y_pred=y_preds, \n",
    "    # y_pred_proba=y_preds_proba, \n",
    "    training_time=train_time, \n",
    "    # inference_time=inf_time, \n",
    "    dagslogger=dagslogger,\n",
    "    register=True,\n",
    ")"
   ]
  },
  {
   "cell_type": "markdown",
   "id": "120ddafd-4506-4fe3-bc69-05dbc0ee2edd",
   "metadata": {
    "id": "120ddafd-4506-4fe3-bc69-05dbc0ee2edd"
   },
   "source": [
    "#### Trouvons le meilleur seuil de séparation pour les prédiction (sur la base du F1 score)"
   ]
  },
  {
   "cell_type": "code",
   "execution_count": null,
   "id": "45deeb8c-2051-49ab-bed5-fe4acfa3196a",
   "metadata": {
    "id": "d1f15903-21a2-4aa5-8388-77b44edc7522",
    "outputId": "47ee152f-c98d-4b34-adae-e9c9421afe23"
   },
   "outputs": [],
   "source": [
    "acc_value, best_threshold = find_best_threshold(model, X_valid_ready, y_valid, accuracy_score)\n",
    "print(f\"The best Accuracy score ({acc_value}) for this model is reached with a threshold of {best_threshold}\")"
   ]
  },
  {
   "cell_type": "code",
   "execution_count": null,
   "id": "50947ed3-0f48-47f3-94df-37a12482d9b0",
   "metadata": {
    "colab": {
     "base_uri": "https://localhost:8080/",
     "height": 1000
    },
    "executionInfo": {
     "elapsed": 746,
     "status": "ok",
     "timestamp": 1653231856185,
     "user": {
      "displayName": "Valkea",
      "userId": "01476199649418572392"
     },
     "user_tz": -120
    },
    "id": "a9645e58-b046-47d0-a8cf-474b543df247",
    "outputId": "e3c4ed78-a90b-46e0-baa0-c28f701f4414",
    "tags": []
   },
   "outputs": [],
   "source": [
    "scores = get_scores(\n",
    "    f\"{model_name} [w. threshold]\",\n",
    "    model=model,\n",
    "    X_ref=X_test_ready,\n",
    "    y_ref=y_test, \n",
    "    threshold=best_threshold,\n",
    "    # y_pred=y_preds, \n",
    "    # y_pred_proba=y_preds_proba, \n",
    "    training_time=train_time, \n",
    "    # inference_time=inf_time, \n",
    "    dagslogger=dagslogger,\n",
    "    register=True,\n",
    "    show_roccurves=False,\n",
    ")"
   ]
  },
  {
   "cell_type": "markdown",
   "id": "1b3322d7-73a7-485f-8c40-a20f3f84b61d",
   "metadata": {
    "id": "1b3322d7-73a7-485f-8c40-a20f3f84b61d"
   },
   "source": [
    "#### Enregistrons les scores pour DagsHub"
   ]
  },
  {
   "cell_type": "code",
   "execution_count": null,
   "id": "02bf03a8-c39b-403a-adc1-e6ccaa5a1fa7",
   "metadata": {
    "id": "02bf03a8-c39b-403a-adc1-e6ccaa5a1fa7"
   },
   "outputs": [],
   "source": [
    "save_metrics_to_dagshub(dagslogger, scores, best_threshold, history)\n",
    "dagslogger.save() \n",
    "dagslogger.close()"
   ]
  },
  {
   "cell_type": "markdown",
   "id": "e99153e8-1d30-46c0-ba45-1019bb7128b4",
   "metadata": {
    "id": "e99153e8-1d30-46c0-ba45-1019bb7128b4"
   },
   "source": [
    "### Compare"
   ]
  },
  {
   "cell_type": "code",
   "execution_count": null,
   "id": "0a146f83-267d-4307-8b83-f28821bcf195",
   "metadata": {
    "id": "fb87ecce-c89d-40c2-8f68-0c134abf6802",
    "outputId": "b9757a56-74b6-46d5-b275-c50bffada785",
    "tags": []
   },
   "outputs": [],
   "source": [
    "from classification_utils import scores_df\n",
    "scores_df"
   ]
  },
  {
   "cell_type": "markdown",
   "id": "75fb90cd-6fd6-4818-9015-16d9ad1df59d",
   "metadata": {
    "id": "75fb90cd-6fd6-4818-9015-16d9ad1df59d"
   },
   "source": [
    "---\n",
    "## 2.5 `Archi-300` GRU 32 + Dropout 0.5 <a class=\"anchor\" id=\"ARCHI_300\"></a> [⇪](#menu)"
   ]
  },
  {
   "cell_type": "code",
   "execution_count": null,
   "id": "0fc8ea44-c420-4c6e-9b3e-5567d93a999d",
   "metadata": {
    "id": "0fc8ea44-c420-4c6e-9b3e-5567d93a999d",
    "tags": []
   },
   "outputs": [],
   "source": [
    "# Embedding avec masque\n",
    "embedding_layer = layers.Embedding(\n",
    "    input_dim=max_tokens,\n",
    "    output_dim=embedding_dim,\n",
    "    embeddings_initializer=keras.initializers.Constant(embedding_matrix),\n",
    "    # input_length=max_length,\n",
    "    mask_zero=True,\n",
    "    trainable=False, # <== default is True\n",
    "    name=\"embedding_GloVe_Twitter_200d\",\n",
    ")"
   ]
  },
  {
   "cell_type": "code",
   "execution_count": null,
   "id": "24169243-e59d-4d95-9c3f-cfcd0b4005cf",
   "metadata": {
    "id": "24169243-e59d-4d95-9c3f-cfcd0b4005cf",
    "tags": []
   },
   "outputs": [],
   "source": [
    "model_name = \"Archi300\"\n",
    "model, archi_desc = architecture300(\"adam\", \"binary_crossentropy\", ['accuracy'], embedding_layer)"
   ]
  },
  {
   "cell_type": "code",
   "execution_count": null,
   "id": "862cea23-fe7d-45af-8732-d573be52776d",
   "metadata": {
    "id": "3019bbe2-b5f0-4648-8b55-f50791563b28",
    "outputId": "59c0be7a-b7b8-4715-9e14-e85c4928fb9f",
    "tags": []
   },
   "outputs": [],
   "source": [
    "model.summary()"
   ]
  },
  {
   "cell_type": "markdown",
   "id": "265b5fea-b5d9-4b8c-b290-c14330c118c2",
   "metadata": {
    "id": "265b5fea-b5d9-4b8c-b290-c14330c118c2"
   },
   "source": [
    "#### Définissons un logger DagsHub pour enregistrer notre essai"
   ]
  },
  {
   "cell_type": "code",
   "execution_count": null,
   "id": "7b434ad9-52b7-4c07-aade-be77944a1de3",
   "metadata": {
    "id": "7b434ad9-52b7-4c07-aade-be77944a1de3"
   },
   "outputs": [],
   "source": [
    "dagslogger = DAGsHubLogger()"
   ]
  },
  {
   "cell_type": "code",
   "execution_count": null,
   "id": "4e927044-7a98-4f13-82fb-a4d6a864126c",
   "metadata": {
    "id": "4e927044-7a98-4f13-82fb-a4d6a864126c"
   },
   "outputs": [],
   "source": [
    "save_hyperparameters_to_dagshub(dagslogger, model_name, archi_desc, get_layers_for_dagshub(model), batch_size, data_work.shape[0])"
   ]
  },
  {
   "cell_type": "markdown",
   "id": "0ccd0239-f8df-4f46-8eff-631fb54c135b",
   "metadata": {
    "id": "0ccd0239-f8df-4f46-8eff-631fb54c135b"
   },
   "source": [
    "### Train model"
   ]
  },
  {
   "cell_type": "code",
   "execution_count": null,
   "id": "a3eea247-19c5-442b-8531-198987583803",
   "metadata": {
    "id": "8dda84aa-bfc0-4ebe-99cd-b022db95d5a1",
    "outputId": "5ab19b1f-0722-480e-aa65-977796645a80",
    "tags": []
   },
   "outputs": [],
   "source": [
    "t0 = time.perf_counter()\n",
    "history = model.fit(\n",
    "        x=X_train_ready, y=y_train, \n",
    "        validation_data=(X_test_ready, y_test), \n",
    "        epochs=100, \n",
    "        batch_size=batch_size, \n",
    "        callbacks=init_callbacks(f\"{model_name}\"),\n",
    "        verbose=1,\n",
    ")\n",
    "train_time = time.perf_counter() - t0"
   ]
  },
  {
   "cell_type": "code",
   "execution_count": null,
   "id": "aed93a76-bd40-4475-8376-cffbb874130a",
   "metadata": {
    "id": "594e4a66-c4cc-4475-b3ab-c817cd374f79",
    "outputId": "f5f567ee-390d-4c74-93e0-3aa84ccc66c9"
   },
   "outputs": [],
   "source": [
    "summarize_diagnostics(history)"
   ]
  },
  {
   "cell_type": "markdown",
   "id": "34eed36f-d5b5-43d7-b5da-ae109ab77562",
   "metadata": {
    "id": "34eed36f-d5b5-43d7-b5da-ae109ab77562"
   },
   "source": [
    "### Evaluate"
   ]
  },
  {
   "cell_type": "code",
   "execution_count": null,
   "id": "de1ca0d0-8e23-4c29-9593-b1f81d29ac7b",
   "metadata": {
    "id": "de1ca0d0-8e23-4c29-9593-b1f81d29ac7b",
    "tags": []
   },
   "outputs": [],
   "source": [
    "model = keras.models.load_model(f\"models/{model_name}.keras\")"
   ]
  },
  {
   "cell_type": "code",
   "execution_count": null,
   "id": "1f8f5ac7-55af-406b-b9e1-d1cf777cacf2",
   "metadata": {
    "id": "8b8e5b6e-4bd7-4e1b-afcd-0f2618765255",
    "outputId": "09878ada-0474-4628-95f3-b82f43233e16",
    "tags": []
   },
   "outputs": [],
   "source": [
    "model.evaluate(X_test_ready, y_test)"
   ]
  },
  {
   "cell_type": "code",
   "execution_count": null,
   "id": "79bfc683-c0eb-46ba-802d-3da2744e5459",
   "metadata": {
    "id": "f9842821-3917-4c56-85c5-e703bee8fe5e",
    "outputId": "f29b4710-61bf-4ef9-b9f3-75e72e810a3f",
    "tags": []
   },
   "outputs": [],
   "source": [
    "raw_txt = tf.convert_to_tensor([\"I hate it\", \"I love it\"])\n",
    "raw_txt = text_vectorizationB7(raw_txt)\n",
    "model.predict(raw_txt)"
   ]
  },
  {
   "cell_type": "code",
   "execution_count": null,
   "id": "b39e0525-929e-49e1-8be0-ac4174fe0136",
   "metadata": {
    "colab": {
     "base_uri": "https://localhost:8080/",
     "height": 1000
    },
    "executionInfo": {
     "elapsed": 746,
     "status": "ok",
     "timestamp": 1653231856185,
     "user": {
      "displayName": "Valkea",
      "userId": "01476199649418572392"
     },
     "user_tz": -120
    },
    "id": "c82134e8-e3d0-45b3-bb9a-37de9937a90a",
    "outputId": "e3c4ed78-a90b-46e0-baa0-c28f701f4414",
    "tags": []
   },
   "outputs": [],
   "source": [
    "_ = get_scores(\n",
    "    model_name,\n",
    "    model=model,\n",
    "    X_ref=X_test_ready,\n",
    "    y_ref=y_test, \n",
    "    threshold=0.5,\n",
    "    # y_pred=y_preds, \n",
    "    # y_pred_proba=y_preds_proba, \n",
    "    training_time=train_time, \n",
    "    # inference_time=inf_time, \n",
    "    dagslogger=dagslogger,\n",
    "    register=True,\n",
    ")"
   ]
  },
  {
   "cell_type": "markdown",
   "id": "44513a78-846f-4872-997d-1e99c47b509b",
   "metadata": {
    "id": "44513a78-846f-4872-997d-1e99c47b509b"
   },
   "source": [
    "#### Trouvons le meilleur seuil de séparation pour les prédiction (sur la base du F1 score)"
   ]
  },
  {
   "cell_type": "code",
   "execution_count": null,
   "id": "dc134210-b6f9-4f95-9e6c-24cea104f8eb",
   "metadata": {
    "id": "423af3a7-1c3e-4e9c-b34f-f47adc67d956",
    "outputId": "dbc0b9aa-e4eb-465d-8f79-6778c2540d8f"
   },
   "outputs": [],
   "source": [
    "acc_value, best_threshold = find_best_threshold(model, X_valid_ready, y_valid, accuracy_score)\n",
    "print(f\"The best Accuracy score ({acc_value}) for this model is reached with a threshold of {best_threshold}\")"
   ]
  },
  {
   "cell_type": "code",
   "execution_count": null,
   "id": "b4fe7345-a8f5-4fd0-9f98-5e17da97c628",
   "metadata": {
    "colab": {
     "base_uri": "https://localhost:8080/",
     "height": 1000
    },
    "executionInfo": {
     "elapsed": 746,
     "status": "ok",
     "timestamp": 1653231856185,
     "user": {
      "displayName": "Valkea",
      "userId": "01476199649418572392"
     },
     "user_tz": -120
    },
    "id": "e40a1e97-6d3c-4b03-8ce9-3b633cf83928",
    "outputId": "e3c4ed78-a90b-46e0-baa0-c28f701f4414",
    "tags": []
   },
   "outputs": [],
   "source": [
    "scores = get_scores(\n",
    "    f\"{model_name} [w. threshold]\",\n",
    "    model=model,\n",
    "    X_ref=X_test_ready,\n",
    "    y_ref=y_test, \n",
    "    threshold=best_threshold,\n",
    "    # y_pred=y_preds, \n",
    "    # y_pred_proba=y_preds_proba, \n",
    "    training_time=train_time, \n",
    "    # inference_time=inf_time, \n",
    "    dagslogger=dagslogger,\n",
    "    register=True,\n",
    "    show_roccurves=False,\n",
    ")"
   ]
  },
  {
   "cell_type": "markdown",
   "id": "26ce3a75-6f9c-4c3e-996b-2ebf9153c77a",
   "metadata": {
    "id": "26ce3a75-6f9c-4c3e-996b-2ebf9153c77a"
   },
   "source": [
    "#### Enregistrons les scores pour DagsHub"
   ]
  },
  {
   "cell_type": "code",
   "execution_count": null,
   "id": "e5fca74d-c99e-4e61-8967-b8930c66a186",
   "metadata": {
    "id": "e5fca74d-c99e-4e61-8967-b8930c66a186"
   },
   "outputs": [],
   "source": [
    "save_metrics_to_dagshub(dagslogger, scores, best_threshold, history)\n",
    "dagslogger.save() \n",
    "dagslogger.close()"
   ]
  },
  {
   "cell_type": "markdown",
   "id": "bb697db0-8c9c-4955-8fd3-15a7b7634513",
   "metadata": {
    "id": "bb697db0-8c9c-4955-8fd3-15a7b7634513"
   },
   "source": [
    "### Compare"
   ]
  },
  {
   "cell_type": "code",
   "execution_count": null,
   "id": "feb8565b-b318-4026-8652-1d6ca517a3b6",
   "metadata": {
    "id": "c43d9890-8bc5-44ac-96c4-e7fee18730ec",
    "outputId": "312ad5a6-75e2-484f-96b2-66573b289574",
    "tags": []
   },
   "outputs": [],
   "source": [
    "from classification_utils import scores_df\n",
    "scores_df"
   ]
  },
  {
   "cell_type": "markdown",
   "id": "9cbac34f-6f9e-4d2c-86c7-984a0f6719d1",
   "metadata": {
    "id": "9cbac34f-6f9e-4d2c-86c7-984a0f6719d1"
   },
   "source": [
    "---\n",
    "## 2.6 `Archi-201` Bi-LSTM 64 + Dropout 0.5 <a class=\"anchor\" id=\"ARCHI_201\"></a> [⇪](#menu)"
   ]
  },
  {
   "cell_type": "code",
   "execution_count": null,
   "id": "6323e844-53c3-4013-964a-e1a541634f5e",
   "metadata": {
    "id": "6323e844-53c3-4013-964a-e1a541634f5e",
    "tags": []
   },
   "outputs": [],
   "source": [
    "# Embedding avec masque\n",
    "embedding_layer = layers.Embedding(\n",
    "    input_dim=max_tokens,\n",
    "    output_dim=embedding_dim,\n",
    "    embeddings_initializer=keras.initializers.Constant(embedding_matrix),\n",
    "    # input_length=max_length,\n",
    "    mask_zero=True,\n",
    "    trainable=False, # <== default is True\n",
    "    name=\"embedding_GloVe_Twitter_200d\",\n",
    ")"
   ]
  },
  {
   "cell_type": "code",
   "execution_count": null,
   "id": "2d0d6a77-2485-45e7-82bb-8ab46e67da7b",
   "metadata": {
    "id": "2d0d6a77-2485-45e7-82bb-8ab46e67da7b",
    "tags": []
   },
   "outputs": [],
   "source": [
    "model_name = \"Archi201\"\n",
    "model, archi_desc = architecture201(\"adam\", \"binary_crossentropy\", ['accuracy'], embedding_layer)"
   ]
  },
  {
   "cell_type": "code",
   "execution_count": null,
   "id": "d58c30c1-6632-4395-89c1-d403e34f5ce1",
   "metadata": {
    "id": "fb5aacac-e7b4-4341-86fe-73634fcccb83",
    "outputId": "f3f00399-5d47-41eb-9ba5-a41f1d44b5ee",
    "tags": []
   },
   "outputs": [],
   "source": [
    "model.summary()"
   ]
  },
  {
   "cell_type": "markdown",
   "id": "295e7a1b-9250-4845-ba87-e62206621897",
   "metadata": {
    "id": "295e7a1b-9250-4845-ba87-e62206621897"
   },
   "source": [
    "#### Définissons un logger DagsHub pour enregistrer notre essai"
   ]
  },
  {
   "cell_type": "code",
   "execution_count": null,
   "id": "8ec7da82-cc76-4914-a641-619b365d44ee",
   "metadata": {
    "id": "8ec7da82-cc76-4914-a641-619b365d44ee"
   },
   "outputs": [],
   "source": [
    "dagslogger = DAGsHubLogger()"
   ]
  },
  {
   "cell_type": "code",
   "execution_count": null,
   "id": "0cd6596f-6848-4d93-8660-635949aae5c2",
   "metadata": {
    "id": "0cd6596f-6848-4d93-8660-635949aae5c2"
   },
   "outputs": [],
   "source": [
    "save_hyperparameters_to_dagshub(dagslogger, model_name, archi_desc, get_layers_for_dagshub(model), batch_size, data_work.shape[0])"
   ]
  },
  {
   "cell_type": "markdown",
   "id": "8bde023f-fa7c-40dc-96fb-6b5f43f22677",
   "metadata": {
    "id": "8bde023f-fa7c-40dc-96fb-6b5f43f22677"
   },
   "source": [
    "### Train model"
   ]
  },
  {
   "cell_type": "code",
   "execution_count": null,
   "id": "87de9706-219a-463b-af53-5f10bb420e7b",
   "metadata": {
    "id": "b364330e-7bbb-496b-a1f0-d2b6cc39207d",
    "outputId": "3e98532b-6552-4367-e698-a4df5c6a62a6",
    "tags": []
   },
   "outputs": [],
   "source": [
    "t0 = time.perf_counter()\n",
    "history = model.fit(\n",
    "        x=X_train_ready, y=y_train, \n",
    "        validation_data=(X_test_ready, y_test), \n",
    "        epochs=100, \n",
    "        batch_size=batch_size, \n",
    "        callbacks=init_callbacks(f\"{model_name}\"),\n",
    "        verbose=1,\n",
    ")\n",
    "train_time = time.perf_counter() - t0"
   ]
  },
  {
   "cell_type": "code",
   "execution_count": null,
   "id": "51221660-fa40-4641-81fa-54fca3539642",
   "metadata": {
    "id": "51d56466-acb6-41e5-bd42-6dc495a68983",
    "outputId": "c57c408e-a4ec-4819-e3d0-805096619ceb"
   },
   "outputs": [],
   "source": [
    "summarize_diagnostics(history)"
   ]
  },
  {
   "cell_type": "markdown",
   "id": "04a73dc3-fcdd-4a3a-9f8a-effc26a9db0f",
   "metadata": {
    "id": "04a73dc3-fcdd-4a3a-9f8a-effc26a9db0f"
   },
   "source": [
    "### Evaluate"
   ]
  },
  {
   "cell_type": "code",
   "execution_count": null,
   "id": "7e72670f-2432-47e1-b427-14b415a89452",
   "metadata": {
    "id": "7e72670f-2432-47e1-b427-14b415a89452",
    "tags": []
   },
   "outputs": [],
   "source": [
    "model = keras.models.load_model(f\"models/{model_name}.keras\")"
   ]
  },
  {
   "cell_type": "code",
   "execution_count": null,
   "id": "903add0e-335f-4e01-84a9-c091d1dc9676",
   "metadata": {
    "id": "0bc17e30-d401-4466-b9f1-1366e86aa44c",
    "outputId": "e9e9cdd9-6027-4283-b6f1-f25b889b8fa9",
    "tags": []
   },
   "outputs": [],
   "source": [
    "model.evaluate(X_test_ready, y_test)"
   ]
  },
  {
   "cell_type": "code",
   "execution_count": null,
   "id": "55be3764-31e7-4ee4-9c67-4cf60ba904f7",
   "metadata": {
    "id": "38f0216c-08d6-4527-bfba-25672891ea66",
    "outputId": "825a3a8b-6cc0-48dc-fa6a-bf333309878c",
    "tags": []
   },
   "outputs": [],
   "source": [
    "raw_txt = tf.convert_to_tensor([\"I hate it\", \"I love it\"])\n",
    "raw_txt = text_vectorizationB7(raw_txt)\n",
    "model.predict(raw_txt)"
   ]
  },
  {
   "cell_type": "code",
   "execution_count": null,
   "id": "faaa203d-9371-4d54-8a99-93d38b2ae8f5",
   "metadata": {
    "colab": {
     "base_uri": "https://localhost:8080/",
     "height": 1000
    },
    "executionInfo": {
     "elapsed": 746,
     "status": "ok",
     "timestamp": 1653231856185,
     "user": {
      "displayName": "Valkea",
      "userId": "01476199649418572392"
     },
     "user_tz": -120
    },
    "id": "aa2fc07f-bb98-44d1-8f9a-9e9225948f2a",
    "outputId": "e3c4ed78-a90b-46e0-baa0-c28f701f4414",
    "tags": []
   },
   "outputs": [],
   "source": [
    "_ = get_scores(\n",
    "    model_name,\n",
    "    model=model,\n",
    "    X_ref=X_test_ready,\n",
    "    y_ref=y_test, \n",
    "    threshold=0.5,\n",
    "    # y_pred=y_preds, \n",
    "    # y_pred_proba=y_preds_proba, \n",
    "    training_time=train_time, \n",
    "    # inference_time=inf_time, \n",
    "    dagslogger=dagslogger,\n",
    "    register=True,\n",
    ")"
   ]
  },
  {
   "cell_type": "markdown",
   "id": "22d78c2d-e23d-4396-9966-c1384168bd0c",
   "metadata": {
    "id": "22d78c2d-e23d-4396-9966-c1384168bd0c"
   },
   "source": [
    "#### Trouvons le meilleur seuil de séparation pour les prédiction (sur la base du F1 score)"
   ]
  },
  {
   "cell_type": "code",
   "execution_count": null,
   "id": "dac883e6-7a87-4d71-891e-31b4fd832464",
   "metadata": {
    "id": "7aa071c7-bb4c-417b-9e15-ae7f1e03a04e",
    "outputId": "51dbdb5e-1829-49fd-ed31-a94d16ad60d2"
   },
   "outputs": [],
   "source": [
    "acc_value, best_threshold = find_best_threshold(model, X_valid_ready, y_valid, accuracy_score)\n",
    "print(f\"The best Accuracy score ({acc_value}) for this model is reached with a threshold of {best_threshold}\")"
   ]
  },
  {
   "cell_type": "code",
   "execution_count": null,
   "id": "81566ea4-515a-4ed9-a619-ab0a4129406f",
   "metadata": {
    "colab": {
     "base_uri": "https://localhost:8080/",
     "height": 1000
    },
    "executionInfo": {
     "elapsed": 746,
     "status": "ok",
     "timestamp": 1653231856185,
     "user": {
      "displayName": "Valkea",
      "userId": "01476199649418572392"
     },
     "user_tz": -120
    },
    "id": "677cac7b-f06b-4c51-9763-0ddfa3b44c6b",
    "outputId": "e3c4ed78-a90b-46e0-baa0-c28f701f4414",
    "tags": []
   },
   "outputs": [],
   "source": [
    "scores = get_scores(\n",
    "    f\"{model_name} [w. threshold]\",\n",
    "    model=model,\n",
    "    X_ref=X_test_ready,\n",
    "    y_ref=y_test, \n",
    "    threshold=best_threshold,\n",
    "    # y_pred=y_preds, \n",
    "    # y_pred_proba=y_preds_proba, \n",
    "    training_time=train_time, \n",
    "    # inference_time=inf_time, \n",
    "    dagslogger=dagslogger,\n",
    "    register=True,\n",
    "    show_roccurves=False,\n",
    ")"
   ]
  },
  {
   "cell_type": "markdown",
   "id": "d7bf340a-5f54-46ae-afdb-4221cd37254b",
   "metadata": {
    "id": "d7bf340a-5f54-46ae-afdb-4221cd37254b"
   },
   "source": [
    "#### Enregistrons les scores pour DagsHub"
   ]
  },
  {
   "cell_type": "code",
   "execution_count": null,
   "id": "7fec42be-5377-473a-bdfa-1469b1b26594",
   "metadata": {
    "id": "7fec42be-5377-473a-bdfa-1469b1b26594"
   },
   "outputs": [],
   "source": [
    "save_metrics_to_dagshub(dagslogger, scores, best_threshold, history)\n",
    "dagslogger.save() \n",
    "dagslogger.close()"
   ]
  },
  {
   "cell_type": "markdown",
   "id": "3ff1b657-e87f-4df9-af1f-277bef46a26e",
   "metadata": {
    "id": "3ff1b657-e87f-4df9-af1f-277bef46a26e"
   },
   "source": [
    "### Compare"
   ]
  },
  {
   "cell_type": "code",
   "execution_count": null,
   "id": "33e6a395-187a-4a13-840b-e83537ef1f46",
   "metadata": {
    "id": "121b1c6a-1cb0-46ad-a931-f380444817df",
    "outputId": "6683e981-9365-4231-8dd5-c7035671c509",
    "tags": []
   },
   "outputs": [],
   "source": [
    "from classification_utils import scores_df\n",
    "scores_df"
   ]
  },
  {
   "cell_type": "markdown",
   "id": "f94919c3-2326-44e2-99dc-8af6612330d9",
   "metadata": {
    "id": "f94919c3-2326-44e2-99dc-8af6612330d9"
   },
   "source": [
    "---\n",
    "## 2.7 `Archi-202` Bi-LSTM 64 + Dense 24 <a class=\"anchor\" id=\"ARCHI_202\"></a> [⇪](#menu)"
   ]
  },
  {
   "cell_type": "code",
   "execution_count": null,
   "id": "b4b95777-9c9f-432e-9bdc-8aa45f546e9a",
   "metadata": {
    "id": "b4b95777-9c9f-432e-9bdc-8aa45f546e9a",
    "tags": []
   },
   "outputs": [],
   "source": [
    "# Embedding avec masque\n",
    "embedding_layer = layers.Embedding(\n",
    "    input_dim=max_tokens,\n",
    "    output_dim=embedding_dim,\n",
    "    embeddings_initializer=keras.initializers.Constant(embedding_matrix),\n",
    "    # input_length=max_length,\n",
    "    mask_zero=True,\n",
    "    trainable=False, # <== default is True\n",
    "    name=\"embedding_GloVe_Twitter_200d\",\n",
    ")"
   ]
  },
  {
   "cell_type": "code",
   "execution_count": null,
   "id": "29111dbf-0f6b-4a29-b7e8-f0a65fb2769b",
   "metadata": {
    "id": "29111dbf-0f6b-4a29-b7e8-f0a65fb2769b",
    "tags": []
   },
   "outputs": [],
   "source": [
    "model_name = \"Archi202\"\n",
    "model, archi_desc = architecture202(\"adam\", \"binary_crossentropy\", ['accuracy'], embedding_layer)"
   ]
  },
  {
   "cell_type": "code",
   "execution_count": null,
   "id": "54ef2cab-e788-49ed-a993-f1d688cf9e92",
   "metadata": {
    "id": "f1c1fbfb-5b23-40c8-91c0-ba2d79040965",
    "outputId": "41e396d9-7363-417a-fac4-5fe73291a4b5",
    "tags": []
   },
   "outputs": [],
   "source": [
    "model.summary()"
   ]
  },
  {
   "cell_type": "markdown",
   "id": "ef86ed23-f1b2-4477-a206-aec2a76b8eb2",
   "metadata": {
    "id": "ef86ed23-f1b2-4477-a206-aec2a76b8eb2"
   },
   "source": [
    "#### Définissons un logger DagsHub pour enregistrer notre essai"
   ]
  },
  {
   "cell_type": "code",
   "execution_count": null,
   "id": "7ab5a932-43ab-4b9e-a819-c4be57bc205c",
   "metadata": {
    "id": "7ab5a932-43ab-4b9e-a819-c4be57bc205c"
   },
   "outputs": [],
   "source": [
    "dagslogger = DAGsHubLogger()"
   ]
  },
  {
   "cell_type": "code",
   "execution_count": null,
   "id": "e6272ce5-64c4-4bb6-8e04-9eb97b38d7b6",
   "metadata": {
    "id": "e6272ce5-64c4-4bb6-8e04-9eb97b38d7b6"
   },
   "outputs": [],
   "source": [
    "save_hyperparameters_to_dagshub(dagslogger, model_name, archi_desc, get_layers_for_dagshub(model), batch_size, data_work.shape[0])"
   ]
  },
  {
   "cell_type": "markdown",
   "id": "4d78c6a9-4b3c-48c0-b03b-d23d974beda3",
   "metadata": {
    "id": "4d78c6a9-4b3c-48c0-b03b-d23d974beda3"
   },
   "source": [
    "### Train model"
   ]
  },
  {
   "cell_type": "code",
   "execution_count": null,
   "id": "63e41fa0-f18f-4a92-bdac-1036962b6d66",
   "metadata": {
    "id": "36e13006-e227-4a84-84b8-d3333b830950",
    "outputId": "3d541cb1-0af6-4b98-f81e-ed8fd9e471cc",
    "tags": []
   },
   "outputs": [],
   "source": [
    "t0 = time.perf_counter()\n",
    "history = model.fit(\n",
    "        x=X_train_ready, y=y_train, \n",
    "        validation_data=(X_test_ready, y_test), \n",
    "        epochs=100, \n",
    "        batch_size=batch_size, \n",
    "        callbacks=init_callbacks(f\"{model_name}\"),\n",
    "        verbose=1,\n",
    ")\n",
    "train_time = time.perf_counter() - t0"
   ]
  },
  {
   "cell_type": "code",
   "execution_count": null,
   "id": "ca72c1d5-e912-4c3e-be93-d929f52e132e",
   "metadata": {
    "id": "ccc35167-a879-4f86-9bfa-edd9c2d6bcf5",
    "outputId": "340eb989-006d-4868-95cd-5becf8cf53d6"
   },
   "outputs": [],
   "source": [
    "summarize_diagnostics(history)"
   ]
  },
  {
   "cell_type": "markdown",
   "id": "78cc5216-ec1c-4654-a9ea-b3470c43c41f",
   "metadata": {
    "id": "78cc5216-ec1c-4654-a9ea-b3470c43c41f"
   },
   "source": [
    "### Evaluate"
   ]
  },
  {
   "cell_type": "code",
   "execution_count": null,
   "id": "a16f491b-4f5e-40cb-a600-d86086d8f7a8",
   "metadata": {
    "id": "a16f491b-4f5e-40cb-a600-d86086d8f7a8",
    "tags": []
   },
   "outputs": [],
   "source": [
    "model = keras.models.load_model(f\"models/{model_name}.keras\")"
   ]
  },
  {
   "cell_type": "code",
   "execution_count": null,
   "id": "16819e1e-1f6b-4706-a79a-353ea5e59843",
   "metadata": {
    "id": "b706cf92-cffe-412d-823f-82344856fe1a",
    "outputId": "10062ccc-059d-4644-cda8-7956f3e5acd6",
    "tags": []
   },
   "outputs": [],
   "source": [
    "model.evaluate(X_test_ready, y_test)"
   ]
  },
  {
   "cell_type": "code",
   "execution_count": null,
   "id": "777c6be8-e220-4484-b52e-713cbeb73bca",
   "metadata": {
    "id": "718ac5c0-c393-45ca-9a0a-4fa06e09361d",
    "outputId": "d23f6e47-f1c0-4819-898e-14b90cb09af1",
    "tags": []
   },
   "outputs": [],
   "source": [
    "raw_txt = tf.convert_to_tensor([\"I hate it\", \"I love it\"])\n",
    "raw_txt = text_vectorizationB7(raw_txt)\n",
    "model.predict(raw_txt)"
   ]
  },
  {
   "cell_type": "code",
   "execution_count": null,
   "id": "e733a83e-d886-484c-83dc-dfb54ce04fb0",
   "metadata": {
    "colab": {
     "base_uri": "https://localhost:8080/",
     "height": 1000
    },
    "executionInfo": {
     "elapsed": 746,
     "status": "ok",
     "timestamp": 1653231856185,
     "user": {
      "displayName": "Valkea",
      "userId": "01476199649418572392"
     },
     "user_tz": -120
    },
    "id": "9b15da10-c9a3-46c8-ba06-2e22e388fc9f",
    "outputId": "e3c4ed78-a90b-46e0-baa0-c28f701f4414",
    "tags": []
   },
   "outputs": [],
   "source": [
    "_ = get_scores(\n",
    "    model_name,\n",
    "    model=model,\n",
    "    X_ref=X_test_ready,\n",
    "    y_ref=y_test, \n",
    "    threshold=0.5,\n",
    "    # y_pred=y_preds, \n",
    "    # y_pred_proba=y_preds_proba, \n",
    "    training_time=train_time, \n",
    "    # inference_time=inf_time, \n",
    "    dagslogger=dagslogger,\n",
    "    register=True,\n",
    ")"
   ]
  },
  {
   "cell_type": "markdown",
   "id": "6d1b8458-1085-4756-ac6b-6f9cd58d5c05",
   "metadata": {
    "id": "6d1b8458-1085-4756-ac6b-6f9cd58d5c05"
   },
   "source": [
    "#### Trouvons le meilleur seuil de séparation pour les prédiction (sur la base du F1 score)"
   ]
  },
  {
   "cell_type": "code",
   "execution_count": null,
   "id": "08104c8a-534c-4f43-b165-506d2c3cff6e",
   "metadata": {
    "id": "fed4cba3-14e6-42c5-bc6b-606914477f3c",
    "outputId": "8e01d70c-4b9a-415b-8775-7bddc43deaf9"
   },
   "outputs": [],
   "source": [
    "acc_value, best_threshold = find_best_threshold(model, X_valid_ready, y_valid, accuracy_score)\n",
    "print(f\"The best Accuracy score ({acc_value}) for this model is reached with a threshold of {best_threshold}\")"
   ]
  },
  {
   "cell_type": "code",
   "execution_count": null,
   "id": "f819b59c-a575-4b53-b7cd-dd65d4735932",
   "metadata": {
    "colab": {
     "base_uri": "https://localhost:8080/",
     "height": 1000
    },
    "executionInfo": {
     "elapsed": 746,
     "status": "ok",
     "timestamp": 1653231856185,
     "user": {
      "displayName": "Valkea",
      "userId": "01476199649418572392"
     },
     "user_tz": -120
    },
    "id": "7bce4b61-4262-40c2-905e-3a97396b0fe5",
    "outputId": "e3c4ed78-a90b-46e0-baa0-c28f701f4414",
    "tags": []
   },
   "outputs": [],
   "source": [
    "scores = get_scores(\n",
    "    f\"{model_name} [w. threshold]\",\n",
    "    model=model,\n",
    "    X_ref=X_test_ready,\n",
    "    y_ref=y_test, \n",
    "    threshold=best_threshold,\n",
    "    # y_pred=y_preds, \n",
    "    # y_pred_proba=y_preds_proba, \n",
    "    training_time=train_time, \n",
    "    # inference_time=inf_time, \n",
    "    dagslogger=dagslogger,\n",
    "    register=True,\n",
    "    show_roccurves=False,\n",
    ")"
   ]
  },
  {
   "cell_type": "markdown",
   "id": "63ca47aa-1778-42e6-9998-b239517b22d5",
   "metadata": {
    "id": "63ca47aa-1778-42e6-9998-b239517b22d5"
   },
   "source": [
    "#### Enregistrons les scores pour DagsHub"
   ]
  },
  {
   "cell_type": "code",
   "execution_count": null,
   "id": "fb3bd294-3b23-4b51-b89e-9eba78990926",
   "metadata": {
    "id": "fb3bd294-3b23-4b51-b89e-9eba78990926"
   },
   "outputs": [],
   "source": [
    "save_metrics_to_dagshub(dagslogger, scores, best_threshold, history)\n",
    "dagslogger.save() \n",
    "dagslogger.close()"
   ]
  },
  {
   "cell_type": "markdown",
   "id": "011464bd-3789-4039-938a-3c78a7af775b",
   "metadata": {
    "id": "011464bd-3789-4039-938a-3c78a7af775b"
   },
   "source": [
    "### Compare"
   ]
  },
  {
   "cell_type": "code",
   "execution_count": null,
   "id": "c76d90b8-a5c7-445b-84d1-04ef05547351",
   "metadata": {
    "id": "5441d71e-1960-49a3-94c6-ba732d1f0745",
    "outputId": "3536c1c1-d101-4e0c-a19e-de3ed08b76e9",
    "tags": []
   },
   "outputs": [],
   "source": [
    "from classification_utils import scores_df\n",
    "scores_df"
   ]
  },
  {
   "cell_type": "markdown",
   "id": "0c7b795b-0e7f-4f05-95c9-b73b13bce053",
   "metadata": {
    "id": "0c7b795b-0e7f-4f05-95c9-b73b13bce053"
   },
   "source": [
    "---\n",
    "## 2.8 `Archi-301` Bi-GRU 64 + Dropout 0.5 <a class=\"anchor\" id=\"ARCHI_301\"></a> [⇪](#menu)"
   ]
  },
  {
   "cell_type": "code",
   "execution_count": null,
   "id": "e91705fd-be97-4855-a88e-2d71b22b9d02",
   "metadata": {
    "id": "e91705fd-be97-4855-a88e-2d71b22b9d02",
    "tags": []
   },
   "outputs": [],
   "source": [
    "# Embedding avec masque\n",
    "embedding_layer = layers.Embedding(\n",
    "    input_dim=max_tokens,\n",
    "    output_dim=embedding_dim,\n",
    "    embeddings_initializer=keras.initializers.Constant(embedding_matrix),\n",
    "    # input_length=max_length,\n",
    "    mask_zero=True,\n",
    "    trainable=False, # <== default is True\n",
    "    name=\"embedding_GloVe_Twitter_200d\",\n",
    ")"
   ]
  },
  {
   "cell_type": "code",
   "execution_count": null,
   "id": "5cb83991-93c6-4a24-b15c-ac63b6172098",
   "metadata": {
    "id": "5cb83991-93c6-4a24-b15c-ac63b6172098",
    "tags": []
   },
   "outputs": [],
   "source": [
    "model_name = \"Archi301\"\n",
    "model, archi_desc = architecture301(\"adam\", \"binary_crossentropy\", ['accuracy'], embedding_layer)"
   ]
  },
  {
   "cell_type": "code",
   "execution_count": null,
   "id": "9f8e4865-73f6-424e-8c04-da51ee397b99",
   "metadata": {
    "id": "20501595-b123-43a0-a37b-1db065d14ffb",
    "outputId": "672f59a5-0313-4ad3-eeba-d8a4c6e66a6d",
    "tags": []
   },
   "outputs": [],
   "source": [
    "model.summary()"
   ]
  },
  {
   "cell_type": "markdown",
   "id": "f086471e-374c-4249-93ac-baaaaec884f0",
   "metadata": {
    "id": "f086471e-374c-4249-93ac-baaaaec884f0"
   },
   "source": [
    "#### Définissons un logger DagsHub pour enregistrer notre essai"
   ]
  },
  {
   "cell_type": "code",
   "execution_count": null,
   "id": "8d05923e-d8a1-4d2a-8ec8-1ab17c91518c",
   "metadata": {
    "id": "8d05923e-d8a1-4d2a-8ec8-1ab17c91518c"
   },
   "outputs": [],
   "source": [
    "dagslogger = DAGsHubLogger()"
   ]
  },
  {
   "cell_type": "code",
   "execution_count": null,
   "id": "2b7a3cc0-17a7-44f2-aadc-72e7b5287c4f",
   "metadata": {
    "id": "2b7a3cc0-17a7-44f2-aadc-72e7b5287c4f"
   },
   "outputs": [],
   "source": [
    "save_hyperparameters_to_dagshub(dagslogger, model_name, archi_desc, get_layers_for_dagshub(model), batch_size, data_work.shape[0])"
   ]
  },
  {
   "cell_type": "markdown",
   "id": "ddd4aac0-ed13-4d37-b222-708d7e10993f",
   "metadata": {
    "id": "ddd4aac0-ed13-4d37-b222-708d7e10993f"
   },
   "source": [
    "### Train model"
   ]
  },
  {
   "cell_type": "code",
   "execution_count": null,
   "id": "417627cc-3722-4e73-a0b1-2c2bec733b5f",
   "metadata": {
    "id": "2e974753-6e90-4c30-8da5-25480be75bf8",
    "outputId": "3b8acbf7-93b7-4daf-8180-2f7e46164297",
    "tags": []
   },
   "outputs": [],
   "source": [
    "t0 = time.perf_counter()\n",
    "history = model.fit(\n",
    "        x=X_train_ready, y=y_train, \n",
    "        validation_data=(X_test_ready, y_test), \n",
    "        epochs=100, \n",
    "        batch_size=batch_size, \n",
    "        callbacks=init_callbacks(f\"{model_name}\"),\n",
    "        verbose=1,\n",
    ")\n",
    "train_time = time.perf_counter() - t0"
   ]
  },
  {
   "cell_type": "code",
   "execution_count": null,
   "id": "e8a71d5f-765f-48be-abb1-d06eed4e007e",
   "metadata": {
    "id": "476524a2-001b-479d-a45b-c5801c5b83c6",
    "outputId": "d0292d02-1135-4af7-efd0-606bdd17ed1f"
   },
   "outputs": [],
   "source": [
    "summarize_diagnostics(history)"
   ]
  },
  {
   "cell_type": "markdown",
   "id": "257e64e9-3e1c-4cb0-87f6-96e161d01ed5",
   "metadata": {
    "id": "257e64e9-3e1c-4cb0-87f6-96e161d01ed5"
   },
   "source": [
    "### Evaluate"
   ]
  },
  {
   "cell_type": "code",
   "execution_count": null,
   "id": "20f270fa-75b2-4f2c-b3c6-f311a1e0ea5a",
   "metadata": {
    "id": "20f270fa-75b2-4f2c-b3c6-f311a1e0ea5a",
    "tags": []
   },
   "outputs": [],
   "source": [
    "model = keras.models.load_model(f\"models/{model_name}.keras\")"
   ]
  },
  {
   "cell_type": "code",
   "execution_count": null,
   "id": "7ad87bc0-d340-4139-bd9d-a987220d933a",
   "metadata": {
    "id": "75fa58f1-a5c3-4b93-ba31-7eb48752508b",
    "outputId": "335e3842-8381-4898-ef19-1b44244aff82",
    "tags": []
   },
   "outputs": [],
   "source": [
    "model.evaluate(X_test_ready, y_test)"
   ]
  },
  {
   "cell_type": "code",
   "execution_count": null,
   "id": "5533f8ba-2bcc-4828-8ae9-92f53a661815",
   "metadata": {
    "id": "af920217-374a-410c-a886-d441ecabe239",
    "outputId": "69c79bad-9dde-4335-e9ef-07a352b11ff4",
    "tags": []
   },
   "outputs": [],
   "source": [
    "raw_txt = tf.convert_to_tensor([\"I hate it\", \"I love it\"])\n",
    "raw_txt = text_vectorizationB7(raw_txt)\n",
    "model.predict(raw_txt)"
   ]
  },
  {
   "cell_type": "code",
   "execution_count": null,
   "id": "b5006d2f-32d0-4800-a115-d67be37dd03d",
   "metadata": {
    "colab": {
     "base_uri": "https://localhost:8080/",
     "height": 1000
    },
    "executionInfo": {
     "elapsed": 746,
     "status": "ok",
     "timestamp": 1653231856185,
     "user": {
      "displayName": "Valkea",
      "userId": "01476199649418572392"
     },
     "user_tz": -120
    },
    "id": "25baa298-18bb-4f40-963a-804754beebb0",
    "outputId": "e3c4ed78-a90b-46e0-baa0-c28f701f4414",
    "tags": []
   },
   "outputs": [],
   "source": [
    "_ = get_scores(\n",
    "    model_name,\n",
    "    model=model,\n",
    "    X_ref=X_test_ready,\n",
    "    y_ref=y_test, \n",
    "    threshold=0.5,\n",
    "    # y_pred=y_preds, \n",
    "    # y_pred_proba=y_preds_proba, \n",
    "    training_time=train_time, \n",
    "    # inference_time=inf_time, \n",
    "    dagslogger=dagslogger,\n",
    "    register=True,\n",
    ")"
   ]
  },
  {
   "cell_type": "markdown",
   "id": "52587f75-4d15-4391-9398-43199de512b9",
   "metadata": {
    "id": "52587f75-4d15-4391-9398-43199de512b9"
   },
   "source": [
    "#### Trouvons le meilleur seuil de séparation pour les prédiction (sur la base du F1 score)"
   ]
  },
  {
   "cell_type": "code",
   "execution_count": null,
   "id": "1bf5f930-53db-4b00-b183-1f006b25a670",
   "metadata": {
    "id": "a5379d88-18cd-47c7-aab4-4a37f909f127",
    "outputId": "379b7b04-b35b-4a26-ad37-7a8b6ae983fc"
   },
   "outputs": [],
   "source": [
    "acc_value, best_threshold = find_best_threshold(model, X_valid_ready, y_valid, accuracy_score)\n",
    "print(f\"The best Accuracy score ({acc_value}) for this model is reached with a threshold of {best_threshold}\")"
   ]
  },
  {
   "cell_type": "code",
   "execution_count": null,
   "id": "89147c47-3339-4189-96da-1c69a1367387",
   "metadata": {
    "colab": {
     "base_uri": "https://localhost:8080/",
     "height": 1000
    },
    "executionInfo": {
     "elapsed": 746,
     "status": "ok",
     "timestamp": 1653231856185,
     "user": {
      "displayName": "Valkea",
      "userId": "01476199649418572392"
     },
     "user_tz": -120
    },
    "id": "d7e76dc3-c56b-4601-9d06-596445ee2cb7",
    "outputId": "e3c4ed78-a90b-46e0-baa0-c28f701f4414",
    "tags": []
   },
   "outputs": [],
   "source": [
    "scores = get_scores(\n",
    "    f\"{model_name} [w. threshold]\",\n",
    "    model=model,\n",
    "    X_ref=X_test_ready,\n",
    "    y_ref=y_test, \n",
    "    threshold=best_threshold,\n",
    "    # y_pred=y_preds, \n",
    "    # y_pred_proba=y_preds_proba, \n",
    "    training_time=train_time, \n",
    "    # inference_time=inf_time, \n",
    "    dagslogger=dagslogger,\n",
    "    register=True,\n",
    "    show_roccurves=False,\n",
    ")"
   ]
  },
  {
   "cell_type": "markdown",
   "id": "ea212aa3-fcb9-41a1-8fd6-6c26d5becb95",
   "metadata": {
    "id": "ea212aa3-fcb9-41a1-8fd6-6c26d5becb95"
   },
   "source": [
    "#### Enregistrons les scores pour DagsHub"
   ]
  },
  {
   "cell_type": "code",
   "execution_count": null,
   "id": "f3e95b09-4e86-4a78-8ed6-e32f9b3deb72",
   "metadata": {
    "id": "f3e95b09-4e86-4a78-8ed6-e32f9b3deb72"
   },
   "outputs": [],
   "source": [
    "save_metrics_to_dagshub(dagslogger, scores, best_threshold, history)\n",
    "dagslogger.save() \n",
    "dagslogger.close()"
   ]
  },
  {
   "cell_type": "markdown",
   "id": "5b7f27a2-ad90-43a7-9f84-857fbf8e01b1",
   "metadata": {
    "id": "5b7f27a2-ad90-43a7-9f84-857fbf8e01b1"
   },
   "source": [
    "### Compare"
   ]
  },
  {
   "cell_type": "code",
   "execution_count": null,
   "id": "700b1797-1d3c-4207-b3d4-f22a6e75290d",
   "metadata": {
    "id": "4396ee03-c8ac-4f2f-a9c0-ece2eefb54ce",
    "outputId": "409d7850-414b-4b0f-d3cf-fd9904d8e843",
    "tags": []
   },
   "outputs": [],
   "source": [
    "from classification_utils import scores_df\n",
    "scores_df"
   ]
  },
  {
   "cell_type": "markdown",
   "id": "5d3a076d-04a0-44af-800a-b76dd452b837",
   "metadata": {
    "id": "5d3a076d-04a0-44af-800a-b76dd452b837"
   },
   "source": [
    "---\n",
    "## 2.9 `Archi-302` Bi-GRU 64 + Dense 24 <a class=\"anchor\" id=\"ARCHI_302\"></a> [⇪](#menu)"
   ]
  },
  {
   "cell_type": "code",
   "execution_count": null,
   "id": "3f829bb1-2da4-48ff-be1c-dc572352b508",
   "metadata": {
    "id": "3f829bb1-2da4-48ff-be1c-dc572352b508",
    "tags": []
   },
   "outputs": [],
   "source": [
    "# Embedding avec masque\n",
    "embedding_layer = layers.Embedding(\n",
    "    input_dim=max_tokens,\n",
    "    output_dim=embedding_dim,\n",
    "    embeddings_initializer=keras.initializers.Constant(embedding_matrix),\n",
    "    # input_length=max_length,\n",
    "    mask_zero=True,\n",
    "    trainable=False, # <== default is True\n",
    "    name=\"embedding_GloVe_Twitter_200d\",\n",
    ")"
   ]
  },
  {
   "cell_type": "code",
   "execution_count": null,
   "id": "576b6bf8-4d20-4099-aed4-76a171201f4a",
   "metadata": {
    "id": "3519e45e-6dbd-48df-bee3-d5295c8c5c1a",
    "tags": []
   },
   "outputs": [],
   "source": [
    "model_name = \"Archi302\"\n",
    "model, archi_desc = architecture302(\"adam\", \"binary_crossentropy\", ['accuracy'], embedding_layer)"
   ]
  },
  {
   "cell_type": "code",
   "execution_count": null,
   "id": "897198af-4678-4e9b-9af8-c0fb7e3bd153",
   "metadata": {
    "id": "0784ee2c-2268-4af1-b98e-419b9dc0f9a3",
    "outputId": "97272b48-5212-4a7a-b328-b9a1f8fed69a",
    "tags": []
   },
   "outputs": [],
   "source": [
    "model.summary()"
   ]
  },
  {
   "cell_type": "markdown",
   "id": "4180a9b7-1bb6-4e62-9a12-1a2b22b5eb9a",
   "metadata": {
    "id": "4180a9b7-1bb6-4e62-9a12-1a2b22b5eb9a"
   },
   "source": [
    "#### Définissons un logger DagsHub pour enregistrer notre essai"
   ]
  },
  {
   "cell_type": "code",
   "execution_count": null,
   "id": "ab55bcbe-6b32-4c1c-8f27-e0d922ee6d98",
   "metadata": {
    "id": "ab55bcbe-6b32-4c1c-8f27-e0d922ee6d98"
   },
   "outputs": [],
   "source": [
    "dagslogger = DAGsHubLogger()"
   ]
  },
  {
   "cell_type": "code",
   "execution_count": null,
   "id": "da37872a-2c6c-475f-a9b0-c32c33270d2f",
   "metadata": {
    "id": "da37872a-2c6c-475f-a9b0-c32c33270d2f"
   },
   "outputs": [],
   "source": [
    "save_hyperparameters_to_dagshub(dagslogger, model_name, archi_desc, get_layers_for_dagshub(model), batch_size, data_work.shape[0])"
   ]
  },
  {
   "cell_type": "markdown",
   "id": "50c9489d-df4c-4fe3-b981-eabac871a013",
   "metadata": {
    "id": "50c9489d-df4c-4fe3-b981-eabac871a013"
   },
   "source": [
    "### Train model"
   ]
  },
  {
   "cell_type": "code",
   "execution_count": null,
   "id": "25cbd132-46a3-4c78-9e9f-84d838fd7dd5",
   "metadata": {
    "id": "198feb57-7b6f-4634-aaba-7341eb48e97d",
    "outputId": "c015b3ff-f494-467a-d25e-539a948e1ff7",
    "tags": []
   },
   "outputs": [],
   "source": [
    "t0 = time.perf_counter()\n",
    "history = model.fit(\n",
    "        x=X_train_ready, y=y_train, \n",
    "        validation_data=(X_test_ready, y_test), \n",
    "        epochs=100, \n",
    "        batch_size=batch_size, \n",
    "        callbacks=init_callbacks(f\"{model_name}\"),\n",
    "        verbose=1,\n",
    ")\n",
    "train_time = time.perf_counter() - t0"
   ]
  },
  {
   "cell_type": "code",
   "execution_count": null,
   "id": "e61ce0c1-88e8-4404-8847-e1e029996973",
   "metadata": {
    "id": "5887b07c-7fe9-494a-8c94-06938b4da726",
    "outputId": "55ed5299-d711-4c37-cebc-aa535fbb01fb"
   },
   "outputs": [],
   "source": [
    "summarize_diagnostics(history)"
   ]
  },
  {
   "cell_type": "markdown",
   "id": "eb8ca3cf-beee-4dc9-861f-1498aebb7bcc",
   "metadata": {
    "id": "eb8ca3cf-beee-4dc9-861f-1498aebb7bcc"
   },
   "source": [
    "### Evaluate"
   ]
  },
  {
   "cell_type": "code",
   "execution_count": null,
   "id": "8b418d94-765a-4ddf-9f13-7d34119f6791",
   "metadata": {
    "id": "8b418d94-765a-4ddf-9f13-7d34119f6791",
    "tags": []
   },
   "outputs": [],
   "source": [
    "model = keras.models.load_model(f\"models/{model_name}.keras\")"
   ]
  },
  {
   "cell_type": "code",
   "execution_count": null,
   "id": "28f105cc-7947-405b-8249-252c582c93cc",
   "metadata": {
    "id": "1b2db668-b670-4ac6-9017-9c89a74bfcd4",
    "outputId": "dbda729c-bd2a-4c71-8979-a2749c2d379c",
    "tags": []
   },
   "outputs": [],
   "source": [
    "model.evaluate(X_test_ready, y_test)"
   ]
  },
  {
   "cell_type": "code",
   "execution_count": null,
   "id": "046e3f8c-3a86-4da1-a6ab-755734221572",
   "metadata": {
    "id": "dfc75e1b-44f6-4a9e-8c71-e8e703855076",
    "outputId": "a638bff4-55a5-4a20-f627-12ca2b396a73",
    "tags": []
   },
   "outputs": [],
   "source": [
    "raw_txt = tf.convert_to_tensor([\"I hate it\", \"I love it\"])\n",
    "raw_txt = text_vectorizationB7(raw_txt)\n",
    "model.predict(raw_txt)"
   ]
  },
  {
   "cell_type": "code",
   "execution_count": null,
   "id": "471289dc-cb58-4e87-8d87-b8cacdd2ccce",
   "metadata": {
    "colab": {
     "base_uri": "https://localhost:8080/",
     "height": 1000
    },
    "executionInfo": {
     "elapsed": 746,
     "status": "ok",
     "timestamp": 1653231856185,
     "user": {
      "displayName": "Valkea",
      "userId": "01476199649418572392"
     },
     "user_tz": -120
    },
    "id": "4d55d6a1-c51a-45cd-9e68-5deb24423b63",
    "outputId": "e3c4ed78-a90b-46e0-baa0-c28f701f4414",
    "tags": []
   },
   "outputs": [],
   "source": [
    "_ = get_scores(\n",
    "    model_name,\n",
    "    model=model,\n",
    "    X_ref=X_test_ready,\n",
    "    y_ref=y_test, \n",
    "    threshold=0.5,\n",
    "    # y_pred=y_preds, \n",
    "    # y_pred_proba=y_preds_proba, \n",
    "    training_time=train_time, \n",
    "    # inference_time=inf_time, \n",
    "    dagslogger=dagslogger,\n",
    "    register=True,\n",
    ")"
   ]
  },
  {
   "cell_type": "markdown",
   "id": "bff81753-7cfc-43e0-b453-6a5cb8674291",
   "metadata": {
    "id": "bff81753-7cfc-43e0-b453-6a5cb8674291"
   },
   "source": [
    "#### Trouvons le meilleur seuil de séparation pour les prédiction (sur la base du F1 score)"
   ]
  },
  {
   "cell_type": "code",
   "execution_count": null,
   "id": "1b2074b2-db25-4ecd-b1a1-b38558a768ec",
   "metadata": {
    "id": "ddec0c70-f319-4ea8-820b-ff7baa5d936a",
    "outputId": "a605480c-9f85-4413-87c3-53b160b842fb"
   },
   "outputs": [],
   "source": [
    "acc_value, best_threshold = find_best_threshold(model, X_valid_ready, y_valid, accuracy_score)\n",
    "print(f\"The best Accuracy score ({acc_value}) for this model is reached with a threshold of {best_threshold}\")"
   ]
  },
  {
   "cell_type": "code",
   "execution_count": null,
   "id": "917fe229-89f1-4efd-9b45-e292884ee296",
   "metadata": {
    "colab": {
     "base_uri": "https://localhost:8080/",
     "height": 1000
    },
    "executionInfo": {
     "elapsed": 746,
     "status": "ok",
     "timestamp": 1653231856185,
     "user": {
      "displayName": "Valkea",
      "userId": "01476199649418572392"
     },
     "user_tz": -120
    },
    "id": "18bc47e9-9b3f-4716-b6e6-65eb39925fea",
    "outputId": "e3c4ed78-a90b-46e0-baa0-c28f701f4414",
    "tags": []
   },
   "outputs": [],
   "source": [
    "scores = get_scores(\n",
    "    f\"{model_name} [w. threshold]\",\n",
    "    model=model,\n",
    "    X_ref=X_test_ready,\n",
    "    y_ref=y_test, \n",
    "    threshold=best_threshold,\n",
    "    # y_pred=y_preds, \n",
    "    # y_pred_proba=y_preds_proba, \n",
    "    training_time=train_time, \n",
    "    # inference_time=inf_time, \n",
    "    dagslogger=dagslogger,\n",
    "    register=True,\n",
    "    show_roccurves=False,\n",
    ")"
   ]
  },
  {
   "cell_type": "markdown",
   "id": "8604f227-e7d1-4265-9706-da7ddaca5748",
   "metadata": {
    "id": "8604f227-e7d1-4265-9706-da7ddaca5748"
   },
   "source": [
    "#### Enregistrons les scores pour DagsHub"
   ]
  },
  {
   "cell_type": "code",
   "execution_count": null,
   "id": "d2a85d99-5a84-4011-96e3-da5ba0affd19",
   "metadata": {
    "id": "d2a85d99-5a84-4011-96e3-da5ba0affd19"
   },
   "outputs": [],
   "source": [
    "save_metrics_to_dagshub(dagslogger, scores, best_threshold, history)\n",
    "dagslogger.save() \n",
    "dagslogger.close()"
   ]
  },
  {
   "cell_type": "markdown",
   "id": "8c10f463-f704-4e23-a0d4-6731de6c765b",
   "metadata": {
    "id": "8c10f463-f704-4e23-a0d4-6731de6c765b"
   },
   "source": [
    "### Compare"
   ]
  },
  {
   "cell_type": "code",
   "execution_count": null,
   "id": "9e2cc305-4b24-4d8e-94b2-92c190e6be66",
   "metadata": {
    "id": "a20f7423-3237-426b-99eb-9cf26035530c",
    "outputId": "d6176e57-6eab-46df-9b04-f458c209ecfe",
    "tags": []
   },
   "outputs": [],
   "source": [
    "from classification_utils import scores_df\n",
    "scores_df"
   ]
  },
  {
   "cell_type": "markdown",
   "id": "9f1e306d-3bb5-4378-b728-8260e2c9b829",
   "metadata": {
    "id": "9f1e306d-3bb5-4378-b728-8260e2c9b829"
   },
   "source": [
    "---\n",
    "## 2.10 `Archi-401` Bi-LSTM 32 + Dense 10 <a class=\"anchor\" id=\"ARCHI_401\"></a> [⇪](#menu)"
   ]
  },
  {
   "cell_type": "code",
   "execution_count": null,
   "id": "36cd29ba-dfda-4084-a6ff-d96519db090e",
   "metadata": {
    "id": "36cd29ba-dfda-4084-a6ff-d96519db090e",
    "tags": []
   },
   "outputs": [],
   "source": [
    "# Embedding avec masque\n",
    "embedding_layer = layers.Embedding(\n",
    "    input_dim=max_tokens,\n",
    "    output_dim=embedding_dim,\n",
    "    embeddings_initializer=keras.initializers.Constant(embedding_matrix),\n",
    "    # input_length=max_length,\n",
    "    mask_zero=True,\n",
    "    trainable=False, # <== default is True\n",
    "    name=\"embedding_GloVe_Twitter_200d\",\n",
    ")"
   ]
  },
  {
   "cell_type": "code",
   "execution_count": null,
   "id": "4c066e09-2eb2-4661-bb6e-6afef659a4fb",
   "metadata": {
    "id": "4c066e09-2eb2-4661-bb6e-6afef659a4fb",
    "tags": []
   },
   "outputs": [],
   "source": [
    "model_name = \"Archi401\"\n",
    "model, archi_desc = architecture401(\"adam\", \"binary_crossentropy\", ['accuracy'], embedding_layer)"
   ]
  },
  {
   "cell_type": "code",
   "execution_count": null,
   "id": "41f8f0a4-a793-48c9-8afb-3b6e7f53bf15",
   "metadata": {
    "id": "3a01806b-b975-47b5-bb67-4423723b9ca5",
    "outputId": "e2ee913a-0955-4d63-ec08-adeabe83d402",
    "tags": []
   },
   "outputs": [],
   "source": [
    "model.summary()"
   ]
  },
  {
   "cell_type": "markdown",
   "id": "08ee4f3a-5ad1-4e02-87ee-dc0fb96d6dc2",
   "metadata": {
    "id": "08ee4f3a-5ad1-4e02-87ee-dc0fb96d6dc2"
   },
   "source": [
    "#### Définissons un logger DagsHub pour enregistrer notre essai"
   ]
  },
  {
   "cell_type": "code",
   "execution_count": null,
   "id": "ab9d9cc0-2f1b-419d-8fea-26dea7bfd14f",
   "metadata": {
    "id": "ab9d9cc0-2f1b-419d-8fea-26dea7bfd14f"
   },
   "outputs": [],
   "source": [
    "dagslogger = DAGsHubLogger()"
   ]
  },
  {
   "cell_type": "code",
   "execution_count": null,
   "id": "959d2fff-42ce-4c8d-91f8-f58198906792",
   "metadata": {
    "id": "959d2fff-42ce-4c8d-91f8-f58198906792"
   },
   "outputs": [],
   "source": [
    "save_hyperparameters_to_dagshub(dagslogger, model_name, archi_desc, get_layers_for_dagshub(model), batch_size, data_work.shape[0])"
   ]
  },
  {
   "cell_type": "markdown",
   "id": "95aa9396-55f8-4039-945b-925befa3e7bc",
   "metadata": {
    "id": "95aa9396-55f8-4039-945b-925befa3e7bc"
   },
   "source": [
    "### Train model"
   ]
  },
  {
   "cell_type": "code",
   "execution_count": null,
   "id": "d398c836-6d8f-4809-92c8-89e603b32f9d",
   "metadata": {
    "id": "349fffa7-af13-493c-8c85-21e0f312408f",
    "outputId": "13ddd3ca-ad4d-4332-8c2f-7f3a2d7985c4",
    "tags": []
   },
   "outputs": [],
   "source": [
    "t0 = time.perf_counter()\n",
    "history = model.fit(\n",
    "        x=X_train_ready, y=y_train, \n",
    "        validation_data=(X_test_ready, y_test), \n",
    "        epochs=100, \n",
    "        batch_size=batch_size, \n",
    "        callbacks=init_callbacks(f\"{model_name}\"),\n",
    "        verbose=1,\n",
    ")\n",
    "train_time = time.perf_counter() - t0"
   ]
  },
  {
   "cell_type": "code",
   "execution_count": null,
   "id": "1f0844e5-b1e9-4533-b287-5cb612e5259b",
   "metadata": {
    "id": "217888e1-989c-427e-9a55-bce3b6aee1ab",
    "outputId": "6794fc5a-32b3-422c-c3d0-19ce2742781b"
   },
   "outputs": [],
   "source": [
    "summarize_diagnostics(history)"
   ]
  },
  {
   "cell_type": "markdown",
   "id": "88eb7d2f-e7e8-4a3d-be92-e7a456589c8c",
   "metadata": {
    "id": "88eb7d2f-e7e8-4a3d-be92-e7a456589c8c"
   },
   "source": [
    "### Evaluate"
   ]
  },
  {
   "cell_type": "code",
   "execution_count": null,
   "id": "ee4c73a1-ad62-4d5d-beef-3e6060e44c8b",
   "metadata": {
    "id": "ee4c73a1-ad62-4d5d-beef-3e6060e44c8b",
    "tags": []
   },
   "outputs": [],
   "source": [
    "model = keras.models.load_model(f\"models/{model_name}.keras\")"
   ]
  },
  {
   "cell_type": "code",
   "execution_count": null,
   "id": "d2ee7a95-4435-4c53-a96c-62bff2034b06",
   "metadata": {
    "id": "9ec0bc4c-fe55-4aa5-9aff-402e2c4e1f48",
    "outputId": "8b10e570-1c19-4b63-f656-4b7912ef8d15",
    "tags": []
   },
   "outputs": [],
   "source": [
    "model.evaluate(X_test_ready, y_test)"
   ]
  },
  {
   "cell_type": "code",
   "execution_count": null,
   "id": "88571b87-41ac-4101-bac9-1dc642148642",
   "metadata": {
    "id": "dc549c21-8cab-4c14-b474-b838411e5465",
    "outputId": "dce18b1d-48ce-4954-a0bc-2f09b887970b",
    "tags": []
   },
   "outputs": [],
   "source": [
    "raw_txt = tf.convert_to_tensor([\"I hate it\", \"I love it\"])\n",
    "raw_txt = text_vectorizationB7(raw_txt)\n",
    "model.predict(raw_txt)"
   ]
  },
  {
   "cell_type": "code",
   "execution_count": null,
   "id": "7b52c4f1-c214-4077-8d61-9903025c7b91",
   "metadata": {
    "colab": {
     "base_uri": "https://localhost:8080/",
     "height": 1000
    },
    "executionInfo": {
     "elapsed": 746,
     "status": "ok",
     "timestamp": 1653231856185,
     "user": {
      "displayName": "Valkea",
      "userId": "01476199649418572392"
     },
     "user_tz": -120
    },
    "id": "f3b17e34-6706-4780-812f-3c852afe9550",
    "outputId": "e3c4ed78-a90b-46e0-baa0-c28f701f4414",
    "tags": []
   },
   "outputs": [],
   "source": [
    "_ = get_scores(\n",
    "    model_name,\n",
    "    model=model,\n",
    "    X_ref=X_test_ready,\n",
    "    y_ref=y_test, \n",
    "    threshold=0.5,\n",
    "    # y_pred=y_preds, \n",
    "    # y_pred_proba=y_preds_proba, \n",
    "    training_time=train_time, \n",
    "    # inference_time=inf_time, \n",
    "    dagslogger=dagslogger,\n",
    "    register=True,\n",
    ")"
   ]
  },
  {
   "cell_type": "markdown",
   "id": "ef57c424-74e9-4fbb-9ec5-be0a4b67e71a",
   "metadata": {
    "id": "ef57c424-74e9-4fbb-9ec5-be0a4b67e71a"
   },
   "source": [
    "#### Trouvons le meilleur seuil de séparation pour les prédiction (sur la base du F1 score)"
   ]
  },
  {
   "cell_type": "code",
   "execution_count": null,
   "id": "2d298efd-1388-48a2-80ed-e507598fa981",
   "metadata": {
    "id": "e3912be3-865d-428c-9ee8-6ab8f9f9df27",
    "outputId": "d91a4e69-4f50-4146-b07e-be0a3e86b66c"
   },
   "outputs": [],
   "source": [
    "acc_value, best_threshold = find_best_threshold(model, X_valid_ready, y_valid, accuracy_score)\n",
    "print(f\"The best Accuracy score ({acc_value}) for this model is reached with a threshold of {best_threshold}\")"
   ]
  },
  {
   "cell_type": "code",
   "execution_count": null,
   "id": "5c17626e-ce9e-4d77-8906-86bb3747a6c2",
   "metadata": {
    "colab": {
     "base_uri": "https://localhost:8080/",
     "height": 1000
    },
    "executionInfo": {
     "elapsed": 746,
     "status": "ok",
     "timestamp": 1653231856185,
     "user": {
      "displayName": "Valkea",
      "userId": "01476199649418572392"
     },
     "user_tz": -120
    },
    "id": "3e7d9a9f-ac48-44a8-a8b4-03c223d7d3bf",
    "outputId": "e3c4ed78-a90b-46e0-baa0-c28f701f4414",
    "tags": []
   },
   "outputs": [],
   "source": [
    "scores = get_scores(\n",
    "    f\"{model_name} [w. threshold]\",\n",
    "    model=model,\n",
    "    X_ref=X_test_ready,\n",
    "    y_ref=y_test, \n",
    "    threshold=best_threshold,\n",
    "    # y_pred=y_preds, \n",
    "    # y_pred_proba=y_preds_proba, \n",
    "    training_time=train_time, \n",
    "    # inference_time=inf_time, \n",
    "    dagslogger=dagslogger,\n",
    "    register=True,\n",
    "    show_roccurves=False,\n",
    ")"
   ]
  },
  {
   "cell_type": "markdown",
   "id": "185d33ba-1a98-427b-b3cc-d9d8f9f6848a",
   "metadata": {
    "id": "185d33ba-1a98-427b-b3cc-d9d8f9f6848a"
   },
   "source": [
    "#### Enregistrons les scores pour DagsHub"
   ]
  },
  {
   "cell_type": "code",
   "execution_count": null,
   "id": "299e2901-6dcb-41c8-bf66-315a2dac76fc",
   "metadata": {
    "id": "299e2901-6dcb-41c8-bf66-315a2dac76fc"
   },
   "outputs": [],
   "source": [
    "save_metrics_to_dagshub(dagslogger, scores, best_threshold, history)\n",
    "dagslogger.save() \n",
    "dagslogger.close()"
   ]
  },
  {
   "cell_type": "markdown",
   "id": "3582acc1-0ab8-4719-941f-4cab535675a4",
   "metadata": {
    "id": "3582acc1-0ab8-4719-941f-4cab535675a4"
   },
   "source": [
    "### Compare"
   ]
  },
  {
   "cell_type": "code",
   "execution_count": null,
   "id": "e8cb9fa1-cdec-4264-8b37-56d5bb03ac8e",
   "metadata": {
    "id": "64308362-d310-49fd-800f-a95b2b9d7fb3",
    "outputId": "e6aac545-1ba5-4227-e123-7961b00842e4",
    "tags": []
   },
   "outputs": [],
   "source": [
    "from classification_utils import scores_df\n",
    "scores_df"
   ]
  },
  {
   "cell_type": "markdown",
   "id": "d29395fa-2c3d-4b1b-9efd-cb8fd37ed069",
   "metadata": {
    "id": "d29395fa-2c3d-4b1b-9efd-cb8fd37ed069"
   },
   "source": [
    "---\n",
    "## 2.11 `Archi-402` Bi-LSTM 64 Seq + Dropout 0.2 + Bi-LSTM 32 + Dropout 0.2 + Dense 64 + Dropout 0.1 <a class=\"anchor\" id=\"ARCHI_402\"></a> [⇪](#menu)"
   ]
  },
  {
   "cell_type": "code",
   "execution_count": null,
   "id": "c437e0cb-54f5-41a5-b4d1-b8df776240ea",
   "metadata": {
    "id": "c437e0cb-54f5-41a5-b4d1-b8df776240ea",
    "tags": []
   },
   "outputs": [],
   "source": [
    "# Embedding avec masque\n",
    "embedding_layer = layers.Embedding(\n",
    "    input_dim=max_tokens,\n",
    "    output_dim=embedding_dim,\n",
    "    embeddings_initializer=keras.initializers.Constant(embedding_matrix),\n",
    "    # input_length=max_length,\n",
    "    mask_zero=True,\n",
    "    trainable=False, # <== default is True\n",
    "    name=\"embedding_GloVe_Twitter_200d\",\n",
    ")"
   ]
  },
  {
   "cell_type": "code",
   "execution_count": null,
   "id": "63909fad-eee3-47fa-9d96-d18d677a5aa9",
   "metadata": {
    "id": "63909fad-eee3-47fa-9d96-d18d677a5aa9",
    "tags": []
   },
   "outputs": [],
   "source": [
    "model_name = \"Archi402\"\n",
    "model, archi_desc = architecture402(\"adam\", \"binary_crossentropy\", ['accuracy'], embedding_layer)"
   ]
  },
  {
   "cell_type": "code",
   "execution_count": null,
   "id": "a747f9e7-a362-47a7-80c1-573e5d4fb806",
   "metadata": {
    "id": "f68a9656-33bb-4cfc-b785-62dece98aaee",
    "outputId": "9ffd267c-8d93-4cea-dc84-82cff726f2f7",
    "tags": []
   },
   "outputs": [],
   "source": [
    "model.summary()"
   ]
  },
  {
   "cell_type": "markdown",
   "id": "60974146-4db1-41d2-9e03-0b7deff5bafb",
   "metadata": {
    "id": "60974146-4db1-41d2-9e03-0b7deff5bafb"
   },
   "source": [
    "#### Définissons un logger DagsHub pour enregistrer notre essai"
   ]
  },
  {
   "cell_type": "code",
   "execution_count": null,
   "id": "ca90e496-3248-430f-95c7-632bea551aba",
   "metadata": {
    "id": "ca90e496-3248-430f-95c7-632bea551aba"
   },
   "outputs": [],
   "source": [
    "dagslogger = DAGsHubLogger()"
   ]
  },
  {
   "cell_type": "code",
   "execution_count": null,
   "id": "341ea699-4af6-46bd-8468-793cee70a42c",
   "metadata": {
    "id": "341ea699-4af6-46bd-8468-793cee70a42c"
   },
   "outputs": [],
   "source": [
    "save_hyperparameters_to_dagshub(dagslogger, model_name, archi_desc, get_layers_for_dagshub(model), batch_size, data_work.shape[0])"
   ]
  },
  {
   "cell_type": "markdown",
   "id": "bf830c48-9973-48cb-b264-1bc6c4a34900",
   "metadata": {
    "id": "bf830c48-9973-48cb-b264-1bc6c4a34900"
   },
   "source": [
    "### Train model"
   ]
  },
  {
   "cell_type": "code",
   "execution_count": null,
   "id": "a68d8632-cb09-4ed8-96d1-c80064e2b7cd",
   "metadata": {
    "id": "a222feb5-6b20-4cf4-846b-d04598b012ef",
    "outputId": "db9dd98d-f4f9-44d8-c0c1-08e74eb06327",
    "tags": []
   },
   "outputs": [],
   "source": [
    "t0 = time.perf_counter()\n",
    "history = model.fit(\n",
    "        x=X_train_ready, y=y_train, \n",
    "        validation_data=(X_test_ready, y_test), \n",
    "        epochs=100, \n",
    "        batch_size=batch_size, \n",
    "        callbacks=init_callbacks(f\"{model_name}\"),\n",
    "        verbose=1,\n",
    ")\n",
    "train_time = time.perf_counter() - t0"
   ]
  },
  {
   "cell_type": "code",
   "execution_count": null,
   "id": "5d3fd6c8-9da6-43fb-8f68-e2f1361f395a",
   "metadata": {
    "id": "0868aa74-2026-45eb-a878-84e3967bd465",
    "outputId": "ecb0af38-853e-4ee3-d874-bc4637c71180"
   },
   "outputs": [],
   "source": [
    "summarize_diagnostics(history)"
   ]
  },
  {
   "cell_type": "markdown",
   "id": "b701c22c-d531-4894-9fa0-49fa9aab3386",
   "metadata": {
    "id": "b701c22c-d531-4894-9fa0-49fa9aab3386"
   },
   "source": [
    "### Evaluate"
   ]
  },
  {
   "cell_type": "code",
   "execution_count": null,
   "id": "158eba6d-fa2f-43fc-9506-3e92f3b9a197",
   "metadata": {
    "id": "158eba6d-fa2f-43fc-9506-3e92f3b9a197",
    "tags": []
   },
   "outputs": [],
   "source": [
    "model = keras.models.load_model(f\"models/{model_name}.keras\")"
   ]
  },
  {
   "cell_type": "code",
   "execution_count": null,
   "id": "7ab68cf9-151d-40c9-850d-1a91619ba9d0",
   "metadata": {
    "id": "f344679f-1067-4e1e-9400-410fdcdfb02a",
    "outputId": "f33f8624-aaa5-4120-9dd0-ec843fa5d9ea",
    "tags": []
   },
   "outputs": [],
   "source": [
    "model.evaluate(X_test_ready, y_test)"
   ]
  },
  {
   "cell_type": "code",
   "execution_count": null,
   "id": "b02f5851-f615-49dd-b5cd-c8dab831117f",
   "metadata": {
    "id": "f2008401-9489-4bd3-b187-936dccb64b87",
    "outputId": "05707e3c-19e2-4de3-98b5-722419c08e34",
    "tags": []
   },
   "outputs": [],
   "source": [
    "raw_txt = tf.convert_to_tensor([\"I hate it\", \"I love it\"])\n",
    "raw_txt = text_vectorizationB7(raw_txt)\n",
    "model.predict(raw_txt)"
   ]
  },
  {
   "cell_type": "code",
   "execution_count": null,
   "id": "3fe357b0-1990-4abc-a2aa-8f61ecdaa8b9",
   "metadata": {
    "colab": {
     "base_uri": "https://localhost:8080/",
     "height": 1000
    },
    "executionInfo": {
     "elapsed": 746,
     "status": "ok",
     "timestamp": 1653231856185,
     "user": {
      "displayName": "Valkea",
      "userId": "01476199649418572392"
     },
     "user_tz": -120
    },
    "id": "855f9215-dd5b-420c-b0df-687d3727b37b",
    "outputId": "e3c4ed78-a90b-46e0-baa0-c28f701f4414",
    "tags": []
   },
   "outputs": [],
   "source": [
    "_ = get_scores(\n",
    "    model_name,\n",
    "    model=model,\n",
    "    X_ref=X_test_ready,\n",
    "    y_ref=y_test, \n",
    "    threshold=0.5,\n",
    "    # y_pred=y_preds, \n",
    "    # y_pred_proba=y_preds_proba, \n",
    "    training_time=train_time, \n",
    "    # inference_time=inf_time, \n",
    "    dagslogger=dagslogger,\n",
    "    register=True,\n",
    ")"
   ]
  },
  {
   "cell_type": "markdown",
   "id": "9a6102db-5f7e-4c2b-9ff6-ff9a985b324e",
   "metadata": {
    "id": "9a6102db-5f7e-4c2b-9ff6-ff9a985b324e"
   },
   "source": [
    "#### Trouvons le meilleur seuil de séparation pour les prédiction (sur la base du F1 score)"
   ]
  },
  {
   "cell_type": "code",
   "execution_count": null,
   "id": "42ee594a-10ae-4a49-949d-7f00be53d84c",
   "metadata": {
    "id": "2a35ba52-fa50-4ecb-88a3-5262dd2a8b3c",
    "outputId": "32f867d5-f320-4e80-e927-0d6c52c82331"
   },
   "outputs": [],
   "source": [
    "acc_value, best_threshold = find_best_threshold(model, X_valid_ready, y_valid, accuracy_score)\n",
    "print(f\"The best Accuracy score ({acc_value}) for this model is reached with a threshold of {best_threshold}\")"
   ]
  },
  {
   "cell_type": "code",
   "execution_count": null,
   "id": "34f424a8-5600-4a19-bfcb-006e10662316",
   "metadata": {
    "colab": {
     "base_uri": "https://localhost:8080/",
     "height": 1000
    },
    "executionInfo": {
     "elapsed": 746,
     "status": "ok",
     "timestamp": 1653231856185,
     "user": {
      "displayName": "Valkea",
      "userId": "01476199649418572392"
     },
     "user_tz": -120
    },
    "id": "5b2c34e0-c2b4-43f4-baef-a471d013cad1",
    "outputId": "e3c4ed78-a90b-46e0-baa0-c28f701f4414",
    "tags": []
   },
   "outputs": [],
   "source": [
    "scores = get_scores(\n",
    "    f\"{model_name} [w. threshold]\",\n",
    "    model=model,\n",
    "    X_ref=X_test_ready,\n",
    "    y_ref=y_test, \n",
    "    threshold=best_threshold,\n",
    "    # y_pred=y_preds, \n",
    "    # y_pred_proba=y_preds_proba, \n",
    "    training_time=train_time, \n",
    "    # inference_time=inf_time, \n",
    "    dagslogger=dagslogger,\n",
    "    register=True,\n",
    "    show_roccurves=False,\n",
    ")"
   ]
  },
  {
   "cell_type": "markdown",
   "id": "11d514a9-7e73-40f9-95f6-c4b8708d5b05",
   "metadata": {
    "id": "11d514a9-7e73-40f9-95f6-c4b8708d5b05"
   },
   "source": [
    "#### Enregistrons les scores pour DagsHub"
   ]
  },
  {
   "cell_type": "code",
   "execution_count": null,
   "id": "4d3bc1e4-5039-492f-bcee-9bd468df7cdf",
   "metadata": {
    "id": "4d3bc1e4-5039-492f-bcee-9bd468df7cdf"
   },
   "outputs": [],
   "source": [
    "save_metrics_to_dagshub(dagslogger, scores, best_threshold, history)\n",
    "dagslogger.save() \n",
    "dagslogger.close()"
   ]
  },
  {
   "cell_type": "markdown",
   "id": "acf5e652-4a4c-4f41-9bab-6a38047b80ae",
   "metadata": {
    "id": "ed8e63f0-2640-4fd8-97e9-72747674fb1e"
   },
   "source": [
    "### Compare"
   ]
  },
  {
   "cell_type": "code",
   "execution_count": null,
   "id": "b44d25dc-9017-4041-8657-fd9243826957",
   "metadata": {
    "id": "20407a49-e746-4145-a0a0-0a7f8ee1ac46",
    "outputId": "07351bd0-efbd-4cd1-9dec-bd797f1967ab",
    "tags": []
   },
   "outputs": [],
   "source": [
    "from classification_utils import scores_df\n",
    "scores_df"
   ]
  },
  {
   "cell_type": "markdown",
   "id": "f44039be-2171-45ff-9c45-e1396201495c",
   "metadata": {
    "id": "f44039be-2171-45ff-9c45-e1396201495c"
   },
   "source": [
    "---\n",
    "## 2.12 Comparaison des `scores` avec les différentes architectures <a class=\"anchor\" id=\"ARCHI_scores\"></a> [⇪](#menu)"
   ]
  },
  {
   "cell_type": "code",
   "execution_count": null,
   "id": "630bc831-f0ca-499d-959c-35a40ec49c24",
   "metadata": {
    "id": "8649818d-ecf9-45aa-888a-855ed17107be",
    "tags": []
   },
   "outputs": [],
   "source": [
    "from classification_utils import scores_df"
   ]
  },
  {
   "cell_type": "code",
   "execution_count": null,
   "id": "93e7457c-cb79-4958-9e73-2c24b9223cf5",
   "metadata": {
    "id": "8f55a107-e91c-4fad-966f-12ec7f43c791",
    "outputId": "b14bfa4a-24d7-42d3-e1af-e9803d5c485a"
   },
   "outputs": [],
   "source": [
    "scores_df.sort_values(['ROC AUC'], ascending=False)"
   ]
  },
  {
   "cell_type": "code",
   "execution_count": null,
   "id": "6efc8b6c-e34c-43a5-b199-df5042a09ec3",
   "metadata": {
    "id": "ab614b41-2957-4869-a6be-28058848e910",
    "outputId": "0b3500cc-ede2-4400-e907-00b7b7751b30"
   },
   "outputs": [],
   "source": [
    "scores_df.sort_values(['Accuracy'], ascending=False)"
   ]
  }
 ],
 "metadata": {
  "accelerator": "GPU",
  "colab": {
   "name": "06_Classification_NN_Select_Architecture.ipynb",
   "provenance": []
  },
  "gpuClass": "standard",
  "kernelspec": {
   "display_name": "venvP7",
   "language": "python",
   "name": "venvp7"
  },
  "language_info": {
   "codemirror_mode": {
    "name": "ipython",
    "version": 3
   },
   "file_extension": ".py",
   "mimetype": "text/x-python",
   "name": "python",
   "nbconvert_exporter": "python",
   "pygments_lexer": "ipython3",
   "version": "3.8.10"
  },
  "toc-autonumbering": true,
  "toc-showcode": false,
  "toc-showmarkdowntxt": false,
  "toc-showtags": false
 },
 "nbformat": 4,
 "nbformat_minor": 5
}
