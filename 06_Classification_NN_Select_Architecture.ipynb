{
 "cells": [
  {
   "cell_type": "markdown",
   "id": "9bf11529-83a5-4504-a034-832ba1c996ce",
   "metadata": {},
   "source": [
    "# Menu <a class=\"anchor\" id=\"menu\"></a>\n",
    "   \n",
    "* [1. Préparatifs](#init)\n",
    "* [2. Recherche de l'`architecture` la plus adaptée](#ARCHI)\n",
    "    * [2.1 `Archi-REF` Bi-LSTM 32 + Dropout 0.5](#ARCHI_REF)\n",
    "    * [2.2 `Archi-000` Dense 32 + Dropout 0.5](#ARCHI_000)\n",
    "    * [2.3 `Archi-100` Simple RNN 32 + Dropout 0.5](#ARCHI_100)\n",
    "    * [2.4 `Archi-200` LSTM 32 + Dropout 0.5](#ARCHI_200)\n",
    "    * [2.5 `Archi-300` GRU 32 + Dropout 0.5](#ARCHI_300)\n",
    "    * [2.6 `Archi-201` Bi-LSTM 64 + Dropout 0.5](#ARCHI_201)\n",
    "    * [2.7 `Archi-202` Bi-LSTM 64 + Dense 24](#ARCHI_202)\n",
    "    * [2.8 `Archi-301` Bi-GRU 64 + Dropout 0.5](#ARCHI_301)\n",
    "    * [2.9 `Archi-302` Bi-GRU 64 + Dense 24](#ARCHI_302)\n",
    "    * [2.10 `Archi-401` Bi-LSTM 32 + Dense 10](#ARCHI_401)\n",
    "    * [2.11 `Archi-402` Bi-LSTM 64 Seq + Dropout 0.2 + Bi-LSTM 32 + Dropout 0.2 + Dense 64 + Dropout 0.1](#ARCHI_402)\n",
    "    * [2.12 `Archi-403` Dense 128 + Dropout 0.2 + Dense 64 + Dropout 0.2 + Dense 32 + Dropout 0.1](#ARCHI_403)\n",
    "    * [2.13 Comparaison des scores](#ARCHI_scores)"
   ]
  },
  {
   "cell_type": "code",
   "execution_count": 1,
   "id": "507bb850-f975-4a46-80d9-c9d0629d6b87",
   "metadata": {
    "tags": []
   },
   "outputs": [
    {
     "name": "stderr",
     "output_type": "stream",
     "text": [
      "2022-08-08 15:28:12.681577: W tensorflow/stream_executor/platform/default/dso_loader.cc:64] Could not load dynamic library 'libcudart.so.11.0'; dlerror: libcudart.so.11.0: cannot open shared object file: No such file or directory\n",
      "2022-08-08 15:28:12.681600: I tensorflow/stream_executor/cuda/cudart_stub.cc:29] Ignore above cudart dlerror if you do not have a GPU set up on your machine.\n"
     ]
    }
   ],
   "source": [
    "import time\n",
    "import pathlib\n",
    "import gzip\n",
    "\n",
    "import matplotlib.pyplot as plt\n",
    "import pandas as pd\n",
    "import numpy as np\n",
    "import tensorflow as tf\n",
    "from tensorflow import keras\n",
    "from keras import layers\n",
    "from sklearn.model_selection import train_test_split\n",
    "from sklearn.metrics import accuracy_score\n",
    "from dagshub import dagshub_logger, DAGsHubLogger\n",
    "\n",
    "try:\n",
    "    from tensorflow.keras.layers import TextVectorization\n",
    "except ImportError:\n",
    "    from tensorflow.keras.layers.experimental.preprocessing import TextVectorization\n",
    "\n",
    "# set random seed for reproductibility\n",
    "random_seed = 0\n",
    "np.random.seed(random_seed)\n",
    "\n",
    "try:\n",
    "    keras.utils.set_random_seed(random_seed)\n",
    "except Exception:\n",
    "    tf.random.set_seed(random_seed)"
   ]
  },
  {
   "cell_type": "code",
   "execution_count": 2,
   "id": "f8333fab-1373-4311-80dc-4511dd5df25f",
   "metadata": {
    "tags": []
   },
   "outputs": [
    {
     "name": "stdout",
     "output_type": "stream",
     "text": [
      "Num GPUs Available:  0\n"
     ]
    },
    {
     "name": "stderr",
     "output_type": "stream",
     "text": [
      "2022-08-08 15:28:17.255848: W tensorflow/stream_executor/platform/default/dso_loader.cc:64] Could not load dynamic library 'libcuda.so.1'; dlerror: libcuda.so.1: cannot open shared object file: No such file or directory\n",
      "2022-08-08 15:28:17.255886: W tensorflow/stream_executor/cuda/cuda_driver.cc:269] failed call to cuInit: UNKNOWN ERROR (303)\n",
      "2022-08-08 15:28:17.255906: I tensorflow/stream_executor/cuda/cuda_diagnostics.cc:156] kernel driver does not appear to be running on this host (valkea-XPS): /proc/driver/nvidia/version does not exist\n"
     ]
    }
   ],
   "source": [
    "print(\"Num GPUs Available: \", len(tf.config.list_physical_devices('GPU')))"
   ]
  },
  {
   "cell_type": "markdown",
   "id": "221e6c06-6579-43fe-82f6-b313891f65dc",
   "metadata": {},
   "source": [
    "---\n",
    "---\n",
    "# 1. Préparatifs pour de la classification avec des réseaux de neurones <a class=\"anchor\" id=\"init\"></a> [⇪](#menu)"
   ]
  },
  {
   "cell_type": "markdown",
   "id": "dad68b70-d9c4-40f2-a860-702be77c95ec",
   "metadata": {},
   "source": [
    "### Chargeons quelques fonctions *maison* pour entrainer et évaluer les modèles, et initialisons un fichier pour enregistrer les scores\n",
    "Ces fonctions ont été déportées dans le fichier classification_utils.py pour allèger le notebook"
   ]
  },
  {
   "cell_type": "code",
   "execution_count": 3,
   "id": "0bc686b4-d5ec-40af-9d6d-3fdd0b518ed9",
   "metadata": {},
   "outputs": [],
   "source": [
    "# Load classification helpers' functions & initialize a file to log the models' scores\n",
    "from classification_utils import fit_model, get_scores, init_scores, find_best_threshold\n",
    "init_scores(\"data/scores_NN_SelectArchitecture.csv\")"
   ]
  },
  {
   "cell_type": "markdown",
   "id": "9a83e16a-e22c-4494-972e-20884fa549e3",
   "metadata": {},
   "source": [
    "### Chargeons le jeu de données et préparons un `échantillon de travail` représentatif"
   ]
  },
  {
   "cell_type": "code",
   "execution_count": 4,
   "id": "ddcbcb93-38d4-4eb1-a0ad-58ae67f6a4c8",
   "metadata": {
    "tags": []
   },
   "outputs": [
    {
     "data": {
      "text/html": [
       "<div>\n",
       "<style scoped>\n",
       "    .dataframe tbody tr th:only-of-type {\n",
       "        vertical-align: middle;\n",
       "    }\n",
       "\n",
       "    .dataframe tbody tr th {\n",
       "        vertical-align: top;\n",
       "    }\n",
       "\n",
       "    .dataframe thead th {\n",
       "        text-align: right;\n",
       "    }\n",
       "</style>\n",
       "<table border=\"1\" class=\"dataframe\">\n",
       "  <thead>\n",
       "    <tr style=\"text-align: right;\">\n",
       "      <th></th>\n",
       "      <th>target</th>\n",
       "      <th>text</th>\n",
       "    </tr>\n",
       "  </thead>\n",
       "  <tbody>\n",
       "    <tr>\n",
       "      <th>0</th>\n",
       "      <td>0</td>\n",
       "      <td>$ url$ - awww , that be a bummer . you shoulda...</td>\n",
       "    </tr>\n",
       "    <tr>\n",
       "      <th>1</th>\n",
       "      <td>0</td>\n",
       "      <td>be upset that he can not update his facebook b...</td>\n",
       "    </tr>\n",
       "    <tr>\n",
       "      <th>2</th>\n",
       "      <td>0</td>\n",
       "      <td>I dive many time for the ball . manage to save...</td>\n",
       "    </tr>\n",
       "    <tr>\n",
       "      <th>3</th>\n",
       "      <td>0</td>\n",
       "      <td>my whole body feel itchy and like its on fire</td>\n",
       "    </tr>\n",
       "    <tr>\n",
       "      <th>4</th>\n",
       "      <td>0</td>\n",
       "      <td>no , it be not behave at all . I be mad . why ...</td>\n",
       "    </tr>\n",
       "  </tbody>\n",
       "</table>\n",
       "</div>"
      ],
      "text/plain": [
       "   target                                               text\n",
       "0       0  $ url$ - awww , that be a bummer . you shoulda...\n",
       "1       0  be upset that he can not update his facebook b...\n",
       "2       0  I dive many time for the ball . manage to save...\n",
       "3       0      my whole body feel itchy and like its on fire\n",
       "4       0  no , it be not behave at all . I be mad . why ..."
      ]
     },
     "metadata": {},
     "output_type": "display_data"
    },
    {
     "data": {
      "text/plain": [
       "(1452791, 2)"
      ]
     },
     "metadata": {},
     "output_type": "display_data"
    },
    {
     "data": {
      "text/html": [
       "<div>\n",
       "<style scoped>\n",
       "    .dataframe tbody tr th:only-of-type {\n",
       "        vertical-align: middle;\n",
       "    }\n",
       "\n",
       "    .dataframe tbody tr th {\n",
       "        vertical-align: top;\n",
       "    }\n",
       "\n",
       "    .dataframe thead th {\n",
       "        text-align: right;\n",
       "    }\n",
       "</style>\n",
       "<table border=\"1\" class=\"dataframe\">\n",
       "  <thead>\n",
       "    <tr style=\"text-align: right;\">\n",
       "      <th></th>\n",
       "      <th>target</th>\n",
       "      <th>text</th>\n",
       "    </tr>\n",
       "  </thead>\n",
       "  <tbody>\n",
       "    <tr>\n",
       "      <th>469259</th>\n",
       "      <td>0</td>\n",
       "      <td>I do not have a background for my twitter stre...</td>\n",
       "    </tr>\n",
       "    <tr>\n",
       "      <th>152271</th>\n",
       "      <td>0</td>\n",
       "      <td>I do many thing but miss tweet</td>\n",
       "    </tr>\n",
       "    <tr>\n",
       "      <th>597612</th>\n",
       "      <td>0</td>\n",
       "      <td>most probably - eww all that pasty white skin ...</td>\n",
       "    </tr>\n",
       "    <tr>\n",
       "      <th>708306</th>\n",
       "      <td>0</td>\n",
       "      <td>ohh , how bad I sleep</td>\n",
       "    </tr>\n",
       "    <tr>\n",
       "      <th>59100</th>\n",
       "      <td>0</td>\n",
       "      <td>hell yeah u be texte I I remember , I be at my...</td>\n",
       "    </tr>\n",
       "  </tbody>\n",
       "</table>\n",
       "</div>"
      ],
      "text/plain": [
       "        target                                               text\n",
       "469259       0  I do not have a background for my twitter stre...\n",
       "152271       0                     I do many thing but miss tweet\n",
       "597612       0  most probably - eww all that pasty white skin ...\n",
       "708306       0                              ohh , how bad I sleep\n",
       "59100        0  hell yeah u be texte I I remember , I be at my..."
      ]
     },
     "metadata": {},
     "output_type": "display_data"
    },
    {
     "data": {
      "text/plain": [
       "(100000, 2)"
      ]
     },
     "metadata": {},
     "output_type": "display_data"
    }
   ],
   "source": [
    "data_work = pd.read_csv(\n",
    "    pathlib.Path(pathlib.Path().absolute(), 'data', 'data_nlp_1563108.csv'), \n",
    "    usecols=['target', 'lemmas_not_filtered'],\n",
    "    encoding='ISO-8859-1',\n",
    "    #nrows=100000,\n",
    ")\n",
    "data_work.rename(columns={'lemmas_not_filtered':'text'}, inplace=True)\n",
    "display(data_work.head(), data_work.shape)\n",
    "\n",
    "# Select samples\n",
    "sample_size = 100000\n",
    "data_work = data_work.groupby('target', group_keys=False).apply(lambda x: x.sample(sample_size//2, random_state=random_seed))\n",
    "display(data_work.head(), data_work.shape)"
   ]
  },
  {
   "cell_type": "code",
   "execution_count": 5,
   "id": "a286ea0c-1cbd-454b-8a54-8962f03834f8",
   "metadata": {
    "tags": []
   },
   "outputs": [
    {
     "data": {
      "text/plain": [
       "0    50000\n",
       "1    50000\n",
       "Name: target, dtype: int64"
      ]
     },
     "execution_count": 5,
     "metadata": {},
     "output_type": "execute_result"
    }
   ],
   "source": [
    "data_work.target.value_counts(dropna=False)"
   ]
  },
  {
   "cell_type": "markdown",
   "id": "ee9945b4-428e-4ea0-a83b-96b9bd8535b9",
   "metadata": {},
   "source": [
    "### Définissons les différentes `architectures RNN` que nous aimerions comparer"
   ]
  },
  {
   "cell_type": "markdown",
   "id": "27887ce5-3e27-408f-8b61-e7925fba731c",
   "metadata": {},
   "source": [
    "#### L'architecture utilisée sur les précèdents notebooks"
   ]
  },
  {
   "cell_type": "code",
   "execution_count": 6,
   "id": "2171a4ad-99ea-41e9-a698-5e37471af1d8",
   "metadata": {
    "tags": []
   },
   "outputs": [],
   "source": [
    "# P.336 livre \"Deep Learning with Python 2nd edition\"\n",
    "def architectureREF(f_opti, f_loss, f_metrics, embedding):\n",
    "        \n",
    "    inputs = keras.Input(shape=(None,), dtype=\"int64\")\n",
    "    \n",
    "    x = embedding(inputs)\n",
    "    x = layers.Bidirectional(layers.LSTM(32))(x) # 64\n",
    "    x = layers.Dropout(0.5)(x)\n",
    "    \n",
    "    predictions = layers.Dense(1, activation='sigmoid', name='predictions')(x)\n",
    "    \n",
    "    model = keras.Model(inputs, predictions)\n",
    "    model.compile(loss=f_loss, optimizer=f_opti, metrics=f_metrics)\n",
    "    \n",
    "    return model, \"Bi-LSTM 32 + Dropout 0.5\""
   ]
  },
  {
   "cell_type": "code",
   "execution_count": 7,
   "id": "9e513af3-bee7-414d-88c9-d98b9eb498be",
   "metadata": {
    "tags": []
   },
   "outputs": [],
   "source": [
    "# P.323 livre \"Deep Learning with Python 2nd edition\"\n",
    "def architecture000(f_opti, f_loss, f_metrics, embedding):\n",
    "        \n",
    "    inputs = keras.Input(shape=(None,), dtype=\"int64\")\n",
    "    \n",
    "    x = embedding(inputs)\n",
    "    x = layers.Dense(32)(x) # 64\n",
    "    x = layers.Dropout(0.5)(x)\n",
    "    \n",
    "    predictions = layers.Dense(1, activation='sigmoid', name='predictions')(x)\n",
    "    \n",
    "    model = keras.Model(inputs, predictions)\n",
    "    model.compile(loss=f_loss, optimizer=f_opti, metrics=f_metrics)\n",
    "    \n",
    "    return model, \"Dense 32 + Dropout 0.5\""
   ]
  },
  {
   "cell_type": "markdown",
   "id": "850413e6-a0d8-490f-be10-47fca2118d3a",
   "metadata": {},
   "source": [
    "#### Simple RNN / LSTM / GRU"
   ]
  },
  {
   "cell_type": "code",
   "execution_count": 8,
   "id": "13889788-14ef-4b49-9730-b8cf6db7e59f",
   "metadata": {
    "tags": []
   },
   "outputs": [],
   "source": [
    "# Simple RNN\n",
    "def architecture100(f_opti, f_loss, f_metrics, embedding):\n",
    "        \n",
    "    inputs = keras.Input(shape=(None,), dtype=\"int64\")\n",
    "    \n",
    "    x = embedding(inputs)\n",
    "    x = layers.SimpleRNN(32)(x)\n",
    "    #x = layers.Dense(24, activation='relu')(x)\n",
    "    x = layers.Dropout(0.5)(x)\n",
    "    \n",
    "    predictions = layers.Dense(1, activation='sigmoid', name='predictions')(x)\n",
    "    \n",
    "    model = keras.Model(inputs, predictions)\n",
    "    model.compile(loss=f_loss, optimizer=f_opti, metrics=f_metrics)\n",
    "    \n",
    "    return model, \"Simple RNN 32 + Dropout 0.5\""
   ]
  },
  {
   "cell_type": "code",
   "execution_count": 9,
   "id": "48494aee-5f5c-4f4c-bcda-d03227bfe2b3",
   "metadata": {
    "tags": []
   },
   "outputs": [],
   "source": [
    "# LSTM 32\n",
    "def architecture200(f_opti, f_loss, f_metrics, embedding):\n",
    "        \n",
    "    inputs = keras.Input(shape=(None,), dtype=\"int64\")\n",
    "    \n",
    "    x = embedding(inputs)\n",
    "    x = layers.LSTM(32)(x)\n",
    "    #x = layers.Dense(24, activation='relu')(x)\n",
    "    x = layers.Dropout(0.5)(x)\n",
    "    \n",
    "    predictions = layers.Dense(1, activation='sigmoid', name='predictions')(x)\n",
    "    \n",
    "    model = keras.Model(inputs, predictions)\n",
    "    model.compile(loss=f_loss, optimizer=f_opti, metrics=f_metrics)\n",
    "    \n",
    "    return model, \"LSTM 32 + Dropout 0.5\""
   ]
  },
  {
   "cell_type": "code",
   "execution_count": 10,
   "id": "e577107f-094b-4442-ac52-d1722e14d0ea",
   "metadata": {
    "tags": []
   },
   "outputs": [],
   "source": [
    "# GRU 32\n",
    "def architecture300(f_opti, f_loss, f_metrics, embedding):\n",
    "        \n",
    "    inputs = keras.Input(shape=(None,), dtype=\"int64\")\n",
    "    \n",
    "    x = embedding(inputs)\n",
    "    x = layers.GRU(32)(x)\n",
    "    #x = layers.Dense(24, activation='relu')(x)\n",
    "    x = layers.Dropout(0.5)(x)\n",
    "    \n",
    "    predictions = layers.Dense(1, activation='sigmoid', name='predictions')(x)\n",
    "    \n",
    "    model = keras.Model(inputs, predictions)\n",
    "    model.compile(loss=f_loss, optimizer=f_opti, metrics=f_metrics)\n",
    "    \n",
    "    return model, \"GRU 32 + Dropout 0.5\""
   ]
  },
  {
   "cell_type": "markdown",
   "id": "d8d4881b-a583-4987-addf-44357a13fca4",
   "metadata": {},
   "source": [
    "#### Birectional RNN / LSTM / GRU"
   ]
  },
  {
   "cell_type": "code",
   "execution_count": 11,
   "id": "30b4cf8a-8cee-4efd-819c-2351f3b2b81b",
   "metadata": {
    "tags": []
   },
   "outputs": [],
   "source": [
    "def architecture201(f_opti, f_loss, f_metrics, embedding):\n",
    "        \n",
    "    inputs = keras.Input(shape=(None,), dtype=\"int64\")\n",
    "    \n",
    "    x = embedding(inputs)\n",
    "    x = layers.Bidirectional(layers.LSTM(64))(x)\n",
    "    #x = layers.Dense(24, activation='relu')(x)\n",
    "    x = layers.Dropout(0.5)(x)\n",
    "    \n",
    "    predictions = layers.Dense(1, activation='sigmoid', name='predictions')(x)\n",
    "    \n",
    "    model = keras.Model(inputs, predictions)\n",
    "    model.compile(loss=f_loss, optimizer=f_opti, metrics=f_metrics)\n",
    "    \n",
    "    return model, \"Bi-LSTM 64 + Dropout 0.5\""
   ]
  },
  {
   "cell_type": "code",
   "execution_count": 12,
   "id": "317f83d4-9064-4737-a148-fe16e0e72b67",
   "metadata": {
    "tags": []
   },
   "outputs": [],
   "source": [
    "# https://www.analyticsvidhya.com/blog/2022/01/sentiment-analysis-with-lstm/\n",
    "def architecture202(f_opti, f_loss, f_metrics, embedding):\n",
    "        \n",
    "    inputs = keras.Input(shape=(None,), dtype=\"int64\")\n",
    "    \n",
    "    x = embedding(inputs)\n",
    "    x = layers.Bidirectional(layers.LSTM(64))(x)\n",
    "    x = layers.Dense(24, activation='relu')(x)\n",
    "    # x = layers.Dropout(0.5)(x)\n",
    "    \n",
    "    predictions = layers.Dense(1, activation='sigmoid', name='predictions')(x)\n",
    "    \n",
    "    model = keras.Model(inputs, predictions)\n",
    "    model.compile(loss=f_loss, optimizer=f_opti, metrics=f_metrics)\n",
    "    \n",
    "    return model, \"Bi-LSTM 64 + Dense 24\""
   ]
  },
  {
   "cell_type": "code",
   "execution_count": 13,
   "id": "50df711c-be03-4f79-8845-f2ab5448a172",
   "metadata": {
    "tags": []
   },
   "outputs": [],
   "source": [
    "def architecture301(f_opti, f_loss, f_metrics, embedding):\n",
    "        \n",
    "    inputs = keras.Input(shape=(None,), dtype=\"int64\")\n",
    "    \n",
    "    x = embedding(inputs)\n",
    "    x = layers.Bidirectional(layers.GRU(64))(x)\n",
    "    #x = layers.Dense(24, activation='relu')(x)\n",
    "    x = layers.Dropout(0.5)(x)\n",
    "    \n",
    "    predictions = layers.Dense(1, activation='sigmoid', name='predictions')(x)\n",
    "    \n",
    "    model = keras.Model(inputs, predictions)\n",
    "    model.compile(loss=f_loss, optimizer=f_opti, metrics=f_metrics)\n",
    "    \n",
    "    return model, \"Bi-GRU 64 + Dropout 0.5\""
   ]
  },
  {
   "cell_type": "code",
   "execution_count": 14,
   "id": "213b6633-ee8f-41cf-b72b-a592435a4dbc",
   "metadata": {
    "tags": []
   },
   "outputs": [],
   "source": [
    "def architecture302(f_opti, f_loss, f_metrics, embedding):\n",
    "        \n",
    "    inputs = keras.Input(shape=(None,), dtype=\"int64\")\n",
    "    \n",
    "    x = embedding(inputs)\n",
    "    x = layers.Bidirectional(layers.GRU(64))(x)\n",
    "    x = layers.Dense(24, activation='relu')(x)\n",
    "    # x = layers.Dropout(0.5)(x)\n",
    "    \n",
    "    predictions = layers.Dense(1, activation='sigmoid', name='predictions')(x)\n",
    "    \n",
    "    model = keras.Model(inputs, predictions)\n",
    "    model.compile(loss=f_loss, optimizer=f_opti, metrics=f_metrics)\n",
    "    \n",
    "    return model, \"Bi-GRU 64 + Dense 24\""
   ]
  },
  {
   "cell_type": "markdown",
   "id": "8622f815-e969-45b3-ad8d-0ec5b0e8a6e7",
   "metadata": {},
   "source": [
    "#### Quelques architectures trouvées dans mes lectures"
   ]
  },
  {
   "cell_type": "code",
   "execution_count": 15,
   "id": "cd11fdd1-5e05-4cc8-a1bd-12daa5e0b821",
   "metadata": {
    "tags": []
   },
   "outputs": [],
   "source": [
    "# https://www.embedded-robotics.com/sentiment-analysis-using-lstm/\n",
    "def architecture401(f_opti, f_loss, f_metrics, embedding):\n",
    "        \n",
    "    inputs = keras.Input(shape=(None,), dtype=\"int64\")\n",
    "    \n",
    "    x = embedding(inputs)\n",
    "    x = layers.Bidirectional(layers.LSTM(32))(x)\n",
    "    x = layers.Dense(10, activation='relu')(x)\n",
    "    \n",
    "    predictions = layers.Dense(1, activation='sigmoid', name='predictions')(x)\n",
    "    \n",
    "    model = keras.Model(inputs, predictions)\n",
    "    model.compile(loss=f_loss, optimizer=f_opti, metrics=f_metrics)\n",
    "    \n",
    "    return model, \"Bi-LSTM 32 + Dense 10\""
   ]
  },
  {
   "cell_type": "code",
   "execution_count": 16,
   "id": "06de5243-3ede-4c4f-b345-749dc5332427",
   "metadata": {
    "tags": []
   },
   "outputs": [],
   "source": [
    "# https://www.analyticsvidhya.com/blog/2021/08/sentiment-analysis-using-bidirectional-stacked-lstm/\n",
    "def architecture402(f_opti, f_loss, f_metrics, embedding):\n",
    "        \n",
    "    inputs = keras.Input(shape=(None,), dtype=\"int64\")\n",
    "    \n",
    "    x = embedding(inputs)\n",
    "    x = layers.Bidirectional(layers.LSTM(64, return_sequences=True, input_shape=(None, 1)))(x)\n",
    "    x = layers.Dropout(0.2)(x)\n",
    "    x = layers.Bidirectional(layers.LSTM(32))(x)\n",
    "    x = layers.Dropout(0.2)(x)\n",
    "    x = layers.Dense(64, activation='relu')(x)\n",
    "    x = layers.Dropout(0.1)(x)\n",
    "    \n",
    "    predictions = layers.Dense(1, activation='sigmoid', name='predictions')(x)\n",
    "    \n",
    "    model = keras.Model(inputs, predictions)\n",
    "    model.compile(loss=f_loss, optimizer=f_opti, metrics=f_metrics)\n",
    "    \n",
    "    return model, \"Bi-LSTM 64 Seq + Dropout 0.2 + Bi-LSTM 32 + Dropout 0.2 + Dense 64 + Dropout 0.1\""
   ]
  },
  {
   "cell_type": "code",
   "execution_count": 17,
   "id": "9d6dd84c-7854-48b3-a457-410e1c1db655",
   "metadata": {
    "tags": []
   },
   "outputs": [],
   "source": [
    "# Own archi base on P.349 livre \"Deep Learning with Python 2nd edition\"\n",
    "def architecture403(f_opti, f_loss, f_metrics, embedding):\n",
    "        \n",
    "    inputs = keras.Input(shape=(None,), dtype=\"int64\")\n",
    "    \n",
    "    x = embedding(inputs)\n",
    "    x = layers.Dense(128)(x)\n",
    "    x = layers.Dropout(0.2)(x)\n",
    "    x = layers.Dense(64)(x)\n",
    "    x = layers.Dropout(0.2)(x)\n",
    "    x = layers.Dense(32)(x)\n",
    "    x = layers.Dropout(0.1)(x)\n",
    "    \n",
    "    predictions = layers.Dense(1, activation='sigmoid', name='predictions')(x)\n",
    "    \n",
    "    model = keras.Model(inputs, predictions)\n",
    "    model.compile(loss=f_loss, optimizer=f_opti, metrics=f_metrics)\n",
    "    \n",
    "    return model, \"Dense 128 + Dropout 0.2 + Dense 64 + Dropout 0.2 + Dense 32 + Dropout 0.1\""
   ]
  },
  {
   "cell_type": "markdown",
   "id": "0238bf65-451a-488f-9b8d-d2c6b34aa4f4",
   "metadata": {},
   "source": [
    "### Définissons les fonctions utiles à l'`embedding`"
   ]
  },
  {
   "cell_type": "code",
   "execution_count": 18,
   "id": "70a999f7",
   "metadata": {
    "tags": []
   },
   "outputs": [],
   "source": [
    "## EMBEDDING ##\n",
    "\n",
    "from gensim.models import KeyedVectors\n",
    "import gensim.downloader as api\n",
    "\n",
    "def load_gensim_embedding(embedding_name, binary=False):\n",
    "    \n",
    "    embedding_path = pathlib.Path(pathlib.Path().absolute(), 'data', 'embedding_models', f'{embedding_name}.gz')\n",
    "    try:\n",
    "        if embedding_path.is_file():\n",
    "            print(f\"Loading from {embedding_path}\")\n",
    "            embedding_model = KeyedVectors.load_word2vec_format(embedding_path, binary=binary)\n",
    "        else:\n",
    "            print(\"Loading from the Git repos with API\")\n",
    "            embedding_model = api.load(embedding_name)\n",
    "            \n",
    "        return embedding_model\n",
    "    except Exception as e:\n",
    "        print(f\"The provided embedding model couldn't be loaded correctly: {e}\")\n",
    "        \n",
    "def convert_embedding_matrix(vocabulary, embeddings_index, max_tokens, embedding_dim=100):\n",
    "    \n",
    "    hits = 0\n",
    "    misses = 0\n",
    "    misses_list = []\n",
    "    \n",
    "    word_index = dict(zip(vocabulary, range(len(vocabulary))))\n",
    "    \n",
    "    embedding_matrix = np.zeros((max_tokens, embedding_dim))\n",
    "    \n",
    "    for word, i in word_index.items():\n",
    "        if i < max_tokens:\n",
    "            try:\n",
    "                embedding_vector = embeddings_index.get_vector(word)\n",
    "            except AttributeError:\n",
    "                embedding_vector = embeddings_index.get(word)\n",
    "            except KeyError:\n",
    "                embedding_vector = None\n",
    "        if embedding_vector is not None:\n",
    "            hits += 1\n",
    "            embedding_matrix[i] = embedding_vector\n",
    "        else:\n",
    "            misses += 1\n",
    "            misses_list.append(word)\n",
    "            \n",
    "    print(f\"Converted {hits} words, and couldn't find {misses} words\")\n",
    "    print(f\"Missing words: {misses_list}\")\n",
    "            \n",
    "    return embedding_matrix"
   ]
  },
  {
   "cell_type": "markdown",
   "id": "fe476b92-501a-4c20-bc6b-cd8e16e1a54a",
   "metadata": {},
   "source": [
    "### Définissons les `fonctions et paramètres commun` à l'entrainement des différents modèles que l'on veut tester"
   ]
  },
  {
   "cell_type": "code",
   "execution_count": 38,
   "id": "49e6994b-1eb7-46e5-a373-98403ef4b1ac",
   "metadata": {},
   "outputs": [],
   "source": [
    "# DagsHub \n",
    "\n",
    "def save_hyperparameters_to_dagshub(dlogger, model_name, archi_desc, layers, batch_size, sample_size):    \n",
    "    dlogger.log_hyperparams(model_name=model_name)\n",
    "    dlogger.log_hyperparams(archi_desc=archi_desc)\n",
    "    dlogger.log_hyperparams(layers=layers)\n",
    "    dlogger.log_hyperparams(batch_size=batch_size)\n",
    "    dlogger.log_hyperparams(sample_size=sample_size)\n",
    "    \n",
    "def save_metrics_to_dagshub(dlogger, scores, best_threshold, history, step_num=1000, close=True):\n",
    "    dlogger.log_metrics(scores, step_num=step_num)\n",
    "    dlogger.log_metrics(best_threshold=best_threshold, step_num=step_num)\n",
    "    add_scores_to_dagshub(dlogger, history)\n",
    "\n",
    "def get_layers_for_dagshub(model):\n",
    "    \n",
    "    layers_infos = []\n",
    "    \n",
    "    def search(layer):\n",
    "        layer = dict(layer)\n",
    "        \n",
    "        nonlocal layers_infos\n",
    "        \n",
    "        if 'config' in layer:\n",
    "    \n",
    "            #if 'name' in layer['config']:\n",
    "            #    print(\" name:\", layer['config']['name'])\n",
    "            conf = {}\n",
    "            if 'units' in layer['config']:\n",
    "                conf[\"units\"] = layer['config']['units']\n",
    "            if 'output_dim' in layer['config']:\n",
    "                conf['output_dim'] = layer['config']['output_dim']\n",
    "            if 'rate' in layer['config']:\n",
    "                conf['rate'] = layer['config']['rate']\n",
    "            \n",
    "            layers_infos.append((layer['class_name'], conf))\n",
    "            \n",
    "            if 'layer' in layer['config']:\n",
    "                search(layer['config']['layer'])\n",
    "        \n",
    "    for layer in model.get_config()['layers']:\n",
    "        search(layer)\n",
    "        \n",
    "    return layers_infos\n",
    "\n",
    "\n",
    "def add_scores_to_dagshub(dlogger, history):\n",
    "    for epoch, loss, accuracy, val_loss, val_accuracy in zip(\n",
    "        history.epoch, \n",
    "        history.history['loss'], \n",
    "        history.history['accuracy'], \n",
    "        history.history['val_loss'], \n",
    "        history.history['val_accuracy']):\n",
    "        scores = {\n",
    "            'loss':loss, \n",
    "            'accuracy':accuracy, \n",
    "            'val_loss':val_loss, \n",
    "            'val_accuracy':val_accuracy\n",
    "        }\n",
    "        dlogger.log_metrics(scores, step_num=epoch) "
   ]
  },
  {
   "cell_type": "code",
   "execution_count": 20,
   "id": "3c9423ee-05a0-423e-a4dd-6f7448a82558",
   "metadata": {
    "tags": []
   },
   "outputs": [],
   "source": [
    "def summarize_diagnostics(history):\n",
    "    \n",
    "    figure = plt.figure(figsize=(8,8))\n",
    "            \n",
    "    # plot loss\n",
    "    plt.subplot(211)\n",
    "    plt.title('Cross Entropy Loss')\n",
    "    plt.plot(history.history['loss'], color='blue', label='train')\n",
    "    plt.plot(history.history['val_loss'], color='orange', label='val')\n",
    "    plt.legend()\n",
    "    \n",
    "    # plot accuracy\n",
    "    plt.subplot(212)\n",
    "    plt.title('Classification Accuracy')\n",
    "    plt.plot(history.history['accuracy'], color='blue', label='train')\n",
    "    plt.plot(history.history['val_accuracy'], color='orange', label='val')\n",
    "    plt.legend()\n",
    "    \n",
    "    # save plot to file\n",
    "    #filename = sys.argv[0].split('/')[-1]\n",
    "    #plt.savefig(filename + '_plot.png')\n",
    "    #plt.close()\n",
    "    \n",
    "    plt.tight_layout(pad=1.0)"
   ]
  },
  {
   "cell_type": "code",
   "execution_count": 21,
   "id": "1223fbe9-8e24-48ed-8b64-0ce908f9eb0c",
   "metadata": {
    "tags": []
   },
   "outputs": [],
   "source": [
    "from keras import layers\n",
    "from keras.callbacks import EarlyStopping, ModelCheckpoint, Callback, ReduceLROnPlateau\n",
    "\n",
    "def init_callbacks(model_name):\n",
    "\n",
    "    # Define savepoints\n",
    "    filepath = pathlib.Path(\"models\", f\"{model_name}.keras\")\n",
    "\n",
    "    checkpoint = ModelCheckpoint(\n",
    "        monitor=\"val_accuracy\",\n",
    "        mode=\"max\",\n",
    "        filepath=filepath,\n",
    "        save_best_only=True,\n",
    "        verbose=1,\n",
    "    )\n",
    "\n",
    "    # Define EarlyStopping conditions\n",
    "    es = EarlyStopping(\n",
    "        monitor='val_loss', # 'binary_accuracy'\n",
    "        mode='min', # 'max'\n",
    "        patience=5,\n",
    "        min_delta=0.01, \n",
    "        restore_best_weights=True, \n",
    "        verbose=1,\n",
    "    )\n",
    "    \n",
    "    return [checkpoint, es]"
   ]
  },
  {
   "cell_type": "code",
   "execution_count": 22,
   "id": "ec24ce1a-892d-4a4b-8665-f94c1644a58d",
   "metadata": {
    "tags": []
   },
   "outputs": [],
   "source": [
    "batch_size=1024"
   ]
  },
  {
   "cell_type": "markdown",
   "id": "f0781d8d-18b6-48d6-b8e1-78b477a6a950",
   "metadata": {},
   "source": [
    "### Divisons le jeu de données en `Train` et `Test` sets"
   ]
  },
  {
   "cell_type": "code",
   "execution_count": 23,
   "id": "b82c0e76-ce59-4288-b1c5-93415a997b72",
   "metadata": {
    "tags": []
   },
   "outputs": [
    {
     "name": "stdout",
     "output_type": "stream",
     "text": [
      "X_train: (60000,) + X_valid: (20000,) + X_test: (20000,)\n",
      "y_train: (60000,) + y_valid: (20000,) + y_test: (20000,)\n"
     ]
    }
   ],
   "source": [
    "X_train_full, X_test, y_train_full, y_test = train_test_split(data_work['text'], data_work['target'], test_size=0.2, random_state=random_seed, stratify=data_work['target'])\n",
    "X_train, X_valid, y_train, y_valid = train_test_split(X_train_full, y_train_full, test_size=X_test.shape[0], random_state=random_seed, stratify=y_train_full)\n",
    "\n",
    "assert X_train.shape[0] + X_valid.shape[0] + X_test.shape[0] == data_work.shape[0]\n",
    "assert y_train.shape[0] + y_valid.shape[0] + y_test.shape[0] == data_work.shape[0]\n",
    "\n",
    "print(f\"X_train: {X_train.shape} + X_valid: {X_valid.shape} + X_test: {X_test.shape}\")\n",
    "print(f\"y_train: {X_train.shape} + y_valid: {X_valid.shape} + y_test: {X_test.shape}\")"
   ]
  },
  {
   "cell_type": "markdown",
   "id": "e8c0f6d4-f5fd-4c34-a3ee-234afddfe4cf",
   "metadata": {},
   "source": [
    "---\n",
    "---\n",
    "# 2. Recherche de l'`architecture` la plus adaptée <a class=\"anchor\" id=\"ARCHI\"></a> [⇪](#menu)"
   ]
  },
  {
   "cell_type": "markdown",
   "id": "7605df82-81f6-49bc-96cf-6e1f640c5eec",
   "metadata": {
    "tags": []
   },
   "source": [
    "### Préparons des train, valid et test set avec l'embedding retenu [Ngram=1 | int | GloveTwitter200-gensim Embedding + MASK + NOT Trainable]"
   ]
  },
  {
   "cell_type": "markdown",
   "id": "3cb3f088-ca3b-4d2c-867a-639f55bde61c",
   "metadata": {},
   "source": [
    "#### Standardize & Tokenize"
   ]
  },
  {
   "cell_type": "code",
   "execution_count": 25,
   "id": "4b6ef6d0-a929-4d28-8732-25eb4871b224",
   "metadata": {
    "tags": []
   },
   "outputs": [],
   "source": [
    "max_length = 60\n",
    "max_tokens = 20000\n",
    "\n",
    "text_vectorizationB7 = TextVectorization(\n",
    "    output_mode='int', # int, multi_hot, count, tf_idf\n",
    "    max_tokens=max_tokens,\n",
    "    ngrams=1,\n",
    "    output_sequence_length=max_length # search the max size by default\n",
    ")"
   ]
  },
  {
   "cell_type": "code",
   "execution_count": 26,
   "id": "ded2bc4b-1068-4aea-bb0a-aa2af3121493",
   "metadata": {
    "tags": []
   },
   "outputs": [],
   "source": [
    "text_vectorizationB7.adapt(list(data_work.text), True)"
   ]
  },
  {
   "cell_type": "code",
   "execution_count": 27,
   "id": "f742550c-5b66-4126-968f-ce5372c0440b",
   "metadata": {
    "tags": []
   },
   "outputs": [
    {
     "name": "stdout",
     "output_type": "stream",
     "text": [
      "['', '[UNK]', 'i', 'be', 'to', 'the', 'a', 'not', 'my', 'and', 'it', 'you', 'have', 'do', 'for', 'in', 'go', 'of', 'that', 'get'] ...\n"
     ]
    }
   ],
   "source": [
    "print(text_vectorizationB7.get_vocabulary()[:20], \"...\")"
   ]
  },
  {
   "cell_type": "markdown",
   "id": "3175e978-7881-456b-ba9a-a94ec48636ee",
   "metadata": {},
   "source": [
    "#### Prepare dataset"
   ]
  },
  {
   "cell_type": "code",
   "execution_count": 28,
   "id": "3cb8b87e-0554-4394-b59c-12258250dd6a",
   "metadata": {
    "tags": []
   },
   "outputs": [],
   "source": [
    "X_train_ready = text_vectorizationB7(X_train)\n",
    "X_valid_ready = text_vectorizationB7(X_valid)\n",
    "X_test_ready = text_vectorizationB7(X_test)"
   ]
  },
  {
   "cell_type": "code",
   "execution_count": 29,
   "id": "b34fb72a-016e-4794-a929-9810835d4922",
   "metadata": {
    "tags": []
   },
   "outputs": [
    {
     "data": {
      "text/plain": [
       "888559               dh way too crazy ... I need a xanax ..\n",
       "500657    I too ... bur with engineering imma be here 5 ...\n",
       "Name: text, dtype: object"
      ]
     },
     "execution_count": 29,
     "metadata": {},
     "output_type": "execute_result"
    }
   ],
   "source": [
    "X_train[:2]"
   ]
  },
  {
   "cell_type": "code",
   "execution_count": 30,
   "id": "3a754c98-344a-4c0e-bb74-b696921d2c99",
   "metadata": {
    "tags": []
   },
   "outputs": [
    {
     "data": {
      "text/plain": [
       "<tf.Tensor: shape=(2, 60), dtype=int64, numpy=\n",
       "array([[ 3783,   122,    48,   414,     2,    76,     6, 13712,     0,\n",
       "            0,     0,     0,     0,     0,     0,     0,     0,     0,\n",
       "            0,     0,     0,     0,     0,     0,     0,     0,     0,\n",
       "            0,     0,     0,     0,     0,     0,     0,     0,     0,\n",
       "            0,     0,     0,     0,     0,     0,     0,     0,     0,\n",
       "            0,     0,     0,     0,     0,     0,     0,     0,     0,\n",
       "            0,     0,     0,     0,     0,     0],\n",
       "       [    2,    48, 10568,    25, 12742,  1210,     3,    86,   270,\n",
       "          913,   525,     0,     0,     0,     0,     0,     0,     0,\n",
       "            0,     0,     0,     0,     0,     0,     0,     0,     0,\n",
       "            0,     0,     0,     0,     0,     0,     0,     0,     0,\n",
       "            0,     0,     0,     0,     0,     0,     0,     0,     0,\n",
       "            0,     0,     0,     0,     0,     0,     0,     0,     0,\n",
       "            0,     0,     0,     0,     0,     0]])>"
      ]
     },
     "execution_count": 30,
     "metadata": {},
     "output_type": "execute_result"
    }
   ],
   "source": [
    "X_train_ready[:2]"
   ]
  },
  {
   "cell_type": "markdown",
   "id": "be375474-0589-4ce4-9af8-c22fa5c0f2c9",
   "metadata": {},
   "source": [
    "#### Embedding"
   ]
  },
  {
   "cell_type": "code",
   "execution_count": 31,
   "id": "924052e3-e129-4d07-a009-657fe0402c22",
   "metadata": {
    "tags": []
   },
   "outputs": [
    {
     "name": "stdout",
     "output_type": "stream",
     "text": [
      "Loading from /home/valkea/Dev/OpenClassrooms/Projets_AI/P7/data/embedding_models/glove-twitter-200.gz\n"
     ]
    }
   ],
   "source": [
    "embeddings_index = load_gensim_embedding(\"glove-twitter-200\")"
   ]
  },
  {
   "cell_type": "code",
   "execution_count": 32,
   "id": "4239ccd0-97af-4683-8924-e697121deeb9",
   "metadata": {
    "collapsed": true,
    "jupyter": {
     "outputs_hidden": true
    },
    "tags": []
   },
   "outputs": [
    {
     "name": "stdout",
     "output_type": "stream",
     "text": [
      "Converted 17511 words, and couldn't find 2489 words\n",
      "Missing words: ['', '[UNK]', '2', '3', '4', '1', '5', '6', '10', '8', '7', '30', '100', '20', '12', '9', '1st', '15', '11', '2day', '2nd', '50', '25', 'Ã¢Â\\x99', 'Â«', '16', 'b4', '18', '2009', '3rd', '17', 'Ã¢Â\\x99Â¥', '24', '13', '40', '21', '2morrow', '80', 'e3', '0', '14', '3d', 'Â°', '2nite', 'wwwtweeteraddercom', 'Â©', '140', '200', '90', 'booo', '33', '70', '09', '1000', 'ughhh', 'f1', '22', '4th', 'gr8', 'boooo', '6th', '500', 'youuu', 'wwwtweeterfollowcom', '21st', '60', 'ps3', '2moro', '19', 'lvatt', '45', '2010', '300', '9th', '5th', '333', '35', 'iÃ¢Â´m', '3gs', '400', '360', 'Ã¯Â¿Â½', 'spymaster', 'itÃ¢Â´s', '430', '7th', '630', '23', '18th', 'yayyy', 'toooo', 'iÃ¯Â¿Â½m', 'Â¦', 'ohhhh', 'mp3', '830', '2night', '26', 'o2', 'every1', '8th', '530', '32', '28', '15th', 'twitterberry', 'asot400', '99', '930', '55', '10th', 'mcflyforgermany', '29', '27', '1230', 'marsiscome', '13th', 'ewww', 'booooo', '730', '20th', 'youuuu', 'wwwiamsoannoyedcom', '800', '2008', '182', '100th', 'meeee', 'heyyy', 'goodmorne', 'delongeday', '5k', '36', '330', '2000', '130', '11th', 'w00', 'twitterfon', 'poope', 'no1', 'methink', 'dissapointe', 'alll', '700', '2hrs', 'Â¡', 'sims3', 'boooooo', '75', '31', '3000', '2gether', '25th', '17th', '10k', '101', 'sum1', 'grrrrr', 'babysitte', '19th', '12th', 'owww', 'meeeee', 'loveee', 'g2', 'flylady', 'comicstrip', 'byeee', '95', '34', '230', '16th', '150', 'uhhh', 'ughhhh', 'tooooo', 'ps2', 'omgggg', 'mannn', 'itÃ¯Â¿Â½s', 'andyhurleyday', 'ahhhhhh', '22nd', 'yeahhh', 'twitterbug', 'misss', 'ittt', 'inaperfectworld', 'h1n1', 'gokey', 'any1', '65', '630am', '600', '1500', '1130', '10000', 'Ã£', 'yessss', 'haveyouever', 'g1', 'chesterday', '48', '447', '420', '42', '2moz', '29th', '24th', '247', '120', 'xboxe3', 'twhirl', 'todayyy', 't20', 'ohhhhh', 'hooo', 'h8', 'fuzzball', 'ewwww', 'donÃ¢Â´t', '911', '39', '23rd', 'yeahhhh', 'wayyyy', 'ubertwitter', 'twitterfox', 'some1', 'seee', 'preppe', 'pleaseee', 'loveeee', 'l8r', 'gahhh', 'errr', 'dayyy', 'bradiewebb', 'allll', '64', '26th', '14th', '1030', 'Â¿', 'youuuuuu', 'yesssss', 'yayyyy', 'whyyy', 'wayyy', 'wahhh', 'teethe', 't4', 'nambu', 'nahhh', 'n97', 'in2', 'hollyoak', '85', '730am', '645', '4ever', '44', '33333', '2mrw', '27th', '250', '200th', 'yummm', 'youuuuu', 'woohooo', 'whooo', 'welll', 'vh1', 'ummmm', 'trackle', 'shhh', 'saveontd', 'p90x', 'nowww', 'mmwante', 'longggg', 'knackere', 'iÃ¢Â\\x80Â\\x99m', 'grrrrrr', 'donÃ¯Â¿Â½t', 'dontyouhate', 'chuckmemonday', 'bricke', 'boreddd', 'aghhh', '98', '92', '90210', '900', '82', '66', '46', '311', '30th', '2morro', '24hrs', '230am', '2003', '1100', '07', 'Ã°', 'Ã¯Â¿Â½Ã¯Â¿Â½', 'Ã¢Â¬Ã¢Â¬', 'Ã¢Â\\x80', 'Ã¢', 'Â»', 'wooohooo', 'win7', 'whyyyy', 'weeeee', 'w8', 'votemcfly', 'tf2', 'robotpickupline', 'pleaseeee', 'm8', 'lollll', 'laterrrr', 'hiiiii', 'hellooo', 'goooo', 'funnnn', 'funnn', 'eatte', 'canÃ¯Â¿Â½t', 'aweee', 'allllll', 'aaahhh', '93', '920', '88', '830am', '62', '57', '56', '530am', '4hrs', '49', '43', '3hotwords', '3333', '320', '31st', '300th', '2morow', '2hours', '228', '221', '2007', '2006', '1999', '180', '1111', '100000', 'Ã°Â½Ã°', 'Ã¢Â\\x80Â\\x93', 'yeaaa', 'yayyyyy', 'x3', 'whyyyyy', 'uppp', 'twibble', 'tiredddd', 'stilll', 'shittt', 'saynow', 'saddd', 'omggg', 'offf', 'mannnn', 'kevinjona', 'guysss', 'gettte', 'g0', 'embarasse', 'cs4', 'brrrr', 'blehhh', 'beee', 'bb10', 'awwwwww', 'awesomeee', 'arghhh', 'anddd', 'alllll', 'ahhhhhhhhhh', 'ahhhhhhhhh', 'ahhhhhhh', 'aahhh', '91', '904', '79', '7000', '68', '5mins', '5hrs', '4get', '38', '37', '330am', '30min', '2days', '28th', '1hr', '15min', '1200', '105', '103', '102', 'Ã\\x97', 'Â®', 'yeeee', 'yeaaaa', 'x2', 'workkk', 'wolframalpha', 'waaahhh', 'waaaaa', 'vÃ£', 'urghhh', 'ummmmm', 'ughhhhhh', 'u2', 'twidroid', 'twibe', 'tonighttttt', 'tinytwitter', 't9', 'str8', 'shhhh', 'preordere', 'photoshoppe', 'peterfacinelli', 'p1', 'owwwww', 'outttt', 'otalia', 'os3', 'okayyy', 'ohhhhhh', 'nowwww', 'nighttt', 'mrtweet', 'militarymon', 'luckyyy', 'knowww', 'jonasliveonfb', 'hoooo', 'helloooo', 'heee', 'h20', 'gooooo', 'goodsex', 'gmorne', 'ff7', 'fcke', 'evry1', 'everrr', 'eu09', 'dissappointe', 'cuteee', 'cgft', 'canÃ¢Â´t', 'cairon', 'c4', 'boooooooo', 'blink182', 'blahhh', 'baddd', 'backkk', 'asylm', 'arkansa', 'amazinggg', 'allway', 'ahhhhhhhhhhhhh', 'ahhhhhhhh', 'ah1n1', 'adword', 'adium', '999', '97', '930am', '8d', '87', '845', '77', '720', '710', '6hrs', '540', '530pm', '500th', '5000', '4rm', '4got', '450', '41', '4000', '3hrs', '345', '30stm', '2yr', '2x', '2maro', '2b', '20mins', '20k', '2012', '1hour', '1700', '123', '110', '104', '1000th', '08', '06', '05', '03', '02', 'Ã¯Â¿Â½25', 'Ã¯Â¿Â½20', 'zenjar', 'yummmmm', 'yummmm', 'youÃ¯Â¿Â½re', 'yippeee', 'yeee', 'yahhh', 'xiii', 'x17live', 'wwwm2easia', 'wowww', 'whoooo', 'wcchicago', 'waaa', 'uplifter', 'ugghhh', 'uggg', 'tÃ£', 'twittercom', 'toooooo', 'tlke', 'sumthe', 'summerrrr', 'suckssss', 'starwar', 'sooooooooooo', 'smcsyd', 'sleepyyy', 'shortstack', 'shaundiviney', 'scamme', 'savechuck', 'sameee', 's1', 'rÃ¡Â»Â\\x93i', 'reposte', 'rc1', 'r2', 'quickpwn', 'pr0n', 'peopleee', 'partyyyy', 'pakcricket', 'outtt', 'ouchhh', 'openhacklondon', 'onnnn', 'ohhhhhhh', 'o0', 'neverende', 'n95', 'muchhh', 'motwani', 'missss', 'mehhh', 'mayhap', 'maternalhealth', 'lvtt', 'lolll', 'lofnotc', 'laterrr', 'l8', 'kn0w', 'jizze', 'iÃ¯Â¿Â½ll', 'ily2', 'hottt', 'homeeee', 'hiii', 'hi5', 'heÃ¢Â\\x80Â\\x99s', 'heyyyyy', 'heyyyy', 'herrr', 'heeee', 'happybdaykrisallen', 'goooooo', 'g4', 'fridayyy', 'fiancÃ£', 'exicte', 'e71', 'donÃ¢Â\\x80Â\\x99t', 'disorient', 'damnnn', 'crazyyy', 'cod4', 'classs', 'bunche', 'borke', 'bookmarke', 'bonker', 'beejive', 'beddd', 'beatwittyparty', 'be4', 'awwwwwwwww', 'awayyy', 'andyclemmensen', 'amazeball', 'amaaaze', 'ahhhhhhhhhhhhhh', 'aaaahhhh', '96', '94', '7am', '76', '74', '73', '715', '71', '69', '67', '615', '61', '6000', '59', '545', '510', '51', '4ward', '4eva', '4days', '47', '435', '415', '400th', '3oh3', '303', '2nyt', '2nt', '2morra', '2d', '245', '212', '20min', '2011', '1s', '1984', '190', '1800', '160', '145', '135', '1215', '112', '107', '106', 'Ã±Â\\x87Ã±Â\\x82Ã°Â¾', 'Ã±Â\\x82Ã°', 'Ã±Â\\x80Ã°', 'Ã±', 'Ã¤Â\\x91i', 'Ã¢Â£60', 'Ã¢Â£6', 'Ã¢Â£500', 'Ã¢Â£250', 'Ã¢Â\\x99Â¥Ã¢Â\\x99Â¥Ã¢Â\\x99Â¥Ã¢Â\\x99Â¥', 'Ã¢Â\\x80Â¢', 'Â´', 'yÃ£Â¤y', 'yippeeee', 'yessssssss', 'yeahhhhh', 'yayyyyyy', 'yamli', 'xxxxxxxxxx', 'xbox360', 'wwiii', 'woowww', 'wonderre', 'willl', 'wayyyyy', 'w4', 'vÃ¯Â¿Â½', 'vs2010', 'vocÃ£Âª', 'v8', 'uxlondon', 'uhhhh', 'txte', 'twittertakeover', 'tweetmic', 'twatlight', 'ts3', 'tivoe', 'tireddd', 'thingsmummysaid', 'theeee', 'thanksgive', 't1i', 'sÃ¯Â¿Â½o', 'sÃ¯Â¿Â½', 'sÃ¡Â»Â\\x9bm', 'swinge', 'summerrr', 'sucksss', 'sourceforge', 'sooooooooooooooo', 'soooooooooooooo', 'sooooooooooooo', 'songbooktv', 'soderling', 'shizzz', 'shitti', 'shhhhh', 'sf4', 'scareddd', 's3', 's2', 's0me', 'rewatche', 'reminise', 'reconnecte', 'reallyyyy', 'radio1', 'pwne', 'ponderland', 'pokÃ£', 'pmse', 'pingfm', 'phÃ¡ÂºÂ£i', 'phishe', 'pfff', 'owwww', 'overrrrrr', 'ouchhhh', 'ooohhh', 'oneee', 'ohhhhhhhhhhh', 'oceanup', 'nÃ¯Â¿Â½', 'nuffnang', 'ne1', 'nawww', 'mÃ¯Â¿Â½', 'myspaceee', 'mw2', 'multitaske', 'mtvmovieaward', 'mp4', 'mp3s', 'mmmmmmmmmm', 'missse', 'meeeeeee', 'mcrchat', 'mangoorangeÃ¯Â¿Â½', 'makerfaire', 'm20eu', 'loveeeeeee', 'loveeeee', 'lottt', 'longggggggg', 'longgg', 'lolllll', 'l4d', 'kradam', 'knowwwww', 'jÃ£', 'journchat', 'jnoub', 'javaone', 'iÃ¢Â´ve', 'iÃ¢Â´d', 'itÃ¢Â\\x80Â\\x99s', 'inflamme', 'indiavotes09', 'imeem', 'ie6', 'iceblock', 'humpthestump', 'hsm3', 'howarewe', 'hmmmmmmmm', 'hiyaaa', 'hiiii', 'heyfever', 'herebeforeoprah', 'hellllll', 'hearte', 'heartbreake', 'hateeee', 'hateee', 'h2o', 'grrrrrrr', 'gqmf', 'goshhh', 'goodÃ¢Â\\x80', 'goodmore', 'gokeyisadouche', 'ginoandfran', 'gimmefailwhale', 'geee', 'gawju', 'fuckkk', 'friende', 'freeee', 'fnwc', 'fixreplie', 'finnishe', 'fightstar', 'fetchmp3', 'farmtown', 'failwhale', 'f4', 'ewwwww', 'everyoneee', 'everrrr', 'euronew', 'elevensestime', 'eeeee', 'e4', 'dyinggg', 'duhhh', 'dreamwidth', 'dissapeare', 'disapointe', 'dieeee', 'destroytwitter', 'delicioussss', 'dayyyy', 'day26', 'd90', 'd3', 'cÃ£Â³', 'cursebird', 'cs3', 'crazyyyy', 'cavz', 'cadÃ£Âª', 'buzzcock', 'buzz140', 'btub', 'brrr', 'brainbone', 'booore', 'boooore', 'booooooooooo', 'booooooooo', 'blockdreamer', 'blesss', 'bfff', 'barakatday', 'awwwwwww', 'arghhhh', 'anoye', 'angelsdemon', 'alllllll', 'agesss', 'aawww', 'aaaahhhhh', 'a2', '900am', '8900', '89', '86', '84', '815', '8000', '7hours', '750', '72', '711', '70th', '700th', '6k', '650', '610', '5yr', '5d', '58', '550', '54', '53', '520', '52', '514', '512', '4yr', '4real', '4ish', '4hour', '4a', '445', '411', '410', '40th', '404', '3uk', '3turnoffwords', '3k', '399', '365', '350', '34th', '339', '3333333', '30secondstomar', '301', '2yo', '2weeks', '2say', '2do', '299', '280', '266', '25hrs', '24hr', '240', '235', '226', '220', '215', '20boysummer', '201', '2004', '2000th', '1yr', '1mil', '1998', '1997', '1995', '1991', '1989', '1981', '1960', '1900', '151', '140conf', '137', '130am', '12hr', '125', '1240', '1230am', '119', '117', '1106', '10x', '10mins', '10min', '1057', '1050', '1000000', '01', 'Ã±Ã±Â\\x82Ã±Â\\x80Ã°', 'Ã±Ã°Â¾Ã°Â²Ã°ÂµÃ±Â\\x82', 'Ã±Ã°Â¸Ã°Â±Ã°Â¾', 'Ã±Â\\x87Ã°', 'Ã°Â½Ã°Â¾', 'Ã°Â½Ã°Âµ', 'Ã°Â¼', 'Ã°ÂºÃ°', 'Ã°Âº', 'Ã°Â·Ã°', 'Ã°Â²Ã°', 'Ã°Â²', 'Ã¯Â¿Â½u', 'Ã¯Â¿Â½s', 'Ã¯Â¿Â½n', 'Ã¯Â¿Â½60', 'Ã¯Â¿Â½500', 'Ã¯Â¿Â½4', 'Ã¯Â£', 'Ã¤Â±m', 'Ã¤Â\\x91ang', 'Ã¤inh', 'Ã£Â¼ber', 'Ã¢Â£50', 'Ã¢Â£5', 'Ã¢Â£35', 'Ã¢Â£200', 'Ã¢Â\\x99Â¥Ã¢Â\\x99Â¥Ã¢Â\\x99Â¥Ã¢Â\\x99Â¥Ã¢Â\\x99Â¥Ã¢Â\\x99Â¥', 'Ã¢Â\\x99Â¥Ã¢Â\\x99Â¥Ã¢Â\\x99Â¥Ã¢Â\\x99Â¥Ã¢Â\\x99Â¥', 'Ã¢Â\\x99Â¥Ã¢Â\\x99Â¥Ã¢Â\\x99Â¥', 'Ã¢Â\\x99Â¥Ã¢Â\\x99Â¥', 'Ã¢Â\\x98Â¼', 'Ã¢Â\\x80Â\\x94', 'Ã\\x97Ã\\x97Âª', 'Ã\\x97Â\\x9bÃ\\x97Â\\x95Ã\\x97Â\\x9f', 'Ã\\x97Â\\x96Ã\\x97Â\\x94', 'zippys', 'zensursula', 'yucko', 'yslow', 'ypou', 'youÃ¢Â´re', 'youuuuuuuuu', 'you3', 'yooooo', 'yettt', 'yesterdayi', 'yessssssssssss', 'yeeeee', 'yeeeaaa', 'yeaaahhh', 'yasss', 'xxxxxxxxxxxxxxxxxxxx', 'xxxxxxxxxxxxxxx', 'xaviermedia', 'x64', 'x1', 'x0x0x', 'wwwstringbeancoffeeshopcom', 'wwwmyvincinet', 'wwwbingcom', 'wundere', 'wtfff', 'wrke', 'writechat', 'wowy', 'wowwww', 'wouldnÃ¯Â¿Â½t', 'workkkk', 'wooooooooo', 'woooooooo', 'woohoooo', 'wonÃ¢Â\\x80Â\\x99t', 'wohooo', 'winphp', 'wikileak', 'whyyyyyyyyy', 'whyyyyyy', 'whooooo', 'whoaaaa', 'whoaaa', 'wheee', 'whattt', 'whaaaa', 'weÃ¢Â´ll', 'westcountry', 'wembeley', 'wellll', 'weibe', 'weekendz', 'weeeeeeee', 'weeeeeee', 'wc3', 'waybeo', 'wansta', 'wallflow', 'wakeboarde', 'waitttt', 'waittt', 'wahhhhhh', 'wahhhhh', 'waaaa', 'w1', 'w0rk', 'w00p', 'vimperator', 'vexcite', 'vampirebeatle', 'vaccume', 'v1', 'uÃ¥Â¾', 'upgo', 'uninstalle', 'unfortunatelly', 'unforch', 'unclip', 'uncharged', 'ummmmmmm', 'uknowradio', 'ui2009', 'uhmmm', 'uhhhhhh', 'uhhhhh', 'ughhhhh', 'u14', 'typo3', 'twtrcon', 'twtfm', 'twittz', 'twitteruniverse', 'twittertrain', 'twitterrr', 'twitterling', 'twitterfriend', 'twitterfall', 'twitterbird', 'twitteratti', 'twitpocalypse', 'twitascope', 'twissup', 'tweetster', 'tweetshrink', 'tweetgrade', 'tuyet', 'tumblarity', 'tristo', 'tribbleagencycom', 'trannie', 'tracys', 'top10', 'toofer', 'tonightttttt', 'tonighttt', 'tomorrowwww', 'togetherrrr', 'todayyyyyy', 'todayim', 'todayi', 'tivod', 'tiggie', 'tiba2', 'thrillbilly', 'threeee', 'thissss', 'thennn', 'themthey', 'themmm', 'thatÃ¯Â¿Â½s', 'thatÃ¢Â\\x80Â\\x99s', 'thanxxx', 'thanksssss', 'thankiie', 'terebithia', 'tenneasee', 'technetvconf', 'techglance', 'teabagge', 'tbpid', 'talkshoe', 't3', 't0day', 'sÃ£Â£o', 'systray', 'synche', 'swelter', 'swagbuck', 'superrrr', 'superrr', 'super8', 'sundayyy', 'sumthink', 'summerwood', 'sudafe', 'sucksssss', 'subray', 'stufff', 'sts125', 'storytelle', 'stomacache', 'stokedi', 'stiche', 'starvingggg', 'squeee', 'spazze', 'sp2', 'souljaboytellem', 'soooooooooooooooo', 'soonnn', 'soderle', 'slooooowly', 'slinkie', 'slidesharenet', 'sleey', 'skillzzzz', 'sistaaa', 'sims2', 'simfriend', 'silkie', 'sighhh', 'show89', 'shabusen', 'sg1', 'sfgiant', 'sfarsit', 'seychelle', 'seruuu', 'seeeee', 'seeee', 'scrapheap', 'schoold', 'sb900', 'saveearl', 'sarmy', 'sanjiyah', 'safari4', 'saderer', 'saddddd', 'sabbeth', 's4c', 's0', 'rÃ£Â¶yksopp', 'roseeeee', 'rlyy', 'righttt', 'rhubard', 'reppe', 'renÃ¯Â¿Â½e', 'relaunche', 'refreshe', 'reformatte', 'reblippin', 'reallyyy', 'really2', 'realllyyy', 're5', 'rawrrrr', 'ramiele', 'quÃ£', 'pÃ£', 'pzone', 'putchi', 'pussyparty', 'punke', 'puddingsunday', 'prrrrrrrrrr', 'protool', 'programmin', 'probabbly', 'privelage', 'prince2', 'preztel', 'prepackage', 'powertwitter', 'potsticker', 'portabello', 'poorley', 'pnuemonia', 'plzzzzzz', 'plzzzz', 'plurke', 'pleaseeeeeeeeeeee', 'pleaseeeeeeee', 'pleaseeeeeee', 'playradioplay', 'pityful', 'pisseed', 'pilpre', 'phÃ£Â²ng', 'photocleaner', 'phoneee', 'pgpm', 'pffff', 'petrify', 'perham', 'pawpawty', 'pavelnedve', 'patzz', 'partyyy', 'parasaile', 'palmpre', 'paintballe', 'pagecom', 'p6', 'overtweet', 'overrr', 'orthodentist', 'opperation', 'openrasta', 'oooohhhh', 'oohhhh', 'okkk', 'ojousama', 'ohhhhhhhh', 'ogrady', 'oetmannshausen', 'oddle', 'octodrive', 'oceanupcom', 'obssese', 'nÃ¯Â¿Â½y', 'nÃ¯Â¿Â½o', 'nyaaa', 'nowwwww', 'notttt', 'nottt', 'nosetap', 'nooothe', 'noooooooooooooooo', 'no17', 'ninguÃ£', 'nightttt', 'nightdont', 'niceeee', 'niceee', 'nhÃ¡', 'neurofen', 'nethe', 'neotel', 'neeeee', 'neeee', 'needfolower', 'nauseate', 'natm2', 'nastie', 'nahhhh', 'nabbie', 'n2', 'n0w', 'n00b', 'mÃ¯Â¿Â½nh', 'mÃ£Â¬nh', 'myfax', 'mx5', 'muskateer', 'muahszz', 'mtub', 'mself', 'mrscjbaran3', 'moyle', 'mousavi', 'morroc', 'morninggggg', 'morninggg', 'moreee', 'mooloolaba', 'monfil', 'momentile', 'molasse', 'modde', 'mmmmmmmmmmmm', 'mmmhmmm', 'mitm4e', 'misunderstandin', 'missfit', 'mimiron', 'mileyworld', 'miht', 'microlog', 'mega64', 'mediteranean', 'mc2', 'maÃ£Â±ana', 'maruzen', 'mannnnnnnn', 'mannnnn', 'mailart', 'magictwackle', 'maddd', 'm3', 'm25', 'm2', 'm1', 'm0re', 'lÃ£Âªn', 'lÃ£', 'lÃ¡ÂºÂ¡i', 'lovessss', 'lovesss', 'lovelyness', 'lovedddd', 'lottttt', 'losy', 'looonnnggg', 'longgggg', 'longboarde', 'lolthe', 'lollllll', 'lol3', 'lmaoooo', 'liquidweb', 'lightskinne', 'lifelink', 'lifeeee', 'lifeee', 'liesgirlstell', 'lefte', 'lcross', 'lazye', 'lazybone', 'lameee', 'lama2', 'ladyjade', 'l8er', 'l4d2', 'l0l', 'l00ks', 'krtv', 'knowwwwwwww', 'knighty', 'kn0', 'kisss', 'kiple', 'kiesler', 'kickboxe', 'keycode', 'keyboarde', 'kanvaas', 'kamuli', 'k9', 'k1', 'journay', 'jordy26', 'jonkate8', 'jonkate', 'jolicloud', 'jk8', 'jetlagge', 'jealousss', 'jb3d', 'janeane', 'iÃ¢Â´ll', 'iÃ¢Â\\x80Â\\x99ll', 'iwth', 'itweetreply', 'itlol', 'iscsi', 'iqad', 'inboxe', 'impend', 'immobiliser', 'iiiiii', 'ie7', 'ickk', 'icbth', 'ibody', 'i7', 'i18n', 'hÃ£', 'hurdy', 'hungryyyy', 'hummm', 'hugeee', 'hrmmm', 'hreat', 'hoÃ£', 'horibble', 'hooooo', 'hooligun', 'homiesss', 'homeee', 'hmmmmmmm', 'him3', 'hicup', 'hickup', 'hhmmm', 'heÃ¯Â¿Â½', 'heyjust', 'herniate', 'hereeee', 'hereee', 'heheee', 'headdddd', 'headachy', 'hawkcam', 'hartly', 'happyyyy', 'hanginÃ¯Â¿Â½', 'halloooooo', 'hahalove', 'haaaaaa', 'haaaa', 'h8s', 'gÃ£Â¼d', 'gwibber', 'guyssss', 'guhhh', 'gueste', 'gtime', 'grux', 'gruele', 'grood', 'greenified', 'greattttt', 'greattt', 'gr88', 'gphone', 'goshhhh', 'goodnightttttt', 'gonzpiration', 'gomtv', 'goddd', 'geete', 'geeki', 'ganke', 'gahhhh', 'gaayyy', 'gaaahhhhhh', 'g8', 'g3', 'fÃ£', 'fuzzie', 'funnnnnnn', 'funnnnn', 'fullfille', 'fufille', 'friendsss', 'fridayyyyy', 'fricka', 'freeeeee', 'freakinggg', 'fowa', 'formula1', 'foreverrr', 'forbe', 'fontswap', 'focke', 'flyyyy', 'flately', 'flaily', 'fireee', 'finshe', 'finise', 'finallyyy', 'fieldnote', 'fffffat', 'fecke', 'fcuke', 'faustÃ£Â£o', 'fastcgi', 'farke', 'familyforce5', 'fakejowhiley', 'fafinettex3', 'facebooke', 'facebookcom', 'ezmuze', 'exciteddd', 'exciite', 'examms', 'ewwwwww', 'evrythe', 'evfn', 'everyonebutton', 'everrrrr', 'etymotic', 'estk', 'espn360', 'espaÃ£Â±ol', 'es21', 'eq2', 'ep09', 'eotc', 'embarrase', 'embarq', 'efal', 'eehhh', 'eeeeeekkk', 'ec2', 'earlyyy', 'e75', 'e2conf', 'dÃ£Â¡m', 'dÃ£', 'drugsss', 'downloadd', 'dougla', 'dopy', 'doinnn', 'dogsitte', 'do3', 'diviney', 'dishearten', 'dieingggg', 'didnÃ¯Â¿Â½t', 'didnÃ¢Â´t', 'didnÃ¢Â\\x80Â\\x99t', 'devistate', 'devaste', 'deperate', 'denter', 'deliberatly', 'deigman', 'ddddd', 'dddd', 'dc3', 'daysss', 'dannygokeyislove', 'dannygokey', 'dampner', 'dammm', 'dailybooth', 'd8', 'd0nt', 'd0', 'cÃ¯Â¿Â½', 'cÃ£Â¡i', 'cyrel', 'cufflink', 'crutche', 'cruisy', 'crashy', 'craptacular', 'crapi', 'cr2', 'cpsia', 'couqh', 'constipate', 'congrad', 'confuzzle', 'conchord', 'conceite', 'computere', 'compiz', 'compfy', 'compell', 'commiseration', 'commentsuscribe', 'comeeee', 'colddd', 'clinky', 'cirvical', 'chuckeu', 'chillaxe', 'chilaxe', 'chickeny', 'chickene', 'chiago', 'cheeeeap', 'checkem', 'cheapie', 'chalean', 'cepic', 'ccky', 'caulin', 'castelvania', 'canÃ¢Â\\x80Â\\x99t', 'cantonfirstfri', 'cannyy', 'caliiforniia', 'cafÃ¯Â¿Â½', 'byeeeee', 'buuuuu', 'buttt', 'businessweekcom', 'bushmill', 'bumed', 'bublegum', 'brrrrrr', 'browncoat', 'broadmeadow', 'breman', 'brecky', 'bozooka', 'boyyy', 'boringgggg', 'boringgg', 'boreddddd', 'boredddd', 'boore', 'boooooore', 'booooooore', 'boooooooooooooooo', 'bonanzle', 'bodystep', 'bluebox', 'blondeyy', 'blockout', 'blipping', 'blehhhh', 'blahhhhhh', 'biggg', 'bfheroe', 'bevere', 'betterrr', 'befoethestorm', 'beecham', 'bedddd', 'beautifulll', 'beachhhh', 'bea09', 'bcp3', 'bb3', 'barkhunt', 'backstabbe', 'backordere', 'back2back', 'babyyy', 'babeeee', 'babeee', 'b0rke', 'awwwwwwwwwww', 'awwwwwwwwww', 'awwwwwwww', 'awsomeee', 'awesometastic', 'awefull', 'aweaome', 'awayyyy', 'assss', 'assedly', 'ashea', 'arsis', 'arhhh', 'arghhhhhhhhh', 'arborist', 'aptw', 'aptana', 'appal', 'ap05', 'anywyas', 'anywhooo', 'anyte', 'anymoreeee', 'annyoe', 'anneyoung', 'aneko', 'andddd', 'ananga', 'amstell', 'amandapalmer', 'altiris', 'alreadyyy', 'allllllll', 'aiysha', 'agreeee', 'acostic', 'abigale', 'abc2', 'aaawwww', 'aaawww', 'aaahhhhh', 'aaahhhh', 'a6', 'a1', '972', '945', '941', '930pm', '916', '901', '8pm', '8o', '8ig', '8a', '850', '840', '83', '820pm', '80th', '7yr', '7pm', '7o', '7k', '7ish', '78', '75th', '754', '740pm', '730pm', '722', '70k', '705', '703', '702', '6b', '69th', '6666', '666', '64bit', '647', '645am', '640', '63', '626', '625', '619', '614', '60th', '60k', '600th', '5pm', '5p', '5ish', '5days', '5am', '5800xm', '5800', '559', '5500', '52nd', '50th', '50p', '50mile', '50k', '50d', '503', '500am', '500000', '50000', '4x4', '4u', '4sure', '4hr', '4hours', '4give', '499', '45th', '45min', '430am', '425am', '425', '40k', '403', '401', '3yo', '3x', '3wordsaftersex', '3mo', '3ish', '3hr', '3days', '3am', '3ala', '340', '33rd', '333333', '329', '325', '315pm', '315', '30ish', '307', '3000th', '30000', '2year', '2mor', '2min', '2k9', '2k8', '2hr', '2go', '2getha', '2get', '28c', '2626', '25min', '258', '251', '245am', '23rds', '234', '233', '2300', '225', '222', '22000', '2200', '2100', '20ish', '209', '2080', '208', '206', '2020', '2015', '2005', '2002', '2001', '1v100', '1h', '1a', '1996', '1994', '1993', '1992', '199', '1988', '1987', '1985', '1977', '1965', '1909', '1902', '1899', '186', '183', '169', '168', '167', '1600', '157', '155', '14hr', '14hours', '144', '1408', '1400', '139', '136', '134', '1330', '131', '12hrs', '12day', '1250', '124', '1234', '1212', '11ish', '1155', '115', '113', '111', '10pm', '10pg', '10hour', '107am', '1030pm', '1025', '1016', '1001', '0ut', '0o', '0655', '0630', '0400', '0300', 'ÃºÂ\\x86Ã»Â\\x8c', 'ÃºÂ\\x86Ã¹Â\\x86Ã¸Â¯', 'Ã¹Ã¹Â\\x8a', 'Ã¹Ã¹Â\\x83Ã¸Â±Ã¸', 'Ã¹Â\\x88Ã¹Â\\x82Ã¸Âª', 'Ã¹Â\\x88Ã¸Â¯', 'Ã¹Â\\x88Ã¸Â§Ã¹Â\\x87Ã¹', 'Ã¹Â\\x88', 'Ã¹Â\\x87Ã¹', 'Ã¹Â\\x87Ã¸Â±ÃºÂ\\x86Ã¹Â\\x86Ã¸Â¯', 'Ã¹Â\\x87Ã¸Â\\x8c', 'Ã¹Â\\x87', 'Ã¹Â\\x86Ã¹Â\\x8aÃ¹Â\\x86Ã¹Â\\x8a', 'Ã¹Â\\x86Ã¹', 'Ã¹Â\\x84', 'Ã¹Â\\x82Ã¸Â·Ã¸Â¹', 'Ã¹', 'Ã¸Â·Ã¹', 'Ã¸Â³Ã¸Â§Ã¹Â\\x84Ã¹', 'Ã¸Â¯Ã»Â\\x8cÃºÂ¯Ã¹Â\\x87', 'Ã¸Â¯Ã¸Â±Ã¸Â¬Ã¸', 'Ã¸ÂªÃ¹Â\\x82Ã¸Â±Ã»Â\\x8cÃ¸Â¨Ã¸Â§', 'Ã¸Â¨Ã¸Â³Ã¹Â\\x8aÃ¹Â\\x83Ã¹Â\\x84Ã¸Â§Ã¸Âª', 'Ã¸Â§Ã¹Â\\x86Ã¸ÂµÃ¸Â\\xadÃ¹Â\\x83', 'Ã¸Â§Ã¹Â\\x84Ã¹', 'Ã¸Â§Ã¹Â\\x84Ã¸Â\\xadÃ¸Â±Ã¸Â§Ã¸Â±Ã¸', 'Ã¸Â§Ã¹Â\\x84Ã¸Â¥Ã¹', 'Ã¸Â§Ã¸Â±Ã¸Â§Ã¸Âª', 'Ã¸Â§Ã¸ÂªÃ¹Â\\x83Ã¹', 'Ã¸Â¥Ã¹Â\\x86Ã¸ÂªÃ¸Â\\xadÃ¸Â§Ã¸Â±Ã¹Â\\x8aÃ¸', 'Ã¸', 'Ã±Ã±Ã°Â½Ã°Â¾', 'Ã±Ã±Â\\x87Ã±Â\\x91Ã±Â\\x82', 'Ã±Ã±Â\\x82Ã°Â¾Ã°Â¼Ã±Â\\x83', 'Ã±Ã±Â\\x82Ã°Â¸Ã°Â¼', 'Ã±Ã±Â\\x82Ã°Âµ', 'Ã±Ã°Â¿Ã°', 'Ã±Ã°Â½Ã°ÂµÃ±Ã±Â\\x83Ã°ÂºÃ°', 'Ã±Ã°Â¼Ã°Â¾Ã±Â\\x82Ã±Â\\x80Ã±', 'Ã±Ã°Â¼Ã°Â¾Ã±Â\\x82Ã±Â\\x80Ã°ÂµÃ±Â\\x82Ã±Â\\x8c', 'Ã±Ã°Â»Ã°ÂµÃ°Â¿Ã°Â¾Ã°Âµ', 'Ã±Ã°ÂºÃ±Â\\x80Ã°', 'Ã±Ã°ÂºÃ°', 'Ã±Ã°Â¸Ã±Â\\x82', 'Ã±Ã°Â¸Ã°Â²Ã±Â\\x8bÃ°Âµ', 'Ã±Â¼', 'Ã±Â\\x88Ã°Â½Ã°Â¾', 'Ã±Â\\x88Ã°Â½Ã°ÂµÃ°Â½Ã±Â\\x8cÃ°ÂºÃ°Â¸Ã°Â¹', 'Ã±Â\\x87Ã±Â\\x82Ã°Â¾Ã±Â\\x82Ã°Â¾', 'Ã±Â\\x87Ã°ÂµÃ±Â\\x80Ã°ÂµÃ°', 'Ã±Â\\x84Ã°', 'Ã±Â\\x83Ã±Â\\x82Ã±Â\\x80Ã°Â¾', 'Ã±Â\\x83', 'Ã±Â\\x82Ã±Ã°Â¶Ã°ÂµÃ±Ã±Â\\x82Ã±Â\\x8c', 'Ã±Â\\x82Ã±Â\\x8cÃ±Ã±', 'Ã±Â\\x82Ã±Â\\x8b', 'Ã±Â\\x82Ã°Â¾Ã°Â¶Ã°Âµ', 'Ã±Â\\x82Ã°Â¾Ã°Â²Ã°', 'Ã±Â\\x82Ã°Â²Ã°Â¸Ã±Â\\x82', 'Ã±Â\\x80Ã±Ã°Â´Ã°Â¾Ã°Â¼', 'Ã±Â\\x80Ã°ÂºÃ°', 'Ã±Â\\x80Ã°Â¸Ã°ÂºÃ°Â¾Ã°Â²Ã±Â\\x8b', 'Ã°Ã°Ã°Ã°Ã°Ã°Ã°Ã°Ã°', 'Ã°Ã°Â¼Ã°', 'Ã°Ã°', 'Ã°Â¿Ã±Â\\x80Ã°Â¾Ã±Â\\x89Ã°Âµ', 'Ã°Â¿Ã±Â\\x80Ã°Â¾Ã±Â\\x87Ã°Â¸Ã°Â¼', 'Ã°Â¿Ã°Â¾Ã±Ã°Â¾Ã°Â²Ã°ÂµÃ±Â\\x82Ã±Â\\x83Ã°Â¹Ã±Â\\x82Ã°Âµ', 'Ã°Â¿Ã°Â¾Ã°Â¼Ã°ÂµÃ°Â½Ã°ÂµÃ°Â½Ã°', 'Ã°Â¿Ã°Â¾Ã°ÂºÃ±Â\\x83Ã°Â¿Ã°', 'Ã°Â¿Ã°Â¾Ã°ÂºÃ°Â¾Ã°Â»Ã°ÂµÃ°Â½Ã°Â¸Ã°Âµ', 'Ã°Â¿Ã°Â¾Ã°ÂºÃ°ÂµÃ±Â\\x80', 'Ã°Â¿Ã°Â¾Ã°', 'Ã°Â¿Ã°Â¾', 'Ã°Â¿Ã°Â¸Ã±Ã°', 'Ã°Â¿Ã°', 'Ã°Â¾Ã±Â\\x83', 'Ã°Â¾Ã°Â¿Ã°ÂµÃ±Â\\x80Ã±Â\\x83', 'Ã°Â¾Ã°Â²Ã±Â\\x80Ã°Â¸Ã°Â½Ã±Ã°ÂºÃ°Â¾Ã°Â³Ã°Â¾', 'Ã°Â½Ã°Â¾Ã°Â²Ã±Â\\x8bÃ°Âµ', 'Ã°Â½Ã°ÂµÃ°Âµ', 'Ã°Â¼Ã±Â\\x83', 'Ã°Â¼Ã°Â¾Ã°Â¶Ã°Â½Ã°Â¾', 'Ã°Â¼Ã°Â½Ã°Â¾Ã°Â³Ã°Â¾', 'Ã°Â¼Ã°Â½Ã°Âµ', 'Ã°Â¼Ã°Â¸Ã±Ã±Â\\x82Ã°Â¾', 'Ã°Â¼Ã°ÂµÃ±Ã±Ã±Â\\x86', 'Ã°Â¼Ã°ÂµÃ°Â¶Ã°Â´Ã±Â\\x83', 'Ã°Â»Ã°Â¸Ã±Â\\x86Ã°Â¾', 'Ã°Â»Ã°Â¸Ã°Â½Ã°Â¸Ã°Â¹', 'Ã°Â»Ã°ÂµÃ±Â\\x82Ã°Â¾Ã°Â¼', 'Ã°ÂºÃ±Â\\x82', 'Ã°ÂºÃ±Â\\x80Ã°', 'Ã°ÂºÃ°Â¾Ã±Â\\x88Ã°ÂºÃ°Â¾Ã°Â¹', 'Ã°ÂºÃ°Â¾Ã°Â¹Ã±Â\\x82Ã°Â¾', 'Ã°ÂºÃ°Â»Ã°Â¸Ã°ÂµÃ°Â½Ã±Â\\x82', 'Ã°ÂºÃ°Â¸Ã±', 'Ã°Â¹', 'Ã°Â·Ã°Â¾Ã°Â½Ã°Âµ', 'Ã°Â·Ã°ÂµÃ°Â¼Ã°Â½Ã±Â\\x8bÃ±', 'Ã°ÂµÃ°Â³Ã°Â¾', 'Ã°Âµ', 'Ã°Â´Ã°Â¾Ã°ÂµÃ±Ã±Â\\x82', 'Ã°Â´Ã°Â¾Ã°Â²Ã°', 'Ã°Â´Ã°Â½Ã±', 'Ã°Â´Ã°Â¶Ã°', 'Ã°Â´Ã°', 'Ã°Â³Ã±Â\\x83Ã°Â»Ã±Ã±Â\\x82Ã±Â\\x8c', 'Ã°Â³Ã°', 'Ã°Â²Ã±Ã°ÂµÃ±', 'Ã°Â²Ã±Ã°ÂµÃ°Â³Ã°Â´Ã°', 'Ã°Â²Ã±Â\\x8bÃ°Â½Ã±Â\\x8c', 'Ã°Â±Ã±Â\\x8bÃ°Â»Ã°Â¾', 'Ã°Â±Ã±Â\\x8bÃ°Â»Ã°', 'Ã°Â±Ã±Â\\x8b', 'Ã°Â±Ã±Â\\x83Ã°Â´Ã±Â\\x83Ã±Â\\x82', 'Ã°Â±Ã±Â\\x80Ã°Â¸Ã±Â\\x82Ã±Â\\x8cÃ±Ã±', 'Ã°Â±Ã°Â±Ã°ÂµÃ±Â\\x80Ã±Â\\x83', 'Ã°Â\\xadÃ±', 'Ã°Â¨Ã°', 'Ã°Â¢Ã°Â¾Ã°ÂºÃ°Â¸Ã°Â¾', 'Ã°Â¡Ã°Â¿Ã°', 'Ã°Â¡Ã°Â»Ã°Â¾Ã°Â²Ã°', 'Ã°Â\\x9fÃ±Â\\x83Ã±Ã±Â\\x82Ã±Â\\x8c', 'Ã°Â\\x9eÃ°Â\\x96Ã°Â\\x94Ã°Â\\x95Ã°Ã°Â\\x98Ã°Â¯', 'Ã°Â\\x9cÃ±Ã±Â\\x80Ã°Â»Ã°Â¸Ã°Â½', 'Ã°Â\\x9aÃ°', 'Ã°Â\\x94Ã°Ã°Â\\x95Ã°Â\\x9c', 'Ã°Â\\x94Ã°Â¾Ã°Â±Ã±Â\\x80Ã°Â¾Ã°Âµ', 'Ã°Â\\x94Ã°', 'Ã°Â\\x93Ã°Â»Ã±Â\\x8eÃ°Âº', 'Ã°Â\\x92', 'Ã¯Ã®Â±', 'Ã¯Â¿Â½Ã¯Â¿Â½Ã¯Â¿Â½Ã¯Â¿Â½Ã¯Â¿Â½', 'Ã¯Â¿Â½Ã¯Â¿Â½Ã¯Â¿Â½Ã¯Â¿Â½', 'Ã¯Â¿Â½Ã¯Â¿Â½Ã¯Â¿Â½', 'Ã¯Â¿Â½Ã¯Â¿Â½no', 'Ã¯Â¿Â½Ã¯Â¿Â½l', 'Ã¯Â¿Â½Ã¯Â¿Â½if', 'Ã¯Â¿Â½xdÃ¯Â¿Â½', 'Ã¯Â¿Â½well', 'Ã¯Â¿Â½tleast', 'Ã¯Â¿Â½sheesh', 'Ã¯Â¿Â½rhus', 'Ã¯Â¿Â½rbol', 'Ã¯Â¿Â½quiÃ¯Â¿Â½n', 'Ã¯Â¿Â½pero', 'Ã¯Â¿Â½only', 'Ã¯Â¿Â½ntil', 'Ã¯Â¿Â½ng', 'Ã¯Â¿Â½nce', 'Ã¯Â¿Â½m', 'Ã¯Â¿Â½liver', 'Ã¯Â¿Â½little', 'Ã¯Â¿Â½k', 'Ã¯Â¿Â½introduction', 'Ã¯Â¿Â½incredible', 'Ã¯Â¿Â½g', 'Ã¯Â¿Â½devolutionÃ¯Â¿Â½', 'Ã¯Â¿Â½cont', 'Ã¯Â¿Â½bertwitter', 'Ã¯Â¿Â½ber', 'Ã¯Â¿Â½700', 'Ã¯Â¿Â½6k', 'Ã¯Â¿Â½68', 'Ã¯Â¿Â½5', 'Ã¯Â¿Â½40', 'Ã¯Â¿Â½399', 'Ã¯Â¿Â½33', 'Ã¯Â¿Â½320', 'Ã¯Â¿Â½32', 'Ã¯Â¿Â½300', 'Ã¯Â¿Â½30', 'Ã¯Â¿Â½3', 'Ã¯Â¿Â½280', 'Ã¯Â¿Â½27', 'Ã¯Â¿Â½240', 'Ã¯Â¿Â½2', 'Ã¯Â¿Â½1790', 'Ã¯Â¿Â½17', 'Ã¯Â¿Â½1540', 'Ã¯Â¿Â½150Ã¯Â¿Â½', 'Ã¯Â¿Â½15', 'Ã¯Â¿Â½135', 'Ã¯Â¿Â½125', 'Ã¯Â¿Â½124', 'Ã¯Â¿Â½100', 'Ã¯Â\\x86Ã®Â\\xadÃ¯Â\\x84Ã®Â¿Ã¯Â\\x82', 'Ã¯Â\\x84Ã®', 'Ã¯Â\\x80Ã®Â\\xadÃ¯Ã¯Â\\x83Ã®Â¹', 'Ã¯Â\\x80Ã®', 'Ã®Â¼Ã¯Ã¯Ã®Â¹Ã¯Â\\x83Ã®Âµ', 'Ã®Â¼Ã®Â¿Ã¯', 'Ã®ÂºÃ®Â±Ã®Â¹Ã®Â½Ã®Â¿Ã¯Ã¯Ã®Â³Ã®ÂµÃ®Â¹Ã®', 'Ã®ÂºÃ®Â¬Ã®Â·Ã®ÂºÃ®Âµ', 'Ã®Â¤Ã¯Â\\x8eÃ¯Ã®Â±', 'Ã®Â\\x9fÃ®Â\\x9fÃ®Â\\x9fÃ®Â\\x9f', 'Ã®Â\\x95', 'Ã®Â\\x94', 'Ã®Â\\x91Â\\x88Ã®Â\\x84Â\\x92i', 'Ã®Â\\x8cÂ\\x8aÃ®Â\\x8c', 'Ã®Â\\x8bÃ®Â\\x8bit', 'Ã®Â\\x84Â\\x88Ã®Â\\x8bÃ®Â\\x8b', 'Ã®Â\\x84Â\\x88', 'Ã®Â\\x84', 'Ã®Â\\x83', 'Ã\\xadÂ´m', 'Ã\\xadÂ\\x95Â\\x98Ã¬Â§Â\\x80Ã«Â§Â\\x8c', 'Ã¬Â¡', 'Ã¬Â\\x9bÃ«Â\\x8cÂ\\x80Ã\\xadÂ\\x95', 'Ã¬Â\\x8bÂ\\x9cÃ¬Â\\x8aÂ¤Ã\\xad', 'Ã¬Â\\x82Â¬Ã\\xadÂ\\x9aÂ\\x8c', 'Ã«Â½Â\\x80Ã¬ÂªÂ½Ã¢Â\\x99Â¥', 'Ã«Â³Â\\x91Ã¬Â\\x95Â\\x84Ã«', 'Ã«Â\\x8bÂ¤Ã¬Â\\x8c', 'Ã«Â\\x8bÂ\\x88Ã«Â\\x8bÂ¤', 'Ã«Â\\x8bÂ\\x88', 'ÃªÂ¿Â\\x88Ã¬Â\\x80', 'Ãª', 'Ã©Â\\x9fÂ³', 'Ã¨', 'Ã§Â´Â\\x80Ã¥Â¿ÂµÃ§Â´Â\\x99s', 'Ã§Â\\x9cÂ\\x9fÃ¦Â\\x98Â¯Ã§Â\\x9aÂ\\x84', 'Ã§Â\\x94Â\\x9fÃ¦Â\\x97Â¥Ã¥Â¿Â«Ã¤Â¹Ã¯Â¼shÃ¤Â\\x93ngrÃ£Â¬', 'Ã¦Â²Â¹Ã¨Â²Â\\x93Ã©Â¤', 'Ã¦Â\\x8eÂ¨', 'Ã¦', 'Ã¥Ã£Â³dÃ¥Âº', 'Ã¥Â¾e', 'Ã¥Â¡oreiz', 'Ã¥Â\\x99eÃ¥Â¡Ã£Â\\xadm', 'Ã¥Â\\x83Ã©Â\\x86Â\\x8b', 'Ã¤Â±ve', 'Ã¤Â\\x91Ã¡Â»Â\\x99ng', 'Ã¤Â\\x91Ã¡Â»c', 'Ã¤Â\\x91Ã¡ÂºÂ§u', 'Ã¤Â\\x91Ã¡ÂºÂ£m', 'Ã¤Â\\x91iÃ¡Â»u', 'Ã¤Â\\x91c', 'Ã£Â¼t', 'Ã£Â¼', 'Ã£Â´n', 'Ã£Â¬s', 'Ã£Â£o', 'Ã£Â¡nd', 'Ã£Â\\x9cber', 'Ã£Â\\x9c', 'Ã£Â\\x96', 'Ã£Â\\x8cÃ£Â\\x82Â\\x93Ã£', 'Ã£Â\\x88', 'Ã£Â\\x83Â\\x84', 'Ã£Â\\x83Â\\x83Ã£Â\\x82Â¯', 'Ã£Â\\x83', 'Ã£Â\\x82Â\\x8bÃ£Â\\x86Ã¯Â½Â\\x9eÃ¯Â¼', 'Ã¢Â¿de', 'Ã¢Â½', 'Ã¢Â¬', 'Ã¢Â«kodakÃ¢', 'Ã¢Â¤Ã¢Â¤Ã¢Â¤Ã¢Â¤Ã¢Â¤', 'Ã¢Â£Ã¢Â£Ã¢Â£', 'Ã¢Â£91900', 'Ã¢Â£9', 'Ã¢Â£75', 'Ã¢Â£70', 'Ã¢Â£600', 'Ã¢Â£5374', 'Ã¢Â£50s', 'Ã¢Â£4950', 'Ã¢Â£45', 'Ã¢Â£440', 'Ã¢Â£400', 'Ã¢Â£350', 'Ã¢Â£349', 'Ã¢Â£340', 'Ã¢Â£330', 'Ã¢Â£310', 'Ã¢Â£30', 'Ã¢Â£3', 'Ã¢Â£2entry', 'Ã¢Â£25', 'Ã¢Â£240', 'Ã¢Â£234', 'Ã¢Â£20', 'Ã¢Â£2', 'Ã¢Â£190', 'Ã¢Â£19', 'Ã¢Â£180', 'Ã¢Â£18', 'Ã¢Â£1499', 'Ã¢Â£14', 'Ã¢Â£130', 'Ã¢Â£10', 'Ã¢Â£', 'Ã¢Â¡Ã¢Â\\xad', 'Ã¢Â¡Ã¢Â¡solo', 'Ã¢Â\\x99Â«revolution', 'Ã¢Â\\x99Â¥Ã¢Â\\x99Â«Ã¢Â\\x80Â¢Ã¢Â¨Ã¢Â\\x98Â¼Ã¢Â\\x99Â¥Ã¢Â\\x99Â«Ã¢Â\\x80Â¢Ã¢Â\\x99Â¥', 'Ã¢Â\\x99Â¥Ã¢Â\\x80Â¢Ã¢Â\\x98Â¼Ã¢Â\\x99Â¥Ã¢Â\\x99Â«Ã¢Â\\x80Â¢', 'Ã¢Â\\x99Â¥scooter', 'Ã¢Â\\x99Â¥2', 'Ã¢Â\\x99Â¡n', 'Ã¢Â\\x98Â\\x87', 'Ã¢Â\\x98', 'Ã¢Â\\x96Â²', 'Ã¢Â\\x88Â\\x9e', 'Ã¢Â\\x86Â\\x91', 'Ã¢Â\\x80Â¢Ã¢Â¶Ã¢Â§Ã¢Â\\x88Â\\x9ee', 'Ã¢Â\\x80Â\\x9cwell', 'Ã¢Â\\x80Â\\x9cthen', 'Ã¢Â\\x80Â\\x9clarg', 'Ã¢Â\\x80Â\\x9cfor', 'Ã¢Â\\x80Â\\x9cbraking', 'Ã¢Â\\x80Â\\x99wince', 'Ã¢Â\\x80Â\\x98treehouse', 'Ã¢Â\\x80Â\\x98prettyoddÃ¢Â\\x80Â\\x99', 'Ã¢Â\\x80Â\\x98everydayÃ¢Â\\x80Â\\x99', 'Ã¢Â\\x80Â\\x94Ã¢', 'Ã¡Â»Â\\x9f', 'Ã¡Â»Â\\x9bc', 'Ã¡Â»Â\\x93', 'Ã¡Â»i', 'Ã\\xa0Â¸Â«Ã\\xa0Â¸Â£Ã\\xa0Â¸Â·Ã\\xa0Â¸Â\\xadÃ\\xa0Â¹Â\\x80Ã\\xa0Â¸Â\\x9bÃ\\xa0Â¸Â¥Ã\\xa0Â¹Â\\x88Ã\\xa0Â¸Â²Ã\\xa0Â¸Â\\x84Ã\\xa0Â¸Â£Ã\\xa0Â¸Â±Ã\\xa0Â¸Â\\x9a', 'Ã\\xa0Â¸Â¡Ã\\xa0Â¸Â\\x99', 'Ã\\xa0Â¸Â\\x9eÃ\\xa0Â¸Â´Ã\\xa0Â¸', 'Ã\\xa0Â¸Â\\x99Ã\\xa0Â¸ÂµÃ\\xa0Â¹Â\\x88Ã\\xa0Â¸Â«Ã\\xa0Â¸Â¡Ã\\xa0Â¸Â²Ã\\xa0Â¸Â¢Ã\\xa0Â¸Â\\x96Ã\\xa0Â¸Â¶Ã\\xa0Â¸Â\\x87Ã\\xa0Â¸Â\\x97Ã\\xa0Â¸ÂµÃ\\xa0Â¹Â\\x88', 'Ã\\xa0Â¸Â\\x93Ã\\xa0Â¸Â¸Ã\\xa0Â¹Â\\x82Ã\\xa0Â¸Â¥Ã\\xa0Â¸', 'Ã\\x97Â\\x9eÃ\\x97ÂªÃ\\x97Ã\\x97Â¨Ã\\x97Âª', 'Ã\\x97Â\\x9eÃ\\x97Â¢', 'Ã\\x97Â\\x9eÃ\\x97Â\\x94', 'Ã\\x97Â\\x9bÃ\\x97Â\\x9bÃ\\x97Â\\x94', 'Ã\\x97Â\\x9bÃ\\x97Â\\x99Ã\\x97Â£', 'Ã\\x97Â\\x9bÃ\\x97Â\\x96Ã\\x97Â\\x94', 'Ã\\x97Â\\x9bÃ\\x97', 'Â·', 'Â¬', 'Â¨', 'Â\\x9cÃ¬Â\\x9e', 'Â\\x9cÃ«', 'Â\\x9c', 'Â\\x84Ã¬', '\\x7fthe', 'zÃ£Â¡ruky', 'zÃ£Â¡kladkou', 'zzzzness', 'zuton', 'zunesupport', 'zunehd', 'zuneega', 'zuljin', 'zukie', 'zubr', 'zorcia', 'zoooooo', 'zooo', 'zoolookologie', 'zoobook', 'zongchick', 'zonecont', 'zomppafie', 'zomme', 'zomj', 'zombietub', 'zombiegasm', 'zombieeess', 'zolagood', 'zohemgee', 'zoffitcha', 'zoeeee', 'zoeboe', 'zmoÃ¥Â¾enÃ£', 'zkus', 'zirtec', 'zingerman', 'zimplistic', 'zhakaria', 'zffffft', 'zet13', 'zerooo', 'zendframework', 'zelfdoen', 'zdravei', 'zaÃ¯Â¿Â½nÃ¯Â¿Â½m', 'zavaroni', 'zariya', 'zaret', 'zaineb', 'zackly', 'zachi', 'zachdj', 'zaaaaaaac', 'z953', 'z100', 'z1', 'yyyyyyyyyyy', 'yyyyaaaaaayyy', 'yyiiihhheee', 'yyeppp', 'yyaaayyy', 'yyaaaayyy', 'ywriter', 'ywhy', 'yuvaraj', 'yuuuuuhuuuuuu', 'yuuuussss', 'yuuss', 'yuuppp', 'yuummms', 'yuuhhh', 'yusssssss', 'yusss', 'yuqi', 'yupyy', 'yuppyuup', 'yupppp', 'yuparoonie', 'yumyummm', 'yumsiess', 'yumny', 'yummyyyyy', 'yummyyyy', 'yummyyy', 'yummmyyyyy', 'yummmmmmmmmmmyyyyy', 'yummmmaaayy', 'yumena', 'yukkie', 'yuhouh', 'yuengle', 'yuckkkks', 'yuckkk', 'yuckforensicyuck', 'yteppei', 'ysls', 'yskype', 'yself', 'yrscant', 'yrbook', 'yputube', 'youÃ¢Â¿Ã¢', 'youÃ¢Â\\x80Â\\x99re', 'youyes', 'youxxxxxxxxx', 'youxo', 'youwhat', 'youwell', 'youuxx', 'youuuuuuuuuuuuuuu', 'youuuuuuuuuuuu', 'youuuuuuuuuuu', 'youuuuuuuuuu', 'youuuuuuuu', 'youuuuuuu', 'youuu3', 'youurrr', 'youube', 'youtubeurl', 'youtubescreeningroomcom', 'youtubecom', 'youthey', 'yousendit', 'yoursthe', 'yourssss', 'yoursjust', 'yoursi', 'youremore', 'youppiii', 'youother', 'youngshatner', 'youngq', 'younglive', 'youngerlol', 'young2', 'young1', 'youmwah', 'youmake', 'youit', 'youim', 'youhow', 'youhe', 'yougw', 'youglife', 'youghal', 'yougenious', 'youdata', 'yosemitee', 'yorly', 'yorkshumber', 'yorkbut', 'yoouuuu', 'yooouuuuu', 'yoooooooooo', 'yoono', 'yonggi', 'yongest', 'yongebloor', 'yolinga', 'yohgurt', 'yogurtworld', 'yogurrrt', 'yoggie', 'yogge', 'yodaroubao', 'yocousin', 'yobery', 'yoandy', 'ynever', 'ynare', 'ykyat', 'yippppiiee', 'yippppeeee', 'yippieee', 'yippeeeeeeeeeeeee', 'yipiiiiiiiiiiii', 'yipeeee', 'yikesssss', 'yiippiiiee', 'yiike', 'yihhh', 'yhk', 'yheaai', 'yezzzzz', 'yeyyy', 'yewww', 'yeungling', 'yetÃ¯Â¿Â½', 'yetttt', 'yetserday', 'yetla3', 'yethering', 'yestreday', 'yesthx', 'yesterdayyy', 'yesterdaynot', 'yesterdayit', 'yesterdayhe', 'yesterdar', 'yestdy', 'yessssssssssssssssssssssss', 'yesssssssssssssss', 'yesssssss', 'yessssss', 'yessshh', 'yeseterday', 'yesert', 'yeseniamonika', 'yes2', 'yerushalayim', 'yerrr', 'yergh', 'yerah', 'yeppp', 'yeppiee', 'yeouch', 'yellowspring', 'yeiiiiiiiiiiiiiiiiii', 'yeiiiiiiiiiiiiii', 'yeiiiii', 'yehhhhh', 'yehezkel', 'yeessss']\n"
     ]
    },
    {
     "data": {
      "text/plain": [
       "array([[ 0.        ,  0.        ,  0.        , ...,  0.        ,\n",
       "         0.        ,  0.        ],\n",
       "       [ 0.        ,  0.        ,  0.        , ...,  0.        ,\n",
       "         0.        ,  0.        ],\n",
       "       [ 0.056404  ,  0.49535999,  0.18438999, ...,  0.63598001,\n",
       "        -0.18880001, -0.035558  ],\n",
       "       ...,\n",
       "       [-0.096356  ,  1.2062    ,  0.23548   , ...,  0.94726998,\n",
       "         0.16539   ,  0.028865  ],\n",
       "       [ 0.        ,  0.        ,  0.        , ...,  0.        ,\n",
       "         0.        ,  0.        ],\n",
       "       [ 0.21808   , -0.12392   ,  0.11099   , ...,  0.75081998,\n",
       "        -0.15744001, -0.11758   ]])"
      ]
     },
     "execution_count": 32,
     "metadata": {},
     "output_type": "execute_result"
    }
   ],
   "source": [
    "embedding_dim = 200\n",
    "vocabulary = text_vectorizationB7.get_vocabulary()\n",
    "embedding_matrix = convert_embedding_matrix(vocabulary, embeddings_index, max_tokens, embedding_dim)\n",
    "embedding_matrix"
   ]
  },
  {
   "cell_type": "markdown",
   "id": "9ac92d68-4a4e-4e65-87f9-55a7ba3db0f0",
   "metadata": {},
   "source": [
    "---\n",
    "## 2.1 `Archi-REF` Bi-LSTM 32 + Dropout 0.5 *(l'architecture de référence utilisée dans les autres notebooks)* <a class=\"anchor\" id=\"ARCHI_REF\"></a> [⇪](#menu)"
   ]
  },
  {
   "cell_type": "code",
   "execution_count": 33,
   "id": "2612e7a5-7bea-4d7b-97b0-612228447945",
   "metadata": {
    "tags": []
   },
   "outputs": [],
   "source": [
    "# Embedding avec masque\n",
    "embedding_layer = layers.Embedding(\n",
    "    input_dim=max_tokens,\n",
    "    output_dim=embedding_dim,\n",
    "    embeddings_initializer=keras.initializers.Constant(embedding_matrix),\n",
    "    # input_length=max_length,\n",
    "    mask_zero=True,\n",
    "    trainable=False, # <== default is True\n",
    "    name=\"embedding_GloVe_Twitter_200d\",\n",
    ")"
   ]
  },
  {
   "cell_type": "code",
   "execution_count": 34,
   "id": "ac18560f-b9c1-4e94-bbb4-4d2d02e753c5",
   "metadata": {
    "tags": []
   },
   "outputs": [],
   "source": [
    "model_name = \"ArchiREF\"\n",
    "model, archi_desc = architectureREF(\"adam\", \"binary_crossentropy\", ['accuracy'], embedding_layer)"
   ]
  },
  {
   "cell_type": "code",
   "execution_count": 35,
   "id": "339eea31-e34c-4fa0-87d4-887ec521d007",
   "metadata": {
    "tags": []
   },
   "outputs": [
    {
     "name": "stdout",
     "output_type": "stream",
     "text": [
      "Model: \"model\"\n",
      "_________________________________________________________________\n",
      " Layer (type)                Output Shape              Param #   \n",
      "=================================================================\n",
      " input_1 (InputLayer)        [(None, None)]            0         \n",
      "                                                                 \n",
      " embedding_GloVe_Twitter_200  (None, None, 200)        4000000   \n",
      " d (Embedding)                                                   \n",
      "                                                                 \n",
      " bidirectional (Bidirectiona  (None, 64)               59648     \n",
      " l)                                                              \n",
      "                                                                 \n",
      " dropout (Dropout)           (None, 64)                0         \n",
      "                                                                 \n",
      " predictions (Dense)         (None, 1)                 65        \n",
      "                                                                 \n",
      "=================================================================\n",
      "Total params: 4,059,713\n",
      "Trainable params: 59,713\n",
      "Non-trainable params: 4,000,000\n",
      "_________________________________________________________________\n"
     ]
    }
   ],
   "source": [
    "model.summary()"
   ]
  },
  {
   "cell_type": "markdown",
   "id": "33faf204-03e0-48d8-99b9-9aee3bc00ba3",
   "metadata": {},
   "source": [
    "#### Définissons un logger DagsHub pour enregistrer notre essai"
   ]
  },
  {
   "cell_type": "code",
   "execution_count": 36,
   "id": "8f5c52a9-ab2a-4443-b5e6-ba2675ee413f",
   "metadata": {},
   "outputs": [],
   "source": [
    "dagslogger = DAGsHubLogger()"
   ]
  },
  {
   "cell_type": "code",
   "execution_count": 39,
   "id": "89096d1d-f1da-42a7-9b1f-6322f59228b6",
   "metadata": {},
   "outputs": [],
   "source": [
    "save_hyperparameters_to_dagshub(dagslogger, model_name, archi_desc, get_layers_for_dagshub(model), batch_size, data_work.shape[0])"
   ]
  },
  {
   "cell_type": "markdown",
   "id": "c8f4830a-0a62-4343-96a3-010809bc765c",
   "metadata": {},
   "source": [
    "### Train model"
   ]
  },
  {
   "cell_type": "code",
   "execution_count": 40,
   "id": "8e82124f-5a81-4fe0-aaa6-a57ff2605927",
   "metadata": {
    "tags": []
   },
   "outputs": [
    {
     "name": "stdout",
     "output_type": "stream",
     "text": [
      "Epoch 1/100\n",
      "59/59 [==============================] - ETA: 0s - loss: 0.5874 - accuracy: 0.6843\n",
      "Epoch 1: val_accuracy improved from -inf to 0.74845, saving model to models/ArchiREF.keras\n",
      "59/59 [==============================] - 32s 422ms/step - loss: 0.5874 - accuracy: 0.6843 - val_loss: 0.5154 - val_accuracy: 0.7484\n",
      "Epoch 2/100\n",
      "59/59 [==============================] - ETA: 0s - loss: 0.5019 - accuracy: 0.7561\n",
      "Epoch 2: val_accuracy improved from 0.74845 to 0.76770, saving model to models/ArchiREF.keras\n",
      "59/59 [==============================] - 24s 414ms/step - loss: 0.5019 - accuracy: 0.7561 - val_loss: 0.4834 - val_accuracy: 0.7677\n",
      "Epoch 3/100\n",
      "59/59 [==============================] - ETA: 0s - loss: 0.4801 - accuracy: 0.7696\n",
      "Epoch 3: val_accuracy improved from 0.76770 to 0.77605, saving model to models/ArchiREF.keras\n",
      "59/59 [==============================] - 24s 415ms/step - loss: 0.4801 - accuracy: 0.7696 - val_loss: 0.4690 - val_accuracy: 0.7760\n",
      "Epoch 4/100\n",
      "59/59 [==============================] - ETA: 0s - loss: 0.4671 - accuracy: 0.7760\n",
      "Epoch 4: val_accuracy improved from 0.77605 to 0.77890, saving model to models/ArchiREF.keras\n",
      "59/59 [==============================] - 26s 447ms/step - loss: 0.4671 - accuracy: 0.7760 - val_loss: 0.4613 - val_accuracy: 0.7789\n",
      "Epoch 5/100\n",
      "59/59 [==============================] - ETA: 0s - loss: 0.4589 - accuracy: 0.7825\n",
      "Epoch 5: val_accuracy improved from 0.77890 to 0.78255, saving model to models/ArchiREF.keras\n",
      "59/59 [==============================] - 27s 466ms/step - loss: 0.4589 - accuracy: 0.7825 - val_loss: 0.4557 - val_accuracy: 0.7825\n",
      "Epoch 6/100\n",
      "59/59 [==============================] - ETA: 0s - loss: 0.4501 - accuracy: 0.7879\n",
      "Epoch 6: val_accuracy did not improve from 0.78255\n",
      "59/59 [==============================] - 24s 406ms/step - loss: 0.4501 - accuracy: 0.7879 - val_loss: 0.4653 - val_accuracy: 0.7771\n",
      "Epoch 7/100\n",
      "59/59 [==============================] - ETA: 0s - loss: 0.4447 - accuracy: 0.7909\n",
      "Epoch 7: val_accuracy improved from 0.78255 to 0.78965, saving model to models/ArchiREF.keras\n",
      "59/59 [==============================] - 28s 482ms/step - loss: 0.4447 - accuracy: 0.7909 - val_loss: 0.4473 - val_accuracy: 0.7897\n",
      "Epoch 8/100\n",
      "59/59 [==============================] - ETA: 0s - loss: 0.4374 - accuracy: 0.7949\n",
      "Epoch 8: val_accuracy improved from 0.78965 to 0.78980, saving model to models/ArchiREF.keras\n",
      "59/59 [==============================] - 27s 452ms/step - loss: 0.4374 - accuracy: 0.7949 - val_loss: 0.4446 - val_accuracy: 0.7898\n",
      "Epoch 9/100\n",
      "59/59 [==============================] - ETA: 0s - loss: 0.4296 - accuracy: 0.8007\n",
      "Epoch 9: val_accuracy improved from 0.78980 to 0.79265, saving model to models/ArchiREF.keras\n",
      "59/59 [==============================] - 27s 451ms/step - loss: 0.4296 - accuracy: 0.8007 - val_loss: 0.4441 - val_accuracy: 0.7926\n",
      "Epoch 10/100\n",
      "59/59 [==============================] - ETA: 0s - loss: 0.4244 - accuracy: 0.8023\n",
      "Epoch 10: val_accuracy improved from 0.79265 to 0.79495, saving model to models/ArchiREF.keras\n",
      "59/59 [==============================] - 26s 448ms/step - loss: 0.4244 - accuracy: 0.8023 - val_loss: 0.4408 - val_accuracy: 0.7950\n",
      "Epoch 11/100\n",
      "59/59 [==============================] - ETA: 0s - loss: 0.4195 - accuracy: 0.8070\n",
      "Epoch 11: val_accuracy improved from 0.79495 to 0.79560, saving model to models/ArchiREF.keras\n",
      "59/59 [==============================] - 26s 441ms/step - loss: 0.4195 - accuracy: 0.8070 - val_loss: 0.4410 - val_accuracy: 0.7956\n",
      "Epoch 12/100\n",
      "59/59 [==============================] - ETA: 0s - loss: 0.4132 - accuracy: 0.8101\n",
      "Epoch 12: val_accuracy did not improve from 0.79560\n",
      "59/59 [==============================] - 23s 397ms/step - loss: 0.4132 - accuracy: 0.8101 - val_loss: 0.4447 - val_accuracy: 0.7947\n",
      "Epoch 13/100\n",
      "59/59 [==============================] - ETA: 0s - loss: 0.4073 - accuracy: 0.8125\n",
      "Epoch 13: val_accuracy did not improve from 0.79560\n",
      "Restoring model weights from the end of the best epoch: 8.\n",
      "59/59 [==============================] - 25s 426ms/step - loss: 0.4073 - accuracy: 0.8125 - val_loss: 0.4406 - val_accuracy: 0.7936\n",
      "Epoch 13: early stopping\n"
     ]
    }
   ],
   "source": [
    "t0 = time.perf_counter()\n",
    "history = model.fit(\n",
    "        x=X_train_ready, y=y_train, \n",
    "        validation_data=(X_test_ready, y_test), \n",
    "        epochs=100, \n",
    "        batch_size=batch_size, \n",
    "        callbacks=init_callbacks(f\"{model_name}\"),\n",
    "        verbose=1,\n",
    ")\n",
    "train_time = time.perf_counter() - t0"
   ]
  },
  {
   "cell_type": "code",
   "execution_count": 41,
   "id": "ca864a1e-f7c8-433f-807a-7f881c6ebfce",
   "metadata": {},
   "outputs": [
    {
     "data": {
      "image/png": "[encoded data removed]",
      "text/plain": [
       "<Figure size 576x576 with 2 Axes>"
      ]
     },
     "metadata": {
      "needs_background": "light"
     },
     "output_type": "display_data"
    }
   ],
   "source": [
    "summarize_diagnostics(history)"
   ]
  },
  {
   "cell_type": "markdown",
   "id": "f19558ac-e43c-406f-8703-2614fe1c2b60",
   "metadata": {},
   "source": [
    "### Evaluate"
   ]
  },
  {
   "cell_type": "code",
   "execution_count": 42,
   "id": "290204f5-7dde-4d31-a14f-d63330e72c42",
   "metadata": {
    "tags": []
   },
   "outputs": [],
   "source": [
    "model = keras.models.load_model(f\"models/{model_name}.keras\")"
   ]
  },
  {
   "cell_type": "code",
   "execution_count": 43,
   "id": "c6324b45-8d1c-4ad5-94a0-887f17fa68b3",
   "metadata": {
    "tags": []
   },
   "outputs": [
    {
     "name": "stdout",
     "output_type": "stream",
     "text": [
      "625/625 [==============================] - 10s 13ms/step - loss: 0.4410 - accuracy: 0.7956\n"
     ]
    },
    {
     "data": {
      "text/plain": [
       "[0.4410381317138672, 0.7955999970436096]"
      ]
     },
     "execution_count": 43,
     "metadata": {},
     "output_type": "execute_result"
    }
   ],
   "source": [
    "model.evaluate(X_test_ready, y_test)"
   ]
  },
  {
   "cell_type": "code",
   "execution_count": 44,
   "id": "d9f72260-378a-4ce2-ad74-69e678e93e51",
   "metadata": {
    "tags": []
   },
   "outputs": [
    {
     "name": "stdout",
     "output_type": "stream",
     "text": [
      "1/1 [==============================] - 3s 3s/step\n"
     ]
    },
    {
     "data": {
      "text/plain": [
       "array([[0.06537156],\n",
       "       [0.955713  ]], dtype=float32)"
      ]
     },
     "execution_count": 44,
     "metadata": {},
     "output_type": "execute_result"
    }
   ],
   "source": [
    "raw_txt = tf.convert_to_tensor([\"I hate it\", \"I love it\"])\n",
    "raw_txt = text_vectorizationB7(raw_txt)\n",
    "model.predict(raw_txt)"
   ]
  },
  {
   "cell_type": "code",
   "execution_count": 45,
   "id": "f0ef149b-7235-48aa-9d76-837b177df139",
   "metadata": {
    "colab": {
     "base_uri": "https://localhost:8080/",
     "height": 1000
    },
    "executionInfo": {
     "elapsed": 746,
     "status": "ok",
     "timestamp": 1653231856185,
     "user": {
      "displayName": "Valkea",
      "userId": "01476199649418572392"
     },
     "user_tz": -120
    },
    "id": "81aba764-7f22-4ad1-b0ed-bc5b13f0b75e",
    "outputId": "e3c4ed78-a90b-46e0-baa0-c28f701f4414",
    "tags": []
   },
   "outputs": [
    {
     "name": "stdout",
     "output_type": "stream",
     "text": [
      "625/625 [==============================] - 9s 15ms/step\n",
      "----------------------------------------------------------------------------------------------------\n",
      "          These information are based on the best estimator of the above cross-validation           \n",
      "----------------------------------------------------------------------------------------------------\n",
      "\n",
      "--- ArchiREF ---------------------------------------------------------------------------------------\n",
      "\n",
      "             ROC_AUC : 0.8765\n",
      "                  F1 : 0.7908\n",
      "            ACCURACY : 0.7956\n",
      "           PRECISION : 0.8099\n",
      "              RECALL : 0.7726\n",
      "   AVERAGE_PRECISION : 0.8795\n",
      "\n",
      "       TRAINING-TIME : 339.8483\n",
      "      INFERENCE-TIME : 9.5038\n",
      "\n",
      "--- Classification Report -------------------------------------------------------------------------- \n",
      "\n",
      "                 precision    recall  f1-score   support\n",
      "\n",
      "Prediction = 0       0.78      0.82      0.80     10000\n",
      "Prediction = 1       0.81      0.77      0.79     10000\n",
      "\n",
      "      accuracy                           0.80     20000\n",
      "     macro avg       0.80      0.80      0.80     20000\n",
      "  weighted avg       0.80      0.80      0.80     20000\n",
      "\n",
      "--- Confusion Matrix ------------------------------------------------------------------------------- \n",
      "\n"
     ]
    },
    {
     "data": {
      "image/png": "[encoded data removed]",
      "text/plain": [
       "<Figure size 432x432 with 2 Axes>"
      ]
     },
     "metadata": {
      "needs_background": "light"
     },
     "output_type": "display_data"
    },
    {
     "name": "stdout",
     "output_type": "stream",
     "text": [
      "--- ROC AUC ---------------------------------------------------------------------------------------- \n",
      "\n"
     ]
    },
    {
     "data": {
      "image/png": "[encoded data removed]",
      "text/plain": [
       "<Figure size 360x360 with 1 Axes>"
      ]
     },
     "metadata": {
      "needs_background": "light"
     },
     "output_type": "display_data"
    },
    {
     "name": "stdout",
     "output_type": "stream",
     "text": [
      "--- PRECISION RECALL AUC --------------------------------------------------------------------------- \n",
      "\n"
     ]
    },
    {
     "data": {
      "image/png": "[encoded data removed]",
      "text/plain": [
       "<Figure size 360x360 with 1 Axes>"
      ]
     },
     "metadata": {
      "needs_background": "light"
     },
     "output_type": "display_data"
    }
   ],
   "source": [
    "_ = get_scores(\n",
    "    model_name,\n",
    "    model=model,\n",
    "    X_ref=X_test_ready,\n",
    "    y_ref=y_test, \n",
    "    threshold=0.5,\n",
    "    # y_pred=y_preds, \n",
    "    # y_pred_proba=y_preds_proba, \n",
    "    training_time=train_time, \n",
    "    # inference_time=inf_time, \n",
    "    dagslogger=dagslogger,\n",
    "    register=True,\n",
    ")"
   ]
  },
  {
   "cell_type": "markdown",
   "id": "bd1628eb-a79f-4169-b5a6-57414a15a90b",
   "metadata": {},
   "source": [
    "#### Trouvons le meilleur seuil de séparation pour les prédiction (sur la base du F1 score)"
   ]
  },
  {
   "cell_type": "code",
   "execution_count": 46,
   "id": "458613a9-fba7-4573-9490-bdaac30ec7f0",
   "metadata": {},
   "outputs": [
    {
     "name": "stdout",
     "output_type": "stream",
     "text": [
      "625/625 [==============================] - 8s 13ms/step\n",
      "The best Accuracy score (0.7973) for this model is reached with a threshold of 0.468\n"
     ]
    }
   ],
   "source": [
    "acc_value, best_threshold = find_best_threshold(model, X_valid_ready, y_valid, accuracy_score)\n",
    "print(f\"The best Accuracy score ({acc_value}) for this model is reached with a threshold of {best_threshold}\")"
   ]
  },
  {
   "cell_type": "code",
   "execution_count": 47,
   "id": "2949bb94-234a-46ea-9094-a66dc5600610",
   "metadata": {
    "colab": {
     "base_uri": "https://localhost:8080/",
     "height": 1000
    },
    "executionInfo": {
     "elapsed": 746,
     "status": "ok",
     "timestamp": 1653231856185,
     "user": {
      "displayName": "Valkea",
      "userId": "01476199649418572392"
     },
     "user_tz": -120
    },
    "id": "81aba764-7f22-4ad1-b0ed-bc5b13f0b75e",
    "outputId": "e3c4ed78-a90b-46e0-baa0-c28f701f4414",
    "tags": []
   },
   "outputs": [
    {
     "name": "stdout",
     "output_type": "stream",
     "text": [
      "625/625 [==============================] - 8s 12ms/step\n",
      "----------------------------------------------------------------------------------------------------\n",
      "          These information are based on the best estimator of the above cross-validation           \n",
      "----------------------------------------------------------------------------------------------------\n",
      "\n",
      "--- ArchiREF [w. threshold] ------------------------------------------------------------------------\n",
      "\n",
      "             ROC_AUC : 0.8765\n",
      "                  F1 : 0.7953\n",
      "            ACCURACY : 0.7956\n",
      "           PRECISION : 0.7968\n",
      "              RECALL : 0.7937\n",
      "   AVERAGE_PRECISION : 0.8795\n",
      "\n",
      "       TRAINING-TIME : 339.8483\n",
      "      INFERENCE-TIME : 8.0228\n",
      "\n",
      "--- Classification Report -------------------------------------------------------------------------- \n",
      "\n",
      "                 precision    recall  f1-score   support\n",
      "\n",
      "Prediction = 0       0.79      0.80      0.80     10000\n",
      "Prediction = 1       0.80      0.79      0.80     10000\n",
      "\n",
      "      accuracy                           0.80     20000\n",
      "     macro avg       0.80      0.80      0.80     20000\n",
      "  weighted avg       0.80      0.80      0.80     20000\n",
      "\n",
      "--- Confusion Matrix ------------------------------------------------------------------------------- \n",
      "\n"
     ]
    },
    {
     "data": {
      "image/png": "[encoded data removed]",
      "text/plain": [
       "<Figure size 432x432 with 2 Axes>"
      ]
     },
     "metadata": {
      "needs_background": "light"
     },
     "output_type": "display_data"
    }
   ],
   "source": [
    "scores = get_scores(\n",
    "    f\"{model_name} [w. threshold]\",\n",
    "    model=model,\n",
    "    X_ref=X_test_ready,\n",
    "    y_ref=y_test, \n",
    "    threshold=best_threshold,\n",
    "    # y_pred=y_preds, \n",
    "    # y_pred_proba=y_preds_proba, \n",
    "    training_time=train_time, \n",
    "    # inference_time=inf_time, \n",
    "    dagslogger=dagslogger,\n",
    "    register=True,\n",
    "    show_roccurves=False,\n",
    ")"
   ]
  },
  {
   "cell_type": "markdown",
   "id": "a7fef833-f925-4682-8c58-431ee2deb96e",
   "metadata": {},
   "source": [
    "#### Enregistrons les scores pour DagsHub"
   ]
  },
  {
   "cell_type": "code",
   "execution_count": 48,
   "id": "83cf1c0c-1e0b-4aaa-ad7c-3312d024858d",
   "metadata": {},
   "outputs": [],
   "source": [
    "save_metrics_to_dagshub(dagslogger, scores, best_threshold, history)\n",
    "dagslogger.save() \n",
    "dagslogger.close()"
   ]
  },
  {
   "cell_type": "markdown",
   "id": "0ba72436-a169-479d-a0f9-c0a74648c815",
   "metadata": {},
   "source": [
    "### Compare"
   ]
  },
  {
   "cell_type": "code",
   "execution_count": 49,
   "id": "b3f95b3c-a183-4cbc-a26a-3dfbd14c1f95",
   "metadata": {
    "tags": []
   },
   "outputs": [
    {
     "data": {
      "text/html": [
       "<div>\n",
       "<style scoped>\n",
       "    .dataframe tbody tr th:only-of-type {\n",
       "        vertical-align: middle;\n",
       "    }\n",
       "\n",
       "    .dataframe tbody tr th {\n",
       "        vertical-align: top;\n",
       "    }\n",
       "\n",
       "    .dataframe thead th {\n",
       "        text-align: right;\n",
       "    }\n",
       "</style>\n",
       "<table border=\"1\" class=\"dataframe\">\n",
       "  <thead>\n",
       "    <tr style=\"text-align: right;\">\n",
       "      <th></th>\n",
       "      <th>Method</th>\n",
       "      <th>threshold</th>\n",
       "      <th>params</th>\n",
       "      <th>ROC AUC</th>\n",
       "      <th>PR AUC</th>\n",
       "      <th>F1 score</th>\n",
       "      <th>Accuracy</th>\n",
       "      <th>Precision</th>\n",
       "      <th>Recall</th>\n",
       "      <th>TP</th>\n",
       "      <th>TN</th>\n",
       "      <th>FP</th>\n",
       "      <th>FN</th>\n",
       "      <th>Training time</th>\n",
       "      <th>Inference time</th>\n",
       "    </tr>\n",
       "  </thead>\n",
       "  <tbody>\n",
       "    <tr>\n",
       "      <th>0</th>\n",
       "      <td>ArchiREF</td>\n",
       "      <td>0.500</td>\n",
       "      <td>None</td>\n",
       "      <td>0.876522</td>\n",
       "      <td>0.879489</td>\n",
       "      <td>0.790788</td>\n",
       "      <td>0.79560</td>\n",
       "      <td>0.809853</td>\n",
       "      <td>0.7726</td>\n",
       "      <td>7726</td>\n",
       "      <td>8186</td>\n",
       "      <td>1814</td>\n",
       "      <td>2274</td>\n",
       "      <td>339.848347</td>\n",
       "      <td>9.503837</td>\n",
       "    </tr>\n",
       "    <tr>\n",
       "      <th>1</th>\n",
       "      <td>ArchiREF [w. threshold]</td>\n",
       "      <td>0.468</td>\n",
       "      <td>None</td>\n",
       "      <td>0.876522</td>\n",
       "      <td>0.879489</td>\n",
       "      <td>0.795251</td>\n",
       "      <td>0.79565</td>\n",
       "      <td>0.796808</td>\n",
       "      <td>0.7937</td>\n",
       "      <td>7937</td>\n",
       "      <td>7976</td>\n",
       "      <td>2024</td>\n",
       "      <td>2063</td>\n",
       "      <td>339.848347</td>\n",
       "      <td>8.022760</td>\n",
       "    </tr>\n",
       "  </tbody>\n",
       "</table>\n",
       "</div>"
      ],
      "text/plain": [
       "                    Method  threshold params   ROC AUC    PR AUC  F1 score  \\\n",
       "0                 ArchiREF      0.500   None  0.876522  0.879489  0.790788   \n",
       "1  ArchiREF [w. threshold]      0.468   None  0.876522  0.879489  0.795251   \n",
       "\n",
       "   Accuracy  Precision  Recall    TP    TN    FP    FN  Training time  \\\n",
       "0   0.79560   0.809853  0.7726  7726  8186  1814  2274     339.848347   \n",
       "1   0.79565   0.796808  0.7937  7937  7976  2024  2063     339.848347   \n",
       "\n",
       "   Inference time  \n",
       "0        9.503837  \n",
       "1        8.022760  "
      ]
     },
     "execution_count": 49,
     "metadata": {},
     "output_type": "execute_result"
    }
   ],
   "source": [
    "from classification_utils import scores_df\n",
    "scores_df"
   ]
  },
  {
   "cell_type": "markdown",
   "id": "2f08fce3-1097-417a-af29-e60d3aa03ff0",
   "metadata": {},
   "source": [
    "---\n",
    "## 2.2 `Archi-000` Dense 32 + Dropout 0.5 <a class=\"anchor\" id=\"ARCHI_000\"></a> [⇪](#menu)"
   ]
  },
  {
   "cell_type": "code",
   "execution_count": null,
   "id": "174d7829-428e-4e28-beaf-43221e7408fa",
   "metadata": {
    "tags": []
   },
   "outputs": [],
   "source": [
    "# Embedding avec masque\n",
    "embedding_layer = layers.Embedding(\n",
    "    input_dim=max_tokens,\n",
    "    output_dim=embedding_dim,\n",
    "    embeddings_initializer=keras.initializers.Constant(embedding_matrix),\n",
    "    # input_length=max_length,\n",
    "    mask_zero=True,\n",
    "    trainable=False, # <== default is True\n",
    "    name=\"embedding_GloVe_Twitter_200d\",\n",
    ")"
   ]
  },
  {
   "cell_type": "code",
   "execution_count": null,
   "id": "3a0d9e42-22b5-4f11-bda7-6e905bf51909",
   "metadata": {
    "tags": []
   },
   "outputs": [],
   "source": [
    "model_name = \"Archi000\"\n",
    "model, archi_desc = architecture000(\"adam\", \"binary_crossentropy\", ['accuracy'], embedding_layer)"
   ]
  },
  {
   "cell_type": "code",
   "execution_count": null,
   "id": "eff91ba3-5a04-406c-900d-7b6b49181b19",
   "metadata": {
    "tags": []
   },
   "outputs": [],
   "source": [
    "model.summary()"
   ]
  },
  {
   "cell_type": "markdown",
   "id": "2ad1d45c-9d68-4418-adf9-a5e4cd528db9",
   "metadata": {},
   "source": [
    "#### Définissons un logger DagsHub pour enregistrer notre essai"
   ]
  },
  {
   "cell_type": "code",
   "execution_count": null,
   "id": "b603cdbc-6b45-4b25-89b2-4f1737f307af",
   "metadata": {},
   "outputs": [],
   "source": [
    "dagslogger = DAGsHubLogger()"
   ]
  },
  {
   "cell_type": "code",
   "execution_count": null,
   "id": "0a9691c1-dcb0-4116-bfc6-eca33a541182",
   "metadata": {},
   "outputs": [],
   "source": [
    "save_hyperparameters_to_dagshub(dagslogger, model_name, archi_desc, get_layers_for_dagshub(model), batch_size, data_work.shape[0])"
   ]
  },
  {
   "cell_type": "markdown",
   "id": "fd54030b-63e3-4224-9d8b-8e1b020517b7",
   "metadata": {},
   "source": [
    "### Train model"
   ]
  },
  {
   "cell_type": "code",
   "execution_count": null,
   "id": "e2a26fa2-dac5-4b07-bb8b-cdaedb6db4ae",
   "metadata": {
    "tags": []
   },
   "outputs": [],
   "source": [
    "t0 = time.perf_counter()\n",
    "history = model.fit(\n",
    "        x=X_train_ready, y=y_train, \n",
    "        validation_data=(X_test_ready, y_test), \n",
    "        epochs=100, \n",
    "        batch_size=batch_size, \n",
    "        callbacks=init_callbacks(f\"{model_name}\"),\n",
    "        verbose=1,\n",
    ")\n",
    "train_time = time.perf_counter() - t0"
   ]
  },
  {
   "cell_type": "code",
   "execution_count": null,
   "id": "4856ff99-4ea8-4e2e-8d29-3362e62cda2a",
   "metadata": {},
   "outputs": [],
   "source": [
    "summarize_diagnostics(history)"
   ]
  },
  {
   "cell_type": "markdown",
   "id": "824a58f5-a128-4b9b-a2f0-3eed570ec583",
   "metadata": {},
   "source": [
    "### Evaluate"
   ]
  },
  {
   "cell_type": "code",
   "execution_count": null,
   "id": "f2bc1d8a-bc38-4f2c-a0c8-cd4fbb84b642",
   "metadata": {
    "tags": []
   },
   "outputs": [],
   "source": [
    "model = keras.models.load_model(f\"models/{model_name}.keras\")"
   ]
  },
  {
   "cell_type": "code",
   "execution_count": null,
   "id": "abe4f7c9-88f3-40da-a13c-16eb6e08c35a",
   "metadata": {
    "tags": []
   },
   "outputs": [],
   "source": [
    "model.evaluate(X_test_ready, y_test)"
   ]
  },
  {
   "cell_type": "code",
   "execution_count": null,
   "id": "18a1e080-1608-4be9-aeb4-96c37ab71398",
   "metadata": {
    "tags": []
   },
   "outputs": [],
   "source": [
    "raw_txt = tf.convert_to_tensor([\"I hate it\", \"I love it\"])\n",
    "raw_txt = text_vectorizationB7(raw_txt)\n",
    "model.predict(raw_txt)"
   ]
  },
  {
   "cell_type": "code",
   "execution_count": null,
   "id": "f99ebf7f-eb0a-43b4-a493-f4d4926c0293",
   "metadata": {
    "colab": {
     "base_uri": "https://localhost:8080/",
     "height": 1000
    },
    "executionInfo": {
     "elapsed": 746,
     "status": "ok",
     "timestamp": 1653231856185,
     "user": {
      "displayName": "Valkea",
      "userId": "01476199649418572392"
     },
     "user_tz": -120
    },
    "id": "81aba764-7f22-4ad1-b0ed-bc5b13f0b75e",
    "outputId": "e3c4ed78-a90b-46e0-baa0-c28f701f4414",
    "tags": []
   },
   "outputs": [],
   "source": [
    "_ = get_scores(\n",
    "    model_name,\n",
    "    model=model,\n",
    "    X_ref=X_test_ready,\n",
    "    y_ref=y_test, \n",
    "    threshold=0.5,\n",
    "    # y_pred=y_preds, \n",
    "    # y_pred_proba=y_preds_proba, \n",
    "    training_time=train_time, \n",
    "    # inference_time=inf_time, \n",
    "    dagslogger=dagslogger,\n",
    "    register=True,\n",
    ")"
   ]
  },
  {
   "cell_type": "markdown",
   "id": "706e6b78-5fc7-4792-b9a9-dd7919b08980",
   "metadata": {},
   "source": [
    "#### Trouvons le meilleur seuil de séparation pour les prédiction (sur la base du F1 score)"
   ]
  },
  {
   "cell_type": "code",
   "execution_count": null,
   "id": "7b833f23-76a1-41ad-a233-de682d148a6c",
   "metadata": {},
   "outputs": [],
   "source": [
    "acc_value, best_threshold = find_best_threshold(model, X_valid_ready, y_valid, accuracy_score)\n",
    "print(f\"The best Accuracy score ({acc_value}) for this model is reached with a threshold of {best_threshold}\")"
   ]
  },
  {
   "cell_type": "code",
   "execution_count": null,
   "id": "ca196349-d6c7-4652-b642-e1d3f286b83c",
   "metadata": {
    "colab": {
     "base_uri": "https://localhost:8080/",
     "height": 1000
    },
    "executionInfo": {
     "elapsed": 746,
     "status": "ok",
     "timestamp": 1653231856185,
     "user": {
      "displayName": "Valkea",
      "userId": "01476199649418572392"
     },
     "user_tz": -120
    },
    "id": "81aba764-7f22-4ad1-b0ed-bc5b13f0b75e",
    "outputId": "e3c4ed78-a90b-46e0-baa0-c28f701f4414",
    "tags": []
   },
   "outputs": [],
   "source": [
    "scores = get_scores(\n",
    "    f\"{model_name} [w. threshold]\",\n",
    "    model=model,\n",
    "    X_ref=X_test_ready,\n",
    "    y_ref=y_test, \n",
    "    threshold=best_threshold,\n",
    "    # y_pred=y_preds, \n",
    "    # y_pred_proba=y_preds_proba, \n",
    "    training_time=train_time, \n",
    "    # inference_time=inf_time, \n",
    "    dagslogger=dagslogger,\n",
    "    register=True,\n",
    "    show_roccurves=False,\n",
    ")"
   ]
  },
  {
   "cell_type": "markdown",
   "id": "a6d240ec-8235-4513-92f0-4bf52c7b972b",
   "metadata": {},
   "source": [
    "#### Enregistrons les scores pour DagsHub"
   ]
  },
  {
   "cell_type": "code",
   "execution_count": null,
   "id": "25794dce-8e6b-4a91-89bc-eaa4ea9f8b52",
   "metadata": {},
   "outputs": [],
   "source": [
    "save_metrics_to_dagshub(dagslogger, scores, best_threshold, history)\n",
    "dagslogger.save() \n",
    "dagslogger.close()"
   ]
  },
  {
   "cell_type": "markdown",
   "id": "4966e18e-4b59-42af-ae53-3ba5b28dea58",
   "metadata": {},
   "source": [
    "### Compare"
   ]
  },
  {
   "cell_type": "code",
   "execution_count": null,
   "id": "075fd3d4-64aa-4c45-8083-135d78784856",
   "metadata": {
    "tags": []
   },
   "outputs": [],
   "source": [
    "from classification_utils import scores_df\n",
    "scores_df"
   ]
  },
  {
   "cell_type": "markdown",
   "id": "e63c3415-6c5a-474d-a8f1-65ab33a9c510",
   "metadata": {},
   "source": [
    "---\n",
    "## 2.3 `Archi-100` Simple RNN 32 + Dropout 0.5 <a class=\"anchor\" id=\"ARCHI_100\"></a> [⇪](#menu)"
   ]
  },
  {
   "cell_type": "code",
   "execution_count": null,
   "id": "b1234352-1486-4ce9-97e9-aa3a0df1c4ee",
   "metadata": {
    "tags": []
   },
   "outputs": [],
   "source": [
    "# Embedding avec masque\n",
    "embedding_layer = layers.Embedding(\n",
    "    input_dim=max_tokens,\n",
    "    output_dim=embedding_dim,\n",
    "    embeddings_initializer=keras.initializers.Constant(embedding_matrix),\n",
    "    # input_length=max_length,\n",
    "    mask_zero=True,\n",
    "    trainable=False, # <== default is True\n",
    "    name=\"embedding_GloVe_Twitter_200d\",\n",
    ")"
   ]
  },
  {
   "cell_type": "code",
   "execution_count": null,
   "id": "6e5e153a-ef5e-4564-bd5c-1070adcff75e",
   "metadata": {
    "tags": []
   },
   "outputs": [],
   "source": [
    "model_name = \"Archi100\"\n",
    "model, archi_desc = architecture100(\"adam\", \"binary_crossentropy\", ['accuracy'], embedding_layer)"
   ]
  },
  {
   "cell_type": "code",
   "execution_count": null,
   "id": "ab32e238-3a5a-48ab-b996-1772af379a04",
   "metadata": {
    "tags": []
   },
   "outputs": [],
   "source": [
    "model.summary()"
   ]
  },
  {
   "cell_type": "markdown",
   "id": "92f81451-7180-4262-918e-cde9f1dcd93b",
   "metadata": {},
   "source": [
    "#### Définissons un logger DagsHub pour enregistrer notre essai"
   ]
  },
  {
   "cell_type": "code",
   "execution_count": null,
   "id": "5ae1034e-8be8-4daf-92e3-572350ff5b4c",
   "metadata": {},
   "outputs": [],
   "source": [
    "dagslogger = DAGsHubLogger()"
   ]
  },
  {
   "cell_type": "code",
   "execution_count": null,
   "id": "f03bdf1b-b680-416c-ba66-691440e4bd60",
   "metadata": {},
   "outputs": [],
   "source": [
    "save_hyperparameters_to_dagshub(dagslogger, model_name, archi_desc, get_layers_for_dagshub(model), batch_size, data_work.shape[0])"
   ]
  },
  {
   "cell_type": "markdown",
   "id": "b5a97a75-9dd9-4984-b53a-acace2a0130b",
   "metadata": {},
   "source": [
    "### Train model"
   ]
  },
  {
   "cell_type": "code",
   "execution_count": null,
   "id": "1e733906-a552-46af-a23f-398ee9de88ff",
   "metadata": {
    "tags": []
   },
   "outputs": [],
   "source": [
    "t0 = time.perf_counter()\n",
    "history = model.fit(\n",
    "        x=X_train_ready, y=y_train, \n",
    "        validation_data=(X_test_ready, y_test), \n",
    "        epochs=100, \n",
    "        batch_size=batch_size, \n",
    "        callbacks=init_callbacks(f\"{model_name}\"),\n",
    "        verbose=1,\n",
    ")\n",
    "train_time = time.perf_counter() - t0"
   ]
  },
  {
   "cell_type": "code",
   "execution_count": null,
   "id": "227b24f4-f416-4335-9f19-32189a36b26e",
   "metadata": {},
   "outputs": [],
   "source": [
    "summarize_diagnostics(history)"
   ]
  },
  {
   "cell_type": "markdown",
   "id": "27daf320-01a9-4437-b80c-3e7ed098b20d",
   "metadata": {},
   "source": [
    "### Evaluate"
   ]
  },
  {
   "cell_type": "code",
   "execution_count": null,
   "id": "e339ab21-8892-44c7-9de3-901d88044a30",
   "metadata": {
    "tags": []
   },
   "outputs": [],
   "source": [
    "model = keras.models.load_model(f\"models/{model_name}.keras\")"
   ]
  },
  {
   "cell_type": "code",
   "execution_count": null,
   "id": "c8e4d5e5-d13b-4d3d-b503-56d8c89aabac",
   "metadata": {
    "tags": []
   },
   "outputs": [],
   "source": [
    "model.evaluate(X_test_ready, y_test)"
   ]
  },
  {
   "cell_type": "code",
   "execution_count": null,
   "id": "c2f04e48-3caa-4b0f-ae38-a61aa7b3d4ce",
   "metadata": {
    "tags": []
   },
   "outputs": [],
   "source": [
    "raw_txt = tf.convert_to_tensor([\"I hate it\", \"I love it\"])\n",
    "raw_txt = text_vectorizationB7(raw_txt)\n",
    "model.predict(raw_txt)"
   ]
  },
  {
   "cell_type": "code",
   "execution_count": null,
   "id": "17bf9aac-32d7-490c-a464-9331ee4bfb5b",
   "metadata": {
    "colab": {
     "base_uri": "https://localhost:8080/",
     "height": 1000
    },
    "executionInfo": {
     "elapsed": 746,
     "status": "ok",
     "timestamp": 1653231856185,
     "user": {
      "displayName": "Valkea",
      "userId": "01476199649418572392"
     },
     "user_tz": -120
    },
    "id": "81aba764-7f22-4ad1-b0ed-bc5b13f0b75e",
    "outputId": "e3c4ed78-a90b-46e0-baa0-c28f701f4414",
    "tags": []
   },
   "outputs": [],
   "source": [
    "_ = get_scores(\n",
    "    model_name,\n",
    "    model=model,\n",
    "    X_ref=X_test_ready,\n",
    "    y_ref=y_test, \n",
    "    threshold=0.5,\n",
    "    # y_pred=y_preds, \n",
    "    # y_pred_proba=y_preds_proba, \n",
    "    training_time=train_time, \n",
    "    # inference_time=inf_time, \n",
    "    dagslogger=dagslogger,\n",
    "    register=True,\n",
    ")"
   ]
  },
  {
   "cell_type": "markdown",
   "id": "1ab60c69-17f5-4120-b4f5-1d2b323f0b7b",
   "metadata": {},
   "source": [
    "#### Trouvons le meilleur seuil de séparation pour les prédiction (sur la base du F1 score)"
   ]
  },
  {
   "cell_type": "code",
   "execution_count": null,
   "id": "5c856ae8-3b89-4a7c-b132-f0f91cf84d6e",
   "metadata": {},
   "outputs": [],
   "source": [
    "acc_value, best_threshold = find_best_threshold(model, X_valid_ready, y_valid, accuracy_score)\n",
    "print(f\"The best Accuracy score ({acc_value}) for this model is reached with a threshold of {best_threshold}\")"
   ]
  },
  {
   "cell_type": "code",
   "execution_count": null,
   "id": "58d817c7-918d-4c57-a252-741c595b4db8",
   "metadata": {
    "colab": {
     "base_uri": "https://localhost:8080/",
     "height": 1000
    },
    "executionInfo": {
     "elapsed": 746,
     "status": "ok",
     "timestamp": 1653231856185,
     "user": {
      "displayName": "Valkea",
      "userId": "01476199649418572392"
     },
     "user_tz": -120
    },
    "id": "81aba764-7f22-4ad1-b0ed-bc5b13f0b75e",
    "outputId": "e3c4ed78-a90b-46e0-baa0-c28f701f4414",
    "tags": []
   },
   "outputs": [],
   "source": [
    "scores = get_scores(\n",
    "    f\"{model_name} [w. threshold]\",\n",
    "    model=model,\n",
    "    X_ref=X_test_ready,\n",
    "    y_ref=y_test, \n",
    "    threshold=best_threshold,\n",
    "    # y_pred=y_preds, \n",
    "    # y_pred_proba=y_preds_proba, \n",
    "    training_time=train_time, \n",
    "    # inference_time=inf_time, \n",
    "    dagslogger=dagslogger,\n",
    "    register=True,\n",
    "    show_roccurves=False,\n",
    ")"
   ]
  },
  {
   "cell_type": "markdown",
   "id": "4200099b-4940-4e6b-beeb-ad21da88c8f5",
   "metadata": {},
   "source": [
    "#### Enregistrons les scores pour DagsHub"
   ]
  },
  {
   "cell_type": "code",
   "execution_count": null,
   "id": "0c624b97-ef86-4bad-ac7e-af6fa1b4e9ae",
   "metadata": {},
   "outputs": [],
   "source": [
    "save_metrics_to_dagshub(dagslogger, scores, best_threshold, history)\n",
    "dagslogger.save() \n",
    "dagslogger.close()"
   ]
  },
  {
   "cell_type": "markdown",
   "id": "3b452821-d3e2-4497-b955-4f2630c04fa1",
   "metadata": {},
   "source": [
    "### Compare"
   ]
  },
  {
   "cell_type": "code",
   "execution_count": null,
   "id": "af9511f7-1bd5-4858-9f62-eb476fc3a467",
   "metadata": {
    "tags": []
   },
   "outputs": [],
   "source": [
    "from classification_utils import scores_df\n",
    "scores_df"
   ]
  },
  {
   "cell_type": "markdown",
   "id": "c2815e50-380b-4b50-9199-feac9c2300e0",
   "metadata": {},
   "source": [
    "---\n",
    "## 2.4 `Archi-200` LSTM 32 + Dropout 0.5 <a class=\"anchor\" id=\"ARCHI_200\"></a> [⇪](#menu)"
   ]
  },
  {
   "cell_type": "code",
   "execution_count": null,
   "id": "2841c6d4-805f-48dd-9117-63abfc33ebd4",
   "metadata": {
    "tags": []
   },
   "outputs": [],
   "source": [
    "# Embedding avec masque\n",
    "embedding_layer = layers.Embedding(\n",
    "    input_dim=max_tokens,\n",
    "    output_dim=embedding_dim,\n",
    "    embeddings_initializer=keras.initializers.Constant(embedding_matrix),\n",
    "    # input_length=max_length,\n",
    "    mask_zero=True,\n",
    "    trainable=False, # <== default is True\n",
    "    name=\"embedding_GloVe_Twitter_200d\",\n",
    ")"
   ]
  },
  {
   "cell_type": "code",
   "execution_count": null,
   "id": "1235cf30-e134-4ba2-8f79-1f190f682517",
   "metadata": {
    "tags": []
   },
   "outputs": [],
   "source": [
    "model_name = \"Archi200\"\n",
    "model, archi_desc = architecture200(\"adam\", \"binary_crossentropy\", ['accuracy'], embedding_layer)"
   ]
  },
  {
   "cell_type": "code",
   "execution_count": null,
   "id": "3d080c08-c367-49c5-9f0a-78b869fc1eea",
   "metadata": {
    "tags": []
   },
   "outputs": [],
   "source": [
    "model.summary()"
   ]
  },
  {
   "cell_type": "markdown",
   "id": "133567fb-4f2d-4834-aa57-352dbb98625c",
   "metadata": {},
   "source": [
    "#### Définissons un logger DagsHub pour enregistrer notre essai"
   ]
  },
  {
   "cell_type": "code",
   "execution_count": null,
   "id": "f0521727-6257-4af8-9089-6204afd70f6d",
   "metadata": {},
   "outputs": [],
   "source": [
    "dagslogger = DAGsHubLogger()"
   ]
  },
  {
   "cell_type": "code",
   "execution_count": null,
   "id": "9c01fb4f-6a6e-4444-97fd-7091df827a70",
   "metadata": {},
   "outputs": [],
   "source": [
    "save_hyperparameters_to_dagshub(dagslogger, model_name, archi_desc, get_layers_for_dagshub(model), batch_size, data_work.shape[0])"
   ]
  },
  {
   "cell_type": "markdown",
   "id": "4e065d99-0f8b-4691-9143-5c44c92f435c",
   "metadata": {},
   "source": [
    "### Train model"
   ]
  },
  {
   "cell_type": "code",
   "execution_count": null,
   "id": "5c37b5d4-564f-4c09-b2b8-deb941bdbd0c",
   "metadata": {
    "tags": []
   },
   "outputs": [],
   "source": [
    "t0 = time.perf_counter()\n",
    "history = model.fit(\n",
    "        x=X_train_ready, y=y_train, \n",
    "        validation_data=(X_test_ready, y_test), \n",
    "        epochs=100, \n",
    "        batch_size=batch_size, \n",
    "        callbacks=init_callbacks(f\"{model_name}\"),\n",
    "        verbose=1,\n",
    ")\n",
    "train_time = time.perf_counter() - t0"
   ]
  },
  {
   "cell_type": "code",
   "execution_count": null,
   "id": "95c472d0-abd1-4828-a6ac-92629d954220",
   "metadata": {},
   "outputs": [],
   "source": [
    "summarize_diagnostics(history)"
   ]
  },
  {
   "cell_type": "markdown",
   "id": "dc078100-02b2-41b3-a1f7-1ebe614acc6a",
   "metadata": {},
   "source": [
    "### Evaluate"
   ]
  },
  {
   "cell_type": "code",
   "execution_count": null,
   "id": "065914e1-48e4-45a6-b87f-3528572f25be",
   "metadata": {
    "tags": []
   },
   "outputs": [],
   "source": [
    "model = keras.models.load_model(f\"models/{model_name}.keras\")"
   ]
  },
  {
   "cell_type": "code",
   "execution_count": null,
   "id": "c346aebd-e490-47db-86e6-0a675411d4ea",
   "metadata": {
    "tags": []
   },
   "outputs": [],
   "source": [
    "model.evaluate(X_test_ready, y_test)"
   ]
  },
  {
   "cell_type": "code",
   "execution_count": null,
   "id": "f5283de9-b5bb-4543-aeb8-89f1ffe402a1",
   "metadata": {
    "tags": []
   },
   "outputs": [],
   "source": [
    "raw_txt = tf.convert_to_tensor([\"I hate it\", \"I love it\"])\n",
    "raw_txt = text_vectorizationB7(raw_txt)\n",
    "model.predict(raw_txt)"
   ]
  },
  {
   "cell_type": "code",
   "execution_count": null,
   "id": "bd9ec60e-3722-46d1-8f1d-54f9cb926e91",
   "metadata": {
    "colab": {
     "base_uri": "https://localhost:8080/",
     "height": 1000
    },
    "executionInfo": {
     "elapsed": 746,
     "status": "ok",
     "timestamp": 1653231856185,
     "user": {
      "displayName": "Valkea",
      "userId": "01476199649418572392"
     },
     "user_tz": -120
    },
    "id": "81aba764-7f22-4ad1-b0ed-bc5b13f0b75e",
    "outputId": "e3c4ed78-a90b-46e0-baa0-c28f701f4414",
    "tags": []
   },
   "outputs": [],
   "source": [
    "_ = get_scores(\n",
    "    model_name,\n",
    "    model=model,\n",
    "    X_ref=X_test_ready,\n",
    "    y_ref=y_test, \n",
    "    threshold=0.5,\n",
    "    # y_pred=y_preds, \n",
    "    # y_pred_proba=y_preds_proba, \n",
    "    training_time=train_time, \n",
    "    # inference_time=inf_time, \n",
    "    dagslogger=dagslogger,\n",
    "    register=True,\n",
    ")"
   ]
  },
  {
   "cell_type": "markdown",
   "id": "120ddafd-4506-4fe3-bc69-05dbc0ee2edd",
   "metadata": {},
   "source": [
    "#### Trouvons le meilleur seuil de séparation pour les prédiction (sur la base du F1 score)"
   ]
  },
  {
   "cell_type": "code",
   "execution_count": null,
   "id": "d1f15903-21a2-4aa5-8388-77b44edc7522",
   "metadata": {},
   "outputs": [],
   "source": [
    "acc_value, best_threshold = find_best_threshold(model, X_valid_ready, y_valid, accuracy_score)\n",
    "print(f\"The best Accuracy score ({acc_value}) for this model is reached with a threshold of {best_threshold}\")"
   ]
  },
  {
   "cell_type": "code",
   "execution_count": null,
   "id": "a9645e58-b046-47d0-a8cf-474b543df247",
   "metadata": {
    "colab": {
     "base_uri": "https://localhost:8080/",
     "height": 1000
    },
    "executionInfo": {
     "elapsed": 746,
     "status": "ok",
     "timestamp": 1653231856185,
     "user": {
      "displayName": "Valkea",
      "userId": "01476199649418572392"
     },
     "user_tz": -120
    },
    "id": "81aba764-7f22-4ad1-b0ed-bc5b13f0b75e",
    "outputId": "e3c4ed78-a90b-46e0-baa0-c28f701f4414",
    "tags": []
   },
   "outputs": [],
   "source": [
    "scores = get_scores(\n",
    "    f\"{model_name} [w. threshold]\",\n",
    "    model=model,\n",
    "    X_ref=X_test_ready,\n",
    "    y_ref=y_test, \n",
    "    threshold=best_threshold,\n",
    "    # y_pred=y_preds, \n",
    "    # y_pred_proba=y_preds_proba, \n",
    "    training_time=train_time, \n",
    "    # inference_time=inf_time, \n",
    "    dagslogger=dagslogger,\n",
    "    register=True,\n",
    "    show_roccurves=False,\n",
    ")"
   ]
  },
  {
   "cell_type": "markdown",
   "id": "1b3322d7-73a7-485f-8c40-a20f3f84b61d",
   "metadata": {},
   "source": [
    "#### Enregistrons les scores pour DagsHub"
   ]
  },
  {
   "cell_type": "code",
   "execution_count": null,
   "id": "02bf03a8-c39b-403a-adc1-e6ccaa5a1fa7",
   "metadata": {},
   "outputs": [],
   "source": [
    "save_metrics_to_dagshub(dagslogger, scores, best_threshold, history)\n",
    "dagslogger.save() \n",
    "dagslogger.close()"
   ]
  },
  {
   "cell_type": "markdown",
   "id": "e99153e8-1d30-46c0-ba45-1019bb7128b4",
   "metadata": {},
   "source": [
    "### Compare"
   ]
  },
  {
   "cell_type": "code",
   "execution_count": null,
   "id": "fb87ecce-c89d-40c2-8f68-0c134abf6802",
   "metadata": {
    "tags": []
   },
   "outputs": [],
   "source": [
    "from classification_utils import scores_df\n",
    "scores_df"
   ]
  },
  {
   "cell_type": "markdown",
   "id": "75fb90cd-6fd6-4818-9015-16d9ad1df59d",
   "metadata": {},
   "source": [
    "---\n",
    "## 2.5 `Archi-300` GRU 32 + Dropout 0.5 <a class=\"anchor\" id=\"ARCHI_300\"></a> [⇪](#menu)"
   ]
  },
  {
   "cell_type": "code",
   "execution_count": null,
   "id": "0fc8ea44-c420-4c6e-9b3e-5567d93a999d",
   "metadata": {
    "tags": []
   },
   "outputs": [],
   "source": [
    "# Embedding avec masque\n",
    "embedding_layer = layers.Embedding(\n",
    "    input_dim=max_tokens,\n",
    "    output_dim=embedding_dim,\n",
    "    embeddings_initializer=keras.initializers.Constant(embedding_matrix),\n",
    "    # input_length=max_length,\n",
    "    mask_zero=True,\n",
    "    trainable=False, # <== default is True\n",
    "    name=\"embedding_GloVe_Twitter_200d\",\n",
    ")"
   ]
  },
  {
   "cell_type": "code",
   "execution_count": null,
   "id": "24169243-e59d-4d95-9c3f-cfcd0b4005cf",
   "metadata": {
    "tags": []
   },
   "outputs": [],
   "source": [
    "model_name = \"Archi300\"\n",
    "model, archi_desc = architecture300(\"adam\", \"binary_crossentropy\", ['accuracy'], embedding_layer)"
   ]
  },
  {
   "cell_type": "code",
   "execution_count": null,
   "id": "3019bbe2-b5f0-4648-8b55-f50791563b28",
   "metadata": {
    "tags": []
   },
   "outputs": [],
   "source": [
    "model.summary()"
   ]
  },
  {
   "cell_type": "markdown",
   "id": "265b5fea-b5d9-4b8c-b290-c14330c118c2",
   "metadata": {},
   "source": [
    "#### Définissons un logger DagsHub pour enregistrer notre essai"
   ]
  },
  {
   "cell_type": "code",
   "execution_count": null,
   "id": "7b434ad9-52b7-4c07-aade-be77944a1de3",
   "metadata": {},
   "outputs": [],
   "source": [
    "dagslogger = DAGsHubLogger()"
   ]
  },
  {
   "cell_type": "code",
   "execution_count": null,
   "id": "4e927044-7a98-4f13-82fb-a4d6a864126c",
   "metadata": {},
   "outputs": [],
   "source": [
    "save_hyperparameters_to_dagshub(dagslogger, model_name, archi_desc, get_layers_for_dagshub(model), batch_size, data_work.shape[0])"
   ]
  },
  {
   "cell_type": "markdown",
   "id": "0ccd0239-f8df-4f46-8eff-631fb54c135b",
   "metadata": {},
   "source": [
    "### Train model"
   ]
  },
  {
   "cell_type": "code",
   "execution_count": null,
   "id": "8dda84aa-bfc0-4ebe-99cd-b022db95d5a1",
   "metadata": {
    "tags": []
   },
   "outputs": [],
   "source": [
    "t0 = time.perf_counter()\n",
    "history = model.fit(\n",
    "        x=X_train_ready, y=y_train, \n",
    "        validation_data=(X_test_ready, y_test), \n",
    "        epochs=100, \n",
    "        batch_size=batch_size, \n",
    "        callbacks=init_callbacks(f\"{model_name}\"),\n",
    "        verbose=1,\n",
    ")\n",
    "train_time = time.perf_counter() - t0"
   ]
  },
  {
   "cell_type": "code",
   "execution_count": null,
   "id": "594e4a66-c4cc-4475-b3ab-c817cd374f79",
   "metadata": {},
   "outputs": [],
   "source": [
    "summarize_diagnostics(history)"
   ]
  },
  {
   "cell_type": "markdown",
   "id": "34eed36f-d5b5-43d7-b5da-ae109ab77562",
   "metadata": {},
   "source": [
    "### Evaluate"
   ]
  },
  {
   "cell_type": "code",
   "execution_count": null,
   "id": "de1ca0d0-8e23-4c29-9593-b1f81d29ac7b",
   "metadata": {
    "tags": []
   },
   "outputs": [],
   "source": [
    "model = keras.models.load_model(f\"models/{model_name}.keras\")"
   ]
  },
  {
   "cell_type": "code",
   "execution_count": null,
   "id": "8b8e5b6e-4bd7-4e1b-afcd-0f2618765255",
   "metadata": {
    "tags": []
   },
   "outputs": [],
   "source": [
    "model.evaluate(X_test_ready, y_test)"
   ]
  },
  {
   "cell_type": "code",
   "execution_count": null,
   "id": "f9842821-3917-4c56-85c5-e703bee8fe5e",
   "metadata": {
    "tags": []
   },
   "outputs": [],
   "source": [
    "raw_txt = tf.convert_to_tensor([\"I hate it\", \"I love it\"])\n",
    "raw_txt = text_vectorizationB7(raw_txt)\n",
    "model.predict(raw_txt)"
   ]
  },
  {
   "cell_type": "code",
   "execution_count": null,
   "id": "c82134e8-e3d0-45b3-bb9a-37de9937a90a",
   "metadata": {
    "colab": {
     "base_uri": "https://localhost:8080/",
     "height": 1000
    },
    "executionInfo": {
     "elapsed": 746,
     "status": "ok",
     "timestamp": 1653231856185,
     "user": {
      "displayName": "Valkea",
      "userId": "01476199649418572392"
     },
     "user_tz": -120
    },
    "id": "81aba764-7f22-4ad1-b0ed-bc5b13f0b75e",
    "outputId": "e3c4ed78-a90b-46e0-baa0-c28f701f4414",
    "tags": []
   },
   "outputs": [],
   "source": [
    "_ = get_scores(\n",
    "    model_name,\n",
    "    model=model,\n",
    "    X_ref=X_test_ready,\n",
    "    y_ref=y_test, \n",
    "    threshold=0.5,\n",
    "    # y_pred=y_preds, \n",
    "    # y_pred_proba=y_preds_proba, \n",
    "    training_time=train_time, \n",
    "    # inference_time=inf_time, \n",
    "    dagslogger=dagslogger,\n",
    "    register=True,\n",
    ")"
   ]
  },
  {
   "cell_type": "markdown",
   "id": "44513a78-846f-4872-997d-1e99c47b509b",
   "metadata": {},
   "source": [
    "#### Trouvons le meilleur seuil de séparation pour les prédiction (sur la base du F1 score)"
   ]
  },
  {
   "cell_type": "code",
   "execution_count": null,
   "id": "423af3a7-1c3e-4e9c-b34f-f47adc67d956",
   "metadata": {},
   "outputs": [],
   "source": [
    "acc_value, best_threshold = find_best_threshold(model, X_valid_ready, y_valid, accuracy_score)\n",
    "print(f\"The best Accuracy score ({acc_value}) for this model is reached with a threshold of {best_threshold}\")"
   ]
  },
  {
   "cell_type": "code",
   "execution_count": null,
   "id": "e40a1e97-6d3c-4b03-8ce9-3b633cf83928",
   "metadata": {
    "colab": {
     "base_uri": "https://localhost:8080/",
     "height": 1000
    },
    "executionInfo": {
     "elapsed": 746,
     "status": "ok",
     "timestamp": 1653231856185,
     "user": {
      "displayName": "Valkea",
      "userId": "01476199649418572392"
     },
     "user_tz": -120
    },
    "id": "81aba764-7f22-4ad1-b0ed-bc5b13f0b75e",
    "outputId": "e3c4ed78-a90b-46e0-baa0-c28f701f4414",
    "tags": []
   },
   "outputs": [],
   "source": [
    "scores = get_scores(\n",
    "    f\"{model_name} [w. threshold]\",\n",
    "    model=model,\n",
    "    X_ref=X_test_ready,\n",
    "    y_ref=y_test, \n",
    "    threshold=best_threshold,\n",
    "    # y_pred=y_preds, \n",
    "    # y_pred_proba=y_preds_proba, \n",
    "    training_time=train_time, \n",
    "    # inference_time=inf_time, \n",
    "    dagslogger=dagslogger,\n",
    "    register=True,\n",
    "    show_roccurves=False,\n",
    ")"
   ]
  },
  {
   "cell_type": "markdown",
   "id": "26ce3a75-6f9c-4c3e-996b-2ebf9153c77a",
   "metadata": {},
   "source": [
    "#### Enregistrons les scores pour DagsHub"
   ]
  },
  {
   "cell_type": "code",
   "execution_count": null,
   "id": "e5fca74d-c99e-4e61-8967-b8930c66a186",
   "metadata": {},
   "outputs": [],
   "source": [
    "save_metrics_to_dagshub(dagslogger, scores, best_threshold, history)\n",
    "dagslogger.save() \n",
    "dagslogger.close()"
   ]
  },
  {
   "cell_type": "markdown",
   "id": "bb697db0-8c9c-4955-8fd3-15a7b7634513",
   "metadata": {},
   "source": [
    "### Compare"
   ]
  },
  {
   "cell_type": "code",
   "execution_count": null,
   "id": "c43d9890-8bc5-44ac-96c4-e7fee18730ec",
   "metadata": {
    "tags": []
   },
   "outputs": [],
   "source": [
    "from classification_utils import scores_df\n",
    "scores_df"
   ]
  },
  {
   "cell_type": "markdown",
   "id": "9cbac34f-6f9e-4d2c-86c7-984a0f6719d1",
   "metadata": {},
   "source": [
    "---\n",
    "## 2.6 `Archi-201` Bi-LSTM 64 + Dropout 0.5 <a class=\"anchor\" id=\"ARCHI_201\"></a> [⇪](#menu)"
   ]
  },
  {
   "cell_type": "code",
   "execution_count": null,
   "id": "6323e844-53c3-4013-964a-e1a541634f5e",
   "metadata": {
    "tags": []
   },
   "outputs": [],
   "source": [
    "# Embedding avec masque\n",
    "embedding_layer = layers.Embedding(\n",
    "    input_dim=max_tokens,\n",
    "    output_dim=embedding_dim,\n",
    "    embeddings_initializer=keras.initializers.Constant(embedding_matrix),\n",
    "    # input_length=max_length,\n",
    "    mask_zero=True,\n",
    "    trainable=False, # <== default is True\n",
    "    name=\"embedding_GloVe_Twitter_200d\",\n",
    ")"
   ]
  },
  {
   "cell_type": "code",
   "execution_count": null,
   "id": "2d0d6a77-2485-45e7-82bb-8ab46e67da7b",
   "metadata": {
    "tags": []
   },
   "outputs": [],
   "source": [
    "model_name = \"Archi201\"\n",
    "model, archi_desc = architecture201(\"adam\", \"binary_crossentropy\", ['accuracy'], embedding_layer)"
   ]
  },
  {
   "cell_type": "code",
   "execution_count": null,
   "id": "fb5aacac-e7b4-4341-86fe-73634fcccb83",
   "metadata": {
    "tags": []
   },
   "outputs": [],
   "source": [
    "model.summary()"
   ]
  },
  {
   "cell_type": "markdown",
   "id": "295e7a1b-9250-4845-ba87-e62206621897",
   "metadata": {},
   "source": [
    "#### Définissons un logger DagsHub pour enregistrer notre essai"
   ]
  },
  {
   "cell_type": "code",
   "execution_count": null,
   "id": "8ec7da82-cc76-4914-a641-619b365d44ee",
   "metadata": {},
   "outputs": [],
   "source": [
    "dagslogger = DAGsHubLogger()"
   ]
  },
  {
   "cell_type": "code",
   "execution_count": null,
   "id": "0cd6596f-6848-4d93-8660-635949aae5c2",
   "metadata": {},
   "outputs": [],
   "source": [
    "save_hyperparameters_to_dagshub(dagslogger, model_name, archi_desc, get_layers_for_dagshub(model), batch_size, data_work.shape[0])"
   ]
  },
  {
   "cell_type": "markdown",
   "id": "8bde023f-fa7c-40dc-96fb-6b5f43f22677",
   "metadata": {},
   "source": [
    "### Train model"
   ]
  },
  {
   "cell_type": "code",
   "execution_count": null,
   "id": "b364330e-7bbb-496b-a1f0-d2b6cc39207d",
   "metadata": {
    "tags": []
   },
   "outputs": [],
   "source": [
    "t0 = time.perf_counter()\n",
    "history = model.fit(\n",
    "        x=X_train_ready, y=y_train, \n",
    "        validation_data=(X_test_ready, y_test), \n",
    "        epochs=100, \n",
    "        batch_size=batch_size, \n",
    "        callbacks=init_callbacks(f\"{model_name}\"),\n",
    "        verbose=1,\n",
    ")\n",
    "train_time = time.perf_counter() - t0"
   ]
  },
  {
   "cell_type": "code",
   "execution_count": null,
   "id": "51d56466-acb6-41e5-bd42-6dc495a68983",
   "metadata": {},
   "outputs": [],
   "source": [
    "summarize_diagnostics(history)"
   ]
  },
  {
   "cell_type": "markdown",
   "id": "04a73dc3-fcdd-4a3a-9f8a-effc26a9db0f",
   "metadata": {},
   "source": [
    "### Evaluate"
   ]
  },
  {
   "cell_type": "code",
   "execution_count": null,
   "id": "7e72670f-2432-47e1-b427-14b415a89452",
   "metadata": {
    "tags": []
   },
   "outputs": [],
   "source": [
    "model = keras.models.load_model(f\"models/{model_name}.keras\")"
   ]
  },
  {
   "cell_type": "code",
   "execution_count": null,
   "id": "0bc17e30-d401-4466-b9f1-1366e86aa44c",
   "metadata": {
    "tags": []
   },
   "outputs": [],
   "source": [
    "model.evaluate(X_test_ready, y_test)"
   ]
  },
  {
   "cell_type": "code",
   "execution_count": null,
   "id": "38f0216c-08d6-4527-bfba-25672891ea66",
   "metadata": {
    "tags": []
   },
   "outputs": [],
   "source": [
    "raw_txt = tf.convert_to_tensor([\"I hate it\", \"I love it\"])\n",
    "raw_txt = text_vectorizationB7(raw_txt)\n",
    "model.predict(raw_txt)"
   ]
  },
  {
   "cell_type": "code",
   "execution_count": null,
   "id": "aa2fc07f-bb98-44d1-8f9a-9e9225948f2a",
   "metadata": {
    "colab": {
     "base_uri": "https://localhost:8080/",
     "height": 1000
    },
    "executionInfo": {
     "elapsed": 746,
     "status": "ok",
     "timestamp": 1653231856185,
     "user": {
      "displayName": "Valkea",
      "userId": "01476199649418572392"
     },
     "user_tz": -120
    },
    "id": "81aba764-7f22-4ad1-b0ed-bc5b13f0b75e",
    "outputId": "e3c4ed78-a90b-46e0-baa0-c28f701f4414",
    "tags": []
   },
   "outputs": [],
   "source": [
    "_ = get_scores(\n",
    "    model_name,\n",
    "    model=model,\n",
    "    X_ref=X_test_ready,\n",
    "    y_ref=y_test, \n",
    "    threshold=0.5,\n",
    "    # y_pred=y_preds, \n",
    "    # y_pred_proba=y_preds_proba, \n",
    "    training_time=train_time, \n",
    "    # inference_time=inf_time, \n",
    "    dagslogger=dagslogger,\n",
    "    register=True,\n",
    ")"
   ]
  },
  {
   "cell_type": "markdown",
   "id": "22d78c2d-e23d-4396-9966-c1384168bd0c",
   "metadata": {},
   "source": [
    "#### Trouvons le meilleur seuil de séparation pour les prédiction (sur la base du F1 score)"
   ]
  },
  {
   "cell_type": "code",
   "execution_count": null,
   "id": "7aa071c7-bb4c-417b-9e15-ae7f1e03a04e",
   "metadata": {},
   "outputs": [],
   "source": [
    "acc_value, best_threshold = find_best_threshold(model, X_valid_ready, y_valid, accuracy_score)\n",
    "print(f\"The best Accuracy score ({acc_value}) for this model is reached with a threshold of {best_threshold}\")"
   ]
  },
  {
   "cell_type": "code",
   "execution_count": null,
   "id": "677cac7b-f06b-4c51-9763-0ddfa3b44c6b",
   "metadata": {
    "colab": {
     "base_uri": "https://localhost:8080/",
     "height": 1000
    },
    "executionInfo": {
     "elapsed": 746,
     "status": "ok",
     "timestamp": 1653231856185,
     "user": {
      "displayName": "Valkea",
      "userId": "01476199649418572392"
     },
     "user_tz": -120
    },
    "id": "81aba764-7f22-4ad1-b0ed-bc5b13f0b75e",
    "outputId": "e3c4ed78-a90b-46e0-baa0-c28f701f4414",
    "tags": []
   },
   "outputs": [],
   "source": [
    "scores = get_scores(\n",
    "    f\"{model_name} [w. threshold]\",\n",
    "    model=model,\n",
    "    X_ref=X_test_ready,\n",
    "    y_ref=y_test, \n",
    "    threshold=best_threshold,\n",
    "    # y_pred=y_preds, \n",
    "    # y_pred_proba=y_preds_proba, \n",
    "    training_time=train_time, \n",
    "    # inference_time=inf_time, \n",
    "    dagslogger=dagslogger,\n",
    "    register=True,\n",
    "    show_roccurves=False,\n",
    ")"
   ]
  },
  {
   "cell_type": "markdown",
   "id": "d7bf340a-5f54-46ae-afdb-4221cd37254b",
   "metadata": {},
   "source": [
    "#### Enregistrons les scores pour DagsHub"
   ]
  },
  {
   "cell_type": "code",
   "execution_count": null,
   "id": "7fec42be-5377-473a-bdfa-1469b1b26594",
   "metadata": {},
   "outputs": [],
   "source": [
    "save_metrics_to_dagshub(dagslogger, scores, best_threshold, history)\n",
    "dagslogger.save() \n",
    "dagslogger.close()"
   ]
  },
  {
   "cell_type": "markdown",
   "id": "3ff1b657-e87f-4df9-af1f-277bef46a26e",
   "metadata": {},
   "source": [
    "### Compare"
   ]
  },
  {
   "cell_type": "code",
   "execution_count": null,
   "id": "121b1c6a-1cb0-46ad-a931-f380444817df",
   "metadata": {
    "tags": []
   },
   "outputs": [],
   "source": [
    "from classification_utils import scores_df\n",
    "scores_df"
   ]
  },
  {
   "cell_type": "markdown",
   "id": "f94919c3-2326-44e2-99dc-8af6612330d9",
   "metadata": {},
   "source": [
    "---\n",
    "## 2.7 `Archi-202` Bi-LSTM 64 + Dense 24 <a class=\"anchor\" id=\"ARCHI_202\"></a> [⇪](#menu)"
   ]
  },
  {
   "cell_type": "code",
   "execution_count": null,
   "id": "b4b95777-9c9f-432e-9bdc-8aa45f546e9a",
   "metadata": {
    "tags": []
   },
   "outputs": [],
   "source": [
    "# Embedding avec masque\n",
    "embedding_layer = layers.Embedding(\n",
    "    input_dim=max_tokens,\n",
    "    output_dim=embedding_dim,\n",
    "    embeddings_initializer=keras.initializers.Constant(embedding_matrix),\n",
    "    # input_length=max_length,\n",
    "    mask_zero=True,\n",
    "    trainable=False, # <== default is True\n",
    "    name=\"embedding_GloVe_Twitter_200d\",\n",
    ")"
   ]
  },
  {
   "cell_type": "code",
   "execution_count": null,
   "id": "29111dbf-0f6b-4a29-b7e8-f0a65fb2769b",
   "metadata": {
    "tags": []
   },
   "outputs": [],
   "source": [
    "model_name = \"Archi202\"\n",
    "model, archi_desc = architecture202(\"adam\", \"binary_crossentropy\", ['accuracy'], embedding_layer)"
   ]
  },
  {
   "cell_type": "code",
   "execution_count": null,
   "id": "f1c1fbfb-5b23-40c8-91c0-ba2d79040965",
   "metadata": {
    "tags": []
   },
   "outputs": [],
   "source": [
    "model.summary()"
   ]
  },
  {
   "cell_type": "markdown",
   "id": "ef86ed23-f1b2-4477-a206-aec2a76b8eb2",
   "metadata": {},
   "source": [
    "#### Définissons un logger DagsHub pour enregistrer notre essai"
   ]
  },
  {
   "cell_type": "code",
   "execution_count": null,
   "id": "7ab5a932-43ab-4b9e-a819-c4be57bc205c",
   "metadata": {},
   "outputs": [],
   "source": [
    "dagslogger = DAGsHubLogger()"
   ]
  },
  {
   "cell_type": "code",
   "execution_count": null,
   "id": "e6272ce5-64c4-4bb6-8e04-9eb97b38d7b6",
   "metadata": {},
   "outputs": [],
   "source": [
    "save_hyperparameters_to_dagshub(dagslogger, model_name, archi_desc, get_layers_for_dagshub(model), batch_size, data_work.shape[0])"
   ]
  },
  {
   "cell_type": "markdown",
   "id": "4d78c6a9-4b3c-48c0-b03b-d23d974beda3",
   "metadata": {},
   "source": [
    "### Train model"
   ]
  },
  {
   "cell_type": "code",
   "execution_count": null,
   "id": "36e13006-e227-4a84-84b8-d3333b830950",
   "metadata": {
    "tags": []
   },
   "outputs": [],
   "source": [
    "t0 = time.perf_counter()\n",
    "history = model.fit(\n",
    "        x=X_train_ready, y=y_train, \n",
    "        validation_data=(X_test_ready, y_test), \n",
    "        epochs=100, \n",
    "        batch_size=batch_size, \n",
    "        callbacks=init_callbacks(f\"{model_name}\"),\n",
    "        verbose=1,\n",
    ")\n",
    "train_time = time.perf_counter() - t0"
   ]
  },
  {
   "cell_type": "code",
   "execution_count": null,
   "id": "ccc35167-a879-4f86-9bfa-edd9c2d6bcf5",
   "metadata": {},
   "outputs": [],
   "source": [
    "summarize_diagnostics(history)"
   ]
  },
  {
   "cell_type": "markdown",
   "id": "78cc5216-ec1c-4654-a9ea-b3470c43c41f",
   "metadata": {},
   "source": [
    "### Evaluate"
   ]
  },
  {
   "cell_type": "code",
   "execution_count": null,
   "id": "a16f491b-4f5e-40cb-a600-d86086d8f7a8",
   "metadata": {
    "tags": []
   },
   "outputs": [],
   "source": [
    "model = keras.models.load_model(f\"models/{model_name}.keras\")"
   ]
  },
  {
   "cell_type": "code",
   "execution_count": null,
   "id": "b706cf92-cffe-412d-823f-82344856fe1a",
   "metadata": {
    "tags": []
   },
   "outputs": [],
   "source": [
    "model.evaluate(X_test_ready, y_test)"
   ]
  },
  {
   "cell_type": "code",
   "execution_count": null,
   "id": "718ac5c0-c393-45ca-9a0a-4fa06e09361d",
   "metadata": {
    "tags": []
   },
   "outputs": [],
   "source": [
    "raw_txt = tf.convert_to_tensor([\"I hate it\", \"I love it\"])\n",
    "raw_txt = text_vectorizationB7(raw_txt)\n",
    "model.predict(raw_txt)"
   ]
  },
  {
   "cell_type": "code",
   "execution_count": null,
   "id": "9b15da10-c9a3-46c8-ba06-2e22e388fc9f",
   "metadata": {
    "colab": {
     "base_uri": "https://localhost:8080/",
     "height": 1000
    },
    "executionInfo": {
     "elapsed": 746,
     "status": "ok",
     "timestamp": 1653231856185,
     "user": {
      "displayName": "Valkea",
      "userId": "01476199649418572392"
     },
     "user_tz": -120
    },
    "id": "81aba764-7f22-4ad1-b0ed-bc5b13f0b75e",
    "outputId": "e3c4ed78-a90b-46e0-baa0-c28f701f4414",
    "tags": []
   },
   "outputs": [],
   "source": [
    "_ = get_scores(\n",
    "    model_name,\n",
    "    model=model,\n",
    "    X_ref=X_test_ready,\n",
    "    y_ref=y_test, \n",
    "    threshold=0.5,\n",
    "    # y_pred=y_preds, \n",
    "    # y_pred_proba=y_preds_proba, \n",
    "    training_time=train_time, \n",
    "    # inference_time=inf_time, \n",
    "    dagslogger=dagslogger,\n",
    "    register=True,\n",
    ")"
   ]
  },
  {
   "cell_type": "markdown",
   "id": "6d1b8458-1085-4756-ac6b-6f9cd58d5c05",
   "metadata": {},
   "source": [
    "#### Trouvons le meilleur seuil de séparation pour les prédiction (sur la base du F1 score)"
   ]
  },
  {
   "cell_type": "code",
   "execution_count": null,
   "id": "fed4cba3-14e6-42c5-bc6b-606914477f3c",
   "metadata": {},
   "outputs": [],
   "source": [
    "acc_value, best_threshold = find_best_threshold(model, X_valid_ready, y_valid, accuracy_score)\n",
    "print(f\"The best Accuracy score ({acc_value}) for this model is reached with a threshold of {best_threshold}\")"
   ]
  },
  {
   "cell_type": "code",
   "execution_count": null,
   "id": "7bce4b61-4262-40c2-905e-3a97396b0fe5",
   "metadata": {
    "colab": {
     "base_uri": "https://localhost:8080/",
     "height": 1000
    },
    "executionInfo": {
     "elapsed": 746,
     "status": "ok",
     "timestamp": 1653231856185,
     "user": {
      "displayName": "Valkea",
      "userId": "01476199649418572392"
     },
     "user_tz": -120
    },
    "id": "81aba764-7f22-4ad1-b0ed-bc5b13f0b75e",
    "outputId": "e3c4ed78-a90b-46e0-baa0-c28f701f4414",
    "tags": []
   },
   "outputs": [],
   "source": [
    "scores = get_scores(\n",
    "    f\"{model_name} [w. threshold]\",\n",
    "    model=model,\n",
    "    X_ref=X_test_ready,\n",
    "    y_ref=y_test, \n",
    "    threshold=best_threshold,\n",
    "    # y_pred=y_preds, \n",
    "    # y_pred_proba=y_preds_proba, \n",
    "    training_time=train_time, \n",
    "    # inference_time=inf_time, \n",
    "    dagslogger=dagslogger,\n",
    "    register=True,\n",
    "    show_roccurves=False,\n",
    ")"
   ]
  },
  {
   "cell_type": "markdown",
   "id": "63ca47aa-1778-42e6-9998-b239517b22d5",
   "metadata": {},
   "source": [
    "#### Enregistrons les scores pour DagsHub"
   ]
  },
  {
   "cell_type": "code",
   "execution_count": null,
   "id": "fb3bd294-3b23-4b51-b89e-9eba78990926",
   "metadata": {},
   "outputs": [],
   "source": [
    "save_metrics_to_dagshub(dagslogger, scores, best_threshold, history)\n",
    "dagslogger.save() \n",
    "dagslogger.close()"
   ]
  },
  {
   "cell_type": "markdown",
   "id": "011464bd-3789-4039-938a-3c78a7af775b",
   "metadata": {},
   "source": [
    "### Compare"
   ]
  },
  {
   "cell_type": "code",
   "execution_count": null,
   "id": "5441d71e-1960-49a3-94c6-ba732d1f0745",
   "metadata": {
    "tags": []
   },
   "outputs": [],
   "source": [
    "from classification_utils import scores_df\n",
    "scores_df"
   ]
  },
  {
   "cell_type": "markdown",
   "id": "0c7b795b-0e7f-4f05-95c9-b73b13bce053",
   "metadata": {},
   "source": [
    "---\n",
    "## 2.8 `Archi-301` Bi-GRU 64 + Dropout 0.5 <a class=\"anchor\" id=\"ARCHI_301\"></a> [⇪](#menu)"
   ]
  },
  {
   "cell_type": "code",
   "execution_count": null,
   "id": "e91705fd-be97-4855-a88e-2d71b22b9d02",
   "metadata": {
    "tags": []
   },
   "outputs": [],
   "source": [
    "# Embedding avec masque\n",
    "embedding_layer = layers.Embedding(\n",
    "    input_dim=max_tokens,\n",
    "    output_dim=embedding_dim,\n",
    "    embeddings_initializer=keras.initializers.Constant(embedding_matrix),\n",
    "    # input_length=max_length,\n",
    "    mask_zero=True,\n",
    "    trainable=False, # <== default is True\n",
    "    name=\"embedding_GloVe_Twitter_200d\",\n",
    ")"
   ]
  },
  {
   "cell_type": "code",
   "execution_count": null,
   "id": "5cb83991-93c6-4a24-b15c-ac63b6172098",
   "metadata": {
    "tags": []
   },
   "outputs": [],
   "source": [
    "model_name = \"Archi301\"\n",
    "model, archi_desc = architecture301(\"adam\", \"binary_crossentropy\", ['accuracy'], embedding_layer)"
   ]
  },
  {
   "cell_type": "code",
   "execution_count": null,
   "id": "20501595-b123-43a0-a37b-1db065d14ffb",
   "metadata": {
    "tags": []
   },
   "outputs": [],
   "source": [
    "model.summary()"
   ]
  },
  {
   "cell_type": "markdown",
   "id": "f086471e-374c-4249-93ac-baaaaec884f0",
   "metadata": {},
   "source": [
    "#### Définissons un logger DagsHub pour enregistrer notre essai"
   ]
  },
  {
   "cell_type": "code",
   "execution_count": null,
   "id": "8d05923e-d8a1-4d2a-8ec8-1ab17c91518c",
   "metadata": {},
   "outputs": [],
   "source": [
    "dagslogger = DAGsHubLogger()"
   ]
  },
  {
   "cell_type": "code",
   "execution_count": null,
   "id": "2b7a3cc0-17a7-44f2-aadc-72e7b5287c4f",
   "metadata": {},
   "outputs": [],
   "source": [
    "save_hyperparameters_to_dagshub(dagslogger, model_name, archi_desc, get_layers_for_dagshub(model), batch_size, data_work.shape[0])"
   ]
  },
  {
   "cell_type": "markdown",
   "id": "ddd4aac0-ed13-4d37-b222-708d7e10993f",
   "metadata": {},
   "source": [
    "### Train model"
   ]
  },
  {
   "cell_type": "code",
   "execution_count": null,
   "id": "2e974753-6e90-4c30-8da5-25480be75bf8",
   "metadata": {
    "tags": []
   },
   "outputs": [],
   "source": [
    "t0 = time.perf_counter()\n",
    "history = model.fit(\n",
    "        x=X_train_ready, y=y_train, \n",
    "        validation_data=(X_test_ready, y_test), \n",
    "        epochs=100, \n",
    "        batch_size=batch_size, \n",
    "        callbacks=init_callbacks(f\"{model_name}\"),\n",
    "        verbose=1,\n",
    ")\n",
    "train_time = time.perf_counter() - t0"
   ]
  },
  {
   "cell_type": "code",
   "execution_count": null,
   "id": "476524a2-001b-479d-a45b-c5801c5b83c6",
   "metadata": {},
   "outputs": [],
   "source": [
    "summarize_diagnostics(history)"
   ]
  },
  {
   "cell_type": "markdown",
   "id": "257e64e9-3e1c-4cb0-87f6-96e161d01ed5",
   "metadata": {},
   "source": [
    "### Evaluate"
   ]
  },
  {
   "cell_type": "code",
   "execution_count": null,
   "id": "20f270fa-75b2-4f2c-b3c6-f311a1e0ea5a",
   "metadata": {
    "tags": []
   },
   "outputs": [],
   "source": [
    "model = keras.models.load_model(f\"models/{model_name}.keras\")"
   ]
  },
  {
   "cell_type": "code",
   "execution_count": null,
   "id": "75fa58f1-a5c3-4b93-ba31-7eb48752508b",
   "metadata": {
    "tags": []
   },
   "outputs": [],
   "source": [
    "model.evaluate(X_test_ready, y_test)"
   ]
  },
  {
   "cell_type": "code",
   "execution_count": null,
   "id": "af920217-374a-410c-a886-d441ecabe239",
   "metadata": {
    "tags": []
   },
   "outputs": [],
   "source": [
    "raw_txt = tf.convert_to_tensor([\"I hate it\", \"I love it\"])\n",
    "raw_txt = text_vectorizationB7(raw_txt)\n",
    "model.predict(raw_txt)"
   ]
  },
  {
   "cell_type": "code",
   "execution_count": null,
   "id": "25baa298-18bb-4f40-963a-804754beebb0",
   "metadata": {
    "colab": {
     "base_uri": "https://localhost:8080/",
     "height": 1000
    },
    "executionInfo": {
     "elapsed": 746,
     "status": "ok",
     "timestamp": 1653231856185,
     "user": {
      "displayName": "Valkea",
      "userId": "01476199649418572392"
     },
     "user_tz": -120
    },
    "id": "81aba764-7f22-4ad1-b0ed-bc5b13f0b75e",
    "outputId": "e3c4ed78-a90b-46e0-baa0-c28f701f4414",
    "tags": []
   },
   "outputs": [],
   "source": [
    "_ = get_scores(\n",
    "    model_name,\n",
    "    model=model,\n",
    "    X_ref=X_test_ready,\n",
    "    y_ref=y_test, \n",
    "    threshold=0.5,\n",
    "    # y_pred=y_preds, \n",
    "    # y_pred_proba=y_preds_proba, \n",
    "    training_time=train_time, \n",
    "    # inference_time=inf_time, \n",
    "    dagslogger=dagslogger,\n",
    "    register=True,\n",
    ")"
   ]
  },
  {
   "cell_type": "markdown",
   "id": "52587f75-4d15-4391-9398-43199de512b9",
   "metadata": {},
   "source": [
    "#### Trouvons le meilleur seuil de séparation pour les prédiction (sur la base du F1 score)"
   ]
  },
  {
   "cell_type": "code",
   "execution_count": null,
   "id": "a5379d88-18cd-47c7-aab4-4a37f909f127",
   "metadata": {},
   "outputs": [],
   "source": [
    "acc_value, best_threshold = find_best_threshold(model, X_valid_ready, y_valid, accuracy_score)\n",
    "print(f\"The best Accuracy score ({acc_value}) for this model is reached with a threshold of {best_threshold}\")"
   ]
  },
  {
   "cell_type": "code",
   "execution_count": null,
   "id": "d7e76dc3-c56b-4601-9d06-596445ee2cb7",
   "metadata": {
    "colab": {
     "base_uri": "https://localhost:8080/",
     "height": 1000
    },
    "executionInfo": {
     "elapsed": 746,
     "status": "ok",
     "timestamp": 1653231856185,
     "user": {
      "displayName": "Valkea",
      "userId": "01476199649418572392"
     },
     "user_tz": -120
    },
    "id": "81aba764-7f22-4ad1-b0ed-bc5b13f0b75e",
    "outputId": "e3c4ed78-a90b-46e0-baa0-c28f701f4414",
    "tags": []
   },
   "outputs": [],
   "source": [
    "scores = get_scores(\n",
    "    f\"{model_name} [w. threshold]\",\n",
    "    model=model,\n",
    "    X_ref=X_test_ready,\n",
    "    y_ref=y_test, \n",
    "    threshold=best_threshold,\n",
    "    # y_pred=y_preds, \n",
    "    # y_pred_proba=y_preds_proba, \n",
    "    training_time=train_time, \n",
    "    # inference_time=inf_time, \n",
    "    dagslogger=dagslogger,\n",
    "    register=True,\n",
    "    show_roccurves=False,\n",
    ")"
   ]
  },
  {
   "cell_type": "markdown",
   "id": "ea212aa3-fcb9-41a1-8fd6-6c26d5becb95",
   "metadata": {},
   "source": [
    "#### Enregistrons les scores pour DagsHub"
   ]
  },
  {
   "cell_type": "code",
   "execution_count": null,
   "id": "f3e95b09-4e86-4a78-8ed6-e32f9b3deb72",
   "metadata": {},
   "outputs": [],
   "source": [
    "save_metrics_to_dagshub(dagslogger, scores, best_threshold, history)\n",
    "dagslogger.save() \n",
    "dagslogger.close()"
   ]
  },
  {
   "cell_type": "markdown",
   "id": "5b7f27a2-ad90-43a7-9f84-857fbf8e01b1",
   "metadata": {},
   "source": [
    "### Compare"
   ]
  },
  {
   "cell_type": "code",
   "execution_count": null,
   "id": "4396ee03-c8ac-4f2f-a9c0-ece2eefb54ce",
   "metadata": {
    "tags": []
   },
   "outputs": [],
   "source": [
    "from classification_utils import scores_df\n",
    "scores_df"
   ]
  },
  {
   "cell_type": "markdown",
   "id": "5d3a076d-04a0-44af-800a-b76dd452b837",
   "metadata": {},
   "source": [
    "---\n",
    "## 2.9 `Archi-302` Bi-GRU 64 + Dense 24 <a class=\"anchor\" id=\"ARCHI_302\"></a> [⇪](#menu)"
   ]
  },
  {
   "cell_type": "code",
   "execution_count": null,
   "id": "3f829bb1-2da4-48ff-be1c-dc572352b508",
   "metadata": {
    "tags": []
   },
   "outputs": [],
   "source": [
    "# Embedding avec masque\n",
    "embedding_layer = layers.Embedding(\n",
    "    input_dim=max_tokens,\n",
    "    output_dim=embedding_dim,\n",
    "    embeddings_initializer=keras.initializers.Constant(embedding_matrix),\n",
    "    # input_length=max_length,\n",
    "    mask_zero=True,\n",
    "    trainable=False, # <== default is True\n",
    "    name=\"embedding_GloVe_Twitter_200d\",\n",
    ")"
   ]
  },
  {
   "cell_type": "code",
   "execution_count": null,
   "id": "3519e45e-6dbd-48df-bee3-d5295c8c5c1a",
   "metadata": {
    "tags": []
   },
   "outputs": [],
   "source": [
    "model_name = \"Archi302\"\n",
    "model, archi_desc = architecture302(\"adam\", \"binary_crossentropy\", ['accuracy'], embedding_layer)"
   ]
  },
  {
   "cell_type": "code",
   "execution_count": null,
   "id": "0784ee2c-2268-4af1-b98e-419b9dc0f9a3",
   "metadata": {
    "tags": []
   },
   "outputs": [],
   "source": [
    "model.summary()"
   ]
  },
  {
   "cell_type": "markdown",
   "id": "4180a9b7-1bb6-4e62-9a12-1a2b22b5eb9a",
   "metadata": {},
   "source": [
    "#### Définissons un logger DagsHub pour enregistrer notre essai"
   ]
  },
  {
   "cell_type": "code",
   "execution_count": null,
   "id": "ab55bcbe-6b32-4c1c-8f27-e0d922ee6d98",
   "metadata": {},
   "outputs": [],
   "source": [
    "dagslogger = DAGsHubLogger()"
   ]
  },
  {
   "cell_type": "code",
   "execution_count": null,
   "id": "da37872a-2c6c-475f-a9b0-c32c33270d2f",
   "metadata": {},
   "outputs": [],
   "source": [
    "save_hyperparameters_to_dagshub(dagslogger, model_name, archi_desc, get_layers_for_dagshub(model), batch_size, data_work.shape[0])"
   ]
  },
  {
   "cell_type": "markdown",
   "id": "50c9489d-df4c-4fe3-b981-eabac871a013",
   "metadata": {},
   "source": [
    "### Train model"
   ]
  },
  {
   "cell_type": "code",
   "execution_count": null,
   "id": "198feb57-7b6f-4634-aaba-7341eb48e97d",
   "metadata": {
    "tags": []
   },
   "outputs": [],
   "source": [
    "t0 = time.perf_counter()\n",
    "history = model.fit(\n",
    "        x=X_train_ready, y=y_train, \n",
    "        validation_data=(X_test_ready, y_test), \n",
    "        epochs=100, \n",
    "        batch_size=batch_size, \n",
    "        callbacks=init_callbacks(f\"{model_name}\"),\n",
    "        verbose=1,\n",
    ")\n",
    "train_time = time.perf_counter() - t0"
   ]
  },
  {
   "cell_type": "code",
   "execution_count": null,
   "id": "5887b07c-7fe9-494a-8c94-06938b4da726",
   "metadata": {},
   "outputs": [],
   "source": [
    "summarize_diagnostics(history)"
   ]
  },
  {
   "cell_type": "markdown",
   "id": "eb8ca3cf-beee-4dc9-861f-1498aebb7bcc",
   "metadata": {},
   "source": [
    "### Evaluate"
   ]
  },
  {
   "cell_type": "code",
   "execution_count": null,
   "id": "8b418d94-765a-4ddf-9f13-7d34119f6791",
   "metadata": {
    "tags": []
   },
   "outputs": [],
   "source": [
    "model = keras.models.load_model(f\"models/{model_name}.keras\")"
   ]
  },
  {
   "cell_type": "code",
   "execution_count": null,
   "id": "1b2db668-b670-4ac6-9017-9c89a74bfcd4",
   "metadata": {
    "tags": []
   },
   "outputs": [],
   "source": [
    "model.evaluate(X_test_ready, y_test)"
   ]
  },
  {
   "cell_type": "code",
   "execution_count": null,
   "id": "dfc75e1b-44f6-4a9e-8c71-e8e703855076",
   "metadata": {
    "tags": []
   },
   "outputs": [],
   "source": [
    "raw_txt = tf.convert_to_tensor([\"I hate it\", \"I love it\"])\n",
    "raw_txt = text_vectorizationB7(raw_txt)\n",
    "model.predict(raw_txt)"
   ]
  },
  {
   "cell_type": "code",
   "execution_count": null,
   "id": "4d55d6a1-c51a-45cd-9e68-5deb24423b63",
   "metadata": {
    "colab": {
     "base_uri": "https://localhost:8080/",
     "height": 1000
    },
    "executionInfo": {
     "elapsed": 746,
     "status": "ok",
     "timestamp": 1653231856185,
     "user": {
      "displayName": "Valkea",
      "userId": "01476199649418572392"
     },
     "user_tz": -120
    },
    "id": "81aba764-7f22-4ad1-b0ed-bc5b13f0b75e",
    "outputId": "e3c4ed78-a90b-46e0-baa0-c28f701f4414",
    "tags": []
   },
   "outputs": [],
   "source": [
    "_ = get_scores(\n",
    "    model_name,\n",
    "    model=model,\n",
    "    X_ref=X_test_ready,\n",
    "    y_ref=y_test, \n",
    "    threshold=0.5,\n",
    "    # y_pred=y_preds, \n",
    "    # y_pred_proba=y_preds_proba, \n",
    "    training_time=train_time, \n",
    "    # inference_time=inf_time, \n",
    "    dagslogger=dagslogger,\n",
    "    register=True,\n",
    ")"
   ]
  },
  {
   "cell_type": "markdown",
   "id": "bff81753-7cfc-43e0-b453-6a5cb8674291",
   "metadata": {},
   "source": [
    "#### Trouvons le meilleur seuil de séparation pour les prédiction (sur la base du F1 score)"
   ]
  },
  {
   "cell_type": "code",
   "execution_count": null,
   "id": "ddec0c70-f319-4ea8-820b-ff7baa5d936a",
   "metadata": {},
   "outputs": [],
   "source": [
    "acc_value, best_threshold = find_best_threshold(model, X_valid_ready, y_valid, accuracy_score)\n",
    "print(f\"The best Accuracy score ({acc_value}) for this model is reached with a threshold of {best_threshold}\")"
   ]
  },
  {
   "cell_type": "code",
   "execution_count": null,
   "id": "18bc47e9-9b3f-4716-b6e6-65eb39925fea",
   "metadata": {
    "colab": {
     "base_uri": "https://localhost:8080/",
     "height": 1000
    },
    "executionInfo": {
     "elapsed": 746,
     "status": "ok",
     "timestamp": 1653231856185,
     "user": {
      "displayName": "Valkea",
      "userId": "01476199649418572392"
     },
     "user_tz": -120
    },
    "id": "81aba764-7f22-4ad1-b0ed-bc5b13f0b75e",
    "outputId": "e3c4ed78-a90b-46e0-baa0-c28f701f4414",
    "tags": []
   },
   "outputs": [],
   "source": [
    "scores = get_scores(\n",
    "    f\"{model_name} [w. threshold]\",\n",
    "    model=model,\n",
    "    X_ref=X_test_ready,\n",
    "    y_ref=y_test, \n",
    "    threshold=best_threshold,\n",
    "    # y_pred=y_preds, \n",
    "    # y_pred_proba=y_preds_proba, \n",
    "    training_time=train_time, \n",
    "    # inference_time=inf_time, \n",
    "    dagslogger=dagslogger,\n",
    "    register=True,\n",
    "    show_roccurves=False,\n",
    ")"
   ]
  },
  {
   "cell_type": "markdown",
   "id": "8604f227-e7d1-4265-9706-da7ddaca5748",
   "metadata": {},
   "source": [
    "#### Enregistrons les scores pour DagsHub"
   ]
  },
  {
   "cell_type": "code",
   "execution_count": null,
   "id": "d2a85d99-5a84-4011-96e3-da5ba0affd19",
   "metadata": {},
   "outputs": [],
   "source": [
    "save_metrics_to_dagshub(dagslogger, scores, best_threshold, history)\n",
    "dagslogger.save() \n",
    "dagslogger.close()"
   ]
  },
  {
   "cell_type": "markdown",
   "id": "8c10f463-f704-4e23-a0d4-6731de6c765b",
   "metadata": {},
   "source": [
    "### Compare"
   ]
  },
  {
   "cell_type": "code",
   "execution_count": null,
   "id": "a20f7423-3237-426b-99eb-9cf26035530c",
   "metadata": {
    "tags": []
   },
   "outputs": [],
   "source": [
    "from classification_utils import scores_df\n",
    "scores_df"
   ]
  },
  {
   "cell_type": "markdown",
   "id": "9f1e306d-3bb5-4378-b728-8260e2c9b829",
   "metadata": {},
   "source": [
    "---\n",
    "## 2.10 `Archi-401` Bi-LSTM 32 + Dense 10 <a class=\"anchor\" id=\"ARCHI_401\"></a> [⇪](#menu)"
   ]
  },
  {
   "cell_type": "code",
   "execution_count": null,
   "id": "36cd29ba-dfda-4084-a6ff-d96519db090e",
   "metadata": {
    "tags": []
   },
   "outputs": [],
   "source": [
    "# Embedding avec masque\n",
    "embedding_layer = layers.Embedding(\n",
    "    input_dim=max_tokens,\n",
    "    output_dim=embedding_dim,\n",
    "    embeddings_initializer=keras.initializers.Constant(embedding_matrix),\n",
    "    # input_length=max_length,\n",
    "    mask_zero=True,\n",
    "    trainable=False, # <== default is True\n",
    "    name=\"embedding_GloVe_Twitter_200d\",\n",
    ")"
   ]
  },
  {
   "cell_type": "code",
   "execution_count": null,
   "id": "4c066e09-2eb2-4661-bb6e-6afef659a4fb",
   "metadata": {
    "tags": []
   },
   "outputs": [],
   "source": [
    "model_name = \"Archi401\"\n",
    "model, archi_desc = architecture401(\"adam\", \"binary_crossentropy\", ['accuracy'], embedding_layer)"
   ]
  },
  {
   "cell_type": "code",
   "execution_count": null,
   "id": "3a01806b-b975-47b5-bb67-4423723b9ca5",
   "metadata": {
    "tags": []
   },
   "outputs": [],
   "source": [
    "model.summary()"
   ]
  },
  {
   "cell_type": "markdown",
   "id": "08ee4f3a-5ad1-4e02-87ee-dc0fb96d6dc2",
   "metadata": {},
   "source": [
    "#### Définissons un logger DagsHub pour enregistrer notre essai"
   ]
  },
  {
   "cell_type": "code",
   "execution_count": null,
   "id": "ab9d9cc0-2f1b-419d-8fea-26dea7bfd14f",
   "metadata": {},
   "outputs": [],
   "source": [
    "dagslogger = DAGsHubLogger()"
   ]
  },
  {
   "cell_type": "code",
   "execution_count": null,
   "id": "959d2fff-42ce-4c8d-91f8-f58198906792",
   "metadata": {},
   "outputs": [],
   "source": [
    "save_hyperparameters_to_dagshub(dagslogger, model_name, archi_desc, get_layers_for_dagshub(model), batch_size, data_work.shape[0])"
   ]
  },
  {
   "cell_type": "markdown",
   "id": "95aa9396-55f8-4039-945b-925befa3e7bc",
   "metadata": {},
   "source": [
    "### Train model"
   ]
  },
  {
   "cell_type": "code",
   "execution_count": null,
   "id": "349fffa7-af13-493c-8c85-21e0f312408f",
   "metadata": {
    "tags": []
   },
   "outputs": [],
   "source": [
    "t0 = time.perf_counter()\n",
    "history = model.fit(\n",
    "        x=X_train_ready, y=y_train, \n",
    "        validation_data=(X_test_ready, y_test), \n",
    "        epochs=100, \n",
    "        batch_size=batch_size, \n",
    "        callbacks=init_callbacks(f\"{model_name}\"),\n",
    "        verbose=1,\n",
    ")\n",
    "train_time = time.perf_counter() - t0"
   ]
  },
  {
   "cell_type": "code",
   "execution_count": null,
   "id": "217888e1-989c-427e-9a55-bce3b6aee1ab",
   "metadata": {},
   "outputs": [],
   "source": [
    "summarize_diagnostics(history)"
   ]
  },
  {
   "cell_type": "markdown",
   "id": "88eb7d2f-e7e8-4a3d-be92-e7a456589c8c",
   "metadata": {},
   "source": [
    "### Evaluate"
   ]
  },
  {
   "cell_type": "code",
   "execution_count": null,
   "id": "ee4c73a1-ad62-4d5d-beef-3e6060e44c8b",
   "metadata": {
    "tags": []
   },
   "outputs": [],
   "source": [
    "model = keras.models.load_model(f\"models/{model_name}.keras\")"
   ]
  },
  {
   "cell_type": "code",
   "execution_count": null,
   "id": "9ec0bc4c-fe55-4aa5-9aff-402e2c4e1f48",
   "metadata": {
    "tags": []
   },
   "outputs": [],
   "source": [
    "model.evaluate(X_test_ready, y_test)"
   ]
  },
  {
   "cell_type": "code",
   "execution_count": null,
   "id": "dc549c21-8cab-4c14-b474-b838411e5465",
   "metadata": {
    "tags": []
   },
   "outputs": [],
   "source": [
    "raw_txt = tf.convert_to_tensor([\"I hate it\", \"I love it\"])\n",
    "raw_txt = text_vectorizationB7(raw_txt)\n",
    "model.predict(raw_txt)"
   ]
  },
  {
   "cell_type": "code",
   "execution_count": null,
   "id": "f3b17e34-6706-4780-812f-3c852afe9550",
   "metadata": {
    "colab": {
     "base_uri": "https://localhost:8080/",
     "height": 1000
    },
    "executionInfo": {
     "elapsed": 746,
     "status": "ok",
     "timestamp": 1653231856185,
     "user": {
      "displayName": "Valkea",
      "userId": "01476199649418572392"
     },
     "user_tz": -120
    },
    "id": "81aba764-7f22-4ad1-b0ed-bc5b13f0b75e",
    "outputId": "e3c4ed78-a90b-46e0-baa0-c28f701f4414",
    "tags": []
   },
   "outputs": [],
   "source": [
    "_ = get_scores(\n",
    "    model_name,\n",
    "    model=model,\n",
    "    X_ref=X_test_ready,\n",
    "    y_ref=y_test, \n",
    "    threshold=0.5,\n",
    "    # y_pred=y_preds, \n",
    "    # y_pred_proba=y_preds_proba, \n",
    "    training_time=train_time, \n",
    "    # inference_time=inf_time, \n",
    "    dagslogger=dagslogger,\n",
    "    register=True,\n",
    ")"
   ]
  },
  {
   "cell_type": "markdown",
   "id": "ef57c424-74e9-4fbb-9ec5-be0a4b67e71a",
   "metadata": {},
   "source": [
    "#### Trouvons le meilleur seuil de séparation pour les prédiction (sur la base du F1 score)"
   ]
  },
  {
   "cell_type": "code",
   "execution_count": null,
   "id": "e3912be3-865d-428c-9ee8-6ab8f9f9df27",
   "metadata": {},
   "outputs": [],
   "source": [
    "acc_value, best_threshold = find_best_threshold(model, X_valid_ready, y_valid, accuracy_score)\n",
    "print(f\"The best Accuracy score ({acc_value}) for this model is reached with a threshold of {best_threshold}\")"
   ]
  },
  {
   "cell_type": "code",
   "execution_count": null,
   "id": "3e7d9a9f-ac48-44a8-a8b4-03c223d7d3bf",
   "metadata": {
    "colab": {
     "base_uri": "https://localhost:8080/",
     "height": 1000
    },
    "executionInfo": {
     "elapsed": 746,
     "status": "ok",
     "timestamp": 1653231856185,
     "user": {
      "displayName": "Valkea",
      "userId": "01476199649418572392"
     },
     "user_tz": -120
    },
    "id": "81aba764-7f22-4ad1-b0ed-bc5b13f0b75e",
    "outputId": "e3c4ed78-a90b-46e0-baa0-c28f701f4414",
    "tags": []
   },
   "outputs": [],
   "source": [
    "scores = get_scores(\n",
    "    f\"{model_name} [w. threshold]\",\n",
    "    model=model,\n",
    "    X_ref=X_test_ready,\n",
    "    y_ref=y_test, \n",
    "    threshold=best_threshold,\n",
    "    # y_pred=y_preds, \n",
    "    # y_pred_proba=y_preds_proba, \n",
    "    training_time=train_time, \n",
    "    # inference_time=inf_time, \n",
    "    dagslogger=dagslogger,\n",
    "    register=True,\n",
    "    show_roccurves=False,\n",
    ")"
   ]
  },
  {
   "cell_type": "markdown",
   "id": "185d33ba-1a98-427b-b3cc-d9d8f9f6848a",
   "metadata": {},
   "source": [
    "#### Enregistrons les scores pour DagsHub"
   ]
  },
  {
   "cell_type": "code",
   "execution_count": null,
   "id": "299e2901-6dcb-41c8-bf66-315a2dac76fc",
   "metadata": {},
   "outputs": [],
   "source": [
    "save_metrics_to_dagshub(dagslogger, scores, best_threshold, history)\n",
    "dagslogger.save() \n",
    "dagslogger.close()"
   ]
  },
  {
   "cell_type": "markdown",
   "id": "3582acc1-0ab8-4719-941f-4cab535675a4",
   "metadata": {},
   "source": [
    "### Compare"
   ]
  },
  {
   "cell_type": "code",
   "execution_count": null,
   "id": "64308362-d310-49fd-800f-a95b2b9d7fb3",
   "metadata": {
    "tags": []
   },
   "outputs": [],
   "source": [
    "from classification_utils import scores_df\n",
    "scores_df"
   ]
  },
  {
   "cell_type": "markdown",
   "id": "d29395fa-2c3d-4b1b-9efd-cb8fd37ed069",
   "metadata": {},
   "source": [
    "---\n",
    "## 2.11 `Archi-402` Bi-LSTM 64 Seq + Dropout 0.2 + Bi-LSTM 32 + Dropout 0.2 + Dense 64 + Dropout 0.1 <a class=\"anchor\" id=\"ARCHI_402\"></a> [⇪](#menu)"
   ]
  },
  {
   "cell_type": "code",
   "execution_count": null,
   "id": "c437e0cb-54f5-41a5-b4d1-b8df776240ea",
   "metadata": {
    "tags": []
   },
   "outputs": [],
   "source": [
    "# Embedding avec masque\n",
    "embedding_layer = layers.Embedding(\n",
    "    input_dim=max_tokens,\n",
    "    output_dim=embedding_dim,\n",
    "    embeddings_initializer=keras.initializers.Constant(embedding_matrix),\n",
    "    # input_length=max_length,\n",
    "    mask_zero=True,\n",
    "    trainable=False, # <== default is True\n",
    "    name=\"embedding_GloVe_Twitter_200d\",\n",
    ")"
   ]
  },
  {
   "cell_type": "code",
   "execution_count": null,
   "id": "63909fad-eee3-47fa-9d96-d18d677a5aa9",
   "metadata": {
    "tags": []
   },
   "outputs": [],
   "source": [
    "model_name = \"Archi402\"\n",
    "model, archi_desc = architecture402(\"adam\", \"binary_crossentropy\", ['accuracy'], embedding_layer)"
   ]
  },
  {
   "cell_type": "code",
   "execution_count": null,
   "id": "f68a9656-33bb-4cfc-b785-62dece98aaee",
   "metadata": {
    "tags": []
   },
   "outputs": [],
   "source": [
    "model.summary()"
   ]
  },
  {
   "cell_type": "markdown",
   "id": "60974146-4db1-41d2-9e03-0b7deff5bafb",
   "metadata": {},
   "source": [
    "#### Définissons un logger DagsHub pour enregistrer notre essai"
   ]
  },
  {
   "cell_type": "code",
   "execution_count": null,
   "id": "ca90e496-3248-430f-95c7-632bea551aba",
   "metadata": {},
   "outputs": [],
   "source": [
    "dagslogger = DAGsHubLogger()"
   ]
  },
  {
   "cell_type": "code",
   "execution_count": null,
   "id": "341ea699-4af6-46bd-8468-793cee70a42c",
   "metadata": {},
   "outputs": [],
   "source": [
    "save_hyperparameters_to_dagshub(dagslogger, model_name, archi_desc, get_layers_for_dagshub(model), batch_size, data_work.shape[0])"
   ]
  },
  {
   "cell_type": "markdown",
   "id": "bf830c48-9973-48cb-b264-1bc6c4a34900",
   "metadata": {},
   "source": [
    "### Train model"
   ]
  },
  {
   "cell_type": "code",
   "execution_count": null,
   "id": "a222feb5-6b20-4cf4-846b-d04598b012ef",
   "metadata": {
    "tags": []
   },
   "outputs": [],
   "source": [
    "t0 = time.perf_counter()\n",
    "history = model.fit(\n",
    "        x=X_train_ready, y=y_train, \n",
    "        validation_data=(X_test_ready, y_test), \n",
    "        epochs=100, \n",
    "        batch_size=batch_size, \n",
    "        callbacks=init_callbacks(f\"{model_name}\"),\n",
    "        verbose=1,\n",
    ")\n",
    "train_time = time.perf_counter() - t0"
   ]
  },
  {
   "cell_type": "code",
   "execution_count": null,
   "id": "0868aa74-2026-45eb-a878-84e3967bd465",
   "metadata": {},
   "outputs": [],
   "source": [
    "summarize_diagnostics(history)"
   ]
  },
  {
   "cell_type": "markdown",
   "id": "b701c22c-d531-4894-9fa0-49fa9aab3386",
   "metadata": {},
   "source": [
    "### Evaluate"
   ]
  },
  {
   "cell_type": "code",
   "execution_count": null,
   "id": "158eba6d-fa2f-43fc-9506-3e92f3b9a197",
   "metadata": {
    "tags": []
   },
   "outputs": [],
   "source": [
    "model = keras.models.load_model(f\"models/{model_name}.keras\")"
   ]
  },
  {
   "cell_type": "code",
   "execution_count": null,
   "id": "f344679f-1067-4e1e-9400-410fdcdfb02a",
   "metadata": {
    "tags": []
   },
   "outputs": [],
   "source": [
    "model.evaluate(X_test_ready, y_test)"
   ]
  },
  {
   "cell_type": "code",
   "execution_count": null,
   "id": "f2008401-9489-4bd3-b187-936dccb64b87",
   "metadata": {
    "tags": []
   },
   "outputs": [],
   "source": [
    "raw_txt = tf.convert_to_tensor([\"I hate it\", \"I love it\"])\n",
    "raw_txt = text_vectorizationB7(raw_txt)\n",
    "model.predict(raw_txt)"
   ]
  },
  {
   "cell_type": "code",
   "execution_count": null,
   "id": "855f9215-dd5b-420c-b0df-687d3727b37b",
   "metadata": {
    "colab": {
     "base_uri": "https://localhost:8080/",
     "height": 1000
    },
    "executionInfo": {
     "elapsed": 746,
     "status": "ok",
     "timestamp": 1653231856185,
     "user": {
      "displayName": "Valkea",
      "userId": "01476199649418572392"
     },
     "user_tz": -120
    },
    "id": "81aba764-7f22-4ad1-b0ed-bc5b13f0b75e",
    "outputId": "e3c4ed78-a90b-46e0-baa0-c28f701f4414",
    "tags": []
   },
   "outputs": [],
   "source": [
    "_ = get_scores(\n",
    "    model_name,\n",
    "    model=model,\n",
    "    X_ref=X_test_ready,\n",
    "    y_ref=y_test, \n",
    "    threshold=0.5,\n",
    "    # y_pred=y_preds, \n",
    "    # y_pred_proba=y_preds_proba, \n",
    "    training_time=train_time, \n",
    "    # inference_time=inf_time, \n",
    "    dagslogger=dagslogger,\n",
    "    register=True,\n",
    ")"
   ]
  },
  {
   "cell_type": "markdown",
   "id": "9a6102db-5f7e-4c2b-9ff6-ff9a985b324e",
   "metadata": {},
   "source": [
    "#### Trouvons le meilleur seuil de séparation pour les prédiction (sur la base du F1 score)"
   ]
  },
  {
   "cell_type": "code",
   "execution_count": null,
   "id": "2a35ba52-fa50-4ecb-88a3-5262dd2a8b3c",
   "metadata": {},
   "outputs": [],
   "source": [
    "acc_value, best_threshold = find_best_threshold(model, X_valid_ready, y_valid, accuracy_score)\n",
    "print(f\"The best Accuracy score ({acc_value}) for this model is reached with a threshold of {best_threshold}\")"
   ]
  },
  {
   "cell_type": "code",
   "execution_count": null,
   "id": "5b2c34e0-c2b4-43f4-baef-a471d013cad1",
   "metadata": {
    "colab": {
     "base_uri": "https://localhost:8080/",
     "height": 1000
    },
    "executionInfo": {
     "elapsed": 746,
     "status": "ok",
     "timestamp": 1653231856185,
     "user": {
      "displayName": "Valkea",
      "userId": "01476199649418572392"
     },
     "user_tz": -120
    },
    "id": "81aba764-7f22-4ad1-b0ed-bc5b13f0b75e",
    "outputId": "e3c4ed78-a90b-46e0-baa0-c28f701f4414",
    "tags": []
   },
   "outputs": [],
   "source": [
    "scores = get_scores(\n",
    "    f\"{model_name} [w. threshold]\",\n",
    "    model=model,\n",
    "    X_ref=X_test_ready,\n",
    "    y_ref=y_test, \n",
    "    threshold=best_threshold,\n",
    "    # y_pred=y_preds, \n",
    "    # y_pred_proba=y_preds_proba, \n",
    "    training_time=train_time, \n",
    "    # inference_time=inf_time, \n",
    "    dagslogger=dagslogger,\n",
    "    register=True,\n",
    "    show_roccurves=False,\n",
    ")"
   ]
  },
  {
   "cell_type": "markdown",
   "id": "11d514a9-7e73-40f9-95f6-c4b8708d5b05",
   "metadata": {},
   "source": [
    "#### Enregistrons les scores pour DagsHub"
   ]
  },
  {
   "cell_type": "code",
   "execution_count": null,
   "id": "4d3bc1e4-5039-492f-bcee-9bd468df7cdf",
   "metadata": {},
   "outputs": [],
   "source": [
    "save_metrics_to_dagshub(dagslogger, scores, best_threshold, history)\n",
    "dagslogger.save() \n",
    "dagslogger.close()"
   ]
  },
  {
   "cell_type": "markdown",
   "id": "ed8e63f0-2640-4fd8-97e9-72747674fb1e",
   "metadata": {},
   "source": [
    "### Compare"
   ]
  },
  {
   "cell_type": "code",
   "execution_count": null,
   "id": "20407a49-e746-4145-a0a0-0a7f8ee1ac46",
   "metadata": {
    "tags": []
   },
   "outputs": [],
   "source": [
    "from classification_utils import scores_df\n",
    "scores_df"
   ]
  },
  {
   "cell_type": "markdown",
   "id": "64869792-f648-4733-8eb8-e65061328c69",
   "metadata": {},
   "source": [
    "---\n",
    "## 2.12 `Archi-403` Dense 128 + Dropout 0.2 + Dense 64 + Dropout 0.2 + Dense 32 + Dropout 0.1 <a class=\"anchor\" id=\"ARCHI_403\"></a> [⇪](#menu)"
   ]
  },
  {
   "cell_type": "code",
   "execution_count": null,
   "id": "d0019fed-6a2b-407e-959f-6ff347e1b26b",
   "metadata": {
    "tags": []
   },
   "outputs": [],
   "source": [
    "# Embedding avec masque\n",
    "embedding_layer = layers.Embedding(\n",
    "    input_dim=max_tokens,\n",
    "    output_dim=embedding_dim,\n",
    "    embeddings_initializer=keras.initializers.Constant(embedding_matrix),\n",
    "    # input_length=max_length,\n",
    "    mask_zero=True,\n",
    "    trainable=False, # <== default is True\n",
    "    name=\"embedding_GloVe_Twitter_200d\",\n",
    ")"
   ]
  },
  {
   "cell_type": "code",
   "execution_count": null,
   "id": "71c93b28-bd98-4897-bd32-d43cc2f122c2",
   "metadata": {
    "tags": []
   },
   "outputs": [],
   "source": [
    "model_name = \"Archi403\"\n",
    "model, archi_desc = architecture403(\"adam\", \"binary_crossentropy\", ['accuracy'], embedding_layer)"
   ]
  },
  {
   "cell_type": "code",
   "execution_count": null,
   "id": "cd7666d4-e04a-4aef-b7c4-7e73896f9a6e",
   "metadata": {
    "tags": []
   },
   "outputs": [],
   "source": [
    "model.summary()"
   ]
  },
  {
   "cell_type": "markdown",
   "id": "a6ff3867-c2d9-445e-b26a-c91d0e1d5b63",
   "metadata": {},
   "source": [
    "#### Définissons un logger DagsHub pour enregistrer notre essai"
   ]
  },
  {
   "cell_type": "code",
   "execution_count": null,
   "id": "1563fde0-b51e-412f-a44b-ef5f923e2210",
   "metadata": {},
   "outputs": [],
   "source": [
    "dagslogger = DAGsHubLogger()"
   ]
  },
  {
   "cell_type": "code",
   "execution_count": null,
   "id": "fd6143de-666d-4d77-828b-2aa64ed2aa99",
   "metadata": {},
   "outputs": [],
   "source": [
    "save_hyperparameters_to_dagshub(dagslogger, model_name, archi_desc, get_layers_for_dagshub(model), batch_size, data_work.shape[0])"
   ]
  },
  {
   "cell_type": "markdown",
   "id": "9f452e19-a400-4931-8fcd-664f810a9b45",
   "metadata": {},
   "source": [
    "### Train model"
   ]
  },
  {
   "cell_type": "code",
   "execution_count": null,
   "id": "ca2bad92-3139-4aee-a4b0-2b68638fd875",
   "metadata": {
    "tags": []
   },
   "outputs": [],
   "source": [
    "t0 = time.perf_counter()\n",
    "history = model.fit(\n",
    "        x=X_train_ready, y=y_train, \n",
    "        validation_data=(X_test_ready, y_test), \n",
    "        epochs=100, \n",
    "        batch_size=batch_size, \n",
    "        callbacks=init_callbacks(f\"{model_name}\"),\n",
    "        verbose=1,\n",
    ")\n",
    "train_time = time.perf_counter() - t0"
   ]
  },
  {
   "cell_type": "code",
   "execution_count": null,
   "id": "fe40d45a-a473-49ea-8d46-86b326802db3",
   "metadata": {},
   "outputs": [],
   "source": [
    "summarize_diagnostics(history)"
   ]
  },
  {
   "cell_type": "markdown",
   "id": "6f806e68-f22a-4734-a345-6887bc901626",
   "metadata": {},
   "source": [
    "### Evaluate"
   ]
  },
  {
   "cell_type": "code",
   "execution_count": null,
   "id": "2c216bd1-b65d-4976-86a5-462570f80da0",
   "metadata": {
    "tags": []
   },
   "outputs": [],
   "source": [
    "model = keras.models.load_model(f\"models/{model_name}.keras\")"
   ]
  },
  {
   "cell_type": "code",
   "execution_count": null,
   "id": "a99e821c-ee25-46e3-8102-3d476da2ca55",
   "metadata": {
    "tags": []
   },
   "outputs": [],
   "source": [
    "model.evaluate(X_test_ready, y_test)"
   ]
  },
  {
   "cell_type": "code",
   "execution_count": null,
   "id": "95de87fb-38e8-4d71-a961-c3b63641a8ee",
   "metadata": {
    "tags": []
   },
   "outputs": [],
   "source": [
    "raw_txt = tf.convert_to_tensor([\"I hate it\", \"I love it\"])\n",
    "raw_txt = text_vectorizationB7(raw_txt)\n",
    "model.predict(raw_txt)"
   ]
  },
  {
   "cell_type": "code",
   "execution_count": null,
   "id": "68dd5d9c-17aa-447f-9eee-065840dbaa8d",
   "metadata": {
    "colab": {
     "base_uri": "https://localhost:8080/",
     "height": 1000
    },
    "executionInfo": {
     "elapsed": 746,
     "status": "ok",
     "timestamp": 1653231856185,
     "user": {
      "displayName": "Valkea",
      "userId": "01476199649418572392"
     },
     "user_tz": -120
    },
    "id": "81aba764-7f22-4ad1-b0ed-bc5b13f0b75e",
    "outputId": "e3c4ed78-a90b-46e0-baa0-c28f701f4414",
    "tags": []
   },
   "outputs": [],
   "source": [
    "_ = get_scores(\n",
    "    model_name,\n",
    "    model=model,\n",
    "    X_ref=X_test_ready,\n",
    "    y_ref=y_test, \n",
    "    threshold=0.5,\n",
    "    # y_pred=y_preds, \n",
    "    # y_pred_proba=y_preds_proba, \n",
    "    training_time=train_time, \n",
    "    # inference_time=inf_time, \n",
    "    dagslogger=dagslogger,\n",
    "    register=True,\n",
    ")"
   ]
  },
  {
   "cell_type": "markdown",
   "id": "8e5982be-8a22-453a-bf8f-8f347c7785b3",
   "metadata": {},
   "source": [
    "#### Trouvons le meilleur seuil de séparation pour les prédiction (sur la base du F1 score)"
   ]
  },
  {
   "cell_type": "code",
   "execution_count": null,
   "id": "97c65619-620b-4bb8-bd4e-d6866400ecba",
   "metadata": {},
   "outputs": [],
   "source": [
    "acc_value, best_threshold = find_best_threshold(model, X_valid_ready, y_valid, accuracy_score)\n",
    "print(f\"The best Accuracy score ({acc_value}) for this model is reached with a threshold of {best_threshold}\")"
   ]
  },
  {
   "cell_type": "code",
   "execution_count": null,
   "id": "4101486e-9b3d-491a-a557-5f2c779491a9",
   "metadata": {
    "colab": {
     "base_uri": "https://localhost:8080/",
     "height": 1000
    },
    "executionInfo": {
     "elapsed": 746,
     "status": "ok",
     "timestamp": 1653231856185,
     "user": {
      "displayName": "Valkea",
      "userId": "01476199649418572392"
     },
     "user_tz": -120
    },
    "id": "81aba764-7f22-4ad1-b0ed-bc5b13f0b75e",
    "outputId": "e3c4ed78-a90b-46e0-baa0-c28f701f4414",
    "tags": []
   },
   "outputs": [],
   "source": [
    "scores = get_scores(\n",
    "    f\"{model_name} [w. threshold]\",\n",
    "    model=model,\n",
    "    X_ref=X_test_ready,\n",
    "    y_ref=y_test, \n",
    "    threshold=best_threshold,\n",
    "    # y_pred=y_preds, \n",
    "    # y_pred_proba=y_preds_proba, \n",
    "    training_time=train_time, \n",
    "    # inference_time=inf_time, \n",
    "    dagslogger=dagslogger,\n",
    "    register=True,\n",
    "    show_roccurves=False,\n",
    ")"
   ]
  },
  {
   "cell_type": "markdown",
   "id": "b7f0e0b4-0d2f-46bb-bca5-ac286cc4127e",
   "metadata": {},
   "source": [
    "#### Enregistrons les scores pour DagsHub"
   ]
  },
  {
   "cell_type": "code",
   "execution_count": null,
   "id": "215ed2f5-6cc6-4292-8dc8-0d6885ea5a6c",
   "metadata": {},
   "outputs": [],
   "source": [
    "save_metrics_to_dagshub(dagslogger, scores, best_threshold, history)\n",
    "dagslogger.save() \n",
    "dagslogger.close()"
   ]
  },
  {
   "cell_type": "markdown",
   "id": "5353176a-9ec0-4311-983c-3894add12c40",
   "metadata": {},
   "source": [
    "### Compare"
   ]
  },
  {
   "cell_type": "code",
   "execution_count": null,
   "id": "557058cd-782c-47ba-969d-0ce253d82fe7",
   "metadata": {
    "tags": []
   },
   "outputs": [],
   "source": [
    "from classification_utils import scores_df\n",
    "scores_df"
   ]
  },
  {
   "cell_type": "markdown",
   "id": "f44039be-2171-45ff-9c45-e1396201495c",
   "metadata": {},
   "source": [
    "---\n",
    "## 2.13 Comparaison des `scores` avec les différentes architectures <a class=\"anchor\" id=\"ARCHI_scores\"></a> [⇪](#menu)"
   ]
  },
  {
   "cell_type": "code",
   "execution_count": null,
   "id": "8649818d-ecf9-45aa-888a-855ed17107be",
   "metadata": {
    "tags": []
   },
   "outputs": [],
   "source": [
    "from classification_utils import scores_df"
   ]
  },
  {
   "cell_type": "code",
   "execution_count": null,
   "id": "8f55a107-e91c-4fad-966f-12ec7f43c791",
   "metadata": {},
   "outputs": [],
   "source": [
    "scores_df.sort_values(['ROC AUC'], ascending=False)"
   ]
  },
  {
   "cell_type": "code",
   "execution_count": null,
   "id": "ab614b41-2957-4869-a6be-28058848e910",
   "metadata": {},
   "outputs": [],
   "source": [
    "scores_df.sort_values(['Accuracy'], ascending=False)"
   ]
  },
  {
   "cell_type": "code",
   "execution_count": null,
   "id": "6002c0e5-d2bc-47b1-a00b-463cf107d10c",
   "metadata": {},
   "outputs": [],
   "source": []
  },
  {
   "cell_type": "code",
   "execution_count": null,
   "id": "54218126-ef9a-4a3c-8066-d77678c2c2cd",
   "metadata": {},
   "outputs": [],
   "source": [
    "import FreeMobileSMS as sms\n",
    "sms.send(stop=False)"
   ]
  },
  {
   "cell_type": "code",
   "execution_count": null,
   "id": "74ca275f-1a69-4bd1-98b0-cdd607ad10e1",
   "metadata": {},
   "outputs": [],
   "source": []
  },
  {
   "cell_type": "code",
   "execution_count": null,
   "id": "8e31504c-a449-4f11-bcf4-b07ebfb61181",
   "metadata": {},
   "outputs": [],
   "source": []
  }
 ],
 "metadata": {
  "kernelspec": {
   "display_name": "venvP7",
   "language": "python",
   "name": "venvp7"
  },
  "language_info": {
   "codemirror_mode": {
    "name": "ipython",
    "version": 3
   },
   "file_extension": ".py",
   "mimetype": "text/x-python",
   "name": "python",
   "nbconvert_exporter": "python",
   "pygments_lexer": "ipython3",
   "version": "3.8.10"
  },
  "toc-autonumbering": true,
  "toc-showcode": false,
  "toc-showmarkdowntxt": false,
  "toc-showtags": false
 },
 "nbformat": 4,
 "nbformat_minor": 5
}
