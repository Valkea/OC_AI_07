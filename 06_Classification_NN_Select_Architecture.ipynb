{
 "cells": [
  {
   "cell_type": "markdown",
   "id": "95372c35-c1d6-499f-9c7a-29f87fb38b6a",
   "metadata": {
    "tags": []
   },
   "source": [
    "# Tests de TextTokenizarion puis d'Embedding"
   ]
  },
  {
   "cell_type": "code",
   "execution_count": 1,
   "id": "507bb850-f975-4a46-80d9-c9d0629d6b87",
   "metadata": {
    "tags": []
   },
   "outputs": [
    {
     "name": "stderr",
     "output_type": "stream",
     "text": [
      "2022-08-07 21:24:47.635119: W tensorflow/stream_executor/platform/default/dso_loader.cc:64] Could not load dynamic library 'libcudart.so.11.0'; dlerror: libcudart.so.11.0: cannot open shared object file: No such file or directory\n",
      "2022-08-07 21:24:47.635153: I tensorflow/stream_executor/cuda/cudart_stub.cc:29] Ignore above cudart dlerror if you do not have a GPU set up on your machine.\n"
     ]
    }
   ],
   "source": [
    "import time\n",
    "import pathlib\n",
    "import gzip\n",
    "\n",
    "import matplotlib.pyplot as plt\n",
    "import pandas as pd\n",
    "import numpy as np\n",
    "import tensorflow as tf\n",
    "from tensorflow import keras\n",
    "from keras import layers\n",
    "from sklearn.model_selection import train_test_split\n",
    "from sklearn.metrics import accuracy_score\n",
    "from dagshub import dagshub_logger, DAGsHubLogger\n",
    "\n",
    "try:\n",
    "    from tensorflow.keras.layers import TextVectorization\n",
    "except ImportError:\n",
    "    from tensorflow.keras.layers.experimental.preprocessing import TextVectorization\n",
    "\n",
    "# set random seed for reproductibility\n",
    "random_seed = 0\n",
    "np.random.seed(random_seed)\n",
    "\n",
    "try:\n",
    "    keras.utils.set_random_seed(random_seed)\n",
    "except Exception:\n",
    "    tf.random.set_seed(random_seed)"
   ]
  },
  {
   "cell_type": "code",
   "execution_count": 2,
   "id": "f8333fab-1373-4311-80dc-4511dd5df25f",
   "metadata": {
    "tags": []
   },
   "outputs": [
    {
     "name": "stdout",
     "output_type": "stream",
     "text": [
      "Num GPUs Available:  0\n"
     ]
    },
    {
     "name": "stderr",
     "output_type": "stream",
     "text": [
      "2022-08-07 21:24:49.649851: W tensorflow/stream_executor/platform/default/dso_loader.cc:64] Could not load dynamic library 'libcuda.so.1'; dlerror: libcuda.so.1: cannot open shared object file: No such file or directory\n",
      "2022-08-07 21:24:49.649874: W tensorflow/stream_executor/cuda/cuda_driver.cc:269] failed call to cuInit: UNKNOWN ERROR (303)\n",
      "2022-08-07 21:24:49.649895: I tensorflow/stream_executor/cuda/cuda_diagnostics.cc:156] kernel driver does not appear to be running on this host (valkea-XPS): /proc/driver/nvidia/version does not exist\n"
     ]
    }
   ],
   "source": [
    "print(\"Num GPUs Available: \", len(tf.config.list_physical_devices('GPU')))"
   ]
  },
  {
   "cell_type": "markdown",
   "id": "dad68b70-d9c4-40f2-a860-702be77c95ec",
   "metadata": {},
   "source": [
    "### Chargeons quelques fonctions *maison* pour entrainer et évaluer les modèles, et initialisons un fichier pour enregistrer les scores\n",
    "Ces fonctions ont été déportées dans le fichier classification_utils.py pour allèger le notebook"
   ]
  },
  {
   "cell_type": "code",
   "execution_count": 3,
   "id": "0bc686b4-d5ec-40af-9d6d-3fdd0b518ed9",
   "metadata": {},
   "outputs": [],
   "source": [
    "# Load classification helpers' functions & initialize a file to log the models' scores\n",
    "from classification_utils import fit_model, get_scores, init_scores, find_best_threshold\n",
    "init_scores(\"data/scores_NN_SelectArchitecture.csv\")"
   ]
  },
  {
   "cell_type": "markdown",
   "id": "9a83e16a-e22c-4494-972e-20884fa549e3",
   "metadata": {},
   "source": [
    "### Chargeons le jeu de données et préparons un `échantillon de travail` représentatif"
   ]
  },
  {
   "cell_type": "code",
   "execution_count": 4,
   "id": "ddcbcb93-38d4-4eb1-a0ad-58ae67f6a4c8",
   "metadata": {
    "tags": []
   },
   "outputs": [
    {
     "data": {
      "text/html": [
       "<div>\n",
       "<style scoped>\n",
       "    .dataframe tbody tr th:only-of-type {\n",
       "        vertical-align: middle;\n",
       "    }\n",
       "\n",
       "    .dataframe tbody tr th {\n",
       "        vertical-align: top;\n",
       "    }\n",
       "\n",
       "    .dataframe thead th {\n",
       "        text-align: right;\n",
       "    }\n",
       "</style>\n",
       "<table border=\"1\" class=\"dataframe\">\n",
       "  <thead>\n",
       "    <tr style=\"text-align: right;\">\n",
       "      <th></th>\n",
       "      <th>target</th>\n",
       "      <th>text</th>\n",
       "    </tr>\n",
       "  </thead>\n",
       "  <tbody>\n",
       "    <tr>\n",
       "      <th>0</th>\n",
       "      <td>0</td>\n",
       "      <td>$ url$ - awww , that be a bummer . you shoulda...</td>\n",
       "    </tr>\n",
       "    <tr>\n",
       "      <th>1</th>\n",
       "      <td>0</td>\n",
       "      <td>be upset that he can not update his facebook b...</td>\n",
       "    </tr>\n",
       "    <tr>\n",
       "      <th>2</th>\n",
       "      <td>0</td>\n",
       "      <td>I dive many time for the ball . manage to save...</td>\n",
       "    </tr>\n",
       "    <tr>\n",
       "      <th>3</th>\n",
       "      <td>0</td>\n",
       "      <td>my whole body feel itchy and like its on fire</td>\n",
       "    </tr>\n",
       "    <tr>\n",
       "      <th>4</th>\n",
       "      <td>0</td>\n",
       "      <td>no , it be not behave at all . I be mad . why ...</td>\n",
       "    </tr>\n",
       "  </tbody>\n",
       "</table>\n",
       "</div>"
      ],
      "text/plain": [
       "   target                                               text\n",
       "0       0  $ url$ - awww , that be a bummer . you shoulda...\n",
       "1       0  be upset that he can not update his facebook b...\n",
       "2       0  I dive many time for the ball . manage to save...\n",
       "3       0      my whole body feel itchy and like its on fire\n",
       "4       0  no , it be not behave at all . I be mad . why ..."
      ]
     },
     "metadata": {},
     "output_type": "display_data"
    },
    {
     "data": {
      "text/plain": [
       "(1452791, 2)"
      ]
     },
     "metadata": {},
     "output_type": "display_data"
    },
    {
     "data": {
      "text/html": [
       "<div>\n",
       "<style scoped>\n",
       "    .dataframe tbody tr th:only-of-type {\n",
       "        vertical-align: middle;\n",
       "    }\n",
       "\n",
       "    .dataframe tbody tr th {\n",
       "        vertical-align: top;\n",
       "    }\n",
       "\n",
       "    .dataframe thead th {\n",
       "        text-align: right;\n",
       "    }\n",
       "</style>\n",
       "<table border=\"1\" class=\"dataframe\">\n",
       "  <thead>\n",
       "    <tr style=\"text-align: right;\">\n",
       "      <th></th>\n",
       "      <th>target</th>\n",
       "      <th>text</th>\n",
       "    </tr>\n",
       "  </thead>\n",
       "  <tbody>\n",
       "    <tr>\n",
       "      <th>469259</th>\n",
       "      <td>0</td>\n",
       "      <td>I do not have a background for my twitter stre...</td>\n",
       "    </tr>\n",
       "    <tr>\n",
       "      <th>152271</th>\n",
       "      <td>0</td>\n",
       "      <td>I do many thing but miss tweet</td>\n",
       "    </tr>\n",
       "    <tr>\n",
       "      <th>597612</th>\n",
       "      <td>0</td>\n",
       "      <td>most probably - eww all that pasty white skin ...</td>\n",
       "    </tr>\n",
       "    <tr>\n",
       "      <th>708306</th>\n",
       "      <td>0</td>\n",
       "      <td>ohh , how bad I sleep</td>\n",
       "    </tr>\n",
       "    <tr>\n",
       "      <th>59100</th>\n",
       "      <td>0</td>\n",
       "      <td>hell yeah u be texte I I remember , I be at my...</td>\n",
       "    </tr>\n",
       "  </tbody>\n",
       "</table>\n",
       "</div>"
      ],
      "text/plain": [
       "        target                                               text\n",
       "469259       0  I do not have a background for my twitter stre...\n",
       "152271       0                     I do many thing but miss tweet\n",
       "597612       0  most probably - eww all that pasty white skin ...\n",
       "708306       0                              ohh , how bad I sleep\n",
       "59100        0  hell yeah u be texte I I remember , I be at my..."
      ]
     },
     "metadata": {},
     "output_type": "display_data"
    },
    {
     "data": {
      "text/plain": [
       "(100000, 2)"
      ]
     },
     "metadata": {},
     "output_type": "display_data"
    }
   ],
   "source": [
    "data_work = pd.read_csv(\n",
    "    pathlib.Path(pathlib.Path().absolute(), 'data', 'data_nlp_1563108.csv'), \n",
    "    usecols=['target', 'lemmas_not_filtered'],\n",
    "    encoding='ISO-8859-1',\n",
    "    #nrows=100000,\n",
    ")\n",
    "data_work.rename(columns={'lemmas_not_filtered':'text'}, inplace=True)\n",
    "display(data_work.head(), data_work.shape)\n",
    "\n",
    "# Select samples\n",
    "sample_size = 100000\n",
    "data_work = data_work.groupby('target', group_keys=False).apply(lambda x: x.sample(sample_size//2, random_state=random_seed))\n",
    "display(data_work.head(), data_work.shape)"
   ]
  },
  {
   "cell_type": "code",
   "execution_count": 5,
   "id": "a286ea0c-1cbd-454b-8a54-8962f03834f8",
   "metadata": {
    "tags": []
   },
   "outputs": [
    {
     "data": {
      "text/plain": [
       "0    50000\n",
       "1    50000\n",
       "Name: target, dtype: int64"
      ]
     },
     "execution_count": 5,
     "metadata": {},
     "output_type": "execute_result"
    }
   ],
   "source": [
    "data_work.target.value_counts(dropna=False)"
   ]
  },
  {
   "cell_type": "markdown",
   "id": "ee9945b4-428e-4ea0-a83b-96b9bd8535b9",
   "metadata": {},
   "source": [
    "### Définissons les différentes `architectures RNN` que nous aimerions comparer"
   ]
  },
  {
   "cell_type": "markdown",
   "id": "27887ce5-3e27-408f-8b61-e7925fba731c",
   "metadata": {},
   "source": [
    "#### L'architecture utilisée sur les précèdents notebooks"
   ]
  },
  {
   "cell_type": "code",
   "execution_count": 6,
   "id": "2171a4ad-99ea-41e9-a698-5e37471af1d8",
   "metadata": {
    "tags": []
   },
   "outputs": [],
   "source": [
    "# P.336 livre \"Deep Learning with Python 2nd edition\"\n",
    "def architecture000(f_opti, f_loss, f_metrics, embedding): # !!!!!!\n",
    "        \n",
    "    inputs = keras.Input(shape=(None,), dtype=\"int64\")\n",
    "    \n",
    "    x = embedding(inputs)\n",
    "    x = layers.Bidirectional(layers.LSTM(32))(x) # 64\n",
    "    x = layers.Dropout(0.5)(x)\n",
    "    \n",
    "    predictions = layers.Dense(1, activation='sigmoid', name='predictions')(x)\n",
    "    \n",
    "    model = keras.Model(inputs, predictions)\n",
    "    model.compile(loss=f_loss, optimizer=f_opti, metrics=f_metrics)\n",
    "    \n",
    "    return model"
   ]
  },
  {
   "cell_type": "markdown",
   "id": "850413e6-a0d8-490f-be10-47fca2118d3a",
   "metadata": {},
   "source": [
    "#### Simple RNN / LSTM / GRU"
   ]
  },
  {
   "cell_type": "code",
   "execution_count": 7,
   "id": "13889788-14ef-4b49-9730-b8cf6db7e59f",
   "metadata": {
    "tags": []
   },
   "outputs": [],
   "source": [
    "# Simple RNN\n",
    "def architecture100(f_opti, f_loss, f_metrics, embedding):\n",
    "        \n",
    "    inputs = keras.Input(shape=(None,), dtype=\"int64\")\n",
    "    \n",
    "    x = embedding(inputs)\n",
    "    x = layers.SimpleRNN(32)(x)\n",
    "    #x = layers.Dense(24, activation='relu')(x)\n",
    "    x = layers.Dropout(0.5)(x)\n",
    "    \n",
    "    predictions = layers.Dense(1, activation='sigmoid', name='predictions')(x)\n",
    "    \n",
    "    model = keras.Model(inputs, predictions)\n",
    "    model.compile(loss=f_loss, optimizer=f_opti, metrics=f_metrics)\n",
    "    \n",
    "    return model"
   ]
  },
  {
   "cell_type": "code",
   "execution_count": 8,
   "id": "48494aee-5f5c-4f4c-bcda-d03227bfe2b3",
   "metadata": {
    "tags": []
   },
   "outputs": [],
   "source": [
    "# LSTM 32\n",
    "def architecture200(f_opti, f_loss, f_metrics, embedding):\n",
    "        \n",
    "    inputs = keras.Input(shape=(None,), dtype=\"int64\")\n",
    "    \n",
    "    x = embedding(inputs)\n",
    "    x = layers.CuDNNLSTM(32)(x)\n",
    "    #x = layers.Dense(24, activation='relu')(x)\n",
    "    x = layers.Dropout(0.5)(x)\n",
    "    \n",
    "    predictions = layers.Dense(1, activation='sigmoid', name='predictions')(x)\n",
    "    \n",
    "    model = keras.Model(inputs, predictions)\n",
    "    model.compile(loss=f_loss, optimizer=f_opti, metrics=f_metrics)\n",
    "    \n",
    "    return model"
   ]
  },
  {
   "cell_type": "code",
   "execution_count": 9,
   "id": "e577107f-094b-4442-ac52-d1722e14d0ea",
   "metadata": {
    "tags": []
   },
   "outputs": [],
   "source": [
    "# GRU 32\n",
    "def architecture300(f_opti, f_loss, f_metrics, embedding):\n",
    "        \n",
    "    inputs = keras.Input(shape=(None,), dtype=\"int64\")\n",
    "    \n",
    "    x = embedding(inputs)\n",
    "    x = layers.CuDNNGRU(32)(x)\n",
    "    #x = layers.Dense(24, activation='relu')(x)\n",
    "    x = layers.Dropout(0.5)(x)\n",
    "    \n",
    "    predictions = layers.Dense(1, activation='sigmoid', name='predictions')(x)\n",
    "    \n",
    "    model = keras.Model(inputs, predictions)\n",
    "    model.compile(loss=f_loss, optimizer=f_opti, metrics=f_metrics)\n",
    "    \n",
    "    return model"
   ]
  },
  {
   "cell_type": "markdown",
   "id": "d8d4881b-a583-4987-addf-44357a13fca4",
   "metadata": {},
   "source": [
    "#### Birectional RNN / LSTM / GRU"
   ]
  },
  {
   "cell_type": "code",
   "execution_count": 10,
   "id": "30b4cf8a-8cee-4efd-819c-2351f3b2b81b",
   "metadata": {
    "tags": []
   },
   "outputs": [],
   "source": [
    "def architecture201(f_opti, f_loss, f_metrics, embedding):\n",
    "        \n",
    "    inputs = keras.Input(shape=(None,), dtype=\"int64\")\n",
    "    \n",
    "    x = embedding(inputs)\n",
    "    x = layers.Bidirectional(layers.LSTM(64))(x)\n",
    "    #x = layers.Dense(24, activation='relu')(x)\n",
    "    x = layers.Dropout(0.5)(x)\n",
    "    \n",
    "    predictions = layers.Dense(1, activation='sigmoid', name='predictions')(x)\n",
    "    \n",
    "    model = keras.Model(inputs, predictions)\n",
    "    model.compile(loss=f_loss, optimizer=f_opti, metrics=f_metrics)\n",
    "    \n",
    "    return model"
   ]
  },
  {
   "cell_type": "code",
   "execution_count": 11,
   "id": "317f83d4-9064-4737-a148-fe16e0e72b67",
   "metadata": {
    "tags": []
   },
   "outputs": [],
   "source": [
    "def architecture202(f_opti, f_loss, f_metrics, embedding):\n",
    "        \n",
    "    inputs = keras.Input(shape=(None,), dtype=\"int64\")\n",
    "    \n",
    "    x = embedding(inputs)\n",
    "    x = layers.Bidirectional(layers.LSTM(64))(x)\n",
    "    x = layers.Dense(24, activation='relu')(x)\n",
    "    # x = layers.Dropout(0.5)(x)\n",
    "    \n",
    "    predictions = layers.Dense(1, activation='sigmoid', name='predictions')(x)\n",
    "    \n",
    "    model = keras.Model(inputs, predictions)\n",
    "    model.compile(loss=f_loss, optimizer=f_opti, metrics=f_metrics)\n",
    "    \n",
    "    return model"
   ]
  },
  {
   "cell_type": "code",
   "execution_count": 12,
   "id": "50df711c-be03-4f79-8845-f2ab5448a172",
   "metadata": {
    "tags": []
   },
   "outputs": [],
   "source": [
    "def architecture301(f_opti, f_loss, f_metrics, embedding):\n",
    "        \n",
    "    inputs = keras.Input(shape=(None,), dtype=\"int64\")\n",
    "    \n",
    "    x = embedding(inputs)\n",
    "    x = layers.Bidirectional(layers.GRU(64))(x)\n",
    "    #x = layers.Dense(24, activation='relu')(x)\n",
    "    x = layers.Dropout(0.5)(x)\n",
    "    \n",
    "    predictions = layers.Dense(1, activation='sigmoid', name='predictions')(x)\n",
    "    \n",
    "    model = keras.Model(inputs, predictions)\n",
    "    model.compile(loss=f_loss, optimizer=f_opti, metrics=f_metrics)\n",
    "    \n",
    "    return model"
   ]
  },
  {
   "cell_type": "code",
   "execution_count": 13,
   "id": "213b6633-ee8f-41cf-b72b-a592435a4dbc",
   "metadata": {
    "tags": []
   },
   "outputs": [],
   "source": [
    "def architecture302(f_opti, f_loss, f_metrics, embedding):\n",
    "        \n",
    "    inputs = keras.Input(shape=(None,), dtype=\"int64\")\n",
    "    \n",
    "    x = embedding(inputs)\n",
    "    x = layers.Bidirectional(layers.GRU(64))(x)\n",
    "    x = layers.Dense(24, activation='relu')(x)\n",
    "    # x = layers.Dropout(0.5)(x)\n",
    "    \n",
    "    predictions = layers.Dense(1, activation='sigmoid', name='predictions')(x)\n",
    "    \n",
    "    model = keras.Model(inputs, predictions)\n",
    "    model.compile(loss=f_loss, optimizer=f_opti, metrics=f_metrics)\n",
    "    \n",
    "    return model"
   ]
  },
  {
   "cell_type": "markdown",
   "id": "8622f815-e969-45b3-ad8d-0ec5b0e8a6e7",
   "metadata": {},
   "source": [
    "#### Quelques architectures trouvées dans mes lectures"
   ]
  },
  {
   "cell_type": "code",
   "execution_count": 14,
   "id": "cd11fdd1-5e05-4cc8-a1bd-12daa5e0b821",
   "metadata": {
    "tags": []
   },
   "outputs": [],
   "source": [
    "# https://www.embedded-robotics.com/sentiment-analysis-using-lstm/\n",
    "def architecture401(f_opti, f_loss, f_metrics, embedding):\n",
    "        \n",
    "    inputs = keras.Input(shape=(None,), dtype=\"int64\")\n",
    "    \n",
    "    x = embedding(inputs)\n",
    "    x = layers.Bidirectional(layers.LSTM(32))(x)\n",
    "    x = layers.Dense(10, activation='relu')(x)\n",
    "    \n",
    "    predictions = layers.Dense(1, activation='sigmoid', name='predictions')(x)\n",
    "    \n",
    "    model = keras.Model(inputs, predictions)\n",
    "    model.compile(loss=f_loss, optimizer=f_opti, metrics=f_metrics)\n",
    "    \n",
    "    return model"
   ]
  },
  {
   "cell_type": "code",
   "execution_count": 15,
   "id": "53e5071a-2ac8-4bab-93dd-756deac4c872",
   "metadata": {
    "tags": []
   },
   "outputs": [],
   "source": [
    "# https://www.analyticsvidhya.com/blog/2022/01/sentiment-analysis-with-lstm/\n",
    "def architecture402(f_opti, f_loss, f_metrics, embedding):\n",
    "        \n",
    "    inputs = keras.Input(shape=(None,), dtype=\"int64\")\n",
    "    \n",
    "    x = embedding(inputs)\n",
    "    x = layers.Bidirectional(layers.LSTM(64))(x)\n",
    "    x = layers.Dense(24, activation='relu')(x)\n",
    "    \n",
    "    predictions = layers.Dense(1, activation='sigmoid', name='predictions')(x)\n",
    "    \n",
    "    model = keras.Model(inputs, predictions)\n",
    "    model.compile(loss=f_loss, optimizer=f_opti, metrics=f_metrics)\n",
    "    \n",
    "    return model"
   ]
  },
  {
   "cell_type": "code",
   "execution_count": 16,
   "id": "06de5243-3ede-4c4f-b345-749dc5332427",
   "metadata": {
    "tags": []
   },
   "outputs": [],
   "source": [
    "# https://www.analyticsvidhya.com/blog/2021/08/sentiment-analysis-using-bidirectional-stacked-lstm/\n",
    "def architecture403(f_opti, f_loss, f_metrics, embedding):\n",
    "        \n",
    "    inputs = keras.Input(shape=(None,), dtype=\"int64\")\n",
    "    \n",
    "    x = embedding(inputs)\n",
    "    x = layers.Bidirectional(layers.LSTM(64, return_sequences=True, input_shape=(None, 1)))(x)\n",
    "    x = layers.Dropout(0.2)\n",
    "    x = layers.Bidirectional(layers.LSTM(32))(x)\n",
    "    x = layers.Dropout(0.2)\n",
    "    x = layers.Dense(64, activation='relu')(x)\n",
    "    x = layers.Dropout(0.1)\n",
    "    \n",
    "    predictions = layers.Dense(1, activation='sigmoid', name='predictions')(x)\n",
    "    \n",
    "    model = keras.Model(inputs, predictions)\n",
    "    model.compile(loss=f_loss, optimizer=f_opti, metrics=f_metrics)\n",
    "    \n",
    "    return model"
   ]
  },
  {
   "cell_type": "markdown",
   "id": "0238bf65-451a-488f-9b8d-d2c6b34aa4f4",
   "metadata": {},
   "source": [
    "### Définissons les fonctions utiles à l'`embedding`"
   ]
  },
  {
   "cell_type": "code",
   "execution_count": 17,
   "id": "70a999f7",
   "metadata": {
    "tags": []
   },
   "outputs": [],
   "source": [
    "## EMBEDDING ##\n",
    "\n",
    "from gensim.models import KeyedVectors\n",
    "import gensim.downloader as api\n",
    "\n",
    "def load_gensim_embedding(embedding_name, binary=False):\n",
    "    \n",
    "    embedding_path = pathlib.Path(pathlib.Path().absolute(), 'data', 'embedding_models', f'{embedding_name}.gz')\n",
    "    try:\n",
    "        if embedding_path.is_file():\n",
    "            print(f\"Loading from {embedding_path}\")\n",
    "            embedding_model = KeyedVectors.load_word2vec_format(embedding_path, binary=binary)\n",
    "        else:\n",
    "            print(\"Loading from the Git repos with API\")\n",
    "            embedding_model = api.load(embedding_name)\n",
    "            \n",
    "        return embedding_model\n",
    "    except Exception as e:\n",
    "        print(f\"The provided embedding model couldn't be loaded correctly: {e}\")\n",
    "        \n",
    "def convert_embedding_matrix(vocabulary, embeddings_index, max_tokens, embedding_dim=100):\n",
    "    \n",
    "    hits = 0\n",
    "    misses = 0\n",
    "    misses_list = []\n",
    "    \n",
    "    word_index = dict(zip(vocabulary, range(len(vocabulary))))\n",
    "    \n",
    "    embedding_matrix = np.zeros((max_tokens, embedding_dim))\n",
    "    \n",
    "    for word, i in word_index.items():\n",
    "        if i < max_tokens:\n",
    "            try:\n",
    "                embedding_vector = embeddings_index.get_vector(word)\n",
    "            except AttributeError:\n",
    "                embedding_vector = embeddings_index.get(word)\n",
    "            except KeyError:\n",
    "                embedding_vector = None\n",
    "        if embedding_vector is not None:\n",
    "            hits += 1\n",
    "            embedding_matrix[i] = embedding_vector\n",
    "        else:\n",
    "            misses += 1\n",
    "            misses_list.append(word)\n",
    "            \n",
    "    print(f\"Converted {hits} words, and couldn't find {misses} words\")\n",
    "    print(f\"Missing words: {misses_list}\")\n",
    "            \n",
    "    return embedding_matrix"
   ]
  },
  {
   "cell_type": "markdown",
   "id": "fe476b92-501a-4c20-bc6b-cd8e16e1a54a",
   "metadata": {},
   "source": [
    "### Définissons les `fonctions et paramètres commun` à l'entrainement des différents modèles que l'on veut tester"
   ]
  },
  {
   "cell_type": "code",
   "execution_count": 18,
   "id": "1223fbe9-8e24-48ed-8b64-0ce908f9eb0c",
   "metadata": {
    "tags": []
   },
   "outputs": [],
   "source": [
    "from keras import layers\n",
    "from keras.callbacks import EarlyStopping, ModelCheckpoint, Callback, ReduceLROnPlateau\n",
    "\n",
    "def init_callbacks(model_name):\n",
    "\n",
    "    # Define savepoints\n",
    "    filepath = pathlib.Path(\"models\", f\"{model_name}.keras\")\n",
    "\n",
    "    checkpoint = ModelCheckpoint(\n",
    "        monitor=\"val_accuracy\",\n",
    "        mode=\"max\",\n",
    "        filepath=filepath,\n",
    "        save_best_only=True,\n",
    "        verbose=1,\n",
    "    )\n",
    "\n",
    "    # Define EarlyStopping conditions\n",
    "    es = EarlyStopping(\n",
    "        monitor='val_loss', # 'binary_accuracy'\n",
    "        mode='min', # 'max'\n",
    "        patience=5,\n",
    "        min_delta=0.01, \n",
    "        restore_best_weights=True, \n",
    "        verbose=1,\n",
    "    )\n",
    "    \n",
    "    return [checkpoint, es]"
   ]
  },
  {
   "cell_type": "code",
   "execution_count": 19,
   "id": "ec24ce1a-892d-4a4b-8665-f94c1644a58d",
   "metadata": {
    "tags": []
   },
   "outputs": [],
   "source": [
    "batch_size=1024"
   ]
  },
  {
   "cell_type": "markdown",
   "id": "f0781d8d-18b6-48d6-b8e1-78b477a6a950",
   "metadata": {},
   "source": [
    "### Divisons le jeu de données en `Train` et `Test` sets"
   ]
  },
  {
   "cell_type": "code",
   "execution_count": 20,
   "id": "b82c0e76-ce59-4288-b1c5-93415a997b72",
   "metadata": {
    "tags": []
   },
   "outputs": [
    {
     "name": "stdout",
     "output_type": "stream",
     "text": [
      "X_train: (60000,) + X_valid: (20000,) + X_test: (20000,)\n",
      "y_train: (60000,) + y_valid: (20000,) + y_test: (20000,)\n"
     ]
    }
   ],
   "source": [
    "X_train_full, X_test, y_train_full, y_test = train_test_split(data_work['text'], data_work['target'], test_size=0.2, random_state=random_seed, stratify=data_work['target'])\n",
    "X_train, X_valid, y_train, y_valid = train_test_split(X_train_full, y_train_full, test_size=X_test.shape[0], random_state=random_seed, stratify=y_train_full)\n",
    "\n",
    "assert X_train.shape[0] + X_valid.shape[0] + X_test.shape[0] == data_work.shape[0]\n",
    "assert y_train.shape[0] + y_valid.shape[0] + y_test.shape[0] == data_work.shape[0]\n",
    "\n",
    "print(f\"X_train: {X_train.shape} + X_valid: {X_valid.shape} + X_test: {X_test.shape}\")\n",
    "print(f\"y_train: {X_train.shape} + y_valid: {X_valid.shape} + y_test: {X_test.shape}\")"
   ]
  },
  {
   "cell_type": "markdown",
   "id": "7605df82-81f6-49bc-96cf-6e1f640c5eec",
   "metadata": {
    "tags": []
   },
   "source": [
    "## RNN | Ngram=1 | int | GloveTwitter200-gensim Embedding + MASK + NOT Trainable"
   ]
  },
  {
   "cell_type": "markdown",
   "id": "3cb3f088-ca3b-4d2c-867a-639f55bde61c",
   "metadata": {},
   "source": [
    "#### Standardize & Tokenize"
   ]
  },
  {
   "cell_type": "code",
   "execution_count": 21,
   "id": "4b6ef6d0-a929-4d28-8732-25eb4871b224",
   "metadata": {
    "tags": []
   },
   "outputs": [
    {
     "name": "stderr",
     "output_type": "stream",
     "text": [
      "2022-08-07 21:24:53.926656: I tensorflow/core/platform/cpu_feature_guard.cc:193] This TensorFlow binary is optimized with oneAPI Deep Neural Network Library (oneDNN) to use the following CPU instructions in performance-critical operations:  AVX2 FMA\n",
      "To enable them in other operations, rebuild TensorFlow with the appropriate compiler flags.\n"
     ]
    }
   ],
   "source": [
    "max_length = 60\n",
    "max_tokens = 20000\n",
    "\n",
    "text_vectorizationB7 = TextVectorization(\n",
    "    output_mode='int', # int, multi_hot, count, tf_idf\n",
    "    max_tokens=max_tokens,\n",
    "    ngrams=1,\n",
    "    output_sequence_length=max_length # search the max size by default\n",
    ")"
   ]
  },
  {
   "cell_type": "code",
   "execution_count": 22,
   "id": "ded2bc4b-1068-4aea-bb0a-aa2af3121493",
   "metadata": {
    "tags": []
   },
   "outputs": [],
   "source": [
    "text_vectorizationB7.adapt(list(data_work.text), True)"
   ]
  },
  {
   "cell_type": "code",
   "execution_count": 23,
   "id": "f742550c-5b66-4126-968f-ce5372c0440b",
   "metadata": {
    "tags": []
   },
   "outputs": [
    {
     "name": "stdout",
     "output_type": "stream",
     "text": [
      "['', '[UNK]', 'i', 'be', 'to', 'the', 'a', 'not', 'my', 'and', 'it', 'you', 'have', 'do', 'for', 'in', 'go', 'of', 'that', 'get'] ...\n"
     ]
    }
   ],
   "source": [
    "print(text_vectorizationB7.get_vocabulary()[:20], \"...\")"
   ]
  },
  {
   "cell_type": "markdown",
   "id": "3175e978-7881-456b-ba9a-a94ec48636ee",
   "metadata": {},
   "source": [
    "#### Prepare dataset"
   ]
  },
  {
   "cell_type": "code",
   "execution_count": 24,
   "id": "3cb8b87e-0554-4394-b59c-12258250dd6a",
   "metadata": {
    "tags": []
   },
   "outputs": [],
   "source": [
    "X_train_ready = text_vectorizationB7(X_train)\n",
    "X_test_ready = text_vectorizationB7(X_test)"
   ]
  },
  {
   "cell_type": "code",
   "execution_count": 25,
   "id": "b34fb72a-016e-4794-a929-9810835d4922",
   "metadata": {
    "tags": []
   },
   "outputs": [
    {
     "data": {
      "text/plain": [
       "888559               dh way too crazy ... I need a xanax ..\n",
       "500657    I too ... bur with engineering imma be here 5 ...\n",
       "Name: text, dtype: object"
      ]
     },
     "execution_count": 25,
     "metadata": {},
     "output_type": "execute_result"
    }
   ],
   "source": [
    "X_train[:2]"
   ]
  },
  {
   "cell_type": "code",
   "execution_count": 26,
   "id": "3a754c98-344a-4c0e-bb74-b696921d2c99",
   "metadata": {
    "tags": []
   },
   "outputs": [
    {
     "data": {
      "text/plain": [
       "<tf.Tensor: shape=(2, 60), dtype=int64, numpy=\n",
       "array([[ 3783,   122,    48,   414,     2,    76,     6, 13712,     0,\n",
       "            0,     0,     0,     0,     0,     0,     0,     0,     0,\n",
       "            0,     0,     0,     0,     0,     0,     0,     0,     0,\n",
       "            0,     0,     0,     0,     0,     0,     0,     0,     0,\n",
       "            0,     0,     0,     0,     0,     0,     0,     0,     0,\n",
       "            0,     0,     0,     0,     0,     0,     0,     0,     0,\n",
       "            0,     0,     0,     0,     0,     0],\n",
       "       [    2,    48, 10568,    25, 12742,  1210,     3,    86,   270,\n",
       "          913,   525,     0,     0,     0,     0,     0,     0,     0,\n",
       "            0,     0,     0,     0,     0,     0,     0,     0,     0,\n",
       "            0,     0,     0,     0,     0,     0,     0,     0,     0,\n",
       "            0,     0,     0,     0,     0,     0,     0,     0,     0,\n",
       "            0,     0,     0,     0,     0,     0,     0,     0,     0,\n",
       "            0,     0,     0,     0,     0,     0]])>"
      ]
     },
     "execution_count": 26,
     "metadata": {},
     "output_type": "execute_result"
    }
   ],
   "source": [
    "X_train_ready[:2]"
   ]
  },
  {
   "cell_type": "markdown",
   "id": "be375474-0589-4ce4-9af8-c22fa5c0f2c9",
   "metadata": {},
   "source": [
    "#### Embedding"
   ]
  },
  {
   "cell_type": "code",
   "execution_count": 27,
   "id": "924052e3-e129-4d07-a009-657fe0402c22",
   "metadata": {
    "tags": []
   },
   "outputs": [
    {
     "name": "stdout",
     "output_type": "stream",
     "text": [
      "Loading from /home/valkea/Dev/OpenClassrooms/Projets_AI/P7/data/embedding_models/glove-twitter-200.gz\n"
     ]
    }
   ],
   "source": [
    "embeddings_index = load_gensim_embedding(\"glove-twitter-200\")"
   ]
  },
  {
   "cell_type": "code",
   "execution_count": 28,
   "id": "4239ccd0-97af-4683-8924-e697121deeb9",
   "metadata": {
    "tags": []
   },
   "outputs": [
    {
     "name": "stdout",
     "output_type": "stream",
     "text": [
      "Converted 17511 words, and couldn't find 2489 words\n",
      "Missing words: ['', '[UNK]', '2', '3', '4', '1', '5', '6', '10', '8', '7', '30', '100', '20', '12', '9', '1st', '15', '11', '2day', '2nd', '50', '25', 'Ã¢Â\\x99', 'Â«', '16', 'b4', '18', '2009', '3rd', '17', 'Ã¢Â\\x99Â¥', '24', '13', '40', '21', '2morrow', '80', 'e3', '0', '14', '3d', 'Â°', '2nite', 'wwwtweeteraddercom', 'Â©', '140', '200', '90', 'booo', '33', '70', '09', '1000', 'ughhh', 'f1', '22', '4th', 'gr8', 'boooo', '6th', '500', 'youuu', 'wwwtweeterfollowcom', '21st', '60', 'ps3', '2moro', '19', 'lvatt', '45', '2010', '300', '9th', '5th', '333', '35', 'iÃ¢Â´m', '3gs', '400', '360', 'Ã¯Â¿Â½', 'spymaster', 'itÃ¢Â´s', '430', '7th', '630', '23', '18th', 'yayyy', 'toooo', 'iÃ¯Â¿Â½m', 'Â¦', 'ohhhh', 'mp3', '830', '2night', '26', 'o2', 'every1', '8th', '530', '32', '28', '15th', 'twitterberry', 'asot400', '99', '930', '55', '10th', 'mcflyforgermany', '29', '27', '1230', 'marsiscome', '13th', 'ewww', 'booooo', '730', '20th', 'youuuu', 'wwwiamsoannoyedcom', '800', '2008', '182', '100th', 'meeee', 'heyyy', 'goodmorne', 'delongeday', '5k', '36', '330', '2000', '130', '11th', 'w00', 'twitterfon', 'poope', 'no1', 'methink', 'dissapointe', 'alll', '700', '2hrs', 'Â¡', 'sims3', 'boooooo', '75', '31', '3000', '2gether', '25th', '17th', '10k', '101', 'sum1', 'grrrrr', 'babysitte', '19th', '12th', 'owww', 'meeeee', 'loveee', 'g2', 'flylady', 'comicstrip', 'byeee', '95', '34', '230', '16th', '150', 'uhhh', 'ughhhh', 'tooooo', 'ps2', 'omgggg', 'mannn', 'itÃ¯Â¿Â½s', 'andyhurleyday', 'ahhhhhh', '22nd', 'yeahhh', 'twitterbug', 'misss', 'ittt', 'inaperfectworld', 'h1n1', 'gokey', 'any1', '65', '630am', '600', '1500', '1130', '10000', 'Ã£', 'yessss', 'haveyouever', 'g1', 'chesterday', '48', '447', '420', '42', '2moz', '29th', '24th', '247', '120', 'xboxe3', 'twhirl', 'todayyy', 't20', 'ohhhhh', 'hooo', 'h8', 'fuzzball', 'ewwww', 'donÃ¢Â´t', '911', '39', '23rd', 'yeahhhh', 'wayyyy', 'ubertwitter', 'twitterfox', 'some1', 'seee', 'preppe', 'pleaseee', 'loveeee', 'l8r', 'gahhh', 'errr', 'dayyy', 'bradiewebb', 'allll', '64', '26th', '14th', '1030', 'Â¿', 'youuuuuu', 'yesssss', 'yayyyy', 'whyyy', 'wayyy', 'wahhh', 'teethe', 't4', 'nambu', 'nahhh', 'n97', 'in2', 'hollyoak', '85', '730am', '645', '4ever', '44', '33333', '2mrw', '27th', '250', '200th', 'yummm', 'youuuuu', 'woohooo', 'whooo', 'welll', 'vh1', 'ummmm', 'trackle', 'shhh', 'saveontd', 'p90x', 'nowww', 'mmwante', 'longggg', 'knackere', 'iÃ¢Â\\x80Â\\x99m', 'grrrrrr', 'donÃ¯Â¿Â½t', 'dontyouhate', 'chuckmemonday', 'bricke', 'boreddd', 'aghhh', '98', '92', '90210', '900', '82', '66', '46', '311', '30th', '2morro', '24hrs', '230am', '2003', '1100', '07', 'Ã°', 'Ã¯Â¿Â½Ã¯Â¿Â½', 'Ã¢Â¬Ã¢Â¬', 'Ã¢Â\\x80', 'Ã¢', 'Â»', 'wooohooo', 'win7', 'whyyyy', 'weeeee', 'w8', 'votemcfly', 'tf2', 'robotpickupline', 'pleaseeee', 'm8', 'lollll', 'laterrrr', 'hiiiii', 'hellooo', 'goooo', 'funnnn', 'funnn', 'eatte', 'canÃ¯Â¿Â½t', 'aweee', 'allllll', 'aaahhh', '93', '920', '88', '830am', '62', '57', '56', '530am', '4hrs', '49', '43', '3hotwords', '3333', '320', '31st', '300th', '2morow', '2hours', '228', '221', '2007', '2006', '1999', '180', '1111', '100000', 'Ã°Â½Ã°', 'Ã¢Â\\x80Â\\x93', 'yeaaa', 'yayyyyy', 'x3', 'whyyyyy', 'uppp', 'twibble', 'tiredddd', 'stilll', 'shittt', 'saynow', 'saddd', 'omggg', 'offf', 'mannnn', 'kevinjona', 'guysss', 'gettte', 'g0', 'embarasse', 'cs4', 'brrrr', 'blehhh', 'beee', 'bb10', 'awwwwww', 'awesomeee', 'arghhh', 'anddd', 'alllll', 'ahhhhhhhhhh', 'ahhhhhhhhh', 'ahhhhhhh', 'aahhh', '91', '904', '79', '7000', '68', '5mins', '5hrs', '4get', '38', '37', '330am', '30min', '2days', '28th', '1hr', '15min', '1200', '105', '103', '102', 'Ã\\x97', 'Â®', 'yeeee', 'yeaaaa', 'x2', 'workkk', 'wolframalpha', 'waaahhh', 'waaaaa', 'vÃ£', 'urghhh', 'ummmmm', 'ughhhhhh', 'u2', 'twidroid', 'twibe', 'tonighttttt', 'tinytwitter', 't9', 'str8', 'shhhh', 'preordere', 'photoshoppe', 'peterfacinelli', 'p1', 'owwwww', 'outttt', 'otalia', 'os3', 'okayyy', 'ohhhhhh', 'nowwww', 'nighttt', 'mrtweet', 'militarymon', 'luckyyy', 'knowww', 'jonasliveonfb', 'hoooo', 'helloooo', 'heee', 'h20', 'gooooo', 'goodsex', 'gmorne', 'ff7', 'fcke', 'evry1', 'everrr', 'eu09', 'dissappointe', 'cuteee', 'cgft', 'canÃ¢Â´t', 'cairon', 'c4', 'boooooooo', 'blink182', 'blahhh', 'baddd', 'backkk', 'asylm', 'arkansa', 'amazinggg', 'allway', 'ahhhhhhhhhhhhh', 'ahhhhhhhh', 'ah1n1', 'adword', 'adium', '999', '97', '930am', '8d', '87', '845', '77', '720', '710', '6hrs', '540', '530pm', '500th', '5000', '4rm', '4got', '450', '41', '4000', '3hrs', '345', '30stm', '2yr', '2x', '2maro', '2b', '20mins', '20k', '2012', '1hour', '1700', '123', '110', '104', '1000th', '08', '06', '05', '03', '02', 'Ã¯Â¿Â½25', 'Ã¯Â¿Â½20', 'zenjar', 'yummmmm', 'yummmm', 'youÃ¯Â¿Â½re', 'yippeee', 'yeee', 'yahhh', 'xiii', 'x17live', 'wwwm2easia', 'wowww', 'whoooo', 'wcchicago', 'waaa', 'uplifter', 'ugghhh', 'uggg', 'tÃ£', 'twittercom', 'toooooo', 'tlke', 'sumthe', 'summerrrr', 'suckssss', 'starwar', 'sooooooooooo', 'smcsyd', 'sleepyyy', 'shortstack', 'shaundiviney', 'scamme', 'savechuck', 'sameee', 's1', 'rÃ¡Â»Â\\x93i', 'reposte', 'rc1', 'r2', 'quickpwn', 'pr0n', 'peopleee', 'partyyyy', 'pakcricket', 'outtt', 'ouchhh', 'openhacklondon', 'onnnn', 'ohhhhhhh', 'o0', 'neverende', 'n95', 'muchhh', 'motwani', 'missss', 'mehhh', 'mayhap', 'maternalhealth', 'lvtt', 'lolll', 'lofnotc', 'laterrr', 'l8', 'kn0w', 'jizze', 'iÃ¯Â¿Â½ll', 'ily2', 'hottt', 'homeeee', 'hiii', 'hi5', 'heÃ¢Â\\x80Â\\x99s', 'heyyyyy', 'heyyyy', 'herrr', 'heeee', 'happybdaykrisallen', 'goooooo', 'g4', 'fridayyy', 'fiancÃ£', 'exicte', 'e71', 'donÃ¢Â\\x80Â\\x99t', 'disorient', 'damnnn', 'crazyyy', 'cod4', 'classs', 'bunche', 'borke', 'bookmarke', 'bonker', 'beejive', 'beddd', 'beatwittyparty', 'be4', 'awwwwwwwww', 'awayyy', 'andyclemmensen', 'amazeball', 'amaaaze', 'ahhhhhhhhhhhhhh', 'aaaahhhh', '96', '94', '7am', '76', '74', '73', '715', '71', '69', '67', '615', '61', '6000', '59', '545', '510', '51', '4ward', '4eva', '4days', '47', '435', '415', '400th', '3oh3', '303', '2nyt', '2nt', '2morra', '2d', '245', '212', '20min', '2011', '1s', '1984', '190', '1800', '160', '145', '135', '1215', '112', '107', '106', 'Ã±Â\\x87Ã±Â\\x82Ã°Â¾', 'Ã±Â\\x82Ã°', 'Ã±Â\\x80Ã°', 'Ã±', 'Ã¤Â\\x91i', 'Ã¢Â£60', 'Ã¢Â£6', 'Ã¢Â£500', 'Ã¢Â£250', 'Ã¢Â\\x99Â¥Ã¢Â\\x99Â¥Ã¢Â\\x99Â¥Ã¢Â\\x99Â¥', 'Ã¢Â\\x80Â¢', 'Â´', 'yÃ£Â¤y', 'yippeeee', 'yessssssss', 'yeahhhhh', 'yayyyyyy', 'yamli', 'xxxxxxxxxx', 'xbox360', 'wwiii', 'woowww', 'wonderre', 'willl', 'wayyyyy', 'w4', 'vÃ¯Â¿Â½', 'vs2010', 'vocÃ£Âª', 'v8', 'uxlondon', 'uhhhh', 'txte', 'twittertakeover', 'tweetmic', 'twatlight', 'ts3', 'tivoe', 'tireddd', 'thingsmummysaid', 'theeee', 'thanksgive', 't1i', 'sÃ¯Â¿Â½o', 'sÃ¯Â¿Â½', 'sÃ¡Â»Â\\x9bm', 'swinge', 'summerrr', 'sucksss', 'sourceforge', 'sooooooooooooooo', 'soooooooooooooo', 'sooooooooooooo', 'songbooktv', 'soderling', 'shizzz', 'shitti', 'shhhhh', 'sf4', 'scareddd', 's3', 's2', 's0me', 'rewatche', 'reminise', 'reconnecte', 'reallyyyy', 'radio1', 'pwne', 'ponderland', 'pokÃ£', 'pmse', 'pingfm', 'phÃ¡ÂºÂ£i', 'phishe', 'pfff', 'owwww', 'overrrrrr', 'ouchhhh', 'ooohhh', 'oneee', 'ohhhhhhhhhhh', 'oceanup', 'nÃ¯Â¿Â½', 'nuffnang', 'ne1', 'nawww', 'mÃ¯Â¿Â½', 'myspaceee', 'mw2', 'multitaske', 'mtvmovieaward', 'mp4', 'mp3s', 'mmmmmmmmmm', 'missse', 'meeeeeee', 'mcrchat', 'mangoorangeÃ¯Â¿Â½', 'makerfaire', 'm20eu', 'loveeeeeee', 'loveeeee', 'lottt', 'longggggggg', 'longgg', 'lolllll', 'l4d', 'kradam', 'knowwwww', 'jÃ£', 'journchat', 'jnoub', 'javaone', 'iÃ¢Â´ve', 'iÃ¢Â´d', 'itÃ¢Â\\x80Â\\x99s', 'inflamme', 'indiavotes09', 'imeem', 'ie6', 'iceblock', 'humpthestump', 'hsm3', 'howarewe', 'hmmmmmmmm', 'hiyaaa', 'hiiii', 'heyfever', 'herebeforeoprah', 'hellllll', 'hearte', 'heartbreake', 'hateeee', 'hateee', 'h2o', 'grrrrrrr', 'gqmf', 'goshhh', 'goodÃ¢Â\\x80', 'goodmore', 'gokeyisadouche', 'ginoandfran', 'gimmefailwhale', 'geee', 'gawju', 'fuckkk', 'friende', 'freeee', 'fnwc', 'fixreplie', 'finnishe', 'fightstar', 'fetchmp3', 'farmtown', 'failwhale', 'f4', 'ewwwww', 'everyoneee', 'everrrr', 'euronew', 'elevensestime', 'eeeee', 'e4', 'dyinggg', 'duhhh', 'dreamwidth', 'dissapeare', 'disapointe', 'dieeee', 'destroytwitter', 'delicioussss', 'dayyyy', 'day26', 'd90', 'd3', 'cÃ£Â³', 'cursebird', 'cs3', 'crazyyyy', 'cavz', 'cadÃ£Âª', 'buzzcock', 'buzz140', 'btub', 'brrr', 'brainbone', 'booore', 'boooore', 'booooooooooo', 'booooooooo', 'blockdreamer', 'blesss', 'bfff', 'barakatday', 'awwwwwww', 'arghhhh', 'anoye', 'angelsdemon', 'alllllll', 'agesss', 'aawww', 'aaaahhhhh', 'a2', '900am', '8900', '89', '86', '84', '815', '8000', '7hours', '750', '72', '711', '70th', '700th', '6k', '650', '610', '5yr', '5d', '58', '550', '54', '53', '520', '52', '514', '512', '4yr', '4real', '4ish', '4hour', '4a', '445', '411', '410', '40th', '404', '3uk', '3turnoffwords', '3k', '399', '365', '350', '34th', '339', '3333333', '30secondstomar', '301', '2yo', '2weeks', '2say', '2do', '299', '280', '266', '25hrs', '24hr', '240', '235', '226', '220', '215', '20boysummer', '201', '2004', '2000th', '1yr', '1mil', '1998', '1997', '1995', '1991', '1989', '1981', '1960', '1900', '151', '140conf', '137', '130am', '12hr', '125', '1240', '1230am', '119', '117', '1106', '10x', '10mins', '10min', '1057', '1050', '1000000', '01', 'Ã±Ã±Â\\x82Ã±Â\\x80Ã°', 'Ã±Ã°Â¾Ã°Â²Ã°ÂµÃ±Â\\x82', 'Ã±Ã°Â¸Ã°Â±Ã°Â¾', 'Ã±Â\\x87Ã°', 'Ã°Â½Ã°Â¾', 'Ã°Â½Ã°Âµ', 'Ã°Â¼', 'Ã°ÂºÃ°', 'Ã°Âº', 'Ã°Â·Ã°', 'Ã°Â²Ã°', 'Ã°Â²', 'Ã¯Â¿Â½u', 'Ã¯Â¿Â½s', 'Ã¯Â¿Â½n', 'Ã¯Â¿Â½60', 'Ã¯Â¿Â½500', 'Ã¯Â¿Â½4', 'Ã¯Â£', 'Ã¤Â±m', 'Ã¤Â\\x91ang', 'Ã¤inh', 'Ã£Â¼ber', 'Ã¢Â£50', 'Ã¢Â£5', 'Ã¢Â£35', 'Ã¢Â£200', 'Ã¢Â\\x99Â¥Ã¢Â\\x99Â¥Ã¢Â\\x99Â¥Ã¢Â\\x99Â¥Ã¢Â\\x99Â¥Ã¢Â\\x99Â¥', 'Ã¢Â\\x99Â¥Ã¢Â\\x99Â¥Ã¢Â\\x99Â¥Ã¢Â\\x99Â¥Ã¢Â\\x99Â¥', 'Ã¢Â\\x99Â¥Ã¢Â\\x99Â¥Ã¢Â\\x99Â¥', 'Ã¢Â\\x99Â¥Ã¢Â\\x99Â¥', 'Ã¢Â\\x98Â¼', 'Ã¢Â\\x80Â\\x94', 'Ã\\x97Ã\\x97Âª', 'Ã\\x97Â\\x9bÃ\\x97Â\\x95Ã\\x97Â\\x9f', 'Ã\\x97Â\\x96Ã\\x97Â\\x94', 'zippys', 'zensursula', 'yucko', 'yslow', 'ypou', 'youÃ¢Â´re', 'youuuuuuuuu', 'you3', 'yooooo', 'yettt', 'yesterdayi', 'yessssssssssss', 'yeeeee', 'yeeeaaa', 'yeaaahhh', 'yasss', 'xxxxxxxxxxxxxxxxxxxx', 'xxxxxxxxxxxxxxx', 'xaviermedia', 'x64', 'x1', 'x0x0x', 'wwwstringbeancoffeeshopcom', 'wwwmyvincinet', 'wwwbingcom', 'wundere', 'wtfff', 'wrke', 'writechat', 'wowy', 'wowwww', 'wouldnÃ¯Â¿Â½t', 'workkkk', 'wooooooooo', 'woooooooo', 'woohoooo', 'wonÃ¢Â\\x80Â\\x99t', 'wohooo', 'winphp', 'wikileak', 'whyyyyyyyyy', 'whyyyyyy', 'whooooo', 'whoaaaa', 'whoaaa', 'wheee', 'whattt', 'whaaaa', 'weÃ¢Â´ll', 'westcountry', 'wembeley', 'wellll', 'weibe', 'weekendz', 'weeeeeeee', 'weeeeeee', 'wc3', 'waybeo', 'wansta', 'wallflow', 'wakeboarde', 'waitttt', 'waittt', 'wahhhhhh', 'wahhhhh', 'waaaa', 'w1', 'w0rk', 'w00p', 'vimperator', 'vexcite', 'vampirebeatle', 'vaccume', 'v1', 'uÃ¥Â¾', 'upgo', 'uninstalle', 'unfortunatelly', 'unforch', 'unclip', 'uncharged', 'ummmmmmm', 'uknowradio', 'ui2009', 'uhmmm', 'uhhhhhh', 'uhhhhh', 'ughhhhh', 'u14', 'typo3', 'twtrcon', 'twtfm', 'twittz', 'twitteruniverse', 'twittertrain', 'twitterrr', 'twitterling', 'twitterfriend', 'twitterfall', 'twitterbird', 'twitteratti', 'twitpocalypse', 'twitascope', 'twissup', 'tweetster', 'tweetshrink', 'tweetgrade', 'tuyet', 'tumblarity', 'tristo', 'tribbleagencycom', 'trannie', 'tracys', 'top10', 'toofer', 'tonightttttt', 'tonighttt', 'tomorrowwww', 'togetherrrr', 'todayyyyyy', 'todayim', 'todayi', 'tivod', 'tiggie', 'tiba2', 'thrillbilly', 'threeee', 'thissss', 'thennn', 'themthey', 'themmm', 'thatÃ¯Â¿Â½s', 'thatÃ¢Â\\x80Â\\x99s', 'thanxxx', 'thanksssss', 'thankiie', 'terebithia', 'tenneasee', 'technetvconf', 'techglance', 'teabagge', 'tbpid', 'talkshoe', 't3', 't0day', 'sÃ£Â£o', 'systray', 'synche', 'swelter', 'swagbuck', 'superrrr', 'superrr', 'super8', 'sundayyy', 'sumthink', 'summerwood', 'sudafe', 'sucksssss', 'subray', 'stufff', 'sts125', 'storytelle', 'stomacache', 'stokedi', 'stiche', 'starvingggg', 'squeee', 'spazze', 'sp2', 'souljaboytellem', 'soooooooooooooooo', 'soonnn', 'soderle', 'slooooowly', 'slinkie', 'slidesharenet', 'sleey', 'skillzzzz', 'sistaaa', 'sims2', 'simfriend', 'silkie', 'sighhh', 'show89', 'shabusen', 'sg1', 'sfgiant', 'sfarsit', 'seychelle', 'seruuu', 'seeeee', 'seeee', 'scrapheap', 'schoold', 'sb900', 'saveearl', 'sarmy', 'sanjiyah', 'safari4', 'saderer', 'saddddd', 'sabbeth', 's4c', 's0', 'rÃ£Â¶yksopp', 'roseeeee', 'rlyy', 'righttt', 'rhubard', 'reppe', 'renÃ¯Â¿Â½e', 'relaunche', 'refreshe', 'reformatte', 'reblippin', 'reallyyy', 'really2', 'realllyyy', 're5', 'rawrrrr', 'ramiele', 'quÃ£', 'pÃ£', 'pzone', 'putchi', 'pussyparty', 'punke', 'puddingsunday', 'prrrrrrrrrr', 'protool', 'programmin', 'probabbly', 'privelage', 'prince2', 'preztel', 'prepackage', 'powertwitter', 'potsticker', 'portabello', 'poorley', 'pnuemonia', 'plzzzzzz', 'plzzzz', 'plurke', 'pleaseeeeeeeeeeee', 'pleaseeeeeeee', 'pleaseeeeeee', 'playradioplay', 'pityful', 'pisseed', 'pilpre', 'phÃ£Â²ng', 'photocleaner', 'phoneee', 'pgpm', 'pffff', 'petrify', 'perham', 'pawpawty', 'pavelnedve', 'patzz', 'partyyy', 'parasaile', 'palmpre', 'paintballe', 'pagecom', 'p6', 'overtweet', 'overrr', 'orthodentist', 'opperation', 'openrasta', 'oooohhhh', 'oohhhh', 'okkk', 'ojousama', 'ohhhhhhhh', 'ogrady', 'oetmannshausen', 'oddle', 'octodrive', 'oceanupcom', 'obssese', 'nÃ¯Â¿Â½y', 'nÃ¯Â¿Â½o', 'nyaaa', 'nowwwww', 'notttt', 'nottt', 'nosetap', 'nooothe', 'noooooooooooooooo', 'no17', 'ninguÃ£', 'nightttt', 'nightdont', 'niceeee', 'niceee', 'nhÃ¡', 'neurofen', 'nethe', 'neotel', 'neeeee', 'neeee', 'needfolower', 'nauseate', 'natm2', 'nastie', 'nahhhh', 'nabbie', 'n2', 'n0w', 'n00b', 'mÃ¯Â¿Â½nh', 'mÃ£Â¬nh', 'myfax', 'mx5', 'muskateer', 'muahszz', 'mtub', 'mself', 'mrscjbaran3', 'moyle', 'mousavi', 'morroc', 'morninggggg', 'morninggg', 'moreee', 'mooloolaba', 'monfil', 'momentile', 'molasse', 'modde', 'mmmmmmmmmmmm', 'mmmhmmm', 'mitm4e', 'misunderstandin', 'missfit', 'mimiron', 'mileyworld', 'miht', 'microlog', 'mega64', 'mediteranean', 'mc2', 'maÃ£Â±ana', 'maruzen', 'mannnnnnnn', 'mannnnn', 'mailart', 'magictwackle', 'maddd', 'm3', 'm25', 'm2', 'm1', 'm0re', 'lÃ£Âªn', 'lÃ£', 'lÃ¡ÂºÂ¡i', 'lovessss', 'lovesss', 'lovelyness', 'lovedddd', 'lottttt', 'losy', 'looonnnggg', 'longgggg', 'longboarde', 'lolthe', 'lollllll', 'lol3', 'lmaoooo', 'liquidweb', 'lightskinne', 'lifelink', 'lifeeee', 'lifeee', 'liesgirlstell', 'lefte', 'lcross', 'lazye', 'lazybone', 'lameee', 'lama2', 'ladyjade', 'l8er', 'l4d2', 'l0l', 'l00ks', 'krtv', 'knowwwwwwww', 'knighty', 'kn0', 'kisss', 'kiple', 'kiesler', 'kickboxe', 'keycode', 'keyboarde', 'kanvaas', 'kamuli', 'k9', 'k1', 'journay', 'jordy26', 'jonkate8', 'jonkate', 'jolicloud', 'jk8', 'jetlagge', 'jealousss', 'jb3d', 'janeane', 'iÃ¢Â´ll', 'iÃ¢Â\\x80Â\\x99ll', 'iwth', 'itweetreply', 'itlol', 'iscsi', 'iqad', 'inboxe', 'impend', 'immobiliser', 'iiiiii', 'ie7', 'ickk', 'icbth', 'ibody', 'i7', 'i18n', 'hÃ£', 'hurdy', 'hungryyyy', 'hummm', 'hugeee', 'hrmmm', 'hreat', 'hoÃ£', 'horibble', 'hooooo', 'hooligun', 'homiesss', 'homeee', 'hmmmmmmm', 'him3', 'hicup', 'hickup', 'hhmmm', 'heÃ¯Â¿Â½', 'heyjust', 'herniate', 'hereeee', 'hereee', 'heheee', 'headdddd', 'headachy', 'hawkcam', 'hartly', 'happyyyy', 'hanginÃ¯Â¿Â½', 'halloooooo', 'hahalove', 'haaaaaa', 'haaaa', 'h8s', 'gÃ£Â¼d', 'gwibber', 'guyssss', 'guhhh', 'gueste', 'gtime', 'grux', 'gruele', 'grood', 'greenified', 'greattttt', 'greattt', 'gr88', 'gphone', 'goshhhh', 'goodnightttttt', 'gonzpiration', 'gomtv', 'goddd', 'geete', 'geeki', 'ganke', 'gahhhh', 'gaayyy', 'gaaahhhhhh', 'g8', 'g3', 'fÃ£', 'fuzzie', 'funnnnnnn', 'funnnnn', 'fullfille', 'fufille', 'friendsss', 'fridayyyyy', 'fricka', 'freeeeee', 'freakinggg', 'fowa', 'formula1', 'foreverrr', 'forbe', 'fontswap', 'focke', 'flyyyy', 'flately', 'flaily', 'fireee', 'finshe', 'finise', 'finallyyy', 'fieldnote', 'fffffat', 'fecke', 'fcuke', 'faustÃ£Â£o', 'fastcgi', 'farke', 'familyforce5', 'fakejowhiley', 'fafinettex3', 'facebooke', 'facebookcom', 'ezmuze', 'exciteddd', 'exciite', 'examms', 'ewwwwww', 'evrythe', 'evfn', 'everyonebutton', 'everrrrr', 'etymotic', 'estk', 'espn360', 'espaÃ£Â±ol', 'es21', 'eq2', 'ep09', 'eotc', 'embarrase', 'embarq', 'efal', 'eehhh', 'eeeeeekkk', 'ec2', 'earlyyy', 'e75', 'e2conf', 'dÃ£Â¡m', 'dÃ£', 'drugsss', 'downloadd', 'dougla', 'dopy', 'doinnn', 'dogsitte', 'do3', 'diviney', 'dishearten', 'dieingggg', 'didnÃ¯Â¿Â½t', 'didnÃ¢Â´t', 'didnÃ¢Â\\x80Â\\x99t', 'devistate', 'devaste', 'deperate', 'denter', 'deliberatly', 'deigman', 'ddddd', 'dddd', 'dc3', 'daysss', 'dannygokeyislove', 'dannygokey', 'dampner', 'dammm', 'dailybooth', 'd8', 'd0nt', 'd0', 'cÃ¯Â¿Â½', 'cÃ£Â¡i', 'cyrel', 'cufflink', 'crutche', 'cruisy', 'crashy', 'craptacular', 'crapi', 'cr2', 'cpsia', 'couqh', 'constipate', 'congrad', 'confuzzle', 'conchord', 'conceite', 'computere', 'compiz', 'compfy', 'compell', 'commiseration', 'commentsuscribe', 'comeeee', 'colddd', 'clinky', 'cirvical', 'chuckeu', 'chillaxe', 'chilaxe', 'chickeny', 'chickene', 'chiago', 'cheeeeap', 'checkem', 'cheapie', 'chalean', 'cepic', 'ccky', 'caulin', 'castelvania', 'canÃ¢Â\\x80Â\\x99t', 'cantonfirstfri', 'cannyy', 'caliiforniia', 'cafÃ¯Â¿Â½', 'byeeeee', 'buuuuu', 'buttt', 'businessweekcom', 'bushmill', 'bumed', 'bublegum', 'brrrrrr', 'browncoat', 'broadmeadow', 'breman', 'brecky', 'bozooka', 'boyyy', 'boringgggg', 'boringgg', 'boreddddd', 'boredddd', 'boore', 'boooooore', 'booooooore', 'boooooooooooooooo', 'bonanzle', 'bodystep', 'bluebox', 'blondeyy', 'blockout', 'blipping', 'blehhhh', 'blahhhhhh', 'biggg', 'bfheroe', 'bevere', 'betterrr', 'befoethestorm', 'beecham', 'bedddd', 'beautifulll', 'beachhhh', 'bea09', 'bcp3', 'bb3', 'barkhunt', 'backstabbe', 'backordere', 'back2back', 'babyyy', 'babeeee', 'babeee', 'b0rke', 'awwwwwwwwwww', 'awwwwwwwwww', 'awwwwwwww', 'awsomeee', 'awesometastic', 'awefull', 'aweaome', 'awayyyy', 'assss', 'assedly', 'ashea', 'arsis', 'arhhh', 'arghhhhhhhhh', 'arborist', 'aptw', 'aptana', 'appal', 'ap05', 'anywyas', 'anywhooo', 'anyte', 'anymoreeee', 'annyoe', 'anneyoung', 'aneko', 'andddd', 'ananga', 'amstell', 'amandapalmer', 'altiris', 'alreadyyy', 'allllllll', 'aiysha', 'agreeee', 'acostic', 'abigale', 'abc2', 'aaawwww', 'aaawww', 'aaahhhhh', 'aaahhhh', 'a6', 'a1', '972', '945', '941', '930pm', '916', '901', '8pm', '8o', '8ig', '8a', '850', '840', '83', '820pm', '80th', '7yr', '7pm', '7o', '7k', '7ish', '78', '75th', '754', '740pm', '730pm', '722', '70k', '705', '703', '702', '6b', '69th', '6666', '666', '64bit', '647', '645am', '640', '63', '626', '625', '619', '614', '60th', '60k', '600th', '5pm', '5p', '5ish', '5days', '5am', '5800xm', '5800', '559', '5500', '52nd', '50th', '50p', '50mile', '50k', '50d', '503', '500am', '500000', '50000', '4x4', '4u', '4sure', '4hr', '4hours', '4give', '499', '45th', '45min', '430am', '425am', '425', '40k', '403', '401', '3yo', '3x', '3wordsaftersex', '3mo', '3ish', '3hr', '3days', '3am', '3ala', '340', '33rd', '333333', '329', '325', '315pm', '315', '30ish', '307', '3000th', '30000', '2year', '2mor', '2min', '2k9', '2k8', '2hr', '2go', '2getha', '2get', '28c', '2626', '25min', '258', '251', '245am', '23rds', '234', '233', '2300', '225', '222', '22000', '2200', '2100', '20ish', '209', '2080', '208', '206', '2020', '2015', '2005', '2002', '2001', '1v100', '1h', '1a', '1996', '1994', '1993', '1992', '199', '1988', '1987', '1985', '1977', '1965', '1909', '1902', '1899', '186', '183', '169', '168', '167', '1600', '157', '155', '14hr', '14hours', '144', '1408', '1400', '139', '136', '134', '1330', '131', '12hrs', '12day', '1250', '124', '1234', '1212', '11ish', '1155', '115', '113', '111', '10pm', '10pg', '10hour', '107am', '1030pm', '1025', '1016', '1001', '0ut', '0o', '0655', '0630', '0400', '0300', 'ÃºÂ\\x86Ã»Â\\x8c', 'ÃºÂ\\x86Ã¹Â\\x86Ã¸Â¯', 'Ã¹Ã¹Â\\x8a', 'Ã¹Ã¹Â\\x83Ã¸Â±Ã¸', 'Ã¹Â\\x88Ã¹Â\\x82Ã¸Âª', 'Ã¹Â\\x88Ã¸Â¯', 'Ã¹Â\\x88Ã¸Â§Ã¹Â\\x87Ã¹', 'Ã¹Â\\x88', 'Ã¹Â\\x87Ã¹', 'Ã¹Â\\x87Ã¸Â±ÃºÂ\\x86Ã¹Â\\x86Ã¸Â¯', 'Ã¹Â\\x87Ã¸Â\\x8c', 'Ã¹Â\\x87', 'Ã¹Â\\x86Ã¹Â\\x8aÃ¹Â\\x86Ã¹Â\\x8a', 'Ã¹Â\\x86Ã¹', 'Ã¹Â\\x84', 'Ã¹Â\\x82Ã¸Â·Ã¸Â¹', 'Ã¹', 'Ã¸Â·Ã¹', 'Ã¸Â³Ã¸Â§Ã¹Â\\x84Ã¹', 'Ã¸Â¯Ã»Â\\x8cÃºÂ¯Ã¹Â\\x87', 'Ã¸Â¯Ã¸Â±Ã¸Â¬Ã¸', 'Ã¸ÂªÃ¹Â\\x82Ã¸Â±Ã»Â\\x8cÃ¸Â¨Ã¸Â§', 'Ã¸Â¨Ã¸Â³Ã¹Â\\x8aÃ¹Â\\x83Ã¹Â\\x84Ã¸Â§Ã¸Âª', 'Ã¸Â§Ã¹Â\\x86Ã¸ÂµÃ¸Â\\xadÃ¹Â\\x83', 'Ã¸Â§Ã¹Â\\x84Ã¹', 'Ã¸Â§Ã¹Â\\x84Ã¸Â\\xadÃ¸Â±Ã¸Â§Ã¸Â±Ã¸', 'Ã¸Â§Ã¹Â\\x84Ã¸Â¥Ã¹', 'Ã¸Â§Ã¸Â±Ã¸Â§Ã¸Âª', 'Ã¸Â§Ã¸ÂªÃ¹Â\\x83Ã¹', 'Ã¸Â¥Ã¹Â\\x86Ã¸ÂªÃ¸Â\\xadÃ¸Â§Ã¸Â±Ã¹Â\\x8aÃ¸', 'Ã¸', 'Ã±Ã±Ã°Â½Ã°Â¾', 'Ã±Ã±Â\\x87Ã±Â\\x91Ã±Â\\x82', 'Ã±Ã±Â\\x82Ã°Â¾Ã°Â¼Ã±Â\\x83', 'Ã±Ã±Â\\x82Ã°Â¸Ã°Â¼', 'Ã±Ã±Â\\x82Ã°Âµ', 'Ã±Ã°Â¿Ã°', 'Ã±Ã°Â½Ã°ÂµÃ±Ã±Â\\x83Ã°ÂºÃ°', 'Ã±Ã°Â¼Ã°Â¾Ã±Â\\x82Ã±Â\\x80Ã±', 'Ã±Ã°Â¼Ã°Â¾Ã±Â\\x82Ã±Â\\x80Ã°ÂµÃ±Â\\x82Ã±Â\\x8c', 'Ã±Ã°Â»Ã°ÂµÃ°Â¿Ã°Â¾Ã°Âµ', 'Ã±Ã°ÂºÃ±Â\\x80Ã°', 'Ã±Ã°ÂºÃ°', 'Ã±Ã°Â¸Ã±Â\\x82', 'Ã±Ã°Â¸Ã°Â²Ã±Â\\x8bÃ°Âµ', 'Ã±Â¼', 'Ã±Â\\x88Ã°Â½Ã°Â¾', 'Ã±Â\\x88Ã°Â½Ã°ÂµÃ°Â½Ã±Â\\x8cÃ°ÂºÃ°Â¸Ã°Â¹', 'Ã±Â\\x87Ã±Â\\x82Ã°Â¾Ã±Â\\x82Ã°Â¾', 'Ã±Â\\x87Ã°ÂµÃ±Â\\x80Ã°ÂµÃ°', 'Ã±Â\\x84Ã°', 'Ã±Â\\x83Ã±Â\\x82Ã±Â\\x80Ã°Â¾', 'Ã±Â\\x83', 'Ã±Â\\x82Ã±Ã°Â¶Ã°ÂµÃ±Ã±Â\\x82Ã±Â\\x8c', 'Ã±Â\\x82Ã±Â\\x8cÃ±Ã±', 'Ã±Â\\x82Ã±Â\\x8b', 'Ã±Â\\x82Ã°Â¾Ã°Â¶Ã°Âµ', 'Ã±Â\\x82Ã°Â¾Ã°Â²Ã°', 'Ã±Â\\x82Ã°Â²Ã°Â¸Ã±Â\\x82', 'Ã±Â\\x80Ã±Ã°Â´Ã°Â¾Ã°Â¼', 'Ã±Â\\x80Ã°ÂºÃ°', 'Ã±Â\\x80Ã°Â¸Ã°ÂºÃ°Â¾Ã°Â²Ã±Â\\x8b', 'Ã°Ã°Ã°Ã°Ã°Ã°Ã°Ã°Ã°', 'Ã°Ã°Â¼Ã°', 'Ã°Ã°', 'Ã°Â¿Ã±Â\\x80Ã°Â¾Ã±Â\\x89Ã°Âµ', 'Ã°Â¿Ã±Â\\x80Ã°Â¾Ã±Â\\x87Ã°Â¸Ã°Â¼', 'Ã°Â¿Ã°Â¾Ã±Ã°Â¾Ã°Â²Ã°ÂµÃ±Â\\x82Ã±Â\\x83Ã°Â¹Ã±Â\\x82Ã°Âµ', 'Ã°Â¿Ã°Â¾Ã°Â¼Ã°ÂµÃ°Â½Ã°ÂµÃ°Â½Ã°', 'Ã°Â¿Ã°Â¾Ã°ÂºÃ±Â\\x83Ã°Â¿Ã°', 'Ã°Â¿Ã°Â¾Ã°ÂºÃ°Â¾Ã°Â»Ã°ÂµÃ°Â½Ã°Â¸Ã°Âµ', 'Ã°Â¿Ã°Â¾Ã°ÂºÃ°ÂµÃ±Â\\x80', 'Ã°Â¿Ã°Â¾Ã°', 'Ã°Â¿Ã°Â¾', 'Ã°Â¿Ã°Â¸Ã±Ã°', 'Ã°Â¿Ã°', 'Ã°Â¾Ã±Â\\x83', 'Ã°Â¾Ã°Â¿Ã°ÂµÃ±Â\\x80Ã±Â\\x83', 'Ã°Â¾Ã°Â²Ã±Â\\x80Ã°Â¸Ã°Â½Ã±Ã°ÂºÃ°Â¾Ã°Â³Ã°Â¾', 'Ã°Â½Ã°Â¾Ã°Â²Ã±Â\\x8bÃ°Âµ', 'Ã°Â½Ã°ÂµÃ°Âµ', 'Ã°Â¼Ã±Â\\x83', 'Ã°Â¼Ã°Â¾Ã°Â¶Ã°Â½Ã°Â¾', 'Ã°Â¼Ã°Â½Ã°Â¾Ã°Â³Ã°Â¾', 'Ã°Â¼Ã°Â½Ã°Âµ', 'Ã°Â¼Ã°Â¸Ã±Ã±Â\\x82Ã°Â¾', 'Ã°Â¼Ã°ÂµÃ±Ã±Ã±Â\\x86', 'Ã°Â¼Ã°ÂµÃ°Â¶Ã°Â´Ã±Â\\x83', 'Ã°Â»Ã°Â¸Ã±Â\\x86Ã°Â¾', 'Ã°Â»Ã°Â¸Ã°Â½Ã°Â¸Ã°Â¹', 'Ã°Â»Ã°ÂµÃ±Â\\x82Ã°Â¾Ã°Â¼', 'Ã°ÂºÃ±Â\\x82', 'Ã°ÂºÃ±Â\\x80Ã°', 'Ã°ÂºÃ°Â¾Ã±Â\\x88Ã°ÂºÃ°Â¾Ã°Â¹', 'Ã°ÂºÃ°Â¾Ã°Â¹Ã±Â\\x82Ã°Â¾', 'Ã°ÂºÃ°Â»Ã°Â¸Ã°ÂµÃ°Â½Ã±Â\\x82', 'Ã°ÂºÃ°Â¸Ã±', 'Ã°Â¹', 'Ã°Â·Ã°Â¾Ã°Â½Ã°Âµ', 'Ã°Â·Ã°ÂµÃ°Â¼Ã°Â½Ã±Â\\x8bÃ±', 'Ã°ÂµÃ°Â³Ã°Â¾', 'Ã°Âµ', 'Ã°Â´Ã°Â¾Ã°ÂµÃ±Ã±Â\\x82', 'Ã°Â´Ã°Â¾Ã°Â²Ã°', 'Ã°Â´Ã°Â½Ã±', 'Ã°Â´Ã°Â¶Ã°', 'Ã°Â´Ã°', 'Ã°Â³Ã±Â\\x83Ã°Â»Ã±Ã±Â\\x82Ã±Â\\x8c', 'Ã°Â³Ã°', 'Ã°Â²Ã±Ã°ÂµÃ±', 'Ã°Â²Ã±Ã°ÂµÃ°Â³Ã°Â´Ã°', 'Ã°Â²Ã±Â\\x8bÃ°Â½Ã±Â\\x8c', 'Ã°Â±Ã±Â\\x8bÃ°Â»Ã°Â¾', 'Ã°Â±Ã±Â\\x8bÃ°Â»Ã°', 'Ã°Â±Ã±Â\\x8b', 'Ã°Â±Ã±Â\\x83Ã°Â´Ã±Â\\x83Ã±Â\\x82', 'Ã°Â±Ã±Â\\x80Ã°Â¸Ã±Â\\x82Ã±Â\\x8cÃ±Ã±', 'Ã°Â±Ã°Â±Ã°ÂµÃ±Â\\x80Ã±Â\\x83', 'Ã°Â\\xadÃ±', 'Ã°Â¨Ã°', 'Ã°Â¢Ã°Â¾Ã°ÂºÃ°Â¸Ã°Â¾', 'Ã°Â¡Ã°Â¿Ã°', 'Ã°Â¡Ã°Â»Ã°Â¾Ã°Â²Ã°', 'Ã°Â\\x9fÃ±Â\\x83Ã±Ã±Â\\x82Ã±Â\\x8c', 'Ã°Â\\x9eÃ°Â\\x96Ã°Â\\x94Ã°Â\\x95Ã°Ã°Â\\x98Ã°Â¯', 'Ã°Â\\x9cÃ±Ã±Â\\x80Ã°Â»Ã°Â¸Ã°Â½', 'Ã°Â\\x9aÃ°', 'Ã°Â\\x94Ã°Ã°Â\\x95Ã°Â\\x9c', 'Ã°Â\\x94Ã°Â¾Ã°Â±Ã±Â\\x80Ã°Â¾Ã°Âµ', 'Ã°Â\\x94Ã°', 'Ã°Â\\x93Ã°Â»Ã±Â\\x8eÃ°Âº', 'Ã°Â\\x92', 'Ã¯Ã®Â±', 'Ã¯Â¿Â½Ã¯Â¿Â½Ã¯Â¿Â½Ã¯Â¿Â½Ã¯Â¿Â½', 'Ã¯Â¿Â½Ã¯Â¿Â½Ã¯Â¿Â½Ã¯Â¿Â½', 'Ã¯Â¿Â½Ã¯Â¿Â½Ã¯Â¿Â½', 'Ã¯Â¿Â½Ã¯Â¿Â½no', 'Ã¯Â¿Â½Ã¯Â¿Â½l', 'Ã¯Â¿Â½Ã¯Â¿Â½if', 'Ã¯Â¿Â½xdÃ¯Â¿Â½', 'Ã¯Â¿Â½well', 'Ã¯Â¿Â½tleast', 'Ã¯Â¿Â½sheesh', 'Ã¯Â¿Â½rhus', 'Ã¯Â¿Â½rbol', 'Ã¯Â¿Â½quiÃ¯Â¿Â½n', 'Ã¯Â¿Â½pero', 'Ã¯Â¿Â½only', 'Ã¯Â¿Â½ntil', 'Ã¯Â¿Â½ng', 'Ã¯Â¿Â½nce', 'Ã¯Â¿Â½m', 'Ã¯Â¿Â½liver', 'Ã¯Â¿Â½little', 'Ã¯Â¿Â½k', 'Ã¯Â¿Â½introduction', 'Ã¯Â¿Â½incredible', 'Ã¯Â¿Â½g', 'Ã¯Â¿Â½devolutionÃ¯Â¿Â½', 'Ã¯Â¿Â½cont', 'Ã¯Â¿Â½bertwitter', 'Ã¯Â¿Â½ber', 'Ã¯Â¿Â½700', 'Ã¯Â¿Â½6k', 'Ã¯Â¿Â½68', 'Ã¯Â¿Â½5', 'Ã¯Â¿Â½40', 'Ã¯Â¿Â½399', 'Ã¯Â¿Â½33', 'Ã¯Â¿Â½320', 'Ã¯Â¿Â½32', 'Ã¯Â¿Â½300', 'Ã¯Â¿Â½30', 'Ã¯Â¿Â½3', 'Ã¯Â¿Â½280', 'Ã¯Â¿Â½27', 'Ã¯Â¿Â½240', 'Ã¯Â¿Â½2', 'Ã¯Â¿Â½1790', 'Ã¯Â¿Â½17', 'Ã¯Â¿Â½1540', 'Ã¯Â¿Â½150Ã¯Â¿Â½', 'Ã¯Â¿Â½15', 'Ã¯Â¿Â½135', 'Ã¯Â¿Â½125', 'Ã¯Â¿Â½124', 'Ã¯Â¿Â½100', 'Ã¯Â\\x86Ã®Â\\xadÃ¯Â\\x84Ã®Â¿Ã¯Â\\x82', 'Ã¯Â\\x84Ã®', 'Ã¯Â\\x80Ã®Â\\xadÃ¯Ã¯Â\\x83Ã®Â¹', 'Ã¯Â\\x80Ã®', 'Ã®Â¼Ã¯Ã¯Ã®Â¹Ã¯Â\\x83Ã®Âµ', 'Ã®Â¼Ã®Â¿Ã¯', 'Ã®ÂºÃ®Â±Ã®Â¹Ã®Â½Ã®Â¿Ã¯Ã¯Ã®Â³Ã®ÂµÃ®Â¹Ã®', 'Ã®ÂºÃ®Â¬Ã®Â·Ã®ÂºÃ®Âµ', 'Ã®Â¤Ã¯Â\\x8eÃ¯Ã®Â±', 'Ã®Â\\x9fÃ®Â\\x9fÃ®Â\\x9fÃ®Â\\x9f', 'Ã®Â\\x95', 'Ã®Â\\x94', 'Ã®Â\\x91Â\\x88Ã®Â\\x84Â\\x92i', 'Ã®Â\\x8cÂ\\x8aÃ®Â\\x8c', 'Ã®Â\\x8bÃ®Â\\x8bit', 'Ã®Â\\x84Â\\x88Ã®Â\\x8bÃ®Â\\x8b', 'Ã®Â\\x84Â\\x88', 'Ã®Â\\x84', 'Ã®Â\\x83', 'Ã\\xadÂ´m', 'Ã\\xadÂ\\x95Â\\x98Ã¬Â§Â\\x80Ã«Â§Â\\x8c', 'Ã¬Â¡', 'Ã¬Â\\x9bÃ«Â\\x8cÂ\\x80Ã\\xadÂ\\x95', 'Ã¬Â\\x8bÂ\\x9cÃ¬Â\\x8aÂ¤Ã\\xad', 'Ã¬Â\\x82Â¬Ã\\xadÂ\\x9aÂ\\x8c', 'Ã«Â½Â\\x80Ã¬ÂªÂ½Ã¢Â\\x99Â¥', 'Ã«Â³Â\\x91Ã¬Â\\x95Â\\x84Ã«', 'Ã«Â\\x8bÂ¤Ã¬Â\\x8c', 'Ã«Â\\x8bÂ\\x88Ã«Â\\x8bÂ¤', 'Ã«Â\\x8bÂ\\x88', 'ÃªÂ¿Â\\x88Ã¬Â\\x80', 'Ãª', 'Ã©Â\\x9fÂ³', 'Ã¨', 'Ã§Â´Â\\x80Ã¥Â¿ÂµÃ§Â´Â\\x99s', 'Ã§Â\\x9cÂ\\x9fÃ¦Â\\x98Â¯Ã§Â\\x9aÂ\\x84', 'Ã§Â\\x94Â\\x9fÃ¦Â\\x97Â¥Ã¥Â¿Â«Ã¤Â¹Ã¯Â¼shÃ¤Â\\x93ngrÃ£Â¬', 'Ã¦Â²Â¹Ã¨Â²Â\\x93Ã©Â¤', 'Ã¦Â\\x8eÂ¨', 'Ã¦', 'Ã¥Ã£Â³dÃ¥Âº', 'Ã¥Â¾e', 'Ã¥Â¡oreiz', 'Ã¥Â\\x99eÃ¥Â¡Ã£Â\\xadm', 'Ã¥Â\\x83Ã©Â\\x86Â\\x8b', 'Ã¤Â±ve', 'Ã¤Â\\x91Ã¡Â»Â\\x99ng', 'Ã¤Â\\x91Ã¡Â»c', 'Ã¤Â\\x91Ã¡ÂºÂ§u', 'Ã¤Â\\x91Ã¡ÂºÂ£m', 'Ã¤Â\\x91iÃ¡Â»u', 'Ã¤Â\\x91c', 'Ã£Â¼t', 'Ã£Â¼', 'Ã£Â´n', 'Ã£Â¬s', 'Ã£Â£o', 'Ã£Â¡nd', 'Ã£Â\\x9cber', 'Ã£Â\\x9c', 'Ã£Â\\x96', 'Ã£Â\\x8cÃ£Â\\x82Â\\x93Ã£', 'Ã£Â\\x88', 'Ã£Â\\x83Â\\x84', 'Ã£Â\\x83Â\\x83Ã£Â\\x82Â¯', 'Ã£Â\\x83', 'Ã£Â\\x82Â\\x8bÃ£Â\\x86Ã¯Â½Â\\x9eÃ¯Â¼', 'Ã¢Â¿de', 'Ã¢Â½', 'Ã¢Â¬', 'Ã¢Â«kodakÃ¢', 'Ã¢Â¤Ã¢Â¤Ã¢Â¤Ã¢Â¤Ã¢Â¤', 'Ã¢Â£Ã¢Â£Ã¢Â£', 'Ã¢Â£91900', 'Ã¢Â£9', 'Ã¢Â£75', 'Ã¢Â£70', 'Ã¢Â£600', 'Ã¢Â£5374', 'Ã¢Â£50s', 'Ã¢Â£4950', 'Ã¢Â£45', 'Ã¢Â£440', 'Ã¢Â£400', 'Ã¢Â£350', 'Ã¢Â£349', 'Ã¢Â£340', 'Ã¢Â£330', 'Ã¢Â£310', 'Ã¢Â£30', 'Ã¢Â£3', 'Ã¢Â£2entry', 'Ã¢Â£25', 'Ã¢Â£240', 'Ã¢Â£234', 'Ã¢Â£20', 'Ã¢Â£2', 'Ã¢Â£190', 'Ã¢Â£19', 'Ã¢Â£180', 'Ã¢Â£18', 'Ã¢Â£1499', 'Ã¢Â£14', 'Ã¢Â£130', 'Ã¢Â£10', 'Ã¢Â£', 'Ã¢Â¡Ã¢Â\\xad', 'Ã¢Â¡Ã¢Â¡solo', 'Ã¢Â\\x99Â«revolution', 'Ã¢Â\\x99Â¥Ã¢Â\\x99Â«Ã¢Â\\x80Â¢Ã¢Â¨Ã¢Â\\x98Â¼Ã¢Â\\x99Â¥Ã¢Â\\x99Â«Ã¢Â\\x80Â¢Ã¢Â\\x99Â¥', 'Ã¢Â\\x99Â¥Ã¢Â\\x80Â¢Ã¢Â\\x98Â¼Ã¢Â\\x99Â¥Ã¢Â\\x99Â«Ã¢Â\\x80Â¢', 'Ã¢Â\\x99Â¥scooter', 'Ã¢Â\\x99Â¥2', 'Ã¢Â\\x99Â¡n', 'Ã¢Â\\x98Â\\x87', 'Ã¢Â\\x98', 'Ã¢Â\\x96Â²', 'Ã¢Â\\x88Â\\x9e', 'Ã¢Â\\x86Â\\x91', 'Ã¢Â\\x80Â¢Ã¢Â¶Ã¢Â§Ã¢Â\\x88Â\\x9ee', 'Ã¢Â\\x80Â\\x9cwell', 'Ã¢Â\\x80Â\\x9cthen', 'Ã¢Â\\x80Â\\x9clarg', 'Ã¢Â\\x80Â\\x9cfor', 'Ã¢Â\\x80Â\\x9cbraking', 'Ã¢Â\\x80Â\\x99wince', 'Ã¢Â\\x80Â\\x98treehouse', 'Ã¢Â\\x80Â\\x98prettyoddÃ¢Â\\x80Â\\x99', 'Ã¢Â\\x80Â\\x98everydayÃ¢Â\\x80Â\\x99', 'Ã¢Â\\x80Â\\x94Ã¢', 'Ã¡Â»Â\\x9f', 'Ã¡Â»Â\\x9bc', 'Ã¡Â»Â\\x93', 'Ã¡Â»i', 'Ã\\xa0Â¸Â«Ã\\xa0Â¸Â£Ã\\xa0Â¸Â·Ã\\xa0Â¸Â\\xadÃ\\xa0Â¹Â\\x80Ã\\xa0Â¸Â\\x9bÃ\\xa0Â¸Â¥Ã\\xa0Â¹Â\\x88Ã\\xa0Â¸Â²Ã\\xa0Â¸Â\\x84Ã\\xa0Â¸Â£Ã\\xa0Â¸Â±Ã\\xa0Â¸Â\\x9a', 'Ã\\xa0Â¸Â¡Ã\\xa0Â¸Â\\x99', 'Ã\\xa0Â¸Â\\x9eÃ\\xa0Â¸Â´Ã\\xa0Â¸', 'Ã\\xa0Â¸Â\\x99Ã\\xa0Â¸ÂµÃ\\xa0Â¹Â\\x88Ã\\xa0Â¸Â«Ã\\xa0Â¸Â¡Ã\\xa0Â¸Â²Ã\\xa0Â¸Â¢Ã\\xa0Â¸Â\\x96Ã\\xa0Â¸Â¶Ã\\xa0Â¸Â\\x87Ã\\xa0Â¸Â\\x97Ã\\xa0Â¸ÂµÃ\\xa0Â¹Â\\x88', 'Ã\\xa0Â¸Â\\x93Ã\\xa0Â¸Â¸Ã\\xa0Â¹Â\\x82Ã\\xa0Â¸Â¥Ã\\xa0Â¸', 'Ã\\x97Â\\x9eÃ\\x97ÂªÃ\\x97Ã\\x97Â¨Ã\\x97Âª', 'Ã\\x97Â\\x9eÃ\\x97Â¢', 'Ã\\x97Â\\x9eÃ\\x97Â\\x94', 'Ã\\x97Â\\x9bÃ\\x97Â\\x9bÃ\\x97Â\\x94', 'Ã\\x97Â\\x9bÃ\\x97Â\\x99Ã\\x97Â£', 'Ã\\x97Â\\x9bÃ\\x97Â\\x96Ã\\x97Â\\x94', 'Ã\\x97Â\\x9bÃ\\x97', 'Â·', 'Â¬', 'Â¨', 'Â\\x9cÃ¬Â\\x9e', 'Â\\x9cÃ«', 'Â\\x9c', 'Â\\x84Ã¬', '\\x7fthe', 'zÃ£Â¡ruky', 'zÃ£Â¡kladkou', 'zzzzness', 'zuton', 'zunesupport', 'zunehd', 'zuneega', 'zuljin', 'zukie', 'zubr', 'zorcia', 'zoooooo', 'zooo', 'zoolookologie', 'zoobook', 'zongchick', 'zonecont', 'zomppafie', 'zomme', 'zomj', 'zombietub', 'zombiegasm', 'zombieeess', 'zolagood', 'zohemgee', 'zoffitcha', 'zoeeee', 'zoeboe', 'zmoÃ¥Â¾enÃ£', 'zkus', 'zirtec', 'zingerman', 'zimplistic', 'zhakaria', 'zffffft', 'zet13', 'zerooo', 'zendframework', 'zelfdoen', 'zdravei', 'zaÃ¯Â¿Â½nÃ¯Â¿Â½m', 'zavaroni', 'zariya', 'zaret', 'zaineb', 'zackly', 'zachi', 'zachdj', 'zaaaaaaac', 'z953', 'z100', 'z1', 'yyyyyyyyyyy', 'yyyyaaaaaayyy', 'yyiiihhheee', 'yyeppp', 'yyaaayyy', 'yyaaaayyy', 'ywriter', 'ywhy', 'yuvaraj', 'yuuuuuhuuuuuu', 'yuuuussss', 'yuuss', 'yuuppp', 'yuummms', 'yuuhhh', 'yusssssss', 'yusss', 'yuqi', 'yupyy', 'yuppyuup', 'yupppp', 'yuparoonie', 'yumyummm', 'yumsiess', 'yumny', 'yummyyyyy', 'yummyyyy', 'yummyyy', 'yummmyyyyy', 'yummmmmmmmmmmyyyyy', 'yummmmaaayy', 'yumena', 'yukkie', 'yuhouh', 'yuengle', 'yuckkkks', 'yuckkk', 'yuckforensicyuck', 'yteppei', 'ysls', 'yskype', 'yself', 'yrscant', 'yrbook', 'yputube', 'youÃ¢Â¿Ã¢', 'youÃ¢Â\\x80Â\\x99re', 'youyes', 'youxxxxxxxxx', 'youxo', 'youwhat', 'youwell', 'youuxx', 'youuuuuuuuuuuuuuu', 'youuuuuuuuuuuu', 'youuuuuuuuuuu', 'youuuuuuuuuu', 'youuuuuuuu', 'youuuuuuu', 'youuu3', 'youurrr', 'youube', 'youtubeurl', 'youtubescreeningroomcom', 'youtubecom', 'youthey', 'yousendit', 'yoursthe', 'yourssss', 'yoursjust', 'yoursi', 'youremore', 'youppiii', 'youother', 'youngshatner', 'youngq', 'younglive', 'youngerlol', 'young2', 'young1', 'youmwah', 'youmake', 'youit', 'youim', 'youhow', 'youhe', 'yougw', 'youglife', 'youghal', 'yougenious', 'youdata', 'yosemitee', 'yorly', 'yorkshumber', 'yorkbut', 'yoouuuu', 'yooouuuuu', 'yoooooooooo', 'yoono', 'yonggi', 'yongest', 'yongebloor', 'yolinga', 'yohgurt', 'yogurtworld', 'yogurrrt', 'yoggie', 'yogge', 'yodaroubao', 'yocousin', 'yobery', 'yoandy', 'ynever', 'ynare', 'ykyat', 'yippppiiee', 'yippppeeee', 'yippieee', 'yippeeeeeeeeeeeee', 'yipiiiiiiiiiiii', 'yipeeee', 'yikesssss', 'yiippiiiee', 'yiike', 'yihhh', 'yhk', 'yheaai', 'yezzzzz', 'yeyyy', 'yewww', 'yeungling', 'yetÃ¯Â¿Â½', 'yetttt', 'yetserday', 'yetla3', 'yethering', 'yestreday', 'yesthx', 'yesterdayyy', 'yesterdaynot', 'yesterdayit', 'yesterdayhe', 'yesterdar', 'yestdy', 'yessssssssssssssssssssssss', 'yesssssssssssssss', 'yesssssss', 'yessssss', 'yessshh', 'yeseterday', 'yesert', 'yeseniamonika', 'yes2', 'yerushalayim', 'yerrr', 'yergh', 'yerah', 'yeppp', 'yeppiee', 'yeouch', 'yellowspring', 'yeiiiiiiiiiiiiiiiiii', 'yeiiiiiiiiiiiiii', 'yeiiiii', 'yehhhhh', 'yehezkel', 'yeessss']\n"
     ]
    },
    {
     "data": {
      "text/plain": [
       "array([[ 0.        ,  0.        ,  0.        , ...,  0.        ,\n",
       "         0.        ,  0.        ],\n",
       "       [ 0.        ,  0.        ,  0.        , ...,  0.        ,\n",
       "         0.        ,  0.        ],\n",
       "       [ 0.056404  ,  0.49535999,  0.18438999, ...,  0.63598001,\n",
       "        -0.18880001, -0.035558  ],\n",
       "       ...,\n",
       "       [-0.096356  ,  1.2062    ,  0.23548   , ...,  0.94726998,\n",
       "         0.16539   ,  0.028865  ],\n",
       "       [ 0.        ,  0.        ,  0.        , ...,  0.        ,\n",
       "         0.        ,  0.        ],\n",
       "       [ 0.21808   , -0.12392   ,  0.11099   , ...,  0.75081998,\n",
       "        -0.15744001, -0.11758   ]])"
      ]
     },
     "execution_count": 28,
     "metadata": {},
     "output_type": "execute_result"
    }
   ],
   "source": [
    "embedding_dim = 200\n",
    "vocabulary = text_vectorizationB7.get_vocabulary()\n",
    "embedding_matrix = convert_embedding_matrix(vocabulary, embeddings_index, max_tokens, embedding_dim)\n",
    "embedding_matrix"
   ]
  },
  {
   "cell_type": "markdown",
   "id": "3e1150ce-1e6c-4180-8f4f-213691327688",
   "metadata": {},
   "source": [
    "## Architecture000 | L'architecture de référence utilisée dans les autres notebooks"
   ]
  },
  {
   "cell_type": "code",
   "execution_count": 29,
   "id": "2612e7a5-7bea-4d7b-97b0-612228447945",
   "metadata": {
    "tags": []
   },
   "outputs": [],
   "source": [
    "# Embedding avec masque\n",
    "embedding_layer = layers.Embedding(\n",
    "    input_dim=max_tokens,\n",
    "    output_dim=embedding_dim,\n",
    "    embeddings_initializer=keras.initializers.Constant(embedding_matrix),\n",
    "    # input_length=max_length,\n",
    "    mask_zero=True,\n",
    "    trainable=False, # <== default is True\n",
    ")"
   ]
  },
  {
   "cell_type": "code",
   "execution_count": 30,
   "id": "ac18560f-b9c1-4e94-bbb4-4d2d02e753c5",
   "metadata": {
    "tags": []
   },
   "outputs": [],
   "source": [
    "model_name = \"Archi000\"\n",
    "model = architecture000(\"adam\", \"binary_crossentropy\", ['accuracy'], embedding_layer)"
   ]
  },
  {
   "cell_type": "code",
   "execution_count": 31,
   "id": "339eea31-e34c-4fa0-87d4-887ec521d007",
   "metadata": {
    "tags": []
   },
   "outputs": [
    {
     "name": "stdout",
     "output_type": "stream",
     "text": [
      "Model: \"model\"\n",
      "_________________________________________________________________\n",
      " Layer (type)                Output Shape              Param #   \n",
      "=================================================================\n",
      " input_1 (InputLayer)        [(None, None)]            0         \n",
      "                                                                 \n",
      " embedding (Embedding)       (None, None, 200)         4000000   \n",
      "                                                                 \n",
      " bidirectional (Bidirectiona  (None, 64)               59648     \n",
      " l)                                                              \n",
      "                                                                 \n",
      " dropout (Dropout)           (None, 64)                0         \n",
      "                                                                 \n",
      " predictions (Dense)         (None, 1)                 65        \n",
      "                                                                 \n",
      "=================================================================\n",
      "Total params: 4,059,713\n",
      "Trainable params: 59,713\n",
      "Non-trainable params: 4,000,000\n",
      "_________________________________________________________________\n"
     ]
    }
   ],
   "source": [
    "model.summary()"
   ]
  },
  {
   "cell_type": "markdown",
   "id": "33faf204-03e0-48d8-99b9-9aee3bc00ba3",
   "metadata": {},
   "source": [
    "#### Définissons un logger DagsHub pour enregistrer notre essai"
   ]
  },
  {
   "cell_type": "code",
   "execution_count": 32,
   "id": "8f5c52a9-ab2a-4443-b5e6-ba2675ee413f",
   "metadata": {},
   "outputs": [],
   "source": [
    "dagslogger = DAGsHubLogger(\n",
    "    metrics_path=pathlib.Path(pathlib.Path().absolute(), 'experiments', 'archi_metrics.csv'),\n",
    "    hparams_path=pathlib.Path(pathlib.Path().absolute(), 'experiments', 'archi_params.yml'),\n",
    ")"
   ]
  },
  {
   "cell_type": "code",
   "execution_count": 33,
   "id": "6b0374fa-f87c-4327-8396-d27ee56378af",
   "metadata": {},
   "outputs": [],
   "source": [
    "dagslogger.log_hyperparams(model_name=model_name)\n",
    "dagslogger.log_hyperparams(model.get_config())\n",
    "dagslogger.log_hyperparams(batch_size=batch_size)\n",
    "dagslogger.log_hyperparams(sample_size=data_work.shape[0])"
   ]
  },
  {
   "cell_type": "markdown",
   "id": "c8f4830a-0a62-4343-96a3-010809bc765c",
   "metadata": {},
   "source": [
    "### Train model"
   ]
  },
  {
   "cell_type": "code",
   "execution_count": 34,
   "id": "8e82124f-5a81-4fe0-aaa6-a57ff2605927",
   "metadata": {
    "tags": []
   },
   "outputs": [
    {
     "name": "stdout",
     "output_type": "stream",
     "text": [
      "Epoch 1/100\n",
      "59/59 [==============================] - ETA: 0s - loss: 0.5874 - accuracy: 0.6843\n",
      "Epoch 1: val_accuracy improved from -inf to 0.74845, saving model to models/Archi000.keras\n",
      "59/59 [==============================] - 31s 421ms/step - loss: 0.5874 - accuracy: 0.6843 - val_loss: 0.5154 - val_accuracy: 0.7484\n",
      "Epoch 2/100\n",
      "59/59 [==============================] - ETA: 0s - loss: 0.5019 - accuracy: 0.7561\n",
      "Epoch 2: val_accuracy improved from 0.74845 to 0.76770, saving model to models/Archi000.keras\n",
      "59/59 [==============================] - 22s 373ms/step - loss: 0.5019 - accuracy: 0.7561 - val_loss: 0.4834 - val_accuracy: 0.7677\n",
      "Epoch 3/100\n",
      "59/59 [==============================] - ETA: 0s - loss: 0.4801 - accuracy: 0.7696\n",
      "Epoch 3: val_accuracy improved from 0.76770 to 0.77605, saving model to models/Archi000.keras\n",
      "59/59 [==============================] - 22s 381ms/step - loss: 0.4801 - accuracy: 0.7696 - val_loss: 0.4690 - val_accuracy: 0.7760\n",
      "Epoch 4/100\n",
      "59/59 [==============================] - ETA: 0s - loss: 0.4671 - accuracy: 0.7760\n",
      "Epoch 4: val_accuracy improved from 0.77605 to 0.77890, saving model to models/Archi000.keras\n",
      "59/59 [==============================] - 22s 382ms/step - loss: 0.4671 - accuracy: 0.7760 - val_loss: 0.4613 - val_accuracy: 0.7789\n",
      "Epoch 5/100\n",
      "59/59 [==============================] - ETA: 0s - loss: 0.4589 - accuracy: 0.7825\n",
      "Epoch 5: val_accuracy improved from 0.77890 to 0.78255, saving model to models/Archi000.keras\n",
      "59/59 [==============================] - 23s 391ms/step - loss: 0.4589 - accuracy: 0.7825 - val_loss: 0.4557 - val_accuracy: 0.7825\n",
      "Epoch 6/100\n",
      "59/59 [==============================] - ETA: 0s - loss: 0.4501 - accuracy: 0.7879\n",
      "Epoch 6: val_accuracy did not improve from 0.78255\n",
      "59/59 [==============================] - 19s 322ms/step - loss: 0.4501 - accuracy: 0.7879 - val_loss: 0.4653 - val_accuracy: 0.7771\n",
      "Epoch 7/100\n",
      "59/59 [==============================] - ETA: 0s - loss: 0.4447 - accuracy: 0.7909\n",
      "Epoch 7: val_accuracy improved from 0.78255 to 0.78965, saving model to models/Archi000.keras\n",
      "59/59 [==============================] - 23s 388ms/step - loss: 0.4447 - accuracy: 0.7909 - val_loss: 0.4473 - val_accuracy: 0.7897\n",
      "Epoch 8/100\n",
      "59/59 [==============================] - ETA: 0s - loss: 0.4374 - accuracy: 0.7949\n",
      "Epoch 8: val_accuracy improved from 0.78965 to 0.78980, saving model to models/Archi000.keras\n",
      "59/59 [==============================] - 24s 409ms/step - loss: 0.4374 - accuracy: 0.7949 - val_loss: 0.4446 - val_accuracy: 0.7898\n",
      "Epoch 9/100\n",
      "59/59 [==============================] - ETA: 0s - loss: 0.4296 - accuracy: 0.8007\n",
      "Epoch 9: val_accuracy improved from 0.78980 to 0.79265, saving model to models/Archi000.keras\n",
      "59/59 [==============================] - 26s 442ms/step - loss: 0.4296 - accuracy: 0.8007 - val_loss: 0.4441 - val_accuracy: 0.7926\n",
      "Epoch 10/100\n",
      "59/59 [==============================] - ETA: 0s - loss: 0.4244 - accuracy: 0.8023\n",
      "Epoch 10: val_accuracy improved from 0.79265 to 0.79495, saving model to models/Archi000.keras\n",
      "59/59 [==============================] - 25s 434ms/step - loss: 0.4244 - accuracy: 0.8023 - val_loss: 0.4408 - val_accuracy: 0.7950\n",
      "Epoch 11/100\n",
      "59/59 [==============================] - ETA: 0s - loss: 0.4195 - accuracy: 0.8070\n",
      "Epoch 11: val_accuracy improved from 0.79495 to 0.79560, saving model to models/Archi000.keras\n",
      "59/59 [==============================] - 25s 431ms/step - loss: 0.4195 - accuracy: 0.8070 - val_loss: 0.4410 - val_accuracy: 0.7956\n",
      "Epoch 12/100\n",
      "59/59 [==============================] - ETA: 0s - loss: 0.4132 - accuracy: 0.8101\n",
      "Epoch 12: val_accuracy did not improve from 0.79560\n",
      "59/59 [==============================] - 21s 366ms/step - loss: 0.4132 - accuracy: 0.8101 - val_loss: 0.4447 - val_accuracy: 0.7947\n",
      "Epoch 13/100\n",
      "59/59 [==============================] - ETA: 0s - loss: 0.4073 - accuracy: 0.8125\n",
      "Epoch 13: val_accuracy did not improve from 0.79560\n",
      "Restoring model weights from the end of the best epoch: 8.\n",
      "59/59 [==============================] - 22s 368ms/step - loss: 0.4073 - accuracy: 0.8125 - val_loss: 0.4406 - val_accuracy: 0.7936\n",
      "Epoch 13: early stopping\n"
     ]
    }
   ],
   "source": [
    "t0 = time.perf_counter()\n",
    "history = model.fit(\n",
    "        x=X_train_ready, y=y_train, \n",
    "        validation_data=(X_test_ready, y_test), \n",
    "        epochs=100, \n",
    "        batch_size=batch_size, \n",
    "        callbacks=init_callbacks(f\"{model_name}\"),\n",
    "        verbose=1,\n",
    ")\n",
    "train_time = time.perf_counter() - t0"
   ]
  },
  {
   "cell_type": "markdown",
   "id": "f19558ac-e43c-406f-8703-2614fe1c2b60",
   "metadata": {},
   "source": [
    "### Evaluate"
   ]
  },
  {
   "cell_type": "code",
   "execution_count": 35,
   "id": "290204f5-7dde-4d31-a14f-d63330e72c42",
   "metadata": {
    "tags": []
   },
   "outputs": [],
   "source": [
    "model = keras.models.load_model(f\"models/{model_name}.keras\")"
   ]
  },
  {
   "cell_type": "code",
   "execution_count": 36,
   "id": "c6324b45-8d1c-4ad5-94a0-887f17fa68b3",
   "metadata": {
    "tags": []
   },
   "outputs": [
    {
     "name": "stdout",
     "output_type": "stream",
     "text": [
      "625/625 [==============================] - 10s 12ms/step - loss: 0.4410 - accuracy: 0.7956\n"
     ]
    },
    {
     "data": {
      "text/plain": [
       "[0.4410381317138672, 0.7955999970436096]"
      ]
     },
     "execution_count": 36,
     "metadata": {},
     "output_type": "execute_result"
    }
   ],
   "source": [
    "model.evaluate(X_test_ready, y_test)"
   ]
  },
  {
   "cell_type": "code",
   "execution_count": 37,
   "id": "d9f72260-378a-4ce2-ad74-69e678e93e51",
   "metadata": {
    "tags": []
   },
   "outputs": [
    {
     "name": "stdout",
     "output_type": "stream",
     "text": [
      "1/1 [==============================] - 2s 2s/step\n"
     ]
    },
    {
     "data": {
      "text/plain": [
       "array([[0.06537156],\n",
       "       [0.955713  ]], dtype=float32)"
      ]
     },
     "execution_count": 37,
     "metadata": {},
     "output_type": "execute_result"
    }
   ],
   "source": [
    "raw_txt = tf.convert_to_tensor([\"I hate it\", \"I love it\"])\n",
    "raw_txt = text_vectorizationB7(raw_txt)\n",
    "model.predict(raw_txt)"
   ]
  },
  {
   "cell_type": "code",
   "execution_count": 38,
   "id": "f0ef149b-7235-48aa-9d76-837b177df139",
   "metadata": {
    "colab": {
     "base_uri": "https://localhost:8080/",
     "height": 1000
    },
    "executionInfo": {
     "elapsed": 746,
     "status": "ok",
     "timestamp": 1653231856185,
     "user": {
      "displayName": "Valkea",
      "userId": "01476199649418572392"
     },
     "user_tz": -120
    },
    "id": "81aba764-7f22-4ad1-b0ed-bc5b13f0b75e",
    "outputId": "e3c4ed78-a90b-46e0-baa0-c28f701f4414",
    "tags": []
   },
   "outputs": [
    {
     "name": "stdout",
     "output_type": "stream",
     "text": [
      "625/625 [==============================] - 7s 11ms/step\n",
      "----------------------------------------------------------------------------------------------------\n",
      "          These information are based on the best estimator of the above cross-validation           \n",
      "----------------------------------------------------------------------------------------------------\n",
      "\n",
      "--- Archi000 ---------------------------------------------------------------------------------------\n",
      "\n",
      "             ROC_AUC : 0.8765\n",
      "                  F1 : 0.7908\n",
      "            ACCURACY : 0.7956\n",
      "           PRECISION : 0.8099\n",
      "              RECALL : 0.7726\n",
      "   AVERAGE_PRECISION : 0.8795\n",
      "\n",
      "       TRAINING-TIME : 306.5744\n",
      "      INFERENCE-TIME : 7.3874\n",
      "\n",
      "--- Classification Report -------------------------------------------------------------------------- \n",
      "\n",
      "                 precision    recall  f1-score   support\n",
      "\n",
      "Prediction = 0       0.78      0.82      0.80     10000\n",
      "Prediction = 1       0.81      0.77      0.79     10000\n",
      "\n",
      "      accuracy                           0.80     20000\n",
      "     macro avg       0.80      0.80      0.80     20000\n",
      "  weighted avg       0.80      0.80      0.80     20000\n",
      "\n",
      "--- Confusion Matrix ------------------------------------------------------------------------------- \n",
      "\n"
     ]
    },
    {
     "data": {
      "image/png": "[encoded data removed]",
      "text/plain": [
       "<Figure size 432x432 with 2 Axes>"
      ]
     },
     "metadata": {
      "needs_background": "light"
     },
     "output_type": "display_data"
    },
    {
     "name": "stdout",
     "output_type": "stream",
     "text": [
      "--- ROC AUC ---------------------------------------------------------------------------------------- \n",
      "\n"
     ]
    },
    {
     "data": {
      "image/png": "[encoded data removed]",
      "text/plain": [
       "<Figure size 360x360 with 1 Axes>"
      ]
     },
     "metadata": {
      "needs_background": "light"
     },
     "output_type": "display_data"
    },
    {
     "name": "stdout",
     "output_type": "stream",
     "text": [
      "--- PRECISION RECALL AUC --------------------------------------------------------------------------- \n",
      "\n"
     ]
    },
    {
     "data": {
      "image/png": "[encoded data removed]",
      "text/plain": [
       "<Figure size 360x360 with 1 Axes>"
      ]
     },
     "metadata": {
      "needs_background": "light"
     },
     "output_type": "display_data"
    }
   ],
   "source": [
    "_ = get_scores(\n",
    "    model_name,\n",
    "    model=model,\n",
    "    X_ref=X_test_ready,\n",
    "    y_ref=y_test, \n",
    "    threshold=0.5,\n",
    "    # y_pred=y_preds, \n",
    "    # y_pred_proba=y_preds_proba, \n",
    "    training_time=train_time, \n",
    "    # inference_time=inf_time, \n",
    "    dagslogger=dagslogger,\n",
    "    register=True,\n",
    ")"
   ]
  },
  {
   "cell_type": "markdown",
   "id": "bd1628eb-a79f-4169-b5a6-57414a15a90b",
   "metadata": {},
   "source": [
    "#### Trouvons le meilleur seuil de séparation pour les prédiction (sur la base du F1 score)"
   ]
  },
  {
   "cell_type": "code",
   "execution_count": 39,
   "id": "78c48c3a-dd96-4b6d-8483-f4d6d1cfcd08",
   "metadata": {},
   "outputs": [
    {
     "name": "stdout",
     "output_type": "stream",
     "text": [
      "625/625 [==============================] - 7s 12ms/step\n",
      "The best Accuracy score (0.79625) for this model is reached with a threshold of 0.458\n"
     ]
    }
   ],
   "source": [
    "acc_value, best_threshold = find_best_threshold(model, X_test_ready, y_test, accuracy_score)\n",
    "print(f\"The best Accuracy score ({acc_value}) for this model is reached with a threshold of {best_threshold}\")"
   ]
  },
  {
   "cell_type": "code",
   "execution_count": 40,
   "id": "2949bb94-234a-46ea-9094-a66dc5600610",
   "metadata": {
    "colab": {
     "base_uri": "https://localhost:8080/",
     "height": 1000
    },
    "executionInfo": {
     "elapsed": 746,
     "status": "ok",
     "timestamp": 1653231856185,
     "user": {
      "displayName": "Valkea",
      "userId": "01476199649418572392"
     },
     "user_tz": -120
    },
    "id": "81aba764-7f22-4ad1-b0ed-bc5b13f0b75e",
    "outputId": "e3c4ed78-a90b-46e0-baa0-c28f701f4414",
    "tags": []
   },
   "outputs": [
    {
     "name": "stdout",
     "output_type": "stream",
     "text": [
      "625/625 [==============================] - 7s 12ms/step\n",
      "----------------------------------------------------------------------------------------------------\n",
      "          These information are based on the best estimator of the above cross-validation           \n",
      "----------------------------------------------------------------------------------------------------\n",
      "\n",
      "--- Archi000 [w. threshold] ------------------------------------------------------------------------\n",
      "\n",
      "             ROC_AUC : 0.8765\n",
      "                  F1 : 0.7974\n",
      "            ACCURACY : 0.7963\n",
      "           PRECISION : 0.7931\n",
      "              RECALL : 0.8017\n",
      "   AVERAGE_PRECISION : 0.8795\n",
      "\n",
      "       TRAINING-TIME : 306.5744\n",
      "      INFERENCE-TIME : 7.5804\n",
      "\n",
      "--- Classification Report -------------------------------------------------------------------------- \n",
      "\n",
      "                 precision    recall  f1-score   support\n",
      "\n",
      "Prediction = 0       0.80      0.79      0.80     10000\n",
      "Prediction = 1       0.79      0.80      0.80     10000\n",
      "\n",
      "      accuracy                           0.80     20000\n",
      "     macro avg       0.80      0.80      0.80     20000\n",
      "  weighted avg       0.80      0.80      0.80     20000\n",
      "\n",
      "--- Confusion Matrix ------------------------------------------------------------------------------- \n",
      "\n"
     ]
    },
    {
     "data": {
      "image/png": "[encoded data removed]",
      "text/plain": [
       "<Figure size 432x432 with 2 Axes>"
      ]
     },
     "metadata": {
      "needs_background": "light"
     },
     "output_type": "display_data"
    }
   ],
   "source": [
    "scores = get_scores(\n",
    "    f\"{model_name} [w. threshold]\",\n",
    "    model=model,\n",
    "    X_ref=X_test_ready,\n",
    "    y_ref=y_test, \n",
    "    threshold=best_threshold,\n",
    "    # y_pred=y_preds, \n",
    "    # y_pred_proba=y_preds_proba, \n",
    "    training_time=train_time, \n",
    "    # inference_time=inf_time, \n",
    "    dagslogger=dagslogger,\n",
    "    register=True,\n",
    "    show_roccurves=False,\n",
    ")"
   ]
  },
  {
   "cell_type": "markdown",
   "id": "a7fef833-f925-4682-8c58-431ee2deb96e",
   "metadata": {},
   "source": [
    "#### Enregistrons les scores pour DagsHub"
   ]
  },
  {
   "cell_type": "code",
   "execution_count": 41,
   "id": "932a0cb0-ca14-4cc3-808e-1fb4edda46af",
   "metadata": {},
   "outputs": [],
   "source": [
    "dagslogger.log_metrics(scores, step_num=1000) "
   ]
  },
  {
   "cell_type": "code",
   "execution_count": 42,
   "id": "0000ef58-dfa1-4048-9a22-cd2230289a76",
   "metadata": {},
   "outputs": [],
   "source": [
    "for epoch, loss, accuracy, val_loss, val_accuracy in zip(\n",
    "    history.epoch, \n",
    "    history.history['loss'], \n",
    "    history.history['accuracy'], \n",
    "    history.history['val_loss'], \n",
    "    history.history['val_accuracy']):\n",
    "    scores = {\n",
    "        'loss':loss, \n",
    "        'accuracy':accuracy, \n",
    "        'val_loss':val_loss, \n",
    "        'val_accuracy':val_accuracy\n",
    "    }\n",
    "    dagslogger.log_metrics(scores, step_num=epoch) \n",
    "    #print(epoch, scores)"
   ]
  },
  {
   "cell_type": "code",
   "execution_count": 43,
   "id": "83cf1c0c-1e0b-4aaa-ad7c-3312d024858d",
   "metadata": {},
   "outputs": [],
   "source": [
    "dagslogger.save() \n",
    "dagslogger.close()"
   ]
  },
  {
   "cell_type": "markdown",
   "id": "0ba72436-a169-479d-a0f9-c0a74648c815",
   "metadata": {},
   "source": [
    "### Compare"
   ]
  },
  {
   "cell_type": "code",
   "execution_count": 44,
   "id": "b3f95b3c-a183-4cbc-a26a-3dfbd14c1f95",
   "metadata": {
    "tags": []
   },
   "outputs": [
    {
     "data": {
      "text/html": [
       "<div>\n",
       "<style scoped>\n",
       "    .dataframe tbody tr th:only-of-type {\n",
       "        vertical-align: middle;\n",
       "    }\n",
       "\n",
       "    .dataframe tbody tr th {\n",
       "        vertical-align: top;\n",
       "    }\n",
       "\n",
       "    .dataframe thead th {\n",
       "        text-align: right;\n",
       "    }\n",
       "</style>\n",
       "<table border=\"1\" class=\"dataframe\">\n",
       "  <thead>\n",
       "    <tr style=\"text-align: right;\">\n",
       "      <th></th>\n",
       "      <th>Method</th>\n",
       "      <th>threshold</th>\n",
       "      <th>params</th>\n",
       "      <th>ROC AUC</th>\n",
       "      <th>PR AUC</th>\n",
       "      <th>F1 score</th>\n",
       "      <th>Accuracy</th>\n",
       "      <th>Precision</th>\n",
       "      <th>Recall</th>\n",
       "      <th>TP</th>\n",
       "      <th>TN</th>\n",
       "      <th>FP</th>\n",
       "      <th>FN</th>\n",
       "      <th>Training time</th>\n",
       "      <th>Inference time</th>\n",
       "    </tr>\n",
       "  </thead>\n",
       "  <tbody>\n",
       "    <tr>\n",
       "      <th>0</th>\n",
       "      <td>Archi000</td>\n",
       "      <td>0.500</td>\n",
       "      <td>None</td>\n",
       "      <td>0.876522</td>\n",
       "      <td>0.879489</td>\n",
       "      <td>0.790788</td>\n",
       "      <td>0.79560</td>\n",
       "      <td>0.809853</td>\n",
       "      <td>0.7726</td>\n",
       "      <td>7726</td>\n",
       "      <td>8186</td>\n",
       "      <td>1814</td>\n",
       "      <td>2274</td>\n",
       "      <td>306.574426</td>\n",
       "      <td>7.387363</td>\n",
       "    </tr>\n",
       "    <tr>\n",
       "      <th>1</th>\n",
       "      <td>Archi000 [w. threshold]</td>\n",
       "      <td>0.458</td>\n",
       "      <td>None</td>\n",
       "      <td>0.876522</td>\n",
       "      <td>0.879489</td>\n",
       "      <td>0.797354</td>\n",
       "      <td>0.79625</td>\n",
       "      <td>0.793056</td>\n",
       "      <td>0.8017</td>\n",
       "      <td>8017</td>\n",
       "      <td>7908</td>\n",
       "      <td>2092</td>\n",
       "      <td>1983</td>\n",
       "      <td>306.574426</td>\n",
       "      <td>7.580422</td>\n",
       "    </tr>\n",
       "  </tbody>\n",
       "</table>\n",
       "</div>"
      ],
      "text/plain": [
       "                    Method  threshold params   ROC AUC    PR AUC  F1 score  \\\n",
       "0                 Archi000      0.500   None  0.876522  0.879489  0.790788   \n",
       "1  Archi000 [w. threshold]      0.458   None  0.876522  0.879489  0.797354   \n",
       "\n",
       "   Accuracy  Precision  Recall    TP    TN    FP    FN  Training time  \\\n",
       "0   0.79560   0.809853  0.7726  7726  8186  1814  2274     306.574426   \n",
       "1   0.79625   0.793056  0.8017  8017  7908  2092  1983     306.574426   \n",
       "\n",
       "   Inference time  \n",
       "0        7.387363  \n",
       "1        7.580422  "
      ]
     },
     "execution_count": 44,
     "metadata": {},
     "output_type": "execute_result"
    }
   ],
   "source": [
    "from classification_utils import scores_df\n",
    "scores_df"
   ]
  },
  {
   "cell_type": "code",
   "execution_count": null,
   "id": "8f55a107-e91c-4fad-966f-12ec7f43c791",
   "metadata": {},
   "outputs": [],
   "source": []
  },
  {
   "cell_type": "code",
   "execution_count": 45,
   "id": "54218126-ef9a-4a3c-8066-d77678c2c2cd",
   "metadata": {},
   "outputs": [],
   "source": [
    "import FreeMobileSMS as sms\n",
    "sms.send(stop=False)"
   ]
  }
 ],
 "metadata": {
  "kernelspec": {
   "display_name": "venvP7",
   "language": "python",
   "name": "venvp7"
  },
  "language_info": {
   "codemirror_mode": {
    "name": "ipython",
    "version": 3
   },
   "file_extension": ".py",
   "mimetype": "text/x-python",
   "name": "python",
   "nbconvert_exporter": "python",
   "pygments_lexer": "ipython3",
   "version": "3.8.10"
  },
  "toc-autonumbering": true,
  "toc-showcode": false,
  "toc-showmarkdowntxt": false,
  "toc-showtags": false
 },
 "nbformat": 4,
 "nbformat_minor": 5
}
